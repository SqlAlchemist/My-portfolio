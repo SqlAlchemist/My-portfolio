{
 "cells": [
  {
   "cell_type": "markdown",
   "id": "1ce7887b",
   "metadata": {},
   "source": [
    "> <p style=\"color:purple;font-size:250%;\">Envío de recordatorios por Whatsapp Web</p>\n",
    "> <img src=\"ouroboros.png\" alt=\"Ouroboros\" style=\"width:160px;height:160px;\">"
   ]
  },
  {
   "cell_type": "markdown",
   "id": "141596a3",
   "metadata": {},
   "source": [
    "## Environment setting"
   ]
  },
  {
   "cell_type": "markdown",
   "id": "98ede3a3-faf8-48fc-ae5d-a92a92f9301b",
   "metadata": {},
   "source": [
    "---"
   ]
  },
  {
   "cell_type": "code",
   "execution_count": 2,
   "id": "8c5ed7a2",
   "metadata": {
    "code_folding": []
   },
   "outputs": [],
   "source": [
    "# Telefonos de sedes que no se han unido al grupo de Telegram:\n",
    "phones = {'CAMP': '+5219811368244',\n",
    "          'HGO': '+5217751458489',\n",
    "          'TLAX': '+5219381682325',}"
   ]
  },
  {
   "cell_type": "code",
   "execution_count": 3,
   "id": "ef6a888a",
   "metadata": {},
   "outputs": [],
   "source": [
    "# Message para enviar\n",
    "mensaje = '''Buenos días, para recordarle que debe confirmar la actualización de su base de datos el día de hoy antes de las 21 hrs por mensaje privado.\\\n",
    " Este es un mensaje automatizado, no es necesario responder al mismo. Saludos.'''"
   ]
  },
  {
   "cell_type": "code",
   "execution_count": 4,
   "id": "79d6497a",
   "metadata": {},
   "outputs": [],
   "source": [
    "import pywhatkit"
   ]
  },
  {
   "cell_type": "code",
   "execution_count": 5,
   "id": "c17b1465",
   "metadata": {
    "code_folding": []
   },
   "outputs": [],
   "source": [
    "def enviar_mensaje(phone, hours, mins):\n",
    "        # Enviar mensaje al remitente usando pywhatkit \n",
    "        pywhatkit.sendwhatmsg(phone_no=phone, message=mensaje, time_hour=hours, time_min=mins) \n",
    "\n",
    "        print(\"Mensaje enviado exitosamente!\")"
   ]
  },
  {
   "cell_type": "code",
   "execution_count": 7,
   "id": "9cf76250-a333-490d-8a48-ba241b5d647f",
   "metadata": {},
   "outputs": [
    {
     "name": "stdin",
     "output_type": "stream",
     "text": [
      "Escribe a que hora deseas enviar el mensajes por whatsapp web 20\n",
      "Escribe a que minuto deseas enviar el mensaje por whatsapp web 00\n"
     ]
    }
   ],
   "source": [
    "# Indica la hora y minutos a los que se enviara el mensaje \n",
    "hora = int(input('Escribe a que hora deseas enviar el mensajes por whatsapp web'))\n",
    "mins = int(input('Escribe a que minuto deseas enviar el mensaje por whatsapp web'))"
   ]
  },
  {
   "cell_type": "markdown",
   "id": "7a08d015",
   "metadata": {},
   "source": [
    "## Send notifications"
   ]
  },
  {
   "cell_type": "markdown",
   "id": "bd9f1afc-7a69-4657-9d48-fb83426ab762",
   "metadata": {},
   "source": [
    "---"
   ]
  },
  {
   "cell_type": "code",
   "execution_count": 8,
   "id": "f0a2cb30",
   "metadata": {},
   "outputs": [
    {
     "name": "stdout",
     "output_type": "stream",
     "text": [
      "In 576 seconds web.whatsapp.com will open and after 20 seconds message will be delivered\n"
     ]
    },
    {
     "ename": "KeyboardInterrupt",
     "evalue": "",
     "output_type": "error",
     "traceback": [
      "\u001b[0;31m---------------------------------------------------------------------------\u001b[0m",
      "\u001b[0;31mKeyboardInterrupt\u001b[0m                         Traceback (most recent call last)",
      "\u001b[0;32m/var/folders/8d/p6yqsg8j325cfhn98gh6kgpc0000gn/T/ipykernel_1252/3570398496.py\u001b[0m in \u001b[0;36m<module>\u001b[0;34m\u001b[0m\n\u001b[0;32m----> 1\u001b[0;31m \u001b[0menviar_mensaje\u001b[0m\u001b[0;34m(\u001b[0m\u001b[0mphones\u001b[0m\u001b[0;34m[\u001b[0m\u001b[0;34m'CAMP'\u001b[0m\u001b[0;34m]\u001b[0m\u001b[0;34m,\u001b[0m \u001b[0mhora\u001b[0m\u001b[0;34m,\u001b[0m \u001b[0mmins\u001b[0m\u001b[0;34m)\u001b[0m\u001b[0;34m\u001b[0m\u001b[0;34m\u001b[0m\u001b[0m\n\u001b[0m",
      "\u001b[0;32m/var/folders/8d/p6yqsg8j325cfhn98gh6kgpc0000gn/T/ipykernel_1252/4253551086.py\u001b[0m in \u001b[0;36menviar_mensaje\u001b[0;34m(phone, hours, mins)\u001b[0m\n\u001b[1;32m      1\u001b[0m \u001b[0;32mdef\u001b[0m \u001b[0menviar_mensaje\u001b[0m\u001b[0;34m(\u001b[0m\u001b[0mphone\u001b[0m\u001b[0;34m,\u001b[0m \u001b[0mhours\u001b[0m\u001b[0;34m,\u001b[0m \u001b[0mmins\u001b[0m\u001b[0;34m)\u001b[0m\u001b[0;34m:\u001b[0m\u001b[0;34m\u001b[0m\u001b[0;34m\u001b[0m\u001b[0m\n\u001b[1;32m      2\u001b[0m         \u001b[0;31m# Enviar mensaje al remitente usando pywhatkit\u001b[0m\u001b[0;34m\u001b[0m\u001b[0;34m\u001b[0m\u001b[0;34m\u001b[0m\u001b[0m\n\u001b[0;32m----> 3\u001b[0;31m         \u001b[0mpywhatkit\u001b[0m\u001b[0;34m.\u001b[0m\u001b[0msendwhatmsg\u001b[0m\u001b[0;34m(\u001b[0m\u001b[0mphone_no\u001b[0m\u001b[0;34m=\u001b[0m\u001b[0mphone\u001b[0m\u001b[0;34m,\u001b[0m \u001b[0mmessage\u001b[0m\u001b[0;34m=\u001b[0m\u001b[0mmensaje\u001b[0m\u001b[0;34m,\u001b[0m \u001b[0mtime_hour\u001b[0m\u001b[0;34m=\u001b[0m\u001b[0mhours\u001b[0m\u001b[0;34m,\u001b[0m \u001b[0mtime_min\u001b[0m\u001b[0;34m=\u001b[0m\u001b[0mmins\u001b[0m\u001b[0;34m)\u001b[0m\u001b[0;34m\u001b[0m\u001b[0;34m\u001b[0m\u001b[0m\n\u001b[0m\u001b[1;32m      4\u001b[0m \u001b[0;34m\u001b[0m\u001b[0m\n\u001b[1;32m      5\u001b[0m         \u001b[0mprint\u001b[0m\u001b[0;34m(\u001b[0m\u001b[0;34m\"Mensaje enviado exitosamente!\"\u001b[0m\u001b[0;34m)\u001b[0m\u001b[0;34m\u001b[0m\u001b[0;34m\u001b[0m\u001b[0m\n",
      "\u001b[0;32m/usr/local/anaconda3/lib/python3.8/site-packages/pywhatkit/main.py\u001b[0m in \u001b[0;36msendwhatmsg\u001b[0;34m(phone_no, message, time_hour, time_min, wait_time, print_wait_time, browser)\u001b[0m\n\u001b[1;32m     99\u001b[0m         print(\n\u001b[1;32m    100\u001b[0m             f\"In {print_sleep_time()} seconds web.whatsapp.com will open and after {wait_time} seconds message will be delivered\")\n\u001b[0;32m--> 101\u001b[0;31m     \u001b[0mtime\u001b[0m\u001b[0;34m.\u001b[0m\u001b[0msleep\u001b[0m\u001b[0;34m(\u001b[0m\u001b[0msleep_time\u001b[0m\u001b[0;34m)\u001b[0m\u001b[0;34m\u001b[0m\u001b[0;34m\u001b[0m\u001b[0m\n\u001b[0m\u001b[1;32m    102\u001b[0m     \u001b[0mparsedMessage\u001b[0m \u001b[0;34m=\u001b[0m \u001b[0mquote\u001b[0m\u001b[0;34m(\u001b[0m\u001b[0mmessage\u001b[0m\u001b[0;34m)\u001b[0m\u001b[0;34m\u001b[0m\u001b[0;34m\u001b[0m\u001b[0m\n\u001b[1;32m    103\u001b[0m     \u001b[0mweb\u001b[0m\u001b[0;34m.\u001b[0m\u001b[0mopen\u001b[0m\u001b[0;34m(\u001b[0m\u001b[0;34m'https://web.whatsapp.com/send?phone='\u001b[0m \u001b[0;34m+\u001b[0m \u001b[0mphone_no\u001b[0m \u001b[0;34m+\u001b[0m \u001b[0;34m'&text='\u001b[0m \u001b[0;34m+\u001b[0m \u001b[0mparsedMessage\u001b[0m\u001b[0;34m)\u001b[0m\u001b[0;34m\u001b[0m\u001b[0;34m\u001b[0m\u001b[0m\n",
      "\u001b[0;31mKeyboardInterrupt\u001b[0m: "
     ]
    }
   ],
   "source": [
    "enviar_mensaje(phones['CAMP'], hora, mins)"
   ]
  },
  {
   "cell_type": "code",
   "execution_count": 7,
   "id": "e74e799e",
   "metadata": {},
   "outputs": [
    {
     "name": "stdout",
     "output_type": "stream",
     "text": [
      "In 39 seconds web.whatsapp.com will open and after 20 seconds message will be delivered\n",
      "Mensaje enviado exitosamente!\n"
     ]
    }
   ],
   "source": [
    "enviar_mensaje(phones['HGO'], hora, mins+1)"
   ]
  },
  {
   "cell_type": "code",
   "execution_count": 8,
   "id": "c6fbee20",
   "metadata": {},
   "outputs": [
    {
     "name": "stdout",
     "output_type": "stream",
     "text": [
      "In 40 seconds web.whatsapp.com will open and after 20 seconds message will be delivered\n",
      "Mensaje enviado exitosamente!\n"
     ]
    }
   ],
   "source": [
    "enviar_mensaje(phones['TLAX'], hora, mins+2)"
   ]
  },
  {
   "cell_type": "markdown",
   "id": "936e435e-29cc-45dd-b8b6-4968d0c056b4",
   "metadata": {},
   "source": [
    "---"
   ]
  }
 ],
 "metadata": {
  "kernelspec": {
   "display_name": "Python 3 (ipykernel)",
   "language": "python",
   "name": "python3"
  },
  "language_info": {
   "codemirror_mode": {
    "name": "ipython",
    "version": 3
   },
   "file_extension": ".py",
   "mimetype": "text/x-python",
   "name": "python",
   "nbconvert_exporter": "python",
   "pygments_lexer": "ipython3",
   "version": "3.9.18"
  }
 },
 "nbformat": 4,
 "nbformat_minor": 5
}
