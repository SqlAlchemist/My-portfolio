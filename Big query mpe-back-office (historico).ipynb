{
 "cells": [
  {
   "cell_type": "markdown",
   "id": "a28446c7-26de-4555-a0eb-af341b72cfba",
   "metadata": {
    "id": "a28446c7-26de-4555-a0eb-af341b72cfba",
    "tags": []
   },
   "source": [
    "## Big Query MPE back office"
   ]
  },
  {
   "cell_type": "markdown",
   "id": "c5f0e9fb-3a2f-4eb3-a07b-484e6121db4b",
   "metadata": {
    "id": "c5f0e9fb-3a2f-4eb3-a07b-484e6121db4b",
    "tags": []
   },
   "source": [
    "### Environment settings"
   ]
  },
  {
   "cell_type": "code",
   "execution_count": 1,
   "id": "97982127-5d81-4eb7-95cc-3f38e4aaa37b",
   "metadata": {
    "id": "97982127-5d81-4eb7-95cc-3f38e4aaa37b"
   },
   "outputs": [],
   "source": [
    "import numpy as np\n",
    "import pandas as pd\n",
    "import polars as pl\n",
    "import gspread\n",
    "import duckdb\n",
    "# Import authenticator and gspread to manage g-sheets\n",
    "from oauth2client.service_account import ServiceAccountCredentials\n",
    "from google.oauth2 import service_account\n",
    "from google.cloud import bigquery\n",
    "import connectorx as cx"
   ]
  },
  {
   "cell_type": "code",
   "execution_count": 2,
   "id": "80740f98-4e9c-4e24-afb9-c324e3d97a79",
   "metadata": {
    "id": "80740f98-4e9c-4e24-afb9-c324e3d97a79"
   },
   "outputs": [],
   "source": [
    "# Create sheets and drive scopes to authenticate\n",
    "scopes = ['https://www.googleapis.com/auth/spreadsheets',\n",
    "        'https://www.googleapis.com/auth/drive',\n",
    "        'https://www.googleapis.com/auth/analytics.readonly']\n",
    "\n",
    "# Read google credentials\n",
    "api = '../APIS/gepp-538-db.json'\n",
    "# connect to google sheets\n",
    "gs_credentials = ServiceAccountCredentials.from_json_keyfile_name(api, scopes)\n",
    "gc = gspread.authorize(gs_credentials)\n",
    "# connect to big query\n",
    "bq_credentials = service_account.Credentials.from_service_account_file(api)\n",
    "project_id = 'gepp-538'\n",
    "client = bigquery.Client(credentials=bq_credentials,project=project_id)"
   ]
  },
  {
   "cell_type": "markdown",
   "id": "2ebac247-7f44-47ac-bde8-51763f6b04c9",
   "metadata": {
    "tags": []
   },
   "source": [
    "### Duckdb"
   ]
  },
  {
   "cell_type": "code",
   "execution_count": 27,
   "id": "34fee2d6-d98c-4f66-ad23-6d8d013064b8",
   "metadata": {},
   "outputs": [],
   "source": [
    "# consulta detallada usuarios\n",
    "mpe_users = pl.read_csv('../usuarios.csv', separator=';', ignore_errors=True)"
   ]
  },
  {
   "cell_type": "code",
   "execution_count": 28,
   "id": "25e66772-1409-43ee-9ff6-6c4802ad01f7",
   "metadata": {},
   "outputs": [
    {
     "data": {
      "text/html": [
       "<div><style>\n",
       ".dataframe > thead > tr > th,\n",
       ".dataframe > tbody > tr > td {\n",
       "  text-align: right;\n",
       "}\n",
       "</style>\n",
       "<small>shape: (2, 2)</small><table border=\"1\" class=\"dataframe\"><thead><tr><th>Origen</th><th>usuarios</th></tr><tr><td>str</td><td>i64</td></tr></thead><tbody><tr><td>&quot;WA&quot;</td><td>765173</td></tr><tr><td>&quot;Ecommerce&quot;</td><td>97913</td></tr></tbody></table></div>"
      ],
      "text/plain": [
       "shape: (2, 2)\n",
       "┌───────────┬──────────┐\n",
       "│ Origen    ┆ usuarios │\n",
       "│ ---       ┆ ---      │\n",
       "│ str       ┆ i64      │\n",
       "╞═══════════╪══════════╡\n",
       "│ WA        ┆ 765173   │\n",
       "│ Ecommerce ┆ 97913    │\n",
       "└───────────┴──────────┘"
      ]
     },
     "execution_count": 28,
     "metadata": {},
     "output_type": "execute_result"
    }
   ],
   "source": [
    "# create sql queries with duckdb\n",
    "# read file with duckdb (csv, parquet, json)\n",
    "duckdb.sql(\n",
    "    '''\n",
    "    SELECT\n",
    "        Origen, COUNT(Nombre) AS usuarios\n",
    "    FROM '../usuarios.csv'\n",
    "    GROUP BY Origen\n",
    "    ORDER BY usuarios DESC\n",
    "    '''\n",
    ").pl() # and pipeline to polars dataframe\n",
    "#others formats include: .pdf() for pandas, .arrow() for arrow, and .fetchnumpy() for numpy arrays"
   ]
  },
  {
   "cell_type": "markdown",
   "id": "8dbd6ca5-bfe0-4baa-99ed-1046128f5bd2",
   "metadata": {},
   "source": [
    "**create files from duckdb queries**\n",
    "* duckdb.sql('SELECT 42').write_parquet('out.parquet') # Write to a Parquet file\n",
    "* duckdb.sql('SELECT 42').write_csv('out.csv')         # Write to a CSV file\n",
    "* duckdb.sql(\"COPY (SELECT 42) TO 'out.parquet'\")      # Copy to a parquet file"
   ]
  },
  {
   "cell_type": "markdown",
   "id": "ff9e8367-2f64-4e7f-b377-90d20fbf0fdc",
   "metadata": {
    "id": "ff9e8367-2f64-4e7f-b377-90d20fbf0fdc",
    "tags": []
   },
   "source": [
    "### MPE"
   ]
  },
  {
   "cell_type": "code",
   "execution_count": 113,
   "id": "88ea73a7-71f2-4e65-b7bf-4179114e481e",
   "metadata": {},
   "outputs": [],
   "source": [
    "mpe_hist = (\n",
    "    pl.read_csv('../MPE_gral.csv', infer_schema_length=0, ignore_errors=True)\n",
    "    .select(\n",
    "        pl.col('*').map_alias(lambda col_name: col_name.lower().replace(' ', '_'))\n",
    "    ).rename({\n",
    "    'fecha_alta':'fecha_de_pedido',\n",
    "    'fecha_modificaci�n':'fecha_modificacion',\n",
    "    'hora_modificaci�n':'hora_modificacion',\n",
    "    'tel�fono_de_contacto':'tel_contacto',\n",
    "    'alias_de_direcci�n':'alias_dir',\n",
    "    'direcci�n_completa':'dir_completa',\n",
    "    'num._mes':'num_ mes',\n",
    "    'a�o':'year',\n",
    "    'mes|a�o':'month',\n",
    "    'id|_cedis':'id_cedis',\n",
    "    'regi�n':'region'\n",
    "    }).with_columns(\n",
    "        pl.col(['fecha_de_pedido','fecha_modificacion','fecha_entrega']\n",
    "              ).str.strptime(pl.Datetime, strict=False))\n",
    "    .select(pl.exclude('num_ mes','mes','year','month','id_cedis','region'))\n",
    ")"
   ]
  },
  {
   "cell_type": "code",
   "execution_count": 96,
   "id": "5c31175f-03e0-4c4a-bb59-e583425ba189",
   "metadata": {},
   "outputs": [],
   "source": [
    "mpe_mzo = (\n",
    "    pl.read_excel('../mpe-pedidos 2023-03-31.xlsx', read_csv_options={'infer_schema_length':0},)\n",
    "    .select(\n",
    "        pl.col('*').map_alias(lambda col_name: col_name.lower().replace(' ', '_'))\n",
    "    ).rename(\n",
    "    {\n",
    "        'fecha_modificación':'fecha_modificacion',\n",
    "        'hora_modificación':'hora_modificacion',\n",
    "        'teléfono_de_contacto':'tel_contacto',\n",
    "        'alias_de_dirección':'alias_dir',\n",
    "        'dirección_completa':'dir_completa',\n",
    "    }\n",
    "    ).with_columns(\n",
    "        pl.col(['fecha_de_pedido','fecha_modificacion','fecha_entrega']\n",
    "              ).str.strptime(pl.Datetime, strict=False))\n",
    ")"
   ]
  },
  {
   "cell_type": "code",
   "execution_count": 97,
   "id": "7ce75f92-f836-49cf-99ad-5dacc912e61f",
   "metadata": {},
   "outputs": [],
   "source": [
    "mpe_abr = (\n",
    "    pl.read_excel('../mpe-pedidos 2023-04-30.xlsx', read_csv_options={'infer_schema_length':0},)\n",
    "    .select(\n",
    "        pl.col('*').map_alias(lambda col_name: col_name.lower().replace(' ', '_'))\n",
    "    ).rename(\n",
    "    {\n",
    "        'fecha_modificación':'fecha_modificacion',\n",
    "        'hora_modificación':'hora_modificacion',\n",
    "        'teléfono_de_contacto':'tel_contacto',\n",
    "        'alias_de_dirección':'alias_dir',\n",
    "        'dirección_completa':'dir_completa',\n",
    "    }\n",
    "    ).with_columns(\n",
    "        pl.col(['fecha_de_pedido','fecha_modificacion','fecha_entrega']\n",
    "              ).str.strptime(pl.Datetime, strict=False))\n",
    ")"
   ]
  },
  {
   "cell_type": "code",
   "execution_count": 98,
   "id": "ced88658-ec9a-4276-952c-189fb23c147a",
   "metadata": {},
   "outputs": [],
   "source": [
    "mpe_may1 = (\n",
    "    pl.read_excel('../mpe-pedidos 2023-05-15.xlsx', read_csv_options={'infer_schema_length':0},)\n",
    "    .select(\n",
    "        pl.col('*').map_alias(lambda col_name: col_name.lower().replace(' ', '_'))\n",
    "    ).rename(\n",
    "    {\n",
    "        'fecha_modificación':'fecha_modificacion',\n",
    "        'hora_modificación':'hora_modificacion',\n",
    "        'teléfono_de_contacto':'tel_contacto',\n",
    "        'alias_de_dirección':'alias_dir',\n",
    "        'dirección_completa':'dir_completa',\n",
    "    }\n",
    "    ).with_columns(\n",
    "        pl.col(['fecha_de_pedido','fecha_modificacion','fecha_entrega']\n",
    "              ).str.strptime(pl.Datetime, strict=False))\n",
    ")"
   ]
  },
  {
   "cell_type": "code",
   "execution_count": 99,
   "id": "15c87067-4673-4a7d-86e6-384e81526856",
   "metadata": {},
   "outputs": [],
   "source": [
    "mpe_may2 = (\n",
    "    pl.read_excel('../mpe-pedidos 2023-05-23.xlsx', read_csv_options={'infer_schema_length':0},)\n",
    "    .select(\n",
    "        pl.col('*').map_alias(lambda col_name: col_name.lower().replace(' ', '_'))\n",
    "    ).rename(\n",
    "    {\n",
    "        'fecha_modificación':'fecha_modificacion',\n",
    "        'hora_modificación':'hora_modificacion',\n",
    "        'teléfono_de_contacto':'tel_contacto',\n",
    "        'alias_de_dirección':'alias_dir',\n",
    "        'dirección_completa':'dir_completa',\n",
    "    }\n",
    "    ).with_columns(\n",
    "        pl.col(['fecha_de_pedido','fecha_modificacion','fecha_entrega']\n",
    "              ).str.strptime(pl.Datetime, strict=False))\n",
    ")"
   ]
  },
  {
   "cell_type": "code",
   "execution_count": 102,
   "id": "62c399c1-2231-4191-bc6b-def76b36f928",
   "metadata": {},
   "outputs": [],
   "source": [
    "mpe_pedidos = (\n",
    "    pl.concat([mpe_hist, mpe_mzo, mpe_abr, mpe_may1, mpe_may2])\n",
    "    .with_columns(\n",
    "        [\n",
    "        pl.col('cantidad_de_productos').cast(pl.Int64, strict=False),\n",
    "        pl.col('total_de_orden').cast(pl.Float64, strict=False),\n",
    "        pl.col('promociones').cast(pl.Int64, strict=False),\n",
    "        pl.col('ruta_de_entrega').cast(pl.Int64, strict=False),\n",
    "        pl.col('id_bodega').cast(pl.Int64, strict=False),\n",
    "        pl.col('nud').cast(pl.Int64, strict=False),\n",
    "        ]\n",
    "    )\n",
    ")"
   ]
  },
  {
   "cell_type": "code",
   "execution_count": 103,
   "id": "3afa13bd-473e-45a3-84bf-28b01a28b88c",
   "metadata": {},
   "outputs": [],
   "source": [
    "mpe_bodegas = pl.read_csv('../mpe-catalogo-bodegas.csv')"
   ]
  },
  {
   "cell_type": "code",
   "execution_count": 104,
   "id": "63e4a877-1647-49b3-9fa8-60cb4b3cce40",
   "metadata": {},
   "outputs": [],
   "source": [
    "mpe_pedidos = (\n",
    "    mpe_pedidos.join(mpe_bodegas, on='id_bodega', how='left').select(\n",
    "        pl.exclude(\n",
    "            ['clave_bodega_destino','tipo_preventa_tradicional','clave_bodega_origen']\n",
    "        )\n",
    "    )\n",
    ")"
   ]
  },
  {
   "cell_type": "code",
   "execution_count": 21,
   "id": "b0627320-ea2b-43d8-95e3-0d4762563490",
   "metadata": {},
   "outputs": [],
   "source": [
    "mpe_det_hist = (\n",
    "    pl.read_excel('../MPE_Reporte_2023.xlsx', sheet_name='Detalle', read_csv_options={'infer_schema_length':0})\n",
    ").select(\n",
    "        pl.col('*').map_alias(lambda col_name: col_name.lower().replace(' ', '_'))\n",
    ")"
   ]
  },
  {
   "cell_type": "code",
   "execution_count": 46,
   "id": "e2796308-7214-46e5-938e-cfb0bcce27dc",
   "metadata": {},
   "outputs": [],
   "source": [
    "mpe_det_hist = mpe_det_hist.rename(\n",
    "    {\n",
    "        'clave_de_promoción':'clave_de_promocion',\n",
    "        'producto(s)':'productos'\n",
    "    }\n",
    ").with_columns(\n",
    "    pl.col('cantidad').cast(pl.Int64),\n",
    "    pl.col('precio_por_unidad').cast(pl.Float64),\n",
    "    pl.col('descuento_por_unidad').cast(pl.Float64),\n",
    "    pl.col('precio_acumulado').cast(pl.Float64),\n",
    "    pl.col('descuento_acumulado').cast(pl.Float64),\n",
    "    )"
   ]
  },
  {
   "cell_type": "code",
   "execution_count": 40,
   "id": "7074acc6-1a71-4faa-8fa9-865b6ec2f898",
   "metadata": {},
   "outputs": [],
   "source": [
    "mpe_det_mzo1 = (\n",
    "    pl.read_excel(\n",
    "        '../mpe-detalle-2023-03-15.xlsx',\n",
    "        sheet_name='Pedidos Detalle',\n",
    "        read_csv_options={'infer_schema_length':0})\n",
    "    .select(\n",
    "        pl.col('*').map_alias(lambda col_name: col_name.lower().replace(' ', '_'))\n",
    "    ).rename(\n",
    "    {\n",
    "        'clave_de_promoción':'clave_de_promocion',\n",
    "        'producto(s)':'productos'\n",
    "    }\n",
    "    ).with_columns(\n",
    "    pl.col('cantidad').cast(pl.Int64),\n",
    "    pl.col('precio_por_unidad').cast(pl.Float64),\n",
    "    pl.col('descuento_por_unidad').cast(pl.Float64),\n",
    "    pl.col('precio_acumulado').cast(pl.Float64),\n",
    "    pl.col('descuento_acumulado').cast(pl.Float64),\n",
    "    )\n",
    ")"
   ]
  },
  {
   "cell_type": "code",
   "execution_count": 41,
   "id": "c23c4204-5843-45d8-b021-34dc8ac6f4f7",
   "metadata": {},
   "outputs": [],
   "source": [
    "mpe_det_mzo2 = (\n",
    "    pl.read_excel(\n",
    "        '../mpe-detalle-2023-03-31.xlsx',\n",
    "        sheet_name='Pedidos Detalle',\n",
    "        read_csv_options={'infer_schema_length':0})\n",
    "    .select(\n",
    "        pl.col('*').map_alias(lambda col_name: col_name.lower().replace(' ', '_'))\n",
    "    ).rename(\n",
    "    {\n",
    "        'clave_de_promoción':'clave_de_promocion',\n",
    "        'producto(s)':'productos'\n",
    "    }\n",
    "    ).with_columns(\n",
    "    pl.col('cantidad').cast(pl.Int64),\n",
    "    pl.col('precio_por_unidad').cast(pl.Float64),\n",
    "    pl.col('descuento_por_unidad').cast(pl.Float64),\n",
    "    pl.col('precio_acumulado').cast(pl.Float64),\n",
    "    pl.col('descuento_acumulado').cast(pl.Float64),\n",
    "    )\n",
    ")"
   ]
  },
  {
   "cell_type": "code",
   "execution_count": 42,
   "id": "8b2ce194-f6d0-4411-9030-f28a4d0457e6",
   "metadata": {},
   "outputs": [],
   "source": [
    "mpe_det_abr1 = (\n",
    "    pl.read_excel(\n",
    "        '../mpe-detalle-2023-04-15.xlsx',\n",
    "        sheet_name='Pedidos Detalle',\n",
    "        read_csv_options={'infer_schema_length':0})\n",
    "    .select(\n",
    "        pl.col('*').map_alias(lambda col_name: col_name.lower().replace(' ', '_'))\n",
    "    ).rename(\n",
    "    {\n",
    "        'clave_de_promoción':'clave_de_promocion',\n",
    "        'producto(s)':'productos'\n",
    "    }\n",
    "    ).with_columns(\n",
    "    pl.col('cantidad').cast(pl.Int64),\n",
    "    pl.col('precio_por_unidad').cast(pl.Float64),\n",
    "    pl.col('descuento_por_unidad').cast(pl.Float64),\n",
    "    pl.col('precio_acumulado').cast(pl.Float64),\n",
    "    pl.col('descuento_acumulado').cast(pl.Float64),\n",
    "    )\n",
    ")"
   ]
  },
  {
   "cell_type": "code",
   "execution_count": 43,
   "id": "e3bab11b-8b4a-427e-98a1-c5258af48e49",
   "metadata": {},
   "outputs": [],
   "source": [
    "mpe_det_abr2 = (\n",
    "    pl.read_excel(\n",
    "        '../mpe-detalle-2023-04-30.xlsx',\n",
    "        sheet_name='Pedidos Detalle',\n",
    "        read_csv_options={'infer_schema_length':0})\n",
    "    .select(\n",
    "        pl.col('*').map_alias(lambda col_name: col_name.lower().replace(' ', '_'))\n",
    "    ).rename(\n",
    "    {\n",
    "        'clave_de_promoción':'clave_de_promocion',\n",
    "        'producto(s)':'productos'\n",
    "    }\n",
    "    ).with_columns(\n",
    "    pl.col('cantidad').cast(pl.Int64),\n",
    "    pl.col('precio_por_unidad').cast(pl.Float64),\n",
    "    pl.col('descuento_por_unidad').cast(pl.Float64),\n",
    "    pl.col('precio_acumulado').cast(pl.Float64),\n",
    "    pl.col('descuento_acumulado').cast(pl.Float64),\n",
    "    )\n",
    ")"
   ]
  },
  {
   "cell_type": "code",
   "execution_count": 44,
   "id": "da6d4420-ca04-46a9-9613-163c8e1eb13f",
   "metadata": {},
   "outputs": [],
   "source": [
    "mpe_det_may1 = (\n",
    "    pl.read_excel(\n",
    "        '../mpe-detalle-2023-05-15.xlsx',\n",
    "        sheet_name='Pedidos Detalle',\n",
    "        read_csv_options={'infer_schema_length':0})\n",
    "    .select(\n",
    "        pl.col('*').map_alias(lambda col_name: col_name.lower().replace(' ', '_'))\n",
    "    ).rename(\n",
    "    {\n",
    "        'clave_de_promoción':'clave_de_promocion',\n",
    "        'producto(s)':'productos'\n",
    "    }\n",
    "    ).with_columns(\n",
    "    pl.col('cantidad').cast(pl.Int64),\n",
    "    pl.col('precio_por_unidad').cast(pl.Float64),\n",
    "    pl.col('descuento_por_unidad').cast(pl.Float64),\n",
    "    pl.col('precio_acumulado').cast(pl.Float64),\n",
    "    pl.col('descuento_acumulado').cast(pl.Float64),\n",
    "    )\n",
    ")"
   ]
  },
  {
   "cell_type": "code",
   "execution_count": 45,
   "id": "4aa5bb42-199d-4dd1-a726-8b76c6f389f4",
   "metadata": {},
   "outputs": [],
   "source": [
    "mpe_det_may2 = (\n",
    "    pl.read_excel(\n",
    "        '../mpe-detalle-2023-05-23.xlsx',\n",
    "        sheet_name='Pedidos Detalle',\n",
    "        read_csv_options={'infer_schema_length':0})\n",
    "    .select(\n",
    "        pl.col('*').map_alias(lambda col_name: col_name.lower().replace(' ', '_'))\n",
    "    ).rename(\n",
    "    {\n",
    "        'clave_de_promoción':'clave_de_promocion',\n",
    "        'producto(s)':'productos'\n",
    "    }\n",
    "    ).with_columns(\n",
    "    pl.col('cantidad').cast(pl.Int64),\n",
    "    pl.col('precio_por_unidad').cast(pl.Float64),\n",
    "    pl.col('descuento_por_unidad').cast(pl.Float64),\n",
    "    pl.col('precio_acumulado').cast(pl.Float64),\n",
    "    pl.col('descuento_acumulado').cast(pl.Float64),\n",
    "    )\n",
    ")"
   ]
  },
  {
   "cell_type": "code",
   "execution_count": 50,
   "id": "a9d864e4-f9ef-401b-aabe-55dc23302594",
   "metadata": {},
   "outputs": [],
   "source": [
    "mpe_detalle = pl.concat(\n",
    "    [mpe_det_hist, mpe_det_mzo1, mpe_det_mzo2, mpe_det_abr1, mpe_det_abr2, mpe_det_may1, mpe_det_may2]\n",
    ")"
   ]
  },
  {
   "cell_type": "code",
   "execution_count": 64,
   "id": "595f45a1-a71a-425e-a7a7-7b97d48c68b7",
   "metadata": {},
   "outputs": [],
   "source": [
    "(\n",
    "    pl.read_excel('../MPE_Reporte_2023.xlsx', sheet_name='Usuarios')\n",
    "    .select(pl.exclude('Num. Mes','Mes','Año','Mes | Año'))\n",
    "    .write_csv('users.csv')\n",
    ")"
   ]
  },
  {
   "cell_type": "code",
   "execution_count": 72,
   "id": "d618c024-2f9b-444a-839d-6f11b94792d4",
   "metadata": {},
   "outputs": [],
   "source": [
    "mpe_usuarios = pl.read_csv('~/iCloud/mpe-usuarios.csv').with_columns(pl.col('fecha').str.strptime(pl.Datetime))"
   ]
  },
  {
   "cell_type": "markdown",
   "id": "d948859e-c8aa-40b2-bfc5-7bd1f2017fe5",
   "metadata": {},
   "source": [
    "### GETM"
   ]
  },
  {
   "cell_type": "code",
   "execution_count": 59,
   "id": "e52686be-5903-495e-aa2a-1a551f0b4865",
   "metadata": {},
   "outputs": [],
   "source": [
    "# Pedidos General\n",
    "# Pedidos Detalle\n",
    "getm1 = pl.read_excel('~/iCloud/getm 2021-06.xlsx', sheet_name='Pedidos Detalle', \n",
    "                      read_csv_options={'infer_schema_length':0})"
   ]
  },
  {
   "cell_type": "code",
   "execution_count": 60,
   "id": "9543a4ab-08e1-4d6f-8265-342986a74156",
   "metadata": {},
   "outputs": [],
   "source": [
    "getm2 = pl.read_excel('~/iCloud/getm 2021-12.xlsx', sheet_name='Pedidos Detalle',\n",
    "                     read_csv_options={'infer_schema_length':0})"
   ]
  },
  {
   "cell_type": "code",
   "execution_count": 61,
   "id": "ead3801a-b8db-4818-8211-472b38a13db5",
   "metadata": {},
   "outputs": [],
   "source": [
    "getm3 = pl.read_excel('~/iCloud/getm 2022-03.xlsx', sheet_name='Pedidos Detalle',\n",
    "                     read_csv_options={'infer_schema_length':0})"
   ]
  },
  {
   "cell_type": "code",
   "execution_count": 62,
   "id": "592253b9-13a8-46c4-8c90-890c03188fd7",
   "metadata": {},
   "outputs": [],
   "source": [
    "getm4 = pl.read_excel('~/iCloud/getm 2022-06.xlsx', sheet_name='Pedidos Detalle',\n",
    "                     read_csv_options={'infer_schema_length':0})"
   ]
  },
  {
   "cell_type": "code",
   "execution_count": 63,
   "id": "597e857e-9da9-4b98-b496-bd6317985174",
   "metadata": {},
   "outputs": [],
   "source": [
    "getm5 = pl.read_excel('~/iCloud/getm 2022-07.xlsx', sheet_name='Pedidos Detalle',\n",
    "                     read_csv_options={'infer_schema_length':0})"
   ]
  },
  {
   "cell_type": "code",
   "execution_count": 64,
   "id": "d1ce2c3b-a169-4241-b034-7e6f9b03bbad",
   "metadata": {},
   "outputs": [],
   "source": [
    "getm6 = pl.read_excel('~/iCloud/getm 2022-08.xlsx', sheet_name='Pedidos Detalle',\n",
    "                     read_csv_options={'infer_schema_length':0})"
   ]
  },
  {
   "cell_type": "code",
   "execution_count": 65,
   "id": "68ff4f53-6cff-4f1c-91f3-c10f1c788d60",
   "metadata": {},
   "outputs": [],
   "source": [
    "getm7 = pl.read_excel('~/iCloud/getm 2022-09.xlsx', sheet_name='Pedidos Detalle',\n",
    "                     read_csv_options={'infer_schema_length':0})"
   ]
  },
  {
   "cell_type": "code",
   "execution_count": 66,
   "id": "8691762f-6045-4984-934c-ff91aadc3f44",
   "metadata": {},
   "outputs": [],
   "source": [
    "getm8 = pl.read_excel('~/iCloud/getm 2022-12.xlsx', sheet_name='Pedidos Detalle',\n",
    "                     read_csv_options={'infer_schema_length':0})"
   ]
  },
  {
   "cell_type": "code",
   "execution_count": 67,
   "id": "194613c8-79d0-4580-97fb-df6dad6a3d7f",
   "metadata": {},
   "outputs": [],
   "source": [
    "getm9 = pl.read_excel('~/iCloud/getm 2023-01.xlsx', sheet_name='Pedidos Detalle',\n",
    "                     read_csv_options={'infer_schema_length':0})"
   ]
  },
  {
   "cell_type": "code",
   "execution_count": 68,
   "id": "53844936-9bc9-4b29-9430-f6d3cb25f631",
   "metadata": {},
   "outputs": [],
   "source": [
    "getm10 = pl.read_excel('~/iCloud/getm 2023-02.xlsx', sheet_name='Pedidos Detalle',\n",
    "                      read_csv_options={'infer_schema_length':0})"
   ]
  },
  {
   "cell_type": "code",
   "execution_count": 69,
   "id": "5168a46b-a5a9-4399-bad9-f0186b0efc9b",
   "metadata": {},
   "outputs": [],
   "source": [
    "getm11 = pl.read_excel('~/iCloud/getm 2023-03.xlsx', sheet_name='Pedidos Detalle',\n",
    "                      read_csv_options={'infer_schema_length':0})"
   ]
  },
  {
   "cell_type": "code",
   "execution_count": 70,
   "id": "00220a54-baf2-4a03-9c84-aa6d10cf88c5",
   "metadata": {},
   "outputs": [],
   "source": [
    "getm12 = pl.read_excel('~/iCloud/getm 2023-04.xlsx', sheet_name='Pedidos Detalle',\n",
    "                      read_csv_options={'infer_schema_length':0})"
   ]
  },
  {
   "cell_type": "code",
   "execution_count": 71,
   "id": "1b753c6c-2948-4630-909e-c81b07b3702d",
   "metadata": {},
   "outputs": [],
   "source": [
    "getm13 = pl.read_excel('~/iCloud/getm 2023-05-23.xlsx', sheet_name='Pedidos Detalle',\n",
    "                      read_csv_options={'infer_schema_length':0})"
   ]
  },
  {
   "cell_type": "code",
   "execution_count": 72,
   "id": "f797a1d6-5f79-4ddd-9c83-a5b7e9e104d6",
   "metadata": {},
   "outputs": [],
   "source": [
    "getm = pl.concat([getm1,getm2,getm3,getm4,getm5,getm6,getm7,getm8,getm9,getm10,getm11,getm12,getm13,])"
   ]
  },
  {
   "cell_type": "code",
   "execution_count": 80,
   "id": "9eab9342-dc54-4143-aaa0-211803790580",
   "metadata": {},
   "outputs": [],
   "source": [
    "getm_detalle = (\n",
    "    getm.select(\n",
    "        pl.col('*').map_alias(lambda col_name: col_name.lower().replace(' ', '_'))\n",
    "    ).rename(\n",
    "    {\n",
    "        'clave_de_promoción':'clave_de_promocion',\n",
    "        'tipo_de_promoción':'tipo_de_promocion',\n",
    "        'descripción_de_promoción':'descripcion_de_promocion',\n",
    "        'producto(s)':'productos',\n",
    "    }\n",
    "    ).with_columns(\n",
    "        pl.col(['id_bodega','nud']).cast(pl.Int64),\n",
    "        pl.col(['cantidad','precio_por_unidad','descuento_por_unidad','precio_acumulado','descuento_acumulado'\n",
    "            ]).cast(pl.Float64))\n",
    ")"
   ]
  },
  {
   "cell_type": "markdown",
   "id": "b19e7d5c-7a2b-4fac-8ba0-54fe9f989e5d",
   "metadata": {
    "id": "b19e7d5c-7a2b-4fac-8ba0-54fe9f989e5d",
    "tags": []
   },
   "source": [
    "### Upload to Big Query"
   ]
  },
  {
   "cell_type": "markdown",
   "id": "e25422ad-2623-4f75-892d-b62f5ab58e2f",
   "metadata": {
    "tags": []
   },
   "source": [
    "### MPE"
   ]
  },
  {
   "cell_type": "code",
   "execution_count": 72,
   "id": "1840b69d-4469-4e7c-b1c1-6c7dfc97e682",
   "metadata": {},
   "outputs": [
    {
     "data": {
      "text/plain": [
       "Dataset(DatasetReference('gepp-538', 'back_office'))"
      ]
     },
     "execution_count": 72,
     "metadata": {},
     "output_type": "execute_result"
    }
   ],
   "source": [
    "# create dataset gbq api\n",
    "#client.create_dataset('back_office')"
   ]
  },
  {
   "cell_type": "code",
   "execution_count": 107,
   "id": "fc915762-d5d4-4c16-860d-8297dff785f4",
   "metadata": {},
   "outputs": [
    {
     "name": "stderr",
     "output_type": "stream",
     "text": [
      "100%|███████████████████████████████████████████| 1/1 [00:00<00:00, 6061.13it/s]\n"
     ]
    }
   ],
   "source": [
    "mpe_pedidos = mpe_pedidos.to_pandas()\n",
    "mpe_pedidos.to_gbq('gepp-538.back_office.mpe_pedidos',\n",
    "                    project_id='gepp-538',\n",
    "                    if_exists='replace',\n",
    "                    credentials=bq_credentials)"
   ]
  },
  {
   "cell_type": "code",
   "execution_count": 52,
   "id": "ca0fa643-a05a-43ff-b87b-556020ddfbb4",
   "metadata": {},
   "outputs": [
    {
     "name": "stderr",
     "output_type": "stream",
     "text": [
      "100%|███████████████████████████████████████████| 1/1 [00:00<00:00, 8256.50it/s]\n"
     ]
    }
   ],
   "source": [
    "mpe_detalle = mpe_detalle.to_pandas()\n",
    "mpe_detalle.to_gbq('gepp-538.back_office.mpe_detalle',\n",
    "                    project_id='gepp-538',\n",
    "                    if_exists='replace',\n",
    "                    credentials=bq_credentials)"
   ]
  },
  {
   "cell_type": "code",
   "execution_count": 73,
   "id": "c4a088a8-7f6c-4b9c-a980-e3d3ff1783fb",
   "metadata": {},
   "outputs": [
    {
     "name": "stderr",
     "output_type": "stream",
     "text": [
      "100%|███████████████████████████████████████████| 1/1 [00:00<00:00, 3030.57it/s]\n"
     ]
    }
   ],
   "source": [
    "mpe_usuarios = mpe_usuarios.to_pandas()\n",
    "mpe_usuarios.to_gbq('gepp-538.back_office.mpe_usuarios',\n",
    "                    project_id='gepp-538',\n",
    "                    if_exists='replace',\n",
    "                    credentials=bq_credentials)"
   ]
  },
  {
   "cell_type": "markdown",
   "id": "3f6078d9-2690-43b1-a303-58748ffd6b9b",
   "metadata": {},
   "source": [
    "### GETM"
   ]
  },
  {
   "cell_type": "code",
   "execution_count": 41,
   "id": "1f876654-ecf0-42e6-b4e4-cdb31a281923",
   "metadata": {},
   "outputs": [
    {
     "name": "stderr",
     "output_type": "stream",
     "text": [
      "100%|███████████████████████████████████████████| 1/1 [00:00<00:00, 2576.35it/s]\n"
     ]
    }
   ],
   "source": [
    "getm_pedidos = getm_pedidos.to_pandas()\n",
    "getm_pedidos.to_gbq('gepp-538.back_office.getm_pedidos',\n",
    "                    project_id='gepp-538',\n",
    "                    if_exists='replace',\n",
    "                    credentials=bq_credentials)"
   ]
  },
  {
   "cell_type": "code",
   "execution_count": 81,
   "id": "6441116a-fad5-479f-91b1-be0eb5e50ef8",
   "metadata": {},
   "outputs": [
    {
     "name": "stderr",
     "output_type": "stream",
     "text": [
      "100%|███████████████████████████████████████████| 1/1 [00:00<00:00, 3460.65it/s]\n"
     ]
    }
   ],
   "source": [
    "getm_detalle = getm_detalle.to_pandas()\n",
    "getm_detalle.to_gbq('gepp-538.back_office.getm_detalle',\n",
    "                    project_id='gepp-538',\n",
    "                    if_exists='replace',\n",
    "                    credentials=bq_credentials)"
   ]
  },
  {
   "cell_type": "markdown",
   "id": "929af351-f550-4adf-8cde-990297173916",
   "metadata": {
    "id": "929af351-f550-4adf-8cde-990297173916",
    "tags": []
   },
   "source": [
    "### Retrieve datasets from Big Query"
   ]
  },
  {
   "cell_type": "code",
   "execution_count": null,
   "id": "85e9fba0-e198-4a9a-8a56-93ea6b4f5a64",
   "metadata": {
    "id": "85e9fba0-e198-4a9a-8a56-93ea6b4f5a64"
   },
   "outputs": [],
   "source": [
    "# create sql query\n",
    "query = '''\n",
    "    SELECT * FROM `gepp-538.transformation.mpe_catalogo`\n",
    "'''\n",
    "# convert query to pandas dataframe\n",
    "mpe_catalogo = pd.read_gbq(query, credentials=bq_credentials)"
   ]
  }
 ],
 "metadata": {
  "colab": {
   "provenance": []
  },
  "kernelspec": {
   "display_name": "Python 3 (ipykernel)",
   "language": "python",
   "name": "python3"
  },
  "language_info": {
   "codemirror_mode": {
    "name": "ipython",
    "version": 3
   },
   "file_extension": ".py",
   "mimetype": "text/x-python",
   "name": "python",
   "nbconvert_exporter": "python",
   "pygments_lexer": "ipython3",
   "version": "3.9.17"
  }
 },
 "nbformat": 4,
 "nbformat_minor": 5
}
