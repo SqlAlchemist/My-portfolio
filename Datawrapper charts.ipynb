{
 "cells": [
  {
   "cell_type": "markdown",
   "metadata": {
    "id": "XGbFmnzbQ5L9"
   },
   "source": [
    "# Data Visualization with Datawrapper API"
   ]
  },
  {
   "cell_type": "markdown",
   "metadata": {
    "id": "E0iNG1n0bgnj"
   },
   "source": [
    "## Environment settings"
   ]
  },
  {
   "cell_type": "markdown",
   "metadata": {
    "colab": {
     "base_uri": "https://localhost:8080/"
    },
    "executionInfo": {
     "elapsed": 7476,
     "status": "ok",
     "timestamp": 1675559703375,
     "user": {
      "displayName": "Jesus L",
      "userId": "14694795882299199985"
     },
     "user_tz": 360
    },
    "id": "Nwea_QFVQ1F8",
    "outputId": "0e5b898c-a237-459e-f2e7-fc29ea8238d1"
   },
   "source": [
    "*Update pip repository*\n",
    "`!pip install --upgrade pip`\n",
    "\n",
    "*Install datawrapper*\n",
    "`!pip install datawrapper`"
   ]
  },
  {
   "cell_type": "code",
   "execution_count": 1,
   "metadata": {
    "id": "mlmj76qLTXK9"
   },
   "outputs": [],
   "source": [
    "# Import libraries\n",
    "import numpy as np\n",
    "import pandas as pd\n",
    "import matplotlib.pyplot as plt\n",
    "import json\n",
    "from datawrapper import Datawrapper"
   ]
  },
  {
   "cell_type": "code",
   "execution_count": 2,
   "metadata": {
    "colab": {
     "base_uri": "https://localhost:8080/"
    },
    "executionInfo": {
     "elapsed": 505,
     "status": "ok",
     "timestamp": 1675481213397,
     "user": {
      "displayName": "Jesus L",
      "userId": "14694795882299199985"
     },
     "user_tz": 360
    },
    "id": "SgaoLKPxQ4fd",
    "outputId": "6ccc0e3a-e69a-47cd-b299-b7df44ffc873"
   },
   "outputs": [],
   "source": [
    "# Token gotten from datawrapper api \n",
    "filename = \"../APIs/credentials.json\"\n",
    "# read json file\n",
    "with open(filename) as f:\n",
    "    keys = json.load(f)\n",
    "# read credentials\n",
    "token = keys[\"datawrapper_api\"]"
   ]
  },
  {
   "cell_type": "code",
   "execution_count": 3,
   "metadata": {},
   "outputs": [],
   "source": [
    "# Acces datawrapper\n",
    "dw = Datawrapper(access_token = token)\n",
    "# Check if the account is correctly initialized\n",
    "#dw.account_info() "
   ]
  },
  {
   "cell_type": "markdown",
   "metadata": {
    "id": "oT-VZkzUbpkZ"
   },
   "source": [
    "## Data cleansing and analysis"
   ]
  },
  {
   "cell_type": "code",
   "execution_count": 4,
   "metadata": {
    "id": "kTZUNt5TWMX4"
   },
   "outputs": [],
   "source": [
    "# Read csv file by getting path from 'content/drive/MyDrive/Colab Notebooks/my-data/'\n",
    "df = pd.read_csv('../Datasets/owid-covid-data.csv')"
   ]
  },
  {
   "cell_type": "code",
   "execution_count": 5,
   "metadata": {
    "colab": {
     "base_uri": "https://localhost:8080/",
     "height": 206
    },
    "executionInfo": {
     "elapsed": 8,
     "status": "ok",
     "timestamp": 1675481540015,
     "user": {
      "displayName": "Jesus L",
      "userId": "14694795882299199985"
     },
     "user_tz": 360
    },
    "id": "E11RqCqsW0DG",
    "outputId": "0218ab6e-ac75-4f76-853c-3337b9efc928"
   },
   "outputs": [
    {
     "data": {
      "text/plain": [
       "Index(['iso_code', 'continent', 'location', 'date', 'total_cases', 'new_cases',\n",
       "       'new_cases_smoothed', 'total_deaths', 'new_deaths',\n",
       "       'new_deaths_smoothed', 'total_cases_per_million',\n",
       "       'new_cases_per_million', 'new_cases_smoothed_per_million',\n",
       "       'total_deaths_per_million', 'new_deaths_per_million',\n",
       "       'new_deaths_smoothed_per_million', 'reproduction_rate', 'icu_patients',\n",
       "       'icu_patients_per_million', 'hosp_patients',\n",
       "       'hosp_patients_per_million', 'weekly_icu_admissions',\n",
       "       'weekly_icu_admissions_per_million', 'weekly_hosp_admissions',\n",
       "       'weekly_hosp_admissions_per_million', 'new_tests', 'total_tests',\n",
       "       'total_tests_per_thousand', 'new_tests_per_thousand',\n",
       "       'new_tests_smoothed', 'new_tests_smoothed_per_thousand',\n",
       "       'positive_rate', 'tests_per_case', 'tests_units', 'total_vaccinations',\n",
       "       'people_vaccinated', 'people_fully_vaccinated', 'total_boosters',\n",
       "       'new_vaccinations', 'new_vaccinations_smoothed',\n",
       "       'total_vaccinations_per_hundred', 'people_vaccinated_per_hundred',\n",
       "       'people_fully_vaccinated_per_hundred', 'total_boosters_per_hundred',\n",
       "       'new_vaccinations_smoothed_per_million',\n",
       "       'new_people_vaccinated_smoothed',\n",
       "       'new_people_vaccinated_smoothed_per_hundred', 'stringency_index',\n",
       "       'population', 'population_density', 'median_age', 'aged_65_older',\n",
       "       'aged_70_older', 'gdp_per_capita', 'extreme_poverty',\n",
       "       'cardiovasc_death_rate', 'diabetes_prevalence', 'female_smokers',\n",
       "       'male_smokers', 'handwashing_facilities', 'hospital_beds_per_thousand',\n",
       "       'life_expectancy', 'human_development_index',\n",
       "       'excess_mortality_cumulative_absolute', 'excess_mortality_cumulative',\n",
       "       'excess_mortality', 'excess_mortality_cumulative_per_million'],\n",
       "      dtype='object')"
      ]
     },
     "execution_count": 5,
     "metadata": {},
     "output_type": "execute_result"
    }
   ],
   "source": [
    "df.columns"
   ]
  },
  {
   "cell_type": "code",
   "execution_count": 6,
   "metadata": {},
   "outputs": [
    {
     "name": "stderr",
     "output_type": "stream",
     "text": [
      "/var/folders/jy/hhl49vr95cdgq4r9c_fgwhd80000gn/T/ipykernel_899/2073270063.py:6: SettingWithCopyWarning: \n",
      "A value is trying to be set on a copy of a slice from a DataFrame.\n",
      "Try using .loc[row_indexer,col_indexer] = value instead\n",
      "\n",
      "See the caveats in the documentation: https://pandas.pydata.org/pandas-docs/stable/user_guide/indexing.html#returning-a-view-versus-a-copy\n",
      "  new_df.date = pd.to_datetime(new_df.date)\n"
     ]
    },
    {
     "data": {
      "text/html": [
       "<div>\n",
       "<style scoped>\n",
       "    .dataframe tbody tr th:only-of-type {\n",
       "        vertical-align: middle;\n",
       "    }\n",
       "\n",
       "    .dataframe tbody tr th {\n",
       "        vertical-align: top;\n",
       "    }\n",
       "\n",
       "    .dataframe thead th {\n",
       "        text-align: right;\n",
       "    }\n",
       "</style>\n",
       "<table border=\"1\" class=\"dataframe\">\n",
       "  <thead>\n",
       "    <tr style=\"text-align: right;\">\n",
       "      <th></th>\n",
       "      <th>continent</th>\n",
       "      <th>location</th>\n",
       "      <th>date</th>\n",
       "      <th>total_cases</th>\n",
       "      <th>total_deaths</th>\n",
       "    </tr>\n",
       "  </thead>\n",
       "  <tbody>\n",
       "    <tr>\n",
       "      <th>0</th>\n",
       "      <td>Asia</td>\n",
       "      <td>Afghanistan</td>\n",
       "      <td>2020-02-24</td>\n",
       "      <td>5.0</td>\n",
       "      <td>NaN</td>\n",
       "    </tr>\n",
       "    <tr>\n",
       "      <th>1</th>\n",
       "      <td>Asia</td>\n",
       "      <td>Afghanistan</td>\n",
       "      <td>2020-02-25</td>\n",
       "      <td>5.0</td>\n",
       "      <td>NaN</td>\n",
       "    </tr>\n",
       "    <tr>\n",
       "      <th>2</th>\n",
       "      <td>Asia</td>\n",
       "      <td>Afghanistan</td>\n",
       "      <td>2020-02-26</td>\n",
       "      <td>5.0</td>\n",
       "      <td>NaN</td>\n",
       "    </tr>\n",
       "    <tr>\n",
       "      <th>3</th>\n",
       "      <td>Asia</td>\n",
       "      <td>Afghanistan</td>\n",
       "      <td>2020-02-27</td>\n",
       "      <td>5.0</td>\n",
       "      <td>NaN</td>\n",
       "    </tr>\n",
       "    <tr>\n",
       "      <th>4</th>\n",
       "      <td>Asia</td>\n",
       "      <td>Afghanistan</td>\n",
       "      <td>2020-02-28</td>\n",
       "      <td>5.0</td>\n",
       "      <td>NaN</td>\n",
       "    </tr>\n",
       "    <tr>\n",
       "      <th>...</th>\n",
       "      <td>...</td>\n",
       "      <td>...</td>\n",
       "      <td>...</td>\n",
       "      <td>...</td>\n",
       "      <td>...</td>\n",
       "    </tr>\n",
       "    <tr>\n",
       "      <th>156108</th>\n",
       "      <td>Africa</td>\n",
       "      <td>Zimbabwe</td>\n",
       "      <td>2022-01-16</td>\n",
       "      <td>226078.0</td>\n",
       "      <td>5247.0</td>\n",
       "    </tr>\n",
       "    <tr>\n",
       "      <th>156109</th>\n",
       "      <td>Africa</td>\n",
       "      <td>Zimbabwe</td>\n",
       "      <td>2022-01-17</td>\n",
       "      <td>226460.0</td>\n",
       "      <td>5258.0</td>\n",
       "    </tr>\n",
       "    <tr>\n",
       "      <th>156110</th>\n",
       "      <td>Africa</td>\n",
       "      <td>Zimbabwe</td>\n",
       "      <td>2022-01-18</td>\n",
       "      <td>226460.0</td>\n",
       "      <td>5258.0</td>\n",
       "    </tr>\n",
       "    <tr>\n",
       "      <th>156111</th>\n",
       "      <td>Africa</td>\n",
       "      <td>Zimbabwe</td>\n",
       "      <td>2022-01-19</td>\n",
       "      <td>226887.0</td>\n",
       "      <td>5266.0</td>\n",
       "    </tr>\n",
       "    <tr>\n",
       "      <th>156112</th>\n",
       "      <td>Africa</td>\n",
       "      <td>Zimbabwe</td>\n",
       "      <td>2022-01-20</td>\n",
       "      <td>227552.0</td>\n",
       "      <td>5276.0</td>\n",
       "    </tr>\n",
       "  </tbody>\n",
       "</table>\n",
       "<p>156113 rows × 5 columns</p>\n",
       "</div>"
      ],
      "text/plain": [
       "       continent     location       date  total_cases  total_deaths\n",
       "0           Asia  Afghanistan 2020-02-24          5.0           NaN\n",
       "1           Asia  Afghanistan 2020-02-25          5.0           NaN\n",
       "2           Asia  Afghanistan 2020-02-26          5.0           NaN\n",
       "3           Asia  Afghanistan 2020-02-27          5.0           NaN\n",
       "4           Asia  Afghanistan 2020-02-28          5.0           NaN\n",
       "...          ...          ...        ...          ...           ...\n",
       "156108    Africa     Zimbabwe 2022-01-16     226078.0        5247.0\n",
       "156109    Africa     Zimbabwe 2022-01-17     226460.0        5258.0\n",
       "156110    Africa     Zimbabwe 2022-01-18     226460.0        5258.0\n",
       "156111    Africa     Zimbabwe 2022-01-19     226887.0        5266.0\n",
       "156112    Africa     Zimbabwe 2022-01-20     227552.0        5276.0\n",
       "\n",
       "[156113 rows x 5 columns]"
      ]
     },
     "execution_count": 6,
     "metadata": {},
     "output_type": "execute_result"
    }
   ],
   "source": [
    "# select relevant column numbers to filter\n",
    "fields = [1,2,3,4,7,]\n",
    "# filter dataframe by relevant columns\n",
    "new_df = df.iloc[:, fields]\n",
    "# convert to datetime\n",
    "new_df.date = pd.to_datetime(new_df.date)\n",
    "new_df"
   ]
  },
  {
   "cell_type": "code",
   "execution_count": 7,
   "metadata": {},
   "outputs": [
    {
     "name": "stderr",
     "output_type": "stream",
     "text": [
      "/var/folders/jy/hhl49vr95cdgq4r9c_fgwhd80000gn/T/ipykernel_899/3541726121.py:1: FutureWarning: The operation <function sum at 0x13312eac0> failed on a column. If any error is raised, this will raise an exception in a future version of pandas. Drop these columns to avoid this warning.\n",
      "  covid = new_df.groupby(pd.Grouper(key='date', freq='M')).agg(np.sum).reset_index()\n"
     ]
    },
    {
     "data": {
      "text/html": [
       "<div>\n",
       "<style scoped>\n",
       "    .dataframe tbody tr th:only-of-type {\n",
       "        vertical-align: middle;\n",
       "    }\n",
       "\n",
       "    .dataframe tbody tr th {\n",
       "        vertical-align: top;\n",
       "    }\n",
       "\n",
       "    .dataframe thead th {\n",
       "        text-align: right;\n",
       "    }\n",
       "</style>\n",
       "<table border=\"1\" class=\"dataframe\">\n",
       "  <thead>\n",
       "    <tr style=\"text-align: right;\">\n",
       "      <th></th>\n",
       "      <th>date</th>\n",
       "      <th>total_cases</th>\n",
       "      <th>total_deaths</th>\n",
       "    </tr>\n",
       "  </thead>\n",
       "  <tbody>\n",
       "    <tr>\n",
       "      <th>20</th>\n",
       "      <td>2021-09-30</td>\n",
       "      <td>2.836909e+10</td>\n",
       "      <td>582365894.0</td>\n",
       "    </tr>\n",
       "    <tr>\n",
       "      <th>21</th>\n",
       "      <td>2021-10-31</td>\n",
       "      <td>3.109041e+10</td>\n",
       "      <td>631472610.0</td>\n",
       "    </tr>\n",
       "    <tr>\n",
       "      <th>22</th>\n",
       "      <td>2021-11-30</td>\n",
       "      <td>3.188990e+10</td>\n",
       "      <td>638262672.0</td>\n",
       "    </tr>\n",
       "    <tr>\n",
       "      <th>23</th>\n",
       "      <td>2021-12-31</td>\n",
       "      <td>3.551551e+10</td>\n",
       "      <td>688852954.0</td>\n",
       "    </tr>\n",
       "    <tr>\n",
       "      <th>24</th>\n",
       "      <td>2022-01-31</td>\n",
       "      <td>2.637669e+10</td>\n",
       "      <td>458797939.0</td>\n",
       "    </tr>\n",
       "  </tbody>\n",
       "</table>\n",
       "</div>"
      ],
      "text/plain": [
       "         date   total_cases  total_deaths\n",
       "20 2021-09-30  2.836909e+10   582365894.0\n",
       "21 2021-10-31  3.109041e+10   631472610.0\n",
       "22 2021-11-30  3.188990e+10   638262672.0\n",
       "23 2021-12-31  3.551551e+10   688852954.0\n",
       "24 2022-01-31  2.637669e+10   458797939.0"
      ]
     },
     "execution_count": 7,
     "metadata": {},
     "output_type": "execute_result"
    }
   ],
   "source": [
    "covid = new_df.groupby(pd.Grouper(key='date', freq='M')).agg(np.sum).reset_index()\n",
    "covid.tail()"
   ]
  },
  {
   "cell_type": "code",
   "execution_count": 8,
   "metadata": {},
   "outputs": [
    {
     "data": {
      "image/png": "[encoded data removed]",
      "text/plain": [
       "<Figure size 640x480 with 1 Axes>"
      ]
     },
     "metadata": {},
     "output_type": "display_data"
    }
   ],
   "source": [
    "# create chart\n",
    "covid.plot(x='date', y=['total_cases', 'total_deaths'])\n",
    "plt.show()"
   ]
  },
  {
   "cell_type": "markdown",
   "metadata": {
    "id": "466EUtZ0bvn6"
   },
   "source": [
    "## Datawrapper chart creation"
   ]
  },
  {
   "cell_type": "code",
   "execution_count": 9,
   "metadata": {
    "colab": {
     "base_uri": "https://localhost:8080/",
     "height": 245
    },
    "executionInfo": {
     "elapsed": 153,
     "status": "error",
     "timestamp": 1675482498908,
     "user": {
      "displayName": "Jesus L",
      "userId": "14694795882299199985"
     },
     "user_tz": 360
    },
    "id": "Iy9OxL_XXFwC",
    "outputId": "0ffa2315-8dc7-4bf6-8442-ab701c31beb9"
   },
   "outputs": [],
   "source": [
    "# Create chart in Datawrapper\n",
    "covid_chart = dw.create_chart(\n",
    "    title = \"Covid disease, Cases and Deaths, 2020-2022\",\n",
    "    chart_type = 'd3-lines',\n",
    "    data = covid\n",
    "    )"
   ]
  },
  {
   "cell_type": "code",
   "execution_count": 10,
   "metadata": {
    "colab": {
     "base_uri": "https://localhost:8080/"
    },
    "executionInfo": {
     "elapsed": 205,
     "status": "ok",
     "timestamp": 1675481541405,
     "user": {
      "displayName": "Jesus L",
      "userId": "14694795882299199985"
     },
     "user_tz": 360
    },
    "id": "KkthlApjXmHt",
    "outputId": "4fa059a5-bc16-41c9-df92-21663a588a12"
   },
   "outputs": [
    {
     "data": {
      "text/plain": [
       "{'publicId': 'DVXOr',\n",
       " 'language': 'en-US',\n",
       " 'theme': 'datawrapper',\n",
       " 'title': 'Covid disease, Cases and Deaths, 2020-2022',\n",
       " 'type': 'd3-lines',\n",
       " 'lastEditStep': 3,\n",
       " 'metadata': {'data': {'changes': [],\n",
       "   'transpose': False,\n",
       "   'vertical-header': True,\n",
       "   'horizontal-header': True},\n",
       "  'describe': {'source-name': '',\n",
       "   'source-url': '',\n",
       "   'intro': '',\n",
       "   'byline': '',\n",
       "   'aria-description': '',\n",
       "   'number-format': '-',\n",
       "   'number-divisor': 0,\n",
       "   'number-append': '',\n",
       "   'number-prepend': ''},\n",
       "  'visualize': {'dark-mode-invert': True,\n",
       "   'highlighted-series': [],\n",
       "   'highlighted-values': [],\n",
       "   'sharing': {'enabled': False}},\n",
       "  'axes': {},\n",
       "  'publish': {'embed-width': 600,\n",
       "   'embed-height': 400,\n",
       "   'blocks': {'logo': {'enabled': False},\n",
       "    'embed': False,\n",
       "    'download-pdf': False,\n",
       "    'download-svg': False,\n",
       "    'get-the-data': True,\n",
       "    'download-image': False},\n",
       "   'export-pdf': {}},\n",
       "  'annotate': {'notes': ''},\n",
       "  'custom': {}},\n",
       " 'authorId': 410058,\n",
       " 'id': 'DVXOr',\n",
       " 'lastModifiedAt': '2023-07-05T18:46:47.477Z',\n",
       " 'createdAt': '2023-07-05T18:46:47.464Z',\n",
       " 'organizationId': 'muu6rrzY',\n",
       " 'url': '/v3/charts/DVXOr'}"
      ]
     },
     "execution_count": 10,
     "metadata": {},
     "output_type": "execute_result"
    }
   ],
   "source": [
    "# Get data from Datawrapper chart\n",
    "covid_chart"
   ]
  },
  {
   "cell_type": "code",
   "execution_count": 11,
   "metadata": {
    "id": "fWNlZbvTX3Xh"
   },
   "outputs": [],
   "source": [
    "# Publish in Datawrapper\n",
    "dw.publish_chart(covid_chart['id'], display=False)"
   ]
  },
  {
   "cell_type": "markdown",
   "metadata": {
    "id": "os7iSvvbcB8p"
   },
   "source": [
    "## Datawrapper chart customization"
   ]
  },
  {
   "cell_type": "code",
   "execution_count": 12,
   "metadata": {
    "colab": {
     "base_uri": "https://localhost:8080/"
    },
    "executionInfo": {
     "elapsed": 624,
     "status": "ok",
     "timestamp": 1675482279820,
     "user": {
      "displayName": "Jesus L",
      "userId": "14694795882299199985"
     },
     "user_tz": 360
    },
    "id": "t9Bt6uelaVNh",
    "outputId": "29381e82-fef2-4efb-f50c-9b1ecc891674"
   },
   "outputs": [],
   "source": [
    "# Update chart after customizing it\n",
    "dw.update_description(\n",
    "  covid_chart['id'],\n",
    "  source_name = 'owid-covid-data',\n",
    "  source_url = '',\n",
    "  intro = 'Evolution of cases and deaths worlwide',\n",
    "  byline = 'Created with Python 🐍',\n",
    ")"
   ]
  },
  {
   "cell_type": "code",
   "execution_count": 13,
   "metadata": {
    "colab": {
     "base_uri": "https://localhost:8080/"
    },
    "executionInfo": {
     "elapsed": 405,
     "status": "ok",
     "timestamp": 1675481550474,
     "user": {
      "displayName": "Jesus L",
      "userId": "14694795882299199985"
     },
     "user_tz": 360
    },
    "id": "oAVBAK31ahnp",
    "outputId": "af8acd9f-3ca8-44ef-e3d0-573cadaeae5d"
   },
   "outputs": [],
   "source": [
    "properties = {\n",
    "  'visualize' : {\n",
    "    'thick': True,\n",
    "    'custom-colors': {\n",
    "      \"total_cases\": '#7e5703',\n",
    "      \"total_deaths\": '#7b0000',\n",
    "    },\n",
    "  }\n",
    "}\n",
    "dw.update_metadata(covid_chart['id'], properties)"
   ]
  },
  {
   "cell_type": "markdown",
   "metadata": {},
   "source": [
    "## Chart visualization"
   ]
  },
  {
   "cell_type": "code",
   "execution_count": 17,
   "metadata": {
    "colab": {
     "base_uri": "https://localhost:8080/",
     "height": 459
    },
    "executionInfo": {
     "elapsed": 199,
     "status": "ok",
     "timestamp": 1675481543512,
     "user": {
      "displayName": "Jesus L",
      "userId": "14694795882299199985"
     },
     "user_tz": 360
    },
    "id": "OvG8awT6aLSz",
    "outputId": "6a4c4088-0a4c-4cc5-fe13-47577876d71c"
   },
   "outputs": [
    {
     "name": "stdout",
     "output_type": "stream",
     "text": [
      "\n",
      "\n"
     ]
    },
    {
     "data": {
      "text/html": [
       "<iframe title=\"Covid disease, Cases and Deaths, 2020-2022\" aria-label=\"Interactive line chart\" id=\"datawrapper-chart-DVXOr\" src=\"https://datawrapper.dwcdn.net/DVXOr/2/\" scrolling=\"no\" frameborder=\"0\" style=\"border: none;\" width=\"600\" height=\"400\" data-external=\"1\"></iframe>"
      ],
      "text/plain": [
       "<IPython.core.display.HTML object>"
      ]
     },
     "execution_count": 17,
     "metadata": {},
     "output_type": "execute_result"
    }
   ],
   "source": [
    "# Display chart in jupyterlab\n",
    "print('\\n')\n",
    "dw.display_chart(covid_chart['id'])"
   ]
  },
  {
   "cell_type": "markdown",
   "metadata": {},
   "source": [
    "![chart](covid.png)"
   ]
  },
  {
   "cell_type": "markdown",
   "metadata": {
    "id": "NhHAkLwFb8qw"
   },
   "source": [
    "## Chart sahring with Datawrapper iframe"
   ]
  },
  {
   "cell_type": "code",
   "execution_count": 15,
   "metadata": {
    "colab": {
     "base_uri": "https://localhost:8080/",
     "height": 55
    },
    "executionInfo": {
     "elapsed": 469,
     "status": "ok",
     "timestamp": 1675481549655,
     "user": {
      "displayName": "Jesus L",
      "userId": "14694795882299199985"
     },
     "user_tz": 360
    },
    "id": "Igf0VdmsYPhp",
    "outputId": "bd6a3468-1f98-416a-ccd6-267a3f1c7104"
   },
   "outputs": [
    {
     "data": {
      "text/plain": [
       "'<iframe title=\"Covid disease, Cases and Deaths, 2020-2022\" aria-label=\"Interactive line chart\" id=\"datawrapper-chart-DVXOr\" src=\"https://datawrapper.dwcdn.net/DVXOr/1/\" scrolling=\"no\" frameborder=\"0\" style=\"border: none;\" width=\"600\" height=\"400\" data-external=\"1\"></iframe>'"
      ]
     },
     "execution_count": 15,
     "metadata": {},
     "output_type": "execute_result"
    }
   ],
   "source": [
    "# Get iframe code to embed e.g. in Notion\n",
    "dw.get_iframe_code(covid_chart['id'])"
   ]
  },
  {
   "cell_type": "markdown",
   "metadata": {
    "id": "OH1JgMUgb334"
   },
   "source": [
    "## Chart image with Datawrapper export image"
   ]
  },
  {
   "cell_type": "code",
   "execution_count": 16,
   "metadata": {
    "colab": {
     "base_uri": "https://localhost:8080/"
    },
    "executionInfo": {
     "elapsed": 5730,
     "status": "ok",
     "timestamp": 1675483195955,
     "user": {
      "displayName": "Jesus L",
      "userId": "14694795882299199985"
     },
     "user_tz": 360
    },
    "id": "5Qp1t3JDYDjA",
    "outputId": "3a345ad8-3075-4c48-f746-5d6d2daf5804"
   },
   "outputs": [],
   "source": [
    "# export png image file\n",
    "# pdf and svg formats are not available yet\n",
    "dw.export_chart(covid_chart['id'], output='png', filepath='covid.png', width=800, plain=False, display=False) # plain=True removes title and labels, display=True shows image"
   ]
  },
  {
   "cell_type": "markdown",
   "metadata": {
    "id": "xrgfL0JocU0I"
   },
   "source": [
    "## References"
   ]
  },
  {
   "cell_type": "markdown",
   "metadata": {
    "id": "zyesPLXlbYWs"
   },
   "source": [
    "<a href = 'https://medium.com/towards-data-science/get-publishable-visualizations-with-datawrapper-and-python-f091676cc350' > Datawrapper reference in Medium </a>"
   ]
  },
  {
   "cell_type": "markdown",
   "metadata": {
    "id": "PM2pHkbyf89e"
   },
   "source": [
    "<a href = 'https://blog.datawrapper.de/datawrapper-python-package/' > Python Datawrapper api </a> "
   ]
  },
  {
   "cell_type": "markdown",
   "metadata": {
    "id": "WU5ESSZbgriX"
   },
   "source": [
    "<a href = 'https://www.tacosdedatos.com' > TacosdeDatos </a>"
   ]
  },
  {
   "cell_type": "markdown",
   "metadata": {},
   "source": [
    "---"
   ]
  },
  {
   "cell_type": "markdown",
   "metadata": {},
   "source": [
    "## Contact\n",
    "Jesus Lopez\n",
    "\n",
    "[Linkedin](www.linkedin.com/in/j3sus-lopez) | ✉️ [email](mailto:jlmonroy01@gmail.com?subject=Information%20request%20) | ©️ 2023"
   ]
  }
 ],
 "metadata": {
  "colab": {
   "authorship_tag": "ABX9TyOy3QTTHZBhk7CaYWU+wmjC",
   "mount_file_id": "12_7CttmnNLIN_mVBhfLxNAGowXgfDva_",
   "provenance": []
  },
  "kernelspec": {
   "display_name": "Python 3 (ipykernel)",
   "language": "python",
   "name": "python3"
  },
  "language_info": {
   "codemirror_mode": {
    "name": "ipython",
    "version": 3
   },
   "file_extension": ".py",
   "mimetype": "text/x-python",
   "name": "python",
   "nbconvert_exporter": "python",
   "pygments_lexer": "ipython3",
   "version": "3.11.4"
  }
 },
 "nbformat": 4,
 "nbformat_minor": 4
}
