{
 "cells": [
  {
   "cell_type": "markdown",
   "id": "a207eb22-7df3-4576-8a40-6d8448da200e",
   "metadata": {},
   "source": [
    "# Regression Analysis with Python\n",
    "## Book code "
   ]
  },
  {
   "cell_type": "code",
   "execution_count": 6,
   "id": "e6471600-a1a7-413e-9e13-0373994df563",
   "metadata": {},
   "outputs": [],
   "source": [
    "import numpy as np\n",
    "import pandas as pd\n",
    "import polars as pl\n",
    "import sklearn"
   ]
  },
  {
   "cell_type": "code",
   "execution_count": 7,
   "id": "321d632c-69c5-43ad-ae11-04d082bf2c9e",
   "metadata": {},
   "outputs": [],
   "source": [
    "data_url = \"http://lib.stat.cmu.edu/datasets/boston\"\n",
    "raw_df = pd.read_csv(data_url, sep=\"\\s+\", skiprows=22, header=None)\n",
    "data = np.hstack([raw_df.values[::2, :], raw_df.values[1::2, :2]])\n",
    "target = raw_df.values[1::2, 2]"
   ]
  },
  {
   "cell_type": "code",
   "execution_count": 8,
   "id": "3297a96c-8320-4919-bc65-24e531df14f2",
   "metadata": {},
   "outputs": [],
   "source": [
    "from sklearn.datasets import fetch_california_housing\n",
    "california = fetch_california_housing()"
   ]
  },
  {
   "cell_type": "markdown",
   "id": "9b1505b3-fd7a-42c7-8842-acde3b6e0320",
   "metadata": {},
   "source": [
    "In case of  a normal distribution, its probability density function (pdf) is given by:\n",
    "\n",
    "$$ (x-\\mu)^2 $$"
   ]
  },
  {
   "cell_type": "markdown",
   "id": "d2b699ca-777c-4702-b6a2-e295033bc5f4",
   "metadata": {},
   "source": [
    "<!-- Header 2 in markdown-->\n",
    "> ## Contact\n",
    "> <!-- Insert my avatar image and resize -->\n",
    "> <img src=\"../Pictures/avatar.jpeg\" alt=\"me\" width=\"80\" height=\"100\">\n",
    "> <!-- Text with color, font, fontsize and specific size -->\n",
    "> <p style=\"color: #002147; font-family: Helevetica; font-size: 20px;\">Jesus L. Monroy<br>Economist | Data Scientist</p>\n",
    "> <!-- Insert url links in logos -->\n",
    "> <a href=\"https://cutt.ly/resume-jesus-lmonroy\" target=\"_blank\" rel=\"noreferrer\"> <img src=\"https://icongr.am/material/card-account-details.svg?size=16&color=636363\" alt=\"resume\" width=\"30\" height=\"30\"/>\n",
    "> <!-- style=\"padding-left:8px\" adds spaces before logo link -->\n",
    "> <a href=\"https://github.com/SqlAlchemist/My-portfolio\" target=\"_blank\" rel=\"noreferrer\"> <img src=\"https://icongr.am/devicon/github-original.svg?size=16&color=636363\" alt=\"github\" width=\"30\" height=\"30\" style=\"padding-left:8px\"/>\n",
    "> <a href=\"https://www.linkedin.com/in/j3sus-lmonroy\" target=\"_blank\" rel=\"noreferrer\"> <img src=\"https://icongr.am/devicon/linkedin-original.svg?size=16&color=636363\" alt=\"linkedin\" width=\"30\" height=\"30\" style=\"padding-left:8px\"/>\n",
    "> <a href=\"https://www.twitter.com/sqlalchemist\" target=\"_blank\" rel=\"noreferrer\"> <img src=\"https://icongr.am/devicon/twitter-original.svg?size=16&color=636363\" alt=\"twitter\" width=\"30\" height=\"30\" style=\"padding-left:8px\"/>"
   ]
  }
 ],
 "metadata": {
  "kernelspec": {
   "display_name": "Python 3 (ipykernel)",
   "language": "python",
   "name": "python3"
  },
  "language_info": {
   "codemirror_mode": {
    "name": "ipython",
    "version": 3
   },
   "file_extension": ".py",
   "mimetype": "text/x-python",
   "name": "python",
   "nbconvert_exporter": "python",
   "pygments_lexer": "ipython3",
   "version": "3.9.18"
  }
 },
 "nbformat": 4,
 "nbformat_minor": 5
}
