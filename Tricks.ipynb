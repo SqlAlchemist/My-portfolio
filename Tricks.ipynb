{
 "cells": [
  {
   "cell_type": "code",
   "execution_count": 16,
   "id": "9d677b0b-14ed-45b8-81af-161cd7e24f78",
   "metadata": {},
   "outputs": [],
   "source": [
    "def foo(required, *args, **kwargs):\n",
    "    print(required)\n",
    "    if args:\n",
    "        print(args)\n",
    "    if kwargs:\n",
    "        print(kwargs)"
   ]
  },
  {
   "cell_type": "code",
   "execution_count": 27,
   "id": "eeb3693e-7461-4428-a79b-6c831a9552f8",
   "metadata": {},
   "outputs": [
    {
     "name": "stdout",
     "output_type": "stream",
     "text": [
      "Hello\n",
      "('test',)\n",
      "{'a': 0, 'bins': 1}\n"
     ]
    }
   ],
   "source": [
    "foo('Hello','test',a=0,bins=1)"
   ]
  },
  {
   "cell_type": "code",
   "execution_count": 28,
   "id": "aca8c54c-cfc3-44ef-b5ea-e80b2616c192",
   "metadata": {},
   "outputs": [],
   "source": [
    "def print_vector(x, y, z):\n",
    "    print('<%s, %s, %s>' % (x, y, z))"
   ]
  },
  {
   "cell_type": "code",
   "execution_count": 29,
   "id": "a3123a4c-61f9-4a30-b48b-cdb84b3bf5d0",
   "metadata": {},
   "outputs": [
    {
     "name": "stdout",
     "output_type": "stream",
     "text": [
      "<5, 6, 9>\n"
     ]
    }
   ],
   "source": [
    "print_vector(5,6,9)"
   ]
  },
  {
   "cell_type": "code",
   "execution_count": 35,
   "id": "92f62911-a7c2-40e2-bf29-452e6863b86e",
   "metadata": {},
   "outputs": [],
   "source": [
    "phones = {'Zoe':'567821','Joe':'562698','Jane':'658945','Alice':'458529'}"
   ]
  },
  {
   "cell_type": "code",
   "execution_count": 46,
   "id": "98d524ca-d115-4db9-a35b-d7159dbca167",
   "metadata": {},
   "outputs": [
    {
     "data": {
      "text/plain": [
       "[('Alice', '458529'), ('Joe', '562698'), ('Zoe', '567821'), ('Jane', '658945')]"
      ]
     },
     "execution_count": 46,
     "metadata": {},
     "output_type": "execute_result"
    }
   ],
   "source": [
    "sorted(phones.items(), key=lambda x:x[1], reverse=False)"
   ]
  },
  {
   "cell_type": "code",
   "execution_count": null,
   "id": "be8bcc38-3980-4693-9104-54801d9a5b2f",
   "metadata": {},
   "outputs": [],
   "source": []
  },
  {
   "cell_type": "code",
   "execution_count": 3,
   "id": "b235c04f-f3c1-4cac-8859-e71bfb775afb",
   "metadata": {},
   "outputs": [
    {
     "data": {
      "text/html": [
       "<style type=\"text/css\">\n",
       "#T_e7c74 tr:hover {\n",
       "  background-color: #00b100;\n",
       "}\n",
       "</style>\n",
       "<table id=\"T_e7c74\">\n",
       "  <thead>\n",
       "    <tr>\n",
       "      <th class=\"blank level0\" >&nbsp;</th>\n",
       "      <th id=\"T_e7c74_level0_col0\" class=\"col_heading level0 col0\" >0</th>\n",
       "      <th id=\"T_e7c74_level0_col1\" class=\"col_heading level0 col1\" >1</th>\n",
       "      <th id=\"T_e7c74_level0_col2\" class=\"col_heading level0 col2\" >2</th>\n",
       "    </tr>\n",
       "  </thead>\n",
       "  <tbody>\n",
       "    <tr>\n",
       "      <th id=\"T_e7c74_level0_row0\" class=\"row_heading level0 row0\" >0</th>\n",
       "      <td id=\"T_e7c74_row0_col0\" class=\"data row0 col0\" >0.528451</td>\n",
       "      <td id=\"T_e7c74_row0_col1\" class=\"data row0 col1\" >-0.059770</td>\n",
       "      <td id=\"T_e7c74_row0_col2\" class=\"data row0 col2\" >-0.309420</td>\n",
       "    </tr>\n",
       "    <tr>\n",
       "      <th id=\"T_e7c74_level0_row1\" class=\"row_heading level0 row1\" >1</th>\n",
       "      <td id=\"T_e7c74_row1_col0\" class=\"data row1 col0\" >-0.188530</td>\n",
       "      <td id=\"T_e7c74_row1_col1\" class=\"data row1 col1\" >-0.355100</td>\n",
       "      <td id=\"T_e7c74_row1_col2\" class=\"data row1 col2\" >0.234376</td>\n",
       "    </tr>\n",
       "    <tr>\n",
       "      <th id=\"T_e7c74_level0_row2\" class=\"row_heading level0 row2\" >2</th>\n",
       "      <td id=\"T_e7c74_row2_col0\" class=\"data row2 col0\" >1.427815</td>\n",
       "      <td id=\"T_e7c74_row2_col1\" class=\"data row2 col1\" >-0.316760</td>\n",
       "      <td id=\"T_e7c74_row2_col2\" class=\"data row2 col2\" >-0.987048</td>\n",
       "    </tr>\n",
       "    <tr>\n",
       "      <th id=\"T_e7c74_level0_row3\" class=\"row_heading level0 row3\" >3</th>\n",
       "      <td id=\"T_e7c74_row3_col0\" class=\"data row3 col0\" >-0.828838</td>\n",
       "      <td id=\"T_e7c74_row3_col1\" class=\"data row3 col1\" >-0.932884</td>\n",
       "      <td id=\"T_e7c74_row3_col2\" class=\"data row3 col2\" >-0.177243</td>\n",
       "    </tr>\n",
       "    <tr>\n",
       "      <th id=\"T_e7c74_level0_row4\" class=\"row_heading level0 row4\" >4</th>\n",
       "      <td id=\"T_e7c74_row4_col0\" class=\"data row4 col0\" >-0.682996</td>\n",
       "      <td id=\"T_e7c74_row4_col1\" class=\"data row4 col1\" >-0.444137</td>\n",
       "      <td id=\"T_e7c74_row4_col2\" class=\"data row4 col2\" >0.897724</td>\n",
       "    </tr>\n",
       "  </tbody>\n",
       "</table>\n"
      ],
      "text/plain": [
       "<pandas.io.formats.style.Styler at 0x7fe0935107f0>"
      ]
     },
     "execution_count": 3,
     "metadata": {},
     "output_type": "execute_result"
    }
   ],
   "source": [
    "# Display shadow\n",
    "import numpy as np\n",
    "import pandas as pd\n",
    "df = pd.DataFrame(np.random.randn(5, 3))\n",
    "df.style.set_table_styles(\n",
    "[{'selector': 'tr:hover',\n",
    "  'props': [('background-color', '#00b100')]}])"
   ]
  },
  {
   "cell_type": "code",
   "execution_count": 4,
   "id": "a173dea2-51cf-4438-8dfe-3a6b53ee8edf",
   "metadata": {},
   "outputs": [
    {
     "data": {
      "text/html": [
       "<style type=\"text/css\">\n",
       "#T_8834b_row0_col0, #T_8834b_row1_col1, #T_8834b_row2_col0, #T_8834b_row2_col1 {\n",
       "  color: black;\n",
       "}\n",
       "#T_8834b_row0_col1, #T_8834b_row1_col0 {\n",
       "  color: red;\n",
       "}\n",
       "</style>\n",
       "<table id=\"T_8834b\">\n",
       "  <thead>\n",
       "    <tr>\n",
       "      <th class=\"blank level0\" >&nbsp;</th>\n",
       "      <th id=\"T_8834b_level0_col0\" class=\"col_heading level0 col0\" >col_1</th>\n",
       "      <th id=\"T_8834b_level0_col1\" class=\"col_heading level0 col1\" >col_2</th>\n",
       "    </tr>\n",
       "  </thead>\n",
       "  <tbody>\n",
       "    <tr>\n",
       "      <th id=\"T_8834b_level0_row0\" class=\"row_heading level0 row0\" >0</th>\n",
       "      <td id=\"T_8834b_row0_col0\" class=\"data row0 col0\" >1.530000</td>\n",
       "      <td id=\"T_8834b_row0_col1\" class=\"data row0 col1\" >-4.100000</td>\n",
       "    </tr>\n",
       "    <tr>\n",
       "      <th id=\"T_8834b_level0_row1\" class=\"row_heading level0 row1\" >1</th>\n",
       "      <td id=\"T_8834b_row1_col0\" class=\"data row1 col0\" >-2.500000</td>\n",
       "      <td id=\"T_8834b_row1_col1\" class=\"data row1 col1\" >5.900000</td>\n",
       "    </tr>\n",
       "    <tr>\n",
       "      <th id=\"T_8834b_level0_row2\" class=\"row_heading level0 row2\" >2</th>\n",
       "      <td id=\"T_8834b_row2_col0\" class=\"data row2 col0\" >3.530000</td>\n",
       "      <td id=\"T_8834b_row2_col1\" class=\"data row2 col1\" >0.000000</td>\n",
       "    </tr>\n",
       "  </tbody>\n",
       "</table>\n"
      ],
      "text/plain": [
       "<pandas.io.formats.style.Styler at 0x7fe095f14d00>"
      ]
     },
     "execution_count": 4,
     "metadata": {},
     "output_type": "execute_result"
    }
   ],
   "source": [
    "# Display negative numbers in red\n",
    "import pandas as pd\n",
    "# Create function\n",
    "def color_negative_red(val):\n",
    "    color = 'red' if val < 0 else 'black'\n",
    "    return 'color: %s' % color\n",
    "\n",
    "df = pd.DataFrame(dict(col_1=[1.53,-2.5,3.53], \n",
    "                       col_2=[-4.1,5.9,0]))\n",
    "\n",
    "df.style.applymap(color_negative_red)"
   ]
  },
  {
   "cell_type": "code",
   "execution_count": 5,
   "id": "b3e8ba05-453d-4760-a90f-6bfe33cf7382",
   "metadata": {},
   "outputs": [
    {
     "name": "stdout",
     "output_type": "stream",
     "text": [
      "  departure arrival   airlines\n",
      "0       SFO     ORD      Delta\n",
      "1       SFO     DFW    JetBlue\n",
      "2       LAX     DFW     Delata\n",
      "3       LAX     ATL         AA\n",
      "4       JFK     ATL  Southwest\n",
      "5       SFO     ORD      Delta\n"
     ]
    },
    {
     "data": {
      "text/html": [
       "<div>\n",
       "<style scoped>\n",
       "    .dataframe tbody tr th:only-of-type {\n",
       "        vertical-align: middle;\n",
       "    }\n",
       "\n",
       "    .dataframe tbody tr th {\n",
       "        vertical-align: top;\n",
       "    }\n",
       "\n",
       "    .dataframe thead th {\n",
       "        text-align: right;\n",
       "    }\n",
       "</style>\n",
       "<table border=\"1\" class=\"dataframe\">\n",
       "  <thead>\n",
       "    <tr style=\"text-align: right;\">\n",
       "      <th></th>\n",
       "      <th>arrival</th>\n",
       "      <th>ATL</th>\n",
       "      <th>DFW</th>\n",
       "      <th>ORD</th>\n",
       "      <th>All</th>\n",
       "    </tr>\n",
       "    <tr>\n",
       "      <th>departure</th>\n",
       "      <th>airlines</th>\n",
       "      <th></th>\n",
       "      <th></th>\n",
       "      <th></th>\n",
       "      <th></th>\n",
       "    </tr>\n",
       "  </thead>\n",
       "  <tbody>\n",
       "    <tr>\n",
       "      <th>JFK</th>\n",
       "      <th>Southwest</th>\n",
       "      <td>1</td>\n",
       "      <td>0</td>\n",
       "      <td>0</td>\n",
       "      <td>1</td>\n",
       "    </tr>\n",
       "    <tr>\n",
       "      <th rowspan=\"2\" valign=\"top\">LAX</th>\n",
       "      <th>AA</th>\n",
       "      <td>1</td>\n",
       "      <td>0</td>\n",
       "      <td>0</td>\n",
       "      <td>1</td>\n",
       "    </tr>\n",
       "    <tr>\n",
       "      <th>Delata</th>\n",
       "      <td>0</td>\n",
       "      <td>1</td>\n",
       "      <td>0</td>\n",
       "      <td>1</td>\n",
       "    </tr>\n",
       "    <tr>\n",
       "      <th rowspan=\"2\" valign=\"top\">SFO</th>\n",
       "      <th>Delta</th>\n",
       "      <td>0</td>\n",
       "      <td>0</td>\n",
       "      <td>2</td>\n",
       "      <td>2</td>\n",
       "    </tr>\n",
       "    <tr>\n",
       "      <th>JetBlue</th>\n",
       "      <td>0</td>\n",
       "      <td>1</td>\n",
       "      <td>0</td>\n",
       "      <td>1</td>\n",
       "    </tr>\n",
       "    <tr>\n",
       "      <th>All</th>\n",
       "      <th></th>\n",
       "      <td>2</td>\n",
       "      <td>2</td>\n",
       "      <td>2</td>\n",
       "      <td>6</td>\n",
       "    </tr>\n",
       "  </tbody>\n",
       "</table>\n",
       "</div>"
      ],
      "text/plain": [
       "arrival              ATL  DFW  ORD  All\n",
       "departure airlines                     \n",
       "JFK       Southwest    1    0    0    1\n",
       "LAX       AA           1    0    0    1\n",
       "          Delata       0    1    0    1\n",
       "SFO       Delta        0    0    2    2\n",
       "          JetBlue      0    1    0    1\n",
       "All                    2    2    2    6"
      ]
     },
     "execution_count": 5,
     "metadata": {},
     "output_type": "execute_result"
    }
   ],
   "source": [
    "# Crosstab\n",
    "df = pd.DataFrame(dict(departure=['SFO','SFO','LAX','LAX','JFK','SFO'],\n",
    "\t\t\t\t\t\tarrival=['ORD','DFW','DFW','ATL','ATL','ORD'],\n",
    "\t\t\t\t\t\tairlines=['Delta','JetBlue','Delata','AA','Southwest','Delta']))\n",
    "print(df)\n",
    "pd.crosstab(index=[df['departure'],df['airlines']],\n",
    "\t\t\t\t\t\tcolumns=[df['arrival']],\n",
    "\t\t\t\t\t\trownames=['departure','airlines'],\n",
    "\t\t\t\t\t\tcolnames=['arrival'],\n",
    "\t\t\t\t\t\tmargins=True #add subtotal\n",
    "\t\t\t\t\t\t)"
   ]
  },
  {
   "cell_type": "code",
   "execution_count": 18,
   "id": "79dfbd6b-22a9-472d-8933-e1c76db5cdab",
   "metadata": {},
   "outputs": [
    {
     "data": {
      "text/html": [
       "<div>\n",
       "<style scoped>\n",
       "    .dataframe tbody tr th:only-of-type {\n",
       "        vertical-align: middle;\n",
       "    }\n",
       "\n",
       "    .dataframe tbody tr th {\n",
       "        vertical-align: top;\n",
       "    }\n",
       "\n",
       "    .dataframe thead th {\n",
       "        text-align: right;\n",
       "    }\n",
       "</style>\n",
       "<table border=\"1\" class=\"dataframe\">\n",
       "  <thead>\n",
       "    <tr style=\"text-align: right;\">\n",
       "      <th></th>\n",
       "      <th>A</th>\n",
       "      <th>B</th>\n",
       "      <th>C</th>\n",
       "      <th>col_total</th>\n",
       "    </tr>\n",
       "  </thead>\n",
       "  <tbody>\n",
       "    <tr>\n",
       "      <th>0</th>\n",
       "      <td>2</td>\n",
       "      <td>2</td>\n",
       "      <td>3</td>\n",
       "      <td>7</td>\n",
       "    </tr>\n",
       "    <tr>\n",
       "      <th>1</th>\n",
       "      <td>6</td>\n",
       "      <td>2</td>\n",
       "      <td>2</td>\n",
       "      <td>10</td>\n",
       "    </tr>\n",
       "    <tr>\n",
       "      <th>2</th>\n",
       "      <td>3</td>\n",
       "      <td>6</td>\n",
       "      <td>3</td>\n",
       "      <td>12</td>\n",
       "    </tr>\n",
       "    <tr>\n",
       "      <th>row_total</th>\n",
       "      <td>11</td>\n",
       "      <td>10</td>\n",
       "      <td>8</td>\n",
       "      <td>29</td>\n",
       "    </tr>\n",
       "  </tbody>\n",
       "</table>\n",
       "</div>"
      ],
      "text/plain": [
       "            A   B  C  col_total\n",
       "0           2   2  3          7\n",
       "1           6   2  2         10\n",
       "2           3   6  3         12\n",
       "row_total  11  10  8         29"
      ]
     },
     "execution_count": 18,
     "metadata": {},
     "output_type": "execute_result"
    }
   ],
   "source": [
    "# Column and row subtotals\n",
    "df = pd.DataFrame(dict(A=[2,6,3],\n",
    "                       B=[2,2,6], \n",
    "                       C=[3,2,3]))\n",
    "\n",
    "# Column total\n",
    "df['col_total'] = df.apply(lambda x: x.sum(), axis=1)\n",
    "# Row total\n",
    "df.loc['row_total'] = df.apply(lambda x: x.sum())\n",
    "df"
   ]
  }
 ],
 "metadata": {
  "kernelspec": {
   "display_name": "Python 3 (ipykernel)",
   "language": "python",
   "name": "python3"
  },
  "language_info": {
   "codemirror_mode": {
    "name": "ipython",
    "version": 3
   },
   "file_extension": ".py",
   "mimetype": "text/x-python",
   "name": "python",
   "nbconvert_exporter": "python",
   "pygments_lexer": "ipython3",
   "version": "3.9.18"
  }
 },
 "nbformat": 4,
 "nbformat_minor": 5
}
