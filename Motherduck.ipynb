{
 "cells": [
  {
   "cell_type": "markdown",
   "id": "6b940aa4-e19f-42dd-be4e-77340a6c0a02",
   "metadata": {},
   "source": [
    "# MotherDuck"
   ]
  },
  {
   "cell_type": "markdown",
   "id": "2e813905-51db-460e-82e4-7be9841576f5",
   "metadata": {},
   "source": [
    "## Summary\n",
    "\n",
    "MotherDuck is serverless, easy-to-use platform, based on the DuckDB query engine.   \n",
    "MotherDuck makes it easy to connect to your data, explore it, and ask questions about it.   \n",
    "It is a great option for businesses of all sizes who need to do basic data analysis."
   ]
  },
  {
   "cell_type": "code",
   "execution_count": 1,
   "id": "b2d5d5a0-70fe-49b8-ad85-5b29fcbb197b",
   "metadata": {},
   "outputs": [],
   "source": [
    "# Import libraries\n",
    "import pandas as pd\n",
    "import polars as pl\n",
    "import duckdb\n",
    "import json"
   ]
  },
  {
   "cell_type": "code",
   "execution_count": 2,
   "id": "e3e3ec35-e90f-4899-992c-411cccb7db24",
   "metadata": {},
   "outputs": [],
   "source": [
    "# path to credentials folder\n",
    "filename = '../APIS/credentials.json'\n",
    "\n",
    "# read json file\n",
    "with open(filename) as f:\n",
    "    keys = json.load(f)\n",
    "\n",
    "# read credentials\n",
    "token = keys['md_token']"
   ]
  },
  {
   "cell_type": "code",
   "execution_count": 3,
   "id": "e6b1fa59-2275-4c5d-b194-119f78723854",
   "metadata": {},
   "outputs": [],
   "source": [
    "# Create motherduck connection\n",
    "conn = duckdb.connect(f'md:?motherduck_token={token}')"
   ]
  },
  {
   "cell_type": "code",
   "execution_count": 4,
   "id": "28163813-75e7-4f62-9f53-a1c43c1556b1",
   "metadata": {},
   "outputs": [],
   "source": [
    "# Write query\n",
    "q = '''\n",
    "SELECT * \n",
    "FROM gastos2021\n",
    "LIMIT 5\n",
    "'''"
   ]
  },
  {
   "cell_type": "code",
   "execution_count": 5,
   "id": "6d9e210c-8f83-4f9f-ba18-2d95725f4704",
   "metadata": {},
   "outputs": [
    {
     "name": "stdout",
     "output_type": "stream",
     "text": [
      "┌────────────┬───────────┬──────────────┬──────────────────┬──────────┬───────────────────┐\n",
      "│   fecha    │ categoria │ subcategoria │    tipo_pago     │ cantidad │   observaciones   │\n",
      "│    date    │  varchar  │   varchar    │     varchar      │  double  │      varchar      │\n",
      "├────────────┼───────────┼──────────────┼──────────────────┼──────────┼───────────────────┤\n",
      "│ 2018-03-31 │ Gastos    │ Comida       │ Efectivo         │     30.0 │ NULL              │\n",
      "│ 2018-03-31 │ Gastos    │ Despensa     │ Efectivo         │     42.0 │ Aurrera           │\n",
      "│ 2018-04-01 │ Gastos    │ Despensa     │ Tarjeta Bancomer │    222.0 │ Aurrera           │\n",
      "│ 2018-04-01 │ Gastos    │ Despensa     │ Tarjeta Bancomer │    135.5 │ Super vegetariano │\n",
      "│ 2018-04-01 │ Gastos    │ Mascotas     │ Efectivo         │    400.0 │ Petra vacunas     │\n",
      "└────────────┴───────────┴──────────────┴──────────────────┴──────────┴───────────────────┘\n",
      "\n"
     ]
    }
   ],
   "source": [
    "# Read query\n",
    "conn.sql(q).show()"
   ]
  },
  {
   "cell_type": "code",
   "execution_count": 6,
   "id": "a506c75d-fd01-4432-b0d8-e5566b92af17",
   "metadata": {},
   "outputs": [],
   "source": [
    "# Conver to pandas dataframe from query\n",
    "df = conn.sql(q).df()"
   ]
  },
  {
   "cell_type": "code",
   "execution_count": 7,
   "id": "62cc23a9-02c3-41bf-87e0-16c36c0422e2",
   "metadata": {},
   "outputs": [
    {
     "data": {
      "text/html": [
       "<div>\n",
       "<style scoped>\n",
       "    .dataframe tbody tr th:only-of-type {\n",
       "        vertical-align: middle;\n",
       "    }\n",
       "\n",
       "    .dataframe tbody tr th {\n",
       "        vertical-align: top;\n",
       "    }\n",
       "\n",
       "    .dataframe thead th {\n",
       "        text-align: right;\n",
       "    }\n",
       "</style>\n",
       "<table border=\"1\" class=\"dataframe\">\n",
       "  <thead>\n",
       "    <tr style=\"text-align: right;\">\n",
       "      <th></th>\n",
       "      <th>fecha</th>\n",
       "      <th>categoria</th>\n",
       "      <th>subcategoria</th>\n",
       "      <th>tipo_pago</th>\n",
       "      <th>cantidad</th>\n",
       "      <th>observaciones</th>\n",
       "    </tr>\n",
       "  </thead>\n",
       "  <tbody>\n",
       "    <tr>\n",
       "      <th>0</th>\n",
       "      <td>2018-03-31</td>\n",
       "      <td>Gastos</td>\n",
       "      <td>Comida</td>\n",
       "      <td>Efectivo</td>\n",
       "      <td>30.0</td>\n",
       "      <td>None</td>\n",
       "    </tr>\n",
       "    <tr>\n",
       "      <th>1</th>\n",
       "      <td>2018-03-31</td>\n",
       "      <td>Gastos</td>\n",
       "      <td>Despensa</td>\n",
       "      <td>Efectivo</td>\n",
       "      <td>42.0</td>\n",
       "      <td>Aurrera</td>\n",
       "    </tr>\n",
       "    <tr>\n",
       "      <th>2</th>\n",
       "      <td>2018-04-01</td>\n",
       "      <td>Gastos</td>\n",
       "      <td>Despensa</td>\n",
       "      <td>Tarjeta Bancomer</td>\n",
       "      <td>222.0</td>\n",
       "      <td>Aurrera</td>\n",
       "    </tr>\n",
       "    <tr>\n",
       "      <th>3</th>\n",
       "      <td>2018-04-01</td>\n",
       "      <td>Gastos</td>\n",
       "      <td>Despensa</td>\n",
       "      <td>Tarjeta Bancomer</td>\n",
       "      <td>135.5</td>\n",
       "      <td>Super vegetariano</td>\n",
       "    </tr>\n",
       "    <tr>\n",
       "      <th>4</th>\n",
       "      <td>2018-04-01</td>\n",
       "      <td>Gastos</td>\n",
       "      <td>Mascotas</td>\n",
       "      <td>Efectivo</td>\n",
       "      <td>400.0</td>\n",
       "      <td>Petra vacunas</td>\n",
       "    </tr>\n",
       "  </tbody>\n",
       "</table>\n",
       "</div>"
      ],
      "text/plain": [
       "       fecha categoria subcategoria         tipo_pago  cantidad  \\\n",
       "0 2018-03-31    Gastos       Comida          Efectivo      30.0   \n",
       "1 2018-03-31    Gastos     Despensa          Efectivo      42.0   \n",
       "2 2018-04-01    Gastos     Despensa  Tarjeta Bancomer     222.0   \n",
       "3 2018-04-01    Gastos     Despensa  Tarjeta Bancomer     135.5   \n",
       "4 2018-04-01    Gastos     Mascotas          Efectivo     400.0   \n",
       "\n",
       "       observaciones  \n",
       "0               None  \n",
       "1            Aurrera  \n",
       "2            Aurrera  \n",
       "3  Super vegetariano  \n",
       "4      Petra vacunas  "
      ]
     },
     "execution_count": 7,
     "metadata": {},
     "output_type": "execute_result"
    }
   ],
   "source": [
    "df.head()"
   ]
  },
  {
   "cell_type": "code",
   "execution_count": 11,
   "id": "61906b87-6394-43a8-9517-c5162aaddf7e",
   "metadata": {},
   "outputs": [],
   "source": [
    "# Convert to polars dataframe from query\n",
    "df_pl = conn.sql(q).pl()"
   ]
  },
  {
   "cell_type": "code",
   "execution_count": 12,
   "id": "c868e305-1a51-4d32-be13-c6558aa0c953",
   "metadata": {},
   "outputs": [
    {
     "data": {
      "text/html": [
       "<div><style>\n",
       ".dataframe > thead > tr,\n",
       ".dataframe > tbody > tr {\n",
       "  text-align: right;\n",
       "  white-space: pre-wrap;\n",
       "}\n",
       "</style>\n",
       "<small>shape: (5, 6)</small><table border=\"1\" class=\"dataframe\"><thead><tr><th>fecha</th><th>categoria</th><th>subcategoria</th><th>tipo_pago</th><th>cantidad</th><th>observaciones</th></tr><tr><td>date</td><td>str</td><td>str</td><td>str</td><td>f64</td><td>str</td></tr></thead><tbody><tr><td>2018-03-31</td><td>&quot;Gastos&quot;</td><td>&quot;Comida&quot;</td><td>&quot;Efectivo&quot;</td><td>30.0</td><td>null</td></tr><tr><td>2018-03-31</td><td>&quot;Gastos&quot;</td><td>&quot;Despensa&quot;</td><td>&quot;Efectivo&quot;</td><td>42.0</td><td>&quot;Aurrera&quot;</td></tr><tr><td>2018-04-01</td><td>&quot;Gastos&quot;</td><td>&quot;Despensa&quot;</td><td>&quot;Tarjeta Bancom…</td><td>222.0</td><td>&quot;Aurrera&quot;</td></tr><tr><td>2018-04-01</td><td>&quot;Gastos&quot;</td><td>&quot;Despensa&quot;</td><td>&quot;Tarjeta Bancom…</td><td>135.5</td><td>&quot;Super vegetari…</td></tr><tr><td>2018-04-01</td><td>&quot;Gastos&quot;</td><td>&quot;Mascotas&quot;</td><td>&quot;Efectivo&quot;</td><td>400.0</td><td>&quot;Petra vacunas&quot;</td></tr></tbody></table></div>"
      ],
      "text/plain": [
       "shape: (5, 6)\n",
       "┌────────────┬───────────┬──────────────┬──────────────────┬──────────┬───────────────────┐\n",
       "│ fecha      ┆ categoria ┆ subcategoria ┆ tipo_pago        ┆ cantidad ┆ observaciones     │\n",
       "│ ---        ┆ ---       ┆ ---          ┆ ---              ┆ ---      ┆ ---               │\n",
       "│ date       ┆ str       ┆ str          ┆ str              ┆ f64      ┆ str               │\n",
       "╞════════════╪═══════════╪══════════════╪══════════════════╪══════════╪═══════════════════╡\n",
       "│ 2018-03-31 ┆ Gastos    ┆ Comida       ┆ Efectivo         ┆ 30.0     ┆ null              │\n",
       "│ 2018-03-31 ┆ Gastos    ┆ Despensa     ┆ Efectivo         ┆ 42.0     ┆ Aurrera           │\n",
       "│ 2018-04-01 ┆ Gastos    ┆ Despensa     ┆ Tarjeta Bancomer ┆ 222.0    ┆ Aurrera           │\n",
       "│ 2018-04-01 ┆ Gastos    ┆ Despensa     ┆ Tarjeta Bancomer ┆ 135.5    ┆ Super vegetariano │\n",
       "│ 2018-04-01 ┆ Gastos    ┆ Mascotas     ┆ Efectivo         ┆ 400.0    ┆ Petra vacunas     │\n",
       "└────────────┴───────────┴──────────────┴──────────────────┴──────────┴───────────────────┘"
      ]
     },
     "execution_count": 12,
     "metadata": {},
     "output_type": "execute_result"
    }
   ],
   "source": [
    "df_pl.head()"
   ]
  },
  {
   "cell_type": "code",
   "execution_count": 13,
   "id": "39100c77-6122-4011-b49e-d1b280ac7f70",
   "metadata": {},
   "outputs": [
    {
     "name": "stdout",
     "output_type": "stream",
     "text": [
      "Table already exists in MotherDuck!\n"
     ]
    }
   ],
   "source": [
    "# Upload csv file to motherduck\n",
    "try:\n",
    "    conn.sql(\"CREATE TABLE products AS SELECT * FROM '../Datasets/products.csv'\")\n",
    "except:\n",
    "    print('Table already exists in MotherDuck!')"
   ]
  },
  {
   "cell_type": "code",
   "execution_count": 14,
   "id": "5d4b000a-fcdc-4861-ab0e-3eb9f5fec804",
   "metadata": {},
   "outputs": [],
   "source": [
    "# Close motherduck connection\n",
    "conn.close()"
   ]
  },
  {
   "cell_type": "markdown",
   "id": "4f2ae07d-7388-4115-ad84-e5cc1ff7b9f0",
   "metadata": {},
   "source": [
    "## Contact\n",
    "\n",
    "<!-- Avatar -->\n",
    "<img src=\"../Pictures/profile2.png\" alt=\"me\" width=\"75\" height=\"80\">\n",
    "<!-- Text with color, font, fontsize and specific size -->\n",
    "<p style=\"color:#323232; font-family: Helevetica; font-size: 20px;\">Jesus L. Monroy<br>Economist | Data Scientist</p>\n",
    "<!-- Insert url links in logos -->\n",
    "<!-- Telegram -->\n",
    "<a href=\"https://t.me/j3suslm\" target=\"_blank\" rel=\"noreferrer\"> <img src=\"https://upload.wikimedia.org/wikipedia/commons/thumb/e/ef/Telegram_X_2019_Logo.svg/2048px-Telegram_X_2019_Logo.png?size=16&color=3b3b3b\" alt=\"telegram\" width=\"30\" height=\"22\" style=\"padding-left:8px\"/>\n",
    "<!-- Twitter -->\n",
    "<a href=\"https://www.twitter.com/sqlalchemist\" target=\"_blank\" rel=\"noreferrer\"> <img src=\"https://toppng.com/public/uploads/preview/twitter-x-new-logo-round-icon-png-11692480241tdbz6jparr.webp?size=16&color=3b3b3b\" alt=\"twitter\" width=\"30\" height=\"22\" style=\"padding-left:8px\"/>\n",
    "<!-- Github -->\n",
    "<a href=\"https://github.com/SqlAlchemist/My-portfolio\" target=\"_blank\" rel=\"noreferrer\"> <img src=\"https://icongr.am/devicon/github-original.svg?size=16&color=3b3b3b\" alt=\"github\" width=\"30\" height=\"30\" style=\"padding-left:8px\"/>\n",
    "<!-- Linkedin -->\n",
    "<a href=\"https://www.linkedin.com/in/j3sus-lmonroy\" target=\"_blank\" rel=\"noreferrer\"> <img src=\"https://icongr.am/simple/linkedin.svg?size=16&color=3b3b3b\" alt=\"linkedin\" width=\"30\" height=\"30\" style=\"padding-left:8px\"/>\n",
    "<!-- Medium -->\n",
    "<a href=\"https://medium.com/@jesus_lmonroy\" target=\"_blank\" rel=\"noreferrer\"> <img src=\"https://cdn1.iconfinder.com/data/icons/social-media-and-logos-12/32/Logo_medium-512.png?size=55&color=3b3b3b\" alt=\"medium\" width=\"30\" height=\"33\" style=\"padding-left:8px\"/>"
   ]
  }
 ],
 "metadata": {
  "kernelspec": {
   "display_name": "Python 3 (ipykernel)",
   "language": "python",
   "name": "python3"
  },
  "language_info": {
   "codemirror_mode": {
    "name": "ipython",
    "version": 3
   },
   "file_extension": ".py",
   "mimetype": "text/x-python",
   "name": "python",
   "nbconvert_exporter": "python",
   "pygments_lexer": "ipython3",
   "version": "3.11.0"
  }
 },
 "nbformat": 4,
 "nbformat_minor": 5
}
