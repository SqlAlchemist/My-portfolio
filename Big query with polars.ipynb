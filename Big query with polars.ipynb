{
 "cells": [
  {
   "cell_type": "markdown",
   "id": "a28446c7-26de-4555-a0eb-af341b72cfba",
   "metadata": {
    "id": "a28446c7-26de-4555-a0eb-af341b72cfba",
    "tags": []
   },
   "source": [
    "## Big Query upload with Polars"
   ]
  },
  {
   "cell_type": "markdown",
   "id": "c5f0e9fb-3a2f-4eb3-a07b-484e6121db4b",
   "metadata": {
    "id": "c5f0e9fb-3a2f-4eb3-a07b-484e6121db4b",
    "tags": []
   },
   "source": [
    "### Environment settings"
   ]
  },
  {
   "cell_type": "code",
   "execution_count": 1,
   "id": "97982127-5d81-4eb7-95cc-3f38e4aaa37b",
   "metadata": {
    "id": "97982127-5d81-4eb7-95cc-3f38e4aaa37b"
   },
   "outputs": [],
   "source": [
    "import numpy as np\n",
    "import pandas as pd\n",
    "import polars as pl\n",
    "import gspread\n",
    "import duckdb\n",
    "# Import authenticator and gspread to manage g-sheets\n",
    "from oauth2client.service_account import ServiceAccountCredentials\n",
    "from google.oauth2 import service_account\n",
    "from google.cloud import bigquery\n",
    "import connectorx as cx"
   ]
  },
  {
   "cell_type": "code",
   "execution_count": 2,
   "id": "80740f98-4e9c-4e24-afb9-c324e3d97a79",
   "metadata": {
    "id": "80740f98-4e9c-4e24-afb9-c324e3d97a79"
   },
   "outputs": [],
   "source": [
    "# Create sheets and drive scopes to authenticate\n",
    "scopes = ['https://www.googleapis.com/auth/spreadsheets',\n",
    "        'https://www.googleapis.com/auth/drive',\n",
    "        'https://www.googleapis.com/auth/analytics.readonly']\n",
    "\n",
    "# Read google credentials\n",
    "api = '../APIS/gepp-538-db.json'\n",
    "# connect to google sheets\n",
    "gs_credentials = ServiceAccountCredentials.from_json_keyfile_name(api, scopes)\n",
    "gc = gspread.authorize(gs_credentials)\n",
    "# connect to big query\n",
    "bq_credentials = service_account.Credentials.from_service_account_file(api)\n",
    "project_id = 'gepp-538'\n",
    "client = bigquery.Client(credentials=bq_credentials,project=project_id)"
   ]
  },
  {
   "cell_type": "markdown",
   "id": "2ebac247-7f44-47ac-bde8-51763f6b04c9",
   "metadata": {
    "tags": []
   },
   "source": [
    "### Duckdb"
   ]
  },
  {
   "cell_type": "code",
   "execution_count": 27,
   "id": "34fee2d6-d98c-4f66-ad23-6d8d013064b8",
   "metadata": {},
   "outputs": [],
   "source": [
    "# consulta detallada usuarios\n",
    "mpe_users = pl.read_csv('../usuarios.csv', separator=';', ignore_errors=True)"
   ]
  },
  {
   "cell_type": "code",
   "execution_count": 28,
   "id": "25e66772-1409-43ee-9ff6-6c4802ad01f7",
   "metadata": {},
   "outputs": [
    {
     "data": {
      "text/html": [
       "<div><style>\n",
       ".dataframe > thead > tr > th,\n",
       ".dataframe > tbody > tr > td {\n",
       "  text-align: right;\n",
       "}\n",
       "</style>\n",
       "<small>shape: (2, 2)</small><table border=\"1\" class=\"dataframe\"><thead><tr><th>Origen</th><th>usuarios</th></tr><tr><td>str</td><td>i64</td></tr></thead><tbody><tr><td>&quot;WA&quot;</td><td>765173</td></tr><tr><td>&quot;Ecommerce&quot;</td><td>97913</td></tr></tbody></table></div>"
      ],
      "text/plain": [
       "shape: (2, 2)\n",
       "┌───────────┬──────────┐\n",
       "│ Origen    ┆ usuarios │\n",
       "│ ---       ┆ ---      │\n",
       "│ str       ┆ i64      │\n",
       "╞═══════════╪══════════╡\n",
       "│ WA        ┆ 765173   │\n",
       "│ Ecommerce ┆ 97913    │\n",
       "└───────────┴──────────┘"
      ]
     },
     "execution_count": 28,
     "metadata": {},
     "output_type": "execute_result"
    }
   ],
   "source": [
    "# create sql queries with duckdb\n",
    "# read file with duckdb (csv, parquet, json)\n",
    "duckdb.sql(\n",
    "    '''\n",
    "    SELECT\n",
    "        Origen, COUNT(Nombre) AS usuarios\n",
    "    FROM '../usuarios.csv'\n",
    "    GROUP BY Origen\n",
    "    ORDER BY usuarios DESC\n",
    "    '''\n",
    ").pl() # and pipeline to polars dataframe\n",
    "#others formats include: .pdf() for pandas, .arrow() for arrow, and .fetchnumpy() for numpy arrays"
   ]
  },
  {
   "cell_type": "markdown",
   "id": "8dbd6ca5-bfe0-4baa-99ed-1046128f5bd2",
   "metadata": {},
   "source": [
    "**create files from duckdb queries**\n",
    "* duckdb.sql('SELECT 42').write_parquet('out.parquet') # Write to a Parquet file\n",
    "* duckdb.sql('SELECT 42').write_csv('out.csv')         # Write to a CSV file\n",
    "* duckdb.sql(\"COPY (SELECT 42) TO 'out.parquet'\")      # Copy to a parquet file"
   ]
  },
  {
   "cell_type": "markdown",
   "id": "ff9e8367-2f64-4e7f-b377-90d20fbf0fdc",
   "metadata": {
    "id": "ff9e8367-2f64-4e7f-b377-90d20fbf0fdc",
    "tags": []
   },
   "source": [
    "### MPE"
   ]
  },
  {
   "cell_type": "code",
   "execution_count": 3,
   "id": "505ae143-12d1-4871-89b1-3bd95793e046",
   "metadata": {
    "id": "505ae143-12d1-4871-89b1-3bd95793e046"
   },
   "outputs": [],
   "source": [
    "def mpe_usuarios(url, sheet_name='Cantidades'):\n",
    "    # read file with pandas\n",
    "    df = pd.read_excel(url, sheet_name)\n",
    "    # convert to polars dataframe\n",
    "    df= pl.from_pandas(df)\n",
    "    # rename columns by lower case strings and replacing spaces \n",
    "    df = df.select(\n",
    "        pl.col('*').map_alias(lambda col_name: col_name.lower().replace(' ', '_'))\n",
    "    )\n",
    "    # rename columns\n",
    "    df = df.rename(\n",
    "        {\n",
    "            'usuarios_con_compra': 'usuarios_compra',\n",
    "        }\n",
    "    )\n",
    "    # convert to date\n",
    "    df = df.with_columns(pl.col('fecha').str.strptime(pl.Datetime, strict=False))\n",
    "    return df"
   ]
  },
  {
   "cell_type": "code",
   "execution_count": 4,
   "id": "0162420a-4030-4a42-be2e-53e8b5981edd",
   "metadata": {
    "id": "0162420a-4030-4a42-be2e-53e8b5981edd"
   },
   "outputs": [],
   "source": [
    "def mpe_detalle_usuarios(url, sheet_name='Detalle Usuarios'):\n",
    "    # read file with pandas\n",
    "    df = pd.read_excel(url, sheet_name)\n",
    "    # convert to polars dataframe\n",
    "    df= pl.from_pandas(df)\n",
    "    # rename columns by lower case strings and replacing spaces \n",
    "    df = df.select(\n",
    "        pl.col('*').map_alias(lambda col_name: col_name.lower().replace(' ', '_'))\n",
    "    )\n",
    "    # rename columns\n",
    "    df = df.rename(\n",
    "        {\n",
    "            'teléfono': 'telefono',\n",
    "        }\n",
    "    )\n",
    "    # drop column nombre\n",
    "    df = df.select(pl.exclude('apellidos'))\n",
    "    # convert to str\n",
    "    df = df.with_columns(pl.col('telefono').cast(pl.Utf8))\n",
    "    # convert to date\n",
    "    df = df.with_columns(pl.col('fecha_alta').str.strptime(pl.Datetime, strict=False))\n",
    "    return df"
   ]
  },
  {
   "cell_type": "code",
   "execution_count": 5,
   "id": "ca226d09-8277-4224-ad45-11512dbf57a2",
   "metadata": {
    "id": "ca226d09-8277-4224-ad45-11512dbf57a2"
   },
   "outputs": [],
   "source": [
    "def mpe_pedidos_gral(url, sheet_name='Pedidos General'):\n",
    "    # read file with pandas\n",
    "    df = pd.read_excel(url, sheet_name)\n",
    "    # convert to polars dataframe\n",
    "    df= pl.from_pandas(df)\n",
    "    # rename columns by lower case strings and replacing spaces \n",
    "    df = df.select(\n",
    "        pl.col('*').map_alias(lambda col_name: col_name.lower().replace(' ', '_'))\n",
    "    )\n",
    "    # rename columns\n",
    "    df = df.rename(\n",
    "        {\n",
    "            'origen_de_orden':'origen_orden',\n",
    "            'cantidad_de_productos':'productos',\n",
    "            'total_de_orden':'total_orden',\n",
    "            'fecha_de_pedido':'fecha_pedido',\n",
    "            'hora_de_pedido':'hora_pedido',\n",
    "            'fecha_modificación':'fecha_modificacion',\n",
    "            'hora_modificación':'hora_modificacion',\n",
    "            'ruta_de_entrega':'ruta_entrega',\n",
    "            'teléfono_de_contacto':'telefono_contacto',\n",
    "            'alias_de_dirección':'alias_direccion',\n",
    "            'dirección_completa':'direccion',\n",
    "        }\n",
    "    )\n",
    "    # drop column nombre\n",
    "    df = df.select(pl.exclude('nombre_completo'))\n",
    "    # convert to date\n",
    "    df = df.with_columns(\n",
    "        pl.col(['fecha_pedido','fecha_modificacion','fecha_entrega']\n",
    "              ).str.strptime(pl.Date, format=\"%d-%m-%Y\", strict=False))\n",
    "    # convert to string\n",
    "    df = df.with_columns(\n",
    "        pl.col('telefono_contacto').cast(pl.Utf8, strict=False))\n",
    "\n",
    "    return df"
   ]
  },
  {
   "cell_type": "code",
   "execution_count": 6,
   "id": "fe627727-c216-48f6-aa0b-c09136233eb8",
   "metadata": {
    "id": "fe627727-c216-48f6-aa0b-c09136233eb8"
   },
   "outputs": [],
   "source": [
    "def mpe_pedidos_detalle(url, sheet_name='Pedidos Detalle'):\n",
    "    # read file with pandas\n",
    "    df = pd.read_excel(url, sheet_name)\n",
    "    # convert to polars dataframe\n",
    "    df= pl.from_pandas(df)\n",
    "    # rename columns by lower case strings and replacing spaces \n",
    "    df = df.select(\n",
    "        pl.col('*').map_alias(lambda col_name: col_name.lower().replace(' ', '_'))\n",
    "    )\n",
    "    # rename columns\n",
    "    df = df.rename(\n",
    "        {\n",
    "            'clave_de_producto':'clave_producto',\n",
    "            'clave_de_promoción':'clave_promocion',\n",
    "            'producto(s)':'productos',\n",
    "            'precio_por_unidad':'precio_unidad',\n",
    "            'descuento_por_unidad':'descuento_unidad',\n",
    "        }\n",
    "    )\n",
    "    return df"
   ]
  },
  {
   "cell_type": "code",
   "execution_count": 7,
   "id": "ec73bdec-6f5a-42aa-bd75-b7a60e1e106b",
   "metadata": {
    "colab": {
     "base_uri": "https://localhost:8080/",
     "height": 342
    },
    "executionInfo": {
     "elapsed": 5,
     "status": "error",
     "timestamp": 1683736035125,
     "user": {
      "displayName": "Jesus L",
      "userId": "14694795882299199985"
     },
     "user_tz": 360
    },
    "id": "ec73bdec-6f5a-42aa-bd75-b7a60e1e106b",
    "outputId": "00acec7f-0069-4782-8424-4feb56cc0337"
   },
   "outputs": [],
   "source": [
    "df_mpe_usuarios = mpe_usuarios('../mpe-usuarios.xlsx')"
   ]
  },
  {
   "cell_type": "code",
   "execution_count": 8,
   "id": "6c4a9269-dc00-40ab-8a14-36c9937ee3d5",
   "metadata": {
    "id": "6c4a9269-dc00-40ab-8a14-36c9937ee3d5"
   },
   "outputs": [],
   "source": [
    "df_mpe_detalle_usuarios = mpe_detalle_usuarios('../mpe-usuarios.xlsx')"
   ]
  },
  {
   "cell_type": "code",
   "execution_count": 67,
   "id": "670989d7-fa50-4292-a2c2-15c3aab59855",
   "metadata": {
    "id": "670989d7-fa50-4292-a2c2-15c3aab59855"
   },
   "outputs": [],
   "source": [
    "#df_mpe_pedidos_gral = mpe_pedidos_gral('../mpe-pedidos.xlsx')\n",
    "mpe_gral = pl.read_csv('../MPE_gral.csv', ignore_errors=True)"
   ]
  },
  {
   "cell_type": "code",
   "execution_count": 69,
   "id": "edd58bdb-da6a-4cb7-8233-efaaa480a513",
   "metadata": {},
   "outputs": [],
   "source": [
    "mpe_gral = mpe_gral.with_columns(\n",
    "        pl.col(['Fecha Alta']\n",
    "              ).str.strptime(pl.Date, strict=False))"
   ]
  },
  {
   "cell_type": "code",
   "execution_count": 72,
   "id": "9f78abda-2281-4e0c-b8e4-140a98e0a66c",
   "metadata": {},
   "outputs": [],
   "source": [
    "mpe_gral = mpe_gral.select(\n",
    "        pl.col('*').map_alias(lambda col_name: col_name.lower().replace(' ', '_'))\n",
    "    )"
   ]
  },
  {
   "cell_type": "code",
   "execution_count": 77,
   "id": "0ee9d3cb-d23f-4e77-9a03-4eb2dbc7d3e3",
   "metadata": {},
   "outputs": [],
   "source": [
    "mpe_gral = mpe_gral.rename({\n",
    "    'fecha_modificaci�n':'fecha_modificacion',\n",
    "    'hora_modificaci�n':'hora_modificacion',\n",
    "    'tel�fono_de_contacto':'tel_contacto',\n",
    "    'alias_de_direcci�n':'alias_dir',\n",
    "    'direcci�n_completa':'dir_completa',\n",
    "    'num._mes':'num_ mes',\n",
    "    'a�o':'year',\n",
    "    'mes|a�o':'month',\n",
    "    'id|_cedis':'id_cedis',\n",
    "    'regi�n':'region'\n",
    "})"
   ]
  },
  {
   "cell_type": "code",
   "execution_count": 10,
   "id": "817d96cd-0ef1-4fc1-ad9b-feb1075c347d",
   "metadata": {
    "id": "817d96cd-0ef1-4fc1-ad9b-feb1075c347d"
   },
   "outputs": [],
   "source": [
    "df_mpe_pedidos_detalle = mpe_pedidos_detalle('../mpe-pedidos.xlsx')"
   ]
  },
  {
   "cell_type": "code",
   "execution_count": 11,
   "id": "676749a9-dd66-4a64-9a6c-aa77d4be6a19",
   "metadata": {},
   "outputs": [],
   "source": [
    "# create sql query\n",
    "query = '''\n",
    "    SELECT * FROM `gepp-538.transformation.mpe_catalogo`\n",
    "'''\n",
    "# convert query to pandas dataframe\n",
    "df_mpe_catalogo = pd.read_gbq(query, credentials=bq_credentials)\n",
    "# convert to polars dataframe\n",
    "df_mpe_catalogo = pl.from_pandas(df_mpe_catalogo)"
   ]
  },
  {
   "cell_type": "code",
   "execution_count": 12,
   "id": "CrlPPZ_VqEF2",
   "metadata": {
    "id": "CrlPPZ_VqEF2"
   },
   "outputs": [],
   "source": [
    "# join tables\n",
    "df_mpe_ventas = df_mpe_pedidos_gral.join(df_mpe_pedidos_detalle, on='no_orden', how='left')\n",
    "df_mpe_bodegas = df_mpe_pedidos_gral.join(df_mpe_catalogo, on='id_bodega', how='left')"
   ]
  },
  {
   "cell_type": "code",
   "execution_count": 13,
   "id": "58317a52-33d8-4aac-b5eb-ebf43a38749a",
   "metadata": {},
   "outputs": [],
   "source": [
    "# convert columns to float\n",
    "df_mpe_ventas = df_mpe_ventas.with_columns(\n",
    "    pl.col(['clave_producto','cantidad']).cast(pl.Float64, strict=False)\n",
    ")"
   ]
  },
  {
   "cell_type": "markdown",
   "id": "3f2fb918-b38d-495f-850b-ad5833d5c363",
   "metadata": {
    "id": "3f2fb918-b38d-495f-850b-ad5833d5c363",
    "tags": []
   },
   "source": [
    "### GETM"
   ]
  },
  {
   "cell_type": "code",
   "execution_count": 14,
   "id": "7ce81c3c-6db0-4129-8ecd-eadb86a7df41",
   "metadata": {
    "id": "7ce81c3c-6db0-4129-8ecd-eadb86a7df41"
   },
   "outputs": [],
   "source": [
    "def getm_pedidos_gral(url, sheet_name='Pedidos General'):\n",
    "    # read file with pandas\n",
    "    df = pd.read_excel(url, sheet_name)\n",
    "    # convert to polars dataframe\n",
    "    df= pl.from_pandas(df)\n",
    "    # rename columns by lower case strings and replacing spaces \n",
    "    df = df.select(\n",
    "        pl.col('*').map_alias(lambda col_name: col_name.lower().replace(' ', '_'))\n",
    "    )\n",
    "    # rename columns\n",
    "    df = df.rename(\n",
    "        {\n",
    "            'nombre_de_tienda': 'nombre_tienda',\n",
    "            'ruta_de_desarrollo':'ruta_desarrollo',\n",
    "            'fecha_de_creación':'fecha_creacion',\n",
    "            'hora_de_creación':'hora_creacion',\n",
    "            'fecha_de_modificación':'fecha_modificacion',\n",
    "            'hora_de_modificación':'hora_modificacion',\n",
    "            'total_de_productos':'total_productos',\n",
    "            'fecha_de_despacho':'fecha_despacho',\n",
    "            'hora_de_despacho':'hora_despacho',\n",
    "            'fecha_de_entrega':'fecha_entrega',\n",
    "            'hora_de_entrega':'hora_entrega',\n",
    "        }\n",
    "    )\n",
    "    # drop column nombre\n",
    "    df = df.select(pl.exclude('nombre_del_cliente_registrado'))\n",
    "    # convert to date\n",
    "    df = df.with_columns(\n",
    "        pl.col(['fecha_creacion','fecha_modificacion','fecha_despacho','fecha_entrega','fecha_cancelado',]\n",
    "              ).str.strptime(pl.Datetime, format=\"%d/%m/%Y\", strict=False).cast(pl.Datetime).dt.cast_time_unit('ns')\n",
    ")\n",
    "    # convert str to boolean\n",
    "    df = df.with_columns(pl.col('cancelado').map_dict({'No Cancelado':False, 'Cancelado':True}))\n",
    "    return df"
   ]
  },
  {
   "cell_type": "code",
   "execution_count": 15,
   "id": "43cc9d41-9f33-49d6-9575-66813fff8bad",
   "metadata": {
    "id": "43cc9d41-9f33-49d6-9575-66813fff8bad"
   },
   "outputs": [],
   "source": [
    "def getm_pedidos_detalle(url, sheet_name='Pedidos Detalle'):\n",
    "    # read file with pandas\n",
    "    df = pd.read_excel(url, sheet_name)\n",
    "    # convert to polars dataframe\n",
    "    df= pl.from_pandas(df)\n",
    "    # rename columns by lower case strings and replacing spaces \n",
    "    df = df.select(\n",
    "        pl.col('*').map_alias(lambda col_name: col_name.lower().replace(' ', '_'))\n",
    "    )\n",
    "    # rename columns\n",
    "    df = df.rename(\n",
    "        {\n",
    "            'clave_de_producto':'clave_producto',\n",
    "            'clave_de_promoción':'clave_promocion',\n",
    "            'tipo_de_promoción':'tipo_promocion',\n",
    "            'descripción_de_promoción':'descripcion_promocion',\n",
    "            'producto(s)':'productos',\n",
    "            'precio_por_unidad':'precio_unidad',\n",
    "            'descuento_por_unidad':'descuento_unidad',\n",
    "        }\n",
    "    )\n",
    "    # convert str to boolean\n",
    "    df = df.with_columns(pl.col('cancelado').map_dict({'No Cancelado':False, 'Cancelado':True}))\n",
    "    return df"
   ]
  },
  {
   "cell_type": "code",
   "execution_count": 16,
   "id": "07bebb35-d777-404d-ad4d-c28acc9bbab5",
   "metadata": {
    "id": "07bebb35-d777-404d-ad4d-c28acc9bbab5"
   },
   "outputs": [],
   "source": [
    "# Access GETM push notifications worksheet by url\n",
    "sheet_id = '1STkVkyDdCjEtTAgMOWbptf8oRqUBMPRV1ufi-fuY8xk'\n",
    "workbook = gc.open_by_key(sheet_id)\n",
    "# Access data by worksheet sheet number\n",
    "getm_push = workbook.worksheet('Push Notifications')\n",
    "# Save data to table\n",
    "getm_values_push = getm_push.get_all_values()\n",
    "# Save accessed data from google sheets to dataframes\n",
    "getm_push = pd.DataFrame(getm_values_push[1:],columns=getm_values_push[0])\n",
    "# drop irrelevant columns\n",
    "getm_push = getm_push.drop(['Año','Mes','Proyecto','Publicación','Caracteres','Espacios','Tipo','ID'],\n",
    "    axis=1)"
   ]
  },
  {
   "cell_type": "code",
   "execution_count": 17,
   "id": "fbd04a39-3b3a-41b4-913b-c77379748194",
   "metadata": {
    "id": "fbd04a39-3b3a-41b4-913b-c77379748194"
   },
   "outputs": [],
   "source": [
    "# GETM push notifications\n",
    "# convert to lowercase\n",
    "getm_push.columns = getm_push.columns.str.lower()\n",
    "# convert to datetime\n",
    "getm_push['fecha'] = getm_push['fecha'].apply(pd.to_datetime, dayfirst=True)\n",
    "# replace \",\" with noaught and convert to numeric\n",
    "getm_push['clientes'] = getm_push['clientes'].str.replace(',', '', regex=True).apply(pd.to_numeric)\n",
    "# rename columns\n",
    "getm_push = getm_push.rename(columns={'categorias':'categoria','área':'area'})\n",
    "# drop empty rows\n",
    "getm_push.dropna(subset=['fecha'], inplace=True)"
   ]
  },
  {
   "cell_type": "code",
   "execution_count": 18,
   "id": "b73d3c93-546b-4277-a1df-160454b4edee",
   "metadata": {
    "id": "b73d3c93-546b-4277-a1df-160454b4edee"
   },
   "outputs": [],
   "source": [
    "df_getm_pedidos_gral = getm_pedidos_gral('../getm.xlsx')"
   ]
  },
  {
   "cell_type": "code",
   "execution_count": 19,
   "id": "QcEkemFE6vR8",
   "metadata": {
    "id": "QcEkemFE6vR8"
   },
   "outputs": [],
   "source": [
    "df_getm_pedidos_detalle = getm_pedidos_detalle('../getm.xlsx')"
   ]
  },
  {
   "cell_type": "markdown",
   "id": "b19e7d5c-7a2b-4fac-8ba0-54fe9f989e5d",
   "metadata": {
    "id": "b19e7d5c-7a2b-4fac-8ba0-54fe9f989e5d",
    "tags": []
   },
   "source": [
    "### Upload to Big Query"
   ]
  },
  {
   "cell_type": "markdown",
   "id": "e25422ad-2623-4f75-892d-b62f5ab58e2f",
   "metadata": {},
   "source": [
    "**MPE**"
   ]
  },
  {
   "cell_type": "code",
   "execution_count": null,
   "id": "fc915762-d5d4-4c16-860d-8297dff785f4",
   "metadata": {},
   "outputs": [
    {
     "name": "stderr",
     "output_type": "stream",
     "text": [
      "100%|███████████████████████████████████████████| 1/1 [00:00<00:00, 5282.50it/s]\n"
     ]
    }
   ],
   "source": [
    "#mpe_users = mpe_users.to_pandas()\n",
    "#mpe_users.to_gbq('gepp-538.transformation.mpe_users',\n",
    "#                    project_id='gepp-538',\n",
    "#                    if_exists='replace',\n",
    "#                    credentials=bq_credentials)"
   ]
  },
  {
   "cell_type": "code",
   "execution_count": 79,
   "id": "dc3bb4a6-9c09-49e9-b70a-c951b292d1e3",
   "metadata": {},
   "outputs": [
    {
     "name": "stderr",
     "output_type": "stream",
     "text": [
      "100%|███████████████████████████████████████████| 1/1 [00:00<00:00, 5412.01it/s]\n"
     ]
    }
   ],
   "source": [
    "#mpe_gral = mpe_gral.to_pandas()\n",
    "#mpe_gral.to_gbq('gepp-538.transformation.mpe_nvo',\n",
    "#                    project_id='gepp-538',\n",
    "#                    if_exists='replace',\n",
    "#                    credentials=bq_credentials)"
   ]
  },
  {
   "cell_type": "code",
   "execution_count": 20,
   "id": "a3967d0a-1e89-422b-a44e-54007c9449f6",
   "metadata": {
    "colab": {
     "base_uri": "https://localhost:8080/"
    },
    "executionInfo": {
     "elapsed": 4109,
     "status": "ok",
     "timestamp": 1683558847880,
     "user": {
      "displayName": "Jesus L",
      "userId": "14694795882299199985"
     },
     "user_tz": 360
    },
    "id": "a3967d0a-1e89-422b-a44e-54007c9449f6",
    "outputId": "3010fb72-d101-47f9-d059-a98b3e585c63"
   },
   "outputs": [
    {
     "name": "stderr",
     "output_type": "stream",
     "text": [
      "100%|███████████████████████████████████████████| 1/1 [00:00<00:00, 4369.07it/s]\n"
     ]
    }
   ],
   "source": [
    "df_mpe_usuarios = df_mpe_usuarios.to_pandas()\n",
    "df_mpe_usuarios.to_gbq('gepp-538.transformation.mpe_usuarios',\n",
    "                    project_id='gepp-538',\n",
    "                    if_exists='append',\n",
    "                    credentials=bq_credentials)"
   ]
  },
  {
   "cell_type": "code",
   "execution_count": 21,
   "id": "b95d586a-1255-4fb1-90ba-6ff629be02ba",
   "metadata": {
    "colab": {
     "base_uri": "https://localhost:8080/"
    },
    "executionInfo": {
     "elapsed": 4003,
     "status": "ok",
     "timestamp": 1683560027059,
     "user": {
      "displayName": "Jesus L",
      "userId": "14694795882299199985"
     },
     "user_tz": 360
    },
    "id": "b95d586a-1255-4fb1-90ba-6ff629be02ba",
    "outputId": "dc4c28d9-42d6-4822-b5c6-4330cefc8e33"
   },
   "outputs": [
    {
     "name": "stderr",
     "output_type": "stream",
     "text": [
      "100%|███████████████████████████████████████████| 1/1 [00:00<00:00, 2906.66it/s]\n"
     ]
    }
   ],
   "source": [
    "df_mpe_detalle_usuarios = df_mpe_detalle_usuarios.to_pandas()\n",
    "df_mpe_detalle_usuarios.to_gbq('gepp-538.transformation.mpe_usuarios_detalles',\n",
    "                    project_id='gepp-538',\n",
    "                    if_exists='append',\n",
    "                    credentials=bq_credentials)"
   ]
  },
  {
   "cell_type": "code",
   "execution_count": 22,
   "id": "d6ac9b44-ac9b-4d97-874d-44071cf08d41",
   "metadata": {
    "colab": {
     "base_uri": "https://localhost:8080/"
    },
    "executionInfo": {
     "elapsed": 4709,
     "status": "ok",
     "timestamp": 1683558900405,
     "user": {
      "displayName": "Jesus L",
      "userId": "14694795882299199985"
     },
     "user_tz": 360
    },
    "id": "d6ac9b44-ac9b-4d97-874d-44071cf08d41",
    "outputId": "2a56a884-c17f-49bd-e50d-4e8b5225809d"
   },
   "outputs": [
    {
     "name": "stderr",
     "output_type": "stream",
     "text": [
      "100%|███████████████████████████████████████████| 1/1 [00:00<00:00, 7194.35it/s]\n"
     ]
    }
   ],
   "source": [
    "df_mpe_pedidos_gral = df_mpe_pedidos_gral.to_pandas()\n",
    "df_mpe_pedidos_gral.to_gbq('gepp-538.transformation.mpe_general',\n",
    "                    project_id='gepp-538',\n",
    "                    if_exists='append',\n",
    "                    credentials=bq_credentials)"
   ]
  },
  {
   "cell_type": "code",
   "execution_count": 23,
   "id": "32634abe-f7b4-47df-9ddd-6308e1012f83",
   "metadata": {},
   "outputs": [
    {
     "name": "stderr",
     "output_type": "stream",
     "text": [
      "100%|███████████████████████████████████████████| 1/1 [00:00<00:00, 8355.19it/s]\n"
     ]
    }
   ],
   "source": [
    "df_mpe_pedidos_detalle = df_mpe_pedidos_detalle.to_pandas()\n",
    "df_mpe_pedidos_detalle.to_gbq('gepp-538.transformation.mpe_detalle',\n",
    "                    project_id='gepp-538',\n",
    "                    if_exists='append',\n",
    "                    credentials=bq_credentials)"
   ]
  },
  {
   "cell_type": "code",
   "execution_count": 24,
   "id": "D2IR7mnsoAfc",
   "metadata": {
    "colab": {
     "base_uri": "https://localhost:8080/"
    },
    "executionInfo": {
     "elapsed": 18231,
     "status": "ok",
     "timestamp": 1683738447952,
     "user": {
      "displayName": "Jesus L",
      "userId": "14694795882299199985"
     },
     "user_tz": 360
    },
    "id": "D2IR7mnsoAfc",
    "outputId": "c7001f5a-ef78-4706-c291-69113e5f4129"
   },
   "outputs": [
    {
     "name": "stderr",
     "output_type": "stream",
     "text": [
      "100%|███████████████████████████████████████████| 1/1 [00:00<00:00, 6978.88it/s]\n"
     ]
    }
   ],
   "source": [
    "df_mpe_ventas = df_mpe_ventas.to_pandas()\n",
    "df_mpe_ventas.to_gbq('gepp-538.transformation.mpe_ventas',\n",
    "                  project_id='gepp-538',\n",
    "                  if_exists='append',\n",
    "                  credentials=bq_credentials\n",
    "                  )"
   ]
  },
  {
   "cell_type": "code",
   "execution_count": 25,
   "id": "PZdwaEI4ow1J",
   "metadata": {
    "colab": {
     "base_uri": "https://localhost:8080/"
    },
    "executionInfo": {
     "elapsed": 13516,
     "status": "ok",
     "timestamp": 1683738797739,
     "user": {
      "displayName": "Jesus L",
      "userId": "14694795882299199985"
     },
     "user_tz": 360
    },
    "id": "PZdwaEI4ow1J",
    "outputId": "3234c55b-133b-4fdb-d483-9bc47ce6a545"
   },
   "outputs": [
    {
     "name": "stderr",
     "output_type": "stream",
     "text": [
      "100%|██████████████████████████████████████████| 1/1 [00:00<00:00, 14122.24it/s]\n"
     ]
    }
   ],
   "source": [
    "df_mpe_bodegas = df_mpe_bodegas.to_pandas()\n",
    "df_mpe_bodegas.to_gbq('gepp-538.transformation.mpe_bodegas',\n",
    "                  project_id='gepp-538',\n",
    "                  if_exists='append',\n",
    "                  credentials=bq_credentials\n",
    "                  )"
   ]
  },
  {
   "cell_type": "markdown",
   "id": "deb6f859-4eb4-4a62-b1e7-82aaaf77b3ab",
   "metadata": {},
   "source": [
    "**GETM**"
   ]
  },
  {
   "cell_type": "code",
   "execution_count": 26,
   "id": "ccac262e-edfb-450f-88e6-1f4d81847cd3",
   "metadata": {
    "colab": {
     "base_uri": "https://localhost:8080/"
    },
    "executionInfo": {
     "elapsed": 4819,
     "status": "ok",
     "timestamp": 1683560532820,
     "user": {
      "displayName": "Jesus L",
      "userId": "14694795882299199985"
     },
     "user_tz": 360
    },
    "id": "ccac262e-edfb-450f-88e6-1f4d81847cd3",
    "outputId": "806a7a5c-8393-4cf7-aba4-ef24313b6a45"
   },
   "outputs": [
    {
     "name": "stderr",
     "output_type": "stream",
     "text": [
      "100%|███████████████████████████████████████████| 1/1 [00:00<00:00, 7244.05it/s]\n"
     ]
    }
   ],
   "source": [
    "df_getm_pedidos_gral = df_getm_pedidos_gral.to_pandas()\n",
    "df_getm_pedidos_gral.to_gbq('gepp-538.transformation.getm_general',\n",
    "                    project_id='gepp-538',\n",
    "                    if_exists='append',\n",
    "                    credentials=bq_credentials)"
   ]
  },
  {
   "cell_type": "code",
   "execution_count": 27,
   "id": "5014da16-a6a5-4ada-b60c-425416652c0d",
   "metadata": {
    "colab": {
     "base_uri": "https://localhost:8080/"
    },
    "executionInfo": {
     "elapsed": 3996,
     "status": "ok",
     "timestamp": 1683560539677,
     "user": {
      "displayName": "Jesus L",
      "userId": "14694795882299199985"
     },
     "user_tz": 360
    },
    "id": "5014da16-a6a5-4ada-b60c-425416652c0d",
    "outputId": "416a2bd8-047c-469c-b5e7-09f3051318d3"
   },
   "outputs": [
    {
     "name": "stderr",
     "output_type": "stream",
     "text": [
      "100%|██████████████████████████████████████████| 1/1 [00:00<00:00, 12985.46it/s]\n"
     ]
    }
   ],
   "source": [
    "df_getm_pedidos_detalle = df_getm_pedidos_detalle.to_pandas()\n",
    "df_getm_pedidos_detalle.to_gbq('gepp-538.transformation.getm_detalle',\n",
    "                    project_id='gepp-538',\n",
    "                    if_exists='append',\n",
    "                    credentials=bq_credentials)"
   ]
  },
  {
   "cell_type": "code",
   "execution_count": 28,
   "id": "4686453b-56b9-4ea0-beb2-c44950f7b594",
   "metadata": {
    "colab": {
     "base_uri": "https://localhost:8080/"
    },
    "executionInfo": {
     "elapsed": 4309,
     "status": "ok",
     "timestamp": 1683558916276,
     "user": {
      "displayName": "Jesus L",
      "userId": "14694795882299199985"
     },
     "user_tz": 360
    },
    "id": "4686453b-56b9-4ea0-beb2-c44950f7b594",
    "outputId": "a2f5827d-212c-41b4-d19c-574d172ce60c"
   },
   "outputs": [
    {
     "name": "stderr",
     "output_type": "stream",
     "text": [
      "100%|███████████████████████████████████████████| 1/1 [00:00<00:00, 6754.11it/s]\n"
     ]
    }
   ],
   "source": [
    "getm_push.to_gbq('gepp-538.transformation.getm_push_notifications',\n",
    "                  project_id='gepp-538',\n",
    "                  if_exists='replace',\n",
    "                  credentials=bq_credentials\n",
    "                  )"
   ]
  },
  {
   "cell_type": "markdown",
   "id": "929af351-f550-4adf-8cde-990297173916",
   "metadata": {
    "id": "929af351-f550-4adf-8cde-990297173916",
    "tags": []
   },
   "source": [
    "### Retrieve datasets from Big Query"
   ]
  },
  {
   "cell_type": "code",
   "execution_count": null,
   "id": "85e9fba0-e198-4a9a-8a56-93ea6b4f5a64",
   "metadata": {
    "id": "85e9fba0-e198-4a9a-8a56-93ea6b4f5a64"
   },
   "outputs": [],
   "source": [
    "# create sql query\n",
    "query = '''\n",
    "    SELECT * FROM `gepp-538.transformation.mpe_catalogo`\n",
    "'''\n",
    "# convert query to pandas dataframe\n",
    "mpe_catalogo = pd.read_gbq(query, credentials=bq_credentials)"
   ]
  },
  {
   "cell_type": "markdown",
   "id": "c99e277e-5cd6-4b42-ab8f-78e4632cd3eb",
   "metadata": {},
   "source": [
    "## Contact\n",
    "\n",
    "<!-- Avatar -->\n",
    "<img src=\"../Pictures/profile2.png\" alt=\"me\" width=\"75\" height=\"80\">\n",
    "<!-- Text with color, font, fontsize and specific size -->\n",
    "<p style=\"color:#323232; font-family: Helevetica; font-size: 20px;\">Jesus L. Monroy<br>Economist | Data Scientist</p>\n",
    "<!-- Insert url links in logos -->\n",
    "<!-- Telegram -->\n",
    "<a href=\"https://t.me/j3suslm\" target=\"_blank\" rel=\"noreferrer\"> <img src=\"https://upload.wikimedia.org/wikipedia/commons/thumb/e/ef/Telegram_X_2019_Logo.svg/2048px-Telegram_X_2019_Logo.png?size=16&color=3b3b3b\" alt=\"telegram\" width=\"30\" height=\"22\" style=\"padding-left:8px\"/>\n",
    "<!-- Twitter -->\n",
    "<a href=\"https://www.twitter.com/sqlalchemist\" target=\"_blank\" rel=\"noreferrer\"> <img src=\"https://toppng.com/public/uploads/preview/twitter-x-new-logo-round-icon-png-11692480241tdbz6jparr.webp?size=16&color=3b3b3b\" alt=\"twitter\" width=\"30\" height=\"22\" style=\"padding-left:8px\"/>\n",
    "<!-- Github -->\n",
    "<a href=\"https://github.com/SqlAlchemist/My-portfolio\" target=\"_blank\" rel=\"noreferrer\"> <img src=\"https://icongr.am/devicon/github-original.svg?size=16&color=3b3b3b\" alt=\"github\" width=\"30\" height=\"30\" style=\"padding-left:8px\"/>\n",
    "<!-- Linkedin -->\n",
    "<a href=\"https://www.linkedin.com/in/j3sus-lmonroy\" target=\"_blank\" rel=\"noreferrer\"> <img src=\"https://icongr.am/simple/linkedin.svg?size=16&color=3b3b3b\" alt=\"linkedin\" width=\"30\" height=\"30\" style=\"padding-left:8px\"/>\n",
    "<!-- Medium -->\n",
    "<a href=\"https://medium.com/@jesus_lmonroy\" target=\"_blank\" rel=\"noreferrer\"> <img src=\"https://cdn1.iconfinder.com/data/icons/social-media-and-logos-12/32/Logo_medium-512.png?size=55&color=3b3b3b\" alt=\"medium\" width=\"30\" height=\"33\" style=\"padding-left:8px\"/>"
   ]
  }
 ],
 "metadata": {
  "colab": {
   "provenance": []
  },
  "kernelspec": {
   "display_name": "Python 3 (ipykernel)",
   "language": "python",
   "name": "python3"
  },
  "language_info": {
   "codemirror_mode": {
    "name": "ipython",
    "version": 3
   },
   "file_extension": ".py",
   "mimetype": "text/x-python",
   "name": "python",
   "nbconvert_exporter": "python",
   "pygments_lexer": "ipython3",
   "version": "3.11.5"
  }
 },
 "nbformat": 4,
 "nbformat_minor": 5
}
