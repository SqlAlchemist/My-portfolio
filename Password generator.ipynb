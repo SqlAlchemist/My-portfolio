{
 "cells": [
  {
   "cell_type": "markdown",
   "id": "22fffd91-56ca-4105-a684-b2a996e60394",
   "metadata": {},
   "source": [
    "# Password generator with Python"
   ]
  },
  {
   "cell_type": "markdown",
   "id": "7da85534-93e3-4035-9d5a-2607c73f4712",
   "metadata": {},
   "source": [
    "## Environment settings"
   ]
  },
  {
   "cell_type": "code",
   "execution_count": 1,
   "id": "c8035766-6c04-494b-9ea4-ce2c7aeec772",
   "metadata": {
    "tags": []
   },
   "outputs": [],
   "source": [
    "# import libraries\n",
    "import random, string"
   ]
  },
  {
   "cell_type": "code",
   "execution_count": 2,
   "id": "d59e3311-3a50-429d-97cc-d6805925526e",
   "metadata": {
    "tags": []
   },
   "outputs": [],
   "source": [
    "# include uppercase and lowercase letters, digits and special characters\n",
    "characters = string.ascii_letters + string.digits + string.punctuation"
   ]
  },
  {
   "cell_type": "code",
   "execution_count": 3,
   "id": "0eeb2426-7c4d-4af6-bd6b-b07799c42360",
   "metadata": {
    "tags": []
   },
   "outputs": [
    {
     "name": "stdin",
     "output_type": "stream",
     "text": [
      "How many passwords do you want to generate?  1\n",
      "Provide the password length:  10\n",
      "How many digits do you want to include?  2\n",
      "How many special characters do you want to include?  2\n"
     ]
    }
   ],
   "source": [
    "# ask to user for parameters\n",
    "number_of_passwords = int(input(\"How many passwords do you want to generate? \"))\n",
    "password_length = int(input(\"Provide the password length: \"))\n",
    "number_of_digits = int(input(\"How many digits do you want to include? \"))\n",
    "number_of_punctuation_characters = int(input(\"How many special characters do you want to include? \"))\n",
    "\n",
    "for password_index in range(number_of_passwords):\n",
    "    password = \"\"\n",
    "\n",
    "    for digits_index in range(number_of_digits):\n",
    "        password = password + random.choice(string.digits)\n",
    "\n",
    "    for punctuation_index in range(number_of_punctuation_characters):\n",
    "        password = password + random.choice(string.punctuation)\n",
    "\n",
    "    for index in range(password_length - number_of_digits - number_of_punctuation_characters):\n",
    "        password = password + random.choice(string.ascii_letters)\n",
    "\n",
    "# create function to randomly choice characters place\n",
    "def randomize_password(password):\n",
    "    password_list = list(password)\n",
    "    random.shuffle(password_list)\n",
    "    return \"\".join(password_list)"
   ]
  },
  {
   "cell_type": "code",
   "execution_count": 4,
   "id": "3edeb336-959c-456a-8027-b55b16254c5e",
   "metadata": {
    "tags": []
   },
   "outputs": [
    {
     "name": "stdout",
     "output_type": "stream",
     "text": [
      "Password 1: Zxo54'SS_h\n"
     ]
    }
   ],
   "source": [
    "print(\"Password {}: {}\".format(password_index+1, randomize_password(password)))"
   ]
  },
  {
   "cell_type": "markdown",
   "id": "3a8ded8a-ef05-49bb-b609-7cf469758be4",
   "metadata": {},
   "source": [
    "---"
   ]
  },
  {
   "cell_type": "markdown",
   "id": "129b7ed2-bbb8-40f4-94fe-68b4ba57cd14",
   "metadata": {
    "tags": []
   },
   "source": [
    "## Contact\n",
    "Jesus Lopez\n",
    "\n",
    "[Linkedin](www.linkedin.com/in/j3sus-lopez) | ✉️ [email](mailto:jlmonroy01@gmail.com?subject=Information%20request%20) | ©️ 2023"
   ]
  }
 ],
 "metadata": {
  "kernelspec": {
   "display_name": "Python 3 (ipykernel)",
   "language": "python",
   "name": "python3"
  },
  "language_info": {
   "codemirror_mode": {
    "name": "ipython",
    "version": 3
   },
   "file_extension": ".py",
   "mimetype": "text/x-python",
   "name": "python",
   "nbconvert_exporter": "python",
   "pygments_lexer": "ipython3",
   "version": "3.9.17"
  }
 },
 "nbformat": 4,
 "nbformat_minor": 5
}
