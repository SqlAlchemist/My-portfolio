{
 "cells": [
  {
   "cell_type": "markdown",
   "metadata": {
    "cell_id": "3b38508cfeb54ca6bdbd84684b95c631",
    "deepnote_cell_type": "markdown",
    "id": "GrkrFTKV6YtG"
   },
   "source": [
    "> ## Google Analytics reports\n",
    ">\n",
    "> [Connection reference](https://janakiev.com/blog/python-google-analytics/)\n",
    "> [Markdown basics](https://www.markdownguide.org/basic-syntax/)"
   ]
  },
  {
   "cell_type": "markdown",
   "metadata": {
    "cell_id": "1ee9d50a3c9d486bb556e52853b80cfb",
    "deepnote_cell_type": "markdown",
    "id": "2IfbUG-F6YtK"
   },
   "source": [
    "**Environment settigs**"
   ]
  },
  {
   "cell_type": "code",
   "execution_count": 1,
   "metadata": {
    "cell_id": "8e6ced7d64024c7d8421cb1407645a4c",
    "deepnote_cell_type": "code",
    "deepnote_to_be_reexecuted": false,
    "executionInfo": {
     "elapsed": 405,
     "status": "ok",
     "timestamp": 1683743891076,
     "user": {
      "displayName": "Jesus L",
      "userId": "14694795882299199985"
     },
     "user_tz": 360
    },
    "execution_millis": 1606,
    "execution_start": 1683307914601,
    "id": "C_fe9Fmf6YtL",
    "source_hash": "63298fc2",
    "tags": []
   },
   "outputs": [],
   "source": [
    "#load Libraries\n",
    "import numpy as np\n",
    "import pandas as pd\n",
    "import pandas_gbq\n",
    "import gspread\n",
    "import polars as pl\n",
    "import duckdb\n",
    "from google.cloud import bigquery\n",
    "from oauth2client.service_account import ServiceAccountCredentials\n",
    "from google.oauth2 import service_account\n",
    "from googleapiclient.discovery import build\n",
    "from mega import Mega"
   ]
  },
  {
   "cell_type": "code",
   "execution_count": 6,
   "metadata": {
    "cell_id": "42f97dfeda614154b1adeec7cb11874a",
    "deepnote_cell_type": "code",
    "deepnote_to_be_reexecuted": false,
    "executionInfo": {
     "elapsed": 318,
     "status": "ok",
     "timestamp": 1683743171608,
     "user": {
      "displayName": "Jesus L",
      "userId": "14694795882299199985"
     },
     "user_tz": 360
    },
    "execution_millis": 3,
    "execution_start": 1683307924844,
    "id": "MN0rytyv6YtM",
    "source_hash": "2968acd"
   },
   "outputs": [],
   "source": [
    "# create function to send data to gsheets\n",
    "def save_to_gsheets(df, sheet_name, worksheet_name):\n",
    "    client = gspread.service_account(api)\n",
    "    sheet = client.open(sheet_name)    \n",
    "    worksheet = sheet.worksheet(worksheet_name)\n",
    "    \n",
    "    # convertimos el tipo de las columnas que sean datetime a string\n",
    "    for column in df.columns[df.dtypes == 'datetime64[ns]']:\n",
    "        df[column] = df[column].astype(str)\n",
    "\n",
    "    # reemplazamos valores NaN por strings vacíos\n",
    "    worksheet.update([df.columns.values.tolist()] + df.fillna('').values.tolist())\n",
    "\n",
    "    print(f'DataFrame uploaded to: {sheet_name}, {worksheet_name}')"
   ]
  },
  {
   "cell_type": "markdown",
   "metadata": {
    "cell_id": "b725849babf243eebfe265d124bcca0d",
    "deepnote_cell_type": "markdown",
    "id": "aGlPC87C6YtN"
   },
   "source": [
    "**Pull data from Analytics**"
   ]
  },
  {
   "cell_type": "code",
   "execution_count": 9,
   "metadata": {
    "cell_id": "b45e76fb732145c5a75a39770de5dac0",
    "deepnote_cell_type": "code",
    "deepnote_to_be_reexecuted": false,
    "executionInfo": {
     "elapsed": 1952,
     "status": "ok",
     "timestamp": 1683743512191,
     "user": {
      "displayName": "Jesus L",
      "userId": "14694795882299199985"
     },
     "user_tz": 360
    },
    "execution_millis": 44,
    "execution_start": 1683308118075,
    "id": "s3whGuam6YtN",
    "source_hash": "11a2ca40"
   },
   "outputs": [],
   "source": [
    "getm_view_id = '219175238' # GETM - ecommerce (prod)\n",
    "mpe_view_id = '109327488' # Mi pedido epura app (master)\n",
    "api = '../APIs/gepp-538-db.json'\n",
    "scopes = ['https://www.googleapis.com/auth/spreadsheets',\n",
    "        'https://www.googleapis.com/auth/drive',\n",
    "        'https://www.googleapis.com/auth/analytics.readonly']\n",
    "# connect to google sheets\n",
    "gs_credentials = ServiceAccountCredentials.from_json_keyfile_name(api, scopes)\n",
    "gc = gspread.authorize(gs_credentials)\n",
    "# connect to big query\n",
    "bq_credentials = service_account.Credentials.from_service_account_file(api)\n",
    "project_id = 'gepp-538'\n",
    "client = bigquery.Client(credentials=bq_credentials,project=project_id)\n",
    "# connect to analytics service\n",
    "service = build('analyticsreporting','v4',credentials=gs_credentials)"
   ]
  },
  {
   "cell_type": "code",
   "execution_count": 10,
   "metadata": {
    "cell_id": "4eac9abad77f46febee53dc6cf4831e2",
    "deepnote_cell_type": "code",
    "deepnote_to_be_reexecuted": false,
    "executionInfo": {
     "elapsed": 6,
     "status": "ok",
     "timestamp": 1683743537999,
     "user": {
      "displayName": "Jesus L",
      "userId": "14694795882299199985"
     },
     "user_tz": 360
    },
    "execution_millis": 1,
    "execution_start": 1683308128464,
    "id": "9KH3Z6fG6YtP",
    "source_hash": "54ad81b4"
   },
   "outputs": [],
   "source": [
    "def create_df(response):\n",
    "\n",
    "    #create two empty lists that will hold our dimentions and sessions data\n",
    "    row_list = []\n",
    "  \n",
    "    #Extract Data\n",
    "    for report in response.get('reports', []):\n",
    "        column_header = report.get('columnHeader', {})\n",
    "        dimension_headers = column_header.get('dimensions', [])\n",
    "        metric_headers = column_header.get('metricHeader', {}).get('metricHeaderEntries', [])\n",
    "  \n",
    "        for row in report.get('data', {}).get('rows', []):\n",
    "            row_dict = {}\n",
    "            dimensions = row.get('dimensions', [])\n",
    "            date_range_values = row.get('metrics', [])\n",
    "  \n",
    "            for header, dimension in zip(dimension_headers, dimensions):\n",
    "                row_dict[header] = dimension\n",
    "  \n",
    "            for i, values in enumerate(date_range_values):\n",
    "                for metric, value in zip(metric_headers, values.get('values')):\n",
    "                    if ',' in value or '.' in value:\n",
    "                        row_dict[metric.get('name')] = float(value)\n",
    "                    else:\n",
    "                        row_dict[metric.get('name')] = int(value)\n",
    "            row_list.append(row_dict)\n",
    "    return pd.DataFrame(row_list)"
   ]
  },
  {
   "cell_type": "markdown",
   "metadata": {
    "cell_id": "29cc6283a3e044aa91e0906c7c877faf",
    "deepnote_cell_type": "markdown",
    "id": "v2XRvxYU6YtQ"
   },
   "source": [
    "### General query\n",
    "(Date, users, newUsers, sessions, bounceRate, pageviews, etc)"
   ]
  },
  {
   "cell_type": "code",
   "execution_count": 7,
   "metadata": {
    "cell_id": "8db0acabeb6a4cbba654812e8994db6a",
    "deepnote_cell_type": "code",
    "deepnote_to_be_reexecuted": false,
    "executionInfo": {
     "elapsed": 315,
     "status": "ok",
     "timestamp": 1683743542296,
     "user": {
      "displayName": "Jesus L",
      "userId": "14694795882299199985"
     },
     "user_tz": 360
    },
    "execution_millis": 0,
    "execution_start": 1683310404278,
    "id": "ctLKnHkZ6YtR",
    "source_hash": "ce0ab4d9"
   },
   "outputs": [],
   "source": [
    "# view id\n",
    "view_id = getm_view_id #mpe_view_id\n",
    "# add start and end dates\n",
    "inicio = '30daysago'\n",
    "fin = 'yesterday'\n",
    "# add query parameters\n",
    "dimension = 'ga:date'\n",
    "metric1 = 'ga:users'\n",
    "metric2 = 'ga:newUsers'\n",
    "metric3 = 'ga:sessions'\n",
    "metric4 = 'ga:bounceRate'\n",
    "metric5 = 'ga:pageviews'\n",
    "metric6 = 'ga:pageviewsPerSession'\n",
    "metric7 = 'ga:avgSessionDuration'\n",
    "metric8 = 'ga:avgPageLoadTime'"
   ]
  },
  {
   "cell_type": "code",
   "execution_count": 8,
   "metadata": {
    "cell_id": "6290cd5b960c42cfa469bba90b110507",
    "deepnote_cell_type": "code",
    "deepnote_to_be_reexecuted": false,
    "executionInfo": {
     "elapsed": 624,
     "status": "ok",
     "timestamp": 1683743545780,
     "user": {
      "displayName": "Jesus L",
      "userId": "14694795882299199985"
     },
     "user_tz": 360
    },
    "execution_millis": 159,
    "execution_start": 1683310406035,
    "id": "yb9qqBu06YtS",
    "source_hash": "b70b7cc5"
   },
   "outputs": [],
   "source": [
    "# execute query\n",
    "response = service.reports().batchGet(\n",
    "body={\n",
    "        'reportRequests': [\n",
    "            {\n",
    "                'viewId': view_id,\n",
    "                'dateRanges': [{'startDate': inicio, 'endDate': fin}],\n",
    "                            'metrics': [\n",
    "                                        {'expression': metric1},\n",
    "                                        {'expression': metric2},\n",
    "                                        {'expression': metric3},\n",
    "                                        {'expression': metric4},\n",
    "                                        {'expression': metric5},\n",
    "                                        {'expression': metric6},\n",
    "                                        {'expression': metric7},\n",
    "                                        {'expression': metric8},],\n",
    "                'dimensions': [{\"name\": dimension}],\n",
    "            }]\n",
    "    }\n",
    ").execute()\n",
    "\n",
    "metrics = create_df(response)"
   ]
  },
  {
   "cell_type": "code",
   "execution_count": 9,
   "metadata": {
    "cell_id": "60ab1ecc655d4af38e81ba048ec43704",
    "deepnote_cell_type": "code",
    "deepnote_to_be_reexecuted": false,
    "executionInfo": {
     "elapsed": 313,
     "status": "ok",
     "timestamp": 1683743554583,
     "user": {
      "displayName": "Jesus L",
      "userId": "14694795882299199985"
     },
     "user_tz": 360
    },
    "execution_millis": 1,
    "execution_start": 1683310409808,
    "id": "1Uj-yPH66YtS",
    "source_hash": "205c3eb2"
   },
   "outputs": [],
   "source": [
    "# rename columns\n",
    "metrics.columns = ['Fecha','Usuarios','Nuevos usuarios','Sesiones','Tasa de rebote',\n",
    "    'Páginas vistas','Páginas vistas por sesión','Duración prom sesión (mins)','Tiempo carga prom página']\n",
    "# convert to datetime\n",
    "metrics['Fecha'] = pd.to_datetime(metrics['Fecha'])\n",
    "# divide by 60 to convert to minutes\n",
    "metrics['Duración prom sesión (mins)'] = metrics['Duración prom sesión (mins)']/60\n",
    "# sort by date desc\n",
    "metrics = metrics.sort_values(by='Fecha', ascending=False)"
   ]
  },
  {
   "cell_type": "code",
   "execution_count": null,
   "metadata": {
    "cell_id": "5b0d6830cab44428b7e2f9fe761d096f",
    "deepnote_cell_type": "code",
    "deepnote_to_be_reexecuted": false,
    "execution_millis": 876,
    "execution_start": 1683312302730,
    "id": "avTFl8xB6YtT",
    "outputId": "b094deb2-72b8-4658-c36a-1a4672f10e25",
    "source_hash": "42d92794"
   },
   "outputs": [
    {
     "data": {
      "text/plain": [
       "{'spreadsheetId': '1uOOpMXaIDT5MijuJFa0wN5Gy0dFVro8yQygDKgBDDMI',\n",
       " 'clearedRange': 'metricas!A1:J31'}"
      ]
     },
     "execution_count": 48,
     "metadata": {},
     "output_type": "execute_result"
    }
   ],
   "source": [
    "# clear sheets before sending new data\n",
    "# open spreadsheet\n",
    "gsheet = gc.open('GETM mensual')\n",
    "# select sheet1\n",
    "sheet1 = gsheet.worksheet('metricas')\n",
    "# clear sheet1\n",
    "sheet1.clear()"
   ]
  },
  {
   "cell_type": "code",
   "execution_count": null,
   "metadata": {
    "cell_id": "9964d77e78a5418e824406bf1e33fdf4",
    "deepnote_cell_type": "code",
    "deepnote_to_be_reexecuted": false,
    "execution_millis": 873,
    "execution_start": 1683312312635,
    "id": "GODMFAco6YtT",
    "outputId": "4d266fd4-2644-47bb-bdd5-93bc6cbbfcb4",
    "source_hash": "95cd138"
   },
   "outputs": [
    {
     "name": "stdout",
     "output_type": "stream",
     "text": [
      "DataFrame uploaded to: GETM mensual, metricas\n"
     ]
    }
   ],
   "source": [
    "# send to google sheets\n",
    "save_to_gsheets(metrics, 'GETM mensual', 'metricas')"
   ]
  },
  {
   "cell_type": "code",
   "execution_count": null,
   "metadata": {
    "cell_id": "26b93b22cafa4c8893e654bfd263d936",
    "deepnote_cell_type": "code",
    "deepnote_to_be_reexecuted": false,
    "execution_millis": 1,
    "execution_start": 1683314050996,
    "id": "invPZUy26YtV",
    "source_hash": "b623e53d"
   },
   "outputs": [],
   "source": []
  },
  {
   "cell_type": "code",
   "execution_count": null,
   "metadata": {
    "cell_id": "50250dfd5a9e4367bb11c9501e3a8227",
    "deepnote_cell_type": "code",
    "deepnote_to_be_reexecuted": false,
    "execution_millis": 482,
    "execution_start": 1683312123676,
    "id": "QT9ealLq6YtV",
    "source_hash": "da81f3d9"
   },
   "outputs": [],
   "source": [
    "# execute query\n",
    "response = service.reports().batchGet(\n",
    "body={\n",
    "        'reportRequests': [\n",
    "            {\n",
    "                'viewId': view_id,\n",
    "                'dateRanges': [{'startDate': inicio, 'endDate': fin}],\n",
    "                            'metrics': [\n",
    "                                        {'expression': 'ga:productRevenuePerPurchase'},\n",
    "                                        {'expression':'ga:uniquePurchases'},\n",
    "                                        {'expression':'ga:itemQuantity'},\n",
    "                                        {'expression':'ga:revenuePerItem'},\n",
    "                                        {'expression':'ga:itemsPerPurchase'},\n",
    "                                        {'expression':'ga:itemRevenue'},\n",
    "                                        ],\n",
    "                'dimensions': [{\"name\": 'ga:productName'}],\n",
    "            }]\n",
    "    }\n",
    ").execute()\n",
    "\n",
    "products = create_df(response)"
   ]
  },
  {
   "cell_type": "code",
   "execution_count": null,
   "metadata": {
    "cell_id": "b8471c2e29264861abdfd85eddfc9c32",
    "deepnote_cell_type": "code",
    "deepnote_table_loading": false,
    "deepnote_table_state": {
     "filters": [],
     "pageIndex": 0,
     "pageSize": 10,
     "sortBy": [
      {
       "id": "ga:uniquePurchases",
       "type": "desc"
      }
     ]
    },
    "deepnote_to_be_reexecuted": false,
    "execution_millis": 35,
    "execution_start": 1683312128386,
    "id": "mcMsW-nV6YtV",
    "outputId": "66056553-16f3-435f-d425-61a5cac2a935",
    "source_hash": "9c1a1603"
   },
   "outputs": [
    {
     "data": {
      "application/vnd.deepnote.dataframe.v3+json": {
       "column_count": 7,
       "columns": [
        {
         "dtype": "object",
         "name": "ga:productName",
         "stats": {
          "categories": [
           {
            "count": 1,
            "name": "pepsi 1.5 lts pet 12"
           },
           {
            "count": 1,
            "name": "epura 20 lts policarbonato"
           },
           {
            "count": 398,
            "name": "398 others"
           }
          ],
          "nan_count": 0,
          "unique_count": 400
         }
        },
        {
         "dtype": "float64",
         "name": "ga:productRevenuePerPurchase",
         "stats": {
          "histogram": [
           {
            "bin_end": 104.65,
            "bin_start": 0,
            "count": 137
           },
           {
            "bin_end": 209.3,
            "bin_start": 104.65,
            "count": 183
           },
           {
            "bin_end": 313.95000000000005,
            "bin_start": 209.3,
            "count": 53
           },
           {
            "bin_end": 418.6,
            "bin_start": 313.95000000000005,
            "count": 18
           },
           {
            "bin_end": 523.25,
            "bin_start": 418.6,
            "count": 4
           },
           {
            "bin_end": 627.9000000000001,
            "bin_start": 523.25,
            "count": 0
           },
           {
            "bin_end": 732.5500000000001,
            "bin_start": 627.9000000000001,
            "count": 3
           },
           {
            "bin_end": 837.2,
            "bin_start": 732.5500000000001,
            "count": 0
           },
           {
            "bin_end": 941.85,
            "bin_start": 837.2,
            "count": 0
           },
           {
            "bin_end": 1046.5,
            "bin_start": 941.85,
            "count": 2
           }
          ],
          "max": "1046.5",
          "min": "0.0",
          "nan_count": 0,
          "unique_count": 393
         }
        },
        {
         "dtype": "int64",
         "name": "ga:uniquePurchases",
         "stats": {
          "histogram": [
           {
            "bin_end": 1001,
            "bin_start": 1,
            "count": 369
           },
           {
            "bin_end": 2001,
            "bin_start": 1001,
            "count": 18
           },
           {
            "bin_end": 3001,
            "bin_start": 2001,
            "count": 5
           },
           {
            "bin_end": 4001,
            "bin_start": 3001,
            "count": 3
           },
           {
            "bin_end": 5001,
            "bin_start": 4001,
            "count": 2
           },
           {
            "bin_end": 6001,
            "bin_start": 5001,
            "count": 1
           },
           {
            "bin_end": 7001,
            "bin_start": 6001,
            "count": 1
           },
           {
            "bin_end": 8001,
            "bin_start": 7001,
            "count": 0
           },
           {
            "bin_end": 9001,
            "bin_start": 8001,
            "count": 0
           },
           {
            "bin_end": 10001,
            "bin_start": 9001,
            "count": 1
           }
          ],
          "max": "10001",
          "min": "1",
          "nan_count": 0,
          "unique_count": 263
         }
        },
        {
         "dtype": "int64",
         "name": "ga:itemQuantity",
         "stats": {
          "histogram": [
           {
            "bin_end": 3222.3,
            "bin_start": 1,
            "count": 388
           },
           {
            "bin_end": 6443.6,
            "bin_start": 3222.3,
            "count": 6
           },
           {
            "bin_end": 9664.900000000001,
            "bin_start": 6443.6,
            "count": 3
           },
           {
            "bin_end": 12886.2,
            "bin_start": 9664.900000000001,
            "count": 1
           },
           {
            "bin_end": 16107.5,
            "bin_start": 12886.2,
            "count": 0
           },
           {
            "bin_end": 19328.800000000003,
            "bin_start": 16107.5,
            "count": 1
           },
           {
            "bin_end": 22550.100000000002,
            "bin_start": 19328.800000000003,
            "count": 0
           },
           {
            "bin_end": 25771.4,
            "bin_start": 22550.100000000002,
            "count": 0
           },
           {
            "bin_end": 28992.7,
            "bin_start": 25771.4,
            "count": 0
           },
           {
            "bin_end": 32214,
            "bin_start": 28992.7,
            "count": 1
           }
          ],
          "max": "32214",
          "min": "1",
          "nan_count": 0,
          "unique_count": 290
         }
        },
        {
         "dtype": "float64",
         "name": "ga:revenuePerItem",
         "stats": {
          "histogram": [
           {
            "bin_end": 99.929,
            "bin_start": 0,
            "count": 165
           },
           {
            "bin_end": 199.858,
            "bin_start": 99.929,
            "count": 161
           },
           {
            "bin_end": 299.78700000000003,
            "bin_start": 199.858,
            "count": 60
           },
           {
            "bin_end": 399.716,
            "bin_start": 299.78700000000003,
            "count": 13
           },
           {
            "bin_end": 499.645,
            "bin_start": 399.716,
            "count": 0
           },
           {
            "bin_end": 599.5740000000001,
            "bin_start": 499.645,
            "count": 0
           },
           {
            "bin_end": 699.503,
            "bin_start": 599.5740000000001,
            "count": 0
           },
           {
            "bin_end": 799.432,
            "bin_start": 699.503,
            "count": 0
           },
           {
            "bin_end": 899.361,
            "bin_start": 799.432,
            "count": 0
           },
           {
            "bin_end": 999.29,
            "bin_start": 899.361,
            "count": 1
           }
          ],
          "max": "999.29",
          "min": "0.0",
          "nan_count": 0,
          "unique_count": 378
         }
        },
        {
         "dtype": "float64",
         "name": "ga:itemsPerPurchase",
         "stats": {
          "histogram": [
           {
            "bin_end": 1.7296296296296296,
            "bin_start": 1,
            "count": 354
           },
           {
            "bin_end": 2.4592592592592593,
            "bin_start": 1.7296296296296296,
            "count": 24
           },
           {
            "bin_end": 3.188888888888889,
            "bin_start": 2.4592592592592593,
            "count": 6
           },
           {
            "bin_end": 3.9185185185185185,
            "bin_start": 3.188888888888889,
            "count": 7
           },
           {
            "bin_end": 4.648148148148148,
            "bin_start": 3.9185185185185185,
            "count": 4
           },
           {
            "bin_end": 5.377777777777778,
            "bin_start": 4.648148148148148,
            "count": 4
           },
           {
            "bin_end": 6.107407407407408,
            "bin_start": 5.377777777777778,
            "count": 0
           },
           {
            "bin_end": 6.837037037037037,
            "bin_start": 6.107407407407408,
            "count": 0
           },
           {
            "bin_end": 7.566666666666666,
            "bin_start": 6.837037037037037,
            "count": 0
           },
           {
            "bin_end": 8.296296296296296,
            "bin_start": 7.566666666666666,
            "count": 1
           }
          ],
          "max": "8.296296296296296",
          "min": "1.0",
          "nan_count": 0,
          "unique_count": 318
         }
        },
        {
         "dtype": "float64",
         "name": "ga:itemRevenue",
         "stats": {
          "histogram": [
           {
            "bin_end": 306286.105,
            "bin_start": 0,
            "count": 389
           },
           {
            "bin_end": 612572.21,
            "bin_start": 306286.105,
            "count": 5
           },
           {
            "bin_end": 918858.315,
            "bin_start": 612572.21,
            "count": 2
           },
           {
            "bin_end": 1225144.42,
            "bin_start": 918858.315,
            "count": 0
           },
           {
            "bin_end": 1531430.525,
            "bin_start": 1225144.42,
            "count": 2
           },
           {
            "bin_end": 1837716.63,
            "bin_start": 1531430.525,
            "count": 0
           },
           {
            "bin_end": 2144002.735,
            "bin_start": 1837716.63,
            "count": 1
           },
           {
            "bin_end": 2450288.84,
            "bin_start": 2144002.735,
            "count": 0
           },
           {
            "bin_end": 2756574.945,
            "bin_start": 2450288.84,
            "count": 0
           },
           {
            "bin_end": 3062861.05,
            "bin_start": 2756574.945,
            "count": 1
           }
          ],
          "max": "3062861.05",
          "min": "0.0",
          "nan_count": 0,
          "unique_count": 398
         }
        },
        {
         "dtype": "int64",
         "name": "_deepnote_index_column"
        }
       ],
       "row_count": 400,
       "rows": [
        {
         "_deepnote_index_column": "315",
         "ga:itemQuantity": "19160",
         "ga:itemRevenue": "3062861.05",
         "ga:itemsPerPurchase": "1.9158084191580842",
         "ga:productName": "pepsi 1.5 lts pet 12",
         "ga:productRevenuePerPurchase": "306.2554794520548",
         "ga:revenuePerItem": "159.85704853862214",
         "ga:uniquePurchases": "10001"
        },
        {
         "_deepnote_index_column": "102",
         "ga:itemQuantity": "32214",
         "ga:itemRevenue": "1244002.5",
         "ga:itemsPerPurchase": "4.6680191276626575",
         "ga:productName": "epura 20 lts policarbonato",
         "ga:productRevenuePerPurchase": "180.26409216055643",
         "ga:revenuePerItem": "38.61682808716707",
         "ga:uniquePurchases": "6901"
        },
        {
         "_deepnote_index_column": "326",
         "ga:itemQuantity": "8790",
         "ga:itemRevenue": "1969634.39",
         "ga:itemsPerPurchase": "1.5987631866133138",
         "ga:productName": "pepsi 2.5 lts pet 8",
         "ga:productRevenuePerPurchase": "358.2456147690069",
         "ga:revenuePerItem": "224.0767224118316",
         "ga:uniquePurchases": "5498"
        },
        {
         "_deepnote_index_column": "333",
         "ga:itemQuantity": "5638",
         "ga:itemRevenue": "1490017.74",
         "ga:itemsPerPurchase": "1.2410301562843935",
         "ga:productName": "pepsi 3 lts pet 8",
         "ga:productRevenuePerPurchase": "327.9810125467753",
         "ga:revenuePerItem": "264.2812593118127",
         "ga:uniquePurchases": "4543"
        },
        {
         "_deepnote_index_column": "95",
         "ga:itemQuantity": "10387",
         "ga:itemRevenue": "457404.49",
         "ga:itemsPerPurchase": "2.39386955519705",
         "ga:productName": "epura 1 l pet 12",
         "ga:productRevenuePerPurchase": "105.41702926941691",
         "ga:revenuePerItem": "44.036246269375184",
         "ga:uniquePurchases": "4339"
        },
        {
         "_deepnote_index_column": "335",
         "ga:itemQuantity": "4067",
         "ga:itemRevenue": "679855.88",
         "ga:itemsPerPurchase": "1.173398730525101",
         "ga:productName": "pepsi 600 ml pet 12",
         "ga:productRevenuePerPurchase": "196.14999422965957",
         "ga:revenuePerItem": "167.1639734447996",
         "ga:uniquePurchases": "3466"
        },
        {
         "_deepnote_index_column": "101",
         "ga:itemQuantity": "7333",
         "ga:itemRevenue": "291928.0",
         "ga:itemsPerPurchase": "2.1850417163289633",
         "ga:productName": "epura 20 lts pet",
         "ga:productRevenuePerPurchase": "86.98688915375448",
         "ga:revenuePerItem": "39.81017318969044",
         "ga:uniquePurchases": "3356"
        },
        {
         "_deepnote_index_column": "98",
         "ga:itemQuantity": "4228",
         "ga:itemRevenue": "580919.63",
         "ga:itemsPerPurchase": "1.2617129215159655",
         "ga:productName": "epura 1.5 lts pet 12",
         "ga:productRevenuePerPurchase": "173.35709638913755",
         "ga:revenuePerItem": "137.39820955534532",
         "ga:uniquePurchases": "3351"
        },
        {
         "_deepnote_index_column": "332",
         "ga:itemQuantity": "3259",
         "ga:itemRevenue": "534476.0",
         "ga:itemsPerPurchase": "1.3727885425442292",
         "ga:productName": "pepsi 3 lts pet 6",
         "ga:productRevenuePerPurchase": "225.13732097725358",
         "ga:revenuePerItem": "164.0",
         "ga:uniquePurchases": "2374"
        },
        {
         "_deepnote_index_column": "52",
         "ga:itemQuantity": "2533",
         "ga:itemRevenue": "230532.09",
         "ga:itemsPerPurchase": "1.1292911279536335",
         "ga:productName": "be light jamaica 1.5 lts pet 6",
         "ga:productRevenuePerPurchase": "102.77846188140883",
         "ga:revenuePerItem": "91.01148440584286",
         "ga:uniquePurchases": "2243"
        }
       ]
      },
      "text/html": [
       "<div>\n",
       "<style scoped>\n",
       "    .dataframe tbody tr th:only-of-type {\n",
       "        vertical-align: middle;\n",
       "    }\n",
       "\n",
       "    .dataframe tbody tr th {\n",
       "        vertical-align: top;\n",
       "    }\n",
       "\n",
       "    .dataframe thead th {\n",
       "        text-align: right;\n",
       "    }\n",
       "</style>\n",
       "<table border=\"1\" class=\"dataframe\">\n",
       "  <thead>\n",
       "    <tr style=\"text-align: right;\">\n",
       "      <th></th>\n",
       "      <th>ga:productName</th>\n",
       "      <th>ga:productRevenuePerPurchase</th>\n",
       "      <th>ga:uniquePurchases</th>\n",
       "      <th>ga:itemQuantity</th>\n",
       "      <th>ga:revenuePerItem</th>\n",
       "      <th>ga:itemsPerPurchase</th>\n",
       "      <th>ga:itemRevenue</th>\n",
       "    </tr>\n",
       "  </thead>\n",
       "  <tbody>\n",
       "    <tr>\n",
       "      <th>0</th>\n",
       "      <td>(not set)</td>\n",
       "      <td>115.902662</td>\n",
       "      <td>1401</td>\n",
       "      <td>2071</td>\n",
       "      <td>78.406388</td>\n",
       "      <td>1.478230</td>\n",
       "      <td>162379.63</td>\n",
       "    </tr>\n",
       "    <tr>\n",
       "      <th>1</th>\n",
       "      <td>7 up libre 2 lts pet 8</td>\n",
       "      <td>197.795455</td>\n",
       "      <td>44</td>\n",
       "      <td>46</td>\n",
       "      <td>189.195652</td>\n",
       "      <td>1.045455</td>\n",
       "      <td>8703.00</td>\n",
       "    </tr>\n",
       "    <tr>\n",
       "      <th>2</th>\n",
       "      <td>7 up libre 600 ml pet 12</td>\n",
       "      <td>162.706161</td>\n",
       "      <td>211</td>\n",
       "      <td>213</td>\n",
       "      <td>161.178404</td>\n",
       "      <td>1.009479</td>\n",
       "      <td>34331.00</td>\n",
       "    </tr>\n",
       "    <tr>\n",
       "      <th>3</th>\n",
       "      <td>7 up ra 0.5 lts bc grb 6</td>\n",
       "      <td>91.982143</td>\n",
       "      <td>168</td>\n",
       "      <td>274</td>\n",
       "      <td>56.397810</td>\n",
       "      <td>1.630952</td>\n",
       "      <td>15453.00</td>\n",
       "    </tr>\n",
       "    <tr>\n",
       "      <th>4</th>\n",
       "      <td>7 up ra 1.25 lts bc grb 4</td>\n",
       "      <td>68.576923</td>\n",
       "      <td>65</td>\n",
       "      <td>75</td>\n",
       "      <td>59.433333</td>\n",
       "      <td>1.153846</td>\n",
       "      <td>4457.50</td>\n",
       "    </tr>\n",
       "    <tr>\n",
       "      <th>...</th>\n",
       "      <td>...</td>\n",
       "      <td>...</td>\n",
       "      <td>...</td>\n",
       "      <td>...</td>\n",
       "      <td>...</td>\n",
       "      <td>...</td>\n",
       "      <td>...</td>\n",
       "    </tr>\n",
       "    <tr>\n",
       "      <th>395</th>\n",
       "      <td>vita fresa 2 lts pet 8</td>\n",
       "      <td>206.833333</td>\n",
       "      <td>144</td>\n",
       "      <td>146</td>\n",
       "      <td>204.000000</td>\n",
       "      <td>1.013889</td>\n",
       "      <td>29784.00</td>\n",
       "    </tr>\n",
       "    <tr>\n",
       "      <th>396</th>\n",
       "      <td>vita fresa 3l pet 8</td>\n",
       "      <td>280.057471</td>\n",
       "      <td>87</td>\n",
       "      <td>89</td>\n",
       "      <td>273.764045</td>\n",
       "      <td>1.022989</td>\n",
       "      <td>24365.00</td>\n",
       "    </tr>\n",
       "    <tr>\n",
       "      <th>397</th>\n",
       "      <td>vita fresa 400 ml pet 12</td>\n",
       "      <td>121.828767</td>\n",
       "      <td>73</td>\n",
       "      <td>77</td>\n",
       "      <td>115.500000</td>\n",
       "      <td>1.054795</td>\n",
       "      <td>8893.50</td>\n",
       "    </tr>\n",
       "    <tr>\n",
       "      <th>398</th>\n",
       "      <td>vita fresa 600 ml pet 12</td>\n",
       "      <td>187.741176</td>\n",
       "      <td>85</td>\n",
       "      <td>101</td>\n",
       "      <td>158.000000</td>\n",
       "      <td>1.188235</td>\n",
       "      <td>15958.00</td>\n",
       "    </tr>\n",
       "    <tr>\n",
       "      <th>399</th>\n",
       "      <td>vita fresa 600 ml pet 12 prom</td>\n",
       "      <td>188.829268</td>\n",
       "      <td>41</td>\n",
       "      <td>49</td>\n",
       "      <td>158.000000</td>\n",
       "      <td>1.195122</td>\n",
       "      <td>7742.00</td>\n",
       "    </tr>\n",
       "  </tbody>\n",
       "</table>\n",
       "<p>400 rows × 7 columns</p>\n",
       "</div>"
      ],
      "text/plain": [
       "                    ga:productName  ga:productRevenuePerPurchase  \\\n",
       "0                        (not set)                    115.902662   \n",
       "1           7 up libre 2 lts pet 8                    197.795455   \n",
       "2         7 up libre 600 ml pet 12                    162.706161   \n",
       "3         7 up ra 0.5 lts bc grb 6                     91.982143   \n",
       "4        7 up ra 1.25 lts bc grb 4                     68.576923   \n",
       "..                             ...                           ...   \n",
       "395         vita fresa 2 lts pet 8                    206.833333   \n",
       "396            vita fresa 3l pet 8                    280.057471   \n",
       "397       vita fresa 400 ml pet 12                    121.828767   \n",
       "398       vita fresa 600 ml pet 12                    187.741176   \n",
       "399  vita fresa 600 ml pet 12 prom                    188.829268   \n",
       "\n",
       "     ga:uniquePurchases  ga:itemQuantity  ga:revenuePerItem  \\\n",
       "0                  1401             2071          78.406388   \n",
       "1                    44               46         189.195652   \n",
       "2                   211              213         161.178404   \n",
       "3                   168              274          56.397810   \n",
       "4                    65               75          59.433333   \n",
       "..                  ...              ...                ...   \n",
       "395                 144              146         204.000000   \n",
       "396                  87               89         273.764045   \n",
       "397                  73               77         115.500000   \n",
       "398                  85              101         158.000000   \n",
       "399                  41               49         158.000000   \n",
       "\n",
       "     ga:itemsPerPurchase  ga:itemRevenue  \n",
       "0               1.478230       162379.63  \n",
       "1               1.045455         8703.00  \n",
       "2               1.009479        34331.00  \n",
       "3               1.630952        15453.00  \n",
       "4               1.153846         4457.50  \n",
       "..                   ...             ...  \n",
       "395             1.013889        29784.00  \n",
       "396             1.022989        24365.00  \n",
       "397             1.054795         8893.50  \n",
       "398             1.188235        15958.00  \n",
       "399             1.195122         7742.00  \n",
       "\n",
       "[400 rows x 7 columns]"
      ]
     },
     "execution_count": 47,
     "metadata": {},
     "output_type": "execute_result"
    }
   ],
   "source": [
    "products"
   ]
  },
  {
   "cell_type": "markdown",
   "metadata": {
    "cell_id": "8b1fe3e812ed4be8979b7e62f239790a",
    "deepnote_cell_type": "markdown",
    "id": "mpCQ9KK86YtW"
   },
   "source": [
    "### Geographic map and new users"
   ]
  },
  {
   "cell_type": "code",
   "execution_count": null,
   "metadata": {
    "cell_id": "70905a84804949bd83dd4f20b8cc0342",
    "deepnote_cell_type": "code",
    "deepnote_to_be_reexecuted": false,
    "execution_millis": 980,
    "execution_start": 1683164886188,
    "id": "t3YIdMzn6YtW",
    "source_hash": "fa3c4264"
   },
   "outputs": [],
   "source": [
    "response = service.reports().batchGet(body={\n",
    "    'reportRequests': [{\n",
    "        'viewId': view_id,\n",
    "        'dateRanges': [{'startDate': inicio, 'endDate': fin}],\n",
    "        'metrics': [\n",
    "            {\"expression\": \"ga:users\"},\n",
    "            {\"expression\": \"ga:newUsers\"},\n",
    "        ], \"dimensions\": [\n",
    "            {\"name\": \"ga:country\"},\n",
    "            {\"name\": \"ga:region\"},\n",
    "            {\"name\": \"ga:city\"},            \n",
    "            {\"name\": \"ga:longitude\"},\n",
    "            {\"name\": \"ga:latitude\"}\n",
    "        ], \"samplingLevel\": \"LARGE\",\n",
    "    }]}).execute()\n",
    "\n",
    "geo = create_df(response)\n",
    "geo['ga:latitude'] = pd.to_numeric(geo['ga:latitude'])\n",
    "geo['ga:longitude'] = pd.to_numeric(geo['ga:longitude'])"
   ]
  },
  {
   "cell_type": "code",
   "execution_count": null,
   "metadata": {
    "cell_id": "153d1fccd53c41bc8728c01c4e3341f7",
    "deepnote_cell_type": "code",
    "deepnote_table_loading": false,
    "deepnote_table_state": {
     "filters": [],
     "pageIndex": 7,
     "pageSize": 10,
     "sortBy": []
    },
    "deepnote_to_be_reexecuted": false,
    "execution_millis": 38,
    "execution_start": 1683165458107,
    "id": "upieKUNJ6YtW",
    "source_hash": "d22d2b00"
   },
   "outputs": [],
   "source": [
    "#geo = geo[geo['ga:country']=='Mexico']\n",
    "#geo.columns = ['pais', 'estado', 'ciudad', 'longitud', 'latitud','usuarios', 'nuevos_usuarios']\n",
    "#geo = geo[geo['longitud']!=0]\n",
    "#geo.to_csv('geo.csv')"
   ]
  },
  {
   "cell_type": "markdown",
   "metadata": {
    "cell_id": "05e39884da2748f68d789e0f1164db43",
    "deepnote_cell_type": "markdown",
    "id": "tcXPh86Z6YtW"
   },
   "source": [
    "### Transactions and revenue"
   ]
  },
  {
   "cell_type": "code",
   "execution_count": null,
   "metadata": {
    "cell_id": "b2e160f52ab0495ab699fe4bd255065b",
    "deepnote_cell_type": "code",
    "deepnote_to_be_reexecuted": false,
    "execution_millis": 173,
    "execution_start": 1683314723531,
    "id": "2HV2dOEC6YtX",
    "source_hash": "636e43ad"
   },
   "outputs": [],
   "source": [
    "response = service.reports().batchGet(body={\n",
    "    'reportRequests': [{\n",
    "        'viewId': view_id,\n",
    "        'dateRanges': [{'startDate': inicio, 'endDate': fin}],\n",
    "        'metrics': [\n",
    "            {\"expression\": \"ga:transactions\"},\n",
    "            #{\"expression\": \",ga:transactionsPerSession\"}, #ecommerce conversion rate\n",
    "            {\"expression\": \"ga:transactionRevenue\"},\n",
    "            {\"expression\": \"ga:revenuePerTransaction\"}, # avg order value\n",
    "            {\"expression\": \"ga:itemQuantity\"},\n",
    "        ], \"dimensions\": [\n",
    "            {'name':'ga:date'},\n",
    "        ]\n",
    "    }]}).execute()\n",
    "\n",
    "trans = create_df(response)"
   ]
  },
  {
   "cell_type": "code",
   "execution_count": null,
   "metadata": {
    "cell_id": "b95bedf37f6f4b2dbd41c1cbc856567c",
    "deepnote_cell_type": "code",
    "deepnote_to_be_reexecuted": false,
    "execution_millis": 341,
    "execution_start": 1683314790508,
    "id": "Q-VUxhDZ6YtX",
    "source_hash": "5c7b58ea"
   },
   "outputs": [],
   "source": [
    "mpe_view_id\n",
    "response = service.reports().batchGet(body={\n",
    "    'reportRequests': [{\n",
    "        'viewId': mpe_view_id,\n",
    "        'dateRanges': [{'startDate': inicio, 'endDate': fin}],\n",
    "        'metrics': [\n",
    "            {\"expression\": \"ga:transactions\"},\n",
    "            #{\"expression\": \",ga:transactionsPerSession\"}, #ecommerce conversion rate\n",
    "            {\"expression\": \"ga:transactionRevenue\"},\n",
    "            {\"expression\": \"ga:revenuePerTransaction\"}, # avg order value\n",
    "            {\"expression\": \"ga:itemQuantity\"},\n",
    "        ], \"dimensions\": [\n",
    "            {'name':'ga:date'},\n",
    "        ]\n",
    "    }]}).execute()\n",
    "\n",
    "mpe_trans = create_df(response)"
   ]
  },
  {
   "cell_type": "code",
   "execution_count": null,
   "metadata": {
    "cell_id": "aad09bf1dcee44b2af860d02a6fc085b",
    "deepnote_cell_type": "code",
    "deepnote_to_be_reexecuted": false,
    "execution_millis": 9,
    "execution_start": 1683314997037,
    "id": "FfrGfZTB6YtX",
    "source_hash": "f0656e16"
   },
   "outputs": [],
   "source": [
    "getm_trans = trans[['ga:date','ga:transactions','ga:transactionRevenue']]\n",
    "mpe_trans = mpe_trans[['ga:date','ga:transactions','ga:transactionRevenue']]"
   ]
  },
  {
   "cell_type": "code",
   "execution_count": null,
   "metadata": {
    "cell_id": "2c5e2c9f6a8948788ca14b75f4e9f06c",
    "deepnote_cell_type": "code",
    "deepnote_to_be_reexecuted": false,
    "execution_millis": 9,
    "execution_start": 1683315077011,
    "id": "_XeEXeJL6YtX",
    "source_hash": "c8eaf68f"
   },
   "outputs": [],
   "source": [
    "ambas = getm_trans.merge(mpe_trans, on='ga:date', how='inner', suffixes=('_getm','_mpe'))"
   ]
  },
  {
   "cell_type": "code",
   "execution_count": null,
   "metadata": {
    "cell_id": "f772c1f8d5e0487f9476494ab4f9528d",
    "deepnote_cell_type": "code",
    "deepnote_to_be_reexecuted": false,
    "execution_millis": 25,
    "execution_start": 1683315159483,
    "id": "td9nz9Wn6YtY",
    "source_hash": "ae5a2c04"
   },
   "outputs": [],
   "source": [
    "#ambas.columns = ambas.columns.str.replace('ga:','')\n",
    "#ambas['date'] = pd.to_datetime(ambas['date'])\n",
    "ambas.to_csv('ambas.csv')"
   ]
  },
  {
   "cell_type": "code",
   "execution_count": null,
   "metadata": {
    "cell_id": "b0e7e7478122471fb98d0adbaaeaa144",
    "deepnote_cell_type": "code",
    "deepnote_to_be_reexecuted": false,
    "execution_millis": 16,
    "execution_start": 1681314618820,
    "id": "MFJV64zF6YtY",
    "source_hash": "5db70357"
   },
   "outputs": [],
   "source": [
    "df['ga:date'] = pd.to_datetime(df['ga:date'])"
   ]
  },
  {
   "cell_type": "code",
   "execution_count": null,
   "metadata": {
    "cell_id": "f6070e6ce1bc4925bfded597fc741826",
    "deepnote_cell_type": "code",
    "deepnote_to_be_reexecuted": false,
    "execution_millis": 36,
    "execution_start": 1681314774392,
    "id": "A5j8m9dZ6YtY",
    "source_hash": "277663fa"
   },
   "outputs": [],
   "source": [
    "mensual = df.groupby([pd.Grouper(key='ga:date', freq='M'),])['ga:transactions'].sum().reset_index()\n",
    "mensual['ga:date'] = mensual['ga:date'].dt.strftime('%Y-%m')"
   ]
  },
  {
   "cell_type": "code",
   "execution_count": null,
   "metadata": {
    "allow_embed": "output",
    "cell_id": "75582a4bd630413f89f563bb2e483321",
    "deepnote_cell_type": "code",
    "deepnote_to_be_reexecuted": false,
    "execution_millis": 40,
    "execution_start": 1681314780092,
    "id": "_3c0JzdJ6YtZ",
    "outputId": "d95598a1-52a5-4229-eec0-95002ddaf2d8",
    "source_hash": "9fc402ca"
   },
   "outputs": [
    {
     "data": {
      "text/html": [
       "<html>\n",
       "<head><meta charset=\"utf-8\" /></head>\n",
       "<body>\n",
       "    <div>            <script src=\"https://cdnjs.cloudflare.com/ajax/libs/mathjax/2.7.5/MathJax.js?config=TeX-AMS-MML_SVG\"></script><script type=\"text/javascript\">if (window.MathJax && window.MathJax.Hub && window.MathJax.Hub.Config) {window.MathJax.Hub.Config({SVG: {font: \"STIX-Web\"}});}</script>                <script type=\"text/javascript\">window.PlotlyConfig = {MathJaxConfig: 'local'};</script>\n",
       "        <script src=\"https://cdn.plot.ly/plotly-2.14.0.min.js\"></script>                <div id=\"69640cae-6846-49b9-bfca-c43661b7e17d\" class=\"plotly-graph-div\" style=\"height:600px; width:900px;\"></div>            <script type=\"text/javascript\">                                    window.PLOTLYENV=window.PLOTLYENV || {};                                    if (document.getElementById(\"69640cae-6846-49b9-bfca-c43661b7e17d\")) {                    Plotly.newPlot(                        \"69640cae-6846-49b9-bfca-c43661b7e17d\",                        [{\"hovertemplate\":\"ga:date=%{x}<br>ga:transactions=%{y}<extra></extra>\",\"legendgroup\":\"\",\"line\":{\"color\":\"#636efa\",\"dash\":\"solid\"},\"marker\":{\"symbol\":\"circle\"},\"mode\":\"lines\",\"name\":\"\",\"orientation\":\"v\",\"showlegend\":false,\"x\":[\"2021-01\",\"2021-02\",\"2021-03\",\"2021-04\",\"2021-05\",\"2021-06\",\"2021-07\",\"2021-08\",\"2021-09\",\"2021-10\",\"2021-11\",\"2021-12\",\"2022-01\",\"2022-02\",\"2022-03\",\"2022-04\",\"2022-05\",\"2022-06\",\"2022-07\",\"2022-08\",\"2022-09\",\"2022-10\",\"2022-11\",\"2022-12\",\"2023-01\",\"2023-02\",\"2023-03\",\"2023-04\"],\"xaxis\":\"x\",\"y\":[2,0,8,60,247,259,603,2218,1779,8651,11924,12728,10940,14082,22018,25672,32234,46424,40965,38612,32480,32614,27835,23347,24686,23646,35141,8449],\"yaxis\":\"y\",\"type\":\"scatter\"}],                        {\"template\":{\"data\":{\"histogram2dcontour\":[{\"type\":\"histogram2dcontour\",\"colorbar\":{\"outlinewidth\":0,\"ticks\":\"\"},\"colorscale\":[[0.0,\"#0d0887\"],[0.1111111111111111,\"#46039f\"],[0.2222222222222222,\"#7201a8\"],[0.3333333333333333,\"#9c179e\"],[0.4444444444444444,\"#bd3786\"],[0.5555555555555556,\"#d8576b\"],[0.6666666666666666,\"#ed7953\"],[0.7777777777777778,\"#fb9f3a\"],[0.8888888888888888,\"#fdca26\"],[1.0,\"#f0f921\"]]}],\"choropleth\":[{\"type\":\"choropleth\",\"colorbar\":{\"outlinewidth\":0,\"ticks\":\"\"}}],\"histogram2d\":[{\"type\":\"histogram2d\",\"colorbar\":{\"outlinewidth\":0,\"ticks\":\"\"},\"colorscale\":[[0.0,\"#0d0887\"],[0.1111111111111111,\"#46039f\"],[0.2222222222222222,\"#7201a8\"],[0.3333333333333333,\"#9c179e\"],[0.4444444444444444,\"#bd3786\"],[0.5555555555555556,\"#d8576b\"],[0.6666666666666666,\"#ed7953\"],[0.7777777777777778,\"#fb9f3a\"],[0.8888888888888888,\"#fdca26\"],[1.0,\"#f0f921\"]]}],\"heatmap\":[{\"type\":\"heatmap\",\"colorbar\":{\"outlinewidth\":0,\"ticks\":\"\"},\"colorscale\":[[0.0,\"#0d0887\"],[0.1111111111111111,\"#46039f\"],[0.2222222222222222,\"#7201a8\"],[0.3333333333333333,\"#9c179e\"],[0.4444444444444444,\"#bd3786\"],[0.5555555555555556,\"#d8576b\"],[0.6666666666666666,\"#ed7953\"],[0.7777777777777778,\"#fb9f3a\"],[0.8888888888888888,\"#fdca26\"],[1.0,\"#f0f921\"]]}],\"heatmapgl\":[{\"type\":\"heatmapgl\",\"colorbar\":{\"outlinewidth\":0,\"ticks\":\"\"},\"colorscale\":[[0.0,\"#0d0887\"],[0.1111111111111111,\"#46039f\"],[0.2222222222222222,\"#7201a8\"],[0.3333333333333333,\"#9c179e\"],[0.4444444444444444,\"#bd3786\"],[0.5555555555555556,\"#d8576b\"],[0.6666666666666666,\"#ed7953\"],[0.7777777777777778,\"#fb9f3a\"],[0.8888888888888888,\"#fdca26\"],[1.0,\"#f0f921\"]]}],\"contourcarpet\":[{\"type\":\"contourcarpet\",\"colorbar\":{\"outlinewidth\":0,\"ticks\":\"\"}}],\"contour\":[{\"type\":\"contour\",\"colorbar\":{\"outlinewidth\":0,\"ticks\":\"\"},\"colorscale\":[[0.0,\"#0d0887\"],[0.1111111111111111,\"#46039f\"],[0.2222222222222222,\"#7201a8\"],[0.3333333333333333,\"#9c179e\"],[0.4444444444444444,\"#bd3786\"],[0.5555555555555556,\"#d8576b\"],[0.6666666666666666,\"#ed7953\"],[0.7777777777777778,\"#fb9f3a\"],[0.8888888888888888,\"#fdca26\"],[1.0,\"#f0f921\"]]}],\"surface\":[{\"type\":\"surface\",\"colorbar\":{\"outlinewidth\":0,\"ticks\":\"\"},\"colorscale\":[[0.0,\"#0d0887\"],[0.1111111111111111,\"#46039f\"],[0.2222222222222222,\"#7201a8\"],[0.3333333333333333,\"#9c179e\"],[0.4444444444444444,\"#bd3786\"],[0.5555555555555556,\"#d8576b\"],[0.6666666666666666,\"#ed7953\"],[0.7777777777777778,\"#fb9f3a\"],[0.8888888888888888,\"#fdca26\"],[1.0,\"#f0f921\"]]}],\"mesh3d\":[{\"type\":\"mesh3d\",\"colorbar\":{\"outlinewidth\":0,\"ticks\":\"\"}}],\"scatter\":[{\"fillpattern\":{\"fillmode\":\"overlay\",\"size\":10,\"solidity\":0.2},\"type\":\"scatter\"}],\"parcoords\":[{\"type\":\"parcoords\",\"line\":{\"colorbar\":{\"outlinewidth\":0,\"ticks\":\"\"}}}],\"scatterpolargl\":[{\"type\":\"scatterpolargl\",\"marker\":{\"colorbar\":{\"outlinewidth\":0,\"ticks\":\"\"}}}],\"bar\":[{\"error_x\":{\"color\":\"#2a3f5f\"},\"error_y\":{\"color\":\"#2a3f5f\"},\"marker\":{\"line\":{\"color\":\"#E5ECF6\",\"width\":0.5},\"pattern\":{\"fillmode\":\"overlay\",\"size\":10,\"solidity\":0.2}},\"type\":\"bar\"}],\"scattergeo\":[{\"type\":\"scattergeo\",\"marker\":{\"colorbar\":{\"outlinewidth\":0,\"ticks\":\"\"}}}],\"scatterpolar\":[{\"type\":\"scatterpolar\",\"marker\":{\"colorbar\":{\"outlinewidth\":0,\"ticks\":\"\"}}}],\"histogram\":[{\"marker\":{\"pattern\":{\"fillmode\":\"overlay\",\"size\":10,\"solidity\":0.2}},\"type\":\"histogram\"}],\"scattergl\":[{\"type\":\"scattergl\",\"marker\":{\"colorbar\":{\"outlinewidth\":0,\"ticks\":\"\"}}}],\"scatter3d\":[{\"type\":\"scatter3d\",\"line\":{\"colorbar\":{\"outlinewidth\":0,\"ticks\":\"\"}},\"marker\":{\"colorbar\":{\"outlinewidth\":0,\"ticks\":\"\"}}}],\"scattermapbox\":[{\"type\":\"scattermapbox\",\"marker\":{\"colorbar\":{\"outlinewidth\":0,\"ticks\":\"\"}}}],\"scatterternary\":[{\"type\":\"scatterternary\",\"marker\":{\"colorbar\":{\"outlinewidth\":0,\"ticks\":\"\"}}}],\"scattercarpet\":[{\"type\":\"scattercarpet\",\"marker\":{\"colorbar\":{\"outlinewidth\":0,\"ticks\":\"\"}}}],\"carpet\":[{\"aaxis\":{\"endlinecolor\":\"#2a3f5f\",\"gridcolor\":\"white\",\"linecolor\":\"white\",\"minorgridcolor\":\"white\",\"startlinecolor\":\"#2a3f5f\"},\"baxis\":{\"endlinecolor\":\"#2a3f5f\",\"gridcolor\":\"white\",\"linecolor\":\"white\",\"minorgridcolor\":\"white\",\"startlinecolor\":\"#2a3f5f\"},\"type\":\"carpet\"}],\"table\":[{\"cells\":{\"fill\":{\"color\":\"#EBF0F8\"},\"line\":{\"color\":\"white\"}},\"header\":{\"fill\":{\"color\":\"#C8D4E3\"},\"line\":{\"color\":\"white\"}},\"type\":\"table\"}],\"barpolar\":[{\"marker\":{\"line\":{\"color\":\"#E5ECF6\",\"width\":0.5},\"pattern\":{\"fillmode\":\"overlay\",\"size\":10,\"solidity\":0.2}},\"type\":\"barpolar\"}],\"pie\":[{\"automargin\":true,\"type\":\"pie\"}]},\"layout\":{\"autotypenumbers\":\"strict\",\"colorway\":[\"#636efa\",\"#EF553B\",\"#00cc96\",\"#ab63fa\",\"#FFA15A\",\"#19d3f3\",\"#FF6692\",\"#B6E880\",\"#FF97FF\",\"#FECB52\"],\"font\":{\"color\":\"#2a3f5f\"},\"hovermode\":\"closest\",\"hoverlabel\":{\"align\":\"left\"},\"paper_bgcolor\":\"white\",\"plot_bgcolor\":\"#E5ECF6\",\"polar\":{\"bgcolor\":\"#E5ECF6\",\"angularaxis\":{\"gridcolor\":\"white\",\"linecolor\":\"white\",\"ticks\":\"\"},\"radialaxis\":{\"gridcolor\":\"white\",\"linecolor\":\"white\",\"ticks\":\"\"}},\"ternary\":{\"bgcolor\":\"#E5ECF6\",\"aaxis\":{\"gridcolor\":\"white\",\"linecolor\":\"white\",\"ticks\":\"\"},\"baxis\":{\"gridcolor\":\"white\",\"linecolor\":\"white\",\"ticks\":\"\"},\"caxis\":{\"gridcolor\":\"white\",\"linecolor\":\"white\",\"ticks\":\"\"}},\"coloraxis\":{\"colorbar\":{\"outlinewidth\":0,\"ticks\":\"\"}},\"colorscale\":{\"sequential\":[[0.0,\"#0d0887\"],[0.1111111111111111,\"#46039f\"],[0.2222222222222222,\"#7201a8\"],[0.3333333333333333,\"#9c179e\"],[0.4444444444444444,\"#bd3786\"],[0.5555555555555556,\"#d8576b\"],[0.6666666666666666,\"#ed7953\"],[0.7777777777777778,\"#fb9f3a\"],[0.8888888888888888,\"#fdca26\"],[1.0,\"#f0f921\"]],\"sequentialminus\":[[0.0,\"#0d0887\"],[0.1111111111111111,\"#46039f\"],[0.2222222222222222,\"#7201a8\"],[0.3333333333333333,\"#9c179e\"],[0.4444444444444444,\"#bd3786\"],[0.5555555555555556,\"#d8576b\"],[0.6666666666666666,\"#ed7953\"],[0.7777777777777778,\"#fb9f3a\"],[0.8888888888888888,\"#fdca26\"],[1.0,\"#f0f921\"]],\"diverging\":[[0,\"#8e0152\"],[0.1,\"#c51b7d\"],[0.2,\"#de77ae\"],[0.3,\"#f1b6da\"],[0.4,\"#fde0ef\"],[0.5,\"#f7f7f7\"],[0.6,\"#e6f5d0\"],[0.7,\"#b8e186\"],[0.8,\"#7fbc41\"],[0.9,\"#4d9221\"],[1,\"#276419\"]]},\"xaxis\":{\"gridcolor\":\"white\",\"linecolor\":\"white\",\"ticks\":\"\",\"title\":{\"standoff\":15},\"zerolinecolor\":\"white\",\"automargin\":true,\"zerolinewidth\":2},\"yaxis\":{\"gridcolor\":\"white\",\"linecolor\":\"white\",\"ticks\":\"\",\"title\":{\"standoff\":15},\"zerolinecolor\":\"white\",\"automargin\":true,\"zerolinewidth\":2},\"scene\":{\"xaxis\":{\"backgroundcolor\":\"#E5ECF6\",\"gridcolor\":\"white\",\"linecolor\":\"white\",\"showbackground\":true,\"ticks\":\"\",\"zerolinecolor\":\"white\",\"gridwidth\":2},\"yaxis\":{\"backgroundcolor\":\"#E5ECF6\",\"gridcolor\":\"white\",\"linecolor\":\"white\",\"showbackground\":true,\"ticks\":\"\",\"zerolinecolor\":\"white\",\"gridwidth\":2},\"zaxis\":{\"backgroundcolor\":\"#E5ECF6\",\"gridcolor\":\"white\",\"linecolor\":\"white\",\"showbackground\":true,\"ticks\":\"\",\"zerolinecolor\":\"white\",\"gridwidth\":2}},\"shapedefaults\":{\"line\":{\"color\":\"#2a3f5f\"}},\"annotationdefaults\":{\"arrowcolor\":\"#2a3f5f\",\"arrowhead\":0,\"arrowwidth\":1},\"geo\":{\"bgcolor\":\"white\",\"landcolor\":\"#E5ECF6\",\"subunitcolor\":\"white\",\"showland\":true,\"showlakes\":true,\"lakecolor\":\"white\"},\"title\":{\"x\":0.05},\"mapbox\":{\"style\":\"light\"}}},\"xaxis\":{\"anchor\":\"y\",\"domain\":[0.0,1.0],\"title\":{\"text\":\"ga:date\"}},\"yaxis\":{\"anchor\":\"x\",\"domain\":[0.0,1.0],\"title\":{\"text\":\"ga:transactions\"}},\"legend\":{\"tracegroupgap\":0},\"title\":{\"text\":\"Transacciones por mes\"},\"height\":600,\"width\":900},                        {\"responsive\": true}                    ).then(function(){\n",
       "                            \n",
       "var gd = document.getElementById('69640cae-6846-49b9-bfca-c43661b7e17d');\n",
       "var x = new MutationObserver(function (mutations, observer) {{\n",
       "        var display = window.getComputedStyle(gd).display;\n",
       "        if (!display || display === 'none') {{\n",
       "            console.log([gd, 'removed!']);\n",
       "            Plotly.purge(gd);\n",
       "            observer.disconnect();\n",
       "        }}\n",
       "}});\n",
       "\n",
       "// Listen for the removal of the full notebook cells\n",
       "var notebookContainer = gd.closest('#notebook-container');\n",
       "if (notebookContainer) {{\n",
       "    x.observe(notebookContainer, {childList: true});\n",
       "}}\n",
       "\n",
       "// Listen for the clearing of the current output cell\n",
       "var outputEl = gd.closest('.output');\n",
       "if (outputEl) {{\n",
       "    x.observe(outputEl, {childList: true});\n",
       "}}\n",
       "\n",
       "                        })                };                            </script>        </div>\n",
       "</body>\n",
       "</html>"
      ]
     },
     "metadata": {},
     "output_type": "display_data"
    }
   ],
   "source": [
    "fig = px.line(mensual, x='ga:date', y='ga:transactions', height=600, width=900,\n",
    "            title=\"Transacciones por mes\")\n",
    "fig.show()"
   ]
  },
  {
   "cell_type": "code",
   "execution_count": null,
   "metadata": {
    "cell_id": "468919597e3f4afda112e3292b2f8f86",
    "deepnote_cell_type": "code",
    "deepnote_to_be_reexecuted": false,
    "execution_millis": 41,
    "execution_start": 1681314842248,
    "id": "_bncuErq6YtZ",
    "source_hash": "fc8b0b1e"
   },
   "outputs": [],
   "source": [
    "mensual.to_csv('transacciones.csv')"
   ]
  },
  {
   "cell_type": "markdown",
   "metadata": {
    "created_in_deepnote_cell": true,
    "deepnote_cell_type": "markdown",
    "id": "IsG76yCr6YtZ"
   },
   "source": [
    "<a style='text-decoration:none;line-height:16px;display:flex;color:#5B5B62;padding:10px;justify-content:end;' href='https://deepnote.com?utm_source=created-in-deepnote-cell&projectId=d2538dfe-e612-40a9-bfad-7174c7274ee1' target=\"_blank\">\n",
    "<img alt='Created in deepnote.com' style='display:inline;max-height:16px;margin:0px;margin-right:7.5px;' src='data:image/svg+xml;base64,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' > </img>\n",
    "Created in <span style='font-weight:600;margin-left:4px;'>Deepnote</span></a>"
   ]
  },
  {
   "cell_type": "markdown",
   "metadata": {},
   "source": [
    "## Contact\n",
    "\n",
    "<!-- Avatar -->\n",
    "<img src=\"../Pictures/profile2.png\" alt=\"me\" width=\"75\" height=\"80\">\n",
    "<!-- Text with color, font, fontsize and specific size -->\n",
    "<p style=\"color:#323232; font-family: Helevetica; font-size: 20px;\">Jesus L. Monroy<br>Economist | Data Scientist</p>\n",
    "<!-- Insert url links in logos -->\n",
    "<!-- Telegram -->\n",
    "<a href=\"https://t.me/j3suslm\" target=\"_blank\" rel=\"noreferrer\"> <img src=\"https://upload.wikimedia.org/wikipedia/commons/thumb/e/ef/Telegram_X_2019_Logo.svg/2048px-Telegram_X_2019_Logo.png?size=16&color=3b3b3b\" alt=\"telegram\" width=\"30\" height=\"22\" style=\"padding-left:8px\"/>\n",
    "<!-- Twitter -->\n",
    "<a href=\"https://www.twitter.com/sqlalchemist\" target=\"_blank\" rel=\"noreferrer\"> <img src=\"https://toppng.com/public/uploads/preview/twitter-x-new-logo-round-icon-png-11692480241tdbz6jparr.webp?size=16&color=3b3b3b\" alt=\"twitter\" width=\"30\" height=\"22\" style=\"padding-left:8px\"/>\n",
    "<!-- Github -->\n",
    "<a href=\"https://github.com/SqlAlchemist/My-portfolio\" target=\"_blank\" rel=\"noreferrer\"> <img src=\"https://icongr.am/devicon/github-original.svg?size=16&color=3b3b3b\" alt=\"github\" width=\"30\" height=\"30\" style=\"padding-left:8px\"/>\n",
    "<!-- Linkedin -->\n",
    "<a href=\"https://www.linkedin.com/in/j3sus-lmonroy\" target=\"_blank\" rel=\"noreferrer\"> <img src=\"https://icongr.am/simple/linkedin.svg?size=16&color=3b3b3b\" alt=\"linkedin\" width=\"30\" height=\"30\" style=\"padding-left:8px\"/>\n",
    "<!-- Medium -->\n",
    "<a href=\"https://medium.com/@jesus_lmonroy\" target=\"_blank\" rel=\"noreferrer\"> <img src=\"https://cdn1.iconfinder.com/data/icons/social-media-and-logos-12/32/Logo_medium-512.png?size=55&color=3b3b3b\" alt=\"medium\" width=\"30\" height=\"33\" style=\"padding-left:8px\"/>"
   ]
  }
 ],
 "metadata": {
  "colab": {
   "provenance": []
  },
  "deepnote": {},
  "deepnote_execution_queue": [],
  "deepnote_notebook_id": "cc69ac83fb3a477185ac79f7cdcfbff1",
  "gpuClass": "standard",
  "kernelspec": {
   "display_name": "Python 3 (ipykernel)",
   "language": "python",
   "name": "python3"
  },
  "language_info": {
   "codemirror_mode": {
    "name": "ipython",
    "version": 3
   },
   "file_extension": ".py",
   "mimetype": "text/x-python",
   "name": "python",
   "nbconvert_exporter": "python",
   "pygments_lexer": "ipython3",
   "version": "3.11.5"
  }
 },
 "nbformat": 4,
 "nbformat_minor": 4
}
