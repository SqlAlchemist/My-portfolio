{
 "cells": [
  {
   "cell_type": "markdown",
   "id": "ef7d916f-bae5-4549-b9ea-dd4627321768",
   "metadata": {
    "tags": []
   },
   "source": [
    "# IAAS - Data exploration"
   ]
  },
  {
   "cell_type": "markdown",
   "id": "5b148a51-a861-48b5-8590-33a4a42f5553",
   "metadata": {},
   "source": [
    "## Environment settings"
   ]
  },
  {
   "cell_type": "code",
   "execution_count": 1,
   "id": "fa0d4561-f4b7-4f0d-b008-f00d61d0e4d0",
   "metadata": {
    "tags": []
   },
   "outputs": [],
   "source": [
    "import numpy as np\n",
    "import pandas as pd\n",
    "import polars as pl\n",
    "import gspread\n",
    "import duckdb\n",
    "# Import authenticator and gspread to manage g-sheets\n",
    "from oauth2client.service_account import ServiceAccountCredentials\n",
    "from google.oauth2 import service_account\n",
    "from google.cloud import bigquery"
   ]
  },
  {
   "cell_type": "code",
   "execution_count": 2,
   "id": "c53a9969-3e29-4d0a-bc58-4be4ec4fe80f",
   "metadata": {
    "tags": []
   },
   "outputs": [],
   "source": [
    "# Create sheets and drive scopes to authenticate\n",
    "scopes = ['https://www.googleapis.com/auth/spreadsheets',\n",
    "        'https://www.googleapis.com/auth/drive',\n",
    "        'https://www.googleapis.com/auth/analytics.readonly']\n",
    "\n",
    "# Read google credentials\n",
    "api = '../APIS/arkham-538.json'\n",
    "# connect to google sheets\n",
    "gs_credentials = ServiceAccountCredentials.from_json_keyfile_name(api, scopes)\n",
    "gc = gspread.authorize(gs_credentials)\n",
    "# connect to big query\n",
    "bq_credentials = service_account.Credentials.from_service_account_file(api)\n",
    "project_id = 'arkham-538'\n",
    "client = bigquery.Client(credentials=bq_credentials,project=project_id)"
   ]
  },
  {
   "cell_type": "markdown",
   "id": "4add4f39-a07d-431e-954b-315621088d0f",
   "metadata": {},
   "source": [
    "## Create big query schema"
   ]
  },
  {
   "cell_type": "code",
   "execution_count": 5,
   "id": "76ed4d21-94da-4239-9705-445931193d38",
   "metadata": {
    "tags": []
   },
   "outputs": [
    {
     "data": {
      "text/plain": [
       "Dataset(DatasetReference('arkham-538', 'iaas'))"
      ]
     },
     "execution_count": 5,
     "metadata": {},
     "output_type": "execute_result"
    }
   ],
   "source": [
    "# create dataset gbq api\n",
    "#client.create_dataset('iaas')"
   ]
  },
  {
   "cell_type": "markdown",
   "id": "6b4a6155-e5e9-4fbf-9f2a-6c858f7e4bc0",
   "metadata": {},
   "source": [
    "## Read data sources"
   ]
  },
  {
   "cell_type": "markdown",
   "id": "1205ee85-dbbf-489b-b702-4be20cc727f4",
   "metadata": {},
   "source": [
    "### Reporte Mensual HM 01-12-2022 al 10-07-2023"
   ]
  },
  {
   "cell_type": "markdown",
   "id": "87864440-9861-41cc-9e9e-449e55be8cc9",
   "metadata": {},
   "source": [
    "#### HM-1"
   ]
  },
  {
   "cell_type": "code",
   "execution_count": 3,
   "id": "a76f464b-f4b8-49f4-9ccf-ec9ec962abfd",
   "metadata": {
    "tags": []
   },
   "outputs": [],
   "source": [
    "hm1 = pl.read_csv('~/Downloads/Project IAAS/HM1.csv', ignore_errors=True)"
   ]
  },
  {
   "cell_type": "markdown",
   "id": "a00f06df-3e91-4e3f-846d-b3fa9eb6df7c",
   "metadata": {},
   "source": [
    "#### HM-2"
   ]
  },
  {
   "cell_type": "code",
   "execution_count": 4,
   "id": "13b234c0-6fa5-4683-abec-2728d8bff5d3",
   "metadata": {
    "tags": []
   },
   "outputs": [],
   "source": [
    "hm2 = pl.read_csv('~/Downloads/Project IAAS/HM2.csv', ignore_errors=True)"
   ]
  },
  {
   "cell_type": "markdown",
   "id": "d91a7e18-cd69-42f9-a9d2-b14af2d7f40f",
   "metadata": {},
   "source": [
    "### Reporte Mensual IAAS Infeccion y Microorganismos 01-12-2022 AL 30-06-2023"
   ]
  },
  {
   "cell_type": "code",
   "execution_count": 5,
   "id": "5dde5079-4aa2-4c23-897f-c35ebe32f89a",
   "metadata": {
    "tags": []
   },
   "outputs": [],
   "source": [
    "im = pl.read_excel('~/Downloads/Project IAAS/Reporte Mensual IAAS Infeccion y Microorganismos 01-12-2022 AL 30-06-2023.xlsx',\n",
    "                   read_csv_options={'infer_schema_length':0})"
   ]
  },
  {
   "cell_type": "markdown",
   "id": "7d8eac84-4b79-4307-b80d-680a1495fac5",
   "metadata": {},
   "source": [
    "### Reporte Mensual IAAS Seguimiento HOSP 01-12-2022 AL 30-06-2023"
   ]
  },
  {
   "cell_type": "code",
   "execution_count": 6,
   "id": "d3c0f9a0-c06a-44bd-89ee-68b992ff701c",
   "metadata": {
    "tags": []
   },
   "outputs": [],
   "source": [
    "sh = pl.read_excel('~/Downloads/Project IAAS/Reporte Mensual IAAS Seguimiento HOSP 01-12-2022 AL 30-06-2023.xlsx',\n",
    "                   read_csv_options={'infer_schema_length':0})"
   ]
  },
  {
   "cell_type": "markdown",
   "id": "3526edbc-5b9e-4657-8a97-acc633f98b82",
   "metadata": {},
   "source": [
    "### Reporte Mensual IAAS Seguimiento Infecciones 01-12-2022 Al 30-06-2023"
   ]
  },
  {
   "cell_type": "code",
   "execution_count": 7,
   "id": "e44ff954-ced2-46ee-aae7-234578cbbc4a",
   "metadata": {
    "tags": []
   },
   "outputs": [],
   "source": [
    "si = pl.read_excel('~/Downloads/Project IAAS/Reporte Mensual IAAS Seguimiento Infecciones 01-12-2022 Al 30-06-2023.xlsx', \n",
    "                   read_csv_options={'infer_schema_length':0})"
   ]
  },
  {
   "cell_type": "markdown",
   "id": "f106a039-1d6c-4ac3-a553-99338315ecf2",
   "metadata": {},
   "source": [
    "### Reporte Mensual InformacionGeneral - 2023 10072023"
   ]
  },
  {
   "cell_type": "markdown",
   "id": "7be5ec5d-6b01-46e7-b61c-e7668847cf2a",
   "metadata": {},
   "source": [
    "#### InfoGral"
   ]
  },
  {
   "cell_type": "code",
   "execution_count": 8,
   "id": "ef6897f5-38e1-4501-a226-94017199abaf",
   "metadata": {
    "tags": []
   },
   "outputs": [],
   "source": [
    "ig = pl.read_excel('~/Downloads/Project IAAS/Reporte Mensual InformacionGeneral - 2023 10072023.xlsx', sheet_name='InfoGral',\n",
    "                   read_csv_options={'infer_schema_length':0})"
   ]
  },
  {
   "cell_type": "markdown",
   "id": "f5ebc024-bf77-487d-9daf-c1607cf3bbac",
   "metadata": {},
   "source": [
    "#### InfoGralReg"
   ]
  },
  {
   "cell_type": "code",
   "execution_count": 9,
   "id": "e5596f4c-d527-4d5c-bc4b-0ef60e0d94a6",
   "metadata": {
    "tags": []
   },
   "outputs": [],
   "source": [
    "igr = pl.read_excel('~/Downloads/Project IAAS/Reporte Mensual InformacionGeneral - 2023 10072023.xlsx', sheet_name='InfoGralReg',\n",
    "                    read_csv_options={'infer_schema_length':0})"
   ]
  },
  {
   "cell_type": "markdown",
   "id": "be363946-1638-4fa9-bc60-5776194e85e4",
   "metadata": {},
   "source": [
    "### Antibioticos Relevantes"
   ]
  },
  {
   "cell_type": "code",
   "execution_count": 115,
   "id": "f4f5deef-8e6a-4816-910a-5f962afd4281",
   "metadata": {
    "tags": []
   },
   "outputs": [],
   "source": [
    "mxrel = pl.read_excel('~/Downloads/Project IAAS/AntibioticosRelevantes.xlsx', sheet_name='MxRel',\n",
    "                      read_csv_options={'infer_schema_length':0})"
   ]
  },
  {
   "cell_type": "code",
   "execution_count": 11,
   "id": "8f1d0e92-9709-4744-8a82-5204e8aafcea",
   "metadata": {
    "tags": []
   },
   "outputs": [],
   "source": [
    "clsi = pl.read_excel('~/Downloads/Project IAAS/AntibioticosRelevantes.xlsx', sheet_name='CLSI',\n",
    "                     read_csv_options={'infer_schema_length':0})"
   ]
  },
  {
   "cell_type": "code",
   "execution_count": 12,
   "id": "c1aaee13-65e0-44a7-b754-04447d748456",
   "metadata": {
    "tags": []
   },
   "outputs": [],
   "source": [
    "med = pl.read_excel('~/Downloads/Project IAAS/AntibioticosRelevantes.xlsx', sheet_name='Med',\n",
    "                    read_csv_options={'infer_schema_length':0})"
   ]
  },
  {
   "cell_type": "markdown",
   "id": "9b7d020f-544b-4d52-be78-5a77b8b70ed8",
   "metadata": {},
   "source": [
    "### Catalogos"
   ]
  },
  {
   "cell_type": "code",
   "execution_count": 13,
   "id": "c8412ffb-249e-467e-8dac-4681a6d93b61",
   "metadata": {
    "tags": []
   },
   "outputs": [],
   "source": [
    "cat_edad = pl.read_excel('~/Downloads/Project IAAS/Catalogos.xlsx', sheet_name='cat_edad', read_csv_options={'infer_schema_length':0})"
   ]
  },
  {
   "cell_type": "code",
   "execution_count": 14,
   "id": "330d5688-14d9-4361-855c-9a040f2503a0",
   "metadata": {
    "tags": []
   },
   "outputs": [],
   "source": [
    "cat_egreso = pl.read_excel('~/Downloads/Project IAAS/Catalogos.xlsx', sheet_name='cat_egreso', read_csv_options={'infer_schema_length':0})"
   ]
  },
  {
   "cell_type": "code",
   "execution_count": 15,
   "id": "04721a31-44ef-40b8-a522-ffe6b4442ecb",
   "metadata": {
    "tags": []
   },
   "outputs": [],
   "source": [
    "calendario = pl.read_excel('~/Downloads/Project IAAS/Catalogos.xlsx', sheet_name='calendario', read_csv_options={'infer_schema_length':0})"
   ]
  },
  {
   "cell_type": "markdown",
   "id": "f840c85b-239d-401d-a437-612596b6856b",
   "metadata": {},
   "source": [
    "## SQL queries to files"
   ]
  },
  {
   "cell_type": "code",
   "execution_count": 16,
   "id": "5db94c74-1e70-4bcc-8175-f3fa7bbcdb8a",
   "metadata": {
    "tags": []
   },
   "outputs": [
    {
     "data": {
      "text/html": [
       "<div><style>\n",
       ".dataframe > thead > tr > th,\n",
       ".dataframe > tbody > tr > td {\n",
       "  text-align: right;\n",
       "}\n",
       "</style>\n",
       "<small>shape: (5, 222)</small><table border=\"1\" class=\"dataframe\"><thead><tr><th>cvePresupuestal</th><th>feRegistro</th><th>desc_delegacion</th><th>desc_unidad</th><th>cveAno</th><th>cveMes</th><th>divEgresosPeditria</th><th>divDiasPeditria</th><th>divEgresosCirugia</th><th>divDiasCirugia</th><th>divEgresosGineco</th><th>divDiasGineco</th><th>divEgresosMedInterna</th><th>divDiasMedInterna</th><th>divTotalEgresos</th><th>divTotalDiasEstancia</th><th>UCIEgresosCuneroPato</th><th>UCIDiasCuneroPato</th><th>UCIEgresosQuemados</th><th>UCIDiasQuemados</th><th>UCIEgresosTerapiaIntermedia</th><th>UCIDiasTerapiaIntermedia</th><th>UCIEgresosAdultos</th><th>UCIDiasAdultos</th><th>UCIEgresosCoronarios</th><th>UCIDiasCoronarios</th><th>UCIEgresosNeonatales</th><th>UCIDiasNeonatales</th><th>UCIEgresosPediatrico</th><th>UCIDiasPediatrico</th><th>UCIEgresosPostQx</th><th>UCIDiasPostQx</th><th>UCIEgresosPostQxPediatrico</th><th>UCIDiasPostQxPediatrico</th><th>UCIEgresosRespiratorio</th><th>UCIDiasRespiratorio</th><th>UCITotalEgresos</th><th>&hellip;</th><th>diasEstancia_duplicated_19</th><th>cveServicio_duplicated_20</th><th>descServicio_duplicated_20</th><th>numEgresos_duplicated_20</th><th>diasEstancia_duplicated_20</th><th>cveServicio_duplicated_21</th><th>descServicio_duplicated_21</th><th>numEgresos_duplicated_21</th><th>diasEstancia_duplicated_21</th><th>cveServicio_duplicated_22</th><th>descServicio_duplicated_22</th><th>numEgresos_duplicated_22</th><th>diasEstancia_duplicated_22</th><th>cveServicio_duplicated_23</th><th>descServicio_duplicated_23</th><th>numEgresos_duplicated_23</th><th>diasEstancia_duplicated_23</th><th>cveServicio_duplicated_24</th><th>descServicio_duplicated_24</th><th>numEgresos_duplicated_24</th><th>diasEstancia_duplicated_24</th><th>cveServicio_duplicated_25</th><th>descServicio_duplicated_25</th><th>numEgresos_duplicated_25</th><th>diasEstancia_duplicated_25</th><th>cveServicio_duplicated_26</th><th>descServicio_duplicated_26</th><th>numEgresos_duplicated_26</th><th>diasEstancia_duplicated_26</th><th>cveServicio_duplicated_27</th><th>descServicio_duplicated_27</th><th>numEgresos_duplicated_27</th><th>diasEstancia_duplicated_27</th><th>cveServicio_duplicated_28</th><th>descServicio_duplicated_28</th><th>numEgresos_duplicated_28</th><th>diasEstancia_duplicated_28</th></tr><tr><td>str</td><td>str</td><td>str</td><td>str</td><td>str</td><td>str</td><td>str</td><td>str</td><td>str</td><td>str</td><td>str</td><td>str</td><td>str</td><td>str</td><td>str</td><td>str</td><td>str</td><td>str</td><td>str</td><td>str</td><td>str</td><td>str</td><td>str</td><td>str</td><td>str</td><td>str</td><td>str</td><td>str</td><td>str</td><td>str</td><td>str</td><td>str</td><td>str</td><td>str</td><td>str</td><td>str</td><td>str</td><td>&hellip;</td><td>str</td><td>str</td><td>str</td><td>str</td><td>str</td><td>str</td><td>str</td><td>str</td><td>str</td><td>str</td><td>str</td><td>str</td><td>str</td><td>str</td><td>str</td><td>str</td><td>str</td><td>str</td><td>str</td><td>str</td><td>str</td><td>str</td><td>str</td><td>str</td><td>str</td><td>str</td><td>str</td><td>str</td><td>str</td><td>str</td><td>str</td><td>str</td><td>str</td><td>str</td><td>str</td><td>str</td><td>str</td></tr></thead><tbody><tr><td>&quot;010101012151&quot;</td><td>&quot;2023-06-05 09:…</td><td>&quot;Aguascalientes…</td><td>&quot;HGZ 1 AGUASCAL…</td><td>&quot;2023&quot;</td><td>&quot;5&quot;</td><td>&quot;197&quot;</td><td>&quot;599&quot;</td><td>&quot;372&quot;</td><td>&quot;2016&quot;</td><td>&quot;261&quot;</td><td>&quot;400&quot;</td><td>&quot;366&quot;</td><td>&quot;2357&quot;</td><td>&quot;1196&quot;</td><td>&quot;5372&quot;</td><td>&quot;0&quot;</td><td>&quot;0&quot;</td><td>&quot;0&quot;</td><td>&quot;0&quot;</td><td>&quot;0&quot;</td><td>&quot;0&quot;</td><td>&quot;18&quot;</td><td>&quot;41&quot;</td><td>&quot;0&quot;</td><td>&quot;0&quot;</td><td>&quot;0&quot;</td><td>&quot;0&quot;</td><td>&quot;7&quot;</td><td>&quot;45&quot;</td><td>&quot;0&quot;</td><td>&quot;0&quot;</td><td>&quot;0&quot;</td><td>&quot;0&quot;</td><td>&quot;0&quot;</td><td>&quot;0&quot;</td><td>&quot;25&quot;</td><td>&hellip;</td><td>&quot;33&quot;</td><td>&quot;51&quot;</td><td>&quot;ONCOLOGIA QUIR…</td><td>&quot;18&quot;</td><td>&quot;40&quot;</td><td>&quot;61&quot;</td><td>&quot;CUNERO PATOLOG…</td><td>&quot;5&quot;</td><td>&quot;64&quot;</td><td>&quot;79&quot;</td><td>&quot;ALOJAMIENTO CO…</td><td>&quot;135&quot;</td><td>&quot;248&quot;</td><td>null</td><td>null</td><td>null</td><td>null</td><td>null</td><td>null</td><td>null</td><td>null</td><td>null</td><td>null</td><td>null</td><td>null</td><td>null</td><td>null</td><td>null</td><td>null</td><td>null</td><td>null</td><td>null</td><td>null</td><td>null</td><td>null</td><td>null</td><td>null</td></tr><tr><td>&quot;010101012151&quot;</td><td>&quot;2023-05-30 12:…</td><td>&quot;Aguascalientes…</td><td>&quot;HGZ 1 AGUASCAL…</td><td>&quot;2023&quot;</td><td>&quot;4&quot;</td><td>&quot;205&quot;</td><td>&quot;439&quot;</td><td>&quot;313&quot;</td><td>&quot;1887&quot;</td><td>&quot;249&quot;</td><td>&quot;407&quot;</td><td>&quot;386&quot;</td><td>&quot;2290&quot;</td><td>&quot;1153&quot;</td><td>&quot;5023&quot;</td><td>&quot;15&quot;</td><td>&quot;29&quot;</td><td>&quot;0&quot;</td><td>&quot;0&quot;</td><td>&quot;0&quot;</td><td>&quot;0&quot;</td><td>&quot;18&quot;</td><td>&quot;91&quot;</td><td>&quot;0&quot;</td><td>&quot;0&quot;</td><td>&quot;0&quot;</td><td>&quot;4&quot;</td><td>&quot;2&quot;</td><td>&quot;7&quot;</td><td>&quot;0&quot;</td><td>&quot;0&quot;</td><td>&quot;0&quot;</td><td>&quot;0&quot;</td><td>&quot;0&quot;</td><td>&quot;0&quot;</td><td>&quot;35&quot;</td><td>&hellip;</td><td>&quot;27&quot;</td><td>&quot;46&quot;</td><td>&quot;CIRUGIA PLASTI…</td><td>&quot;2&quot;</td><td>&quot;6&quot;</td><td>&quot;51&quot;</td><td>&quot;ONCOLOGIA QUIR…</td><td>&quot;15&quot;</td><td>&quot;33&quot;</td><td>&quot;61&quot;</td><td>&quot;CUNERO PATOLOG…</td><td>&quot;15&quot;</td><td>&quot;29&quot;</td><td>&quot;79&quot;</td><td>&quot;ALOJAMIENTO CO…</td><td>&quot;124&quot;</td><td>&quot;173&quot;</td><td>null</td><td>null</td><td>null</td><td>null</td><td>null</td><td>null</td><td>null</td><td>null</td><td>null</td><td>null</td><td>null</td><td>null</td><td>null</td><td>null</td><td>null</td><td>null</td><td>null</td><td>null</td><td>null</td><td>null</td></tr><tr><td>&quot;010101012151&quot;</td><td>&quot;2023-05-04 15:…</td><td>&quot;Aguascalientes…</td><td>&quot;HGZ 1 AGUASCAL…</td><td>&quot;2023&quot;</td><td>&quot;3&quot;</td><td>&quot;177&quot;</td><td>&quot;624&quot;</td><td>&quot;285&quot;</td><td>&quot;1820&quot;</td><td>&quot;222&quot;</td><td>&quot;378&quot;</td><td>&quot;319&quot;</td><td>&quot;1817&quot;</td><td>&quot;1003&quot;</td><td>&quot;4639&quot;</td><td>&quot;0&quot;</td><td>&quot;0&quot;</td><td>&quot;0&quot;</td><td>&quot;0&quot;</td><td>&quot;0&quot;</td><td>&quot;0&quot;</td><td>&quot;19&quot;</td><td>&quot;98&quot;</td><td>&quot;0&quot;</td><td>&quot;0&quot;</td><td>&quot;0&quot;</td><td>&quot;0&quot;</td><td>&quot;2&quot;</td><td>&quot;53&quot;</td><td>&quot;0&quot;</td><td>&quot;0&quot;</td><td>&quot;0&quot;</td><td>&quot;0&quot;</td><td>&quot;0&quot;</td><td>&quot;0&quot;</td><td>&quot;21&quot;</td><td>&hellip;</td><td>&quot;96&quot;</td><td>&quot;79&quot;</td><td>&quot;ALOJAMIENTO CO…</td><td>&quot;109&quot;</td><td>&quot;155&quot;</td><td>null</td><td>null</td><td>null</td><td>null</td><td>null</td><td>null</td><td>null</td><td>null</td><td>null</td><td>null</td><td>null</td><td>null</td><td>null</td><td>null</td><td>null</td><td>null</td><td>null</td><td>null</td><td>null</td><td>null</td><td>null</td><td>null</td><td>null</td><td>null</td><td>null</td><td>null</td><td>null</td><td>null</td><td>null</td><td>null</td><td>null</td><td>null</td></tr><tr><td>&quot;010101012151&quot;</td><td>&quot;2023-03-28 12:…</td><td>&quot;Aguascalientes…</td><td>&quot;HGZ 1 AGUASCAL…</td><td>&quot;2023&quot;</td><td>&quot;2&quot;</td><td>&quot;167&quot;</td><td>&quot;635&quot;</td><td>&quot;416&quot;</td><td>&quot;2140&quot;</td><td>&quot;243&quot;</td><td>&quot;345&quot;</td><td>&quot;394&quot;</td><td>&quot;1834&quot;</td><td>&quot;1220&quot;</td><td>&quot;4954&quot;</td><td>&quot;0&quot;</td><td>&quot;0&quot;</td><td>&quot;0&quot;</td><td>&quot;0&quot;</td><td>&quot;0&quot;</td><td>&quot;0&quot;</td><td>&quot;17&quot;</td><td>&quot;75&quot;</td><td>&quot;0&quot;</td><td>&quot;0&quot;</td><td>&quot;0&quot;</td><td>&quot;0&quot;</td><td>&quot;9&quot;</td><td>&quot;66&quot;</td><td>&quot;0&quot;</td><td>&quot;0&quot;</td><td>&quot;0&quot;</td><td>&quot;0&quot;</td><td>&quot;0&quot;</td><td>&quot;0&quot;</td><td>&quot;26&quot;</td><td>&hellip;</td><td>&quot;23&quot;</td><td>&quot;51&quot;</td><td>&quot;ONCOLOGIA QUIR…</td><td>&quot;15&quot;</td><td>&quot;57&quot;</td><td>&quot;61&quot;</td><td>&quot;CUNERO PATOLOG…</td><td>&quot;6&quot;</td><td>&quot;89&quot;</td><td>&quot;79&quot;</td><td>&quot;ALOJAMIENTO CO…</td><td>&quot;88&quot;</td><td>&quot;166&quot;</td><td>null</td><td>null</td><td>null</td><td>null</td><td>null</td><td>null</td><td>null</td><td>null</td><td>null</td><td>null</td><td>null</td><td>null</td><td>null</td><td>null</td><td>null</td><td>null</td><td>null</td><td>null</td><td>null</td><td>null</td><td>null</td><td>null</td><td>null</td><td>null</td></tr><tr><td>&quot;010101012151&quot;</td><td>&quot;2023-03-07 12:…</td><td>&quot;Aguascalientes…</td><td>&quot;HGZ 1 AGUASCAL…</td><td>&quot;2023&quot;</td><td>&quot;1&quot;</td><td>&quot;289&quot;</td><td>&quot;1667&quot;</td><td>&quot;230&quot;</td><td>&quot;385&quot;</td><td>&quot;345&quot;</td><td>&quot;1917&quot;</td><td>&quot;206&quot;</td><td>&quot;645&quot;</td><td>&quot;1070&quot;</td><td>&quot;4614&quot;</td><td>&quot;0&quot;</td><td>&quot;0&quot;</td><td>&quot;0&quot;</td><td>&quot;0&quot;</td><td>&quot;0&quot;</td><td>&quot;0&quot;</td><td>&quot;31&quot;</td><td>&quot;123&quot;</td><td>&quot;0&quot;</td><td>&quot;0&quot;</td><td>&quot;0&quot;</td><td>&quot;0&quot;</td><td>&quot;14&quot;</td><td>&quot;126&quot;</td><td>&quot;0&quot;</td><td>&quot;0&quot;</td><td>&quot;0&quot;</td><td>&quot;0&quot;</td><td>&quot;0&quot;</td><td>&quot;0&quot;</td><td>&quot;45&quot;</td><td>&hellip;</td><td>&quot;16&quot;</td><td>&quot;51&quot;</td><td>&quot;ONCOLOGIA QUIR…</td><td>&quot;7&quot;</td><td>&quot;51&quot;</td><td>&quot;61&quot;</td><td>&quot;CUNERO PATOLOG…</td><td>&quot;15&quot;</td><td>&quot;120&quot;</td><td>&quot;79&quot;</td><td>&quot;ALOJAMIENTO CO…</td><td>&quot;103&quot;</td><td>&quot;145&quot;</td><td>null</td><td>null</td><td>null</td><td>null</td><td>null</td><td>null</td><td>null</td><td>null</td><td>null</td><td>null</td><td>null</td><td>null</td><td>null</td><td>null</td><td>null</td><td>null</td><td>null</td><td>null</td><td>null</td><td>null</td><td>null</td><td>null</td><td>null</td><td>null</td></tr></tbody></table></div>"
      ],
      "text/plain": [
       "shape: (5, 222)\n",
       "┌────────────┬──────────┬────────────┬───────────┬───┬────────────┬────────────┬────────────┬────────────┐\n",
       "│ cvePresupu ┆ feRegist ┆ desc_deleg ┆ desc_unid ┆ … ┆ cveServici ┆ descServic ┆ numEgresos ┆ diasEstanc │\n",
       "│ estal      ┆ ro       ┆ acion      ┆ ad        ┆   ┆ o_duplicat ┆ io_duplica ┆ _duplicate ┆ ia_duplica │\n",
       "│ ---        ┆ ---      ┆ ---        ┆ ---       ┆   ┆ ed_28      ┆ ted_28     ┆ d_28       ┆ ted_28     │\n",
       "│ str        ┆ str      ┆ str        ┆ str       ┆   ┆ ---        ┆ ---        ┆ ---        ┆ ---        │\n",
       "│            ┆          ┆            ┆           ┆   ┆ str        ┆ str        ┆ str        ┆ str        │\n",
       "╞════════════╪══════════╪════════════╪═══════════╪═══╪════════════╪════════════╪════════════╪════════════╡\n",
       "│ 0101010121 ┆ 2023-06- ┆ Aguascalie ┆ HGZ 1 AGU ┆ … ┆ null       ┆ null       ┆ null       ┆ null       │\n",
       "│ 51         ┆ 05 09:23 ┆ ntes       ┆ ASCALIENT ┆   ┆            ┆            ┆            ┆            │\n",
       "│            ┆ :57.153  ┆            ┆ ES        ┆   ┆            ┆            ┆            ┆            │\n",
       "│ 0101010121 ┆ 2023-05- ┆ Aguascalie ┆ HGZ 1 AGU ┆ … ┆ null       ┆ null       ┆ null       ┆ null       │\n",
       "│ 51         ┆ 30 12:58 ┆ ntes       ┆ ASCALIENT ┆   ┆            ┆            ┆            ┆            │\n",
       "│            ┆ :20.810  ┆            ┆ ES        ┆   ┆            ┆            ┆            ┆            │\n",
       "│ 0101010121 ┆ 2023-05- ┆ Aguascalie ┆ HGZ 1 AGU ┆ … ┆ null       ┆ null       ┆ null       ┆ null       │\n",
       "│ 51         ┆ 04 15:03 ┆ ntes       ┆ ASCALIENT ┆   ┆            ┆            ┆            ┆            │\n",
       "│            ┆ :24.497  ┆            ┆ ES        ┆   ┆            ┆            ┆            ┆            │\n",
       "│ 0101010121 ┆ 2023-03- ┆ Aguascalie ┆ HGZ 1 AGU ┆ … ┆ null       ┆ null       ┆ null       ┆ null       │\n",
       "│ 51         ┆ 28 12:17 ┆ ntes       ┆ ASCALIENT ┆   ┆            ┆            ┆            ┆            │\n",
       "│            ┆ :02.150  ┆            ┆ ES        ┆   ┆            ┆            ┆            ┆            │\n",
       "│ 0101010121 ┆ 2023-03- ┆ Aguascalie ┆ HGZ 1 AGU ┆ … ┆ null       ┆ null       ┆ null       ┆ null       │\n",
       "│ 51         ┆ 07 12:52 ┆ ntes       ┆ ASCALIENT ┆   ┆            ┆            ┆            ┆            │\n",
       "│            ┆ :04.250  ┆            ┆ ES        ┆   ┆            ┆            ┆            ┆            │\n",
       "└────────────┴──────────┴────────────┴───────────┴───┴────────────┴────────────┴────────────┴────────────┘"
      ]
     },
     "execution_count": 16,
     "metadata": {},
     "output_type": "execute_result"
    }
   ],
   "source": [
    "# create sql queries with duckdb\n",
    "# read file with duckdb (csv, parquet, json)\n",
    "duckdb.sql(\n",
    "    '''\n",
    "    SELECT * \n",
    "    FROM igr\n",
    "    LIMIT 5\n",
    "    '''\n",
    ").pl() # and pipeline to polars dataframe\n",
    "'''\n",
    "others formats include: \n",
    ".pdf() for pandas\n",
    ".arrow() for arrow\n",
    ".fetchnumpy() for numpy\n",
    "'''"
   ]
  },
  {
   "cell_type": "markdown",
   "id": "4cbc1f8f-514d-4ac6-9bb4-3f606fdfe004",
   "metadata": {},
   "source": [
    "## Send to Big Query"
   ]
  },
  {
   "cell_type": "markdown",
   "id": "bcc138a7-afcf-43d5-a351-307c3758a2b4",
   "metadata": {},
   "source": [
    "**Tables to migrate to Big Query**:\n",
    "\n",
    "* hm1: Reporte Mensual HM1 \n",
    "* hm2: Reporte Mensual HM2\n",
    "\n",
    "* im:  Reporte mensual Infeccion Microorganismos\n",
    "* sh:  Reporte Mensual Seguimiento Hospital\n",
    "* si:  Reporte Mensual Seguimiento Infecciones\n",
    "* ig:  Reporte Mensual Informacion General 1\n",
    "* igr: Reporte Mensual Informacion General 1\n",
    "* mxrel\n",
    "* clsi\n",
    "* med\n",
    "* cat_edad\n",
    "* cat_egreso\n",
    "* calendario"
   ]
  },
  {
   "cell_type": "code",
   "execution_count": 17,
   "id": "0b1bddc4-f206-4896-bd0f-a051ff244494",
   "metadata": {
    "tags": []
   },
   "outputs": [
    {
     "name": "stderr",
     "output_type": "stream",
     "text": [
      "/var/folders/jy/hhl49vr95cdgq4r9c_fgwhd80000gn/T/ipykernel_4082/2564846518.py:2: FutureWarning: iteritems is deprecated and will be removed in a future version. Use .items instead.\n",
      "  hm1.to_gbq('arkham-538.sources.hm1_mensual',\n",
      "1it [03:15, 196.00s/it]\n"
     ]
    }
   ],
   "source": [
    "hm1 = hm1.to_pandas()\n",
    "hm1.to_gbq('arkham-538.sources.hm1_mensual',\n",
    "                    project_id='arkham-538',\n",
    "                    if_exists='replace',\n",
    "                    credentials=bq_credentials)"
   ]
  },
  {
   "cell_type": "code",
   "execution_count": 18,
   "id": "a9d32786-6ee4-402c-aa7a-7bea601708d9",
   "metadata": {
    "tags": []
   },
   "outputs": [
    {
     "name": "stderr",
     "output_type": "stream",
     "text": [
      "/var/folders/jy/hhl49vr95cdgq4r9c_fgwhd80000gn/T/ipykernel_4082/3546046522.py:2: FutureWarning: iteritems is deprecated and will be removed in a future version. Use .items instead.\n",
      "  hm2.to_gbq('arkham-538.sources.hm2_mensual',\n",
      "1it [03:13, 193.86s/it]\n"
     ]
    }
   ],
   "source": [
    "hm2 = hm2.to_pandas()\n",
    "hm2.to_gbq('arkham-538.sources.hm2_mensual',\n",
    "                    project_id='arkham-538',\n",
    "                    if_exists='replace',\n",
    "                    credentials=bq_credentials)"
   ]
  },
  {
   "cell_type": "code",
   "execution_count": 19,
   "id": "f288df80-a766-4039-b335-be3c5c7cc2f3",
   "metadata": {
    "tags": []
   },
   "outputs": [
    {
     "name": "stderr",
     "output_type": "stream",
     "text": [
      "/var/folders/jy/hhl49vr95cdgq4r9c_fgwhd80000gn/T/ipykernel_4082/1442581726.py:2: FutureWarning: iteritems is deprecated and will be removed in a future version. Use .items instead.\n",
      "  im.to_gbq('arkham-538.sources.infeccion_microorganismos',\n",
      "1it [00:40, 40.16s/it]\n"
     ]
    }
   ],
   "source": [
    "im = im.to_pandas()\n",
    "im.to_gbq('arkham-538.sources.infeccion_microorganismos',\n",
    "                    project_id='arkham-538',\n",
    "                    if_exists='replace',\n",
    "                    credentials=bq_credentials)"
   ]
  },
  {
   "cell_type": "code",
   "execution_count": 20,
   "id": "dabc0550-170a-4b44-87bb-0e75f41a2978",
   "metadata": {
    "tags": []
   },
   "outputs": [
    {
     "name": "stderr",
     "output_type": "stream",
     "text": [
      "/var/folders/jy/hhl49vr95cdgq4r9c_fgwhd80000gn/T/ipykernel_4082/896033877.py:2: FutureWarning: iteritems is deprecated and will be removed in a future version. Use .items instead.\n",
      "  sh.to_gbq('arkham-538.sources.seg_hosp',\n",
      "1it [00:53, 53.23s/it]\n"
     ]
    }
   ],
   "source": [
    "sh = sh.to_pandas()\n",
    "sh.to_gbq('arkham-538.sources.seg_hosp',\n",
    "                    project_id='arkham-538',\n",
    "                    if_exists='replace',\n",
    "                    credentials=bq_credentials)"
   ]
  },
  {
   "cell_type": "code",
   "execution_count": 21,
   "id": "8535a241-2536-4491-8dfa-cec959059d00",
   "metadata": {
    "tags": []
   },
   "outputs": [
    {
     "name": "stderr",
     "output_type": "stream",
     "text": [
      "/var/folders/jy/hhl49vr95cdgq4r9c_fgwhd80000gn/T/ipykernel_4082/2315190101.py:2: FutureWarning: iteritems is deprecated and will be removed in a future version. Use .items instead.\n",
      "  si.to_gbq('arkham-538.sources.seg_infecciones',\n",
      "1it [00:42, 42.77s/it]\n"
     ]
    }
   ],
   "source": [
    "si = si.to_pandas()\n",
    "si.to_gbq('arkham-538.sources.seg_infecciones',\n",
    "                    project_id='arkham-538',\n",
    "                    if_exists='replace',\n",
    "                    credentials=bq_credentials)"
   ]
  },
  {
   "cell_type": "code",
   "execution_count": 22,
   "id": "d0c08853-914b-4d77-9cea-297d893ada04",
   "metadata": {
    "tags": []
   },
   "outputs": [
    {
     "name": "stderr",
     "output_type": "stream",
     "text": [
      "/var/folders/jy/hhl49vr95cdgq4r9c_fgwhd80000gn/T/ipykernel_4082/1114240477.py:2: FutureWarning: iteritems is deprecated and will be removed in a future version. Use .items instead.\n",
      "  ig.to_gbq('arkham-538.sources.info_gral',\n",
      "1it [00:09,  9.48s/it]\n"
     ]
    }
   ],
   "source": [
    "ig = ig.to_pandas()\n",
    "ig.to_gbq('arkham-538.sources.info_gral',\n",
    "                    project_id='arkham-538',\n",
    "                    if_exists='replace',\n",
    "                    credentials=bq_credentials)"
   ]
  },
  {
   "cell_type": "code",
   "execution_count": 23,
   "id": "7eaa5ed2-0333-403e-aa38-276f2231ce63",
   "metadata": {
    "tags": []
   },
   "outputs": [
    {
     "name": "stderr",
     "output_type": "stream",
     "text": [
      "/var/folders/jy/hhl49vr95cdgq4r9c_fgwhd80000gn/T/ipykernel_4082/840247502.py:2: FutureWarning: iteritems is deprecated and will be removed in a future version. Use .items instead.\n",
      "  igr.to_gbq('arkham-538.sources.info_gral_reg',\n",
      "1it [00:04,  4.94s/it]\n"
     ]
    }
   ],
   "source": [
    "igr = igr.to_pandas()\n",
    "igr.to_gbq('arkham-538.sources.info_gral_reg',\n",
    "                    project_id='arkham-538',\n",
    "                    if_exists='replace',\n",
    "                    credentials=bq_credentials)"
   ]
  },
  {
   "cell_type": "code",
   "execution_count": 27,
   "id": "5f6445f3-6e61-4d6c-b05e-14ca9351ec51",
   "metadata": {
    "tags": []
   },
   "outputs": [
    {
     "name": "stderr",
     "output_type": "stream",
     "text": [
      "/var/folders/jy/hhl49vr95cdgq4r9c_fgwhd80000gn/T/ipykernel_4082/2475187532.py:2: FutureWarning: iteritems is deprecated and will be removed in a future version. Use .items instead.\n",
      "  mxrel.to_gbq('arkham-538.sources.xmlr',\n",
      "1it [00:04,  4.72s/it]\n"
     ]
    }
   ],
   "source": [
    "mxrel = mxrel.to_pandas()\n",
    "mxrel.to_gbq('arkham-538.sources.xmlr',\n",
    "                    project_id='arkham-538',\n",
    "                    if_exists='replace',\n",
    "                    credentials=bq_credentials)"
   ]
  },
  {
   "cell_type": "code",
   "execution_count": 25,
   "id": "64b8a128-cb3a-4ba4-8093-81dc728fd6a4",
   "metadata": {
    "tags": []
   },
   "outputs": [
    {
     "name": "stderr",
     "output_type": "stream",
     "text": [
      "/var/folders/jy/hhl49vr95cdgq4r9c_fgwhd80000gn/T/ipykernel_4082/2985247836.py:2: FutureWarning: iteritems is deprecated and will be removed in a future version. Use .items instead.\n",
      "  clsi.to_gbq('arkham-538.sources.clsi',\n",
      "1it [00:03,  3.40s/it]\n"
     ]
    }
   ],
   "source": [
    "clsi = clsi.to_pandas()\n",
    "clsi.to_gbq('arkham-538.sources.clsi',\n",
    "                    project_id='arkham-538',\n",
    "                    if_exists='replace',\n",
    "                    credentials=bq_credentials)"
   ]
  },
  {
   "cell_type": "code",
   "execution_count": 28,
   "id": "a440b91d-2953-4d00-a022-b9017d9f0d38",
   "metadata": {
    "tags": []
   },
   "outputs": [
    {
     "name": "stderr",
     "output_type": "stream",
     "text": [
      "/var/folders/jy/hhl49vr95cdgq4r9c_fgwhd80000gn/T/ipykernel_4082/3555835350.py:2: FutureWarning: iteritems is deprecated and will be removed in a future version. Use .items instead.\n",
      "  med.to_gbq('arkham-538.sources.med',\n",
      "1it [00:05,  5.55s/it]\n"
     ]
    }
   ],
   "source": [
    "med = med.to_pandas()\n",
    "med.to_gbq('arkham-538.sources.med',\n",
    "                    project_id='arkham-538',\n",
    "                    if_exists='replace',\n",
    "                    credentials=bq_credentials)"
   ]
  },
  {
   "cell_type": "code",
   "execution_count": 29,
   "id": "1883bae2-6f2d-44cf-a889-ef02527cfdce",
   "metadata": {
    "tags": []
   },
   "outputs": [
    {
     "name": "stderr",
     "output_type": "stream",
     "text": [
      "/var/folders/jy/hhl49vr95cdgq4r9c_fgwhd80000gn/T/ipykernel_4082/798827491.py:2: FutureWarning: iteritems is deprecated and will be removed in a future version. Use .items instead.\n",
      "  cat_edad.to_gbq('arkham-538.sources.cat_edad',\n",
      "1it [00:02,  2.89s/it]\n"
     ]
    }
   ],
   "source": [
    "cat_edad = cat_edad.to_pandas()\n",
    "cat_edad.to_gbq('arkham-538.sources.cat_edad',\n",
    "                    project_id='arkham-538',\n",
    "                    if_exists='replace',\n",
    "                    credentials=bq_credentials)"
   ]
  },
  {
   "cell_type": "code",
   "execution_count": 30,
   "id": "801511ed-074a-4005-add9-b45a8c4d0b88",
   "metadata": {
    "tags": []
   },
   "outputs": [
    {
     "name": "stderr",
     "output_type": "stream",
     "text": [
      "/var/folders/jy/hhl49vr95cdgq4r9c_fgwhd80000gn/T/ipykernel_4082/1104303133.py:2: FutureWarning: iteritems is deprecated and will be removed in a future version. Use .items instead.\n",
      "  cat_egreso.to_gbq('arkham-538.sources.cat_egreso',\n",
      "1it [00:02,  2.99s/it]\n"
     ]
    }
   ],
   "source": [
    "cat_egreso = cat_egreso.to_pandas()\n",
    "cat_egreso.to_gbq('arkham-538.sources.cat_egreso',\n",
    "                    project_id='arkham-538',\n",
    "                    if_exists='replace',\n",
    "                    credentials=bq_credentials)"
   ]
  },
  {
   "cell_type": "code",
   "execution_count": 31,
   "id": "c821612c-95d9-4a49-9b3c-ffd0ba3a9698",
   "metadata": {
    "tags": []
   },
   "outputs": [
    {
     "name": "stderr",
     "output_type": "stream",
     "text": [
      "/var/folders/jy/hhl49vr95cdgq4r9c_fgwhd80000gn/T/ipykernel_4082/3374479705.py:2: FutureWarning: iteritems is deprecated and will be removed in a future version. Use .items instead.\n",
      "  calendario.to_gbq('arkham-538.sources.calendario',\n",
      "1it [00:02,  2.91s/it]\n"
     ]
    }
   ],
   "source": [
    "calendario = calendario.to_pandas()\n",
    "calendario.to_gbq('arkham-538.sources.calendario',\n",
    "                    project_id='arkham-538',\n",
    "                    if_exists='replace',\n",
    "                    credentials=bq_credentials)"
   ]
  },
  {
   "cell_type": "markdown",
   "id": "4791cde8-780c-407e-a078-a26229f0bc28",
   "metadata": {},
   "source": [
    "## Query from Big Query"
   ]
  },
  {
   "cell_type": "code",
   "execution_count": 32,
   "id": "9ebcd281-c95e-4155-ba8d-b1dfcbbd8b09",
   "metadata": {
    "tags": []
   },
   "outputs": [],
   "source": [
    "# create sql query\n",
    "query = '''\n",
    "    SELECT * FROM `arkham-538.sources.info_gral_reg`\n",
    "    LIMIT 5\n",
    "'''"
   ]
  },
  {
   "cell_type": "code",
   "execution_count": 33,
   "id": "99e207a7-1674-40cb-aaf0-6e6ab782ef3b",
   "metadata": {
    "tags": []
   },
   "outputs": [
    {
     "data": {
      "text/html": [
       "<div>\n",
       "<style scoped>\n",
       "    .dataframe tbody tr th:only-of-type {\n",
       "        vertical-align: middle;\n",
       "    }\n",
       "\n",
       "    .dataframe tbody tr th {\n",
       "        vertical-align: top;\n",
       "    }\n",
       "\n",
       "    .dataframe thead th {\n",
       "        text-align: right;\n",
       "    }\n",
       "</style>\n",
       "<table border=\"1\" class=\"dataframe\">\n",
       "  <thead>\n",
       "    <tr style=\"text-align: right;\">\n",
       "      <th></th>\n",
       "      <th>cvePresupuestal</th>\n",
       "      <th>feRegistro</th>\n",
       "      <th>desc_delegacion</th>\n",
       "      <th>desc_unidad</th>\n",
       "      <th>cveAno</th>\n",
       "      <th>cveMes</th>\n",
       "      <th>divEgresosPeditria</th>\n",
       "      <th>divDiasPeditria</th>\n",
       "      <th>divEgresosCirugia</th>\n",
       "      <th>divDiasCirugia</th>\n",
       "      <th>...</th>\n",
       "      <th>numEgresos_duplicated_26</th>\n",
       "      <th>diasEstancia_duplicated_26</th>\n",
       "      <th>cveServicio_duplicated_27</th>\n",
       "      <th>descServicio_duplicated_27</th>\n",
       "      <th>numEgresos_duplicated_27</th>\n",
       "      <th>diasEstancia_duplicated_27</th>\n",
       "      <th>cveServicio_duplicated_28</th>\n",
       "      <th>descServicio_duplicated_28</th>\n",
       "      <th>numEgresos_duplicated_28</th>\n",
       "      <th>diasEstancia_duplicated_28</th>\n",
       "    </tr>\n",
       "  </thead>\n",
       "  <tbody>\n",
       "    <tr>\n",
       "      <th>0</th>\n",
       "      <td>020501142151</td>\n",
       "      <td>2023-07-05 11:37:01.110</td>\n",
       "      <td>Baja California</td>\n",
       "      <td>HGOMF 7 TIJUANA</td>\n",
       "      <td>2023</td>\n",
       "      <td>5</td>\n",
       "      <td>341</td>\n",
       "      <td>176</td>\n",
       "      <td>0</td>\n",
       "      <td>0</td>\n",
       "      <td>...</td>\n",
       "      <td>None</td>\n",
       "      <td>None</td>\n",
       "      <td>None</td>\n",
       "      <td>None</td>\n",
       "      <td>None</td>\n",
       "      <td>None</td>\n",
       "      <td>None</td>\n",
       "      <td>None</td>\n",
       "      <td>None</td>\n",
       "      <td>None</td>\n",
       "    </tr>\n",
       "    <tr>\n",
       "      <th>1</th>\n",
       "      <td>020501142151</td>\n",
       "      <td>2023-07-04 15:45:47.817</td>\n",
       "      <td>Baja California</td>\n",
       "      <td>HGOMF 7 TIJUANA</td>\n",
       "      <td>2023</td>\n",
       "      <td>4</td>\n",
       "      <td>380</td>\n",
       "      <td>1063</td>\n",
       "      <td>0</td>\n",
       "      <td>0</td>\n",
       "      <td>...</td>\n",
       "      <td>None</td>\n",
       "      <td>None</td>\n",
       "      <td>None</td>\n",
       "      <td>None</td>\n",
       "      <td>None</td>\n",
       "      <td>None</td>\n",
       "      <td>None</td>\n",
       "      <td>None</td>\n",
       "      <td>None</td>\n",
       "      <td>None</td>\n",
       "    </tr>\n",
       "    <tr>\n",
       "      <th>2</th>\n",
       "      <td>020501142151</td>\n",
       "      <td>2023-07-04 15:15:12.840</td>\n",
       "      <td>Baja California</td>\n",
       "      <td>HGOMF 7 TIJUANA</td>\n",
       "      <td>2023</td>\n",
       "      <td>3</td>\n",
       "      <td>403</td>\n",
       "      <td>913</td>\n",
       "      <td>0</td>\n",
       "      <td>0</td>\n",
       "      <td>...</td>\n",
       "      <td>None</td>\n",
       "      <td>None</td>\n",
       "      <td>None</td>\n",
       "      <td>None</td>\n",
       "      <td>None</td>\n",
       "      <td>None</td>\n",
       "      <td>None</td>\n",
       "      <td>None</td>\n",
       "      <td>None</td>\n",
       "      <td>None</td>\n",
       "    </tr>\n",
       "    <tr>\n",
       "      <th>3</th>\n",
       "      <td>020501142151</td>\n",
       "      <td>2023-03-10 17:21:57.053</td>\n",
       "      <td>Baja California</td>\n",
       "      <td>HGOMF 7 TIJUANA</td>\n",
       "      <td>2023</td>\n",
       "      <td>2</td>\n",
       "      <td>465</td>\n",
       "      <td>1102</td>\n",
       "      <td>0</td>\n",
       "      <td>0</td>\n",
       "      <td>...</td>\n",
       "      <td>None</td>\n",
       "      <td>None</td>\n",
       "      <td>None</td>\n",
       "      <td>None</td>\n",
       "      <td>None</td>\n",
       "      <td>None</td>\n",
       "      <td>None</td>\n",
       "      <td>None</td>\n",
       "      <td>None</td>\n",
       "      <td>None</td>\n",
       "    </tr>\n",
       "    <tr>\n",
       "      <th>4</th>\n",
       "      <td>020501142151</td>\n",
       "      <td>2023-02-08 16:26:06.800</td>\n",
       "      <td>Baja California</td>\n",
       "      <td>HGOMF 7 TIJUANA</td>\n",
       "      <td>2023</td>\n",
       "      <td>1</td>\n",
       "      <td>374</td>\n",
       "      <td>861</td>\n",
       "      <td>0</td>\n",
       "      <td>0</td>\n",
       "      <td>...</td>\n",
       "      <td>None</td>\n",
       "      <td>None</td>\n",
       "      <td>None</td>\n",
       "      <td>None</td>\n",
       "      <td>None</td>\n",
       "      <td>None</td>\n",
       "      <td>None</td>\n",
       "      <td>None</td>\n",
       "      <td>None</td>\n",
       "      <td>None</td>\n",
       "    </tr>\n",
       "  </tbody>\n",
       "</table>\n",
       "<p>5 rows × 222 columns</p>\n",
       "</div>"
      ],
      "text/plain": [
       "  cvePresupuestal               feRegistro  desc_delegacion      desc_unidad  \\\n",
       "0    020501142151  2023-07-05 11:37:01.110  Baja California  HGOMF 7 TIJUANA   \n",
       "1    020501142151  2023-07-04 15:45:47.817  Baja California  HGOMF 7 TIJUANA   \n",
       "2    020501142151  2023-07-04 15:15:12.840  Baja California  HGOMF 7 TIJUANA   \n",
       "3    020501142151  2023-03-10 17:21:57.053  Baja California  HGOMF 7 TIJUANA   \n",
       "4    020501142151  2023-02-08 16:26:06.800  Baja California  HGOMF 7 TIJUANA   \n",
       "\n",
       "  cveAno cveMes divEgresosPeditria divDiasPeditria divEgresosCirugia  \\\n",
       "0   2023      5                341             176                 0   \n",
       "1   2023      4                380            1063                 0   \n",
       "2   2023      3                403             913                 0   \n",
       "3   2023      2                465            1102                 0   \n",
       "4   2023      1                374             861                 0   \n",
       "\n",
       "  divDiasCirugia  ... numEgresos_duplicated_26 diasEstancia_duplicated_26  \\\n",
       "0              0  ...                     None                       None   \n",
       "1              0  ...                     None                       None   \n",
       "2              0  ...                     None                       None   \n",
       "3              0  ...                     None                       None   \n",
       "4              0  ...                     None                       None   \n",
       "\n",
       "  cveServicio_duplicated_27 descServicio_duplicated_27  \\\n",
       "0                      None                       None   \n",
       "1                      None                       None   \n",
       "2                      None                       None   \n",
       "3                      None                       None   \n",
       "4                      None                       None   \n",
       "\n",
       "  numEgresos_duplicated_27 diasEstancia_duplicated_27  \\\n",
       "0                     None                       None   \n",
       "1                     None                       None   \n",
       "2                     None                       None   \n",
       "3                     None                       None   \n",
       "4                     None                       None   \n",
       "\n",
       "  cveServicio_duplicated_28 descServicio_duplicated_28  \\\n",
       "0                      None                       None   \n",
       "1                      None                       None   \n",
       "2                      None                       None   \n",
       "3                      None                       None   \n",
       "4                      None                       None   \n",
       "\n",
       "  numEgresos_duplicated_28 diasEstancia_duplicated_28  \n",
       "0                     None                       None  \n",
       "1                     None                       None  \n",
       "2                     None                       None  \n",
       "3                     None                       None  \n",
       "4                     None                       None  \n",
       "\n",
       "[5 rows x 222 columns]"
      ]
     },
     "execution_count": 33,
     "metadata": {},
     "output_type": "execute_result"
    }
   ],
   "source": [
    "# convert query to pandas dataframe\n",
    "info_gral_reg = pd.read_gbq(query, credentials=bq_credentials)\n",
    "# display dataframe\n",
    "info_gral_reg"
   ]
  },
  {
   "cell_type": "markdown",
   "id": "224c2ccc-772a-4cf7-98c0-64889877e3eb",
   "metadata": {},
   "source": [
    "## Ingestion to Clever Cloud"
   ]
  },
  {
   "cell_type": "code",
   "execution_count": 7,
   "id": "c40704c6-e858-4a7d-a714-a7baa2ba1420",
   "metadata": {
    "tags": []
   },
   "outputs": [],
   "source": [
    "# Import sqlalchemy library\n",
    "import os\n",
    "import json\n",
    "import sqlalchemy\n",
    "from sqlalchemy.types import (Integer, Float, Boolean, DateTime, String, Date, TIMESTAMP)\n",
    "\n",
    "# path to credentials folder\n",
    "filename = '../APIS/credentials.json'\n",
    "# read json file\n",
    "with open(filename) as f:\n",
    "    keys = json.load(f)\n",
    "# read credentials\n",
    "hostname = keys['clevercloud_host']\n",
    "dbname = keys['clevercloud_db']\n",
    "uname = keys['clevercloud_user']\n",
    "pwd = keys['clevercloud_passw']\n",
    "port= keys['clevercloud_port']\n",
    "\n",
    "# Create engine\n",
    "engine = sqlalchemy.create_engine('postgresql+psycopg2://'+uname+':'+pwd+'@'+hostname+':'+port+'/'+dbname, echo=False)\n",
    "# Create connection by sqlalchemy\n",
    "conn = engine.connect()"
   ]
  },
  {
   "cell_type": "code",
   "execution_count": 20,
   "id": "b9bffae7-5b09-4024-975a-c975751ebdfe",
   "metadata": {
    "tags": []
   },
   "outputs": [],
   "source": [
    "# Drop tables and dependent views\n",
    "conn.execute('DROP TABLE IF EXISTS hm1 CASCADE;');\n",
    "conn.execute('DROP TABLE IF EXISTS hm2 CASCADE;');\n",
    "conn.execute('DROP TABLE IF EXISTS im CASCADE;');\n",
    "conn.execute('DROP TABLE IF EXISTS sh CASCADE;');\n",
    "conn.execute('DROP TABLE IF EXISTS si CASCADE;');\n",
    "conn.execute('DROP TABLE IF EXISTS ig CASCADE;');\n",
    "conn.execute('DROP TABLE IF EXISTS igr CASCADE;');\n",
    "conn.execute('DROP TABLE IF EXISTS mxrel CASCADE;');\n",
    "conn.execute('DROP TABLE IF EXISTS clsi CASCADE;');\n",
    "conn.execute('DROP TABLE IF EXISTS med CASCADE;');\n",
    "conn.execute('DROP TABLE IF EXISTS cat_edad CASCADE;');\n",
    "conn.execute('DROP TABLE IF EXISTS cat_egreso CASCADE;');\n",
    "conn.execute('DROP TABLE IF EXISTS calendario CASCADE;');"
   ]
  },
  {
   "cell_type": "code",
   "execution_count": 23,
   "id": "1b2f6d72-7d7b-4f6f-b36f-ffa932690807",
   "metadata": {
    "tags": []
   },
   "outputs": [],
   "source": [
    "#Migrate dataframes to PostgreSQL on server\n",
    "hm1 = hm1.to_pandas()\n",
    "hm1.to_sql('hm1', conn, if_exists='replace', index=False);"
   ]
  },
  {
   "cell_type": "code",
   "execution_count": 25,
   "id": "85d0621c-1a76-4ea3-9e2c-66a14c8db379",
   "metadata": {
    "tags": []
   },
   "outputs": [],
   "source": [
    "hm2 = hm2.to_pandas()\n",
    "hm2.to_sql('hm2', conn, if_exists='replace', index=False);"
   ]
  },
  {
   "cell_type": "code",
   "execution_count": 27,
   "id": "cb9d74e4-272c-4126-8256-391af8520b1d",
   "metadata": {
    "tags": []
   },
   "outputs": [],
   "source": [
    "im = im.to_pandas()\n",
    "im.to_sql('im', conn, if_exists='replace', index=False);"
   ]
  },
  {
   "cell_type": "code",
   "execution_count": 29,
   "id": "68cf3f93-40c4-4550-a6ae-c874aa346096",
   "metadata": {
    "tags": []
   },
   "outputs": [],
   "source": [
    "sh = sh.to_pandas()\n",
    "sh.to_sql('sh', conn, if_exists='replace', index=False);"
   ]
  },
  {
   "cell_type": "code",
   "execution_count": 30,
   "id": "b426ba6e-b99a-45b9-8518-a01f7b1ad082",
   "metadata": {
    "tags": []
   },
   "outputs": [],
   "source": [
    "si = si.to_pandas()\n",
    "si.to_sql('si', conn, if_exists='replace', index=False);"
   ]
  },
  {
   "cell_type": "code",
   "execution_count": 31,
   "id": "a93718e0-beb5-4c08-b8aa-e68c217a3972",
   "metadata": {
    "tags": []
   },
   "outputs": [],
   "source": [
    "ig = ig.to_pandas()\n",
    "ig.to_sql('ig', conn, if_exists='replace', index=False);"
   ]
  },
  {
   "cell_type": "code",
   "execution_count": 32,
   "id": "517a02fb-bba9-4c47-a4ed-b3b985cd855e",
   "metadata": {
    "tags": []
   },
   "outputs": [],
   "source": [
    "igr = igr.to_pandas()\n",
    "igr.to_sql('igr', conn, if_exists='replace', index=False);"
   ]
  },
  {
   "cell_type": "code",
   "execution_count": 33,
   "id": "ee10a16c-c3e4-48d1-adba-5d791dd1c1d3",
   "metadata": {
    "tags": []
   },
   "outputs": [],
   "source": [
    "mxrel = mxrel.to_pandas()\n",
    "mxrel.to_sql('mxrel', conn, if_exists='replace', index=False);"
   ]
  },
  {
   "cell_type": "code",
   "execution_count": 34,
   "id": "c4a7815a-8c32-48f3-b19a-05ce269e923b",
   "metadata": {
    "tags": []
   },
   "outputs": [],
   "source": [
    "clsi = clsi.to_pandas()\n",
    "clsi.to_sql('clsi', conn, if_exists='replace', index=False);"
   ]
  },
  {
   "cell_type": "code",
   "execution_count": 35,
   "id": "a77f6a98-d161-457b-a149-f4bf3e32e99a",
   "metadata": {
    "tags": []
   },
   "outputs": [],
   "source": [
    "med = med.to_pandas()\n",
    "med.to_sql('med', conn, if_exists='replace', index=False);"
   ]
  },
  {
   "cell_type": "code",
   "execution_count": 36,
   "id": "7d9741f0-6182-479b-b053-fdb6ee1c153c",
   "metadata": {
    "tags": []
   },
   "outputs": [],
   "source": [
    "cat_edad = cat_edad.to_pandas()\n",
    "cat_edad.to_sql('cat_edad', conn, if_exists='replace', index=False);"
   ]
  },
  {
   "cell_type": "code",
   "execution_count": 37,
   "id": "65383967-e043-4a22-81ef-8b56fe24cf69",
   "metadata": {
    "tags": []
   },
   "outputs": [],
   "source": [
    "cat_egreso = cat_egreso.to_pandas()\n",
    "cat_egreso.to_sql('cat_egreso', conn, if_exists='replace', index=False);"
   ]
  },
  {
   "cell_type": "code",
   "execution_count": 38,
   "id": "254abe91-137d-4e1c-877b-1ad7904e1e0f",
   "metadata": {
    "tags": []
   },
   "outputs": [],
   "source": [
    "calendario = calendario.to_pandas()\n",
    "calendario.to_sql('calendario', conn, if_exists='replace', index=False);"
   ]
  },
  {
   "cell_type": "code",
   "execution_count": 8,
   "id": "5a76d983-4606-4a16-b9c9-aa59198e44f9",
   "metadata": {
    "tags": []
   },
   "outputs": [],
   "source": [
    "# Close the connection\n",
    "conn.close()"
   ]
  },
  {
   "cell_type": "markdown",
   "id": "02d0438e-b31d-4861-ab93-c55c8afd5d64",
   "metadata": {},
   "source": [
    "---"
   ]
  },
  {
   "cell_type": "markdown",
   "id": "91470788-ad46-4ad6-b820-704a9d9496c5",
   "metadata": {},
   "source": [
    "### Contact"
   ]
  },
  {
   "cell_type": "markdown",
   "id": "8abe783e-a8be-4f3b-911d-754a28ab5771",
   "metadata": {
    "tags": []
   },
   "source": [
    "<img src=\"../Pictures/PMcard.png\" style=\"width:250px;height:85px;\">"
   ]
  }
 ],
 "metadata": {
  "kernelspec": {
   "display_name": "Python 3 (ipykernel)",
   "language": "python",
   "name": "python3"
  },
  "language_info": {
   "codemirror_mode": {
    "name": "ipython",
    "version": 3
   },
   "file_extension": ".py",
   "mimetype": "text/x-python",
   "name": "python",
   "nbconvert_exporter": "python",
   "pygments_lexer": "ipython3",
   "version": "3.11.0"
  }
 },
 "nbformat": 4,
 "nbformat_minor": 5
}
