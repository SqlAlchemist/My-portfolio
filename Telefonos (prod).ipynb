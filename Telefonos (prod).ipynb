{
 "cells": [
  {
   "cell_type": "markdown",
   "metadata": {
    "cell_id": "57b8394ffc2f4784a29b029dd8dd0f33",
    "deepnote_cell_type": "markdown",
    "id": "vgHFVNaGa4v2",
    "noteable": {
     "cell_type": "markdown"
    }
   },
   "source": [
    "## Análisis de calidad sobre números telefónicos almacenados"
   ]
  },
  {
   "cell_type": "markdown",
   "metadata": {
    "cell_id": "db970f548469438aa0faaf65b537a5a5",
    "deepnote_cell_type": "markdown",
    "id": "T28EPBdDa4v5",
    "noteable": {
     "cell_type": "markdown"
    }
   },
   "source": [
    "**Updated**: 26-abr-2023 <br>\n",
    "**Created**: 14-abr-2023"
   ]
  },
  {
   "cell_type": "markdown",
   "metadata": {
    "cell_id": "aa183b984c2044e6b280386c84095dc0",
    "deepnote_cell_type": "text-cell-callout",
    "formattedRanges": [
     {
      "fromCodePoint": 0,
      "marks": {
       "bold": true
      },
      "toCodePoint": 20,
      "type": "marks"
     }
    ],
    "id": "gQbsHxFYa4v8"
   },
   "source": [
    "### Environment settings"
   ]
  },
  {
   "cell_type": "code",
   "execution_count": 1,
   "metadata": {
    "ExecuteTime": {
     "end_time": "2023-03-09T03:24:29.569988+00:00",
     "start_time": "2023-03-09T03:24:29.412373+00:00"
    },
    "cell_id": "b52da03533b8405598f89560ece309fa",
    "deepnote_cell_type": "code",
    "deepnote_to_be_reexecuted": false,
    "executionInfo": {
     "elapsed": 772,
     "status": "ok",
     "timestamp": 1683332265832,
     "user": {
      "displayName": "Jesus L",
      "userId": "14694795882299199985"
     },
     "user_tz": 360
    },
    "execution_millis": 267,
    "execution_start": 1682551718167,
    "id": "2moKbkBDa4v8",
    "noteable": {
     "cell_type": "python"
    },
    "source_hash": "3fe7e4b7",
    "tags": []
   },
   "outputs": [],
   "source": [
    "# import libraries\n",
    "import numpy as np\n",
    "import pandas as pd\n",
    "import polars as pl\n",
    "import pyarrow"
   ]
  },
  {
   "cell_type": "code",
   "execution_count": 3,
   "metadata": {
    "ExecuteTime": {
     "end_time": "2023-03-09T02:39:36.174170+00:00",
     "start_time": "2023-03-09T02:39:35.162628+00:00"
    },
    "cell_id": "60910e53592c42a184c285421db64c68",
    "collapsed": false,
    "deepnote_cell_type": "code",
    "deepnote_to_be_reexecuted": false,
    "executionInfo": {
     "elapsed": 10650,
     "status": "ok",
     "timestamp": 1683332844029,
     "user": {
      "displayName": "Jesus L",
      "userId": "14694795882299199985"
     },
     "user_tz": 360
    },
    "execution_millis": 2206,
    "execution_start": 1682551720618,
    "id": "Thm4GkAga4v-",
    "jupyter": {
     "outputs_hidden": false,
     "source_hidden": false
    },
    "noteable": {
     "cell_type": "code"
    },
    "source_hash": "3dc0691c",
    "tags": []
   },
   "outputs": [],
   "source": [
    "# read csv file containing sql query\n",
    "df = pl.read_csv('telefonos_query.csv', ignore_errors=True)"
   ]
  },
  {
   "cell_type": "code",
   "execution_count": 4,
   "metadata": {
    "executionInfo": {
     "elapsed": 208,
     "status": "ok",
     "timestamp": 1683332847516,
     "user": {
      "displayName": "Jesus L",
      "userId": "14694795882299199985"
     },
     "user_tz": 360
    },
    "id": "F_u77BZTcTVC",
    "tags": []
   },
   "outputs": [],
   "source": [
    "# rename columns by lower case strings\n",
    "df = (\n",
    "    df.select(\n",
    "        pl.all().map_alias(lambda col_name: col_name.lower())\n",
    "    )\n",
    ")"
   ]
  },
  {
   "cell_type": "markdown",
   "metadata": {
    "id": "DkHJ2Quka4v_"
   },
   "source": [
    "### Arrange all phone columns into one columnm"
   ]
  },
  {
   "cell_type": "code",
   "execution_count": 5,
   "metadata": {
    "cell_id": "6063b075a47449cbbdc898e8f0beae3d",
    "deepnote_cell_type": "code",
    "deepnote_to_be_reexecuted": false,
    "executionInfo": {
     "elapsed": 328,
     "status": "ok",
     "timestamp": 1683332851207,
     "user": {
      "displayName": "Jesus L",
      "userId": "14694795882299199985"
     },
     "user_tz": 360
    },
    "execution_millis": 21,
    "execution_start": 1682551725716,
    "id": "aMhobuIga4v_",
    "source_hash": "cb2d9a55",
    "tags": []
   },
   "outputs": [],
   "source": [
    "# select all columns less these\n",
    "tel1 = df.select(pl.exclude(['telefono_prop','telefono_referencia',\n",
    "                                'telefono_ticket','telefono_3',\n",
    "                                'telefono_4',\n",
    "                                ]))\n",
    "# create a column with a fixed value\n",
    "tel1 = tel1.with_columns(pl.lit('telefono').alias('tipo_telefono'))"
   ]
  },
  {
   "cell_type": "code",
   "execution_count": 6,
   "metadata": {
    "cell_id": "672452c099924edaa3728bef79846e2b",
    "deepnote_cell_type": "code",
    "deepnote_to_be_reexecuted": false,
    "executionInfo": {
     "elapsed": 3,
     "status": "ok",
     "timestamp": 1683332852328,
     "user": {
      "displayName": "Jesus L",
      "userId": "14694795882299199985"
     },
     "user_tz": 360
    },
    "execution_millis": 123,
    "execution_start": 1682551728136,
    "id": "ZdTCDzyfa4wA",
    "source_hash": "72b2d761",
    "tags": []
   },
   "outputs": [],
   "source": [
    "# select all columns less these\n",
    "tel2 = df.select(pl.exclude(['telefono','telefono_referencia',\n",
    "                                'telefono_ticket','telefono_3','telefono_4',\n",
    "                                ]))\n",
    "# rename columns\n",
    "tel2 = tel2.rename({'telefono_prop':'telefono'})\n",
    "# create a column with a fixed value\n",
    "tel2 = tel2.with_columns(pl.lit('telefono_prop').alias('tipo_telefono'))"
   ]
  },
  {
   "cell_type": "code",
   "execution_count": 7,
   "metadata": {
    "cell_id": "668e799d581b4017bb543b352eb1794a",
    "deepnote_cell_type": "code",
    "deepnote_to_be_reexecuted": false,
    "executionInfo": {
     "elapsed": 4,
     "status": "ok",
     "timestamp": 1683332853780,
     "user": {
      "displayName": "Jesus L",
      "userId": "14694795882299199985"
     },
     "user_tz": 360
    },
    "execution_millis": 19,
    "execution_start": 1682551729865,
    "id": "syd9kIPja4wC",
    "source_hash": "609ba1be",
    "tags": []
   },
   "outputs": [],
   "source": [
    "# select all columns less these\n",
    "tel3 = df.select(pl.exclude(['telefono','telefono_prop','telefono_ticket',\n",
    "                                'telefono_3','telefono_4'\n",
    "                                ]))\n",
    "# rename columns\n",
    "tel3 = tel3.rename({'telefono_referencia':'telefono'})\n",
    "# create a column with a fixed value\n",
    "tel3 = tel3.with_columns(pl.lit('telefono_referencia').alias('tipo_telefono'))"
   ]
  },
  {
   "cell_type": "code",
   "execution_count": 8,
   "metadata": {
    "cell_id": "8367ecf12919448d89715b0864938df0",
    "deepnote_cell_type": "code",
    "deepnote_to_be_reexecuted": false,
    "executionInfo": {
     "elapsed": 212,
     "status": "ok",
     "timestamp": 1683332855609,
     "user": {
      "displayName": "Jesus L",
      "userId": "14694795882299199985"
     },
     "user_tz": 360
    },
    "execution_millis": 17,
    "execution_start": 1682551731807,
    "id": "tQBS5O0oa4wC",
    "source_hash": "57818e01",
    "tags": []
   },
   "outputs": [],
   "source": [
    "# select all columns less these\n",
    "tel4 = df.select(pl.exclude(['telefono','telefono_prop','telefono_referencia',\n",
    "                                'telefono_3','telefono_4',\n",
    "                                ]))\n",
    "# rename columns\n",
    "tel4 = tel4.rename({'telefono_ticket':'telefono'})\n",
    "# create a column with a fixed value\n",
    "tel4 = tel4.with_columns(pl.lit('telefono_ticket').alias('tipo_telefono'))"
   ]
  },
  {
   "cell_type": "code",
   "execution_count": 9,
   "metadata": {
    "cell_id": "cc9e22f210f0411cbd7ac4295b5cd6a4",
    "deepnote_cell_type": "code",
    "deepnote_to_be_reexecuted": false,
    "executionInfo": {
     "elapsed": 219,
     "status": "ok",
     "timestamp": 1683332857150,
     "user": {
      "displayName": "Jesus L",
      "userId": "14694795882299199985"
     },
     "user_tz": 360
    },
    "execution_millis": 75,
    "execution_start": 1682551733655,
    "id": "260DO7lDa4wD",
    "source_hash": "aaf40d55",
    "tags": []
   },
   "outputs": [],
   "source": [
    "# select all columns less these\n",
    "tel5 = df.select(pl.exclude(['telefono','telefono_prop','telefono_referencia',\n",
    "                                'telefono_ticket','telefono_4',\n",
    "                                ]))\n",
    "# rename columns\n",
    "tel5 = tel5.rename({'telefono_3':'telefono'})\n",
    "# create a column with a fixed value\n",
    "tel5 = tel5.with_columns(pl.lit('telefono_3').alias('tipo_telefono'))"
   ]
  },
  {
   "cell_type": "code",
   "execution_count": 10,
   "metadata": {
    "cell_id": "19d98ea5a88b4c169f04c8e6b79dfeec",
    "deepnote_cell_type": "code",
    "deepnote_to_be_reexecuted": false,
    "executionInfo": {
     "elapsed": 231,
     "status": "ok",
     "timestamp": 1683332858394,
     "user": {
      "displayName": "Jesus L",
      "userId": "14694795882299199985"
     },
     "user_tz": 360
    },
    "execution_millis": 16,
    "execution_start": 1682551735547,
    "id": "ADkTMd_Sa4wD",
    "source_hash": "26abe609",
    "tags": []
   },
   "outputs": [],
   "source": [
    "# select all columns less these\n",
    "tel6 = df.select(pl.exclude(['telefono','telefono_prop','telefono_referencia',\n",
    "                                'telefono_ticket','telefono_3',\n",
    "                                ]))\n",
    "# rename columns\n",
    "tel6 = tel6.rename({'telefono_4':'telefono'})\n",
    "# create a column with a fixed value\n",
    "tel6 = tel6.with_columns(pl.lit('telefono_4').alias('tipo_telefono'))"
   ]
  },
  {
   "cell_type": "code",
   "execution_count": 11,
   "metadata": {
    "cell_id": "a9a057b8dfb0405aa7a01c2f46d27146",
    "deepnote_cell_type": "code",
    "deepnote_to_be_reexecuted": false,
    "executionInfo": {
     "elapsed": 3382,
     "status": "ok",
     "timestamp": 1683332863080,
     "user": {
      "displayName": "Jesus L",
      "userId": "14694795882299199985"
     },
     "user_tz": 360
    },
    "execution_millis": 1868,
    "execution_start": 1682551738320,
    "id": "IWtyuFbNa4wE",
    "source_hash": "bf1e8f0c",
    "tags": []
   },
   "outputs": [],
   "source": [
    "# union tables\n",
    "tels = pl.concat([tel1, tel2, tel3, tel4, tel5, tel6,])"
   ]
  },
  {
   "cell_type": "markdown",
   "metadata": {
    "cell_id": "2c9a83caf06840bcbf1ecc5b5438e470",
    "deepnote_cell_type": "text-cell-callout",
    "formattedRanges": [
     {
      "fromCodePoint": 0,
      "marks": {
       "bold": true
      },
      "toCodePoint": 15,
      "type": "marks"
     }
    ],
    "id": "dYCes0K7a4wE"
   },
   "source": [
    "### Sin teléfonos"
   ]
  },
  {
   "cell_type": "code",
   "execution_count": 12,
   "metadata": {
    "cell_id": "5669ec2e5297461c9d0afb05bc3eda4b",
    "deepnote_cell_type": "code",
    "deepnote_to_be_reexecuted": false,
    "executionInfo": {
     "elapsed": 4368,
     "status": "ok",
     "timestamp": 1683332868711,
     "user": {
      "displayName": "Jesus L",
      "userId": "14694795882299199985"
     },
     "user_tz": 360
    },
    "execution_millis": 448,
    "execution_start": 1682551890094,
    "id": "XIUxtDS2a4wF",
    "source_hash": "92e7bc92",
    "tags": []
   },
   "outputs": [],
   "source": [
    "null_tels = (\n",
    "    tels.filter(\n",
    "       (pl.col('telefono')=='(null)')\n",
    "    )\n",
    ")"
   ]
  },
  {
   "cell_type": "markdown",
   "metadata": {
    "id": "gnqS7dRBa4wG"
   },
   "source": [
    "### Teléfonos con letras"
   ]
  },
  {
   "cell_type": "code",
   "execution_count": 13,
   "metadata": {
    "cell_id": "4e401469bc984fbb986b820fbd080894",
    "deepnote_cell_type": "code",
    "deepnote_to_be_reexecuted": false,
    "executionInfo": {
     "elapsed": 900,
     "status": "ok",
     "timestamp": 1683332871950,
     "user": {
      "displayName": "Jesus L",
      "userId": "14694795882299199985"
     },
     "user_tz": 360
    },
    "execution_millis": 268,
    "execution_start": 1682551744586,
    "id": "EQ1PThtCa4wG",
    "source_hash": "3c85e38e",
    "tags": []
   },
   "outputs": [],
   "source": [
    "# phones with letters\n",
    "phone_letters = tels.filter(\n",
    "    (pl.col(\"telefono\").str.contains(r\"[a-zA-Z]$\"))\n",
    ")"
   ]
  },
  {
   "cell_type": "markdown",
   "metadata": {
    "cell_id": "c6d0f67b035f4f499b8badffb7ed563b",
    "deepnote_cell_type": "text-cell-callout",
    "formattedRanges": [
     {
      "fromCodePoint": 0,
      "marks": {
       "bold": true
      },
      "toCodePoint": 19,
      "type": "marks"
     }
    ],
    "id": "Fvl_A07Ea4wH"
   },
   "source": [
    "### Teléfonos numéricos"
   ]
  },
  {
   "cell_type": "code",
   "execution_count": 14,
   "metadata": {
    "cell_id": "99726d85db6b488aac8c75aed253efab",
    "deepnote_cell_type": "code",
    "deepnote_to_be_reexecuted": false,
    "executionInfo": {
     "elapsed": 209,
     "status": "ok",
     "timestamp": 1683332873219,
     "user": {
      "displayName": "Jesus L",
      "userId": "14694795882299199985"
     },
     "user_tz": 360
    },
    "execution_millis": 62,
    "execution_start": 1681764152021,
    "id": "cfLJSkyEa4wH",
    "source_hash": "b033ae14",
    "tags": []
   },
   "outputs": [],
   "source": [
    "# convert phone columns to numeric\n",
    "tels = (\n",
    "    tels.with_columns(pl.col('telefono').cast(pl.Int64, strict=False))\n",
    ")"
   ]
  },
  {
   "cell_type": "code",
   "execution_count": 15,
   "metadata": {
    "cell_id": "b20c8f17b9604dd4bbbcba2058c55905",
    "deepnote_cell_type": "code",
    "deepnote_to_be_reexecuted": false,
    "executionInfo": {
     "elapsed": 169,
     "status": "ok",
     "timestamp": 1683332874858,
     "user": {
      "displayName": "Jesus L",
      "userId": "14694795882299199985"
     },
     "user_tz": 360
    },
    "execution_millis": 55,
    "execution_start": 1681764154274,
    "id": "g8w4AvENa4wH",
    "source_hash": "d2474edd",
    "tags": []
   },
   "outputs": [],
   "source": [
    "# create columns with phone columns length\n",
    "tels = (\n",
    "    tels.with_columns(\n",
    "        (pl.col('telefono').cast('str').str.lengths().alias('longitud_telefono'))\n",
    "    )\n",
    ")"
   ]
  },
  {
   "cell_type": "code",
   "execution_count": 16,
   "metadata": {
    "executionInfo": {
     "elapsed": 1428,
     "status": "ok",
     "timestamp": 1683332877756,
     "user": {
      "displayName": "Jesus L",
      "userId": "14694795882299199985"
     },
     "user_tz": 360
    },
    "id": "M4JEAzPna4wI",
    "tags": []
   },
   "outputs": [],
   "source": [
    "# case when phone column is int\n",
    "nums = (\n",
    "    tels.filter(~pl.col('telefono').is_null())\n",
    ")"
   ]
  },
  {
   "cell_type": "code",
   "execution_count": 17,
   "metadata": {
    "executionInfo": {
     "elapsed": 4,
     "status": "ok",
     "timestamp": 1683332877757,
     "user": {
      "displayName": "Jesus L",
      "userId": "14694795882299199985"
     },
     "user_tz": 360
    },
    "id": "q2OD4NLva4wI",
    "tags": []
   },
   "outputs": [],
   "source": [
    "# case when phone column is string\n",
    "#nums = tels.filter(pl.col('telefono').str.contains(r'\\d$'))"
   ]
  },
  {
   "cell_type": "markdown",
   "metadata": {
    "id": "VM5ZHcoAa4wJ"
   },
   "source": [
    "### Teléfonos inválidos"
   ]
  },
  {
   "cell_type": "code",
   "execution_count": 18,
   "metadata": {
    "executionInfo": {
     "elapsed": 212,
     "status": "ok",
     "timestamp": 1683332879770,
     "user": {
      "displayName": "Jesus L",
      "userId": "14694795882299199985"
     },
     "user_tz": 360
    },
    "id": "f18T5h95a4wJ",
    "tags": []
   },
   "outputs": [],
   "source": [
    "invalidos = (\n",
    "    nums.filter(\n",
    "        (pl.col('longitud_telefono')>10)\n",
    "        | (pl.col('longitud_telefono')<10)\n",
    "    )\n",
    ")"
   ]
  },
  {
   "cell_type": "markdown",
   "metadata": {
    "cell_id": "b9ce9a6d1baf42a6ad86ada229a45fea",
    "deepnote_cell_type": "text-cell-callout",
    "formattedRanges": [
     {
      "fromCodePoint": 0,
      "marks": {
       "bold": true
      },
      "toCodePoint": 28,
      "type": "marks"
     }
    ],
    "id": "cOUrk9L0a4wJ"
   },
   "source": [
    "### Teléfonos válidos duplicados"
   ]
  },
  {
   "cell_type": "code",
   "execution_count": 19,
   "metadata": {
    "executionInfo": {
     "elapsed": 893,
     "status": "ok",
     "timestamp": 1683332882729,
     "user": {
      "displayName": "Jesus L",
      "userId": "14694795882299199985"
     },
     "user_tz": 360
    },
    "id": "yunsCnega4wK",
    "tags": []
   },
   "outputs": [],
   "source": [
    "validos = (\n",
    "    nums.filter(\n",
    "        (pl.col('longitud_telefono')==10)\n",
    "    )\n",
    ")"
   ]
  },
  {
   "cell_type": "markdown",
   "metadata": {
    "cell_id": "4b31150bcb6641e1a814f4bbc128cc72",
    "deepnote_cell_type": "text-cell-callout",
    "formattedRanges": [
     {
      "fromCodePoint": 0,
      "marks": {
       "bold": true
      },
      "toCodePoint": 24,
      "type": "marks"
     }
    ],
    "id": "ZQxLTGIla4wK"
   },
   "source": [
    "### Teléfonos válidos únicos"
   ]
  },
  {
   "cell_type": "code",
   "execution_count": 20,
   "metadata": {
    "cell_id": "19bd6adbeea84d12b594601e289c41a4",
    "deepnote_cell_type": "code",
    "deepnote_to_be_reexecuted": false,
    "executionInfo": {
     "elapsed": 3326,
     "status": "ok",
     "timestamp": 1683332888211,
     "user": {
      "displayName": "Jesus L",
      "userId": "14694795882299199985"
     },
     "user_tz": 360
    },
    "execution_millis": 907,
    "execution_start": 1681764160645,
    "id": "ts9Wfxila4wK",
    "source_hash": "65e88a83",
    "tags": []
   },
   "outputs": [],
   "source": [
    "unicos = validos.unique(subset=['telefono'])"
   ]
  },
  {
   "cell_type": "markdown",
   "metadata": {
    "id": "s786nZkza4wK"
   },
   "source": [
    "### Teléfonos válidos revisados"
   ]
  },
  {
   "cell_type": "code",
   "execution_count": 21,
   "metadata": {
    "executionInfo": {
     "elapsed": 3679,
     "status": "ok",
     "timestamp": 1683332892768,
     "user": {
      "displayName": "Jesus L",
      "userId": "14694795882299199985"
     },
     "user_tz": 360
    },
    "id": "mxdbI7Tya4wK",
    "tags": []
   },
   "outputs": [],
   "source": [
    "tels_ok =(\n",
    "    validos.filter(\n",
    "        (~pl.col(\"telefono\").str.contains(\"^[0]\"))\n",
    "        & (~pl.col(\"telefono\").str.contains(\"^[1]\"))\n",
    "        & (~pl.col(\"telefono\").str.contains(\"^[2][0]{8,}\"))\n",
    "        & (~pl.col(\"telefono\").str.contains(\"^[2][2]{8,}\"))\n",
    "        & (~pl.col(\"telefono\").str.contains(\"^[3][0]{8,}\"))\n",
    "        & (~pl.col(\"telefono\").str.contains(\"^[3][3]{8,}\"))\n",
    "        & (~pl.col(\"telefono\").str.contains(\"^[4][0]{8,}\"))\n",
    "        & (~pl.col(\"telefono\").str.contains(\"^[4][4]{8,}\"))\n",
    "        & (~pl.col(\"telefono\").str.contains(\"^[5][0]{8,}\"))\n",
    "        & (~pl.col(\"telefono\").str.contains(\"^[5][5]{8,}\"))\n",
    "        & (~pl.col(\"telefono\").str.contains(\"^[6][0]{8,}\"))\n",
    "        & (~pl.col(\"telefono\").str.contains(\"^[6][6]{8,}\"))\n",
    "        & (~pl.col(\"telefono\").str.contains(\"^[7][0]{8,}\"))\n",
    "        & (~pl.col(\"telefono\").str.contains(\"^[7][7]{8,}\"))\n",
    "        & (~pl.col(\"telefono\").str.contains(\"^[8][0]{8,}\"))\n",
    "        & (~pl.col(\"telefono\").str.contains(\"^[8][8]{8,}\"))\n",
    "        & (~pl.col(\"telefono\").str.contains(\"^[9][0]{8,}\"))\n",
    "        & (~pl.col(\"telefono\").str.contains(\"^[9][9]{8,}\"))\n",
    "    )\n",
    ").sort('telefono')"
   ]
  },
  {
   "cell_type": "code",
   "execution_count": 22,
   "metadata": {
    "executionInfo": {
     "elapsed": 617,
     "status": "ok",
     "timestamp": 1683332895028,
     "user": {
      "displayName": "Jesus L",
      "userId": "14694795882299199985"
     },
     "user_tz": 360
    },
    "id": "uSt9s-Xsa4wL",
    "tags": []
   },
   "outputs": [],
   "source": [
    "rev_unicos = tels_ok.unique(subset=['telefono'])"
   ]
  },
  {
   "cell_type": "markdown",
   "metadata": {
    "id": "56i_NDqga4wL"
   },
   "source": [
    "### Clientes con teléfonos"
   ]
  },
  {
   "cell_type": "code",
   "execution_count": 23,
   "metadata": {
    "colab": {
     "base_uri": "https://localhost:8080/",
     "height": 129
    },
    "executionInfo": {
     "elapsed": 211,
     "status": "ok",
     "timestamp": 1683332896158,
     "user": {
      "displayName": "Jesus L",
      "userId": "14694795882299199985"
     },
     "user_tz": 360
    },
    "id": "FlRX-q6ba4wL",
    "outputId": "e123e134-e546-498f-c788-44a1347c9831",
    "tags": []
   },
   "outputs": [
    {
     "data": {
      "text/html": [
       "<div><style>\n",
       ".dataframe > thead > tr > th,\n",
       ".dataframe > tbody > tr > td {\n",
       "  text-align: right;\n",
       "}\n",
       "</style>\n",
       "<small>shape: (1, 1)</small><table border=\"1\" class=\"dataframe\"><thead><tr><th>count</th></tr><tr><td>u32</td></tr></thead><tbody><tr><td>495476</td></tr></tbody></table></div>"
      ],
      "text/plain": [
       "shape: (1, 1)\n",
       "┌────────┐\n",
       "│ count  │\n",
       "│ ---    │\n",
       "│ u32    │\n",
       "╞════════╡\n",
       "│ 495476 │\n",
       "└────────┘"
      ]
     },
     "execution_count": 23,
     "metadata": {},
     "output_type": "execute_result"
    }
   ],
   "source": [
    "# get unique and count\n",
    "tels_ok.select(pl.col('clave_bodega||clave_cliente')).unique().select(pl.count())"
   ]
  },
  {
   "cell_type": "code",
   "execution_count": 24,
   "metadata": {
    "executionInfo": {
     "elapsed": 218,
     "status": "ok",
     "timestamp": 1683332897805,
     "user": {
      "displayName": "Jesus L",
      "userId": "14694795882299199985"
     },
     "user_tz": 360
    },
    "id": "6VF4d_Qla4wM",
    "tags": []
   },
   "outputs": [],
   "source": [
    "# create combined column out of client and phone\n",
    "tels_ok = (\n",
    "    tels_ok.with_columns(\n",
    "        (pl.col('clave_bodega||clave_cliente').cast('str')+\"-\"+(pl.col('telefono').cast('str')))\n",
    "            .alias('combined'))\n",
    ")"
   ]
  },
  {
   "cell_type": "code",
   "execution_count": 25,
   "metadata": {
    "executionInfo": {
     "elapsed": 3190,
     "status": "ok",
     "timestamp": 1683332902004,
     "user": {
      "displayName": "Jesus L",
      "userId": "14694795882299199985"
     },
     "user_tz": 360
    },
    "id": "FrA7T6Vqa4wM",
    "tags": []
   },
   "outputs": [],
   "source": [
    "# get unique phones from combination client-phone\n",
    "num_unicos = tels_ok.unique(subset='combined')"
   ]
  },
  {
   "cell_type": "markdown",
   "metadata": {
    "id": "pHo99xU7a4wN"
   },
   "source": [
    "### Clientes con más de 01 teléfono compartido"
   ]
  },
  {
   "cell_type": "code",
   "execution_count": 26,
   "metadata": {
    "colab": {
     "base_uri": "https://localhost:8080/",
     "height": 129
    },
    "executionInfo": {
     "elapsed": 305,
     "status": "ok",
     "timestamp": 1683332902305,
     "user": {
      "displayName": "Jesus L",
      "userId": "14694795882299199985"
     },
     "user_tz": 360
    },
    "id": "mUSf5cjRa4wN",
    "outputId": "97ab15a5-b5a5-42e5-d412-9d0f6361f611",
    "tags": []
   },
   "outputs": [
    {
     "data": {
      "text/html": [
       "<div><style>\n",
       ".dataframe > thead > tr > th,\n",
       ".dataframe > tbody > tr > td {\n",
       "  text-align: right;\n",
       "}\n",
       "</style>\n",
       "<small>shape: (1, 1)</small><table border=\"1\" class=\"dataframe\"><thead><tr><th>clave_bodega||clave_cliente</th></tr><tr><td>u32</td></tr></thead><tbody><tr><td>53325</td></tr></tbody></table></div>"
      ],
      "text/plain": [
       "shape: (1, 1)\n",
       "┌─────────────────────────────┐\n",
       "│ clave_bodega||clave_cliente │\n",
       "│ ---                         │\n",
       "│ u32                         │\n",
       "╞═════════════════════════════╡\n",
       "│ 53325                       │\n",
       "└─────────────────────────────┘"
      ]
     },
     "execution_count": 26,
     "metadata": {},
     "output_type": "execute_result"
    }
   ],
   "source": [
    "# sum of count of clientes with shared phones\n",
    "# create groupby and filter by count > 1 and sort by phone and sum of count\n",
    "(\n",
    "    num_unicos.groupby('telefono')\n",
    "        .agg(pl.col('clave_bodega||clave_cliente').count())\n",
    "        .filter(pl.col('clave_bodega||clave_cliente')>1)\n",
    "        .sort('telefono')\n",
    ").select(pl.sum('clave_bodega||clave_cliente'))"
   ]
  },
  {
   "cell_type": "code",
   "execution_count": 27,
   "metadata": {
    "colab": {
     "base_uri": "https://localhost:8080/",
     "height": 362
    },
    "executionInfo": {
     "elapsed": 312,
     "status": "ok",
     "timestamp": 1683332904868,
     "user": {
      "displayName": "Jesus L",
      "userId": "14694795882299199985"
     },
     "user_tz": 360
    },
    "id": "8wVZyEVfa4wN",
    "outputId": "963d578f-3769-44f8-e74a-7473dfa2bc38",
    "tags": []
   },
   "outputs": [
    {
     "data": {
      "text/html": [
       "<div><style>\n",
       ".dataframe > thead > tr > th,\n",
       ".dataframe > tbody > tr > td {\n",
       "  text-align: right;\n",
       "}\n",
       "</style>\n",
       "<small>shape: (5, 35)</small><table border=\"1\" class=\"dataframe\"><thead><tr><th>clave_bodega||clave_cliente</th><th>clave_bodega</th><th>bodega</th><th>bodega||clave_cliente</th><th>clave_cliente</th><th>nom_cliente</th><th>canal</th><th>categoria</th><th>clave_ruta_desarrollo</th><th>clas_ruta_prev_progr</th><th>clave_ruta_ecommerce</th><th>con_venta</th><th>coordx</th><th>coordy</th><th>fecha_alta</th><th>fecha_baja</th><th>frecuencia_visita</th><th>frecuencia_visita_ecommerce</th><th>frecuencia_visita_desarrollo</th><th>giro</th><th>grupo_ruta_preventa</th><th>nom_propietario</th><th>potencial</th><th>region</th><th>status</th><th>subcanal</th><th>telefono</th><th>territorio</th><th>tipo_cedis</th><th>tipo_propietario</th><th>ultima_fecha_compra</th><th>estrategia_comercial</th><th>tipo_telefono</th><th>longitud_telefono</th><th>combined</th></tr><tr><td>i64</td><td>i64</td><td>str</td><td>str</td><td>i64</td><td>str</td><td>str</td><td>str</td><td>str</td><td>str</td><td>str</td><td>str</td><td>f64</td><td>f64</td><td>str</td><td>str</td><td>str</td><td>str</td><td>str</td><td>str</td><td>str</td><td>str</td><td>str</td><td>str</td><td>i64</td><td>str</td><td>i64</td><td>str</td><td>str</td><td>i64</td><td>str</td><td>str</td><td>str</td><td>u32</td><td>str</td></tr></thead><tbody><tr><td>4301420</td><td>430</td><td>&quot;GALEANA DA&quot;</td><td>&quot;GALEANA DA1420…</td><td>1420</td><td>&quot;MARIA DE JESUS…</td><td>&quot;Tradicional&quot;</td><td>&quot;D&quot;</td><td>&quot;(null)&quot;</td><td>&quot;Foranea&quot;</td><td>&quot;(null)&quot;</td><td>&quot;CV&quot;</td><td>0.0</td><td>0.0</td><td>&quot;[2012/02/07:12…</td><td>&quot;(null)&quot;</td><td>&quot;M&quot;</td><td>&quot;(null)&quot;</td><td>&quot;(null)&quot;</td><td>&quot;04-Miscelaneas…</td><td>&quot;1&quot;</td><td>&quot;MARIA DE JESUS…</td><td>&quot;(null)&quot;</td><td>&quot;NORTE&quot;</td><td>1</td><td>&quot;Tradicional&quot;</td><td>2104482121</td><td>&quot;DISTRIBUIDORES…</td><td>&quot;R&quot;</td><td>2</td><td>&quot;(null)&quot;</td><td>&quot;NUEVO&quot;</td><td>&quot;telefono&quot;</td><td>10</td><td>&quot;4301420-210448…</td></tr><tr><td>4851353</td><td>485</td><td>&quot;LINARES DA&quot;</td><td>&quot;LINARES DA1353…</td><td>1353</td><td>&quot;PEDRO RETA PER…</td><td>&quot;Tradicional&quot;</td><td>&quot;D&quot;</td><td>&quot;(null)&quot;</td><td>&quot;Foranea&quot;</td><td>&quot;(null)&quot;</td><td>&quot;CV&quot;</td><td>0.0</td><td>0.0</td><td>&quot;[2011/09/23:12…</td><td>&quot;(null)&quot;</td><td>&quot;J&quot;</td><td>&quot;(null)&quot;</td><td>&quot;(null)&quot;</td><td>&quot;04-Miscelaneas…</td><td>&quot;1&quot;</td><td>&quot;PEDRO RETA FLO…</td><td>&quot;(null)&quot;</td><td>&quot;NORTE&quot;</td><td>1</td><td>&quot;Tradicional&quot;</td><td>2104482121</td><td>&quot;DISTRIBUIDORES…</td><td>&quot;R&quot;</td><td>2</td><td>&quot;[2013/10/04:12…</td><td>&quot;NUEVO&quot;</td><td>&quot;telefono&quot;</td><td>10</td><td>&quot;4851353-210448…</td></tr><tr><td>4301369</td><td>430</td><td>&quot;GALEANA DA&quot;</td><td>&quot;GALEANA DA1369…</td><td>1369</td><td>null</td><td>&quot;Tradicional&quot;</td><td>&quot;D&quot;</td><td>&quot;(null)&quot;</td><td>&quot;Foranea&quot;</td><td>&quot;(null)&quot;</td><td>&quot;CV&quot;</td><td>0.0</td><td>0.0</td><td>&quot;[2011/10/08:12…</td><td>&quot;(null)&quot;</td><td>&quot;V&quot;</td><td>&quot;(null)&quot;</td><td>&quot;(null)&quot;</td><td>&quot;04-Miscelaneas…</td><td>&quot;1&quot;</td><td>&quot;MARIA DEL SOCO…</td><td>&quot;(null)&quot;</td><td>&quot;NORTE&quot;</td><td>1</td><td>&quot;Tradicional&quot;</td><td>2104482121</td><td>&quot;DISTRIBUIDORES…</td><td>&quot;R&quot;</td><td>2</td><td>&quot;(null)&quot;</td><td>&quot;NUEVO&quot;</td><td>&quot;telefono&quot;</td><td>10</td><td>&quot;4301369-210448…</td></tr><tr><td>4851431</td><td>485</td><td>&quot;LINARES DA&quot;</td><td>&quot;LINARES DA1431…</td><td>1431</td><td>&quot;NALLELY MATA H…</td><td>&quot;Tradicional&quot;</td><td>&quot;D&quot;</td><td>&quot;(null)&quot;</td><td>&quot;Foranea&quot;</td><td>&quot;(null)&quot;</td><td>&quot;CV&quot;</td><td>0.0</td><td>0.0</td><td>&quot;[2012/03/26:12…</td><td>&quot;(null)&quot;</td><td>&quot;WS&quot;</td><td>&quot;(null)&quot;</td><td>&quot;(null)&quot;</td><td>&quot;04-Miscelaneas…</td><td>&quot;1&quot;</td><td>&quot;NALLELY MATA H…</td><td>&quot;(null)&quot;</td><td>&quot;NORTE&quot;</td><td>1</td><td>&quot;Tradicional&quot;</td><td>2104482121</td><td>&quot;DISTRIBUIDORES…</td><td>&quot;R&quot;</td><td>2</td><td>&quot;[2013/10/07:12…</td><td>&quot;NUEVO&quot;</td><td>&quot;telefono&quot;</td><td>10</td><td>&quot;4851431-210448…</td></tr><tr><td>4301378</td><td>430</td><td>&quot;GALEANA DA&quot;</td><td>&quot;GALEANA DA1378…</td><td>1378</td><td>&quot;ABIGAIL ORTA M…</td><td>&quot;Tradicional&quot;</td><td>&quot;D&quot;</td><td>&quot;(null)&quot;</td><td>&quot;Foranea&quot;</td><td>&quot;(null)&quot;</td><td>&quot;CV&quot;</td><td>0.0</td><td>0.0</td><td>&quot;[2011/10/21:12…</td><td>&quot;(null)&quot;</td><td>&quot;J&quot;</td><td>&quot;(null)&quot;</td><td>&quot;(null)&quot;</td><td>&quot;04-Miscelaneas…</td><td>&quot;1&quot;</td><td>&quot;ABIGAIL ORTA&quot;</td><td>&quot;(null)&quot;</td><td>&quot;NORTE&quot;</td><td>1</td><td>&quot;Tradicional&quot;</td><td>2104482121</td><td>&quot;DISTRIBUIDORES…</td><td>&quot;R&quot;</td><td>2</td><td>&quot;(null)&quot;</td><td>&quot;NUEVO&quot;</td><td>&quot;telefono&quot;</td><td>10</td><td>&quot;4301378-210448…</td></tr></tbody></table></div>"
      ],
      "text/plain": [
       "shape: (5, 35)\n",
       "┌────────────┬────────────┬───────┬────────────┬───┬────────────┬────────────┬────────────┬────────┐\n",
       "│ clave_bode ┆ clave_bode ┆ bodeg ┆ bodega||cl ┆ … ┆ estrategia ┆ tipo_telef ┆ longitud_t ┆ combin │\n",
       "│ ga||clave_ ┆ ga         ┆ a     ┆ ave_client ┆   ┆ _comercial ┆ ono        ┆ elefono    ┆ ed     │\n",
       "│ cliente    ┆ ---        ┆ ---   ┆ e          ┆   ┆ ---        ┆ ---        ┆ ---        ┆ ---    │\n",
       "│ ---        ┆ i64        ┆ str   ┆ ---        ┆   ┆ str        ┆ str        ┆ u32        ┆ str    │\n",
       "│ i64        ┆            ┆       ┆ str        ┆   ┆            ┆            ┆            ┆        │\n",
       "╞════════════╪════════════╪═══════╪════════════╪═══╪════════════╪════════════╪════════════╪════════╡\n",
       "│ 4301420    ┆ 430        ┆ GALEA ┆ GALEANA    ┆ … ┆ NUEVO      ┆ telefono   ┆ 10         ┆ 430142 │\n",
       "│            ┆            ┆ NA DA ┆ DA1420     ┆   ┆            ┆            ┆            ┆ 0-2104 │\n",
       "│            ┆            ┆       ┆            ┆   ┆            ┆            ┆            ┆ 482121 │\n",
       "│ 4851353    ┆ 485        ┆ LINAR ┆ LINARES    ┆ … ┆ NUEVO      ┆ telefono   ┆ 10         ┆ 485135 │\n",
       "│            ┆            ┆ ES DA ┆ DA1353     ┆   ┆            ┆            ┆            ┆ 3-2104 │\n",
       "│            ┆            ┆       ┆            ┆   ┆            ┆            ┆            ┆ 482121 │\n",
       "│ 4301369    ┆ 430        ┆ GALEA ┆ GALEANA    ┆ … ┆ NUEVO      ┆ telefono   ┆ 10         ┆ 430136 │\n",
       "│            ┆            ┆ NA DA ┆ DA1369     ┆   ┆            ┆            ┆            ┆ 9-2104 │\n",
       "│            ┆            ┆       ┆            ┆   ┆            ┆            ┆            ┆ 482121 │\n",
       "│ 4851431    ┆ 485        ┆ LINAR ┆ LINARES    ┆ … ┆ NUEVO      ┆ telefono   ┆ 10         ┆ 485143 │\n",
       "│            ┆            ┆ ES DA ┆ DA1431     ┆   ┆            ┆            ┆            ┆ 1-2104 │\n",
       "│            ┆            ┆       ┆            ┆   ┆            ┆            ┆            ┆ 482121 │\n",
       "│ 4301378    ┆ 430        ┆ GALEA ┆ GALEANA    ┆ … ┆ NUEVO      ┆ telefono   ┆ 10         ┆ 430137 │\n",
       "│            ┆            ┆ NA DA ┆ DA1378     ┆   ┆            ┆            ┆            ┆ 8-2104 │\n",
       "│            ┆            ┆       ┆            ┆   ┆            ┆            ┆            ┆ 482121 │\n",
       "└────────────┴────────────┴───────┴────────────┴───┴────────────┴────────────┴────────────┴────────┘"
      ]
     },
     "execution_count": 27,
     "metadata": {},
     "output_type": "execute_result"
    }
   ],
   "source": [
    "# example of clients sharing phones\n",
    "num_unicos.filter(pl.col('telefono') == 2104482121).head()"
   ]
  },
  {
   "cell_type": "code",
   "execution_count": 28,
   "metadata": {
    "executionInfo": {
     "elapsed": 764,
     "status": "ok",
     "timestamp": 1683332907835,
     "user": {
      "displayName": "Jesus L",
      "userId": "14694795882299199985"
     },
     "user_tz": 360
    },
    "id": "s4V0_H_qa4wN",
    "tags": []
   },
   "outputs": [],
   "source": [
    "tel_clientes = tels_ok.groupby('telefono').agg(pl.count(),pl.col('clave_bodega||clave_cliente'))\n",
    "clientes_tels = tels_ok.groupby('clave_bodega||clave_cliente').agg(pl.count(),pl.col('telefono'))"
   ]
  },
  {
   "cell_type": "markdown",
   "metadata": {
    "cell_id": "8c4b79c433ce4050b864a39d1e6f5d3c",
    "deepnote_cell_type": "text-cell-callout",
    "formattedRanges": [
     {
      "fromCodePoint": 0,
      "marks": {
       "bold": true
      },
      "toCodePoint": 10,
      "type": "marks"
     }
    ],
    "id": "AqdOQXvda4wN"
   },
   "source": [
    "### Resultados"
   ]
  },
  {
   "cell_type": "code",
   "execution_count": 29,
   "metadata": {
    "cell_id": "72922b1f11ec4331bd22331227cf4bb6",
    "colab": {
     "base_uri": "https://localhost:8080/"
    },
    "deepnote_cell_type": "code",
    "deepnote_to_be_reexecuted": false,
    "executionInfo": {
     "elapsed": 5,
     "status": "ok",
     "timestamp": 1683332908860,
     "user": {
      "displayName": "Jesus L",
      "userId": "14694795882299199985"
     },
     "user_tz": 360
    },
    "execution_millis": 0,
    "execution_start": 1681764704811,
    "id": "URVo5g1la4wO",
    "outputId": "d854e495-1c28-43bd-acce-3e647bd0407b",
    "source_hash": "eb7af4d3",
    "tags": []
   },
   "outputs": [
    {
     "name": "stdout",
     "output_type": "stream",
     "text": [
      "Total registros: 1,082,580\n",
      "Total telefonos: 6,495,480\n",
      "Sin numero: 5,397,938\n",
      "Tels texto: 7,706\n",
      "Num tels: 1,082,550\n",
      "Tels invalidos: 80,532\n",
      "Tels validos: 1,002,018\n",
      "Tels revisados: 999,038\n",
      "Tels unicos: 625,663\n",
      "Tels unicos rev: 624,639\n"
     ]
    }
   ],
   "source": [
    "print(f'Total registros: {df.shape[0]:,.0f}')\n",
    "print(f'Total telefonos: {tels.shape[0]:,.0f}')\n",
    "print(f'Sin numero: {null_tels.shape[0]:,.0f}')\n",
    "print(f'Tels texto: {phone_letters.shape[0]:,.0f}')\n",
    "print(f'Num tels: {nums.shape[0]:,.0f}')\n",
    "print(f'Tels invalidos: {invalidos.shape[0]:,.0f}')\n",
    "print(f'Tels validos: {validos.shape[0]:,.0f}')\n",
    "print(f'Tels revisados: {tels_ok.shape[0]:,.0f}')\n",
    "print(f'Tels unicos: {unicos.shape[0]:,.0f}')\n",
    "print(f'Tels unicos rev: {rev_unicos.shape[0]:,.0f}')"
   ]
  },
  {
   "cell_type": "code",
   "execution_count": 33,
   "metadata": {
    "tags": []
   },
   "outputs": [],
   "source": [
    "data = {\n",
    "    'Concepto': ['Total registros', 'Total telefonos', 'Sin numero', 'Tels texto', 'Num tels', 'Tels invalidos', 'Tels validos', 'Tels revisados', 'Tels unicos', 'Tels unicos rev'],\n",
    "    'Cantidad': [df.shape[0], tels.shape[0], null_tels.shape[0], phone_letters.shape[0], nums.shape[0], invalidos.shape[0], validos.shape[0], tels_ok.shape[0], unicos.shape[0], rev_unicos.shape[0]]\n",
    "}"
   ]
  },
  {
   "cell_type": "code",
   "execution_count": 36,
   "metadata": {
    "tags": []
   },
   "outputs": [],
   "source": [
    "data = pd.DataFrame(data)"
   ]
  },
  {
   "cell_type": "code",
   "execution_count": 44,
   "metadata": {
    "allow_embed": "output",
    "cell_id": "cacd80d9fc4c4f29bac763fbbbbd8d76",
    "colab": {
     "base_uri": "https://localhost:8080/",
     "height": 245
    },
    "deepnote_cell_type": "code",
    "deepnote_to_be_reexecuted": false,
    "executionInfo": {
     "elapsed": 927,
     "status": "error",
     "timestamp": 1683332912032,
     "user": {
      "displayName": "Jesus L",
      "userId": "14694795882299199985"
     },
     "user_tz": 360
    },
    "execution_millis": 9,
    "execution_start": 1681764740465,
    "id": "u852Ds7Pa4wO",
    "outputId": "652ddc4e-9e74-4562-d696-d83a23e1d346",
    "source_hash": "abf1236c",
    "tags": []
   },
   "outputs": [
    {
     "data": {
      "application/vnd.plotly.v1+json": {
       "config": {
        "plotlyServerURL": "https://plot.ly"
       },
       "data": [
        {
         "alignmentgroup": "True",
         "hovertemplate": "Cantidad=%{x}<br>Concepto=%{y}<extra></extra>",
         "legendgroup": "",
         "marker": {
          "color": "#636efa",
          "pattern": {
           "shape": ""
          }
         },
         "name": "",
         "offsetgroup": "",
         "orientation": "h",
         "showlegend": false,
         "textposition": "auto",
         "type": "bar",
         "x": [
          7706,
          80532,
          624639,
          625663,
          999038,
          1002018,
          1082550,
          1082580,
          5397938,
          6495480
         ],
         "xaxis": "x",
         "y": [
          "Tels texto",
          "Tels invalidos",
          "Tels unicos rev",
          "Tels unicos",
          "Tels revisados",
          "Tels validos",
          "Num tels",
          "Total registros",
          "Sin numero",
          "Total telefonos"
         ],
         "yaxis": "y"
        }
       ],
       "layout": {
        "barmode": "relative",
        "height": 600,
        "legend": {
         "tracegroupgap": 0
        },
        "template": {
         "data": {
          "bar": [
           {
            "error_x": {
             "color": "#2a3f5f"
            },
            "error_y": {
             "color": "#2a3f5f"
            },
            "marker": {
             "line": {
              "color": "#E5ECF6",
              "width": 0.5
             },
             "pattern": {
              "fillmode": "overlay",
              "size": 10,
              "solidity": 0.2
             }
            },
            "type": "bar"
           }
          ],
          "barpolar": [
           {
            "marker": {
             "line": {
              "color": "#E5ECF6",
              "width": 0.5
             },
             "pattern": {
              "fillmode": "overlay",
              "size": 10,
              "solidity": 0.2
             }
            },
            "type": "barpolar"
           }
          ],
          "carpet": [
           {
            "aaxis": {
             "endlinecolor": "#2a3f5f",
             "gridcolor": "white",
             "linecolor": "white",
             "minorgridcolor": "white",
             "startlinecolor": "#2a3f5f"
            },
            "baxis": {
             "endlinecolor": "#2a3f5f",
             "gridcolor": "white",
             "linecolor": "white",
             "minorgridcolor": "white",
             "startlinecolor": "#2a3f5f"
            },
            "type": "carpet"
           }
          ],
          "choropleth": [
           {
            "colorbar": {
             "outlinewidth": 0,
             "ticks": ""
            },
            "type": "choropleth"
           }
          ],
          "contour": [
           {
            "colorbar": {
             "outlinewidth": 0,
             "ticks": ""
            },
            "colorscale": [
             [
              0,
              "#0d0887"
             ],
             [
              0.1111111111111111,
              "#46039f"
             ],
             [
              0.2222222222222222,
              "#7201a8"
             ],
             [
              0.3333333333333333,
              "#9c179e"
             ],
             [
              0.4444444444444444,
              "#bd3786"
             ],
             [
              0.5555555555555556,
              "#d8576b"
             ],
             [
              0.6666666666666666,
              "#ed7953"
             ],
             [
              0.7777777777777778,
              "#fb9f3a"
             ],
             [
              0.8888888888888888,
              "#fdca26"
             ],
             [
              1,
              "#f0f921"
             ]
            ],
            "type": "contour"
           }
          ],
          "contourcarpet": [
           {
            "colorbar": {
             "outlinewidth": 0,
             "ticks": ""
            },
            "type": "contourcarpet"
           }
          ],
          "heatmap": [
           {
            "colorbar": {
             "outlinewidth": 0,
             "ticks": ""
            },
            "colorscale": [
             [
              0,
              "#0d0887"
             ],
             [
              0.1111111111111111,
              "#46039f"
             ],
             [
              0.2222222222222222,
              "#7201a8"
             ],
             [
              0.3333333333333333,
              "#9c179e"
             ],
             [
              0.4444444444444444,
              "#bd3786"
             ],
             [
              0.5555555555555556,
              "#d8576b"
             ],
             [
              0.6666666666666666,
              "#ed7953"
             ],
             [
              0.7777777777777778,
              "#fb9f3a"
             ],
             [
              0.8888888888888888,
              "#fdca26"
             ],
             [
              1,
              "#f0f921"
             ]
            ],
            "type": "heatmap"
           }
          ],
          "heatmapgl": [
           {
            "colorbar": {
             "outlinewidth": 0,
             "ticks": ""
            },
            "colorscale": [
             [
              0,
              "#0d0887"
             ],
             [
              0.1111111111111111,
              "#46039f"
             ],
             [
              0.2222222222222222,
              "#7201a8"
             ],
             [
              0.3333333333333333,
              "#9c179e"
             ],
             [
              0.4444444444444444,
              "#bd3786"
             ],
             [
              0.5555555555555556,
              "#d8576b"
             ],
             [
              0.6666666666666666,
              "#ed7953"
             ],
             [
              0.7777777777777778,
              "#fb9f3a"
             ],
             [
              0.8888888888888888,
              "#fdca26"
             ],
             [
              1,
              "#f0f921"
             ]
            ],
            "type": "heatmapgl"
           }
          ],
          "histogram": [
           {
            "marker": {
             "pattern": {
              "fillmode": "overlay",
              "size": 10,
              "solidity": 0.2
             }
            },
            "type": "histogram"
           }
          ],
          "histogram2d": [
           {
            "colorbar": {
             "outlinewidth": 0,
             "ticks": ""
            },
            "colorscale": [
             [
              0,
              "#0d0887"
             ],
             [
              0.1111111111111111,
              "#46039f"
             ],
             [
              0.2222222222222222,
              "#7201a8"
             ],
             [
              0.3333333333333333,
              "#9c179e"
             ],
             [
              0.4444444444444444,
              "#bd3786"
             ],
             [
              0.5555555555555556,
              "#d8576b"
             ],
             [
              0.6666666666666666,
              "#ed7953"
             ],
             [
              0.7777777777777778,
              "#fb9f3a"
             ],
             [
              0.8888888888888888,
              "#fdca26"
             ],
             [
              1,
              "#f0f921"
             ]
            ],
            "type": "histogram2d"
           }
          ],
          "histogram2dcontour": [
           {
            "colorbar": {
             "outlinewidth": 0,
             "ticks": ""
            },
            "colorscale": [
             [
              0,
              "#0d0887"
             ],
             [
              0.1111111111111111,
              "#46039f"
             ],
             [
              0.2222222222222222,
              "#7201a8"
             ],
             [
              0.3333333333333333,
              "#9c179e"
             ],
             [
              0.4444444444444444,
              "#bd3786"
             ],
             [
              0.5555555555555556,
              "#d8576b"
             ],
             [
              0.6666666666666666,
              "#ed7953"
             ],
             [
              0.7777777777777778,
              "#fb9f3a"
             ],
             [
              0.8888888888888888,
              "#fdca26"
             ],
             [
              1,
              "#f0f921"
             ]
            ],
            "type": "histogram2dcontour"
           }
          ],
          "mesh3d": [
           {
            "colorbar": {
             "outlinewidth": 0,
             "ticks": ""
            },
            "type": "mesh3d"
           }
          ],
          "parcoords": [
           {
            "line": {
             "colorbar": {
              "outlinewidth": 0,
              "ticks": ""
             }
            },
            "type": "parcoords"
           }
          ],
          "pie": [
           {
            "automargin": true,
            "type": "pie"
           }
          ],
          "scatter": [
           {
            "fillpattern": {
             "fillmode": "overlay",
             "size": 10,
             "solidity": 0.2
            },
            "type": "scatter"
           }
          ],
          "scatter3d": [
           {
            "line": {
             "colorbar": {
              "outlinewidth": 0,
              "ticks": ""
             }
            },
            "marker": {
             "colorbar": {
              "outlinewidth": 0,
              "ticks": ""
             }
            },
            "type": "scatter3d"
           }
          ],
          "scattercarpet": [
           {
            "marker": {
             "colorbar": {
              "outlinewidth": 0,
              "ticks": ""
             }
            },
            "type": "scattercarpet"
           }
          ],
          "scattergeo": [
           {
            "marker": {
             "colorbar": {
              "outlinewidth": 0,
              "ticks": ""
             }
            },
            "type": "scattergeo"
           }
          ],
          "scattergl": [
           {
            "marker": {
             "colorbar": {
              "outlinewidth": 0,
              "ticks": ""
             }
            },
            "type": "scattergl"
           }
          ],
          "scattermapbox": [
           {
            "marker": {
             "colorbar": {
              "outlinewidth": 0,
              "ticks": ""
             }
            },
            "type": "scattermapbox"
           }
          ],
          "scatterpolar": [
           {
            "marker": {
             "colorbar": {
              "outlinewidth": 0,
              "ticks": ""
             }
            },
            "type": "scatterpolar"
           }
          ],
          "scatterpolargl": [
           {
            "marker": {
             "colorbar": {
              "outlinewidth": 0,
              "ticks": ""
             }
            },
            "type": "scatterpolargl"
           }
          ],
          "scatterternary": [
           {
            "marker": {
             "colorbar": {
              "outlinewidth": 0,
              "ticks": ""
             }
            },
            "type": "scatterternary"
           }
          ],
          "surface": [
           {
            "colorbar": {
             "outlinewidth": 0,
             "ticks": ""
            },
            "colorscale": [
             [
              0,
              "#0d0887"
             ],
             [
              0.1111111111111111,
              "#46039f"
             ],
             [
              0.2222222222222222,
              "#7201a8"
             ],
             [
              0.3333333333333333,
              "#9c179e"
             ],
             [
              0.4444444444444444,
              "#bd3786"
             ],
             [
              0.5555555555555556,
              "#d8576b"
             ],
             [
              0.6666666666666666,
              "#ed7953"
             ],
             [
              0.7777777777777778,
              "#fb9f3a"
             ],
             [
              0.8888888888888888,
              "#fdca26"
             ],
             [
              1,
              "#f0f921"
             ]
            ],
            "type": "surface"
           }
          ],
          "table": [
           {
            "cells": {
             "fill": {
              "color": "#EBF0F8"
             },
             "line": {
              "color": "white"
             }
            },
            "header": {
             "fill": {
              "color": "#C8D4E3"
             },
             "line": {
              "color": "white"
             }
            },
            "type": "table"
           }
          ]
         },
         "layout": {
          "annotationdefaults": {
           "arrowcolor": "#2a3f5f",
           "arrowhead": 0,
           "arrowwidth": 1
          },
          "autotypenumbers": "strict",
          "coloraxis": {
           "colorbar": {
            "outlinewidth": 0,
            "ticks": ""
           }
          },
          "colorscale": {
           "diverging": [
            [
             0,
             "#8e0152"
            ],
            [
             0.1,
             "#c51b7d"
            ],
            [
             0.2,
             "#de77ae"
            ],
            [
             0.3,
             "#f1b6da"
            ],
            [
             0.4,
             "#fde0ef"
            ],
            [
             0.5,
             "#f7f7f7"
            ],
            [
             0.6,
             "#e6f5d0"
            ],
            [
             0.7,
             "#b8e186"
            ],
            [
             0.8,
             "#7fbc41"
            ],
            [
             0.9,
             "#4d9221"
            ],
            [
             1,
             "#276419"
            ]
           ],
           "sequential": [
            [
             0,
             "#0d0887"
            ],
            [
             0.1111111111111111,
             "#46039f"
            ],
            [
             0.2222222222222222,
             "#7201a8"
            ],
            [
             0.3333333333333333,
             "#9c179e"
            ],
            [
             0.4444444444444444,
             "#bd3786"
            ],
            [
             0.5555555555555556,
             "#d8576b"
            ],
            [
             0.6666666666666666,
             "#ed7953"
            ],
            [
             0.7777777777777778,
             "#fb9f3a"
            ],
            [
             0.8888888888888888,
             "#fdca26"
            ],
            [
             1,
             "#f0f921"
            ]
           ],
           "sequentialminus": [
            [
             0,
             "#0d0887"
            ],
            [
             0.1111111111111111,
             "#46039f"
            ],
            [
             0.2222222222222222,
             "#7201a8"
            ],
            [
             0.3333333333333333,
             "#9c179e"
            ],
            [
             0.4444444444444444,
             "#bd3786"
            ],
            [
             0.5555555555555556,
             "#d8576b"
            ],
            [
             0.6666666666666666,
             "#ed7953"
            ],
            [
             0.7777777777777778,
             "#fb9f3a"
            ],
            [
             0.8888888888888888,
             "#fdca26"
            ],
            [
             1,
             "#f0f921"
            ]
           ]
          },
          "colorway": [
           "#636efa",
           "#EF553B",
           "#00cc96",
           "#ab63fa",
           "#FFA15A",
           "#19d3f3",
           "#FF6692",
           "#B6E880",
           "#FF97FF",
           "#FECB52"
          ],
          "font": {
           "color": "#2a3f5f"
          },
          "geo": {
           "bgcolor": "white",
           "lakecolor": "white",
           "landcolor": "#E5ECF6",
           "showlakes": true,
           "showland": true,
           "subunitcolor": "white"
          },
          "hoverlabel": {
           "align": "left"
          },
          "hovermode": "closest",
          "mapbox": {
           "style": "light"
          },
          "paper_bgcolor": "white",
          "plot_bgcolor": "#E5ECF6",
          "polar": {
           "angularaxis": {
            "gridcolor": "white",
            "linecolor": "white",
            "ticks": ""
           },
           "bgcolor": "#E5ECF6",
           "radialaxis": {
            "gridcolor": "white",
            "linecolor": "white",
            "ticks": ""
           }
          },
          "scene": {
           "xaxis": {
            "backgroundcolor": "#E5ECF6",
            "gridcolor": "white",
            "gridwidth": 2,
            "linecolor": "white",
            "showbackground": true,
            "ticks": "",
            "zerolinecolor": "white"
           },
           "yaxis": {
            "backgroundcolor": "#E5ECF6",
            "gridcolor": "white",
            "gridwidth": 2,
            "linecolor": "white",
            "showbackground": true,
            "ticks": "",
            "zerolinecolor": "white"
           },
           "zaxis": {
            "backgroundcolor": "#E5ECF6",
            "gridcolor": "white",
            "gridwidth": 2,
            "linecolor": "white",
            "showbackground": true,
            "ticks": "",
            "zerolinecolor": "white"
           }
          },
          "shapedefaults": {
           "line": {
            "color": "#2a3f5f"
           }
          },
          "ternary": {
           "aaxis": {
            "gridcolor": "white",
            "linecolor": "white",
            "ticks": ""
           },
           "baxis": {
            "gridcolor": "white",
            "linecolor": "white",
            "ticks": ""
           },
           "bgcolor": "#E5ECF6",
           "caxis": {
            "gridcolor": "white",
            "linecolor": "white",
            "ticks": ""
           }
          },
          "title": {
           "x": 0.05
          },
          "xaxis": {
           "automargin": true,
           "gridcolor": "white",
           "linecolor": "white",
           "ticks": "",
           "title": {
            "standoff": 15
           },
           "zerolinecolor": "white",
           "zerolinewidth": 2
          },
          "yaxis": {
           "automargin": true,
           "gridcolor": "white",
           "linecolor": "white",
           "ticks": "",
           "title": {
            "standoff": 15
           },
           "zerolinecolor": "white",
           "zerolinewidth": 2
          }
         }
        },
        "title": {
         "text": "Funnel of phone numbers showing data quality incidence"
        },
        "width": 1100,
        "xaxis": {
         "anchor": "y",
         "autorange": true,
         "domain": [
          0,
          1
         ],
         "range": [
          0,
          6837347.368421053
         ],
         "showticklabels": true,
         "title": {
          "text": ""
         },
         "type": "linear",
         "visible": true
        },
        "yaxis": {
         "anchor": "x",
         "autorange": true,
         "domain": [
          0,
          1
         ],
         "range": [
          -0.5,
          9.5
         ],
         "showticklabels": true,
         "title": {
          "text": ""
         },
         "type": "category",
         "visible": true
        }
       }
      },
      "image/png": "[encoded data removed]",
      "text/html": [
       "<div>                            <div id=\"3dad8a04-dbcf-48b6-9615-96b0121a8bd7\" class=\"plotly-graph-div\" style=\"height:600px; width:1100px;\"></div>            <script type=\"text/javascript\">                require([\"plotly\"], function(Plotly) {                    window.PLOTLYENV=window.PLOTLYENV || {};                                    if (document.getElementById(\"3dad8a04-dbcf-48b6-9615-96b0121a8bd7\")) {                    Plotly.newPlot(                        \"3dad8a04-dbcf-48b6-9615-96b0121a8bd7\",                        [{\"alignmentgroup\":\"True\",\"hovertemplate\":\"Cantidad=%{x}<br>Concepto=%{y}<extra></extra>\",\"legendgroup\":\"\",\"marker\":{\"color\":\"#636efa\",\"pattern\":{\"shape\":\"\"}},\"name\":\"\",\"offsetgroup\":\"\",\"orientation\":\"h\",\"showlegend\":false,\"textposition\":\"auto\",\"x\":[7706,80532,624639,625663,999038,1002018,1082550,1082580,5397938,6495480],\"xaxis\":\"x\",\"y\":[\"Tels texto\",\"Tels invalidos\",\"Tels unicos rev\",\"Tels unicos\",\"Tels revisados\",\"Tels validos\",\"Num tels\",\"Total registros\",\"Sin numero\",\"Total telefonos\"],\"yaxis\":\"y\",\"type\":\"bar\"}],                        {\"template\":{\"data\":{\"histogram2dcontour\":[{\"type\":\"histogram2dcontour\",\"colorbar\":{\"outlinewidth\":0,\"ticks\":\"\"},\"colorscale\":[[0.0,\"#0d0887\"],[0.1111111111111111,\"#46039f\"],[0.2222222222222222,\"#7201a8\"],[0.3333333333333333,\"#9c179e\"],[0.4444444444444444,\"#bd3786\"],[0.5555555555555556,\"#d8576b\"],[0.6666666666666666,\"#ed7953\"],[0.7777777777777778,\"#fb9f3a\"],[0.8888888888888888,\"#fdca26\"],[1.0,\"#f0f921\"]]}],\"choropleth\":[{\"type\":\"choropleth\",\"colorbar\":{\"outlinewidth\":0,\"ticks\":\"\"}}],\"histogram2d\":[{\"type\":\"histogram2d\",\"colorbar\":{\"outlinewidth\":0,\"ticks\":\"\"},\"colorscale\":[[0.0,\"#0d0887\"],[0.1111111111111111,\"#46039f\"],[0.2222222222222222,\"#7201a8\"],[0.3333333333333333,\"#9c179e\"],[0.4444444444444444,\"#bd3786\"],[0.5555555555555556,\"#d8576b\"],[0.6666666666666666,\"#ed7953\"],[0.7777777777777778,\"#fb9f3a\"],[0.8888888888888888,\"#fdca26\"],[1.0,\"#f0f921\"]]}],\"heatmap\":[{\"type\":\"heatmap\",\"colorbar\":{\"outlinewidth\":0,\"ticks\":\"\"},\"colorscale\":[[0.0,\"#0d0887\"],[0.1111111111111111,\"#46039f\"],[0.2222222222222222,\"#7201a8\"],[0.3333333333333333,\"#9c179e\"],[0.4444444444444444,\"#bd3786\"],[0.5555555555555556,\"#d8576b\"],[0.6666666666666666,\"#ed7953\"],[0.7777777777777778,\"#fb9f3a\"],[0.8888888888888888,\"#fdca26\"],[1.0,\"#f0f921\"]]}],\"heatmapgl\":[{\"type\":\"heatmapgl\",\"colorbar\":{\"outlinewidth\":0,\"ticks\":\"\"},\"colorscale\":[[0.0,\"#0d0887\"],[0.1111111111111111,\"#46039f\"],[0.2222222222222222,\"#7201a8\"],[0.3333333333333333,\"#9c179e\"],[0.4444444444444444,\"#bd3786\"],[0.5555555555555556,\"#d8576b\"],[0.6666666666666666,\"#ed7953\"],[0.7777777777777778,\"#fb9f3a\"],[0.8888888888888888,\"#fdca26\"],[1.0,\"#f0f921\"]]}],\"contourcarpet\":[{\"type\":\"contourcarpet\",\"colorbar\":{\"outlinewidth\":0,\"ticks\":\"\"}}],\"contour\":[{\"type\":\"contour\",\"colorbar\":{\"outlinewidth\":0,\"ticks\":\"\"},\"colorscale\":[[0.0,\"#0d0887\"],[0.1111111111111111,\"#46039f\"],[0.2222222222222222,\"#7201a8\"],[0.3333333333333333,\"#9c179e\"],[0.4444444444444444,\"#bd3786\"],[0.5555555555555556,\"#d8576b\"],[0.6666666666666666,\"#ed7953\"],[0.7777777777777778,\"#fb9f3a\"],[0.8888888888888888,\"#fdca26\"],[1.0,\"#f0f921\"]]}],\"surface\":[{\"type\":\"surface\",\"colorbar\":{\"outlinewidth\":0,\"ticks\":\"\"},\"colorscale\":[[0.0,\"#0d0887\"],[0.1111111111111111,\"#46039f\"],[0.2222222222222222,\"#7201a8\"],[0.3333333333333333,\"#9c179e\"],[0.4444444444444444,\"#bd3786\"],[0.5555555555555556,\"#d8576b\"],[0.6666666666666666,\"#ed7953\"],[0.7777777777777778,\"#fb9f3a\"],[0.8888888888888888,\"#fdca26\"],[1.0,\"#f0f921\"]]}],\"mesh3d\":[{\"type\":\"mesh3d\",\"colorbar\":{\"outlinewidth\":0,\"ticks\":\"\"}}],\"scatter\":[{\"fillpattern\":{\"fillmode\":\"overlay\",\"size\":10,\"solidity\":0.2},\"type\":\"scatter\"}],\"parcoords\":[{\"type\":\"parcoords\",\"line\":{\"colorbar\":{\"outlinewidth\":0,\"ticks\":\"\"}}}],\"scatterpolargl\":[{\"type\":\"scatterpolargl\",\"marker\":{\"colorbar\":{\"outlinewidth\":0,\"ticks\":\"\"}}}],\"bar\":[{\"error_x\":{\"color\":\"#2a3f5f\"},\"error_y\":{\"color\":\"#2a3f5f\"},\"marker\":{\"line\":{\"color\":\"#E5ECF6\",\"width\":0.5},\"pattern\":{\"fillmode\":\"overlay\",\"size\":10,\"solidity\":0.2}},\"type\":\"bar\"}],\"scattergeo\":[{\"type\":\"scattergeo\",\"marker\":{\"colorbar\":{\"outlinewidth\":0,\"ticks\":\"\"}}}],\"scatterpolar\":[{\"type\":\"scatterpolar\",\"marker\":{\"colorbar\":{\"outlinewidth\":0,\"ticks\":\"\"}}}],\"histogram\":[{\"marker\":{\"pattern\":{\"fillmode\":\"overlay\",\"size\":10,\"solidity\":0.2}},\"type\":\"histogram\"}],\"scattergl\":[{\"type\":\"scattergl\",\"marker\":{\"colorbar\":{\"outlinewidth\":0,\"ticks\":\"\"}}}],\"scatter3d\":[{\"type\":\"scatter3d\",\"line\":{\"colorbar\":{\"outlinewidth\":0,\"ticks\":\"\"}},\"marker\":{\"colorbar\":{\"outlinewidth\":0,\"ticks\":\"\"}}}],\"scattermapbox\":[{\"type\":\"scattermapbox\",\"marker\":{\"colorbar\":{\"outlinewidth\":0,\"ticks\":\"\"}}}],\"scatterternary\":[{\"type\":\"scatterternary\",\"marker\":{\"colorbar\":{\"outlinewidth\":0,\"ticks\":\"\"}}}],\"scattercarpet\":[{\"type\":\"scattercarpet\",\"marker\":{\"colorbar\":{\"outlinewidth\":0,\"ticks\":\"\"}}}],\"carpet\":[{\"aaxis\":{\"endlinecolor\":\"#2a3f5f\",\"gridcolor\":\"white\",\"linecolor\":\"white\",\"minorgridcolor\":\"white\",\"startlinecolor\":\"#2a3f5f\"},\"baxis\":{\"endlinecolor\":\"#2a3f5f\",\"gridcolor\":\"white\",\"linecolor\":\"white\",\"minorgridcolor\":\"white\",\"startlinecolor\":\"#2a3f5f\"},\"type\":\"carpet\"}],\"table\":[{\"cells\":{\"fill\":{\"color\":\"#EBF0F8\"},\"line\":{\"color\":\"white\"}},\"header\":{\"fill\":{\"color\":\"#C8D4E3\"},\"line\":{\"color\":\"white\"}},\"type\":\"table\"}],\"barpolar\":[{\"marker\":{\"line\":{\"color\":\"#E5ECF6\",\"width\":0.5},\"pattern\":{\"fillmode\":\"overlay\",\"size\":10,\"solidity\":0.2}},\"type\":\"barpolar\"}],\"pie\":[{\"automargin\":true,\"type\":\"pie\"}]},\"layout\":{\"autotypenumbers\":\"strict\",\"colorway\":[\"#636efa\",\"#EF553B\",\"#00cc96\",\"#ab63fa\",\"#FFA15A\",\"#19d3f3\",\"#FF6692\",\"#B6E880\",\"#FF97FF\",\"#FECB52\"],\"font\":{\"color\":\"#2a3f5f\"},\"hovermode\":\"closest\",\"hoverlabel\":{\"align\":\"left\"},\"paper_bgcolor\":\"white\",\"plot_bgcolor\":\"#E5ECF6\",\"polar\":{\"bgcolor\":\"#E5ECF6\",\"angularaxis\":{\"gridcolor\":\"white\",\"linecolor\":\"white\",\"ticks\":\"\"},\"radialaxis\":{\"gridcolor\":\"white\",\"linecolor\":\"white\",\"ticks\":\"\"}},\"ternary\":{\"bgcolor\":\"#E5ECF6\",\"aaxis\":{\"gridcolor\":\"white\",\"linecolor\":\"white\",\"ticks\":\"\"},\"baxis\":{\"gridcolor\":\"white\",\"linecolor\":\"white\",\"ticks\":\"\"},\"caxis\":{\"gridcolor\":\"white\",\"linecolor\":\"white\",\"ticks\":\"\"}},\"coloraxis\":{\"colorbar\":{\"outlinewidth\":0,\"ticks\":\"\"}},\"colorscale\":{\"sequential\":[[0.0,\"#0d0887\"],[0.1111111111111111,\"#46039f\"],[0.2222222222222222,\"#7201a8\"],[0.3333333333333333,\"#9c179e\"],[0.4444444444444444,\"#bd3786\"],[0.5555555555555556,\"#d8576b\"],[0.6666666666666666,\"#ed7953\"],[0.7777777777777778,\"#fb9f3a\"],[0.8888888888888888,\"#fdca26\"],[1.0,\"#f0f921\"]],\"sequentialminus\":[[0.0,\"#0d0887\"],[0.1111111111111111,\"#46039f\"],[0.2222222222222222,\"#7201a8\"],[0.3333333333333333,\"#9c179e\"],[0.4444444444444444,\"#bd3786\"],[0.5555555555555556,\"#d8576b\"],[0.6666666666666666,\"#ed7953\"],[0.7777777777777778,\"#fb9f3a\"],[0.8888888888888888,\"#fdca26\"],[1.0,\"#f0f921\"]],\"diverging\":[[0,\"#8e0152\"],[0.1,\"#c51b7d\"],[0.2,\"#de77ae\"],[0.3,\"#f1b6da\"],[0.4,\"#fde0ef\"],[0.5,\"#f7f7f7\"],[0.6,\"#e6f5d0\"],[0.7,\"#b8e186\"],[0.8,\"#7fbc41\"],[0.9,\"#4d9221\"],[1,\"#276419\"]]},\"xaxis\":{\"gridcolor\":\"white\",\"linecolor\":\"white\",\"ticks\":\"\",\"title\":{\"standoff\":15},\"zerolinecolor\":\"white\",\"automargin\":true,\"zerolinewidth\":2},\"yaxis\":{\"gridcolor\":\"white\",\"linecolor\":\"white\",\"ticks\":\"\",\"title\":{\"standoff\":15},\"zerolinecolor\":\"white\",\"automargin\":true,\"zerolinewidth\":2},\"scene\":{\"xaxis\":{\"backgroundcolor\":\"#E5ECF6\",\"gridcolor\":\"white\",\"linecolor\":\"white\",\"showbackground\":true,\"ticks\":\"\",\"zerolinecolor\":\"white\",\"gridwidth\":2},\"yaxis\":{\"backgroundcolor\":\"#E5ECF6\",\"gridcolor\":\"white\",\"linecolor\":\"white\",\"showbackground\":true,\"ticks\":\"\",\"zerolinecolor\":\"white\",\"gridwidth\":2},\"zaxis\":{\"backgroundcolor\":\"#E5ECF6\",\"gridcolor\":\"white\",\"linecolor\":\"white\",\"showbackground\":true,\"ticks\":\"\",\"zerolinecolor\":\"white\",\"gridwidth\":2}},\"shapedefaults\":{\"line\":{\"color\":\"#2a3f5f\"}},\"annotationdefaults\":{\"arrowcolor\":\"#2a3f5f\",\"arrowhead\":0,\"arrowwidth\":1},\"geo\":{\"bgcolor\":\"white\",\"landcolor\":\"#E5ECF6\",\"subunitcolor\":\"white\",\"showland\":true,\"showlakes\":true,\"lakecolor\":\"white\"},\"title\":{\"x\":0.05},\"mapbox\":{\"style\":\"light\"}}},\"xaxis\":{\"anchor\":\"y\",\"domain\":[0.0,1.0],\"title\":{\"text\":\"\"},\"visible\":true,\"showticklabels\":true},\"yaxis\":{\"anchor\":\"x\",\"domain\":[0.0,1.0],\"title\":{\"text\":\"\"},\"visible\":true,\"showticklabels\":true},\"legend\":{\"tracegroupgap\":0},\"title\":{\"text\":\"Funnel of phone numbers showing data quality incidence\"},\"barmode\":\"relative\",\"height\":600,\"width\":1100},                        {\"responsive\": true}                    ).then(function(){\n",
       "                            \n",
       "var gd = document.getElementById('3dad8a04-dbcf-48b6-9615-96b0121a8bd7');\n",
       "var x = new MutationObserver(function (mutations, observer) {{\n",
       "        var display = window.getComputedStyle(gd).display;\n",
       "        if (!display || display === 'none') {{\n",
       "            console.log([gd, 'removed!']);\n",
       "            Plotly.purge(gd);\n",
       "            observer.disconnect();\n",
       "        }}\n",
       "}});\n",
       "\n",
       "// Listen for the removal of the full notebook cells\n",
       "var notebookContainer = gd.closest('#notebook-container');\n",
       "if (notebookContainer) {{\n",
       "    x.observe(notebookContainer, {childList: true});\n",
       "}}\n",
       "\n",
       "// Listen for the clearing of the current output cell\n",
       "var outputEl = gd.closest('.output');\n",
       "if (outputEl) {{\n",
       "    x.observe(outputEl, {childList: true});\n",
       "}}\n",
       "\n",
       "                        })                };                });            </script>        </div>"
      ]
     },
     "metadata": {},
     "output_type": "display_data"
    }
   ],
   "source": [
    "import plotly.express as px\n",
    "fig = px.bar(data.sort_values(by='Cantidad'), x='Cantidad', y='Concepto', orientation='h',\n",
    "            width=1100, height=600, title='Funnel of phone numbers showing data quality incidence')\n",
    "# hide y label title\n",
    "fig.update_yaxes(title='', visible=True, showticklabels=True)\n",
    "fig.update_xaxes(title='', visible=True, showticklabels=True)\n",
    "fig.show()"
   ]
  }
 ],
 "metadata": {
  "colab": {
   "provenance": [],
   "toc_visible": true
  },
  "deepnote": {},
  "deepnote_execution_queue": [],
  "deepnote_notebook_id": "04281fe695f24942a9e97a32402c9f4c",
  "kernelspec": {
   "display_name": "Python 3 (ipykernel)",
   "language": "python",
   "name": "python3"
  },
  "language_info": {
   "codemirror_mode": {
    "name": "ipython",
    "version": 3
   },
   "file_extension": ".py",
   "mimetype": "text/x-python",
   "name": "python",
   "nbconvert_exporter": "python",
   "pygments_lexer": "ipython3",
   "version": "3.9.16"
  },
  "noteable": {
   "last_transaction_id": "9599659b-f132-49a4-af53-ed253ce52c11"
  },
  "nteract": {
   "version": "noteable@2.9.0"
  },
  "selected_hardware_size": "small"
 },
 "nbformat": 4,
 "nbformat_minor": 4
}
