{
 "cells": [
  {
   "cell_type": "markdown",
   "id": "a28446c7-26de-4555-a0eb-af341b72cfba",
   "metadata": {
    "id": "a28446c7-26de-4555-a0eb-af341b72cfba",
    "tags": []
   },
   "source": [
    "## Big Query upload with Polars"
   ]
  },
  {
   "cell_type": "markdown",
   "id": "c5f0e9fb-3a2f-4eb3-a07b-484e6121db4b",
   "metadata": {
    "id": "c5f0e9fb-3a2f-4eb3-a07b-484e6121db4b",
    "tags": []
   },
   "source": [
    "### Environment settings"
   ]
  },
  {
   "cell_type": "code",
   "execution_count": 1,
   "id": "97982127-5d81-4eb7-95cc-3f38e4aaa37b",
   "metadata": {
    "id": "97982127-5d81-4eb7-95cc-3f38e4aaa37b"
   },
   "outputs": [],
   "source": [
    "import numpy as np\n",
    "import pandas as pd\n",
    "import polars as pl\n",
    "import gspread\n",
    "import duckdb\n",
    "# Import authenticator and gspread to manage g-sheets\n",
    "from oauth2client.service_account import ServiceAccountCredentials\n",
    "from google.oauth2 import service_account\n",
    "from google.cloud import bigquery\n",
    "import connectorx as cx"
   ]
  },
  {
   "cell_type": "code",
   "execution_count": 2,
   "id": "67eca531-4aa1-4cf9-8f93-9f4ace48f947",
   "metadata": {},
   "outputs": [],
   "source": [
    "# Create sheets and drive scopes to authenticate\n",
    "scopes = ['https://www.googleapis.com/auth/spreadsheets',\n",
    "        'https://www.googleapis.com/auth/drive',\n",
    "        'https://www.googleapis.com/auth/analytics.readonly']\n",
    "\n",
    "# Read google credentials\n",
    "api = '../APIS/gepp-538-db.json'\n",
    "# connect to google sheets\n",
    "gs_credentials = ServiceAccountCredentials.from_json_keyfile_name(api, scopes)\n",
    "gc = gspread.authorize(gs_credentials)\n",
    "# connect to big query\n",
    "bq_credentials = service_account.Credentials.from_service_account_file(api)\n",
    "project_id = 'gepp-538'\n",
    "client = bigquery.Client(credentials=bq_credentials,project=project_id)"
   ]
  },
  {
   "cell_type": "code",
   "execution_count": 3,
   "id": "9b0160ab-19a1-4cb0-900f-68578a81c9de",
   "metadata": {},
   "outputs": [],
   "source": [
    "pedidos = pl.read_csv('../Datasets/getm-pedidos.csv', ignore_errors=True)\n",
    "pedidos_detalle = pl.read_csv('../Datasets/getm-pedidos_detalle.csv', ignore_errors=True)\n",
    "promociones = pl.read_csv('../Datasets/getm-promociones.csv', ignore_errors=True)\n",
    "tenderos = pl.read_csv('../Datasets/getm-tenderos.csv', ignore_errors=True)\n",
    "tenderos_detalle = pl.read_csv('../Datasets/getm-tenderos_registros.csv', ignore_errors=True)"
   ]
  },
  {
   "cell_type": "code",
   "execution_count": 127,
   "id": "623f91d2-c192-487a-941c-069167934b94",
   "metadata": {},
   "outputs": [],
   "source": [
    "pedidos = pedidos.drop(\n",
    "    ['NoPedido','UserID','Status','ShipOnDate','FechaDespacho','FechaRuta','ShipAdressID','IsNotify',\n",
    "     'NotifyOnDate','NotifyOnFileName','TimeZoneOffSET','Notificado','ProspectoEnviado','OrdenMonitoreada',\n",
    "    'Quantity','PriceInfo']\n",
    "    ).with_columns(pl.col(['CreationDate','LastModifiedDate','FechaEntregado','FechaCancelado']\n",
    "                         ).str.strptime(pl.Datetime, strict=False))"
   ]
  },
  {
   "cell_type": "code",
   "execution_count": 128,
   "id": "4b07b228-b77b-4e55-8d17-5258396d6544",
   "metadata": {},
   "outputs": [],
   "source": [
    "pedidos_detalle = pedidos_detalle.drop(['DiscountType','Modelo'])"
   ]
  },
  {
   "cell_type": "code",
   "execution_count": 129,
   "id": "fae91eff-f5f3-40b8-a106-62924c2c7912",
   "metadata": {},
   "outputs": [],
   "source": [
    "promociones = promociones.drop(\n",
    "    ['ID_Region','ID_Territorio','FechaVigenciaInicial','FechaVigenciaFinal','Imagen','PromoColorTexto',\n",
    "     'PromoColorFondo','VigenciaColorTexto','VigenciaColorFondo','Encabezado','Descripcion','Contenido',\n",
    "     'BotonColorTexto','BotonColorFondo','Precio','UsuarioAlta','UsuarioModificacion','ImagenPortada',\n",
    "     'MaximoImpactos','Clave_Externa','ID_Bodega','ID_Layout']\n",
    "    ).with_columns(pl.col(['FechaAlta','FechaModificacion']\n",
    "                         ).str.strptime(pl.Datetime, strict=False))"
   ]
  },
  {
   "cell_type": "code",
   "execution_count": 130,
   "id": "bd259fa1-df6e-466b-8252-44bbf38b2474",
   "metadata": {},
   "outputs": [],
   "source": [
    "# filter promociones by unique clavepromo\n",
    "promociones = promociones.unique(subset=['ClavePromo'], maintain_order=True)"
   ]
  },
  {
   "cell_type": "code",
   "execution_count": 131,
   "id": "38979bef-479a-41b4-a038-a2a5d7e5d9c8",
   "metadata": {},
   "outputs": [],
   "source": [
    "tenderos = tenderos.select(pl.col(\n",
    "    ['ID_Tendero','ID_Region','ID_Bodega','ID_Territorio','NUD','NombreTienda','Telefono','Correo','Categoria',\n",
    "    'Segmentacion','Activo','Registrado','FechaAlta','Genero','NumeroPuertas','RutaEcommerce','FechaRegistro',\n",
    "     ])\n",
    "    ).with_columns(pl.col('FechaAlta','FechaRegistro').str.strptime(pl.Datetime, strict=False))"
   ]
  },
  {
   "cell_type": "code",
   "execution_count": 132,
   "id": "90023452-ac98-45d3-b742-d342bf1d99c8",
   "metadata": {},
   "outputs": [],
   "source": [
    "tenderos_detalle = tenderos_detalle.select(\n",
    "    pl.exclude(['Responsable','FechaNacimiento','TokenPushNotification','DeviceID','Telefono','Correo','Activo',\n",
    "               'FechaRegistro'])\n",
    "    ).with_columns(pl.col('FechaUltimaConexion').str.strptime(pl.Datetime, strict=False))"
   ]
  },
  {
   "cell_type": "code",
   "execution_count": 133,
   "id": "db25accf-9d32-484f-8423-4d14c457015c",
   "metadata": {},
   "outputs": [],
   "source": [
    "# join tenderos and tenderos detalle\n",
    "tenderos = tenderos.join(tenderos_detalle, on='ID_Tendero', how='left')"
   ]
  },
  {
   "cell_type": "code",
   "execution_count": 134,
   "id": "9f2671dd-c17a-4ca3-a7d1-726be715e0fe",
   "metadata": {},
   "outputs": [],
   "source": [
    "# join pedidos detalle and pedidos\n",
    "pedidos = pedidos_detalle.join(pedidos, on='ID_Pedido', how='left')"
   ]
  },
  {
   "cell_type": "code",
   "execution_count": 135,
   "id": "93f42f46-594a-47f2-9de7-81017acab703",
   "metadata": {},
   "outputs": [],
   "source": [
    "# transactions sheet\n",
    "transacciones = pedidos.join(promociones, on='ClavePromo', how='left')"
   ]
  },
  {
   "cell_type": "markdown",
   "id": "2ebac247-7f44-47ac-bde8-51763f6b04c9",
   "metadata": {
    "tags": []
   },
   "source": [
    "### Duckdb"
   ]
  },
  {
   "cell_type": "code",
   "execution_count": 27,
   "id": "34fee2d6-d98c-4f66-ad23-6d8d013064b8",
   "metadata": {},
   "outputs": [],
   "source": [
    "# consulta detallada usuarios\n",
    "mpe_users = pl.read_csv('../usuarios.csv', separator=';', ignore_errors=True)"
   ]
  },
  {
   "cell_type": "code",
   "execution_count": 28,
   "id": "25e66772-1409-43ee-9ff6-6c4802ad01f7",
   "metadata": {},
   "outputs": [
    {
     "data": {
      "text/html": [
       "<div><style>\n",
       ".dataframe > thead > tr > th,\n",
       ".dataframe > tbody > tr > td {\n",
       "  text-align: right;\n",
       "}\n",
       "</style>\n",
       "<small>shape: (2, 2)</small><table border=\"1\" class=\"dataframe\"><thead><tr><th>Origen</th><th>usuarios</th></tr><tr><td>str</td><td>i64</td></tr></thead><tbody><tr><td>&quot;WA&quot;</td><td>765173</td></tr><tr><td>&quot;Ecommerce&quot;</td><td>97913</td></tr></tbody></table></div>"
      ],
      "text/plain": [
       "shape: (2, 2)\n",
       "┌───────────┬──────────┐\n",
       "│ Origen    ┆ usuarios │\n",
       "│ ---       ┆ ---      │\n",
       "│ str       ┆ i64      │\n",
       "╞═══════════╪══════════╡\n",
       "│ WA        ┆ 765173   │\n",
       "│ Ecommerce ┆ 97913    │\n",
       "└───────────┴──────────┘"
      ]
     },
     "execution_count": 28,
     "metadata": {},
     "output_type": "execute_result"
    }
   ],
   "source": [
    "# create sql queries with duckdb\n",
    "# read file with duckdb (csv, parquet, json)\n",
    "duckdb.sql(\n",
    "    '''\n",
    "    SELECT\n",
    "        Origen, COUNT(Nombre) AS usuarios\n",
    "    FROM '../usuarios.csv'\n",
    "    GROUP BY Origen\n",
    "    ORDER BY usuarios DESC\n",
    "    '''\n",
    ").pl() # and pipeline to polars dataframe\n",
    "#others formats include: .pdf() for pandas, .arrow() for arrow, and .fetchnumpy() for numpy arrays"
   ]
  },
  {
   "cell_type": "markdown",
   "id": "8dbd6ca5-bfe0-4baa-99ed-1046128f5bd2",
   "metadata": {},
   "source": [
    "**create files from duckdb queries**\n",
    "* duckdb.sql('SELECT 42').write_parquet('out.parquet') # Write to a Parquet file\n",
    "* duckdb.sql('SELECT 42').write_csv('out.csv')         # Write to a CSV file\n",
    "* duckdb.sql(\"COPY (SELECT 42) TO 'out.parquet'\")      # Copy to a parquet file"
   ]
  },
  {
   "cell_type": "markdown",
   "id": "b19e7d5c-7a2b-4fac-8ba0-54fe9f989e5d",
   "metadata": {
    "id": "b19e7d5c-7a2b-4fac-8ba0-54fe9f989e5d",
    "tags": []
   },
   "source": [
    "### Upload to Big Query"
   ]
  },
  {
   "cell_type": "markdown",
   "id": "e25422ad-2623-4f75-892d-b62f5ab58e2f",
   "metadata": {},
   "source": [
    "**MPE**"
   ]
  },
  {
   "cell_type": "code",
   "execution_count": 33,
   "id": "fc915762-d5d4-4c16-860d-8297dff785f4",
   "metadata": {},
   "outputs": [
    {
     "data": {
      "text/plain": [
       "Dataset(DatasetReference('gepp-538', 'reportes'))"
      ]
     },
     "execution_count": 33,
     "metadata": {},
     "output_type": "execute_result"
    }
   ],
   "source": [
    "# create dataset gbq api\n",
    "#client.create_dataset('reportes')"
   ]
  },
  {
   "cell_type": "code",
   "execution_count": 137,
   "id": "b95d586a-1255-4fb1-90ba-6ff629be02ba",
   "metadata": {
    "colab": {
     "base_uri": "https://localhost:8080/"
    },
    "executionInfo": {
     "elapsed": 4003,
     "status": "ok",
     "timestamp": 1683560027059,
     "user": {
      "displayName": "Jesus L",
      "userId": "14694795882299199985"
     },
     "user_tz": 360
    },
    "id": "b95d586a-1255-4fb1-90ba-6ff629be02ba",
    "outputId": "dc4c28d9-42d6-4822-b5c6-4330cefc8e33"
   },
   "outputs": [
    {
     "name": "stderr",
     "output_type": "stream",
     "text": [
      "100%|███████████████████████████████████████████| 1/1 [00:00<00:00, 4029.11it/s]\n"
     ]
    }
   ],
   "source": [
    "tenderos = tenderos.to_pandas()\n",
    "tenderos.to_gbq('gepp-538.reportes.tenderos',\n",
    "                    project_id='gepp-538',\n",
    "                    if_exists='replace',\n",
    "                    credentials=bq_credentials)"
   ]
  },
  {
   "cell_type": "code",
   "execution_count": 139,
   "id": "a3967d0a-1e89-422b-a44e-54007c9449f6",
   "metadata": {
    "colab": {
     "base_uri": "https://localhost:8080/"
    },
    "executionInfo": {
     "elapsed": 4109,
     "status": "ok",
     "timestamp": 1683558847880,
     "user": {
      "displayName": "Jesus L",
      "userId": "14694795882299199985"
     },
     "user_tz": 360
    },
    "id": "a3967d0a-1e89-422b-a44e-54007c9449f6",
    "outputId": "3010fb72-d101-47f9-d059-a98b3e585c63"
   },
   "outputs": [
    {
     "name": "stderr",
     "output_type": "stream",
     "text": [
      "100%|███████████████████████████████████████████| 1/1 [00:00<00:00, 2616.53it/s]\n"
     ]
    }
   ],
   "source": [
    "transacciones = transacciones.to_pandas()\n",
    "transacciones.to_gbq('gepp-538.reportes.transacciones',\n",
    "                    project_id='gepp-538',\n",
    "                    if_exists='replace',\n",
    "                    credentials=bq_credentials)"
   ]
  },
  {
   "cell_type": "markdown",
   "id": "929af351-f550-4adf-8cde-990297173916",
   "metadata": {
    "id": "929af351-f550-4adf-8cde-990297173916",
    "tags": []
   },
   "source": [
    "### Retrieve datasets from Big Query"
   ]
  },
  {
   "cell_type": "code",
   "execution_count": null,
   "id": "85e9fba0-e198-4a9a-8a56-93ea6b4f5a64",
   "metadata": {
    "id": "85e9fba0-e198-4a9a-8a56-93ea6b4f5a64"
   },
   "outputs": [],
   "source": [
    "# create sql query\n",
    "query = '''\n",
    "    SELECT * FROM `gepp-538.transformation.mpe_catalogo`\n",
    "'''\n",
    "# convert query to pandas dataframe\n",
    "mpe_catalogo = pd.read_gbq(query, credentials=bq_credentials)"
   ]
  },
  {
   "cell_type": "code",
   "execution_count": 11,
   "id": "eef62b32-4c99-4bc6-ae1a-cc51f2722039",
   "metadata": {},
   "outputs": [],
   "source": [
    "# create sql query\n",
    "query = '''\n",
    "    SELECT * FROM `gepp-538.transformation.mpe_catalogo` \n",
    "    '''\n",
    "query_job = client.query(query)  # API request\n",
    "rows = query_job.result()  # Waits for query to finish\n",
    "# convert to polars dataframe\n",
    "pl_df = pl.from_arrow(rows.to_arrow())"
   ]
  }
 ],
 "metadata": {
  "colab": {
   "provenance": []
  },
  "kernelspec": {
   "display_name": "Python 3 (ipykernel)",
   "language": "python",
   "name": "python3"
  },
  "language_info": {
   "codemirror_mode": {
    "name": "ipython",
    "version": 3
   },
   "file_extension": ".py",
   "mimetype": "text/x-python",
   "name": "python",
   "nbconvert_exporter": "python",
   "pygments_lexer": "ipython3",
   "version": "3.11.4"
  }
 },
 "nbformat": 4,
 "nbformat_minor": 5
}
