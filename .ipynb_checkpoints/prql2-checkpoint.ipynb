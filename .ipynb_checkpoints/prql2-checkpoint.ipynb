{
 "cells": [
  {
   "cell_type": "raw",
   "id": "52bb34b0-8500-417a-b5eb-7f787b3cc858",
   "metadata": {},
   "source": [
    "---\n",
    "title: \"Pipelined Relational Query Language\"\n",
    "subtitle: \"**Overview and Examples**\"\n",
    "author: \"**Jesus L. Monroy** <br> Data Scientist\"\n",
    "abstract: >\n",
    "    In this document, we shall show some examples of `prql` and its correspondence to `sql`. \n",
    "    <br> We shall see if `prql` is easier to write and to read.\n",
    "    <br> `prql` is known as \"The prequel to sql\".\n",
    "date: 2023-12-21\n",
    "date-format: MMM D, YYYY\n",
    "toc: true\n",
    "toc-title: Contents\n",
    "toc-location: right\n",
    "number-sections: false\n",
    "page-layout: full\n",
    "format:\n",
    "    html:\n",
    "        embed-resources: true\n",
    "        code-fold: false\n",
    "        html-math-method: katex\n",
    "        theme: \n",
    "            dark: darkly\n",
    "            light: flatly\n",
    "code-line-numbers: false\n",
    "code-copy: hover\n",
    "code-overflow: wrap\n",
    "jupyter: python3\n",
    "---"
   ]
  },
  {
   "cell_type": "markdown",
   "id": "f42571b6-dc41-4445-a13e-e265286acf44",
   "metadata": {},
   "source": [
    "---"
   ]
  },
  {
   "cell_type": "markdown",
   "id": "a9e6f26a-441b-4ce8-b76d-f9ae2b2d3b75",
   "metadata": {},
   "source": [
    "## PRQL\n",
    "\n",
    "Pronounced `prequel`\n",
    "\n",
    "prql is written in Rust.\n",
    "\n",
    "It consists of a curated set of orthogonal transformations, which are combined together to form a pipeline. That makes it easy to compose and extend queries. The language also benefits from modern features, such syntax for dates, ranges and f-strings as well as functions, type checking and better null handling.\n",
    "\n",
    "For further information, you can visit its [website](https://prql-lang.org/)\n",
    "\n",
    "You can also practice `prql` in its [Playground](https://prql-lang.org/playground/)"
   ]
  },
  {
   "cell_type": "markdown",
   "id": "c7d24f18-e1fe-4a5e-a4ba-735eb1fe35ca",
   "metadata": {},
   "source": [
    "{{< video https://www.youtube.com/embed/IQRRsfavEic?si=V9w19lpa3ge7bKYK width=\"450\" height=\"325\" >}}"
   ]
  },
  {
   "cell_type": "markdown",
   "id": "505e9523-8877-4fca-81e3-6552b8302ea8",
   "metadata": {},
   "source": [
    "## Examples"
   ]
  },
  {
   "cell_type": "markdown",
   "id": "7395f8bd-feda-4e98-af92-5213d8b9e72d",
   "metadata": {},
   "source": [
    "### Basic select"
   ]
  },
  {
   "cell_type": "markdown",
   "id": "ecd96674-54d2-459e-b8b5-768a96157e4b",
   "metadata": {},
   "source": [
    "::: {.panel-tabset}\n",
    "\n",
    "## SQL \n",
    "``` {.sql}\n",
    "SELECT id\n",
    "  , first_name\n",
    "  , age\n",
    "FROM employees\n",
    "ORDER BY age\n",
    "LIMIT 10\n",
    "```\n",
    "\n",
    "## PRQL\n",
    "``` {.sql}\n",
    "from employees\n",
    "select {id, first_name, age}\n",
    "sort age\n",
    "take 10\n",
    "```\n",
    "\n",
    ":::"
   ]
  },
  {
   "cell_type": "markdown",
   "id": "badfb275-43ac-4e8d-9b0b-bfd54b2e64d4",
   "metadata": {},
   "source": [
    "### Easier core syntax"
   ]
  },
  {
   "cell_type": "markdown",
   "id": "b71243c9-2982-4935-b050-1e70a2ca168a",
   "metadata": {},
   "source": [
    "::: {.panel-tabset}\n",
    "\n",
    "## SQL \n",
    "``` {.sql}\n",
    "SELECT *\n",
    "FROM track_plays\n",
    "WHERE plays > 10000\n",
    "  AND length BETWEEN 60 AND 240\n",
    "  AND recorded > DATE '2008-01-01'\n",
    "  AND released - recorded < INTERVAL 180 DAY\n",
    "ORDER BY length DESC\n",
    "```\n",
    "\n",
    "## PRQL\n",
    "``` {.sql}\n",
    "from track_plays\n",
    "filter plays > 10_000                # Readable numbers\n",
    "filter (length | in 60..240)         # Ranges with `..`\n",
    "filter recorded > @2008-01-01        # Simple date literals\n",
    "filter released - recorded < 180days # Nice interval literals\n",
    "sort {-length}                       # Concise order direction\n",
    "```\n",
    "\n",
    ":::"
   ]
  },
  {
   "cell_type": "markdown",
   "id": "c3e95113-38ad-49c9-8b5d-e530202aef5a",
   "metadata": {},
   "source": [
    "### Filter"
   ]
  },
  {
   "cell_type": "markdown",
   "id": "aa5b1776-8f5f-4922-a267-8aa5ff300700",
   "metadata": {},
   "source": [
    "::: {.panel-tabset}\n",
    "\n",
    "## SQL \n",
    "``` {.sql}\n",
    "SELECT\n",
    "  country,\n",
    "  MAX(salary) AS max_salary\n",
    "FROM\n",
    "  employees\n",
    "WHERE\n",
    "  start_date > DATE '2021-01-01'\n",
    "GROUP BY\n",
    "  country\n",
    "HAVING\n",
    "  MAX(salary) > 100000\n",
    "```\n",
    "\n",
    "## PRQL\n",
    "``` {.sql}\n",
    "from employees\n",
    "# `filter` before aggregations...\n",
    "filter start_date > @2021-01-01\n",
    "group country (\n",
    "  aggregate {max_salary = max salary}\n",
    ")\n",
    "# ...and `filter` after aggregations!\n",
    "filter max_salary > 100_000\n",
    "```\n",
    "\n",
    ":::"
   ]
  },
  {
   "cell_type": "markdown",
   "id": "f450ca2d-094e-4ca1-969a-897fbd9f569b",
   "metadata": {},
   "source": [
    "### Expressions"
   ]
  },
  {
   "cell_type": "markdown",
   "id": "b5d8e770-b20f-41f9-8ee9-40a977a66870",
   "metadata": {
    "tags": []
   },
   "source": [
    "::: {.panel-tabset}\n",
    "\n",
    "## SQL \n",
    "``` {.sql}\n",
    "SELECT *,\n",
    "  started + unfinished AS finished,\n",
    "  (started + unfinished) / started AS fin_share,\n",
    "  (started + unfinished) / started / (1 - (started + unfinished) / started)\n",
    "   AS fin_ratio\n",
    "FROM\n",
    "  track_plays\n",
    "```\n",
    "\n",
    "## PRQL\n",
    "``` {.sql}\n",
    "from track_plays\n",
    "derive {\n",
    "  finished = started + unfinished,\n",
    "  fin_share = finished / started,        # Use previous definitions\n",
    "  fin_ratio = fin_share / (1-fin_share), # BTW, hanging commas are optional!\n",
    "}\n",
    "```\n",
    "\n",
    ":::"
   ]
  },
  {
   "cell_type": "markdown",
   "id": "6e257e4d-113b-4f62-8d73-0c96812ace26",
   "metadata": {},
   "source": [
    "### F-strings"
   ]
  },
  {
   "cell_type": "markdown",
   "id": "032f955c-e4f2-4fad-9cd3-6d419f528bb9",
   "metadata": {
    "tags": []
   },
   "source": [
    "::: {.panel-tabset}\n",
    "\n",
    "## SQL \n",
    "``` {.sql}\n",
    "SELECT\n",
    "  CONCAT('https://www.', domain, '.', tld, '/', page) AS url\n",
    "FROM\n",
    "  web\n",
    "```\n",
    "\n",
    "## PRQL\n",
    "``` {.sql}\n",
    "from web\n",
    "# Just like Python\n",
    "select url = f\"https://www.{domain}.{tld}/{page}\"\n",
    "```\n",
    "\n",
    ":::"
   ]
  },
  {
   "cell_type": "markdown",
   "id": "b14463c3-02e0-42e2-bee3-afd8797c6f6c",
   "metadata": {},
   "source": [
    "### Windows functions"
   ]
  },
  {
   "cell_type": "markdown",
   "id": "ccb9df3b-cc43-4027-b527-e4156e041008",
   "metadata": {
    "tags": []
   },
   "source": [
    "::: {.panel-tabset}\n",
    "\n",
    "## SQL \n",
    "``` {.sql}\n",
    "SELECT\n",
    "  *,\n",
    "  SUM(paycheck) OVER (\n",
    "    PARTITION BY employee_id\n",
    "    ORDER BY\n",
    "      month ROWS BETWEEN 11 PRECEDING AND CURRENT ROW\n",
    "  ) AS trail_12_m_comp\n",
    "FROM\n",
    "  employees\n",
    "```\n",
    "\n",
    "## PRQL\n",
    "``` {.sql}\n",
    "from employees\n",
    "group employee_id (\n",
    "  sort month\n",
    "  window rolling:12 (\n",
    "    derive {trail_12_m_comp = sum paycheck}\n",
    "  )\n",
    ")\n",
    "```\n",
    "\n",
    ":::"
   ]
  },
  {
   "cell_type": "markdown",
   "id": "db83bbce-51d2-42a2-bd4f-6c1602b15174",
   "metadata": {},
   "source": [
    "### Customized functions"
   ]
  },
  {
   "cell_type": "markdown",
   "id": "889e7471-87c3-43d7-98f8-3932efe437a6",
   "metadata": {
    "tags": []
   },
   "source": [
    "::: {.panel-tabset}\n",
    "\n",
    "## SQL \n",
    "``` {.sql}\n",
    "SELECT\n",
    "  temp_c * 9 / 5 + 32 AS temp_f\n",
    "FROM\n",
    "  weather\n",
    "```\n",
    "\n",
    "## PRQL\n",
    "``` {.sql}\n",
    "let celsius_to_fahrenheit = temp -> temp * 9/5 + 32\n",
    "\n",
    "from weather\n",
    "select temp_f = (celsius_to_fahrenheit temp_c)\n",
    "```\n",
    "\n",
    ":::"
   ]
  },
  {
   "cell_type": "markdown",
   "id": "ddbb3944-f170-433d-a8cc-9c787f7cee07",
   "metadata": {},
   "source": [
    "### Top N"
   ]
  },
  {
   "cell_type": "markdown",
   "id": "8fc6f85f-9597-420a-9581-b244bfbd87d4",
   "metadata": {
    "tags": []
   },
   "source": [
    "::: {.panel-tabset}\n",
    "\n",
    "## SQL \n",
    "``` {.sql}\n",
    "WITH table_0 AS (\n",
    "  SELECT\n",
    "    *,\n",
    "    ROW_NUMBER() OVER (\n",
    "      PARTITION BY role\n",
    "      ORDER BY\n",
    "        join_date\n",
    "    ) AS _expr_0\n",
    "  FROM\n",
    "    employees\n",
    ")\n",
    "SELECT\n",
    "  *\n",
    "FROM\n",
    "  table_0\n",
    "WHERE\n",
    "  _expr_0 <= 1\n",
    "```\n",
    "\n",
    "## PRQL\n",
    "``` {.sql}\n",
    "# Most recent employee in each role\n",
    "# Quite difficult in SQL...\n",
    "from employees\n",
    "group role (\n",
    "  sort join_date\n",
    "  take 1\n",
    ")\n",
    "```\n",
    "\n",
    ":::"
   ]
  },
  {
   "cell_type": "markdown",
   "id": "faf38695-88c9-419b-b641-512af2a36c97",
   "metadata": {},
   "source": [
    "### Joins"
   ]
  },
  {
   "cell_type": "markdown",
   "id": "8c0e486b-4bfd-4ed3-8555-8c5ff6571e1b",
   "metadata": {
    "tags": []
   },
   "source": [
    "::: {.panel-tabset}\n",
    "\n",
    "## SQL \n",
    "``` {.sql}\n",
    "SELECT\n",
    "  employees.employee_id,\n",
    "  p.role,\n",
    "  b.vision_coverage\n",
    "FROM\n",
    "  employees\n",
    "  JOIN benefits AS b ON employees.employee_id = b.employee_id\n",
    "  LEFT JOIN positions AS p ON p.id = employees.employee_id\n",
    "```\n",
    "\n",
    "## PRQL\n",
    "``` {.sql}\n",
    "from employees\n",
    "join b=benefits (==employee_id)\n",
    "join side:left p=positions (p.id==employees.employee_id)\n",
    "select {employees.employee_id, p.role, b.vision_coverage}\n",
    "```\n",
    "\n",
    ":::"
   ]
  },
  {
   "cell_type": "markdown",
   "id": "66ad28b7-a7af-427e-aabf-afc5bd987a7f",
   "metadata": {},
   "source": [
    "### Null handling"
   ]
  },
  {
   "cell_type": "markdown",
   "id": "40f39ec5-c54b-4894-a34f-456cc9a321e7",
   "metadata": {
    "tags": []
   },
   "source": [
    "::: {.panel-tabset}\n",
    "\n",
    "## SQL \n",
    "``` {.sql}\n",
    "SELECT\n",
    "  *,\n",
    "  COALESCE(channel, 'unknown') AS channel\n",
    "FROM\n",
    "  users\n",
    "WHERE\n",
    "  last_login IS NOT NULL\n",
    "  AND deleted_at IS NULL\n",
    "```\n",
    "\n",
    "## PRQL\n",
    "``` {.sql}\n",
    "from users\n",
    "filter last_login != null\n",
    "filter deleted_at == null\n",
    "derive channel = channel ?? \"unknown\"\n",
    "```\n",
    "\n",
    ":::"
   ]
  },
  {
   "cell_type": "markdown",
   "id": "a8be70a6-f88d-4e9c-ac55-1273f6837c93",
   "metadata": {},
   "source": [
    "### Dialects"
   ]
  },
  {
   "cell_type": "markdown",
   "id": "31a09327-b410-4063-8ae6-fbec3010930f",
   "metadata": {
    "tags": []
   },
   "source": [
    "::: {.panel-tabset}\n",
    "\n",
    "## SQL \n",
    "``` {.sql}\n",
    "-- MSSQL\n",
    "SELECT\n",
    "  TOP (10) *\n",
    "FROM\n",
    "  employees\n",
    "ORDER BY\n",
    "  age\n",
    "```\n",
    "\n",
    "## PRQL\n",
    "``` {.sql}\n",
    "prql target:sql.mssql  # Will generate TOP rather than LIMIT\n",
    "\n",
    "from employees\n",
    "sort age\n",
    "take 10\n",
    "```\n",
    "\n",
    ":::"
   ]
  },
  {
   "cell_type": "markdown",
   "id": "8eda11bc-b5a7-4212-be82-3359b9eb06fb",
   "metadata": {},
   "source": [
    "## Conclusions"
   ]
  },
  {
   "cell_type": "markdown",
   "id": "f9dd9e13-4726-4db3-8300-69373b3930c2",
   "metadata": {},
   "source": [
    "We can see from above examples, prql has an easier syntax for writing queries.   \n",
    "Nonetheless, the learning curve and transition to writing new sql syntax is steep and it will take its time."
   ]
  },
  {
   "cell_type": "markdown",
   "id": "573cd975-b05f-473b-8c32-446546fadeaf",
   "metadata": {},
   "source": [
    "## Contact\n",
    "\n",
    "<!-- Avatar -->\n",
    "<img src=\"../Pictures/profile2.png\" alt=\"me\" width=\"75\" height=\"80\">\n",
    "<!-- Text with color, font, fontsize and specific size -->\n",
    "<p style=\"color:#323232; font-family: Helevetica; font-size: 20px;\">Jesus L. Monroy<br>Economist | Data Scientist</p>\n",
    "<!-- Insert url links in logos -->\n",
    "<!-- style=\"padding-left:8px\" adds spaces before logo link -->\n",
    "<!-- Telegram -->\n",
    "<a href=\"https://t.me/j3suslm\" target=\"_blank\" rel=\"noreferrer\"> <img src=\"https://upload.wikimedia.org/wikipedia/commons/thumb/e/ef/Telegram_X_2019_Logo.svg/2048px-Telegram_X_2019_Logo.png?size=16&color=3b3b3b\" alt=\"telegram\" width=\"30\" height=\"22\" style=\"padding-left:8px\"/>\n",
    "<!-- Twitter -->\n",
    "<a href=\"https://www.twitter.com/sqlalchemist\" target=\"_blank\" rel=\"noreferrer\"> <img src=\"https://toppng.com/public/uploads/preview/twitter-x-new-logo-round-icon-png-11692480241tdbz6jparr.webp?size=16&color=3b3b3b\" alt=\"twitter\" width=\"30\" height=\"22\" style=\"padding-left:8px\"/>\n",
    "<!-- Github -->\n",
    "<a href=\"https://github.com/SqlAlchemist/My-portfolio\" target=\"_blank\" rel=\"noreferrer\"> <img src=\"https://icongr.am/devicon/github-original.svg?size=16&color=3b3b3b\" alt=\"github\" width=\"30\" height=\"30\" style=\"padding-left:8px\"/>\n",
    "<!-- Linkedin -->\n",
    "<a href=\"https://www.linkedin.com/in/j3sus-lmonroy\" target=\"_blank\" rel=\"noreferrer\"> <img src=\"https://icongr.am/simple/linkedin.svg?size=16&color=3b3b3b\" alt=\"linkedin\" width=\"30\" height=\"30\" style=\"padding-left:8px\"/>\n",
    "<!-- Medium -->\n",
    "<a href=\"https://medium.com/@jesus_lmonroy\" target=\"_blank\" rel=\"noreferrer\"> <img src=\"https://cdn1.iconfinder.com/data/icons/social-media-and-logos-12/32/Logo_medium-512.png?size=55&color=3b3b3b\" alt=\"medium\" width=\"30\" height=\"33\" style=\"padding-left:8px\"/>"
   ]
  }
 ],
 "metadata": {
  "kernelspec": {
   "display_name": "Python 3 (ipykernel)",
   "language": "python",
   "name": "python3"
  },
  "language_info": {
   "codemirror_mode": {
    "name": "ipython",
    "version": 3
   },
   "file_extension": ".py",
   "mimetype": "text/x-python",
   "name": "python",
   "nbconvert_exporter": "python",
   "pygments_lexer": "ipython3",
   "version": "3.11.5"
  }
 },
 "nbformat": 4,
 "nbformat_minor": 5
}
