{
 "cells": [
  {
   "cell_type": "raw",
   "id": "9d97202c-4065-4a18-b7b6-393c62820b8b",
   "metadata": {},
   "source": [
    "---\n",
    "title: \"Polynomial Regression\"\n",
    "subtitle: \"**An Extension for Linear Regression Models**\"\n",
    "author-title: \"Author\"\n",
    "author: \"**Jesus L. Monroy** <br> Economist & Data Scientist <br>\"\n",
    "abstract-title: \"Abstract\"\n",
    "abstract: >\n",
    "    In this article, we shall show where linear regression falls short and we should use polynomial regression instead.<br>\n",
    "published-title: \"Published\"\n",
    "date: last-modified\n",
    "date-format: iso\n",
    "toc: true\n",
    "toc-title: Contents\n",
    "toc-location: right\n",
    "page-layout: full\n",
    "execute:\n",
    "    echo: true\n",
    "format:\n",
    "    html:\n",
    "        page-layout: full\n",
    "        embed-resources: true\n",
    "        code-fold: show\n",
    "        html-math-method: mathml\n",
    "        theme: \n",
    "            light: flatly\n",
    "code-line-numbers: false\n",
    "code-copy: false\n",
    "code-overflow: wrap\n",
    "jupyter: python3\n",
    "---"
   ]
  },
  {
   "cell_type": "markdown",
   "id": "55fb7448-bcac-4b40-85ad-1202cc01bce1",
   "metadata": {},
   "source": [
    "# Polynomial Regression Analysis Example"
   ]
  },
  {
   "cell_type": "markdown",
   "id": "e405804e-59b0-4967-ac42-66d513fca5e4",
   "metadata": {},
   "source": [
    "Oftentimes we’ll encounter data where the relationship between the feature(s) and the response variable can’t be best described with a straight line. In these cases, we should use polynomial regression.\n",
    "\n",
    "An example of a polynomial, coud be:\n",
    "\n",
    "$$3x^4 – 7x^3 + 2x^2 + 11$$\n",
    "\n",
    "**Terminology**\n",
    "\n",
    "* **Degree of a polynomial**: The highest power in polynomial. In our example, 4\n",
    "\n",
    "* **Coefficient**: Each constant (3, 7, 2, 11) in polynomial is a coefficient. In polynomial regression, these coefficients will be estimated\n",
    "\n",
    "* **Leading term**: The term with the highest power ($3x^4$). It determines the polynomial’s graph behavior\n",
    "\n",
    "* **Leading coefficient**: The coefficient of the leading term (3)\n",
    "\n",
    "* **Constant term**: The y intercept, it never changes: no matter what the value of x is, the constant term remains the same"
   ]
  },
  {
   "cell_type": "markdown",
   "id": "d2b4c358-e56a-4914-bc1b-f68bfb4b4ad1",
   "metadata": {},
   "source": [
    "### The difference between linear and polynomial regression.\n",
    "\n",
    "Let’s return to $ 3x4 - 7x3 + 2x2 + 11 $, if we write a polynomial’s terms from the highest degree term to the lowest degree term, it’s called a polynomial’s standard form.\n",
    "\n",
    "In the context of machine learning, you’ll often see it reversed:\n",
    "\n",
    "$$y = \\beta_0 + \\beta_1x + \\beta_2x^2 + \\dots + \\beta_nx^n$$\n",
    "\n",
    "where:\n",
    "\n",
    "* y is the response variable we want to predict\n",
    "* x is the feature\n",
    "* $\\beta_0$ is the y intercept\n",
    "\n",
    "The other ßs are the coefficients/parameters we’d like to find when we train our model on the available x and y values\n",
    "\n",
    "* n is the degree of the polynomial (the higher n is, the more complex curved lines you can create)\n",
    "* \n",
    "The above polynomial regression formula is very similar to the multiple linear regression formula:\n",
    "\n",
    "$$y = \\beta_0 + \\beta_1x + \\beta_2x + \\dots + \\beta_nx$$\n",
    "\n",
    "It’s not a coincidence: polynomial regression is a linear model used for describing non-linear relationships\n",
    "\n",
    "How is this possible? The magic lies in creating new features by raising the original features to a power\n",
    "\n",
    "Linear regression is just a first-degree polynomial. Polynomial regression uses higher-degree polynomials. Both of them are linear models, but the first results in a straight line, the latter gives you a curved line."
   ]
  },
  {
   "cell_type": "code",
   "execution_count": 1,
   "id": "90e9f351-98d1-482f-ada0-c1695447a9e5",
   "metadata": {},
   "outputs": [],
   "source": [
    "import numpy as np\n",
    "import pandas as pd\n",
    "import polars as pl\n",
    "import matplotlib.pyplot as plt\n",
    "import seaborn as sns\n",
    "sns.set()"
   ]
  },
  {
   "cell_type": "code",
   "execution_count": 2,
   "id": "76ddfc14-e5d4-4e48-8c81-8f1ca657b69d",
   "metadata": {},
   "outputs": [],
   "source": [
    "from sklearn.preprocessing import PolynomialFeatures"
   ]
  },
  {
   "cell_type": "code",
   "execution_count": 3,
   "id": "90deca2e-b1e7-4b12-8bfb-3572e4b16afd",
   "metadata": {},
   "outputs": [],
   "source": [
    "# create dummy dataset\n",
    "x = np.arange(0, 30)\n",
    "y = [3, 4, 5, 7, 10, 8, 9, 10, 10, 23, 27, 44, 50, 63, 67, 60, 62, 70, 75,\n",
    "     88, 81, 87, 95, 100, 108, 135, 151, 160, 169, 179]"
   ]
  },
  {
   "cell_type": "code",
   "execution_count": 4,
   "id": "a1acd568-72d4-4334-83ce-890eb03b38d1",
   "metadata": {},
   "outputs": [
    {
     "data": {
      "image/png": "[encoded data removed]",
      "text/plain": [
       "<Figure size 1000x600 with 1 Axes>"
      ]
     },
     "metadata": {},
     "output_type": "display_data"
    }
   ],
   "source": [
    "plt.figure(figsize=(10,6))\n",
    "plt.scatter(x, y)\n",
    "plt.show()"
   ]
  },
  {
   "cell_type": "code",
   "execution_count": 5,
   "id": "376aa0ac-7d15-4c77-a83e-db9a1f45e23a",
   "metadata": {},
   "outputs": [],
   "source": [
    "# Create an polynomial instance\n",
    "poly = PolynomialFeatures(degree=2, include_bias=False)"
   ]
  },
  {
   "cell_type": "markdown",
   "id": "92bb5284-4089-4bb4-9456-725b4458886e",
   "metadata": {},
   "source": [
    "Degree = 2 means that we want to work with a 2nd degree polynomial,\n",
    "\n",
    "$y = \\beta_0 + \\beta_1x + \\beta_2x^2$"
   ]
  },
  {
   "cell_type": "code",
   "execution_count": 6,
   "id": "48c96dc9-dda4-4a51-8502-2aa453dc1fc6",
   "metadata": {},
   "outputs": [],
   "source": [
    "poly_features = poly.fit_transform(x.reshape(-1, 1))"
   ]
  },
  {
   "cell_type": "code",
   "execution_count": 7,
   "id": "bbcf4755-feff-442c-8ef7-fd2b394e6833",
   "metadata": {},
   "outputs": [],
   "source": [
    "from sklearn.linear_model import LinearRegression"
   ]
  },
  {
   "cell_type": "markdown",
   "id": "848dd42c-95f9-42ab-9ae6-d5e755809fb9",
   "metadata": {},
   "source": [
    "It may seem confusing, why are we importing LinearRegression module? 😮\n",
    "\n",
    "We just have to remind that polynomial regression is a linear model, that’s why we import LinearRegression. 🙂"
   ]
  },
  {
   "cell_type": "code",
   "execution_count": 8,
   "id": "772faad9-7876-4803-9b52-15f58c4f7416",
   "metadata": {},
   "outputs": [],
   "source": [
    "# Create a LinearRegression() instance\n",
    "poly_reg_model = LinearRegression()"
   ]
  },
  {
   "cell_type": "code",
   "execution_count": 9,
   "id": "e1a0d7c5-69c2-4e4b-bcb9-d87a78fc3d9e",
   "metadata": {},
   "outputs": [
    {
     "data": {
      "text/html": [
       "<style>#sk-container-id-1 {color: black;background-color: white;}#sk-container-id-1 pre{padding: 0;}#sk-container-id-1 div.sk-toggleable {background-color: white;}#sk-container-id-1 label.sk-toggleable__label {cursor: pointer;display: block;width: 100%;margin-bottom: 0;padding: 0.3em;box-sizing: border-box;text-align: center;}#sk-container-id-1 label.sk-toggleable__label-arrow:before {content: \"▸\";float: left;margin-right: 0.25em;color: #696969;}#sk-container-id-1 label.sk-toggleable__label-arrow:hover:before {color: black;}#sk-container-id-1 div.sk-estimator:hover label.sk-toggleable__label-arrow:before {color: black;}#sk-container-id-1 div.sk-toggleable__content {max-height: 0;max-width: 0;overflow: hidden;text-align: left;background-color: #f0f8ff;}#sk-container-id-1 div.sk-toggleable__content pre {margin: 0.2em;color: black;border-radius: 0.25em;background-color: #f0f8ff;}#sk-container-id-1 input.sk-toggleable__control:checked~div.sk-toggleable__content {max-height: 200px;max-width: 100%;overflow: auto;}#sk-container-id-1 input.sk-toggleable__control:checked~label.sk-toggleable__label-arrow:before {content: \"▾\";}#sk-container-id-1 div.sk-estimator input.sk-toggleable__control:checked~label.sk-toggleable__label {background-color: #d4ebff;}#sk-container-id-1 div.sk-label input.sk-toggleable__control:checked~label.sk-toggleable__label {background-color: #d4ebff;}#sk-container-id-1 input.sk-hidden--visually {border: 0;clip: rect(1px 1px 1px 1px);clip: rect(1px, 1px, 1px, 1px);height: 1px;margin: -1px;overflow: hidden;padding: 0;position: absolute;width: 1px;}#sk-container-id-1 div.sk-estimator {font-family: monospace;background-color: #f0f8ff;border: 1px dotted black;border-radius: 0.25em;box-sizing: border-box;margin-bottom: 0.5em;}#sk-container-id-1 div.sk-estimator:hover {background-color: #d4ebff;}#sk-container-id-1 div.sk-parallel-item::after {content: \"\";width: 100%;border-bottom: 1px solid gray;flex-grow: 1;}#sk-container-id-1 div.sk-label:hover label.sk-toggleable__label {background-color: #d4ebff;}#sk-container-id-1 div.sk-serial::before {content: \"\";position: absolute;border-left: 1px solid gray;box-sizing: border-box;top: 0;bottom: 0;left: 50%;z-index: 0;}#sk-container-id-1 div.sk-serial {display: flex;flex-direction: column;align-items: center;background-color: white;padding-right: 0.2em;padding-left: 0.2em;position: relative;}#sk-container-id-1 div.sk-item {position: relative;z-index: 1;}#sk-container-id-1 div.sk-parallel {display: flex;align-items: stretch;justify-content: center;background-color: white;position: relative;}#sk-container-id-1 div.sk-item::before, #sk-container-id-1 div.sk-parallel-item::before {content: \"\";position: absolute;border-left: 1px solid gray;box-sizing: border-box;top: 0;bottom: 0;left: 50%;z-index: -1;}#sk-container-id-1 div.sk-parallel-item {display: flex;flex-direction: column;z-index: 1;position: relative;background-color: white;}#sk-container-id-1 div.sk-parallel-item:first-child::after {align-self: flex-end;width: 50%;}#sk-container-id-1 div.sk-parallel-item:last-child::after {align-self: flex-start;width: 50%;}#sk-container-id-1 div.sk-parallel-item:only-child::after {width: 0;}#sk-container-id-1 div.sk-dashed-wrapped {border: 1px dashed gray;margin: 0 0.4em 0.5em 0.4em;box-sizing: border-box;padding-bottom: 0.4em;background-color: white;}#sk-container-id-1 div.sk-label label {font-family: monospace;font-weight: bold;display: inline-block;line-height: 1.2em;}#sk-container-id-1 div.sk-label-container {text-align: center;}#sk-container-id-1 div.sk-container {/* jupyter's `normalize.less` sets `[hidden] { display: none; }` but bootstrap.min.css set `[hidden] { display: none !important; }` so we also need the `!important` here to be able to override the default hidden behavior on the sphinx rendered scikit-learn.org. See: https://github.com/scikit-learn/scikit-learn/issues/21755 */display: inline-block !important;position: relative;}#sk-container-id-1 div.sk-text-repr-fallback {display: none;}</style><div id=\"sk-container-id-1\" class=\"sk-top-container\"><div class=\"sk-text-repr-fallback\"><pre>LinearRegression()</pre><b>In a Jupyter environment, please rerun this cell to show the HTML representation or trust the notebook. <br />On GitHub, the HTML representation is unable to render, please try loading this page with nbviewer.org.</b></div><div class=\"sk-container\" hidden><div class=\"sk-item\"><div class=\"sk-estimator sk-toggleable\"><input class=\"sk-toggleable__control sk-hidden--visually\" id=\"sk-estimator-id-1\" type=\"checkbox\" checked><label for=\"sk-estimator-id-1\" class=\"sk-toggleable__label sk-toggleable__label-arrow\">LinearRegression</label><div class=\"sk-toggleable__content\"><pre>LinearRegression()</pre></div></div></div></div></div>"
      ],
      "text/plain": [
       "LinearRegression()"
      ]
     },
     "execution_count": 9,
     "metadata": {},
     "output_type": "execute_result"
    }
   ],
   "source": [
    "# Fit model to data\n",
    "poly_reg_model.fit(poly_features, y)"
   ]
  },
  {
   "cell_type": "code",
   "execution_count": 10,
   "id": "e893250a-ad2d-4413-a08d-1598d23d96c7",
   "metadata": {},
   "outputs": [],
   "source": [
    "# Predict responses\n",
    "y_predicted = poly_reg_model.predict(poly_features)"
   ]
  },
  {
   "cell_type": "code",
   "execution_count": 11,
   "id": "8ba5c797-bc08-4914-9fca-984f810ae7cd",
   "metadata": {},
   "outputs": [
    {
     "data": {
      "text/plain": [
       "array([  1.70806452,   3.04187987,   4.70292388,   6.69119657,\n",
       "         9.00669792,  11.64942794,  14.61938662,  17.91657397,\n",
       "        21.54098999,  25.49263467,  29.77150802,  34.37761004,\n",
       "        39.31094073,  44.57150008,  50.1592881 ,  56.07430478,\n",
       "        62.31655014,  68.88602415,  75.78272684,  83.00665819,\n",
       "        90.55781821,  98.4362069 , 106.64182425, 115.17467027,\n",
       "       124.03474495, 133.22204831, 142.73658033, 152.57834101,\n",
       "       162.74733037, 173.24354839])"
      ]
     },
     "execution_count": 11,
     "metadata": {},
     "output_type": "execute_result"
    }
   ],
   "source": [
    "y_predicted"
   ]
  },
  {
   "cell_type": "code",
   "execution_count": 12,
   "id": "bb7cf32a-6c29-4b67-ba87-3175590e5571",
   "metadata": {},
   "outputs": [
    {
     "data": {
      "image/png": "[encoded data removed]",
      "text/plain": [
       "<Figure size 1000x600 with 1 Axes>"
      ]
     },
     "metadata": {},
     "output_type": "display_data"
    }
   ],
   "source": [
    "plt.figure(figsize=(10, 6))\n",
    "plt.title(\"A Basic Polynomial Regression Example\", size=16)\n",
    "plt.scatter(x, y)\n",
    "plt.plot(x, y_predicted, c=\"green\")\n",
    "plt.show()"
   ]
  },
  {
   "cell_type": "markdown",
   "id": "909f3a80-a9c4-4384-aa8f-0ed88c95d62b",
   "metadata": {},
   "source": [
    "## Polynomial Regression with Multiple Features"
   ]
  },
  {
   "cell_type": "code",
   "execution_count": 13,
   "id": "2c872e27-a4a6-4d79-80fe-b20cca70f106",
   "metadata": {},
   "outputs": [],
   "source": [
    "# Create data\n",
    "np.random.seed(1)\n",
    "x_1 = np.absolute(np.random.randn(100, 1) * 10)\n",
    "x_2 = np.absolute(np.random.randn(100, 1) * 30)\n",
    "y = 2*x_1**2 + 3*x_1 + 2 + np.random.randn(100, 1)*20"
   ]
  },
  {
   "cell_type": "code",
   "execution_count": 14,
   "id": "8cf4c565-a84c-4ef3-bc45-4fb04cecd043",
   "metadata": {},
   "outputs": [
    {
     "data": {
      "image/png": "[encoded data removed]",
      "text/plain": [
       "<Figure size 1000x400 with 2 Axes>"
      ]
     },
     "metadata": {},
     "output_type": "display_data"
    }
   ],
   "source": [
    "# Create visual\n",
    "fig, axes = plt.subplots(nrows=1, ncols=2, figsize=(10, 4))\n",
    "axes[0].scatter(x_1, y)\n",
    "axes[1].scatter(x_2, y)\n",
    "axes[0].set_title(\"x_1 plotted\")\n",
    "axes[1].set_title(\"x_2 plotted\")\n",
    "plt.show()"
   ]
  },
  {
   "cell_type": "code",
   "execution_count": 15,
   "id": "fd96e12b-5bf6-424a-9873-e9cfcd7f19b4",
   "metadata": {},
   "outputs": [
    {
     "data": {
      "text/html": [
       "<div>\n",
       "<style scoped>\n",
       "    .dataframe tbody tr th:only-of-type {\n",
       "        vertical-align: middle;\n",
       "    }\n",
       "\n",
       "    .dataframe tbody tr th {\n",
       "        vertical-align: top;\n",
       "    }\n",
       "\n",
       "    .dataframe thead th {\n",
       "        text-align: right;\n",
       "    }\n",
       "</style>\n",
       "<table border=\"1\" class=\"dataframe\">\n",
       "  <thead>\n",
       "    <tr style=\"text-align: right;\">\n",
       "      <th></th>\n",
       "      <th>x_1</th>\n",
       "      <th>x_2</th>\n",
       "      <th>y</th>\n",
       "    </tr>\n",
       "  </thead>\n",
       "  <tbody>\n",
       "    <tr>\n",
       "      <th>0</th>\n",
       "      <td>16.243454</td>\n",
       "      <td>13.413857</td>\n",
       "      <td>570.412369</td>\n",
       "    </tr>\n",
       "    <tr>\n",
       "      <th>1</th>\n",
       "      <td>6.117564</td>\n",
       "      <td>36.735231</td>\n",
       "      <td>111.681987</td>\n",
       "    </tr>\n",
       "    <tr>\n",
       "      <th>2</th>\n",
       "      <td>5.281718</td>\n",
       "      <td>12.104749</td>\n",
       "      <td>62.392124</td>\n",
       "    </tr>\n",
       "    <tr>\n",
       "      <th>3</th>\n",
       "      <td>10.729686</td>\n",
       "      <td>17.807356</td>\n",
       "      <td>303.538953</td>\n",
       "    </tr>\n",
       "    <tr>\n",
       "      <th>4</th>\n",
       "      <td>8.654076</td>\n",
       "      <td>32.847355</td>\n",
       "      <td>151.109269</td>\n",
       "    </tr>\n",
       "    <tr>\n",
       "      <th>...</th>\n",
       "      <td>...</td>\n",
       "      <td>...</td>\n",
       "      <td>...</td>\n",
       "    </tr>\n",
       "    <tr>\n",
       "      <th>95</th>\n",
       "      <td>0.773401</td>\n",
       "      <td>48.823150</td>\n",
       "      <td>-0.430738</td>\n",
       "    </tr>\n",
       "    <tr>\n",
       "      <th>96</th>\n",
       "      <td>3.438537</td>\n",
       "      <td>18.069578</td>\n",
       "      <td>44.308720</td>\n",
       "    </tr>\n",
       "    <tr>\n",
       "      <th>97</th>\n",
       "      <td>0.435969</td>\n",
       "      <td>12.608466</td>\n",
       "      <td>19.383456</td>\n",
       "    </tr>\n",
       "    <tr>\n",
       "      <th>98</th>\n",
       "      <td>6.200008</td>\n",
       "      <td>24.328550</td>\n",
       "      <td>78.371729</td>\n",
       "    </tr>\n",
       "    <tr>\n",
       "      <th>99</th>\n",
       "      <td>6.980320</td>\n",
       "      <td>31.333263</td>\n",
       "      <td>132.108914</td>\n",
       "    </tr>\n",
       "  </tbody>\n",
       "</table>\n",
       "<p>100 rows × 3 columns</p>\n",
       "</div>"
      ],
      "text/plain": [
       "          x_1        x_2           y\n",
       "0   16.243454  13.413857  570.412369\n",
       "1    6.117564  36.735231  111.681987\n",
       "2    5.281718  12.104749   62.392124\n",
       "3   10.729686  17.807356  303.538953\n",
       "4    8.654076  32.847355  151.109269\n",
       "..        ...        ...         ...\n",
       "95   0.773401  48.823150   -0.430738\n",
       "96   3.438537  18.069578   44.308720\n",
       "97   0.435969  12.608466   19.383456\n",
       "98   6.200008  24.328550   78.371729\n",
       "99   6.980320  31.333263  132.108914\n",
       "\n",
       "[100 rows x 3 columns]"
      ]
     },
     "execution_count": 15,
     "metadata": {},
     "output_type": "execute_result"
    }
   ],
   "source": [
    "# Create dataframe\n",
    "df = pd.DataFrame(\n",
    "    {\"x_1\":x_1.reshape(100,),\n",
    "     \"x_2\":x_2.reshape(100,),\n",
    "     \"y\":y.reshape(100,)},\n",
    "        index=range(0,100))\n",
    "df"
   ]
  },
  {
   "cell_type": "code",
   "execution_count": 16,
   "id": "523ef075-bb44-4259-a6ad-1fcdd3348e59",
   "metadata": {},
   "outputs": [],
   "source": [
    "from sklearn.model_selection import train_test_split"
   ]
  },
  {
   "cell_type": "code",
   "execution_count": 17,
   "id": "1c5dd1cf-07e8-45ab-b057-d4f2bb44a133",
   "metadata": {},
   "outputs": [],
   "source": [
    "# Define train and test sets\n",
    "X, y = df[[\"x_1\", \"x_2\"]], df[\"y\"]\n",
    "poly = PolynomialFeatures(degree=2, include_bias=False)\n",
    "poly_features = poly.fit_transform(X)\n",
    "X_train, X_test, y_train, y_test = train_test_split(poly_features, y, test_size=0.3, random_state=42)"
   ]
  },
  {
   "cell_type": "code",
   "execution_count": 18,
   "id": "172fbaf4-68e4-4103-9724-42eacbc18da5",
   "metadata": {},
   "outputs": [
    {
     "data": {
      "text/html": [
       "<style>#sk-container-id-2 {color: black;background-color: white;}#sk-container-id-2 pre{padding: 0;}#sk-container-id-2 div.sk-toggleable {background-color: white;}#sk-container-id-2 label.sk-toggleable__label {cursor: pointer;display: block;width: 100%;margin-bottom: 0;padding: 0.3em;box-sizing: border-box;text-align: center;}#sk-container-id-2 label.sk-toggleable__label-arrow:before {content: \"▸\";float: left;margin-right: 0.25em;color: #696969;}#sk-container-id-2 label.sk-toggleable__label-arrow:hover:before {color: black;}#sk-container-id-2 div.sk-estimator:hover label.sk-toggleable__label-arrow:before {color: black;}#sk-container-id-2 div.sk-toggleable__content {max-height: 0;max-width: 0;overflow: hidden;text-align: left;background-color: #f0f8ff;}#sk-container-id-2 div.sk-toggleable__content pre {margin: 0.2em;color: black;border-radius: 0.25em;background-color: #f0f8ff;}#sk-container-id-2 input.sk-toggleable__control:checked~div.sk-toggleable__content {max-height: 200px;max-width: 100%;overflow: auto;}#sk-container-id-2 input.sk-toggleable__control:checked~label.sk-toggleable__label-arrow:before {content: \"▾\";}#sk-container-id-2 div.sk-estimator input.sk-toggleable__control:checked~label.sk-toggleable__label {background-color: #d4ebff;}#sk-container-id-2 div.sk-label input.sk-toggleable__control:checked~label.sk-toggleable__label {background-color: #d4ebff;}#sk-container-id-2 input.sk-hidden--visually {border: 0;clip: rect(1px 1px 1px 1px);clip: rect(1px, 1px, 1px, 1px);height: 1px;margin: -1px;overflow: hidden;padding: 0;position: absolute;width: 1px;}#sk-container-id-2 div.sk-estimator {font-family: monospace;background-color: #f0f8ff;border: 1px dotted black;border-radius: 0.25em;box-sizing: border-box;margin-bottom: 0.5em;}#sk-container-id-2 div.sk-estimator:hover {background-color: #d4ebff;}#sk-container-id-2 div.sk-parallel-item::after {content: \"\";width: 100%;border-bottom: 1px solid gray;flex-grow: 1;}#sk-container-id-2 div.sk-label:hover label.sk-toggleable__label {background-color: #d4ebff;}#sk-container-id-2 div.sk-serial::before {content: \"\";position: absolute;border-left: 1px solid gray;box-sizing: border-box;top: 0;bottom: 0;left: 50%;z-index: 0;}#sk-container-id-2 div.sk-serial {display: flex;flex-direction: column;align-items: center;background-color: white;padding-right: 0.2em;padding-left: 0.2em;position: relative;}#sk-container-id-2 div.sk-item {position: relative;z-index: 1;}#sk-container-id-2 div.sk-parallel {display: flex;align-items: stretch;justify-content: center;background-color: white;position: relative;}#sk-container-id-2 div.sk-item::before, #sk-container-id-2 div.sk-parallel-item::before {content: \"\";position: absolute;border-left: 1px solid gray;box-sizing: border-box;top: 0;bottom: 0;left: 50%;z-index: -1;}#sk-container-id-2 div.sk-parallel-item {display: flex;flex-direction: column;z-index: 1;position: relative;background-color: white;}#sk-container-id-2 div.sk-parallel-item:first-child::after {align-self: flex-end;width: 50%;}#sk-container-id-2 div.sk-parallel-item:last-child::after {align-self: flex-start;width: 50%;}#sk-container-id-2 div.sk-parallel-item:only-child::after {width: 0;}#sk-container-id-2 div.sk-dashed-wrapped {border: 1px dashed gray;margin: 0 0.4em 0.5em 0.4em;box-sizing: border-box;padding-bottom: 0.4em;background-color: white;}#sk-container-id-2 div.sk-label label {font-family: monospace;font-weight: bold;display: inline-block;line-height: 1.2em;}#sk-container-id-2 div.sk-label-container {text-align: center;}#sk-container-id-2 div.sk-container {/* jupyter's `normalize.less` sets `[hidden] { display: none; }` but bootstrap.min.css set `[hidden] { display: none !important; }` so we also need the `!important` here to be able to override the default hidden behavior on the sphinx rendered scikit-learn.org. See: https://github.com/scikit-learn/scikit-learn/issues/21755 */display: inline-block !important;position: relative;}#sk-container-id-2 div.sk-text-repr-fallback {display: none;}</style><div id=\"sk-container-id-2\" class=\"sk-top-container\"><div class=\"sk-text-repr-fallback\"><pre>LinearRegression()</pre><b>In a Jupyter environment, please rerun this cell to show the HTML representation or trust the notebook. <br />On GitHub, the HTML representation is unable to render, please try loading this page with nbviewer.org.</b></div><div class=\"sk-container\" hidden><div class=\"sk-item\"><div class=\"sk-estimator sk-toggleable\"><input class=\"sk-toggleable__control sk-hidden--visually\" id=\"sk-estimator-id-2\" type=\"checkbox\" checked><label for=\"sk-estimator-id-2\" class=\"sk-toggleable__label sk-toggleable__label-arrow\">LinearRegression</label><div class=\"sk-toggleable__content\"><pre>LinearRegression()</pre></div></div></div></div></div>"
      ],
      "text/plain": [
       "LinearRegression()"
      ]
     },
     "execution_count": 18,
     "metadata": {},
     "output_type": "execute_result"
    }
   ],
   "source": [
    "# Create polynomial regression\n",
    "poly_reg_model = LinearRegression()\n",
    "poly_reg_model.fit(X_train, y_train)"
   ]
  },
  {
   "cell_type": "code",
   "execution_count": 19,
   "id": "3e71890c-1248-475c-9a7e-9b0383a1c138",
   "metadata": {},
   "outputs": [],
   "source": [
    "# Test model\n",
    "poly_reg_y_predicted = poly_reg_model.predict(X_test)"
   ]
  },
  {
   "cell_type": "markdown",
   "id": "8289bb7a-a4a2-4ffe-9a3a-320c489acee0",
   "metadata": {},
   "source": [
    "The formula for Root Mean Square Error is:\n",
    "\n",
    "$RMSE = \\sqrt{\\frac{1}{n} \\sum_{i=1}^n (y_i - \\hat{y}_i)^2}$\n",
    "\n",
    "The smaller the RMSE metric the better the model"
   ]
  },
  {
   "cell_type": "code",
   "execution_count": 20,
   "id": "4aba197b-cfd0-4c34-8013-54af814c1560",
   "metadata": {},
   "outputs": [
    {
     "name": "stdout",
     "output_type": "stream",
     "text": [
      "Polynomial regression\n",
      "RMSE: 20.94\n"
     ]
    }
   ],
   "source": [
    "from sklearn.metrics import mean_squared_error\n",
    "\n",
    "poly_reg_rmse = np.sqrt(mean_squared_error(y_test, poly_reg_y_predicted))\n",
    "print(f'Polynomial regression\\nRMSE: {poly_reg_rmse:.2f}')"
   ]
  },
  {
   "cell_type": "markdown",
   "id": "ec90e678-22f1-4f9c-bd5e-6a4cdc2421d1",
   "metadata": {},
   "source": [
    "### Comparing Polynomial vs Linear Regression Models"
   ]
  },
  {
   "cell_type": "code",
   "execution_count": 21,
   "id": "14111335-7ba5-4c88-9821-a9eb117c60c3",
   "metadata": {},
   "outputs": [
    {
     "name": "stdout",
     "output_type": "stream",
     "text": [
      "Linear regression\n",
      "RMSE: 62.30\n"
     ]
    }
   ],
   "source": [
    "# Split into train and test sets\n",
    "X_train, X_test, y_train, y_test = train_test_split(X, y, test_size=0.3, random_state=42)\n",
    "# Create linear regression instance\n",
    "lin_reg_model = LinearRegression()\n",
    "# Fit regression model\n",
    "lin_reg_model.fit(X_train, y_train)\n",
    "# Create predictions\n",
    "lin_reg_y_predicted = lin_reg_model.predict(X_test)\n",
    "# Calculate RMSE\n",
    "lin_reg_rmse = np.sqrt(mean_squared_error(y_test, lin_reg_y_predicted))\n",
    "# Print results\n",
    "print(f'Linear regression\\nRMSE: {lin_reg_rmse:,.2f}')"
   ]
  },
  {
   "cell_type": "markdown",
   "id": "879a92e9-8d24-45f1-a383-4986df8153c2",
   "metadata": {},
   "source": [
    "In the train_test_split method we use X instead of poly_features, and it’s for a good reason. \n",
    "\n",
    "X contains our two original features (x_1 and x_2), so our linear regression model takes the form of:\n",
    "\n",
    "$y = \\beta_0 + \\beta_1x_1 + \\beta_2x_2$"
   ]
  },
  {
   "cell_type": "code",
   "execution_count": 22,
   "id": "ce384bae-1d86-4faf-b43a-6359819e85cb",
   "metadata": {},
   "outputs": [
    {
     "data": {
      "text/plain": [
       "array([43.73176255, -0.53140809])"
      ]
     },
     "execution_count": 22,
     "metadata": {},
     "output_type": "execute_result"
    }
   ],
   "source": [
    "lin_reg_model.coef_"
   ]
  },
  {
   "cell_type": "code",
   "execution_count": 23,
   "id": "8d935397-7dbb-4e16-8f51-c142241b1e27",
   "metadata": {},
   "outputs": [
    {
     "data": {
      "text/plain": [
       "-117.07280081594811"
      ]
     },
     "execution_count": 23,
     "metadata": {},
     "output_type": "execute_result"
    }
   ],
   "source": [
    "lin_reg_model.intercept_"
   ]
  },
  {
   "cell_type": "markdown",
   "id": "17876d2b-178d-440b-a243-1a77ed12d3ee",
   "metadata": {},
   "source": [
    "On the other hand, poly_features contains new features as well, created out of x_1 and x_2, so our polynomial regression model (based on a 2nd degree polynomial with two features) looks like this:\n",
    "\n",
    "$y = \\beta_0 + \\beta_1x_1 + \\beta_2x_2 + \\beta_3x_1^2 + \\beta_4x_2^2 + \\beta_5x_1x_2$\n",
    "\n",
    "This is because poly.fit_transform(X) added three new features to the original two (x1 ($x_1$) and x2 ($x_2$)): $x_1^2$, $x_2^2$ and $x_1x_2$\n",
    "\n",
    "$x_1^2$ and $x_2^2$ need no explanation, as we’ve already covered how they are created in the “Coding a polynomial regression model with scikit-learn” section.\n",
    "\n",
    "What’s more interesting is $x_1x_2$ – when two features are multiplied by each other, it’s called an interaction term. An interaction term accounts for the fact that one variable’s value may depend on another variable’s value (more on this here). poly.fit_transform() automatically created this interaction term for us, isn’t that cool? 🙂"
   ]
  },
  {
   "cell_type": "code",
   "execution_count": 24,
   "id": "48417f7c-3359-4dc9-8cc3-bb5d84ccf584",
   "metadata": {},
   "outputs": [
    {
     "data": {
      "text/plain": [
       "array([ 3.61945509, -1.0859955 ,  1.89905813,  0.0207338 ,  0.01300394])"
      ]
     },
     "execution_count": 24,
     "metadata": {},
     "output_type": "execute_result"
    }
   ],
   "source": [
    "poly_reg_model.coef_"
   ]
  },
  {
   "cell_type": "code",
   "execution_count": 25,
   "id": "def20277-c67d-439f-8cec-ec8ada7a51d5",
   "metadata": {},
   "outputs": [
    {
     "name": "stdout",
     "output_type": "stream",
     "text": [
      "Linear regression\n",
      "RMSE: 62.30\n"
     ]
    }
   ],
   "source": [
    "print(f'Linear regression\\nRMSE: {lin_reg_rmse:.2f}')"
   ]
  },
  {
   "cell_type": "markdown",
   "id": "b6b4c5f4-6ce0-4b8c-9786-69e443d200f5",
   "metadata": {},
   "source": [
    "The RMSE for the polynomial regression model is 20.94, while the RMSE for the linear regression model is 62.3. The polynomial regression model performs almost 3 times better than the linear regression model!"
   ]
  },
  {
   "cell_type": "markdown",
   "id": "2445a448-c908-42da-93d1-95edb6d4a3e8",
   "metadata": {},
   "source": [
    "## Conclusion\n",
    "\n",
    "In this notebook, we have been able to expose that a basic understanding of polynomial regression. And we have shown RMSE metric for comparing the performance among different ML models.\n",
    "\n",
    "We used a 2nd degree polynomial for ourthis example. Naturally, we should always test and trial before deploying a model to find what degree of polynomial performs best."
   ]
  },
  {
   "cell_type": "markdown",
   "id": "6b3870c0-8ee6-4f47-8be0-c453fba4494f",
   "metadata": {},
   "source": [
    "## References\n",
    "\n",
    "Special thanks to **Tamas Ujhelyi**, whose [article](https://data36.com/polynomial-regression-python-scikit-learn/) I mainly based on.\n",
    "\n",
    "[How to become a Data Scientist video](https://data36.com/how-to-become-a-data-scientist/)"
   ]
  },
  {
   "cell_type": "markdown",
   "id": "5a061443-bc3d-4416-94f0-8f4cd1389e25",
   "metadata": {},
   "source": [
    "## Contact\n",
    "\n",
    "<!-- Avatar -->\n",
    "<img src=\"./Pictures/profile2.png\" alt=\"me\" width=\"75\" height=\"80\">\n",
    "<!-- Text with color, font, fontsize and specific size -->\n",
    "<p style=\"color:#323232; font-family: Helevetica; font-size: 20px;\">Jesus L. Monroy<br>Economist | Data Scientist</p>\n",
    "<!-- Insert url links in logos -->\n",
    "<!-- Telegram -->\n",
    "<a href=\"https://t.me/j3suslm\" target=\"_blank\" rel=\"noreferrer\"> <img src=\"https://upload.wikimedia.org/wikipedia/commons/thumb/e/ef/Telegram_X_2019_Logo.svg/2048px-Telegram_X_2019_Logo.svg.png?size=16&color=3b3b3b\" alt=\"telegram\" width=\"30\" height=\"22\" style=\"padding-left:8px\"/>\n",
    "<!-- Twitter -->\n",
    "<a href=\"https://www.twitter.com/sqlalchemist\" target=\"_blank\" rel=\"noreferrer\"> <img src=\"https://toppng.com/public/uploads/preview/twitter-x-new-logo-round-icon-png-11692480241tdbz6jparr.webp?size=16&color=3b3b3b\" alt=\"twitter\" width=\"30\" height=\"22\" style=\"padding-left:8px\"/>\n",
    "<!-- Github -->\n",
    "<a href=\"https://github.com/SqlAlchemist/My-portfolio\" target=\"_blank\" rel=\"noreferrer\"> <img src=\"https://icongr.am/devicon/github-original.svg?size=16&color=3b3b3b\" alt=\"github\" width=\"30\" height=\"30\" style=\"padding-left:8px\"/>\n",
    "<!-- Linkedin -->\n",
    "<a href=\"https://www.linkedin.com/in/j3sus-lmonroy\" target=\"_blank\" rel=\"noreferrer\"> <img src=\"https://icongr.am/simple/linkedin.svg?size=16&color=3b3b3b\" alt=\"linkedin\" width=\"30\" height=\"30\" style=\"padding-left:8px\"/>\n",
    "<!-- Medium -->\n",
    "<a href=\"https://medium.com/@jesus_lmonroy\" target=\"_blank\" rel=\"noreferrer\"> <img src=\"https://cdn1.iconfinder.com/data/icons/social-media-and-logos-12/32/Logo_medium-512.png?size=55&color=3b3b3b\" alt=\"medium\" width=\"30\" height=\"33\" style=\"padding-left:8px\"/>"
   ]
  }
 ],
 "metadata": {
  "kernelspec": {
   "display_name": "Python 3 (ipykernel)",
   "language": "python",
   "name": "python3"
  },
  "language_info": {
   "codemirror_mode": {
    "name": "ipython",
    "version": 3
   },
   "file_extension": ".py",
   "mimetype": "text/x-python",
   "name": "python",
   "nbconvert_exporter": "python",
   "pygments_lexer": "ipython3",
   "version": "3.11.5"
  }
 },
 "nbformat": 4,
 "nbformat_minor": 5
}
