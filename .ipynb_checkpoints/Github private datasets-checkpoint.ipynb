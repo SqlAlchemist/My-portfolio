{
 "cells": [
  {
   "cell_type": "markdown",
   "id": "06bdea88-c969-42d9-a723-1ace79f44f70",
   "metadata": {},
   "source": [
    "# Connect to Github Private Repositories files"
   ]
  },
  {
   "cell_type": "code",
   "execution_count": 1,
   "id": "f8d89f87-5cb6-4cfc-a1d8-f081f352669f",
   "metadata": {},
   "outputs": [],
   "source": [
    "# libraries to acces github\n",
    "import io\n",
    "import json\n",
    "import requests\n",
    "# libraries for analysis\n",
    "import pandas as pd"
   ]
  },
  {
   "cell_type": "code",
   "execution_count": 2,
   "id": "308607e8-acd4-4e19-9964-91ac317d52f6",
   "metadata": {},
   "outputs": [],
   "source": [
    "# Token from secret file\n",
    "filename = '../APIs/credentials.json'\n",
    "# read json file\n",
    "with open(filename) as f:\n",
    "    keys = json.load(f)\n",
    "# Personal Access Token (PAO) from GitHub\n",
    "token = keys['github_datasets']\n",
    "# Github username\n",
    "username = 'SqlAlchemist'"
   ]
  },
  {
   "cell_type": "code",
   "execution_count": 3,
   "id": "e46dd4d9-540c-42ed-aad5-d24b6834f2e0",
   "metadata": {},
   "outputs": [],
   "source": [
    "# Creates a re-usable session object with your creds in-built\n",
    "github_session = requests.Session()\n",
    "github_session.auth = (username, token)"
   ]
  },
  {
   "cell_type": "code",
   "execution_count": 4,
   "id": "209b0875-d1d2-417c-bcb1-0bcd7b1dd2ad",
   "metadata": {},
   "outputs": [],
   "source": [
    "# Download the csv file from your GitHub\n",
    "# url should be the raw version\n",
    "url = 'https://raw.githubusercontent.com/SqlAlchemist/Datasets/main/ers.csv?token=GHSAT0AAAAAACD4KUZVLXKE7FXWGOXCWRIAZLLSEBA'\n",
    "download = github_session.get(url).content"
   ]
  },
  {
   "cell_type": "code",
   "execution_count": 5,
   "id": "ea7cd947-9032-4ed0-9e86-1ac39569767b",
   "metadata": {},
   "outputs": [],
   "source": [
    "# Read the downloaded content and convert it into a pandas dataframe\n",
    "df = pd.read_csv(io.StringIO(download.decode('utf-8')))"
   ]
  },
  {
   "cell_type": "code",
   "execution_count": 6,
   "id": "6d3dbac7-3bec-458f-9dd7-eef1cf614dc6",
   "metadata": {},
   "outputs": [
    {
     "data": {
      "text/html": [
       "<div>\n",
       "<style scoped>\n",
       "    .dataframe tbody tr th:only-of-type {\n",
       "        vertical-align: middle;\n",
       "    }\n",
       "\n",
       "    .dataframe tbody tr th {\n",
       "        vertical-align: top;\n",
       "    }\n",
       "\n",
       "    .dataframe thead th {\n",
       "        text-align: right;\n",
       "    }\n",
       "</style>\n",
       "<table border=\"1\" class=\"dataframe\">\n",
       "  <thead>\n",
       "    <tr style=\"text-align: right;\">\n",
       "      <th></th>\n",
       "      <th>Sede</th>\n",
       "      <th>SPA / 5TO</th>\n",
       "      <th>Fecha asignacion</th>\n",
       "      <th>Sede responsable</th>\n",
       "      <th>Sexo</th>\n",
       "      <th>Delito</th>\n",
       "      <th>Tipo ER</th>\n",
       "      <th>Estatus</th>\n",
       "    </tr>\n",
       "  </thead>\n",
       "  <tbody>\n",
       "    <tr>\n",
       "      <th>0</th>\n",
       "      <td>AGS</td>\n",
       "      <td>5to transitorio</td>\n",
       "      <td>18/8/2017</td>\n",
       "      <td>AGUASCALIENTES</td>\n",
       "      <td>H</td>\n",
       "      <td>ARMAS DE FUEGO DE USO EXCLUSIVO DEL EJERCITO, ...</td>\n",
       "      <td>Persona recluida (procesada)</td>\n",
       "      <td>ATENDIDA</td>\n",
       "    </tr>\n",
       "    <tr>\n",
       "      <th>1</th>\n",
       "      <td>AGS</td>\n",
       "      <td>5to transitorio</td>\n",
       "      <td>5/9/2017</td>\n",
       "      <td>AGUASCALIENTES</td>\n",
       "      <td>H</td>\n",
       "      <td>ARMAS DE FUEGO DE USO EXCLUSIVO DEL EJERCITO, ...</td>\n",
       "      <td>Persona recluida (procesada)</td>\n",
       "      <td>ENTREVISTA</td>\n",
       "    </tr>\n",
       "    <tr>\n",
       "      <th>2</th>\n",
       "      <td>AGS</td>\n",
       "      <td>SPA</td>\n",
       "      <td>8/9/2017</td>\n",
       "      <td>AGUASCALIENTES</td>\n",
       "      <td>H</td>\n",
       "      <td>ARMAS DE FUEGO DE USO EXCLUSIVO DEL EJERCITO, ...</td>\n",
       "      <td>Persona detenida</td>\n",
       "      <td>ATENDIDA</td>\n",
       "    </tr>\n",
       "    <tr>\n",
       "      <th>3</th>\n",
       "      <td>AGS</td>\n",
       "      <td>SPA</td>\n",
       "      <td>8/9/2017</td>\n",
       "      <td>AGUASCALIENTES</td>\n",
       "      <td>H</td>\n",
       "      <td>ARMAS DE FUEGO DE USO EXCLUSIVO DEL EJERCITO, ...</td>\n",
       "      <td>Persona detenida</td>\n",
       "      <td>ATENDIDA</td>\n",
       "    </tr>\n",
       "    <tr>\n",
       "      <th>4</th>\n",
       "      <td>AGS</td>\n",
       "      <td>SPA</td>\n",
       "      <td>9/9/2017</td>\n",
       "      <td>AGUASCALIENTES</td>\n",
       "      <td>M</td>\n",
       "      <td>ARMAS DE FUEGO</td>\n",
       "      <td>Persona detenida</td>\n",
       "      <td>ATENDIDA</td>\n",
       "    </tr>\n",
       "  </tbody>\n",
       "</table>\n",
       "</div>"
      ],
      "text/plain": [
       "  Sede        SPA / 5TO Fecha asignacion Sede responsable Sexo  \\\n",
       "0  AGS  5to transitorio        18/8/2017   AGUASCALIENTES    H   \n",
       "1  AGS  5to transitorio         5/9/2017   AGUASCALIENTES    H   \n",
       "2  AGS              SPA         8/9/2017   AGUASCALIENTES    H   \n",
       "3  AGS              SPA         8/9/2017   AGUASCALIENTES    H   \n",
       "4  AGS              SPA         9/9/2017   AGUASCALIENTES    M   \n",
       "\n",
       "                                              Delito  \\\n",
       "0  ARMAS DE FUEGO DE USO EXCLUSIVO DEL EJERCITO, ...   \n",
       "1  ARMAS DE FUEGO DE USO EXCLUSIVO DEL EJERCITO, ...   \n",
       "2  ARMAS DE FUEGO DE USO EXCLUSIVO DEL EJERCITO, ...   \n",
       "3  ARMAS DE FUEGO DE USO EXCLUSIVO DEL EJERCITO, ...   \n",
       "4                                     ARMAS DE FUEGO   \n",
       "\n",
       "                        Tipo ER     Estatus  \n",
       "0  Persona recluida (procesada)    ATENDIDA  \n",
       "1  Persona recluida (procesada)  ENTREVISTA  \n",
       "2              Persona detenida    ATENDIDA  \n",
       "3              Persona detenida    ATENDIDA  \n",
       "4              Persona detenida    ATENDIDA  "
      ]
     },
     "execution_count": 6,
     "metadata": {},
     "output_type": "execute_result"
    }
   ],
   "source": [
    "df.head()"
   ]
  },
  {
   "cell_type": "markdown",
   "id": "8c285274-90c1-436a-aa3e-5400d7d4343f",
   "metadata": {},
   "source": [
    "## Contact\n",
    "\n",
    "<!-- Avatar -->\n",
    "<img src=\"../Pictures/profile2.png\" alt=\"me\" width=\"75\" height=\"80\">\n",
    "<!-- Text with color, font, fontsize and specific size -->\n",
    "<p style=\"color:#323232; font-family: Helevetica; font-size: 20px;\">Jesus L. Monroy<br>Economist | Data Scientist</p>\n",
    "<!-- Insert url links in logos -->\n",
    "<!-- Telegram -->\n",
    "<a href=\"https://t.me/j3suslm\" target=\"_blank\" rel=\"noreferrer\"> <img src=\"https://upload.wikimedia.org/wikipedia/commons/thumb/e/ef/Telegram_X_2019_Logo.svg/2048px-Telegram_X_2019_Logo.png?size=16&color=3b3b3b\" alt=\"telegram\" width=\"30\" height=\"22\" style=\"padding-left:8px\"/>\n",
    "<!-- Twitter -->\n",
    "<a href=\"https://www.twitter.com/sqlalchemist\" target=\"_blank\" rel=\"noreferrer\"> <img src=\"https://toppng.com/public/uploads/preview/twitter-x-new-logo-round-icon-png-11692480241tdbz6jparr.webp?size=16&color=3b3b3b\" alt=\"twitter\" width=\"30\" height=\"22\" style=\"padding-left:8px\"/>\n",
    "<!-- Github -->\n",
    "<a href=\"https://github.com/SqlAlchemist/My-portfolio\" target=\"_blank\" rel=\"noreferrer\"> <img src=\"https://icongr.am/devicon/github-original.svg?size=16&color=3b3b3b\" alt=\"github\" width=\"30\" height=\"30\" style=\"padding-left:8px\"/>\n",
    "<!-- Linkedin -->\n",
    "<a href=\"https://www.linkedin.com/in/j3sus-lmonroy\" target=\"_blank\" rel=\"noreferrer\"> <img src=\"https://icongr.am/simple/linkedin.svg?size=16&color=3b3b3b\" alt=\"linkedin\" width=\"30\" height=\"30\" style=\"padding-left:8px\"/>\n",
    "<!-- Medium -->\n",
    "<a href=\"https://medium.com/@jesus_lmonroy\" target=\"_blank\" rel=\"noreferrer\"> <img src=\"https://cdn1.iconfinder.com/data/icons/social-media-and-logos-12/32/Logo_medium-512.png?size=55&color=3b3b3b\" alt=\"medium\" width=\"30\" height=\"33\" style=\"padding-left:8px\"/>"
   ]
  }
 ],
 "metadata": {
  "kernelspec": {
   "display_name": "Python 3 (ipykernel)",
   "language": "python",
   "name": "python3"
  },
  "language_info": {
   "codemirror_mode": {
    "name": "ipython",
    "version": 3
   },
   "file_extension": ".py",
   "mimetype": "text/x-python",
   "name": "python",
   "nbconvert_exporter": "python",
   "pygments_lexer": "ipython3",
   "version": "3.11.5"
  }
 },
 "nbformat": 4,
 "nbformat_minor": 5
}
