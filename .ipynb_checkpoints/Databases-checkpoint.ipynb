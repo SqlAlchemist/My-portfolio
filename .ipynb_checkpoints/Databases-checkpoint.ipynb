{
 "cells": [
  {
   "cell_type": "markdown",
   "id": "9844556e-96ec-4963-b615-0cb34d62bc02",
   "metadata": {
    "id": "9844556e-96ec-4963-b615-0cb34d62bc02",
    "tags": []
   },
   "source": [
    "# Access to databases"
   ]
  },
  {
   "cell_type": "code",
   "execution_count": 1,
   "id": "401f9e7e-d8b1-40d8-b845-5b4d696d03e2",
   "metadata": {
    "executionInfo": {
     "elapsed": 418,
     "status": "ok",
     "timestamp": 1683561987065,
     "user": {
      "displayName": "Jesus L",
      "userId": "14694795882299199985"
     },
     "user_tz": 360
    },
    "id": "401f9e7e-d8b1-40d8-b845-5b4d696d03e2"
   },
   "outputs": [],
   "source": [
    "import numpy as np\n",
    "import pandas as pd\n",
    "import polars as pl\n",
    "import connectorx as cx"
   ]
  },
  {
   "cell_type": "markdown",
   "id": "8c6875d1-cb8c-4d48-863a-536c559cb98a",
   "metadata": {
    "id": "8c6875d1-cb8c-4d48-863a-536c559cb98a",
    "tags": []
   },
   "source": [
    "## MPE"
   ]
  },
  {
   "cell_type": "markdown",
   "id": "84cd0bbd-03d6-47d8-9500-f7e4ffa063b5",
   "metadata": {
    "id": "84cd0bbd-03d6-47d8-9500-f7e4ffa063b5",
    "tags": []
   },
   "source": [
    "### Connect to mpe_prod database"
   ]
  },
  {
   "cell_type": "code",
   "execution_count": 2,
   "id": "d9360301-61a1-4669-830f-896dec30a40e",
   "metadata": {
    "executionInfo": {
     "elapsed": 308,
     "status": "ok",
     "timestamp": 1683561994229,
     "user": {
      "displayName": "Jesus L",
      "userId": "14694795882299199985"
     },
     "user_tz": 360
    },
    "id": "d9360301-61a1-4669-830f-896dec30a40e"
   },
   "outputs": [],
   "source": [
    "user = 'gepp_jesus'\n",
    "passw = '37S85u.Rri$O='\n",
    "host = '127.0.0.1'\n",
    "port = '3307'\n",
    "db1 = 'mpe_prod'\n",
    "\n",
    "mpe_prod_conn = \"mysql://{0}:{1}@{2}:{3}/{4}\".format(user, passw, host, port, db1)"
   ]
  },
  {
   "cell_type": "code",
   "execution_count": 3,
   "id": "9ff2851b-bb54-4112-9a0f-deebde8ad03d",
   "metadata": {
    "executionInfo": {
     "elapsed": 1643,
     "status": "ok",
     "timestamp": 1683562178756,
     "user": {
      "displayName": "Jesus L",
      "userId": "14694795882299199985"
     },
     "user_tz": 360
    },
    "id": "9ff2851b-bb54-4112-9a0f-deebde8ad03d"
   },
   "outputs": [],
   "source": [
    "query = '''\n",
    "    SELECT * FROM Productos\n",
    "'''"
   ]
  },
  {
   "cell_type": "code",
   "execution_count": 4,
   "id": "6d105d36-52cd-431d-8539-6ec3a4a07178",
   "metadata": {
    "colab": {
     "base_uri": "https://localhost:8080/",
     "height": 360
    },
    "executionInfo": {
     "elapsed": 30214,
     "status": "error",
     "timestamp": 1683562211732,
     "user": {
      "displayName": "Jesus L",
      "userId": "14694795882299199985"
     },
     "user_tz": 360
    },
    "id": "6d105d36-52cd-431d-8539-6ec3a4a07178",
    "outputId": "2e95427e-bc8f-4e57-c796-b403ea1d769f"
   },
   "outputs": [],
   "source": [
    "df1 =pl.read_database(query, mpe_prod_conn)"
   ]
  },
  {
   "cell_type": "code",
   "execution_count": null,
   "id": "60ddf11e-a6bc-4d09-8afb-44208c6f282c",
   "metadata": {},
   "outputs": [],
   "source": []
  },
  {
   "cell_type": "markdown",
   "id": "6bd9c636-442a-4ec2-8c85-d1e87d1add8d",
   "metadata": {
    "id": "6bd9c636-442a-4ec2-8c85-d1e87d1add8d"
   },
   "source": [
    "### Connect to mpe_tv"
   ]
  },
  {
   "cell_type": "code",
   "execution_count": 9,
   "id": "880f518c-8f44-40cb-b44c-6c67292cc7c0",
   "metadata": {
    "id": "880f518c-8f44-40cb-b44c-6c67292cc7c0"
   },
   "outputs": [],
   "source": [
    "db2 = 'mpe_tv'\n",
    "mpe_tv_conn = \"mysql://{0}:{1}@{2}:{3}/{4}\".format(user, passw, host, port, db2)"
   ]
  },
  {
   "cell_type": "code",
   "execution_count": 10,
   "id": "7e08eea1-63c0-486d-bed1-b52e2ba05154",
   "metadata": {
    "id": "7e08eea1-63c0-486d-bed1-b52e2ba05154"
   },
   "outputs": [],
   "source": [
    "query2 = '''\n",
    "    SELECT * FROM RulesCatalog\n",
    "'''"
   ]
  },
  {
   "cell_type": "code",
   "execution_count": 11,
   "id": "cd1f8ecf-6df3-48a4-96b6-48b2f31f6477",
   "metadata": {
    "id": "cd1f8ecf-6df3-48a4-96b6-48b2f31f6477"
   },
   "outputs": [],
   "source": [
    "df2 = pl.read_database(query2, mpe_tv_conn)"
   ]
  },
  {
   "cell_type": "markdown",
   "id": "c0301f04-15d7-4a12-b8b7-7bb6de68808a",
   "metadata": {
    "id": "c0301f04-15d7-4a12-b8b7-7bb6de68808a"
   },
   "source": [
    "## GETM - Azure"
   ]
  },
  {
   "cell_type": "markdown",
   "id": "9e08df7f-4d62-4a5a-b2a5-5c524de97352",
   "metadata": {
    "id": "9e08df7f-4d62-4a5a-b2a5-5c524de97352"
   },
   "source": [
    "### Connect to getm_ticket_preventa"
   ]
  },
  {
   "cell_type": "code",
   "execution_count": 18,
   "id": "4abbdcc5-810b-469c-bc4c-eb7217987966",
   "metadata": {
    "id": "4abbdcc5-810b-469c-bc4c-eb7217987966"
   },
   "outputs": [],
   "source": [
    "user = 'gepp_jesus'\n",
    "passw = '37S85u.Rri$O='\n",
    "host = 'getm-mysql-public-prod.mysql.database.azure.com'\n",
    "port = '3306'\n",
    "db3 = 'ticket_preventa'\n",
    "\n",
    "getm_ticket_conn = \"mysql://{0}:{1}@{2}:{3}/{4}\".format(user, passw, host, port, db3)"
   ]
  },
  {
   "cell_type": "code",
   "execution_count": 19,
   "id": "1a7f06da-bf06-434c-b0cb-a02902c4822a",
   "metadata": {
    "id": "1a7f06da-bf06-434c-b0cb-a02902c4822a"
   },
   "outputs": [],
   "source": [
    "query3 = '''\n",
    "    SELECT NUD \n",
    "    FROM ticketpreventa\n",
    "    LIMIT 10\n",
    "'''"
   ]
  },
  {
   "cell_type": "code",
   "execution_count": 20,
   "id": "056229e3-e092-482b-a012-c8ebc2e6ee79",
   "metadata": {
    "id": "056229e3-e092-482b-a012-c8ebc2e6ee79"
   },
   "outputs": [
    {
     "name": "stderr",
     "output_type": "stream",
     "text": [
      "[2023-05-15T01:39:04Z ERROR r2d2] DriverError { Could not connect: connection timeout }\n"
     ]
    },
    {
     "ename": "RuntimeError",
     "evalue": "timed out waiting for connection",
     "output_type": "error",
     "traceback": [
      "\u001b[0;31m---------------------------------------------------------------------------\u001b[0m",
      "\u001b[0;31mRuntimeError\u001b[0m                              Traceback (most recent call last)",
      "Cell \u001b[0;32mIn[20], line 1\u001b[0m\n\u001b[0;32m----> 1\u001b[0m df3 \u001b[38;5;241m=\u001b[39m \u001b[43mpl\u001b[49m\u001b[38;5;241;43m.\u001b[39;49m\u001b[43mread_database\u001b[49m\u001b[43m(\u001b[49m\u001b[43mquery3\u001b[49m\u001b[43m,\u001b[49m\u001b[43m \u001b[49m\u001b[43mgetm_ticket_conn\u001b[49m\u001b[43m)\u001b[49m\n",
      "File \u001b[0;32m~/anaconda3/lib/python3.10/site-packages/polars/io/database.py:95\u001b[0m, in \u001b[0;36mread_database\u001b[0;34m(query, connection_uri, partition_on, partition_range, partition_num, protocol, engine)\u001b[0m\n\u001b[1;32m     24\u001b[0m \u001b[38;5;250m\u001b[39m\u001b[38;5;124;03m\"\"\"\u001b[39;00m\n\u001b[1;32m     25\u001b[0m \u001b[38;5;124;03mRead a SQL query into a DataFrame.\u001b[39;00m\n\u001b[1;32m     26\u001b[0m \n\u001b[0;32m   (...)\u001b[0m\n\u001b[1;32m     92\u001b[0m \n\u001b[1;32m     93\u001b[0m \u001b[38;5;124;03m\"\"\"\u001b[39;00m\n\u001b[1;32m     94\u001b[0m \u001b[38;5;28;01mif\u001b[39;00m engine \u001b[38;5;241m==\u001b[39m \u001b[38;5;124m\"\u001b[39m\u001b[38;5;124mconnectorx\u001b[39m\u001b[38;5;124m\"\u001b[39m:\n\u001b[0;32m---> 95\u001b[0m     \u001b[38;5;28;01mreturn\u001b[39;00m \u001b[43m_read_sql_connectorx\u001b[49m\u001b[43m(\u001b[49m\n\u001b[1;32m     96\u001b[0m \u001b[43m        \u001b[49m\u001b[43mquery\u001b[49m\u001b[43m,\u001b[49m\n\u001b[1;32m     97\u001b[0m \u001b[43m        \u001b[49m\u001b[43mconnection_uri\u001b[49m\u001b[43m,\u001b[49m\n\u001b[1;32m     98\u001b[0m \u001b[43m        \u001b[49m\u001b[43mpartition_on\u001b[49m\u001b[38;5;241;43m=\u001b[39;49m\u001b[43mpartition_on\u001b[49m\u001b[43m,\u001b[49m\n\u001b[1;32m     99\u001b[0m \u001b[43m        \u001b[49m\u001b[43mpartition_range\u001b[49m\u001b[38;5;241;43m=\u001b[39;49m\u001b[43mpartition_range\u001b[49m\u001b[43m,\u001b[49m\n\u001b[1;32m    100\u001b[0m \u001b[43m        \u001b[49m\u001b[43mpartition_num\u001b[49m\u001b[38;5;241;43m=\u001b[39;49m\u001b[43mpartition_num\u001b[49m\u001b[43m,\u001b[49m\n\u001b[1;32m    101\u001b[0m \u001b[43m        \u001b[49m\u001b[43mprotocol\u001b[49m\u001b[38;5;241;43m=\u001b[39;49m\u001b[43mprotocol\u001b[49m\u001b[43m,\u001b[49m\n\u001b[1;32m    102\u001b[0m \u001b[43m    \u001b[49m\u001b[43m)\u001b[49m\n\u001b[1;32m    103\u001b[0m \u001b[38;5;28;01melif\u001b[39;00m engine \u001b[38;5;241m==\u001b[39m \u001b[38;5;124m\"\u001b[39m\u001b[38;5;124madbc\u001b[39m\u001b[38;5;124m\"\u001b[39m:\n\u001b[1;32m    104\u001b[0m     \u001b[38;5;28;01mif\u001b[39;00m \u001b[38;5;129;01mnot\u001b[39;00m \u001b[38;5;28misinstance\u001b[39m(query, \u001b[38;5;28mstr\u001b[39m):\n",
      "File \u001b[0;32m~/anaconda3/lib/python3.10/site-packages/polars/io/database.py:222\u001b[0m, in \u001b[0;36m_read_sql_connectorx\u001b[0;34m(query, connection_uri, partition_on, partition_range, partition_num, protocol)\u001b[0m\n\u001b[1;32m    217\u001b[0m \u001b[38;5;28;01mexcept\u001b[39;00m \u001b[38;5;167;01mImportError\u001b[39;00m:\n\u001b[1;32m    218\u001b[0m     \u001b[38;5;28;01mraise\u001b[39;00m \u001b[38;5;167;01mImportError\u001b[39;00m(\n\u001b[1;32m    219\u001b[0m         \u001b[38;5;124m\"\u001b[39m\u001b[38;5;124mconnectorx is not installed. Please run `pip install connectorx>=0.3.1`.\u001b[39m\u001b[38;5;124m\"\u001b[39m\n\u001b[1;32m    220\u001b[0m     ) \u001b[38;5;28;01mfrom\u001b[39;00m \u001b[38;5;28;01mNone\u001b[39;00m\n\u001b[0;32m--> 222\u001b[0m tbl \u001b[38;5;241m=\u001b[39m \u001b[43mcx\u001b[49m\u001b[38;5;241;43m.\u001b[39;49m\u001b[43mread_sql\u001b[49m\u001b[43m(\u001b[49m\n\u001b[1;32m    223\u001b[0m \u001b[43m    \u001b[49m\u001b[43mconn\u001b[49m\u001b[38;5;241;43m=\u001b[39;49m\u001b[43mconnection_uri\u001b[49m\u001b[43m,\u001b[49m\n\u001b[1;32m    224\u001b[0m \u001b[43m    \u001b[49m\u001b[43mquery\u001b[49m\u001b[38;5;241;43m=\u001b[39;49m\u001b[43mquery\u001b[49m\u001b[43m,\u001b[49m\n\u001b[1;32m    225\u001b[0m \u001b[43m    \u001b[49m\u001b[43mreturn_type\u001b[49m\u001b[38;5;241;43m=\u001b[39;49m\u001b[38;5;124;43m\"\u001b[39;49m\u001b[38;5;124;43marrow2\u001b[39;49m\u001b[38;5;124;43m\"\u001b[39;49m\u001b[43m,\u001b[49m\n\u001b[1;32m    226\u001b[0m \u001b[43m    \u001b[49m\u001b[43mpartition_on\u001b[49m\u001b[38;5;241;43m=\u001b[39;49m\u001b[43mpartition_on\u001b[49m\u001b[43m,\u001b[49m\n\u001b[1;32m    227\u001b[0m \u001b[43m    \u001b[49m\u001b[43mpartition_range\u001b[49m\u001b[38;5;241;43m=\u001b[39;49m\u001b[43mpartition_range\u001b[49m\u001b[43m,\u001b[49m\n\u001b[1;32m    228\u001b[0m \u001b[43m    \u001b[49m\u001b[43mpartition_num\u001b[49m\u001b[38;5;241;43m=\u001b[39;49m\u001b[43mpartition_num\u001b[49m\u001b[43m,\u001b[49m\n\u001b[1;32m    229\u001b[0m \u001b[43m    \u001b[49m\u001b[43mprotocol\u001b[49m\u001b[38;5;241;43m=\u001b[39;49m\u001b[43mprotocol\u001b[49m\u001b[43m,\u001b[49m\n\u001b[1;32m    230\u001b[0m \u001b[43m\u001b[49m\u001b[43m)\u001b[49m\n\u001b[1;32m    232\u001b[0m \u001b[38;5;28;01mreturn\u001b[39;00m from_arrow(tbl)\n",
      "File \u001b[0;32m~/anaconda3/lib/python3.10/site-packages/connectorx/__init__.py:257\u001b[0m, in \u001b[0;36mread_sql\u001b[0;34m(conn, query, return_type, protocol, partition_on, partition_range, partition_num, index_col)\u001b[0m\n\u001b[1;32m    254\u001b[0m \u001b[38;5;28;01mexcept\u001b[39;00m \u001b[38;5;167;01mModuleNotFoundError\u001b[39;00m:\n\u001b[1;32m    255\u001b[0m     \u001b[38;5;28;01mraise\u001b[39;00m \u001b[38;5;167;01mValueError\u001b[39;00m(\u001b[38;5;124m\"\u001b[39m\u001b[38;5;124mYou need to install pyarrow first\u001b[39m\u001b[38;5;124m\"\u001b[39m)\n\u001b[0;32m--> 257\u001b[0m result \u001b[38;5;241m=\u001b[39m \u001b[43m_read_sql\u001b[49m\u001b[43m(\u001b[49m\n\u001b[1;32m    258\u001b[0m \u001b[43m    \u001b[49m\u001b[43mconn\u001b[49m\u001b[43m,\u001b[49m\n\u001b[1;32m    259\u001b[0m \u001b[43m    \u001b[49m\u001b[38;5;124;43m\"\u001b[39;49m\u001b[38;5;124;43marrow\u001b[39;49m\u001b[38;5;124;43m\"\u001b[39;49m\u001b[43m \u001b[49m\u001b[38;5;28;43;01mif\u001b[39;49;00m\u001b[43m \u001b[49m\u001b[43mreturn_type\u001b[49m\u001b[43m \u001b[49m\u001b[38;5;129;43;01min\u001b[39;49;00m\u001b[43m \u001b[49m\u001b[43m{\u001b[49m\u001b[38;5;124;43m\"\u001b[39;49m\u001b[38;5;124;43marrow\u001b[39;49m\u001b[38;5;124;43m\"\u001b[39;49m\u001b[43m,\u001b[49m\u001b[43m \u001b[49m\u001b[38;5;124;43m\"\u001b[39;49m\u001b[38;5;124;43mpolars\u001b[39;49m\u001b[38;5;124;43m\"\u001b[39;49m\u001b[43m}\u001b[49m\u001b[43m \u001b[49m\u001b[38;5;28;43;01melse\u001b[39;49;00m\u001b[43m \u001b[49m\u001b[38;5;124;43m\"\u001b[39;49m\u001b[38;5;124;43marrow2\u001b[39;49m\u001b[38;5;124;43m\"\u001b[39;49m\u001b[43m,\u001b[49m\n\u001b[1;32m    260\u001b[0m \u001b[43m    \u001b[49m\u001b[43mqueries\u001b[49m\u001b[38;5;241;43m=\u001b[39;49m\u001b[43mqueries\u001b[49m\u001b[43m,\u001b[49m\n\u001b[1;32m    261\u001b[0m \u001b[43m    \u001b[49m\u001b[43mprotocol\u001b[49m\u001b[38;5;241;43m=\u001b[39;49m\u001b[43mprotocol\u001b[49m\u001b[43m,\u001b[49m\n\u001b[1;32m    262\u001b[0m \u001b[43m    \u001b[49m\u001b[43mpartition_query\u001b[49m\u001b[38;5;241;43m=\u001b[39;49m\u001b[43mpartition_query\u001b[49m\u001b[43m,\u001b[49m\n\u001b[1;32m    263\u001b[0m \u001b[43m\u001b[49m\u001b[43m)\u001b[49m\n\u001b[1;32m    264\u001b[0m df \u001b[38;5;241m=\u001b[39m reconstruct_arrow(result)\n\u001b[1;32m    265\u001b[0m \u001b[38;5;28;01mif\u001b[39;00m return_type \u001b[38;5;129;01min\u001b[39;00m {\u001b[38;5;124m\"\u001b[39m\u001b[38;5;124mpolars\u001b[39m\u001b[38;5;124m\"\u001b[39m, \u001b[38;5;124m\"\u001b[39m\u001b[38;5;124mpolars2\u001b[39m\u001b[38;5;124m\"\u001b[39m}:\n",
      "\u001b[0;31mRuntimeError\u001b[0m: timed out waiting for connection"
     ]
    }
   ],
   "source": [
    "df3 = pl.read_database(query3, getm_ticket_conn)"
   ]
  },
  {
   "cell_type": "code",
   "execution_count": null,
   "id": "0c84eee9-fcf5-45d9-b0d7-a129b69eb918",
   "metadata": {},
   "outputs": [],
   "source": [
    "df3"
   ]
  }
 ],
 "metadata": {
  "colab": {
   "provenance": []
  },
  "kernelspec": {
   "display_name": "Python 3 (ipykernel)",
   "language": "python",
   "name": "python3"
  },
  "language_info": {
   "codemirror_mode": {
    "name": "ipython",
    "version": 3
   },
   "file_extension": ".py",
   "mimetype": "text/x-python",
   "name": "python",
   "nbconvert_exporter": "python",
   "pygments_lexer": "ipython3",
   "version": "3.10.8"
  }
 },
 "nbformat": 4,
 "nbformat_minor": 5
}
