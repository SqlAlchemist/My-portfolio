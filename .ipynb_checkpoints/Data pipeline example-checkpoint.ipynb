{
 "cells": [
  {
   "cell_type": "markdown",
   "id": "a28446c7-26de-4555-a0eb-af341b72cfba",
   "metadata": {
    "id": "a28446c7-26de-4555-a0eb-af341b72cfba",
    "tags": []
   },
   "source": [
    "# Data pipeline from Excel files to Big Query Data Warehouse with Python"
   ]
  },
  {
   "cell_type": "markdown",
   "id": "7f10fe9a-9ecf-4495-9689-829728129723",
   "metadata": {},
   "source": [
    "## Data pipeline concept\n",
    "\n",
    "Data pipelines collect, transform, and store diverse data sources. *ETL and ELT are subprocesses of data pipelines*.\n",
    "\n",
    "A data pipeline is a method whereby raw data is ingested from various data sources and then stored into a data lake or data warehouse.\n",
    "\n",
    "Before data flows into a data repository, commonly some data processing is applied.\n",
    "\n",
    "Data processing may include: \n",
    "\n",
    "* Filtering, \n",
    "* Masking or labeling \n",
    "* Aggregations \n",
    "\n",
    "The above steps ensure appropriate data quality, above all, when the destination is a relational database wherein data columns and types should match to update existing with new data.\n",
    "\n",
    "\n",
    "For further information, you can check out: [What is a data pipeline?](https://www.ibm.com/topics/data-pipeline)"
   ]
  },
  {
   "cell_type": "markdown",
   "id": "c5f0e9fb-3a2f-4eb3-a07b-484e6121db4b",
   "metadata": {
    "id": "c5f0e9fb-3a2f-4eb3-a07b-484e6121db4b",
    "tags": []
   },
   "source": [
    "## Environment settings"
   ]
  },
  {
   "cell_type": "code",
   "execution_count": 14,
   "id": "97982127-5d81-4eb7-95cc-3f38e4aaa37b",
   "metadata": {
    "id": "97982127-5d81-4eb7-95cc-3f38e4aaa37b",
    "tags": []
   },
   "outputs": [],
   "source": [
    "import numpy as np\n",
    "import pandas as pd\n",
    "import polars as pl\n",
    "import gspread\n",
    "import duckdb\n",
    "# Import authenticator and gspread to manage g-sheets\n",
    "from oauth2client.service_account import ServiceAccountCredentials\n",
    "from google.oauth2 import service_account\n",
    "from google.cloud import bigquery\n",
    "#import connectorx as cx\n",
    "import warnings\n",
    "warnings.filterwarnings(\"ignore\")"
   ]
  },
  {
   "cell_type": "code",
   "execution_count": 3,
   "id": "80740f98-4e9c-4e24-afb9-c324e3d97a79",
   "metadata": {
    "id": "80740f98-4e9c-4e24-afb9-c324e3d97a79",
    "tags": []
   },
   "outputs": [],
   "source": [
    "# Create sheets and drive scopes to authenticate\n",
    "scopes = ['https://www.googleapis.com/auth/spreadsheets',\n",
    "        'https://www.googleapis.com/auth/drive',\n",
    "        'https://www.googleapis.com/auth/analytics.readonly']\n",
    "\n",
    "# Read google credentials\n",
    "api = '../APIS/gepp-538-db.json'\n",
    "# connect to google sheets\n",
    "gs_credentials = ServiceAccountCredentials.from_json_keyfile_name(api, scopes)\n",
    "gc = gspread.authorize(gs_credentials)\n",
    "# connect to big query\n",
    "bq_credentials = service_account.Credentials.from_service_account_file(api)\n",
    "project_id = 'gepp-538'\n",
    "client = bigquery.Client(credentials=bq_credentials,project=project_id)"
   ]
  },
  {
   "cell_type": "markdown",
   "id": "2ebac247-7f44-47ac-bde8-51763f6b04c9",
   "metadata": {
    "tags": []
   },
   "source": [
    "## SQL queries with Duckdb"
   ]
  },
  {
   "cell_type": "code",
   "execution_count": 27,
   "id": "34fee2d6-d98c-4f66-ad23-6d8d013064b8",
   "metadata": {},
   "outputs": [],
   "source": [
    "# consulta detallada usuarios\n",
    "mpe_users = pl.read_csv('../usuarios.csv', separator=';', ignore_errors=True)"
   ]
  },
  {
   "cell_type": "code",
   "execution_count": 28,
   "id": "25e66772-1409-43ee-9ff6-6c4802ad01f7",
   "metadata": {},
   "outputs": [
    {
     "data": {
      "text/html": [
       "<div><style>\n",
       ".dataframe > thead > tr > th,\n",
       ".dataframe > tbody > tr > td {\n",
       "  text-align: right;\n",
       "}\n",
       "</style>\n",
       "<small>shape: (2, 2)</small><table border=\"1\" class=\"dataframe\"><thead><tr><th>Origen</th><th>usuarios</th></tr><tr><td>str</td><td>i64</td></tr></thead><tbody><tr><td>&quot;WA&quot;</td><td>765173</td></tr><tr><td>&quot;Ecommerce&quot;</td><td>97913</td></tr></tbody></table></div>"
      ],
      "text/plain": [
       "shape: (2, 2)\n",
       "┌───────────┬──────────┐\n",
       "│ Origen    ┆ usuarios │\n",
       "│ ---       ┆ ---      │\n",
       "│ str       ┆ i64      │\n",
       "╞═══════════╪══════════╡\n",
       "│ WA        ┆ 765173   │\n",
       "│ Ecommerce ┆ 97913    │\n",
       "└───────────┴──────────┘"
      ]
     },
     "execution_count": 28,
     "metadata": {},
     "output_type": "execute_result"
    }
   ],
   "source": [
    "# create sql queries with duckdb\n",
    "# read file with duckdb (csv, parquet, json)\n",
    "duckdb.sql(\n",
    "    '''\n",
    "    SELECT\n",
    "        Origen, COUNT(Nombre) AS usuarios\n",
    "    FROM '../usuarios.csv'\n",
    "    GROUP BY Origen\n",
    "    ORDER BY usuarios DESC\n",
    "    '''\n",
    ").pl() # and pipeline to polars dataframe\n",
    "#others formats include: .df() for pandas, .arrow() for arrow, and .fetchnumpy() for numpy arrays"
   ]
  },
  {
   "cell_type": "markdown",
   "id": "8dbd6ca5-bfe0-4baa-99ed-1046128f5bd2",
   "metadata": {},
   "source": [
    "**create files from duckdb queries**\n",
    "\n",
    "* ` duckdb.sql('SELECT 42').write_parquet('out.parquet')` # Write to a Parquet file\n",
    "* ` duckdb.sql('SELECT 42').write_csv('out.csv')` # Write to a CSV file\n",
    "* ` duckdb.sql(\"COPY (SELECT 42) TO 'out.parquet'\")` # Copy to a parquet file"
   ]
  },
  {
   "cell_type": "markdown",
   "id": "ff9e8367-2f64-4e7f-b377-90d20fbf0fdc",
   "metadata": {
    "id": "ff9e8367-2f64-4e7f-b377-90d20fbf0fdc",
    "tags": []
   },
   "source": [
    "## Create functions to upload Excel data sources "
   ]
  },
  {
   "cell_type": "code",
   "execution_count": 47,
   "id": "595f45a1-a71a-425e-a7a7-7b97d48c68b7",
   "metadata": {},
   "outputs": [],
   "source": [
    "def mpe_usuarios(file):\n",
    "\n",
    "    mpe_usuarios = (\n",
    "    pl.read_excel(file, sheet_name='Cantidades'\n",
    "        ).select(\n",
    "        pl.col('*').map_alias(lambda col_name: col_name.lower().replace(' ', '_'))\n",
    "        ).with_columns(pl.col('fecha').str.strptime(pl.Datetime, strict=False)\n",
    "        )\n",
    "    )\n",
    "    return mpe_usuarios"
   ]
  },
  {
   "cell_type": "code",
   "execution_count": 83,
   "id": "8b2ce194-f6d0-4411-9030-f28a4d0457e6",
   "metadata": {},
   "outputs": [],
   "source": [
    "def mpe_pedidos(file):\n",
    "    \n",
    "    mpe_general = (\n",
    "        pl.read_excel(file, sheet_name='Pedidos General',\n",
    "        read_csv_options={'infer_schema_length':0})\n",
    "    .select(\n",
    "        pl.col('*').map_alias(lambda col_name: col_name.lower().replace(' ', '_'))\n",
    "    ).rename(\n",
    "    {\n",
    "        'fecha_modificación':'fecha_modificacion',\n",
    "        'hora_modificación':'hora_modificacion',\n",
    "        'teléfono_de_contacto':'tel_contacto',\n",
    "        'alias_de_dirección':'alias_dir',\n",
    "        'dirección_completa':'dir_completa',\n",
    "    }\n",
    "    ).with_columns(\n",
    "    pl.col('id_bodega').cast(pl.Int64),\n",
    "    pl.col('cantidad_de_productos').cast(pl.Int64),\n",
    "    pl.col('total_de_orden').cast(pl.Float64),\n",
    "    pl.col('promociones').cast(pl.Int64),\n",
    "    pl.col('ruta_de_entrega').cast(pl.Float64),\n",
    "    pl.col('nud').cast(pl.Float64),\n",
    "    pl.col('fecha_de_pedido').str.strptime(pl.Datetime, format='%d-%m-%Y', strict=False),\n",
    "    pl.col('fecha_modificacion').str.strptime(pl.Datetime, format='%d-%m-%Y', strict=False),\n",
    "    pl.col('fecha_entrega').str.strptime(pl.Datetime, format='%d-%m-%Y', strict=False),\n",
    "    ).drop('nombre_completo')\n",
    "    )\n",
    "    return mpe_general"
   ]
  },
  {
   "cell_type": "code",
   "execution_count": 11,
   "id": "4aa5bb42-199d-4dd1-a726-8b76c6f389f4",
   "metadata": {},
   "outputs": [],
   "source": [
    "def mpe_detalle(file):\n",
    "    \n",
    "    mpe_det = (pl.read_excel(file, sheet_name='Pedidos Detalle',\n",
    "        read_csv_options={'infer_schema_length':0})\n",
    "    .select(\n",
    "        pl.col('*').map_alias(lambda col_name: col_name.lower().replace(' ', '_'))\n",
    "    ).rename(\n",
    "    {\n",
    "        'clave_de_promoción':'clave_de_promocion',\n",
    "        'producto(s)':'productos'\n",
    "    }\n",
    "    ).with_columns(\n",
    "    pl.col('cantidad').cast(pl.Int64),\n",
    "    pl.col('precio_por_unidad').cast(pl.Float64),\n",
    "    pl.col('descuento_por_unidad').cast(pl.Float64),\n",
    "    pl.col('precio_acumulado').cast(pl.Float64),\n",
    "    pl.col('descuento_acumulado').cast(pl.Float64),\n",
    "    )\n",
    "    )\n",
    "    return mpe_det"
   ]
  },
  {
   "cell_type": "code",
   "execution_count": 84,
   "id": "4ec83b2f-4ba5-4243-a020-51f961c04772",
   "metadata": {},
   "outputs": [],
   "source": [
    "# Access MPE bodegas worksheet by url\n",
    "sheet_id = '1RdEyiPZULVGwy274uPsB6NKxg6MtWCw9rHwcuDyCwyw'\n",
    "workbook = gc.open_by_key(sheet_id)\n",
    "# Access data by worksheet sheet number\n",
    "mpe_bodegas = workbook.worksheet('warehouses')\n",
    "# Save data to table\n",
    "mpe_bodegas = mpe_bodegas.get_all_values()\n",
    "# Save accessed data from google sheets to dataframes\n",
    "mpe_bodegas = pd.DataFrame(mpe_bodegas[1:],columns=mpe_bodegas[0])\n",
    "# convert to polars dataframe and manipulate data\n",
    "mpe_bodegas = pl.from_pandas(mpe_bodegas).select(\n",
    "    pl.col('*').map_alias(lambda col_name: col_name.lower().replace(' ', '_'))\n",
    "    ).with_columns(pl.col('clave_bodega').cast(pl.Int64)\n",
    "    ).rename({'clave_bodega':'id_bodega'}\n",
    "    ).drop(['clave_bodega_destino','tipo_preventa_tradicional','clave_bodega_origen',]\n",
    "    )"
   ]
  },
  {
   "cell_type": "markdown",
   "id": "0359a911-da62-4ccf-b8a0-831c7f126dba",
   "metadata": {},
   "source": [
    "## Execute functions to upload files"
   ]
  },
  {
   "cell_type": "code",
   "execution_count": 49,
   "id": "3874e9bf-70b4-47cd-ba01-221811fac8e0",
   "metadata": {},
   "outputs": [],
   "source": [
    "mpe_usuarios = mpe_usuarios('~/Downloads/mpe-usuarios.xlsx')"
   ]
  },
  {
   "cell_type": "code",
   "execution_count": 13,
   "id": "8b21ce1e-650a-4ae7-ae63-40a4fb1676c6",
   "metadata": {},
   "outputs": [],
   "source": [
    "mpe_detalle = mpe_detalle('~/Downloads/mpe-pedidos.xlsx')"
   ]
  },
  {
   "cell_type": "code",
   "execution_count": 85,
   "id": "11ca85d9-3d84-4841-9891-369ed9202fd0",
   "metadata": {},
   "outputs": [],
   "source": [
    "mpe_pedidos = mpe_pedidos('~/Downloads/mpe-pedidos.xlsx').join(mpe_bodegas, on='id_bodega', how='left')"
   ]
  },
  {
   "cell_type": "markdown",
   "id": "d948859e-c8aa-40b2-bfc5-7bd1f2017fe5",
   "metadata": {},
   "source": [
    "## Create functions to upload other Excel data sources"
   ]
  },
  {
   "cell_type": "code",
   "execution_count": 144,
   "id": "e52686be-5903-495e-aa2a-1a551f0b4865",
   "metadata": {},
   "outputs": [],
   "source": [
    "# Pedidos General\n",
    "def getm_pedidos(file):\n",
    "    \n",
    "    getm_pedidos = (\n",
    "    pl.read_excel('~/Downloads/getm-pedidos.xlsx', sheet_name='Pedidos General', \n",
    "    read_csv_options={'infer_schema_length':0}\n",
    "    ).select(\n",
    "        pl.col('*').map_alias(lambda col_name: col_name.lower().replace(' ', '_'))\n",
    "    ).rename({\n",
    "        'fecha_de_creación':'fecha_de_creacion',\n",
    "        'hora_de_creación':'hora_de_creacion',\n",
    "        'fecha_de_modificación':'fecha_de_modificacion',\n",
    "        'hora_de_modificación':'hora_de_modificacion',\n",
    "    }).with_columns(\n",
    "        pl.col('id_bodega').cast(pl.Int64),\n",
    "        pl.col('nud').cast(pl.Int64),\n",
    "        pl.col('rutappp').cast(pl.Int64),\n",
    "        pl.col('ruta_de_desarrollo').cast(pl.Int64),\n",
    "        pl.col('rutavpp').cast(pl.Int64),\n",
    "        pl.col('monto_total').cast(pl.Float64),\n",
    "        pl.col('total_de_productos').cast(pl.Int64),\n",
    "        pl.col('promociones').cast(pl.Int64),\n",
    "        pl.col('fecha_de_creacion').str.strptime(pl.Datetime, format='%d-%m-%Y', strict=False),\n",
    "        pl.col('fecha_de_modificacion').str.strptime(pl.Datetime, format='%d-%m-%Y', strict=False),\n",
    "        pl.col('fecha_de_despacho').str.strptime(pl.Datetime, format='%d-%m-%Y', strict=False),\n",
    "        pl.col('fecha_de_entrega').str.strptime(pl.Datetime, format='%d-%m-%Y', strict=False),\n",
    "        pl.col('fecha_cancelado').str.strptime(pl.Datetime, format='%d-%m-%Y', strict=False),\n",
    "    ).drop('nombre_del_cliente_registrado')\n",
    "    )\n",
    "    return getm_pedidos"
   ]
  },
  {
   "cell_type": "code",
   "execution_count": 168,
   "id": "3f3df881-99e8-4c6b-ac76-4d053575d99f",
   "metadata": {},
   "outputs": [],
   "source": [
    "# Pedidos Detalle\n",
    "def getm_detalle(file):\n",
    "    \n",
    "    getm_detalle = (\n",
    "    pl.read_excel(file, sheet_name='Pedidos Detalle', \n",
    "    read_csv_options={'infer_schema_length':0}\n",
    "    ).select(\n",
    "        pl.col('*').map_alias(lambda col_name: col_name.lower().replace(' ', '_'))\n",
    "    ).rename({\n",
    "        'clave_de_promoción':'clave_de_promocion',\n",
    "        'tipo_de_promoción':'tipo_de_promocion',\n",
    "        'descripción_de_promoción':'descripcion_de_promocion',\n",
    "        'producto(s)':'productos',\n",
    "    }).with_columns(\n",
    "        pl.col('id_bodega').cast(pl.Int64),\n",
    "        pl.col('nud').cast(pl.Int64),\n",
    "        pl.col('cantidad').cast(pl.Float64),\n",
    "        pl.col('precio_por_unidad').cast(pl.Float64),\n",
    "        pl.col('descuento_por_unidad').cast(pl.Float64),\n",
    "        pl.col('precio_acumulado').cast(pl.Float64),\n",
    "        pl.col('descuento_acumulado').cast(pl.Float64),\n",
    "    )\n",
    "    )\n",
    "    return getm_detalle"
   ]
  },
  {
   "cell_type": "markdown",
   "id": "e3eb0498-6c53-4a3d-b5e5-105a53da22d9",
   "metadata": {},
   "source": [
    "## Execute functions"
   ]
  },
  {
   "cell_type": "code",
   "execution_count": 145,
   "id": "c22431db-0a7d-4e79-b871-0e1f280b1878",
   "metadata": {},
   "outputs": [],
   "source": [
    "getm_pedidos = getm_pedidos('~/Downloads/getm-pedidos.xlsx')"
   ]
  },
  {
   "cell_type": "code",
   "execution_count": 169,
   "id": "2aa5ad85-7753-4a24-b692-7b2d694f4e87",
   "metadata": {},
   "outputs": [],
   "source": [
    "getm_detalle = getm_detalle('~/Downloads/getm-pedidos.xlsx')"
   ]
  },
  {
   "cell_type": "markdown",
   "id": "f8456932-4e93-4726-a341-687cfc2e69c2",
   "metadata": {},
   "source": [
    "## Connect to Google Sheets to ingest more data sources"
   ]
  },
  {
   "cell_type": "code",
   "execution_count": 172,
   "id": "8c522746-6fc7-48b5-a7fd-fd0d23d25297",
   "metadata": {},
   "outputs": [],
   "source": [
    "# Access GETM push notifications worksheet by url\n",
    "sheet_id = '1STkVkyDdCjEtTAgMOWbptf8oRqUBMPRV1ufi-fuY8xk'\n",
    "workbook = gc.open_by_key(sheet_id)\n",
    "# Access data by worksheet sheet number\n",
    "getm_push = workbook.worksheet('Push Notifications')\n",
    "# Save data to table\n",
    "getm_values_push = getm_push.get_all_values()\n",
    "# Save accessed data from google sheets to dataframes\n",
    "getm_push = pd.DataFrame(getm_values_push[1:],columns=getm_values_push[0])\n",
    "# drop irrelevant columns\n",
    "getm_push = getm_push.drop(['Año','Mes','Proyecto','Publicación','Caracteres','Espacios','Tipo','ID'],\n",
    "    axis=1)"
   ]
  },
  {
   "cell_type": "code",
   "execution_count": 173,
   "id": "15c80000-b765-4d0b-a606-37fec73db575",
   "metadata": {},
   "outputs": [],
   "source": [
    "# GETM push notifications\n",
    "# convert to lowercase\n",
    "getm_push.columns = getm_push.columns.str.lower()\n",
    "# convert to datetime\n",
    "getm_push['fecha'] = getm_push['fecha'].apply(pd.to_datetime, dayfirst=True)\n",
    "# replace \",\" with noaught and convert to numeric\n",
    "getm_push['clientes'] = getm_push['clientes'].str.replace(',', '', regex=True).apply(pd.to_numeric)\n",
    "# rename columns\n",
    "getm_push = getm_push.rename(columns={'categorias':'categoria','área':'area'})\n",
    "# drop empty rows\n",
    "getm_push.dropna(subset=['fecha'], inplace=True)"
   ]
  },
  {
   "cell_type": "markdown",
   "id": "b19e7d5c-7a2b-4fac-8ba0-54fe9f989e5d",
   "metadata": {
    "id": "b19e7d5c-7a2b-4fac-8ba0-54fe9f989e5d",
    "tags": []
   },
   "source": [
    "## Send extracted data sources to Big Query Data Warehouse"
   ]
  },
  {
   "cell_type": "markdown",
   "id": "e25422ad-2623-4f75-892d-b62f5ab58e2f",
   "metadata": {
    "tags": []
   },
   "source": [
    "### Create Big Query schema (first upload)"
   ]
  },
  {
   "cell_type": "code",
   "execution_count": 72,
   "id": "1840b69d-4469-4e7c-b1c1-6c7dfc97e682",
   "metadata": {},
   "outputs": [
    {
     "data": {
      "text/plain": [
       "Dataset(DatasetReference('gepp-538', 'back_office'))"
      ]
     },
     "execution_count": 72,
     "metadata": {},
     "output_type": "execute_result"
    }
   ],
   "source": [
    "# create dataset gbq api\n",
    "#client.create_dataset('back_office')"
   ]
  },
  {
   "cell_type": "markdown",
   "id": "7f847c79-c0de-40cc-8092-be9318576d61",
   "metadata": {},
   "source": [
    "### Store excel data sources in Big Query"
   ]
  },
  {
   "cell_type": "code",
   "execution_count": 50,
   "id": "c4a088a8-7f6c-4b9c-a980-e3d3ff1783fb",
   "metadata": {},
   "outputs": [
    {
     "name": "stderr",
     "output_type": "stream",
     "text": [
      "100%|███████████████████████████████████████████| 1/1 [00:00<00:00, 9177.91it/s]\n"
     ]
    }
   ],
   "source": [
    "mpe_usuarios = mpe_usuarios.to_pandas()\n",
    "mpe_usuarios.to_gbq('gepp-538.back_office.mpe_usuarios',\n",
    "                    project_id='gepp-538',\n",
    "                    if_exists='append',\n",
    "                    credentials=bq_credentials)"
   ]
  },
  {
   "cell_type": "code",
   "execution_count": 87,
   "id": "fc915762-d5d4-4c16-860d-8297dff785f4",
   "metadata": {},
   "outputs": [
    {
     "name": "stderr",
     "output_type": "stream",
     "text": [
      "100%|███████████████████████████████████████████| 1/1 [00:00<00:00, 2457.12it/s]\n"
     ]
    }
   ],
   "source": [
    "mpe_pedidos = mpe_pedidos.to_pandas()\n",
    "mpe_pedidos.to_gbq('gepp-538.back_office.mpe_pedidos',\n",
    "                    project_id='gepp-538',\n",
    "                    if_exists='append',\n",
    "                    credentials=bq_credentials)"
   ]
  },
  {
   "cell_type": "code",
   "execution_count": 52,
   "id": "ca0fa643-a05a-43ff-b87b-556020ddfbb4",
   "metadata": {},
   "outputs": [
    {
     "name": "stderr",
     "output_type": "stream",
     "text": [
      "100%|███████████████████████████████████████████| 1/1 [00:00<00:00, 7108.99it/s]\n"
     ]
    }
   ],
   "source": [
    "mpe_detalle = mpe_detalle.to_pandas()\n",
    "mpe_detalle.to_gbq('gepp-538.back_office.mpe_detalle',\n",
    "                    project_id='gepp-538',\n",
    "                    if_exists='append',\n",
    "                    credentials=bq_credentials)"
   ]
  },
  {
   "cell_type": "markdown",
   "id": "3f6078d9-2690-43b1-a303-58748ffd6b9b",
   "metadata": {},
   "source": [
    "### Store more data sources"
   ]
  },
  {
   "cell_type": "code",
   "execution_count": 147,
   "id": "1f876654-ecf0-42e6-b4e4-cdb31a281923",
   "metadata": {},
   "outputs": [
    {
     "name": "stderr",
     "output_type": "stream",
     "text": [
      "100%|███████████████████████████████████████████| 1/1 [00:00<00:00, 2716.52it/s]\n"
     ]
    }
   ],
   "source": [
    "getm_pedidos = getm_pedidos.to_pandas()\n",
    "getm_pedidos.to_gbq('gepp-538.back_office.getm_pedidos',\n",
    "                    project_id='gepp-538',\n",
    "                    if_exists='append',\n",
    "                    credentials=bq_credentials)"
   ]
  },
  {
   "cell_type": "code",
   "execution_count": 171,
   "id": "6441116a-fad5-479f-91b1-be0eb5e50ef8",
   "metadata": {},
   "outputs": [
    {
     "name": "stderr",
     "output_type": "stream",
     "text": [
      "100%|███████████████████████████████████████████| 1/1 [00:00<00:00, 8630.26it/s]\n"
     ]
    }
   ],
   "source": [
    "getm_detalle = getm_detalle.to_pandas()\n",
    "getm_detalle.to_gbq('gepp-538.back_office.getm_detalle',\n",
    "                    project_id='gepp-538',\n",
    "                    if_exists='append',\n",
    "                    credentials=bq_credentials)"
   ]
  },
  {
   "cell_type": "markdown",
   "id": "2bd32859-5dd3-4e3d-92d1-be59eb45a17a",
   "metadata": {},
   "source": [
    "### Store Google Sheets data sources"
   ]
  },
  {
   "cell_type": "code",
   "execution_count": 176,
   "id": "ef5226d4-cb5f-4423-aa4a-bb545607f64f",
   "metadata": {},
   "outputs": [
    {
     "name": "stderr",
     "output_type": "stream",
     "text": [
      "100%|███████████████████████████████████████████| 1/1 [00:00<00:00, 7294.44it/s]\n"
     ]
    }
   ],
   "source": [
    "getm_push.to_gbq('gepp-538.back_office.getm_notifications',\n",
    "                    project_id='gepp-538',\n",
    "                    if_exists='replace',\n",
    "                    credentials=bq_credentials)"
   ]
  },
  {
   "cell_type": "markdown",
   "id": "929af351-f550-4adf-8cde-990297173916",
   "metadata": {
    "id": "929af351-f550-4adf-8cde-990297173916",
    "tags": []
   },
   "source": [
    "### Query datasets stored in Big Query"
   ]
  },
  {
   "cell_type": "markdown",
   "id": "f51e5822-e3d0-4bf5-bf05-bc7de3ee5e3f",
   "metadata": {},
   "source": [
    "#### Create query and save data with pandas"
   ]
  },
  {
   "cell_type": "code",
   "execution_count": 15,
   "id": "85e9fba0-e198-4a9a-8a56-93ea6b4f5a64",
   "metadata": {
    "id": "85e9fba0-e198-4a9a-8a56-93ea6b4f5a64",
    "tags": []
   },
   "outputs": [
    {
     "data": {
      "text/html": [
       "<div>\n",
       "<style scoped>\n",
       "    .dataframe tbody tr th:only-of-type {\n",
       "        vertical-align: middle;\n",
       "    }\n",
       "\n",
       "    .dataframe tbody tr th {\n",
       "        vertical-align: top;\n",
       "    }\n",
       "\n",
       "    .dataframe thead th {\n",
       "        text-align: right;\n",
       "    }\n",
       "</style>\n",
       "<table border=\"1\" class=\"dataframe\">\n",
       "  <thead>\n",
       "    <tr style=\"text-align: right;\">\n",
       "      <th></th>\n",
       "      <th>fecha</th>\n",
       "      <th>categoria</th>\n",
       "      <th>creatividad</th>\n",
       "      <th>clientes</th>\n",
       "      <th>region</th>\n",
       "      <th>area</th>\n",
       "    </tr>\n",
       "  </thead>\n",
       "  <tbody>\n",
       "    <tr>\n",
       "      <th>797</th>\n",
       "      <td>2022-07-27 00:00:00+00:00</td>\n",
       "      <td>Ejecución</td>\n",
       "      <td>No olvides tus fotos</td>\n",
       "      <td>NaN</td>\n",
       "      <td></td>\n",
       "      <td>Digital</td>\n",
       "    </tr>\n",
       "    <tr>\n",
       "      <th>932</th>\n",
       "      <td>2022-03-14 00:00:00+00:00</td>\n",
       "      <td>Contenido Premiados</td>\n",
       "      <td>¿Ya realizaste tu rutina? 🤸</td>\n",
       "      <td>85.0</td>\n",
       "      <td>Distribuidores</td>\n",
       "      <td>Palancas</td>\n",
       "    </tr>\n",
       "    <tr>\n",
       "      <th>583</th>\n",
       "      <td>2022-06-22 00:00:00+00:00</td>\n",
       "      <td>Califícanos</td>\n",
       "      <td>¡Compártenos tus ideas!✅</td>\n",
       "      <td>22138.0</td>\n",
       "      <td>Norte</td>\n",
       "      <td>Digital</td>\n",
       "    </tr>\n",
       "    <tr>\n",
       "      <th>166</th>\n",
       "      <td>2023-04-25 00:00:00+00:00</td>\n",
       "      <td>Juegos</td>\n",
       "      <td>Tómate un respiro 😄</td>\n",
       "      <td>39766.0</td>\n",
       "      <td>Metro</td>\n",
       "      <td></td>\n",
       "    </tr>\n",
       "    <tr>\n",
       "      <th>353</th>\n",
       "      <td>2022-11-18 00:00:00+00:00</td>\n",
       "      <td>Ejecución</td>\n",
       "      <td>No olvides compartirnos tus fotos 📷</td>\n",
       "      <td>1782.0</td>\n",
       "      <td>Pacífico</td>\n",
       "      <td></td>\n",
       "    </tr>\n",
       "    <tr>\n",
       "      <th>14</th>\n",
       "      <td>2022-07-09 00:00:00+00:00</td>\n",
       "      <td>Juegos</td>\n",
       "      <td>¿Ya revisaste tu app?</td>\n",
       "      <td>29202.0</td>\n",
       "      <td>Centro</td>\n",
       "      <td>Digital</td>\n",
       "    </tr>\n",
       "    <tr>\n",
       "      <th>1103</th>\n",
       "      <td>2021-11-24 00:00:00+00:00</td>\n",
       "      <td>Palancas</td>\n",
       "      <td>¿Ya hiciste el Canje?</td>\n",
       "      <td>6544.0</td>\n",
       "      <td>Metro</td>\n",
       "      <td>Palancas</td>\n",
       "    </tr>\n",
       "    <tr>\n",
       "      <th>341</th>\n",
       "      <td>2022-11-14 00:00:00+00:00</td>\n",
       "      <td>Ejecución</td>\n",
       "      <td>¿Ya mandaste tu foto? 🤔​</td>\n",
       "      <td>1803.0</td>\n",
       "      <td>Pacífico</td>\n",
       "      <td></td>\n",
       "    </tr>\n",
       "    <tr>\n",
       "      <th>338</th>\n",
       "      <td>2022-11-14 00:00:00+00:00</td>\n",
       "      <td>Ejecución</td>\n",
       "      <td>¿Ya mandaste tu foto? 🤔​</td>\n",
       "      <td>2991.0</td>\n",
       "      <td>Metro</td>\n",
       "      <td></td>\n",
       "    </tr>\n",
       "    <tr>\n",
       "      <th>322</th>\n",
       "      <td>2022-10-26 00:00:00+00:00</td>\n",
       "      <td>Ejecución</td>\n",
       "      <td>¿Tu enfriador está impecable? ✨​</td>\n",
       "      <td>4970.0</td>\n",
       "      <td>Occidente</td>\n",
       "      <td></td>\n",
       "    </tr>\n",
       "  </tbody>\n",
       "</table>\n",
       "</div>"
      ],
      "text/plain": [
       "                         fecha            categoria  \\\n",
       "797  2022-07-27 00:00:00+00:00            Ejecución   \n",
       "932  2022-03-14 00:00:00+00:00  Contenido Premiados   \n",
       "583  2022-06-22 00:00:00+00:00          Califícanos   \n",
       "166  2023-04-25 00:00:00+00:00               Juegos   \n",
       "353  2022-11-18 00:00:00+00:00            Ejecución   \n",
       "14   2022-07-09 00:00:00+00:00               Juegos   \n",
       "1103 2021-11-24 00:00:00+00:00             Palancas   \n",
       "341  2022-11-14 00:00:00+00:00            Ejecución   \n",
       "338  2022-11-14 00:00:00+00:00            Ejecución   \n",
       "322  2022-10-26 00:00:00+00:00            Ejecución   \n",
       "\n",
       "                               creatividad  clientes          region      area  \n",
       "797                   No olvides tus fotos       NaN                   Digital  \n",
       "932            ¿Ya realizaste tu rutina? 🤸      85.0  Distribuidores  Palancas  \n",
       "583               ¡Compártenos tus ideas!✅   22138.0           Norte   Digital  \n",
       "166                    Tómate un respiro 😄   39766.0           Metro            \n",
       "353   No olvides compartirnos tus fotos 📷     1782.0        Pacífico            \n",
       "14                   ¿Ya revisaste tu app?   29202.0          Centro   Digital  \n",
       "1103                 ¿Ya hiciste el Canje?    6544.0           Metro  Palancas  \n",
       "341               ¿Ya mandaste tu foto? 🤔​    1803.0        Pacífico            \n",
       "338               ¿Ya mandaste tu foto? 🤔​    2991.0           Metro            \n",
       "322       ¿Tu enfriador está impecable? ✨​    4970.0       Occidente            "
      ]
     },
     "execution_count": 15,
     "metadata": {},
     "output_type": "execute_result"
    }
   ],
   "source": [
    "# create query to bigquery\n",
    "query = '''\n",
    "    SELECT * FROM `gepp-538.transformation.getm_push_notifications`\n",
    "'''\n",
    "# convert query to pandas dataframe\n",
    "mpe_catalogo = pd.read_gbq(query, credentials=bq_credentials)\n",
    "mpe_catalogo.sample(10)"
   ]
  },
  {
   "cell_type": "markdown",
   "id": "e8228e46-f7e9-4d80-ab6b-c4265d1f700d",
   "metadata": {},
   "source": [
    "#### Create query and save data with polars"
   ]
  },
  {
   "cell_type": "code",
   "execution_count": 12,
   "id": "1132f2dd-371a-4b18-ab93-c9de70a7e26e",
   "metadata": {
    "tags": []
   },
   "outputs": [
    {
     "data": {
      "text/html": [
       "<div><style>\n",
       ".dataframe > thead > tr > th,\n",
       ".dataframe > tbody > tr > td {\n",
       "  text-align: right;\n",
       "}\n",
       "</style>\n",
       "<small>shape: (10, 6)</small><table border=\"1\" class=\"dataframe\"><thead><tr><th>fecha</th><th>categoria</th><th>creatividad</th><th>clientes</th><th>region</th><th>area</th></tr><tr><td>datetime[μs, UTC]</td><td>str</td><td>str</td><td>f64</td><td>str</td><td>str</td></tr></thead><tbody><tr><td>2022-10-18 00:00:00 UTC</td><td>&quot;Juegos&quot;</td><td>&quot;Mejora tu punt…</td><td>41310.0</td><td>&quot;Occidente&quot;</td><td>&quot;&quot;</td></tr><tr><td>2022-10-11 00:00:00 UTC</td><td>&quot;Contenido Prem…</td><td>&quot;Conoce más de …</td><td>3297.0</td><td>&quot;Pacífico&quot;</td><td>&quot;&quot;</td></tr><tr><td>2022-10-03 00:00:00 UTC</td><td>&quot;Ejecución&quot;</td><td>&quot;¡Que no se te …</td><td>4939.0</td><td>&quot;Norte&quot;</td><td>&quot;&quot;</td></tr><tr><td>2022-08-25 00:00:00 UTC</td><td>&quot;Ejecución&quot;</td><td>&quot;¡Es tiempo de …</td><td>4600.0</td><td>&quot;Occidente&quot;</td><td>&quot;&quot;</td></tr><tr><td>2021-11-11 00:00:00 UTC</td><td>&quot;Palancas&quot;</td><td>&quot;¡Felicidades 🎉…</td><td>386.0</td><td>&quot;Centro&quot;</td><td>&quot;Palancas&quot;</td></tr><tr><td>2023-01-30 00:00:00 UTC</td><td>&quot;Juegos&quot;</td><td>&quot;¿Un tiempo lib…</td><td>14527.0</td><td>&quot;Sur&quot;</td><td>&quot;&quot;</td></tr><tr><td>2022-08-16 00:00:00 UTC</td><td>&quot;Califícanos&quot;</td><td>&quot;¿Tienes algún …</td><td>30968.0</td><td>&quot;Metro&quot;</td><td>&quot;&quot;</td></tr><tr><td>2021-11-15 00:00:00 UTC</td><td>&quot;Palancas&quot;</td><td>&quot;¿Ya sabes cómo…</td><td>101.0</td><td>&quot;Distribuidores…</td><td>&quot;Palancas&quot;</td></tr><tr><td>2023-04-26 00:00:00 UTC</td><td>&quot;Ejecución&quot;</td><td>&quot;¿Qué tal unas …</td><td>2838.0</td><td>&quot;Metro&quot;</td><td>&quot;&quot;</td></tr><tr><td>2021-11-12 00:00:00 UTC</td><td>&quot;Palancas&quot;</td><td>&quot;¿Estás listo p…</td><td>8333.0</td><td>&quot;Occidente&quot;</td><td>&quot;Palancas&quot;</td></tr></tbody></table></div>"
      ],
      "text/plain": [
       "shape: (10, 6)\n",
       "┌──────────────────────┬─────────────┬──────────────────────┬──────────┬────────────────┬──────────┐\n",
       "│ fecha                ┆ categoria   ┆ creatividad          ┆ clientes ┆ region         ┆ area     │\n",
       "│ ---                  ┆ ---         ┆ ---                  ┆ ---      ┆ ---            ┆ ---      │\n",
       "│ datetime[μs, UTC]    ┆ str         ┆ str                  ┆ f64      ┆ str            ┆ str      │\n",
       "╞══════════════════════╪═════════════╪══════════════════════╪══════════╪════════════════╪══════════╡\n",
       "│ 2022-10-18 00:00:00  ┆ Juegos      ┆ Mejora tu puntuación ┆ 41310.0  ┆ Occidente      ┆          │\n",
       "│ UTC                  ┆             ┆ 🏆                   ┆          ┆                ┆          │\n",
       "│ 2022-10-11 00:00:00  ┆ Contenido   ┆ Conoce más de        ┆ 3297.0   ┆ Pacífico       ┆          │\n",
       "│ UTC                  ┆ Premiados   ┆ finanzas 📈          ┆          ┆                ┆          │\n",
       "│ 2022-10-03 00:00:00  ┆ Ejecución   ┆ ¡Que no se te pase!  ┆ 4939.0   ┆ Norte          ┆          │\n",
       "│ UTC                  ┆             ┆ ⏰                   ┆          ┆                ┆          │\n",
       "│ 2022-08-25 00:00:00  ┆ Ejecución   ┆ ¡Es tiempo de una    ┆ 4600.0   ┆ Occidente      ┆          │\n",
       "│ UTC                  ┆             ┆ foto! 📷             ┆          ┆                ┆          │\n",
       "│ …                    ┆ …           ┆ …                    ┆ …        ┆ …              ┆ …        │\n",
       "│ 2022-08-16 00:00:00  ┆ Califícanos ┆ ¿Tienes algún        ┆ 30968.0  ┆ Metro          ┆          │\n",
       "│ UTC                  ┆             ┆ comentario? 📱       ┆          ┆                ┆          │\n",
       "│ 2021-11-15 00:00:00  ┆ Palancas    ┆ ¿Ya sabes cómo       ┆ 101.0    ┆ Distribuidores ┆ Palancas │\n",
       "│ UTC                  ┆             ┆ canjear?             ┆          ┆                ┆          │\n",
       "│ 2023-04-26 00:00:00  ┆ Ejecución   ┆ ¿Qué tal unas        ┆ 2838.0   ┆ Metro          ┆          │\n",
       "│ UTC                  ┆             ┆ recompensas? 🎁      ┆          ┆                ┆          │\n",
       "│ 2021-11-12 00:00:00  ┆ Palancas    ┆ ¿Estás listo para el ┆ 8333.0   ┆ Occidente      ┆ Palancas │\n",
       "│ UTC                  ┆             ┆ canje?               ┆          ┆                ┆          │\n",
       "└──────────────────────┴─────────────┴──────────────────────┴──────────┴────────────────┴──────────┘"
      ]
     },
     "execution_count": 12,
     "metadata": {},
     "output_type": "execute_result"
    }
   ],
   "source": [
    "# create query to bigquery\n",
    "QUERY = ('''\n",
    "    SELECT * FROM `gepp-538.transformation.getm_push_notifications`\n",
    "'''\n",
    "        )\n",
    "# API request\n",
    "query_job = client.query(QUERY)\n",
    "# Waits for query to finish\n",
    "rows = query_job.result()\n",
    "# convert query to polars dataframe\n",
    "pl_df = pl.from_arrow(rows.to_arrow())\n",
    "pl_df.sample(10)"
   ]
  },
  {
   "cell_type": "markdown",
   "id": "841a77f2-81b7-4c17-92d6-7987ab902fe3",
   "metadata": {},
   "source": [
    "## Contact\n",
    "\n",
    "<!-- Avatar -->\n",
    "<img src=\"../Pictures/profile2.png\" alt=\"me\" width=\"75\" height=\"80\">\n",
    "<!-- Text with color, font, fontsize and specific size -->\n",
    "<p style=\"color:#323232; font-family: Helevetica; font-size: 20px;\">Jesus L. Monroy<br>Economist | Data Scientist</p>\n",
    "<!-- Insert url links in logos -->\n",
    "<!-- Telegram -->\n",
    "<a href=\"https://t.me/j3suslm\" target=\"_blank\" rel=\"noreferrer\"> <img src=\"https://upload.wikimedia.org/wikipedia/commons/thumb/e/ef/Telegram_X_2019_Logo.svg/2048px-Telegram_X_2019_Logo.png?size=16&color=3b3b3b\" alt=\"telegram\" width=\"30\" height=\"22\" style=\"padding-left:8px\"/>\n",
    "<!-- Twitter -->\n",
    "<a href=\"https://www.twitter.com/sqlalchemist\" target=\"_blank\" rel=\"noreferrer\"> <img src=\"https://toppng.com/public/uploads/preview/twitter-x-new-logo-round-icon-png-11692480241tdbz6jparr.webp?size=16&color=3b3b3b\" alt=\"twitter\" width=\"30\" height=\"22\" style=\"padding-left:8px\"/>\n",
    "<!-- Github -->\n",
    "<a href=\"https://github.com/SqlAlchemist/My-portfolio\" target=\"_blank\" rel=\"noreferrer\"> <img src=\"https://icongr.am/devicon/github-original.svg?size=16&color=3b3b3b\" alt=\"github\" width=\"30\" height=\"30\" style=\"padding-left:8px\"/>\n",
    "<!-- Linkedin -->\n",
    "<a href=\"https://www.linkedin.com/in/j3sus-lmonroy\" target=\"_blank\" rel=\"noreferrer\"> <img src=\"https://icongr.am/simple/linkedin.svg?size=16&color=3b3b3b\" alt=\"linkedin\" width=\"30\" height=\"30\" style=\"padding-left:8px\"/>\n",
    "<!-- Medium -->\n",
    "<a href=\"https://medium.com/@jesus_lmonroy\" target=\"_blank\" rel=\"noreferrer\"> <img src=\"https://cdn1.iconfinder.com/data/icons/social-media-and-logos-12/32/Logo_medium-512.png?size=55&color=3b3b3b\" alt=\"medium\" width=\"30\" height=\"33\" style=\"padding-left:8px\"/>"
   ]
  }
 ],
 "metadata": {
  "colab": {
   "provenance": []
  },
  "kernelspec": {
   "display_name": "Python 3 (ipykernel)",
   "language": "python",
   "name": "python3"
  },
  "language_info": {
   "codemirror_mode": {
    "name": "ipython",
    "version": 3
   },
   "file_extension": ".py",
   "mimetype": "text/x-python",
   "name": "python",
   "nbconvert_exporter": "python",
   "pygments_lexer": "ipython3",
   "version": "3.11.5"
  }
 },
 "nbformat": 4,
 "nbformat_minor": 5
}
