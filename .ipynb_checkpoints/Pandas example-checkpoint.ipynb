{
 "cells": [
  {
   "cell_type": "markdown",
   "metadata": {
    "cell_id": "b991939827264d9b9c024a37cb2f0444",
    "deepnote_cell_type": "text-cell-h1",
    "formattedRanges": [],
    "is_collapsed": false,
    "tags": []
   },
   "source": [
    "# Librería Pandas"
   ]
  },
  {
   "cell_type": "markdown",
   "metadata": {
    "cell_id": "6fecbe0f6cae4a4083ff56033f9e78bf",
    "deepnote_cell_type": "text-cell-p",
    "formattedRanges": [],
    "is_collapsed": false,
    "tags": []
   },
   "source": [
    "Pandas&nbsp;ofrece&nbsp;estructuras&nbsp;de&nbsp;datos&nbsp;y&nbsp;operaciones&nbsp;para&nbsp;manipular&nbsp;tablas&nbsp;numéricas."
   ]
  },
  {
   "cell_type": "code",
   "execution_count": null,
   "metadata": {
    "cell_id": "e06c3b4e3e724c78b69509e860803bc6",
    "deepnote_cell_type": "code",
    "deepnote_to_be_reexecuted": false,
    "execution_millis": 1,
    "execution_start": 1639498403482,
    "source_hash": "9b82ee11",
    "tags": []
   },
   "outputs": [],
   "source": [
    "import pandas as pd"
   ]
  },
  {
   "cell_type": "code",
   "execution_count": null,
   "metadata": {
    "cell_id": "868a801240f54fa3b6c236c86e3aee8a",
    "deepnote_cell_type": "code",
    "deepnote_output_heights": [
     21.199996948242188
    ],
    "deepnote_to_be_reexecuted": false,
    "execution_millis": 10,
    "execution_start": 1639498405376,
    "source_hash": "c4561eab",
    "tags": []
   },
   "outputs": [
    {
     "data": {
      "text/plain": [
       "module"
      ]
     },
     "execution_count": 3,
     "metadata": {},
     "output_type": "execute_result"
    }
   ],
   "source": [
    "type(pd)"
   ]
  },
  {
   "cell_type": "markdown",
   "metadata": {
    "cell_id": "6f6921d6b6ce49619f6656df8f1d8fc4",
    "deepnote_cell_type": "text-cell-h2",
    "formattedRanges": [],
    "is_collapsed": false,
    "tags": []
   },
   "source": [
    "## Dataframes"
   ]
  },
  {
   "cell_type": "markdown",
   "metadata": {
    "cell_id": "c8e5cb0d13884e78bb8084f152796803",
    "deepnote_cell_type": "text-cell-p",
    "formattedRanges": [],
    "is_collapsed": false,
    "tags": []
   },
   "source": [
    "Un&nbsp;dataframe&nbsp;contiene&nbsp;dos&nbsp;índices,&nbsp;uno&nbsp;para&nbsp;las&nbsp;filas&nbsp;y&nbsp;otro&nbsp;para&nbsp;las&nbsp;columnas,&nbsp;y&nbsp;se&nbsp;puede&nbsp;acceder&nbsp;a&nbsp;sus&nbsp;elementos&nbsp;mediante&nbsp;los&nbsp;nombres&nbsp;de&nbsp;las&nbsp;filas&nbsp;y&nbsp;las&nbsp;columnas."
   ]
  },
  {
   "cell_type": "markdown",
   "metadata": {
    "cell_id": "b887b92f5bc442be998b3f077a8b2973",
    "deepnote_cell_type": "markdown",
    "tags": []
   },
   "source": [
    "![Picture title](imagenes/Estructura_Dataframe.png)"
   ]
  },
  {
   "cell_type": "code",
   "execution_count": null,
   "metadata": {
    "cell_id": "5e550bd871434a13b038eecdf74273ff",
    "deepnote_cell_type": "code",
    "deepnote_to_be_reexecuted": false,
    "execution_millis": 76,
    "execution_start": 1639498433635,
    "source_hash": "343ff372",
    "tags": []
   },
   "outputs": [],
   "source": [
    "url = 'https://raw.githubusercontent.com/AlanCIO/Disruptora_DatasetLab0/master/CreditScoringClean.csv'\n",
    "df = pd.read_csv(url) # Los datos se almacenan en un tipo de dato de pandas que se llama dataframe"
   ]
  },
  {
   "cell_type": "code",
   "execution_count": null,
   "metadata": {
    "cell_id": "9aebb3e4c8a745b381b209dc8eb91d86",
    "deepnote_cell_type": "code",
    "deepnote_to_be_reexecuted": false,
    "execution_millis": 114,
    "execution_start": 1639498443497,
    "source_hash": "c085b6ba",
    "tags": []
   },
   "outputs": [
    {
     "data": {
      "application/vnd.deepnote.dataframe.v2+json": {
       "column_count": 39,
       "columns": [
        {
         "dtype": "int64",
         "name": "CheckingAcctStat A11",
         "stats": {
          "histogram": [
           {
            "bin_end": 0.1,
            "bin_start": 0,
            "count": 3
           },
           {
            "bin_end": 0.2,
            "bin_start": 0.1,
            "count": 0
           },
           {
            "bin_end": 0.30000000000000004,
            "bin_start": 0.2,
            "count": 0
           },
           {
            "bin_end": 0.4,
            "bin_start": 0.30000000000000004,
            "count": 0
           },
           {
            "bin_end": 0.5,
            "bin_start": 0.4,
            "count": 0
           },
           {
            "bin_end": 0.6000000000000001,
            "bin_start": 0.5,
            "count": 0
           },
           {
            "bin_end": 0.7000000000000001,
            "bin_start": 0.6000000000000001,
            "count": 0
           },
           {
            "bin_end": 0.8,
            "bin_start": 0.7000000000000001,
            "count": 0
           },
           {
            "bin_end": 0.9,
            "bin_start": 0.8,
            "count": 0
           },
           {
            "bin_end": 1,
            "bin_start": 0.9,
            "count": 2
           }
          ],
          "max": "1",
          "min": "0",
          "nan_count": 0,
          "unique_count": 2
         }
        },
        {
         "dtype": "int64",
         "name": "CheckingAcctStat A12",
         "stats": {
          "histogram": [
           {
            "bin_end": -0.4,
            "bin_start": -0.5,
            "count": 0
           },
           {
            "bin_end": -0.3,
            "bin_start": -0.4,
            "count": 0
           },
           {
            "bin_end": -0.19999999999999996,
            "bin_start": -0.3,
            "count": 0
           },
           {
            "bin_end": -0.09999999999999998,
            "bin_start": -0.19999999999999996,
            "count": 0
           },
           {
            "bin_end": 0,
            "bin_start": -0.09999999999999998,
            "count": 0
           },
           {
            "bin_end": 0.10000000000000009,
            "bin_start": 0,
            "count": 5
           },
           {
            "bin_end": 0.20000000000000007,
            "bin_start": 0.10000000000000009,
            "count": 0
           },
           {
            "bin_end": 0.30000000000000004,
            "bin_start": 0.20000000000000007,
            "count": 0
           },
           {
            "bin_end": 0.4,
            "bin_start": 0.30000000000000004,
            "count": 0
           },
           {
            "bin_end": 0.5,
            "bin_start": 0.4,
            "count": 0
           }
          ],
          "max": "0",
          "min": "0",
          "nan_count": 0,
          "unique_count": 1
         }
        },
        {
         "dtype": "int64",
         "name": "CheckingAcctStat A13",
         "stats": {
          "histogram": [
           {
            "bin_end": 0.1,
            "bin_start": 0,
            "count": 4
           },
           {
            "bin_end": 0.2,
            "bin_start": 0.1,
            "count": 0
           },
           {
            "bin_end": 0.30000000000000004,
            "bin_start": 0.2,
            "count": 0
           },
           {
            "bin_end": 0.4,
            "bin_start": 0.30000000000000004,
            "count": 0
           },
           {
            "bin_end": 0.5,
            "bin_start": 0.4,
            "count": 0
           },
           {
            "bin_end": 0.6000000000000001,
            "bin_start": 0.5,
            "count": 0
           },
           {
            "bin_end": 0.7000000000000001,
            "bin_start": 0.6000000000000001,
            "count": 0
           },
           {
            "bin_end": 0.8,
            "bin_start": 0.7000000000000001,
            "count": 0
           },
           {
            "bin_end": 0.9,
            "bin_start": 0.8,
            "count": 0
           },
           {
            "bin_end": 1,
            "bin_start": 0.9,
            "count": 1
           }
          ],
          "max": "1",
          "min": "0",
          "nan_count": 0,
          "unique_count": 2
         }
        },
        {
         "dtype": "int64",
         "name": "CheckingAcctStat A14",
         "stats": {
          "histogram": [
           {
            "bin_end": 0.1,
            "bin_start": 0,
            "count": 3
           },
           {
            "bin_end": 0.2,
            "bin_start": 0.1,
            "count": 0
           },
           {
            "bin_end": 0.30000000000000004,
            "bin_start": 0.2,
            "count": 0
           },
           {
            "bin_end": 0.4,
            "bin_start": 0.30000000000000004,
            "count": 0
           },
           {
            "bin_end": 0.5,
            "bin_start": 0.4,
            "count": 0
           },
           {
            "bin_end": 0.6000000000000001,
            "bin_start": 0.5,
            "count": 0
           },
           {
            "bin_end": 0.7000000000000001,
            "bin_start": 0.6000000000000001,
            "count": 0
           },
           {
            "bin_end": 0.8,
            "bin_start": 0.7000000000000001,
            "count": 0
           },
           {
            "bin_end": 0.9,
            "bin_start": 0.8,
            "count": 0
           },
           {
            "bin_end": 1,
            "bin_start": 0.9,
            "count": 2
           }
          ],
          "max": "1",
          "min": "0",
          "nan_count": 0,
          "unique_count": 2
         }
        },
        {
         "dtype": "float64",
         "name": "Duration",
         "stats": {
          "histogram": [
           {
            "bin_end": 0.0911764709,
            "bin_start": 0.029411765,
            "count": 1
           },
           {
            "bin_end": 0.15294117680000002,
            "bin_start": 0.0911764709,
            "count": 0
           },
           {
            "bin_end": 0.21470588270000004,
            "bin_start": 0.15294117680000002,
            "count": 2
           },
           {
            "bin_end": 0.2764705886,
            "bin_start": 0.21470588270000004,
            "count": 0
           },
           {
            "bin_end": 0.3382352945,
            "bin_start": 0.2764705886,
            "count": 1
           },
           {
            "bin_end": 0.40000000040000006,
            "bin_start": 0.3382352945,
            "count": 0
           },
           {
            "bin_end": 0.46176470630000005,
            "bin_start": 0.40000000040000006,
            "count": 0
           },
           {
            "bin_end": 0.5235294122,
            "bin_start": 0.46176470630000005,
            "count": 0
           },
           {
            "bin_end": 0.5852941181000001,
            "bin_start": 0.5235294122,
            "count": 0
           },
           {
            "bin_end": 0.647058824,
            "bin_start": 0.5852941181000001,
            "count": 1
           }
          ],
          "max": "0.647058824",
          "min": "0.029411765",
          "nan_count": 0,
          "unique_count": 4
         }
        },
        {
         "dtype": "int64",
         "name": "CreditHistory A30",
         "stats": {
          "histogram": [
           {
            "bin_end": -0.4,
            "bin_start": -0.5,
            "count": 0
           },
           {
            "bin_end": -0.3,
            "bin_start": -0.4,
            "count": 0
           },
           {
            "bin_end": -0.19999999999999996,
            "bin_start": -0.3,
            "count": 0
           },
           {
            "bin_end": -0.09999999999999998,
            "bin_start": -0.19999999999999996,
            "count": 0
           },
           {
            "bin_end": 0,
            "bin_start": -0.09999999999999998,
            "count": 0
           },
           {
            "bin_end": 0.10000000000000009,
            "bin_start": 0,
            "count": 5
           },
           {
            "bin_end": 0.20000000000000007,
            "bin_start": 0.10000000000000009,
            "count": 0
           },
           {
            "bin_end": 0.30000000000000004,
            "bin_start": 0.20000000000000007,
            "count": 0
           },
           {
            "bin_end": 0.4,
            "bin_start": 0.30000000000000004,
            "count": 0
           },
           {
            "bin_end": 0.5,
            "bin_start": 0.4,
            "count": 0
           }
          ],
          "max": "0",
          "min": "0",
          "nan_count": 0,
          "unique_count": 1
         }
        },
        {
         "dtype": "int64",
         "name": "CreditHistory A31",
         "stats": {
          "histogram": [
           {
            "bin_end": -0.4,
            "bin_start": -0.5,
            "count": 0
           },
           {
            "bin_end": -0.3,
            "bin_start": -0.4,
            "count": 0
           },
           {
            "bin_end": -0.19999999999999996,
            "bin_start": -0.3,
            "count": 0
           },
           {
            "bin_end": -0.09999999999999998,
            "bin_start": -0.19999999999999996,
            "count": 0
           },
           {
            "bin_end": 0,
            "bin_start": -0.09999999999999998,
            "count": 0
           },
           {
            "bin_end": 0.10000000000000009,
            "bin_start": 0,
            "count": 5
           },
           {
            "bin_end": 0.20000000000000007,
            "bin_start": 0.10000000000000009,
            "count": 0
           },
           {
            "bin_end": 0.30000000000000004,
            "bin_start": 0.20000000000000007,
            "count": 0
           },
           {
            "bin_end": 0.4,
            "bin_start": 0.30000000000000004,
            "count": 0
           },
           {
            "bin_end": 0.5,
            "bin_start": 0.4,
            "count": 0
           }
          ],
          "max": "0",
          "min": "0",
          "nan_count": 0,
          "unique_count": 1
         }
        },
        {
         "dtype": "int64",
         "name": "CreditHistory A32",
         "stats": {
          "histogram": [
           {
            "bin_end": 0.1,
            "bin_start": 0,
            "count": 1
           },
           {
            "bin_end": 0.2,
            "bin_start": 0.1,
            "count": 0
           },
           {
            "bin_end": 0.30000000000000004,
            "bin_start": 0.2,
            "count": 0
           },
           {
            "bin_end": 0.4,
            "bin_start": 0.30000000000000004,
            "count": 0
           },
           {
            "bin_end": 0.5,
            "bin_start": 0.4,
            "count": 0
           },
           {
            "bin_end": 0.6000000000000001,
            "bin_start": 0.5,
            "count": 0
           },
           {
            "bin_end": 0.7000000000000001,
            "bin_start": 0.6000000000000001,
            "count": 0
           },
           {
            "bin_end": 0.8,
            "bin_start": 0.7000000000000001,
            "count": 0
           },
           {
            "bin_end": 0.9,
            "bin_start": 0.8,
            "count": 0
           },
           {
            "bin_end": 1,
            "bin_start": 0.9,
            "count": 4
           }
          ],
          "max": "1",
          "min": "0",
          "nan_count": 0,
          "unique_count": 2
         }
        },
        {
         "dtype": "int64",
         "name": "CreditHistory A33",
         "stats": {
          "histogram": [
           {
            "bin_end": 0.1,
            "bin_start": 0,
            "count": 4
           },
           {
            "bin_end": 0.2,
            "bin_start": 0.1,
            "count": 0
           },
           {
            "bin_end": 0.30000000000000004,
            "bin_start": 0.2,
            "count": 0
           },
           {
            "bin_end": 0.4,
            "bin_start": 0.30000000000000004,
            "count": 0
           },
           {
            "bin_end": 0.5,
            "bin_start": 0.4,
            "count": 0
           },
           {
            "bin_end": 0.6000000000000001,
            "bin_start": 0.5,
            "count": 0
           },
           {
            "bin_end": 0.7000000000000001,
            "bin_start": 0.6000000000000001,
            "count": 0
           },
           {
            "bin_end": 0.8,
            "bin_start": 0.7000000000000001,
            "count": 0
           },
           {
            "bin_end": 0.9,
            "bin_start": 0.8,
            "count": 0
           },
           {
            "bin_end": 1,
            "bin_start": 0.9,
            "count": 1
           }
          ],
          "max": "1",
          "min": "0",
          "nan_count": 0,
          "unique_count": 2
         }
        },
        {
         "dtype": "int64",
         "name": "CreditHistory A34",
         "stats": {
          "histogram": [
           {
            "bin_end": -0.4,
            "bin_start": -0.5,
            "count": 0
           },
           {
            "bin_end": -0.3,
            "bin_start": -0.4,
            "count": 0
           },
           {
            "bin_end": -0.19999999999999996,
            "bin_start": -0.3,
            "count": 0
           },
           {
            "bin_end": -0.09999999999999998,
            "bin_start": -0.19999999999999996,
            "count": 0
           },
           {
            "bin_end": 0,
            "bin_start": -0.09999999999999998,
            "count": 0
           },
           {
            "bin_end": 0.10000000000000009,
            "bin_start": 0,
            "count": 5
           },
           {
            "bin_end": 0.20000000000000007,
            "bin_start": 0.10000000000000009,
            "count": 0
           },
           {
            "bin_end": 0.30000000000000004,
            "bin_start": 0.20000000000000007,
            "count": 0
           },
           {
            "bin_end": 0.4,
            "bin_start": 0.30000000000000004,
            "count": 0
           },
           {
            "bin_end": 0.5,
            "bin_start": 0.4,
            "count": 0
           }
          ],
          "max": "0",
          "min": "0",
          "nan_count": 0,
          "unique_count": 1
         }
        },
        {
         "dtype": "int64",
         "name": "Purpose A40",
         "stats": {
          "histogram": [
           {
            "bin_end": -0.4,
            "bin_start": -0.5,
            "count": 0
           },
           {
            "bin_end": -0.3,
            "bin_start": -0.4,
            "count": 0
           },
           {
            "bin_end": -0.19999999999999996,
            "bin_start": -0.3,
            "count": 0
           },
           {
            "bin_end": -0.09999999999999998,
            "bin_start": -0.19999999999999996,
            "count": 0
           },
           {
            "bin_end": 0,
            "bin_start": -0.09999999999999998,
            "count": 0
           },
           {
            "bin_end": 0.10000000000000009,
            "bin_start": 0,
            "count": 5
           },
           {
            "bin_end": 0.20000000000000007,
            "bin_start": 0.10000000000000009,
            "count": 0
           },
           {
            "bin_end": 0.30000000000000004,
            "bin_start": 0.20000000000000007,
            "count": 0
           },
           {
            "bin_end": 0.4,
            "bin_start": 0.30000000000000004,
            "count": 0
           },
           {
            "bin_end": 0.5,
            "bin_start": 0.4,
            "count": 0
           }
          ],
          "max": "0",
          "min": "0",
          "nan_count": 0,
          "unique_count": 1
         }
        },
        {
         "dtype": "int64",
         "name": "Purpose A41",
         "stats": {
          "histogram": [
           {
            "bin_end": -0.4,
            "bin_start": -0.5,
            "count": 0
           },
           {
            "bin_end": -0.3,
            "bin_start": -0.4,
            "count": 0
           },
           {
            "bin_end": -0.19999999999999996,
            "bin_start": -0.3,
            "count": 0
           },
           {
            "bin_end": -0.09999999999999998,
            "bin_start": -0.19999999999999996,
            "count": 0
           },
           {
            "bin_end": 0,
            "bin_start": -0.09999999999999998,
            "count": 0
           },
           {
            "bin_end": 0.10000000000000009,
            "bin_start": 0,
            "count": 5
           },
           {
            "bin_end": 0.20000000000000007,
            "bin_start": 0.10000000000000009,
            "count": 0
           },
           {
            "bin_end": 0.30000000000000004,
            "bin_start": 0.20000000000000007,
            "count": 0
           },
           {
            "bin_end": 0.4,
            "bin_start": 0.30000000000000004,
            "count": 0
           },
           {
            "bin_end": 0.5,
            "bin_start": 0.4,
            "count": 0
           }
          ],
          "max": "0",
          "min": "0",
          "nan_count": 0,
          "unique_count": 1
         }
        },
        {
         "dtype": "int64",
         "name": "Purpose A42",
         "stats": {
          "histogram": [
           {
            "bin_end": -0.4,
            "bin_start": -0.5,
            "count": 0
           },
           {
            "bin_end": -0.3,
            "bin_start": -0.4,
            "count": 0
           },
           {
            "bin_end": -0.19999999999999996,
            "bin_start": -0.3,
            "count": 0
           },
           {
            "bin_end": -0.09999999999999998,
            "bin_start": -0.19999999999999996,
            "count": 0
           },
           {
            "bin_end": 0,
            "bin_start": -0.09999999999999998,
            "count": 0
           },
           {
            "bin_end": 0.10000000000000009,
            "bin_start": 0,
            "count": 5
           },
           {
            "bin_end": 0.20000000000000007,
            "bin_start": 0.10000000000000009,
            "count": 0
           },
           {
            "bin_end": 0.30000000000000004,
            "bin_start": 0.20000000000000007,
            "count": 0
           },
           {
            "bin_end": 0.4,
            "bin_start": 0.30000000000000004,
            "count": 0
           },
           {
            "bin_end": 0.5,
            "bin_start": 0.4,
            "count": 0
           }
          ],
          "max": "0",
          "min": "0",
          "nan_count": 0,
          "unique_count": 1
         }
        },
        {
         "dtype": "int64",
         "name": "Purpose A43",
         "stats": {
          "histogram": [
           {
            "bin_end": -0.4,
            "bin_start": -0.5,
            "count": 0
           },
           {
            "bin_end": -0.3,
            "bin_start": -0.4,
            "count": 0
           },
           {
            "bin_end": -0.19999999999999996,
            "bin_start": -0.3,
            "count": 0
           },
           {
            "bin_end": -0.09999999999999998,
            "bin_start": -0.19999999999999996,
            "count": 0
           },
           {
            "bin_end": 0,
            "bin_start": -0.09999999999999998,
            "count": 0
           },
           {
            "bin_end": 0.10000000000000009,
            "bin_start": 0,
            "count": 5
           },
           {
            "bin_end": 0.20000000000000007,
            "bin_start": 0.10000000000000009,
            "count": 0
           },
           {
            "bin_end": 0.30000000000000004,
            "bin_start": 0.20000000000000007,
            "count": 0
           },
           {
            "bin_end": 0.4,
            "bin_start": 0.30000000000000004,
            "count": 0
           },
           {
            "bin_end": 0.5,
            "bin_start": 0.4,
            "count": 0
           }
          ],
          "max": "0",
          "min": "0",
          "nan_count": 0,
          "unique_count": 1
         }
        },
        {
         "dtype": "int64",
         "name": "Purpose A44",
         "stats": {
          "histogram": [
           {
            "bin_end": 0.6,
            "bin_start": 0.5,
            "count": 0
           },
           {
            "bin_end": 0.7,
            "bin_start": 0.6,
            "count": 0
           },
           {
            "bin_end": 0.8,
            "bin_start": 0.7,
            "count": 0
           },
           {
            "bin_end": 0.9,
            "bin_start": 0.8,
            "count": 0
           },
           {
            "bin_end": 1,
            "bin_start": 0.9,
            "count": 0
           },
           {
            "bin_end": 1.1,
            "bin_start": 1,
            "count": 5
           },
           {
            "bin_end": 1.2000000000000002,
            "bin_start": 1.1,
            "count": 0
           },
           {
            "bin_end": 1.3,
            "bin_start": 1.2000000000000002,
            "count": 0
           },
           {
            "bin_end": 1.4,
            "bin_start": 1.3,
            "count": 0
           },
           {
            "bin_end": 1.5,
            "bin_start": 1.4,
            "count": 0
           }
          ],
          "max": "1",
          "min": "1",
          "nan_count": 0,
          "unique_count": 1
         }
        },
        {
         "dtype": "int64",
         "name": "Purpose A45",
         "stats": {
          "histogram": [
           {
            "bin_end": -0.4,
            "bin_start": -0.5,
            "count": 0
           },
           {
            "bin_end": -0.3,
            "bin_start": -0.4,
            "count": 0
           },
           {
            "bin_end": -0.19999999999999996,
            "bin_start": -0.3,
            "count": 0
           },
           {
            "bin_end": -0.09999999999999998,
            "bin_start": -0.19999999999999996,
            "count": 0
           },
           {
            "bin_end": 0,
            "bin_start": -0.09999999999999998,
            "count": 0
           },
           {
            "bin_end": 0.10000000000000009,
            "bin_start": 0,
            "count": 5
           },
           {
            "bin_end": 0.20000000000000007,
            "bin_start": 0.10000000000000009,
            "count": 0
           },
           {
            "bin_end": 0.30000000000000004,
            "bin_start": 0.20000000000000007,
            "count": 0
           },
           {
            "bin_end": 0.4,
            "bin_start": 0.30000000000000004,
            "count": 0
           },
           {
            "bin_end": 0.5,
            "bin_start": 0.4,
            "count": 0
           }
          ],
          "max": "0",
          "min": "0",
          "nan_count": 0,
          "unique_count": 1
         }
        },
        {
         "dtype": "int64",
         "name": "Purpose A46",
         "stats": {
          "histogram": [
           {
            "bin_end": -0.4,
            "bin_start": -0.5,
            "count": 0
           },
           {
            "bin_end": -0.3,
            "bin_start": -0.4,
            "count": 0
           },
           {
            "bin_end": -0.19999999999999996,
            "bin_start": -0.3,
            "count": 0
           },
           {
            "bin_end": -0.09999999999999998,
            "bin_start": -0.19999999999999996,
            "count": 0
           },
           {
            "bin_end": 0,
            "bin_start": -0.09999999999999998,
            "count": 0
           },
           {
            "bin_end": 0.10000000000000009,
            "bin_start": 0,
            "count": 5
           },
           {
            "bin_end": 0.20000000000000007,
            "bin_start": 0.10000000000000009,
            "count": 0
           },
           {
            "bin_end": 0.30000000000000004,
            "bin_start": 0.20000000000000007,
            "count": 0
           },
           {
            "bin_end": 0.4,
            "bin_start": 0.30000000000000004,
            "count": 0
           },
           {
            "bin_end": 0.5,
            "bin_start": 0.4,
            "count": 0
           }
          ],
          "max": "0",
          "min": "0",
          "nan_count": 0,
          "unique_count": 1
         }
        },
        {
         "dtype": "int64",
         "name": "Purpose A48",
         "stats": {
          "histogram": [
           {
            "bin_end": -0.4,
            "bin_start": -0.5,
            "count": 0
           },
           {
            "bin_end": -0.3,
            "bin_start": -0.4,
            "count": 0
           },
           {
            "bin_end": -0.19999999999999996,
            "bin_start": -0.3,
            "count": 0
           },
           {
            "bin_end": -0.09999999999999998,
            "bin_start": -0.19999999999999996,
            "count": 0
           },
           {
            "bin_end": 0,
            "bin_start": -0.09999999999999998,
            "count": 0
           },
           {
            "bin_end": 0.10000000000000009,
            "bin_start": 0,
            "count": 5
           },
           {
            "bin_end": 0.20000000000000007,
            "bin_start": 0.10000000000000009,
            "count": 0
           },
           {
            "bin_end": 0.30000000000000004,
            "bin_start": 0.20000000000000007,
            "count": 0
           },
           {
            "bin_end": 0.4,
            "bin_start": 0.30000000000000004,
            "count": 0
           },
           {
            "bin_end": 0.5,
            "bin_start": 0.4,
            "count": 0
           }
          ],
          "max": "0",
          "min": "0",
          "nan_count": 0,
          "unique_count": 1
         }
        },
        {
         "dtype": "int64",
         "name": "Purpose A49",
         "stats": {
          "histogram": [
           {
            "bin_end": -0.4,
            "bin_start": -0.5,
            "count": 0
           },
           {
            "bin_end": -0.3,
            "bin_start": -0.4,
            "count": 0
           },
           {
            "bin_end": -0.19999999999999996,
            "bin_start": -0.3,
            "count": 0
           },
           {
            "bin_end": -0.09999999999999998,
            "bin_start": -0.19999999999999996,
            "count": 0
           },
           {
            "bin_end": 0,
            "bin_start": -0.09999999999999998,
            "count": 0
           },
           {
            "bin_end": 0.10000000000000009,
            "bin_start": 0,
            "count": 5
           },
           {
            "bin_end": 0.20000000000000007,
            "bin_start": 0.10000000000000009,
            "count": 0
           },
           {
            "bin_end": 0.30000000000000004,
            "bin_start": 0.20000000000000007,
            "count": 0
           },
           {
            "bin_end": 0.4,
            "bin_start": 0.30000000000000004,
            "count": 0
           },
           {
            "bin_end": 0.5,
            "bin_start": 0.4,
            "count": 0
           }
          ],
          "max": "0",
          "min": "0",
          "nan_count": 0,
          "unique_count": 1
         }
        },
        {
         "dtype": "int64",
         "name": "Purpose A410",
         "stats": {
          "histogram": [
           {
            "bin_end": -0.4,
            "bin_start": -0.5,
            "count": 0
           },
           {
            "bin_end": -0.3,
            "bin_start": -0.4,
            "count": 0
           },
           {
            "bin_end": -0.19999999999999996,
            "bin_start": -0.3,
            "count": 0
           },
           {
            "bin_end": -0.09999999999999998,
            "bin_start": -0.19999999999999996,
            "count": 0
           },
           {
            "bin_end": 0,
            "bin_start": -0.09999999999999998,
            "count": 0
           },
           {
            "bin_end": 0.10000000000000009,
            "bin_start": 0,
            "count": 5
           },
           {
            "bin_end": 0.20000000000000007,
            "bin_start": 0.10000000000000009,
            "count": 0
           },
           {
            "bin_end": 0.30000000000000004,
            "bin_start": 0.20000000000000007,
            "count": 0
           },
           {
            "bin_end": 0.4,
            "bin_start": 0.30000000000000004,
            "count": 0
           },
           {
            "bin_end": 0.5,
            "bin_start": 0.4,
            "count": 0
           }
          ],
          "max": "0",
          "min": "0",
          "nan_count": 0,
          "unique_count": 1
         }
        },
        {
         "dtype": "int64",
         "name": "Savings A61",
         "stats": {
          "histogram": [
           {
            "bin_end": 0.1,
            "bin_start": 0,
            "count": 1
           },
           {
            "bin_end": 0.2,
            "bin_start": 0.1,
            "count": 0
           },
           {
            "bin_end": 0.30000000000000004,
            "bin_start": 0.2,
            "count": 0
           },
           {
            "bin_end": 0.4,
            "bin_start": 0.30000000000000004,
            "count": 0
           },
           {
            "bin_end": 0.5,
            "bin_start": 0.4,
            "count": 0
           },
           {
            "bin_end": 0.6000000000000001,
            "bin_start": 0.5,
            "count": 0
           },
           {
            "bin_end": 0.7000000000000001,
            "bin_start": 0.6000000000000001,
            "count": 0
           },
           {
            "bin_end": 0.8,
            "bin_start": 0.7000000000000001,
            "count": 0
           },
           {
            "bin_end": 0.9,
            "bin_start": 0.8,
            "count": 0
           },
           {
            "bin_end": 1,
            "bin_start": 0.9,
            "count": 4
           }
          ],
          "max": "1",
          "min": "0",
          "nan_count": 0,
          "unique_count": 2
         }
        },
        {
         "dtype": "int64",
         "name": "Savings A62",
         "stats": {
          "histogram": [
           {
            "bin_end": 0.1,
            "bin_start": 0,
            "count": 4
           },
           {
            "bin_end": 0.2,
            "bin_start": 0.1,
            "count": 0
           },
           {
            "bin_end": 0.30000000000000004,
            "bin_start": 0.2,
            "count": 0
           },
           {
            "bin_end": 0.4,
            "bin_start": 0.30000000000000004,
            "count": 0
           },
           {
            "bin_end": 0.5,
            "bin_start": 0.4,
            "count": 0
           },
           {
            "bin_end": 0.6000000000000001,
            "bin_start": 0.5,
            "count": 0
           },
           {
            "bin_end": 0.7000000000000001,
            "bin_start": 0.6000000000000001,
            "count": 0
           },
           {
            "bin_end": 0.8,
            "bin_start": 0.7000000000000001,
            "count": 0
           },
           {
            "bin_end": 0.9,
            "bin_start": 0.8,
            "count": 0
           },
           {
            "bin_end": 1,
            "bin_start": 0.9,
            "count": 1
           }
          ],
          "max": "1",
          "min": "0",
          "nan_count": 0,
          "unique_count": 2
         }
        },
        {
         "dtype": "int64",
         "name": "Savings A63",
         "stats": {
          "histogram": [
           {
            "bin_end": -0.4,
            "bin_start": -0.5,
            "count": 0
           },
           {
            "bin_end": -0.3,
            "bin_start": -0.4,
            "count": 0
           },
           {
            "bin_end": -0.19999999999999996,
            "bin_start": -0.3,
            "count": 0
           },
           {
            "bin_end": -0.09999999999999998,
            "bin_start": -0.19999999999999996,
            "count": 0
           },
           {
            "bin_end": 0,
            "bin_start": -0.09999999999999998,
            "count": 0
           },
           {
            "bin_end": 0.10000000000000009,
            "bin_start": 0,
            "count": 5
           },
           {
            "bin_end": 0.20000000000000007,
            "bin_start": 0.10000000000000009,
            "count": 0
           },
           {
            "bin_end": 0.30000000000000004,
            "bin_start": 0.20000000000000007,
            "count": 0
           },
           {
            "bin_end": 0.4,
            "bin_start": 0.30000000000000004,
            "count": 0
           },
           {
            "bin_end": 0.5,
            "bin_start": 0.4,
            "count": 0
           }
          ],
          "max": "0",
          "min": "0",
          "nan_count": 0,
          "unique_count": 1
         }
        },
        {
         "dtype": "int64",
         "name": "Savings A64",
         "stats": {
          "histogram": [
           {
            "bin_end": -0.4,
            "bin_start": -0.5,
            "count": 0
           },
           {
            "bin_end": -0.3,
            "bin_start": -0.4,
            "count": 0
           },
           {
            "bin_end": -0.19999999999999996,
            "bin_start": -0.3,
            "count": 0
           },
           {
            "bin_end": -0.09999999999999998,
            "bin_start": -0.19999999999999996,
            "count": 0
           },
           {
            "bin_end": 0,
            "bin_start": -0.09999999999999998,
            "count": 0
           },
           {
            "bin_end": 0.10000000000000009,
            "bin_start": 0,
            "count": 5
           },
           {
            "bin_end": 0.20000000000000007,
            "bin_start": 0.10000000000000009,
            "count": 0
           },
           {
            "bin_end": 0.30000000000000004,
            "bin_start": 0.20000000000000007,
            "count": 0
           },
           {
            "bin_end": 0.4,
            "bin_start": 0.30000000000000004,
            "count": 0
           },
           {
            "bin_end": 0.5,
            "bin_start": 0.4,
            "count": 0
           }
          ],
          "max": "0",
          "min": "0",
          "nan_count": 0,
          "unique_count": 1
         }
        },
        {
         "dtype": "int64",
         "name": "Savings A65",
         "stats": {
          "histogram": [
           {
            "bin_end": -0.4,
            "bin_start": -0.5,
            "count": 0
           },
           {
            "bin_end": -0.3,
            "bin_start": -0.4,
            "count": 0
           },
           {
            "bin_end": -0.19999999999999996,
            "bin_start": -0.3,
            "count": 0
           },
           {
            "bin_end": -0.09999999999999998,
            "bin_start": -0.19999999999999996,
            "count": 0
           },
           {
            "bin_end": 0,
            "bin_start": -0.09999999999999998,
            "count": 0
           },
           {
            "bin_end": 0.10000000000000009,
            "bin_start": 0,
            "count": 5
           },
           {
            "bin_end": 0.20000000000000007,
            "bin_start": 0.10000000000000009,
            "count": 0
           },
           {
            "bin_end": 0.30000000000000004,
            "bin_start": 0.20000000000000007,
            "count": 0
           },
           {
            "bin_end": 0.4,
            "bin_start": 0.30000000000000004,
            "count": 0
           },
           {
            "bin_end": 0.5,
            "bin_start": 0.4,
            "count": 0
           }
          ],
          "max": "0",
          "min": "0",
          "nan_count": 0,
          "unique_count": 1
         }
        },
        {
         "dtype": "int64",
         "name": "Employment A71",
         "stats": {
          "histogram": [
           {
            "bin_end": -0.4,
            "bin_start": -0.5,
            "count": 0
           },
           {
            "bin_end": -0.3,
            "bin_start": -0.4,
            "count": 0
           },
           {
            "bin_end": -0.19999999999999996,
            "bin_start": -0.3,
            "count": 0
           },
           {
            "bin_end": -0.09999999999999998,
            "bin_start": -0.19999999999999996,
            "count": 0
           },
           {
            "bin_end": 0,
            "bin_start": -0.09999999999999998,
            "count": 0
           },
           {
            "bin_end": 0.10000000000000009,
            "bin_start": 0,
            "count": 5
           },
           {
            "bin_end": 0.20000000000000007,
            "bin_start": 0.10000000000000009,
            "count": 0
           },
           {
            "bin_end": 0.30000000000000004,
            "bin_start": 0.20000000000000007,
            "count": 0
           },
           {
            "bin_end": 0.4,
            "bin_start": 0.30000000000000004,
            "count": 0
           },
           {
            "bin_end": 0.5,
            "bin_start": 0.4,
            "count": 0
           }
          ],
          "max": "0",
          "min": "0",
          "nan_count": 0,
          "unique_count": 1
         }
        },
        {
         "dtype": "int64",
         "name": "Employment A72",
         "stats": {
          "histogram": [
           {
            "bin_end": 0.1,
            "bin_start": 0,
            "count": 4
           },
           {
            "bin_end": 0.2,
            "bin_start": 0.1,
            "count": 0
           },
           {
            "bin_end": 0.30000000000000004,
            "bin_start": 0.2,
            "count": 0
           },
           {
            "bin_end": 0.4,
            "bin_start": 0.30000000000000004,
            "count": 0
           },
           {
            "bin_end": 0.5,
            "bin_start": 0.4,
            "count": 0
           },
           {
            "bin_end": 0.6000000000000001,
            "bin_start": 0.5,
            "count": 0
           },
           {
            "bin_end": 0.7000000000000001,
            "bin_start": 0.6000000000000001,
            "count": 0
           },
           {
            "bin_end": 0.8,
            "bin_start": 0.7000000000000001,
            "count": 0
           },
           {
            "bin_end": 0.9,
            "bin_start": 0.8,
            "count": 0
           },
           {
            "bin_end": 1,
            "bin_start": 0.9,
            "count": 1
           }
          ],
          "max": "1",
          "min": "0",
          "nan_count": 0,
          "unique_count": 2
         }
        },
        {
         "dtype": "int64",
         "name": "Employment A73",
         "stats": {
          "histogram": [
           {
            "bin_end": 0.1,
            "bin_start": 0,
            "count": 2
           },
           {
            "bin_end": 0.2,
            "bin_start": 0.1,
            "count": 0
           },
           {
            "bin_end": 0.30000000000000004,
            "bin_start": 0.2,
            "count": 0
           },
           {
            "bin_end": 0.4,
            "bin_start": 0.30000000000000004,
            "count": 0
           },
           {
            "bin_end": 0.5,
            "bin_start": 0.4,
            "count": 0
           },
           {
            "bin_end": 0.6000000000000001,
            "bin_start": 0.5,
            "count": 0
           },
           {
            "bin_end": 0.7000000000000001,
            "bin_start": 0.6000000000000001,
            "count": 0
           },
           {
            "bin_end": 0.8,
            "bin_start": 0.7000000000000001,
            "count": 0
           },
           {
            "bin_end": 0.9,
            "bin_start": 0.8,
            "count": 0
           },
           {
            "bin_end": 1,
            "bin_start": 0.9,
            "count": 3
           }
          ],
          "max": "1",
          "min": "0",
          "nan_count": 0,
          "unique_count": 2
         }
        },
        {
         "dtype": "int64",
         "name": "Employment A74",
         "stats": {
          "histogram": [
           {
            "bin_end": 0.1,
            "bin_start": 0,
            "count": 4
           },
           {
            "bin_end": 0.2,
            "bin_start": 0.1,
            "count": 0
           },
           {
            "bin_end": 0.30000000000000004,
            "bin_start": 0.2,
            "count": 0
           },
           {
            "bin_end": 0.4,
            "bin_start": 0.30000000000000004,
            "count": 0
           },
           {
            "bin_end": 0.5,
            "bin_start": 0.4,
            "count": 0
           },
           {
            "bin_end": 0.6000000000000001,
            "bin_start": 0.5,
            "count": 0
           },
           {
            "bin_end": 0.7000000000000001,
            "bin_start": 0.6000000000000001,
            "count": 0
           },
           {
            "bin_end": 0.8,
            "bin_start": 0.7000000000000001,
            "count": 0
           },
           {
            "bin_end": 0.9,
            "bin_start": 0.8,
            "count": 0
           },
           {
            "bin_end": 1,
            "bin_start": 0.9,
            "count": 1
           }
          ],
          "max": "1",
          "min": "0",
          "nan_count": 0,
          "unique_count": 2
         }
        },
        {
         "dtype": "int64",
         "name": "Employment A75",
         "stats": {
          "histogram": [
           {
            "bin_end": -0.4,
            "bin_start": -0.5,
            "count": 0
           },
           {
            "bin_end": -0.3,
            "bin_start": -0.4,
            "count": 0
           },
           {
            "bin_end": -0.19999999999999996,
            "bin_start": -0.3,
            "count": 0
           },
           {
            "bin_end": -0.09999999999999998,
            "bin_start": -0.19999999999999996,
            "count": 0
           },
           {
            "bin_end": 0,
            "bin_start": -0.09999999999999998,
            "count": 0
           },
           {
            "bin_end": 0.10000000000000009,
            "bin_start": 0,
            "count": 5
           },
           {
            "bin_end": 0.20000000000000007,
            "bin_start": 0.10000000000000009,
            "count": 0
           },
           {
            "bin_end": 0.30000000000000004,
            "bin_start": 0.20000000000000007,
            "count": 0
           },
           {
            "bin_end": 0.4,
            "bin_start": 0.30000000000000004,
            "count": 0
           },
           {
            "bin_end": 0.5,
            "bin_start": 0.4,
            "count": 0
           }
          ],
          "max": "0",
          "min": "0",
          "nan_count": 0,
          "unique_count": 1
         }
        },
        {
         "dtype": "float64",
         "name": "InstallmentRatePecnt",
         "stats": {
          "histogram": [
           {
            "bin_end": 0.3999999997,
            "bin_start": 0.333333333,
            "count": 2
           },
           {
            "bin_end": 0.4666666664,
            "bin_start": 0.3999999997,
            "count": 0
           },
           {
            "bin_end": 0.5333333331000001,
            "bin_start": 0.4666666664,
            "count": 0
           },
           {
            "bin_end": 0.5999999998000001,
            "bin_start": 0.5333333331000001,
            "count": 0
           },
           {
            "bin_end": 0.6666666665000001,
            "bin_start": 0.5999999998000001,
            "count": 0
           },
           {
            "bin_end": 0.7333333332,
            "bin_start": 0.6666666665000001,
            "count": 1
           },
           {
            "bin_end": 0.7999999999,
            "bin_start": 0.7333333332,
            "count": 0
           },
           {
            "bin_end": 0.8666666666,
            "bin_start": 0.7999999999,
            "count": 0
           },
           {
            "bin_end": 0.9333333333,
            "bin_start": 0.8666666666,
            "count": 0
           },
           {
            "bin_end": 1,
            "bin_start": 0.9333333333,
            "count": 2
           }
          ],
          "max": "1.0",
          "min": "0.333333333",
          "nan_count": 0,
          "unique_count": 3
         }
        },
        {
         "dtype": "float64",
         "name": "PresentResidenceTime",
         "stats": {
          "histogram": [
           {
            "bin_end": 0.0666666667,
            "bin_start": 0,
            "count": 1
           },
           {
            "bin_end": 0.1333333334,
            "bin_start": 0.0666666667,
            "count": 0
           },
           {
            "bin_end": 0.20000000010000002,
            "bin_start": 0.1333333334,
            "count": 0
           },
           {
            "bin_end": 0.2666666668,
            "bin_start": 0.20000000010000002,
            "count": 0
           },
           {
            "bin_end": 0.3333333335,
            "bin_start": 0.2666666668,
            "count": 3
           },
           {
            "bin_end": 0.40000000020000004,
            "bin_start": 0.3333333335,
            "count": 0
           },
           {
            "bin_end": 0.4666666669,
            "bin_start": 0.40000000020000004,
            "count": 0
           },
           {
            "bin_end": 0.5333333336,
            "bin_start": 0.4666666669,
            "count": 0
           },
           {
            "bin_end": 0.6000000003,
            "bin_start": 0.5333333336,
            "count": 0
           },
           {
            "bin_end": 0.666666667,
            "bin_start": 0.6000000003,
            "count": 1
           }
          ],
          "max": "0.666666667",
          "min": "0.0",
          "nan_count": 0,
          "unique_count": 3
         }
        },
        {
         "dtype": "int64",
         "name": "Property A121",
         "stats": {
          "histogram": [
           {
            "bin_end": 0.1,
            "bin_start": 0,
            "count": 4
           },
           {
            "bin_end": 0.2,
            "bin_start": 0.1,
            "count": 0
           },
           {
            "bin_end": 0.30000000000000004,
            "bin_start": 0.2,
            "count": 0
           },
           {
            "bin_end": 0.4,
            "bin_start": 0.30000000000000004,
            "count": 0
           },
           {
            "bin_end": 0.5,
            "bin_start": 0.4,
            "count": 0
           },
           {
            "bin_end": 0.6000000000000001,
            "bin_start": 0.5,
            "count": 0
           },
           {
            "bin_end": 0.7000000000000001,
            "bin_start": 0.6000000000000001,
            "count": 0
           },
           {
            "bin_end": 0.8,
            "bin_start": 0.7000000000000001,
            "count": 0
           },
           {
            "bin_end": 0.9,
            "bin_start": 0.8,
            "count": 0
           },
           {
            "bin_end": 1,
            "bin_start": 0.9,
            "count": 1
           }
          ],
          "max": "1",
          "min": "0",
          "nan_count": 0,
          "unique_count": 2
         }
        },
        {
         "dtype": "int64",
         "name": "Property A122",
         "stats": {
          "histogram": [
           {
            "bin_end": 0.1,
            "bin_start": 0,
            "count": 3
           },
           {
            "bin_end": 0.2,
            "bin_start": 0.1,
            "count": 0
           },
           {
            "bin_end": 0.30000000000000004,
            "bin_start": 0.2,
            "count": 0
           },
           {
            "bin_end": 0.4,
            "bin_start": 0.30000000000000004,
            "count": 0
           },
           {
            "bin_end": 0.5,
            "bin_start": 0.4,
            "count": 0
           },
           {
            "bin_end": 0.6000000000000001,
            "bin_start": 0.5,
            "count": 0
           },
           {
            "bin_end": 0.7000000000000001,
            "bin_start": 0.6000000000000001,
            "count": 0
           },
           {
            "bin_end": 0.8,
            "bin_start": 0.7000000000000001,
            "count": 0
           },
           {
            "bin_end": 0.9,
            "bin_start": 0.8,
            "count": 0
           },
           {
            "bin_end": 1,
            "bin_start": 0.9,
            "count": 2
           }
          ],
          "max": "1",
          "min": "0",
          "nan_count": 0,
          "unique_count": 2
         }
        },
        {
         "dtype": "int64",
         "name": "Property A123",
         "stats": {
          "histogram": [
           {
            "bin_end": 0.1,
            "bin_start": 0,
            "count": 4
           },
           {
            "bin_end": 0.2,
            "bin_start": 0.1,
            "count": 0
           },
           {
            "bin_end": 0.30000000000000004,
            "bin_start": 0.2,
            "count": 0
           },
           {
            "bin_end": 0.4,
            "bin_start": 0.30000000000000004,
            "count": 0
           },
           {
            "bin_end": 0.5,
            "bin_start": 0.4,
            "count": 0
           },
           {
            "bin_end": 0.6000000000000001,
            "bin_start": 0.5,
            "count": 0
           },
           {
            "bin_end": 0.7000000000000001,
            "bin_start": 0.6000000000000001,
            "count": 0
           },
           {
            "bin_end": 0.8,
            "bin_start": 0.7000000000000001,
            "count": 0
           },
           {
            "bin_end": 0.9,
            "bin_start": 0.8,
            "count": 0
           },
           {
            "bin_end": 1,
            "bin_start": 0.9,
            "count": 1
           }
          ],
          "max": "1",
          "min": "0",
          "nan_count": 0,
          "unique_count": 2
         }
        },
        {
         "dtype": "int64",
         "name": "Property A124",
         "stats": {
          "histogram": [
           {
            "bin_end": 0.1,
            "bin_start": 0,
            "count": 4
           },
           {
            "bin_end": 0.2,
            "bin_start": 0.1,
            "count": 0
           },
           {
            "bin_end": 0.30000000000000004,
            "bin_start": 0.2,
            "count": 0
           },
           {
            "bin_end": 0.4,
            "bin_start": 0.30000000000000004,
            "count": 0
           },
           {
            "bin_end": 0.5,
            "bin_start": 0.4,
            "count": 0
           },
           {
            "bin_end": 0.6000000000000001,
            "bin_start": 0.5,
            "count": 0
           },
           {
            "bin_end": 0.7000000000000001,
            "bin_start": 0.6000000000000001,
            "count": 0
           },
           {
            "bin_end": 0.8,
            "bin_start": 0.7000000000000001,
            "count": 0
           },
           {
            "bin_end": 0.9,
            "bin_start": 0.8,
            "count": 0
           },
           {
            "bin_end": 1,
            "bin_start": 0.9,
            "count": 1
           }
          ],
          "max": "1",
          "min": "0",
          "nan_count": 0,
          "unique_count": 2
         }
        },
        {
         "dtype": "float64",
         "name": "Age",
         "stats": {
          "histogram": [
           {
            "bin_end": 0.1035714283,
            "bin_start": 0.089285714,
            "count": 1
           },
           {
            "bin_end": 0.1178571426,
            "bin_start": 0.1035714283,
            "count": 0
           },
           {
            "bin_end": 0.1321428569,
            "bin_start": 0.1178571426,
            "count": 1
           },
           {
            "bin_end": 0.14642857120000002,
            "bin_start": 0.1321428569,
            "count": 0
           },
           {
            "bin_end": 0.1607142855,
            "bin_start": 0.14642857120000002,
            "count": 0
           },
           {
            "bin_end": 0.17499999980000003,
            "bin_start": 0.1607142855,
            "count": 0
           },
           {
            "bin_end": 0.1892857141,
            "bin_start": 0.17499999980000003,
            "count": 1
           },
           {
            "bin_end": 0.20357142840000003,
            "bin_start": 0.1892857141,
            "count": 0
           },
           {
            "bin_end": 0.2178571427,
            "bin_start": 0.20357142840000003,
            "count": 1
           },
           {
            "bin_end": 0.232142857,
            "bin_start": 0.2178571427,
            "count": 1
           }
          ],
          "max": "0.232142857",
          "min": "0.089285714",
          "nan_count": 0,
          "unique_count": 5
         }
        },
        {
         "dtype": "int64",
         "name": "Telephone1",
         "stats": {
          "histogram": [
           {
            "bin_end": 0.1,
            "bin_start": 0,
            "count": 2
           },
           {
            "bin_end": 0.2,
            "bin_start": 0.1,
            "count": 0
           },
           {
            "bin_end": 0.30000000000000004,
            "bin_start": 0.2,
            "count": 0
           },
           {
            "bin_end": 0.4,
            "bin_start": 0.30000000000000004,
            "count": 0
           },
           {
            "bin_end": 0.5,
            "bin_start": 0.4,
            "count": 0
           },
           {
            "bin_end": 0.6000000000000001,
            "bin_start": 0.5,
            "count": 0
           },
           {
            "bin_end": 0.7000000000000001,
            "bin_start": 0.6000000000000001,
            "count": 0
           },
           {
            "bin_end": 0.8,
            "bin_start": 0.7000000000000001,
            "count": 0
           },
           {
            "bin_end": 0.9,
            "bin_start": 0.8,
            "count": 0
           },
           {
            "bin_end": 1,
            "bin_start": 0.9,
            "count": 3
           }
          ],
          "max": "1",
          "min": "0",
          "nan_count": 0,
          "unique_count": 2
         }
        },
        {
         "dtype": "int64",
         "name": "CreditScore",
         "stats": {
          "histogram": [
           {
            "bin_end": 0.1,
            "bin_start": 0,
            "count": 3
           },
           {
            "bin_end": 0.2,
            "bin_start": 0.1,
            "count": 0
           },
           {
            "bin_end": 0.30000000000000004,
            "bin_start": 0.2,
            "count": 0
           },
           {
            "bin_end": 0.4,
            "bin_start": 0.30000000000000004,
            "count": 0
           },
           {
            "bin_end": 0.5,
            "bin_start": 0.4,
            "count": 0
           },
           {
            "bin_end": 0.6000000000000001,
            "bin_start": 0.5,
            "count": 0
           },
           {
            "bin_end": 0.7000000000000001,
            "bin_start": 0.6000000000000001,
            "count": 0
           },
           {
            "bin_end": 0.8,
            "bin_start": 0.7000000000000001,
            "count": 0
           },
           {
            "bin_end": 0.9,
            "bin_start": 0.8,
            "count": 0
           },
           {
            "bin_end": 1,
            "bin_start": 0.9,
            "count": 2
           }
          ],
          "max": "1",
          "min": "0",
          "nan_count": 0,
          "unique_count": 2
         }
        },
        {
         "dtype": "int64",
         "name": "_deepnote_index_column"
        }
       ],
       "row_count": 5,
       "rows_bottom": null,
       "rows_top": [
        {
         "Age": 0.089285714,
         "CheckingAcctStat A11": 1,
         "CheckingAcctStat A12": 0,
         "CheckingAcctStat A13": 0,
         "CheckingAcctStat A14": 0,
         "CreditHistory A30": 0,
         "CreditHistory A31": 0,
         "CreditHistory A32": 1,
         "CreditHistory A33": 0,
         "CreditHistory A34": 0,
         "CreditScore": 1,
         "Duration": 0.205882353,
         "Employment A71": 0,
         "Employment A72": 0,
         "Employment A73": 1,
         "Employment A74": 0,
         "Employment A75": 0,
         "InstallmentRatePecnt": 0.333333333,
         "PresentResidenceTime": 0.333333333,
         "Property A121": 1,
         "Property A122": 0,
         "Property A123": 0,
         "Property A124": 0,
         "Purpose A40": 0,
         "Purpose A41": 0,
         "Purpose A410": 0,
         "Purpose A42": 0,
         "Purpose A43": 0,
         "Purpose A44": 1,
         "Purpose A45": 0,
         "Purpose A46": 0,
         "Purpose A48": 0,
         "Purpose A49": 0,
         "Savings A61": 1,
         "Savings A62": 0,
         "Savings A63": 0,
         "Savings A64": 0,
         "Savings A65": 0,
         "Telephone1": 0,
         "_deepnote_index_column": 0
        },
        {
         "Age": 0.125,
         "CheckingAcctStat A11": 0,
         "CheckingAcctStat A12": 0,
         "CheckingAcctStat A13": 0,
         "CheckingAcctStat A14": 1,
         "CreditHistory A30": 0,
         "CreditHistory A31": 0,
         "CreditHistory A32": 1,
         "CreditHistory A33": 0,
         "CreditHistory A34": 0,
         "CreditScore": 0,
         "Duration": 0.294117647,
         "Employment A71": 0,
         "Employment A72": 0,
         "Employment A73": 0,
         "Employment A74": 1,
         "Employment A75": 0,
         "InstallmentRatePecnt": 1,
         "PresentResidenceTime": 0.666666667,
         "Property A121": 0,
         "Property A122": 1,
         "Property A123": 0,
         "Property A124": 0,
         "Purpose A40": 0,
         "Purpose A41": 0,
         "Purpose A410": 0,
         "Purpose A42": 0,
         "Purpose A43": 0,
         "Purpose A44": 1,
         "Purpose A45": 0,
         "Purpose A46": 0,
         "Purpose A48": 0,
         "Purpose A49": 0,
         "Savings A61": 0,
         "Savings A62": 1,
         "Savings A63": 0,
         "Savings A64": 0,
         "Savings A65": 0,
         "Telephone1": 1,
         "_deepnote_index_column": 1
        },
        {
         "Age": 0.232142857,
         "CheckingAcctStat A11": 0,
         "CheckingAcctStat A12": 0,
         "CheckingAcctStat A13": 0,
         "CheckingAcctStat A14": 1,
         "CreditHistory A30": 0,
         "CreditHistory A31": 0,
         "CreditHistory A32": 1,
         "CreditHistory A33": 0,
         "CreditHistory A34": 0,
         "CreditScore": 0,
         "Duration": 0.205882353,
         "Employment A71": 0,
         "Employment A72": 0,
         "Employment A73": 1,
         "Employment A74": 0,
         "Employment A75": 0,
         "InstallmentRatePecnt": 1,
         "PresentResidenceTime": 0.333333333,
         "Property A121": 0,
         "Property A122": 0,
         "Property A123": 0,
         "Property A124": 1,
         "Purpose A40": 0,
         "Purpose A41": 0,
         "Purpose A410": 0,
         "Purpose A42": 0,
         "Purpose A43": 0,
         "Purpose A44": 1,
         "Purpose A45": 0,
         "Purpose A46": 0,
         "Purpose A48": 0,
         "Purpose A49": 0,
         "Savings A61": 1,
         "Savings A62": 0,
         "Savings A63": 0,
         "Savings A64": 0,
         "Savings A65": 0,
         "Telephone1": 1,
         "_deepnote_index_column": 2
        },
        {
         "Age": 0.214285714,
         "CheckingAcctStat A11": 1,
         "CheckingAcctStat A12": 0,
         "CheckingAcctStat A13": 0,
         "CheckingAcctStat A14": 0,
         "CreditHistory A30": 0,
         "CreditHistory A31": 0,
         "CreditHistory A32": 1,
         "CreditHistory A33": 0,
         "CreditHistory A34": 0,
         "CreditScore": 1,
         "Duration": 0.647058824,
         "Employment A71": 0,
         "Employment A72": 0,
         "Employment A73": 1,
         "Employment A74": 0,
         "Employment A75": 0,
         "InstallmentRatePecnt": 0.666666667,
         "PresentResidenceTime": 0.333333333,
         "Property A121": 0,
         "Property A122": 0,
         "Property A123": 1,
         "Property A124": 0,
         "Purpose A40": 0,
         "Purpose A41": 0,
         "Purpose A410": 0,
         "Purpose A42": 0,
         "Purpose A43": 0,
         "Purpose A44": 1,
         "Purpose A45": 0,
         "Purpose A46": 0,
         "Purpose A48": 0,
         "Purpose A49": 0,
         "Savings A61": 1,
         "Savings A62": 0,
         "Savings A63": 0,
         "Savings A64": 0,
         "Savings A65": 0,
         "Telephone1": 1,
         "_deepnote_index_column": 3
        },
        {
         "Age": 0.178571429,
         "CheckingAcctStat A11": 0,
         "CheckingAcctStat A12": 0,
         "CheckingAcctStat A13": 1,
         "CheckingAcctStat A14": 0,
         "CreditHistory A30": 0,
         "CreditHistory A31": 0,
         "CreditHistory A32": 0,
         "CreditHistory A33": 1,
         "CreditHistory A34": 0,
         "CreditScore": 0,
         "Duration": 0.029411765,
         "Employment A71": 0,
         "Employment A72": 1,
         "Employment A73": 0,
         "Employment A74": 0,
         "Employment A75": 0,
         "InstallmentRatePecnt": 0.333333333,
         "PresentResidenceTime": 0,
         "Property A121": 0,
         "Property A122": 1,
         "Property A123": 0,
         "Property A124": 0,
         "Purpose A40": 0,
         "Purpose A41": 0,
         "Purpose A410": 0,
         "Purpose A42": 0,
         "Purpose A43": 0,
         "Purpose A44": 1,
         "Purpose A45": 0,
         "Purpose A46": 0,
         "Purpose A48": 0,
         "Purpose A49": 0,
         "Savings A61": 1,
         "Savings A62": 0,
         "Savings A63": 0,
         "Savings A64": 0,
         "Savings A65": 0,
         "Telephone1": 0,
         "_deepnote_index_column": 4
        }
       ]
      },
      "text/html": [
       "<div>\n",
       "<style scoped>\n",
       "    .dataframe tbody tr th:only-of-type {\n",
       "        vertical-align: middle;\n",
       "    }\n",
       "\n",
       "    .dataframe tbody tr th {\n",
       "        vertical-align: top;\n",
       "    }\n",
       "\n",
       "    .dataframe thead th {\n",
       "        text-align: right;\n",
       "    }\n",
       "</style>\n",
       "<table border=\"1\" class=\"dataframe\">\n",
       "  <thead>\n",
       "    <tr style=\"text-align: right;\">\n",
       "      <th></th>\n",
       "      <th>CheckingAcctStat A11</th>\n",
       "      <th>CheckingAcctStat A12</th>\n",
       "      <th>CheckingAcctStat A13</th>\n",
       "      <th>CheckingAcctStat A14</th>\n",
       "      <th>Duration</th>\n",
       "      <th>CreditHistory A30</th>\n",
       "      <th>CreditHistory A31</th>\n",
       "      <th>CreditHistory A32</th>\n",
       "      <th>CreditHistory A33</th>\n",
       "      <th>CreditHistory A34</th>\n",
       "      <th>...</th>\n",
       "      <th>Employment A75</th>\n",
       "      <th>InstallmentRatePecnt</th>\n",
       "      <th>PresentResidenceTime</th>\n",
       "      <th>Property A121</th>\n",
       "      <th>Property A122</th>\n",
       "      <th>Property A123</th>\n",
       "      <th>Property A124</th>\n",
       "      <th>Age</th>\n",
       "      <th>Telephone1</th>\n",
       "      <th>CreditScore</th>\n",
       "    </tr>\n",
       "  </thead>\n",
       "  <tbody>\n",
       "    <tr>\n",
       "      <th>0</th>\n",
       "      <td>1</td>\n",
       "      <td>0</td>\n",
       "      <td>0</td>\n",
       "      <td>0</td>\n",
       "      <td>0.205882</td>\n",
       "      <td>0</td>\n",
       "      <td>0</td>\n",
       "      <td>1</td>\n",
       "      <td>0</td>\n",
       "      <td>0</td>\n",
       "      <td>...</td>\n",
       "      <td>0</td>\n",
       "      <td>0.333333</td>\n",
       "      <td>0.333333</td>\n",
       "      <td>1</td>\n",
       "      <td>0</td>\n",
       "      <td>0</td>\n",
       "      <td>0</td>\n",
       "      <td>0.089286</td>\n",
       "      <td>0</td>\n",
       "      <td>1</td>\n",
       "    </tr>\n",
       "    <tr>\n",
       "      <th>1</th>\n",
       "      <td>0</td>\n",
       "      <td>0</td>\n",
       "      <td>0</td>\n",
       "      <td>1</td>\n",
       "      <td>0.294118</td>\n",
       "      <td>0</td>\n",
       "      <td>0</td>\n",
       "      <td>1</td>\n",
       "      <td>0</td>\n",
       "      <td>0</td>\n",
       "      <td>...</td>\n",
       "      <td>0</td>\n",
       "      <td>1.000000</td>\n",
       "      <td>0.666667</td>\n",
       "      <td>0</td>\n",
       "      <td>1</td>\n",
       "      <td>0</td>\n",
       "      <td>0</td>\n",
       "      <td>0.125000</td>\n",
       "      <td>1</td>\n",
       "      <td>0</td>\n",
       "    </tr>\n",
       "    <tr>\n",
       "      <th>2</th>\n",
       "      <td>0</td>\n",
       "      <td>0</td>\n",
       "      <td>0</td>\n",
       "      <td>1</td>\n",
       "      <td>0.205882</td>\n",
       "      <td>0</td>\n",
       "      <td>0</td>\n",
       "      <td>1</td>\n",
       "      <td>0</td>\n",
       "      <td>0</td>\n",
       "      <td>...</td>\n",
       "      <td>0</td>\n",
       "      <td>1.000000</td>\n",
       "      <td>0.333333</td>\n",
       "      <td>0</td>\n",
       "      <td>0</td>\n",
       "      <td>0</td>\n",
       "      <td>1</td>\n",
       "      <td>0.232143</td>\n",
       "      <td>1</td>\n",
       "      <td>0</td>\n",
       "    </tr>\n",
       "    <tr>\n",
       "      <th>3</th>\n",
       "      <td>1</td>\n",
       "      <td>0</td>\n",
       "      <td>0</td>\n",
       "      <td>0</td>\n",
       "      <td>0.647059</td>\n",
       "      <td>0</td>\n",
       "      <td>0</td>\n",
       "      <td>1</td>\n",
       "      <td>0</td>\n",
       "      <td>0</td>\n",
       "      <td>...</td>\n",
       "      <td>0</td>\n",
       "      <td>0.666667</td>\n",
       "      <td>0.333333</td>\n",
       "      <td>0</td>\n",
       "      <td>0</td>\n",
       "      <td>1</td>\n",
       "      <td>0</td>\n",
       "      <td>0.214286</td>\n",
       "      <td>1</td>\n",
       "      <td>1</td>\n",
       "    </tr>\n",
       "    <tr>\n",
       "      <th>4</th>\n",
       "      <td>0</td>\n",
       "      <td>0</td>\n",
       "      <td>1</td>\n",
       "      <td>0</td>\n",
       "      <td>0.029412</td>\n",
       "      <td>0</td>\n",
       "      <td>0</td>\n",
       "      <td>0</td>\n",
       "      <td>1</td>\n",
       "      <td>0</td>\n",
       "      <td>...</td>\n",
       "      <td>0</td>\n",
       "      <td>0.333333</td>\n",
       "      <td>0.000000</td>\n",
       "      <td>0</td>\n",
       "      <td>1</td>\n",
       "      <td>0</td>\n",
       "      <td>0</td>\n",
       "      <td>0.178571</td>\n",
       "      <td>0</td>\n",
       "      <td>0</td>\n",
       "    </tr>\n",
       "  </tbody>\n",
       "</table>\n",
       "<p>5 rows × 39 columns</p>\n",
       "</div>"
      ],
      "text/plain": [
       "   CheckingAcctStat A11  CheckingAcctStat A12  CheckingAcctStat A13  \\\n",
       "0                     1                     0                     0   \n",
       "1                     0                     0                     0   \n",
       "2                     0                     0                     0   \n",
       "3                     1                     0                     0   \n",
       "4                     0                     0                     1   \n",
       "\n",
       "   CheckingAcctStat A14  Duration  CreditHistory A30  CreditHistory A31  \\\n",
       "0                     0  0.205882                  0                  0   \n",
       "1                     1  0.294118                  0                  0   \n",
       "2                     1  0.205882                  0                  0   \n",
       "3                     0  0.647059                  0                  0   \n",
       "4                     0  0.029412                  0                  0   \n",
       "\n",
       "   CreditHistory A32  CreditHistory A33  CreditHistory A34  ...  \\\n",
       "0                  1                  0                  0  ...   \n",
       "1                  1                  0                  0  ...   \n",
       "2                  1                  0                  0  ...   \n",
       "3                  1                  0                  0  ...   \n",
       "4                  0                  1                  0  ...   \n",
       "\n",
       "   Employment A75  InstallmentRatePecnt  PresentResidenceTime  Property A121  \\\n",
       "0               0              0.333333              0.333333              1   \n",
       "1               0              1.000000              0.666667              0   \n",
       "2               0              1.000000              0.333333              0   \n",
       "3               0              0.666667              0.333333              0   \n",
       "4               0              0.333333              0.000000              0   \n",
       "\n",
       "   Property A122  Property A123  Property A124       Age  Telephone1  \\\n",
       "0              0              0              0  0.089286           0   \n",
       "1              1              0              0  0.125000           1   \n",
       "2              0              0              1  0.232143           1   \n",
       "3              0              1              0  0.214286           1   \n",
       "4              1              0              0  0.178571           0   \n",
       "\n",
       "   CreditScore  \n",
       "0            1  \n",
       "1            0  \n",
       "2            0  \n",
       "3            1  \n",
       "4            0  \n",
       "\n",
       "[5 rows x 39 columns]"
      ]
     },
     "execution_count": 5,
     "metadata": {},
     "output_type": "execute_result"
    }
   ],
   "source": [
    "df.head()"
   ]
  },
  {
   "cell_type": "code",
   "execution_count": null,
   "metadata": {
    "cell_id": "58d6141dee81408f9ceceab6255be0d0",
    "deepnote_cell_type": "code",
    "deepnote_to_be_reexecuted": false,
    "execution_millis": 19,
    "execution_start": 1639498450507,
    "source_hash": "b6fe72de",
    "tags": []
   },
   "outputs": [
    {
     "data": {},
     "name": "stdout",
     "output_type": "stream",
     "text": [
      "<class 'pandas.core.frame.DataFrame'>\n",
      "RangeIndex: 950 entries, 0 to 949\n",
      "Data columns (total 39 columns):\n",
      " #   Column                Non-Null Count  Dtype  \n",
      "---  ------                --------------  -----  \n",
      " 0   CheckingAcctStat A11  950 non-null    int64  \n",
      " 1   CheckingAcctStat A12  950 non-null    int64  \n",
      " 2   CheckingAcctStat A13  950 non-null    int64  \n",
      " 3   CheckingAcctStat A14  950 non-null    int64  \n",
      " 4   Duration              950 non-null    float64\n",
      " 5   CreditHistory A30     950 non-null    int64  \n",
      " 6   CreditHistory A31     950 non-null    int64  \n",
      " 7   CreditHistory A32     950 non-null    int64  \n",
      " 8   CreditHistory A33     950 non-null    int64  \n",
      " 9   CreditHistory A34     950 non-null    int64  \n",
      " 10  Purpose A40           950 non-null    int64  \n",
      " 11  Purpose A41           950 non-null    int64  \n",
      " 12  Purpose A42           950 non-null    int64  \n",
      " 13  Purpose A43           950 non-null    int64  \n",
      " 14  Purpose A44           950 non-null    int64  \n",
      " 15  Purpose A45           950 non-null    int64  \n",
      " 16  Purpose A46           950 non-null    int64  \n",
      " 17  Purpose A48           950 non-null    int64  \n",
      " 18  Purpose A49           950 non-null    int64  \n",
      " 19  Purpose A410          950 non-null    int64  \n",
      " 20  Savings A61           950 non-null    int64  \n",
      " 21  Savings A62           950 non-null    int64  \n",
      " 22  Savings A63           950 non-null    int64  \n",
      " 23  Savings A64           950 non-null    int64  \n",
      " 24  Savings A65           950 non-null    int64  \n",
      " 25  Employment A71        950 non-null    int64  \n",
      " 26  Employment A72        950 non-null    int64  \n",
      " 27  Employment A73        950 non-null    int64  \n",
      " 28  Employment A74        950 non-null    int64  \n",
      " 29  Employment A75        950 non-null    int64  \n",
      " 30  InstallmentRatePecnt  950 non-null    float64\n",
      " 31  PresentResidenceTime  950 non-null    float64\n",
      " 32  Property A121         950 non-null    int64  \n",
      " 33  Property A122         950 non-null    int64  \n",
      " 34  Property A123         950 non-null    int64  \n",
      " 35  Property A124         950 non-null    int64  \n",
      " 36  Age                   950 non-null    float64\n",
      " 37  Telephone1            950 non-null    int64  \n",
      " 38  CreditScore           950 non-null    int64  \n",
      "dtypes: float64(4), int64(35)\n",
      "memory usage: 289.6 KB\n"
     ]
    }
   ],
   "source": [
    "#Devuelve información (número de filas, número de columnas, índices, tipo de las columnas y memoria usado).\n",
    "df.info()"
   ]
  },
  {
   "cell_type": "code",
   "execution_count": null,
   "metadata": {
    "cell_id": "f299d48dc3d3485da00d6bdcd1c4cb43",
    "deepnote_cell_type": "code",
    "deepnote_output_heights": [
     21.199996948242188
    ],
    "deepnote_to_be_reexecuted": false,
    "execution_millis": 250,
    "execution_start": 1639498453861,
    "source_hash": "4f4ecf77",
    "tags": []
   },
   "outputs": [
    {
     "data": {
      "text/plain": [
       "37050"
      ]
     },
     "execution_count": 7,
     "metadata": {},
     "output_type": "execute_result"
    }
   ],
   "source": [
    "#Devuelve el número de elementos del dataFrame\n",
    "df.size"
   ]
  },
  {
   "cell_type": "code",
   "execution_count": null,
   "metadata": {
    "cell_id": "0f81ff3cc4d041a3bcb19fc54d822e93",
    "deepnote_cell_type": "code",
    "deepnote_output_heights": [
     21.199996948242188
    ],
    "deepnote_to_be_reexecuted": false,
    "execution_millis": 4,
    "execution_start": 1639498457026,
    "source_hash": "45726828",
    "tags": []
   },
   "outputs": [
    {
     "data": {
      "text/plain": [
       "RangeIndex(start=0, stop=950, step=1)"
      ]
     },
     "execution_count": 8,
     "metadata": {},
     "output_type": "execute_result"
    }
   ],
   "source": [
    "#Devuelve una lista con los nombres de las filas\n",
    "df.index "
   ]
  },
  {
   "cell_type": "code",
   "execution_count": null,
   "metadata": {
    "cell_id": "59cf2834202b429fafc38b7a360adb4a",
    "deepnote_cell_type": "code",
    "deepnote_output_heights": [
     611
    ],
    "deepnote_to_be_reexecuted": false,
    "execution_millis": 10,
    "execution_start": 1639498460013,
    "source_hash": "cade49a6",
    "tags": []
   },
   "outputs": [
    {
     "data": {
      "text/plain": [
       "CheckingAcctStat A11      int64\n",
       "CheckingAcctStat A12      int64\n",
       "CheckingAcctStat A13      int64\n",
       "CheckingAcctStat A14      int64\n",
       "Duration                float64\n",
       "CreditHistory A30         int64\n",
       "CreditHistory A31         int64\n",
       "CreditHistory A32         int64\n",
       "CreditHistory A33         int64\n",
       "CreditHistory A34         int64\n",
       "Purpose A40               int64\n",
       "Purpose A41               int64\n",
       "Purpose A42               int64\n",
       "Purpose A43               int64\n",
       "Purpose A44               int64\n",
       "Purpose A45               int64\n",
       "Purpose A46               int64\n",
       "Purpose A48               int64\n",
       "Purpose A49               int64\n",
       "Purpose A410              int64\n",
       "Savings A61               int64\n",
       "Savings A62               int64\n",
       "Savings A63               int64\n",
       "Savings A64               int64\n",
       "Savings A65               int64\n",
       "Employment A71            int64\n",
       "Employment A72            int64\n",
       "Employment A73            int64\n",
       "Employment A74            int64\n",
       "Employment A75            int64\n",
       "InstallmentRatePecnt    float64\n",
       "PresentResidenceTime    float64\n",
       "Property A121             int64\n",
       "Property A122             int64\n",
       "Property A123             int64\n",
       "Property A124             int64\n",
       "Age                     float64\n",
       "Telephone1                int64\n",
       "CreditScore               int64\n",
       "dtype: object"
      ]
     },
     "execution_count": 9,
     "metadata": {},
     "output_type": "execute_result"
    }
   ],
   "source": [
    "#Devuelve una serie con los tipos de datos de las columnas\n",
    "df.dtypes"
   ]
  },
  {
   "cell_type": "code",
   "execution_count": null,
   "metadata": {
    "cell_id": "5c1f840a76134b8296557d6e4620e49f",
    "deepnote_cell_type": "code",
    "deepnote_to_be_reexecuted": false,
    "execution_millis": 85,
    "execution_start": 1639498466908,
    "source_hash": "1617ca33",
    "tags": []
   },
   "outputs": [
    {
     "data": {
      "application/vnd.deepnote.dataframe.v2+json": {
       "column_count": 39,
       "columns": [
        {
         "dtype": "int64",
         "name": "CheckingAcctStat A11",
         "stats": {
          "histogram": [
           {
            "bin_end": 0.1,
            "bin_start": 0,
            "count": 3
           },
           {
            "bin_end": 0.2,
            "bin_start": 0.1,
            "count": 0
           },
           {
            "bin_end": 0.30000000000000004,
            "bin_start": 0.2,
            "count": 0
           },
           {
            "bin_end": 0.4,
            "bin_start": 0.30000000000000004,
            "count": 0
           },
           {
            "bin_end": 0.5,
            "bin_start": 0.4,
            "count": 0
           },
           {
            "bin_end": 0.6000000000000001,
            "bin_start": 0.5,
            "count": 0
           },
           {
            "bin_end": 0.7000000000000001,
            "bin_start": 0.6000000000000001,
            "count": 0
           },
           {
            "bin_end": 0.8,
            "bin_start": 0.7000000000000001,
            "count": 0
           },
           {
            "bin_end": 0.9,
            "bin_start": 0.8,
            "count": 0
           },
           {
            "bin_end": 1,
            "bin_start": 0.9,
            "count": 2
           }
          ],
          "max": "1",
          "min": "0",
          "nan_count": 0,
          "unique_count": 2
         }
        },
        {
         "dtype": "int64",
         "name": "CheckingAcctStat A12",
         "stats": {
          "histogram": [
           {
            "bin_end": -0.4,
            "bin_start": -0.5,
            "count": 0
           },
           {
            "bin_end": -0.3,
            "bin_start": -0.4,
            "count": 0
           },
           {
            "bin_end": -0.19999999999999996,
            "bin_start": -0.3,
            "count": 0
           },
           {
            "bin_end": -0.09999999999999998,
            "bin_start": -0.19999999999999996,
            "count": 0
           },
           {
            "bin_end": 0,
            "bin_start": -0.09999999999999998,
            "count": 0
           },
           {
            "bin_end": 0.10000000000000009,
            "bin_start": 0,
            "count": 5
           },
           {
            "bin_end": 0.20000000000000007,
            "bin_start": 0.10000000000000009,
            "count": 0
           },
           {
            "bin_end": 0.30000000000000004,
            "bin_start": 0.20000000000000007,
            "count": 0
           },
           {
            "bin_end": 0.4,
            "bin_start": 0.30000000000000004,
            "count": 0
           },
           {
            "bin_end": 0.5,
            "bin_start": 0.4,
            "count": 0
           }
          ],
          "max": "0",
          "min": "0",
          "nan_count": 0,
          "unique_count": 1
         }
        },
        {
         "dtype": "int64",
         "name": "CheckingAcctStat A13",
         "stats": {
          "histogram": [
           {
            "bin_end": 0.1,
            "bin_start": 0,
            "count": 4
           },
           {
            "bin_end": 0.2,
            "bin_start": 0.1,
            "count": 0
           },
           {
            "bin_end": 0.30000000000000004,
            "bin_start": 0.2,
            "count": 0
           },
           {
            "bin_end": 0.4,
            "bin_start": 0.30000000000000004,
            "count": 0
           },
           {
            "bin_end": 0.5,
            "bin_start": 0.4,
            "count": 0
           },
           {
            "bin_end": 0.6000000000000001,
            "bin_start": 0.5,
            "count": 0
           },
           {
            "bin_end": 0.7000000000000001,
            "bin_start": 0.6000000000000001,
            "count": 0
           },
           {
            "bin_end": 0.8,
            "bin_start": 0.7000000000000001,
            "count": 0
           },
           {
            "bin_end": 0.9,
            "bin_start": 0.8,
            "count": 0
           },
           {
            "bin_end": 1,
            "bin_start": 0.9,
            "count": 1
           }
          ],
          "max": "1",
          "min": "0",
          "nan_count": 0,
          "unique_count": 2
         }
        },
        {
         "dtype": "int64",
         "name": "CheckingAcctStat A14",
         "stats": {
          "histogram": [
           {
            "bin_end": 0.1,
            "bin_start": 0,
            "count": 3
           },
           {
            "bin_end": 0.2,
            "bin_start": 0.1,
            "count": 0
           },
           {
            "bin_end": 0.30000000000000004,
            "bin_start": 0.2,
            "count": 0
           },
           {
            "bin_end": 0.4,
            "bin_start": 0.30000000000000004,
            "count": 0
           },
           {
            "bin_end": 0.5,
            "bin_start": 0.4,
            "count": 0
           },
           {
            "bin_end": 0.6000000000000001,
            "bin_start": 0.5,
            "count": 0
           },
           {
            "bin_end": 0.7000000000000001,
            "bin_start": 0.6000000000000001,
            "count": 0
           },
           {
            "bin_end": 0.8,
            "bin_start": 0.7000000000000001,
            "count": 0
           },
           {
            "bin_end": 0.9,
            "bin_start": 0.8,
            "count": 0
           },
           {
            "bin_end": 1,
            "bin_start": 0.9,
            "count": 2
           }
          ],
          "max": "1",
          "min": "0",
          "nan_count": 0,
          "unique_count": 2
         }
        },
        {
         "dtype": "float64",
         "name": "Duration",
         "stats": {
          "histogram": [
           {
            "bin_end": 0.0911764709,
            "bin_start": 0.029411765,
            "count": 1
           },
           {
            "bin_end": 0.15294117680000002,
            "bin_start": 0.0911764709,
            "count": 0
           },
           {
            "bin_end": 0.21470588270000004,
            "bin_start": 0.15294117680000002,
            "count": 2
           },
           {
            "bin_end": 0.2764705886,
            "bin_start": 0.21470588270000004,
            "count": 0
           },
           {
            "bin_end": 0.3382352945,
            "bin_start": 0.2764705886,
            "count": 1
           },
           {
            "bin_end": 0.40000000040000006,
            "bin_start": 0.3382352945,
            "count": 0
           },
           {
            "bin_end": 0.46176470630000005,
            "bin_start": 0.40000000040000006,
            "count": 0
           },
           {
            "bin_end": 0.5235294122,
            "bin_start": 0.46176470630000005,
            "count": 0
           },
           {
            "bin_end": 0.5852941181000001,
            "bin_start": 0.5235294122,
            "count": 0
           },
           {
            "bin_end": 0.647058824,
            "bin_start": 0.5852941181000001,
            "count": 1
           }
          ],
          "max": "0.647058824",
          "min": "0.029411765",
          "nan_count": 0,
          "unique_count": 4
         }
        },
        {
         "dtype": "int64",
         "name": "CreditHistory A30",
         "stats": {
          "histogram": [
           {
            "bin_end": -0.4,
            "bin_start": -0.5,
            "count": 0
           },
           {
            "bin_end": -0.3,
            "bin_start": -0.4,
            "count": 0
           },
           {
            "bin_end": -0.19999999999999996,
            "bin_start": -0.3,
            "count": 0
           },
           {
            "bin_end": -0.09999999999999998,
            "bin_start": -0.19999999999999996,
            "count": 0
           },
           {
            "bin_end": 0,
            "bin_start": -0.09999999999999998,
            "count": 0
           },
           {
            "bin_end": 0.10000000000000009,
            "bin_start": 0,
            "count": 5
           },
           {
            "bin_end": 0.20000000000000007,
            "bin_start": 0.10000000000000009,
            "count": 0
           },
           {
            "bin_end": 0.30000000000000004,
            "bin_start": 0.20000000000000007,
            "count": 0
           },
           {
            "bin_end": 0.4,
            "bin_start": 0.30000000000000004,
            "count": 0
           },
           {
            "bin_end": 0.5,
            "bin_start": 0.4,
            "count": 0
           }
          ],
          "max": "0",
          "min": "0",
          "nan_count": 0,
          "unique_count": 1
         }
        },
        {
         "dtype": "int64",
         "name": "CreditHistory A31",
         "stats": {
          "histogram": [
           {
            "bin_end": -0.4,
            "bin_start": -0.5,
            "count": 0
           },
           {
            "bin_end": -0.3,
            "bin_start": -0.4,
            "count": 0
           },
           {
            "bin_end": -0.19999999999999996,
            "bin_start": -0.3,
            "count": 0
           },
           {
            "bin_end": -0.09999999999999998,
            "bin_start": -0.19999999999999996,
            "count": 0
           },
           {
            "bin_end": 0,
            "bin_start": -0.09999999999999998,
            "count": 0
           },
           {
            "bin_end": 0.10000000000000009,
            "bin_start": 0,
            "count": 5
           },
           {
            "bin_end": 0.20000000000000007,
            "bin_start": 0.10000000000000009,
            "count": 0
           },
           {
            "bin_end": 0.30000000000000004,
            "bin_start": 0.20000000000000007,
            "count": 0
           },
           {
            "bin_end": 0.4,
            "bin_start": 0.30000000000000004,
            "count": 0
           },
           {
            "bin_end": 0.5,
            "bin_start": 0.4,
            "count": 0
           }
          ],
          "max": "0",
          "min": "0",
          "nan_count": 0,
          "unique_count": 1
         }
        },
        {
         "dtype": "int64",
         "name": "CreditHistory A32",
         "stats": {
          "histogram": [
           {
            "bin_end": 0.1,
            "bin_start": 0,
            "count": 1
           },
           {
            "bin_end": 0.2,
            "bin_start": 0.1,
            "count": 0
           },
           {
            "bin_end": 0.30000000000000004,
            "bin_start": 0.2,
            "count": 0
           },
           {
            "bin_end": 0.4,
            "bin_start": 0.30000000000000004,
            "count": 0
           },
           {
            "bin_end": 0.5,
            "bin_start": 0.4,
            "count": 0
           },
           {
            "bin_end": 0.6000000000000001,
            "bin_start": 0.5,
            "count": 0
           },
           {
            "bin_end": 0.7000000000000001,
            "bin_start": 0.6000000000000001,
            "count": 0
           },
           {
            "bin_end": 0.8,
            "bin_start": 0.7000000000000001,
            "count": 0
           },
           {
            "bin_end": 0.9,
            "bin_start": 0.8,
            "count": 0
           },
           {
            "bin_end": 1,
            "bin_start": 0.9,
            "count": 4
           }
          ],
          "max": "1",
          "min": "0",
          "nan_count": 0,
          "unique_count": 2
         }
        },
        {
         "dtype": "int64",
         "name": "CreditHistory A33",
         "stats": {
          "histogram": [
           {
            "bin_end": 0.1,
            "bin_start": 0,
            "count": 4
           },
           {
            "bin_end": 0.2,
            "bin_start": 0.1,
            "count": 0
           },
           {
            "bin_end": 0.30000000000000004,
            "bin_start": 0.2,
            "count": 0
           },
           {
            "bin_end": 0.4,
            "bin_start": 0.30000000000000004,
            "count": 0
           },
           {
            "bin_end": 0.5,
            "bin_start": 0.4,
            "count": 0
           },
           {
            "bin_end": 0.6000000000000001,
            "bin_start": 0.5,
            "count": 0
           },
           {
            "bin_end": 0.7000000000000001,
            "bin_start": 0.6000000000000001,
            "count": 0
           },
           {
            "bin_end": 0.8,
            "bin_start": 0.7000000000000001,
            "count": 0
           },
           {
            "bin_end": 0.9,
            "bin_start": 0.8,
            "count": 0
           },
           {
            "bin_end": 1,
            "bin_start": 0.9,
            "count": 1
           }
          ],
          "max": "1",
          "min": "0",
          "nan_count": 0,
          "unique_count": 2
         }
        },
        {
         "dtype": "int64",
         "name": "CreditHistory A34",
         "stats": {
          "histogram": [
           {
            "bin_end": -0.4,
            "bin_start": -0.5,
            "count": 0
           },
           {
            "bin_end": -0.3,
            "bin_start": -0.4,
            "count": 0
           },
           {
            "bin_end": -0.19999999999999996,
            "bin_start": -0.3,
            "count": 0
           },
           {
            "bin_end": -0.09999999999999998,
            "bin_start": -0.19999999999999996,
            "count": 0
           },
           {
            "bin_end": 0,
            "bin_start": -0.09999999999999998,
            "count": 0
           },
           {
            "bin_end": 0.10000000000000009,
            "bin_start": 0,
            "count": 5
           },
           {
            "bin_end": 0.20000000000000007,
            "bin_start": 0.10000000000000009,
            "count": 0
           },
           {
            "bin_end": 0.30000000000000004,
            "bin_start": 0.20000000000000007,
            "count": 0
           },
           {
            "bin_end": 0.4,
            "bin_start": 0.30000000000000004,
            "count": 0
           },
           {
            "bin_end": 0.5,
            "bin_start": 0.4,
            "count": 0
           }
          ],
          "max": "0",
          "min": "0",
          "nan_count": 0,
          "unique_count": 1
         }
        },
        {
         "dtype": "int64",
         "name": "Purpose A40",
         "stats": {
          "histogram": [
           {
            "bin_end": -0.4,
            "bin_start": -0.5,
            "count": 0
           },
           {
            "bin_end": -0.3,
            "bin_start": -0.4,
            "count": 0
           },
           {
            "bin_end": -0.19999999999999996,
            "bin_start": -0.3,
            "count": 0
           },
           {
            "bin_end": -0.09999999999999998,
            "bin_start": -0.19999999999999996,
            "count": 0
           },
           {
            "bin_end": 0,
            "bin_start": -0.09999999999999998,
            "count": 0
           },
           {
            "bin_end": 0.10000000000000009,
            "bin_start": 0,
            "count": 5
           },
           {
            "bin_end": 0.20000000000000007,
            "bin_start": 0.10000000000000009,
            "count": 0
           },
           {
            "bin_end": 0.30000000000000004,
            "bin_start": 0.20000000000000007,
            "count": 0
           },
           {
            "bin_end": 0.4,
            "bin_start": 0.30000000000000004,
            "count": 0
           },
           {
            "bin_end": 0.5,
            "bin_start": 0.4,
            "count": 0
           }
          ],
          "max": "0",
          "min": "0",
          "nan_count": 0,
          "unique_count": 1
         }
        },
        {
         "dtype": "int64",
         "name": "Purpose A41",
         "stats": {
          "histogram": [
           {
            "bin_end": -0.4,
            "bin_start": -0.5,
            "count": 0
           },
           {
            "bin_end": -0.3,
            "bin_start": -0.4,
            "count": 0
           },
           {
            "bin_end": -0.19999999999999996,
            "bin_start": -0.3,
            "count": 0
           },
           {
            "bin_end": -0.09999999999999998,
            "bin_start": -0.19999999999999996,
            "count": 0
           },
           {
            "bin_end": 0,
            "bin_start": -0.09999999999999998,
            "count": 0
           },
           {
            "bin_end": 0.10000000000000009,
            "bin_start": 0,
            "count": 5
           },
           {
            "bin_end": 0.20000000000000007,
            "bin_start": 0.10000000000000009,
            "count": 0
           },
           {
            "bin_end": 0.30000000000000004,
            "bin_start": 0.20000000000000007,
            "count": 0
           },
           {
            "bin_end": 0.4,
            "bin_start": 0.30000000000000004,
            "count": 0
           },
           {
            "bin_end": 0.5,
            "bin_start": 0.4,
            "count": 0
           }
          ],
          "max": "0",
          "min": "0",
          "nan_count": 0,
          "unique_count": 1
         }
        },
        {
         "dtype": "int64",
         "name": "Purpose A42",
         "stats": {
          "histogram": [
           {
            "bin_end": -0.4,
            "bin_start": -0.5,
            "count": 0
           },
           {
            "bin_end": -0.3,
            "bin_start": -0.4,
            "count": 0
           },
           {
            "bin_end": -0.19999999999999996,
            "bin_start": -0.3,
            "count": 0
           },
           {
            "bin_end": -0.09999999999999998,
            "bin_start": -0.19999999999999996,
            "count": 0
           },
           {
            "bin_end": 0,
            "bin_start": -0.09999999999999998,
            "count": 0
           },
           {
            "bin_end": 0.10000000000000009,
            "bin_start": 0,
            "count": 5
           },
           {
            "bin_end": 0.20000000000000007,
            "bin_start": 0.10000000000000009,
            "count": 0
           },
           {
            "bin_end": 0.30000000000000004,
            "bin_start": 0.20000000000000007,
            "count": 0
           },
           {
            "bin_end": 0.4,
            "bin_start": 0.30000000000000004,
            "count": 0
           },
           {
            "bin_end": 0.5,
            "bin_start": 0.4,
            "count": 0
           }
          ],
          "max": "0",
          "min": "0",
          "nan_count": 0,
          "unique_count": 1
         }
        },
        {
         "dtype": "int64",
         "name": "Purpose A43",
         "stats": {
          "histogram": [
           {
            "bin_end": -0.4,
            "bin_start": -0.5,
            "count": 0
           },
           {
            "bin_end": -0.3,
            "bin_start": -0.4,
            "count": 0
           },
           {
            "bin_end": -0.19999999999999996,
            "bin_start": -0.3,
            "count": 0
           },
           {
            "bin_end": -0.09999999999999998,
            "bin_start": -0.19999999999999996,
            "count": 0
           },
           {
            "bin_end": 0,
            "bin_start": -0.09999999999999998,
            "count": 0
           },
           {
            "bin_end": 0.10000000000000009,
            "bin_start": 0,
            "count": 5
           },
           {
            "bin_end": 0.20000000000000007,
            "bin_start": 0.10000000000000009,
            "count": 0
           },
           {
            "bin_end": 0.30000000000000004,
            "bin_start": 0.20000000000000007,
            "count": 0
           },
           {
            "bin_end": 0.4,
            "bin_start": 0.30000000000000004,
            "count": 0
           },
           {
            "bin_end": 0.5,
            "bin_start": 0.4,
            "count": 0
           }
          ],
          "max": "0",
          "min": "0",
          "nan_count": 0,
          "unique_count": 1
         }
        },
        {
         "dtype": "int64",
         "name": "Purpose A44",
         "stats": {
          "histogram": [
           {
            "bin_end": 0.6,
            "bin_start": 0.5,
            "count": 0
           },
           {
            "bin_end": 0.7,
            "bin_start": 0.6,
            "count": 0
           },
           {
            "bin_end": 0.8,
            "bin_start": 0.7,
            "count": 0
           },
           {
            "bin_end": 0.9,
            "bin_start": 0.8,
            "count": 0
           },
           {
            "bin_end": 1,
            "bin_start": 0.9,
            "count": 0
           },
           {
            "bin_end": 1.1,
            "bin_start": 1,
            "count": 5
           },
           {
            "bin_end": 1.2000000000000002,
            "bin_start": 1.1,
            "count": 0
           },
           {
            "bin_end": 1.3,
            "bin_start": 1.2000000000000002,
            "count": 0
           },
           {
            "bin_end": 1.4,
            "bin_start": 1.3,
            "count": 0
           },
           {
            "bin_end": 1.5,
            "bin_start": 1.4,
            "count": 0
           }
          ],
          "max": "1",
          "min": "1",
          "nan_count": 0,
          "unique_count": 1
         }
        },
        {
         "dtype": "int64",
         "name": "Purpose A45",
         "stats": {
          "histogram": [
           {
            "bin_end": -0.4,
            "bin_start": -0.5,
            "count": 0
           },
           {
            "bin_end": -0.3,
            "bin_start": -0.4,
            "count": 0
           },
           {
            "bin_end": -0.19999999999999996,
            "bin_start": -0.3,
            "count": 0
           },
           {
            "bin_end": -0.09999999999999998,
            "bin_start": -0.19999999999999996,
            "count": 0
           },
           {
            "bin_end": 0,
            "bin_start": -0.09999999999999998,
            "count": 0
           },
           {
            "bin_end": 0.10000000000000009,
            "bin_start": 0,
            "count": 5
           },
           {
            "bin_end": 0.20000000000000007,
            "bin_start": 0.10000000000000009,
            "count": 0
           },
           {
            "bin_end": 0.30000000000000004,
            "bin_start": 0.20000000000000007,
            "count": 0
           },
           {
            "bin_end": 0.4,
            "bin_start": 0.30000000000000004,
            "count": 0
           },
           {
            "bin_end": 0.5,
            "bin_start": 0.4,
            "count": 0
           }
          ],
          "max": "0",
          "min": "0",
          "nan_count": 0,
          "unique_count": 1
         }
        },
        {
         "dtype": "int64",
         "name": "Purpose A46",
         "stats": {
          "histogram": [
           {
            "bin_end": -0.4,
            "bin_start": -0.5,
            "count": 0
           },
           {
            "bin_end": -0.3,
            "bin_start": -0.4,
            "count": 0
           },
           {
            "bin_end": -0.19999999999999996,
            "bin_start": -0.3,
            "count": 0
           },
           {
            "bin_end": -0.09999999999999998,
            "bin_start": -0.19999999999999996,
            "count": 0
           },
           {
            "bin_end": 0,
            "bin_start": -0.09999999999999998,
            "count": 0
           },
           {
            "bin_end": 0.10000000000000009,
            "bin_start": 0,
            "count": 5
           },
           {
            "bin_end": 0.20000000000000007,
            "bin_start": 0.10000000000000009,
            "count": 0
           },
           {
            "bin_end": 0.30000000000000004,
            "bin_start": 0.20000000000000007,
            "count": 0
           },
           {
            "bin_end": 0.4,
            "bin_start": 0.30000000000000004,
            "count": 0
           },
           {
            "bin_end": 0.5,
            "bin_start": 0.4,
            "count": 0
           }
          ],
          "max": "0",
          "min": "0",
          "nan_count": 0,
          "unique_count": 1
         }
        },
        {
         "dtype": "int64",
         "name": "Purpose A48",
         "stats": {
          "histogram": [
           {
            "bin_end": -0.4,
            "bin_start": -0.5,
            "count": 0
           },
           {
            "bin_end": -0.3,
            "bin_start": -0.4,
            "count": 0
           },
           {
            "bin_end": -0.19999999999999996,
            "bin_start": -0.3,
            "count": 0
           },
           {
            "bin_end": -0.09999999999999998,
            "bin_start": -0.19999999999999996,
            "count": 0
           },
           {
            "bin_end": 0,
            "bin_start": -0.09999999999999998,
            "count": 0
           },
           {
            "bin_end": 0.10000000000000009,
            "bin_start": 0,
            "count": 5
           },
           {
            "bin_end": 0.20000000000000007,
            "bin_start": 0.10000000000000009,
            "count": 0
           },
           {
            "bin_end": 0.30000000000000004,
            "bin_start": 0.20000000000000007,
            "count": 0
           },
           {
            "bin_end": 0.4,
            "bin_start": 0.30000000000000004,
            "count": 0
           },
           {
            "bin_end": 0.5,
            "bin_start": 0.4,
            "count": 0
           }
          ],
          "max": "0",
          "min": "0",
          "nan_count": 0,
          "unique_count": 1
         }
        },
        {
         "dtype": "int64",
         "name": "Purpose A49",
         "stats": {
          "histogram": [
           {
            "bin_end": -0.4,
            "bin_start": -0.5,
            "count": 0
           },
           {
            "bin_end": -0.3,
            "bin_start": -0.4,
            "count": 0
           },
           {
            "bin_end": -0.19999999999999996,
            "bin_start": -0.3,
            "count": 0
           },
           {
            "bin_end": -0.09999999999999998,
            "bin_start": -0.19999999999999996,
            "count": 0
           },
           {
            "bin_end": 0,
            "bin_start": -0.09999999999999998,
            "count": 0
           },
           {
            "bin_end": 0.10000000000000009,
            "bin_start": 0,
            "count": 5
           },
           {
            "bin_end": 0.20000000000000007,
            "bin_start": 0.10000000000000009,
            "count": 0
           },
           {
            "bin_end": 0.30000000000000004,
            "bin_start": 0.20000000000000007,
            "count": 0
           },
           {
            "bin_end": 0.4,
            "bin_start": 0.30000000000000004,
            "count": 0
           },
           {
            "bin_end": 0.5,
            "bin_start": 0.4,
            "count": 0
           }
          ],
          "max": "0",
          "min": "0",
          "nan_count": 0,
          "unique_count": 1
         }
        },
        {
         "dtype": "int64",
         "name": "Purpose A410",
         "stats": {
          "histogram": [
           {
            "bin_end": -0.4,
            "bin_start": -0.5,
            "count": 0
           },
           {
            "bin_end": -0.3,
            "bin_start": -0.4,
            "count": 0
           },
           {
            "bin_end": -0.19999999999999996,
            "bin_start": -0.3,
            "count": 0
           },
           {
            "bin_end": -0.09999999999999998,
            "bin_start": -0.19999999999999996,
            "count": 0
           },
           {
            "bin_end": 0,
            "bin_start": -0.09999999999999998,
            "count": 0
           },
           {
            "bin_end": 0.10000000000000009,
            "bin_start": 0,
            "count": 5
           },
           {
            "bin_end": 0.20000000000000007,
            "bin_start": 0.10000000000000009,
            "count": 0
           },
           {
            "bin_end": 0.30000000000000004,
            "bin_start": 0.20000000000000007,
            "count": 0
           },
           {
            "bin_end": 0.4,
            "bin_start": 0.30000000000000004,
            "count": 0
           },
           {
            "bin_end": 0.5,
            "bin_start": 0.4,
            "count": 0
           }
          ],
          "max": "0",
          "min": "0",
          "nan_count": 0,
          "unique_count": 1
         }
        },
        {
         "dtype": "int64",
         "name": "Savings A61",
         "stats": {
          "histogram": [
           {
            "bin_end": 0.1,
            "bin_start": 0,
            "count": 1
           },
           {
            "bin_end": 0.2,
            "bin_start": 0.1,
            "count": 0
           },
           {
            "bin_end": 0.30000000000000004,
            "bin_start": 0.2,
            "count": 0
           },
           {
            "bin_end": 0.4,
            "bin_start": 0.30000000000000004,
            "count": 0
           },
           {
            "bin_end": 0.5,
            "bin_start": 0.4,
            "count": 0
           },
           {
            "bin_end": 0.6000000000000001,
            "bin_start": 0.5,
            "count": 0
           },
           {
            "bin_end": 0.7000000000000001,
            "bin_start": 0.6000000000000001,
            "count": 0
           },
           {
            "bin_end": 0.8,
            "bin_start": 0.7000000000000001,
            "count": 0
           },
           {
            "bin_end": 0.9,
            "bin_start": 0.8,
            "count": 0
           },
           {
            "bin_end": 1,
            "bin_start": 0.9,
            "count": 4
           }
          ],
          "max": "1",
          "min": "0",
          "nan_count": 0,
          "unique_count": 2
         }
        },
        {
         "dtype": "int64",
         "name": "Savings A62",
         "stats": {
          "histogram": [
           {
            "bin_end": 0.1,
            "bin_start": 0,
            "count": 4
           },
           {
            "bin_end": 0.2,
            "bin_start": 0.1,
            "count": 0
           },
           {
            "bin_end": 0.30000000000000004,
            "bin_start": 0.2,
            "count": 0
           },
           {
            "bin_end": 0.4,
            "bin_start": 0.30000000000000004,
            "count": 0
           },
           {
            "bin_end": 0.5,
            "bin_start": 0.4,
            "count": 0
           },
           {
            "bin_end": 0.6000000000000001,
            "bin_start": 0.5,
            "count": 0
           },
           {
            "bin_end": 0.7000000000000001,
            "bin_start": 0.6000000000000001,
            "count": 0
           },
           {
            "bin_end": 0.8,
            "bin_start": 0.7000000000000001,
            "count": 0
           },
           {
            "bin_end": 0.9,
            "bin_start": 0.8,
            "count": 0
           },
           {
            "bin_end": 1,
            "bin_start": 0.9,
            "count": 1
           }
          ],
          "max": "1",
          "min": "0",
          "nan_count": 0,
          "unique_count": 2
         }
        },
        {
         "dtype": "int64",
         "name": "Savings A63",
         "stats": {
          "histogram": [
           {
            "bin_end": -0.4,
            "bin_start": -0.5,
            "count": 0
           },
           {
            "bin_end": -0.3,
            "bin_start": -0.4,
            "count": 0
           },
           {
            "bin_end": -0.19999999999999996,
            "bin_start": -0.3,
            "count": 0
           },
           {
            "bin_end": -0.09999999999999998,
            "bin_start": -0.19999999999999996,
            "count": 0
           },
           {
            "bin_end": 0,
            "bin_start": -0.09999999999999998,
            "count": 0
           },
           {
            "bin_end": 0.10000000000000009,
            "bin_start": 0,
            "count": 5
           },
           {
            "bin_end": 0.20000000000000007,
            "bin_start": 0.10000000000000009,
            "count": 0
           },
           {
            "bin_end": 0.30000000000000004,
            "bin_start": 0.20000000000000007,
            "count": 0
           },
           {
            "bin_end": 0.4,
            "bin_start": 0.30000000000000004,
            "count": 0
           },
           {
            "bin_end": 0.5,
            "bin_start": 0.4,
            "count": 0
           }
          ],
          "max": "0",
          "min": "0",
          "nan_count": 0,
          "unique_count": 1
         }
        },
        {
         "dtype": "int64",
         "name": "Savings A64",
         "stats": {
          "histogram": [
           {
            "bin_end": -0.4,
            "bin_start": -0.5,
            "count": 0
           },
           {
            "bin_end": -0.3,
            "bin_start": -0.4,
            "count": 0
           },
           {
            "bin_end": -0.19999999999999996,
            "bin_start": -0.3,
            "count": 0
           },
           {
            "bin_end": -0.09999999999999998,
            "bin_start": -0.19999999999999996,
            "count": 0
           },
           {
            "bin_end": 0,
            "bin_start": -0.09999999999999998,
            "count": 0
           },
           {
            "bin_end": 0.10000000000000009,
            "bin_start": 0,
            "count": 5
           },
           {
            "bin_end": 0.20000000000000007,
            "bin_start": 0.10000000000000009,
            "count": 0
           },
           {
            "bin_end": 0.30000000000000004,
            "bin_start": 0.20000000000000007,
            "count": 0
           },
           {
            "bin_end": 0.4,
            "bin_start": 0.30000000000000004,
            "count": 0
           },
           {
            "bin_end": 0.5,
            "bin_start": 0.4,
            "count": 0
           }
          ],
          "max": "0",
          "min": "0",
          "nan_count": 0,
          "unique_count": 1
         }
        },
        {
         "dtype": "int64",
         "name": "Savings A65",
         "stats": {
          "histogram": [
           {
            "bin_end": -0.4,
            "bin_start": -0.5,
            "count": 0
           },
           {
            "bin_end": -0.3,
            "bin_start": -0.4,
            "count": 0
           },
           {
            "bin_end": -0.19999999999999996,
            "bin_start": -0.3,
            "count": 0
           },
           {
            "bin_end": -0.09999999999999998,
            "bin_start": -0.19999999999999996,
            "count": 0
           },
           {
            "bin_end": 0,
            "bin_start": -0.09999999999999998,
            "count": 0
           },
           {
            "bin_end": 0.10000000000000009,
            "bin_start": 0,
            "count": 5
           },
           {
            "bin_end": 0.20000000000000007,
            "bin_start": 0.10000000000000009,
            "count": 0
           },
           {
            "bin_end": 0.30000000000000004,
            "bin_start": 0.20000000000000007,
            "count": 0
           },
           {
            "bin_end": 0.4,
            "bin_start": 0.30000000000000004,
            "count": 0
           },
           {
            "bin_end": 0.5,
            "bin_start": 0.4,
            "count": 0
           }
          ],
          "max": "0",
          "min": "0",
          "nan_count": 0,
          "unique_count": 1
         }
        },
        {
         "dtype": "int64",
         "name": "Employment A71",
         "stats": {
          "histogram": [
           {
            "bin_end": -0.4,
            "bin_start": -0.5,
            "count": 0
           },
           {
            "bin_end": -0.3,
            "bin_start": -0.4,
            "count": 0
           },
           {
            "bin_end": -0.19999999999999996,
            "bin_start": -0.3,
            "count": 0
           },
           {
            "bin_end": -0.09999999999999998,
            "bin_start": -0.19999999999999996,
            "count": 0
           },
           {
            "bin_end": 0,
            "bin_start": -0.09999999999999998,
            "count": 0
           },
           {
            "bin_end": 0.10000000000000009,
            "bin_start": 0,
            "count": 5
           },
           {
            "bin_end": 0.20000000000000007,
            "bin_start": 0.10000000000000009,
            "count": 0
           },
           {
            "bin_end": 0.30000000000000004,
            "bin_start": 0.20000000000000007,
            "count": 0
           },
           {
            "bin_end": 0.4,
            "bin_start": 0.30000000000000004,
            "count": 0
           },
           {
            "bin_end": 0.5,
            "bin_start": 0.4,
            "count": 0
           }
          ],
          "max": "0",
          "min": "0",
          "nan_count": 0,
          "unique_count": 1
         }
        },
        {
         "dtype": "int64",
         "name": "Employment A72",
         "stats": {
          "histogram": [
           {
            "bin_end": 0.1,
            "bin_start": 0,
            "count": 4
           },
           {
            "bin_end": 0.2,
            "bin_start": 0.1,
            "count": 0
           },
           {
            "bin_end": 0.30000000000000004,
            "bin_start": 0.2,
            "count": 0
           },
           {
            "bin_end": 0.4,
            "bin_start": 0.30000000000000004,
            "count": 0
           },
           {
            "bin_end": 0.5,
            "bin_start": 0.4,
            "count": 0
           },
           {
            "bin_end": 0.6000000000000001,
            "bin_start": 0.5,
            "count": 0
           },
           {
            "bin_end": 0.7000000000000001,
            "bin_start": 0.6000000000000001,
            "count": 0
           },
           {
            "bin_end": 0.8,
            "bin_start": 0.7000000000000001,
            "count": 0
           },
           {
            "bin_end": 0.9,
            "bin_start": 0.8,
            "count": 0
           },
           {
            "bin_end": 1,
            "bin_start": 0.9,
            "count": 1
           }
          ],
          "max": "1",
          "min": "0",
          "nan_count": 0,
          "unique_count": 2
         }
        },
        {
         "dtype": "int64",
         "name": "Employment A73",
         "stats": {
          "histogram": [
           {
            "bin_end": 0.1,
            "bin_start": 0,
            "count": 2
           },
           {
            "bin_end": 0.2,
            "bin_start": 0.1,
            "count": 0
           },
           {
            "bin_end": 0.30000000000000004,
            "bin_start": 0.2,
            "count": 0
           },
           {
            "bin_end": 0.4,
            "bin_start": 0.30000000000000004,
            "count": 0
           },
           {
            "bin_end": 0.5,
            "bin_start": 0.4,
            "count": 0
           },
           {
            "bin_end": 0.6000000000000001,
            "bin_start": 0.5,
            "count": 0
           },
           {
            "bin_end": 0.7000000000000001,
            "bin_start": 0.6000000000000001,
            "count": 0
           },
           {
            "bin_end": 0.8,
            "bin_start": 0.7000000000000001,
            "count": 0
           },
           {
            "bin_end": 0.9,
            "bin_start": 0.8,
            "count": 0
           },
           {
            "bin_end": 1,
            "bin_start": 0.9,
            "count": 3
           }
          ],
          "max": "1",
          "min": "0",
          "nan_count": 0,
          "unique_count": 2
         }
        },
        {
         "dtype": "int64",
         "name": "Employment A74",
         "stats": {
          "histogram": [
           {
            "bin_end": 0.1,
            "bin_start": 0,
            "count": 4
           },
           {
            "bin_end": 0.2,
            "bin_start": 0.1,
            "count": 0
           },
           {
            "bin_end": 0.30000000000000004,
            "bin_start": 0.2,
            "count": 0
           },
           {
            "bin_end": 0.4,
            "bin_start": 0.30000000000000004,
            "count": 0
           },
           {
            "bin_end": 0.5,
            "bin_start": 0.4,
            "count": 0
           },
           {
            "bin_end": 0.6000000000000001,
            "bin_start": 0.5,
            "count": 0
           },
           {
            "bin_end": 0.7000000000000001,
            "bin_start": 0.6000000000000001,
            "count": 0
           },
           {
            "bin_end": 0.8,
            "bin_start": 0.7000000000000001,
            "count": 0
           },
           {
            "bin_end": 0.9,
            "bin_start": 0.8,
            "count": 0
           },
           {
            "bin_end": 1,
            "bin_start": 0.9,
            "count": 1
           }
          ],
          "max": "1",
          "min": "0",
          "nan_count": 0,
          "unique_count": 2
         }
        },
        {
         "dtype": "int64",
         "name": "Employment A75",
         "stats": {
          "histogram": [
           {
            "bin_end": -0.4,
            "bin_start": -0.5,
            "count": 0
           },
           {
            "bin_end": -0.3,
            "bin_start": -0.4,
            "count": 0
           },
           {
            "bin_end": -0.19999999999999996,
            "bin_start": -0.3,
            "count": 0
           },
           {
            "bin_end": -0.09999999999999998,
            "bin_start": -0.19999999999999996,
            "count": 0
           },
           {
            "bin_end": 0,
            "bin_start": -0.09999999999999998,
            "count": 0
           },
           {
            "bin_end": 0.10000000000000009,
            "bin_start": 0,
            "count": 5
           },
           {
            "bin_end": 0.20000000000000007,
            "bin_start": 0.10000000000000009,
            "count": 0
           },
           {
            "bin_end": 0.30000000000000004,
            "bin_start": 0.20000000000000007,
            "count": 0
           },
           {
            "bin_end": 0.4,
            "bin_start": 0.30000000000000004,
            "count": 0
           },
           {
            "bin_end": 0.5,
            "bin_start": 0.4,
            "count": 0
           }
          ],
          "max": "0",
          "min": "0",
          "nan_count": 0,
          "unique_count": 1
         }
        },
        {
         "dtype": "float64",
         "name": "InstallmentRatePecnt",
         "stats": {
          "histogram": [
           {
            "bin_end": 0.3999999997,
            "bin_start": 0.333333333,
            "count": 2
           },
           {
            "bin_end": 0.4666666664,
            "bin_start": 0.3999999997,
            "count": 0
           },
           {
            "bin_end": 0.5333333331000001,
            "bin_start": 0.4666666664,
            "count": 0
           },
           {
            "bin_end": 0.5999999998000001,
            "bin_start": 0.5333333331000001,
            "count": 0
           },
           {
            "bin_end": 0.6666666665000001,
            "bin_start": 0.5999999998000001,
            "count": 0
           },
           {
            "bin_end": 0.7333333332,
            "bin_start": 0.6666666665000001,
            "count": 1
           },
           {
            "bin_end": 0.7999999999,
            "bin_start": 0.7333333332,
            "count": 0
           },
           {
            "bin_end": 0.8666666666,
            "bin_start": 0.7999999999,
            "count": 0
           },
           {
            "bin_end": 0.9333333333,
            "bin_start": 0.8666666666,
            "count": 0
           },
           {
            "bin_end": 1,
            "bin_start": 0.9333333333,
            "count": 2
           }
          ],
          "max": "1.0",
          "min": "0.333333333",
          "nan_count": 0,
          "unique_count": 3
         }
        },
        {
         "dtype": "float64",
         "name": "PresentResidenceTime",
         "stats": {
          "histogram": [
           {
            "bin_end": 0.0666666667,
            "bin_start": 0,
            "count": 1
           },
           {
            "bin_end": 0.1333333334,
            "bin_start": 0.0666666667,
            "count": 0
           },
           {
            "bin_end": 0.20000000010000002,
            "bin_start": 0.1333333334,
            "count": 0
           },
           {
            "bin_end": 0.2666666668,
            "bin_start": 0.20000000010000002,
            "count": 0
           },
           {
            "bin_end": 0.3333333335,
            "bin_start": 0.2666666668,
            "count": 3
           },
           {
            "bin_end": 0.40000000020000004,
            "bin_start": 0.3333333335,
            "count": 0
           },
           {
            "bin_end": 0.4666666669,
            "bin_start": 0.40000000020000004,
            "count": 0
           },
           {
            "bin_end": 0.5333333336,
            "bin_start": 0.4666666669,
            "count": 0
           },
           {
            "bin_end": 0.6000000003,
            "bin_start": 0.5333333336,
            "count": 0
           },
           {
            "bin_end": 0.666666667,
            "bin_start": 0.6000000003,
            "count": 1
           }
          ],
          "max": "0.666666667",
          "min": "0.0",
          "nan_count": 0,
          "unique_count": 3
         }
        },
        {
         "dtype": "int64",
         "name": "Property A121",
         "stats": {
          "histogram": [
           {
            "bin_end": 0.1,
            "bin_start": 0,
            "count": 4
           },
           {
            "bin_end": 0.2,
            "bin_start": 0.1,
            "count": 0
           },
           {
            "bin_end": 0.30000000000000004,
            "bin_start": 0.2,
            "count": 0
           },
           {
            "bin_end": 0.4,
            "bin_start": 0.30000000000000004,
            "count": 0
           },
           {
            "bin_end": 0.5,
            "bin_start": 0.4,
            "count": 0
           },
           {
            "bin_end": 0.6000000000000001,
            "bin_start": 0.5,
            "count": 0
           },
           {
            "bin_end": 0.7000000000000001,
            "bin_start": 0.6000000000000001,
            "count": 0
           },
           {
            "bin_end": 0.8,
            "bin_start": 0.7000000000000001,
            "count": 0
           },
           {
            "bin_end": 0.9,
            "bin_start": 0.8,
            "count": 0
           },
           {
            "bin_end": 1,
            "bin_start": 0.9,
            "count": 1
           }
          ],
          "max": "1",
          "min": "0",
          "nan_count": 0,
          "unique_count": 2
         }
        },
        {
         "dtype": "int64",
         "name": "Property A122",
         "stats": {
          "histogram": [
           {
            "bin_end": 0.1,
            "bin_start": 0,
            "count": 3
           },
           {
            "bin_end": 0.2,
            "bin_start": 0.1,
            "count": 0
           },
           {
            "bin_end": 0.30000000000000004,
            "bin_start": 0.2,
            "count": 0
           },
           {
            "bin_end": 0.4,
            "bin_start": 0.30000000000000004,
            "count": 0
           },
           {
            "bin_end": 0.5,
            "bin_start": 0.4,
            "count": 0
           },
           {
            "bin_end": 0.6000000000000001,
            "bin_start": 0.5,
            "count": 0
           },
           {
            "bin_end": 0.7000000000000001,
            "bin_start": 0.6000000000000001,
            "count": 0
           },
           {
            "bin_end": 0.8,
            "bin_start": 0.7000000000000001,
            "count": 0
           },
           {
            "bin_end": 0.9,
            "bin_start": 0.8,
            "count": 0
           },
           {
            "bin_end": 1,
            "bin_start": 0.9,
            "count": 2
           }
          ],
          "max": "1",
          "min": "0",
          "nan_count": 0,
          "unique_count": 2
         }
        },
        {
         "dtype": "int64",
         "name": "Property A123",
         "stats": {
          "histogram": [
           {
            "bin_end": 0.1,
            "bin_start": 0,
            "count": 4
           },
           {
            "bin_end": 0.2,
            "bin_start": 0.1,
            "count": 0
           },
           {
            "bin_end": 0.30000000000000004,
            "bin_start": 0.2,
            "count": 0
           },
           {
            "bin_end": 0.4,
            "bin_start": 0.30000000000000004,
            "count": 0
           },
           {
            "bin_end": 0.5,
            "bin_start": 0.4,
            "count": 0
           },
           {
            "bin_end": 0.6000000000000001,
            "bin_start": 0.5,
            "count": 0
           },
           {
            "bin_end": 0.7000000000000001,
            "bin_start": 0.6000000000000001,
            "count": 0
           },
           {
            "bin_end": 0.8,
            "bin_start": 0.7000000000000001,
            "count": 0
           },
           {
            "bin_end": 0.9,
            "bin_start": 0.8,
            "count": 0
           },
           {
            "bin_end": 1,
            "bin_start": 0.9,
            "count": 1
           }
          ],
          "max": "1",
          "min": "0",
          "nan_count": 0,
          "unique_count": 2
         }
        },
        {
         "dtype": "int64",
         "name": "Property A124",
         "stats": {
          "histogram": [
           {
            "bin_end": 0.1,
            "bin_start": 0,
            "count": 4
           },
           {
            "bin_end": 0.2,
            "bin_start": 0.1,
            "count": 0
           },
           {
            "bin_end": 0.30000000000000004,
            "bin_start": 0.2,
            "count": 0
           },
           {
            "bin_end": 0.4,
            "bin_start": 0.30000000000000004,
            "count": 0
           },
           {
            "bin_end": 0.5,
            "bin_start": 0.4,
            "count": 0
           },
           {
            "bin_end": 0.6000000000000001,
            "bin_start": 0.5,
            "count": 0
           },
           {
            "bin_end": 0.7000000000000001,
            "bin_start": 0.6000000000000001,
            "count": 0
           },
           {
            "bin_end": 0.8,
            "bin_start": 0.7000000000000001,
            "count": 0
           },
           {
            "bin_end": 0.9,
            "bin_start": 0.8,
            "count": 0
           },
           {
            "bin_end": 1,
            "bin_start": 0.9,
            "count": 1
           }
          ],
          "max": "1",
          "min": "0",
          "nan_count": 0,
          "unique_count": 2
         }
        },
        {
         "dtype": "float64",
         "name": "Age",
         "stats": {
          "histogram": [
           {
            "bin_end": 0.1035714283,
            "bin_start": 0.089285714,
            "count": 1
           },
           {
            "bin_end": 0.1178571426,
            "bin_start": 0.1035714283,
            "count": 0
           },
           {
            "bin_end": 0.1321428569,
            "bin_start": 0.1178571426,
            "count": 1
           },
           {
            "bin_end": 0.14642857120000002,
            "bin_start": 0.1321428569,
            "count": 0
           },
           {
            "bin_end": 0.1607142855,
            "bin_start": 0.14642857120000002,
            "count": 0
           },
           {
            "bin_end": 0.17499999980000003,
            "bin_start": 0.1607142855,
            "count": 0
           },
           {
            "bin_end": 0.1892857141,
            "bin_start": 0.17499999980000003,
            "count": 1
           },
           {
            "bin_end": 0.20357142840000003,
            "bin_start": 0.1892857141,
            "count": 0
           },
           {
            "bin_end": 0.2178571427,
            "bin_start": 0.20357142840000003,
            "count": 1
           },
           {
            "bin_end": 0.232142857,
            "bin_start": 0.2178571427,
            "count": 1
           }
          ],
          "max": "0.232142857",
          "min": "0.089285714",
          "nan_count": 0,
          "unique_count": 5
         }
        },
        {
         "dtype": "int64",
         "name": "Telephone1",
         "stats": {
          "histogram": [
           {
            "bin_end": 0.1,
            "bin_start": 0,
            "count": 2
           },
           {
            "bin_end": 0.2,
            "bin_start": 0.1,
            "count": 0
           },
           {
            "bin_end": 0.30000000000000004,
            "bin_start": 0.2,
            "count": 0
           },
           {
            "bin_end": 0.4,
            "bin_start": 0.30000000000000004,
            "count": 0
           },
           {
            "bin_end": 0.5,
            "bin_start": 0.4,
            "count": 0
           },
           {
            "bin_end": 0.6000000000000001,
            "bin_start": 0.5,
            "count": 0
           },
           {
            "bin_end": 0.7000000000000001,
            "bin_start": 0.6000000000000001,
            "count": 0
           },
           {
            "bin_end": 0.8,
            "bin_start": 0.7000000000000001,
            "count": 0
           },
           {
            "bin_end": 0.9,
            "bin_start": 0.8,
            "count": 0
           },
           {
            "bin_end": 1,
            "bin_start": 0.9,
            "count": 3
           }
          ],
          "max": "1",
          "min": "0",
          "nan_count": 0,
          "unique_count": 2
         }
        },
        {
         "dtype": "int64",
         "name": "CreditScore",
         "stats": {
          "histogram": [
           {
            "bin_end": 0.1,
            "bin_start": 0,
            "count": 3
           },
           {
            "bin_end": 0.2,
            "bin_start": 0.1,
            "count": 0
           },
           {
            "bin_end": 0.30000000000000004,
            "bin_start": 0.2,
            "count": 0
           },
           {
            "bin_end": 0.4,
            "bin_start": 0.30000000000000004,
            "count": 0
           },
           {
            "bin_end": 0.5,
            "bin_start": 0.4,
            "count": 0
           },
           {
            "bin_end": 0.6000000000000001,
            "bin_start": 0.5,
            "count": 0
           },
           {
            "bin_end": 0.7000000000000001,
            "bin_start": 0.6000000000000001,
            "count": 0
           },
           {
            "bin_end": 0.8,
            "bin_start": 0.7000000000000001,
            "count": 0
           },
           {
            "bin_end": 0.9,
            "bin_start": 0.8,
            "count": 0
           },
           {
            "bin_end": 1,
            "bin_start": 0.9,
            "count": 2
           }
          ],
          "max": "1",
          "min": "0",
          "nan_count": 0,
          "unique_count": 2
         }
        },
        {
         "dtype": "int64",
         "name": "_deepnote_index_column"
        }
       ],
       "row_count": 5,
       "rows_bottom": null,
       "rows_top": [
        {
         "Age": 0.089285714,
         "CheckingAcctStat A11": 1,
         "CheckingAcctStat A12": 0,
         "CheckingAcctStat A13": 0,
         "CheckingAcctStat A14": 0,
         "CreditHistory A30": 0,
         "CreditHistory A31": 0,
         "CreditHistory A32": 1,
         "CreditHistory A33": 0,
         "CreditHistory A34": 0,
         "CreditScore": 1,
         "Duration": 0.205882353,
         "Employment A71": 0,
         "Employment A72": 0,
         "Employment A73": 1,
         "Employment A74": 0,
         "Employment A75": 0,
         "InstallmentRatePecnt": 0.333333333,
         "PresentResidenceTime": 0.333333333,
         "Property A121": 1,
         "Property A122": 0,
         "Property A123": 0,
         "Property A124": 0,
         "Purpose A40": 0,
         "Purpose A41": 0,
         "Purpose A410": 0,
         "Purpose A42": 0,
         "Purpose A43": 0,
         "Purpose A44": 1,
         "Purpose A45": 0,
         "Purpose A46": 0,
         "Purpose A48": 0,
         "Purpose A49": 0,
         "Savings A61": 1,
         "Savings A62": 0,
         "Savings A63": 0,
         "Savings A64": 0,
         "Savings A65": 0,
         "Telephone1": 0,
         "_deepnote_index_column": 0
        },
        {
         "Age": 0.125,
         "CheckingAcctStat A11": 0,
         "CheckingAcctStat A12": 0,
         "CheckingAcctStat A13": 0,
         "CheckingAcctStat A14": 1,
         "CreditHistory A30": 0,
         "CreditHistory A31": 0,
         "CreditHistory A32": 1,
         "CreditHistory A33": 0,
         "CreditHistory A34": 0,
         "CreditScore": 0,
         "Duration": 0.294117647,
         "Employment A71": 0,
         "Employment A72": 0,
         "Employment A73": 0,
         "Employment A74": 1,
         "Employment A75": 0,
         "InstallmentRatePecnt": 1,
         "PresentResidenceTime": 0.666666667,
         "Property A121": 0,
         "Property A122": 1,
         "Property A123": 0,
         "Property A124": 0,
         "Purpose A40": 0,
         "Purpose A41": 0,
         "Purpose A410": 0,
         "Purpose A42": 0,
         "Purpose A43": 0,
         "Purpose A44": 1,
         "Purpose A45": 0,
         "Purpose A46": 0,
         "Purpose A48": 0,
         "Purpose A49": 0,
         "Savings A61": 0,
         "Savings A62": 1,
         "Savings A63": 0,
         "Savings A64": 0,
         "Savings A65": 0,
         "Telephone1": 1,
         "_deepnote_index_column": 1
        },
        {
         "Age": 0.232142857,
         "CheckingAcctStat A11": 0,
         "CheckingAcctStat A12": 0,
         "CheckingAcctStat A13": 0,
         "CheckingAcctStat A14": 1,
         "CreditHistory A30": 0,
         "CreditHistory A31": 0,
         "CreditHistory A32": 1,
         "CreditHistory A33": 0,
         "CreditHistory A34": 0,
         "CreditScore": 0,
         "Duration": 0.205882353,
         "Employment A71": 0,
         "Employment A72": 0,
         "Employment A73": 1,
         "Employment A74": 0,
         "Employment A75": 0,
         "InstallmentRatePecnt": 1,
         "PresentResidenceTime": 0.333333333,
         "Property A121": 0,
         "Property A122": 0,
         "Property A123": 0,
         "Property A124": 1,
         "Purpose A40": 0,
         "Purpose A41": 0,
         "Purpose A410": 0,
         "Purpose A42": 0,
         "Purpose A43": 0,
         "Purpose A44": 1,
         "Purpose A45": 0,
         "Purpose A46": 0,
         "Purpose A48": 0,
         "Purpose A49": 0,
         "Savings A61": 1,
         "Savings A62": 0,
         "Savings A63": 0,
         "Savings A64": 0,
         "Savings A65": 0,
         "Telephone1": 1,
         "_deepnote_index_column": 2
        },
        {
         "Age": 0.214285714,
         "CheckingAcctStat A11": 1,
         "CheckingAcctStat A12": 0,
         "CheckingAcctStat A13": 0,
         "CheckingAcctStat A14": 0,
         "CreditHistory A30": 0,
         "CreditHistory A31": 0,
         "CreditHistory A32": 1,
         "CreditHistory A33": 0,
         "CreditHistory A34": 0,
         "CreditScore": 1,
         "Duration": 0.647058824,
         "Employment A71": 0,
         "Employment A72": 0,
         "Employment A73": 1,
         "Employment A74": 0,
         "Employment A75": 0,
         "InstallmentRatePecnt": 0.666666667,
         "PresentResidenceTime": 0.333333333,
         "Property A121": 0,
         "Property A122": 0,
         "Property A123": 1,
         "Property A124": 0,
         "Purpose A40": 0,
         "Purpose A41": 0,
         "Purpose A410": 0,
         "Purpose A42": 0,
         "Purpose A43": 0,
         "Purpose A44": 1,
         "Purpose A45": 0,
         "Purpose A46": 0,
         "Purpose A48": 0,
         "Purpose A49": 0,
         "Savings A61": 1,
         "Savings A62": 0,
         "Savings A63": 0,
         "Savings A64": 0,
         "Savings A65": 0,
         "Telephone1": 1,
         "_deepnote_index_column": 3
        },
        {
         "Age": 0.178571429,
         "CheckingAcctStat A11": 0,
         "CheckingAcctStat A12": 0,
         "CheckingAcctStat A13": 1,
         "CheckingAcctStat A14": 0,
         "CreditHistory A30": 0,
         "CreditHistory A31": 0,
         "CreditHistory A32": 0,
         "CreditHistory A33": 1,
         "CreditHistory A34": 0,
         "CreditScore": 0,
         "Duration": 0.029411765,
         "Employment A71": 0,
         "Employment A72": 1,
         "Employment A73": 0,
         "Employment A74": 0,
         "Employment A75": 0,
         "InstallmentRatePecnt": 0.333333333,
         "PresentResidenceTime": 0,
         "Property A121": 0,
         "Property A122": 1,
         "Property A123": 0,
         "Property A124": 0,
         "Purpose A40": 0,
         "Purpose A41": 0,
         "Purpose A410": 0,
         "Purpose A42": 0,
         "Purpose A43": 0,
         "Purpose A44": 1,
         "Purpose A45": 0,
         "Purpose A46": 0,
         "Purpose A48": 0,
         "Purpose A49": 0,
         "Savings A61": 1,
         "Savings A62": 0,
         "Savings A63": 0,
         "Savings A64": 0,
         "Savings A65": 0,
         "Telephone1": 0,
         "_deepnote_index_column": 4
        }
       ]
      },
      "text/html": [
       "<div>\n",
       "<style scoped>\n",
       "    .dataframe tbody tr th:only-of-type {\n",
       "        vertical-align: middle;\n",
       "    }\n",
       "\n",
       "    .dataframe tbody tr th {\n",
       "        vertical-align: top;\n",
       "    }\n",
       "\n",
       "    .dataframe thead th {\n",
       "        text-align: right;\n",
       "    }\n",
       "</style>\n",
       "<table border=\"1\" class=\"dataframe\">\n",
       "  <thead>\n",
       "    <tr style=\"text-align: right;\">\n",
       "      <th></th>\n",
       "      <th>CheckingAcctStat A11</th>\n",
       "      <th>CheckingAcctStat A12</th>\n",
       "      <th>CheckingAcctStat A13</th>\n",
       "      <th>CheckingAcctStat A14</th>\n",
       "      <th>Duration</th>\n",
       "      <th>CreditHistory A30</th>\n",
       "      <th>CreditHistory A31</th>\n",
       "      <th>CreditHistory A32</th>\n",
       "      <th>CreditHistory A33</th>\n",
       "      <th>CreditHistory A34</th>\n",
       "      <th>...</th>\n",
       "      <th>Employment A75</th>\n",
       "      <th>InstallmentRatePecnt</th>\n",
       "      <th>PresentResidenceTime</th>\n",
       "      <th>Property A121</th>\n",
       "      <th>Property A122</th>\n",
       "      <th>Property A123</th>\n",
       "      <th>Property A124</th>\n",
       "      <th>Age</th>\n",
       "      <th>Telephone1</th>\n",
       "      <th>CreditScore</th>\n",
       "    </tr>\n",
       "  </thead>\n",
       "  <tbody>\n",
       "    <tr>\n",
       "      <th>0</th>\n",
       "      <td>1</td>\n",
       "      <td>0</td>\n",
       "      <td>0</td>\n",
       "      <td>0</td>\n",
       "      <td>0.205882</td>\n",
       "      <td>0</td>\n",
       "      <td>0</td>\n",
       "      <td>1</td>\n",
       "      <td>0</td>\n",
       "      <td>0</td>\n",
       "      <td>...</td>\n",
       "      <td>0</td>\n",
       "      <td>0.333333</td>\n",
       "      <td>0.333333</td>\n",
       "      <td>1</td>\n",
       "      <td>0</td>\n",
       "      <td>0</td>\n",
       "      <td>0</td>\n",
       "      <td>0.089286</td>\n",
       "      <td>0</td>\n",
       "      <td>1</td>\n",
       "    </tr>\n",
       "    <tr>\n",
       "      <th>1</th>\n",
       "      <td>0</td>\n",
       "      <td>0</td>\n",
       "      <td>0</td>\n",
       "      <td>1</td>\n",
       "      <td>0.294118</td>\n",
       "      <td>0</td>\n",
       "      <td>0</td>\n",
       "      <td>1</td>\n",
       "      <td>0</td>\n",
       "      <td>0</td>\n",
       "      <td>...</td>\n",
       "      <td>0</td>\n",
       "      <td>1.000000</td>\n",
       "      <td>0.666667</td>\n",
       "      <td>0</td>\n",
       "      <td>1</td>\n",
       "      <td>0</td>\n",
       "      <td>0</td>\n",
       "      <td>0.125000</td>\n",
       "      <td>1</td>\n",
       "      <td>0</td>\n",
       "    </tr>\n",
       "    <tr>\n",
       "      <th>2</th>\n",
       "      <td>0</td>\n",
       "      <td>0</td>\n",
       "      <td>0</td>\n",
       "      <td>1</td>\n",
       "      <td>0.205882</td>\n",
       "      <td>0</td>\n",
       "      <td>0</td>\n",
       "      <td>1</td>\n",
       "      <td>0</td>\n",
       "      <td>0</td>\n",
       "      <td>...</td>\n",
       "      <td>0</td>\n",
       "      <td>1.000000</td>\n",
       "      <td>0.333333</td>\n",
       "      <td>0</td>\n",
       "      <td>0</td>\n",
       "      <td>0</td>\n",
       "      <td>1</td>\n",
       "      <td>0.232143</td>\n",
       "      <td>1</td>\n",
       "      <td>0</td>\n",
       "    </tr>\n",
       "    <tr>\n",
       "      <th>3</th>\n",
       "      <td>1</td>\n",
       "      <td>0</td>\n",
       "      <td>0</td>\n",
       "      <td>0</td>\n",
       "      <td>0.647059</td>\n",
       "      <td>0</td>\n",
       "      <td>0</td>\n",
       "      <td>1</td>\n",
       "      <td>0</td>\n",
       "      <td>0</td>\n",
       "      <td>...</td>\n",
       "      <td>0</td>\n",
       "      <td>0.666667</td>\n",
       "      <td>0.333333</td>\n",
       "      <td>0</td>\n",
       "      <td>0</td>\n",
       "      <td>1</td>\n",
       "      <td>0</td>\n",
       "      <td>0.214286</td>\n",
       "      <td>1</td>\n",
       "      <td>1</td>\n",
       "    </tr>\n",
       "    <tr>\n",
       "      <th>4</th>\n",
       "      <td>0</td>\n",
       "      <td>0</td>\n",
       "      <td>1</td>\n",
       "      <td>0</td>\n",
       "      <td>0.029412</td>\n",
       "      <td>0</td>\n",
       "      <td>0</td>\n",
       "      <td>0</td>\n",
       "      <td>1</td>\n",
       "      <td>0</td>\n",
       "      <td>...</td>\n",
       "      <td>0</td>\n",
       "      <td>0.333333</td>\n",
       "      <td>0.000000</td>\n",
       "      <td>0</td>\n",
       "      <td>1</td>\n",
       "      <td>0</td>\n",
       "      <td>0</td>\n",
       "      <td>0.178571</td>\n",
       "      <td>0</td>\n",
       "      <td>0</td>\n",
       "    </tr>\n",
       "  </tbody>\n",
       "</table>\n",
       "<p>5 rows × 39 columns</p>\n",
       "</div>"
      ],
      "text/plain": [
       "   CheckingAcctStat A11  CheckingAcctStat A12  CheckingAcctStat A13  \\\n",
       "0                     1                     0                     0   \n",
       "1                     0                     0                     0   \n",
       "2                     0                     0                     0   \n",
       "3                     1                     0                     0   \n",
       "4                     0                     0                     1   \n",
       "\n",
       "   CheckingAcctStat A14  Duration  CreditHistory A30  CreditHistory A31  \\\n",
       "0                     0  0.205882                  0                  0   \n",
       "1                     1  0.294118                  0                  0   \n",
       "2                     1  0.205882                  0                  0   \n",
       "3                     0  0.647059                  0                  0   \n",
       "4                     0  0.029412                  0                  0   \n",
       "\n",
       "   CreditHistory A32  CreditHistory A33  CreditHistory A34  ...  \\\n",
       "0                  1                  0                  0  ...   \n",
       "1                  1                  0                  0  ...   \n",
       "2                  1                  0                  0  ...   \n",
       "3                  1                  0                  0  ...   \n",
       "4                  0                  1                  0  ...   \n",
       "\n",
       "   Employment A75  InstallmentRatePecnt  PresentResidenceTime  Property A121  \\\n",
       "0               0              0.333333              0.333333              1   \n",
       "1               0              1.000000              0.666667              0   \n",
       "2               0              1.000000              0.333333              0   \n",
       "3               0              0.666667              0.333333              0   \n",
       "4               0              0.333333              0.000000              0   \n",
       "\n",
       "   Property A122  Property A123  Property A124       Age  Telephone1  \\\n",
       "0              0              0              0  0.089286           0   \n",
       "1              1              0              0  0.125000           1   \n",
       "2              0              0              1  0.232143           1   \n",
       "3              0              1              0  0.214286           1   \n",
       "4              1              0              0  0.178571           0   \n",
       "\n",
       "   CreditScore  \n",
       "0            1  \n",
       "1            0  \n",
       "2            0  \n",
       "3            1  \n",
       "4            0  \n",
       "\n",
       "[5 rows x 39 columns]"
      ]
     },
     "execution_count": 10,
     "metadata": {},
     "output_type": "execute_result"
    }
   ],
   "source": [
    "#Devuelve las n primeras filas\n",
    "df.head()"
   ]
  },
  {
   "cell_type": "code",
   "execution_count": null,
   "metadata": {
    "cell_id": "f2ddfd6e38374f019a0dcbc47ffb7af6",
    "deepnote_cell_type": "code",
    "deepnote_to_be_reexecuted": false,
    "execution_millis": 185,
    "execution_start": 1639498470162,
    "source_hash": "94fdc264",
    "tags": []
   },
   "outputs": [
    {
     "data": {
      "application/vnd.deepnote.dataframe.v2+json": {
       "column_count": 39,
       "columns": [
        {
         "dtype": "int64",
         "name": "CheckingAcctStat A11",
         "stats": {
          "histogram": [
           {
            "bin_end": 0.1,
            "bin_start": 0,
            "count": 1
           },
           {
            "bin_end": 0.2,
            "bin_start": 0.1,
            "count": 0
           },
           {
            "bin_end": 0.30000000000000004,
            "bin_start": 0.2,
            "count": 0
           },
           {
            "bin_end": 0.4,
            "bin_start": 0.30000000000000004,
            "count": 0
           },
           {
            "bin_end": 0.5,
            "bin_start": 0.4,
            "count": 0
           },
           {
            "bin_end": 0.6000000000000001,
            "bin_start": 0.5,
            "count": 0
           },
           {
            "bin_end": 0.7000000000000001,
            "bin_start": 0.6000000000000001,
            "count": 0
           },
           {
            "bin_end": 0.8,
            "bin_start": 0.7000000000000001,
            "count": 0
           },
           {
            "bin_end": 0.9,
            "bin_start": 0.8,
            "count": 0
           },
           {
            "bin_end": 1,
            "bin_start": 0.9,
            "count": 4
           }
          ],
          "max": "1",
          "min": "0",
          "nan_count": 0,
          "unique_count": 2
         }
        },
        {
         "dtype": "int64",
         "name": "CheckingAcctStat A12",
         "stats": {
          "histogram": [
           {
            "bin_end": 0.1,
            "bin_start": 0,
            "count": 4
           },
           {
            "bin_end": 0.2,
            "bin_start": 0.1,
            "count": 0
           },
           {
            "bin_end": 0.30000000000000004,
            "bin_start": 0.2,
            "count": 0
           },
           {
            "bin_end": 0.4,
            "bin_start": 0.30000000000000004,
            "count": 0
           },
           {
            "bin_end": 0.5,
            "bin_start": 0.4,
            "count": 0
           },
           {
            "bin_end": 0.6000000000000001,
            "bin_start": 0.5,
            "count": 0
           },
           {
            "bin_end": 0.7000000000000001,
            "bin_start": 0.6000000000000001,
            "count": 0
           },
           {
            "bin_end": 0.8,
            "bin_start": 0.7000000000000001,
            "count": 0
           },
           {
            "bin_end": 0.9,
            "bin_start": 0.8,
            "count": 0
           },
           {
            "bin_end": 1,
            "bin_start": 0.9,
            "count": 1
           }
          ],
          "max": "1",
          "min": "0",
          "nan_count": 0,
          "unique_count": 2
         }
        },
        {
         "dtype": "int64",
         "name": "CheckingAcctStat A13",
         "stats": {
          "histogram": [
           {
            "bin_end": -0.4,
            "bin_start": -0.5,
            "count": 0
           },
           {
            "bin_end": -0.3,
            "bin_start": -0.4,
            "count": 0
           },
           {
            "bin_end": -0.19999999999999996,
            "bin_start": -0.3,
            "count": 0
           },
           {
            "bin_end": -0.09999999999999998,
            "bin_start": -0.19999999999999996,
            "count": 0
           },
           {
            "bin_end": 0,
            "bin_start": -0.09999999999999998,
            "count": 0
           },
           {
            "bin_end": 0.10000000000000009,
            "bin_start": 0,
            "count": 5
           },
           {
            "bin_end": 0.20000000000000007,
            "bin_start": 0.10000000000000009,
            "count": 0
           },
           {
            "bin_end": 0.30000000000000004,
            "bin_start": 0.20000000000000007,
            "count": 0
           },
           {
            "bin_end": 0.4,
            "bin_start": 0.30000000000000004,
            "count": 0
           },
           {
            "bin_end": 0.5,
            "bin_start": 0.4,
            "count": 0
           }
          ],
          "max": "0",
          "min": "0",
          "nan_count": 0,
          "unique_count": 1
         }
        },
        {
         "dtype": "int64",
         "name": "CheckingAcctStat A14",
         "stats": {
          "histogram": [
           {
            "bin_end": -0.4,
            "bin_start": -0.5,
            "count": 0
           },
           {
            "bin_end": -0.3,
            "bin_start": -0.4,
            "count": 0
           },
           {
            "bin_end": -0.19999999999999996,
            "bin_start": -0.3,
            "count": 0
           },
           {
            "bin_end": -0.09999999999999998,
            "bin_start": -0.19999999999999996,
            "count": 0
           },
           {
            "bin_end": 0,
            "bin_start": -0.09999999999999998,
            "count": 0
           },
           {
            "bin_end": 0.10000000000000009,
            "bin_start": 0,
            "count": 5
           },
           {
            "bin_end": 0.20000000000000007,
            "bin_start": 0.10000000000000009,
            "count": 0
           },
           {
            "bin_end": 0.30000000000000004,
            "bin_start": 0.20000000000000007,
            "count": 0
           },
           {
            "bin_end": 0.4,
            "bin_start": 0.30000000000000004,
            "count": 0
           },
           {
            "bin_end": 0.5,
            "bin_start": 0.4,
            "count": 0
           }
          ],
          "max": "0",
          "min": "0",
          "nan_count": 0,
          "unique_count": 1
         }
        },
        {
         "dtype": "float64",
         "name": "Duration",
         "stats": {
          "histogram": [
           {
            "bin_end": 0.0884223905,
            "bin_start": 0.060279302,
            "count": 2
           },
           {
            "bin_end": 0.116565479,
            "bin_start": 0.0884223905,
            "count": 0
           },
           {
            "bin_end": 0.14470856750000002,
            "bin_start": 0.116565479,
            "count": 0
           },
           {
            "bin_end": 0.17285165600000002,
            "bin_start": 0.14470856750000002,
            "count": 0
           },
           {
            "bin_end": 0.20099474450000002,
            "bin_start": 0.17285165600000002,
            "count": 2
           },
           {
            "bin_end": 0.22913783300000004,
            "bin_start": 0.20099474450000002,
            "count": 0
           },
           {
            "bin_end": 0.25728092150000004,
            "bin_start": 0.22913783300000004,
            "count": 0
           },
           {
            "bin_end": 0.28542401,
            "bin_start": 0.25728092150000004,
            "count": 0
           },
           {
            "bin_end": 0.31356709850000003,
            "bin_start": 0.28542401,
            "count": 0
           },
           {
            "bin_end": 0.341710187,
            "bin_start": 0.31356709850000003,
            "count": 1
           }
          ],
          "max": "0.341710187",
          "min": "0.060279302",
          "nan_count": 0,
          "unique_count": 5
         }
        },
        {
         "dtype": "int64",
         "name": "CreditHistory A30",
         "stats": {
          "histogram": [
           {
            "bin_end": -0.4,
            "bin_start": -0.5,
            "count": 0
           },
           {
            "bin_end": -0.3,
            "bin_start": -0.4,
            "count": 0
           },
           {
            "bin_end": -0.19999999999999996,
            "bin_start": -0.3,
            "count": 0
           },
           {
            "bin_end": -0.09999999999999998,
            "bin_start": -0.19999999999999996,
            "count": 0
           },
           {
            "bin_end": 0,
            "bin_start": -0.09999999999999998,
            "count": 0
           },
           {
            "bin_end": 0.10000000000000009,
            "bin_start": 0,
            "count": 5
           },
           {
            "bin_end": 0.20000000000000007,
            "bin_start": 0.10000000000000009,
            "count": 0
           },
           {
            "bin_end": 0.30000000000000004,
            "bin_start": 0.20000000000000007,
            "count": 0
           },
           {
            "bin_end": 0.4,
            "bin_start": 0.30000000000000004,
            "count": 0
           },
           {
            "bin_end": 0.5,
            "bin_start": 0.4,
            "count": 0
           }
          ],
          "max": "0",
          "min": "0",
          "nan_count": 0,
          "unique_count": 1
         }
        },
        {
         "dtype": "int64",
         "name": "CreditHistory A31",
         "stats": {
          "histogram": [
           {
            "bin_end": 0.1,
            "bin_start": 0,
            "count": 4
           },
           {
            "bin_end": 0.2,
            "bin_start": 0.1,
            "count": 0
           },
           {
            "bin_end": 0.30000000000000004,
            "bin_start": 0.2,
            "count": 0
           },
           {
            "bin_end": 0.4,
            "bin_start": 0.30000000000000004,
            "count": 0
           },
           {
            "bin_end": 0.5,
            "bin_start": 0.4,
            "count": 0
           },
           {
            "bin_end": 0.6000000000000001,
            "bin_start": 0.5,
            "count": 0
           },
           {
            "bin_end": 0.7000000000000001,
            "bin_start": 0.6000000000000001,
            "count": 0
           },
           {
            "bin_end": 0.8,
            "bin_start": 0.7000000000000001,
            "count": 0
           },
           {
            "bin_end": 0.9,
            "bin_start": 0.8,
            "count": 0
           },
           {
            "bin_end": 1,
            "bin_start": 0.9,
            "count": 1
           }
          ],
          "max": "1",
          "min": "0",
          "nan_count": 0,
          "unique_count": 2
         }
        },
        {
         "dtype": "int64",
         "name": "CreditHistory A32",
         "stats": {
          "histogram": [
           {
            "bin_end": 0.1,
            "bin_start": 0,
            "count": 2
           },
           {
            "bin_end": 0.2,
            "bin_start": 0.1,
            "count": 0
           },
           {
            "bin_end": 0.30000000000000004,
            "bin_start": 0.2,
            "count": 0
           },
           {
            "bin_end": 0.4,
            "bin_start": 0.30000000000000004,
            "count": 0
           },
           {
            "bin_end": 0.5,
            "bin_start": 0.4,
            "count": 0
           },
           {
            "bin_end": 0.6000000000000001,
            "bin_start": 0.5,
            "count": 0
           },
           {
            "bin_end": 0.7000000000000001,
            "bin_start": 0.6000000000000001,
            "count": 0
           },
           {
            "bin_end": 0.8,
            "bin_start": 0.7000000000000001,
            "count": 0
           },
           {
            "bin_end": 0.9,
            "bin_start": 0.8,
            "count": 0
           },
           {
            "bin_end": 1,
            "bin_start": 0.9,
            "count": 3
           }
          ],
          "max": "1",
          "min": "0",
          "nan_count": 0,
          "unique_count": 2
         }
        },
        {
         "dtype": "int64",
         "name": "CreditHistory A33",
         "stats": {
          "histogram": [
           {
            "bin_end": -0.4,
            "bin_start": -0.5,
            "count": 0
           },
           {
            "bin_end": -0.3,
            "bin_start": -0.4,
            "count": 0
           },
           {
            "bin_end": -0.19999999999999996,
            "bin_start": -0.3,
            "count": 0
           },
           {
            "bin_end": -0.09999999999999998,
            "bin_start": -0.19999999999999996,
            "count": 0
           },
           {
            "bin_end": 0,
            "bin_start": -0.09999999999999998,
            "count": 0
           },
           {
            "bin_end": 0.10000000000000009,
            "bin_start": 0,
            "count": 5
           },
           {
            "bin_end": 0.20000000000000007,
            "bin_start": 0.10000000000000009,
            "count": 0
           },
           {
            "bin_end": 0.30000000000000004,
            "bin_start": 0.20000000000000007,
            "count": 0
           },
           {
            "bin_end": 0.4,
            "bin_start": 0.30000000000000004,
            "count": 0
           },
           {
            "bin_end": 0.5,
            "bin_start": 0.4,
            "count": 0
           }
          ],
          "max": "0",
          "min": "0",
          "nan_count": 0,
          "unique_count": 1
         }
        },
        {
         "dtype": "int64",
         "name": "CreditHistory A34",
         "stats": {
          "histogram": [
           {
            "bin_end": 0.1,
            "bin_start": 0,
            "count": 4
           },
           {
            "bin_end": 0.2,
            "bin_start": 0.1,
            "count": 0
           },
           {
            "bin_end": 0.30000000000000004,
            "bin_start": 0.2,
            "count": 0
           },
           {
            "bin_end": 0.4,
            "bin_start": 0.30000000000000004,
            "count": 0
           },
           {
            "bin_end": 0.5,
            "bin_start": 0.4,
            "count": 0
           },
           {
            "bin_end": 0.6000000000000001,
            "bin_start": 0.5,
            "count": 0
           },
           {
            "bin_end": 0.7000000000000001,
            "bin_start": 0.6000000000000001,
            "count": 0
           },
           {
            "bin_end": 0.8,
            "bin_start": 0.7000000000000001,
            "count": 0
           },
           {
            "bin_end": 0.9,
            "bin_start": 0.8,
            "count": 0
           },
           {
            "bin_end": 1,
            "bin_start": 0.9,
            "count": 1
           }
          ],
          "max": "1",
          "min": "0",
          "nan_count": 0,
          "unique_count": 2
         }
        },
        {
         "dtype": "int64",
         "name": "Purpose A40",
         "stats": {
          "histogram": [
           {
            "bin_end": -0.4,
            "bin_start": -0.5,
            "count": 0
           },
           {
            "bin_end": -0.3,
            "bin_start": -0.4,
            "count": 0
           },
           {
            "bin_end": -0.19999999999999996,
            "bin_start": -0.3,
            "count": 0
           },
           {
            "bin_end": -0.09999999999999998,
            "bin_start": -0.19999999999999996,
            "count": 0
           },
           {
            "bin_end": 0,
            "bin_start": -0.09999999999999998,
            "count": 0
           },
           {
            "bin_end": 0.10000000000000009,
            "bin_start": 0,
            "count": 5
           },
           {
            "bin_end": 0.20000000000000007,
            "bin_start": 0.10000000000000009,
            "count": 0
           },
           {
            "bin_end": 0.30000000000000004,
            "bin_start": 0.20000000000000007,
            "count": 0
           },
           {
            "bin_end": 0.4,
            "bin_start": 0.30000000000000004,
            "count": 0
           },
           {
            "bin_end": 0.5,
            "bin_start": 0.4,
            "count": 0
           }
          ],
          "max": "0",
          "min": "0",
          "nan_count": 0,
          "unique_count": 1
         }
        },
        {
         "dtype": "int64",
         "name": "Purpose A41",
         "stats": {
          "histogram": [
           {
            "bin_end": -0.4,
            "bin_start": -0.5,
            "count": 0
           },
           {
            "bin_end": -0.3,
            "bin_start": -0.4,
            "count": 0
           },
           {
            "bin_end": -0.19999999999999996,
            "bin_start": -0.3,
            "count": 0
           },
           {
            "bin_end": -0.09999999999999998,
            "bin_start": -0.19999999999999996,
            "count": 0
           },
           {
            "bin_end": 0,
            "bin_start": -0.09999999999999998,
            "count": 0
           },
           {
            "bin_end": 0.10000000000000009,
            "bin_start": 0,
            "count": 5
           },
           {
            "bin_end": 0.20000000000000007,
            "bin_start": 0.10000000000000009,
            "count": 0
           },
           {
            "bin_end": 0.30000000000000004,
            "bin_start": 0.20000000000000007,
            "count": 0
           },
           {
            "bin_end": 0.4,
            "bin_start": 0.30000000000000004,
            "count": 0
           },
           {
            "bin_end": 0.5,
            "bin_start": 0.4,
            "count": 0
           }
          ],
          "max": "0",
          "min": "0",
          "nan_count": 0,
          "unique_count": 1
         }
        },
        {
         "dtype": "int64",
         "name": "Purpose A42",
         "stats": {
          "histogram": [
           {
            "bin_end": -0.4,
            "bin_start": -0.5,
            "count": 0
           },
           {
            "bin_end": -0.3,
            "bin_start": -0.4,
            "count": 0
           },
           {
            "bin_end": -0.19999999999999996,
            "bin_start": -0.3,
            "count": 0
           },
           {
            "bin_end": -0.09999999999999998,
            "bin_start": -0.19999999999999996,
            "count": 0
           },
           {
            "bin_end": 0,
            "bin_start": -0.09999999999999998,
            "count": 0
           },
           {
            "bin_end": 0.10000000000000009,
            "bin_start": 0,
            "count": 5
           },
           {
            "bin_end": 0.20000000000000007,
            "bin_start": 0.10000000000000009,
            "count": 0
           },
           {
            "bin_end": 0.30000000000000004,
            "bin_start": 0.20000000000000007,
            "count": 0
           },
           {
            "bin_end": 0.4,
            "bin_start": 0.30000000000000004,
            "count": 0
           },
           {
            "bin_end": 0.5,
            "bin_start": 0.4,
            "count": 0
           }
          ],
          "max": "0",
          "min": "0",
          "nan_count": 0,
          "unique_count": 1
         }
        },
        {
         "dtype": "int64",
         "name": "Purpose A43",
         "stats": {
          "histogram": [
           {
            "bin_end": -0.4,
            "bin_start": -0.5,
            "count": 0
           },
           {
            "bin_end": -0.3,
            "bin_start": -0.4,
            "count": 0
           },
           {
            "bin_end": -0.19999999999999996,
            "bin_start": -0.3,
            "count": 0
           },
           {
            "bin_end": -0.09999999999999998,
            "bin_start": -0.19999999999999996,
            "count": 0
           },
           {
            "bin_end": 0,
            "bin_start": -0.09999999999999998,
            "count": 0
           },
           {
            "bin_end": 0.10000000000000009,
            "bin_start": 0,
            "count": 5
           },
           {
            "bin_end": 0.20000000000000007,
            "bin_start": 0.10000000000000009,
            "count": 0
           },
           {
            "bin_end": 0.30000000000000004,
            "bin_start": 0.20000000000000007,
            "count": 0
           },
           {
            "bin_end": 0.4,
            "bin_start": 0.30000000000000004,
            "count": 0
           },
           {
            "bin_end": 0.5,
            "bin_start": 0.4,
            "count": 0
           }
          ],
          "max": "0",
          "min": "0",
          "nan_count": 0,
          "unique_count": 1
         }
        },
        {
         "dtype": "int64",
         "name": "Purpose A44",
         "stats": {
          "histogram": [
           {
            "bin_end": 0.1,
            "bin_start": 0,
            "count": 3
           },
           {
            "bin_end": 0.2,
            "bin_start": 0.1,
            "count": 0
           },
           {
            "bin_end": 0.30000000000000004,
            "bin_start": 0.2,
            "count": 0
           },
           {
            "bin_end": 0.4,
            "bin_start": 0.30000000000000004,
            "count": 0
           },
           {
            "bin_end": 0.5,
            "bin_start": 0.4,
            "count": 0
           },
           {
            "bin_end": 0.6000000000000001,
            "bin_start": 0.5,
            "count": 0
           },
           {
            "bin_end": 0.7000000000000001,
            "bin_start": 0.6000000000000001,
            "count": 0
           },
           {
            "bin_end": 0.8,
            "bin_start": 0.7000000000000001,
            "count": 0
           },
           {
            "bin_end": 0.9,
            "bin_start": 0.8,
            "count": 0
           },
           {
            "bin_end": 1,
            "bin_start": 0.9,
            "count": 2
           }
          ],
          "max": "1",
          "min": "0",
          "nan_count": 0,
          "unique_count": 2
         }
        },
        {
         "dtype": "int64",
         "name": "Purpose A45",
         "stats": {
          "histogram": [
           {
            "bin_end": 0.1,
            "bin_start": 0,
            "count": 3
           },
           {
            "bin_end": 0.2,
            "bin_start": 0.1,
            "count": 0
           },
           {
            "bin_end": 0.30000000000000004,
            "bin_start": 0.2,
            "count": 0
           },
           {
            "bin_end": 0.4,
            "bin_start": 0.30000000000000004,
            "count": 0
           },
           {
            "bin_end": 0.5,
            "bin_start": 0.4,
            "count": 0
           },
           {
            "bin_end": 0.6000000000000001,
            "bin_start": 0.5,
            "count": 0
           },
           {
            "bin_end": 0.7000000000000001,
            "bin_start": 0.6000000000000001,
            "count": 0
           },
           {
            "bin_end": 0.8,
            "bin_start": 0.7000000000000001,
            "count": 0
           },
           {
            "bin_end": 0.9,
            "bin_start": 0.8,
            "count": 0
           },
           {
            "bin_end": 1,
            "bin_start": 0.9,
            "count": 2
           }
          ],
          "max": "1",
          "min": "0",
          "nan_count": 0,
          "unique_count": 2
         }
        },
        {
         "dtype": "int64",
         "name": "Purpose A46",
         "stats": {
          "histogram": [
           {
            "bin_end": 0.1,
            "bin_start": 0,
            "count": 4
           },
           {
            "bin_end": 0.2,
            "bin_start": 0.1,
            "count": 0
           },
           {
            "bin_end": 0.30000000000000004,
            "bin_start": 0.2,
            "count": 0
           },
           {
            "bin_end": 0.4,
            "bin_start": 0.30000000000000004,
            "count": 0
           },
           {
            "bin_end": 0.5,
            "bin_start": 0.4,
            "count": 0
           },
           {
            "bin_end": 0.6000000000000001,
            "bin_start": 0.5,
            "count": 0
           },
           {
            "bin_end": 0.7000000000000001,
            "bin_start": 0.6000000000000001,
            "count": 0
           },
           {
            "bin_end": 0.8,
            "bin_start": 0.7000000000000001,
            "count": 0
           },
           {
            "bin_end": 0.9,
            "bin_start": 0.8,
            "count": 0
           },
           {
            "bin_end": 1,
            "bin_start": 0.9,
            "count": 1
           }
          ],
          "max": "1",
          "min": "0",
          "nan_count": 0,
          "unique_count": 2
         }
        },
        {
         "dtype": "int64",
         "name": "Purpose A48",
         "stats": {
          "histogram": [
           {
            "bin_end": -0.4,
            "bin_start": -0.5,
            "count": 0
           },
           {
            "bin_end": -0.3,
            "bin_start": -0.4,
            "count": 0
           },
           {
            "bin_end": -0.19999999999999996,
            "bin_start": -0.3,
            "count": 0
           },
           {
            "bin_end": -0.09999999999999998,
            "bin_start": -0.19999999999999996,
            "count": 0
           },
           {
            "bin_end": 0,
            "bin_start": -0.09999999999999998,
            "count": 0
           },
           {
            "bin_end": 0.10000000000000009,
            "bin_start": 0,
            "count": 5
           },
           {
            "bin_end": 0.20000000000000007,
            "bin_start": 0.10000000000000009,
            "count": 0
           },
           {
            "bin_end": 0.30000000000000004,
            "bin_start": 0.20000000000000007,
            "count": 0
           },
           {
            "bin_end": 0.4,
            "bin_start": 0.30000000000000004,
            "count": 0
           },
           {
            "bin_end": 0.5,
            "bin_start": 0.4,
            "count": 0
           }
          ],
          "max": "0",
          "min": "0",
          "nan_count": 0,
          "unique_count": 1
         }
        },
        {
         "dtype": "int64",
         "name": "Purpose A49",
         "stats": {
          "histogram": [
           {
            "bin_end": -0.4,
            "bin_start": -0.5,
            "count": 0
           },
           {
            "bin_end": -0.3,
            "bin_start": -0.4,
            "count": 0
           },
           {
            "bin_end": -0.19999999999999996,
            "bin_start": -0.3,
            "count": 0
           },
           {
            "bin_end": -0.09999999999999998,
            "bin_start": -0.19999999999999996,
            "count": 0
           },
           {
            "bin_end": 0,
            "bin_start": -0.09999999999999998,
            "count": 0
           },
           {
            "bin_end": 0.10000000000000009,
            "bin_start": 0,
            "count": 5
           },
           {
            "bin_end": 0.20000000000000007,
            "bin_start": 0.10000000000000009,
            "count": 0
           },
           {
            "bin_end": 0.30000000000000004,
            "bin_start": 0.20000000000000007,
            "count": 0
           },
           {
            "bin_end": 0.4,
            "bin_start": 0.30000000000000004,
            "count": 0
           },
           {
            "bin_end": 0.5,
            "bin_start": 0.4,
            "count": 0
           }
          ],
          "max": "0",
          "min": "0",
          "nan_count": 0,
          "unique_count": 1
         }
        },
        {
         "dtype": "int64",
         "name": "Purpose A410",
         "stats": {
          "histogram": [
           {
            "bin_end": -0.4,
            "bin_start": -0.5,
            "count": 0
           },
           {
            "bin_end": -0.3,
            "bin_start": -0.4,
            "count": 0
           },
           {
            "bin_end": -0.19999999999999996,
            "bin_start": -0.3,
            "count": 0
           },
           {
            "bin_end": -0.09999999999999998,
            "bin_start": -0.19999999999999996,
            "count": 0
           },
           {
            "bin_end": 0,
            "bin_start": -0.09999999999999998,
            "count": 0
           },
           {
            "bin_end": 0.10000000000000009,
            "bin_start": 0,
            "count": 5
           },
           {
            "bin_end": 0.20000000000000007,
            "bin_start": 0.10000000000000009,
            "count": 0
           },
           {
            "bin_end": 0.30000000000000004,
            "bin_start": 0.20000000000000007,
            "count": 0
           },
           {
            "bin_end": 0.4,
            "bin_start": 0.30000000000000004,
            "count": 0
           },
           {
            "bin_end": 0.5,
            "bin_start": 0.4,
            "count": 0
           }
          ],
          "max": "0",
          "min": "0",
          "nan_count": 0,
          "unique_count": 1
         }
        },
        {
         "dtype": "int64",
         "name": "Savings A61",
         "stats": {
          "histogram": [
           {
            "bin_end": 0.1,
            "bin_start": 0,
            "count": 2
           },
           {
            "bin_end": 0.2,
            "bin_start": 0.1,
            "count": 0
           },
           {
            "bin_end": 0.30000000000000004,
            "bin_start": 0.2,
            "count": 0
           },
           {
            "bin_end": 0.4,
            "bin_start": 0.30000000000000004,
            "count": 0
           },
           {
            "bin_end": 0.5,
            "bin_start": 0.4,
            "count": 0
           },
           {
            "bin_end": 0.6000000000000001,
            "bin_start": 0.5,
            "count": 0
           },
           {
            "bin_end": 0.7000000000000001,
            "bin_start": 0.6000000000000001,
            "count": 0
           },
           {
            "bin_end": 0.8,
            "bin_start": 0.7000000000000001,
            "count": 0
           },
           {
            "bin_end": 0.9,
            "bin_start": 0.8,
            "count": 0
           },
           {
            "bin_end": 1,
            "bin_start": 0.9,
            "count": 3
           }
          ],
          "max": "1",
          "min": "0",
          "nan_count": 0,
          "unique_count": 2
         }
        },
        {
         "dtype": "int64",
         "name": "Savings A62",
         "stats": {
          "histogram": [
           {
            "bin_end": 0.1,
            "bin_start": 0,
            "count": 3
           },
           {
            "bin_end": 0.2,
            "bin_start": 0.1,
            "count": 0
           },
           {
            "bin_end": 0.30000000000000004,
            "bin_start": 0.2,
            "count": 0
           },
           {
            "bin_end": 0.4,
            "bin_start": 0.30000000000000004,
            "count": 0
           },
           {
            "bin_end": 0.5,
            "bin_start": 0.4,
            "count": 0
           },
           {
            "bin_end": 0.6000000000000001,
            "bin_start": 0.5,
            "count": 0
           },
           {
            "bin_end": 0.7000000000000001,
            "bin_start": 0.6000000000000001,
            "count": 0
           },
           {
            "bin_end": 0.8,
            "bin_start": 0.7000000000000001,
            "count": 0
           },
           {
            "bin_end": 0.9,
            "bin_start": 0.8,
            "count": 0
           },
           {
            "bin_end": 1,
            "bin_start": 0.9,
            "count": 2
           }
          ],
          "max": "1",
          "min": "0",
          "nan_count": 0,
          "unique_count": 2
         }
        },
        {
         "dtype": "int64",
         "name": "Savings A63",
         "stats": {
          "histogram": [
           {
            "bin_end": -0.4,
            "bin_start": -0.5,
            "count": 0
           },
           {
            "bin_end": -0.3,
            "bin_start": -0.4,
            "count": 0
           },
           {
            "bin_end": -0.19999999999999996,
            "bin_start": -0.3,
            "count": 0
           },
           {
            "bin_end": -0.09999999999999998,
            "bin_start": -0.19999999999999996,
            "count": 0
           },
           {
            "bin_end": 0,
            "bin_start": -0.09999999999999998,
            "count": 0
           },
           {
            "bin_end": 0.10000000000000009,
            "bin_start": 0,
            "count": 5
           },
           {
            "bin_end": 0.20000000000000007,
            "bin_start": 0.10000000000000009,
            "count": 0
           },
           {
            "bin_end": 0.30000000000000004,
            "bin_start": 0.20000000000000007,
            "count": 0
           },
           {
            "bin_end": 0.4,
            "bin_start": 0.30000000000000004,
            "count": 0
           },
           {
            "bin_end": 0.5,
            "bin_start": 0.4,
            "count": 0
           }
          ],
          "max": "0",
          "min": "0",
          "nan_count": 0,
          "unique_count": 1
         }
        },
        {
         "dtype": "int64",
         "name": "Savings A64",
         "stats": {
          "histogram": [
           {
            "bin_end": -0.4,
            "bin_start": -0.5,
            "count": 0
           },
           {
            "bin_end": -0.3,
            "bin_start": -0.4,
            "count": 0
           },
           {
            "bin_end": -0.19999999999999996,
            "bin_start": -0.3,
            "count": 0
           },
           {
            "bin_end": -0.09999999999999998,
            "bin_start": -0.19999999999999996,
            "count": 0
           },
           {
            "bin_end": 0,
            "bin_start": -0.09999999999999998,
            "count": 0
           },
           {
            "bin_end": 0.10000000000000009,
            "bin_start": 0,
            "count": 5
           },
           {
            "bin_end": 0.20000000000000007,
            "bin_start": 0.10000000000000009,
            "count": 0
           },
           {
            "bin_end": 0.30000000000000004,
            "bin_start": 0.20000000000000007,
            "count": 0
           },
           {
            "bin_end": 0.4,
            "bin_start": 0.30000000000000004,
            "count": 0
           },
           {
            "bin_end": 0.5,
            "bin_start": 0.4,
            "count": 0
           }
          ],
          "max": "0",
          "min": "0",
          "nan_count": 0,
          "unique_count": 1
         }
        },
        {
         "dtype": "int64",
         "name": "Savings A65",
         "stats": {
          "histogram": [
           {
            "bin_end": -0.4,
            "bin_start": -0.5,
            "count": 0
           },
           {
            "bin_end": -0.3,
            "bin_start": -0.4,
            "count": 0
           },
           {
            "bin_end": -0.19999999999999996,
            "bin_start": -0.3,
            "count": 0
           },
           {
            "bin_end": -0.09999999999999998,
            "bin_start": -0.19999999999999996,
            "count": 0
           },
           {
            "bin_end": 0,
            "bin_start": -0.09999999999999998,
            "count": 0
           },
           {
            "bin_end": 0.10000000000000009,
            "bin_start": 0,
            "count": 5
           },
           {
            "bin_end": 0.20000000000000007,
            "bin_start": 0.10000000000000009,
            "count": 0
           },
           {
            "bin_end": 0.30000000000000004,
            "bin_start": 0.20000000000000007,
            "count": 0
           },
           {
            "bin_end": 0.4,
            "bin_start": 0.30000000000000004,
            "count": 0
           },
           {
            "bin_end": 0.5,
            "bin_start": 0.4,
            "count": 0
           }
          ],
          "max": "0",
          "min": "0",
          "nan_count": 0,
          "unique_count": 1
         }
        },
        {
         "dtype": "int64",
         "name": "Employment A71",
         "stats": {
          "histogram": [
           {
            "bin_end": 0.1,
            "bin_start": 0,
            "count": 4
           },
           {
            "bin_end": 0.2,
            "bin_start": 0.1,
            "count": 0
           },
           {
            "bin_end": 0.30000000000000004,
            "bin_start": 0.2,
            "count": 0
           },
           {
            "bin_end": 0.4,
            "bin_start": 0.30000000000000004,
            "count": 0
           },
           {
            "bin_end": 0.5,
            "bin_start": 0.4,
            "count": 0
           },
           {
            "bin_end": 0.6000000000000001,
            "bin_start": 0.5,
            "count": 0
           },
           {
            "bin_end": 0.7000000000000001,
            "bin_start": 0.6000000000000001,
            "count": 0
           },
           {
            "bin_end": 0.8,
            "bin_start": 0.7000000000000001,
            "count": 0
           },
           {
            "bin_end": 0.9,
            "bin_start": 0.8,
            "count": 0
           },
           {
            "bin_end": 1,
            "bin_start": 0.9,
            "count": 1
           }
          ],
          "max": "1",
          "min": "0",
          "nan_count": 0,
          "unique_count": 2
         }
        },
        {
         "dtype": "int64",
         "name": "Employment A72",
         "stats": {
          "histogram": [
           {
            "bin_end": 0.1,
            "bin_start": 0,
            "count": 4
           },
           {
            "bin_end": 0.2,
            "bin_start": 0.1,
            "count": 0
           },
           {
            "bin_end": 0.30000000000000004,
            "bin_start": 0.2,
            "count": 0
           },
           {
            "bin_end": 0.4,
            "bin_start": 0.30000000000000004,
            "count": 0
           },
           {
            "bin_end": 0.5,
            "bin_start": 0.4,
            "count": 0
           },
           {
            "bin_end": 0.6000000000000001,
            "bin_start": 0.5,
            "count": 0
           },
           {
            "bin_end": 0.7000000000000001,
            "bin_start": 0.6000000000000001,
            "count": 0
           },
           {
            "bin_end": 0.8,
            "bin_start": 0.7000000000000001,
            "count": 0
           },
           {
            "bin_end": 0.9,
            "bin_start": 0.8,
            "count": 0
           },
           {
            "bin_end": 1,
            "bin_start": 0.9,
            "count": 1
           }
          ],
          "max": "1",
          "min": "0",
          "nan_count": 0,
          "unique_count": 2
         }
        },
        {
         "dtype": "int64",
         "name": "Employment A73",
         "stats": {
          "histogram": [
           {
            "bin_end": 0.1,
            "bin_start": 0,
            "count": 2
           },
           {
            "bin_end": 0.2,
            "bin_start": 0.1,
            "count": 0
           },
           {
            "bin_end": 0.30000000000000004,
            "bin_start": 0.2,
            "count": 0
           },
           {
            "bin_end": 0.4,
            "bin_start": 0.30000000000000004,
            "count": 0
           },
           {
            "bin_end": 0.5,
            "bin_start": 0.4,
            "count": 0
           },
           {
            "bin_end": 0.6000000000000001,
            "bin_start": 0.5,
            "count": 0
           },
           {
            "bin_end": 0.7000000000000001,
            "bin_start": 0.6000000000000001,
            "count": 0
           },
           {
            "bin_end": 0.8,
            "bin_start": 0.7000000000000001,
            "count": 0
           },
           {
            "bin_end": 0.9,
            "bin_start": 0.8,
            "count": 0
           },
           {
            "bin_end": 1,
            "bin_start": 0.9,
            "count": 3
           }
          ],
          "max": "1",
          "min": "0",
          "nan_count": 0,
          "unique_count": 2
         }
        },
        {
         "dtype": "int64",
         "name": "Employment A74",
         "stats": {
          "histogram": [
           {
            "bin_end": -0.4,
            "bin_start": -0.5,
            "count": 0
           },
           {
            "bin_end": -0.3,
            "bin_start": -0.4,
            "count": 0
           },
           {
            "bin_end": -0.19999999999999996,
            "bin_start": -0.3,
            "count": 0
           },
           {
            "bin_end": -0.09999999999999998,
            "bin_start": -0.19999999999999996,
            "count": 0
           },
           {
            "bin_end": 0,
            "bin_start": -0.09999999999999998,
            "count": 0
           },
           {
            "bin_end": 0.10000000000000009,
            "bin_start": 0,
            "count": 5
           },
           {
            "bin_end": 0.20000000000000007,
            "bin_start": 0.10000000000000009,
            "count": 0
           },
           {
            "bin_end": 0.30000000000000004,
            "bin_start": 0.20000000000000007,
            "count": 0
           },
           {
            "bin_end": 0.4,
            "bin_start": 0.30000000000000004,
            "count": 0
           },
           {
            "bin_end": 0.5,
            "bin_start": 0.4,
            "count": 0
           }
          ],
          "max": "0",
          "min": "0",
          "nan_count": 0,
          "unique_count": 1
         }
        },
        {
         "dtype": "int64",
         "name": "Employment A75",
         "stats": {
          "histogram": [
           {
            "bin_end": -0.4,
            "bin_start": -0.5,
            "count": 0
           },
           {
            "bin_end": -0.3,
            "bin_start": -0.4,
            "count": 0
           },
           {
            "bin_end": -0.19999999999999996,
            "bin_start": -0.3,
            "count": 0
           },
           {
            "bin_end": -0.09999999999999998,
            "bin_start": -0.19999999999999996,
            "count": 0
           },
           {
            "bin_end": 0,
            "bin_start": -0.09999999999999998,
            "count": 0
           },
           {
            "bin_end": 0.10000000000000009,
            "bin_start": 0,
            "count": 5
           },
           {
            "bin_end": 0.20000000000000007,
            "bin_start": 0.10000000000000009,
            "count": 0
           },
           {
            "bin_end": 0.30000000000000004,
            "bin_start": 0.20000000000000007,
            "count": 0
           },
           {
            "bin_end": 0.4,
            "bin_start": 0.30000000000000004,
            "count": 0
           },
           {
            "bin_end": 0.5,
            "bin_start": 0.4,
            "count": 0
           }
          ],
          "max": "0",
          "min": "0",
          "nan_count": 0,
          "unique_count": 1
         }
        },
        {
         "dtype": "float64",
         "name": "InstallmentRatePecnt",
         "stats": {
          "histogram": [
           {
            "bin_end": 0.6,
            "bin_start": 0.5,
            "count": 0
           },
           {
            "bin_end": 0.7,
            "bin_start": 0.6,
            "count": 0
           },
           {
            "bin_end": 0.8,
            "bin_start": 0.7,
            "count": 0
           },
           {
            "bin_end": 0.9,
            "bin_start": 0.8,
            "count": 0
           },
           {
            "bin_end": 1,
            "bin_start": 0.9,
            "count": 0
           },
           {
            "bin_end": 1.1,
            "bin_start": 1,
            "count": 5
           },
           {
            "bin_end": 1.2000000000000002,
            "bin_start": 1.1,
            "count": 0
           },
           {
            "bin_end": 1.3,
            "bin_start": 1.2000000000000002,
            "count": 0
           },
           {
            "bin_end": 1.4,
            "bin_start": 1.3,
            "count": 0
           },
           {
            "bin_end": 1.5,
            "bin_start": 1.4,
            "count": 0
           }
          ],
          "max": "1.0",
          "min": "1.0",
          "nan_count": 0,
          "unique_count": 1
         }
        },
        {
         "dtype": "float64",
         "name": "PresentResidenceTime",
         "stats": {
          "histogram": [
           {
            "bin_end": 0.15387996909999999,
            "bin_start": 0.093442824,
            "count": 1
           },
           {
            "bin_end": 0.2143171142,
            "bin_start": 0.15387996909999999,
            "count": 1
           },
           {
            "bin_end": 0.27475425929999997,
            "bin_start": 0.2143171142,
            "count": 0
           },
           {
            "bin_end": 0.3351914044,
            "bin_start": 0.27475425929999997,
            "count": 1
           },
           {
            "bin_end": 0.3956285495,
            "bin_start": 0.3351914044,
            "count": 0
           },
           {
            "bin_end": 0.45606569459999996,
            "bin_start": 0.3956285495,
            "count": 0
           },
           {
            "bin_end": 0.5165028397,
            "bin_start": 0.45606569459999996,
            "count": 1
           },
           {
            "bin_end": 0.5769399848,
            "bin_start": 0.5165028397,
            "count": 0
           },
           {
            "bin_end": 0.6373771299000001,
            "bin_start": 0.5769399848,
            "count": 0
           },
           {
            "bin_end": 0.697814275,
            "bin_start": 0.6373771299000001,
            "count": 1
           }
          ],
          "max": "0.697814275",
          "min": "0.093442824",
          "nan_count": 0,
          "unique_count": 5
         }
        },
        {
         "dtype": "int64",
         "name": "Property A121",
         "stats": {
          "histogram": [
           {
            "bin_end": -0.4,
            "bin_start": -0.5,
            "count": 0
           },
           {
            "bin_end": -0.3,
            "bin_start": -0.4,
            "count": 0
           },
           {
            "bin_end": -0.19999999999999996,
            "bin_start": -0.3,
            "count": 0
           },
           {
            "bin_end": -0.09999999999999998,
            "bin_start": -0.19999999999999996,
            "count": 0
           },
           {
            "bin_end": 0,
            "bin_start": -0.09999999999999998,
            "count": 0
           },
           {
            "bin_end": 0.10000000000000009,
            "bin_start": 0,
            "count": 5
           },
           {
            "bin_end": 0.20000000000000007,
            "bin_start": 0.10000000000000009,
            "count": 0
           },
           {
            "bin_end": 0.30000000000000004,
            "bin_start": 0.20000000000000007,
            "count": 0
           },
           {
            "bin_end": 0.4,
            "bin_start": 0.30000000000000004,
            "count": 0
           },
           {
            "bin_end": 0.5,
            "bin_start": 0.4,
            "count": 0
           }
          ],
          "max": "0",
          "min": "0",
          "nan_count": 0,
          "unique_count": 1
         }
        },
        {
         "dtype": "int64",
         "name": "Property A122",
         "stats": {
          "histogram": [
           {
            "bin_end": 0.1,
            "bin_start": 0,
            "count": 3
           },
           {
            "bin_end": 0.2,
            "bin_start": 0.1,
            "count": 0
           },
           {
            "bin_end": 0.30000000000000004,
            "bin_start": 0.2,
            "count": 0
           },
           {
            "bin_end": 0.4,
            "bin_start": 0.30000000000000004,
            "count": 0
           },
           {
            "bin_end": 0.5,
            "bin_start": 0.4,
            "count": 0
           },
           {
            "bin_end": 0.6000000000000001,
            "bin_start": 0.5,
            "count": 0
           },
           {
            "bin_end": 0.7000000000000001,
            "bin_start": 0.6000000000000001,
            "count": 0
           },
           {
            "bin_end": 0.8,
            "bin_start": 0.7000000000000001,
            "count": 0
           },
           {
            "bin_end": 0.9,
            "bin_start": 0.8,
            "count": 0
           },
           {
            "bin_end": 1,
            "bin_start": 0.9,
            "count": 2
           }
          ],
          "max": "1",
          "min": "0",
          "nan_count": 0,
          "unique_count": 2
         }
        },
        {
         "dtype": "int64",
         "name": "Property A123",
         "stats": {
          "histogram": [
           {
            "bin_end": 0.1,
            "bin_start": 0,
            "count": 3
           },
           {
            "bin_end": 0.2,
            "bin_start": 0.1,
            "count": 0
           },
           {
            "bin_end": 0.30000000000000004,
            "bin_start": 0.2,
            "count": 0
           },
           {
            "bin_end": 0.4,
            "bin_start": 0.30000000000000004,
            "count": 0
           },
           {
            "bin_end": 0.5,
            "bin_start": 0.4,
            "count": 0
           },
           {
            "bin_end": 0.6000000000000001,
            "bin_start": 0.5,
            "count": 0
           },
           {
            "bin_end": 0.7000000000000001,
            "bin_start": 0.6000000000000001,
            "count": 0
           },
           {
            "bin_end": 0.8,
            "bin_start": 0.7000000000000001,
            "count": 0
           },
           {
            "bin_end": 0.9,
            "bin_start": 0.8,
            "count": 0
           },
           {
            "bin_end": 1,
            "bin_start": 0.9,
            "count": 2
           }
          ],
          "max": "1",
          "min": "0",
          "nan_count": 0,
          "unique_count": 2
         }
        },
        {
         "dtype": "int64",
         "name": "Property A124",
         "stats": {
          "histogram": [
           {
            "bin_end": 0.1,
            "bin_start": 0,
            "count": 4
           },
           {
            "bin_end": 0.2,
            "bin_start": 0.1,
            "count": 0
           },
           {
            "bin_end": 0.30000000000000004,
            "bin_start": 0.2,
            "count": 0
           },
           {
            "bin_end": 0.4,
            "bin_start": 0.30000000000000004,
            "count": 0
           },
           {
            "bin_end": 0.5,
            "bin_start": 0.4,
            "count": 0
           },
           {
            "bin_end": 0.6000000000000001,
            "bin_start": 0.5,
            "count": 0
           },
           {
            "bin_end": 0.7000000000000001,
            "bin_start": 0.6000000000000001,
            "count": 0
           },
           {
            "bin_end": 0.8,
            "bin_start": 0.7000000000000001,
            "count": 0
           },
           {
            "bin_end": 0.9,
            "bin_start": 0.8,
            "count": 0
           },
           {
            "bin_end": 1,
            "bin_start": 0.9,
            "count": 1
           }
          ],
          "max": "1",
          "min": "0",
          "nan_count": 0,
          "unique_count": 2
         }
        },
        {
         "dtype": "float64",
         "name": "Age",
         "stats": {
          "histogram": [
           {
            "bin_end": 0.1210844204,
            "bin_start": 0.054780375,
            "count": 2
           },
           {
            "bin_end": 0.1873884658,
            "bin_start": 0.1210844204,
            "count": 0
           },
           {
            "bin_end": 0.25369251119999997,
            "bin_start": 0.1873884658,
            "count": 2
           },
           {
            "bin_end": 0.3199965566,
            "bin_start": 0.25369251119999997,
            "count": 0
           },
           {
            "bin_end": 0.386300602,
            "bin_start": 0.3199965566,
            "count": 0
           },
           {
            "bin_end": 0.45260464739999995,
            "bin_start": 0.386300602,
            "count": 0
           },
           {
            "bin_end": 0.5189086928,
            "bin_start": 0.45260464739999995,
            "count": 0
           },
           {
            "bin_end": 0.5852127382,
            "bin_start": 0.5189086928,
            "count": 0
           },
           {
            "bin_end": 0.6515167836,
            "bin_start": 0.5852127382,
            "count": 0
           },
           {
            "bin_end": 0.717820829,
            "bin_start": 0.6515167836,
            "count": 1
           }
          ],
          "max": "0.717820829",
          "min": "0.054780375",
          "nan_count": 0,
          "unique_count": 5
         }
        },
        {
         "dtype": "int64",
         "name": "Telephone1",
         "stats": {
          "histogram": [
           {
            "bin_end": -0.4,
            "bin_start": -0.5,
            "count": 0
           },
           {
            "bin_end": -0.3,
            "bin_start": -0.4,
            "count": 0
           },
           {
            "bin_end": -0.19999999999999996,
            "bin_start": -0.3,
            "count": 0
           },
           {
            "bin_end": -0.09999999999999998,
            "bin_start": -0.19999999999999996,
            "count": 0
           },
           {
            "bin_end": 0,
            "bin_start": -0.09999999999999998,
            "count": 0
           },
           {
            "bin_end": 0.10000000000000009,
            "bin_start": 0,
            "count": 5
           },
           {
            "bin_end": 0.20000000000000007,
            "bin_start": 0.10000000000000009,
            "count": 0
           },
           {
            "bin_end": 0.30000000000000004,
            "bin_start": 0.20000000000000007,
            "count": 0
           },
           {
            "bin_end": 0.4,
            "bin_start": 0.30000000000000004,
            "count": 0
           },
           {
            "bin_end": 0.5,
            "bin_start": 0.4,
            "count": 0
           }
          ],
          "max": "0",
          "min": "0",
          "nan_count": 0,
          "unique_count": 1
         }
        },
        {
         "dtype": "int64",
         "name": "CreditScore",
         "stats": {
          "histogram": [
           {
            "bin_end": 0.6,
            "bin_start": 0.5,
            "count": 0
           },
           {
            "bin_end": 0.7,
            "bin_start": 0.6,
            "count": 0
           },
           {
            "bin_end": 0.8,
            "bin_start": 0.7,
            "count": 0
           },
           {
            "bin_end": 0.9,
            "bin_start": 0.8,
            "count": 0
           },
           {
            "bin_end": 1,
            "bin_start": 0.9,
            "count": 0
           },
           {
            "bin_end": 1.1,
            "bin_start": 1,
            "count": 5
           },
           {
            "bin_end": 1.2000000000000002,
            "bin_start": 1.1,
            "count": 0
           },
           {
            "bin_end": 1.3,
            "bin_start": 1.2000000000000002,
            "count": 0
           },
           {
            "bin_end": 1.4,
            "bin_start": 1.3,
            "count": 0
           },
           {
            "bin_end": 1.5,
            "bin_start": 1.4,
            "count": 0
           }
          ],
          "max": "1",
          "min": "1",
          "nan_count": 0,
          "unique_count": 1
         }
        },
        {
         "dtype": "int64",
         "name": "_deepnote_index_column"
        }
       ],
       "row_count": 5,
       "rows_bottom": null,
       "rows_top": [
        {
         "Age": 0.191592788,
         "CheckingAcctStat A11": 0,
         "CheckingAcctStat A12": 1,
         "CheckingAcctStat A13": 0,
         "CheckingAcctStat A14": 0,
         "CreditHistory A30": 0,
         "CreditHistory A31": 0,
         "CreditHistory A32": 1,
         "CreditHistory A33": 0,
         "CreditHistory A34": 0,
         "CreditScore": 1,
         "Duration": 0.341710187,
         "Employment A71": 0,
         "Employment A72": 0,
         "Employment A73": 1,
         "Employment A74": 0,
         "Employment A75": 0,
         "InstallmentRatePecnt": 1,
         "PresentResidenceTime": 0.333333333,
         "Property A121": 0,
         "Property A122": 0,
         "Property A123": 1,
         "Property A124": 0,
         "Purpose A40": 0,
         "Purpose A41": 0,
         "Purpose A410": 0,
         "Purpose A42": 0,
         "Purpose A43": 0,
         "Purpose A44": 0,
         "Purpose A45": 0,
         "Purpose A46": 1,
         "Purpose A48": 0,
         "Purpose A49": 0,
         "Savings A61": 1,
         "Savings A62": 0,
         "Savings A63": 0,
         "Savings A64": 0,
         "Savings A65": 0,
         "Telephone1": 0,
         "_deepnote_index_column": 945
        },
        {
         "Age": 0.717820829,
         "CheckingAcctStat A11": 1,
         "CheckingAcctStat A12": 0,
         "CheckingAcctStat A13": 0,
         "CheckingAcctStat A14": 0,
         "CreditHistory A30": 0,
         "CreditHistory A31": 1,
         "CreditHistory A32": 0,
         "CreditHistory A33": 0,
         "CreditHistory A34": 0,
         "CreditScore": 1,
         "Duration": 0.175014816,
         "Employment A71": 0,
         "Employment A72": 0,
         "Employment A73": 1,
         "Employment A74": 0,
         "Employment A75": 0,
         "InstallmentRatePecnt": 1,
         "PresentResidenceTime": 0.179146282,
         "Property A121": 0,
         "Property A122": 0,
         "Property A123": 1,
         "Property A124": 0,
         "Purpose A40": 0,
         "Purpose A41": 0,
         "Purpose A410": 0,
         "Purpose A42": 0,
         "Purpose A43": 0,
         "Purpose A44": 1,
         "Purpose A45": 0,
         "Purpose A46": 0,
         "Purpose A48": 0,
         "Purpose A49": 0,
         "Savings A61": 1,
         "Savings A62": 0,
         "Savings A63": 0,
         "Savings A64": 0,
         "Savings A65": 0,
         "Telephone1": 0,
         "_deepnote_index_column": 946
        },
        {
         "Age": 0.222093483,
         "CheckingAcctStat A11": 1,
         "CheckingAcctStat A12": 0,
         "CheckingAcctStat A13": 0,
         "CheckingAcctStat A14": 0,
         "CreditHistory A30": 0,
         "CreditHistory A31": 0,
         "CreditHistory A32": 0,
         "CreditHistory A33": 0,
         "CreditHistory A34": 1,
         "CreditScore": 1,
         "Duration": 0.173662841,
         "Employment A71": 0,
         "Employment A72": 0,
         "Employment A73": 1,
         "Employment A74": 0,
         "Employment A75": 0,
         "InstallmentRatePecnt": 1,
         "PresentResidenceTime": 0.093442824,
         "Property A121": 0,
         "Property A122": 0,
         "Property A123": 0,
         "Property A124": 1,
         "Purpose A40": 0,
         "Purpose A41": 0,
         "Purpose A410": 0,
         "Purpose A42": 0,
         "Purpose A43": 0,
         "Purpose A44": 1,
         "Purpose A45": 0,
         "Purpose A46": 0,
         "Purpose A48": 0,
         "Purpose A49": 0,
         "Savings A61": 1,
         "Savings A62": 0,
         "Savings A63": 0,
         "Savings A64": 0,
         "Savings A65": 0,
         "Telephone1": 0,
         "_deepnote_index_column": 947
        },
        {
         "Age": 0.068550579,
         "CheckingAcctStat A11": 1,
         "CheckingAcctStat A12": 0,
         "CheckingAcctStat A13": 0,
         "CheckingAcctStat A14": 0,
         "CreditHistory A30": 0,
         "CreditHistory A31": 0,
         "CreditHistory A32": 1,
         "CreditHistory A33": 0,
         "CreditHistory A34": 0,
         "CreditScore": 1,
         "Duration": 0.060279302,
         "Employment A71": 0,
         "Employment A72": 1,
         "Employment A73": 0,
         "Employment A74": 0,
         "Employment A75": 0,
         "InstallmentRatePecnt": 1,
         "PresentResidenceTime": 0.487520384,
         "Property A121": 0,
         "Property A122": 1,
         "Property A123": 0,
         "Property A124": 0,
         "Purpose A40": 0,
         "Purpose A41": 0,
         "Purpose A410": 0,
         "Purpose A42": 0,
         "Purpose A43": 0,
         "Purpose A44": 0,
         "Purpose A45": 1,
         "Purpose A46": 0,
         "Purpose A48": 0,
         "Purpose A49": 0,
         "Savings A61": 0,
         "Savings A62": 1,
         "Savings A63": 0,
         "Savings A64": 0,
         "Savings A65": 0,
         "Telephone1": 0,
         "_deepnote_index_column": 948
        },
        {
         "Age": 0.054780375,
         "CheckingAcctStat A11": 1,
         "CheckingAcctStat A12": 0,
         "CheckingAcctStat A13": 0,
         "CheckingAcctStat A14": 0,
         "CreditHistory A30": 0,
         "CreditHistory A31": 0,
         "CreditHistory A32": 1,
         "CreditHistory A33": 0,
         "CreditHistory A34": 0,
         "CreditScore": 1,
         "Duration": 0.061631277,
         "Employment A71": 1,
         "Employment A72": 0,
         "Employment A73": 0,
         "Employment A74": 0,
         "Employment A75": 0,
         "InstallmentRatePecnt": 1,
         "PresentResidenceTime": 0.697814275,
         "Property A121": 0,
         "Property A122": 1,
         "Property A123": 0,
         "Property A124": 0,
         "Purpose A40": 0,
         "Purpose A41": 0,
         "Purpose A410": 0,
         "Purpose A42": 0,
         "Purpose A43": 0,
         "Purpose A44": 0,
         "Purpose A45": 1,
         "Purpose A46": 0,
         "Purpose A48": 0,
         "Purpose A49": 0,
         "Savings A61": 0,
         "Savings A62": 1,
         "Savings A63": 0,
         "Savings A64": 0,
         "Savings A65": 0,
         "Telephone1": 0,
         "_deepnote_index_column": 949
        }
       ]
      },
      "text/html": [
       "<div>\n",
       "<style scoped>\n",
       "    .dataframe tbody tr th:only-of-type {\n",
       "        vertical-align: middle;\n",
       "    }\n",
       "\n",
       "    .dataframe tbody tr th {\n",
       "        vertical-align: top;\n",
       "    }\n",
       "\n",
       "    .dataframe thead th {\n",
       "        text-align: right;\n",
       "    }\n",
       "</style>\n",
       "<table border=\"1\" class=\"dataframe\">\n",
       "  <thead>\n",
       "    <tr style=\"text-align: right;\">\n",
       "      <th></th>\n",
       "      <th>CheckingAcctStat A11</th>\n",
       "      <th>CheckingAcctStat A12</th>\n",
       "      <th>CheckingAcctStat A13</th>\n",
       "      <th>CheckingAcctStat A14</th>\n",
       "      <th>Duration</th>\n",
       "      <th>CreditHistory A30</th>\n",
       "      <th>CreditHistory A31</th>\n",
       "      <th>CreditHistory A32</th>\n",
       "      <th>CreditHistory A33</th>\n",
       "      <th>CreditHistory A34</th>\n",
       "      <th>...</th>\n",
       "      <th>Employment A75</th>\n",
       "      <th>InstallmentRatePecnt</th>\n",
       "      <th>PresentResidenceTime</th>\n",
       "      <th>Property A121</th>\n",
       "      <th>Property A122</th>\n",
       "      <th>Property A123</th>\n",
       "      <th>Property A124</th>\n",
       "      <th>Age</th>\n",
       "      <th>Telephone1</th>\n",
       "      <th>CreditScore</th>\n",
       "    </tr>\n",
       "  </thead>\n",
       "  <tbody>\n",
       "    <tr>\n",
       "      <th>945</th>\n",
       "      <td>0</td>\n",
       "      <td>1</td>\n",
       "      <td>0</td>\n",
       "      <td>0</td>\n",
       "      <td>0.341710</td>\n",
       "      <td>0</td>\n",
       "      <td>0</td>\n",
       "      <td>1</td>\n",
       "      <td>0</td>\n",
       "      <td>0</td>\n",
       "      <td>...</td>\n",
       "      <td>0</td>\n",
       "      <td>1.0</td>\n",
       "      <td>0.333333</td>\n",
       "      <td>0</td>\n",
       "      <td>0</td>\n",
       "      <td>1</td>\n",
       "      <td>0</td>\n",
       "      <td>0.191593</td>\n",
       "      <td>0</td>\n",
       "      <td>1</td>\n",
       "    </tr>\n",
       "    <tr>\n",
       "      <th>946</th>\n",
       "      <td>1</td>\n",
       "      <td>0</td>\n",
       "      <td>0</td>\n",
       "      <td>0</td>\n",
       "      <td>0.175015</td>\n",
       "      <td>0</td>\n",
       "      <td>1</td>\n",
       "      <td>0</td>\n",
       "      <td>0</td>\n",
       "      <td>0</td>\n",
       "      <td>...</td>\n",
       "      <td>0</td>\n",
       "      <td>1.0</td>\n",
       "      <td>0.179146</td>\n",
       "      <td>0</td>\n",
       "      <td>0</td>\n",
       "      <td>1</td>\n",
       "      <td>0</td>\n",
       "      <td>0.717821</td>\n",
       "      <td>0</td>\n",
       "      <td>1</td>\n",
       "    </tr>\n",
       "    <tr>\n",
       "      <th>947</th>\n",
       "      <td>1</td>\n",
       "      <td>0</td>\n",
       "      <td>0</td>\n",
       "      <td>0</td>\n",
       "      <td>0.173663</td>\n",
       "      <td>0</td>\n",
       "      <td>0</td>\n",
       "      <td>0</td>\n",
       "      <td>0</td>\n",
       "      <td>1</td>\n",
       "      <td>...</td>\n",
       "      <td>0</td>\n",
       "      <td>1.0</td>\n",
       "      <td>0.093443</td>\n",
       "      <td>0</td>\n",
       "      <td>0</td>\n",
       "      <td>0</td>\n",
       "      <td>1</td>\n",
       "      <td>0.222093</td>\n",
       "      <td>0</td>\n",
       "      <td>1</td>\n",
       "    </tr>\n",
       "    <tr>\n",
       "      <th>948</th>\n",
       "      <td>1</td>\n",
       "      <td>0</td>\n",
       "      <td>0</td>\n",
       "      <td>0</td>\n",
       "      <td>0.060279</td>\n",
       "      <td>0</td>\n",
       "      <td>0</td>\n",
       "      <td>1</td>\n",
       "      <td>0</td>\n",
       "      <td>0</td>\n",
       "      <td>...</td>\n",
       "      <td>0</td>\n",
       "      <td>1.0</td>\n",
       "      <td>0.487520</td>\n",
       "      <td>0</td>\n",
       "      <td>1</td>\n",
       "      <td>0</td>\n",
       "      <td>0</td>\n",
       "      <td>0.068551</td>\n",
       "      <td>0</td>\n",
       "      <td>1</td>\n",
       "    </tr>\n",
       "    <tr>\n",
       "      <th>949</th>\n",
       "      <td>1</td>\n",
       "      <td>0</td>\n",
       "      <td>0</td>\n",
       "      <td>0</td>\n",
       "      <td>0.061631</td>\n",
       "      <td>0</td>\n",
       "      <td>0</td>\n",
       "      <td>1</td>\n",
       "      <td>0</td>\n",
       "      <td>0</td>\n",
       "      <td>...</td>\n",
       "      <td>0</td>\n",
       "      <td>1.0</td>\n",
       "      <td>0.697814</td>\n",
       "      <td>0</td>\n",
       "      <td>1</td>\n",
       "      <td>0</td>\n",
       "      <td>0</td>\n",
       "      <td>0.054780</td>\n",
       "      <td>0</td>\n",
       "      <td>1</td>\n",
       "    </tr>\n",
       "  </tbody>\n",
       "</table>\n",
       "<p>5 rows × 39 columns</p>\n",
       "</div>"
      ],
      "text/plain": [
       "     CheckingAcctStat A11  CheckingAcctStat A12  CheckingAcctStat A13  \\\n",
       "945                     0                     1                     0   \n",
       "946                     1                     0                     0   \n",
       "947                     1                     0                     0   \n",
       "948                     1                     0                     0   \n",
       "949                     1                     0                     0   \n",
       "\n",
       "     CheckingAcctStat A14  Duration  CreditHistory A30  CreditHistory A31  \\\n",
       "945                     0  0.341710                  0                  0   \n",
       "946                     0  0.175015                  0                  1   \n",
       "947                     0  0.173663                  0                  0   \n",
       "948                     0  0.060279                  0                  0   \n",
       "949                     0  0.061631                  0                  0   \n",
       "\n",
       "     CreditHistory A32  CreditHistory A33  CreditHistory A34  ...  \\\n",
       "945                  1                  0                  0  ...   \n",
       "946                  0                  0                  0  ...   \n",
       "947                  0                  0                  1  ...   \n",
       "948                  1                  0                  0  ...   \n",
       "949                  1                  0                  0  ...   \n",
       "\n",
       "     Employment A75  InstallmentRatePecnt  PresentResidenceTime  \\\n",
       "945               0                   1.0              0.333333   \n",
       "946               0                   1.0              0.179146   \n",
       "947               0                   1.0              0.093443   \n",
       "948               0                   1.0              0.487520   \n",
       "949               0                   1.0              0.697814   \n",
       "\n",
       "     Property A121  Property A122  Property A123  Property A124       Age  \\\n",
       "945              0              0              1              0  0.191593   \n",
       "946              0              0              1              0  0.717821   \n",
       "947              0              0              0              1  0.222093   \n",
       "948              0              1              0              0  0.068551   \n",
       "949              0              1              0              0  0.054780   \n",
       "\n",
       "     Telephone1  CreditScore  \n",
       "945           0            1  \n",
       "946           0            1  \n",
       "947           0            1  \n",
       "948           0            1  \n",
       "949           0            1  \n",
       "\n",
       "[5 rows x 39 columns]"
      ]
     },
     "execution_count": 11,
     "metadata": {},
     "output_type": "execute_result"
    }
   ],
   "source": [
    "#Devuelve las n últimas filas\n",
    "df.tail()"
   ]
  },
  {
   "cell_type": "code",
   "execution_count": null,
   "metadata": {
    "cell_id": "f7424c0a942643229e825ddcd274ffe2",
    "deepnote_cell_type": "code",
    "deepnote_to_be_reexecuted": false,
    "execution_millis": 52,
    "execution_start": 1639498473896,
    "source_hash": "d96a2802",
    "tags": []
   },
   "outputs": [
    {
     "data": {
      "application/vnd.deepnote.dataframe.v2+json": {
       "column_count": 39,
       "columns": [
        {
         "dtype": "int64",
         "name": "CheckingAcctStat A11",
         "stats": {
          "histogram": [
           {
            "bin_end": 0.1,
            "bin_start": 0,
            "count": 1
           },
           {
            "bin_end": 0.2,
            "bin_start": 0.1,
            "count": 0
           },
           {
            "bin_end": 0.30000000000000004,
            "bin_start": 0.2,
            "count": 0
           },
           {
            "bin_end": 0.4,
            "bin_start": 0.30000000000000004,
            "count": 0
           },
           {
            "bin_end": 0.5,
            "bin_start": 0.4,
            "count": 0
           },
           {
            "bin_end": 0.6000000000000001,
            "bin_start": 0.5,
            "count": 0
           },
           {
            "bin_end": 0.7000000000000001,
            "bin_start": 0.6000000000000001,
            "count": 0
           },
           {
            "bin_end": 0.8,
            "bin_start": 0.7000000000000001,
            "count": 0
           },
           {
            "bin_end": 0.9,
            "bin_start": 0.8,
            "count": 0
           },
           {
            "bin_end": 1,
            "bin_start": 0.9,
            "count": 2
           }
          ],
          "max": "1",
          "min": "0",
          "nan_count": 0,
          "unique_count": 2
         }
        },
        {
         "dtype": "int64",
         "name": "CheckingAcctStat A12",
         "stats": {
          "histogram": [
           {
            "bin_end": -0.4,
            "bin_start": -0.5,
            "count": 0
           },
           {
            "bin_end": -0.3,
            "bin_start": -0.4,
            "count": 0
           },
           {
            "bin_end": -0.19999999999999996,
            "bin_start": -0.3,
            "count": 0
           },
           {
            "bin_end": -0.09999999999999998,
            "bin_start": -0.19999999999999996,
            "count": 0
           },
           {
            "bin_end": 0,
            "bin_start": -0.09999999999999998,
            "count": 0
           },
           {
            "bin_end": 0.10000000000000009,
            "bin_start": 0,
            "count": 3
           },
           {
            "bin_end": 0.20000000000000007,
            "bin_start": 0.10000000000000009,
            "count": 0
           },
           {
            "bin_end": 0.30000000000000004,
            "bin_start": 0.20000000000000007,
            "count": 0
           },
           {
            "bin_end": 0.4,
            "bin_start": 0.30000000000000004,
            "count": 0
           },
           {
            "bin_end": 0.5,
            "bin_start": 0.4,
            "count": 0
           }
          ],
          "max": "0",
          "min": "0",
          "nan_count": 0,
          "unique_count": 1
         }
        },
        {
         "dtype": "int64",
         "name": "CheckingAcctStat A13",
         "stats": {
          "histogram": [
           {
            "bin_end": -0.4,
            "bin_start": -0.5,
            "count": 0
           },
           {
            "bin_end": -0.3,
            "bin_start": -0.4,
            "count": 0
           },
           {
            "bin_end": -0.19999999999999996,
            "bin_start": -0.3,
            "count": 0
           },
           {
            "bin_end": -0.09999999999999998,
            "bin_start": -0.19999999999999996,
            "count": 0
           },
           {
            "bin_end": 0,
            "bin_start": -0.09999999999999998,
            "count": 0
           },
           {
            "bin_end": 0.10000000000000009,
            "bin_start": 0,
            "count": 3
           },
           {
            "bin_end": 0.20000000000000007,
            "bin_start": 0.10000000000000009,
            "count": 0
           },
           {
            "bin_end": 0.30000000000000004,
            "bin_start": 0.20000000000000007,
            "count": 0
           },
           {
            "bin_end": 0.4,
            "bin_start": 0.30000000000000004,
            "count": 0
           },
           {
            "bin_end": 0.5,
            "bin_start": 0.4,
            "count": 0
           }
          ],
          "max": "0",
          "min": "0",
          "nan_count": 0,
          "unique_count": 1
         }
        },
        {
         "dtype": "int64",
         "name": "CheckingAcctStat A14",
         "stats": {
          "histogram": [
           {
            "bin_end": 0.1,
            "bin_start": 0,
            "count": 2
           },
           {
            "bin_end": 0.2,
            "bin_start": 0.1,
            "count": 0
           },
           {
            "bin_end": 0.30000000000000004,
            "bin_start": 0.2,
            "count": 0
           },
           {
            "bin_end": 0.4,
            "bin_start": 0.30000000000000004,
            "count": 0
           },
           {
            "bin_end": 0.5,
            "bin_start": 0.4,
            "count": 0
           },
           {
            "bin_end": 0.6000000000000001,
            "bin_start": 0.5,
            "count": 0
           },
           {
            "bin_end": 0.7000000000000001,
            "bin_start": 0.6000000000000001,
            "count": 0
           },
           {
            "bin_end": 0.8,
            "bin_start": 0.7000000000000001,
            "count": 0
           },
           {
            "bin_end": 0.9,
            "bin_start": 0.8,
            "count": 0
           },
           {
            "bin_end": 1,
            "bin_start": 0.9,
            "count": 1
           }
          ],
          "max": "1",
          "min": "0",
          "nan_count": 0,
          "unique_count": 2
         }
        },
        {
         "dtype": "float64",
         "name": "Duration",
         "stats": {
          "histogram": [
           {
            "bin_end": 0.042647059099999995,
            "bin_start": 0.029411765,
            "count": 1
           },
           {
            "bin_end": 0.0558823532,
            "bin_start": 0.042647059099999995,
            "count": 0
           },
           {
            "bin_end": 0.0691176473,
            "bin_start": 0.0558823532,
            "count": 0
           },
           {
            "bin_end": 0.08235294139999999,
            "bin_start": 0.0691176473,
            "count": 0
           },
           {
            "bin_end": 0.09558823550000001,
            "bin_start": 0.08235294139999999,
            "count": 0
           },
           {
            "bin_end": 0.1088235296,
            "bin_start": 0.09558823550000001,
            "count": 0
           },
           {
            "bin_end": 0.12205882369999999,
            "bin_start": 0.1088235296,
            "count": 1
           },
           {
            "bin_end": 0.1352941178,
            "bin_start": 0.12205882369999999,
            "count": 0
           },
           {
            "bin_end": 0.1485294119,
            "bin_start": 0.1352941178,
            "count": 0
           },
           {
            "bin_end": 0.161764706,
            "bin_start": 0.1485294119,
            "count": 1
           }
          ],
          "max": "0.161764706",
          "min": "0.029411765",
          "nan_count": 0,
          "unique_count": 3
         }
        },
        {
         "dtype": "int64",
         "name": "CreditHistory A30",
         "stats": {
          "histogram": [
           {
            "bin_end": -0.4,
            "bin_start": -0.5,
            "count": 0
           },
           {
            "bin_end": -0.3,
            "bin_start": -0.4,
            "count": 0
           },
           {
            "bin_end": -0.19999999999999996,
            "bin_start": -0.3,
            "count": 0
           },
           {
            "bin_end": -0.09999999999999998,
            "bin_start": -0.19999999999999996,
            "count": 0
           },
           {
            "bin_end": 0,
            "bin_start": -0.09999999999999998,
            "count": 0
           },
           {
            "bin_end": 0.10000000000000009,
            "bin_start": 0,
            "count": 3
           },
           {
            "bin_end": 0.20000000000000007,
            "bin_start": 0.10000000000000009,
            "count": 0
           },
           {
            "bin_end": 0.30000000000000004,
            "bin_start": 0.20000000000000007,
            "count": 0
           },
           {
            "bin_end": 0.4,
            "bin_start": 0.30000000000000004,
            "count": 0
           },
           {
            "bin_end": 0.5,
            "bin_start": 0.4,
            "count": 0
           }
          ],
          "max": "0",
          "min": "0",
          "nan_count": 0,
          "unique_count": 1
         }
        },
        {
         "dtype": "int64",
         "name": "CreditHistory A31",
         "stats": {
          "histogram": [
           {
            "bin_end": -0.4,
            "bin_start": -0.5,
            "count": 0
           },
           {
            "bin_end": -0.3,
            "bin_start": -0.4,
            "count": 0
           },
           {
            "bin_end": -0.19999999999999996,
            "bin_start": -0.3,
            "count": 0
           },
           {
            "bin_end": -0.09999999999999998,
            "bin_start": -0.19999999999999996,
            "count": 0
           },
           {
            "bin_end": 0,
            "bin_start": -0.09999999999999998,
            "count": 0
           },
           {
            "bin_end": 0.10000000000000009,
            "bin_start": 0,
            "count": 3
           },
           {
            "bin_end": 0.20000000000000007,
            "bin_start": 0.10000000000000009,
            "count": 0
           },
           {
            "bin_end": 0.30000000000000004,
            "bin_start": 0.20000000000000007,
            "count": 0
           },
           {
            "bin_end": 0.4,
            "bin_start": 0.30000000000000004,
            "count": 0
           },
           {
            "bin_end": 0.5,
            "bin_start": 0.4,
            "count": 0
           }
          ],
          "max": "0",
          "min": "0",
          "nan_count": 0,
          "unique_count": 1
         }
        },
        {
         "dtype": "int64",
         "name": "CreditHistory A32",
         "stats": {
          "histogram": [
           {
            "bin_end": 0.1,
            "bin_start": 0,
            "count": 1
           },
           {
            "bin_end": 0.2,
            "bin_start": 0.1,
            "count": 0
           },
           {
            "bin_end": 0.30000000000000004,
            "bin_start": 0.2,
            "count": 0
           },
           {
            "bin_end": 0.4,
            "bin_start": 0.30000000000000004,
            "count": 0
           },
           {
            "bin_end": 0.5,
            "bin_start": 0.4,
            "count": 0
           },
           {
            "bin_end": 0.6000000000000001,
            "bin_start": 0.5,
            "count": 0
           },
           {
            "bin_end": 0.7000000000000001,
            "bin_start": 0.6000000000000001,
            "count": 0
           },
           {
            "bin_end": 0.8,
            "bin_start": 0.7000000000000001,
            "count": 0
           },
           {
            "bin_end": 0.9,
            "bin_start": 0.8,
            "count": 0
           },
           {
            "bin_end": 1,
            "bin_start": 0.9,
            "count": 2
           }
          ],
          "max": "1",
          "min": "0",
          "nan_count": 0,
          "unique_count": 2
         }
        },
        {
         "dtype": "int64",
         "name": "CreditHistory A33",
         "stats": {
          "histogram": [
           {
            "bin_end": -0.4,
            "bin_start": -0.5,
            "count": 0
           },
           {
            "bin_end": -0.3,
            "bin_start": -0.4,
            "count": 0
           },
           {
            "bin_end": -0.19999999999999996,
            "bin_start": -0.3,
            "count": 0
           },
           {
            "bin_end": -0.09999999999999998,
            "bin_start": -0.19999999999999996,
            "count": 0
           },
           {
            "bin_end": 0,
            "bin_start": -0.09999999999999998,
            "count": 0
           },
           {
            "bin_end": 0.10000000000000009,
            "bin_start": 0,
            "count": 3
           },
           {
            "bin_end": 0.20000000000000007,
            "bin_start": 0.10000000000000009,
            "count": 0
           },
           {
            "bin_end": 0.30000000000000004,
            "bin_start": 0.20000000000000007,
            "count": 0
           },
           {
            "bin_end": 0.4,
            "bin_start": 0.30000000000000004,
            "count": 0
           },
           {
            "bin_end": 0.5,
            "bin_start": 0.4,
            "count": 0
           }
          ],
          "max": "0",
          "min": "0",
          "nan_count": 0,
          "unique_count": 1
         }
        },
        {
         "dtype": "int64",
         "name": "CreditHistory A34",
         "stats": {
          "histogram": [
           {
            "bin_end": 0.1,
            "bin_start": 0,
            "count": 2
           },
           {
            "bin_end": 0.2,
            "bin_start": 0.1,
            "count": 0
           },
           {
            "bin_end": 0.30000000000000004,
            "bin_start": 0.2,
            "count": 0
           },
           {
            "bin_end": 0.4,
            "bin_start": 0.30000000000000004,
            "count": 0
           },
           {
            "bin_end": 0.5,
            "bin_start": 0.4,
            "count": 0
           },
           {
            "bin_end": 0.6000000000000001,
            "bin_start": 0.5,
            "count": 0
           },
           {
            "bin_end": 0.7000000000000001,
            "bin_start": 0.6000000000000001,
            "count": 0
           },
           {
            "bin_end": 0.8,
            "bin_start": 0.7000000000000001,
            "count": 0
           },
           {
            "bin_end": 0.9,
            "bin_start": 0.8,
            "count": 0
           },
           {
            "bin_end": 1,
            "bin_start": 0.9,
            "count": 1
           }
          ],
          "max": "1",
          "min": "0",
          "nan_count": 0,
          "unique_count": 2
         }
        },
        {
         "dtype": "int64",
         "name": "Purpose A40",
         "stats": {
          "histogram": [
           {
            "bin_end": 0.1,
            "bin_start": 0,
            "count": 2
           },
           {
            "bin_end": 0.2,
            "bin_start": 0.1,
            "count": 0
           },
           {
            "bin_end": 0.30000000000000004,
            "bin_start": 0.2,
            "count": 0
           },
           {
            "bin_end": 0.4,
            "bin_start": 0.30000000000000004,
            "count": 0
           },
           {
            "bin_end": 0.5,
            "bin_start": 0.4,
            "count": 0
           },
           {
            "bin_end": 0.6000000000000001,
            "bin_start": 0.5,
            "count": 0
           },
           {
            "bin_end": 0.7000000000000001,
            "bin_start": 0.6000000000000001,
            "count": 0
           },
           {
            "bin_end": 0.8,
            "bin_start": 0.7000000000000001,
            "count": 0
           },
           {
            "bin_end": 0.9,
            "bin_start": 0.8,
            "count": 0
           },
           {
            "bin_end": 1,
            "bin_start": 0.9,
            "count": 1
           }
          ],
          "max": "1",
          "min": "0",
          "nan_count": 0,
          "unique_count": 2
         }
        },
        {
         "dtype": "int64",
         "name": "Purpose A41",
         "stats": {
          "histogram": [
           {
            "bin_end": -0.4,
            "bin_start": -0.5,
            "count": 0
           },
           {
            "bin_end": -0.3,
            "bin_start": -0.4,
            "count": 0
           },
           {
            "bin_end": -0.19999999999999996,
            "bin_start": -0.3,
            "count": 0
           },
           {
            "bin_end": -0.09999999999999998,
            "bin_start": -0.19999999999999996,
            "count": 0
           },
           {
            "bin_end": 0,
            "bin_start": -0.09999999999999998,
            "count": 0
           },
           {
            "bin_end": 0.10000000000000009,
            "bin_start": 0,
            "count": 3
           },
           {
            "bin_end": 0.20000000000000007,
            "bin_start": 0.10000000000000009,
            "count": 0
           },
           {
            "bin_end": 0.30000000000000004,
            "bin_start": 0.20000000000000007,
            "count": 0
           },
           {
            "bin_end": 0.4,
            "bin_start": 0.30000000000000004,
            "count": 0
           },
           {
            "bin_end": 0.5,
            "bin_start": 0.4,
            "count": 0
           }
          ],
          "max": "0",
          "min": "0",
          "nan_count": 0,
          "unique_count": 1
         }
        },
        {
         "dtype": "int64",
         "name": "Purpose A42",
         "stats": {
          "histogram": [
           {
            "bin_end": -0.4,
            "bin_start": -0.5,
            "count": 0
           },
           {
            "bin_end": -0.3,
            "bin_start": -0.4,
            "count": 0
           },
           {
            "bin_end": -0.19999999999999996,
            "bin_start": -0.3,
            "count": 0
           },
           {
            "bin_end": -0.09999999999999998,
            "bin_start": -0.19999999999999996,
            "count": 0
           },
           {
            "bin_end": 0,
            "bin_start": -0.09999999999999998,
            "count": 0
           },
           {
            "bin_end": 0.10000000000000009,
            "bin_start": 0,
            "count": 3
           },
           {
            "bin_end": 0.20000000000000007,
            "bin_start": 0.10000000000000009,
            "count": 0
           },
           {
            "bin_end": 0.30000000000000004,
            "bin_start": 0.20000000000000007,
            "count": 0
           },
           {
            "bin_end": 0.4,
            "bin_start": 0.30000000000000004,
            "count": 0
           },
           {
            "bin_end": 0.5,
            "bin_start": 0.4,
            "count": 0
           }
          ],
          "max": "0",
          "min": "0",
          "nan_count": 0,
          "unique_count": 1
         }
        },
        {
         "dtype": "int64",
         "name": "Purpose A43",
         "stats": {
          "histogram": [
           {
            "bin_end": 0.1,
            "bin_start": 0,
            "count": 2
           },
           {
            "bin_end": 0.2,
            "bin_start": 0.1,
            "count": 0
           },
           {
            "bin_end": 0.30000000000000004,
            "bin_start": 0.2,
            "count": 0
           },
           {
            "bin_end": 0.4,
            "bin_start": 0.30000000000000004,
            "count": 0
           },
           {
            "bin_end": 0.5,
            "bin_start": 0.4,
            "count": 0
           },
           {
            "bin_end": 0.6000000000000001,
            "bin_start": 0.5,
            "count": 0
           },
           {
            "bin_end": 0.7000000000000001,
            "bin_start": 0.6000000000000001,
            "count": 0
           },
           {
            "bin_end": 0.8,
            "bin_start": 0.7000000000000001,
            "count": 0
           },
           {
            "bin_end": 0.9,
            "bin_start": 0.8,
            "count": 0
           },
           {
            "bin_end": 1,
            "bin_start": 0.9,
            "count": 1
           }
          ],
          "max": "1",
          "min": "0",
          "nan_count": 0,
          "unique_count": 2
         }
        },
        {
         "dtype": "int64",
         "name": "Purpose A44",
         "stats": {
          "histogram": [
           {
            "bin_end": -0.4,
            "bin_start": -0.5,
            "count": 0
           },
           {
            "bin_end": -0.3,
            "bin_start": -0.4,
            "count": 0
           },
           {
            "bin_end": -0.19999999999999996,
            "bin_start": -0.3,
            "count": 0
           },
           {
            "bin_end": -0.09999999999999998,
            "bin_start": -0.19999999999999996,
            "count": 0
           },
           {
            "bin_end": 0,
            "bin_start": -0.09999999999999998,
            "count": 0
           },
           {
            "bin_end": 0.10000000000000009,
            "bin_start": 0,
            "count": 3
           },
           {
            "bin_end": 0.20000000000000007,
            "bin_start": 0.10000000000000009,
            "count": 0
           },
           {
            "bin_end": 0.30000000000000004,
            "bin_start": 0.20000000000000007,
            "count": 0
           },
           {
            "bin_end": 0.4,
            "bin_start": 0.30000000000000004,
            "count": 0
           },
           {
            "bin_end": 0.5,
            "bin_start": 0.4,
            "count": 0
           }
          ],
          "max": "0",
          "min": "0",
          "nan_count": 0,
          "unique_count": 1
         }
        },
        {
         "dtype": "int64",
         "name": "Purpose A45",
         "stats": {
          "histogram": [
           {
            "bin_end": -0.4,
            "bin_start": -0.5,
            "count": 0
           },
           {
            "bin_end": -0.3,
            "bin_start": -0.4,
            "count": 0
           },
           {
            "bin_end": -0.19999999999999996,
            "bin_start": -0.3,
            "count": 0
           },
           {
            "bin_end": -0.09999999999999998,
            "bin_start": -0.19999999999999996,
            "count": 0
           },
           {
            "bin_end": 0,
            "bin_start": -0.09999999999999998,
            "count": 0
           },
           {
            "bin_end": 0.10000000000000009,
            "bin_start": 0,
            "count": 3
           },
           {
            "bin_end": 0.20000000000000007,
            "bin_start": 0.10000000000000009,
            "count": 0
           },
           {
            "bin_end": 0.30000000000000004,
            "bin_start": 0.20000000000000007,
            "count": 0
           },
           {
            "bin_end": 0.4,
            "bin_start": 0.30000000000000004,
            "count": 0
           },
           {
            "bin_end": 0.5,
            "bin_start": 0.4,
            "count": 0
           }
          ],
          "max": "0",
          "min": "0",
          "nan_count": 0,
          "unique_count": 1
         }
        },
        {
         "dtype": "int64",
         "name": "Purpose A46",
         "stats": {
          "histogram": [
           {
            "bin_end": -0.4,
            "bin_start": -0.5,
            "count": 0
           },
           {
            "bin_end": -0.3,
            "bin_start": -0.4,
            "count": 0
           },
           {
            "bin_end": -0.19999999999999996,
            "bin_start": -0.3,
            "count": 0
           },
           {
            "bin_end": -0.09999999999999998,
            "bin_start": -0.19999999999999996,
            "count": 0
           },
           {
            "bin_end": 0,
            "bin_start": -0.09999999999999998,
            "count": 0
           },
           {
            "bin_end": 0.10000000000000009,
            "bin_start": 0,
            "count": 3
           },
           {
            "bin_end": 0.20000000000000007,
            "bin_start": 0.10000000000000009,
            "count": 0
           },
           {
            "bin_end": 0.30000000000000004,
            "bin_start": 0.20000000000000007,
            "count": 0
           },
           {
            "bin_end": 0.4,
            "bin_start": 0.30000000000000004,
            "count": 0
           },
           {
            "bin_end": 0.5,
            "bin_start": 0.4,
            "count": 0
           }
          ],
          "max": "0",
          "min": "0",
          "nan_count": 0,
          "unique_count": 1
         }
        },
        {
         "dtype": "int64",
         "name": "Purpose A48",
         "stats": {
          "histogram": [
           {
            "bin_end": -0.4,
            "bin_start": -0.5,
            "count": 0
           },
           {
            "bin_end": -0.3,
            "bin_start": -0.4,
            "count": 0
           },
           {
            "bin_end": -0.19999999999999996,
            "bin_start": -0.3,
            "count": 0
           },
           {
            "bin_end": -0.09999999999999998,
            "bin_start": -0.19999999999999996,
            "count": 0
           },
           {
            "bin_end": 0,
            "bin_start": -0.09999999999999998,
            "count": 0
           },
           {
            "bin_end": 0.10000000000000009,
            "bin_start": 0,
            "count": 3
           },
           {
            "bin_end": 0.20000000000000007,
            "bin_start": 0.10000000000000009,
            "count": 0
           },
           {
            "bin_end": 0.30000000000000004,
            "bin_start": 0.20000000000000007,
            "count": 0
           },
           {
            "bin_end": 0.4,
            "bin_start": 0.30000000000000004,
            "count": 0
           },
           {
            "bin_end": 0.5,
            "bin_start": 0.4,
            "count": 0
           }
          ],
          "max": "0",
          "min": "0",
          "nan_count": 0,
          "unique_count": 1
         }
        },
        {
         "dtype": "int64",
         "name": "Purpose A49",
         "stats": {
          "histogram": [
           {
            "bin_end": 0.1,
            "bin_start": 0,
            "count": 2
           },
           {
            "bin_end": 0.2,
            "bin_start": 0.1,
            "count": 0
           },
           {
            "bin_end": 0.30000000000000004,
            "bin_start": 0.2,
            "count": 0
           },
           {
            "bin_end": 0.4,
            "bin_start": 0.30000000000000004,
            "count": 0
           },
           {
            "bin_end": 0.5,
            "bin_start": 0.4,
            "count": 0
           },
           {
            "bin_end": 0.6000000000000001,
            "bin_start": 0.5,
            "count": 0
           },
           {
            "bin_end": 0.7000000000000001,
            "bin_start": 0.6000000000000001,
            "count": 0
           },
           {
            "bin_end": 0.8,
            "bin_start": 0.7000000000000001,
            "count": 0
           },
           {
            "bin_end": 0.9,
            "bin_start": 0.8,
            "count": 0
           },
           {
            "bin_end": 1,
            "bin_start": 0.9,
            "count": 1
           }
          ],
          "max": "1",
          "min": "0",
          "nan_count": 0,
          "unique_count": 2
         }
        },
        {
         "dtype": "int64",
         "name": "Purpose A410",
         "stats": {
          "histogram": [
           {
            "bin_end": -0.4,
            "bin_start": -0.5,
            "count": 0
           },
           {
            "bin_end": -0.3,
            "bin_start": -0.4,
            "count": 0
           },
           {
            "bin_end": -0.19999999999999996,
            "bin_start": -0.3,
            "count": 0
           },
           {
            "bin_end": -0.09999999999999998,
            "bin_start": -0.19999999999999996,
            "count": 0
           },
           {
            "bin_end": 0,
            "bin_start": -0.09999999999999998,
            "count": 0
           },
           {
            "bin_end": 0.10000000000000009,
            "bin_start": 0,
            "count": 3
           },
           {
            "bin_end": 0.20000000000000007,
            "bin_start": 0.10000000000000009,
            "count": 0
           },
           {
            "bin_end": 0.30000000000000004,
            "bin_start": 0.20000000000000007,
            "count": 0
           },
           {
            "bin_end": 0.4,
            "bin_start": 0.30000000000000004,
            "count": 0
           },
           {
            "bin_end": 0.5,
            "bin_start": 0.4,
            "count": 0
           }
          ],
          "max": "0",
          "min": "0",
          "nan_count": 0,
          "unique_count": 1
         }
        },
        {
         "dtype": "int64",
         "name": "Savings A61",
         "stats": {
          "histogram": [
           {
            "bin_end": 0.1,
            "bin_start": 0,
            "count": 2
           },
           {
            "bin_end": 0.2,
            "bin_start": 0.1,
            "count": 0
           },
           {
            "bin_end": 0.30000000000000004,
            "bin_start": 0.2,
            "count": 0
           },
           {
            "bin_end": 0.4,
            "bin_start": 0.30000000000000004,
            "count": 0
           },
           {
            "bin_end": 0.5,
            "bin_start": 0.4,
            "count": 0
           },
           {
            "bin_end": 0.6000000000000001,
            "bin_start": 0.5,
            "count": 0
           },
           {
            "bin_end": 0.7000000000000001,
            "bin_start": 0.6000000000000001,
            "count": 0
           },
           {
            "bin_end": 0.8,
            "bin_start": 0.7000000000000001,
            "count": 0
           },
           {
            "bin_end": 0.9,
            "bin_start": 0.8,
            "count": 0
           },
           {
            "bin_end": 1,
            "bin_start": 0.9,
            "count": 1
           }
          ],
          "max": "1",
          "min": "0",
          "nan_count": 0,
          "unique_count": 2
         }
        },
        {
         "dtype": "int64",
         "name": "Savings A62",
         "stats": {
          "histogram": [
           {
            "bin_end": -0.4,
            "bin_start": -0.5,
            "count": 0
           },
           {
            "bin_end": -0.3,
            "bin_start": -0.4,
            "count": 0
           },
           {
            "bin_end": -0.19999999999999996,
            "bin_start": -0.3,
            "count": 0
           },
           {
            "bin_end": -0.09999999999999998,
            "bin_start": -0.19999999999999996,
            "count": 0
           },
           {
            "bin_end": 0,
            "bin_start": -0.09999999999999998,
            "count": 0
           },
           {
            "bin_end": 0.10000000000000009,
            "bin_start": 0,
            "count": 3
           },
           {
            "bin_end": 0.20000000000000007,
            "bin_start": 0.10000000000000009,
            "count": 0
           },
           {
            "bin_end": 0.30000000000000004,
            "bin_start": 0.20000000000000007,
            "count": 0
           },
           {
            "bin_end": 0.4,
            "bin_start": 0.30000000000000004,
            "count": 0
           },
           {
            "bin_end": 0.5,
            "bin_start": 0.4,
            "count": 0
           }
          ],
          "max": "0",
          "min": "0",
          "nan_count": 0,
          "unique_count": 1
         }
        },
        {
         "dtype": "int64",
         "name": "Savings A63",
         "stats": {
          "histogram": [
           {
            "bin_end": 0.1,
            "bin_start": 0,
            "count": 2
           },
           {
            "bin_end": 0.2,
            "bin_start": 0.1,
            "count": 0
           },
           {
            "bin_end": 0.30000000000000004,
            "bin_start": 0.2,
            "count": 0
           },
           {
            "bin_end": 0.4,
            "bin_start": 0.30000000000000004,
            "count": 0
           },
           {
            "bin_end": 0.5,
            "bin_start": 0.4,
            "count": 0
           },
           {
            "bin_end": 0.6000000000000001,
            "bin_start": 0.5,
            "count": 0
           },
           {
            "bin_end": 0.7000000000000001,
            "bin_start": 0.6000000000000001,
            "count": 0
           },
           {
            "bin_end": 0.8,
            "bin_start": 0.7000000000000001,
            "count": 0
           },
           {
            "bin_end": 0.9,
            "bin_start": 0.8,
            "count": 0
           },
           {
            "bin_end": 1,
            "bin_start": 0.9,
            "count": 1
           }
          ],
          "max": "1",
          "min": "0",
          "nan_count": 0,
          "unique_count": 2
         }
        },
        {
         "dtype": "int64",
         "name": "Savings A64",
         "stats": {
          "histogram": [
           {
            "bin_end": 0.1,
            "bin_start": 0,
            "count": 2
           },
           {
            "bin_end": 0.2,
            "bin_start": 0.1,
            "count": 0
           },
           {
            "bin_end": 0.30000000000000004,
            "bin_start": 0.2,
            "count": 0
           },
           {
            "bin_end": 0.4,
            "bin_start": 0.30000000000000004,
            "count": 0
           },
           {
            "bin_end": 0.5,
            "bin_start": 0.4,
            "count": 0
           },
           {
            "bin_end": 0.6000000000000001,
            "bin_start": 0.5,
            "count": 0
           },
           {
            "bin_end": 0.7000000000000001,
            "bin_start": 0.6000000000000001,
            "count": 0
           },
           {
            "bin_end": 0.8,
            "bin_start": 0.7000000000000001,
            "count": 0
           },
           {
            "bin_end": 0.9,
            "bin_start": 0.8,
            "count": 0
           },
           {
            "bin_end": 1,
            "bin_start": 0.9,
            "count": 1
           }
          ],
          "max": "1",
          "min": "0",
          "nan_count": 0,
          "unique_count": 2
         }
        },
        {
         "dtype": "int64",
         "name": "Savings A65",
         "stats": {
          "histogram": [
           {
            "bin_end": -0.4,
            "bin_start": -0.5,
            "count": 0
           },
           {
            "bin_end": -0.3,
            "bin_start": -0.4,
            "count": 0
           },
           {
            "bin_end": -0.19999999999999996,
            "bin_start": -0.3,
            "count": 0
           },
           {
            "bin_end": -0.09999999999999998,
            "bin_start": -0.19999999999999996,
            "count": 0
           },
           {
            "bin_end": 0,
            "bin_start": -0.09999999999999998,
            "count": 0
           },
           {
            "bin_end": 0.10000000000000009,
            "bin_start": 0,
            "count": 3
           },
           {
            "bin_end": 0.20000000000000007,
            "bin_start": 0.10000000000000009,
            "count": 0
           },
           {
            "bin_end": 0.30000000000000004,
            "bin_start": 0.20000000000000007,
            "count": 0
           },
           {
            "bin_end": 0.4,
            "bin_start": 0.30000000000000004,
            "count": 0
           },
           {
            "bin_end": 0.5,
            "bin_start": 0.4,
            "count": 0
           }
          ],
          "max": "0",
          "min": "0",
          "nan_count": 0,
          "unique_count": 1
         }
        },
        {
         "dtype": "int64",
         "name": "Employment A71",
         "stats": {
          "histogram": [
           {
            "bin_end": -0.4,
            "bin_start": -0.5,
            "count": 0
           },
           {
            "bin_end": -0.3,
            "bin_start": -0.4,
            "count": 0
           },
           {
            "bin_end": -0.19999999999999996,
            "bin_start": -0.3,
            "count": 0
           },
           {
            "bin_end": -0.09999999999999998,
            "bin_start": -0.19999999999999996,
            "count": 0
           },
           {
            "bin_end": 0,
            "bin_start": -0.09999999999999998,
            "count": 0
           },
           {
            "bin_end": 0.10000000000000009,
            "bin_start": 0,
            "count": 3
           },
           {
            "bin_end": 0.20000000000000007,
            "bin_start": 0.10000000000000009,
            "count": 0
           },
           {
            "bin_end": 0.30000000000000004,
            "bin_start": 0.20000000000000007,
            "count": 0
           },
           {
            "bin_end": 0.4,
            "bin_start": 0.30000000000000004,
            "count": 0
           },
           {
            "bin_end": 0.5,
            "bin_start": 0.4,
            "count": 0
           }
          ],
          "max": "0",
          "min": "0",
          "nan_count": 0,
          "unique_count": 1
         }
        },
        {
         "dtype": "int64",
         "name": "Employment A72",
         "stats": {
          "histogram": [
           {
            "bin_end": -0.4,
            "bin_start": -0.5,
            "count": 0
           },
           {
            "bin_end": -0.3,
            "bin_start": -0.4,
            "count": 0
           },
           {
            "bin_end": -0.19999999999999996,
            "bin_start": -0.3,
            "count": 0
           },
           {
            "bin_end": -0.09999999999999998,
            "bin_start": -0.19999999999999996,
            "count": 0
           },
           {
            "bin_end": 0,
            "bin_start": -0.09999999999999998,
            "count": 0
           },
           {
            "bin_end": 0.10000000000000009,
            "bin_start": 0,
            "count": 3
           },
           {
            "bin_end": 0.20000000000000007,
            "bin_start": 0.10000000000000009,
            "count": 0
           },
           {
            "bin_end": 0.30000000000000004,
            "bin_start": 0.20000000000000007,
            "count": 0
           },
           {
            "bin_end": 0.4,
            "bin_start": 0.30000000000000004,
            "count": 0
           },
           {
            "bin_end": 0.5,
            "bin_start": 0.4,
            "count": 0
           }
          ],
          "max": "0",
          "min": "0",
          "nan_count": 0,
          "unique_count": 1
         }
        },
        {
         "dtype": "int64",
         "name": "Employment A73",
         "stats": {
          "histogram": [
           {
            "bin_end": 0.1,
            "bin_start": 0,
            "count": 2
           },
           {
            "bin_end": 0.2,
            "bin_start": 0.1,
            "count": 0
           },
           {
            "bin_end": 0.30000000000000004,
            "bin_start": 0.2,
            "count": 0
           },
           {
            "bin_end": 0.4,
            "bin_start": 0.30000000000000004,
            "count": 0
           },
           {
            "bin_end": 0.5,
            "bin_start": 0.4,
            "count": 0
           },
           {
            "bin_end": 0.6000000000000001,
            "bin_start": 0.5,
            "count": 0
           },
           {
            "bin_end": 0.7000000000000001,
            "bin_start": 0.6000000000000001,
            "count": 0
           },
           {
            "bin_end": 0.8,
            "bin_start": 0.7000000000000001,
            "count": 0
           },
           {
            "bin_end": 0.9,
            "bin_start": 0.8,
            "count": 0
           },
           {
            "bin_end": 1,
            "bin_start": 0.9,
            "count": 1
           }
          ],
          "max": "1",
          "min": "0",
          "nan_count": 0,
          "unique_count": 2
         }
        },
        {
         "dtype": "int64",
         "name": "Employment A74",
         "stats": {
          "histogram": [
           {
            "bin_end": 0.1,
            "bin_start": 0,
            "count": 1
           },
           {
            "bin_end": 0.2,
            "bin_start": 0.1,
            "count": 0
           },
           {
            "bin_end": 0.30000000000000004,
            "bin_start": 0.2,
            "count": 0
           },
           {
            "bin_end": 0.4,
            "bin_start": 0.30000000000000004,
            "count": 0
           },
           {
            "bin_end": 0.5,
            "bin_start": 0.4,
            "count": 0
           },
           {
            "bin_end": 0.6000000000000001,
            "bin_start": 0.5,
            "count": 0
           },
           {
            "bin_end": 0.7000000000000001,
            "bin_start": 0.6000000000000001,
            "count": 0
           },
           {
            "bin_end": 0.8,
            "bin_start": 0.7000000000000001,
            "count": 0
           },
           {
            "bin_end": 0.9,
            "bin_start": 0.8,
            "count": 0
           },
           {
            "bin_end": 1,
            "bin_start": 0.9,
            "count": 2
           }
          ],
          "max": "1",
          "min": "0",
          "nan_count": 0,
          "unique_count": 2
         }
        },
        {
         "dtype": "int64",
         "name": "Employment A75",
         "stats": {
          "histogram": [
           {
            "bin_end": -0.4,
            "bin_start": -0.5,
            "count": 0
           },
           {
            "bin_end": -0.3,
            "bin_start": -0.4,
            "count": 0
           },
           {
            "bin_end": -0.19999999999999996,
            "bin_start": -0.3,
            "count": 0
           },
           {
            "bin_end": -0.09999999999999998,
            "bin_start": -0.19999999999999996,
            "count": 0
           },
           {
            "bin_end": 0,
            "bin_start": -0.09999999999999998,
            "count": 0
           },
           {
            "bin_end": 0.10000000000000009,
            "bin_start": 0,
            "count": 3
           },
           {
            "bin_end": 0.20000000000000007,
            "bin_start": 0.10000000000000009,
            "count": 0
           },
           {
            "bin_end": 0.30000000000000004,
            "bin_start": 0.20000000000000007,
            "count": 0
           },
           {
            "bin_end": 0.4,
            "bin_start": 0.30000000000000004,
            "count": 0
           },
           {
            "bin_end": 0.5,
            "bin_start": 0.4,
            "count": 0
           }
          ],
          "max": "0",
          "min": "0",
          "nan_count": 0,
          "unique_count": 1
         }
        },
        {
         "dtype": "float64",
         "name": "InstallmentRatePecnt",
         "stats": {
          "histogram": [
           {
            "bin_end": 0.3999999997,
            "bin_start": 0.333333333,
            "count": 1
           },
           {
            "bin_end": 0.4666666664,
            "bin_start": 0.3999999997,
            "count": 0
           },
           {
            "bin_end": 0.5333333331000001,
            "bin_start": 0.4666666664,
            "count": 0
           },
           {
            "bin_end": 0.5999999998000001,
            "bin_start": 0.5333333331000001,
            "count": 0
           },
           {
            "bin_end": 0.6666666665000001,
            "bin_start": 0.5999999998000001,
            "count": 0
           },
           {
            "bin_end": 0.7333333332,
            "bin_start": 0.6666666665000001,
            "count": 1
           },
           {
            "bin_end": 0.7999999999,
            "bin_start": 0.7333333332,
            "count": 0
           },
           {
            "bin_end": 0.8666666666,
            "bin_start": 0.7999999999,
            "count": 0
           },
           {
            "bin_end": 0.9333333333,
            "bin_start": 0.8666666666,
            "count": 0
           },
           {
            "bin_end": 1,
            "bin_start": 0.9333333333,
            "count": 1
           }
          ],
          "max": "1.0",
          "min": "0.333333333",
          "nan_count": 0,
          "unique_count": 3
         }
        },
        {
         "dtype": "float64",
         "name": "PresentResidenceTime",
         "stats": {
          "histogram": [
           {
            "bin_end": 0.6,
            "bin_start": 0.5,
            "count": 0
           },
           {
            "bin_end": 0.7,
            "bin_start": 0.6,
            "count": 0
           },
           {
            "bin_end": 0.8,
            "bin_start": 0.7,
            "count": 0
           },
           {
            "bin_end": 0.9,
            "bin_start": 0.8,
            "count": 0
           },
           {
            "bin_end": 1,
            "bin_start": 0.9,
            "count": 0
           },
           {
            "bin_end": 1.1,
            "bin_start": 1,
            "count": 3
           },
           {
            "bin_end": 1.2000000000000002,
            "bin_start": 1.1,
            "count": 0
           },
           {
            "bin_end": 1.3,
            "bin_start": 1.2000000000000002,
            "count": 0
           },
           {
            "bin_end": 1.4,
            "bin_start": 1.3,
            "count": 0
           },
           {
            "bin_end": 1.5,
            "bin_start": 1.4,
            "count": 0
           }
          ],
          "max": "1.0",
          "min": "1.0",
          "nan_count": 0,
          "unique_count": 1
         }
        },
        {
         "dtype": "int64",
         "name": "Property A121",
         "stats": {
          "histogram": [
           {
            "bin_end": 0.1,
            "bin_start": 0,
            "count": 2
           },
           {
            "bin_end": 0.2,
            "bin_start": 0.1,
            "count": 0
           },
           {
            "bin_end": 0.30000000000000004,
            "bin_start": 0.2,
            "count": 0
           },
           {
            "bin_end": 0.4,
            "bin_start": 0.30000000000000004,
            "count": 0
           },
           {
            "bin_end": 0.5,
            "bin_start": 0.4,
            "count": 0
           },
           {
            "bin_end": 0.6000000000000001,
            "bin_start": 0.5,
            "count": 0
           },
           {
            "bin_end": 0.7000000000000001,
            "bin_start": 0.6000000000000001,
            "count": 0
           },
           {
            "bin_end": 0.8,
            "bin_start": 0.7000000000000001,
            "count": 0
           },
           {
            "bin_end": 0.9,
            "bin_start": 0.8,
            "count": 0
           },
           {
            "bin_end": 1,
            "bin_start": 0.9,
            "count": 1
           }
          ],
          "max": "1",
          "min": "0",
          "nan_count": 0,
          "unique_count": 2
         }
        },
        {
         "dtype": "int64",
         "name": "Property A122",
         "stats": {
          "histogram": [
           {
            "bin_end": 0.1,
            "bin_start": 0,
            "count": 2
           },
           {
            "bin_end": 0.2,
            "bin_start": 0.1,
            "count": 0
           },
           {
            "bin_end": 0.30000000000000004,
            "bin_start": 0.2,
            "count": 0
           },
           {
            "bin_end": 0.4,
            "bin_start": 0.30000000000000004,
            "count": 0
           },
           {
            "bin_end": 0.5,
            "bin_start": 0.4,
            "count": 0
           },
           {
            "bin_end": 0.6000000000000001,
            "bin_start": 0.5,
            "count": 0
           },
           {
            "bin_end": 0.7000000000000001,
            "bin_start": 0.6000000000000001,
            "count": 0
           },
           {
            "bin_end": 0.8,
            "bin_start": 0.7000000000000001,
            "count": 0
           },
           {
            "bin_end": 0.9,
            "bin_start": 0.8,
            "count": 0
           },
           {
            "bin_end": 1,
            "bin_start": 0.9,
            "count": 1
           }
          ],
          "max": "1",
          "min": "0",
          "nan_count": 0,
          "unique_count": 2
         }
        },
        {
         "dtype": "int64",
         "name": "Property A123",
         "stats": {
          "histogram": [
           {
            "bin_end": 0.1,
            "bin_start": 0,
            "count": 2
           },
           {
            "bin_end": 0.2,
            "bin_start": 0.1,
            "count": 0
           },
           {
            "bin_end": 0.30000000000000004,
            "bin_start": 0.2,
            "count": 0
           },
           {
            "bin_end": 0.4,
            "bin_start": 0.30000000000000004,
            "count": 0
           },
           {
            "bin_end": 0.5,
            "bin_start": 0.4,
            "count": 0
           },
           {
            "bin_end": 0.6000000000000001,
            "bin_start": 0.5,
            "count": 0
           },
           {
            "bin_end": 0.7000000000000001,
            "bin_start": 0.6000000000000001,
            "count": 0
           },
           {
            "bin_end": 0.8,
            "bin_start": 0.7000000000000001,
            "count": 0
           },
           {
            "bin_end": 0.9,
            "bin_start": 0.8,
            "count": 0
           },
           {
            "bin_end": 1,
            "bin_start": 0.9,
            "count": 1
           }
          ],
          "max": "1",
          "min": "0",
          "nan_count": 0,
          "unique_count": 2
         }
        },
        {
         "dtype": "int64",
         "name": "Property A124",
         "stats": {
          "histogram": [
           {
            "bin_end": -0.4,
            "bin_start": -0.5,
            "count": 0
           },
           {
            "bin_end": -0.3,
            "bin_start": -0.4,
            "count": 0
           },
           {
            "bin_end": -0.19999999999999996,
            "bin_start": -0.3,
            "count": 0
           },
           {
            "bin_end": -0.09999999999999998,
            "bin_start": -0.19999999999999996,
            "count": 0
           },
           {
            "bin_end": 0,
            "bin_start": -0.09999999999999998,
            "count": 0
           },
           {
            "bin_end": 0.10000000000000009,
            "bin_start": 0,
            "count": 3
           },
           {
            "bin_end": 0.20000000000000007,
            "bin_start": 0.10000000000000009,
            "count": 0
           },
           {
            "bin_end": 0.30000000000000004,
            "bin_start": 0.20000000000000007,
            "count": 0
           },
           {
            "bin_end": 0.4,
            "bin_start": 0.30000000000000004,
            "count": 0
           },
           {
            "bin_end": 0.5,
            "bin_start": 0.4,
            "count": 0
           }
          ],
          "max": "0",
          "min": "0",
          "nan_count": 0,
          "unique_count": 1
         }
        },
        {
         "dtype": "float64",
         "name": "Age",
         "stats": {
          "histogram": [
           {
            "bin_end": 0.051785714399999995,
            "bin_start": 0.017857143,
            "count": 2
           },
           {
            "bin_end": 0.08571428579999998,
            "bin_start": 0.051785714399999995,
            "count": 0
           },
           {
            "bin_end": 0.11964285719999998,
            "bin_start": 0.08571428579999998,
            "count": 0
           },
           {
            "bin_end": 0.15357142859999998,
            "bin_start": 0.11964285719999998,
            "count": 0
           },
           {
            "bin_end": 0.18749999999999997,
            "bin_start": 0.15357142859999998,
            "count": 0
           },
           {
            "bin_end": 0.22142857139999997,
            "bin_start": 0.18749999999999997,
            "count": 0
           },
           {
            "bin_end": 0.2553571428,
            "bin_start": 0.22142857139999997,
            "count": 0
           },
           {
            "bin_end": 0.2892857142,
            "bin_start": 0.2553571428,
            "count": 0
           },
           {
            "bin_end": 0.3232142856,
            "bin_start": 0.2892857142,
            "count": 0
           },
           {
            "bin_end": 0.357142857,
            "bin_start": 0.3232142856,
            "count": 1
           }
          ],
          "max": "0.357142857",
          "min": "0.017857143",
          "nan_count": 0,
          "unique_count": 3
         }
        },
        {
         "dtype": "int64",
         "name": "Telephone1",
         "stats": {
          "histogram": [
           {
            "bin_end": 0.1,
            "bin_start": 0,
            "count": 2
           },
           {
            "bin_end": 0.2,
            "bin_start": 0.1,
            "count": 0
           },
           {
            "bin_end": 0.30000000000000004,
            "bin_start": 0.2,
            "count": 0
           },
           {
            "bin_end": 0.4,
            "bin_start": 0.30000000000000004,
            "count": 0
           },
           {
            "bin_end": 0.5,
            "bin_start": 0.4,
            "count": 0
           },
           {
            "bin_end": 0.6000000000000001,
            "bin_start": 0.5,
            "count": 0
           },
           {
            "bin_end": 0.7000000000000001,
            "bin_start": 0.6000000000000001,
            "count": 0
           },
           {
            "bin_end": 0.8,
            "bin_start": 0.7000000000000001,
            "count": 0
           },
           {
            "bin_end": 0.9,
            "bin_start": 0.8,
            "count": 0
           },
           {
            "bin_end": 1,
            "bin_start": 0.9,
            "count": 1
           }
          ],
          "max": "1",
          "min": "0",
          "nan_count": 0,
          "unique_count": 2
         }
        },
        {
         "dtype": "int64",
         "name": "CreditScore",
         "stats": {
          "histogram": [
           {
            "bin_end": 0.1,
            "bin_start": 0,
            "count": 2
           },
           {
            "bin_end": 0.2,
            "bin_start": 0.1,
            "count": 0
           },
           {
            "bin_end": 0.30000000000000004,
            "bin_start": 0.2,
            "count": 0
           },
           {
            "bin_end": 0.4,
            "bin_start": 0.30000000000000004,
            "count": 0
           },
           {
            "bin_end": 0.5,
            "bin_start": 0.4,
            "count": 0
           },
           {
            "bin_end": 0.6000000000000001,
            "bin_start": 0.5,
            "count": 0
           },
           {
            "bin_end": 0.7000000000000001,
            "bin_start": 0.6000000000000001,
            "count": 0
           },
           {
            "bin_end": 0.8,
            "bin_start": 0.7000000000000001,
            "count": 0
           },
           {
            "bin_end": 0.9,
            "bin_start": 0.8,
            "count": 0
           },
           {
            "bin_end": 1,
            "bin_start": 0.9,
            "count": 1
           }
          ],
          "max": "1",
          "min": "0",
          "nan_count": 0,
          "unique_count": 2
         }
        },
        {
         "dtype": "int64",
         "name": "_deepnote_index_column"
        }
       ],
       "row_count": 3,
       "rows_bottom": null,
       "rows_top": [
        {
         "Age": 0.035714286,
         "CheckingAcctStat A11": 1,
         "CheckingAcctStat A12": 0,
         "CheckingAcctStat A13": 0,
         "CheckingAcctStat A14": 0,
         "CreditHistory A30": 0,
         "CreditHistory A31": 0,
         "CreditHistory A32": 1,
         "CreditHistory A33": 0,
         "CreditHistory A34": 0,
         "CreditScore": 1,
         "Duration": 0.117647059,
         "Employment A71": 0,
         "Employment A72": 0,
         "Employment A73": 0,
         "Employment A74": 1,
         "Employment A75": 0,
         "InstallmentRatePecnt": 1,
         "PresentResidenceTime": 1,
         "Property A121": 0,
         "Property A122": 1,
         "Property A123": 0,
         "Property A124": 0,
         "Purpose A40": 0,
         "Purpose A41": 0,
         "Purpose A410": 0,
         "Purpose A42": 0,
         "Purpose A43": 0,
         "Purpose A44": 0,
         "Purpose A45": 0,
         "Purpose A46": 0,
         "Purpose A48": 0,
         "Purpose A49": 1,
         "Savings A61": 1,
         "Savings A62": 0,
         "Savings A63": 0,
         "Savings A64": 0,
         "Savings A65": 0,
         "Telephone1": 0,
         "_deepnote_index_column": 7
        },
        {
         "Age": 0.357142857,
         "CheckingAcctStat A11": 1,
         "CheckingAcctStat A12": 0,
         "CheckingAcctStat A13": 0,
         "CheckingAcctStat A14": 0,
         "CreditHistory A30": 0,
         "CreditHistory A31": 0,
         "CreditHistory A32": 0,
         "CreditHistory A33": 0,
         "CreditHistory A34": 1,
         "CreditScore": 0,
         "Duration": 0.029411765,
         "Employment A71": 0,
         "Employment A72": 0,
         "Employment A73": 0,
         "Employment A74": 1,
         "Employment A75": 0,
         "InstallmentRatePecnt": 0.666666667,
         "PresentResidenceTime": 1,
         "Property A121": 1,
         "Property A122": 0,
         "Property A123": 0,
         "Property A124": 0,
         "Purpose A40": 1,
         "Purpose A41": 0,
         "Purpose A410": 0,
         "Purpose A42": 0,
         "Purpose A43": 0,
         "Purpose A44": 0,
         "Purpose A45": 0,
         "Purpose A46": 0,
         "Purpose A48": 0,
         "Purpose A49": 0,
         "Savings A61": 0,
         "Savings A62": 0,
         "Savings A63": 0,
         "Savings A64": 1,
         "Savings A65": 0,
         "Telephone1": 1,
         "_deepnote_index_column": 8
        },
        {
         "Age": 0.017857143,
         "CheckingAcctStat A11": 0,
         "CheckingAcctStat A12": 0,
         "CheckingAcctStat A13": 0,
         "CheckingAcctStat A14": 1,
         "CreditHistory A30": 0,
         "CreditHistory A31": 0,
         "CreditHistory A32": 1,
         "CreditHistory A33": 0,
         "CreditHistory A34": 0,
         "CreditScore": 0,
         "Duration": 0.161764706,
         "Employment A71": 0,
         "Employment A72": 0,
         "Employment A73": 1,
         "Employment A74": 0,
         "Employment A75": 0,
         "InstallmentRatePecnt": 0.333333333,
         "PresentResidenceTime": 1,
         "Property A121": 0,
         "Property A122": 0,
         "Property A123": 1,
         "Property A124": 0,
         "Purpose A40": 0,
         "Purpose A41": 0,
         "Purpose A410": 0,
         "Purpose A42": 0,
         "Purpose A43": 1,
         "Purpose A44": 0,
         "Purpose A45": 0,
         "Purpose A46": 0,
         "Purpose A48": 0,
         "Purpose A49": 0,
         "Savings A61": 0,
         "Savings A62": 0,
         "Savings A63": 1,
         "Savings A64": 0,
         "Savings A65": 0,
         "Telephone1": 0,
         "_deepnote_index_column": 9
        }
       ]
      },
      "text/html": [
       "<div>\n",
       "<style scoped>\n",
       "    .dataframe tbody tr th:only-of-type {\n",
       "        vertical-align: middle;\n",
       "    }\n",
       "\n",
       "    .dataframe tbody tr th {\n",
       "        vertical-align: top;\n",
       "    }\n",
       "\n",
       "    .dataframe thead th {\n",
       "        text-align: right;\n",
       "    }\n",
       "</style>\n",
       "<table border=\"1\" class=\"dataframe\">\n",
       "  <thead>\n",
       "    <tr style=\"text-align: right;\">\n",
       "      <th></th>\n",
       "      <th>CheckingAcctStat A11</th>\n",
       "      <th>CheckingAcctStat A12</th>\n",
       "      <th>CheckingAcctStat A13</th>\n",
       "      <th>CheckingAcctStat A14</th>\n",
       "      <th>Duration</th>\n",
       "      <th>CreditHistory A30</th>\n",
       "      <th>CreditHistory A31</th>\n",
       "      <th>CreditHistory A32</th>\n",
       "      <th>CreditHistory A33</th>\n",
       "      <th>CreditHistory A34</th>\n",
       "      <th>...</th>\n",
       "      <th>Employment A75</th>\n",
       "      <th>InstallmentRatePecnt</th>\n",
       "      <th>PresentResidenceTime</th>\n",
       "      <th>Property A121</th>\n",
       "      <th>Property A122</th>\n",
       "      <th>Property A123</th>\n",
       "      <th>Property A124</th>\n",
       "      <th>Age</th>\n",
       "      <th>Telephone1</th>\n",
       "      <th>CreditScore</th>\n",
       "    </tr>\n",
       "  </thead>\n",
       "  <tbody>\n",
       "    <tr>\n",
       "      <th>7</th>\n",
       "      <td>1</td>\n",
       "      <td>0</td>\n",
       "      <td>0</td>\n",
       "      <td>0</td>\n",
       "      <td>0.117647</td>\n",
       "      <td>0</td>\n",
       "      <td>0</td>\n",
       "      <td>1</td>\n",
       "      <td>0</td>\n",
       "      <td>0</td>\n",
       "      <td>...</td>\n",
       "      <td>0</td>\n",
       "      <td>1.000000</td>\n",
       "      <td>1.0</td>\n",
       "      <td>0</td>\n",
       "      <td>1</td>\n",
       "      <td>0</td>\n",
       "      <td>0</td>\n",
       "      <td>0.035714</td>\n",
       "      <td>0</td>\n",
       "      <td>1</td>\n",
       "    </tr>\n",
       "    <tr>\n",
       "      <th>8</th>\n",
       "      <td>1</td>\n",
       "      <td>0</td>\n",
       "      <td>0</td>\n",
       "      <td>0</td>\n",
       "      <td>0.029412</td>\n",
       "      <td>0</td>\n",
       "      <td>0</td>\n",
       "      <td>0</td>\n",
       "      <td>0</td>\n",
       "      <td>1</td>\n",
       "      <td>...</td>\n",
       "      <td>0</td>\n",
       "      <td>0.666667</td>\n",
       "      <td>1.0</td>\n",
       "      <td>1</td>\n",
       "      <td>0</td>\n",
       "      <td>0</td>\n",
       "      <td>0</td>\n",
       "      <td>0.357143</td>\n",
       "      <td>1</td>\n",
       "      <td>0</td>\n",
       "    </tr>\n",
       "    <tr>\n",
       "      <th>9</th>\n",
       "      <td>0</td>\n",
       "      <td>0</td>\n",
       "      <td>0</td>\n",
       "      <td>1</td>\n",
       "      <td>0.161765</td>\n",
       "      <td>0</td>\n",
       "      <td>0</td>\n",
       "      <td>1</td>\n",
       "      <td>0</td>\n",
       "      <td>0</td>\n",
       "      <td>...</td>\n",
       "      <td>0</td>\n",
       "      <td>0.333333</td>\n",
       "      <td>1.0</td>\n",
       "      <td>0</td>\n",
       "      <td>0</td>\n",
       "      <td>1</td>\n",
       "      <td>0</td>\n",
       "      <td>0.017857</td>\n",
       "      <td>0</td>\n",
       "      <td>0</td>\n",
       "    </tr>\n",
       "  </tbody>\n",
       "</table>\n",
       "<p>3 rows × 39 columns</p>\n",
       "</div>"
      ],
      "text/plain": [
       "   CheckingAcctStat A11  CheckingAcctStat A12  CheckingAcctStat A13  \\\n",
       "7                     1                     0                     0   \n",
       "8                     1                     0                     0   \n",
       "9                     0                     0                     0   \n",
       "\n",
       "   CheckingAcctStat A14  Duration  CreditHistory A30  CreditHistory A31  \\\n",
       "7                     0  0.117647                  0                  0   \n",
       "8                     0  0.029412                  0                  0   \n",
       "9                     1  0.161765                  0                  0   \n",
       "\n",
       "   CreditHistory A32  CreditHistory A33  CreditHistory A34  ...  \\\n",
       "7                  1                  0                  0  ...   \n",
       "8                  0                  0                  1  ...   \n",
       "9                  1                  0                  0  ...   \n",
       "\n",
       "   Employment A75  InstallmentRatePecnt  PresentResidenceTime  Property A121  \\\n",
       "7               0              1.000000                   1.0              0   \n",
       "8               0              0.666667                   1.0              1   \n",
       "9               0              0.333333                   1.0              0   \n",
       "\n",
       "   Property A122  Property A123  Property A124       Age  Telephone1  \\\n",
       "7              1              0              0  0.035714           0   \n",
       "8              0              0              0  0.357143           1   \n",
       "9              0              1              0  0.017857           0   \n",
       "\n",
       "   CreditScore  \n",
       "7            1  \n",
       "8            0  \n",
       "9            0  \n",
       "\n",
       "[3 rows x 39 columns]"
      ]
     },
     "execution_count": 12,
     "metadata": {},
     "output_type": "execute_result"
    }
   ],
   "source": [
    "df.head(10).tail(3)"
   ]
  },
  {
   "cell_type": "code",
   "execution_count": null,
   "metadata": {
    "cell_id": "f6a9bb8e8ffd4d24bb69c25e23044ae8",
    "deepnote_cell_type": "code",
    "deepnote_to_be_reexecuted": false,
    "execution_millis": 191,
    "execution_start": 1639498487460,
    "source_hash": "96846a11",
    "tags": []
   },
   "outputs": [
    {
     "data": {
      "application/vnd.deepnote.dataframe.v2+json": {
       "column_count": 39,
       "columns": [
        {
         "dtype": "int64",
         "name": "CheckingAcctStat A11",
         "stats": {
          "histogram": [
           {
            "bin_end": 0.1,
            "bin_start": 0,
            "count": 6
           },
           {
            "bin_end": 0.2,
            "bin_start": 0.1,
            "count": 0
           },
           {
            "bin_end": 0.30000000000000004,
            "bin_start": 0.2,
            "count": 0
           },
           {
            "bin_end": 0.4,
            "bin_start": 0.30000000000000004,
            "count": 0
           },
           {
            "bin_end": 0.5,
            "bin_start": 0.4,
            "count": 0
           },
           {
            "bin_end": 0.6000000000000001,
            "bin_start": 0.5,
            "count": 0
           },
           {
            "bin_end": 0.7000000000000001,
            "bin_start": 0.6000000000000001,
            "count": 0
           },
           {
            "bin_end": 0.8,
            "bin_start": 0.7000000000000001,
            "count": 0
           },
           {
            "bin_end": 0.9,
            "bin_start": 0.8,
            "count": 0
           },
           {
            "bin_end": 1,
            "bin_start": 0.9,
            "count": 4
           }
          ],
          "max": "1",
          "min": "0",
          "nan_count": 0,
          "unique_count": 2
         }
        },
        {
         "dtype": "int64",
         "name": "CheckingAcctStat A12",
         "stats": {
          "histogram": [
           {
            "bin_end": 0.1,
            "bin_start": 0,
            "count": 9
           },
           {
            "bin_end": 0.2,
            "bin_start": 0.1,
            "count": 0
           },
           {
            "bin_end": 0.30000000000000004,
            "bin_start": 0.2,
            "count": 0
           },
           {
            "bin_end": 0.4,
            "bin_start": 0.30000000000000004,
            "count": 0
           },
           {
            "bin_end": 0.5,
            "bin_start": 0.4,
            "count": 0
           },
           {
            "bin_end": 0.6000000000000001,
            "bin_start": 0.5,
            "count": 0
           },
           {
            "bin_end": 0.7000000000000001,
            "bin_start": 0.6000000000000001,
            "count": 0
           },
           {
            "bin_end": 0.8,
            "bin_start": 0.7000000000000001,
            "count": 0
           },
           {
            "bin_end": 0.9,
            "bin_start": 0.8,
            "count": 0
           },
           {
            "bin_end": 1,
            "bin_start": 0.9,
            "count": 1
           }
          ],
          "max": "1",
          "min": "0",
          "nan_count": 0,
          "unique_count": 2
         }
        },
        {
         "dtype": "int64",
         "name": "CheckingAcctStat A13",
         "stats": {
          "histogram": [
           {
            "bin_end": 0.1,
            "bin_start": 0,
            "count": 9
           },
           {
            "bin_end": 0.2,
            "bin_start": 0.1,
            "count": 0
           },
           {
            "bin_end": 0.30000000000000004,
            "bin_start": 0.2,
            "count": 0
           },
           {
            "bin_end": 0.4,
            "bin_start": 0.30000000000000004,
            "count": 0
           },
           {
            "bin_end": 0.5,
            "bin_start": 0.4,
            "count": 0
           },
           {
            "bin_end": 0.6000000000000001,
            "bin_start": 0.5,
            "count": 0
           },
           {
            "bin_end": 0.7000000000000001,
            "bin_start": 0.6000000000000001,
            "count": 0
           },
           {
            "bin_end": 0.8,
            "bin_start": 0.7000000000000001,
            "count": 0
           },
           {
            "bin_end": 0.9,
            "bin_start": 0.8,
            "count": 0
           },
           {
            "bin_end": 1,
            "bin_start": 0.9,
            "count": 1
           }
          ],
          "max": "1",
          "min": "0",
          "nan_count": 0,
          "unique_count": 2
         }
        },
        {
         "dtype": "int64",
         "name": "CheckingAcctStat A14",
         "stats": {
          "histogram": [
           {
            "bin_end": 0.1,
            "bin_start": 0,
            "count": 6
           },
           {
            "bin_end": 0.2,
            "bin_start": 0.1,
            "count": 0
           },
           {
            "bin_end": 0.30000000000000004,
            "bin_start": 0.2,
            "count": 0
           },
           {
            "bin_end": 0.4,
            "bin_start": 0.30000000000000004,
            "count": 0
           },
           {
            "bin_end": 0.5,
            "bin_start": 0.4,
            "count": 0
           },
           {
            "bin_end": 0.6000000000000001,
            "bin_start": 0.5,
            "count": 0
           },
           {
            "bin_end": 0.7000000000000001,
            "bin_start": 0.6000000000000001,
            "count": 0
           },
           {
            "bin_end": 0.8,
            "bin_start": 0.7000000000000001,
            "count": 0
           },
           {
            "bin_end": 0.9,
            "bin_start": 0.8,
            "count": 0
           },
           {
            "bin_end": 1,
            "bin_start": 0.9,
            "count": 4
           }
          ],
          "max": "1",
          "min": "0",
          "nan_count": 0,
          "unique_count": 2
         }
        },
        {
         "dtype": "float64",
         "name": "Duration",
         "stats": {
          "histogram": [
           {
            "bin_end": 0.065969369,
            "bin_start": 0.029411765,
            "count": 2
           },
           {
            "bin_end": 0.10252697300000002,
            "bin_start": 0.065969369,
            "count": 0
           },
           {
            "bin_end": 0.13908457700000001,
            "bin_start": 0.10252697300000002,
            "count": 1
           },
           {
            "bin_end": 0.17564218100000004,
            "bin_start": 0.13908457700000001,
            "count": 0
           },
           {
            "bin_end": 0.21219978500000006,
            "bin_start": 0.17564218100000004,
            "count": 1
           },
           {
            "bin_end": 0.24875738900000005,
            "bin_start": 0.21219978500000006,
            "count": 1
           },
           {
            "bin_end": 0.285314993,
            "bin_start": 0.24875738900000005,
            "count": 1
           },
           {
            "bin_end": 0.32187259700000004,
            "bin_start": 0.285314993,
            "count": 2
           },
           {
            "bin_end": 0.35843020100000006,
            "bin_start": 0.32187259700000004,
            "count": 1
           },
           {
            "bin_end": 0.394987805,
            "bin_start": 0.35843020100000006,
            "count": 1
           }
          ],
          "max": "0.394987805",
          "min": "0.029411765",
          "nan_count": 0,
          "unique_count": 9
         }
        },
        {
         "dtype": "int64",
         "name": "CreditHistory A30",
         "stats": {
          "histogram": [
           {
            "bin_end": 0.1,
            "bin_start": 0,
            "count": 9
           },
           {
            "bin_end": 0.2,
            "bin_start": 0.1,
            "count": 0
           },
           {
            "bin_end": 0.30000000000000004,
            "bin_start": 0.2,
            "count": 0
           },
           {
            "bin_end": 0.4,
            "bin_start": 0.30000000000000004,
            "count": 0
           },
           {
            "bin_end": 0.5,
            "bin_start": 0.4,
            "count": 0
           },
           {
            "bin_end": 0.6000000000000001,
            "bin_start": 0.5,
            "count": 0
           },
           {
            "bin_end": 0.7000000000000001,
            "bin_start": 0.6000000000000001,
            "count": 0
           },
           {
            "bin_end": 0.8,
            "bin_start": 0.7000000000000001,
            "count": 0
           },
           {
            "bin_end": 0.9,
            "bin_start": 0.8,
            "count": 0
           },
           {
            "bin_end": 1,
            "bin_start": 0.9,
            "count": 1
           }
          ],
          "max": "1",
          "min": "0",
          "nan_count": 0,
          "unique_count": 2
         }
        },
        {
         "dtype": "int64",
         "name": "CreditHistory A31",
         "stats": {
          "histogram": [
           {
            "bin_end": 0.1,
            "bin_start": 0,
            "count": 9
           },
           {
            "bin_end": 0.2,
            "bin_start": 0.1,
            "count": 0
           },
           {
            "bin_end": 0.30000000000000004,
            "bin_start": 0.2,
            "count": 0
           },
           {
            "bin_end": 0.4,
            "bin_start": 0.30000000000000004,
            "count": 0
           },
           {
            "bin_end": 0.5,
            "bin_start": 0.4,
            "count": 0
           },
           {
            "bin_end": 0.6000000000000001,
            "bin_start": 0.5,
            "count": 0
           },
           {
            "bin_end": 0.7000000000000001,
            "bin_start": 0.6000000000000001,
            "count": 0
           },
           {
            "bin_end": 0.8,
            "bin_start": 0.7000000000000001,
            "count": 0
           },
           {
            "bin_end": 0.9,
            "bin_start": 0.8,
            "count": 0
           },
           {
            "bin_end": 1,
            "bin_start": 0.9,
            "count": 1
           }
          ],
          "max": "1",
          "min": "0",
          "nan_count": 0,
          "unique_count": 2
         }
        },
        {
         "dtype": "int64",
         "name": "CreditHistory A32",
         "stats": {
          "histogram": [
           {
            "bin_end": 0.1,
            "bin_start": 0,
            "count": 4
           },
           {
            "bin_end": 0.2,
            "bin_start": 0.1,
            "count": 0
           },
           {
            "bin_end": 0.30000000000000004,
            "bin_start": 0.2,
            "count": 0
           },
           {
            "bin_end": 0.4,
            "bin_start": 0.30000000000000004,
            "count": 0
           },
           {
            "bin_end": 0.5,
            "bin_start": 0.4,
            "count": 0
           },
           {
            "bin_end": 0.6000000000000001,
            "bin_start": 0.5,
            "count": 0
           },
           {
            "bin_end": 0.7000000000000001,
            "bin_start": 0.6000000000000001,
            "count": 0
           },
           {
            "bin_end": 0.8,
            "bin_start": 0.7000000000000001,
            "count": 0
           },
           {
            "bin_end": 0.9,
            "bin_start": 0.8,
            "count": 0
           },
           {
            "bin_end": 1,
            "bin_start": 0.9,
            "count": 6
           }
          ],
          "max": "1",
          "min": "0",
          "nan_count": 0,
          "unique_count": 2
         }
        },
        {
         "dtype": "int64",
         "name": "CreditHistory A33",
         "stats": {
          "histogram": [
           {
            "bin_end": 0.1,
            "bin_start": 0,
            "count": 9
           },
           {
            "bin_end": 0.2,
            "bin_start": 0.1,
            "count": 0
           },
           {
            "bin_end": 0.30000000000000004,
            "bin_start": 0.2,
            "count": 0
           },
           {
            "bin_end": 0.4,
            "bin_start": 0.30000000000000004,
            "count": 0
           },
           {
            "bin_end": 0.5,
            "bin_start": 0.4,
            "count": 0
           },
           {
            "bin_end": 0.6000000000000001,
            "bin_start": 0.5,
            "count": 0
           },
           {
            "bin_end": 0.7000000000000001,
            "bin_start": 0.6000000000000001,
            "count": 0
           },
           {
            "bin_end": 0.8,
            "bin_start": 0.7000000000000001,
            "count": 0
           },
           {
            "bin_end": 0.9,
            "bin_start": 0.8,
            "count": 0
           },
           {
            "bin_end": 1,
            "bin_start": 0.9,
            "count": 1
           }
          ],
          "max": "1",
          "min": "0",
          "nan_count": 0,
          "unique_count": 2
         }
        },
        {
         "dtype": "int64",
         "name": "CreditHistory A34",
         "stats": {
          "histogram": [
           {
            "bin_end": 0.1,
            "bin_start": 0,
            "count": 9
           },
           {
            "bin_end": 0.2,
            "bin_start": 0.1,
            "count": 0
           },
           {
            "bin_end": 0.30000000000000004,
            "bin_start": 0.2,
            "count": 0
           },
           {
            "bin_end": 0.4,
            "bin_start": 0.30000000000000004,
            "count": 0
           },
           {
            "bin_end": 0.5,
            "bin_start": 0.4,
            "count": 0
           },
           {
            "bin_end": 0.6000000000000001,
            "bin_start": 0.5,
            "count": 0
           },
           {
            "bin_end": 0.7000000000000001,
            "bin_start": 0.6000000000000001,
            "count": 0
           },
           {
            "bin_end": 0.8,
            "bin_start": 0.7000000000000001,
            "count": 0
           },
           {
            "bin_end": 0.9,
            "bin_start": 0.8,
            "count": 0
           },
           {
            "bin_end": 1,
            "bin_start": 0.9,
            "count": 1
           }
          ],
          "max": "1",
          "min": "0",
          "nan_count": 0,
          "unique_count": 2
         }
        },
        {
         "dtype": "int64",
         "name": "Purpose A40",
         "stats": {
          "histogram": [
           {
            "bin_end": 0.1,
            "bin_start": 0,
            "count": 7
           },
           {
            "bin_end": 0.2,
            "bin_start": 0.1,
            "count": 0
           },
           {
            "bin_end": 0.30000000000000004,
            "bin_start": 0.2,
            "count": 0
           },
           {
            "bin_end": 0.4,
            "bin_start": 0.30000000000000004,
            "count": 0
           },
           {
            "bin_end": 0.5,
            "bin_start": 0.4,
            "count": 0
           },
           {
            "bin_end": 0.6000000000000001,
            "bin_start": 0.5,
            "count": 0
           },
           {
            "bin_end": 0.7000000000000001,
            "bin_start": 0.6000000000000001,
            "count": 0
           },
           {
            "bin_end": 0.8,
            "bin_start": 0.7000000000000001,
            "count": 0
           },
           {
            "bin_end": 0.9,
            "bin_start": 0.8,
            "count": 0
           },
           {
            "bin_end": 1,
            "bin_start": 0.9,
            "count": 3
           }
          ],
          "max": "1",
          "min": "0",
          "nan_count": 0,
          "unique_count": 2
         }
        },
        {
         "dtype": "int64",
         "name": "Purpose A41",
         "stats": {
          "histogram": [
           {
            "bin_end": 0.1,
            "bin_start": 0,
            "count": 9
           },
           {
            "bin_end": 0.2,
            "bin_start": 0.1,
            "count": 0
           },
           {
            "bin_end": 0.30000000000000004,
            "bin_start": 0.2,
            "count": 0
           },
           {
            "bin_end": 0.4,
            "bin_start": 0.30000000000000004,
            "count": 0
           },
           {
            "bin_end": 0.5,
            "bin_start": 0.4,
            "count": 0
           },
           {
            "bin_end": 0.6000000000000001,
            "bin_start": 0.5,
            "count": 0
           },
           {
            "bin_end": 0.7000000000000001,
            "bin_start": 0.6000000000000001,
            "count": 0
           },
           {
            "bin_end": 0.8,
            "bin_start": 0.7000000000000001,
            "count": 0
           },
           {
            "bin_end": 0.9,
            "bin_start": 0.8,
            "count": 0
           },
           {
            "bin_end": 1,
            "bin_start": 0.9,
            "count": 1
           }
          ],
          "max": "1",
          "min": "0",
          "nan_count": 0,
          "unique_count": 2
         }
        },
        {
         "dtype": "int64",
         "name": "Purpose A42",
         "stats": {
          "histogram": [
           {
            "bin_end": -0.4,
            "bin_start": -0.5,
            "count": 0
           },
           {
            "bin_end": -0.3,
            "bin_start": -0.4,
            "count": 0
           },
           {
            "bin_end": -0.19999999999999996,
            "bin_start": -0.3,
            "count": 0
           },
           {
            "bin_end": -0.09999999999999998,
            "bin_start": -0.19999999999999996,
            "count": 0
           },
           {
            "bin_end": 0,
            "bin_start": -0.09999999999999998,
            "count": 0
           },
           {
            "bin_end": 0.10000000000000009,
            "bin_start": 0,
            "count": 10
           },
           {
            "bin_end": 0.20000000000000007,
            "bin_start": 0.10000000000000009,
            "count": 0
           },
           {
            "bin_end": 0.30000000000000004,
            "bin_start": 0.20000000000000007,
            "count": 0
           },
           {
            "bin_end": 0.4,
            "bin_start": 0.30000000000000004,
            "count": 0
           },
           {
            "bin_end": 0.5,
            "bin_start": 0.4,
            "count": 0
           }
          ],
          "max": "0",
          "min": "0",
          "nan_count": 0,
          "unique_count": 1
         }
        },
        {
         "dtype": "int64",
         "name": "Purpose A43",
         "stats": {
          "histogram": [
           {
            "bin_end": -0.4,
            "bin_start": -0.5,
            "count": 0
           },
           {
            "bin_end": -0.3,
            "bin_start": -0.4,
            "count": 0
           },
           {
            "bin_end": -0.19999999999999996,
            "bin_start": -0.3,
            "count": 0
           },
           {
            "bin_end": -0.09999999999999998,
            "bin_start": -0.19999999999999996,
            "count": 0
           },
           {
            "bin_end": 0,
            "bin_start": -0.09999999999999998,
            "count": 0
           },
           {
            "bin_end": 0.10000000000000009,
            "bin_start": 0,
            "count": 10
           },
           {
            "bin_end": 0.20000000000000007,
            "bin_start": 0.10000000000000009,
            "count": 0
           },
           {
            "bin_end": 0.30000000000000004,
            "bin_start": 0.20000000000000007,
            "count": 0
           },
           {
            "bin_end": 0.4,
            "bin_start": 0.30000000000000004,
            "count": 0
           },
           {
            "bin_end": 0.5,
            "bin_start": 0.4,
            "count": 0
           }
          ],
          "max": "0",
          "min": "0",
          "nan_count": 0,
          "unique_count": 1
         }
        },
        {
         "dtype": "int64",
         "name": "Purpose A44",
         "stats": {
          "histogram": [
           {
            "bin_end": 0.1,
            "bin_start": 0,
            "count": 8
           },
           {
            "bin_end": 0.2,
            "bin_start": 0.1,
            "count": 0
           },
           {
            "bin_end": 0.30000000000000004,
            "bin_start": 0.2,
            "count": 0
           },
           {
            "bin_end": 0.4,
            "bin_start": 0.30000000000000004,
            "count": 0
           },
           {
            "bin_end": 0.5,
            "bin_start": 0.4,
            "count": 0
           },
           {
            "bin_end": 0.6000000000000001,
            "bin_start": 0.5,
            "count": 0
           },
           {
            "bin_end": 0.7000000000000001,
            "bin_start": 0.6000000000000001,
            "count": 0
           },
           {
            "bin_end": 0.8,
            "bin_start": 0.7000000000000001,
            "count": 0
           },
           {
            "bin_end": 0.9,
            "bin_start": 0.8,
            "count": 0
           },
           {
            "bin_end": 1,
            "bin_start": 0.9,
            "count": 2
           }
          ],
          "max": "1",
          "min": "0",
          "nan_count": 0,
          "unique_count": 2
         }
        },
        {
         "dtype": "int64",
         "name": "Purpose A45",
         "stats": {
          "histogram": [
           {
            "bin_end": -0.4,
            "bin_start": -0.5,
            "count": 0
           },
           {
            "bin_end": -0.3,
            "bin_start": -0.4,
            "count": 0
           },
           {
            "bin_end": -0.19999999999999996,
            "bin_start": -0.3,
            "count": 0
           },
           {
            "bin_end": -0.09999999999999998,
            "bin_start": -0.19999999999999996,
            "count": 0
           },
           {
            "bin_end": 0,
            "bin_start": -0.09999999999999998,
            "count": 0
           },
           {
            "bin_end": 0.10000000000000009,
            "bin_start": 0,
            "count": 10
           },
           {
            "bin_end": 0.20000000000000007,
            "bin_start": 0.10000000000000009,
            "count": 0
           },
           {
            "bin_end": 0.30000000000000004,
            "bin_start": 0.20000000000000007,
            "count": 0
           },
           {
            "bin_end": 0.4,
            "bin_start": 0.30000000000000004,
            "count": 0
           },
           {
            "bin_end": 0.5,
            "bin_start": 0.4,
            "count": 0
           }
          ],
          "max": "0",
          "min": "0",
          "nan_count": 0,
          "unique_count": 1
         }
        },
        {
         "dtype": "int64",
         "name": "Purpose A46",
         "stats": {
          "histogram": [
           {
            "bin_end": 0.1,
            "bin_start": 0,
            "count": 9
           },
           {
            "bin_end": 0.2,
            "bin_start": 0.1,
            "count": 0
           },
           {
            "bin_end": 0.30000000000000004,
            "bin_start": 0.2,
            "count": 0
           },
           {
            "bin_end": 0.4,
            "bin_start": 0.30000000000000004,
            "count": 0
           },
           {
            "bin_end": 0.5,
            "bin_start": 0.4,
            "count": 0
           },
           {
            "bin_end": 0.6000000000000001,
            "bin_start": 0.5,
            "count": 0
           },
           {
            "bin_end": 0.7000000000000001,
            "bin_start": 0.6000000000000001,
            "count": 0
           },
           {
            "bin_end": 0.8,
            "bin_start": 0.7000000000000001,
            "count": 0
           },
           {
            "bin_end": 0.9,
            "bin_start": 0.8,
            "count": 0
           },
           {
            "bin_end": 1,
            "bin_start": 0.9,
            "count": 1
           }
          ],
          "max": "1",
          "min": "0",
          "nan_count": 0,
          "unique_count": 2
         }
        },
        {
         "dtype": "int64",
         "name": "Purpose A48",
         "stats": {
          "histogram": [
           {
            "bin_end": -0.4,
            "bin_start": -0.5,
            "count": 0
           },
           {
            "bin_end": -0.3,
            "bin_start": -0.4,
            "count": 0
           },
           {
            "bin_end": -0.19999999999999996,
            "bin_start": -0.3,
            "count": 0
           },
           {
            "bin_end": -0.09999999999999998,
            "bin_start": -0.19999999999999996,
            "count": 0
           },
           {
            "bin_end": 0,
            "bin_start": -0.09999999999999998,
            "count": 0
           },
           {
            "bin_end": 0.10000000000000009,
            "bin_start": 0,
            "count": 10
           },
           {
            "bin_end": 0.20000000000000007,
            "bin_start": 0.10000000000000009,
            "count": 0
           },
           {
            "bin_end": 0.30000000000000004,
            "bin_start": 0.20000000000000007,
            "count": 0
           },
           {
            "bin_end": 0.4,
            "bin_start": 0.30000000000000004,
            "count": 0
           },
           {
            "bin_end": 0.5,
            "bin_start": 0.4,
            "count": 0
           }
          ],
          "max": "0",
          "min": "0",
          "nan_count": 0,
          "unique_count": 1
         }
        },
        {
         "dtype": "int64",
         "name": "Purpose A49",
         "stats": {
          "histogram": [
           {
            "bin_end": 0.1,
            "bin_start": 0,
            "count": 9
           },
           {
            "bin_end": 0.2,
            "bin_start": 0.1,
            "count": 0
           },
           {
            "bin_end": 0.30000000000000004,
            "bin_start": 0.2,
            "count": 0
           },
           {
            "bin_end": 0.4,
            "bin_start": 0.30000000000000004,
            "count": 0
           },
           {
            "bin_end": 0.5,
            "bin_start": 0.4,
            "count": 0
           },
           {
            "bin_end": 0.6000000000000001,
            "bin_start": 0.5,
            "count": 0
           },
           {
            "bin_end": 0.7000000000000001,
            "bin_start": 0.6000000000000001,
            "count": 0
           },
           {
            "bin_end": 0.8,
            "bin_start": 0.7000000000000001,
            "count": 0
           },
           {
            "bin_end": 0.9,
            "bin_start": 0.8,
            "count": 0
           },
           {
            "bin_end": 1,
            "bin_start": 0.9,
            "count": 1
           }
          ],
          "max": "1",
          "min": "0",
          "nan_count": 0,
          "unique_count": 2
         }
        },
        {
         "dtype": "int64",
         "name": "Purpose A410",
         "stats": {
          "histogram": [
           {
            "bin_end": 0.1,
            "bin_start": 0,
            "count": 8
           },
           {
            "bin_end": 0.2,
            "bin_start": 0.1,
            "count": 0
           },
           {
            "bin_end": 0.30000000000000004,
            "bin_start": 0.2,
            "count": 0
           },
           {
            "bin_end": 0.4,
            "bin_start": 0.30000000000000004,
            "count": 0
           },
           {
            "bin_end": 0.5,
            "bin_start": 0.4,
            "count": 0
           },
           {
            "bin_end": 0.6000000000000001,
            "bin_start": 0.5,
            "count": 0
           },
           {
            "bin_end": 0.7000000000000001,
            "bin_start": 0.6000000000000001,
            "count": 0
           },
           {
            "bin_end": 0.8,
            "bin_start": 0.7000000000000001,
            "count": 0
           },
           {
            "bin_end": 0.9,
            "bin_start": 0.8,
            "count": 0
           },
           {
            "bin_end": 1,
            "bin_start": 0.9,
            "count": 2
           }
          ],
          "max": "1",
          "min": "0",
          "nan_count": 0,
          "unique_count": 2
         }
        },
        {
         "dtype": "int64",
         "name": "Savings A61",
         "stats": {
          "histogram": [
           {
            "bin_end": 0.1,
            "bin_start": 0,
            "count": 4
           },
           {
            "bin_end": 0.2,
            "bin_start": 0.1,
            "count": 0
           },
           {
            "bin_end": 0.30000000000000004,
            "bin_start": 0.2,
            "count": 0
           },
           {
            "bin_end": 0.4,
            "bin_start": 0.30000000000000004,
            "count": 0
           },
           {
            "bin_end": 0.5,
            "bin_start": 0.4,
            "count": 0
           },
           {
            "bin_end": 0.6000000000000001,
            "bin_start": 0.5,
            "count": 0
           },
           {
            "bin_end": 0.7000000000000001,
            "bin_start": 0.6000000000000001,
            "count": 0
           },
           {
            "bin_end": 0.8,
            "bin_start": 0.7000000000000001,
            "count": 0
           },
           {
            "bin_end": 0.9,
            "bin_start": 0.8,
            "count": 0
           },
           {
            "bin_end": 1,
            "bin_start": 0.9,
            "count": 6
           }
          ],
          "max": "1",
          "min": "0",
          "nan_count": 0,
          "unique_count": 2
         }
        },
        {
         "dtype": "int64",
         "name": "Savings A62",
         "stats": {
          "histogram": [
           {
            "bin_end": -0.4,
            "bin_start": -0.5,
            "count": 0
           },
           {
            "bin_end": -0.3,
            "bin_start": -0.4,
            "count": 0
           },
           {
            "bin_end": -0.19999999999999996,
            "bin_start": -0.3,
            "count": 0
           },
           {
            "bin_end": -0.09999999999999998,
            "bin_start": -0.19999999999999996,
            "count": 0
           },
           {
            "bin_end": 0,
            "bin_start": -0.09999999999999998,
            "count": 0
           },
           {
            "bin_end": 0.10000000000000009,
            "bin_start": 0,
            "count": 10
           },
           {
            "bin_end": 0.20000000000000007,
            "bin_start": 0.10000000000000009,
            "count": 0
           },
           {
            "bin_end": 0.30000000000000004,
            "bin_start": 0.20000000000000007,
            "count": 0
           },
           {
            "bin_end": 0.4,
            "bin_start": 0.30000000000000004,
            "count": 0
           },
           {
            "bin_end": 0.5,
            "bin_start": 0.4,
            "count": 0
           }
          ],
          "max": "0",
          "min": "0",
          "nan_count": 0,
          "unique_count": 1
         }
        },
        {
         "dtype": "int64",
         "name": "Savings A63",
         "stats": {
          "histogram": [
           {
            "bin_end": 0.1,
            "bin_start": 0,
            "count": 9
           },
           {
            "bin_end": 0.2,
            "bin_start": 0.1,
            "count": 0
           },
           {
            "bin_end": 0.30000000000000004,
            "bin_start": 0.2,
            "count": 0
           },
           {
            "bin_end": 0.4,
            "bin_start": 0.30000000000000004,
            "count": 0
           },
           {
            "bin_end": 0.5,
            "bin_start": 0.4,
            "count": 0
           },
           {
            "bin_end": 0.6000000000000001,
            "bin_start": 0.5,
            "count": 0
           },
           {
            "bin_end": 0.7000000000000001,
            "bin_start": 0.6000000000000001,
            "count": 0
           },
           {
            "bin_end": 0.8,
            "bin_start": 0.7000000000000001,
            "count": 0
           },
           {
            "bin_end": 0.9,
            "bin_start": 0.8,
            "count": 0
           },
           {
            "bin_end": 1,
            "bin_start": 0.9,
            "count": 1
           }
          ],
          "max": "1",
          "min": "0",
          "nan_count": 0,
          "unique_count": 2
         }
        },
        {
         "dtype": "int64",
         "name": "Savings A64",
         "stats": {
          "histogram": [
           {
            "bin_end": 0.1,
            "bin_start": 0,
            "count": 9
           },
           {
            "bin_end": 0.2,
            "bin_start": 0.1,
            "count": 0
           },
           {
            "bin_end": 0.30000000000000004,
            "bin_start": 0.2,
            "count": 0
           },
           {
            "bin_end": 0.4,
            "bin_start": 0.30000000000000004,
            "count": 0
           },
           {
            "bin_end": 0.5,
            "bin_start": 0.4,
            "count": 0
           },
           {
            "bin_end": 0.6000000000000001,
            "bin_start": 0.5,
            "count": 0
           },
           {
            "bin_end": 0.7000000000000001,
            "bin_start": 0.6000000000000001,
            "count": 0
           },
           {
            "bin_end": 0.8,
            "bin_start": 0.7000000000000001,
            "count": 0
           },
           {
            "bin_end": 0.9,
            "bin_start": 0.8,
            "count": 0
           },
           {
            "bin_end": 1,
            "bin_start": 0.9,
            "count": 1
           }
          ],
          "max": "1",
          "min": "0",
          "nan_count": 0,
          "unique_count": 2
         }
        },
        {
         "dtype": "int64",
         "name": "Savings A65",
         "stats": {
          "histogram": [
           {
            "bin_end": 0.1,
            "bin_start": 0,
            "count": 8
           },
           {
            "bin_end": 0.2,
            "bin_start": 0.1,
            "count": 0
           },
           {
            "bin_end": 0.30000000000000004,
            "bin_start": 0.2,
            "count": 0
           },
           {
            "bin_end": 0.4,
            "bin_start": 0.30000000000000004,
            "count": 0
           },
           {
            "bin_end": 0.5,
            "bin_start": 0.4,
            "count": 0
           },
           {
            "bin_end": 0.6000000000000001,
            "bin_start": 0.5,
            "count": 0
           },
           {
            "bin_end": 0.7000000000000001,
            "bin_start": 0.6000000000000001,
            "count": 0
           },
           {
            "bin_end": 0.8,
            "bin_start": 0.7000000000000001,
            "count": 0
           },
           {
            "bin_end": 0.9,
            "bin_start": 0.8,
            "count": 0
           },
           {
            "bin_end": 1,
            "bin_start": 0.9,
            "count": 2
           }
          ],
          "max": "1",
          "min": "0",
          "nan_count": 0,
          "unique_count": 2
         }
        },
        {
         "dtype": "int64",
         "name": "Employment A71",
         "stats": {
          "histogram": [
           {
            "bin_end": 0.1,
            "bin_start": 0,
            "count": 9
           },
           {
            "bin_end": 0.2,
            "bin_start": 0.1,
            "count": 0
           },
           {
            "bin_end": 0.30000000000000004,
            "bin_start": 0.2,
            "count": 0
           },
           {
            "bin_end": 0.4,
            "bin_start": 0.30000000000000004,
            "count": 0
           },
           {
            "bin_end": 0.5,
            "bin_start": 0.4,
            "count": 0
           },
           {
            "bin_end": 0.6000000000000001,
            "bin_start": 0.5,
            "count": 0
           },
           {
            "bin_end": 0.7000000000000001,
            "bin_start": 0.6000000000000001,
            "count": 0
           },
           {
            "bin_end": 0.8,
            "bin_start": 0.7000000000000001,
            "count": 0
           },
           {
            "bin_end": 0.9,
            "bin_start": 0.8,
            "count": 0
           },
           {
            "bin_end": 1,
            "bin_start": 0.9,
            "count": 1
           }
          ],
          "max": "1",
          "min": "0",
          "nan_count": 0,
          "unique_count": 2
         }
        },
        {
         "dtype": "int64",
         "name": "Employment A72",
         "stats": {
          "histogram": [
           {
            "bin_end": 0.1,
            "bin_start": 0,
            "count": 4
           },
           {
            "bin_end": 0.2,
            "bin_start": 0.1,
            "count": 0
           },
           {
            "bin_end": 0.30000000000000004,
            "bin_start": 0.2,
            "count": 0
           },
           {
            "bin_end": 0.4,
            "bin_start": 0.30000000000000004,
            "count": 0
           },
           {
            "bin_end": 0.5,
            "bin_start": 0.4,
            "count": 0
           },
           {
            "bin_end": 0.6000000000000001,
            "bin_start": 0.5,
            "count": 0
           },
           {
            "bin_end": 0.7000000000000001,
            "bin_start": 0.6000000000000001,
            "count": 0
           },
           {
            "bin_end": 0.8,
            "bin_start": 0.7000000000000001,
            "count": 0
           },
           {
            "bin_end": 0.9,
            "bin_start": 0.8,
            "count": 0
           },
           {
            "bin_end": 1,
            "bin_start": 0.9,
            "count": 6
           }
          ],
          "max": "1",
          "min": "0",
          "nan_count": 0,
          "unique_count": 2
         }
        },
        {
         "dtype": "int64",
         "name": "Employment A73",
         "stats": {
          "histogram": [
           {
            "bin_end": 0.1,
            "bin_start": 0,
            "count": 8
           },
           {
            "bin_end": 0.2,
            "bin_start": 0.1,
            "count": 0
           },
           {
            "bin_end": 0.30000000000000004,
            "bin_start": 0.2,
            "count": 0
           },
           {
            "bin_end": 0.4,
            "bin_start": 0.30000000000000004,
            "count": 0
           },
           {
            "bin_end": 0.5,
            "bin_start": 0.4,
            "count": 0
           },
           {
            "bin_end": 0.6000000000000001,
            "bin_start": 0.5,
            "count": 0
           },
           {
            "bin_end": 0.7000000000000001,
            "bin_start": 0.6000000000000001,
            "count": 0
           },
           {
            "bin_end": 0.8,
            "bin_start": 0.7000000000000001,
            "count": 0
           },
           {
            "bin_end": 0.9,
            "bin_start": 0.8,
            "count": 0
           },
           {
            "bin_end": 1,
            "bin_start": 0.9,
            "count": 2
           }
          ],
          "max": "1",
          "min": "0",
          "nan_count": 0,
          "unique_count": 2
         }
        },
        {
         "dtype": "int64",
         "name": "Employment A74",
         "stats": {
          "histogram": [
           {
            "bin_end": -0.4,
            "bin_start": -0.5,
            "count": 0
           },
           {
            "bin_end": -0.3,
            "bin_start": -0.4,
            "count": 0
           },
           {
            "bin_end": -0.19999999999999996,
            "bin_start": -0.3,
            "count": 0
           },
           {
            "bin_end": -0.09999999999999998,
            "bin_start": -0.19999999999999996,
            "count": 0
           },
           {
            "bin_end": 0,
            "bin_start": -0.09999999999999998,
            "count": 0
           },
           {
            "bin_end": 0.10000000000000009,
            "bin_start": 0,
            "count": 10
           },
           {
            "bin_end": 0.20000000000000007,
            "bin_start": 0.10000000000000009,
            "count": 0
           },
           {
            "bin_end": 0.30000000000000004,
            "bin_start": 0.20000000000000007,
            "count": 0
           },
           {
            "bin_end": 0.4,
            "bin_start": 0.30000000000000004,
            "count": 0
           },
           {
            "bin_end": 0.5,
            "bin_start": 0.4,
            "count": 0
           }
          ],
          "max": "0",
          "min": "0",
          "nan_count": 0,
          "unique_count": 1
         }
        },
        {
         "dtype": "int64",
         "name": "Employment A75",
         "stats": {
          "histogram": [
           {
            "bin_end": 0.1,
            "bin_start": 0,
            "count": 9
           },
           {
            "bin_end": 0.2,
            "bin_start": 0.1,
            "count": 0
           },
           {
            "bin_end": 0.30000000000000004,
            "bin_start": 0.2,
            "count": 0
           },
           {
            "bin_end": 0.4,
            "bin_start": 0.30000000000000004,
            "count": 0
           },
           {
            "bin_end": 0.5,
            "bin_start": 0.4,
            "count": 0
           },
           {
            "bin_end": 0.6000000000000001,
            "bin_start": 0.5,
            "count": 0
           },
           {
            "bin_end": 0.7000000000000001,
            "bin_start": 0.6000000000000001,
            "count": 0
           },
           {
            "bin_end": 0.8,
            "bin_start": 0.7000000000000001,
            "count": 0
           },
           {
            "bin_end": 0.9,
            "bin_start": 0.8,
            "count": 0
           },
           {
            "bin_end": 1,
            "bin_start": 0.9,
            "count": 1
           }
          ],
          "max": "1",
          "min": "0",
          "nan_count": 0,
          "unique_count": 2
         }
        },
        {
         "dtype": "float64",
         "name": "InstallmentRatePecnt",
         "stats": {
          "histogram": [
           {
            "bin_end": 0.1,
            "bin_start": 0,
            "count": 1
           },
           {
            "bin_end": 0.2,
            "bin_start": 0.1,
            "count": 0
           },
           {
            "bin_end": 0.30000000000000004,
            "bin_start": 0.2,
            "count": 0
           },
           {
            "bin_end": 0.4,
            "bin_start": 0.30000000000000004,
            "count": 1
           },
           {
            "bin_end": 0.5,
            "bin_start": 0.4,
            "count": 0
           },
           {
            "bin_end": 0.6000000000000001,
            "bin_start": 0.5,
            "count": 0
           },
           {
            "bin_end": 0.7000000000000001,
            "bin_start": 0.6000000000000001,
            "count": 3
           },
           {
            "bin_end": 0.8,
            "bin_start": 0.7000000000000001,
            "count": 1
           },
           {
            "bin_end": 0.9,
            "bin_start": 0.8,
            "count": 1
           },
           {
            "bin_end": 1,
            "bin_start": 0.9,
            "count": 3
           }
          ],
          "max": "1.0",
          "min": "0.0",
          "nan_count": 0,
          "unique_count": 6
         }
        },
        {
         "dtype": "float64",
         "name": "PresentResidenceTime",
         "stats": {
          "histogram": [
           {
            "bin_end": 0.1,
            "bin_start": 0,
            "count": 1
           },
           {
            "bin_end": 0.2,
            "bin_start": 0.1,
            "count": 0
           },
           {
            "bin_end": 0.30000000000000004,
            "bin_start": 0.2,
            "count": 0
           },
           {
            "bin_end": 0.4,
            "bin_start": 0.30000000000000004,
            "count": 5
           },
           {
            "bin_end": 0.5,
            "bin_start": 0.4,
            "count": 0
           },
           {
            "bin_end": 0.6000000000000001,
            "bin_start": 0.5,
            "count": 0
           },
           {
            "bin_end": 0.7000000000000001,
            "bin_start": 0.6000000000000001,
            "count": 0
           },
           {
            "bin_end": 0.8,
            "bin_start": 0.7000000000000001,
            "count": 0
           },
           {
            "bin_end": 0.9,
            "bin_start": 0.8,
            "count": 0
           },
           {
            "bin_end": 1,
            "bin_start": 0.9,
            "count": 4
           }
          ],
          "max": "1.0",
          "min": "0.0",
          "nan_count": 0,
          "unique_count": 4
         }
        },
        {
         "dtype": "int64",
         "name": "Property A121",
         "stats": {
          "histogram": [
           {
            "bin_end": 0.1,
            "bin_start": 0,
            "count": 7
           },
           {
            "bin_end": 0.2,
            "bin_start": 0.1,
            "count": 0
           },
           {
            "bin_end": 0.30000000000000004,
            "bin_start": 0.2,
            "count": 0
           },
           {
            "bin_end": 0.4,
            "bin_start": 0.30000000000000004,
            "count": 0
           },
           {
            "bin_end": 0.5,
            "bin_start": 0.4,
            "count": 0
           },
           {
            "bin_end": 0.6000000000000001,
            "bin_start": 0.5,
            "count": 0
           },
           {
            "bin_end": 0.7000000000000001,
            "bin_start": 0.6000000000000001,
            "count": 0
           },
           {
            "bin_end": 0.8,
            "bin_start": 0.7000000000000001,
            "count": 0
           },
           {
            "bin_end": 0.9,
            "bin_start": 0.8,
            "count": 0
           },
           {
            "bin_end": 1,
            "bin_start": 0.9,
            "count": 3
           }
          ],
          "max": "1",
          "min": "0",
          "nan_count": 0,
          "unique_count": 2
         }
        },
        {
         "dtype": "int64",
         "name": "Property A122",
         "stats": {
          "histogram": [
           {
            "bin_end": 0.1,
            "bin_start": 0,
            "count": 7
           },
           {
            "bin_end": 0.2,
            "bin_start": 0.1,
            "count": 0
           },
           {
            "bin_end": 0.30000000000000004,
            "bin_start": 0.2,
            "count": 0
           },
           {
            "bin_end": 0.4,
            "bin_start": 0.30000000000000004,
            "count": 0
           },
           {
            "bin_end": 0.5,
            "bin_start": 0.4,
            "count": 0
           },
           {
            "bin_end": 0.6000000000000001,
            "bin_start": 0.5,
            "count": 0
           },
           {
            "bin_end": 0.7000000000000001,
            "bin_start": 0.6000000000000001,
            "count": 0
           },
           {
            "bin_end": 0.8,
            "bin_start": 0.7000000000000001,
            "count": 0
           },
           {
            "bin_end": 0.9,
            "bin_start": 0.8,
            "count": 0
           },
           {
            "bin_end": 1,
            "bin_start": 0.9,
            "count": 3
           }
          ],
          "max": "1",
          "min": "0",
          "nan_count": 0,
          "unique_count": 2
         }
        },
        {
         "dtype": "int64",
         "name": "Property A123",
         "stats": {
          "histogram": [
           {
            "bin_end": 0.1,
            "bin_start": 0,
            "count": 7
           },
           {
            "bin_end": 0.2,
            "bin_start": 0.1,
            "count": 0
           },
           {
            "bin_end": 0.30000000000000004,
            "bin_start": 0.2,
            "count": 0
           },
           {
            "bin_end": 0.4,
            "bin_start": 0.30000000000000004,
            "count": 0
           },
           {
            "bin_end": 0.5,
            "bin_start": 0.4,
            "count": 0
           },
           {
            "bin_end": 0.6000000000000001,
            "bin_start": 0.5,
            "count": 0
           },
           {
            "bin_end": 0.7000000000000001,
            "bin_start": 0.6000000000000001,
            "count": 0
           },
           {
            "bin_end": 0.8,
            "bin_start": 0.7000000000000001,
            "count": 0
           },
           {
            "bin_end": 0.9,
            "bin_start": 0.8,
            "count": 0
           },
           {
            "bin_end": 1,
            "bin_start": 0.9,
            "count": 3
           }
          ],
          "max": "1",
          "min": "0",
          "nan_count": 0,
          "unique_count": 2
         }
        },
        {
         "dtype": "int64",
         "name": "Property A124",
         "stats": {
          "histogram": [
           {
            "bin_end": 0.1,
            "bin_start": 0,
            "count": 9
           },
           {
            "bin_end": 0.2,
            "bin_start": 0.1,
            "count": 0
           },
           {
            "bin_end": 0.30000000000000004,
            "bin_start": 0.2,
            "count": 0
           },
           {
            "bin_end": 0.4,
            "bin_start": 0.30000000000000004,
            "count": 0
           },
           {
            "bin_end": 0.5,
            "bin_start": 0.4,
            "count": 0
           },
           {
            "bin_end": 0.6000000000000001,
            "bin_start": 0.5,
            "count": 0
           },
           {
            "bin_end": 0.7000000000000001,
            "bin_start": 0.6000000000000001,
            "count": 0
           },
           {
            "bin_end": 0.8,
            "bin_start": 0.7000000000000001,
            "count": 0
           },
           {
            "bin_end": 0.9,
            "bin_start": 0.8,
            "count": 0
           },
           {
            "bin_end": 1,
            "bin_start": 0.9,
            "count": 1
           }
          ],
          "max": "1",
          "min": "0",
          "nan_count": 0,
          "unique_count": 2
         }
        },
        {
         "dtype": "float64",
         "name": "Age",
         "stats": {
          "histogram": [
           {
            "bin_end": 0.1198196132,
            "bin_start": 0.083529729,
            "count": 2
           },
           {
            "bin_end": 0.1561094974,
            "bin_start": 0.1198196132,
            "count": 1
           },
           {
            "bin_end": 0.19239938159999997,
            "bin_start": 0.1561094974,
            "count": 0
           },
           {
            "bin_end": 0.22868926579999999,
            "bin_start": 0.19239938159999997,
            "count": 2
           },
           {
            "bin_end": 0.26497915,
            "bin_start": 0.22868926579999999,
            "count": 1
           },
           {
            "bin_end": 0.30126903419999995,
            "bin_start": 0.26497915,
            "count": 0
           },
           {
            "bin_end": 0.33755891839999996,
            "bin_start": 0.30126903419999995,
            "count": 0
           },
           {
            "bin_end": 0.3738488026,
            "bin_start": 0.33755891839999996,
            "count": 1
           },
           {
            "bin_end": 0.4101386868,
            "bin_start": 0.3738488026,
            "count": 2
           },
           {
            "bin_end": 0.446428571,
            "bin_start": 0.4101386868,
            "count": 1
           }
          ],
          "max": "0.446428571",
          "min": "0.083529729",
          "nan_count": 0,
          "unique_count": 10
         }
        },
        {
         "dtype": "int64",
         "name": "Telephone1",
         "stats": {
          "histogram": [
           {
            "bin_end": 0.1,
            "bin_start": 0,
            "count": 4
           },
           {
            "bin_end": 0.2,
            "bin_start": 0.1,
            "count": 0
           },
           {
            "bin_end": 0.30000000000000004,
            "bin_start": 0.2,
            "count": 0
           },
           {
            "bin_end": 0.4,
            "bin_start": 0.30000000000000004,
            "count": 0
           },
           {
            "bin_end": 0.5,
            "bin_start": 0.4,
            "count": 0
           },
           {
            "bin_end": 0.6000000000000001,
            "bin_start": 0.5,
            "count": 0
           },
           {
            "bin_end": 0.7000000000000001,
            "bin_start": 0.6000000000000001,
            "count": 0
           },
           {
            "bin_end": 0.8,
            "bin_start": 0.7000000000000001,
            "count": 0
           },
           {
            "bin_end": 0.9,
            "bin_start": 0.8,
            "count": 0
           },
           {
            "bin_end": 1,
            "bin_start": 0.9,
            "count": 6
           }
          ],
          "max": "1",
          "min": "0",
          "nan_count": 0,
          "unique_count": 2
         }
        },
        {
         "dtype": "int64",
         "name": "CreditScore",
         "stats": {
          "histogram": [
           {
            "bin_end": 0.1,
            "bin_start": 0,
            "count": 6
           },
           {
            "bin_end": 0.2,
            "bin_start": 0.1,
            "count": 0
           },
           {
            "bin_end": 0.30000000000000004,
            "bin_start": 0.2,
            "count": 0
           },
           {
            "bin_end": 0.4,
            "bin_start": 0.30000000000000004,
            "count": 0
           },
           {
            "bin_end": 0.5,
            "bin_start": 0.4,
            "count": 0
           },
           {
            "bin_end": 0.6000000000000001,
            "bin_start": 0.5,
            "count": 0
           },
           {
            "bin_end": 0.7000000000000001,
            "bin_start": 0.6000000000000001,
            "count": 0
           },
           {
            "bin_end": 0.8,
            "bin_start": 0.7000000000000001,
            "count": 0
           },
           {
            "bin_end": 0.9,
            "bin_start": 0.8,
            "count": 0
           },
           {
            "bin_end": 1,
            "bin_start": 0.9,
            "count": 4
           }
          ],
          "max": "1",
          "min": "0",
          "nan_count": 0,
          "unique_count": 2
         }
        },
        {
         "dtype": "int64",
         "name": "_deepnote_index_column"
        }
       ],
       "row_count": 10,
       "rows_bottom": null,
       "rows_top": [
        {
         "Age": 0.207032039,
         "CheckingAcctStat A11": 1,
         "CheckingAcctStat A12": 0,
         "CheckingAcctStat A13": 0,
         "CheckingAcctStat A14": 0,
         "CreditHistory A30": 1,
         "CreditHistory A31": 0,
         "CreditHistory A32": 0,
         "CreditHistory A33": 0,
         "CreditHistory A34": 0,
         "CreditScore": 1,
         "Duration": 0.394987805,
         "Employment A71": 0,
         "Employment A72": 0,
         "Employment A73": 1,
         "Employment A74": 0,
         "Employment A75": 0,
         "InstallmentRatePecnt": 0.666666667,
         "PresentResidenceTime": 0.333333333,
         "Property A121": 0,
         "Property A122": 0,
         "Property A123": 1,
         "Property A124": 0,
         "Purpose A40": 0,
         "Purpose A41": 0,
         "Purpose A410": 0,
         "Purpose A42": 0,
         "Purpose A43": 0,
         "Purpose A44": 1,
         "Purpose A45": 0,
         "Purpose A46": 0,
         "Purpose A48": 0,
         "Purpose A49": 0,
         "Savings A61": 1,
         "Savings A62": 0,
         "Savings A63": 0,
         "Savings A64": 0,
         "Savings A65": 0,
         "Telephone1": 1,
         "_deepnote_index_column": 603
        },
        {
         "Age": 0.375,
         "CheckingAcctStat A11": 0,
         "CheckingAcctStat A12": 0,
         "CheckingAcctStat A13": 0,
         "CheckingAcctStat A14": 1,
         "CreditHistory A30": 0,
         "CreditHistory A31": 1,
         "CreditHistory A32": 0,
         "CreditHistory A33": 0,
         "CreditHistory A34": 0,
         "CreditScore": 0,
         "Duration": 0.352941176,
         "Employment A71": 0,
         "Employment A72": 1,
         "Employment A73": 0,
         "Employment A74": 0,
         "Employment A75": 0,
         "InstallmentRatePecnt": 0.666666667,
         "PresentResidenceTime": 1,
         "Property A121": 1,
         "Property A122": 0,
         "Property A123": 0,
         "Property A124": 0,
         "Purpose A40": 0,
         "Purpose A41": 1,
         "Purpose A410": 0,
         "Purpose A42": 0,
         "Purpose A43": 0,
         "Purpose A44": 0,
         "Purpose A45": 0,
         "Purpose A46": 0,
         "Purpose A48": 0,
         "Purpose A49": 0,
         "Savings A61": 0,
         "Savings A62": 0,
         "Savings A63": 0,
         "Savings A64": 0,
         "Savings A65": 1,
         "Telephone1": 1,
         "_deepnote_index_column": 377
        },
        {
         "Age": 0.339285714,
         "CheckingAcctStat A11": 0,
         "CheckingAcctStat A12": 1,
         "CheckingAcctStat A13": 0,
         "CheckingAcctStat A14": 0,
         "CreditHistory A30": 0,
         "CreditHistory A31": 0,
         "CreditHistory A32": 1,
         "CreditHistory A33": 0,
         "CreditHistory A34": 0,
         "CreditScore": 0,
         "Duration": 0.117647059,
         "Employment A71": 0,
         "Employment A72": 0,
         "Employment A73": 0,
         "Employment A74": 0,
         "Employment A75": 1,
         "InstallmentRatePecnt": 1,
         "PresentResidenceTime": 1,
         "Property A121": 0,
         "Property A122": 1,
         "Property A123": 0,
         "Property A124": 0,
         "Purpose A40": 0,
         "Purpose A41": 0,
         "Purpose A410": 0,
         "Purpose A42": 0,
         "Purpose A43": 0,
         "Purpose A44": 0,
         "Purpose A45": 0,
         "Purpose A46": 0,
         "Purpose A48": 0,
         "Purpose A49": 1,
         "Savings A61": 0,
         "Savings A62": 0,
         "Savings A63": 0,
         "Savings A64": 0,
         "Savings A65": 1,
         "Telephone1": 0,
         "_deepnote_index_column": 269
        },
        {
         "Age": 0.446428571,
         "CheckingAcctStat A11": 0,
         "CheckingAcctStat A12": 0,
         "CheckingAcctStat A13": 0,
         "CheckingAcctStat A14": 1,
         "CreditHistory A30": 0,
         "CreditHistory A31": 0,
         "CreditHistory A32": 0,
         "CreditHistory A33": 1,
         "CreditHistory A34": 0,
         "CreditScore": 0,
         "Duration": 0.294117647,
         "Employment A71": 0,
         "Employment A72": 0,
         "Employment A73": 1,
         "Employment A74": 0,
         "Employment A75": 0,
         "InstallmentRatePecnt": 1,
         "PresentResidenceTime": 0.333333333,
         "Property A121": 0,
         "Property A122": 0,
         "Property A123": 1,
         "Property A124": 0,
         "Purpose A40": 0,
         "Purpose A41": 0,
         "Purpose A410": 1,
         "Purpose A42": 0,
         "Purpose A43": 0,
         "Purpose A44": 0,
         "Purpose A45": 0,
         "Purpose A46": 0,
         "Purpose A48": 0,
         "Purpose A49": 0,
         "Savings A61": 0,
         "Savings A62": 0,
         "Savings A63": 1,
         "Savings A64": 0,
         "Savings A65": 0,
         "Telephone1": 1,
         "_deepnote_index_column": 385
        },
        {
         "Age": 0.103086493,
         "CheckingAcctStat A11": 1,
         "CheckingAcctStat A12": 0,
         "CheckingAcctStat A13": 0,
         "CheckingAcctStat A14": 0,
         "CreditHistory A30": 0,
         "CreditHistory A31": 0,
         "CreditHistory A32": 1,
         "CreditHistory A33": 0,
         "CreditHistory A34": 0,
         "CreditScore": 1,
         "Duration": 0.267617427,
         "Employment A71": 0,
         "Employment A72": 1,
         "Employment A73": 0,
         "Employment A74": 0,
         "Employment A75": 0,
         "InstallmentRatePecnt": 0,
         "PresentResidenceTime": 0.358292565,
         "Property A121": 0,
         "Property A122": 0,
         "Property A123": 0,
         "Property A124": 1,
         "Purpose A40": 0,
         "Purpose A41": 0,
         "Purpose A410": 0,
         "Purpose A42": 0,
         "Purpose A43": 0,
         "Purpose A44": 0,
         "Purpose A45": 0,
         "Purpose A46": 1,
         "Purpose A48": 0,
         "Purpose A49": 0,
         "Savings A61": 1,
         "Savings A62": 0,
         "Savings A63": 0,
         "Savings A64": 0,
         "Savings A65": 0,
         "Telephone1": 1,
         "_deepnote_index_column": 618
        },
        {
         "Age": 0.260880513,
         "CheckingAcctStat A11": 0,
         "CheckingAcctStat A12": 0,
         "CheckingAcctStat A13": 0,
         "CheckingAcctStat A14": 1,
         "CreditHistory A30": 0,
         "CreditHistory A31": 0,
         "CreditHistory A32": 1,
         "CreditHistory A33": 0,
         "CreditHistory A34": 0,
         "CreditScore": 1,
         "Duration": 0.310964132,
         "Employment A71": 1,
         "Employment A72": 0,
         "Employment A73": 0,
         "Employment A74": 0,
         "Employment A75": 0,
         "InstallmentRatePecnt": 0.810761261,
         "PresentResidenceTime": 0.333333333,
         "Property A121": 0,
         "Property A122": 0,
         "Property A123": 1,
         "Property A124": 0,
         "Purpose A40": 0,
         "Purpose A41": 0,
         "Purpose A410": 1,
         "Purpose A42": 0,
         "Purpose A43": 0,
         "Purpose A44": 0,
         "Purpose A45": 0,
         "Purpose A46": 0,
         "Purpose A48": 0,
         "Purpose A49": 0,
         "Savings A61": 1,
         "Savings A62": 0,
         "Savings A63": 0,
         "Savings A64": 0,
         "Savings A65": 0,
         "Telephone1": 1,
         "_deepnote_index_column": 769
        },
        {
         "Age": 0.083529729,
         "CheckingAcctStat A11": 1,
         "CheckingAcctStat A12": 0,
         "CheckingAcctStat A13": 0,
         "CheckingAcctStat A14": 0,
         "CreditHistory A30": 0,
         "CreditHistory A31": 0,
         "CreditHistory A32": 1,
         "CreditHistory A33": 0,
         "CreditHistory A34": 0,
         "CreditScore": 1,
         "Duration": 0.216948805,
         "Employment A71": 0,
         "Employment A72": 1,
         "Employment A73": 0,
         "Employment A74": 0,
         "Employment A75": 0,
         "InstallmentRatePecnt": 0.719453571,
         "PresentResidenceTime": 1,
         "Property A121": 0,
         "Property A122": 1,
         "Property A123": 0,
         "Property A124": 0,
         "Purpose A40": 0,
         "Purpose A41": 0,
         "Purpose A410": 0,
         "Purpose A42": 0,
         "Purpose A43": 0,
         "Purpose A44": 1,
         "Purpose A45": 0,
         "Purpose A46": 0,
         "Purpose A48": 0,
         "Purpose A49": 0,
         "Savings A61": 1,
         "Savings A62": 0,
         "Savings A63": 0,
         "Savings A64": 0,
         "Savings A65": 0,
         "Telephone1": 0,
         "_deepnote_index_column": 622
        },
        {
         "Age": 0.196428571,
         "CheckingAcctStat A11": 0,
         "CheckingAcctStat A12": 0,
         "CheckingAcctStat A13": 0,
         "CheckingAcctStat A14": 1,
         "CreditHistory A30": 0,
         "CreditHistory A31": 0,
         "CreditHistory A32": 0,
         "CreditHistory A33": 0,
         "CreditHistory A34": 1,
         "CreditScore": 0,
         "Duration": 0.205882353,
         "Employment A71": 0,
         "Employment A72": 1,
         "Employment A73": 0,
         "Employment A74": 0,
         "Employment A75": 0,
         "InstallmentRatePecnt": 1,
         "PresentResidenceTime": 0,
         "Property A121": 0,
         "Property A122": 1,
         "Property A123": 0,
         "Property A124": 0,
         "Purpose A40": 1,
         "Purpose A41": 0,
         "Purpose A410": 0,
         "Purpose A42": 0,
         "Purpose A43": 0,
         "Purpose A44": 0,
         "Purpose A45": 0,
         "Purpose A46": 0,
         "Purpose A48": 0,
         "Purpose A49": 0,
         "Savings A61": 1,
         "Savings A62": 0,
         "Savings A63": 0,
         "Savings A64": 0,
         "Savings A65": 0,
         "Telephone1": 0,
         "_deepnote_index_column": 432
        },
        {
         "Age": 0.142857143,
         "CheckingAcctStat A11": 0,
         "CheckingAcctStat A12": 0,
         "CheckingAcctStat A13": 1,
         "CheckingAcctStat A14": 0,
         "CreditHistory A30": 0,
         "CreditHistory A31": 0,
         "CreditHistory A32": 1,
         "CreditHistory A33": 0,
         "CreditHistory A34": 0,
         "CreditScore": 0,
         "Duration": 0.029411765,
         "Employment A71": 0,
         "Employment A72": 1,
         "Employment A73": 0,
         "Employment A74": 0,
         "Employment A75": 0,
         "InstallmentRatePecnt": 0.333333333,
         "PresentResidenceTime": 0.333333333,
         "Property A121": 1,
         "Property A122": 0,
         "Property A123": 0,
         "Property A124": 0,
         "Purpose A40": 1,
         "Purpose A41": 0,
         "Purpose A410": 0,
         "Purpose A42": 0,
         "Purpose A43": 0,
         "Purpose A44": 0,
         "Purpose A45": 0,
         "Purpose A46": 0,
         "Purpose A48": 0,
         "Purpose A49": 0,
         "Savings A61": 0,
         "Savings A62": 0,
         "Savings A63": 0,
         "Savings A64": 1,
         "Savings A65": 0,
         "Telephone1": 0,
         "_deepnote_index_column": 287
        },
        {
         "Age": 0.392857143,
         "CheckingAcctStat A11": 1,
         "CheckingAcctStat A12": 0,
         "CheckingAcctStat A13": 0,
         "CheckingAcctStat A14": 0,
         "CreditHistory A30": 0,
         "CreditHistory A31": 0,
         "CreditHistory A32": 1,
         "CreditHistory A33": 0,
         "CreditHistory A34": 0,
         "CreditScore": 0,
         "Duration": 0.029411765,
         "Employment A71": 0,
         "Employment A72": 1,
         "Employment A73": 0,
         "Employment A74": 0,
         "Employment A75": 0,
         "InstallmentRatePecnt": 0.666666667,
         "PresentResidenceTime": 1,
         "Property A121": 1,
         "Property A122": 0,
         "Property A123": 0,
         "Property A124": 0,
         "Purpose A40": 1,
         "Purpose A41": 0,
         "Purpose A410": 0,
         "Purpose A42": 0,
         "Purpose A43": 0,
         "Purpose A44": 0,
         "Purpose A45": 0,
         "Purpose A46": 0,
         "Purpose A48": 0,
         "Purpose A49": 0,
         "Savings A61": 1,
         "Savings A62": 0,
         "Savings A63": 0,
         "Savings A64": 0,
         "Savings A65": 0,
         "Telephone1": 1,
         "_deepnote_index_column": 356
        }
       ]
      },
      "text/html": [
       "<div>\n",
       "<style scoped>\n",
       "    .dataframe tbody tr th:only-of-type {\n",
       "        vertical-align: middle;\n",
       "    }\n",
       "\n",
       "    .dataframe tbody tr th {\n",
       "        vertical-align: top;\n",
       "    }\n",
       "\n",
       "    .dataframe thead th {\n",
       "        text-align: right;\n",
       "    }\n",
       "</style>\n",
       "<table border=\"1\" class=\"dataframe\">\n",
       "  <thead>\n",
       "    <tr style=\"text-align: right;\">\n",
       "      <th></th>\n",
       "      <th>CheckingAcctStat A11</th>\n",
       "      <th>CheckingAcctStat A12</th>\n",
       "      <th>CheckingAcctStat A13</th>\n",
       "      <th>CheckingAcctStat A14</th>\n",
       "      <th>Duration</th>\n",
       "      <th>CreditHistory A30</th>\n",
       "      <th>CreditHistory A31</th>\n",
       "      <th>CreditHistory A32</th>\n",
       "      <th>CreditHistory A33</th>\n",
       "      <th>CreditHistory A34</th>\n",
       "      <th>...</th>\n",
       "      <th>Employment A75</th>\n",
       "      <th>InstallmentRatePecnt</th>\n",
       "      <th>PresentResidenceTime</th>\n",
       "      <th>Property A121</th>\n",
       "      <th>Property A122</th>\n",
       "      <th>Property A123</th>\n",
       "      <th>Property A124</th>\n",
       "      <th>Age</th>\n",
       "      <th>Telephone1</th>\n",
       "      <th>CreditScore</th>\n",
       "    </tr>\n",
       "  </thead>\n",
       "  <tbody>\n",
       "    <tr>\n",
       "      <th>603</th>\n",
       "      <td>1</td>\n",
       "      <td>0</td>\n",
       "      <td>0</td>\n",
       "      <td>0</td>\n",
       "      <td>0.394988</td>\n",
       "      <td>1</td>\n",
       "      <td>0</td>\n",
       "      <td>0</td>\n",
       "      <td>0</td>\n",
       "      <td>0</td>\n",
       "      <td>...</td>\n",
       "      <td>0</td>\n",
       "      <td>0.666667</td>\n",
       "      <td>0.333333</td>\n",
       "      <td>0</td>\n",
       "      <td>0</td>\n",
       "      <td>1</td>\n",
       "      <td>0</td>\n",
       "      <td>0.207032</td>\n",
       "      <td>1</td>\n",
       "      <td>1</td>\n",
       "    </tr>\n",
       "    <tr>\n",
       "      <th>377</th>\n",
       "      <td>0</td>\n",
       "      <td>0</td>\n",
       "      <td>0</td>\n",
       "      <td>1</td>\n",
       "      <td>0.352941</td>\n",
       "      <td>0</td>\n",
       "      <td>1</td>\n",
       "      <td>0</td>\n",
       "      <td>0</td>\n",
       "      <td>0</td>\n",
       "      <td>...</td>\n",
       "      <td>0</td>\n",
       "      <td>0.666667</td>\n",
       "      <td>1.000000</td>\n",
       "      <td>1</td>\n",
       "      <td>0</td>\n",
       "      <td>0</td>\n",
       "      <td>0</td>\n",
       "      <td>0.375000</td>\n",
       "      <td>1</td>\n",
       "      <td>0</td>\n",
       "    </tr>\n",
       "    <tr>\n",
       "      <th>269</th>\n",
       "      <td>0</td>\n",
       "      <td>1</td>\n",
       "      <td>0</td>\n",
       "      <td>0</td>\n",
       "      <td>0.117647</td>\n",
       "      <td>0</td>\n",
       "      <td>0</td>\n",
       "      <td>1</td>\n",
       "      <td>0</td>\n",
       "      <td>0</td>\n",
       "      <td>...</td>\n",
       "      <td>1</td>\n",
       "      <td>1.000000</td>\n",
       "      <td>1.000000</td>\n",
       "      <td>0</td>\n",
       "      <td>1</td>\n",
       "      <td>0</td>\n",
       "      <td>0</td>\n",
       "      <td>0.339286</td>\n",
       "      <td>0</td>\n",
       "      <td>0</td>\n",
       "    </tr>\n",
       "    <tr>\n",
       "      <th>385</th>\n",
       "      <td>0</td>\n",
       "      <td>0</td>\n",
       "      <td>0</td>\n",
       "      <td>1</td>\n",
       "      <td>0.294118</td>\n",
       "      <td>0</td>\n",
       "      <td>0</td>\n",
       "      <td>0</td>\n",
       "      <td>1</td>\n",
       "      <td>0</td>\n",
       "      <td>...</td>\n",
       "      <td>0</td>\n",
       "      <td>1.000000</td>\n",
       "      <td>0.333333</td>\n",
       "      <td>0</td>\n",
       "      <td>0</td>\n",
       "      <td>1</td>\n",
       "      <td>0</td>\n",
       "      <td>0.446429</td>\n",
       "      <td>1</td>\n",
       "      <td>0</td>\n",
       "    </tr>\n",
       "    <tr>\n",
       "      <th>618</th>\n",
       "      <td>1</td>\n",
       "      <td>0</td>\n",
       "      <td>0</td>\n",
       "      <td>0</td>\n",
       "      <td>0.267617</td>\n",
       "      <td>0</td>\n",
       "      <td>0</td>\n",
       "      <td>1</td>\n",
       "      <td>0</td>\n",
       "      <td>0</td>\n",
       "      <td>...</td>\n",
       "      <td>0</td>\n",
       "      <td>0.000000</td>\n",
       "      <td>0.358293</td>\n",
       "      <td>0</td>\n",
       "      <td>0</td>\n",
       "      <td>0</td>\n",
       "      <td>1</td>\n",
       "      <td>0.103086</td>\n",
       "      <td>1</td>\n",
       "      <td>1</td>\n",
       "    </tr>\n",
       "    <tr>\n",
       "      <th>769</th>\n",
       "      <td>0</td>\n",
       "      <td>0</td>\n",
       "      <td>0</td>\n",
       "      <td>1</td>\n",
       "      <td>0.310964</td>\n",
       "      <td>0</td>\n",
       "      <td>0</td>\n",
       "      <td>1</td>\n",
       "      <td>0</td>\n",
       "      <td>0</td>\n",
       "      <td>...</td>\n",
       "      <td>0</td>\n",
       "      <td>0.810761</td>\n",
       "      <td>0.333333</td>\n",
       "      <td>0</td>\n",
       "      <td>0</td>\n",
       "      <td>1</td>\n",
       "      <td>0</td>\n",
       "      <td>0.260881</td>\n",
       "      <td>1</td>\n",
       "      <td>1</td>\n",
       "    </tr>\n",
       "    <tr>\n",
       "      <th>622</th>\n",
       "      <td>1</td>\n",
       "      <td>0</td>\n",
       "      <td>0</td>\n",
       "      <td>0</td>\n",
       "      <td>0.216949</td>\n",
       "      <td>0</td>\n",
       "      <td>0</td>\n",
       "      <td>1</td>\n",
       "      <td>0</td>\n",
       "      <td>0</td>\n",
       "      <td>...</td>\n",
       "      <td>0</td>\n",
       "      <td>0.719454</td>\n",
       "      <td>1.000000</td>\n",
       "      <td>0</td>\n",
       "      <td>1</td>\n",
       "      <td>0</td>\n",
       "      <td>0</td>\n",
       "      <td>0.083530</td>\n",
       "      <td>0</td>\n",
       "      <td>1</td>\n",
       "    </tr>\n",
       "    <tr>\n",
       "      <th>432</th>\n",
       "      <td>0</td>\n",
       "      <td>0</td>\n",
       "      <td>0</td>\n",
       "      <td>1</td>\n",
       "      <td>0.205882</td>\n",
       "      <td>0</td>\n",
       "      <td>0</td>\n",
       "      <td>0</td>\n",
       "      <td>0</td>\n",
       "      <td>1</td>\n",
       "      <td>...</td>\n",
       "      <td>0</td>\n",
       "      <td>1.000000</td>\n",
       "      <td>0.000000</td>\n",
       "      <td>0</td>\n",
       "      <td>1</td>\n",
       "      <td>0</td>\n",
       "      <td>0</td>\n",
       "      <td>0.196429</td>\n",
       "      <td>0</td>\n",
       "      <td>0</td>\n",
       "    </tr>\n",
       "    <tr>\n",
       "      <th>287</th>\n",
       "      <td>0</td>\n",
       "      <td>0</td>\n",
       "      <td>1</td>\n",
       "      <td>0</td>\n",
       "      <td>0.029412</td>\n",
       "      <td>0</td>\n",
       "      <td>0</td>\n",
       "      <td>1</td>\n",
       "      <td>0</td>\n",
       "      <td>0</td>\n",
       "      <td>...</td>\n",
       "      <td>0</td>\n",
       "      <td>0.333333</td>\n",
       "      <td>0.333333</td>\n",
       "      <td>1</td>\n",
       "      <td>0</td>\n",
       "      <td>0</td>\n",
       "      <td>0</td>\n",
       "      <td>0.142857</td>\n",
       "      <td>0</td>\n",
       "      <td>0</td>\n",
       "    </tr>\n",
       "    <tr>\n",
       "      <th>356</th>\n",
       "      <td>1</td>\n",
       "      <td>0</td>\n",
       "      <td>0</td>\n",
       "      <td>0</td>\n",
       "      <td>0.029412</td>\n",
       "      <td>0</td>\n",
       "      <td>0</td>\n",
       "      <td>1</td>\n",
       "      <td>0</td>\n",
       "      <td>0</td>\n",
       "      <td>...</td>\n",
       "      <td>0</td>\n",
       "      <td>0.666667</td>\n",
       "      <td>1.000000</td>\n",
       "      <td>1</td>\n",
       "      <td>0</td>\n",
       "      <td>0</td>\n",
       "      <td>0</td>\n",
       "      <td>0.392857</td>\n",
       "      <td>1</td>\n",
       "      <td>0</td>\n",
       "    </tr>\n",
       "  </tbody>\n",
       "</table>\n",
       "<p>10 rows × 39 columns</p>\n",
       "</div>"
      ],
      "text/plain": [
       "     CheckingAcctStat A11  CheckingAcctStat A12  CheckingAcctStat A13  \\\n",
       "603                     1                     0                     0   \n",
       "377                     0                     0                     0   \n",
       "269                     0                     1                     0   \n",
       "385                     0                     0                     0   \n",
       "618                     1                     0                     0   \n",
       "769                     0                     0                     0   \n",
       "622                     1                     0                     0   \n",
       "432                     0                     0                     0   \n",
       "287                     0                     0                     1   \n",
       "356                     1                     0                     0   \n",
       "\n",
       "     CheckingAcctStat A14  Duration  CreditHistory A30  CreditHistory A31  \\\n",
       "603                     0  0.394988                  1                  0   \n",
       "377                     1  0.352941                  0                  1   \n",
       "269                     0  0.117647                  0                  0   \n",
       "385                     1  0.294118                  0                  0   \n",
       "618                     0  0.267617                  0                  0   \n",
       "769                     1  0.310964                  0                  0   \n",
       "622                     0  0.216949                  0                  0   \n",
       "432                     1  0.205882                  0                  0   \n",
       "287                     0  0.029412                  0                  0   \n",
       "356                     0  0.029412                  0                  0   \n",
       "\n",
       "     CreditHistory A32  CreditHistory A33  CreditHistory A34  ...  \\\n",
       "603                  0                  0                  0  ...   \n",
       "377                  0                  0                  0  ...   \n",
       "269                  1                  0                  0  ...   \n",
       "385                  0                  1                  0  ...   \n",
       "618                  1                  0                  0  ...   \n",
       "769                  1                  0                  0  ...   \n",
       "622                  1                  0                  0  ...   \n",
       "432                  0                  0                  1  ...   \n",
       "287                  1                  0                  0  ...   \n",
       "356                  1                  0                  0  ...   \n",
       "\n",
       "     Employment A75  InstallmentRatePecnt  PresentResidenceTime  \\\n",
       "603               0              0.666667              0.333333   \n",
       "377               0              0.666667              1.000000   \n",
       "269               1              1.000000              1.000000   \n",
       "385               0              1.000000              0.333333   \n",
       "618               0              0.000000              0.358293   \n",
       "769               0              0.810761              0.333333   \n",
       "622               0              0.719454              1.000000   \n",
       "432               0              1.000000              0.000000   \n",
       "287               0              0.333333              0.333333   \n",
       "356               0              0.666667              1.000000   \n",
       "\n",
       "     Property A121  Property A122  Property A123  Property A124       Age  \\\n",
       "603              0              0              1              0  0.207032   \n",
       "377              1              0              0              0  0.375000   \n",
       "269              0              1              0              0  0.339286   \n",
       "385              0              0              1              0  0.446429   \n",
       "618              0              0              0              1  0.103086   \n",
       "769              0              0              1              0  0.260881   \n",
       "622              0              1              0              0  0.083530   \n",
       "432              0              1              0              0  0.196429   \n",
       "287              1              0              0              0  0.142857   \n",
       "356              1              0              0              0  0.392857   \n",
       "\n",
       "     Telephone1  CreditScore  \n",
       "603           1            1  \n",
       "377           1            0  \n",
       "269           0            0  \n",
       "385           1            0  \n",
       "618           1            1  \n",
       "769           1            1  \n",
       "622           0            1  \n",
       "432           0            0  \n",
       "287           0            0  \n",
       "356           1            0  \n",
       "\n",
       "[10 rows x 39 columns]"
      ]
     },
     "execution_count": 14,
     "metadata": {},
     "output_type": "execute_result"
    }
   ],
   "source": [
    "df.sample(10)"
   ]
  },
  {
   "cell_type": "code",
   "execution_count": null,
   "metadata": {
    "cell_id": "f4394bfb841c4b578d673ee256f4ca26",
    "deepnote_cell_type": "code",
    "deepnote_to_be_reexecuted": false,
    "execution_millis": 183,
    "execution_start": 1639498493975,
    "source_hash": "3b43a337",
    "tags": []
   },
   "outputs": [
    {
     "data": {
      "application/vnd.deepnote.dataframe.v2+json": {
       "column_count": 39,
       "columns": [
        {
         "dtype": "int64",
         "name": "CheckingAcctStat A11",
         "stats": {
          "histogram": [
           {
            "bin_end": 0.1,
            "bin_start": 0,
            "count": 617
           },
           {
            "bin_end": 0.2,
            "bin_start": 0.1,
            "count": 0
           },
           {
            "bin_end": 0.30000000000000004,
            "bin_start": 0.2,
            "count": 0
           },
           {
            "bin_end": 0.4,
            "bin_start": 0.30000000000000004,
            "count": 0
           },
           {
            "bin_end": 0.5,
            "bin_start": 0.4,
            "count": 0
           },
           {
            "bin_end": 0.6000000000000001,
            "bin_start": 0.5,
            "count": 0
           },
           {
            "bin_end": 0.7000000000000001,
            "bin_start": 0.6000000000000001,
            "count": 0
           },
           {
            "bin_end": 0.8,
            "bin_start": 0.7000000000000001,
            "count": 0
           },
           {
            "bin_end": 0.9,
            "bin_start": 0.8,
            "count": 0
           },
           {
            "bin_end": 1,
            "bin_start": 0.9,
            "count": 333
           }
          ],
          "max": "1",
          "min": "0",
          "nan_count": 0,
          "unique_count": 2
         }
        },
        {
         "dtype": "int64",
         "name": "CheckingAcctStat A12",
         "stats": {
          "histogram": [
           {
            "bin_end": 0.1,
            "bin_start": 0,
            "count": 684
           },
           {
            "bin_end": 0.2,
            "bin_start": 0.1,
            "count": 0
           },
           {
            "bin_end": 0.30000000000000004,
            "bin_start": 0.2,
            "count": 0
           },
           {
            "bin_end": 0.4,
            "bin_start": 0.30000000000000004,
            "count": 0
           },
           {
            "bin_end": 0.5,
            "bin_start": 0.4,
            "count": 0
           },
           {
            "bin_end": 0.6000000000000001,
            "bin_start": 0.5,
            "count": 0
           },
           {
            "bin_end": 0.7000000000000001,
            "bin_start": 0.6000000000000001,
            "count": 0
           },
           {
            "bin_end": 0.8,
            "bin_start": 0.7000000000000001,
            "count": 0
           },
           {
            "bin_end": 0.9,
            "bin_start": 0.8,
            "count": 0
           },
           {
            "bin_end": 1,
            "bin_start": 0.9,
            "count": 266
           }
          ],
          "max": "1",
          "min": "0",
          "nan_count": 0,
          "unique_count": 2
         }
        },
        {
         "dtype": "int64",
         "name": "CheckingAcctStat A13",
         "stats": {
          "histogram": [
           {
            "bin_end": 0.1,
            "bin_start": 0,
            "count": 900
           },
           {
            "bin_end": 0.2,
            "bin_start": 0.1,
            "count": 0
           },
           {
            "bin_end": 0.30000000000000004,
            "bin_start": 0.2,
            "count": 0
           },
           {
            "bin_end": 0.4,
            "bin_start": 0.30000000000000004,
            "count": 0
           },
           {
            "bin_end": 0.5,
            "bin_start": 0.4,
            "count": 0
           },
           {
            "bin_end": 0.6000000000000001,
            "bin_start": 0.5,
            "count": 0
           },
           {
            "bin_end": 0.7000000000000001,
            "bin_start": 0.6000000000000001,
            "count": 0
           },
           {
            "bin_end": 0.8,
            "bin_start": 0.7000000000000001,
            "count": 0
           },
           {
            "bin_end": 0.9,
            "bin_start": 0.8,
            "count": 0
           },
           {
            "bin_end": 1,
            "bin_start": 0.9,
            "count": 50
           }
          ],
          "max": "1",
          "min": "0",
          "nan_count": 0,
          "unique_count": 2
         }
        },
        {
         "dtype": "int64",
         "name": "CheckingAcctStat A14",
         "stats": {
          "histogram": [
           {
            "bin_end": 0.1,
            "bin_start": 0,
            "count": 649
           },
           {
            "bin_end": 0.2,
            "bin_start": 0.1,
            "count": 0
           },
           {
            "bin_end": 0.30000000000000004,
            "bin_start": 0.2,
            "count": 0
           },
           {
            "bin_end": 0.4,
            "bin_start": 0.30000000000000004,
            "count": 0
           },
           {
            "bin_end": 0.5,
            "bin_start": 0.4,
            "count": 0
           },
           {
            "bin_end": 0.6000000000000001,
            "bin_start": 0.5,
            "count": 0
           },
           {
            "bin_end": 0.7000000000000001,
            "bin_start": 0.6000000000000001,
            "count": 0
           },
           {
            "bin_end": 0.8,
            "bin_start": 0.7000000000000001,
            "count": 0
           },
           {
            "bin_end": 0.9,
            "bin_start": 0.8,
            "count": 0
           },
           {
            "bin_end": 1,
            "bin_start": 0.9,
            "count": 301
           }
          ],
          "max": "1",
          "min": "0",
          "nan_count": 0,
          "unique_count": 2
         }
        },
        {
         "dtype": "float64",
         "name": "Time",
         "stats": {
          "histogram": [
           {
            "bin_end": 0.1,
            "bin_start": 0,
            "count": 126
           },
           {
            "bin_end": 0.2,
            "bin_start": 0.1,
            "count": 257
           },
           {
            "bin_end": 0.30000000000000004,
            "bin_start": 0.2,
            "count": 289
           },
           {
            "bin_end": 0.4,
            "bin_start": 0.30000000000000004,
            "count": 90
           },
           {
            "bin_end": 0.5,
            "bin_start": 0.4,
            "count": 99
           },
           {
            "bin_end": 0.6000000000000001,
            "bin_start": 0.5,
            "count": 31
           },
           {
            "bin_end": 0.7000000000000001,
            "bin_start": 0.6000000000000001,
            "count": 42
           },
           {
            "bin_end": 0.8,
            "bin_start": 0.7000000000000001,
            "count": 5
           },
           {
            "bin_end": 0.9,
            "bin_start": 0.8,
            "count": 10
           },
           {
            "bin_end": 1,
            "bin_start": 0.9,
            "count": 1
           }
          ],
          "max": "1.0",
          "min": "0.0",
          "nan_count": 0,
          "unique_count": 176
         }
        },
        {
         "dtype": "int64",
         "name": "CreditHistory A30",
         "stats": {
          "histogram": [
           {
            "bin_end": 0.1,
            "bin_start": 0,
            "count": 897
           },
           {
            "bin_end": 0.2,
            "bin_start": 0.1,
            "count": 0
           },
           {
            "bin_end": 0.30000000000000004,
            "bin_start": 0.2,
            "count": 0
           },
           {
            "bin_end": 0.4,
            "bin_start": 0.30000000000000004,
            "count": 0
           },
           {
            "bin_end": 0.5,
            "bin_start": 0.4,
            "count": 0
           },
           {
            "bin_end": 0.6000000000000001,
            "bin_start": 0.5,
            "count": 0
           },
           {
            "bin_end": 0.7000000000000001,
            "bin_start": 0.6000000000000001,
            "count": 0
           },
           {
            "bin_end": 0.8,
            "bin_start": 0.7000000000000001,
            "count": 0
           },
           {
            "bin_end": 0.9,
            "bin_start": 0.8,
            "count": 0
           },
           {
            "bin_end": 1,
            "bin_start": 0.9,
            "count": 53
           }
          ],
          "max": "1",
          "min": "0",
          "nan_count": 0,
          "unique_count": 2
         }
        },
        {
         "dtype": "int64",
         "name": "CreditHistory A31",
         "stats": {
          "histogram": [
           {
            "bin_end": 0.1,
            "bin_start": 0,
            "count": 888
           },
           {
            "bin_end": 0.2,
            "bin_start": 0.1,
            "count": 0
           },
           {
            "bin_end": 0.30000000000000004,
            "bin_start": 0.2,
            "count": 0
           },
           {
            "bin_end": 0.4,
            "bin_start": 0.30000000000000004,
            "count": 0
           },
           {
            "bin_end": 0.5,
            "bin_start": 0.4,
            "count": 0
           },
           {
            "bin_end": 0.6000000000000001,
            "bin_start": 0.5,
            "count": 0
           },
           {
            "bin_end": 0.7000000000000001,
            "bin_start": 0.6000000000000001,
            "count": 0
           },
           {
            "bin_end": 0.8,
            "bin_start": 0.7000000000000001,
            "count": 0
           },
           {
            "bin_end": 0.9,
            "bin_start": 0.8,
            "count": 0
           },
           {
            "bin_end": 1,
            "bin_start": 0.9,
            "count": 62
           }
          ],
          "max": "1",
          "min": "0",
          "nan_count": 0,
          "unique_count": 2
         }
        },
        {
         "dtype": "int64",
         "name": "CreditHistory A32",
         "stats": {
          "histogram": [
           {
            "bin_end": 0.1,
            "bin_start": 0,
            "count": 425
           },
           {
            "bin_end": 0.2,
            "bin_start": 0.1,
            "count": 0
           },
           {
            "bin_end": 0.30000000000000004,
            "bin_start": 0.2,
            "count": 0
           },
           {
            "bin_end": 0.4,
            "bin_start": 0.30000000000000004,
            "count": 0
           },
           {
            "bin_end": 0.5,
            "bin_start": 0.4,
            "count": 0
           },
           {
            "bin_end": 0.6000000000000001,
            "bin_start": 0.5,
            "count": 0
           },
           {
            "bin_end": 0.7000000000000001,
            "bin_start": 0.6000000000000001,
            "count": 0
           },
           {
            "bin_end": 0.8,
            "bin_start": 0.7000000000000001,
            "count": 0
           },
           {
            "bin_end": 0.9,
            "bin_start": 0.8,
            "count": 0
           },
           {
            "bin_end": 1,
            "bin_start": 0.9,
            "count": 525
           }
          ],
          "max": "1",
          "min": "0",
          "nan_count": 0,
          "unique_count": 2
         }
        },
        {
         "dtype": "int64",
         "name": "CreditHistory A33",
         "stats": {
          "histogram": [
           {
            "bin_end": 0.1,
            "bin_start": 0,
            "count": 874
           },
           {
            "bin_end": 0.2,
            "bin_start": 0.1,
            "count": 0
           },
           {
            "bin_end": 0.30000000000000004,
            "bin_start": 0.2,
            "count": 0
           },
           {
            "bin_end": 0.4,
            "bin_start": 0.30000000000000004,
            "count": 0
           },
           {
            "bin_end": 0.5,
            "bin_start": 0.4,
            "count": 0
           },
           {
            "bin_end": 0.6000000000000001,
            "bin_start": 0.5,
            "count": 0
           },
           {
            "bin_end": 0.7000000000000001,
            "bin_start": 0.6000000000000001,
            "count": 0
           },
           {
            "bin_end": 0.8,
            "bin_start": 0.7000000000000001,
            "count": 0
           },
           {
            "bin_end": 0.9,
            "bin_start": 0.8,
            "count": 0
           },
           {
            "bin_end": 1,
            "bin_start": 0.9,
            "count": 76
           }
          ],
          "max": "1",
          "min": "0",
          "nan_count": 0,
          "unique_count": 2
         }
        },
        {
         "dtype": "int64",
         "name": "CreditHistory A34",
         "stats": {
          "histogram": [
           {
            "bin_end": 0.1,
            "bin_start": 0,
            "count": 716
           },
           {
            "bin_end": 0.2,
            "bin_start": 0.1,
            "count": 0
           },
           {
            "bin_end": 0.30000000000000004,
            "bin_start": 0.2,
            "count": 0
           },
           {
            "bin_end": 0.4,
            "bin_start": 0.30000000000000004,
            "count": 0
           },
           {
            "bin_end": 0.5,
            "bin_start": 0.4,
            "count": 0
           },
           {
            "bin_end": 0.6000000000000001,
            "bin_start": 0.5,
            "count": 0
           },
           {
            "bin_end": 0.7000000000000001,
            "bin_start": 0.6000000000000001,
            "count": 0
           },
           {
            "bin_end": 0.8,
            "bin_start": 0.7000000000000001,
            "count": 0
           },
           {
            "bin_end": 0.9,
            "bin_start": 0.8,
            "count": 0
           },
           {
            "bin_end": 1,
            "bin_start": 0.9,
            "count": 234
           }
          ],
          "max": "1",
          "min": "0",
          "nan_count": 0,
          "unique_count": 2
         }
        },
        {
         "dtype": "int64",
         "name": "Purpose A40",
         "stats": {
          "histogram": [
           {
            "bin_end": 0.1,
            "bin_start": 0,
            "count": 696
           },
           {
            "bin_end": 0.2,
            "bin_start": 0.1,
            "count": 0
           },
           {
            "bin_end": 0.30000000000000004,
            "bin_start": 0.2,
            "count": 0
           },
           {
            "bin_end": 0.4,
            "bin_start": 0.30000000000000004,
            "count": 0
           },
           {
            "bin_end": 0.5,
            "bin_start": 0.4,
            "count": 0
           },
           {
            "bin_end": 0.6000000000000001,
            "bin_start": 0.5,
            "count": 0
           },
           {
            "bin_end": 0.7000000000000001,
            "bin_start": 0.6000000000000001,
            "count": 0
           },
           {
            "bin_end": 0.8,
            "bin_start": 0.7000000000000001,
            "count": 0
           },
           {
            "bin_end": 0.9,
            "bin_start": 0.8,
            "count": 0
           },
           {
            "bin_end": 1,
            "bin_start": 0.9,
            "count": 254
           }
          ],
          "max": "1",
          "min": "0",
          "nan_count": 0,
          "unique_count": 2
         }
        },
        {
         "dtype": "int64",
         "name": "Purpose A41",
         "stats": {
          "histogram": [
           {
            "bin_end": 0.1,
            "bin_start": 0,
            "count": 866
           },
           {
            "bin_end": 0.2,
            "bin_start": 0.1,
            "count": 0
           },
           {
            "bin_end": 0.30000000000000004,
            "bin_start": 0.2,
            "count": 0
           },
           {
            "bin_end": 0.4,
            "bin_start": 0.30000000000000004,
            "count": 0
           },
           {
            "bin_end": 0.5,
            "bin_start": 0.4,
            "count": 0
           },
           {
            "bin_end": 0.6000000000000001,
            "bin_start": 0.5,
            "count": 0
           },
           {
            "bin_end": 0.7000000000000001,
            "bin_start": 0.6000000000000001,
            "count": 0
           },
           {
            "bin_end": 0.8,
            "bin_start": 0.7000000000000001,
            "count": 0
           },
           {
            "bin_end": 0.9,
            "bin_start": 0.8,
            "count": 0
           },
           {
            "bin_end": 1,
            "bin_start": 0.9,
            "count": 84
           }
          ],
          "max": "1",
          "min": "0",
          "nan_count": 0,
          "unique_count": 2
         }
        },
        {
         "dtype": "int64",
         "name": "Purpose A42",
         "stats": {
          "histogram": [
           {
            "bin_end": 0.1,
            "bin_start": 0,
            "count": 939
           },
           {
            "bin_end": 0.2,
            "bin_start": 0.1,
            "count": 0
           },
           {
            "bin_end": 0.30000000000000004,
            "bin_start": 0.2,
            "count": 0
           },
           {
            "bin_end": 0.4,
            "bin_start": 0.30000000000000004,
            "count": 0
           },
           {
            "bin_end": 0.5,
            "bin_start": 0.4,
            "count": 0
           },
           {
            "bin_end": 0.6000000000000001,
            "bin_start": 0.5,
            "count": 0
           },
           {
            "bin_end": 0.7000000000000001,
            "bin_start": 0.6000000000000001,
            "count": 0
           },
           {
            "bin_end": 0.8,
            "bin_start": 0.7000000000000001,
            "count": 0
           },
           {
            "bin_end": 0.9,
            "bin_start": 0.8,
            "count": 0
           },
           {
            "bin_end": 1,
            "bin_start": 0.9,
            "count": 11
           }
          ],
          "max": "1",
          "min": "0",
          "nan_count": 0,
          "unique_count": 2
         }
        },
        {
         "dtype": "int64",
         "name": "Purpose A43",
         "stats": {
          "histogram": [
           {
            "bin_end": 0.1,
            "bin_start": 0,
            "count": 797
           },
           {
            "bin_end": 0.2,
            "bin_start": 0.1,
            "count": 0
           },
           {
            "bin_end": 0.30000000000000004,
            "bin_start": 0.2,
            "count": 0
           },
           {
            "bin_end": 0.4,
            "bin_start": 0.30000000000000004,
            "count": 0
           },
           {
            "bin_end": 0.5,
            "bin_start": 0.4,
            "count": 0
           },
           {
            "bin_end": 0.6000000000000001,
            "bin_start": 0.5,
            "count": 0
           },
           {
            "bin_end": 0.7000000000000001,
            "bin_start": 0.6000000000000001,
            "count": 0
           },
           {
            "bin_end": 0.8,
            "bin_start": 0.7000000000000001,
            "count": 0
           },
           {
            "bin_end": 0.9,
            "bin_start": 0.8,
            "count": 0
           },
           {
            "bin_end": 1,
            "bin_start": 0.9,
            "count": 153
           }
          ],
          "max": "1",
          "min": "0",
          "nan_count": 0,
          "unique_count": 2
         }
        },
        {
         "dtype": "int64",
         "name": "Purpose A44",
         "stats": {
          "histogram": [
           {
            "bin_end": 0.1,
            "bin_start": 0,
            "count": 696
           },
           {
            "bin_end": 0.2,
            "bin_start": 0.1,
            "count": 0
           },
           {
            "bin_end": 0.30000000000000004,
            "bin_start": 0.2,
            "count": 0
           },
           {
            "bin_end": 0.4,
            "bin_start": 0.30000000000000004,
            "count": 0
           },
           {
            "bin_end": 0.5,
            "bin_start": 0.4,
            "count": 0
           },
           {
            "bin_end": 0.6000000000000001,
            "bin_start": 0.5,
            "count": 0
           },
           {
            "bin_end": 0.7000000000000001,
            "bin_start": 0.6000000000000001,
            "count": 0
           },
           {
            "bin_end": 0.8,
            "bin_start": 0.7000000000000001,
            "count": 0
           },
           {
            "bin_end": 0.9,
            "bin_start": 0.8,
            "count": 0
           },
           {
            "bin_end": 1,
            "bin_start": 0.9,
            "count": 254
           }
          ],
          "max": "1",
          "min": "0",
          "nan_count": 0,
          "unique_count": 2
         }
        },
        {
         "dtype": "int64",
         "name": "Purpose A45",
         "stats": {
          "histogram": [
           {
            "bin_end": 0.1,
            "bin_start": 0,
            "count": 939
           },
           {
            "bin_end": 0.2,
            "bin_start": 0.1,
            "count": 0
           },
           {
            "bin_end": 0.30000000000000004,
            "bin_start": 0.2,
            "count": 0
           },
           {
            "bin_end": 0.4,
            "bin_start": 0.30000000000000004,
            "count": 0
           },
           {
            "bin_end": 0.5,
            "bin_start": 0.4,
            "count": 0
           },
           {
            "bin_end": 0.6000000000000001,
            "bin_start": 0.5,
            "count": 0
           },
           {
            "bin_end": 0.7000000000000001,
            "bin_start": 0.6000000000000001,
            "count": 0
           },
           {
            "bin_end": 0.8,
            "bin_start": 0.7000000000000001,
            "count": 0
           },
           {
            "bin_end": 0.9,
            "bin_start": 0.8,
            "count": 0
           },
           {
            "bin_end": 1,
            "bin_start": 0.9,
            "count": 11
           }
          ],
          "max": "1",
          "min": "0",
          "nan_count": 0,
          "unique_count": 2
         }
        },
        {
         "dtype": "int64",
         "name": "Purpose A46",
         "stats": {
          "histogram": [
           {
            "bin_end": 0.1,
            "bin_start": 0,
            "count": 918
           },
           {
            "bin_end": 0.2,
            "bin_start": 0.1,
            "count": 0
           },
           {
            "bin_end": 0.30000000000000004,
            "bin_start": 0.2,
            "count": 0
           },
           {
            "bin_end": 0.4,
            "bin_start": 0.30000000000000004,
            "count": 0
           },
           {
            "bin_end": 0.5,
            "bin_start": 0.4,
            "count": 0
           },
           {
            "bin_end": 0.6000000000000001,
            "bin_start": 0.5,
            "count": 0
           },
           {
            "bin_end": 0.7000000000000001,
            "bin_start": 0.6000000000000001,
            "count": 0
           },
           {
            "bin_end": 0.8,
            "bin_start": 0.7000000000000001,
            "count": 0
           },
           {
            "bin_end": 0.9,
            "bin_start": 0.8,
            "count": 0
           },
           {
            "bin_end": 1,
            "bin_start": 0.9,
            "count": 32
           }
          ],
          "max": "1",
          "min": "0",
          "nan_count": 0,
          "unique_count": 2
         }
        },
        {
         "dtype": "int64",
         "name": "Purpose A48",
         "stats": {
          "histogram": [
           {
            "bin_end": 0.1,
            "bin_start": 0,
            "count": 906
           },
           {
            "bin_end": 0.2,
            "bin_start": 0.1,
            "count": 0
           },
           {
            "bin_end": 0.30000000000000004,
            "bin_start": 0.2,
            "count": 0
           },
           {
            "bin_end": 0.4,
            "bin_start": 0.30000000000000004,
            "count": 0
           },
           {
            "bin_end": 0.5,
            "bin_start": 0.4,
            "count": 0
           },
           {
            "bin_end": 0.6000000000000001,
            "bin_start": 0.5,
            "count": 0
           },
           {
            "bin_end": 0.7000000000000001,
            "bin_start": 0.6000000000000001,
            "count": 0
           },
           {
            "bin_end": 0.8,
            "bin_start": 0.7000000000000001,
            "count": 0
           },
           {
            "bin_end": 0.9,
            "bin_start": 0.8,
            "count": 0
           },
           {
            "bin_end": 1,
            "bin_start": 0.9,
            "count": 44
           }
          ],
          "max": "1",
          "min": "0",
          "nan_count": 0,
          "unique_count": 2
         }
        },
        {
         "dtype": "int64",
         "name": "Purpose A49",
         "stats": {
          "histogram": [
           {
            "bin_end": 0.1,
            "bin_start": 0,
            "count": 939
           },
           {
            "bin_end": 0.2,
            "bin_start": 0.1,
            "count": 0
           },
           {
            "bin_end": 0.30000000000000004,
            "bin_start": 0.2,
            "count": 0
           },
           {
            "bin_end": 0.4,
            "bin_start": 0.30000000000000004,
            "count": 0
           },
           {
            "bin_end": 0.5,
            "bin_start": 0.4,
            "count": 0
           },
           {
            "bin_end": 0.6000000000000001,
            "bin_start": 0.5,
            "count": 0
           },
           {
            "bin_end": 0.7000000000000001,
            "bin_start": 0.6000000000000001,
            "count": 0
           },
           {
            "bin_end": 0.8,
            "bin_start": 0.7000000000000001,
            "count": 0
           },
           {
            "bin_end": 0.9,
            "bin_start": 0.8,
            "count": 0
           },
           {
            "bin_end": 1,
            "bin_start": 0.9,
            "count": 11
           }
          ],
          "max": "1",
          "min": "0",
          "nan_count": 0,
          "unique_count": 2
         }
        },
        {
         "dtype": "int64",
         "name": "Purpose A410",
         "stats": {
          "histogram": [
           {
            "bin_end": 0.1,
            "bin_start": 0,
            "count": 854
           },
           {
            "bin_end": 0.2,
            "bin_start": 0.1,
            "count": 0
           },
           {
            "bin_end": 0.30000000000000004,
            "bin_start": 0.2,
            "count": 0
           },
           {
            "bin_end": 0.4,
            "bin_start": 0.30000000000000004,
            "count": 0
           },
           {
            "bin_end": 0.5,
            "bin_start": 0.4,
            "count": 0
           },
           {
            "bin_end": 0.6000000000000001,
            "bin_start": 0.5,
            "count": 0
           },
           {
            "bin_end": 0.7000000000000001,
            "bin_start": 0.6000000000000001,
            "count": 0
           },
           {
            "bin_end": 0.8,
            "bin_start": 0.7000000000000001,
            "count": 0
           },
           {
            "bin_end": 0.9,
            "bin_start": 0.8,
            "count": 0
           },
           {
            "bin_end": 1,
            "bin_start": 0.9,
            "count": 96
           }
          ],
          "max": "1",
          "min": "0",
          "nan_count": 0,
          "unique_count": 2
         }
        },
        {
         "dtype": "int64",
         "name": "Savings A61",
         "stats": {
          "histogram": [
           {
            "bin_end": 0.1,
            "bin_start": 0,
            "count": 332
           },
           {
            "bin_end": 0.2,
            "bin_start": 0.1,
            "count": 0
           },
           {
            "bin_end": 0.30000000000000004,
            "bin_start": 0.2,
            "count": 0
           },
           {
            "bin_end": 0.4,
            "bin_start": 0.30000000000000004,
            "count": 0
           },
           {
            "bin_end": 0.5,
            "bin_start": 0.4,
            "count": 0
           },
           {
            "bin_end": 0.6000000000000001,
            "bin_start": 0.5,
            "count": 0
           },
           {
            "bin_end": 0.7000000000000001,
            "bin_start": 0.6000000000000001,
            "count": 0
           },
           {
            "bin_end": 0.8,
            "bin_start": 0.7000000000000001,
            "count": 0
           },
           {
            "bin_end": 0.9,
            "bin_start": 0.8,
            "count": 0
           },
           {
            "bin_end": 1,
            "bin_start": 0.9,
            "count": 618
           }
          ],
          "max": "1",
          "min": "0",
          "nan_count": 0,
          "unique_count": 2
         }
        },
        {
         "dtype": "int64",
         "name": "Savings A62",
         "stats": {
          "histogram": [
           {
            "bin_end": 0.1,
            "bin_start": 0,
            "count": 855
           },
           {
            "bin_end": 0.2,
            "bin_start": 0.1,
            "count": 0
           },
           {
            "bin_end": 0.30000000000000004,
            "bin_start": 0.2,
            "count": 0
           },
           {
            "bin_end": 0.4,
            "bin_start": 0.30000000000000004,
            "count": 0
           },
           {
            "bin_end": 0.5,
            "bin_start": 0.4,
            "count": 0
           },
           {
            "bin_end": 0.6000000000000001,
            "bin_start": 0.5,
            "count": 0
           },
           {
            "bin_end": 0.7000000000000001,
            "bin_start": 0.6000000000000001,
            "count": 0
           },
           {
            "bin_end": 0.8,
            "bin_start": 0.7000000000000001,
            "count": 0
           },
           {
            "bin_end": 0.9,
            "bin_start": 0.8,
            "count": 0
           },
           {
            "bin_end": 1,
            "bin_start": 0.9,
            "count": 95
           }
          ],
          "max": "1",
          "min": "0",
          "nan_count": 0,
          "unique_count": 2
         }
        },
        {
         "dtype": "int64",
         "name": "Savings A63",
         "stats": {
          "histogram": [
           {
            "bin_end": 0.1,
            "bin_start": 0,
            "count": 896
           },
           {
            "bin_end": 0.2,
            "bin_start": 0.1,
            "count": 0
           },
           {
            "bin_end": 0.30000000000000004,
            "bin_start": 0.2,
            "count": 0
           },
           {
            "bin_end": 0.4,
            "bin_start": 0.30000000000000004,
            "count": 0
           },
           {
            "bin_end": 0.5,
            "bin_start": 0.4,
            "count": 0
           },
           {
            "bin_end": 0.6000000000000001,
            "bin_start": 0.5,
            "count": 0
           },
           {
            "bin_end": 0.7000000000000001,
            "bin_start": 0.6000000000000001,
            "count": 0
           },
           {
            "bin_end": 0.8,
            "bin_start": 0.7000000000000001,
            "count": 0
           },
           {
            "bin_end": 0.9,
            "bin_start": 0.8,
            "count": 0
           },
           {
            "bin_end": 1,
            "bin_start": 0.9,
            "count": 54
           }
          ],
          "max": "1",
          "min": "0",
          "nan_count": 0,
          "unique_count": 2
         }
        },
        {
         "dtype": "int64",
         "name": "Savings A64",
         "stats": {
          "histogram": [
           {
            "bin_end": 0.1,
            "bin_start": 0,
            "count": 913
           },
           {
            "bin_end": 0.2,
            "bin_start": 0.1,
            "count": 0
           },
           {
            "bin_end": 0.30000000000000004,
            "bin_start": 0.2,
            "count": 0
           },
           {
            "bin_end": 0.4,
            "bin_start": 0.30000000000000004,
            "count": 0
           },
           {
            "bin_end": 0.5,
            "bin_start": 0.4,
            "count": 0
           },
           {
            "bin_end": 0.6000000000000001,
            "bin_start": 0.5,
            "count": 0
           },
           {
            "bin_end": 0.7000000000000001,
            "bin_start": 0.6000000000000001,
            "count": 0
           },
           {
            "bin_end": 0.8,
            "bin_start": 0.7000000000000001,
            "count": 0
           },
           {
            "bin_end": 0.9,
            "bin_start": 0.8,
            "count": 0
           },
           {
            "bin_end": 1,
            "bin_start": 0.9,
            "count": 37
           }
          ],
          "max": "1",
          "min": "0",
          "nan_count": 0,
          "unique_count": 2
         }
        },
        {
         "dtype": "int64",
         "name": "Savings A65",
         "stats": {
          "histogram": [
           {
            "bin_end": 0.1,
            "bin_start": 0,
            "count": 804
           },
           {
            "bin_end": 0.2,
            "bin_start": 0.1,
            "count": 0
           },
           {
            "bin_end": 0.30000000000000004,
            "bin_start": 0.2,
            "count": 0
           },
           {
            "bin_end": 0.4,
            "bin_start": 0.30000000000000004,
            "count": 0
           },
           {
            "bin_end": 0.5,
            "bin_start": 0.4,
            "count": 0
           },
           {
            "bin_end": 0.6000000000000001,
            "bin_start": 0.5,
            "count": 0
           },
           {
            "bin_end": 0.7000000000000001,
            "bin_start": 0.6000000000000001,
            "count": 0
           },
           {
            "bin_end": 0.8,
            "bin_start": 0.7000000000000001,
            "count": 0
           },
           {
            "bin_end": 0.9,
            "bin_start": 0.8,
            "count": 0
           },
           {
            "bin_end": 1,
            "bin_start": 0.9,
            "count": 146
           }
          ],
          "max": "1",
          "min": "0",
          "nan_count": 0,
          "unique_count": 2
         }
        },
        {
         "dtype": "int64",
         "name": "Employment A71",
         "stats": {
          "histogram": [
           {
            "bin_end": 0.1,
            "bin_start": 0,
            "count": 885
           },
           {
            "bin_end": 0.2,
            "bin_start": 0.1,
            "count": 0
           },
           {
            "bin_end": 0.30000000000000004,
            "bin_start": 0.2,
            "count": 0
           },
           {
            "bin_end": 0.4,
            "bin_start": 0.30000000000000004,
            "count": 0
           },
           {
            "bin_end": 0.5,
            "bin_start": 0.4,
            "count": 0
           },
           {
            "bin_end": 0.6000000000000001,
            "bin_start": 0.5,
            "count": 0
           },
           {
            "bin_end": 0.7000000000000001,
            "bin_start": 0.6000000000000001,
            "count": 0
           },
           {
            "bin_end": 0.8,
            "bin_start": 0.7000000000000001,
            "count": 0
           },
           {
            "bin_end": 0.9,
            "bin_start": 0.8,
            "count": 0
           },
           {
            "bin_end": 1,
            "bin_start": 0.9,
            "count": 65
           }
          ],
          "max": "1",
          "min": "0",
          "nan_count": 0,
          "unique_count": 2
         }
        },
        {
         "dtype": "int64",
         "name": "Employment A72",
         "stats": {
          "histogram": [
           {
            "bin_end": 0.1,
            "bin_start": 0,
            "count": 770
           },
           {
            "bin_end": 0.2,
            "bin_start": 0.1,
            "count": 0
           },
           {
            "bin_end": 0.30000000000000004,
            "bin_start": 0.2,
            "count": 0
           },
           {
            "bin_end": 0.4,
            "bin_start": 0.30000000000000004,
            "count": 0
           },
           {
            "bin_end": 0.5,
            "bin_start": 0.4,
            "count": 0
           },
           {
            "bin_end": 0.6000000000000001,
            "bin_start": 0.5,
            "count": 0
           },
           {
            "bin_end": 0.7000000000000001,
            "bin_start": 0.6000000000000001,
            "count": 0
           },
           {
            "bin_end": 0.8,
            "bin_start": 0.7000000000000001,
            "count": 0
           },
           {
            "bin_end": 0.9,
            "bin_start": 0.8,
            "count": 0
           },
           {
            "bin_end": 1,
            "bin_start": 0.9,
            "count": 180
           }
          ],
          "max": "1",
          "min": "0",
          "nan_count": 0,
          "unique_count": 2
         }
        },
        {
         "dtype": "int64",
         "name": "Employment A73",
         "stats": {
          "histogram": [
           {
            "bin_end": 0.1,
            "bin_start": 0,
            "count": 624
           },
           {
            "bin_end": 0.2,
            "bin_start": 0.1,
            "count": 0
           },
           {
            "bin_end": 0.30000000000000004,
            "bin_start": 0.2,
            "count": 0
           },
           {
            "bin_end": 0.4,
            "bin_start": 0.30000000000000004,
            "count": 0
           },
           {
            "bin_end": 0.5,
            "bin_start": 0.4,
            "count": 0
           },
           {
            "bin_end": 0.6000000000000001,
            "bin_start": 0.5,
            "count": 0
           },
           {
            "bin_end": 0.7000000000000001,
            "bin_start": 0.6000000000000001,
            "count": 0
           },
           {
            "bin_end": 0.8,
            "bin_start": 0.7000000000000001,
            "count": 0
           },
           {
            "bin_end": 0.9,
            "bin_start": 0.8,
            "count": 0
           },
           {
            "bin_end": 1,
            "bin_start": 0.9,
            "count": 326
           }
          ],
          "max": "1",
          "min": "0",
          "nan_count": 0,
          "unique_count": 2
         }
        },
        {
         "dtype": "int64",
         "name": "Employment A74",
         "stats": {
          "histogram": [
           {
            "bin_end": 0.1,
            "bin_start": 0,
            "count": 793
           },
           {
            "bin_end": 0.2,
            "bin_start": 0.1,
            "count": 0
           },
           {
            "bin_end": 0.30000000000000004,
            "bin_start": 0.2,
            "count": 0
           },
           {
            "bin_end": 0.4,
            "bin_start": 0.30000000000000004,
            "count": 0
           },
           {
            "bin_end": 0.5,
            "bin_start": 0.4,
            "count": 0
           },
           {
            "bin_end": 0.6000000000000001,
            "bin_start": 0.5,
            "count": 0
           },
           {
            "bin_end": 0.7000000000000001,
            "bin_start": 0.6000000000000001,
            "count": 0
           },
           {
            "bin_end": 0.8,
            "bin_start": 0.7000000000000001,
            "count": 0
           },
           {
            "bin_end": 0.9,
            "bin_start": 0.8,
            "count": 0
           },
           {
            "bin_end": 1,
            "bin_start": 0.9,
            "count": 157
           }
          ],
          "max": "1",
          "min": "0",
          "nan_count": 0,
          "unique_count": 2
         }
        },
        {
         "dtype": "int64",
         "name": "Employment A75",
         "stats": {
          "histogram": [
           {
            "bin_end": 0.1,
            "bin_start": 0,
            "count": 728
           },
           {
            "bin_end": 0.2,
            "bin_start": 0.1,
            "count": 0
           },
           {
            "bin_end": 0.30000000000000004,
            "bin_start": 0.2,
            "count": 0
           },
           {
            "bin_end": 0.4,
            "bin_start": 0.30000000000000004,
            "count": 0
           },
           {
            "bin_end": 0.5,
            "bin_start": 0.4,
            "count": 0
           },
           {
            "bin_end": 0.6000000000000001,
            "bin_start": 0.5,
            "count": 0
           },
           {
            "bin_end": 0.7000000000000001,
            "bin_start": 0.6000000000000001,
            "count": 0
           },
           {
            "bin_end": 0.8,
            "bin_start": 0.7000000000000001,
            "count": 0
           },
           {
            "bin_end": 0.9,
            "bin_start": 0.8,
            "count": 0
           },
           {
            "bin_end": 1,
            "bin_start": 0.9,
            "count": 222
           }
          ],
          "max": "1",
          "min": "0",
          "nan_count": 0,
          "unique_count": 2
         }
        },
        {
         "dtype": "float64",
         "name": "InstallmentRatePecnt",
         "stats": {
          "histogram": [
           {
            "bin_end": 0.1,
            "bin_start": 0,
            "count": 116
           },
           {
            "bin_end": 0.2,
            "bin_start": 0.1,
            "count": 17
           },
           {
            "bin_end": 0.30000000000000004,
            "bin_start": 0.2,
            "count": 5
           },
           {
            "bin_end": 0.4,
            "bin_start": 0.30000000000000004,
            "count": 149
           },
           {
            "bin_end": 0.5,
            "bin_start": 0.4,
            "count": 23
           },
           {
            "bin_end": 0.6000000000000001,
            "bin_start": 0.5,
            "count": 7
           },
           {
            "bin_end": 0.7000000000000001,
            "bin_start": 0.6000000000000001,
            "count": 127
           },
           {
            "bin_end": 0.8,
            "bin_start": 0.7000000000000001,
            "count": 23
           },
           {
            "bin_end": 0.9,
            "bin_start": 0.8,
            "count": 43
           },
           {
            "bin_end": 1,
            "bin_start": 0.9,
            "count": 440
           }
          ],
          "max": "1.0",
          "min": "0.0",
          "nan_count": 0,
          "unique_count": 28
         }
        },
        {
         "dtype": "float64",
         "name": "PresentResidenceTime",
         "stats": {
          "histogram": [
           {
            "bin_end": 0.1,
            "bin_start": 0,
            "count": 104
           },
           {
            "bin_end": 0.2,
            "bin_start": 0.1,
            "count": 20
           },
           {
            "bin_end": 0.30000000000000004,
            "bin_start": 0.2,
            "count": 0
           },
           {
            "bin_end": 0.4,
            "bin_start": 0.30000000000000004,
            "count": 276
           },
           {
            "bin_end": 0.5,
            "bin_start": 0.4,
            "count": 12
           },
           {
            "bin_end": 0.6000000000000001,
            "bin_start": 0.5,
            "count": 4
           },
           {
            "bin_end": 0.7000000000000001,
            "bin_start": 0.6000000000000001,
            "count": 134
           },
           {
            "bin_end": 0.8,
            "bin_start": 0.7000000000000001,
            "count": 0
           },
           {
            "bin_end": 0.9,
            "bin_start": 0.8,
            "count": 10
           },
           {
            "bin_end": 1,
            "bin_start": 0.9,
            "count": 390
           }
          ],
          "max": "1.0",
          "min": "0.0",
          "nan_count": 0,
          "unique_count": 28
         }
        },
        {
         "dtype": "int64",
         "name": "Property A121",
         "stats": {
          "histogram": [
           {
            "bin_end": 0.1,
            "bin_start": 0,
            "count": 711
           },
           {
            "bin_end": 0.2,
            "bin_start": 0.1,
            "count": 0
           },
           {
            "bin_end": 0.30000000000000004,
            "bin_start": 0.2,
            "count": 0
           },
           {
            "bin_end": 0.4,
            "bin_start": 0.30000000000000004,
            "count": 0
           },
           {
            "bin_end": 0.5,
            "bin_start": 0.4,
            "count": 0
           },
           {
            "bin_end": 0.6000000000000001,
            "bin_start": 0.5,
            "count": 0
           },
           {
            "bin_end": 0.7000000000000001,
            "bin_start": 0.6000000000000001,
            "count": 0
           },
           {
            "bin_end": 0.8,
            "bin_start": 0.7000000000000001,
            "count": 0
           },
           {
            "bin_end": 0.9,
            "bin_start": 0.8,
            "count": 0
           },
           {
            "bin_end": 1,
            "bin_start": 0.9,
            "count": 239
           }
          ],
          "max": "1",
          "min": "0",
          "nan_count": 0,
          "unique_count": 2
         }
        },
        {
         "dtype": "int64",
         "name": "Property A122",
         "stats": {
          "histogram": [
           {
            "bin_end": 0.1,
            "bin_start": 0,
            "count": 730
           },
           {
            "bin_end": 0.2,
            "bin_start": 0.1,
            "count": 0
           },
           {
            "bin_end": 0.30000000000000004,
            "bin_start": 0.2,
            "count": 0
           },
           {
            "bin_end": 0.4,
            "bin_start": 0.30000000000000004,
            "count": 0
           },
           {
            "bin_end": 0.5,
            "bin_start": 0.4,
            "count": 0
           },
           {
            "bin_end": 0.6000000000000001,
            "bin_start": 0.5,
            "count": 0
           },
           {
            "bin_end": 0.7000000000000001,
            "bin_start": 0.6000000000000001,
            "count": 0
           },
           {
            "bin_end": 0.8,
            "bin_start": 0.7000000000000001,
            "count": 0
           },
           {
            "bin_end": 0.9,
            "bin_start": 0.8,
            "count": 0
           },
           {
            "bin_end": 1,
            "bin_start": 0.9,
            "count": 220
           }
          ],
          "max": "1",
          "min": "0",
          "nan_count": 0,
          "unique_count": 2
         }
        },
        {
         "dtype": "int64",
         "name": "Property A123",
         "stats": {
          "histogram": [
           {
            "bin_end": 0.1,
            "bin_start": 0,
            "count": 621
           },
           {
            "bin_end": 0.2,
            "bin_start": 0.1,
            "count": 0
           },
           {
            "bin_end": 0.30000000000000004,
            "bin_start": 0.2,
            "count": 0
           },
           {
            "bin_end": 0.4,
            "bin_start": 0.30000000000000004,
            "count": 0
           },
           {
            "bin_end": 0.5,
            "bin_start": 0.4,
            "count": 0
           },
           {
            "bin_end": 0.6000000000000001,
            "bin_start": 0.5,
            "count": 0
           },
           {
            "bin_end": 0.7000000000000001,
            "bin_start": 0.6000000000000001,
            "count": 0
           },
           {
            "bin_end": 0.8,
            "bin_start": 0.7000000000000001,
            "count": 0
           },
           {
            "bin_end": 0.9,
            "bin_start": 0.8,
            "count": 0
           },
           {
            "bin_end": 1,
            "bin_start": 0.9,
            "count": 329
           }
          ],
          "max": "1",
          "min": "0",
          "nan_count": 0,
          "unique_count": 2
         }
        },
        {
         "dtype": "int64",
         "name": "Property A124",
         "stats": {
          "histogram": [
           {
            "bin_end": 0.1,
            "bin_start": 0,
            "count": 788
           },
           {
            "bin_end": 0.2,
            "bin_start": 0.1,
            "count": 0
           },
           {
            "bin_end": 0.30000000000000004,
            "bin_start": 0.2,
            "count": 0
           },
           {
            "bin_end": 0.4,
            "bin_start": 0.30000000000000004,
            "count": 0
           },
           {
            "bin_end": 0.5,
            "bin_start": 0.4,
            "count": 0
           },
           {
            "bin_end": 0.6000000000000001,
            "bin_start": 0.5,
            "count": 0
           },
           {
            "bin_end": 0.7000000000000001,
            "bin_start": 0.6000000000000001,
            "count": 0
           },
           {
            "bin_end": 0.8,
            "bin_start": 0.7000000000000001,
            "count": 0
           },
           {
            "bin_end": 0.9,
            "bin_start": 0.8,
            "count": 0
           },
           {
            "bin_end": 1,
            "bin_start": 0.9,
            "count": 162
           }
          ],
          "max": "1",
          "min": "0",
          "nan_count": 0,
          "unique_count": 2
         }
        },
        {
         "dtype": "float64",
         "name": "Age",
         "stats": {
          "histogram": [
           {
            "bin_end": 0.0982142857,
            "bin_start": 0,
            "count": 151
           },
           {
            "bin_end": 0.1964285714,
            "bin_start": 0.0982142857,
            "count": 255
           },
           {
            "bin_end": 0.2946428571,
            "bin_start": 0.1964285714,
            "count": 175
           },
           {
            "bin_end": 0.3928571428,
            "bin_start": 0.2946428571,
            "count": 124
           },
           {
            "bin_end": 0.4910714285,
            "bin_start": 0.3928571428,
            "count": 103
           },
           {
            "bin_end": 0.5892857142,
            "bin_start": 0.4910714285,
            "count": 63
           },
           {
            "bin_end": 0.6874999999,
            "bin_start": 0.5892857142,
            "count": 35
           },
           {
            "bin_end": 0.7857142856,
            "bin_start": 0.6874999999,
            "count": 21
           },
           {
            "bin_end": 0.8839285713,
            "bin_start": 0.7857142856,
            "count": 21
           },
           {
            "bin_end": 0.982142857,
            "bin_start": 0.8839285713,
            "count": 2
           }
          ],
          "max": "0.982142857",
          "min": "0.0",
          "nan_count": 0,
          "unique_count": 355
         }
        },
        {
         "dtype": "int64",
         "name": "Telephone1",
         "stats": {
          "histogram": [
           {
            "bin_end": 0.1,
            "bin_start": 0,
            "count": 573
           },
           {
            "bin_end": 0.2,
            "bin_start": 0.1,
            "count": 0
           },
           {
            "bin_end": 0.30000000000000004,
            "bin_start": 0.2,
            "count": 0
           },
           {
            "bin_end": 0.4,
            "bin_start": 0.30000000000000004,
            "count": 0
           },
           {
            "bin_end": 0.5,
            "bin_start": 0.4,
            "count": 0
           },
           {
            "bin_end": 0.6000000000000001,
            "bin_start": 0.5,
            "count": 0
           },
           {
            "bin_end": 0.7000000000000001,
            "bin_start": 0.6000000000000001,
            "count": 0
           },
           {
            "bin_end": 0.8,
            "bin_start": 0.7000000000000001,
            "count": 0
           },
           {
            "bin_end": 0.9,
            "bin_start": 0.8,
            "count": 0
           },
           {
            "bin_end": 1,
            "bin_start": 0.9,
            "count": 377
           }
          ],
          "max": "1",
          "min": "0",
          "nan_count": 0,
          "unique_count": 2
         }
        },
        {
         "dtype": "int64",
         "name": "CreditScore",
         "stats": {
          "histogram": [
           {
            "bin_end": 0.1,
            "bin_start": 0,
            "count": 425
           },
           {
            "bin_end": 0.2,
            "bin_start": 0.1,
            "count": 0
           },
           {
            "bin_end": 0.30000000000000004,
            "bin_start": 0.2,
            "count": 0
           },
           {
            "bin_end": 0.4,
            "bin_start": 0.30000000000000004,
            "count": 0
           },
           {
            "bin_end": 0.5,
            "bin_start": 0.4,
            "count": 0
           },
           {
            "bin_end": 0.6000000000000001,
            "bin_start": 0.5,
            "count": 0
           },
           {
            "bin_end": 0.7000000000000001,
            "bin_start": 0.6000000000000001,
            "count": 0
           },
           {
            "bin_end": 0.8,
            "bin_start": 0.7000000000000001,
            "count": 0
           },
           {
            "bin_end": 0.9,
            "bin_start": 0.8,
            "count": 0
           },
           {
            "bin_end": 1,
            "bin_start": 0.9,
            "count": 525
           }
          ],
          "max": "1",
          "min": "0",
          "nan_count": 0,
          "unique_count": 2
         }
        },
        {
         "dtype": "object",
         "name": "_deepnote_index_column"
        }
       ],
       "row_count": 950,
       "rows_bottom": [
        {
         "Age": 0.106488004,
         "CheckingAcctStat A11": 0,
         "CheckingAcctStat A12": 1,
         "CheckingAcctStat A13": 0,
         "CheckingAcctStat A14": 0,
         "CreditHistory A30": 0,
         "CreditHistory A31": 0,
         "CreditHistory A32": 1,
         "CreditHistory A33": 0,
         "CreditHistory A34": 0,
         "CreditScore": 1,
         "Employment A71": 1,
         "Employment A72": 0,
         "Employment A73": 0,
         "Employment A74": 0,
         "Employment A75": 0,
         "InstallmentRatePecnt": 0.144094595,
         "PresentResidenceTime": 0.302185725,
         "Property A121": 0,
         "Property A122": 1,
         "Property A123": 0,
         "Property A124": 0,
         "Purpose A40": 1,
         "Purpose A41": 0,
         "Purpose A410": 0,
         "Purpose A42": 0,
         "Purpose A43": 0,
         "Purpose A44": 0,
         "Purpose A45": 0,
         "Purpose A46": 0,
         "Purpose A48": 0,
         "Purpose A49": 0,
         "Savings A61": 0,
         "Savings A62": 0,
         "Savings A63": 0,
         "Savings A64": 0,
         "Savings A65": 1,
         "Telephone1": 1,
         "Time": 0.085427547,
         "_deepnote_index_column": "937"
        },
        {
         "Age": 0.512101157,
         "CheckingAcctStat A11": 1,
         "CheckingAcctStat A12": 0,
         "CheckingAcctStat A13": 0,
         "CheckingAcctStat A14": 0,
         "CreditHistory A30": 0,
         "CreditHistory A31": 1,
         "CreditHistory A32": 0,
         "CreditHistory A33": 0,
         "CreditHistory A34": 0,
         "CreditScore": 1,
         "Employment A71": 0,
         "Employment A72": 0,
         "Employment A73": 1,
         "Employment A74": 0,
         "Employment A75": 0,
         "InstallmentRatePecnt": 1,
         "PresentResidenceTime": 0.691625898,
         "Property A121": 0,
         "Property A122": 0,
         "Property A123": 1,
         "Property A124": 0,
         "Purpose A40": 1,
         "Purpose A41": 0,
         "Purpose A410": 0,
         "Purpose A42": 0,
         "Purpose A43": 0,
         "Purpose A44": 0,
         "Purpose A45": 0,
         "Purpose A46": 0,
         "Purpose A48": 0,
         "Purpose A49": 0,
         "Savings A61": 1,
         "Savings A62": 0,
         "Savings A63": 0,
         "Savings A64": 0,
         "Savings A65": 0,
         "Telephone1": 1,
         "Time": 0.117647059,
         "_deepnote_index_column": "938"
        },
        {
         "Age": 0.484560749,
         "CheckingAcctStat A11": 1,
         "CheckingAcctStat A12": 0,
         "CheckingAcctStat A13": 0,
         "CheckingAcctStat A14": 0,
         "CreditHistory A30": 0,
         "CreditHistory A31": 1,
         "CreditHistory A32": 0,
         "CreditHistory A33": 0,
         "CreditHistory A34": 0,
         "CreditScore": 1,
         "Employment A71": 0,
         "Employment A72": 1,
         "Employment A73": 0,
         "Employment A74": 0,
         "Employment A75": 0,
         "InstallmentRatePecnt": 1,
         "PresentResidenceTime": 0.395628549,
         "Property A121": 0,
         "Property A122": 0,
         "Property A123": 1,
         "Property A124": 0,
         "Purpose A40": 1,
         "Purpose A41": 0,
         "Purpose A410": 0,
         "Purpose A42": 0,
         "Purpose A43": 0,
         "Purpose A44": 0,
         "Purpose A45": 0,
         "Purpose A46": 0,
         "Purpose A48": 0,
         "Purpose A49": 0,
         "Savings A61": 1,
         "Savings A62": 0,
         "Savings A63": 0,
         "Savings A64": 0,
         "Savings A65": 0,
         "Telephone1": 1,
         "Time": 0.117647059,
         "_deepnote_index_column": "939"
        },
        {
         "Age": 0.575484936,
         "CheckingAcctStat A11": 1,
         "CheckingAcctStat A12": 0,
         "CheckingAcctStat A13": 0,
         "CheckingAcctStat A14": 0,
         "CreditHistory A30": 0,
         "CreditHistory A31": 0,
         "CreditHistory A32": 1,
         "CreditHistory A33": 0,
         "CreditHistory A34": 0,
         "CreditScore": 1,
         "Employment A71": 0,
         "Employment A72": 0,
         "Employment A73": 0,
         "Employment A74": 0,
         "Employment A75": 1,
         "InstallmentRatePecnt": 1,
         "PresentResidenceTime": 1,
         "Property A121": 0,
         "Property A122": 0,
         "Property A123": 0,
         "Property A124": 1,
         "Purpose A40": 1,
         "Purpose A41": 0,
         "Purpose A410": 0,
         "Purpose A42": 0,
         "Purpose A43": 0,
         "Purpose A44": 0,
         "Purpose A45": 0,
         "Purpose A46": 0,
         "Purpose A48": 0,
         "Purpose A49": 0,
         "Savings A61": 1,
         "Savings A62": 0,
         "Savings A63": 0,
         "Savings A64": 0,
         "Savings A65": 0,
         "Telephone1": 0,
         "Time": 0.302852281,
         "_deepnote_index_column": "940"
        },
        {
         "Age": 0.424012691,
         "CheckingAcctStat A11": 1,
         "CheckingAcctStat A12": 0,
         "CheckingAcctStat A13": 0,
         "CheckingAcctStat A14": 0,
         "CreditHistory A30": 0,
         "CreditHistory A31": 0,
         "CreditHistory A32": 1,
         "CreditHistory A33": 0,
         "CreditHistory A34": 0,
         "CreditScore": 1,
         "Employment A71": 0,
         "Employment A72": 0,
         "Employment A73": 0,
         "Employment A74": 0,
         "Employment A75": 1,
         "InstallmentRatePecnt": 1,
         "PresentResidenceTime": 1,
         "Property A121": 0,
         "Property A122": 0,
         "Property A123": 0,
         "Property A124": 1,
         "Purpose A40": 1,
         "Purpose A41": 0,
         "Purpose A410": 0,
         "Purpose A42": 0,
         "Purpose A43": 0,
         "Purpose A44": 0,
         "Purpose A45": 0,
         "Purpose A46": 0,
         "Purpose A48": 0,
         "Purpose A49": 0,
         "Savings A61": 1,
         "Savings A62": 0,
         "Savings A63": 0,
         "Savings A64": 0,
         "Savings A65": 0,
         "Telephone1": 0,
         "Time": 0.310964132,
         "_deepnote_index_column": "941"
        },
        {
         "Age": 0.04493745,
         "CheckingAcctStat A11": 0,
         "CheckingAcctStat A12": 0,
         "CheckingAcctStat A13": 0,
         "CheckingAcctStat A14": 1,
         "CreditHistory A30": 0,
         "CreditHistory A31": 0,
         "CreditHistory A32": 1,
         "CreditHistory A33": 0,
         "CreditHistory A34": 0,
         "CreditScore": 1,
         "Employment A71": 1,
         "Employment A72": 0,
         "Employment A73": 0,
         "Employment A74": 0,
         "Employment A75": 0,
         "InstallmentRatePecnt": 0.386120238,
         "PresentResidenceTime": 0.691625898,
         "Property A121": 1,
         "Property A122": 0,
         "Property A123": 0,
         "Property A124": 0,
         "Purpose A40": 0,
         "Purpose A41": 0,
         "Purpose A410": 0,
         "Purpose A42": 0,
         "Purpose A43": 1,
         "Purpose A44": 0,
         "Purpose A45": 0,
         "Purpose A46": 0,
         "Purpose A48": 0,
         "Purpose A49": 0,
         "Savings A61": 1,
         "Savings A62": 0,
         "Savings A63": 0,
         "Savings A64": 0,
         "Savings A65": 0,
         "Telephone1": 0,
         "Time": 0.159581047,
         "_deepnote_index_column": "942"
        },
        {
         "Age": 0.003626838,
         "CheckingAcctStat A11": 0,
         "CheckingAcctStat A12": 0,
         "CheckingAcctStat A13": 0,
         "CheckingAcctStat A14": 1,
         "CreditHistory A30": 0,
         "CreditHistory A31": 0,
         "CreditHistory A32": 1,
         "CreditHistory A33": 0,
         "CreditHistory A34": 0,
         "CreditScore": 1,
         "Employment A71": 0,
         "Employment A72": 1,
         "Employment A73": 0,
         "Employment A74": 0,
         "Employment A75": 0,
         "InstallmentRatePecnt": 0.477427928,
         "PresentResidenceTime": 0.395628549,
         "Property A121": 0,
         "Property A122": 0,
         "Property A123": 1,
         "Property A124": 0,
         "Purpose A40": 0,
         "Purpose A41": 0,
         "Purpose A410": 0,
         "Purpose A42": 0,
         "Purpose A43": 1,
         "Purpose A44": 0,
         "Purpose A45": 0,
         "Purpose A46": 0,
         "Purpose A48": 0,
         "Purpose A49": 0,
         "Savings A61": 1,
         "Savings A62": 0,
         "Savings A63": 0,
         "Savings A64": 0,
         "Savings A65": 0,
         "Telephone1": 0,
         "Time": 0.157553085,
         "_deepnote_index_column": "943"
        },
        {
         "Age": 0.136511971,
         "CheckingAcctStat A11": 0,
         "CheckingAcctStat A12": 1,
         "CheckingAcctStat A13": 0,
         "CheckingAcctStat A14": 0,
         "CreditHistory A30": 0,
         "CreditHistory A31": 0,
         "CreditHistory A32": 1,
         "CreditHistory A33": 0,
         "CreditHistory A34": 0,
         "CreditScore": 1,
         "Employment A71": 0,
         "Employment A72": 0,
         "Employment A73": 1,
         "Employment A74": 0,
         "Employment A75": 0,
         "InstallmentRatePecnt": 1,
         "PresentResidenceTime": 0.333333333,
         "Property A121": 0,
         "Property A122": 1,
         "Property A123": 0,
         "Property A124": 0,
         "Purpose A40": 0,
         "Purpose A41": 0,
         "Purpose A410": 0,
         "Purpose A42": 0,
         "Purpose A43": 0,
         "Purpose A44": 0,
         "Purpose A45": 0,
         "Purpose A46": 1,
         "Purpose A48": 0,
         "Purpose A49": 0,
         "Savings A61": 1,
         "Savings A62": 0,
         "Savings A63": 0,
         "Savings A64": 0,
         "Savings A65": 0,
         "Telephone1": 0,
         "Time": 0.347118087,
         "_deepnote_index_column": "944"
        },
        {
         "Age": 0.191592788,
         "CheckingAcctStat A11": 0,
         "CheckingAcctStat A12": 1,
         "CheckingAcctStat A13": 0,
         "CheckingAcctStat A14": 0,
         "CreditHistory A30": 0,
         "CreditHistory A31": 0,
         "CreditHistory A32": 1,
         "CreditHistory A33": 0,
         "CreditHistory A34": 0,
         "CreditScore": 1,
         "Employment A71": 0,
         "Employment A72": 0,
         "Employment A73": 1,
         "Employment A74": 0,
         "Employment A75": 0,
         "InstallmentRatePecnt": 1,
         "PresentResidenceTime": 0.333333333,
         "Property A121": 0,
         "Property A122": 0,
         "Property A123": 1,
         "Property A124": 0,
         "Purpose A40": 0,
         "Purpose A41": 0,
         "Purpose A410": 0,
         "Purpose A42": 0,
         "Purpose A43": 0,
         "Purpose A44": 0,
         "Purpose A45": 0,
         "Purpose A46": 1,
         "Purpose A48": 0,
         "Purpose A49": 0,
         "Savings A61": 1,
         "Savings A62": 0,
         "Savings A63": 0,
         "Savings A64": 0,
         "Savings A65": 0,
         "Telephone1": 0,
         "Time": 0.341710187,
         "_deepnote_index_column": "945"
        },
        {
         "Age": 0.717820829,
         "CheckingAcctStat A11": 1,
         "CheckingAcctStat A12": 0,
         "CheckingAcctStat A13": 0,
         "CheckingAcctStat A14": 0,
         "CreditHistory A30": 0,
         "CreditHistory A31": 1,
         "CreditHistory A32": 0,
         "CreditHistory A33": 0,
         "CreditHistory A34": 0,
         "CreditScore": 1,
         "Employment A71": 0,
         "Employment A72": 0,
         "Employment A73": 1,
         "Employment A74": 0,
         "Employment A75": 0,
         "InstallmentRatePecnt": 1,
         "PresentResidenceTime": 0.179146282,
         "Property A121": 0,
         "Property A122": 0,
         "Property A123": 1,
         "Property A124": 0,
         "Purpose A40": 0,
         "Purpose A41": 0,
         "Purpose A410": 0,
         "Purpose A42": 0,
         "Purpose A43": 0,
         "Purpose A44": 1,
         "Purpose A45": 0,
         "Purpose A46": 0,
         "Purpose A48": 0,
         "Purpose A49": 0,
         "Savings A61": 1,
         "Savings A62": 0,
         "Savings A63": 0,
         "Savings A64": 0,
         "Savings A65": 0,
         "Telephone1": 0,
         "Time": 0.175014816,
         "_deepnote_index_column": "946"
        },
        {
         "Age": 0.222093483,
         "CheckingAcctStat A11": 1,
         "CheckingAcctStat A12": 0,
         "CheckingAcctStat A13": 0,
         "CheckingAcctStat A14": 0,
         "CreditHistory A30": 0,
         "CreditHistory A31": 0,
         "CreditHistory A32": 0,
         "CreditHistory A33": 0,
         "CreditHistory A34": 1,
         "CreditScore": 1,
         "Employment A71": 0,
         "Employment A72": 0,
         "Employment A73": 1,
         "Employment A74": 0,
         "Employment A75": 0,
         "InstallmentRatePecnt": 1,
         "PresentResidenceTime": 0.093442824,
         "Property A121": 0,
         "Property A122": 0,
         "Property A123": 0,
         "Property A124": 1,
         "Purpose A40": 0,
         "Purpose A41": 0,
         "Purpose A410": 0,
         "Purpose A42": 0,
         "Purpose A43": 0,
         "Purpose A44": 1,
         "Purpose A45": 0,
         "Purpose A46": 0,
         "Purpose A48": 0,
         "Purpose A49": 0,
         "Savings A61": 1,
         "Savings A62": 0,
         "Savings A63": 0,
         "Savings A64": 0,
         "Savings A65": 0,
         "Telephone1": 0,
         "Time": 0.173662841,
         "_deepnote_index_column": "947"
        },
        {
         "Age": 0.068550579,
         "CheckingAcctStat A11": 1,
         "CheckingAcctStat A12": 0,
         "CheckingAcctStat A13": 0,
         "CheckingAcctStat A14": 0,
         "CreditHistory A30": 0,
         "CreditHistory A31": 0,
         "CreditHistory A32": 1,
         "CreditHistory A33": 0,
         "CreditHistory A34": 0,
         "CreditScore": 1,
         "Employment A71": 0,
         "Employment A72": 1,
         "Employment A73": 0,
         "Employment A74": 0,
         "Employment A75": 0,
         "InstallmentRatePecnt": 1,
         "PresentResidenceTime": 0.487520384,
         "Property A121": 0,
         "Property A122": 1,
         "Property A123": 0,
         "Property A124": 0,
         "Purpose A40": 0,
         "Purpose A41": 0,
         "Purpose A410": 0,
         "Purpose A42": 0,
         "Purpose A43": 0,
         "Purpose A44": 0,
         "Purpose A45": 1,
         "Purpose A46": 0,
         "Purpose A48": 0,
         "Purpose A49": 0,
         "Savings A61": 0,
         "Savings A62": 1,
         "Savings A63": 0,
         "Savings A64": 0,
         "Savings A65": 0,
         "Telephone1": 0,
         "Time": 0.060279302,
         "_deepnote_index_column": "948"
        },
        {
         "Age": 0.054780375,
         "CheckingAcctStat A11": 1,
         "CheckingAcctStat A12": 0,
         "CheckingAcctStat A13": 0,
         "CheckingAcctStat A14": 0,
         "CreditHistory A30": 0,
         "CreditHistory A31": 0,
         "CreditHistory A32": 1,
         "CreditHistory A33": 0,
         "CreditHistory A34": 0,
         "CreditScore": 1,
         "Employment A71": 1,
         "Employment A72": 0,
         "Employment A73": 0,
         "Employment A74": 0,
         "Employment A75": 0,
         "InstallmentRatePecnt": 1,
         "PresentResidenceTime": 0.697814275,
         "Property A121": 0,
         "Property A122": 1,
         "Property A123": 0,
         "Property A124": 0,
         "Purpose A40": 0,
         "Purpose A41": 0,
         "Purpose A410": 0,
         "Purpose A42": 0,
         "Purpose A43": 0,
         "Purpose A44": 0,
         "Purpose A45": 1,
         "Purpose A46": 0,
         "Purpose A48": 0,
         "Purpose A49": 0,
         "Savings A61": 0,
         "Savings A62": 1,
         "Savings A63": 0,
         "Savings A64": 0,
         "Savings A65": 0,
         "Telephone1": 0,
         "Time": 0.061631277,
         "_deepnote_index_column": "949"
        }
       ],
       "rows_top": [
        {
         "Age": 0.089285714,
         "CheckingAcctStat A11": 1,
         "CheckingAcctStat A12": 0,
         "CheckingAcctStat A13": 0,
         "CheckingAcctStat A14": 0,
         "CreditHistory A30": 0,
         "CreditHistory A31": 0,
         "CreditHistory A32": 1,
         "CreditHistory A33": 0,
         "CreditHistory A34": 0,
         "CreditScore": 1,
         "Employment A71": 0,
         "Employment A72": 0,
         "Employment A73": 1,
         "Employment A74": 0,
         "Employment A75": 0,
         "InstallmentRatePecnt": 0.333333333,
         "PresentResidenceTime": 0.333333333,
         "Property A121": 1,
         "Property A122": 0,
         "Property A123": 0,
         "Property A124": 0,
         "Purpose A40": 0,
         "Purpose A41": 0,
         "Purpose A410": 0,
         "Purpose A42": 0,
         "Purpose A43": 0,
         "Purpose A44": 1,
         "Purpose A45": 0,
         "Purpose A46": 0,
         "Purpose A48": 0,
         "Purpose A49": 0,
         "Savings A61": 1,
         "Savings A62": 0,
         "Savings A63": 0,
         "Savings A64": 0,
         "Savings A65": 0,
         "Telephone1": 0,
         "Time": 0.205882353,
         "_deepnote_index_column": "0"
        },
        {
         "Age": 0.125,
         "CheckingAcctStat A11": 0,
         "CheckingAcctStat A12": 0,
         "CheckingAcctStat A13": 0,
         "CheckingAcctStat A14": 1,
         "CreditHistory A30": 0,
         "CreditHistory A31": 0,
         "CreditHistory A32": 1,
         "CreditHistory A33": 0,
         "CreditHistory A34": 0,
         "CreditScore": 0,
         "Employment A71": 0,
         "Employment A72": 0,
         "Employment A73": 0,
         "Employment A74": 1,
         "Employment A75": 0,
         "InstallmentRatePecnt": 1,
         "PresentResidenceTime": 0.666666667,
         "Property A121": 0,
         "Property A122": 1,
         "Property A123": 0,
         "Property A124": 0,
         "Purpose A40": 0,
         "Purpose A41": 0,
         "Purpose A410": 0,
         "Purpose A42": 0,
         "Purpose A43": 0,
         "Purpose A44": 1,
         "Purpose A45": 0,
         "Purpose A46": 0,
         "Purpose A48": 0,
         "Purpose A49": 0,
         "Savings A61": 0,
         "Savings A62": 1,
         "Savings A63": 0,
         "Savings A64": 0,
         "Savings A65": 0,
         "Telephone1": 1,
         "Time": 0.294117647,
         "_deepnote_index_column": "1"
        },
        {
         "Age": 0.232142857,
         "CheckingAcctStat A11": 0,
         "CheckingAcctStat A12": 0,
         "CheckingAcctStat A13": 0,
         "CheckingAcctStat A14": 1,
         "CreditHistory A30": 0,
         "CreditHistory A31": 0,
         "CreditHistory A32": 1,
         "CreditHistory A33": 0,
         "CreditHistory A34": 0,
         "CreditScore": 0,
         "Employment A71": 0,
         "Employment A72": 0,
         "Employment A73": 1,
         "Employment A74": 0,
         "Employment A75": 0,
         "InstallmentRatePecnt": 1,
         "PresentResidenceTime": 0.333333333,
         "Property A121": 0,
         "Property A122": 0,
         "Property A123": 0,
         "Property A124": 1,
         "Purpose A40": 0,
         "Purpose A41": 0,
         "Purpose A410": 0,
         "Purpose A42": 0,
         "Purpose A43": 0,
         "Purpose A44": 1,
         "Purpose A45": 0,
         "Purpose A46": 0,
         "Purpose A48": 0,
         "Purpose A49": 0,
         "Savings A61": 1,
         "Savings A62": 0,
         "Savings A63": 0,
         "Savings A64": 0,
         "Savings A65": 0,
         "Telephone1": 1,
         "Time": 0.205882353,
         "_deepnote_index_column": "Tercera fila"
        },
        {
         "Age": 0.214285714,
         "CheckingAcctStat A11": 1,
         "CheckingAcctStat A12": 0,
         "CheckingAcctStat A13": 0,
         "CheckingAcctStat A14": 0,
         "CreditHistory A30": 0,
         "CreditHistory A31": 0,
         "CreditHistory A32": 1,
         "CreditHistory A33": 0,
         "CreditHistory A34": 0,
         "CreditScore": 1,
         "Employment A71": 0,
         "Employment A72": 0,
         "Employment A73": 1,
         "Employment A74": 0,
         "Employment A75": 0,
         "InstallmentRatePecnt": 0.666666667,
         "PresentResidenceTime": 0.333333333,
         "Property A121": 0,
         "Property A122": 0,
         "Property A123": 1,
         "Property A124": 0,
         "Purpose A40": 0,
         "Purpose A41": 0,
         "Purpose A410": 0,
         "Purpose A42": 0,
         "Purpose A43": 0,
         "Purpose A44": 1,
         "Purpose A45": 0,
         "Purpose A46": 0,
         "Purpose A48": 0,
         "Purpose A49": 0,
         "Savings A61": 1,
         "Savings A62": 0,
         "Savings A63": 0,
         "Savings A64": 0,
         "Savings A65": 0,
         "Telephone1": 1,
         "Time": 0.647058824,
         "_deepnote_index_column": "3"
        },
        {
         "Age": 0.178571429,
         "CheckingAcctStat A11": 0,
         "CheckingAcctStat A12": 0,
         "CheckingAcctStat A13": 1,
         "CheckingAcctStat A14": 0,
         "CreditHistory A30": 0,
         "CreditHistory A31": 0,
         "CreditHistory A32": 0,
         "CreditHistory A33": 1,
         "CreditHistory A34": 0,
         "CreditScore": 0,
         "Employment A71": 0,
         "Employment A72": 1,
         "Employment A73": 0,
         "Employment A74": 0,
         "Employment A75": 0,
         "InstallmentRatePecnt": 0.333333333,
         "PresentResidenceTime": 0,
         "Property A121": 0,
         "Property A122": 1,
         "Property A123": 0,
         "Property A124": 0,
         "Purpose A40": 0,
         "Purpose A41": 0,
         "Purpose A410": 0,
         "Purpose A42": 0,
         "Purpose A43": 0,
         "Purpose A44": 1,
         "Purpose A45": 0,
         "Purpose A46": 0,
         "Purpose A48": 0,
         "Purpose A49": 0,
         "Savings A61": 1,
         "Savings A62": 0,
         "Savings A63": 0,
         "Savings A64": 0,
         "Savings A65": 0,
         "Telephone1": 0,
         "Time": 0.029411765,
         "_deepnote_index_column": "4"
        },
        {
         "Age": 0.446428571,
         "CheckingAcctStat A11": 1,
         "CheckingAcctStat A12": 0,
         "CheckingAcctStat A13": 0,
         "CheckingAcctStat A14": 0,
         "CreditHistory A30": 0,
         "CreditHistory A31": 0,
         "CreditHistory A32": 1,
         "CreditHistory A33": 0,
         "CreditHistory A34": 0,
         "CreditScore": 0,
         "Employment A71": 0,
         "Employment A72": 0,
         "Employment A73": 1,
         "Employment A74": 0,
         "Employment A75": 0,
         "InstallmentRatePecnt": 0.333333333,
         "PresentResidenceTime": 0.666666667,
         "Property A121": 1,
         "Property A122": 0,
         "Property A123": 0,
         "Property A124": 0,
         "Purpose A40": 0,
         "Purpose A41": 0,
         "Purpose A410": 0,
         "Purpose A42": 0,
         "Purpose A43": 0,
         "Purpose A44": 1,
         "Purpose A45": 0,
         "Purpose A46": 0,
         "Purpose A48": 0,
         "Purpose A49": 0,
         "Savings A61": 0,
         "Savings A62": 0,
         "Savings A63": 1,
         "Savings A64": 0,
         "Savings A65": 0,
         "Telephone1": 0,
         "Time": 0.029411765,
         "_deepnote_index_column": "5"
        },
        {
         "Age": 0.196428571,
         "CheckingAcctStat A11": 0,
         "CheckingAcctStat A12": 0,
         "CheckingAcctStat A13": 0,
         "CheckingAcctStat A14": 1,
         "CreditHistory A30": 0,
         "CreditHistory A31": 0,
         "CreditHistory A32": 0,
         "CreditHistory A33": 0,
         "CreditHistory A34": 1,
         "CreditScore": 1,
         "Employment A71": 0,
         "Employment A72": 0,
         "Employment A73": 1,
         "Employment A74": 0,
         "Employment A75": 0,
         "InstallmentRatePecnt": 1,
         "PresentResidenceTime": 0.333333333,
         "Property A121": 1,
         "Property A122": 0,
         "Property A123": 0,
         "Property A124": 0,
         "Purpose A40": 0,
         "Purpose A41": 0,
         "Purpose A410": 0,
         "Purpose A42": 0,
         "Purpose A43": 0,
         "Purpose A44": 0,
         "Purpose A45": 0,
         "Purpose A46": 0,
         "Purpose A48": 1,
         "Purpose A49": 0,
         "Savings A61": 0,
         "Savings A62": 1,
         "Savings A63": 0,
         "Savings A64": 0,
         "Savings A65": 0,
         "Telephone1": 0,
         "Time": 0.205882353,
         "_deepnote_index_column": "6"
        },
        {
         "Age": 0.035714286,
         "CheckingAcctStat A11": 1,
         "CheckingAcctStat A12": 0,
         "CheckingAcctStat A13": 0,
         "CheckingAcctStat A14": 0,
         "CreditHistory A30": 0,
         "CreditHistory A31": 0,
         "CreditHistory A32": 1,
         "CreditHistory A33": 0,
         "CreditHistory A34": 0,
         "CreditScore": 1,
         "Employment A71": 0,
         "Employment A72": 0,
         "Employment A73": 0,
         "Employment A74": 1,
         "Employment A75": 0,
         "InstallmentRatePecnt": 1,
         "PresentResidenceTime": 1,
         "Property A121": 0,
         "Property A122": 1,
         "Property A123": 0,
         "Property A124": 0,
         "Purpose A40": 0,
         "Purpose A41": 0,
         "Purpose A410": 0,
         "Purpose A42": 0,
         "Purpose A43": 0,
         "Purpose A44": 0,
         "Purpose A45": 0,
         "Purpose A46": 0,
         "Purpose A48": 0,
         "Purpose A49": 1,
         "Savings A61": 1,
         "Savings A62": 0,
         "Savings A63": 0,
         "Savings A64": 0,
         "Savings A65": 0,
         "Telephone1": 0,
         "Time": 0.117647059,
         "_deepnote_index_column": "7"
        },
        {
         "Age": 0.357142857,
         "CheckingAcctStat A11": 1,
         "CheckingAcctStat A12": 0,
         "CheckingAcctStat A13": 0,
         "CheckingAcctStat A14": 0,
         "CreditHistory A30": 0,
         "CreditHistory A31": 0,
         "CreditHistory A32": 0,
         "CreditHistory A33": 0,
         "CreditHistory A34": 1,
         "CreditScore": 0,
         "Employment A71": 0,
         "Employment A72": 0,
         "Employment A73": 0,
         "Employment A74": 1,
         "Employment A75": 0,
         "InstallmentRatePecnt": 0.666666667,
         "PresentResidenceTime": 1,
         "Property A121": 1,
         "Property A122": 0,
         "Property A123": 0,
         "Property A124": 0,
         "Purpose A40": 1,
         "Purpose A41": 0,
         "Purpose A410": 0,
         "Purpose A42": 0,
         "Purpose A43": 0,
         "Purpose A44": 0,
         "Purpose A45": 0,
         "Purpose A46": 0,
         "Purpose A48": 0,
         "Purpose A49": 0,
         "Savings A61": 0,
         "Savings A62": 0,
         "Savings A63": 0,
         "Savings A64": 1,
         "Savings A65": 0,
         "Telephone1": 1,
         "Time": 0.029411765,
         "_deepnote_index_column": "8"
        },
        {
         "Age": 0.017857143,
         "CheckingAcctStat A11": 0,
         "CheckingAcctStat A12": 0,
         "CheckingAcctStat A13": 0,
         "CheckingAcctStat A14": 1,
         "CreditHistory A30": 0,
         "CreditHistory A31": 0,
         "CreditHistory A32": 1,
         "CreditHistory A33": 0,
         "CreditHistory A34": 0,
         "CreditScore": 0,
         "Employment A71": 0,
         "Employment A72": 0,
         "Employment A73": 1,
         "Employment A74": 0,
         "Employment A75": 0,
         "InstallmentRatePecnt": 0.333333333,
         "PresentResidenceTime": 1,
         "Property A121": 0,
         "Property A122": 0,
         "Property A123": 1,
         "Property A124": 0,
         "Purpose A40": 0,
         "Purpose A41": 0,
         "Purpose A410": 0,
         "Purpose A42": 0,
         "Purpose A43": 1,
         "Purpose A44": 0,
         "Purpose A45": 0,
         "Purpose A46": 0,
         "Purpose A48": 0,
         "Purpose A49": 0,
         "Savings A61": 0,
         "Savings A62": 0,
         "Savings A63": 1,
         "Savings A64": 0,
         "Savings A65": 0,
         "Telephone1": 0,
         "Time": 0.161764706,
         "_deepnote_index_column": "9"
        },
        {
         "Age": 0.303571429,
         "CheckingAcctStat A11": 0,
         "CheckingAcctStat A12": 0,
         "CheckingAcctStat A13": 0,
         "CheckingAcctStat A14": 1,
         "CreditHistory A30": 0,
         "CreditHistory A31": 0,
         "CreditHistory A32": 1,
         "CreditHistory A33": 0,
         "CreditHistory A34": 0,
         "CreditScore": 0,
         "Employment A71": 0,
         "Employment A72": 0,
         "Employment A73": 0,
         "Employment A74": 0,
         "Employment A75": 1,
         "InstallmentRatePecnt": 1,
         "PresentResidenceTime": 1,
         "Property A121": 0,
         "Property A122": 1,
         "Property A123": 0,
         "Property A124": 0,
         "Purpose A40": 1,
         "Purpose A41": 0,
         "Purpose A410": 0,
         "Purpose A42": 0,
         "Purpose A43": 0,
         "Purpose A44": 0,
         "Purpose A45": 0,
         "Purpose A46": 0,
         "Purpose A48": 0,
         "Purpose A49": 0,
         "Savings A61": 0,
         "Savings A62": 0,
         "Savings A63": 1,
         "Savings A64": 0,
         "Savings A65": 0,
         "Telephone1": 0,
         "Time": 0.470588235,
         "_deepnote_index_column": "10"
        },
        {
         "Age": 0.339285714,
         "CheckingAcctStat A11": 0,
         "CheckingAcctStat A12": 1,
         "CheckingAcctStat A13": 0,
         "CheckingAcctStat A14": 0,
         "CreditHistory A30": 0,
         "CreditHistory A31": 0,
         "CreditHistory A32": 0,
         "CreditHistory A33": 0,
         "CreditHistory A34": 1,
         "CreditScore": 1,
         "Employment A71": 0,
         "Employment A72": 1,
         "Employment A73": 0,
         "Employment A74": 0,
         "Employment A75": 0,
         "InstallmentRatePecnt": 1,
         "PresentResidenceTime": 1,
         "Property A121": 0,
         "Property A122": 0,
         "Property A123": 0,
         "Property A124": 1,
         "Purpose A40": 0,
         "Purpose A41": 0,
         "Purpose A410": 0,
         "Purpose A42": 0,
         "Purpose A43": 0,
         "Purpose A44": 1,
         "Purpose A45": 0,
         "Purpose A46": 0,
         "Purpose A48": 0,
         "Purpose A49": 0,
         "Savings A61": 0,
         "Savings A62": 1,
         "Savings A63": 0,
         "Savings A64": 0,
         "Savings A65": 0,
         "Telephone1": 0,
         "Time": 0.294117647,
         "_deepnote_index_column": "11"
        }
       ]
      },
      "text/html": [
       "<div>\n",
       "<style scoped>\n",
       "    .dataframe tbody tr th:only-of-type {\n",
       "        vertical-align: middle;\n",
       "    }\n",
       "\n",
       "    .dataframe tbody tr th {\n",
       "        vertical-align: top;\n",
       "    }\n",
       "\n",
       "    .dataframe thead th {\n",
       "        text-align: right;\n",
       "    }\n",
       "</style>\n",
       "<table border=\"1\" class=\"dataframe\">\n",
       "  <thead>\n",
       "    <tr style=\"text-align: right;\">\n",
       "      <th></th>\n",
       "      <th>CheckingAcctStat A11</th>\n",
       "      <th>CheckingAcctStat A12</th>\n",
       "      <th>CheckingAcctStat A13</th>\n",
       "      <th>CheckingAcctStat A14</th>\n",
       "      <th>Time</th>\n",
       "      <th>CreditHistory A30</th>\n",
       "      <th>CreditHistory A31</th>\n",
       "      <th>CreditHistory A32</th>\n",
       "      <th>CreditHistory A33</th>\n",
       "      <th>CreditHistory A34</th>\n",
       "      <th>...</th>\n",
       "      <th>Employment A75</th>\n",
       "      <th>InstallmentRatePecnt</th>\n",
       "      <th>PresentResidenceTime</th>\n",
       "      <th>Property A121</th>\n",
       "      <th>Property A122</th>\n",
       "      <th>Property A123</th>\n",
       "      <th>Property A124</th>\n",
       "      <th>Age</th>\n",
       "      <th>Telephone1</th>\n",
       "      <th>CreditScore</th>\n",
       "    </tr>\n",
       "  </thead>\n",
       "  <tbody>\n",
       "    <tr>\n",
       "      <th>0</th>\n",
       "      <td>1</td>\n",
       "      <td>0</td>\n",
       "      <td>0</td>\n",
       "      <td>0</td>\n",
       "      <td>0.205882</td>\n",
       "      <td>0</td>\n",
       "      <td>0</td>\n",
       "      <td>1</td>\n",
       "      <td>0</td>\n",
       "      <td>0</td>\n",
       "      <td>...</td>\n",
       "      <td>0</td>\n",
       "      <td>0.333333</td>\n",
       "      <td>0.333333</td>\n",
       "      <td>1</td>\n",
       "      <td>0</td>\n",
       "      <td>0</td>\n",
       "      <td>0</td>\n",
       "      <td>0.089286</td>\n",
       "      <td>0</td>\n",
       "      <td>1</td>\n",
       "    </tr>\n",
       "    <tr>\n",
       "      <th>1</th>\n",
       "      <td>0</td>\n",
       "      <td>0</td>\n",
       "      <td>0</td>\n",
       "      <td>1</td>\n",
       "      <td>0.294118</td>\n",
       "      <td>0</td>\n",
       "      <td>0</td>\n",
       "      <td>1</td>\n",
       "      <td>0</td>\n",
       "      <td>0</td>\n",
       "      <td>...</td>\n",
       "      <td>0</td>\n",
       "      <td>1.000000</td>\n",
       "      <td>0.666667</td>\n",
       "      <td>0</td>\n",
       "      <td>1</td>\n",
       "      <td>0</td>\n",
       "      <td>0</td>\n",
       "      <td>0.125000</td>\n",
       "      <td>1</td>\n",
       "      <td>0</td>\n",
       "    </tr>\n",
       "    <tr>\n",
       "      <th>Tercera fila</th>\n",
       "      <td>0</td>\n",
       "      <td>0</td>\n",
       "      <td>0</td>\n",
       "      <td>1</td>\n",
       "      <td>0.205882</td>\n",
       "      <td>0</td>\n",
       "      <td>0</td>\n",
       "      <td>1</td>\n",
       "      <td>0</td>\n",
       "      <td>0</td>\n",
       "      <td>...</td>\n",
       "      <td>0</td>\n",
       "      <td>1.000000</td>\n",
       "      <td>0.333333</td>\n",
       "      <td>0</td>\n",
       "      <td>0</td>\n",
       "      <td>0</td>\n",
       "      <td>1</td>\n",
       "      <td>0.232143</td>\n",
       "      <td>1</td>\n",
       "      <td>0</td>\n",
       "    </tr>\n",
       "    <tr>\n",
       "      <th>3</th>\n",
       "      <td>1</td>\n",
       "      <td>0</td>\n",
       "      <td>0</td>\n",
       "      <td>0</td>\n",
       "      <td>0.647059</td>\n",
       "      <td>0</td>\n",
       "      <td>0</td>\n",
       "      <td>1</td>\n",
       "      <td>0</td>\n",
       "      <td>0</td>\n",
       "      <td>...</td>\n",
       "      <td>0</td>\n",
       "      <td>0.666667</td>\n",
       "      <td>0.333333</td>\n",
       "      <td>0</td>\n",
       "      <td>0</td>\n",
       "      <td>1</td>\n",
       "      <td>0</td>\n",
       "      <td>0.214286</td>\n",
       "      <td>1</td>\n",
       "      <td>1</td>\n",
       "    </tr>\n",
       "    <tr>\n",
       "      <th>4</th>\n",
       "      <td>0</td>\n",
       "      <td>0</td>\n",
       "      <td>1</td>\n",
       "      <td>0</td>\n",
       "      <td>0.029412</td>\n",
       "      <td>0</td>\n",
       "      <td>0</td>\n",
       "      <td>0</td>\n",
       "      <td>1</td>\n",
       "      <td>0</td>\n",
       "      <td>...</td>\n",
       "      <td>0</td>\n",
       "      <td>0.333333</td>\n",
       "      <td>0.000000</td>\n",
       "      <td>0</td>\n",
       "      <td>1</td>\n",
       "      <td>0</td>\n",
       "      <td>0</td>\n",
       "      <td>0.178571</td>\n",
       "      <td>0</td>\n",
       "      <td>0</td>\n",
       "    </tr>\n",
       "    <tr>\n",
       "      <th>...</th>\n",
       "      <td>...</td>\n",
       "      <td>...</td>\n",
       "      <td>...</td>\n",
       "      <td>...</td>\n",
       "      <td>...</td>\n",
       "      <td>...</td>\n",
       "      <td>...</td>\n",
       "      <td>...</td>\n",
       "      <td>...</td>\n",
       "      <td>...</td>\n",
       "      <td>...</td>\n",
       "      <td>...</td>\n",
       "      <td>...</td>\n",
       "      <td>...</td>\n",
       "      <td>...</td>\n",
       "      <td>...</td>\n",
       "      <td>...</td>\n",
       "      <td>...</td>\n",
       "      <td>...</td>\n",
       "      <td>...</td>\n",
       "      <td>...</td>\n",
       "    </tr>\n",
       "    <tr>\n",
       "      <th>945</th>\n",
       "      <td>0</td>\n",
       "      <td>1</td>\n",
       "      <td>0</td>\n",
       "      <td>0</td>\n",
       "      <td>0.341710</td>\n",
       "      <td>0</td>\n",
       "      <td>0</td>\n",
       "      <td>1</td>\n",
       "      <td>0</td>\n",
       "      <td>0</td>\n",
       "      <td>...</td>\n",
       "      <td>0</td>\n",
       "      <td>1.000000</td>\n",
       "      <td>0.333333</td>\n",
       "      <td>0</td>\n",
       "      <td>0</td>\n",
       "      <td>1</td>\n",
       "      <td>0</td>\n",
       "      <td>0.191593</td>\n",
       "      <td>0</td>\n",
       "      <td>1</td>\n",
       "    </tr>\n",
       "    <tr>\n",
       "      <th>946</th>\n",
       "      <td>1</td>\n",
       "      <td>0</td>\n",
       "      <td>0</td>\n",
       "      <td>0</td>\n",
       "      <td>0.175015</td>\n",
       "      <td>0</td>\n",
       "      <td>1</td>\n",
       "      <td>0</td>\n",
       "      <td>0</td>\n",
       "      <td>0</td>\n",
       "      <td>...</td>\n",
       "      <td>0</td>\n",
       "      <td>1.000000</td>\n",
       "      <td>0.179146</td>\n",
       "      <td>0</td>\n",
       "      <td>0</td>\n",
       "      <td>1</td>\n",
       "      <td>0</td>\n",
       "      <td>0.717821</td>\n",
       "      <td>0</td>\n",
       "      <td>1</td>\n",
       "    </tr>\n",
       "    <tr>\n",
       "      <th>947</th>\n",
       "      <td>1</td>\n",
       "      <td>0</td>\n",
       "      <td>0</td>\n",
       "      <td>0</td>\n",
       "      <td>0.173663</td>\n",
       "      <td>0</td>\n",
       "      <td>0</td>\n",
       "      <td>0</td>\n",
       "      <td>0</td>\n",
       "      <td>1</td>\n",
       "      <td>...</td>\n",
       "      <td>0</td>\n",
       "      <td>1.000000</td>\n",
       "      <td>0.093443</td>\n",
       "      <td>0</td>\n",
       "      <td>0</td>\n",
       "      <td>0</td>\n",
       "      <td>1</td>\n",
       "      <td>0.222093</td>\n",
       "      <td>0</td>\n",
       "      <td>1</td>\n",
       "    </tr>\n",
       "    <tr>\n",
       "      <th>948</th>\n",
       "      <td>1</td>\n",
       "      <td>0</td>\n",
       "      <td>0</td>\n",
       "      <td>0</td>\n",
       "      <td>0.060279</td>\n",
       "      <td>0</td>\n",
       "      <td>0</td>\n",
       "      <td>1</td>\n",
       "      <td>0</td>\n",
       "      <td>0</td>\n",
       "      <td>...</td>\n",
       "      <td>0</td>\n",
       "      <td>1.000000</td>\n",
       "      <td>0.487520</td>\n",
       "      <td>0</td>\n",
       "      <td>1</td>\n",
       "      <td>0</td>\n",
       "      <td>0</td>\n",
       "      <td>0.068551</td>\n",
       "      <td>0</td>\n",
       "      <td>1</td>\n",
       "    </tr>\n",
       "    <tr>\n",
       "      <th>949</th>\n",
       "      <td>1</td>\n",
       "      <td>0</td>\n",
       "      <td>0</td>\n",
       "      <td>0</td>\n",
       "      <td>0.061631</td>\n",
       "      <td>0</td>\n",
       "      <td>0</td>\n",
       "      <td>1</td>\n",
       "      <td>0</td>\n",
       "      <td>0</td>\n",
       "      <td>...</td>\n",
       "      <td>0</td>\n",
       "      <td>1.000000</td>\n",
       "      <td>0.697814</td>\n",
       "      <td>0</td>\n",
       "      <td>1</td>\n",
       "      <td>0</td>\n",
       "      <td>0</td>\n",
       "      <td>0.054780</td>\n",
       "      <td>0</td>\n",
       "      <td>1</td>\n",
       "    </tr>\n",
       "  </tbody>\n",
       "</table>\n",
       "<p>950 rows × 39 columns</p>\n",
       "</div>"
      ],
      "text/plain": [
       "              CheckingAcctStat A11  CheckingAcctStat A12  \\\n",
       "0                                1                     0   \n",
       "1                                0                     0   \n",
       "Tercera fila                     0                     0   \n",
       "3                                1                     0   \n",
       "4                                0                     0   \n",
       "...                            ...                   ...   \n",
       "945                              0                     1   \n",
       "946                              1                     0   \n",
       "947                              1                     0   \n",
       "948                              1                     0   \n",
       "949                              1                     0   \n",
       "\n",
       "              CheckingAcctStat A13  CheckingAcctStat A14      Time  \\\n",
       "0                                0                     0  0.205882   \n",
       "1                                0                     1  0.294118   \n",
       "Tercera fila                     0                     1  0.205882   \n",
       "3                                0                     0  0.647059   \n",
       "4                                1                     0  0.029412   \n",
       "...                            ...                   ...       ...   \n",
       "945                              0                     0  0.341710   \n",
       "946                              0                     0  0.175015   \n",
       "947                              0                     0  0.173663   \n",
       "948                              0                     0  0.060279   \n",
       "949                              0                     0  0.061631   \n",
       "\n",
       "              CreditHistory A30  CreditHistory A31  CreditHistory A32  \\\n",
       "0                             0                  0                  1   \n",
       "1                             0                  0                  1   \n",
       "Tercera fila                  0                  0                  1   \n",
       "3                             0                  0                  1   \n",
       "4                             0                  0                  0   \n",
       "...                         ...                ...                ...   \n",
       "945                           0                  0                  1   \n",
       "946                           0                  1                  0   \n",
       "947                           0                  0                  0   \n",
       "948                           0                  0                  1   \n",
       "949                           0                  0                  1   \n",
       "\n",
       "              CreditHistory A33  CreditHistory A34  ...  Employment A75  \\\n",
       "0                             0                  0  ...               0   \n",
       "1                             0                  0  ...               0   \n",
       "Tercera fila                  0                  0  ...               0   \n",
       "3                             0                  0  ...               0   \n",
       "4                             1                  0  ...               0   \n",
       "...                         ...                ...  ...             ...   \n",
       "945                           0                  0  ...               0   \n",
       "946                           0                  0  ...               0   \n",
       "947                           0                  1  ...               0   \n",
       "948                           0                  0  ...               0   \n",
       "949                           0                  0  ...               0   \n",
       "\n",
       "              InstallmentRatePecnt  PresentResidenceTime  Property A121  \\\n",
       "0                         0.333333              0.333333              1   \n",
       "1                         1.000000              0.666667              0   \n",
       "Tercera fila              1.000000              0.333333              0   \n",
       "3                         0.666667              0.333333              0   \n",
       "4                         0.333333              0.000000              0   \n",
       "...                            ...                   ...            ...   \n",
       "945                       1.000000              0.333333              0   \n",
       "946                       1.000000              0.179146              0   \n",
       "947                       1.000000              0.093443              0   \n",
       "948                       1.000000              0.487520              0   \n",
       "949                       1.000000              0.697814              0   \n",
       "\n",
       "              Property A122  Property A123  Property A124       Age  \\\n",
       "0                         0              0              0  0.089286   \n",
       "1                         1              0              0  0.125000   \n",
       "Tercera fila              0              0              1  0.232143   \n",
       "3                         0              1              0  0.214286   \n",
       "4                         1              0              0  0.178571   \n",
       "...                     ...            ...            ...       ...   \n",
       "945                       0              1              0  0.191593   \n",
       "946                       0              1              0  0.717821   \n",
       "947                       0              0              1  0.222093   \n",
       "948                       1              0              0  0.068551   \n",
       "949                       1              0              0  0.054780   \n",
       "\n",
       "              Telephone1  CreditScore  \n",
       "0                      0            1  \n",
       "1                      1            0  \n",
       "Tercera fila           1            0  \n",
       "3                      1            1  \n",
       "4                      0            0  \n",
       "...                  ...          ...  \n",
       "945                    0            1  \n",
       "946                    0            1  \n",
       "947                    0            1  \n",
       "948                    0            1  \n",
       "949                    0            1  \n",
       "\n",
       "[950 rows x 39 columns]"
      ]
     },
     "execution_count": 15,
     "metadata": {},
     "output_type": "execute_result"
    }
   ],
   "source": [
    "#Renombrar los nombres de las filas y columnas\n",
    "df.rename(columns={'Duration':'Time'},index={2:\"Tercera fila\"})"
   ]
  },
  {
   "cell_type": "markdown",
   "metadata": {
    "cell_id": "53688b8c81e74828b1a7abe4821ebde1",
    "deepnote_cell_type": "text-cell-p",
    "formattedRanges": [],
    "is_collapsed": false,
    "tags": []
   },
   "source": [
    "Acceder a los elementos mediante la función iloc\n",
    "df.iloc[i, j] : Devuelve el elemento que se encuentra en la fila i y la columna j del DataFrame\n",
    "df.iloc[i] : Devuelve una serie con los elementos de la fila i del DataFrame"
   ]
  },
  {
   "cell_type": "code",
   "execution_count": null,
   "metadata": {
    "cell_id": "0a575ace7cd844e19a536057347307de",
    "deepnote_cell_type": "code",
    "deepnote_to_be_reexecuted": false,
    "execution_millis": 2,
    "execution_start": 1639498498798,
    "source_hash": "f3f74906",
    "tags": []
   },
   "outputs": [],
   "source": [
    "serie_fila1= df.iloc[1]"
   ]
  },
  {
   "cell_type": "code",
   "execution_count": null,
   "metadata": {
    "cell_id": "009049f9a5b24764a01ea3d7a00e66f5",
    "deepnote_cell_type": "code",
    "deepnote_output_heights": [
     21.199996948242188
    ],
    "deepnote_to_be_reexecuted": false,
    "execution_millis": 112,
    "execution_start": 1639498501053,
    "source_hash": "9ea9e3ae",
    "tags": []
   },
   "outputs": [
    {
     "data": {
      "text/plain": [
       "pandas.core.series.Series"
      ]
     },
     "execution_count": 17,
     "metadata": {},
     "output_type": "execute_result"
    }
   ],
   "source": [
    "type(serie_fila1)"
   ]
  },
  {
   "cell_type": "code",
   "execution_count": null,
   "metadata": {
    "cell_id": "521002673f384cd3a59328be82067fd8",
    "deepnote_cell_type": "code",
    "deepnote_output_heights": [
     21.199996948242188
    ],
    "deepnote_to_be_reexecuted": false,
    "execution_millis": 8,
    "execution_start": 1639498504121,
    "source_hash": "fe65cda",
    "tags": []
   },
   "outputs": [
    {
     "data": {
      "text/plain": [
       "1"
      ]
     },
     "execution_count": 18,
     "metadata": {},
     "output_type": "execute_result"
    }
   ],
   "source": [
    "df.iloc[1,3]"
   ]
  },
  {
   "cell_type": "markdown",
   "metadata": {
    "cell_id": "f0d6dd2d9a28492f97579cf9bbdf5a46",
    "deepnote_cell_type": "text-cell-p",
    "formattedRanges": [],
    "is_collapsed": false,
    "tags": []
   },
   "source": [
    "Acceso a los elementos mediante nombres\n",
    " df.loc[fila, columna] : Devuelve el elemento que se encuentra en la fila con nombre fila y la columna de con nombre columna del DataFrame"
   ]
  },
  {
   "cell_type": "code",
   "execution_count": null,
   "metadata": {
    "cell_id": "dc1d200f6402409782520e68882d3bc4",
    "deepnote_cell_type": "code",
    "deepnote_output_heights": [
     21.199996948242188
    ],
    "deepnote_to_be_reexecuted": false,
    "execution_millis": 15,
    "execution_start": 1639498506996,
    "source_hash": "8ce460d2",
    "tags": []
   },
   "outputs": [
    {
     "data": {
      "text/plain": [
       "0.294117647"
      ]
     },
     "execution_count": 19,
     "metadata": {},
     "output_type": "execute_result"
    }
   ],
   "source": [
    "df.loc[1,\"Duration\"] "
   ]
  },
  {
   "cell_type": "markdown",
   "metadata": {
    "cell_id": "2137434ec9ba4f88941f082af819d8cf",
    "deepnote_cell_type": "text-cell-p",
    "formattedRanges": [],
    "is_collapsed": false,
    "tags": []
   },
   "source": [
    "df[columna]&nbsp;:&nbsp;Devuelve&nbsp;una&nbsp;serie&nbsp;con&nbsp;los&nbsp;elementos&nbsp;de&nbsp;la&nbsp;columna&nbsp;de&nbsp;nombre&nbsp;columna&nbsp;del&nbsp;DataFrame&nbsp;"
   ]
  },
  {
   "cell_type": "code",
   "execution_count": null,
   "metadata": {
    "cell_id": "d13b22df32d64030971ecc0e0567e840",
    "deepnote_cell_type": "code",
    "deepnote_to_be_reexecuted": false,
    "execution_millis": 4,
    "execution_start": 1639498509624,
    "source_hash": "4b0ba4d4",
    "tags": []
   },
   "outputs": [],
   "source": [
    "tiempos= df[\"Duration\"]"
   ]
  },
  {
   "cell_type": "code",
   "execution_count": null,
   "metadata": {
    "cell_id": "8e6ef3d73fa64f2384bfe1728f648aeb",
    "deepnote_cell_type": "code",
    "deepnote_output_heights": [
     232.39999389648438
    ],
    "deepnote_to_be_reexecuted": false,
    "execution_millis": 12,
    "execution_start": 1639498511890,
    "source_hash": "a6ce44a9",
    "tags": []
   },
   "outputs": [
    {
     "data": {
      "text/plain": [
       "0      0.205882\n",
       "1      0.294118\n",
       "2      0.205882\n",
       "3      0.647059\n",
       "4      0.029412\n",
       "         ...   \n",
       "945    0.341710\n",
       "946    0.175015\n",
       "947    0.173663\n",
       "948    0.060279\n",
       "949    0.061631\n",
       "Name: Duration, Length: 950, dtype: float64"
      ]
     },
     "execution_count": 21,
     "metadata": {},
     "output_type": "execute_result"
    }
   ],
   "source": [
    "tiempos"
   ]
  },
  {
   "cell_type": "code",
   "execution_count": null,
   "metadata": {
    "cell_id": "353cb090d62e406ab1f1317f74ef6a33",
    "deepnote_cell_type": "code",
    "deepnote_output_heights": [
     21.199996948242188
    ],
    "deepnote_to_be_reexecuted": false,
    "execution_millis": 21,
    "execution_start": 1639498515541,
    "source_hash": "dc6554f4",
    "tags": []
   },
   "outputs": [
    {
     "data": {
      "text/plain": [
       "0.26306489796210525"
      ]
     },
     "execution_count": 22,
     "metadata": {},
     "output_type": "execute_result"
    }
   ],
   "source": [
    "tiempos.mean()"
   ]
  },
  {
   "cell_type": "code",
   "execution_count": null,
   "metadata": {
    "cell_id": "99a074c25b014b138232e9af01c2d371",
    "deepnote_cell_type": "code",
    "deepnote_output_heights": [
     21.199996948242188
    ],
    "deepnote_to_be_reexecuted": false,
    "execution_millis": 24,
    "execution_start": 1639498518436,
    "source_hash": "2ca7653",
    "tags": []
   },
   "outputs": [
    {
     "data": {
      "text/plain": [
       "1.0"
      ]
     },
     "execution_count": 23,
     "metadata": {},
     "output_type": "execute_result"
    }
   ],
   "source": [
    "tiempos.max()"
   ]
  },
  {
   "cell_type": "code",
   "execution_count": null,
   "metadata": {
    "cell_id": "3d29015eb8064439b4058985fb8a978b",
    "deepnote_cell_type": "code",
    "deepnote_output_heights": [
     21.199996948242188
    ],
    "deepnote_to_be_reexecuted": false,
    "execution_millis": 3,
    "execution_start": 1639498520825,
    "source_hash": "6b52261f",
    "tags": []
   },
   "outputs": [
    {
     "data": {
      "text/plain": [
       "0.0"
      ]
     },
     "execution_count": 24,
     "metadata": {},
     "output_type": "execute_result"
    }
   ],
   "source": [
    "tiempos.min()"
   ]
  },
  {
   "cell_type": "code",
   "execution_count": null,
   "metadata": {
    "cell_id": "1c7dc60f55bd4c06817c7bf88706036b",
    "deepnote_cell_type": "code",
    "deepnote_output_heights": [
     21.199996948242188
    ],
    "deepnote_to_be_reexecuted": false,
    "execution_millis": 6,
    "execution_start": 1639498523175,
    "source_hash": "4dc243df",
    "tags": []
   },
   "outputs": [
    {
     "data": {
      "text/plain": [
       "950"
      ]
     },
     "execution_count": 25,
     "metadata": {},
     "output_type": "execute_result"
    }
   ],
   "source": [
    "tiempos.count()"
   ]
  },
  {
   "cell_type": "code",
   "execution_count": null,
   "metadata": {
    "cell_id": "294f7499753e46bcb44fa09833318700",
    "deepnote_cell_type": "code",
    "deepnote_output_heights": [
     21.199996948242188
    ],
    "deepnote_to_be_reexecuted": false,
    "execution_millis": 8,
    "execution_start": 1639498525432,
    "source_hash": "e122310e",
    "tags": []
   },
   "outputs": [
    {
     "data": {
      "text/plain": [
       "950"
      ]
     },
     "execution_count": 26,
     "metadata": {},
     "output_type": "execute_result"
    }
   ],
   "source": [
    "(tiempos.value_counts()).sum()"
   ]
  },
  {
   "cell_type": "code",
   "execution_count": null,
   "metadata": {
    "cell_id": "bd364365fede4928af42ac88a4d0fdad",
    "deepnote_cell_type": "code",
    "deepnote_output_heights": [
     21.199996948242188
    ],
    "deepnote_to_be_reexecuted": false,
    "execution_millis": 9,
    "execution_start": 1639498528180,
    "source_hash": "5fddeb2b",
    "tags": []
   },
   "outputs": [
    {
     "data": {
      "text/plain": [
       "249.91165306399998"
      ]
     },
     "execution_count": 27,
     "metadata": {},
     "output_type": "execute_result"
    }
   ],
   "source": [
    "tiempos.sum()"
   ]
  },
  {
   "cell_type": "markdown",
   "metadata": {
    "cell_id": "122f1d00e9b14d2f9c7ea2a4929cf51a",
    "deepnote_cell_type": "text-cell-p",
    "formattedRanges": [],
    "is_collapsed": false,
    "tags": []
   },
   "source": [
    "Añadir columnas a un data frame\n",
    " df[nombre] = lista: Añade al DataFrame df una nueva columna con el nombre nombre y los valores de la lista lista. La lista debe tener el mismo tamaño que el número de filas de df.\n"
   ]
  },
  {
   "cell_type": "code",
   "execution_count": null,
   "metadata": {
    "cell_id": "4602ce17a60d4da8b0ecc3aba1e6aa0a",
    "deepnote_cell_type": "code",
    "deepnote_to_be_reexecuted": false,
    "execution_millis": 5,
    "execution_start": 1639498530622,
    "source_hash": "ba24066a",
    "tags": []
   },
   "outputs": [],
   "source": [
    "lista=[]\n",
    "for i in range(950):\n",
    "  lista.append(i)\n",
    "  "
   ]
  },
  {
   "cell_type": "code",
   "execution_count": null,
   "metadata": {
    "cell_id": "2435a0e5c12c4991a59aac061b3f48b4",
    "deepnote_cell_type": "code",
    "deepnote_to_be_reexecuted": false,
    "execution_millis": 5,
    "execution_start": 1639498533283,
    "source_hash": "355974f2",
    "tags": []
   },
   "outputs": [],
   "source": [
    "import numpy as np\n",
    "columna=np.random.randint(0,1000,900)"
   ]
  },
  {
   "cell_type": "code",
   "execution_count": null,
   "metadata": {
    "cell_id": "f02703aeb4c94774af5da7274573546d",
    "deepnote_cell_type": "code",
    "deepnote_output_heights": [
     21.199996948242188
    ],
    "deepnote_to_be_reexecuted": false,
    "execution_millis": 26,
    "execution_start": 1639498536260,
    "source_hash": "e1bda834",
    "tags": []
   },
   "outputs": [
    {
     "data": {
      "text/plain": [
       "900"
      ]
     },
     "execution_count": 30,
     "metadata": {},
     "output_type": "execute_result"
    }
   ],
   "source": [
    "len(columna)"
   ]
  },
  {
   "cell_type": "code",
   "execution_count": null,
   "metadata": {
    "cell_id": "5ee52dd6705646858862498fd27e6b5b",
    "deepnote_cell_type": "code",
    "deepnote_to_be_reexecuted": false,
    "execution_millis": 1098,
    "execution_start": 1639498541895,
    "source_hash": "9808a739",
    "tags": []
   },
   "outputs": [
    {
     "data": {},
     "ename": "ValueError",
     "evalue": "Length of values (900) does not match length of index (950)",
     "output_type": "error",
     "traceback": [
      "\u001b[0;31m---------------------------------------------------------------------------\u001b[0m",
      "\u001b[0;31mValueError\u001b[0m                                Traceback (most recent call last)",
      "\u001b[0;32m<ipython-input-31-b0a6cdb9781c>\u001b[0m in \u001b[0;36m<module>\u001b[0;34m\u001b[0m\n\u001b[0;32m----> 1\u001b[0;31m \u001b[0mdf\u001b[0m\u001b[0;34m[\u001b[0m\u001b[0;34m\"Nueva columna 2\"\u001b[0m\u001b[0;34m]\u001b[0m\u001b[0;34m=\u001b[0m\u001b[0mcolumna\u001b[0m\u001b[0;34m\u001b[0m\u001b[0;34m\u001b[0m\u001b[0m\n\u001b[0m",
      "\u001b[0;32m/shared-libs/python3.7/py/lib/python3.7/site-packages/pandas/core/frame.py\u001b[0m in \u001b[0;36m__setitem__\u001b[0;34m(self, key, value)\u001b[0m\n\u001b[1;32m   3161\u001b[0m         \u001b[0;32melse\u001b[0m\u001b[0;34m:\u001b[0m\u001b[0;34m\u001b[0m\u001b[0;34m\u001b[0m\u001b[0m\n\u001b[1;32m   3162\u001b[0m             \u001b[0;31m# set column\u001b[0m\u001b[0;34m\u001b[0m\u001b[0;34m\u001b[0m\u001b[0;34m\u001b[0m\u001b[0m\n\u001b[0;32m-> 3163\u001b[0;31m             \u001b[0mself\u001b[0m\u001b[0;34m.\u001b[0m\u001b[0m_set_item\u001b[0m\u001b[0;34m(\u001b[0m\u001b[0mkey\u001b[0m\u001b[0;34m,\u001b[0m \u001b[0mvalue\u001b[0m\u001b[0;34m)\u001b[0m\u001b[0;34m\u001b[0m\u001b[0;34m\u001b[0m\u001b[0m\n\u001b[0m\u001b[1;32m   3164\u001b[0m \u001b[0;34m\u001b[0m\u001b[0m\n\u001b[1;32m   3165\u001b[0m     \u001b[0;32mdef\u001b[0m \u001b[0m_setitem_slice\u001b[0m\u001b[0;34m(\u001b[0m\u001b[0mself\u001b[0m\u001b[0;34m,\u001b[0m \u001b[0mkey\u001b[0m\u001b[0;34m:\u001b[0m \u001b[0mslice\u001b[0m\u001b[0;34m,\u001b[0m \u001b[0mvalue\u001b[0m\u001b[0;34m)\u001b[0m\u001b[0;34m:\u001b[0m\u001b[0;34m\u001b[0m\u001b[0;34m\u001b[0m\u001b[0m\n",
      "\u001b[0;32m/shared-libs/python3.7/py/lib/python3.7/site-packages/pandas/core/frame.py\u001b[0m in \u001b[0;36m_set_item\u001b[0;34m(self, key, value)\u001b[0m\n\u001b[1;32m   3240\u001b[0m         \"\"\"\n\u001b[1;32m   3241\u001b[0m         \u001b[0mself\u001b[0m\u001b[0;34m.\u001b[0m\u001b[0m_ensure_valid_index\u001b[0m\u001b[0;34m(\u001b[0m\u001b[0mvalue\u001b[0m\u001b[0;34m)\u001b[0m\u001b[0;34m\u001b[0m\u001b[0;34m\u001b[0m\u001b[0m\n\u001b[0;32m-> 3242\u001b[0;31m         \u001b[0mvalue\u001b[0m \u001b[0;34m=\u001b[0m \u001b[0mself\u001b[0m\u001b[0;34m.\u001b[0m\u001b[0m_sanitize_column\u001b[0m\u001b[0;34m(\u001b[0m\u001b[0mkey\u001b[0m\u001b[0;34m,\u001b[0m \u001b[0mvalue\u001b[0m\u001b[0;34m)\u001b[0m\u001b[0;34m\u001b[0m\u001b[0;34m\u001b[0m\u001b[0m\n\u001b[0m\u001b[1;32m   3243\u001b[0m         \u001b[0mNDFrame\u001b[0m\u001b[0;34m.\u001b[0m\u001b[0m_set_item\u001b[0m\u001b[0;34m(\u001b[0m\u001b[0mself\u001b[0m\u001b[0;34m,\u001b[0m \u001b[0mkey\u001b[0m\u001b[0;34m,\u001b[0m \u001b[0mvalue\u001b[0m\u001b[0;34m)\u001b[0m\u001b[0;34m\u001b[0m\u001b[0;34m\u001b[0m\u001b[0m\n\u001b[1;32m   3244\u001b[0m \u001b[0;34m\u001b[0m\u001b[0m\n",
      "\u001b[0;32m/shared-libs/python3.7/py/lib/python3.7/site-packages/pandas/core/frame.py\u001b[0m in \u001b[0;36m_sanitize_column\u001b[0;34m(self, key, value, broadcast)\u001b[0m\n\u001b[1;32m   3897\u001b[0m \u001b[0;34m\u001b[0m\u001b[0m\n\u001b[1;32m   3898\u001b[0m             \u001b[0;31m# turn me into an ndarray\u001b[0m\u001b[0;34m\u001b[0m\u001b[0;34m\u001b[0m\u001b[0;34m\u001b[0m\u001b[0m\n\u001b[0;32m-> 3899\u001b[0;31m             \u001b[0mvalue\u001b[0m \u001b[0;34m=\u001b[0m \u001b[0msanitize_index\u001b[0m\u001b[0;34m(\u001b[0m\u001b[0mvalue\u001b[0m\u001b[0;34m,\u001b[0m \u001b[0mself\u001b[0m\u001b[0;34m.\u001b[0m\u001b[0mindex\u001b[0m\u001b[0;34m)\u001b[0m\u001b[0;34m\u001b[0m\u001b[0;34m\u001b[0m\u001b[0m\n\u001b[0m\u001b[1;32m   3900\u001b[0m             \u001b[0;32mif\u001b[0m \u001b[0;32mnot\u001b[0m \u001b[0misinstance\u001b[0m\u001b[0;34m(\u001b[0m\u001b[0mvalue\u001b[0m\u001b[0;34m,\u001b[0m \u001b[0;34m(\u001b[0m\u001b[0mnp\u001b[0m\u001b[0;34m.\u001b[0m\u001b[0mndarray\u001b[0m\u001b[0;34m,\u001b[0m \u001b[0mIndex\u001b[0m\u001b[0;34m)\u001b[0m\u001b[0;34m)\u001b[0m\u001b[0;34m:\u001b[0m\u001b[0;34m\u001b[0m\u001b[0;34m\u001b[0m\u001b[0m\n\u001b[1;32m   3901\u001b[0m                 \u001b[0;32mif\u001b[0m \u001b[0misinstance\u001b[0m\u001b[0;34m(\u001b[0m\u001b[0mvalue\u001b[0m\u001b[0;34m,\u001b[0m \u001b[0mlist\u001b[0m\u001b[0;34m)\u001b[0m \u001b[0;32mand\u001b[0m \u001b[0mlen\u001b[0m\u001b[0;34m(\u001b[0m\u001b[0mvalue\u001b[0m\u001b[0;34m)\u001b[0m \u001b[0;34m>\u001b[0m \u001b[0;36m0\u001b[0m\u001b[0;34m:\u001b[0m\u001b[0;34m\u001b[0m\u001b[0;34m\u001b[0m\u001b[0m\n",
      "\u001b[0;32m/shared-libs/python3.7/py/lib/python3.7/site-packages/pandas/core/internals/construction.py\u001b[0m in \u001b[0;36msanitize_index\u001b[0;34m(data, index)\u001b[0m\n\u001b[1;32m    750\u001b[0m     \u001b[0;32mif\u001b[0m \u001b[0mlen\u001b[0m\u001b[0;34m(\u001b[0m\u001b[0mdata\u001b[0m\u001b[0;34m)\u001b[0m \u001b[0;34m!=\u001b[0m \u001b[0mlen\u001b[0m\u001b[0;34m(\u001b[0m\u001b[0mindex\u001b[0m\u001b[0;34m)\u001b[0m\u001b[0;34m:\u001b[0m\u001b[0;34m\u001b[0m\u001b[0;34m\u001b[0m\u001b[0m\n\u001b[1;32m    751\u001b[0m         raise ValueError(\n\u001b[0;32m--> 752\u001b[0;31m             \u001b[0;34m\"Length of values \"\u001b[0m\u001b[0;34m\u001b[0m\u001b[0;34m\u001b[0m\u001b[0m\n\u001b[0m\u001b[1;32m    753\u001b[0m             \u001b[0;34mf\"({len(data)}) \"\u001b[0m\u001b[0;34m\u001b[0m\u001b[0;34m\u001b[0m\u001b[0m\n\u001b[1;32m    754\u001b[0m             \u001b[0;34m\"does not match length of index \"\u001b[0m\u001b[0;34m\u001b[0m\u001b[0;34m\u001b[0m\u001b[0m\n",
      "\u001b[0;31mValueError\u001b[0m: Length of values (900) does not match length of index (950)"
     ]
    }
   ],
   "source": [
    "df[\"Nueva columna 2\"]=columna"
   ]
  },
  {
   "cell_type": "code",
   "execution_count": null,
   "metadata": {
    "cell_id": "e5bdfc4bfe3e4abdb0b133b721408131",
    "deepnote_cell_type": "code",
    "deepnote_to_be_reexecuted": false,
    "execution_millis": 200,
    "execution_start": 1639498549782,
    "source_hash": "f804c160",
    "tags": []
   },
   "outputs": [
    {
     "data": {
      "application/vnd.deepnote.dataframe.v2+json": {
       "column_count": 39,
       "columns": [
        {
         "dtype": "int64",
         "name": "CheckingAcctStat A11",
         "stats": {
          "histogram": [
           {
            "bin_end": 0.1,
            "bin_start": 0,
            "count": 617
           },
           {
            "bin_end": 0.2,
            "bin_start": 0.1,
            "count": 0
           },
           {
            "bin_end": 0.30000000000000004,
            "bin_start": 0.2,
            "count": 0
           },
           {
            "bin_end": 0.4,
            "bin_start": 0.30000000000000004,
            "count": 0
           },
           {
            "bin_end": 0.5,
            "bin_start": 0.4,
            "count": 0
           },
           {
            "bin_end": 0.6000000000000001,
            "bin_start": 0.5,
            "count": 0
           },
           {
            "bin_end": 0.7000000000000001,
            "bin_start": 0.6000000000000001,
            "count": 0
           },
           {
            "bin_end": 0.8,
            "bin_start": 0.7000000000000001,
            "count": 0
           },
           {
            "bin_end": 0.9,
            "bin_start": 0.8,
            "count": 0
           },
           {
            "bin_end": 1,
            "bin_start": 0.9,
            "count": 333
           }
          ],
          "max": "1",
          "min": "0",
          "nan_count": 0,
          "unique_count": 2
         }
        },
        {
         "dtype": "int64",
         "name": "CheckingAcctStat A12",
         "stats": {
          "histogram": [
           {
            "bin_end": 0.1,
            "bin_start": 0,
            "count": 684
           },
           {
            "bin_end": 0.2,
            "bin_start": 0.1,
            "count": 0
           },
           {
            "bin_end": 0.30000000000000004,
            "bin_start": 0.2,
            "count": 0
           },
           {
            "bin_end": 0.4,
            "bin_start": 0.30000000000000004,
            "count": 0
           },
           {
            "bin_end": 0.5,
            "bin_start": 0.4,
            "count": 0
           },
           {
            "bin_end": 0.6000000000000001,
            "bin_start": 0.5,
            "count": 0
           },
           {
            "bin_end": 0.7000000000000001,
            "bin_start": 0.6000000000000001,
            "count": 0
           },
           {
            "bin_end": 0.8,
            "bin_start": 0.7000000000000001,
            "count": 0
           },
           {
            "bin_end": 0.9,
            "bin_start": 0.8,
            "count": 0
           },
           {
            "bin_end": 1,
            "bin_start": 0.9,
            "count": 266
           }
          ],
          "max": "1",
          "min": "0",
          "nan_count": 0,
          "unique_count": 2
         }
        },
        {
         "dtype": "int64",
         "name": "CheckingAcctStat A13",
         "stats": {
          "histogram": [
           {
            "bin_end": 0.1,
            "bin_start": 0,
            "count": 900
           },
           {
            "bin_end": 0.2,
            "bin_start": 0.1,
            "count": 0
           },
           {
            "bin_end": 0.30000000000000004,
            "bin_start": 0.2,
            "count": 0
           },
           {
            "bin_end": 0.4,
            "bin_start": 0.30000000000000004,
            "count": 0
           },
           {
            "bin_end": 0.5,
            "bin_start": 0.4,
            "count": 0
           },
           {
            "bin_end": 0.6000000000000001,
            "bin_start": 0.5,
            "count": 0
           },
           {
            "bin_end": 0.7000000000000001,
            "bin_start": 0.6000000000000001,
            "count": 0
           },
           {
            "bin_end": 0.8,
            "bin_start": 0.7000000000000001,
            "count": 0
           },
           {
            "bin_end": 0.9,
            "bin_start": 0.8,
            "count": 0
           },
           {
            "bin_end": 1,
            "bin_start": 0.9,
            "count": 50
           }
          ],
          "max": "1",
          "min": "0",
          "nan_count": 0,
          "unique_count": 2
         }
        },
        {
         "dtype": "int64",
         "name": "CheckingAcctStat A14",
         "stats": {
          "histogram": [
           {
            "bin_end": 0.1,
            "bin_start": 0,
            "count": 649
           },
           {
            "bin_end": 0.2,
            "bin_start": 0.1,
            "count": 0
           },
           {
            "bin_end": 0.30000000000000004,
            "bin_start": 0.2,
            "count": 0
           },
           {
            "bin_end": 0.4,
            "bin_start": 0.30000000000000004,
            "count": 0
           },
           {
            "bin_end": 0.5,
            "bin_start": 0.4,
            "count": 0
           },
           {
            "bin_end": 0.6000000000000001,
            "bin_start": 0.5,
            "count": 0
           },
           {
            "bin_end": 0.7000000000000001,
            "bin_start": 0.6000000000000001,
            "count": 0
           },
           {
            "bin_end": 0.8,
            "bin_start": 0.7000000000000001,
            "count": 0
           },
           {
            "bin_end": 0.9,
            "bin_start": 0.8,
            "count": 0
           },
           {
            "bin_end": 1,
            "bin_start": 0.9,
            "count": 301
           }
          ],
          "max": "1",
          "min": "0",
          "nan_count": 0,
          "unique_count": 2
         }
        },
        {
         "dtype": "float64",
         "name": "Duration",
         "stats": {
          "histogram": [
           {
            "bin_end": 0.1,
            "bin_start": 0,
            "count": 126
           },
           {
            "bin_end": 0.2,
            "bin_start": 0.1,
            "count": 257
           },
           {
            "bin_end": 0.30000000000000004,
            "bin_start": 0.2,
            "count": 289
           },
           {
            "bin_end": 0.4,
            "bin_start": 0.30000000000000004,
            "count": 90
           },
           {
            "bin_end": 0.5,
            "bin_start": 0.4,
            "count": 99
           },
           {
            "bin_end": 0.6000000000000001,
            "bin_start": 0.5,
            "count": 31
           },
           {
            "bin_end": 0.7000000000000001,
            "bin_start": 0.6000000000000001,
            "count": 42
           },
           {
            "bin_end": 0.8,
            "bin_start": 0.7000000000000001,
            "count": 5
           },
           {
            "bin_end": 0.9,
            "bin_start": 0.8,
            "count": 10
           },
           {
            "bin_end": 1,
            "bin_start": 0.9,
            "count": 1
           }
          ],
          "max": "1.0",
          "min": "0.0",
          "nan_count": 0,
          "unique_count": 176
         }
        },
        {
         "dtype": "int64",
         "name": "CreditHistory A30",
         "stats": {
          "histogram": [
           {
            "bin_end": 0.1,
            "bin_start": 0,
            "count": 897
           },
           {
            "bin_end": 0.2,
            "bin_start": 0.1,
            "count": 0
           },
           {
            "bin_end": 0.30000000000000004,
            "bin_start": 0.2,
            "count": 0
           },
           {
            "bin_end": 0.4,
            "bin_start": 0.30000000000000004,
            "count": 0
           },
           {
            "bin_end": 0.5,
            "bin_start": 0.4,
            "count": 0
           },
           {
            "bin_end": 0.6000000000000001,
            "bin_start": 0.5,
            "count": 0
           },
           {
            "bin_end": 0.7000000000000001,
            "bin_start": 0.6000000000000001,
            "count": 0
           },
           {
            "bin_end": 0.8,
            "bin_start": 0.7000000000000001,
            "count": 0
           },
           {
            "bin_end": 0.9,
            "bin_start": 0.8,
            "count": 0
           },
           {
            "bin_end": 1,
            "bin_start": 0.9,
            "count": 53
           }
          ],
          "max": "1",
          "min": "0",
          "nan_count": 0,
          "unique_count": 2
         }
        },
        {
         "dtype": "int64",
         "name": "CreditHistory A31",
         "stats": {
          "histogram": [
           {
            "bin_end": 0.1,
            "bin_start": 0,
            "count": 888
           },
           {
            "bin_end": 0.2,
            "bin_start": 0.1,
            "count": 0
           },
           {
            "bin_end": 0.30000000000000004,
            "bin_start": 0.2,
            "count": 0
           },
           {
            "bin_end": 0.4,
            "bin_start": 0.30000000000000004,
            "count": 0
           },
           {
            "bin_end": 0.5,
            "bin_start": 0.4,
            "count": 0
           },
           {
            "bin_end": 0.6000000000000001,
            "bin_start": 0.5,
            "count": 0
           },
           {
            "bin_end": 0.7000000000000001,
            "bin_start": 0.6000000000000001,
            "count": 0
           },
           {
            "bin_end": 0.8,
            "bin_start": 0.7000000000000001,
            "count": 0
           },
           {
            "bin_end": 0.9,
            "bin_start": 0.8,
            "count": 0
           },
           {
            "bin_end": 1,
            "bin_start": 0.9,
            "count": 62
           }
          ],
          "max": "1",
          "min": "0",
          "nan_count": 0,
          "unique_count": 2
         }
        },
        {
         "dtype": "int64",
         "name": "CreditHistory A32",
         "stats": {
          "histogram": [
           {
            "bin_end": 0.1,
            "bin_start": 0,
            "count": 425
           },
           {
            "bin_end": 0.2,
            "bin_start": 0.1,
            "count": 0
           },
           {
            "bin_end": 0.30000000000000004,
            "bin_start": 0.2,
            "count": 0
           },
           {
            "bin_end": 0.4,
            "bin_start": 0.30000000000000004,
            "count": 0
           },
           {
            "bin_end": 0.5,
            "bin_start": 0.4,
            "count": 0
           },
           {
            "bin_end": 0.6000000000000001,
            "bin_start": 0.5,
            "count": 0
           },
           {
            "bin_end": 0.7000000000000001,
            "bin_start": 0.6000000000000001,
            "count": 0
           },
           {
            "bin_end": 0.8,
            "bin_start": 0.7000000000000001,
            "count": 0
           },
           {
            "bin_end": 0.9,
            "bin_start": 0.8,
            "count": 0
           },
           {
            "bin_end": 1,
            "bin_start": 0.9,
            "count": 525
           }
          ],
          "max": "1",
          "min": "0",
          "nan_count": 0,
          "unique_count": 2
         }
        },
        {
         "dtype": "int64",
         "name": "CreditHistory A33",
         "stats": {
          "histogram": [
           {
            "bin_end": 0.1,
            "bin_start": 0,
            "count": 874
           },
           {
            "bin_end": 0.2,
            "bin_start": 0.1,
            "count": 0
           },
           {
            "bin_end": 0.30000000000000004,
            "bin_start": 0.2,
            "count": 0
           },
           {
            "bin_end": 0.4,
            "bin_start": 0.30000000000000004,
            "count": 0
           },
           {
            "bin_end": 0.5,
            "bin_start": 0.4,
            "count": 0
           },
           {
            "bin_end": 0.6000000000000001,
            "bin_start": 0.5,
            "count": 0
           },
           {
            "bin_end": 0.7000000000000001,
            "bin_start": 0.6000000000000001,
            "count": 0
           },
           {
            "bin_end": 0.8,
            "bin_start": 0.7000000000000001,
            "count": 0
           },
           {
            "bin_end": 0.9,
            "bin_start": 0.8,
            "count": 0
           },
           {
            "bin_end": 1,
            "bin_start": 0.9,
            "count": 76
           }
          ],
          "max": "1",
          "min": "0",
          "nan_count": 0,
          "unique_count": 2
         }
        },
        {
         "dtype": "int64",
         "name": "CreditHistory A34",
         "stats": {
          "histogram": [
           {
            "bin_end": 0.1,
            "bin_start": 0,
            "count": 716
           },
           {
            "bin_end": 0.2,
            "bin_start": 0.1,
            "count": 0
           },
           {
            "bin_end": 0.30000000000000004,
            "bin_start": 0.2,
            "count": 0
           },
           {
            "bin_end": 0.4,
            "bin_start": 0.30000000000000004,
            "count": 0
           },
           {
            "bin_end": 0.5,
            "bin_start": 0.4,
            "count": 0
           },
           {
            "bin_end": 0.6000000000000001,
            "bin_start": 0.5,
            "count": 0
           },
           {
            "bin_end": 0.7000000000000001,
            "bin_start": 0.6000000000000001,
            "count": 0
           },
           {
            "bin_end": 0.8,
            "bin_start": 0.7000000000000001,
            "count": 0
           },
           {
            "bin_end": 0.9,
            "bin_start": 0.8,
            "count": 0
           },
           {
            "bin_end": 1,
            "bin_start": 0.9,
            "count": 234
           }
          ],
          "max": "1",
          "min": "0",
          "nan_count": 0,
          "unique_count": 2
         }
        },
        {
         "dtype": "int64",
         "name": "Purpose A40",
         "stats": {
          "histogram": [
           {
            "bin_end": 0.1,
            "bin_start": 0,
            "count": 696
           },
           {
            "bin_end": 0.2,
            "bin_start": 0.1,
            "count": 0
           },
           {
            "bin_end": 0.30000000000000004,
            "bin_start": 0.2,
            "count": 0
           },
           {
            "bin_end": 0.4,
            "bin_start": 0.30000000000000004,
            "count": 0
           },
           {
            "bin_end": 0.5,
            "bin_start": 0.4,
            "count": 0
           },
           {
            "bin_end": 0.6000000000000001,
            "bin_start": 0.5,
            "count": 0
           },
           {
            "bin_end": 0.7000000000000001,
            "bin_start": 0.6000000000000001,
            "count": 0
           },
           {
            "bin_end": 0.8,
            "bin_start": 0.7000000000000001,
            "count": 0
           },
           {
            "bin_end": 0.9,
            "bin_start": 0.8,
            "count": 0
           },
           {
            "bin_end": 1,
            "bin_start": 0.9,
            "count": 254
           }
          ],
          "max": "1",
          "min": "0",
          "nan_count": 0,
          "unique_count": 2
         }
        },
        {
         "dtype": "int64",
         "name": "Purpose A41",
         "stats": {
          "histogram": [
           {
            "bin_end": 0.1,
            "bin_start": 0,
            "count": 866
           },
           {
            "bin_end": 0.2,
            "bin_start": 0.1,
            "count": 0
           },
           {
            "bin_end": 0.30000000000000004,
            "bin_start": 0.2,
            "count": 0
           },
           {
            "bin_end": 0.4,
            "bin_start": 0.30000000000000004,
            "count": 0
           },
           {
            "bin_end": 0.5,
            "bin_start": 0.4,
            "count": 0
           },
           {
            "bin_end": 0.6000000000000001,
            "bin_start": 0.5,
            "count": 0
           },
           {
            "bin_end": 0.7000000000000001,
            "bin_start": 0.6000000000000001,
            "count": 0
           },
           {
            "bin_end": 0.8,
            "bin_start": 0.7000000000000001,
            "count": 0
           },
           {
            "bin_end": 0.9,
            "bin_start": 0.8,
            "count": 0
           },
           {
            "bin_end": 1,
            "bin_start": 0.9,
            "count": 84
           }
          ],
          "max": "1",
          "min": "0",
          "nan_count": 0,
          "unique_count": 2
         }
        },
        {
         "dtype": "int64",
         "name": "Purpose A42",
         "stats": {
          "histogram": [
           {
            "bin_end": 0.1,
            "bin_start": 0,
            "count": 939
           },
           {
            "bin_end": 0.2,
            "bin_start": 0.1,
            "count": 0
           },
           {
            "bin_end": 0.30000000000000004,
            "bin_start": 0.2,
            "count": 0
           },
           {
            "bin_end": 0.4,
            "bin_start": 0.30000000000000004,
            "count": 0
           },
           {
            "bin_end": 0.5,
            "bin_start": 0.4,
            "count": 0
           },
           {
            "bin_end": 0.6000000000000001,
            "bin_start": 0.5,
            "count": 0
           },
           {
            "bin_end": 0.7000000000000001,
            "bin_start": 0.6000000000000001,
            "count": 0
           },
           {
            "bin_end": 0.8,
            "bin_start": 0.7000000000000001,
            "count": 0
           },
           {
            "bin_end": 0.9,
            "bin_start": 0.8,
            "count": 0
           },
           {
            "bin_end": 1,
            "bin_start": 0.9,
            "count": 11
           }
          ],
          "max": "1",
          "min": "0",
          "nan_count": 0,
          "unique_count": 2
         }
        },
        {
         "dtype": "int64",
         "name": "Purpose A43",
         "stats": {
          "histogram": [
           {
            "bin_end": 0.1,
            "bin_start": 0,
            "count": 797
           },
           {
            "bin_end": 0.2,
            "bin_start": 0.1,
            "count": 0
           },
           {
            "bin_end": 0.30000000000000004,
            "bin_start": 0.2,
            "count": 0
           },
           {
            "bin_end": 0.4,
            "bin_start": 0.30000000000000004,
            "count": 0
           },
           {
            "bin_end": 0.5,
            "bin_start": 0.4,
            "count": 0
           },
           {
            "bin_end": 0.6000000000000001,
            "bin_start": 0.5,
            "count": 0
           },
           {
            "bin_end": 0.7000000000000001,
            "bin_start": 0.6000000000000001,
            "count": 0
           },
           {
            "bin_end": 0.8,
            "bin_start": 0.7000000000000001,
            "count": 0
           },
           {
            "bin_end": 0.9,
            "bin_start": 0.8,
            "count": 0
           },
           {
            "bin_end": 1,
            "bin_start": 0.9,
            "count": 153
           }
          ],
          "max": "1",
          "min": "0",
          "nan_count": 0,
          "unique_count": 2
         }
        },
        {
         "dtype": "int64",
         "name": "Purpose A44",
         "stats": {
          "histogram": [
           {
            "bin_end": 0.1,
            "bin_start": 0,
            "count": 696
           },
           {
            "bin_end": 0.2,
            "bin_start": 0.1,
            "count": 0
           },
           {
            "bin_end": 0.30000000000000004,
            "bin_start": 0.2,
            "count": 0
           },
           {
            "bin_end": 0.4,
            "bin_start": 0.30000000000000004,
            "count": 0
           },
           {
            "bin_end": 0.5,
            "bin_start": 0.4,
            "count": 0
           },
           {
            "bin_end": 0.6000000000000001,
            "bin_start": 0.5,
            "count": 0
           },
           {
            "bin_end": 0.7000000000000001,
            "bin_start": 0.6000000000000001,
            "count": 0
           },
           {
            "bin_end": 0.8,
            "bin_start": 0.7000000000000001,
            "count": 0
           },
           {
            "bin_end": 0.9,
            "bin_start": 0.8,
            "count": 0
           },
           {
            "bin_end": 1,
            "bin_start": 0.9,
            "count": 254
           }
          ],
          "max": "1",
          "min": "0",
          "nan_count": 0,
          "unique_count": 2
         }
        },
        {
         "dtype": "int64",
         "name": "Purpose A45",
         "stats": {
          "histogram": [
           {
            "bin_end": 0.1,
            "bin_start": 0,
            "count": 939
           },
           {
            "bin_end": 0.2,
            "bin_start": 0.1,
            "count": 0
           },
           {
            "bin_end": 0.30000000000000004,
            "bin_start": 0.2,
            "count": 0
           },
           {
            "bin_end": 0.4,
            "bin_start": 0.30000000000000004,
            "count": 0
           },
           {
            "bin_end": 0.5,
            "bin_start": 0.4,
            "count": 0
           },
           {
            "bin_end": 0.6000000000000001,
            "bin_start": 0.5,
            "count": 0
           },
           {
            "bin_end": 0.7000000000000001,
            "bin_start": 0.6000000000000001,
            "count": 0
           },
           {
            "bin_end": 0.8,
            "bin_start": 0.7000000000000001,
            "count": 0
           },
           {
            "bin_end": 0.9,
            "bin_start": 0.8,
            "count": 0
           },
           {
            "bin_end": 1,
            "bin_start": 0.9,
            "count": 11
           }
          ],
          "max": "1",
          "min": "0",
          "nan_count": 0,
          "unique_count": 2
         }
        },
        {
         "dtype": "int64",
         "name": "Purpose A46",
         "stats": {
          "histogram": [
           {
            "bin_end": 0.1,
            "bin_start": 0,
            "count": 918
           },
           {
            "bin_end": 0.2,
            "bin_start": 0.1,
            "count": 0
           },
           {
            "bin_end": 0.30000000000000004,
            "bin_start": 0.2,
            "count": 0
           },
           {
            "bin_end": 0.4,
            "bin_start": 0.30000000000000004,
            "count": 0
           },
           {
            "bin_end": 0.5,
            "bin_start": 0.4,
            "count": 0
           },
           {
            "bin_end": 0.6000000000000001,
            "bin_start": 0.5,
            "count": 0
           },
           {
            "bin_end": 0.7000000000000001,
            "bin_start": 0.6000000000000001,
            "count": 0
           },
           {
            "bin_end": 0.8,
            "bin_start": 0.7000000000000001,
            "count": 0
           },
           {
            "bin_end": 0.9,
            "bin_start": 0.8,
            "count": 0
           },
           {
            "bin_end": 1,
            "bin_start": 0.9,
            "count": 32
           }
          ],
          "max": "1",
          "min": "0",
          "nan_count": 0,
          "unique_count": 2
         }
        },
        {
         "dtype": "int64",
         "name": "Purpose A48",
         "stats": {
          "histogram": [
           {
            "bin_end": 0.1,
            "bin_start": 0,
            "count": 906
           },
           {
            "bin_end": 0.2,
            "bin_start": 0.1,
            "count": 0
           },
           {
            "bin_end": 0.30000000000000004,
            "bin_start": 0.2,
            "count": 0
           },
           {
            "bin_end": 0.4,
            "bin_start": 0.30000000000000004,
            "count": 0
           },
           {
            "bin_end": 0.5,
            "bin_start": 0.4,
            "count": 0
           },
           {
            "bin_end": 0.6000000000000001,
            "bin_start": 0.5,
            "count": 0
           },
           {
            "bin_end": 0.7000000000000001,
            "bin_start": 0.6000000000000001,
            "count": 0
           },
           {
            "bin_end": 0.8,
            "bin_start": 0.7000000000000001,
            "count": 0
           },
           {
            "bin_end": 0.9,
            "bin_start": 0.8,
            "count": 0
           },
           {
            "bin_end": 1,
            "bin_start": 0.9,
            "count": 44
           }
          ],
          "max": "1",
          "min": "0",
          "nan_count": 0,
          "unique_count": 2
         }
        },
        {
         "dtype": "int64",
         "name": "Purpose A49",
         "stats": {
          "histogram": [
           {
            "bin_end": 0.1,
            "bin_start": 0,
            "count": 939
           },
           {
            "bin_end": 0.2,
            "bin_start": 0.1,
            "count": 0
           },
           {
            "bin_end": 0.30000000000000004,
            "bin_start": 0.2,
            "count": 0
           },
           {
            "bin_end": 0.4,
            "bin_start": 0.30000000000000004,
            "count": 0
           },
           {
            "bin_end": 0.5,
            "bin_start": 0.4,
            "count": 0
           },
           {
            "bin_end": 0.6000000000000001,
            "bin_start": 0.5,
            "count": 0
           },
           {
            "bin_end": 0.7000000000000001,
            "bin_start": 0.6000000000000001,
            "count": 0
           },
           {
            "bin_end": 0.8,
            "bin_start": 0.7000000000000001,
            "count": 0
           },
           {
            "bin_end": 0.9,
            "bin_start": 0.8,
            "count": 0
           },
           {
            "bin_end": 1,
            "bin_start": 0.9,
            "count": 11
           }
          ],
          "max": "1",
          "min": "0",
          "nan_count": 0,
          "unique_count": 2
         }
        },
        {
         "dtype": "int64",
         "name": "Purpose A410",
         "stats": {
          "histogram": [
           {
            "bin_end": 0.1,
            "bin_start": 0,
            "count": 854
           },
           {
            "bin_end": 0.2,
            "bin_start": 0.1,
            "count": 0
           },
           {
            "bin_end": 0.30000000000000004,
            "bin_start": 0.2,
            "count": 0
           },
           {
            "bin_end": 0.4,
            "bin_start": 0.30000000000000004,
            "count": 0
           },
           {
            "bin_end": 0.5,
            "bin_start": 0.4,
            "count": 0
           },
           {
            "bin_end": 0.6000000000000001,
            "bin_start": 0.5,
            "count": 0
           },
           {
            "bin_end": 0.7000000000000001,
            "bin_start": 0.6000000000000001,
            "count": 0
           },
           {
            "bin_end": 0.8,
            "bin_start": 0.7000000000000001,
            "count": 0
           },
           {
            "bin_end": 0.9,
            "bin_start": 0.8,
            "count": 0
           },
           {
            "bin_end": 1,
            "bin_start": 0.9,
            "count": 96
           }
          ],
          "max": "1",
          "min": "0",
          "nan_count": 0,
          "unique_count": 2
         }
        },
        {
         "dtype": "int64",
         "name": "Savings A61",
         "stats": {
          "histogram": [
           {
            "bin_end": 0.1,
            "bin_start": 0,
            "count": 332
           },
           {
            "bin_end": 0.2,
            "bin_start": 0.1,
            "count": 0
           },
           {
            "bin_end": 0.30000000000000004,
            "bin_start": 0.2,
            "count": 0
           },
           {
            "bin_end": 0.4,
            "bin_start": 0.30000000000000004,
            "count": 0
           },
           {
            "bin_end": 0.5,
            "bin_start": 0.4,
            "count": 0
           },
           {
            "bin_end": 0.6000000000000001,
            "bin_start": 0.5,
            "count": 0
           },
           {
            "bin_end": 0.7000000000000001,
            "bin_start": 0.6000000000000001,
            "count": 0
           },
           {
            "bin_end": 0.8,
            "bin_start": 0.7000000000000001,
            "count": 0
           },
           {
            "bin_end": 0.9,
            "bin_start": 0.8,
            "count": 0
           },
           {
            "bin_end": 1,
            "bin_start": 0.9,
            "count": 618
           }
          ],
          "max": "1",
          "min": "0",
          "nan_count": 0,
          "unique_count": 2
         }
        },
        {
         "dtype": "int64",
         "name": "Savings A62",
         "stats": {
          "histogram": [
           {
            "bin_end": 0.1,
            "bin_start": 0,
            "count": 855
           },
           {
            "bin_end": 0.2,
            "bin_start": 0.1,
            "count": 0
           },
           {
            "bin_end": 0.30000000000000004,
            "bin_start": 0.2,
            "count": 0
           },
           {
            "bin_end": 0.4,
            "bin_start": 0.30000000000000004,
            "count": 0
           },
           {
            "bin_end": 0.5,
            "bin_start": 0.4,
            "count": 0
           },
           {
            "bin_end": 0.6000000000000001,
            "bin_start": 0.5,
            "count": 0
           },
           {
            "bin_end": 0.7000000000000001,
            "bin_start": 0.6000000000000001,
            "count": 0
           },
           {
            "bin_end": 0.8,
            "bin_start": 0.7000000000000001,
            "count": 0
           },
           {
            "bin_end": 0.9,
            "bin_start": 0.8,
            "count": 0
           },
           {
            "bin_end": 1,
            "bin_start": 0.9,
            "count": 95
           }
          ],
          "max": "1",
          "min": "0",
          "nan_count": 0,
          "unique_count": 2
         }
        },
        {
         "dtype": "int64",
         "name": "Savings A63",
         "stats": {
          "histogram": [
           {
            "bin_end": 0.1,
            "bin_start": 0,
            "count": 896
           },
           {
            "bin_end": 0.2,
            "bin_start": 0.1,
            "count": 0
           },
           {
            "bin_end": 0.30000000000000004,
            "bin_start": 0.2,
            "count": 0
           },
           {
            "bin_end": 0.4,
            "bin_start": 0.30000000000000004,
            "count": 0
           },
           {
            "bin_end": 0.5,
            "bin_start": 0.4,
            "count": 0
           },
           {
            "bin_end": 0.6000000000000001,
            "bin_start": 0.5,
            "count": 0
           },
           {
            "bin_end": 0.7000000000000001,
            "bin_start": 0.6000000000000001,
            "count": 0
           },
           {
            "bin_end": 0.8,
            "bin_start": 0.7000000000000001,
            "count": 0
           },
           {
            "bin_end": 0.9,
            "bin_start": 0.8,
            "count": 0
           },
           {
            "bin_end": 1,
            "bin_start": 0.9,
            "count": 54
           }
          ],
          "max": "1",
          "min": "0",
          "nan_count": 0,
          "unique_count": 2
         }
        },
        {
         "dtype": "int64",
         "name": "Savings A64",
         "stats": {
          "histogram": [
           {
            "bin_end": 0.1,
            "bin_start": 0,
            "count": 913
           },
           {
            "bin_end": 0.2,
            "bin_start": 0.1,
            "count": 0
           },
           {
            "bin_end": 0.30000000000000004,
            "bin_start": 0.2,
            "count": 0
           },
           {
            "bin_end": 0.4,
            "bin_start": 0.30000000000000004,
            "count": 0
           },
           {
            "bin_end": 0.5,
            "bin_start": 0.4,
            "count": 0
           },
           {
            "bin_end": 0.6000000000000001,
            "bin_start": 0.5,
            "count": 0
           },
           {
            "bin_end": 0.7000000000000001,
            "bin_start": 0.6000000000000001,
            "count": 0
           },
           {
            "bin_end": 0.8,
            "bin_start": 0.7000000000000001,
            "count": 0
           },
           {
            "bin_end": 0.9,
            "bin_start": 0.8,
            "count": 0
           },
           {
            "bin_end": 1,
            "bin_start": 0.9,
            "count": 37
           }
          ],
          "max": "1",
          "min": "0",
          "nan_count": 0,
          "unique_count": 2
         }
        },
        {
         "dtype": "int64",
         "name": "Savings A65",
         "stats": {
          "histogram": [
           {
            "bin_end": 0.1,
            "bin_start": 0,
            "count": 804
           },
           {
            "bin_end": 0.2,
            "bin_start": 0.1,
            "count": 0
           },
           {
            "bin_end": 0.30000000000000004,
            "bin_start": 0.2,
            "count": 0
           },
           {
            "bin_end": 0.4,
            "bin_start": 0.30000000000000004,
            "count": 0
           },
           {
            "bin_end": 0.5,
            "bin_start": 0.4,
            "count": 0
           },
           {
            "bin_end": 0.6000000000000001,
            "bin_start": 0.5,
            "count": 0
           },
           {
            "bin_end": 0.7000000000000001,
            "bin_start": 0.6000000000000001,
            "count": 0
           },
           {
            "bin_end": 0.8,
            "bin_start": 0.7000000000000001,
            "count": 0
           },
           {
            "bin_end": 0.9,
            "bin_start": 0.8,
            "count": 0
           },
           {
            "bin_end": 1,
            "bin_start": 0.9,
            "count": 146
           }
          ],
          "max": "1",
          "min": "0",
          "nan_count": 0,
          "unique_count": 2
         }
        },
        {
         "dtype": "int64",
         "name": "Employment A71",
         "stats": {
          "histogram": [
           {
            "bin_end": 0.1,
            "bin_start": 0,
            "count": 885
           },
           {
            "bin_end": 0.2,
            "bin_start": 0.1,
            "count": 0
           },
           {
            "bin_end": 0.30000000000000004,
            "bin_start": 0.2,
            "count": 0
           },
           {
            "bin_end": 0.4,
            "bin_start": 0.30000000000000004,
            "count": 0
           },
           {
            "bin_end": 0.5,
            "bin_start": 0.4,
            "count": 0
           },
           {
            "bin_end": 0.6000000000000001,
            "bin_start": 0.5,
            "count": 0
           },
           {
            "bin_end": 0.7000000000000001,
            "bin_start": 0.6000000000000001,
            "count": 0
           },
           {
            "bin_end": 0.8,
            "bin_start": 0.7000000000000001,
            "count": 0
           },
           {
            "bin_end": 0.9,
            "bin_start": 0.8,
            "count": 0
           },
           {
            "bin_end": 1,
            "bin_start": 0.9,
            "count": 65
           }
          ],
          "max": "1",
          "min": "0",
          "nan_count": 0,
          "unique_count": 2
         }
        },
        {
         "dtype": "int64",
         "name": "Employment A72",
         "stats": {
          "histogram": [
           {
            "bin_end": 0.1,
            "bin_start": 0,
            "count": 770
           },
           {
            "bin_end": 0.2,
            "bin_start": 0.1,
            "count": 0
           },
           {
            "bin_end": 0.30000000000000004,
            "bin_start": 0.2,
            "count": 0
           },
           {
            "bin_end": 0.4,
            "bin_start": 0.30000000000000004,
            "count": 0
           },
           {
            "bin_end": 0.5,
            "bin_start": 0.4,
            "count": 0
           },
           {
            "bin_end": 0.6000000000000001,
            "bin_start": 0.5,
            "count": 0
           },
           {
            "bin_end": 0.7000000000000001,
            "bin_start": 0.6000000000000001,
            "count": 0
           },
           {
            "bin_end": 0.8,
            "bin_start": 0.7000000000000001,
            "count": 0
           },
           {
            "bin_end": 0.9,
            "bin_start": 0.8,
            "count": 0
           },
           {
            "bin_end": 1,
            "bin_start": 0.9,
            "count": 180
           }
          ],
          "max": "1",
          "min": "0",
          "nan_count": 0,
          "unique_count": 2
         }
        },
        {
         "dtype": "int64",
         "name": "Employment A73",
         "stats": {
          "histogram": [
           {
            "bin_end": 0.1,
            "bin_start": 0,
            "count": 624
           },
           {
            "bin_end": 0.2,
            "bin_start": 0.1,
            "count": 0
           },
           {
            "bin_end": 0.30000000000000004,
            "bin_start": 0.2,
            "count": 0
           },
           {
            "bin_end": 0.4,
            "bin_start": 0.30000000000000004,
            "count": 0
           },
           {
            "bin_end": 0.5,
            "bin_start": 0.4,
            "count": 0
           },
           {
            "bin_end": 0.6000000000000001,
            "bin_start": 0.5,
            "count": 0
           },
           {
            "bin_end": 0.7000000000000001,
            "bin_start": 0.6000000000000001,
            "count": 0
           },
           {
            "bin_end": 0.8,
            "bin_start": 0.7000000000000001,
            "count": 0
           },
           {
            "bin_end": 0.9,
            "bin_start": 0.8,
            "count": 0
           },
           {
            "bin_end": 1,
            "bin_start": 0.9,
            "count": 326
           }
          ],
          "max": "1",
          "min": "0",
          "nan_count": 0,
          "unique_count": 2
         }
        },
        {
         "dtype": "int64",
         "name": "Employment A74",
         "stats": {
          "histogram": [
           {
            "bin_end": 0.1,
            "bin_start": 0,
            "count": 793
           },
           {
            "bin_end": 0.2,
            "bin_start": 0.1,
            "count": 0
           },
           {
            "bin_end": 0.30000000000000004,
            "bin_start": 0.2,
            "count": 0
           },
           {
            "bin_end": 0.4,
            "bin_start": 0.30000000000000004,
            "count": 0
           },
           {
            "bin_end": 0.5,
            "bin_start": 0.4,
            "count": 0
           },
           {
            "bin_end": 0.6000000000000001,
            "bin_start": 0.5,
            "count": 0
           },
           {
            "bin_end": 0.7000000000000001,
            "bin_start": 0.6000000000000001,
            "count": 0
           },
           {
            "bin_end": 0.8,
            "bin_start": 0.7000000000000001,
            "count": 0
           },
           {
            "bin_end": 0.9,
            "bin_start": 0.8,
            "count": 0
           },
           {
            "bin_end": 1,
            "bin_start": 0.9,
            "count": 157
           }
          ],
          "max": "1",
          "min": "0",
          "nan_count": 0,
          "unique_count": 2
         }
        },
        {
         "dtype": "int64",
         "name": "Employment A75",
         "stats": {
          "histogram": [
           {
            "bin_end": 0.1,
            "bin_start": 0,
            "count": 728
           },
           {
            "bin_end": 0.2,
            "bin_start": 0.1,
            "count": 0
           },
           {
            "bin_end": 0.30000000000000004,
            "bin_start": 0.2,
            "count": 0
           },
           {
            "bin_end": 0.4,
            "bin_start": 0.30000000000000004,
            "count": 0
           },
           {
            "bin_end": 0.5,
            "bin_start": 0.4,
            "count": 0
           },
           {
            "bin_end": 0.6000000000000001,
            "bin_start": 0.5,
            "count": 0
           },
           {
            "bin_end": 0.7000000000000001,
            "bin_start": 0.6000000000000001,
            "count": 0
           },
           {
            "bin_end": 0.8,
            "bin_start": 0.7000000000000001,
            "count": 0
           },
           {
            "bin_end": 0.9,
            "bin_start": 0.8,
            "count": 0
           },
           {
            "bin_end": 1,
            "bin_start": 0.9,
            "count": 222
           }
          ],
          "max": "1",
          "min": "0",
          "nan_count": 0,
          "unique_count": 2
         }
        },
        {
         "dtype": "float64",
         "name": "InstallmentRatePecnt",
         "stats": {
          "histogram": [
           {
            "bin_end": 0.1,
            "bin_start": 0,
            "count": 116
           },
           {
            "bin_end": 0.2,
            "bin_start": 0.1,
            "count": 17
           },
           {
            "bin_end": 0.30000000000000004,
            "bin_start": 0.2,
            "count": 5
           },
           {
            "bin_end": 0.4,
            "bin_start": 0.30000000000000004,
            "count": 149
           },
           {
            "bin_end": 0.5,
            "bin_start": 0.4,
            "count": 23
           },
           {
            "bin_end": 0.6000000000000001,
            "bin_start": 0.5,
            "count": 7
           },
           {
            "bin_end": 0.7000000000000001,
            "bin_start": 0.6000000000000001,
            "count": 127
           },
           {
            "bin_end": 0.8,
            "bin_start": 0.7000000000000001,
            "count": 23
           },
           {
            "bin_end": 0.9,
            "bin_start": 0.8,
            "count": 43
           },
           {
            "bin_end": 1,
            "bin_start": 0.9,
            "count": 440
           }
          ],
          "max": "1.0",
          "min": "0.0",
          "nan_count": 0,
          "unique_count": 28
         }
        },
        {
         "dtype": "float64",
         "name": "PresentResidenceTime",
         "stats": {
          "histogram": [
           {
            "bin_end": 0.1,
            "bin_start": 0,
            "count": 104
           },
           {
            "bin_end": 0.2,
            "bin_start": 0.1,
            "count": 20
           },
           {
            "bin_end": 0.30000000000000004,
            "bin_start": 0.2,
            "count": 0
           },
           {
            "bin_end": 0.4,
            "bin_start": 0.30000000000000004,
            "count": 276
           },
           {
            "bin_end": 0.5,
            "bin_start": 0.4,
            "count": 12
           },
           {
            "bin_end": 0.6000000000000001,
            "bin_start": 0.5,
            "count": 4
           },
           {
            "bin_end": 0.7000000000000001,
            "bin_start": 0.6000000000000001,
            "count": 134
           },
           {
            "bin_end": 0.8,
            "bin_start": 0.7000000000000001,
            "count": 0
           },
           {
            "bin_end": 0.9,
            "bin_start": 0.8,
            "count": 10
           },
           {
            "bin_end": 1,
            "bin_start": 0.9,
            "count": 390
           }
          ],
          "max": "1.0",
          "min": "0.0",
          "nan_count": 0,
          "unique_count": 28
         }
        },
        {
         "dtype": "int64",
         "name": "Property A121",
         "stats": {
          "histogram": [
           {
            "bin_end": 0.1,
            "bin_start": 0,
            "count": 711
           },
           {
            "bin_end": 0.2,
            "bin_start": 0.1,
            "count": 0
           },
           {
            "bin_end": 0.30000000000000004,
            "bin_start": 0.2,
            "count": 0
           },
           {
            "bin_end": 0.4,
            "bin_start": 0.30000000000000004,
            "count": 0
           },
           {
            "bin_end": 0.5,
            "bin_start": 0.4,
            "count": 0
           },
           {
            "bin_end": 0.6000000000000001,
            "bin_start": 0.5,
            "count": 0
           },
           {
            "bin_end": 0.7000000000000001,
            "bin_start": 0.6000000000000001,
            "count": 0
           },
           {
            "bin_end": 0.8,
            "bin_start": 0.7000000000000001,
            "count": 0
           },
           {
            "bin_end": 0.9,
            "bin_start": 0.8,
            "count": 0
           },
           {
            "bin_end": 1,
            "bin_start": 0.9,
            "count": 239
           }
          ],
          "max": "1",
          "min": "0",
          "nan_count": 0,
          "unique_count": 2
         }
        },
        {
         "dtype": "int64",
         "name": "Property A122",
         "stats": {
          "histogram": [
           {
            "bin_end": 0.1,
            "bin_start": 0,
            "count": 730
           },
           {
            "bin_end": 0.2,
            "bin_start": 0.1,
            "count": 0
           },
           {
            "bin_end": 0.30000000000000004,
            "bin_start": 0.2,
            "count": 0
           },
           {
            "bin_end": 0.4,
            "bin_start": 0.30000000000000004,
            "count": 0
           },
           {
            "bin_end": 0.5,
            "bin_start": 0.4,
            "count": 0
           },
           {
            "bin_end": 0.6000000000000001,
            "bin_start": 0.5,
            "count": 0
           },
           {
            "bin_end": 0.7000000000000001,
            "bin_start": 0.6000000000000001,
            "count": 0
           },
           {
            "bin_end": 0.8,
            "bin_start": 0.7000000000000001,
            "count": 0
           },
           {
            "bin_end": 0.9,
            "bin_start": 0.8,
            "count": 0
           },
           {
            "bin_end": 1,
            "bin_start": 0.9,
            "count": 220
           }
          ],
          "max": "1",
          "min": "0",
          "nan_count": 0,
          "unique_count": 2
         }
        },
        {
         "dtype": "int64",
         "name": "Property A123",
         "stats": {
          "histogram": [
           {
            "bin_end": 0.1,
            "bin_start": 0,
            "count": 621
           },
           {
            "bin_end": 0.2,
            "bin_start": 0.1,
            "count": 0
           },
           {
            "bin_end": 0.30000000000000004,
            "bin_start": 0.2,
            "count": 0
           },
           {
            "bin_end": 0.4,
            "bin_start": 0.30000000000000004,
            "count": 0
           },
           {
            "bin_end": 0.5,
            "bin_start": 0.4,
            "count": 0
           },
           {
            "bin_end": 0.6000000000000001,
            "bin_start": 0.5,
            "count": 0
           },
           {
            "bin_end": 0.7000000000000001,
            "bin_start": 0.6000000000000001,
            "count": 0
           },
           {
            "bin_end": 0.8,
            "bin_start": 0.7000000000000001,
            "count": 0
           },
           {
            "bin_end": 0.9,
            "bin_start": 0.8,
            "count": 0
           },
           {
            "bin_end": 1,
            "bin_start": 0.9,
            "count": 329
           }
          ],
          "max": "1",
          "min": "0",
          "nan_count": 0,
          "unique_count": 2
         }
        },
        {
         "dtype": "int64",
         "name": "Property A124",
         "stats": {
          "histogram": [
           {
            "bin_end": 0.1,
            "bin_start": 0,
            "count": 788
           },
           {
            "bin_end": 0.2,
            "bin_start": 0.1,
            "count": 0
           },
           {
            "bin_end": 0.30000000000000004,
            "bin_start": 0.2,
            "count": 0
           },
           {
            "bin_end": 0.4,
            "bin_start": 0.30000000000000004,
            "count": 0
           },
           {
            "bin_end": 0.5,
            "bin_start": 0.4,
            "count": 0
           },
           {
            "bin_end": 0.6000000000000001,
            "bin_start": 0.5,
            "count": 0
           },
           {
            "bin_end": 0.7000000000000001,
            "bin_start": 0.6000000000000001,
            "count": 0
           },
           {
            "bin_end": 0.8,
            "bin_start": 0.7000000000000001,
            "count": 0
           },
           {
            "bin_end": 0.9,
            "bin_start": 0.8,
            "count": 0
           },
           {
            "bin_end": 1,
            "bin_start": 0.9,
            "count": 162
           }
          ],
          "max": "1",
          "min": "0",
          "nan_count": 0,
          "unique_count": 2
         }
        },
        {
         "dtype": "float64",
         "name": "Age",
         "stats": {
          "histogram": [
           {
            "bin_end": 0.0982142857,
            "bin_start": 0,
            "count": 151
           },
           {
            "bin_end": 0.1964285714,
            "bin_start": 0.0982142857,
            "count": 255
           },
           {
            "bin_end": 0.2946428571,
            "bin_start": 0.1964285714,
            "count": 175
           },
           {
            "bin_end": 0.3928571428,
            "bin_start": 0.2946428571,
            "count": 124
           },
           {
            "bin_end": 0.4910714285,
            "bin_start": 0.3928571428,
            "count": 103
           },
           {
            "bin_end": 0.5892857142,
            "bin_start": 0.4910714285,
            "count": 63
           },
           {
            "bin_end": 0.6874999999,
            "bin_start": 0.5892857142,
            "count": 35
           },
           {
            "bin_end": 0.7857142856,
            "bin_start": 0.6874999999,
            "count": 21
           },
           {
            "bin_end": 0.8839285713,
            "bin_start": 0.7857142856,
            "count": 21
           },
           {
            "bin_end": 0.982142857,
            "bin_start": 0.8839285713,
            "count": 2
           }
          ],
          "max": "0.982142857",
          "min": "0.0",
          "nan_count": 0,
          "unique_count": 355
         }
        },
        {
         "dtype": "int64",
         "name": "Telephone1",
         "stats": {
          "histogram": [
           {
            "bin_end": 0.1,
            "bin_start": 0,
            "count": 573
           },
           {
            "bin_end": 0.2,
            "bin_start": 0.1,
            "count": 0
           },
           {
            "bin_end": 0.30000000000000004,
            "bin_start": 0.2,
            "count": 0
           },
           {
            "bin_end": 0.4,
            "bin_start": 0.30000000000000004,
            "count": 0
           },
           {
            "bin_end": 0.5,
            "bin_start": 0.4,
            "count": 0
           },
           {
            "bin_end": 0.6000000000000001,
            "bin_start": 0.5,
            "count": 0
           },
           {
            "bin_end": 0.7000000000000001,
            "bin_start": 0.6000000000000001,
            "count": 0
           },
           {
            "bin_end": 0.8,
            "bin_start": 0.7000000000000001,
            "count": 0
           },
           {
            "bin_end": 0.9,
            "bin_start": 0.8,
            "count": 0
           },
           {
            "bin_end": 1,
            "bin_start": 0.9,
            "count": 377
           }
          ],
          "max": "1",
          "min": "0",
          "nan_count": 0,
          "unique_count": 2
         }
        },
        {
         "dtype": "int64",
         "name": "CreditScore",
         "stats": {
          "histogram": [
           {
            "bin_end": 0.1,
            "bin_start": 0,
            "count": 425
           },
           {
            "bin_end": 0.2,
            "bin_start": 0.1,
            "count": 0
           },
           {
            "bin_end": 0.30000000000000004,
            "bin_start": 0.2,
            "count": 0
           },
           {
            "bin_end": 0.4,
            "bin_start": 0.30000000000000004,
            "count": 0
           },
           {
            "bin_end": 0.5,
            "bin_start": 0.4,
            "count": 0
           },
           {
            "bin_end": 0.6000000000000001,
            "bin_start": 0.5,
            "count": 0
           },
           {
            "bin_end": 0.7000000000000001,
            "bin_start": 0.6000000000000001,
            "count": 0
           },
           {
            "bin_end": 0.8,
            "bin_start": 0.7000000000000001,
            "count": 0
           },
           {
            "bin_end": 0.9,
            "bin_start": 0.8,
            "count": 0
           },
           {
            "bin_end": 1,
            "bin_start": 0.9,
            "count": 525
           }
          ],
          "max": "1",
          "min": "0",
          "nan_count": 0,
          "unique_count": 2
         }
        },
        {
         "dtype": "int64",
         "name": "_deepnote_index_column"
        }
       ],
       "row_count": 950,
       "rows_bottom": [
        {
         "Age": 0.106488004,
         "CheckingAcctStat A11": 0,
         "CheckingAcctStat A12": 1,
         "CheckingAcctStat A13": 0,
         "CheckingAcctStat A14": 0,
         "CreditHistory A30": 0,
         "CreditHistory A31": 0,
         "CreditHistory A32": 1,
         "CreditHistory A33": 0,
         "CreditHistory A34": 0,
         "CreditScore": 1,
         "Duration": 0.085427547,
         "Employment A71": 1,
         "Employment A72": 0,
         "Employment A73": 0,
         "Employment A74": 0,
         "Employment A75": 0,
         "InstallmentRatePecnt": 0.144094595,
         "PresentResidenceTime": 0.302185725,
         "Property A121": 0,
         "Property A122": 1,
         "Property A123": 0,
         "Property A124": 0,
         "Purpose A40": 1,
         "Purpose A41": 0,
         "Purpose A410": 0,
         "Purpose A42": 0,
         "Purpose A43": 0,
         "Purpose A44": 0,
         "Purpose A45": 0,
         "Purpose A46": 0,
         "Purpose A48": 0,
         "Purpose A49": 0,
         "Savings A61": 0,
         "Savings A62": 0,
         "Savings A63": 0,
         "Savings A64": 0,
         "Savings A65": 1,
         "Telephone1": 1,
         "_deepnote_index_column": 937
        },
        {
         "Age": 0.512101157,
         "CheckingAcctStat A11": 1,
         "CheckingAcctStat A12": 0,
         "CheckingAcctStat A13": 0,
         "CheckingAcctStat A14": 0,
         "CreditHistory A30": 0,
         "CreditHistory A31": 1,
         "CreditHistory A32": 0,
         "CreditHistory A33": 0,
         "CreditHistory A34": 0,
         "CreditScore": 1,
         "Duration": 0.117647059,
         "Employment A71": 0,
         "Employment A72": 0,
         "Employment A73": 1,
         "Employment A74": 0,
         "Employment A75": 0,
         "InstallmentRatePecnt": 1,
         "PresentResidenceTime": 0.691625898,
         "Property A121": 0,
         "Property A122": 0,
         "Property A123": 1,
         "Property A124": 0,
         "Purpose A40": 1,
         "Purpose A41": 0,
         "Purpose A410": 0,
         "Purpose A42": 0,
         "Purpose A43": 0,
         "Purpose A44": 0,
         "Purpose A45": 0,
         "Purpose A46": 0,
         "Purpose A48": 0,
         "Purpose A49": 0,
         "Savings A61": 1,
         "Savings A62": 0,
         "Savings A63": 0,
         "Savings A64": 0,
         "Savings A65": 0,
         "Telephone1": 1,
         "_deepnote_index_column": 938
        },
        {
         "Age": 0.484560749,
         "CheckingAcctStat A11": 1,
         "CheckingAcctStat A12": 0,
         "CheckingAcctStat A13": 0,
         "CheckingAcctStat A14": 0,
         "CreditHistory A30": 0,
         "CreditHistory A31": 1,
         "CreditHistory A32": 0,
         "CreditHistory A33": 0,
         "CreditHistory A34": 0,
         "CreditScore": 1,
         "Duration": 0.117647059,
         "Employment A71": 0,
         "Employment A72": 1,
         "Employment A73": 0,
         "Employment A74": 0,
         "Employment A75": 0,
         "InstallmentRatePecnt": 1,
         "PresentResidenceTime": 0.395628549,
         "Property A121": 0,
         "Property A122": 0,
         "Property A123": 1,
         "Property A124": 0,
         "Purpose A40": 1,
         "Purpose A41": 0,
         "Purpose A410": 0,
         "Purpose A42": 0,
         "Purpose A43": 0,
         "Purpose A44": 0,
         "Purpose A45": 0,
         "Purpose A46": 0,
         "Purpose A48": 0,
         "Purpose A49": 0,
         "Savings A61": 1,
         "Savings A62": 0,
         "Savings A63": 0,
         "Savings A64": 0,
         "Savings A65": 0,
         "Telephone1": 1,
         "_deepnote_index_column": 939
        },
        {
         "Age": 0.575484936,
         "CheckingAcctStat A11": 1,
         "CheckingAcctStat A12": 0,
         "CheckingAcctStat A13": 0,
         "CheckingAcctStat A14": 0,
         "CreditHistory A30": 0,
         "CreditHistory A31": 0,
         "CreditHistory A32": 1,
         "CreditHistory A33": 0,
         "CreditHistory A34": 0,
         "CreditScore": 1,
         "Duration": 0.302852281,
         "Employment A71": 0,
         "Employment A72": 0,
         "Employment A73": 0,
         "Employment A74": 0,
         "Employment A75": 1,
         "InstallmentRatePecnt": 1,
         "PresentResidenceTime": 1,
         "Property A121": 0,
         "Property A122": 0,
         "Property A123": 0,
         "Property A124": 1,
         "Purpose A40": 1,
         "Purpose A41": 0,
         "Purpose A410": 0,
         "Purpose A42": 0,
         "Purpose A43": 0,
         "Purpose A44": 0,
         "Purpose A45": 0,
         "Purpose A46": 0,
         "Purpose A48": 0,
         "Purpose A49": 0,
         "Savings A61": 1,
         "Savings A62": 0,
         "Savings A63": 0,
         "Savings A64": 0,
         "Savings A65": 0,
         "Telephone1": 0,
         "_deepnote_index_column": 940
        },
        {
         "Age": 0.424012691,
         "CheckingAcctStat A11": 1,
         "CheckingAcctStat A12": 0,
         "CheckingAcctStat A13": 0,
         "CheckingAcctStat A14": 0,
         "CreditHistory A30": 0,
         "CreditHistory A31": 0,
         "CreditHistory A32": 1,
         "CreditHistory A33": 0,
         "CreditHistory A34": 0,
         "CreditScore": 1,
         "Duration": 0.310964132,
         "Employment A71": 0,
         "Employment A72": 0,
         "Employment A73": 0,
         "Employment A74": 0,
         "Employment A75": 1,
         "InstallmentRatePecnt": 1,
         "PresentResidenceTime": 1,
         "Property A121": 0,
         "Property A122": 0,
         "Property A123": 0,
         "Property A124": 1,
         "Purpose A40": 1,
         "Purpose A41": 0,
         "Purpose A410": 0,
         "Purpose A42": 0,
         "Purpose A43": 0,
         "Purpose A44": 0,
         "Purpose A45": 0,
         "Purpose A46": 0,
         "Purpose A48": 0,
         "Purpose A49": 0,
         "Savings A61": 1,
         "Savings A62": 0,
         "Savings A63": 0,
         "Savings A64": 0,
         "Savings A65": 0,
         "Telephone1": 0,
         "_deepnote_index_column": 941
        },
        {
         "Age": 0.04493745,
         "CheckingAcctStat A11": 0,
         "CheckingAcctStat A12": 0,
         "CheckingAcctStat A13": 0,
         "CheckingAcctStat A14": 1,
         "CreditHistory A30": 0,
         "CreditHistory A31": 0,
         "CreditHistory A32": 1,
         "CreditHistory A33": 0,
         "CreditHistory A34": 0,
         "CreditScore": 1,
         "Duration": 0.159581047,
         "Employment A71": 1,
         "Employment A72": 0,
         "Employment A73": 0,
         "Employment A74": 0,
         "Employment A75": 0,
         "InstallmentRatePecnt": 0.386120238,
         "PresentResidenceTime": 0.691625898,
         "Property A121": 1,
         "Property A122": 0,
         "Property A123": 0,
         "Property A124": 0,
         "Purpose A40": 0,
         "Purpose A41": 0,
         "Purpose A410": 0,
         "Purpose A42": 0,
         "Purpose A43": 1,
         "Purpose A44": 0,
         "Purpose A45": 0,
         "Purpose A46": 0,
         "Purpose A48": 0,
         "Purpose A49": 0,
         "Savings A61": 1,
         "Savings A62": 0,
         "Savings A63": 0,
         "Savings A64": 0,
         "Savings A65": 0,
         "Telephone1": 0,
         "_deepnote_index_column": 942
        },
        {
         "Age": 0.003626838,
         "CheckingAcctStat A11": 0,
         "CheckingAcctStat A12": 0,
         "CheckingAcctStat A13": 0,
         "CheckingAcctStat A14": 1,
         "CreditHistory A30": 0,
         "CreditHistory A31": 0,
         "CreditHistory A32": 1,
         "CreditHistory A33": 0,
         "CreditHistory A34": 0,
         "CreditScore": 1,
         "Duration": 0.157553085,
         "Employment A71": 0,
         "Employment A72": 1,
         "Employment A73": 0,
         "Employment A74": 0,
         "Employment A75": 0,
         "InstallmentRatePecnt": 0.477427928,
         "PresentResidenceTime": 0.395628549,
         "Property A121": 0,
         "Property A122": 0,
         "Property A123": 1,
         "Property A124": 0,
         "Purpose A40": 0,
         "Purpose A41": 0,
         "Purpose A410": 0,
         "Purpose A42": 0,
         "Purpose A43": 1,
         "Purpose A44": 0,
         "Purpose A45": 0,
         "Purpose A46": 0,
         "Purpose A48": 0,
         "Purpose A49": 0,
         "Savings A61": 1,
         "Savings A62": 0,
         "Savings A63": 0,
         "Savings A64": 0,
         "Savings A65": 0,
         "Telephone1": 0,
         "_deepnote_index_column": 943
        },
        {
         "Age": 0.136511971,
         "CheckingAcctStat A11": 0,
         "CheckingAcctStat A12": 1,
         "CheckingAcctStat A13": 0,
         "CheckingAcctStat A14": 0,
         "CreditHistory A30": 0,
         "CreditHistory A31": 0,
         "CreditHistory A32": 1,
         "CreditHistory A33": 0,
         "CreditHistory A34": 0,
         "CreditScore": 1,
         "Duration": 0.347118087,
         "Employment A71": 0,
         "Employment A72": 0,
         "Employment A73": 1,
         "Employment A74": 0,
         "Employment A75": 0,
         "InstallmentRatePecnt": 1,
         "PresentResidenceTime": 0.333333333,
         "Property A121": 0,
         "Property A122": 1,
         "Property A123": 0,
         "Property A124": 0,
         "Purpose A40": 0,
         "Purpose A41": 0,
         "Purpose A410": 0,
         "Purpose A42": 0,
         "Purpose A43": 0,
         "Purpose A44": 0,
         "Purpose A45": 0,
         "Purpose A46": 1,
         "Purpose A48": 0,
         "Purpose A49": 0,
         "Savings A61": 1,
         "Savings A62": 0,
         "Savings A63": 0,
         "Savings A64": 0,
         "Savings A65": 0,
         "Telephone1": 0,
         "_deepnote_index_column": 944
        },
        {
         "Age": 0.191592788,
         "CheckingAcctStat A11": 0,
         "CheckingAcctStat A12": 1,
         "CheckingAcctStat A13": 0,
         "CheckingAcctStat A14": 0,
         "CreditHistory A30": 0,
         "CreditHistory A31": 0,
         "CreditHistory A32": 1,
         "CreditHistory A33": 0,
         "CreditHistory A34": 0,
         "CreditScore": 1,
         "Duration": 0.341710187,
         "Employment A71": 0,
         "Employment A72": 0,
         "Employment A73": 1,
         "Employment A74": 0,
         "Employment A75": 0,
         "InstallmentRatePecnt": 1,
         "PresentResidenceTime": 0.333333333,
         "Property A121": 0,
         "Property A122": 0,
         "Property A123": 1,
         "Property A124": 0,
         "Purpose A40": 0,
         "Purpose A41": 0,
         "Purpose A410": 0,
         "Purpose A42": 0,
         "Purpose A43": 0,
         "Purpose A44": 0,
         "Purpose A45": 0,
         "Purpose A46": 1,
         "Purpose A48": 0,
         "Purpose A49": 0,
         "Savings A61": 1,
         "Savings A62": 0,
         "Savings A63": 0,
         "Savings A64": 0,
         "Savings A65": 0,
         "Telephone1": 0,
         "_deepnote_index_column": 945
        },
        {
         "Age": 0.717820829,
         "CheckingAcctStat A11": 1,
         "CheckingAcctStat A12": 0,
         "CheckingAcctStat A13": 0,
         "CheckingAcctStat A14": 0,
         "CreditHistory A30": 0,
         "CreditHistory A31": 1,
         "CreditHistory A32": 0,
         "CreditHistory A33": 0,
         "CreditHistory A34": 0,
         "CreditScore": 1,
         "Duration": 0.175014816,
         "Employment A71": 0,
         "Employment A72": 0,
         "Employment A73": 1,
         "Employment A74": 0,
         "Employment A75": 0,
         "InstallmentRatePecnt": 1,
         "PresentResidenceTime": 0.179146282,
         "Property A121": 0,
         "Property A122": 0,
         "Property A123": 1,
         "Property A124": 0,
         "Purpose A40": 0,
         "Purpose A41": 0,
         "Purpose A410": 0,
         "Purpose A42": 0,
         "Purpose A43": 0,
         "Purpose A44": 1,
         "Purpose A45": 0,
         "Purpose A46": 0,
         "Purpose A48": 0,
         "Purpose A49": 0,
         "Savings A61": 1,
         "Savings A62": 0,
         "Savings A63": 0,
         "Savings A64": 0,
         "Savings A65": 0,
         "Telephone1": 0,
         "_deepnote_index_column": 946
        },
        {
         "Age": 0.222093483,
         "CheckingAcctStat A11": 1,
         "CheckingAcctStat A12": 0,
         "CheckingAcctStat A13": 0,
         "CheckingAcctStat A14": 0,
         "CreditHistory A30": 0,
         "CreditHistory A31": 0,
         "CreditHistory A32": 0,
         "CreditHistory A33": 0,
         "CreditHistory A34": 1,
         "CreditScore": 1,
         "Duration": 0.173662841,
         "Employment A71": 0,
         "Employment A72": 0,
         "Employment A73": 1,
         "Employment A74": 0,
         "Employment A75": 0,
         "InstallmentRatePecnt": 1,
         "PresentResidenceTime": 0.093442824,
         "Property A121": 0,
         "Property A122": 0,
         "Property A123": 0,
         "Property A124": 1,
         "Purpose A40": 0,
         "Purpose A41": 0,
         "Purpose A410": 0,
         "Purpose A42": 0,
         "Purpose A43": 0,
         "Purpose A44": 1,
         "Purpose A45": 0,
         "Purpose A46": 0,
         "Purpose A48": 0,
         "Purpose A49": 0,
         "Savings A61": 1,
         "Savings A62": 0,
         "Savings A63": 0,
         "Savings A64": 0,
         "Savings A65": 0,
         "Telephone1": 0,
         "_deepnote_index_column": 947
        },
        {
         "Age": 0.068550579,
         "CheckingAcctStat A11": 1,
         "CheckingAcctStat A12": 0,
         "CheckingAcctStat A13": 0,
         "CheckingAcctStat A14": 0,
         "CreditHistory A30": 0,
         "CreditHistory A31": 0,
         "CreditHistory A32": 1,
         "CreditHistory A33": 0,
         "CreditHistory A34": 0,
         "CreditScore": 1,
         "Duration": 0.060279302,
         "Employment A71": 0,
         "Employment A72": 1,
         "Employment A73": 0,
         "Employment A74": 0,
         "Employment A75": 0,
         "InstallmentRatePecnt": 1,
         "PresentResidenceTime": 0.487520384,
         "Property A121": 0,
         "Property A122": 1,
         "Property A123": 0,
         "Property A124": 0,
         "Purpose A40": 0,
         "Purpose A41": 0,
         "Purpose A410": 0,
         "Purpose A42": 0,
         "Purpose A43": 0,
         "Purpose A44": 0,
         "Purpose A45": 1,
         "Purpose A46": 0,
         "Purpose A48": 0,
         "Purpose A49": 0,
         "Savings A61": 0,
         "Savings A62": 1,
         "Savings A63": 0,
         "Savings A64": 0,
         "Savings A65": 0,
         "Telephone1": 0,
         "_deepnote_index_column": 948
        },
        {
         "Age": 0.054780375,
         "CheckingAcctStat A11": 1,
         "CheckingAcctStat A12": 0,
         "CheckingAcctStat A13": 0,
         "CheckingAcctStat A14": 0,
         "CreditHistory A30": 0,
         "CreditHistory A31": 0,
         "CreditHistory A32": 1,
         "CreditHistory A33": 0,
         "CreditHistory A34": 0,
         "CreditScore": 1,
         "Duration": 0.061631277,
         "Employment A71": 1,
         "Employment A72": 0,
         "Employment A73": 0,
         "Employment A74": 0,
         "Employment A75": 0,
         "InstallmentRatePecnt": 1,
         "PresentResidenceTime": 0.697814275,
         "Property A121": 0,
         "Property A122": 1,
         "Property A123": 0,
         "Property A124": 0,
         "Purpose A40": 0,
         "Purpose A41": 0,
         "Purpose A410": 0,
         "Purpose A42": 0,
         "Purpose A43": 0,
         "Purpose A44": 0,
         "Purpose A45": 1,
         "Purpose A46": 0,
         "Purpose A48": 0,
         "Purpose A49": 0,
         "Savings A61": 0,
         "Savings A62": 1,
         "Savings A63": 0,
         "Savings A64": 0,
         "Savings A65": 0,
         "Telephone1": 0,
         "_deepnote_index_column": 949
        }
       ],
       "rows_top": [
        {
         "Age": 0.089285714,
         "CheckingAcctStat A11": 1,
         "CheckingAcctStat A12": 0,
         "CheckingAcctStat A13": 0,
         "CheckingAcctStat A14": 0,
         "CreditHistory A30": 0,
         "CreditHistory A31": 0,
         "CreditHistory A32": 1,
         "CreditHistory A33": 0,
         "CreditHistory A34": 0,
         "CreditScore": 1,
         "Duration": 0.205882353,
         "Employment A71": 0,
         "Employment A72": 0,
         "Employment A73": 1,
         "Employment A74": 0,
         "Employment A75": 0,
         "InstallmentRatePecnt": 0.333333333,
         "PresentResidenceTime": 0.333333333,
         "Property A121": 1,
         "Property A122": 0,
         "Property A123": 0,
         "Property A124": 0,
         "Purpose A40": 0,
         "Purpose A41": 0,
         "Purpose A410": 0,
         "Purpose A42": 0,
         "Purpose A43": 0,
         "Purpose A44": 1,
         "Purpose A45": 0,
         "Purpose A46": 0,
         "Purpose A48": 0,
         "Purpose A49": 0,
         "Savings A61": 1,
         "Savings A62": 0,
         "Savings A63": 0,
         "Savings A64": 0,
         "Savings A65": 0,
         "Telephone1": 0,
         "_deepnote_index_column": 0
        },
        {
         "Age": 0.125,
         "CheckingAcctStat A11": 0,
         "CheckingAcctStat A12": 0,
         "CheckingAcctStat A13": 0,
         "CheckingAcctStat A14": 1,
         "CreditHistory A30": 0,
         "CreditHistory A31": 0,
         "CreditHistory A32": 1,
         "CreditHistory A33": 0,
         "CreditHistory A34": 0,
         "CreditScore": 0,
         "Duration": 0.294117647,
         "Employment A71": 0,
         "Employment A72": 0,
         "Employment A73": 0,
         "Employment A74": 1,
         "Employment A75": 0,
         "InstallmentRatePecnt": 1,
         "PresentResidenceTime": 0.666666667,
         "Property A121": 0,
         "Property A122": 1,
         "Property A123": 0,
         "Property A124": 0,
         "Purpose A40": 0,
         "Purpose A41": 0,
         "Purpose A410": 0,
         "Purpose A42": 0,
         "Purpose A43": 0,
         "Purpose A44": 1,
         "Purpose A45": 0,
         "Purpose A46": 0,
         "Purpose A48": 0,
         "Purpose A49": 0,
         "Savings A61": 0,
         "Savings A62": 1,
         "Savings A63": 0,
         "Savings A64": 0,
         "Savings A65": 0,
         "Telephone1": 1,
         "_deepnote_index_column": 1
        },
        {
         "Age": 0.232142857,
         "CheckingAcctStat A11": 0,
         "CheckingAcctStat A12": 0,
         "CheckingAcctStat A13": 0,
         "CheckingAcctStat A14": 1,
         "CreditHistory A30": 0,
         "CreditHistory A31": 0,
         "CreditHistory A32": 1,
         "CreditHistory A33": 0,
         "CreditHistory A34": 0,
         "CreditScore": 0,
         "Duration": 0.205882353,
         "Employment A71": 0,
         "Employment A72": 0,
         "Employment A73": 1,
         "Employment A74": 0,
         "Employment A75": 0,
         "InstallmentRatePecnt": 1,
         "PresentResidenceTime": 0.333333333,
         "Property A121": 0,
         "Property A122": 0,
         "Property A123": 0,
         "Property A124": 1,
         "Purpose A40": 0,
         "Purpose A41": 0,
         "Purpose A410": 0,
         "Purpose A42": 0,
         "Purpose A43": 0,
         "Purpose A44": 1,
         "Purpose A45": 0,
         "Purpose A46": 0,
         "Purpose A48": 0,
         "Purpose A49": 0,
         "Savings A61": 1,
         "Savings A62": 0,
         "Savings A63": 0,
         "Savings A64": 0,
         "Savings A65": 0,
         "Telephone1": 1,
         "_deepnote_index_column": 2
        },
        {
         "Age": 0.214285714,
         "CheckingAcctStat A11": 1,
         "CheckingAcctStat A12": 0,
         "CheckingAcctStat A13": 0,
         "CheckingAcctStat A14": 0,
         "CreditHistory A30": 0,
         "CreditHistory A31": 0,
         "CreditHistory A32": 1,
         "CreditHistory A33": 0,
         "CreditHistory A34": 0,
         "CreditScore": 1,
         "Duration": 0.647058824,
         "Employment A71": 0,
         "Employment A72": 0,
         "Employment A73": 1,
         "Employment A74": 0,
         "Employment A75": 0,
         "InstallmentRatePecnt": 0.666666667,
         "PresentResidenceTime": 0.333333333,
         "Property A121": 0,
         "Property A122": 0,
         "Property A123": 1,
         "Property A124": 0,
         "Purpose A40": 0,
         "Purpose A41": 0,
         "Purpose A410": 0,
         "Purpose A42": 0,
         "Purpose A43": 0,
         "Purpose A44": 1,
         "Purpose A45": 0,
         "Purpose A46": 0,
         "Purpose A48": 0,
         "Purpose A49": 0,
         "Savings A61": 1,
         "Savings A62": 0,
         "Savings A63": 0,
         "Savings A64": 0,
         "Savings A65": 0,
         "Telephone1": 1,
         "_deepnote_index_column": 3
        },
        {
         "Age": 0.178571429,
         "CheckingAcctStat A11": 0,
         "CheckingAcctStat A12": 0,
         "CheckingAcctStat A13": 1,
         "CheckingAcctStat A14": 0,
         "CreditHistory A30": 0,
         "CreditHistory A31": 0,
         "CreditHistory A32": 0,
         "CreditHistory A33": 1,
         "CreditHistory A34": 0,
         "CreditScore": 0,
         "Duration": 0.029411765,
         "Employment A71": 0,
         "Employment A72": 1,
         "Employment A73": 0,
         "Employment A74": 0,
         "Employment A75": 0,
         "InstallmentRatePecnt": 0.333333333,
         "PresentResidenceTime": 0,
         "Property A121": 0,
         "Property A122": 1,
         "Property A123": 0,
         "Property A124": 0,
         "Purpose A40": 0,
         "Purpose A41": 0,
         "Purpose A410": 0,
         "Purpose A42": 0,
         "Purpose A43": 0,
         "Purpose A44": 1,
         "Purpose A45": 0,
         "Purpose A46": 0,
         "Purpose A48": 0,
         "Purpose A49": 0,
         "Savings A61": 1,
         "Savings A62": 0,
         "Savings A63": 0,
         "Savings A64": 0,
         "Savings A65": 0,
         "Telephone1": 0,
         "_deepnote_index_column": 4
        },
        {
         "Age": 0.446428571,
         "CheckingAcctStat A11": 1,
         "CheckingAcctStat A12": 0,
         "CheckingAcctStat A13": 0,
         "CheckingAcctStat A14": 0,
         "CreditHistory A30": 0,
         "CreditHistory A31": 0,
         "CreditHistory A32": 1,
         "CreditHistory A33": 0,
         "CreditHistory A34": 0,
         "CreditScore": 0,
         "Duration": 0.029411765,
         "Employment A71": 0,
         "Employment A72": 0,
         "Employment A73": 1,
         "Employment A74": 0,
         "Employment A75": 0,
         "InstallmentRatePecnt": 0.333333333,
         "PresentResidenceTime": 0.666666667,
         "Property A121": 1,
         "Property A122": 0,
         "Property A123": 0,
         "Property A124": 0,
         "Purpose A40": 0,
         "Purpose A41": 0,
         "Purpose A410": 0,
         "Purpose A42": 0,
         "Purpose A43": 0,
         "Purpose A44": 1,
         "Purpose A45": 0,
         "Purpose A46": 0,
         "Purpose A48": 0,
         "Purpose A49": 0,
         "Savings A61": 0,
         "Savings A62": 0,
         "Savings A63": 1,
         "Savings A64": 0,
         "Savings A65": 0,
         "Telephone1": 0,
         "_deepnote_index_column": 5
        },
        {
         "Age": 0.196428571,
         "CheckingAcctStat A11": 0,
         "CheckingAcctStat A12": 0,
         "CheckingAcctStat A13": 0,
         "CheckingAcctStat A14": 1,
         "CreditHistory A30": 0,
         "CreditHistory A31": 0,
         "CreditHistory A32": 0,
         "CreditHistory A33": 0,
         "CreditHistory A34": 1,
         "CreditScore": 1,
         "Duration": 0.205882353,
         "Employment A71": 0,
         "Employment A72": 0,
         "Employment A73": 1,
         "Employment A74": 0,
         "Employment A75": 0,
         "InstallmentRatePecnt": 1,
         "PresentResidenceTime": 0.333333333,
         "Property A121": 1,
         "Property A122": 0,
         "Property A123": 0,
         "Property A124": 0,
         "Purpose A40": 0,
         "Purpose A41": 0,
         "Purpose A410": 0,
         "Purpose A42": 0,
         "Purpose A43": 0,
         "Purpose A44": 0,
         "Purpose A45": 0,
         "Purpose A46": 0,
         "Purpose A48": 1,
         "Purpose A49": 0,
         "Savings A61": 0,
         "Savings A62": 1,
         "Savings A63": 0,
         "Savings A64": 0,
         "Savings A65": 0,
         "Telephone1": 0,
         "_deepnote_index_column": 6
        },
        {
         "Age": 0.035714286,
         "CheckingAcctStat A11": 1,
         "CheckingAcctStat A12": 0,
         "CheckingAcctStat A13": 0,
         "CheckingAcctStat A14": 0,
         "CreditHistory A30": 0,
         "CreditHistory A31": 0,
         "CreditHistory A32": 1,
         "CreditHistory A33": 0,
         "CreditHistory A34": 0,
         "CreditScore": 1,
         "Duration": 0.117647059,
         "Employment A71": 0,
         "Employment A72": 0,
         "Employment A73": 0,
         "Employment A74": 1,
         "Employment A75": 0,
         "InstallmentRatePecnt": 1,
         "PresentResidenceTime": 1,
         "Property A121": 0,
         "Property A122": 1,
         "Property A123": 0,
         "Property A124": 0,
         "Purpose A40": 0,
         "Purpose A41": 0,
         "Purpose A410": 0,
         "Purpose A42": 0,
         "Purpose A43": 0,
         "Purpose A44": 0,
         "Purpose A45": 0,
         "Purpose A46": 0,
         "Purpose A48": 0,
         "Purpose A49": 1,
         "Savings A61": 1,
         "Savings A62": 0,
         "Savings A63": 0,
         "Savings A64": 0,
         "Savings A65": 0,
         "Telephone1": 0,
         "_deepnote_index_column": 7
        },
        {
         "Age": 0.357142857,
         "CheckingAcctStat A11": 1,
         "CheckingAcctStat A12": 0,
         "CheckingAcctStat A13": 0,
         "CheckingAcctStat A14": 0,
         "CreditHistory A30": 0,
         "CreditHistory A31": 0,
         "CreditHistory A32": 0,
         "CreditHistory A33": 0,
         "CreditHistory A34": 1,
         "CreditScore": 0,
         "Duration": 0.029411765,
         "Employment A71": 0,
         "Employment A72": 0,
         "Employment A73": 0,
         "Employment A74": 1,
         "Employment A75": 0,
         "InstallmentRatePecnt": 0.666666667,
         "PresentResidenceTime": 1,
         "Property A121": 1,
         "Property A122": 0,
         "Property A123": 0,
         "Property A124": 0,
         "Purpose A40": 1,
         "Purpose A41": 0,
         "Purpose A410": 0,
         "Purpose A42": 0,
         "Purpose A43": 0,
         "Purpose A44": 0,
         "Purpose A45": 0,
         "Purpose A46": 0,
         "Purpose A48": 0,
         "Purpose A49": 0,
         "Savings A61": 0,
         "Savings A62": 0,
         "Savings A63": 0,
         "Savings A64": 1,
         "Savings A65": 0,
         "Telephone1": 1,
         "_deepnote_index_column": 8
        },
        {
         "Age": 0.017857143,
         "CheckingAcctStat A11": 0,
         "CheckingAcctStat A12": 0,
         "CheckingAcctStat A13": 0,
         "CheckingAcctStat A14": 1,
         "CreditHistory A30": 0,
         "CreditHistory A31": 0,
         "CreditHistory A32": 1,
         "CreditHistory A33": 0,
         "CreditHistory A34": 0,
         "CreditScore": 0,
         "Duration": 0.161764706,
         "Employment A71": 0,
         "Employment A72": 0,
         "Employment A73": 1,
         "Employment A74": 0,
         "Employment A75": 0,
         "InstallmentRatePecnt": 0.333333333,
         "PresentResidenceTime": 1,
         "Property A121": 0,
         "Property A122": 0,
         "Property A123": 1,
         "Property A124": 0,
         "Purpose A40": 0,
         "Purpose A41": 0,
         "Purpose A410": 0,
         "Purpose A42": 0,
         "Purpose A43": 1,
         "Purpose A44": 0,
         "Purpose A45": 0,
         "Purpose A46": 0,
         "Purpose A48": 0,
         "Purpose A49": 0,
         "Savings A61": 0,
         "Savings A62": 0,
         "Savings A63": 1,
         "Savings A64": 0,
         "Savings A65": 0,
         "Telephone1": 0,
         "_deepnote_index_column": 9
        },
        {
         "Age": 0.303571429,
         "CheckingAcctStat A11": 0,
         "CheckingAcctStat A12": 0,
         "CheckingAcctStat A13": 0,
         "CheckingAcctStat A14": 1,
         "CreditHistory A30": 0,
         "CreditHistory A31": 0,
         "CreditHistory A32": 1,
         "CreditHistory A33": 0,
         "CreditHistory A34": 0,
         "CreditScore": 0,
         "Duration": 0.470588235,
         "Employment A71": 0,
         "Employment A72": 0,
         "Employment A73": 0,
         "Employment A74": 0,
         "Employment A75": 1,
         "InstallmentRatePecnt": 1,
         "PresentResidenceTime": 1,
         "Property A121": 0,
         "Property A122": 1,
         "Property A123": 0,
         "Property A124": 0,
         "Purpose A40": 1,
         "Purpose A41": 0,
         "Purpose A410": 0,
         "Purpose A42": 0,
         "Purpose A43": 0,
         "Purpose A44": 0,
         "Purpose A45": 0,
         "Purpose A46": 0,
         "Purpose A48": 0,
         "Purpose A49": 0,
         "Savings A61": 0,
         "Savings A62": 0,
         "Savings A63": 1,
         "Savings A64": 0,
         "Savings A65": 0,
         "Telephone1": 0,
         "_deepnote_index_column": 10
        },
        {
         "Age": 0.339285714,
         "CheckingAcctStat A11": 0,
         "CheckingAcctStat A12": 1,
         "CheckingAcctStat A13": 0,
         "CheckingAcctStat A14": 0,
         "CreditHistory A30": 0,
         "CreditHistory A31": 0,
         "CreditHistory A32": 0,
         "CreditHistory A33": 0,
         "CreditHistory A34": 1,
         "CreditScore": 1,
         "Duration": 0.294117647,
         "Employment A71": 0,
         "Employment A72": 1,
         "Employment A73": 0,
         "Employment A74": 0,
         "Employment A75": 0,
         "InstallmentRatePecnt": 1,
         "PresentResidenceTime": 1,
         "Property A121": 0,
         "Property A122": 0,
         "Property A123": 0,
         "Property A124": 1,
         "Purpose A40": 0,
         "Purpose A41": 0,
         "Purpose A410": 0,
         "Purpose A42": 0,
         "Purpose A43": 0,
         "Purpose A44": 1,
         "Purpose A45": 0,
         "Purpose A46": 0,
         "Purpose A48": 0,
         "Purpose A49": 0,
         "Savings A61": 0,
         "Savings A62": 1,
         "Savings A63": 0,
         "Savings A64": 0,
         "Savings A65": 0,
         "Telephone1": 0,
         "_deepnote_index_column": 11
        }
       ]
      },
      "text/html": [
       "<div>\n",
       "<style scoped>\n",
       "    .dataframe tbody tr th:only-of-type {\n",
       "        vertical-align: middle;\n",
       "    }\n",
       "\n",
       "    .dataframe tbody tr th {\n",
       "        vertical-align: top;\n",
       "    }\n",
       "\n",
       "    .dataframe thead th {\n",
       "        text-align: right;\n",
       "    }\n",
       "</style>\n",
       "<table border=\"1\" class=\"dataframe\">\n",
       "  <thead>\n",
       "    <tr style=\"text-align: right;\">\n",
       "      <th></th>\n",
       "      <th>CheckingAcctStat A11</th>\n",
       "      <th>CheckingAcctStat A12</th>\n",
       "      <th>CheckingAcctStat A13</th>\n",
       "      <th>CheckingAcctStat A14</th>\n",
       "      <th>Duration</th>\n",
       "      <th>CreditHistory A30</th>\n",
       "      <th>CreditHistory A31</th>\n",
       "      <th>CreditHistory A32</th>\n",
       "      <th>CreditHistory A33</th>\n",
       "      <th>CreditHistory A34</th>\n",
       "      <th>...</th>\n",
       "      <th>Employment A75</th>\n",
       "      <th>InstallmentRatePecnt</th>\n",
       "      <th>PresentResidenceTime</th>\n",
       "      <th>Property A121</th>\n",
       "      <th>Property A122</th>\n",
       "      <th>Property A123</th>\n",
       "      <th>Property A124</th>\n",
       "      <th>Age</th>\n",
       "      <th>Telephone1</th>\n",
       "      <th>CreditScore</th>\n",
       "    </tr>\n",
       "  </thead>\n",
       "  <tbody>\n",
       "    <tr>\n",
       "      <th>0</th>\n",
       "      <td>1</td>\n",
       "      <td>0</td>\n",
       "      <td>0</td>\n",
       "      <td>0</td>\n",
       "      <td>0.205882</td>\n",
       "      <td>0</td>\n",
       "      <td>0</td>\n",
       "      <td>1</td>\n",
       "      <td>0</td>\n",
       "      <td>0</td>\n",
       "      <td>...</td>\n",
       "      <td>0</td>\n",
       "      <td>0.333333</td>\n",
       "      <td>0.333333</td>\n",
       "      <td>1</td>\n",
       "      <td>0</td>\n",
       "      <td>0</td>\n",
       "      <td>0</td>\n",
       "      <td>0.089286</td>\n",
       "      <td>0</td>\n",
       "      <td>1</td>\n",
       "    </tr>\n",
       "    <tr>\n",
       "      <th>1</th>\n",
       "      <td>0</td>\n",
       "      <td>0</td>\n",
       "      <td>0</td>\n",
       "      <td>1</td>\n",
       "      <td>0.294118</td>\n",
       "      <td>0</td>\n",
       "      <td>0</td>\n",
       "      <td>1</td>\n",
       "      <td>0</td>\n",
       "      <td>0</td>\n",
       "      <td>...</td>\n",
       "      <td>0</td>\n",
       "      <td>1.000000</td>\n",
       "      <td>0.666667</td>\n",
       "      <td>0</td>\n",
       "      <td>1</td>\n",
       "      <td>0</td>\n",
       "      <td>0</td>\n",
       "      <td>0.125000</td>\n",
       "      <td>1</td>\n",
       "      <td>0</td>\n",
       "    </tr>\n",
       "    <tr>\n",
       "      <th>2</th>\n",
       "      <td>0</td>\n",
       "      <td>0</td>\n",
       "      <td>0</td>\n",
       "      <td>1</td>\n",
       "      <td>0.205882</td>\n",
       "      <td>0</td>\n",
       "      <td>0</td>\n",
       "      <td>1</td>\n",
       "      <td>0</td>\n",
       "      <td>0</td>\n",
       "      <td>...</td>\n",
       "      <td>0</td>\n",
       "      <td>1.000000</td>\n",
       "      <td>0.333333</td>\n",
       "      <td>0</td>\n",
       "      <td>0</td>\n",
       "      <td>0</td>\n",
       "      <td>1</td>\n",
       "      <td>0.232143</td>\n",
       "      <td>1</td>\n",
       "      <td>0</td>\n",
       "    </tr>\n",
       "    <tr>\n",
       "      <th>3</th>\n",
       "      <td>1</td>\n",
       "      <td>0</td>\n",
       "      <td>0</td>\n",
       "      <td>0</td>\n",
       "      <td>0.647059</td>\n",
       "      <td>0</td>\n",
       "      <td>0</td>\n",
       "      <td>1</td>\n",
       "      <td>0</td>\n",
       "      <td>0</td>\n",
       "      <td>...</td>\n",
       "      <td>0</td>\n",
       "      <td>0.666667</td>\n",
       "      <td>0.333333</td>\n",
       "      <td>0</td>\n",
       "      <td>0</td>\n",
       "      <td>1</td>\n",
       "      <td>0</td>\n",
       "      <td>0.214286</td>\n",
       "      <td>1</td>\n",
       "      <td>1</td>\n",
       "    </tr>\n",
       "    <tr>\n",
       "      <th>4</th>\n",
       "      <td>0</td>\n",
       "      <td>0</td>\n",
       "      <td>1</td>\n",
       "      <td>0</td>\n",
       "      <td>0.029412</td>\n",
       "      <td>0</td>\n",
       "      <td>0</td>\n",
       "      <td>0</td>\n",
       "      <td>1</td>\n",
       "      <td>0</td>\n",
       "      <td>...</td>\n",
       "      <td>0</td>\n",
       "      <td>0.333333</td>\n",
       "      <td>0.000000</td>\n",
       "      <td>0</td>\n",
       "      <td>1</td>\n",
       "      <td>0</td>\n",
       "      <td>0</td>\n",
       "      <td>0.178571</td>\n",
       "      <td>0</td>\n",
       "      <td>0</td>\n",
       "    </tr>\n",
       "    <tr>\n",
       "      <th>...</th>\n",
       "      <td>...</td>\n",
       "      <td>...</td>\n",
       "      <td>...</td>\n",
       "      <td>...</td>\n",
       "      <td>...</td>\n",
       "      <td>...</td>\n",
       "      <td>...</td>\n",
       "      <td>...</td>\n",
       "      <td>...</td>\n",
       "      <td>...</td>\n",
       "      <td>...</td>\n",
       "      <td>...</td>\n",
       "      <td>...</td>\n",
       "      <td>...</td>\n",
       "      <td>...</td>\n",
       "      <td>...</td>\n",
       "      <td>...</td>\n",
       "      <td>...</td>\n",
       "      <td>...</td>\n",
       "      <td>...</td>\n",
       "      <td>...</td>\n",
       "    </tr>\n",
       "    <tr>\n",
       "      <th>945</th>\n",
       "      <td>0</td>\n",
       "      <td>1</td>\n",
       "      <td>0</td>\n",
       "      <td>0</td>\n",
       "      <td>0.341710</td>\n",
       "      <td>0</td>\n",
       "      <td>0</td>\n",
       "      <td>1</td>\n",
       "      <td>0</td>\n",
       "      <td>0</td>\n",
       "      <td>...</td>\n",
       "      <td>0</td>\n",
       "      <td>1.000000</td>\n",
       "      <td>0.333333</td>\n",
       "      <td>0</td>\n",
       "      <td>0</td>\n",
       "      <td>1</td>\n",
       "      <td>0</td>\n",
       "      <td>0.191593</td>\n",
       "      <td>0</td>\n",
       "      <td>1</td>\n",
       "    </tr>\n",
       "    <tr>\n",
       "      <th>946</th>\n",
       "      <td>1</td>\n",
       "      <td>0</td>\n",
       "      <td>0</td>\n",
       "      <td>0</td>\n",
       "      <td>0.175015</td>\n",
       "      <td>0</td>\n",
       "      <td>1</td>\n",
       "      <td>0</td>\n",
       "      <td>0</td>\n",
       "      <td>0</td>\n",
       "      <td>...</td>\n",
       "      <td>0</td>\n",
       "      <td>1.000000</td>\n",
       "      <td>0.179146</td>\n",
       "      <td>0</td>\n",
       "      <td>0</td>\n",
       "      <td>1</td>\n",
       "      <td>0</td>\n",
       "      <td>0.717821</td>\n",
       "      <td>0</td>\n",
       "      <td>1</td>\n",
       "    </tr>\n",
       "    <tr>\n",
       "      <th>947</th>\n",
       "      <td>1</td>\n",
       "      <td>0</td>\n",
       "      <td>0</td>\n",
       "      <td>0</td>\n",
       "      <td>0.173663</td>\n",
       "      <td>0</td>\n",
       "      <td>0</td>\n",
       "      <td>0</td>\n",
       "      <td>0</td>\n",
       "      <td>1</td>\n",
       "      <td>...</td>\n",
       "      <td>0</td>\n",
       "      <td>1.000000</td>\n",
       "      <td>0.093443</td>\n",
       "      <td>0</td>\n",
       "      <td>0</td>\n",
       "      <td>0</td>\n",
       "      <td>1</td>\n",
       "      <td>0.222093</td>\n",
       "      <td>0</td>\n",
       "      <td>1</td>\n",
       "    </tr>\n",
       "    <tr>\n",
       "      <th>948</th>\n",
       "      <td>1</td>\n",
       "      <td>0</td>\n",
       "      <td>0</td>\n",
       "      <td>0</td>\n",
       "      <td>0.060279</td>\n",
       "      <td>0</td>\n",
       "      <td>0</td>\n",
       "      <td>1</td>\n",
       "      <td>0</td>\n",
       "      <td>0</td>\n",
       "      <td>...</td>\n",
       "      <td>0</td>\n",
       "      <td>1.000000</td>\n",
       "      <td>0.487520</td>\n",
       "      <td>0</td>\n",
       "      <td>1</td>\n",
       "      <td>0</td>\n",
       "      <td>0</td>\n",
       "      <td>0.068551</td>\n",
       "      <td>0</td>\n",
       "      <td>1</td>\n",
       "    </tr>\n",
       "    <tr>\n",
       "      <th>949</th>\n",
       "      <td>1</td>\n",
       "      <td>0</td>\n",
       "      <td>0</td>\n",
       "      <td>0</td>\n",
       "      <td>0.061631</td>\n",
       "      <td>0</td>\n",
       "      <td>0</td>\n",
       "      <td>1</td>\n",
       "      <td>0</td>\n",
       "      <td>0</td>\n",
       "      <td>...</td>\n",
       "      <td>0</td>\n",
       "      <td>1.000000</td>\n",
       "      <td>0.697814</td>\n",
       "      <td>0</td>\n",
       "      <td>1</td>\n",
       "      <td>0</td>\n",
       "      <td>0</td>\n",
       "      <td>0.054780</td>\n",
       "      <td>0</td>\n",
       "      <td>1</td>\n",
       "    </tr>\n",
       "  </tbody>\n",
       "</table>\n",
       "<p>950 rows × 39 columns</p>\n",
       "</div>"
      ],
      "text/plain": [
       "     CheckingAcctStat A11  CheckingAcctStat A12  CheckingAcctStat A13  \\\n",
       "0                       1                     0                     0   \n",
       "1                       0                     0                     0   \n",
       "2                       0                     0                     0   \n",
       "3                       1                     0                     0   \n",
       "4                       0                     0                     1   \n",
       "..                    ...                   ...                   ...   \n",
       "945                     0                     1                     0   \n",
       "946                     1                     0                     0   \n",
       "947                     1                     0                     0   \n",
       "948                     1                     0                     0   \n",
       "949                     1                     0                     0   \n",
       "\n",
       "     CheckingAcctStat A14  Duration  CreditHistory A30  CreditHistory A31  \\\n",
       "0                       0  0.205882                  0                  0   \n",
       "1                       1  0.294118                  0                  0   \n",
       "2                       1  0.205882                  0                  0   \n",
       "3                       0  0.647059                  0                  0   \n",
       "4                       0  0.029412                  0                  0   \n",
       "..                    ...       ...                ...                ...   \n",
       "945                     0  0.341710                  0                  0   \n",
       "946                     0  0.175015                  0                  1   \n",
       "947                     0  0.173663                  0                  0   \n",
       "948                     0  0.060279                  0                  0   \n",
       "949                     0  0.061631                  0                  0   \n",
       "\n",
       "     CreditHistory A32  CreditHistory A33  CreditHistory A34  ...  \\\n",
       "0                    1                  0                  0  ...   \n",
       "1                    1                  0                  0  ...   \n",
       "2                    1                  0                  0  ...   \n",
       "3                    1                  0                  0  ...   \n",
       "4                    0                  1                  0  ...   \n",
       "..                 ...                ...                ...  ...   \n",
       "945                  1                  0                  0  ...   \n",
       "946                  0                  0                  0  ...   \n",
       "947                  0                  0                  1  ...   \n",
       "948                  1                  0                  0  ...   \n",
       "949                  1                  0                  0  ...   \n",
       "\n",
       "     Employment A75  InstallmentRatePecnt  PresentResidenceTime  \\\n",
       "0                 0              0.333333              0.333333   \n",
       "1                 0              1.000000              0.666667   \n",
       "2                 0              1.000000              0.333333   \n",
       "3                 0              0.666667              0.333333   \n",
       "4                 0              0.333333              0.000000   \n",
       "..              ...                   ...                   ...   \n",
       "945               0              1.000000              0.333333   \n",
       "946               0              1.000000              0.179146   \n",
       "947               0              1.000000              0.093443   \n",
       "948               0              1.000000              0.487520   \n",
       "949               0              1.000000              0.697814   \n",
       "\n",
       "     Property A121  Property A122  Property A123  Property A124       Age  \\\n",
       "0                1              0              0              0  0.089286   \n",
       "1                0              1              0              0  0.125000   \n",
       "2                0              0              0              1  0.232143   \n",
       "3                0              0              1              0  0.214286   \n",
       "4                0              1              0              0  0.178571   \n",
       "..             ...            ...            ...            ...       ...   \n",
       "945              0              0              1              0  0.191593   \n",
       "946              0              0              1              0  0.717821   \n",
       "947              0              0              0              1  0.222093   \n",
       "948              0              1              0              0  0.068551   \n",
       "949              0              1              0              0  0.054780   \n",
       "\n",
       "     Telephone1  CreditScore  \n",
       "0             0            1  \n",
       "1             1            0  \n",
       "2             1            0  \n",
       "3             1            1  \n",
       "4             0            0  \n",
       "..          ...          ...  \n",
       "945           0            1  \n",
       "946           0            1  \n",
       "947           0            1  \n",
       "948           0            1  \n",
       "949           0            1  \n",
       "\n",
       "[950 rows x 39 columns]"
      ]
     },
     "execution_count": 32,
     "metadata": {},
     "output_type": "execute_result"
    }
   ],
   "source": [
    "df"
   ]
  },
  {
   "cell_type": "markdown",
   "metadata": {
    "cell_id": "4768952a7e274e5abc107323dd93ad14",
    "deepnote_cell_type": "text-cell-p",
    "formattedRanges": [],
    "is_collapsed": false,
    "tags": []
   },
   "source": [
    "Eliminar filas o columnas"
   ]
  },
  {
   "cell_type": "code",
   "execution_count": null,
   "metadata": {
    "cell_id": "7e44d13341a046aca43276bf58a26697",
    "deepnote_cell_type": "code",
    "deepnote_to_be_reexecuted": false,
    "execution_millis": 169,
    "execution_start": 1639498553412,
    "source_hash": "aabaf51d",
    "tags": []
   },
   "outputs": [
    {
     "data": {
      "application/vnd.deepnote.dataframe.v2+json": {
       "column_count": 39,
       "columns": [
        {
         "dtype": "int64",
         "name": "CheckingAcctStat A11",
         "stats": {
          "histogram": [
           {
            "bin_end": 0.1,
            "bin_start": 0,
            "count": 616
           },
           {
            "bin_end": 0.2,
            "bin_start": 0.1,
            "count": 0
           },
           {
            "bin_end": 0.30000000000000004,
            "bin_start": 0.2,
            "count": 0
           },
           {
            "bin_end": 0.4,
            "bin_start": 0.30000000000000004,
            "count": 0
           },
           {
            "bin_end": 0.5,
            "bin_start": 0.4,
            "count": 0
           },
           {
            "bin_end": 0.6000000000000001,
            "bin_start": 0.5,
            "count": 0
           },
           {
            "bin_end": 0.7000000000000001,
            "bin_start": 0.6000000000000001,
            "count": 0
           },
           {
            "bin_end": 0.8,
            "bin_start": 0.7000000000000001,
            "count": 0
           },
           {
            "bin_end": 0.9,
            "bin_start": 0.8,
            "count": 0
           },
           {
            "bin_end": 1,
            "bin_start": 0.9,
            "count": 332
           }
          ],
          "max": "1",
          "min": "0",
          "nan_count": 0,
          "unique_count": 2
         }
        },
        {
         "dtype": "int64",
         "name": "CheckingAcctStat A12",
         "stats": {
          "histogram": [
           {
            "bin_end": 0.1,
            "bin_start": 0,
            "count": 682
           },
           {
            "bin_end": 0.2,
            "bin_start": 0.1,
            "count": 0
           },
           {
            "bin_end": 0.30000000000000004,
            "bin_start": 0.2,
            "count": 0
           },
           {
            "bin_end": 0.4,
            "bin_start": 0.30000000000000004,
            "count": 0
           },
           {
            "bin_end": 0.5,
            "bin_start": 0.4,
            "count": 0
           },
           {
            "bin_end": 0.6000000000000001,
            "bin_start": 0.5,
            "count": 0
           },
           {
            "bin_end": 0.7000000000000001,
            "bin_start": 0.6000000000000001,
            "count": 0
           },
           {
            "bin_end": 0.8,
            "bin_start": 0.7000000000000001,
            "count": 0
           },
           {
            "bin_end": 0.9,
            "bin_start": 0.8,
            "count": 0
           },
           {
            "bin_end": 1,
            "bin_start": 0.9,
            "count": 266
           }
          ],
          "max": "1",
          "min": "0",
          "nan_count": 0,
          "unique_count": 2
         }
        },
        {
         "dtype": "int64",
         "name": "CheckingAcctStat A13",
         "stats": {
          "histogram": [
           {
            "bin_end": 0.1,
            "bin_start": 0,
            "count": 898
           },
           {
            "bin_end": 0.2,
            "bin_start": 0.1,
            "count": 0
           },
           {
            "bin_end": 0.30000000000000004,
            "bin_start": 0.2,
            "count": 0
           },
           {
            "bin_end": 0.4,
            "bin_start": 0.30000000000000004,
            "count": 0
           },
           {
            "bin_end": 0.5,
            "bin_start": 0.4,
            "count": 0
           },
           {
            "bin_end": 0.6000000000000001,
            "bin_start": 0.5,
            "count": 0
           },
           {
            "bin_end": 0.7000000000000001,
            "bin_start": 0.6000000000000001,
            "count": 0
           },
           {
            "bin_end": 0.8,
            "bin_start": 0.7000000000000001,
            "count": 0
           },
           {
            "bin_end": 0.9,
            "bin_start": 0.8,
            "count": 0
           },
           {
            "bin_end": 1,
            "bin_start": 0.9,
            "count": 50
           }
          ],
          "max": "1",
          "min": "0",
          "nan_count": 0,
          "unique_count": 2
         }
        },
        {
         "dtype": "int64",
         "name": "CheckingAcctStat A14",
         "stats": {
          "histogram": [
           {
            "bin_end": 0.1,
            "bin_start": 0,
            "count": 648
           },
           {
            "bin_end": 0.2,
            "bin_start": 0.1,
            "count": 0
           },
           {
            "bin_end": 0.30000000000000004,
            "bin_start": 0.2,
            "count": 0
           },
           {
            "bin_end": 0.4,
            "bin_start": 0.30000000000000004,
            "count": 0
           },
           {
            "bin_end": 0.5,
            "bin_start": 0.4,
            "count": 0
           },
           {
            "bin_end": 0.6000000000000001,
            "bin_start": 0.5,
            "count": 0
           },
           {
            "bin_end": 0.7000000000000001,
            "bin_start": 0.6000000000000001,
            "count": 0
           },
           {
            "bin_end": 0.8,
            "bin_start": 0.7000000000000001,
            "count": 0
           },
           {
            "bin_end": 0.9,
            "bin_start": 0.8,
            "count": 0
           },
           {
            "bin_end": 1,
            "bin_start": 0.9,
            "count": 300
           }
          ],
          "max": "1",
          "min": "0",
          "nan_count": 0,
          "unique_count": 2
         }
        },
        {
         "dtype": "float64",
         "name": "Duration",
         "stats": {
          "histogram": [
           {
            "bin_end": 0.1,
            "bin_start": 0,
            "count": 126
           },
           {
            "bin_end": 0.2,
            "bin_start": 0.1,
            "count": 257
           },
           {
            "bin_end": 0.30000000000000004,
            "bin_start": 0.2,
            "count": 288
           },
           {
            "bin_end": 0.4,
            "bin_start": 0.30000000000000004,
            "count": 90
           },
           {
            "bin_end": 0.5,
            "bin_start": 0.4,
            "count": 99
           },
           {
            "bin_end": 0.6000000000000001,
            "bin_start": 0.5,
            "count": 31
           },
           {
            "bin_end": 0.7000000000000001,
            "bin_start": 0.6000000000000001,
            "count": 41
           },
           {
            "bin_end": 0.8,
            "bin_start": 0.7000000000000001,
            "count": 5
           },
           {
            "bin_end": 0.9,
            "bin_start": 0.8,
            "count": 10
           },
           {
            "bin_end": 1,
            "bin_start": 0.9,
            "count": 1
           }
          ],
          "max": "1.0",
          "min": "0.0",
          "nan_count": 0,
          "unique_count": 176
         }
        },
        {
         "dtype": "int64",
         "name": "CreditHistory A30",
         "stats": {
          "histogram": [
           {
            "bin_end": 0.1,
            "bin_start": 0,
            "count": 895
           },
           {
            "bin_end": 0.2,
            "bin_start": 0.1,
            "count": 0
           },
           {
            "bin_end": 0.30000000000000004,
            "bin_start": 0.2,
            "count": 0
           },
           {
            "bin_end": 0.4,
            "bin_start": 0.30000000000000004,
            "count": 0
           },
           {
            "bin_end": 0.5,
            "bin_start": 0.4,
            "count": 0
           },
           {
            "bin_end": 0.6000000000000001,
            "bin_start": 0.5,
            "count": 0
           },
           {
            "bin_end": 0.7000000000000001,
            "bin_start": 0.6000000000000001,
            "count": 0
           },
           {
            "bin_end": 0.8,
            "bin_start": 0.7000000000000001,
            "count": 0
           },
           {
            "bin_end": 0.9,
            "bin_start": 0.8,
            "count": 0
           },
           {
            "bin_end": 1,
            "bin_start": 0.9,
            "count": 53
           }
          ],
          "max": "1",
          "min": "0",
          "nan_count": 0,
          "unique_count": 2
         }
        },
        {
         "dtype": "int64",
         "name": "CreditHistory A31",
         "stats": {
          "histogram": [
           {
            "bin_end": 0.1,
            "bin_start": 0,
            "count": 886
           },
           {
            "bin_end": 0.2,
            "bin_start": 0.1,
            "count": 0
           },
           {
            "bin_end": 0.30000000000000004,
            "bin_start": 0.2,
            "count": 0
           },
           {
            "bin_end": 0.4,
            "bin_start": 0.30000000000000004,
            "count": 0
           },
           {
            "bin_end": 0.5,
            "bin_start": 0.4,
            "count": 0
           },
           {
            "bin_end": 0.6000000000000001,
            "bin_start": 0.5,
            "count": 0
           },
           {
            "bin_end": 0.7000000000000001,
            "bin_start": 0.6000000000000001,
            "count": 0
           },
           {
            "bin_end": 0.8,
            "bin_start": 0.7000000000000001,
            "count": 0
           },
           {
            "bin_end": 0.9,
            "bin_start": 0.8,
            "count": 0
           },
           {
            "bin_end": 1,
            "bin_start": 0.9,
            "count": 62
           }
          ],
          "max": "1",
          "min": "0",
          "nan_count": 0,
          "unique_count": 2
         }
        },
        {
         "dtype": "int64",
         "name": "CreditHistory A32",
         "stats": {
          "histogram": [
           {
            "bin_end": 0.1,
            "bin_start": 0,
            "count": 425
           },
           {
            "bin_end": 0.2,
            "bin_start": 0.1,
            "count": 0
           },
           {
            "bin_end": 0.30000000000000004,
            "bin_start": 0.2,
            "count": 0
           },
           {
            "bin_end": 0.4,
            "bin_start": 0.30000000000000004,
            "count": 0
           },
           {
            "bin_end": 0.5,
            "bin_start": 0.4,
            "count": 0
           },
           {
            "bin_end": 0.6000000000000001,
            "bin_start": 0.5,
            "count": 0
           },
           {
            "bin_end": 0.7000000000000001,
            "bin_start": 0.6000000000000001,
            "count": 0
           },
           {
            "bin_end": 0.8,
            "bin_start": 0.7000000000000001,
            "count": 0
           },
           {
            "bin_end": 0.9,
            "bin_start": 0.8,
            "count": 0
           },
           {
            "bin_end": 1,
            "bin_start": 0.9,
            "count": 523
           }
          ],
          "max": "1",
          "min": "0",
          "nan_count": 0,
          "unique_count": 2
         }
        },
        {
         "dtype": "int64",
         "name": "CreditHistory A33",
         "stats": {
          "histogram": [
           {
            "bin_end": 0.1,
            "bin_start": 0,
            "count": 872
           },
           {
            "bin_end": 0.2,
            "bin_start": 0.1,
            "count": 0
           },
           {
            "bin_end": 0.30000000000000004,
            "bin_start": 0.2,
            "count": 0
           },
           {
            "bin_end": 0.4,
            "bin_start": 0.30000000000000004,
            "count": 0
           },
           {
            "bin_end": 0.5,
            "bin_start": 0.4,
            "count": 0
           },
           {
            "bin_end": 0.6000000000000001,
            "bin_start": 0.5,
            "count": 0
           },
           {
            "bin_end": 0.7000000000000001,
            "bin_start": 0.6000000000000001,
            "count": 0
           },
           {
            "bin_end": 0.8,
            "bin_start": 0.7000000000000001,
            "count": 0
           },
           {
            "bin_end": 0.9,
            "bin_start": 0.8,
            "count": 0
           },
           {
            "bin_end": 1,
            "bin_start": 0.9,
            "count": 76
           }
          ],
          "max": "1",
          "min": "0",
          "nan_count": 0,
          "unique_count": 2
         }
        },
        {
         "dtype": "int64",
         "name": "CreditHistory A34",
         "stats": {
          "histogram": [
           {
            "bin_end": 0.1,
            "bin_start": 0,
            "count": 714
           },
           {
            "bin_end": 0.2,
            "bin_start": 0.1,
            "count": 0
           },
           {
            "bin_end": 0.30000000000000004,
            "bin_start": 0.2,
            "count": 0
           },
           {
            "bin_end": 0.4,
            "bin_start": 0.30000000000000004,
            "count": 0
           },
           {
            "bin_end": 0.5,
            "bin_start": 0.4,
            "count": 0
           },
           {
            "bin_end": 0.6000000000000001,
            "bin_start": 0.5,
            "count": 0
           },
           {
            "bin_end": 0.7000000000000001,
            "bin_start": 0.6000000000000001,
            "count": 0
           },
           {
            "bin_end": 0.8,
            "bin_start": 0.7000000000000001,
            "count": 0
           },
           {
            "bin_end": 0.9,
            "bin_start": 0.8,
            "count": 0
           },
           {
            "bin_end": 1,
            "bin_start": 0.9,
            "count": 234
           }
          ],
          "max": "1",
          "min": "0",
          "nan_count": 0,
          "unique_count": 2
         }
        },
        {
         "dtype": "int64",
         "name": "Purpose A40",
         "stats": {
          "histogram": [
           {
            "bin_end": 0.1,
            "bin_start": 0,
            "count": 694
           },
           {
            "bin_end": 0.2,
            "bin_start": 0.1,
            "count": 0
           },
           {
            "bin_end": 0.30000000000000004,
            "bin_start": 0.2,
            "count": 0
           },
           {
            "bin_end": 0.4,
            "bin_start": 0.30000000000000004,
            "count": 0
           },
           {
            "bin_end": 0.5,
            "bin_start": 0.4,
            "count": 0
           },
           {
            "bin_end": 0.6000000000000001,
            "bin_start": 0.5,
            "count": 0
           },
           {
            "bin_end": 0.7000000000000001,
            "bin_start": 0.6000000000000001,
            "count": 0
           },
           {
            "bin_end": 0.8,
            "bin_start": 0.7000000000000001,
            "count": 0
           },
           {
            "bin_end": 0.9,
            "bin_start": 0.8,
            "count": 0
           },
           {
            "bin_end": 1,
            "bin_start": 0.9,
            "count": 254
           }
          ],
          "max": "1",
          "min": "0",
          "nan_count": 0,
          "unique_count": 2
         }
        },
        {
         "dtype": "int64",
         "name": "Purpose A41",
         "stats": {
          "histogram": [
           {
            "bin_end": 0.1,
            "bin_start": 0,
            "count": 864
           },
           {
            "bin_end": 0.2,
            "bin_start": 0.1,
            "count": 0
           },
           {
            "bin_end": 0.30000000000000004,
            "bin_start": 0.2,
            "count": 0
           },
           {
            "bin_end": 0.4,
            "bin_start": 0.30000000000000004,
            "count": 0
           },
           {
            "bin_end": 0.5,
            "bin_start": 0.4,
            "count": 0
           },
           {
            "bin_end": 0.6000000000000001,
            "bin_start": 0.5,
            "count": 0
           },
           {
            "bin_end": 0.7000000000000001,
            "bin_start": 0.6000000000000001,
            "count": 0
           },
           {
            "bin_end": 0.8,
            "bin_start": 0.7000000000000001,
            "count": 0
           },
           {
            "bin_end": 0.9,
            "bin_start": 0.8,
            "count": 0
           },
           {
            "bin_end": 1,
            "bin_start": 0.9,
            "count": 84
           }
          ],
          "max": "1",
          "min": "0",
          "nan_count": 0,
          "unique_count": 2
         }
        },
        {
         "dtype": "int64",
         "name": "Purpose A42",
         "stats": {
          "histogram": [
           {
            "bin_end": 0.1,
            "bin_start": 0,
            "count": 937
           },
           {
            "bin_end": 0.2,
            "bin_start": 0.1,
            "count": 0
           },
           {
            "bin_end": 0.30000000000000004,
            "bin_start": 0.2,
            "count": 0
           },
           {
            "bin_end": 0.4,
            "bin_start": 0.30000000000000004,
            "count": 0
           },
           {
            "bin_end": 0.5,
            "bin_start": 0.4,
            "count": 0
           },
           {
            "bin_end": 0.6000000000000001,
            "bin_start": 0.5,
            "count": 0
           },
           {
            "bin_end": 0.7000000000000001,
            "bin_start": 0.6000000000000001,
            "count": 0
           },
           {
            "bin_end": 0.8,
            "bin_start": 0.7000000000000001,
            "count": 0
           },
           {
            "bin_end": 0.9,
            "bin_start": 0.8,
            "count": 0
           },
           {
            "bin_end": 1,
            "bin_start": 0.9,
            "count": 11
           }
          ],
          "max": "1",
          "min": "0",
          "nan_count": 0,
          "unique_count": 2
         }
        },
        {
         "dtype": "int64",
         "name": "Purpose A43",
         "stats": {
          "histogram": [
           {
            "bin_end": 0.1,
            "bin_start": 0,
            "count": 795
           },
           {
            "bin_end": 0.2,
            "bin_start": 0.1,
            "count": 0
           },
           {
            "bin_end": 0.30000000000000004,
            "bin_start": 0.2,
            "count": 0
           },
           {
            "bin_end": 0.4,
            "bin_start": 0.30000000000000004,
            "count": 0
           },
           {
            "bin_end": 0.5,
            "bin_start": 0.4,
            "count": 0
           },
           {
            "bin_end": 0.6000000000000001,
            "bin_start": 0.5,
            "count": 0
           },
           {
            "bin_end": 0.7000000000000001,
            "bin_start": 0.6000000000000001,
            "count": 0
           },
           {
            "bin_end": 0.8,
            "bin_start": 0.7000000000000001,
            "count": 0
           },
           {
            "bin_end": 0.9,
            "bin_start": 0.8,
            "count": 0
           },
           {
            "bin_end": 1,
            "bin_start": 0.9,
            "count": 153
           }
          ],
          "max": "1",
          "min": "0",
          "nan_count": 0,
          "unique_count": 2
         }
        },
        {
         "dtype": "int64",
         "name": "Purpose A44",
         "stats": {
          "histogram": [
           {
            "bin_end": 0.1,
            "bin_start": 0,
            "count": 696
           },
           {
            "bin_end": 0.2,
            "bin_start": 0.1,
            "count": 0
           },
           {
            "bin_end": 0.30000000000000004,
            "bin_start": 0.2,
            "count": 0
           },
           {
            "bin_end": 0.4,
            "bin_start": 0.30000000000000004,
            "count": 0
           },
           {
            "bin_end": 0.5,
            "bin_start": 0.4,
            "count": 0
           },
           {
            "bin_end": 0.6000000000000001,
            "bin_start": 0.5,
            "count": 0
           },
           {
            "bin_end": 0.7000000000000001,
            "bin_start": 0.6000000000000001,
            "count": 0
           },
           {
            "bin_end": 0.8,
            "bin_start": 0.7000000000000001,
            "count": 0
           },
           {
            "bin_end": 0.9,
            "bin_start": 0.8,
            "count": 0
           },
           {
            "bin_end": 1,
            "bin_start": 0.9,
            "count": 252
           }
          ],
          "max": "1",
          "min": "0",
          "nan_count": 0,
          "unique_count": 2
         }
        },
        {
         "dtype": "int64",
         "name": "Purpose A45",
         "stats": {
          "histogram": [
           {
            "bin_end": 0.1,
            "bin_start": 0,
            "count": 937
           },
           {
            "bin_end": 0.2,
            "bin_start": 0.1,
            "count": 0
           },
           {
            "bin_end": 0.30000000000000004,
            "bin_start": 0.2,
            "count": 0
           },
           {
            "bin_end": 0.4,
            "bin_start": 0.30000000000000004,
            "count": 0
           },
           {
            "bin_end": 0.5,
            "bin_start": 0.4,
            "count": 0
           },
           {
            "bin_end": 0.6000000000000001,
            "bin_start": 0.5,
            "count": 0
           },
           {
            "bin_end": 0.7000000000000001,
            "bin_start": 0.6000000000000001,
            "count": 0
           },
           {
            "bin_end": 0.8,
            "bin_start": 0.7000000000000001,
            "count": 0
           },
           {
            "bin_end": 0.9,
            "bin_start": 0.8,
            "count": 0
           },
           {
            "bin_end": 1,
            "bin_start": 0.9,
            "count": 11
           }
          ],
          "max": "1",
          "min": "0",
          "nan_count": 0,
          "unique_count": 2
         }
        },
        {
         "dtype": "int64",
         "name": "Purpose A46",
         "stats": {
          "histogram": [
           {
            "bin_end": 0.1,
            "bin_start": 0,
            "count": 916
           },
           {
            "bin_end": 0.2,
            "bin_start": 0.1,
            "count": 0
           },
           {
            "bin_end": 0.30000000000000004,
            "bin_start": 0.2,
            "count": 0
           },
           {
            "bin_end": 0.4,
            "bin_start": 0.30000000000000004,
            "count": 0
           },
           {
            "bin_end": 0.5,
            "bin_start": 0.4,
            "count": 0
           },
           {
            "bin_end": 0.6000000000000001,
            "bin_start": 0.5,
            "count": 0
           },
           {
            "bin_end": 0.7000000000000001,
            "bin_start": 0.6000000000000001,
            "count": 0
           },
           {
            "bin_end": 0.8,
            "bin_start": 0.7000000000000001,
            "count": 0
           },
           {
            "bin_end": 0.9,
            "bin_start": 0.8,
            "count": 0
           },
           {
            "bin_end": 1,
            "bin_start": 0.9,
            "count": 32
           }
          ],
          "max": "1",
          "min": "0",
          "nan_count": 0,
          "unique_count": 2
         }
        },
        {
         "dtype": "int64",
         "name": "Purpose A48",
         "stats": {
          "histogram": [
           {
            "bin_end": 0.1,
            "bin_start": 0,
            "count": 904
           },
           {
            "bin_end": 0.2,
            "bin_start": 0.1,
            "count": 0
           },
           {
            "bin_end": 0.30000000000000004,
            "bin_start": 0.2,
            "count": 0
           },
           {
            "bin_end": 0.4,
            "bin_start": 0.30000000000000004,
            "count": 0
           },
           {
            "bin_end": 0.5,
            "bin_start": 0.4,
            "count": 0
           },
           {
            "bin_end": 0.6000000000000001,
            "bin_start": 0.5,
            "count": 0
           },
           {
            "bin_end": 0.7000000000000001,
            "bin_start": 0.6000000000000001,
            "count": 0
           },
           {
            "bin_end": 0.8,
            "bin_start": 0.7000000000000001,
            "count": 0
           },
           {
            "bin_end": 0.9,
            "bin_start": 0.8,
            "count": 0
           },
           {
            "bin_end": 1,
            "bin_start": 0.9,
            "count": 44
           }
          ],
          "max": "1",
          "min": "0",
          "nan_count": 0,
          "unique_count": 2
         }
        },
        {
         "dtype": "int64",
         "name": "Purpose A49",
         "stats": {
          "histogram": [
           {
            "bin_end": 0.1,
            "bin_start": 0,
            "count": 937
           },
           {
            "bin_end": 0.2,
            "bin_start": 0.1,
            "count": 0
           },
           {
            "bin_end": 0.30000000000000004,
            "bin_start": 0.2,
            "count": 0
           },
           {
            "bin_end": 0.4,
            "bin_start": 0.30000000000000004,
            "count": 0
           },
           {
            "bin_end": 0.5,
            "bin_start": 0.4,
            "count": 0
           },
           {
            "bin_end": 0.6000000000000001,
            "bin_start": 0.5,
            "count": 0
           },
           {
            "bin_end": 0.7000000000000001,
            "bin_start": 0.6000000000000001,
            "count": 0
           },
           {
            "bin_end": 0.8,
            "bin_start": 0.7000000000000001,
            "count": 0
           },
           {
            "bin_end": 0.9,
            "bin_start": 0.8,
            "count": 0
           },
           {
            "bin_end": 1,
            "bin_start": 0.9,
            "count": 11
           }
          ],
          "max": "1",
          "min": "0",
          "nan_count": 0,
          "unique_count": 2
         }
        },
        {
         "dtype": "int64",
         "name": "Purpose A410",
         "stats": {
          "histogram": [
           {
            "bin_end": 0.1,
            "bin_start": 0,
            "count": 852
           },
           {
            "bin_end": 0.2,
            "bin_start": 0.1,
            "count": 0
           },
           {
            "bin_end": 0.30000000000000004,
            "bin_start": 0.2,
            "count": 0
           },
           {
            "bin_end": 0.4,
            "bin_start": 0.30000000000000004,
            "count": 0
           },
           {
            "bin_end": 0.5,
            "bin_start": 0.4,
            "count": 0
           },
           {
            "bin_end": 0.6000000000000001,
            "bin_start": 0.5,
            "count": 0
           },
           {
            "bin_end": 0.7000000000000001,
            "bin_start": 0.6000000000000001,
            "count": 0
           },
           {
            "bin_end": 0.8,
            "bin_start": 0.7000000000000001,
            "count": 0
           },
           {
            "bin_end": 0.9,
            "bin_start": 0.8,
            "count": 0
           },
           {
            "bin_end": 1,
            "bin_start": 0.9,
            "count": 96
           }
          ],
          "max": "1",
          "min": "0",
          "nan_count": 0,
          "unique_count": 2
         }
        },
        {
         "dtype": "int64",
         "name": "Savings A61",
         "stats": {
          "histogram": [
           {
            "bin_end": 0.1,
            "bin_start": 0,
            "count": 331
           },
           {
            "bin_end": 0.2,
            "bin_start": 0.1,
            "count": 0
           },
           {
            "bin_end": 0.30000000000000004,
            "bin_start": 0.2,
            "count": 0
           },
           {
            "bin_end": 0.4,
            "bin_start": 0.30000000000000004,
            "count": 0
           },
           {
            "bin_end": 0.5,
            "bin_start": 0.4,
            "count": 0
           },
           {
            "bin_end": 0.6000000000000001,
            "bin_start": 0.5,
            "count": 0
           },
           {
            "bin_end": 0.7000000000000001,
            "bin_start": 0.6000000000000001,
            "count": 0
           },
           {
            "bin_end": 0.8,
            "bin_start": 0.7000000000000001,
            "count": 0
           },
           {
            "bin_end": 0.9,
            "bin_start": 0.8,
            "count": 0
           },
           {
            "bin_end": 1,
            "bin_start": 0.9,
            "count": 617
           }
          ],
          "max": "1",
          "min": "0",
          "nan_count": 0,
          "unique_count": 2
         }
        },
        {
         "dtype": "int64",
         "name": "Savings A62",
         "stats": {
          "histogram": [
           {
            "bin_end": 0.1,
            "bin_start": 0,
            "count": 854
           },
           {
            "bin_end": 0.2,
            "bin_start": 0.1,
            "count": 0
           },
           {
            "bin_end": 0.30000000000000004,
            "bin_start": 0.2,
            "count": 0
           },
           {
            "bin_end": 0.4,
            "bin_start": 0.30000000000000004,
            "count": 0
           },
           {
            "bin_end": 0.5,
            "bin_start": 0.4,
            "count": 0
           },
           {
            "bin_end": 0.6000000000000001,
            "bin_start": 0.5,
            "count": 0
           },
           {
            "bin_end": 0.7000000000000001,
            "bin_start": 0.6000000000000001,
            "count": 0
           },
           {
            "bin_end": 0.8,
            "bin_start": 0.7000000000000001,
            "count": 0
           },
           {
            "bin_end": 0.9,
            "bin_start": 0.8,
            "count": 0
           },
           {
            "bin_end": 1,
            "bin_start": 0.9,
            "count": 94
           }
          ],
          "max": "1",
          "min": "0",
          "nan_count": 0,
          "unique_count": 2
         }
        },
        {
         "dtype": "int64",
         "name": "Savings A63",
         "stats": {
          "histogram": [
           {
            "bin_end": 0.1,
            "bin_start": 0,
            "count": 894
           },
           {
            "bin_end": 0.2,
            "bin_start": 0.1,
            "count": 0
           },
           {
            "bin_end": 0.30000000000000004,
            "bin_start": 0.2,
            "count": 0
           },
           {
            "bin_end": 0.4,
            "bin_start": 0.30000000000000004,
            "count": 0
           },
           {
            "bin_end": 0.5,
            "bin_start": 0.4,
            "count": 0
           },
           {
            "bin_end": 0.6000000000000001,
            "bin_start": 0.5,
            "count": 0
           },
           {
            "bin_end": 0.7000000000000001,
            "bin_start": 0.6000000000000001,
            "count": 0
           },
           {
            "bin_end": 0.8,
            "bin_start": 0.7000000000000001,
            "count": 0
           },
           {
            "bin_end": 0.9,
            "bin_start": 0.8,
            "count": 0
           },
           {
            "bin_end": 1,
            "bin_start": 0.9,
            "count": 54
           }
          ],
          "max": "1",
          "min": "0",
          "nan_count": 0,
          "unique_count": 2
         }
        },
        {
         "dtype": "int64",
         "name": "Savings A64",
         "stats": {
          "histogram": [
           {
            "bin_end": 0.1,
            "bin_start": 0,
            "count": 911
           },
           {
            "bin_end": 0.2,
            "bin_start": 0.1,
            "count": 0
           },
           {
            "bin_end": 0.30000000000000004,
            "bin_start": 0.2,
            "count": 0
           },
           {
            "bin_end": 0.4,
            "bin_start": 0.30000000000000004,
            "count": 0
           },
           {
            "bin_end": 0.5,
            "bin_start": 0.4,
            "count": 0
           },
           {
            "bin_end": 0.6000000000000001,
            "bin_start": 0.5,
            "count": 0
           },
           {
            "bin_end": 0.7000000000000001,
            "bin_start": 0.6000000000000001,
            "count": 0
           },
           {
            "bin_end": 0.8,
            "bin_start": 0.7000000000000001,
            "count": 0
           },
           {
            "bin_end": 0.9,
            "bin_start": 0.8,
            "count": 0
           },
           {
            "bin_end": 1,
            "bin_start": 0.9,
            "count": 37
           }
          ],
          "max": "1",
          "min": "0",
          "nan_count": 0,
          "unique_count": 2
         }
        },
        {
         "dtype": "int64",
         "name": "Savings A65",
         "stats": {
          "histogram": [
           {
            "bin_end": 0.1,
            "bin_start": 0,
            "count": 802
           },
           {
            "bin_end": 0.2,
            "bin_start": 0.1,
            "count": 0
           },
           {
            "bin_end": 0.30000000000000004,
            "bin_start": 0.2,
            "count": 0
           },
           {
            "bin_end": 0.4,
            "bin_start": 0.30000000000000004,
            "count": 0
           },
           {
            "bin_end": 0.5,
            "bin_start": 0.4,
            "count": 0
           },
           {
            "bin_end": 0.6000000000000001,
            "bin_start": 0.5,
            "count": 0
           },
           {
            "bin_end": 0.7000000000000001,
            "bin_start": 0.6000000000000001,
            "count": 0
           },
           {
            "bin_end": 0.8,
            "bin_start": 0.7000000000000001,
            "count": 0
           },
           {
            "bin_end": 0.9,
            "bin_start": 0.8,
            "count": 0
           },
           {
            "bin_end": 1,
            "bin_start": 0.9,
            "count": 146
           }
          ],
          "max": "1",
          "min": "0",
          "nan_count": 0,
          "unique_count": 2
         }
        },
        {
         "dtype": "int64",
         "name": "Employment A71",
         "stats": {
          "histogram": [
           {
            "bin_end": 0.1,
            "bin_start": 0,
            "count": 883
           },
           {
            "bin_end": 0.2,
            "bin_start": 0.1,
            "count": 0
           },
           {
            "bin_end": 0.30000000000000004,
            "bin_start": 0.2,
            "count": 0
           },
           {
            "bin_end": 0.4,
            "bin_start": 0.30000000000000004,
            "count": 0
           },
           {
            "bin_end": 0.5,
            "bin_start": 0.4,
            "count": 0
           },
           {
            "bin_end": 0.6000000000000001,
            "bin_start": 0.5,
            "count": 0
           },
           {
            "bin_end": 0.7000000000000001,
            "bin_start": 0.6000000000000001,
            "count": 0
           },
           {
            "bin_end": 0.8,
            "bin_start": 0.7000000000000001,
            "count": 0
           },
           {
            "bin_end": 0.9,
            "bin_start": 0.8,
            "count": 0
           },
           {
            "bin_end": 1,
            "bin_start": 0.9,
            "count": 65
           }
          ],
          "max": "1",
          "min": "0",
          "nan_count": 0,
          "unique_count": 2
         }
        },
        {
         "dtype": "int64",
         "name": "Employment A72",
         "stats": {
          "histogram": [
           {
            "bin_end": 0.1,
            "bin_start": 0,
            "count": 768
           },
           {
            "bin_end": 0.2,
            "bin_start": 0.1,
            "count": 0
           },
           {
            "bin_end": 0.30000000000000004,
            "bin_start": 0.2,
            "count": 0
           },
           {
            "bin_end": 0.4,
            "bin_start": 0.30000000000000004,
            "count": 0
           },
           {
            "bin_end": 0.5,
            "bin_start": 0.4,
            "count": 0
           },
           {
            "bin_end": 0.6000000000000001,
            "bin_start": 0.5,
            "count": 0
           },
           {
            "bin_end": 0.7000000000000001,
            "bin_start": 0.6000000000000001,
            "count": 0
           },
           {
            "bin_end": 0.8,
            "bin_start": 0.7000000000000001,
            "count": 0
           },
           {
            "bin_end": 0.9,
            "bin_start": 0.8,
            "count": 0
           },
           {
            "bin_end": 1,
            "bin_start": 0.9,
            "count": 180
           }
          ],
          "max": "1",
          "min": "0",
          "nan_count": 0,
          "unique_count": 2
         }
        },
        {
         "dtype": "int64",
         "name": "Employment A73",
         "stats": {
          "histogram": [
           {
            "bin_end": 0.1,
            "bin_start": 0,
            "count": 623
           },
           {
            "bin_end": 0.2,
            "bin_start": 0.1,
            "count": 0
           },
           {
            "bin_end": 0.30000000000000004,
            "bin_start": 0.2,
            "count": 0
           },
           {
            "bin_end": 0.4,
            "bin_start": 0.30000000000000004,
            "count": 0
           },
           {
            "bin_end": 0.5,
            "bin_start": 0.4,
            "count": 0
           },
           {
            "bin_end": 0.6000000000000001,
            "bin_start": 0.5,
            "count": 0
           },
           {
            "bin_end": 0.7000000000000001,
            "bin_start": 0.6000000000000001,
            "count": 0
           },
           {
            "bin_end": 0.8,
            "bin_start": 0.7000000000000001,
            "count": 0
           },
           {
            "bin_end": 0.9,
            "bin_start": 0.8,
            "count": 0
           },
           {
            "bin_end": 1,
            "bin_start": 0.9,
            "count": 325
           }
          ],
          "max": "1",
          "min": "0",
          "nan_count": 0,
          "unique_count": 2
         }
        },
        {
         "dtype": "int64",
         "name": "Employment A74",
         "stats": {
          "histogram": [
           {
            "bin_end": 0.1,
            "bin_start": 0,
            "count": 792
           },
           {
            "bin_end": 0.2,
            "bin_start": 0.1,
            "count": 0
           },
           {
            "bin_end": 0.30000000000000004,
            "bin_start": 0.2,
            "count": 0
           },
           {
            "bin_end": 0.4,
            "bin_start": 0.30000000000000004,
            "count": 0
           },
           {
            "bin_end": 0.5,
            "bin_start": 0.4,
            "count": 0
           },
           {
            "bin_end": 0.6000000000000001,
            "bin_start": 0.5,
            "count": 0
           },
           {
            "bin_end": 0.7000000000000001,
            "bin_start": 0.6000000000000001,
            "count": 0
           },
           {
            "bin_end": 0.8,
            "bin_start": 0.7000000000000001,
            "count": 0
           },
           {
            "bin_end": 0.9,
            "bin_start": 0.8,
            "count": 0
           },
           {
            "bin_end": 1,
            "bin_start": 0.9,
            "count": 156
           }
          ],
          "max": "1",
          "min": "0",
          "nan_count": 0,
          "unique_count": 2
         }
        },
        {
         "dtype": "int64",
         "name": "Employment A75",
         "stats": {
          "histogram": [
           {
            "bin_end": 0.1,
            "bin_start": 0,
            "count": 726
           },
           {
            "bin_end": 0.2,
            "bin_start": 0.1,
            "count": 0
           },
           {
            "bin_end": 0.30000000000000004,
            "bin_start": 0.2,
            "count": 0
           },
           {
            "bin_end": 0.4,
            "bin_start": 0.30000000000000004,
            "count": 0
           },
           {
            "bin_end": 0.5,
            "bin_start": 0.4,
            "count": 0
           },
           {
            "bin_end": 0.6000000000000001,
            "bin_start": 0.5,
            "count": 0
           },
           {
            "bin_end": 0.7000000000000001,
            "bin_start": 0.6000000000000001,
            "count": 0
           },
           {
            "bin_end": 0.8,
            "bin_start": 0.7000000000000001,
            "count": 0
           },
           {
            "bin_end": 0.9,
            "bin_start": 0.8,
            "count": 0
           },
           {
            "bin_end": 1,
            "bin_start": 0.9,
            "count": 222
           }
          ],
          "max": "1",
          "min": "0",
          "nan_count": 0,
          "unique_count": 2
         }
        },
        {
         "dtype": "float64",
         "name": "InstallmentRatePecnt",
         "stats": {
          "histogram": [
           {
            "bin_end": 0.1,
            "bin_start": 0,
            "count": 116
           },
           {
            "bin_end": 0.2,
            "bin_start": 0.1,
            "count": 17
           },
           {
            "bin_end": 0.30000000000000004,
            "bin_start": 0.2,
            "count": 5
           },
           {
            "bin_end": 0.4,
            "bin_start": 0.30000000000000004,
            "count": 149
           },
           {
            "bin_end": 0.5,
            "bin_start": 0.4,
            "count": 23
           },
           {
            "bin_end": 0.6000000000000001,
            "bin_start": 0.5,
            "count": 7
           },
           {
            "bin_end": 0.7000000000000001,
            "bin_start": 0.6000000000000001,
            "count": 126
           },
           {
            "bin_end": 0.8,
            "bin_start": 0.7000000000000001,
            "count": 23
           },
           {
            "bin_end": 0.9,
            "bin_start": 0.8,
            "count": 43
           },
           {
            "bin_end": 1,
            "bin_start": 0.9,
            "count": 439
           }
          ],
          "max": "1.0",
          "min": "0.0",
          "nan_count": 0,
          "unique_count": 28
         }
        },
        {
         "dtype": "float64",
         "name": "PresentResidenceTime",
         "stats": {
          "histogram": [
           {
            "bin_end": 0.1,
            "bin_start": 0,
            "count": 104
           },
           {
            "bin_end": 0.2,
            "bin_start": 0.1,
            "count": 20
           },
           {
            "bin_end": 0.30000000000000004,
            "bin_start": 0.2,
            "count": 0
           },
           {
            "bin_end": 0.4,
            "bin_start": 0.30000000000000004,
            "count": 275
           },
           {
            "bin_end": 0.5,
            "bin_start": 0.4,
            "count": 12
           },
           {
            "bin_end": 0.6000000000000001,
            "bin_start": 0.5,
            "count": 4
           },
           {
            "bin_end": 0.7000000000000001,
            "bin_start": 0.6000000000000001,
            "count": 133
           },
           {
            "bin_end": 0.8,
            "bin_start": 0.7000000000000001,
            "count": 0
           },
           {
            "bin_end": 0.9,
            "bin_start": 0.8,
            "count": 10
           },
           {
            "bin_end": 1,
            "bin_start": 0.9,
            "count": 390
           }
          ],
          "max": "1.0",
          "min": "0.0",
          "nan_count": 0,
          "unique_count": 28
         }
        },
        {
         "dtype": "int64",
         "name": "Property A121",
         "stats": {
          "histogram": [
           {
            "bin_end": 0.1,
            "bin_start": 0,
            "count": 709
           },
           {
            "bin_end": 0.2,
            "bin_start": 0.1,
            "count": 0
           },
           {
            "bin_end": 0.30000000000000004,
            "bin_start": 0.2,
            "count": 0
           },
           {
            "bin_end": 0.4,
            "bin_start": 0.30000000000000004,
            "count": 0
           },
           {
            "bin_end": 0.5,
            "bin_start": 0.4,
            "count": 0
           },
           {
            "bin_end": 0.6000000000000001,
            "bin_start": 0.5,
            "count": 0
           },
           {
            "bin_end": 0.7000000000000001,
            "bin_start": 0.6000000000000001,
            "count": 0
           },
           {
            "bin_end": 0.8,
            "bin_start": 0.7000000000000001,
            "count": 0
           },
           {
            "bin_end": 0.9,
            "bin_start": 0.8,
            "count": 0
           },
           {
            "bin_end": 1,
            "bin_start": 0.9,
            "count": 239
           }
          ],
          "max": "1",
          "min": "0",
          "nan_count": 0,
          "unique_count": 2
         }
        },
        {
         "dtype": "int64",
         "name": "Property A122",
         "stats": {
          "histogram": [
           {
            "bin_end": 0.1,
            "bin_start": 0,
            "count": 729
           },
           {
            "bin_end": 0.2,
            "bin_start": 0.1,
            "count": 0
           },
           {
            "bin_end": 0.30000000000000004,
            "bin_start": 0.2,
            "count": 0
           },
           {
            "bin_end": 0.4,
            "bin_start": 0.30000000000000004,
            "count": 0
           },
           {
            "bin_end": 0.5,
            "bin_start": 0.4,
            "count": 0
           },
           {
            "bin_end": 0.6000000000000001,
            "bin_start": 0.5,
            "count": 0
           },
           {
            "bin_end": 0.7000000000000001,
            "bin_start": 0.6000000000000001,
            "count": 0
           },
           {
            "bin_end": 0.8,
            "bin_start": 0.7000000000000001,
            "count": 0
           },
           {
            "bin_end": 0.9,
            "bin_start": 0.8,
            "count": 0
           },
           {
            "bin_end": 1,
            "bin_start": 0.9,
            "count": 219
           }
          ],
          "max": "1",
          "min": "0",
          "nan_count": 0,
          "unique_count": 2
         }
        },
        {
         "dtype": "int64",
         "name": "Property A123",
         "stats": {
          "histogram": [
           {
            "bin_end": 0.1,
            "bin_start": 0,
            "count": 620
           },
           {
            "bin_end": 0.2,
            "bin_start": 0.1,
            "count": 0
           },
           {
            "bin_end": 0.30000000000000004,
            "bin_start": 0.2,
            "count": 0
           },
           {
            "bin_end": 0.4,
            "bin_start": 0.30000000000000004,
            "count": 0
           },
           {
            "bin_end": 0.5,
            "bin_start": 0.4,
            "count": 0
           },
           {
            "bin_end": 0.6000000000000001,
            "bin_start": 0.5,
            "count": 0
           },
           {
            "bin_end": 0.7000000000000001,
            "bin_start": 0.6000000000000001,
            "count": 0
           },
           {
            "bin_end": 0.8,
            "bin_start": 0.7000000000000001,
            "count": 0
           },
           {
            "bin_end": 0.9,
            "bin_start": 0.8,
            "count": 0
           },
           {
            "bin_end": 1,
            "bin_start": 0.9,
            "count": 328
           }
          ],
          "max": "1",
          "min": "0",
          "nan_count": 0,
          "unique_count": 2
         }
        },
        {
         "dtype": "int64",
         "name": "Property A124",
         "stats": {
          "histogram": [
           {
            "bin_end": 0.1,
            "bin_start": 0,
            "count": 786
           },
           {
            "bin_end": 0.2,
            "bin_start": 0.1,
            "count": 0
           },
           {
            "bin_end": 0.30000000000000004,
            "bin_start": 0.2,
            "count": 0
           },
           {
            "bin_end": 0.4,
            "bin_start": 0.30000000000000004,
            "count": 0
           },
           {
            "bin_end": 0.5,
            "bin_start": 0.4,
            "count": 0
           },
           {
            "bin_end": 0.6000000000000001,
            "bin_start": 0.5,
            "count": 0
           },
           {
            "bin_end": 0.7000000000000001,
            "bin_start": 0.6000000000000001,
            "count": 0
           },
           {
            "bin_end": 0.8,
            "bin_start": 0.7000000000000001,
            "count": 0
           },
           {
            "bin_end": 0.9,
            "bin_start": 0.8,
            "count": 0
           },
           {
            "bin_end": 1,
            "bin_start": 0.9,
            "count": 162
           }
          ],
          "max": "1",
          "min": "0",
          "nan_count": 0,
          "unique_count": 2
         }
        },
        {
         "dtype": "float64",
         "name": "Age",
         "stats": {
          "histogram": [
           {
            "bin_end": 0.0982142857,
            "bin_start": 0,
            "count": 151
           },
           {
            "bin_end": 0.1964285714,
            "bin_start": 0.0982142857,
            "count": 254
           },
           {
            "bin_end": 0.2946428571,
            "bin_start": 0.1964285714,
            "count": 174
           },
           {
            "bin_end": 0.3928571428,
            "bin_start": 0.2946428571,
            "count": 124
           },
           {
            "bin_end": 0.4910714285,
            "bin_start": 0.3928571428,
            "count": 103
           },
           {
            "bin_end": 0.5892857142,
            "bin_start": 0.4910714285,
            "count": 63
           },
           {
            "bin_end": 0.6874999999,
            "bin_start": 0.5892857142,
            "count": 35
           },
           {
            "bin_end": 0.7857142856,
            "bin_start": 0.6874999999,
            "count": 21
           },
           {
            "bin_end": 0.8839285713,
            "bin_start": 0.7857142856,
            "count": 21
           },
           {
            "bin_end": 0.982142857,
            "bin_start": 0.8839285713,
            "count": 2
           }
          ],
          "max": "0.982142857",
          "min": "0.0",
          "nan_count": 0,
          "unique_count": 355
         }
        },
        {
         "dtype": "int64",
         "name": "Telephone1",
         "stats": {
          "histogram": [
           {
            "bin_end": 0.1,
            "bin_start": 0,
            "count": 573
           },
           {
            "bin_end": 0.2,
            "bin_start": 0.1,
            "count": 0
           },
           {
            "bin_end": 0.30000000000000004,
            "bin_start": 0.2,
            "count": 0
           },
           {
            "bin_end": 0.4,
            "bin_start": 0.30000000000000004,
            "count": 0
           },
           {
            "bin_end": 0.5,
            "bin_start": 0.4,
            "count": 0
           },
           {
            "bin_end": 0.6000000000000001,
            "bin_start": 0.5,
            "count": 0
           },
           {
            "bin_end": 0.7000000000000001,
            "bin_start": 0.6000000000000001,
            "count": 0
           },
           {
            "bin_end": 0.8,
            "bin_start": 0.7000000000000001,
            "count": 0
           },
           {
            "bin_end": 0.9,
            "bin_start": 0.8,
            "count": 0
           },
           {
            "bin_end": 1,
            "bin_start": 0.9,
            "count": 375
           }
          ],
          "max": "1",
          "min": "0",
          "nan_count": 0,
          "unique_count": 2
         }
        },
        {
         "dtype": "int64",
         "name": "CreditScore",
         "stats": {
          "histogram": [
           {
            "bin_end": 0.1,
            "bin_start": 0,
            "count": 424
           },
           {
            "bin_end": 0.2,
            "bin_start": 0.1,
            "count": 0
           },
           {
            "bin_end": 0.30000000000000004,
            "bin_start": 0.2,
            "count": 0
           },
           {
            "bin_end": 0.4,
            "bin_start": 0.30000000000000004,
            "count": 0
           },
           {
            "bin_end": 0.5,
            "bin_start": 0.4,
            "count": 0
           },
           {
            "bin_end": 0.6000000000000001,
            "bin_start": 0.5,
            "count": 0
           },
           {
            "bin_end": 0.7000000000000001,
            "bin_start": 0.6000000000000001,
            "count": 0
           },
           {
            "bin_end": 0.8,
            "bin_start": 0.7000000000000001,
            "count": 0
           },
           {
            "bin_end": 0.9,
            "bin_start": 0.8,
            "count": 0
           },
           {
            "bin_end": 1,
            "bin_start": 0.9,
            "count": 524
           }
          ],
          "max": "1",
          "min": "0",
          "nan_count": 0,
          "unique_count": 2
         }
        },
        {
         "dtype": "int64",
         "name": "_deepnote_index_column"
        }
       ],
       "row_count": 948,
       "rows_bottom": [
        {
         "Age": 0.106488004,
         "CheckingAcctStat A11": 0,
         "CheckingAcctStat A12": 1,
         "CheckingAcctStat A13": 0,
         "CheckingAcctStat A14": 0,
         "CreditHistory A30": 0,
         "CreditHistory A31": 0,
         "CreditHistory A32": 1,
         "CreditHistory A33": 0,
         "CreditHistory A34": 0,
         "CreditScore": 1,
         "Duration": 0.085427547,
         "Employment A71": 1,
         "Employment A72": 0,
         "Employment A73": 0,
         "Employment A74": 0,
         "Employment A75": 0,
         "InstallmentRatePecnt": 0.144094595,
         "PresentResidenceTime": 0.302185725,
         "Property A121": 0,
         "Property A122": 1,
         "Property A123": 0,
         "Property A124": 0,
         "Purpose A40": 1,
         "Purpose A41": 0,
         "Purpose A410": 0,
         "Purpose A42": 0,
         "Purpose A43": 0,
         "Purpose A44": 0,
         "Purpose A45": 0,
         "Purpose A46": 0,
         "Purpose A48": 0,
         "Purpose A49": 0,
         "Savings A61": 0,
         "Savings A62": 0,
         "Savings A63": 0,
         "Savings A64": 0,
         "Savings A65": 1,
         "Telephone1": 1,
         "_deepnote_index_column": 937
        },
        {
         "Age": 0.512101157,
         "CheckingAcctStat A11": 1,
         "CheckingAcctStat A12": 0,
         "CheckingAcctStat A13": 0,
         "CheckingAcctStat A14": 0,
         "CreditHistory A30": 0,
         "CreditHistory A31": 1,
         "CreditHistory A32": 0,
         "CreditHistory A33": 0,
         "CreditHistory A34": 0,
         "CreditScore": 1,
         "Duration": 0.117647059,
         "Employment A71": 0,
         "Employment A72": 0,
         "Employment A73": 1,
         "Employment A74": 0,
         "Employment A75": 0,
         "InstallmentRatePecnt": 1,
         "PresentResidenceTime": 0.691625898,
         "Property A121": 0,
         "Property A122": 0,
         "Property A123": 1,
         "Property A124": 0,
         "Purpose A40": 1,
         "Purpose A41": 0,
         "Purpose A410": 0,
         "Purpose A42": 0,
         "Purpose A43": 0,
         "Purpose A44": 0,
         "Purpose A45": 0,
         "Purpose A46": 0,
         "Purpose A48": 0,
         "Purpose A49": 0,
         "Savings A61": 1,
         "Savings A62": 0,
         "Savings A63": 0,
         "Savings A64": 0,
         "Savings A65": 0,
         "Telephone1": 1,
         "_deepnote_index_column": 938
        },
        {
         "Age": 0.484560749,
         "CheckingAcctStat A11": 1,
         "CheckingAcctStat A12": 0,
         "CheckingAcctStat A13": 0,
         "CheckingAcctStat A14": 0,
         "CreditHistory A30": 0,
         "CreditHistory A31": 1,
         "CreditHistory A32": 0,
         "CreditHistory A33": 0,
         "CreditHistory A34": 0,
         "CreditScore": 1,
         "Duration": 0.117647059,
         "Employment A71": 0,
         "Employment A72": 1,
         "Employment A73": 0,
         "Employment A74": 0,
         "Employment A75": 0,
         "InstallmentRatePecnt": 1,
         "PresentResidenceTime": 0.395628549,
         "Property A121": 0,
         "Property A122": 0,
         "Property A123": 1,
         "Property A124": 0,
         "Purpose A40": 1,
         "Purpose A41": 0,
         "Purpose A410": 0,
         "Purpose A42": 0,
         "Purpose A43": 0,
         "Purpose A44": 0,
         "Purpose A45": 0,
         "Purpose A46": 0,
         "Purpose A48": 0,
         "Purpose A49": 0,
         "Savings A61": 1,
         "Savings A62": 0,
         "Savings A63": 0,
         "Savings A64": 0,
         "Savings A65": 0,
         "Telephone1": 1,
         "_deepnote_index_column": 939
        },
        {
         "Age": 0.575484936,
         "CheckingAcctStat A11": 1,
         "CheckingAcctStat A12": 0,
         "CheckingAcctStat A13": 0,
         "CheckingAcctStat A14": 0,
         "CreditHistory A30": 0,
         "CreditHistory A31": 0,
         "CreditHistory A32": 1,
         "CreditHistory A33": 0,
         "CreditHistory A34": 0,
         "CreditScore": 1,
         "Duration": 0.302852281,
         "Employment A71": 0,
         "Employment A72": 0,
         "Employment A73": 0,
         "Employment A74": 0,
         "Employment A75": 1,
         "InstallmentRatePecnt": 1,
         "PresentResidenceTime": 1,
         "Property A121": 0,
         "Property A122": 0,
         "Property A123": 0,
         "Property A124": 1,
         "Purpose A40": 1,
         "Purpose A41": 0,
         "Purpose A410": 0,
         "Purpose A42": 0,
         "Purpose A43": 0,
         "Purpose A44": 0,
         "Purpose A45": 0,
         "Purpose A46": 0,
         "Purpose A48": 0,
         "Purpose A49": 0,
         "Savings A61": 1,
         "Savings A62": 0,
         "Savings A63": 0,
         "Savings A64": 0,
         "Savings A65": 0,
         "Telephone1": 0,
         "_deepnote_index_column": 940
        },
        {
         "Age": 0.424012691,
         "CheckingAcctStat A11": 1,
         "CheckingAcctStat A12": 0,
         "CheckingAcctStat A13": 0,
         "CheckingAcctStat A14": 0,
         "CreditHistory A30": 0,
         "CreditHistory A31": 0,
         "CreditHistory A32": 1,
         "CreditHistory A33": 0,
         "CreditHistory A34": 0,
         "CreditScore": 1,
         "Duration": 0.310964132,
         "Employment A71": 0,
         "Employment A72": 0,
         "Employment A73": 0,
         "Employment A74": 0,
         "Employment A75": 1,
         "InstallmentRatePecnt": 1,
         "PresentResidenceTime": 1,
         "Property A121": 0,
         "Property A122": 0,
         "Property A123": 0,
         "Property A124": 1,
         "Purpose A40": 1,
         "Purpose A41": 0,
         "Purpose A410": 0,
         "Purpose A42": 0,
         "Purpose A43": 0,
         "Purpose A44": 0,
         "Purpose A45": 0,
         "Purpose A46": 0,
         "Purpose A48": 0,
         "Purpose A49": 0,
         "Savings A61": 1,
         "Savings A62": 0,
         "Savings A63": 0,
         "Savings A64": 0,
         "Savings A65": 0,
         "Telephone1": 0,
         "_deepnote_index_column": 941
        },
        {
         "Age": 0.04493745,
         "CheckingAcctStat A11": 0,
         "CheckingAcctStat A12": 0,
         "CheckingAcctStat A13": 0,
         "CheckingAcctStat A14": 1,
         "CreditHistory A30": 0,
         "CreditHistory A31": 0,
         "CreditHistory A32": 1,
         "CreditHistory A33": 0,
         "CreditHistory A34": 0,
         "CreditScore": 1,
         "Duration": 0.159581047,
         "Employment A71": 1,
         "Employment A72": 0,
         "Employment A73": 0,
         "Employment A74": 0,
         "Employment A75": 0,
         "InstallmentRatePecnt": 0.386120238,
         "PresentResidenceTime": 0.691625898,
         "Property A121": 1,
         "Property A122": 0,
         "Property A123": 0,
         "Property A124": 0,
         "Purpose A40": 0,
         "Purpose A41": 0,
         "Purpose A410": 0,
         "Purpose A42": 0,
         "Purpose A43": 1,
         "Purpose A44": 0,
         "Purpose A45": 0,
         "Purpose A46": 0,
         "Purpose A48": 0,
         "Purpose A49": 0,
         "Savings A61": 1,
         "Savings A62": 0,
         "Savings A63": 0,
         "Savings A64": 0,
         "Savings A65": 0,
         "Telephone1": 0,
         "_deepnote_index_column": 942
        },
        {
         "Age": 0.003626838,
         "CheckingAcctStat A11": 0,
         "CheckingAcctStat A12": 0,
         "CheckingAcctStat A13": 0,
         "CheckingAcctStat A14": 1,
         "CreditHistory A30": 0,
         "CreditHistory A31": 0,
         "CreditHistory A32": 1,
         "CreditHistory A33": 0,
         "CreditHistory A34": 0,
         "CreditScore": 1,
         "Duration": 0.157553085,
         "Employment A71": 0,
         "Employment A72": 1,
         "Employment A73": 0,
         "Employment A74": 0,
         "Employment A75": 0,
         "InstallmentRatePecnt": 0.477427928,
         "PresentResidenceTime": 0.395628549,
         "Property A121": 0,
         "Property A122": 0,
         "Property A123": 1,
         "Property A124": 0,
         "Purpose A40": 0,
         "Purpose A41": 0,
         "Purpose A410": 0,
         "Purpose A42": 0,
         "Purpose A43": 1,
         "Purpose A44": 0,
         "Purpose A45": 0,
         "Purpose A46": 0,
         "Purpose A48": 0,
         "Purpose A49": 0,
         "Savings A61": 1,
         "Savings A62": 0,
         "Savings A63": 0,
         "Savings A64": 0,
         "Savings A65": 0,
         "Telephone1": 0,
         "_deepnote_index_column": 943
        },
        {
         "Age": 0.136511971,
         "CheckingAcctStat A11": 0,
         "CheckingAcctStat A12": 1,
         "CheckingAcctStat A13": 0,
         "CheckingAcctStat A14": 0,
         "CreditHistory A30": 0,
         "CreditHistory A31": 0,
         "CreditHistory A32": 1,
         "CreditHistory A33": 0,
         "CreditHistory A34": 0,
         "CreditScore": 1,
         "Duration": 0.347118087,
         "Employment A71": 0,
         "Employment A72": 0,
         "Employment A73": 1,
         "Employment A74": 0,
         "Employment A75": 0,
         "InstallmentRatePecnt": 1,
         "PresentResidenceTime": 0.333333333,
         "Property A121": 0,
         "Property A122": 1,
         "Property A123": 0,
         "Property A124": 0,
         "Purpose A40": 0,
         "Purpose A41": 0,
         "Purpose A410": 0,
         "Purpose A42": 0,
         "Purpose A43": 0,
         "Purpose A44": 0,
         "Purpose A45": 0,
         "Purpose A46": 1,
         "Purpose A48": 0,
         "Purpose A49": 0,
         "Savings A61": 1,
         "Savings A62": 0,
         "Savings A63": 0,
         "Savings A64": 0,
         "Savings A65": 0,
         "Telephone1": 0,
         "_deepnote_index_column": 944
        },
        {
         "Age": 0.191592788,
         "CheckingAcctStat A11": 0,
         "CheckingAcctStat A12": 1,
         "CheckingAcctStat A13": 0,
         "CheckingAcctStat A14": 0,
         "CreditHistory A30": 0,
         "CreditHistory A31": 0,
         "CreditHistory A32": 1,
         "CreditHistory A33": 0,
         "CreditHistory A34": 0,
         "CreditScore": 1,
         "Duration": 0.341710187,
         "Employment A71": 0,
         "Employment A72": 0,
         "Employment A73": 1,
         "Employment A74": 0,
         "Employment A75": 0,
         "InstallmentRatePecnt": 1,
         "PresentResidenceTime": 0.333333333,
         "Property A121": 0,
         "Property A122": 0,
         "Property A123": 1,
         "Property A124": 0,
         "Purpose A40": 0,
         "Purpose A41": 0,
         "Purpose A410": 0,
         "Purpose A42": 0,
         "Purpose A43": 0,
         "Purpose A44": 0,
         "Purpose A45": 0,
         "Purpose A46": 1,
         "Purpose A48": 0,
         "Purpose A49": 0,
         "Savings A61": 1,
         "Savings A62": 0,
         "Savings A63": 0,
         "Savings A64": 0,
         "Savings A65": 0,
         "Telephone1": 0,
         "_deepnote_index_column": 945
        },
        {
         "Age": 0.717820829,
         "CheckingAcctStat A11": 1,
         "CheckingAcctStat A12": 0,
         "CheckingAcctStat A13": 0,
         "CheckingAcctStat A14": 0,
         "CreditHistory A30": 0,
         "CreditHistory A31": 1,
         "CreditHistory A32": 0,
         "CreditHistory A33": 0,
         "CreditHistory A34": 0,
         "CreditScore": 1,
         "Duration": 0.175014816,
         "Employment A71": 0,
         "Employment A72": 0,
         "Employment A73": 1,
         "Employment A74": 0,
         "Employment A75": 0,
         "InstallmentRatePecnt": 1,
         "PresentResidenceTime": 0.179146282,
         "Property A121": 0,
         "Property A122": 0,
         "Property A123": 1,
         "Property A124": 0,
         "Purpose A40": 0,
         "Purpose A41": 0,
         "Purpose A410": 0,
         "Purpose A42": 0,
         "Purpose A43": 0,
         "Purpose A44": 1,
         "Purpose A45": 0,
         "Purpose A46": 0,
         "Purpose A48": 0,
         "Purpose A49": 0,
         "Savings A61": 1,
         "Savings A62": 0,
         "Savings A63": 0,
         "Savings A64": 0,
         "Savings A65": 0,
         "Telephone1": 0,
         "_deepnote_index_column": 946
        },
        {
         "Age": 0.222093483,
         "CheckingAcctStat A11": 1,
         "CheckingAcctStat A12": 0,
         "CheckingAcctStat A13": 0,
         "CheckingAcctStat A14": 0,
         "CreditHistory A30": 0,
         "CreditHistory A31": 0,
         "CreditHistory A32": 0,
         "CreditHistory A33": 0,
         "CreditHistory A34": 1,
         "CreditScore": 1,
         "Duration": 0.173662841,
         "Employment A71": 0,
         "Employment A72": 0,
         "Employment A73": 1,
         "Employment A74": 0,
         "Employment A75": 0,
         "InstallmentRatePecnt": 1,
         "PresentResidenceTime": 0.093442824,
         "Property A121": 0,
         "Property A122": 0,
         "Property A123": 0,
         "Property A124": 1,
         "Purpose A40": 0,
         "Purpose A41": 0,
         "Purpose A410": 0,
         "Purpose A42": 0,
         "Purpose A43": 0,
         "Purpose A44": 1,
         "Purpose A45": 0,
         "Purpose A46": 0,
         "Purpose A48": 0,
         "Purpose A49": 0,
         "Savings A61": 1,
         "Savings A62": 0,
         "Savings A63": 0,
         "Savings A64": 0,
         "Savings A65": 0,
         "Telephone1": 0,
         "_deepnote_index_column": 947
        },
        {
         "Age": 0.068550579,
         "CheckingAcctStat A11": 1,
         "CheckingAcctStat A12": 0,
         "CheckingAcctStat A13": 0,
         "CheckingAcctStat A14": 0,
         "CreditHistory A30": 0,
         "CreditHistory A31": 0,
         "CreditHistory A32": 1,
         "CreditHistory A33": 0,
         "CreditHistory A34": 0,
         "CreditScore": 1,
         "Duration": 0.060279302,
         "Employment A71": 0,
         "Employment A72": 1,
         "Employment A73": 0,
         "Employment A74": 0,
         "Employment A75": 0,
         "InstallmentRatePecnt": 1,
         "PresentResidenceTime": 0.487520384,
         "Property A121": 0,
         "Property A122": 1,
         "Property A123": 0,
         "Property A124": 0,
         "Purpose A40": 0,
         "Purpose A41": 0,
         "Purpose A410": 0,
         "Purpose A42": 0,
         "Purpose A43": 0,
         "Purpose A44": 0,
         "Purpose A45": 1,
         "Purpose A46": 0,
         "Purpose A48": 0,
         "Purpose A49": 0,
         "Savings A61": 0,
         "Savings A62": 1,
         "Savings A63": 0,
         "Savings A64": 0,
         "Savings A65": 0,
         "Telephone1": 0,
         "_deepnote_index_column": 948
        },
        {
         "Age": 0.054780375,
         "CheckingAcctStat A11": 1,
         "CheckingAcctStat A12": 0,
         "CheckingAcctStat A13": 0,
         "CheckingAcctStat A14": 0,
         "CreditHistory A30": 0,
         "CreditHistory A31": 0,
         "CreditHistory A32": 1,
         "CreditHistory A33": 0,
         "CreditHistory A34": 0,
         "CreditScore": 1,
         "Duration": 0.061631277,
         "Employment A71": 1,
         "Employment A72": 0,
         "Employment A73": 0,
         "Employment A74": 0,
         "Employment A75": 0,
         "InstallmentRatePecnt": 1,
         "PresentResidenceTime": 0.697814275,
         "Property A121": 0,
         "Property A122": 1,
         "Property A123": 0,
         "Property A124": 0,
         "Purpose A40": 0,
         "Purpose A41": 0,
         "Purpose A410": 0,
         "Purpose A42": 0,
         "Purpose A43": 0,
         "Purpose A44": 0,
         "Purpose A45": 1,
         "Purpose A46": 0,
         "Purpose A48": 0,
         "Purpose A49": 0,
         "Savings A61": 0,
         "Savings A62": 1,
         "Savings A63": 0,
         "Savings A64": 0,
         "Savings A65": 0,
         "Telephone1": 0,
         "_deepnote_index_column": 949
        }
       ],
       "rows_top": [
        {
         "Age": 0.089285714,
         "CheckingAcctStat A11": 1,
         "CheckingAcctStat A12": 0,
         "CheckingAcctStat A13": 0,
         "CheckingAcctStat A14": 0,
         "CreditHistory A30": 0,
         "CreditHistory A31": 0,
         "CreditHistory A32": 1,
         "CreditHistory A33": 0,
         "CreditHistory A34": 0,
         "CreditScore": 1,
         "Duration": 0.205882353,
         "Employment A71": 0,
         "Employment A72": 0,
         "Employment A73": 1,
         "Employment A74": 0,
         "Employment A75": 0,
         "InstallmentRatePecnt": 0.333333333,
         "PresentResidenceTime": 0.333333333,
         "Property A121": 1,
         "Property A122": 0,
         "Property A123": 0,
         "Property A124": 0,
         "Purpose A40": 0,
         "Purpose A41": 0,
         "Purpose A410": 0,
         "Purpose A42": 0,
         "Purpose A43": 0,
         "Purpose A44": 1,
         "Purpose A45": 0,
         "Purpose A46": 0,
         "Purpose A48": 0,
         "Purpose A49": 0,
         "Savings A61": 1,
         "Savings A62": 0,
         "Savings A63": 0,
         "Savings A64": 0,
         "Savings A65": 0,
         "Telephone1": 0,
         "_deepnote_index_column": 0
        },
        {
         "Age": 0.232142857,
         "CheckingAcctStat A11": 0,
         "CheckingAcctStat A12": 0,
         "CheckingAcctStat A13": 0,
         "CheckingAcctStat A14": 1,
         "CreditHistory A30": 0,
         "CreditHistory A31": 0,
         "CreditHistory A32": 1,
         "CreditHistory A33": 0,
         "CreditHistory A34": 0,
         "CreditScore": 0,
         "Duration": 0.205882353,
         "Employment A71": 0,
         "Employment A72": 0,
         "Employment A73": 1,
         "Employment A74": 0,
         "Employment A75": 0,
         "InstallmentRatePecnt": 1,
         "PresentResidenceTime": 0.333333333,
         "Property A121": 0,
         "Property A122": 0,
         "Property A123": 0,
         "Property A124": 1,
         "Purpose A40": 0,
         "Purpose A41": 0,
         "Purpose A410": 0,
         "Purpose A42": 0,
         "Purpose A43": 0,
         "Purpose A44": 1,
         "Purpose A45": 0,
         "Purpose A46": 0,
         "Purpose A48": 0,
         "Purpose A49": 0,
         "Savings A61": 1,
         "Savings A62": 0,
         "Savings A63": 0,
         "Savings A64": 0,
         "Savings A65": 0,
         "Telephone1": 1,
         "_deepnote_index_column": 2
        },
        {
         "Age": 0.178571429,
         "CheckingAcctStat A11": 0,
         "CheckingAcctStat A12": 0,
         "CheckingAcctStat A13": 1,
         "CheckingAcctStat A14": 0,
         "CreditHistory A30": 0,
         "CreditHistory A31": 0,
         "CreditHistory A32": 0,
         "CreditHistory A33": 1,
         "CreditHistory A34": 0,
         "CreditScore": 0,
         "Duration": 0.029411765,
         "Employment A71": 0,
         "Employment A72": 1,
         "Employment A73": 0,
         "Employment A74": 0,
         "Employment A75": 0,
         "InstallmentRatePecnt": 0.333333333,
         "PresentResidenceTime": 0,
         "Property A121": 0,
         "Property A122": 1,
         "Property A123": 0,
         "Property A124": 0,
         "Purpose A40": 0,
         "Purpose A41": 0,
         "Purpose A410": 0,
         "Purpose A42": 0,
         "Purpose A43": 0,
         "Purpose A44": 1,
         "Purpose A45": 0,
         "Purpose A46": 0,
         "Purpose A48": 0,
         "Purpose A49": 0,
         "Savings A61": 1,
         "Savings A62": 0,
         "Savings A63": 0,
         "Savings A64": 0,
         "Savings A65": 0,
         "Telephone1": 0,
         "_deepnote_index_column": 4
        },
        {
         "Age": 0.446428571,
         "CheckingAcctStat A11": 1,
         "CheckingAcctStat A12": 0,
         "CheckingAcctStat A13": 0,
         "CheckingAcctStat A14": 0,
         "CreditHistory A30": 0,
         "CreditHistory A31": 0,
         "CreditHistory A32": 1,
         "CreditHistory A33": 0,
         "CreditHistory A34": 0,
         "CreditScore": 0,
         "Duration": 0.029411765,
         "Employment A71": 0,
         "Employment A72": 0,
         "Employment A73": 1,
         "Employment A74": 0,
         "Employment A75": 0,
         "InstallmentRatePecnt": 0.333333333,
         "PresentResidenceTime": 0.666666667,
         "Property A121": 1,
         "Property A122": 0,
         "Property A123": 0,
         "Property A124": 0,
         "Purpose A40": 0,
         "Purpose A41": 0,
         "Purpose A410": 0,
         "Purpose A42": 0,
         "Purpose A43": 0,
         "Purpose A44": 1,
         "Purpose A45": 0,
         "Purpose A46": 0,
         "Purpose A48": 0,
         "Purpose A49": 0,
         "Savings A61": 0,
         "Savings A62": 0,
         "Savings A63": 1,
         "Savings A64": 0,
         "Savings A65": 0,
         "Telephone1": 0,
         "_deepnote_index_column": 5
        },
        {
         "Age": 0.196428571,
         "CheckingAcctStat A11": 0,
         "CheckingAcctStat A12": 0,
         "CheckingAcctStat A13": 0,
         "CheckingAcctStat A14": 1,
         "CreditHistory A30": 0,
         "CreditHistory A31": 0,
         "CreditHistory A32": 0,
         "CreditHistory A33": 0,
         "CreditHistory A34": 1,
         "CreditScore": 1,
         "Duration": 0.205882353,
         "Employment A71": 0,
         "Employment A72": 0,
         "Employment A73": 1,
         "Employment A74": 0,
         "Employment A75": 0,
         "InstallmentRatePecnt": 1,
         "PresentResidenceTime": 0.333333333,
         "Property A121": 1,
         "Property A122": 0,
         "Property A123": 0,
         "Property A124": 0,
         "Purpose A40": 0,
         "Purpose A41": 0,
         "Purpose A410": 0,
         "Purpose A42": 0,
         "Purpose A43": 0,
         "Purpose A44": 0,
         "Purpose A45": 0,
         "Purpose A46": 0,
         "Purpose A48": 1,
         "Purpose A49": 0,
         "Savings A61": 0,
         "Savings A62": 1,
         "Savings A63": 0,
         "Savings A64": 0,
         "Savings A65": 0,
         "Telephone1": 0,
         "_deepnote_index_column": 6
        },
        {
         "Age": 0.035714286,
         "CheckingAcctStat A11": 1,
         "CheckingAcctStat A12": 0,
         "CheckingAcctStat A13": 0,
         "CheckingAcctStat A14": 0,
         "CreditHistory A30": 0,
         "CreditHistory A31": 0,
         "CreditHistory A32": 1,
         "CreditHistory A33": 0,
         "CreditHistory A34": 0,
         "CreditScore": 1,
         "Duration": 0.117647059,
         "Employment A71": 0,
         "Employment A72": 0,
         "Employment A73": 0,
         "Employment A74": 1,
         "Employment A75": 0,
         "InstallmentRatePecnt": 1,
         "PresentResidenceTime": 1,
         "Property A121": 0,
         "Property A122": 1,
         "Property A123": 0,
         "Property A124": 0,
         "Purpose A40": 0,
         "Purpose A41": 0,
         "Purpose A410": 0,
         "Purpose A42": 0,
         "Purpose A43": 0,
         "Purpose A44": 0,
         "Purpose A45": 0,
         "Purpose A46": 0,
         "Purpose A48": 0,
         "Purpose A49": 1,
         "Savings A61": 1,
         "Savings A62": 0,
         "Savings A63": 0,
         "Savings A64": 0,
         "Savings A65": 0,
         "Telephone1": 0,
         "_deepnote_index_column": 7
        },
        {
         "Age": 0.357142857,
         "CheckingAcctStat A11": 1,
         "CheckingAcctStat A12": 0,
         "CheckingAcctStat A13": 0,
         "CheckingAcctStat A14": 0,
         "CreditHistory A30": 0,
         "CreditHistory A31": 0,
         "CreditHistory A32": 0,
         "CreditHistory A33": 0,
         "CreditHistory A34": 1,
         "CreditScore": 0,
         "Duration": 0.029411765,
         "Employment A71": 0,
         "Employment A72": 0,
         "Employment A73": 0,
         "Employment A74": 1,
         "Employment A75": 0,
         "InstallmentRatePecnt": 0.666666667,
         "PresentResidenceTime": 1,
         "Property A121": 1,
         "Property A122": 0,
         "Property A123": 0,
         "Property A124": 0,
         "Purpose A40": 1,
         "Purpose A41": 0,
         "Purpose A410": 0,
         "Purpose A42": 0,
         "Purpose A43": 0,
         "Purpose A44": 0,
         "Purpose A45": 0,
         "Purpose A46": 0,
         "Purpose A48": 0,
         "Purpose A49": 0,
         "Savings A61": 0,
         "Savings A62": 0,
         "Savings A63": 0,
         "Savings A64": 1,
         "Savings A65": 0,
         "Telephone1": 1,
         "_deepnote_index_column": 8
        },
        {
         "Age": 0.017857143,
         "CheckingAcctStat A11": 0,
         "CheckingAcctStat A12": 0,
         "CheckingAcctStat A13": 0,
         "CheckingAcctStat A14": 1,
         "CreditHistory A30": 0,
         "CreditHistory A31": 0,
         "CreditHistory A32": 1,
         "CreditHistory A33": 0,
         "CreditHistory A34": 0,
         "CreditScore": 0,
         "Duration": 0.161764706,
         "Employment A71": 0,
         "Employment A72": 0,
         "Employment A73": 1,
         "Employment A74": 0,
         "Employment A75": 0,
         "InstallmentRatePecnt": 0.333333333,
         "PresentResidenceTime": 1,
         "Property A121": 0,
         "Property A122": 0,
         "Property A123": 1,
         "Property A124": 0,
         "Purpose A40": 0,
         "Purpose A41": 0,
         "Purpose A410": 0,
         "Purpose A42": 0,
         "Purpose A43": 1,
         "Purpose A44": 0,
         "Purpose A45": 0,
         "Purpose A46": 0,
         "Purpose A48": 0,
         "Purpose A49": 0,
         "Savings A61": 0,
         "Savings A62": 0,
         "Savings A63": 1,
         "Savings A64": 0,
         "Savings A65": 0,
         "Telephone1": 0,
         "_deepnote_index_column": 9
        },
        {
         "Age": 0.303571429,
         "CheckingAcctStat A11": 0,
         "CheckingAcctStat A12": 0,
         "CheckingAcctStat A13": 0,
         "CheckingAcctStat A14": 1,
         "CreditHistory A30": 0,
         "CreditHistory A31": 0,
         "CreditHistory A32": 1,
         "CreditHistory A33": 0,
         "CreditHistory A34": 0,
         "CreditScore": 0,
         "Duration": 0.470588235,
         "Employment A71": 0,
         "Employment A72": 0,
         "Employment A73": 0,
         "Employment A74": 0,
         "Employment A75": 1,
         "InstallmentRatePecnt": 1,
         "PresentResidenceTime": 1,
         "Property A121": 0,
         "Property A122": 1,
         "Property A123": 0,
         "Property A124": 0,
         "Purpose A40": 1,
         "Purpose A41": 0,
         "Purpose A410": 0,
         "Purpose A42": 0,
         "Purpose A43": 0,
         "Purpose A44": 0,
         "Purpose A45": 0,
         "Purpose A46": 0,
         "Purpose A48": 0,
         "Purpose A49": 0,
         "Savings A61": 0,
         "Savings A62": 0,
         "Savings A63": 1,
         "Savings A64": 0,
         "Savings A65": 0,
         "Telephone1": 0,
         "_deepnote_index_column": 10
        },
        {
         "Age": 0.339285714,
         "CheckingAcctStat A11": 0,
         "CheckingAcctStat A12": 1,
         "CheckingAcctStat A13": 0,
         "CheckingAcctStat A14": 0,
         "CreditHistory A30": 0,
         "CreditHistory A31": 0,
         "CreditHistory A32": 0,
         "CreditHistory A33": 0,
         "CreditHistory A34": 1,
         "CreditScore": 1,
         "Duration": 0.294117647,
         "Employment A71": 0,
         "Employment A72": 1,
         "Employment A73": 0,
         "Employment A74": 0,
         "Employment A75": 0,
         "InstallmentRatePecnt": 1,
         "PresentResidenceTime": 1,
         "Property A121": 0,
         "Property A122": 0,
         "Property A123": 0,
         "Property A124": 1,
         "Purpose A40": 0,
         "Purpose A41": 0,
         "Purpose A410": 0,
         "Purpose A42": 0,
         "Purpose A43": 0,
         "Purpose A44": 1,
         "Purpose A45": 0,
         "Purpose A46": 0,
         "Purpose A48": 0,
         "Purpose A49": 0,
         "Savings A61": 0,
         "Savings A62": 1,
         "Savings A63": 0,
         "Savings A64": 0,
         "Savings A65": 0,
         "Telephone1": 0,
         "_deepnote_index_column": 11
        },
        {
         "Age": 0.375,
         "CheckingAcctStat A11": 0,
         "CheckingAcctStat A12": 1,
         "CheckingAcctStat A13": 0,
         "CheckingAcctStat A14": 0,
         "CreditHistory A30": 0,
         "CreditHistory A31": 0,
         "CreditHistory A32": 1,
         "CreditHistory A33": 0,
         "CreditHistory A34": 0,
         "CreditScore": 0,
         "Duration": 0.205882353,
         "Employment A71": 0,
         "Employment A72": 0,
         "Employment A73": 0,
         "Employment A74": 1,
         "Employment A75": 0,
         "InstallmentRatePecnt": 0.333333333,
         "PresentResidenceTime": 1,
         "Property A121": 1,
         "Property A122": 0,
         "Property A123": 0,
         "Property A124": 0,
         "Purpose A40": 0,
         "Purpose A41": 0,
         "Purpose A410": 0,
         "Purpose A42": 0,
         "Purpose A43": 1,
         "Purpose A44": 0,
         "Purpose A45": 0,
         "Purpose A46": 0,
         "Purpose A48": 0,
         "Purpose A49": 0,
         "Savings A61": 1,
         "Savings A62": 0,
         "Savings A63": 0,
         "Savings A64": 0,
         "Savings A65": 0,
         "Telephone1": 0,
         "_deepnote_index_column": 12
        },
        {
         "Age": 0.303571429,
         "CheckingAcctStat A11": 0,
         "CheckingAcctStat A12": 0,
         "CheckingAcctStat A13": 0,
         "CheckingAcctStat A14": 1,
         "CreditHistory A30": 0,
         "CreditHistory A31": 0,
         "CreditHistory A32": 0,
         "CreditHistory A33": 1,
         "CreditHistory A34": 0,
         "CreditScore": 0,
         "Duration": 0.044117647,
         "Employment A71": 0,
         "Employment A72": 0,
         "Employment A73": 0,
         "Employment A74": 0,
         "Employment A75": 1,
         "InstallmentRatePecnt": 0.666666667,
         "PresentResidenceTime": 1,
         "Property A121": 0,
         "Property A122": 0,
         "Property A123": 0,
         "Property A124": 1,
         "Purpose A40": 0,
         "Purpose A41": 0,
         "Purpose A410": 0,
         "Purpose A42": 0,
         "Purpose A43": 0,
         "Purpose A44": 1,
         "Purpose A45": 0,
         "Purpose A46": 0,
         "Purpose A48": 0,
         "Purpose A49": 0,
         "Savings A61": 0,
         "Savings A62": 0,
         "Savings A63": 0,
         "Savings A64": 0,
         "Savings A65": 1,
         "Telephone1": 0,
         "_deepnote_index_column": 13
        }
       ]
      },
      "text/html": [
       "<div>\n",
       "<style scoped>\n",
       "    .dataframe tbody tr th:only-of-type {\n",
       "        vertical-align: middle;\n",
       "    }\n",
       "\n",
       "    .dataframe tbody tr th {\n",
       "        vertical-align: top;\n",
       "    }\n",
       "\n",
       "    .dataframe thead th {\n",
       "        text-align: right;\n",
       "    }\n",
       "</style>\n",
       "<table border=\"1\" class=\"dataframe\">\n",
       "  <thead>\n",
       "    <tr style=\"text-align: right;\">\n",
       "      <th></th>\n",
       "      <th>CheckingAcctStat A11</th>\n",
       "      <th>CheckingAcctStat A12</th>\n",
       "      <th>CheckingAcctStat A13</th>\n",
       "      <th>CheckingAcctStat A14</th>\n",
       "      <th>Duration</th>\n",
       "      <th>CreditHistory A30</th>\n",
       "      <th>CreditHistory A31</th>\n",
       "      <th>CreditHistory A32</th>\n",
       "      <th>CreditHistory A33</th>\n",
       "      <th>CreditHistory A34</th>\n",
       "      <th>...</th>\n",
       "      <th>Employment A75</th>\n",
       "      <th>InstallmentRatePecnt</th>\n",
       "      <th>PresentResidenceTime</th>\n",
       "      <th>Property A121</th>\n",
       "      <th>Property A122</th>\n",
       "      <th>Property A123</th>\n",
       "      <th>Property A124</th>\n",
       "      <th>Age</th>\n",
       "      <th>Telephone1</th>\n",
       "      <th>CreditScore</th>\n",
       "    </tr>\n",
       "  </thead>\n",
       "  <tbody>\n",
       "    <tr>\n",
       "      <th>0</th>\n",
       "      <td>1</td>\n",
       "      <td>0</td>\n",
       "      <td>0</td>\n",
       "      <td>0</td>\n",
       "      <td>0.205882</td>\n",
       "      <td>0</td>\n",
       "      <td>0</td>\n",
       "      <td>1</td>\n",
       "      <td>0</td>\n",
       "      <td>0</td>\n",
       "      <td>...</td>\n",
       "      <td>0</td>\n",
       "      <td>0.333333</td>\n",
       "      <td>0.333333</td>\n",
       "      <td>1</td>\n",
       "      <td>0</td>\n",
       "      <td>0</td>\n",
       "      <td>0</td>\n",
       "      <td>0.089286</td>\n",
       "      <td>0</td>\n",
       "      <td>1</td>\n",
       "    </tr>\n",
       "    <tr>\n",
       "      <th>2</th>\n",
       "      <td>0</td>\n",
       "      <td>0</td>\n",
       "      <td>0</td>\n",
       "      <td>1</td>\n",
       "      <td>0.205882</td>\n",
       "      <td>0</td>\n",
       "      <td>0</td>\n",
       "      <td>1</td>\n",
       "      <td>0</td>\n",
       "      <td>0</td>\n",
       "      <td>...</td>\n",
       "      <td>0</td>\n",
       "      <td>1.000000</td>\n",
       "      <td>0.333333</td>\n",
       "      <td>0</td>\n",
       "      <td>0</td>\n",
       "      <td>0</td>\n",
       "      <td>1</td>\n",
       "      <td>0.232143</td>\n",
       "      <td>1</td>\n",
       "      <td>0</td>\n",
       "    </tr>\n",
       "    <tr>\n",
       "      <th>4</th>\n",
       "      <td>0</td>\n",
       "      <td>0</td>\n",
       "      <td>1</td>\n",
       "      <td>0</td>\n",
       "      <td>0.029412</td>\n",
       "      <td>0</td>\n",
       "      <td>0</td>\n",
       "      <td>0</td>\n",
       "      <td>1</td>\n",
       "      <td>0</td>\n",
       "      <td>...</td>\n",
       "      <td>0</td>\n",
       "      <td>0.333333</td>\n",
       "      <td>0.000000</td>\n",
       "      <td>0</td>\n",
       "      <td>1</td>\n",
       "      <td>0</td>\n",
       "      <td>0</td>\n",
       "      <td>0.178571</td>\n",
       "      <td>0</td>\n",
       "      <td>0</td>\n",
       "    </tr>\n",
       "    <tr>\n",
       "      <th>5</th>\n",
       "      <td>1</td>\n",
       "      <td>0</td>\n",
       "      <td>0</td>\n",
       "      <td>0</td>\n",
       "      <td>0.029412</td>\n",
       "      <td>0</td>\n",
       "      <td>0</td>\n",
       "      <td>1</td>\n",
       "      <td>0</td>\n",
       "      <td>0</td>\n",
       "      <td>...</td>\n",
       "      <td>0</td>\n",
       "      <td>0.333333</td>\n",
       "      <td>0.666667</td>\n",
       "      <td>1</td>\n",
       "      <td>0</td>\n",
       "      <td>0</td>\n",
       "      <td>0</td>\n",
       "      <td>0.446429</td>\n",
       "      <td>0</td>\n",
       "      <td>0</td>\n",
       "    </tr>\n",
       "    <tr>\n",
       "      <th>6</th>\n",
       "      <td>0</td>\n",
       "      <td>0</td>\n",
       "      <td>0</td>\n",
       "      <td>1</td>\n",
       "      <td>0.205882</td>\n",
       "      <td>0</td>\n",
       "      <td>0</td>\n",
       "      <td>0</td>\n",
       "      <td>0</td>\n",
       "      <td>1</td>\n",
       "      <td>...</td>\n",
       "      <td>0</td>\n",
       "      <td>1.000000</td>\n",
       "      <td>0.333333</td>\n",
       "      <td>1</td>\n",
       "      <td>0</td>\n",
       "      <td>0</td>\n",
       "      <td>0</td>\n",
       "      <td>0.196429</td>\n",
       "      <td>0</td>\n",
       "      <td>1</td>\n",
       "    </tr>\n",
       "    <tr>\n",
       "      <th>...</th>\n",
       "      <td>...</td>\n",
       "      <td>...</td>\n",
       "      <td>...</td>\n",
       "      <td>...</td>\n",
       "      <td>...</td>\n",
       "      <td>...</td>\n",
       "      <td>...</td>\n",
       "      <td>...</td>\n",
       "      <td>...</td>\n",
       "      <td>...</td>\n",
       "      <td>...</td>\n",
       "      <td>...</td>\n",
       "      <td>...</td>\n",
       "      <td>...</td>\n",
       "      <td>...</td>\n",
       "      <td>...</td>\n",
       "      <td>...</td>\n",
       "      <td>...</td>\n",
       "      <td>...</td>\n",
       "      <td>...</td>\n",
       "      <td>...</td>\n",
       "    </tr>\n",
       "    <tr>\n",
       "      <th>945</th>\n",
       "      <td>0</td>\n",
       "      <td>1</td>\n",
       "      <td>0</td>\n",
       "      <td>0</td>\n",
       "      <td>0.341710</td>\n",
       "      <td>0</td>\n",
       "      <td>0</td>\n",
       "      <td>1</td>\n",
       "      <td>0</td>\n",
       "      <td>0</td>\n",
       "      <td>...</td>\n",
       "      <td>0</td>\n",
       "      <td>1.000000</td>\n",
       "      <td>0.333333</td>\n",
       "      <td>0</td>\n",
       "      <td>0</td>\n",
       "      <td>1</td>\n",
       "      <td>0</td>\n",
       "      <td>0.191593</td>\n",
       "      <td>0</td>\n",
       "      <td>1</td>\n",
       "    </tr>\n",
       "    <tr>\n",
       "      <th>946</th>\n",
       "      <td>1</td>\n",
       "      <td>0</td>\n",
       "      <td>0</td>\n",
       "      <td>0</td>\n",
       "      <td>0.175015</td>\n",
       "      <td>0</td>\n",
       "      <td>1</td>\n",
       "      <td>0</td>\n",
       "      <td>0</td>\n",
       "      <td>0</td>\n",
       "      <td>...</td>\n",
       "      <td>0</td>\n",
       "      <td>1.000000</td>\n",
       "      <td>0.179146</td>\n",
       "      <td>0</td>\n",
       "      <td>0</td>\n",
       "      <td>1</td>\n",
       "      <td>0</td>\n",
       "      <td>0.717821</td>\n",
       "      <td>0</td>\n",
       "      <td>1</td>\n",
       "    </tr>\n",
       "    <tr>\n",
       "      <th>947</th>\n",
       "      <td>1</td>\n",
       "      <td>0</td>\n",
       "      <td>0</td>\n",
       "      <td>0</td>\n",
       "      <td>0.173663</td>\n",
       "      <td>0</td>\n",
       "      <td>0</td>\n",
       "      <td>0</td>\n",
       "      <td>0</td>\n",
       "      <td>1</td>\n",
       "      <td>...</td>\n",
       "      <td>0</td>\n",
       "      <td>1.000000</td>\n",
       "      <td>0.093443</td>\n",
       "      <td>0</td>\n",
       "      <td>0</td>\n",
       "      <td>0</td>\n",
       "      <td>1</td>\n",
       "      <td>0.222093</td>\n",
       "      <td>0</td>\n",
       "      <td>1</td>\n",
       "    </tr>\n",
       "    <tr>\n",
       "      <th>948</th>\n",
       "      <td>1</td>\n",
       "      <td>0</td>\n",
       "      <td>0</td>\n",
       "      <td>0</td>\n",
       "      <td>0.060279</td>\n",
       "      <td>0</td>\n",
       "      <td>0</td>\n",
       "      <td>1</td>\n",
       "      <td>0</td>\n",
       "      <td>0</td>\n",
       "      <td>...</td>\n",
       "      <td>0</td>\n",
       "      <td>1.000000</td>\n",
       "      <td>0.487520</td>\n",
       "      <td>0</td>\n",
       "      <td>1</td>\n",
       "      <td>0</td>\n",
       "      <td>0</td>\n",
       "      <td>0.068551</td>\n",
       "      <td>0</td>\n",
       "      <td>1</td>\n",
       "    </tr>\n",
       "    <tr>\n",
       "      <th>949</th>\n",
       "      <td>1</td>\n",
       "      <td>0</td>\n",
       "      <td>0</td>\n",
       "      <td>0</td>\n",
       "      <td>0.061631</td>\n",
       "      <td>0</td>\n",
       "      <td>0</td>\n",
       "      <td>1</td>\n",
       "      <td>0</td>\n",
       "      <td>0</td>\n",
       "      <td>...</td>\n",
       "      <td>0</td>\n",
       "      <td>1.000000</td>\n",
       "      <td>0.697814</td>\n",
       "      <td>0</td>\n",
       "      <td>1</td>\n",
       "      <td>0</td>\n",
       "      <td>0</td>\n",
       "      <td>0.054780</td>\n",
       "      <td>0</td>\n",
       "      <td>1</td>\n",
       "    </tr>\n",
       "  </tbody>\n",
       "</table>\n",
       "<p>948 rows × 39 columns</p>\n",
       "</div>"
      ],
      "text/plain": [
       "     CheckingAcctStat A11  CheckingAcctStat A12  CheckingAcctStat A13  \\\n",
       "0                       1                     0                     0   \n",
       "2                       0                     0                     0   \n",
       "4                       0                     0                     1   \n",
       "5                       1                     0                     0   \n",
       "6                       0                     0                     0   \n",
       "..                    ...                   ...                   ...   \n",
       "945                     0                     1                     0   \n",
       "946                     1                     0                     0   \n",
       "947                     1                     0                     0   \n",
       "948                     1                     0                     0   \n",
       "949                     1                     0                     0   \n",
       "\n",
       "     CheckingAcctStat A14  Duration  CreditHistory A30  CreditHistory A31  \\\n",
       "0                       0  0.205882                  0                  0   \n",
       "2                       1  0.205882                  0                  0   \n",
       "4                       0  0.029412                  0                  0   \n",
       "5                       0  0.029412                  0                  0   \n",
       "6                       1  0.205882                  0                  0   \n",
       "..                    ...       ...                ...                ...   \n",
       "945                     0  0.341710                  0                  0   \n",
       "946                     0  0.175015                  0                  1   \n",
       "947                     0  0.173663                  0                  0   \n",
       "948                     0  0.060279                  0                  0   \n",
       "949                     0  0.061631                  0                  0   \n",
       "\n",
       "     CreditHistory A32  CreditHistory A33  CreditHistory A34  ...  \\\n",
       "0                    1                  0                  0  ...   \n",
       "2                    1                  0                  0  ...   \n",
       "4                    0                  1                  0  ...   \n",
       "5                    1                  0                  0  ...   \n",
       "6                    0                  0                  1  ...   \n",
       "..                 ...                ...                ...  ...   \n",
       "945                  1                  0                  0  ...   \n",
       "946                  0                  0                  0  ...   \n",
       "947                  0                  0                  1  ...   \n",
       "948                  1                  0                  0  ...   \n",
       "949                  1                  0                  0  ...   \n",
       "\n",
       "     Employment A75  InstallmentRatePecnt  PresentResidenceTime  \\\n",
       "0                 0              0.333333              0.333333   \n",
       "2                 0              1.000000              0.333333   \n",
       "4                 0              0.333333              0.000000   \n",
       "5                 0              0.333333              0.666667   \n",
       "6                 0              1.000000              0.333333   \n",
       "..              ...                   ...                   ...   \n",
       "945               0              1.000000              0.333333   \n",
       "946               0              1.000000              0.179146   \n",
       "947               0              1.000000              0.093443   \n",
       "948               0              1.000000              0.487520   \n",
       "949               0              1.000000              0.697814   \n",
       "\n",
       "     Property A121  Property A122  Property A123  Property A124       Age  \\\n",
       "0                1              0              0              0  0.089286   \n",
       "2                0              0              0              1  0.232143   \n",
       "4                0              1              0              0  0.178571   \n",
       "5                1              0              0              0  0.446429   \n",
       "6                1              0              0              0  0.196429   \n",
       "..             ...            ...            ...            ...       ...   \n",
       "945              0              0              1              0  0.191593   \n",
       "946              0              0              1              0  0.717821   \n",
       "947              0              0              0              1  0.222093   \n",
       "948              0              1              0              0  0.068551   \n",
       "949              0              1              0              0  0.054780   \n",
       "\n",
       "     Telephone1  CreditScore  \n",
       "0             0            1  \n",
       "2             1            0  \n",
       "4             0            0  \n",
       "5             0            0  \n",
       "6             0            1  \n",
       "..          ...          ...  \n",
       "945           0            1  \n",
       "946           0            1  \n",
       "947           0            1  \n",
       "948           0            1  \n",
       "949           0            1  \n",
       "\n",
       "[948 rows x 39 columns]"
      ]
     },
     "execution_count": 33,
     "metadata": {},
     "output_type": "execute_result"
    }
   ],
   "source": [
    "df.drop([1,3])"
   ]
  },
  {
   "cell_type": "code",
   "execution_count": null,
   "metadata": {
    "cell_id": "aa31ef29fce548389782bb40d1901bee",
    "deepnote_cell_type": "code",
    "deepnote_to_be_reexecuted": false,
    "execution_millis": 168,
    "execution_start": 1639498557486,
    "source_hash": "3583b75d",
    "tags": []
   },
   "outputs": [
    {
     "data": {
      "application/vnd.deepnote.dataframe.v2+json": {
       "column_count": 38,
       "columns": [
        {
         "dtype": "int64",
         "name": "CheckingAcctStat A11",
         "stats": {
          "histogram": [
           {
            "bin_end": 0.1,
            "bin_start": 0,
            "count": 617
           },
           {
            "bin_end": 0.2,
            "bin_start": 0.1,
            "count": 0
           },
           {
            "bin_end": 0.30000000000000004,
            "bin_start": 0.2,
            "count": 0
           },
           {
            "bin_end": 0.4,
            "bin_start": 0.30000000000000004,
            "count": 0
           },
           {
            "bin_end": 0.5,
            "bin_start": 0.4,
            "count": 0
           },
           {
            "bin_end": 0.6000000000000001,
            "bin_start": 0.5,
            "count": 0
           },
           {
            "bin_end": 0.7000000000000001,
            "bin_start": 0.6000000000000001,
            "count": 0
           },
           {
            "bin_end": 0.8,
            "bin_start": 0.7000000000000001,
            "count": 0
           },
           {
            "bin_end": 0.9,
            "bin_start": 0.8,
            "count": 0
           },
           {
            "bin_end": 1,
            "bin_start": 0.9,
            "count": 333
           }
          ],
          "max": "1",
          "min": "0",
          "nan_count": 0,
          "unique_count": 2
         }
        },
        {
         "dtype": "int64",
         "name": "CheckingAcctStat A12",
         "stats": {
          "histogram": [
           {
            "bin_end": 0.1,
            "bin_start": 0,
            "count": 684
           },
           {
            "bin_end": 0.2,
            "bin_start": 0.1,
            "count": 0
           },
           {
            "bin_end": 0.30000000000000004,
            "bin_start": 0.2,
            "count": 0
           },
           {
            "bin_end": 0.4,
            "bin_start": 0.30000000000000004,
            "count": 0
           },
           {
            "bin_end": 0.5,
            "bin_start": 0.4,
            "count": 0
           },
           {
            "bin_end": 0.6000000000000001,
            "bin_start": 0.5,
            "count": 0
           },
           {
            "bin_end": 0.7000000000000001,
            "bin_start": 0.6000000000000001,
            "count": 0
           },
           {
            "bin_end": 0.8,
            "bin_start": 0.7000000000000001,
            "count": 0
           },
           {
            "bin_end": 0.9,
            "bin_start": 0.8,
            "count": 0
           },
           {
            "bin_end": 1,
            "bin_start": 0.9,
            "count": 266
           }
          ],
          "max": "1",
          "min": "0",
          "nan_count": 0,
          "unique_count": 2
         }
        },
        {
         "dtype": "int64",
         "name": "CheckingAcctStat A13",
         "stats": {
          "histogram": [
           {
            "bin_end": 0.1,
            "bin_start": 0,
            "count": 900
           },
           {
            "bin_end": 0.2,
            "bin_start": 0.1,
            "count": 0
           },
           {
            "bin_end": 0.30000000000000004,
            "bin_start": 0.2,
            "count": 0
           },
           {
            "bin_end": 0.4,
            "bin_start": 0.30000000000000004,
            "count": 0
           },
           {
            "bin_end": 0.5,
            "bin_start": 0.4,
            "count": 0
           },
           {
            "bin_end": 0.6000000000000001,
            "bin_start": 0.5,
            "count": 0
           },
           {
            "bin_end": 0.7000000000000001,
            "bin_start": 0.6000000000000001,
            "count": 0
           },
           {
            "bin_end": 0.8,
            "bin_start": 0.7000000000000001,
            "count": 0
           },
           {
            "bin_end": 0.9,
            "bin_start": 0.8,
            "count": 0
           },
           {
            "bin_end": 1,
            "bin_start": 0.9,
            "count": 50
           }
          ],
          "max": "1",
          "min": "0",
          "nan_count": 0,
          "unique_count": 2
         }
        },
        {
         "dtype": "int64",
         "name": "CheckingAcctStat A14",
         "stats": {
          "histogram": [
           {
            "bin_end": 0.1,
            "bin_start": 0,
            "count": 649
           },
           {
            "bin_end": 0.2,
            "bin_start": 0.1,
            "count": 0
           },
           {
            "bin_end": 0.30000000000000004,
            "bin_start": 0.2,
            "count": 0
           },
           {
            "bin_end": 0.4,
            "bin_start": 0.30000000000000004,
            "count": 0
           },
           {
            "bin_end": 0.5,
            "bin_start": 0.4,
            "count": 0
           },
           {
            "bin_end": 0.6000000000000001,
            "bin_start": 0.5,
            "count": 0
           },
           {
            "bin_end": 0.7000000000000001,
            "bin_start": 0.6000000000000001,
            "count": 0
           },
           {
            "bin_end": 0.8,
            "bin_start": 0.7000000000000001,
            "count": 0
           },
           {
            "bin_end": 0.9,
            "bin_start": 0.8,
            "count": 0
           },
           {
            "bin_end": 1,
            "bin_start": 0.9,
            "count": 301
           }
          ],
          "max": "1",
          "min": "0",
          "nan_count": 0,
          "unique_count": 2
         }
        },
        {
         "dtype": "int64",
         "name": "CreditHistory A30",
         "stats": {
          "histogram": [
           {
            "bin_end": 0.1,
            "bin_start": 0,
            "count": 897
           },
           {
            "bin_end": 0.2,
            "bin_start": 0.1,
            "count": 0
           },
           {
            "bin_end": 0.30000000000000004,
            "bin_start": 0.2,
            "count": 0
           },
           {
            "bin_end": 0.4,
            "bin_start": 0.30000000000000004,
            "count": 0
           },
           {
            "bin_end": 0.5,
            "bin_start": 0.4,
            "count": 0
           },
           {
            "bin_end": 0.6000000000000001,
            "bin_start": 0.5,
            "count": 0
           },
           {
            "bin_end": 0.7000000000000001,
            "bin_start": 0.6000000000000001,
            "count": 0
           },
           {
            "bin_end": 0.8,
            "bin_start": 0.7000000000000001,
            "count": 0
           },
           {
            "bin_end": 0.9,
            "bin_start": 0.8,
            "count": 0
           },
           {
            "bin_end": 1,
            "bin_start": 0.9,
            "count": 53
           }
          ],
          "max": "1",
          "min": "0",
          "nan_count": 0,
          "unique_count": 2
         }
        },
        {
         "dtype": "int64",
         "name": "CreditHistory A31",
         "stats": {
          "histogram": [
           {
            "bin_end": 0.1,
            "bin_start": 0,
            "count": 888
           },
           {
            "bin_end": 0.2,
            "bin_start": 0.1,
            "count": 0
           },
           {
            "bin_end": 0.30000000000000004,
            "bin_start": 0.2,
            "count": 0
           },
           {
            "bin_end": 0.4,
            "bin_start": 0.30000000000000004,
            "count": 0
           },
           {
            "bin_end": 0.5,
            "bin_start": 0.4,
            "count": 0
           },
           {
            "bin_end": 0.6000000000000001,
            "bin_start": 0.5,
            "count": 0
           },
           {
            "bin_end": 0.7000000000000001,
            "bin_start": 0.6000000000000001,
            "count": 0
           },
           {
            "bin_end": 0.8,
            "bin_start": 0.7000000000000001,
            "count": 0
           },
           {
            "bin_end": 0.9,
            "bin_start": 0.8,
            "count": 0
           },
           {
            "bin_end": 1,
            "bin_start": 0.9,
            "count": 62
           }
          ],
          "max": "1",
          "min": "0",
          "nan_count": 0,
          "unique_count": 2
         }
        },
        {
         "dtype": "int64",
         "name": "CreditHistory A32",
         "stats": {
          "histogram": [
           {
            "bin_end": 0.1,
            "bin_start": 0,
            "count": 425
           },
           {
            "bin_end": 0.2,
            "bin_start": 0.1,
            "count": 0
           },
           {
            "bin_end": 0.30000000000000004,
            "bin_start": 0.2,
            "count": 0
           },
           {
            "bin_end": 0.4,
            "bin_start": 0.30000000000000004,
            "count": 0
           },
           {
            "bin_end": 0.5,
            "bin_start": 0.4,
            "count": 0
           },
           {
            "bin_end": 0.6000000000000001,
            "bin_start": 0.5,
            "count": 0
           },
           {
            "bin_end": 0.7000000000000001,
            "bin_start": 0.6000000000000001,
            "count": 0
           },
           {
            "bin_end": 0.8,
            "bin_start": 0.7000000000000001,
            "count": 0
           },
           {
            "bin_end": 0.9,
            "bin_start": 0.8,
            "count": 0
           },
           {
            "bin_end": 1,
            "bin_start": 0.9,
            "count": 525
           }
          ],
          "max": "1",
          "min": "0",
          "nan_count": 0,
          "unique_count": 2
         }
        },
        {
         "dtype": "int64",
         "name": "CreditHistory A33",
         "stats": {
          "histogram": [
           {
            "bin_end": 0.1,
            "bin_start": 0,
            "count": 874
           },
           {
            "bin_end": 0.2,
            "bin_start": 0.1,
            "count": 0
           },
           {
            "bin_end": 0.30000000000000004,
            "bin_start": 0.2,
            "count": 0
           },
           {
            "bin_end": 0.4,
            "bin_start": 0.30000000000000004,
            "count": 0
           },
           {
            "bin_end": 0.5,
            "bin_start": 0.4,
            "count": 0
           },
           {
            "bin_end": 0.6000000000000001,
            "bin_start": 0.5,
            "count": 0
           },
           {
            "bin_end": 0.7000000000000001,
            "bin_start": 0.6000000000000001,
            "count": 0
           },
           {
            "bin_end": 0.8,
            "bin_start": 0.7000000000000001,
            "count": 0
           },
           {
            "bin_end": 0.9,
            "bin_start": 0.8,
            "count": 0
           },
           {
            "bin_end": 1,
            "bin_start": 0.9,
            "count": 76
           }
          ],
          "max": "1",
          "min": "0",
          "nan_count": 0,
          "unique_count": 2
         }
        },
        {
         "dtype": "int64",
         "name": "CreditHistory A34",
         "stats": {
          "histogram": [
           {
            "bin_end": 0.1,
            "bin_start": 0,
            "count": 716
           },
           {
            "bin_end": 0.2,
            "bin_start": 0.1,
            "count": 0
           },
           {
            "bin_end": 0.30000000000000004,
            "bin_start": 0.2,
            "count": 0
           },
           {
            "bin_end": 0.4,
            "bin_start": 0.30000000000000004,
            "count": 0
           },
           {
            "bin_end": 0.5,
            "bin_start": 0.4,
            "count": 0
           },
           {
            "bin_end": 0.6000000000000001,
            "bin_start": 0.5,
            "count": 0
           },
           {
            "bin_end": 0.7000000000000001,
            "bin_start": 0.6000000000000001,
            "count": 0
           },
           {
            "bin_end": 0.8,
            "bin_start": 0.7000000000000001,
            "count": 0
           },
           {
            "bin_end": 0.9,
            "bin_start": 0.8,
            "count": 0
           },
           {
            "bin_end": 1,
            "bin_start": 0.9,
            "count": 234
           }
          ],
          "max": "1",
          "min": "0",
          "nan_count": 0,
          "unique_count": 2
         }
        },
        {
         "dtype": "int64",
         "name": "Purpose A40",
         "stats": {
          "histogram": [
           {
            "bin_end": 0.1,
            "bin_start": 0,
            "count": 696
           },
           {
            "bin_end": 0.2,
            "bin_start": 0.1,
            "count": 0
           },
           {
            "bin_end": 0.30000000000000004,
            "bin_start": 0.2,
            "count": 0
           },
           {
            "bin_end": 0.4,
            "bin_start": 0.30000000000000004,
            "count": 0
           },
           {
            "bin_end": 0.5,
            "bin_start": 0.4,
            "count": 0
           },
           {
            "bin_end": 0.6000000000000001,
            "bin_start": 0.5,
            "count": 0
           },
           {
            "bin_end": 0.7000000000000001,
            "bin_start": 0.6000000000000001,
            "count": 0
           },
           {
            "bin_end": 0.8,
            "bin_start": 0.7000000000000001,
            "count": 0
           },
           {
            "bin_end": 0.9,
            "bin_start": 0.8,
            "count": 0
           },
           {
            "bin_end": 1,
            "bin_start": 0.9,
            "count": 254
           }
          ],
          "max": "1",
          "min": "0",
          "nan_count": 0,
          "unique_count": 2
         }
        },
        {
         "dtype": "int64",
         "name": "Purpose A41",
         "stats": {
          "histogram": [
           {
            "bin_end": 0.1,
            "bin_start": 0,
            "count": 866
           },
           {
            "bin_end": 0.2,
            "bin_start": 0.1,
            "count": 0
           },
           {
            "bin_end": 0.30000000000000004,
            "bin_start": 0.2,
            "count": 0
           },
           {
            "bin_end": 0.4,
            "bin_start": 0.30000000000000004,
            "count": 0
           },
           {
            "bin_end": 0.5,
            "bin_start": 0.4,
            "count": 0
           },
           {
            "bin_end": 0.6000000000000001,
            "bin_start": 0.5,
            "count": 0
           },
           {
            "bin_end": 0.7000000000000001,
            "bin_start": 0.6000000000000001,
            "count": 0
           },
           {
            "bin_end": 0.8,
            "bin_start": 0.7000000000000001,
            "count": 0
           },
           {
            "bin_end": 0.9,
            "bin_start": 0.8,
            "count": 0
           },
           {
            "bin_end": 1,
            "bin_start": 0.9,
            "count": 84
           }
          ],
          "max": "1",
          "min": "0",
          "nan_count": 0,
          "unique_count": 2
         }
        },
        {
         "dtype": "int64",
         "name": "Purpose A42",
         "stats": {
          "histogram": [
           {
            "bin_end": 0.1,
            "bin_start": 0,
            "count": 939
           },
           {
            "bin_end": 0.2,
            "bin_start": 0.1,
            "count": 0
           },
           {
            "bin_end": 0.30000000000000004,
            "bin_start": 0.2,
            "count": 0
           },
           {
            "bin_end": 0.4,
            "bin_start": 0.30000000000000004,
            "count": 0
           },
           {
            "bin_end": 0.5,
            "bin_start": 0.4,
            "count": 0
           },
           {
            "bin_end": 0.6000000000000001,
            "bin_start": 0.5,
            "count": 0
           },
           {
            "bin_end": 0.7000000000000001,
            "bin_start": 0.6000000000000001,
            "count": 0
           },
           {
            "bin_end": 0.8,
            "bin_start": 0.7000000000000001,
            "count": 0
           },
           {
            "bin_end": 0.9,
            "bin_start": 0.8,
            "count": 0
           },
           {
            "bin_end": 1,
            "bin_start": 0.9,
            "count": 11
           }
          ],
          "max": "1",
          "min": "0",
          "nan_count": 0,
          "unique_count": 2
         }
        },
        {
         "dtype": "int64",
         "name": "Purpose A43",
         "stats": {
          "histogram": [
           {
            "bin_end": 0.1,
            "bin_start": 0,
            "count": 797
           },
           {
            "bin_end": 0.2,
            "bin_start": 0.1,
            "count": 0
           },
           {
            "bin_end": 0.30000000000000004,
            "bin_start": 0.2,
            "count": 0
           },
           {
            "bin_end": 0.4,
            "bin_start": 0.30000000000000004,
            "count": 0
           },
           {
            "bin_end": 0.5,
            "bin_start": 0.4,
            "count": 0
           },
           {
            "bin_end": 0.6000000000000001,
            "bin_start": 0.5,
            "count": 0
           },
           {
            "bin_end": 0.7000000000000001,
            "bin_start": 0.6000000000000001,
            "count": 0
           },
           {
            "bin_end": 0.8,
            "bin_start": 0.7000000000000001,
            "count": 0
           },
           {
            "bin_end": 0.9,
            "bin_start": 0.8,
            "count": 0
           },
           {
            "bin_end": 1,
            "bin_start": 0.9,
            "count": 153
           }
          ],
          "max": "1",
          "min": "0",
          "nan_count": 0,
          "unique_count": 2
         }
        },
        {
         "dtype": "int64",
         "name": "Purpose A44",
         "stats": {
          "histogram": [
           {
            "bin_end": 0.1,
            "bin_start": 0,
            "count": 696
           },
           {
            "bin_end": 0.2,
            "bin_start": 0.1,
            "count": 0
           },
           {
            "bin_end": 0.30000000000000004,
            "bin_start": 0.2,
            "count": 0
           },
           {
            "bin_end": 0.4,
            "bin_start": 0.30000000000000004,
            "count": 0
           },
           {
            "bin_end": 0.5,
            "bin_start": 0.4,
            "count": 0
           },
           {
            "bin_end": 0.6000000000000001,
            "bin_start": 0.5,
            "count": 0
           },
           {
            "bin_end": 0.7000000000000001,
            "bin_start": 0.6000000000000001,
            "count": 0
           },
           {
            "bin_end": 0.8,
            "bin_start": 0.7000000000000001,
            "count": 0
           },
           {
            "bin_end": 0.9,
            "bin_start": 0.8,
            "count": 0
           },
           {
            "bin_end": 1,
            "bin_start": 0.9,
            "count": 254
           }
          ],
          "max": "1",
          "min": "0",
          "nan_count": 0,
          "unique_count": 2
         }
        },
        {
         "dtype": "int64",
         "name": "Purpose A45",
         "stats": {
          "histogram": [
           {
            "bin_end": 0.1,
            "bin_start": 0,
            "count": 939
           },
           {
            "bin_end": 0.2,
            "bin_start": 0.1,
            "count": 0
           },
           {
            "bin_end": 0.30000000000000004,
            "bin_start": 0.2,
            "count": 0
           },
           {
            "bin_end": 0.4,
            "bin_start": 0.30000000000000004,
            "count": 0
           },
           {
            "bin_end": 0.5,
            "bin_start": 0.4,
            "count": 0
           },
           {
            "bin_end": 0.6000000000000001,
            "bin_start": 0.5,
            "count": 0
           },
           {
            "bin_end": 0.7000000000000001,
            "bin_start": 0.6000000000000001,
            "count": 0
           },
           {
            "bin_end": 0.8,
            "bin_start": 0.7000000000000001,
            "count": 0
           },
           {
            "bin_end": 0.9,
            "bin_start": 0.8,
            "count": 0
           },
           {
            "bin_end": 1,
            "bin_start": 0.9,
            "count": 11
           }
          ],
          "max": "1",
          "min": "0",
          "nan_count": 0,
          "unique_count": 2
         }
        },
        {
         "dtype": "int64",
         "name": "Purpose A46",
         "stats": {
          "histogram": [
           {
            "bin_end": 0.1,
            "bin_start": 0,
            "count": 918
           },
           {
            "bin_end": 0.2,
            "bin_start": 0.1,
            "count": 0
           },
           {
            "bin_end": 0.30000000000000004,
            "bin_start": 0.2,
            "count": 0
           },
           {
            "bin_end": 0.4,
            "bin_start": 0.30000000000000004,
            "count": 0
           },
           {
            "bin_end": 0.5,
            "bin_start": 0.4,
            "count": 0
           },
           {
            "bin_end": 0.6000000000000001,
            "bin_start": 0.5,
            "count": 0
           },
           {
            "bin_end": 0.7000000000000001,
            "bin_start": 0.6000000000000001,
            "count": 0
           },
           {
            "bin_end": 0.8,
            "bin_start": 0.7000000000000001,
            "count": 0
           },
           {
            "bin_end": 0.9,
            "bin_start": 0.8,
            "count": 0
           },
           {
            "bin_end": 1,
            "bin_start": 0.9,
            "count": 32
           }
          ],
          "max": "1",
          "min": "0",
          "nan_count": 0,
          "unique_count": 2
         }
        },
        {
         "dtype": "int64",
         "name": "Purpose A48",
         "stats": {
          "histogram": [
           {
            "bin_end": 0.1,
            "bin_start": 0,
            "count": 906
           },
           {
            "bin_end": 0.2,
            "bin_start": 0.1,
            "count": 0
           },
           {
            "bin_end": 0.30000000000000004,
            "bin_start": 0.2,
            "count": 0
           },
           {
            "bin_end": 0.4,
            "bin_start": 0.30000000000000004,
            "count": 0
           },
           {
            "bin_end": 0.5,
            "bin_start": 0.4,
            "count": 0
           },
           {
            "bin_end": 0.6000000000000001,
            "bin_start": 0.5,
            "count": 0
           },
           {
            "bin_end": 0.7000000000000001,
            "bin_start": 0.6000000000000001,
            "count": 0
           },
           {
            "bin_end": 0.8,
            "bin_start": 0.7000000000000001,
            "count": 0
           },
           {
            "bin_end": 0.9,
            "bin_start": 0.8,
            "count": 0
           },
           {
            "bin_end": 1,
            "bin_start": 0.9,
            "count": 44
           }
          ],
          "max": "1",
          "min": "0",
          "nan_count": 0,
          "unique_count": 2
         }
        },
        {
         "dtype": "int64",
         "name": "Purpose A49",
         "stats": {
          "histogram": [
           {
            "bin_end": 0.1,
            "bin_start": 0,
            "count": 939
           },
           {
            "bin_end": 0.2,
            "bin_start": 0.1,
            "count": 0
           },
           {
            "bin_end": 0.30000000000000004,
            "bin_start": 0.2,
            "count": 0
           },
           {
            "bin_end": 0.4,
            "bin_start": 0.30000000000000004,
            "count": 0
           },
           {
            "bin_end": 0.5,
            "bin_start": 0.4,
            "count": 0
           },
           {
            "bin_end": 0.6000000000000001,
            "bin_start": 0.5,
            "count": 0
           },
           {
            "bin_end": 0.7000000000000001,
            "bin_start": 0.6000000000000001,
            "count": 0
           },
           {
            "bin_end": 0.8,
            "bin_start": 0.7000000000000001,
            "count": 0
           },
           {
            "bin_end": 0.9,
            "bin_start": 0.8,
            "count": 0
           },
           {
            "bin_end": 1,
            "bin_start": 0.9,
            "count": 11
           }
          ],
          "max": "1",
          "min": "0",
          "nan_count": 0,
          "unique_count": 2
         }
        },
        {
         "dtype": "int64",
         "name": "Purpose A410",
         "stats": {
          "histogram": [
           {
            "bin_end": 0.1,
            "bin_start": 0,
            "count": 854
           },
           {
            "bin_end": 0.2,
            "bin_start": 0.1,
            "count": 0
           },
           {
            "bin_end": 0.30000000000000004,
            "bin_start": 0.2,
            "count": 0
           },
           {
            "bin_end": 0.4,
            "bin_start": 0.30000000000000004,
            "count": 0
           },
           {
            "bin_end": 0.5,
            "bin_start": 0.4,
            "count": 0
           },
           {
            "bin_end": 0.6000000000000001,
            "bin_start": 0.5,
            "count": 0
           },
           {
            "bin_end": 0.7000000000000001,
            "bin_start": 0.6000000000000001,
            "count": 0
           },
           {
            "bin_end": 0.8,
            "bin_start": 0.7000000000000001,
            "count": 0
           },
           {
            "bin_end": 0.9,
            "bin_start": 0.8,
            "count": 0
           },
           {
            "bin_end": 1,
            "bin_start": 0.9,
            "count": 96
           }
          ],
          "max": "1",
          "min": "0",
          "nan_count": 0,
          "unique_count": 2
         }
        },
        {
         "dtype": "int64",
         "name": "Savings A61",
         "stats": {
          "histogram": [
           {
            "bin_end": 0.1,
            "bin_start": 0,
            "count": 332
           },
           {
            "bin_end": 0.2,
            "bin_start": 0.1,
            "count": 0
           },
           {
            "bin_end": 0.30000000000000004,
            "bin_start": 0.2,
            "count": 0
           },
           {
            "bin_end": 0.4,
            "bin_start": 0.30000000000000004,
            "count": 0
           },
           {
            "bin_end": 0.5,
            "bin_start": 0.4,
            "count": 0
           },
           {
            "bin_end": 0.6000000000000001,
            "bin_start": 0.5,
            "count": 0
           },
           {
            "bin_end": 0.7000000000000001,
            "bin_start": 0.6000000000000001,
            "count": 0
           },
           {
            "bin_end": 0.8,
            "bin_start": 0.7000000000000001,
            "count": 0
           },
           {
            "bin_end": 0.9,
            "bin_start": 0.8,
            "count": 0
           },
           {
            "bin_end": 1,
            "bin_start": 0.9,
            "count": 618
           }
          ],
          "max": "1",
          "min": "0",
          "nan_count": 0,
          "unique_count": 2
         }
        },
        {
         "dtype": "int64",
         "name": "Savings A62",
         "stats": {
          "histogram": [
           {
            "bin_end": 0.1,
            "bin_start": 0,
            "count": 855
           },
           {
            "bin_end": 0.2,
            "bin_start": 0.1,
            "count": 0
           },
           {
            "bin_end": 0.30000000000000004,
            "bin_start": 0.2,
            "count": 0
           },
           {
            "bin_end": 0.4,
            "bin_start": 0.30000000000000004,
            "count": 0
           },
           {
            "bin_end": 0.5,
            "bin_start": 0.4,
            "count": 0
           },
           {
            "bin_end": 0.6000000000000001,
            "bin_start": 0.5,
            "count": 0
           },
           {
            "bin_end": 0.7000000000000001,
            "bin_start": 0.6000000000000001,
            "count": 0
           },
           {
            "bin_end": 0.8,
            "bin_start": 0.7000000000000001,
            "count": 0
           },
           {
            "bin_end": 0.9,
            "bin_start": 0.8,
            "count": 0
           },
           {
            "bin_end": 1,
            "bin_start": 0.9,
            "count": 95
           }
          ],
          "max": "1",
          "min": "0",
          "nan_count": 0,
          "unique_count": 2
         }
        },
        {
         "dtype": "int64",
         "name": "Savings A63",
         "stats": {
          "histogram": [
           {
            "bin_end": 0.1,
            "bin_start": 0,
            "count": 896
           },
           {
            "bin_end": 0.2,
            "bin_start": 0.1,
            "count": 0
           },
           {
            "bin_end": 0.30000000000000004,
            "bin_start": 0.2,
            "count": 0
           },
           {
            "bin_end": 0.4,
            "bin_start": 0.30000000000000004,
            "count": 0
           },
           {
            "bin_end": 0.5,
            "bin_start": 0.4,
            "count": 0
           },
           {
            "bin_end": 0.6000000000000001,
            "bin_start": 0.5,
            "count": 0
           },
           {
            "bin_end": 0.7000000000000001,
            "bin_start": 0.6000000000000001,
            "count": 0
           },
           {
            "bin_end": 0.8,
            "bin_start": 0.7000000000000001,
            "count": 0
           },
           {
            "bin_end": 0.9,
            "bin_start": 0.8,
            "count": 0
           },
           {
            "bin_end": 1,
            "bin_start": 0.9,
            "count": 54
           }
          ],
          "max": "1",
          "min": "0",
          "nan_count": 0,
          "unique_count": 2
         }
        },
        {
         "dtype": "int64",
         "name": "Savings A64",
         "stats": {
          "histogram": [
           {
            "bin_end": 0.1,
            "bin_start": 0,
            "count": 913
           },
           {
            "bin_end": 0.2,
            "bin_start": 0.1,
            "count": 0
           },
           {
            "bin_end": 0.30000000000000004,
            "bin_start": 0.2,
            "count": 0
           },
           {
            "bin_end": 0.4,
            "bin_start": 0.30000000000000004,
            "count": 0
           },
           {
            "bin_end": 0.5,
            "bin_start": 0.4,
            "count": 0
           },
           {
            "bin_end": 0.6000000000000001,
            "bin_start": 0.5,
            "count": 0
           },
           {
            "bin_end": 0.7000000000000001,
            "bin_start": 0.6000000000000001,
            "count": 0
           },
           {
            "bin_end": 0.8,
            "bin_start": 0.7000000000000001,
            "count": 0
           },
           {
            "bin_end": 0.9,
            "bin_start": 0.8,
            "count": 0
           },
           {
            "bin_end": 1,
            "bin_start": 0.9,
            "count": 37
           }
          ],
          "max": "1",
          "min": "0",
          "nan_count": 0,
          "unique_count": 2
         }
        },
        {
         "dtype": "int64",
         "name": "Savings A65",
         "stats": {
          "histogram": [
           {
            "bin_end": 0.1,
            "bin_start": 0,
            "count": 804
           },
           {
            "bin_end": 0.2,
            "bin_start": 0.1,
            "count": 0
           },
           {
            "bin_end": 0.30000000000000004,
            "bin_start": 0.2,
            "count": 0
           },
           {
            "bin_end": 0.4,
            "bin_start": 0.30000000000000004,
            "count": 0
           },
           {
            "bin_end": 0.5,
            "bin_start": 0.4,
            "count": 0
           },
           {
            "bin_end": 0.6000000000000001,
            "bin_start": 0.5,
            "count": 0
           },
           {
            "bin_end": 0.7000000000000001,
            "bin_start": 0.6000000000000001,
            "count": 0
           },
           {
            "bin_end": 0.8,
            "bin_start": 0.7000000000000001,
            "count": 0
           },
           {
            "bin_end": 0.9,
            "bin_start": 0.8,
            "count": 0
           },
           {
            "bin_end": 1,
            "bin_start": 0.9,
            "count": 146
           }
          ],
          "max": "1",
          "min": "0",
          "nan_count": 0,
          "unique_count": 2
         }
        },
        {
         "dtype": "int64",
         "name": "Employment A71",
         "stats": {
          "histogram": [
           {
            "bin_end": 0.1,
            "bin_start": 0,
            "count": 885
           },
           {
            "bin_end": 0.2,
            "bin_start": 0.1,
            "count": 0
           },
           {
            "bin_end": 0.30000000000000004,
            "bin_start": 0.2,
            "count": 0
           },
           {
            "bin_end": 0.4,
            "bin_start": 0.30000000000000004,
            "count": 0
           },
           {
            "bin_end": 0.5,
            "bin_start": 0.4,
            "count": 0
           },
           {
            "bin_end": 0.6000000000000001,
            "bin_start": 0.5,
            "count": 0
           },
           {
            "bin_end": 0.7000000000000001,
            "bin_start": 0.6000000000000001,
            "count": 0
           },
           {
            "bin_end": 0.8,
            "bin_start": 0.7000000000000001,
            "count": 0
           },
           {
            "bin_end": 0.9,
            "bin_start": 0.8,
            "count": 0
           },
           {
            "bin_end": 1,
            "bin_start": 0.9,
            "count": 65
           }
          ],
          "max": "1",
          "min": "0",
          "nan_count": 0,
          "unique_count": 2
         }
        },
        {
         "dtype": "int64",
         "name": "Employment A72",
         "stats": {
          "histogram": [
           {
            "bin_end": 0.1,
            "bin_start": 0,
            "count": 770
           },
           {
            "bin_end": 0.2,
            "bin_start": 0.1,
            "count": 0
           },
           {
            "bin_end": 0.30000000000000004,
            "bin_start": 0.2,
            "count": 0
           },
           {
            "bin_end": 0.4,
            "bin_start": 0.30000000000000004,
            "count": 0
           },
           {
            "bin_end": 0.5,
            "bin_start": 0.4,
            "count": 0
           },
           {
            "bin_end": 0.6000000000000001,
            "bin_start": 0.5,
            "count": 0
           },
           {
            "bin_end": 0.7000000000000001,
            "bin_start": 0.6000000000000001,
            "count": 0
           },
           {
            "bin_end": 0.8,
            "bin_start": 0.7000000000000001,
            "count": 0
           },
           {
            "bin_end": 0.9,
            "bin_start": 0.8,
            "count": 0
           },
           {
            "bin_end": 1,
            "bin_start": 0.9,
            "count": 180
           }
          ],
          "max": "1",
          "min": "0",
          "nan_count": 0,
          "unique_count": 2
         }
        },
        {
         "dtype": "int64",
         "name": "Employment A73",
         "stats": {
          "histogram": [
           {
            "bin_end": 0.1,
            "bin_start": 0,
            "count": 624
           },
           {
            "bin_end": 0.2,
            "bin_start": 0.1,
            "count": 0
           },
           {
            "bin_end": 0.30000000000000004,
            "bin_start": 0.2,
            "count": 0
           },
           {
            "bin_end": 0.4,
            "bin_start": 0.30000000000000004,
            "count": 0
           },
           {
            "bin_end": 0.5,
            "bin_start": 0.4,
            "count": 0
           },
           {
            "bin_end": 0.6000000000000001,
            "bin_start": 0.5,
            "count": 0
           },
           {
            "bin_end": 0.7000000000000001,
            "bin_start": 0.6000000000000001,
            "count": 0
           },
           {
            "bin_end": 0.8,
            "bin_start": 0.7000000000000001,
            "count": 0
           },
           {
            "bin_end": 0.9,
            "bin_start": 0.8,
            "count": 0
           },
           {
            "bin_end": 1,
            "bin_start": 0.9,
            "count": 326
           }
          ],
          "max": "1",
          "min": "0",
          "nan_count": 0,
          "unique_count": 2
         }
        },
        {
         "dtype": "int64",
         "name": "Employment A74",
         "stats": {
          "histogram": [
           {
            "bin_end": 0.1,
            "bin_start": 0,
            "count": 793
           },
           {
            "bin_end": 0.2,
            "bin_start": 0.1,
            "count": 0
           },
           {
            "bin_end": 0.30000000000000004,
            "bin_start": 0.2,
            "count": 0
           },
           {
            "bin_end": 0.4,
            "bin_start": 0.30000000000000004,
            "count": 0
           },
           {
            "bin_end": 0.5,
            "bin_start": 0.4,
            "count": 0
           },
           {
            "bin_end": 0.6000000000000001,
            "bin_start": 0.5,
            "count": 0
           },
           {
            "bin_end": 0.7000000000000001,
            "bin_start": 0.6000000000000001,
            "count": 0
           },
           {
            "bin_end": 0.8,
            "bin_start": 0.7000000000000001,
            "count": 0
           },
           {
            "bin_end": 0.9,
            "bin_start": 0.8,
            "count": 0
           },
           {
            "bin_end": 1,
            "bin_start": 0.9,
            "count": 157
           }
          ],
          "max": "1",
          "min": "0",
          "nan_count": 0,
          "unique_count": 2
         }
        },
        {
         "dtype": "int64",
         "name": "Employment A75",
         "stats": {
          "histogram": [
           {
            "bin_end": 0.1,
            "bin_start": 0,
            "count": 728
           },
           {
            "bin_end": 0.2,
            "bin_start": 0.1,
            "count": 0
           },
           {
            "bin_end": 0.30000000000000004,
            "bin_start": 0.2,
            "count": 0
           },
           {
            "bin_end": 0.4,
            "bin_start": 0.30000000000000004,
            "count": 0
           },
           {
            "bin_end": 0.5,
            "bin_start": 0.4,
            "count": 0
           },
           {
            "bin_end": 0.6000000000000001,
            "bin_start": 0.5,
            "count": 0
           },
           {
            "bin_end": 0.7000000000000001,
            "bin_start": 0.6000000000000001,
            "count": 0
           },
           {
            "bin_end": 0.8,
            "bin_start": 0.7000000000000001,
            "count": 0
           },
           {
            "bin_end": 0.9,
            "bin_start": 0.8,
            "count": 0
           },
           {
            "bin_end": 1,
            "bin_start": 0.9,
            "count": 222
           }
          ],
          "max": "1",
          "min": "0",
          "nan_count": 0,
          "unique_count": 2
         }
        },
        {
         "dtype": "float64",
         "name": "InstallmentRatePecnt",
         "stats": {
          "histogram": [
           {
            "bin_end": 0.1,
            "bin_start": 0,
            "count": 116
           },
           {
            "bin_end": 0.2,
            "bin_start": 0.1,
            "count": 17
           },
           {
            "bin_end": 0.30000000000000004,
            "bin_start": 0.2,
            "count": 5
           },
           {
            "bin_end": 0.4,
            "bin_start": 0.30000000000000004,
            "count": 149
           },
           {
            "bin_end": 0.5,
            "bin_start": 0.4,
            "count": 23
           },
           {
            "bin_end": 0.6000000000000001,
            "bin_start": 0.5,
            "count": 7
           },
           {
            "bin_end": 0.7000000000000001,
            "bin_start": 0.6000000000000001,
            "count": 127
           },
           {
            "bin_end": 0.8,
            "bin_start": 0.7000000000000001,
            "count": 23
           },
           {
            "bin_end": 0.9,
            "bin_start": 0.8,
            "count": 43
           },
           {
            "bin_end": 1,
            "bin_start": 0.9,
            "count": 440
           }
          ],
          "max": "1.0",
          "min": "0.0",
          "nan_count": 0,
          "unique_count": 28
         }
        },
        {
         "dtype": "float64",
         "name": "PresentResidenceTime",
         "stats": {
          "histogram": [
           {
            "bin_end": 0.1,
            "bin_start": 0,
            "count": 104
           },
           {
            "bin_end": 0.2,
            "bin_start": 0.1,
            "count": 20
           },
           {
            "bin_end": 0.30000000000000004,
            "bin_start": 0.2,
            "count": 0
           },
           {
            "bin_end": 0.4,
            "bin_start": 0.30000000000000004,
            "count": 276
           },
           {
            "bin_end": 0.5,
            "bin_start": 0.4,
            "count": 12
           },
           {
            "bin_end": 0.6000000000000001,
            "bin_start": 0.5,
            "count": 4
           },
           {
            "bin_end": 0.7000000000000001,
            "bin_start": 0.6000000000000001,
            "count": 134
           },
           {
            "bin_end": 0.8,
            "bin_start": 0.7000000000000001,
            "count": 0
           },
           {
            "bin_end": 0.9,
            "bin_start": 0.8,
            "count": 10
           },
           {
            "bin_end": 1,
            "bin_start": 0.9,
            "count": 390
           }
          ],
          "max": "1.0",
          "min": "0.0",
          "nan_count": 0,
          "unique_count": 28
         }
        },
        {
         "dtype": "int64",
         "name": "Property A121",
         "stats": {
          "histogram": [
           {
            "bin_end": 0.1,
            "bin_start": 0,
            "count": 711
           },
           {
            "bin_end": 0.2,
            "bin_start": 0.1,
            "count": 0
           },
           {
            "bin_end": 0.30000000000000004,
            "bin_start": 0.2,
            "count": 0
           },
           {
            "bin_end": 0.4,
            "bin_start": 0.30000000000000004,
            "count": 0
           },
           {
            "bin_end": 0.5,
            "bin_start": 0.4,
            "count": 0
           },
           {
            "bin_end": 0.6000000000000001,
            "bin_start": 0.5,
            "count": 0
           },
           {
            "bin_end": 0.7000000000000001,
            "bin_start": 0.6000000000000001,
            "count": 0
           },
           {
            "bin_end": 0.8,
            "bin_start": 0.7000000000000001,
            "count": 0
           },
           {
            "bin_end": 0.9,
            "bin_start": 0.8,
            "count": 0
           },
           {
            "bin_end": 1,
            "bin_start": 0.9,
            "count": 239
           }
          ],
          "max": "1",
          "min": "0",
          "nan_count": 0,
          "unique_count": 2
         }
        },
        {
         "dtype": "int64",
         "name": "Property A122",
         "stats": {
          "histogram": [
           {
            "bin_end": 0.1,
            "bin_start": 0,
            "count": 730
           },
           {
            "bin_end": 0.2,
            "bin_start": 0.1,
            "count": 0
           },
           {
            "bin_end": 0.30000000000000004,
            "bin_start": 0.2,
            "count": 0
           },
           {
            "bin_end": 0.4,
            "bin_start": 0.30000000000000004,
            "count": 0
           },
           {
            "bin_end": 0.5,
            "bin_start": 0.4,
            "count": 0
           },
           {
            "bin_end": 0.6000000000000001,
            "bin_start": 0.5,
            "count": 0
           },
           {
            "bin_end": 0.7000000000000001,
            "bin_start": 0.6000000000000001,
            "count": 0
           },
           {
            "bin_end": 0.8,
            "bin_start": 0.7000000000000001,
            "count": 0
           },
           {
            "bin_end": 0.9,
            "bin_start": 0.8,
            "count": 0
           },
           {
            "bin_end": 1,
            "bin_start": 0.9,
            "count": 220
           }
          ],
          "max": "1",
          "min": "0",
          "nan_count": 0,
          "unique_count": 2
         }
        },
        {
         "dtype": "int64",
         "name": "Property A123",
         "stats": {
          "histogram": [
           {
            "bin_end": 0.1,
            "bin_start": 0,
            "count": 621
           },
           {
            "bin_end": 0.2,
            "bin_start": 0.1,
            "count": 0
           },
           {
            "bin_end": 0.30000000000000004,
            "bin_start": 0.2,
            "count": 0
           },
           {
            "bin_end": 0.4,
            "bin_start": 0.30000000000000004,
            "count": 0
           },
           {
            "bin_end": 0.5,
            "bin_start": 0.4,
            "count": 0
           },
           {
            "bin_end": 0.6000000000000001,
            "bin_start": 0.5,
            "count": 0
           },
           {
            "bin_end": 0.7000000000000001,
            "bin_start": 0.6000000000000001,
            "count": 0
           },
           {
            "bin_end": 0.8,
            "bin_start": 0.7000000000000001,
            "count": 0
           },
           {
            "bin_end": 0.9,
            "bin_start": 0.8,
            "count": 0
           },
           {
            "bin_end": 1,
            "bin_start": 0.9,
            "count": 329
           }
          ],
          "max": "1",
          "min": "0",
          "nan_count": 0,
          "unique_count": 2
         }
        },
        {
         "dtype": "int64",
         "name": "Property A124",
         "stats": {
          "histogram": [
           {
            "bin_end": 0.1,
            "bin_start": 0,
            "count": 788
           },
           {
            "bin_end": 0.2,
            "bin_start": 0.1,
            "count": 0
           },
           {
            "bin_end": 0.30000000000000004,
            "bin_start": 0.2,
            "count": 0
           },
           {
            "bin_end": 0.4,
            "bin_start": 0.30000000000000004,
            "count": 0
           },
           {
            "bin_end": 0.5,
            "bin_start": 0.4,
            "count": 0
           },
           {
            "bin_end": 0.6000000000000001,
            "bin_start": 0.5,
            "count": 0
           },
           {
            "bin_end": 0.7000000000000001,
            "bin_start": 0.6000000000000001,
            "count": 0
           },
           {
            "bin_end": 0.8,
            "bin_start": 0.7000000000000001,
            "count": 0
           },
           {
            "bin_end": 0.9,
            "bin_start": 0.8,
            "count": 0
           },
           {
            "bin_end": 1,
            "bin_start": 0.9,
            "count": 162
           }
          ],
          "max": "1",
          "min": "0",
          "nan_count": 0,
          "unique_count": 2
         }
        },
        {
         "dtype": "float64",
         "name": "Age",
         "stats": {
          "histogram": [
           {
            "bin_end": 0.0982142857,
            "bin_start": 0,
            "count": 151
           },
           {
            "bin_end": 0.1964285714,
            "bin_start": 0.0982142857,
            "count": 255
           },
           {
            "bin_end": 0.2946428571,
            "bin_start": 0.1964285714,
            "count": 175
           },
           {
            "bin_end": 0.3928571428,
            "bin_start": 0.2946428571,
            "count": 124
           },
           {
            "bin_end": 0.4910714285,
            "bin_start": 0.3928571428,
            "count": 103
           },
           {
            "bin_end": 0.5892857142,
            "bin_start": 0.4910714285,
            "count": 63
           },
           {
            "bin_end": 0.6874999999,
            "bin_start": 0.5892857142,
            "count": 35
           },
           {
            "bin_end": 0.7857142856,
            "bin_start": 0.6874999999,
            "count": 21
           },
           {
            "bin_end": 0.8839285713,
            "bin_start": 0.7857142856,
            "count": 21
           },
           {
            "bin_end": 0.982142857,
            "bin_start": 0.8839285713,
            "count": 2
           }
          ],
          "max": "0.982142857",
          "min": "0.0",
          "nan_count": 0,
          "unique_count": 355
         }
        },
        {
         "dtype": "int64",
         "name": "Telephone1",
         "stats": {
          "histogram": [
           {
            "bin_end": 0.1,
            "bin_start": 0,
            "count": 573
           },
           {
            "bin_end": 0.2,
            "bin_start": 0.1,
            "count": 0
           },
           {
            "bin_end": 0.30000000000000004,
            "bin_start": 0.2,
            "count": 0
           },
           {
            "bin_end": 0.4,
            "bin_start": 0.30000000000000004,
            "count": 0
           },
           {
            "bin_end": 0.5,
            "bin_start": 0.4,
            "count": 0
           },
           {
            "bin_end": 0.6000000000000001,
            "bin_start": 0.5,
            "count": 0
           },
           {
            "bin_end": 0.7000000000000001,
            "bin_start": 0.6000000000000001,
            "count": 0
           },
           {
            "bin_end": 0.8,
            "bin_start": 0.7000000000000001,
            "count": 0
           },
           {
            "bin_end": 0.9,
            "bin_start": 0.8,
            "count": 0
           },
           {
            "bin_end": 1,
            "bin_start": 0.9,
            "count": 377
           }
          ],
          "max": "1",
          "min": "0",
          "nan_count": 0,
          "unique_count": 2
         }
        },
        {
         "dtype": "int64",
         "name": "CreditScore",
         "stats": {
          "histogram": [
           {
            "bin_end": 0.1,
            "bin_start": 0,
            "count": 425
           },
           {
            "bin_end": 0.2,
            "bin_start": 0.1,
            "count": 0
           },
           {
            "bin_end": 0.30000000000000004,
            "bin_start": 0.2,
            "count": 0
           },
           {
            "bin_end": 0.4,
            "bin_start": 0.30000000000000004,
            "count": 0
           },
           {
            "bin_end": 0.5,
            "bin_start": 0.4,
            "count": 0
           },
           {
            "bin_end": 0.6000000000000001,
            "bin_start": 0.5,
            "count": 0
           },
           {
            "bin_end": 0.7000000000000001,
            "bin_start": 0.6000000000000001,
            "count": 0
           },
           {
            "bin_end": 0.8,
            "bin_start": 0.7000000000000001,
            "count": 0
           },
           {
            "bin_end": 0.9,
            "bin_start": 0.8,
            "count": 0
           },
           {
            "bin_end": 1,
            "bin_start": 0.9,
            "count": 525
           }
          ],
          "max": "1",
          "min": "0",
          "nan_count": 0,
          "unique_count": 2
         }
        },
        {
         "dtype": "int64",
         "name": "_deepnote_index_column"
        }
       ],
       "row_count": 950,
       "rows_bottom": [
        {
         "Age": 0.106488004,
         "CheckingAcctStat A11": 0,
         "CheckingAcctStat A12": 1,
         "CheckingAcctStat A13": 0,
         "CheckingAcctStat A14": 0,
         "CreditHistory A30": 0,
         "CreditHistory A31": 0,
         "CreditHistory A32": 1,
         "CreditHistory A33": 0,
         "CreditHistory A34": 0,
         "CreditScore": 1,
         "Employment A71": 1,
         "Employment A72": 0,
         "Employment A73": 0,
         "Employment A74": 0,
         "Employment A75": 0,
         "InstallmentRatePecnt": 0.144094595,
         "PresentResidenceTime": 0.302185725,
         "Property A121": 0,
         "Property A122": 1,
         "Property A123": 0,
         "Property A124": 0,
         "Purpose A40": 1,
         "Purpose A41": 0,
         "Purpose A410": 0,
         "Purpose A42": 0,
         "Purpose A43": 0,
         "Purpose A44": 0,
         "Purpose A45": 0,
         "Purpose A46": 0,
         "Purpose A48": 0,
         "Purpose A49": 0,
         "Savings A61": 0,
         "Savings A62": 0,
         "Savings A63": 0,
         "Savings A64": 0,
         "Savings A65": 1,
         "Telephone1": 1,
         "_deepnote_index_column": 937
        },
        {
         "Age": 0.512101157,
         "CheckingAcctStat A11": 1,
         "CheckingAcctStat A12": 0,
         "CheckingAcctStat A13": 0,
         "CheckingAcctStat A14": 0,
         "CreditHistory A30": 0,
         "CreditHistory A31": 1,
         "CreditHistory A32": 0,
         "CreditHistory A33": 0,
         "CreditHistory A34": 0,
         "CreditScore": 1,
         "Employment A71": 0,
         "Employment A72": 0,
         "Employment A73": 1,
         "Employment A74": 0,
         "Employment A75": 0,
         "InstallmentRatePecnt": 1,
         "PresentResidenceTime": 0.691625898,
         "Property A121": 0,
         "Property A122": 0,
         "Property A123": 1,
         "Property A124": 0,
         "Purpose A40": 1,
         "Purpose A41": 0,
         "Purpose A410": 0,
         "Purpose A42": 0,
         "Purpose A43": 0,
         "Purpose A44": 0,
         "Purpose A45": 0,
         "Purpose A46": 0,
         "Purpose A48": 0,
         "Purpose A49": 0,
         "Savings A61": 1,
         "Savings A62": 0,
         "Savings A63": 0,
         "Savings A64": 0,
         "Savings A65": 0,
         "Telephone1": 1,
         "_deepnote_index_column": 938
        },
        {
         "Age": 0.484560749,
         "CheckingAcctStat A11": 1,
         "CheckingAcctStat A12": 0,
         "CheckingAcctStat A13": 0,
         "CheckingAcctStat A14": 0,
         "CreditHistory A30": 0,
         "CreditHistory A31": 1,
         "CreditHistory A32": 0,
         "CreditHistory A33": 0,
         "CreditHistory A34": 0,
         "CreditScore": 1,
         "Employment A71": 0,
         "Employment A72": 1,
         "Employment A73": 0,
         "Employment A74": 0,
         "Employment A75": 0,
         "InstallmentRatePecnt": 1,
         "PresentResidenceTime": 0.395628549,
         "Property A121": 0,
         "Property A122": 0,
         "Property A123": 1,
         "Property A124": 0,
         "Purpose A40": 1,
         "Purpose A41": 0,
         "Purpose A410": 0,
         "Purpose A42": 0,
         "Purpose A43": 0,
         "Purpose A44": 0,
         "Purpose A45": 0,
         "Purpose A46": 0,
         "Purpose A48": 0,
         "Purpose A49": 0,
         "Savings A61": 1,
         "Savings A62": 0,
         "Savings A63": 0,
         "Savings A64": 0,
         "Savings A65": 0,
         "Telephone1": 1,
         "_deepnote_index_column": 939
        },
        {
         "Age": 0.575484936,
         "CheckingAcctStat A11": 1,
         "CheckingAcctStat A12": 0,
         "CheckingAcctStat A13": 0,
         "CheckingAcctStat A14": 0,
         "CreditHistory A30": 0,
         "CreditHistory A31": 0,
         "CreditHistory A32": 1,
         "CreditHistory A33": 0,
         "CreditHistory A34": 0,
         "CreditScore": 1,
         "Employment A71": 0,
         "Employment A72": 0,
         "Employment A73": 0,
         "Employment A74": 0,
         "Employment A75": 1,
         "InstallmentRatePecnt": 1,
         "PresentResidenceTime": 1,
         "Property A121": 0,
         "Property A122": 0,
         "Property A123": 0,
         "Property A124": 1,
         "Purpose A40": 1,
         "Purpose A41": 0,
         "Purpose A410": 0,
         "Purpose A42": 0,
         "Purpose A43": 0,
         "Purpose A44": 0,
         "Purpose A45": 0,
         "Purpose A46": 0,
         "Purpose A48": 0,
         "Purpose A49": 0,
         "Savings A61": 1,
         "Savings A62": 0,
         "Savings A63": 0,
         "Savings A64": 0,
         "Savings A65": 0,
         "Telephone1": 0,
         "_deepnote_index_column": 940
        },
        {
         "Age": 0.424012691,
         "CheckingAcctStat A11": 1,
         "CheckingAcctStat A12": 0,
         "CheckingAcctStat A13": 0,
         "CheckingAcctStat A14": 0,
         "CreditHistory A30": 0,
         "CreditHistory A31": 0,
         "CreditHistory A32": 1,
         "CreditHistory A33": 0,
         "CreditHistory A34": 0,
         "CreditScore": 1,
         "Employment A71": 0,
         "Employment A72": 0,
         "Employment A73": 0,
         "Employment A74": 0,
         "Employment A75": 1,
         "InstallmentRatePecnt": 1,
         "PresentResidenceTime": 1,
         "Property A121": 0,
         "Property A122": 0,
         "Property A123": 0,
         "Property A124": 1,
         "Purpose A40": 1,
         "Purpose A41": 0,
         "Purpose A410": 0,
         "Purpose A42": 0,
         "Purpose A43": 0,
         "Purpose A44": 0,
         "Purpose A45": 0,
         "Purpose A46": 0,
         "Purpose A48": 0,
         "Purpose A49": 0,
         "Savings A61": 1,
         "Savings A62": 0,
         "Savings A63": 0,
         "Savings A64": 0,
         "Savings A65": 0,
         "Telephone1": 0,
         "_deepnote_index_column": 941
        },
        {
         "Age": 0.04493745,
         "CheckingAcctStat A11": 0,
         "CheckingAcctStat A12": 0,
         "CheckingAcctStat A13": 0,
         "CheckingAcctStat A14": 1,
         "CreditHistory A30": 0,
         "CreditHistory A31": 0,
         "CreditHistory A32": 1,
         "CreditHistory A33": 0,
         "CreditHistory A34": 0,
         "CreditScore": 1,
         "Employment A71": 1,
         "Employment A72": 0,
         "Employment A73": 0,
         "Employment A74": 0,
         "Employment A75": 0,
         "InstallmentRatePecnt": 0.386120238,
         "PresentResidenceTime": 0.691625898,
         "Property A121": 1,
         "Property A122": 0,
         "Property A123": 0,
         "Property A124": 0,
         "Purpose A40": 0,
         "Purpose A41": 0,
         "Purpose A410": 0,
         "Purpose A42": 0,
         "Purpose A43": 1,
         "Purpose A44": 0,
         "Purpose A45": 0,
         "Purpose A46": 0,
         "Purpose A48": 0,
         "Purpose A49": 0,
         "Savings A61": 1,
         "Savings A62": 0,
         "Savings A63": 0,
         "Savings A64": 0,
         "Savings A65": 0,
         "Telephone1": 0,
         "_deepnote_index_column": 942
        },
        {
         "Age": 0.003626838,
         "CheckingAcctStat A11": 0,
         "CheckingAcctStat A12": 0,
         "CheckingAcctStat A13": 0,
         "CheckingAcctStat A14": 1,
         "CreditHistory A30": 0,
         "CreditHistory A31": 0,
         "CreditHistory A32": 1,
         "CreditHistory A33": 0,
         "CreditHistory A34": 0,
         "CreditScore": 1,
         "Employment A71": 0,
         "Employment A72": 1,
         "Employment A73": 0,
         "Employment A74": 0,
         "Employment A75": 0,
         "InstallmentRatePecnt": 0.477427928,
         "PresentResidenceTime": 0.395628549,
         "Property A121": 0,
         "Property A122": 0,
         "Property A123": 1,
         "Property A124": 0,
         "Purpose A40": 0,
         "Purpose A41": 0,
         "Purpose A410": 0,
         "Purpose A42": 0,
         "Purpose A43": 1,
         "Purpose A44": 0,
         "Purpose A45": 0,
         "Purpose A46": 0,
         "Purpose A48": 0,
         "Purpose A49": 0,
         "Savings A61": 1,
         "Savings A62": 0,
         "Savings A63": 0,
         "Savings A64": 0,
         "Savings A65": 0,
         "Telephone1": 0,
         "_deepnote_index_column": 943
        },
        {
         "Age": 0.136511971,
         "CheckingAcctStat A11": 0,
         "CheckingAcctStat A12": 1,
         "CheckingAcctStat A13": 0,
         "CheckingAcctStat A14": 0,
         "CreditHistory A30": 0,
         "CreditHistory A31": 0,
         "CreditHistory A32": 1,
         "CreditHistory A33": 0,
         "CreditHistory A34": 0,
         "CreditScore": 1,
         "Employment A71": 0,
         "Employment A72": 0,
         "Employment A73": 1,
         "Employment A74": 0,
         "Employment A75": 0,
         "InstallmentRatePecnt": 1,
         "PresentResidenceTime": 0.333333333,
         "Property A121": 0,
         "Property A122": 1,
         "Property A123": 0,
         "Property A124": 0,
         "Purpose A40": 0,
         "Purpose A41": 0,
         "Purpose A410": 0,
         "Purpose A42": 0,
         "Purpose A43": 0,
         "Purpose A44": 0,
         "Purpose A45": 0,
         "Purpose A46": 1,
         "Purpose A48": 0,
         "Purpose A49": 0,
         "Savings A61": 1,
         "Savings A62": 0,
         "Savings A63": 0,
         "Savings A64": 0,
         "Savings A65": 0,
         "Telephone1": 0,
         "_deepnote_index_column": 944
        },
        {
         "Age": 0.191592788,
         "CheckingAcctStat A11": 0,
         "CheckingAcctStat A12": 1,
         "CheckingAcctStat A13": 0,
         "CheckingAcctStat A14": 0,
         "CreditHistory A30": 0,
         "CreditHistory A31": 0,
         "CreditHistory A32": 1,
         "CreditHistory A33": 0,
         "CreditHistory A34": 0,
         "CreditScore": 1,
         "Employment A71": 0,
         "Employment A72": 0,
         "Employment A73": 1,
         "Employment A74": 0,
         "Employment A75": 0,
         "InstallmentRatePecnt": 1,
         "PresentResidenceTime": 0.333333333,
         "Property A121": 0,
         "Property A122": 0,
         "Property A123": 1,
         "Property A124": 0,
         "Purpose A40": 0,
         "Purpose A41": 0,
         "Purpose A410": 0,
         "Purpose A42": 0,
         "Purpose A43": 0,
         "Purpose A44": 0,
         "Purpose A45": 0,
         "Purpose A46": 1,
         "Purpose A48": 0,
         "Purpose A49": 0,
         "Savings A61": 1,
         "Savings A62": 0,
         "Savings A63": 0,
         "Savings A64": 0,
         "Savings A65": 0,
         "Telephone1": 0,
         "_deepnote_index_column": 945
        },
        {
         "Age": 0.717820829,
         "CheckingAcctStat A11": 1,
         "CheckingAcctStat A12": 0,
         "CheckingAcctStat A13": 0,
         "CheckingAcctStat A14": 0,
         "CreditHistory A30": 0,
         "CreditHistory A31": 1,
         "CreditHistory A32": 0,
         "CreditHistory A33": 0,
         "CreditHistory A34": 0,
         "CreditScore": 1,
         "Employment A71": 0,
         "Employment A72": 0,
         "Employment A73": 1,
         "Employment A74": 0,
         "Employment A75": 0,
         "InstallmentRatePecnt": 1,
         "PresentResidenceTime": 0.179146282,
         "Property A121": 0,
         "Property A122": 0,
         "Property A123": 1,
         "Property A124": 0,
         "Purpose A40": 0,
         "Purpose A41": 0,
         "Purpose A410": 0,
         "Purpose A42": 0,
         "Purpose A43": 0,
         "Purpose A44": 1,
         "Purpose A45": 0,
         "Purpose A46": 0,
         "Purpose A48": 0,
         "Purpose A49": 0,
         "Savings A61": 1,
         "Savings A62": 0,
         "Savings A63": 0,
         "Savings A64": 0,
         "Savings A65": 0,
         "Telephone1": 0,
         "_deepnote_index_column": 946
        },
        {
         "Age": 0.222093483,
         "CheckingAcctStat A11": 1,
         "CheckingAcctStat A12": 0,
         "CheckingAcctStat A13": 0,
         "CheckingAcctStat A14": 0,
         "CreditHistory A30": 0,
         "CreditHistory A31": 0,
         "CreditHistory A32": 0,
         "CreditHistory A33": 0,
         "CreditHistory A34": 1,
         "CreditScore": 1,
         "Employment A71": 0,
         "Employment A72": 0,
         "Employment A73": 1,
         "Employment A74": 0,
         "Employment A75": 0,
         "InstallmentRatePecnt": 1,
         "PresentResidenceTime": 0.093442824,
         "Property A121": 0,
         "Property A122": 0,
         "Property A123": 0,
         "Property A124": 1,
         "Purpose A40": 0,
         "Purpose A41": 0,
         "Purpose A410": 0,
         "Purpose A42": 0,
         "Purpose A43": 0,
         "Purpose A44": 1,
         "Purpose A45": 0,
         "Purpose A46": 0,
         "Purpose A48": 0,
         "Purpose A49": 0,
         "Savings A61": 1,
         "Savings A62": 0,
         "Savings A63": 0,
         "Savings A64": 0,
         "Savings A65": 0,
         "Telephone1": 0,
         "_deepnote_index_column": 947
        },
        {
         "Age": 0.068550579,
         "CheckingAcctStat A11": 1,
         "CheckingAcctStat A12": 0,
         "CheckingAcctStat A13": 0,
         "CheckingAcctStat A14": 0,
         "CreditHistory A30": 0,
         "CreditHistory A31": 0,
         "CreditHistory A32": 1,
         "CreditHistory A33": 0,
         "CreditHistory A34": 0,
         "CreditScore": 1,
         "Employment A71": 0,
         "Employment A72": 1,
         "Employment A73": 0,
         "Employment A74": 0,
         "Employment A75": 0,
         "InstallmentRatePecnt": 1,
         "PresentResidenceTime": 0.487520384,
         "Property A121": 0,
         "Property A122": 1,
         "Property A123": 0,
         "Property A124": 0,
         "Purpose A40": 0,
         "Purpose A41": 0,
         "Purpose A410": 0,
         "Purpose A42": 0,
         "Purpose A43": 0,
         "Purpose A44": 0,
         "Purpose A45": 1,
         "Purpose A46": 0,
         "Purpose A48": 0,
         "Purpose A49": 0,
         "Savings A61": 0,
         "Savings A62": 1,
         "Savings A63": 0,
         "Savings A64": 0,
         "Savings A65": 0,
         "Telephone1": 0,
         "_deepnote_index_column": 948
        },
        {
         "Age": 0.054780375,
         "CheckingAcctStat A11": 1,
         "CheckingAcctStat A12": 0,
         "CheckingAcctStat A13": 0,
         "CheckingAcctStat A14": 0,
         "CreditHistory A30": 0,
         "CreditHistory A31": 0,
         "CreditHistory A32": 1,
         "CreditHistory A33": 0,
         "CreditHistory A34": 0,
         "CreditScore": 1,
         "Employment A71": 1,
         "Employment A72": 0,
         "Employment A73": 0,
         "Employment A74": 0,
         "Employment A75": 0,
         "InstallmentRatePecnt": 1,
         "PresentResidenceTime": 0.697814275,
         "Property A121": 0,
         "Property A122": 1,
         "Property A123": 0,
         "Property A124": 0,
         "Purpose A40": 0,
         "Purpose A41": 0,
         "Purpose A410": 0,
         "Purpose A42": 0,
         "Purpose A43": 0,
         "Purpose A44": 0,
         "Purpose A45": 1,
         "Purpose A46": 0,
         "Purpose A48": 0,
         "Purpose A49": 0,
         "Savings A61": 0,
         "Savings A62": 1,
         "Savings A63": 0,
         "Savings A64": 0,
         "Savings A65": 0,
         "Telephone1": 0,
         "_deepnote_index_column": 949
        }
       ],
       "rows_top": [
        {
         "Age": 0.089285714,
         "CheckingAcctStat A11": 1,
         "CheckingAcctStat A12": 0,
         "CheckingAcctStat A13": 0,
         "CheckingAcctStat A14": 0,
         "CreditHistory A30": 0,
         "CreditHistory A31": 0,
         "CreditHistory A32": 1,
         "CreditHistory A33": 0,
         "CreditHistory A34": 0,
         "CreditScore": 1,
         "Employment A71": 0,
         "Employment A72": 0,
         "Employment A73": 1,
         "Employment A74": 0,
         "Employment A75": 0,
         "InstallmentRatePecnt": 0.333333333,
         "PresentResidenceTime": 0.333333333,
         "Property A121": 1,
         "Property A122": 0,
         "Property A123": 0,
         "Property A124": 0,
         "Purpose A40": 0,
         "Purpose A41": 0,
         "Purpose A410": 0,
         "Purpose A42": 0,
         "Purpose A43": 0,
         "Purpose A44": 1,
         "Purpose A45": 0,
         "Purpose A46": 0,
         "Purpose A48": 0,
         "Purpose A49": 0,
         "Savings A61": 1,
         "Savings A62": 0,
         "Savings A63": 0,
         "Savings A64": 0,
         "Savings A65": 0,
         "Telephone1": 0,
         "_deepnote_index_column": 0
        },
        {
         "Age": 0.125,
         "CheckingAcctStat A11": 0,
         "CheckingAcctStat A12": 0,
         "CheckingAcctStat A13": 0,
         "CheckingAcctStat A14": 1,
         "CreditHistory A30": 0,
         "CreditHistory A31": 0,
         "CreditHistory A32": 1,
         "CreditHistory A33": 0,
         "CreditHistory A34": 0,
         "CreditScore": 0,
         "Employment A71": 0,
         "Employment A72": 0,
         "Employment A73": 0,
         "Employment A74": 1,
         "Employment A75": 0,
         "InstallmentRatePecnt": 1,
         "PresentResidenceTime": 0.666666667,
         "Property A121": 0,
         "Property A122": 1,
         "Property A123": 0,
         "Property A124": 0,
         "Purpose A40": 0,
         "Purpose A41": 0,
         "Purpose A410": 0,
         "Purpose A42": 0,
         "Purpose A43": 0,
         "Purpose A44": 1,
         "Purpose A45": 0,
         "Purpose A46": 0,
         "Purpose A48": 0,
         "Purpose A49": 0,
         "Savings A61": 0,
         "Savings A62": 1,
         "Savings A63": 0,
         "Savings A64": 0,
         "Savings A65": 0,
         "Telephone1": 1,
         "_deepnote_index_column": 1
        },
        {
         "Age": 0.232142857,
         "CheckingAcctStat A11": 0,
         "CheckingAcctStat A12": 0,
         "CheckingAcctStat A13": 0,
         "CheckingAcctStat A14": 1,
         "CreditHistory A30": 0,
         "CreditHistory A31": 0,
         "CreditHistory A32": 1,
         "CreditHistory A33": 0,
         "CreditHistory A34": 0,
         "CreditScore": 0,
         "Employment A71": 0,
         "Employment A72": 0,
         "Employment A73": 1,
         "Employment A74": 0,
         "Employment A75": 0,
         "InstallmentRatePecnt": 1,
         "PresentResidenceTime": 0.333333333,
         "Property A121": 0,
         "Property A122": 0,
         "Property A123": 0,
         "Property A124": 1,
         "Purpose A40": 0,
         "Purpose A41": 0,
         "Purpose A410": 0,
         "Purpose A42": 0,
         "Purpose A43": 0,
         "Purpose A44": 1,
         "Purpose A45": 0,
         "Purpose A46": 0,
         "Purpose A48": 0,
         "Purpose A49": 0,
         "Savings A61": 1,
         "Savings A62": 0,
         "Savings A63": 0,
         "Savings A64": 0,
         "Savings A65": 0,
         "Telephone1": 1,
         "_deepnote_index_column": 2
        },
        {
         "Age": 0.214285714,
         "CheckingAcctStat A11": 1,
         "CheckingAcctStat A12": 0,
         "CheckingAcctStat A13": 0,
         "CheckingAcctStat A14": 0,
         "CreditHistory A30": 0,
         "CreditHistory A31": 0,
         "CreditHistory A32": 1,
         "CreditHistory A33": 0,
         "CreditHistory A34": 0,
         "CreditScore": 1,
         "Employment A71": 0,
         "Employment A72": 0,
         "Employment A73": 1,
         "Employment A74": 0,
         "Employment A75": 0,
         "InstallmentRatePecnt": 0.666666667,
         "PresentResidenceTime": 0.333333333,
         "Property A121": 0,
         "Property A122": 0,
         "Property A123": 1,
         "Property A124": 0,
         "Purpose A40": 0,
         "Purpose A41": 0,
         "Purpose A410": 0,
         "Purpose A42": 0,
         "Purpose A43": 0,
         "Purpose A44": 1,
         "Purpose A45": 0,
         "Purpose A46": 0,
         "Purpose A48": 0,
         "Purpose A49": 0,
         "Savings A61": 1,
         "Savings A62": 0,
         "Savings A63": 0,
         "Savings A64": 0,
         "Savings A65": 0,
         "Telephone1": 1,
         "_deepnote_index_column": 3
        },
        {
         "Age": 0.178571429,
         "CheckingAcctStat A11": 0,
         "CheckingAcctStat A12": 0,
         "CheckingAcctStat A13": 1,
         "CheckingAcctStat A14": 0,
         "CreditHistory A30": 0,
         "CreditHistory A31": 0,
         "CreditHistory A32": 0,
         "CreditHistory A33": 1,
         "CreditHistory A34": 0,
         "CreditScore": 0,
         "Employment A71": 0,
         "Employment A72": 1,
         "Employment A73": 0,
         "Employment A74": 0,
         "Employment A75": 0,
         "InstallmentRatePecnt": 0.333333333,
         "PresentResidenceTime": 0,
         "Property A121": 0,
         "Property A122": 1,
         "Property A123": 0,
         "Property A124": 0,
         "Purpose A40": 0,
         "Purpose A41": 0,
         "Purpose A410": 0,
         "Purpose A42": 0,
         "Purpose A43": 0,
         "Purpose A44": 1,
         "Purpose A45": 0,
         "Purpose A46": 0,
         "Purpose A48": 0,
         "Purpose A49": 0,
         "Savings A61": 1,
         "Savings A62": 0,
         "Savings A63": 0,
         "Savings A64": 0,
         "Savings A65": 0,
         "Telephone1": 0,
         "_deepnote_index_column": 4
        },
        {
         "Age": 0.446428571,
         "CheckingAcctStat A11": 1,
         "CheckingAcctStat A12": 0,
         "CheckingAcctStat A13": 0,
         "CheckingAcctStat A14": 0,
         "CreditHistory A30": 0,
         "CreditHistory A31": 0,
         "CreditHistory A32": 1,
         "CreditHistory A33": 0,
         "CreditHistory A34": 0,
         "CreditScore": 0,
         "Employment A71": 0,
         "Employment A72": 0,
         "Employment A73": 1,
         "Employment A74": 0,
         "Employment A75": 0,
         "InstallmentRatePecnt": 0.333333333,
         "PresentResidenceTime": 0.666666667,
         "Property A121": 1,
         "Property A122": 0,
         "Property A123": 0,
         "Property A124": 0,
         "Purpose A40": 0,
         "Purpose A41": 0,
         "Purpose A410": 0,
         "Purpose A42": 0,
         "Purpose A43": 0,
         "Purpose A44": 1,
         "Purpose A45": 0,
         "Purpose A46": 0,
         "Purpose A48": 0,
         "Purpose A49": 0,
         "Savings A61": 0,
         "Savings A62": 0,
         "Savings A63": 1,
         "Savings A64": 0,
         "Savings A65": 0,
         "Telephone1": 0,
         "_deepnote_index_column": 5
        },
        {
         "Age": 0.196428571,
         "CheckingAcctStat A11": 0,
         "CheckingAcctStat A12": 0,
         "CheckingAcctStat A13": 0,
         "CheckingAcctStat A14": 1,
         "CreditHistory A30": 0,
         "CreditHistory A31": 0,
         "CreditHistory A32": 0,
         "CreditHistory A33": 0,
         "CreditHistory A34": 1,
         "CreditScore": 1,
         "Employment A71": 0,
         "Employment A72": 0,
         "Employment A73": 1,
         "Employment A74": 0,
         "Employment A75": 0,
         "InstallmentRatePecnt": 1,
         "PresentResidenceTime": 0.333333333,
         "Property A121": 1,
         "Property A122": 0,
         "Property A123": 0,
         "Property A124": 0,
         "Purpose A40": 0,
         "Purpose A41": 0,
         "Purpose A410": 0,
         "Purpose A42": 0,
         "Purpose A43": 0,
         "Purpose A44": 0,
         "Purpose A45": 0,
         "Purpose A46": 0,
         "Purpose A48": 1,
         "Purpose A49": 0,
         "Savings A61": 0,
         "Savings A62": 1,
         "Savings A63": 0,
         "Savings A64": 0,
         "Savings A65": 0,
         "Telephone1": 0,
         "_deepnote_index_column": 6
        },
        {
         "Age": 0.035714286,
         "CheckingAcctStat A11": 1,
         "CheckingAcctStat A12": 0,
         "CheckingAcctStat A13": 0,
         "CheckingAcctStat A14": 0,
         "CreditHistory A30": 0,
         "CreditHistory A31": 0,
         "CreditHistory A32": 1,
         "CreditHistory A33": 0,
         "CreditHistory A34": 0,
         "CreditScore": 1,
         "Employment A71": 0,
         "Employment A72": 0,
         "Employment A73": 0,
         "Employment A74": 1,
         "Employment A75": 0,
         "InstallmentRatePecnt": 1,
         "PresentResidenceTime": 1,
         "Property A121": 0,
         "Property A122": 1,
         "Property A123": 0,
         "Property A124": 0,
         "Purpose A40": 0,
         "Purpose A41": 0,
         "Purpose A410": 0,
         "Purpose A42": 0,
         "Purpose A43": 0,
         "Purpose A44": 0,
         "Purpose A45": 0,
         "Purpose A46": 0,
         "Purpose A48": 0,
         "Purpose A49": 1,
         "Savings A61": 1,
         "Savings A62": 0,
         "Savings A63": 0,
         "Savings A64": 0,
         "Savings A65": 0,
         "Telephone1": 0,
         "_deepnote_index_column": 7
        },
        {
         "Age": 0.357142857,
         "CheckingAcctStat A11": 1,
         "CheckingAcctStat A12": 0,
         "CheckingAcctStat A13": 0,
         "CheckingAcctStat A14": 0,
         "CreditHistory A30": 0,
         "CreditHistory A31": 0,
         "CreditHistory A32": 0,
         "CreditHistory A33": 0,
         "CreditHistory A34": 1,
         "CreditScore": 0,
         "Employment A71": 0,
         "Employment A72": 0,
         "Employment A73": 0,
         "Employment A74": 1,
         "Employment A75": 0,
         "InstallmentRatePecnt": 0.666666667,
         "PresentResidenceTime": 1,
         "Property A121": 1,
         "Property A122": 0,
         "Property A123": 0,
         "Property A124": 0,
         "Purpose A40": 1,
         "Purpose A41": 0,
         "Purpose A410": 0,
         "Purpose A42": 0,
         "Purpose A43": 0,
         "Purpose A44": 0,
         "Purpose A45": 0,
         "Purpose A46": 0,
         "Purpose A48": 0,
         "Purpose A49": 0,
         "Savings A61": 0,
         "Savings A62": 0,
         "Savings A63": 0,
         "Savings A64": 1,
         "Savings A65": 0,
         "Telephone1": 1,
         "_deepnote_index_column": 8
        },
        {
         "Age": 0.017857143,
         "CheckingAcctStat A11": 0,
         "CheckingAcctStat A12": 0,
         "CheckingAcctStat A13": 0,
         "CheckingAcctStat A14": 1,
         "CreditHistory A30": 0,
         "CreditHistory A31": 0,
         "CreditHistory A32": 1,
         "CreditHistory A33": 0,
         "CreditHistory A34": 0,
         "CreditScore": 0,
         "Employment A71": 0,
         "Employment A72": 0,
         "Employment A73": 1,
         "Employment A74": 0,
         "Employment A75": 0,
         "InstallmentRatePecnt": 0.333333333,
         "PresentResidenceTime": 1,
         "Property A121": 0,
         "Property A122": 0,
         "Property A123": 1,
         "Property A124": 0,
         "Purpose A40": 0,
         "Purpose A41": 0,
         "Purpose A410": 0,
         "Purpose A42": 0,
         "Purpose A43": 1,
         "Purpose A44": 0,
         "Purpose A45": 0,
         "Purpose A46": 0,
         "Purpose A48": 0,
         "Purpose A49": 0,
         "Savings A61": 0,
         "Savings A62": 0,
         "Savings A63": 1,
         "Savings A64": 0,
         "Savings A65": 0,
         "Telephone1": 0,
         "_deepnote_index_column": 9
        },
        {
         "Age": 0.303571429,
         "CheckingAcctStat A11": 0,
         "CheckingAcctStat A12": 0,
         "CheckingAcctStat A13": 0,
         "CheckingAcctStat A14": 1,
         "CreditHistory A30": 0,
         "CreditHistory A31": 0,
         "CreditHistory A32": 1,
         "CreditHistory A33": 0,
         "CreditHistory A34": 0,
         "CreditScore": 0,
         "Employment A71": 0,
         "Employment A72": 0,
         "Employment A73": 0,
         "Employment A74": 0,
         "Employment A75": 1,
         "InstallmentRatePecnt": 1,
         "PresentResidenceTime": 1,
         "Property A121": 0,
         "Property A122": 1,
         "Property A123": 0,
         "Property A124": 0,
         "Purpose A40": 1,
         "Purpose A41": 0,
         "Purpose A410": 0,
         "Purpose A42": 0,
         "Purpose A43": 0,
         "Purpose A44": 0,
         "Purpose A45": 0,
         "Purpose A46": 0,
         "Purpose A48": 0,
         "Purpose A49": 0,
         "Savings A61": 0,
         "Savings A62": 0,
         "Savings A63": 1,
         "Savings A64": 0,
         "Savings A65": 0,
         "Telephone1": 0,
         "_deepnote_index_column": 10
        },
        {
         "Age": 0.339285714,
         "CheckingAcctStat A11": 0,
         "CheckingAcctStat A12": 1,
         "CheckingAcctStat A13": 0,
         "CheckingAcctStat A14": 0,
         "CreditHistory A30": 0,
         "CreditHistory A31": 0,
         "CreditHistory A32": 0,
         "CreditHistory A33": 0,
         "CreditHistory A34": 1,
         "CreditScore": 1,
         "Employment A71": 0,
         "Employment A72": 1,
         "Employment A73": 0,
         "Employment A74": 0,
         "Employment A75": 0,
         "InstallmentRatePecnt": 1,
         "PresentResidenceTime": 1,
         "Property A121": 0,
         "Property A122": 0,
         "Property A123": 0,
         "Property A124": 1,
         "Purpose A40": 0,
         "Purpose A41": 0,
         "Purpose A410": 0,
         "Purpose A42": 0,
         "Purpose A43": 0,
         "Purpose A44": 1,
         "Purpose A45": 0,
         "Purpose A46": 0,
         "Purpose A48": 0,
         "Purpose A49": 0,
         "Savings A61": 0,
         "Savings A62": 1,
         "Savings A63": 0,
         "Savings A64": 0,
         "Savings A65": 0,
         "Telephone1": 0,
         "_deepnote_index_column": 11
        }
       ]
      },
      "text/html": [
       "<div>\n",
       "<style scoped>\n",
       "    .dataframe tbody tr th:only-of-type {\n",
       "        vertical-align: middle;\n",
       "    }\n",
       "\n",
       "    .dataframe tbody tr th {\n",
       "        vertical-align: top;\n",
       "    }\n",
       "\n",
       "    .dataframe thead th {\n",
       "        text-align: right;\n",
       "    }\n",
       "</style>\n",
       "<table border=\"1\" class=\"dataframe\">\n",
       "  <thead>\n",
       "    <tr style=\"text-align: right;\">\n",
       "      <th></th>\n",
       "      <th>CheckingAcctStat A11</th>\n",
       "      <th>CheckingAcctStat A12</th>\n",
       "      <th>CheckingAcctStat A13</th>\n",
       "      <th>CheckingAcctStat A14</th>\n",
       "      <th>CreditHistory A30</th>\n",
       "      <th>CreditHistory A31</th>\n",
       "      <th>CreditHistory A32</th>\n",
       "      <th>CreditHistory A33</th>\n",
       "      <th>CreditHistory A34</th>\n",
       "      <th>Purpose A40</th>\n",
       "      <th>...</th>\n",
       "      <th>Employment A75</th>\n",
       "      <th>InstallmentRatePecnt</th>\n",
       "      <th>PresentResidenceTime</th>\n",
       "      <th>Property A121</th>\n",
       "      <th>Property A122</th>\n",
       "      <th>Property A123</th>\n",
       "      <th>Property A124</th>\n",
       "      <th>Age</th>\n",
       "      <th>Telephone1</th>\n",
       "      <th>CreditScore</th>\n",
       "    </tr>\n",
       "  </thead>\n",
       "  <tbody>\n",
       "    <tr>\n",
       "      <th>0</th>\n",
       "      <td>1</td>\n",
       "      <td>0</td>\n",
       "      <td>0</td>\n",
       "      <td>0</td>\n",
       "      <td>0</td>\n",
       "      <td>0</td>\n",
       "      <td>1</td>\n",
       "      <td>0</td>\n",
       "      <td>0</td>\n",
       "      <td>0</td>\n",
       "      <td>...</td>\n",
       "      <td>0</td>\n",
       "      <td>0.333333</td>\n",
       "      <td>0.333333</td>\n",
       "      <td>1</td>\n",
       "      <td>0</td>\n",
       "      <td>0</td>\n",
       "      <td>0</td>\n",
       "      <td>0.089286</td>\n",
       "      <td>0</td>\n",
       "      <td>1</td>\n",
       "    </tr>\n",
       "    <tr>\n",
       "      <th>1</th>\n",
       "      <td>0</td>\n",
       "      <td>0</td>\n",
       "      <td>0</td>\n",
       "      <td>1</td>\n",
       "      <td>0</td>\n",
       "      <td>0</td>\n",
       "      <td>1</td>\n",
       "      <td>0</td>\n",
       "      <td>0</td>\n",
       "      <td>0</td>\n",
       "      <td>...</td>\n",
       "      <td>0</td>\n",
       "      <td>1.000000</td>\n",
       "      <td>0.666667</td>\n",
       "      <td>0</td>\n",
       "      <td>1</td>\n",
       "      <td>0</td>\n",
       "      <td>0</td>\n",
       "      <td>0.125000</td>\n",
       "      <td>1</td>\n",
       "      <td>0</td>\n",
       "    </tr>\n",
       "    <tr>\n",
       "      <th>2</th>\n",
       "      <td>0</td>\n",
       "      <td>0</td>\n",
       "      <td>0</td>\n",
       "      <td>1</td>\n",
       "      <td>0</td>\n",
       "      <td>0</td>\n",
       "      <td>1</td>\n",
       "      <td>0</td>\n",
       "      <td>0</td>\n",
       "      <td>0</td>\n",
       "      <td>...</td>\n",
       "      <td>0</td>\n",
       "      <td>1.000000</td>\n",
       "      <td>0.333333</td>\n",
       "      <td>0</td>\n",
       "      <td>0</td>\n",
       "      <td>0</td>\n",
       "      <td>1</td>\n",
       "      <td>0.232143</td>\n",
       "      <td>1</td>\n",
       "      <td>0</td>\n",
       "    </tr>\n",
       "    <tr>\n",
       "      <th>3</th>\n",
       "      <td>1</td>\n",
       "      <td>0</td>\n",
       "      <td>0</td>\n",
       "      <td>0</td>\n",
       "      <td>0</td>\n",
       "      <td>0</td>\n",
       "      <td>1</td>\n",
       "      <td>0</td>\n",
       "      <td>0</td>\n",
       "      <td>0</td>\n",
       "      <td>...</td>\n",
       "      <td>0</td>\n",
       "      <td>0.666667</td>\n",
       "      <td>0.333333</td>\n",
       "      <td>0</td>\n",
       "      <td>0</td>\n",
       "      <td>1</td>\n",
       "      <td>0</td>\n",
       "      <td>0.214286</td>\n",
       "      <td>1</td>\n",
       "      <td>1</td>\n",
       "    </tr>\n",
       "    <tr>\n",
       "      <th>4</th>\n",
       "      <td>0</td>\n",
       "      <td>0</td>\n",
       "      <td>1</td>\n",
       "      <td>0</td>\n",
       "      <td>0</td>\n",
       "      <td>0</td>\n",
       "      <td>0</td>\n",
       "      <td>1</td>\n",
       "      <td>0</td>\n",
       "      <td>0</td>\n",
       "      <td>...</td>\n",
       "      <td>0</td>\n",
       "      <td>0.333333</td>\n",
       "      <td>0.000000</td>\n",
       "      <td>0</td>\n",
       "      <td>1</td>\n",
       "      <td>0</td>\n",
       "      <td>0</td>\n",
       "      <td>0.178571</td>\n",
       "      <td>0</td>\n",
       "      <td>0</td>\n",
       "    </tr>\n",
       "    <tr>\n",
       "      <th>...</th>\n",
       "      <td>...</td>\n",
       "      <td>...</td>\n",
       "      <td>...</td>\n",
       "      <td>...</td>\n",
       "      <td>...</td>\n",
       "      <td>...</td>\n",
       "      <td>...</td>\n",
       "      <td>...</td>\n",
       "      <td>...</td>\n",
       "      <td>...</td>\n",
       "      <td>...</td>\n",
       "      <td>...</td>\n",
       "      <td>...</td>\n",
       "      <td>...</td>\n",
       "      <td>...</td>\n",
       "      <td>...</td>\n",
       "      <td>...</td>\n",
       "      <td>...</td>\n",
       "      <td>...</td>\n",
       "      <td>...</td>\n",
       "      <td>...</td>\n",
       "    </tr>\n",
       "    <tr>\n",
       "      <th>945</th>\n",
       "      <td>0</td>\n",
       "      <td>1</td>\n",
       "      <td>0</td>\n",
       "      <td>0</td>\n",
       "      <td>0</td>\n",
       "      <td>0</td>\n",
       "      <td>1</td>\n",
       "      <td>0</td>\n",
       "      <td>0</td>\n",
       "      <td>0</td>\n",
       "      <td>...</td>\n",
       "      <td>0</td>\n",
       "      <td>1.000000</td>\n",
       "      <td>0.333333</td>\n",
       "      <td>0</td>\n",
       "      <td>0</td>\n",
       "      <td>1</td>\n",
       "      <td>0</td>\n",
       "      <td>0.191593</td>\n",
       "      <td>0</td>\n",
       "      <td>1</td>\n",
       "    </tr>\n",
       "    <tr>\n",
       "      <th>946</th>\n",
       "      <td>1</td>\n",
       "      <td>0</td>\n",
       "      <td>0</td>\n",
       "      <td>0</td>\n",
       "      <td>0</td>\n",
       "      <td>1</td>\n",
       "      <td>0</td>\n",
       "      <td>0</td>\n",
       "      <td>0</td>\n",
       "      <td>0</td>\n",
       "      <td>...</td>\n",
       "      <td>0</td>\n",
       "      <td>1.000000</td>\n",
       "      <td>0.179146</td>\n",
       "      <td>0</td>\n",
       "      <td>0</td>\n",
       "      <td>1</td>\n",
       "      <td>0</td>\n",
       "      <td>0.717821</td>\n",
       "      <td>0</td>\n",
       "      <td>1</td>\n",
       "    </tr>\n",
       "    <tr>\n",
       "      <th>947</th>\n",
       "      <td>1</td>\n",
       "      <td>0</td>\n",
       "      <td>0</td>\n",
       "      <td>0</td>\n",
       "      <td>0</td>\n",
       "      <td>0</td>\n",
       "      <td>0</td>\n",
       "      <td>0</td>\n",
       "      <td>1</td>\n",
       "      <td>0</td>\n",
       "      <td>...</td>\n",
       "      <td>0</td>\n",
       "      <td>1.000000</td>\n",
       "      <td>0.093443</td>\n",
       "      <td>0</td>\n",
       "      <td>0</td>\n",
       "      <td>0</td>\n",
       "      <td>1</td>\n",
       "      <td>0.222093</td>\n",
       "      <td>0</td>\n",
       "      <td>1</td>\n",
       "    </tr>\n",
       "    <tr>\n",
       "      <th>948</th>\n",
       "      <td>1</td>\n",
       "      <td>0</td>\n",
       "      <td>0</td>\n",
       "      <td>0</td>\n",
       "      <td>0</td>\n",
       "      <td>0</td>\n",
       "      <td>1</td>\n",
       "      <td>0</td>\n",
       "      <td>0</td>\n",
       "      <td>0</td>\n",
       "      <td>...</td>\n",
       "      <td>0</td>\n",
       "      <td>1.000000</td>\n",
       "      <td>0.487520</td>\n",
       "      <td>0</td>\n",
       "      <td>1</td>\n",
       "      <td>0</td>\n",
       "      <td>0</td>\n",
       "      <td>0.068551</td>\n",
       "      <td>0</td>\n",
       "      <td>1</td>\n",
       "    </tr>\n",
       "    <tr>\n",
       "      <th>949</th>\n",
       "      <td>1</td>\n",
       "      <td>0</td>\n",
       "      <td>0</td>\n",
       "      <td>0</td>\n",
       "      <td>0</td>\n",
       "      <td>0</td>\n",
       "      <td>1</td>\n",
       "      <td>0</td>\n",
       "      <td>0</td>\n",
       "      <td>0</td>\n",
       "      <td>...</td>\n",
       "      <td>0</td>\n",
       "      <td>1.000000</td>\n",
       "      <td>0.697814</td>\n",
       "      <td>0</td>\n",
       "      <td>1</td>\n",
       "      <td>0</td>\n",
       "      <td>0</td>\n",
       "      <td>0.054780</td>\n",
       "      <td>0</td>\n",
       "      <td>1</td>\n",
       "    </tr>\n",
       "  </tbody>\n",
       "</table>\n",
       "<p>950 rows × 38 columns</p>\n",
       "</div>"
      ],
      "text/plain": [
       "     CheckingAcctStat A11  CheckingAcctStat A12  CheckingAcctStat A13  \\\n",
       "0                       1                     0                     0   \n",
       "1                       0                     0                     0   \n",
       "2                       0                     0                     0   \n",
       "3                       1                     0                     0   \n",
       "4                       0                     0                     1   \n",
       "..                    ...                   ...                   ...   \n",
       "945                     0                     1                     0   \n",
       "946                     1                     0                     0   \n",
       "947                     1                     0                     0   \n",
       "948                     1                     0                     0   \n",
       "949                     1                     0                     0   \n",
       "\n",
       "     CheckingAcctStat A14  CreditHistory A30  CreditHistory A31  \\\n",
       "0                       0                  0                  0   \n",
       "1                       1                  0                  0   \n",
       "2                       1                  0                  0   \n",
       "3                       0                  0                  0   \n",
       "4                       0                  0                  0   \n",
       "..                    ...                ...                ...   \n",
       "945                     0                  0                  0   \n",
       "946                     0                  0                  1   \n",
       "947                     0                  0                  0   \n",
       "948                     0                  0                  0   \n",
       "949                     0                  0                  0   \n",
       "\n",
       "     CreditHistory A32  CreditHistory A33  CreditHistory A34  Purpose A40  \\\n",
       "0                    1                  0                  0            0   \n",
       "1                    1                  0                  0            0   \n",
       "2                    1                  0                  0            0   \n",
       "3                    1                  0                  0            0   \n",
       "4                    0                  1                  0            0   \n",
       "..                 ...                ...                ...          ...   \n",
       "945                  1                  0                  0            0   \n",
       "946                  0                  0                  0            0   \n",
       "947                  0                  0                  1            0   \n",
       "948                  1                  0                  0            0   \n",
       "949                  1                  0                  0            0   \n",
       "\n",
       "     ...  Employment A75  InstallmentRatePecnt  PresentResidenceTime  \\\n",
       "0    ...               0              0.333333              0.333333   \n",
       "1    ...               0              1.000000              0.666667   \n",
       "2    ...               0              1.000000              0.333333   \n",
       "3    ...               0              0.666667              0.333333   \n",
       "4    ...               0              0.333333              0.000000   \n",
       "..   ...             ...                   ...                   ...   \n",
       "945  ...               0              1.000000              0.333333   \n",
       "946  ...               0              1.000000              0.179146   \n",
       "947  ...               0              1.000000              0.093443   \n",
       "948  ...               0              1.000000              0.487520   \n",
       "949  ...               0              1.000000              0.697814   \n",
       "\n",
       "     Property A121  Property A122  Property A123  Property A124       Age  \\\n",
       "0                1              0              0              0  0.089286   \n",
       "1                0              1              0              0  0.125000   \n",
       "2                0              0              0              1  0.232143   \n",
       "3                0              0              1              0  0.214286   \n",
       "4                0              1              0              0  0.178571   \n",
       "..             ...            ...            ...            ...       ...   \n",
       "945              0              0              1              0  0.191593   \n",
       "946              0              0              1              0  0.717821   \n",
       "947              0              0              0              1  0.222093   \n",
       "948              0              1              0              0  0.068551   \n",
       "949              0              1              0              0  0.054780   \n",
       "\n",
       "     Telephone1  CreditScore  \n",
       "0             0            1  \n",
       "1             1            0  \n",
       "2             1            0  \n",
       "3             1            1  \n",
       "4             0            0  \n",
       "..          ...          ...  \n",
       "945           0            1  \n",
       "946           0            1  \n",
       "947           0            1  \n",
       "948           0            1  \n",
       "949           0            1  \n",
       "\n",
       "[950 rows x 38 columns]"
      ]
     },
     "execution_count": 34,
     "metadata": {},
     "output_type": "execute_result"
    }
   ],
   "source": [
    "df.drop(['Duration'], axis=1)"
   ]
  },
  {
   "cell_type": "code",
   "execution_count": null,
   "metadata": {
    "cell_id": "ecf6768de14d43e1a1d6fa21164a0c65",
    "deepnote_cell_type": "code",
    "deepnote_to_be_reexecuted": false,
    "execution_millis": 7,
    "execution_start": 1639498561369,
    "source_hash": "a581237c",
    "tags": []
   },
   "outputs": [],
   "source": [
    "df=df.drop([4], axis=0)"
   ]
  },
  {
   "cell_type": "markdown",
   "metadata": {
    "cell_id": "d2735f07f2ab4c99ad1e42c101525190",
    "deepnote_cell_type": "text-cell-p",
    "formattedRanges": [],
    "is_collapsed": false,
    "tags": []
   },
   "source": [
    "Operaciones sobre columnas"
   ]
  },
  {
   "cell_type": "code",
   "execution_count": null,
   "metadata": {
    "cell_id": "9f7c14052e164465931ec32bbf74d331",
    "deepnote_cell_type": "code",
    "deepnote_output_heights": [
     232.39999389648438
    ],
    "deepnote_to_be_reexecuted": false,
    "execution_millis": 498,
    "execution_start": 1639498564232,
    "source_hash": "bd6f5c2f",
    "tags": []
   },
   "outputs": [
    {
     "data": {
      "text/plain": [
       "0      20.588235\n",
       "1      29.411765\n",
       "2      20.588235\n",
       "3      64.705882\n",
       "5       2.941177\n",
       "         ...    \n",
       "945    34.171019\n",
       "946    17.501482\n",
       "947    17.366284\n",
       "948     6.027930\n",
       "949     6.163128\n",
       "Name: Duration, Length: 949, dtype: float64"
      ]
     },
     "execution_count": 36,
     "metadata": {},
     "output_type": "execute_result"
    }
   ],
   "source": [
    "df['Duration']*100"
   ]
  },
  {
   "cell_type": "code",
   "execution_count": null,
   "metadata": {
    "cell_id": "47801b7dee2449df9585e4c171bd9852",
    "deepnote_cell_type": "code",
    "deepnote_output_heights": [
     232.39999389648438
    ],
    "deepnote_to_be_reexecuted": false,
    "execution_millis": 4,
    "execution_start": 1639498567998,
    "source_hash": "55e7ea31",
    "tags": []
   },
   "outputs": [
    {
     "data": {
      "text/plain": [
       "0       True\n",
       "1      False\n",
       "2      False\n",
       "3       True\n",
       "5      False\n",
       "       ...  \n",
       "945     True\n",
       "946     True\n",
       "947     True\n",
       "948     True\n",
       "949     True\n",
       "Name: CreditScore, Length: 949, dtype: bool"
      ]
     },
     "execution_count": 37,
     "metadata": {},
     "output_type": "execute_result"
    }
   ],
   "source": [
    "df['CreditScore']==1"
   ]
  },
  {
   "cell_type": "markdown",
   "metadata": {
    "created_in_deepnote_cell": true,
    "deepnote_cell_type": "markdown",
    "tags": []
   },
   "source": [
    "<a style='text-decoration:none;line-height:16px;display:flex;color:#5B5B62;padding:10px;justify-content:end;' href='https://deepnote.com?utm_source=created-in-deepnote-cell&projectId=760fa669-e300-4684-8f7a-1c4fada7f620' target=\"_blank\">\n",
    "<img alt='Created in deepnote.com' style='display:inline;max-height:16px;margin:0px;margin-right:7.5px;' src='data:image/svg+xml;base64,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' > </img>\n",
    "Created in <span style='font-weight:600;margin-left:4px;'>Deepnote</span></a>"
   ]
  }
 ],
 "metadata": {
  "deepnote": {
   "is_reactive": false
  },
  "deepnote_execution_queue": [],
  "deepnote_notebook_id": "096a0332a5de480694b00c7b9125cd24",
  "kernelspec": {
   "display_name": "Python 3 (ipykernel)",
   "language": "python",
   "name": "python3"
  },
  "language_info": {
   "codemirror_mode": {
    "name": "ipython",
    "version": 3
   },
   "file_extension": ".py",
   "mimetype": "text/x-python",
   "name": "python",
   "nbconvert_exporter": "python",
   "pygments_lexer": "ipython3",
   "version": "3.9.18"
  }
 },
 "nbformat": 4,
 "nbformat_minor": 4
}
