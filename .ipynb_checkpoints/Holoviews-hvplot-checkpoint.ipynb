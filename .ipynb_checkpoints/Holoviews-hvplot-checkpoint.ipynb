{
 "cells": [
  {
   "cell_type": "markdown",
   "id": "8df188c2-20a1-42fc-98e3-6613e0316f9b",
   "metadata": {},
   "source": [
    "!pip install -q hvplot\n",
    "!conda install -c conda-forge hvplot"
   ]
  },
  {
   "cell_type": "code",
   "execution_count": 8,
   "id": "9aa68f2a-14aa-42d1-acbe-5a2ac4430b86",
   "metadata": {},
   "outputs": [],
   "source": [
    "import numpy as np\n",
    "import pandas as pd\n",
    "import matplotlib.pyplot as plt\n",
    "import hvplot\n",
    "from sklearn.datasets import load_wine"
   ]
  },
  {
   "cell_type": "code",
   "execution_count": 9,
   "id": "f00fadf2-d611-4959-b41f-e7b27459ef46",
   "metadata": {},
   "outputs": [
    {
     "name": "stdout",
     "output_type": "stream",
     "text": [
      "Feature Names :  ['alcohol', 'malic_acid', 'ash', 'alcalinity_of_ash', 'magnesium', 'total_phenols', 'flavanoids', 'nonflavanoid_phenols', 'proanthocyanins', 'color_intensity', 'hue', 'od280/od315_of_diluted_wines', 'proline']\n",
      "\n",
      "Target Names :  ['class_0' 'class_1' 'class_2']\n",
      "\n",
      "Dataset Size :  (178, 14)\n"
     ]
    },
    {
     "data": {
      "text/html": [
       "<div>\n",
       "<style scoped>\n",
       "    .dataframe tbody tr th:only-of-type {\n",
       "        vertical-align: middle;\n",
       "    }\n",
       "\n",
       "    .dataframe tbody tr th {\n",
       "        vertical-align: top;\n",
       "    }\n",
       "\n",
       "    .dataframe thead th {\n",
       "        text-align: right;\n",
       "    }\n",
       "</style>\n",
       "<table border=\"1\" class=\"dataframe\">\n",
       "  <thead>\n",
       "    <tr style=\"text-align: right;\">\n",
       "      <th></th>\n",
       "      <th>alcohol</th>\n",
       "      <th>malic_acid</th>\n",
       "      <th>ash</th>\n",
       "      <th>alcalinity_of_ash</th>\n",
       "      <th>magnesium</th>\n",
       "      <th>total_phenols</th>\n",
       "      <th>flavanoids</th>\n",
       "      <th>nonflavanoid_phenols</th>\n",
       "      <th>proanthocyanins</th>\n",
       "      <th>color_intensity</th>\n",
       "      <th>hue</th>\n",
       "      <th>od280/od315_of_diluted_wines</th>\n",
       "      <th>proline</th>\n",
       "      <th>Target</th>\n",
       "    </tr>\n",
       "  </thead>\n",
       "  <tbody>\n",
       "    <tr>\n",
       "      <th>0</th>\n",
       "      <td>14.23</td>\n",
       "      <td>1.71</td>\n",
       "      <td>2.43</td>\n",
       "      <td>15.6</td>\n",
       "      <td>127.0</td>\n",
       "      <td>2.80</td>\n",
       "      <td>3.06</td>\n",
       "      <td>0.28</td>\n",
       "      <td>2.29</td>\n",
       "      <td>5.64</td>\n",
       "      <td>1.04</td>\n",
       "      <td>3.92</td>\n",
       "      <td>1065.0</td>\n",
       "      <td>Class_1</td>\n",
       "    </tr>\n",
       "    <tr>\n",
       "      <th>1</th>\n",
       "      <td>13.20</td>\n",
       "      <td>1.78</td>\n",
       "      <td>2.14</td>\n",
       "      <td>11.2</td>\n",
       "      <td>100.0</td>\n",
       "      <td>2.65</td>\n",
       "      <td>2.76</td>\n",
       "      <td>0.26</td>\n",
       "      <td>1.28</td>\n",
       "      <td>4.38</td>\n",
       "      <td>1.05</td>\n",
       "      <td>3.40</td>\n",
       "      <td>1050.0</td>\n",
       "      <td>Class_1</td>\n",
       "    </tr>\n",
       "    <tr>\n",
       "      <th>2</th>\n",
       "      <td>13.16</td>\n",
       "      <td>2.36</td>\n",
       "      <td>2.67</td>\n",
       "      <td>18.6</td>\n",
       "      <td>101.0</td>\n",
       "      <td>2.80</td>\n",
       "      <td>3.24</td>\n",
       "      <td>0.30</td>\n",
       "      <td>2.81</td>\n",
       "      <td>5.68</td>\n",
       "      <td>1.03</td>\n",
       "      <td>3.17</td>\n",
       "      <td>1185.0</td>\n",
       "      <td>Class_1</td>\n",
       "    </tr>\n",
       "    <tr>\n",
       "      <th>3</th>\n",
       "      <td>14.37</td>\n",
       "      <td>1.95</td>\n",
       "      <td>2.50</td>\n",
       "      <td>16.8</td>\n",
       "      <td>113.0</td>\n",
       "      <td>3.85</td>\n",
       "      <td>3.49</td>\n",
       "      <td>0.24</td>\n",
       "      <td>2.18</td>\n",
       "      <td>7.80</td>\n",
       "      <td>0.86</td>\n",
       "      <td>3.45</td>\n",
       "      <td>1480.0</td>\n",
       "      <td>Class_1</td>\n",
       "    </tr>\n",
       "    <tr>\n",
       "      <th>4</th>\n",
       "      <td>13.24</td>\n",
       "      <td>2.59</td>\n",
       "      <td>2.87</td>\n",
       "      <td>21.0</td>\n",
       "      <td>118.0</td>\n",
       "      <td>2.80</td>\n",
       "      <td>2.69</td>\n",
       "      <td>0.39</td>\n",
       "      <td>1.82</td>\n",
       "      <td>4.32</td>\n",
       "      <td>1.04</td>\n",
       "      <td>2.93</td>\n",
       "      <td>735.0</td>\n",
       "      <td>Class_1</td>\n",
       "    </tr>\n",
       "  </tbody>\n",
       "</table>\n",
       "</div>"
      ],
      "text/plain": [
       "   alcohol  malic_acid   ash  alcalinity_of_ash  magnesium  total_phenols  \\\n",
       "0    14.23        1.71  2.43               15.6      127.0           2.80   \n",
       "1    13.20        1.78  2.14               11.2      100.0           2.65   \n",
       "2    13.16        2.36  2.67               18.6      101.0           2.80   \n",
       "3    14.37        1.95  2.50               16.8      113.0           3.85   \n",
       "4    13.24        2.59  2.87               21.0      118.0           2.80   \n",
       "\n",
       "   flavanoids  nonflavanoid_phenols  proanthocyanins  color_intensity   hue  \\\n",
       "0        3.06                  0.28             2.29             5.64  1.04   \n",
       "1        2.76                  0.26             1.28             4.38  1.05   \n",
       "2        3.24                  0.30             2.81             5.68  1.03   \n",
       "3        3.49                  0.24             2.18             7.80  0.86   \n",
       "4        2.69                  0.39             1.82             4.32  1.04   \n",
       "\n",
       "   od280/od315_of_diluted_wines  proline   Target  \n",
       "0                          3.92   1065.0  Class_1  \n",
       "1                          3.40   1050.0  Class_1  \n",
       "2                          3.17   1185.0  Class_1  \n",
       "3                          3.45   1480.0  Class_1  \n",
       "4                          2.93    735.0  Class_1  "
      ]
     },
     "execution_count": 9,
     "metadata": {},
     "output_type": "execute_result"
    }
   ],
   "source": [
    "wine = load_wine()\n",
    "\n",
    "print(\"Feature Names : \", wine.feature_names)\n",
    "print(\"\\nTarget Names : \", wine.target_names)\n",
    "\n",
    "wine_df = pd.DataFrame(wine.data, columns = wine.feature_names)\n",
    "wine_df[\"Target\"] = wine.target\n",
    "wine_df[\"Target\"] = [\"Class_1\" if typ==0 else \"Class_2\" if typ==1 else \"Class_3\"  for typ in wine_df[\"Target\"]]\n",
    "\n",
    "print(\"\\nDataset Size : \", wine_df.shape)\n",
    "\n",
    "wine_df.head()"
   ]
  },
  {
   "cell_type": "code",
   "execution_count": 10,
   "id": "023e991c-fb01-44de-9869-3de27662e622",
   "metadata": {},
   "outputs": [
    {
     "data": {
      "image/png": "[encoded data removed]",
      "text/plain": [
       "<Figure size 576x396 with 1 Axes>"
      ]
     },
     "metadata": {},
     "output_type": "display_data"
    }
   ],
   "source": [
    "with plt.style.context((\"seaborn\", \"ggplot\")):\n",
    "    wine_df.plot(\n",
    "                 x=\"alcohol\",\n",
    "                 y=\"malic_acid\",\n",
    "                 kind=\"scatter\",\n",
    "                 s=100, alpha=0.7,\n",
    "                 title=\"Alcohol vs Malic Acid Scatter Chart\")"
   ]
  },
  {
   "cell_type": "code",
   "execution_count": 12,
   "id": "47aec613-9e61-43d3-b814-b0e2fe531e86",
   "metadata": {},
   "outputs": [],
   "source": [
    "import hvplot.pandas"
   ]
  },
  {
   "cell_type": "code",
   "execution_count": 13,
   "id": "81617933-7e09-4aca-a5bd-4f6d24e4be4c",
   "metadata": {},
   "outputs": [
    {
     "data": {},
     "metadata": {},
     "output_type": "display_data"
    },
    {
     "data": {
      "application/vnd.holoviews_exec.v0+json": "",
      "text/html": [
       "<div id='1002'>\n",
       "\n",
       "\n",
       "\n",
       "\n",
       "\n",
       "  <div class=\"bk-root\" id=\"de34bbc2-a31c-4f01-8def-e7434b8613d8\" data-root-id=\"1002\"></div>\n",
       "</div>\n",
       "<script type=\"application/javascript\">(function(root) {\n",
       "  function embed_document(root) {\n",
       "    var docs_json = {\"adcfb0f2-c6aa-4f28-908b-2a6bdc6a4fd0\":{\"defs\":[{\"extends\":null,\"module\":null,\"name\":\"ReactiveHTML1\",\"overrides\":[],\"properties\":[]},{\"extends\":null,\"module\":null,\"name\":\"FlexBox1\",\"overrides\":[],\"properties\":[{\"default\":\"flex-start\",\"kind\":null,\"name\":\"align_content\"},{\"default\":\"flex-start\",\"kind\":null,\"name\":\"align_items\"},{\"default\":\"row\",\"kind\":null,\"name\":\"flex_direction\"},{\"default\":\"wrap\",\"kind\":null,\"name\":\"flex_wrap\"},{\"default\":\"flex-start\",\"kind\":null,\"name\":\"justify_content\"}]},{\"extends\":null,\"module\":null,\"name\":\"GridStack1\",\"overrides\":[],\"properties\":[{\"default\":\"warn\",\"kind\":null,\"name\":\"mode\"},{\"default\":null,\"kind\":null,\"name\":\"ncols\"},{\"default\":null,\"kind\":null,\"name\":\"nrows\"},{\"default\":true,\"kind\":null,\"name\":\"allow_resize\"},{\"default\":true,\"kind\":null,\"name\":\"allow_drag\"},{\"default\":[],\"kind\":null,\"name\":\"state\"}]},{\"extends\":null,\"module\":null,\"name\":\"click1\",\"overrides\":[],\"properties\":[{\"default\":\"\",\"kind\":null,\"name\":\"terminal_output\"},{\"default\":\"\",\"kind\":null,\"name\":\"debug_name\"},{\"default\":0,\"kind\":null,\"name\":\"clears\"}]},{\"extends\":null,\"module\":null,\"name\":\"TemplateActions1\",\"overrides\":[],\"properties\":[{\"default\":0,\"kind\":null,\"name\":\"open_modal\"},{\"default\":0,\"kind\":null,\"name\":\"close_modal\"}]},{\"extends\":null,\"module\":null,\"name\":\"MaterialTemplateActions1\",\"overrides\":[],\"properties\":[{\"default\":0,\"kind\":null,\"name\":\"open_modal\"},{\"default\":0,\"kind\":null,\"name\":\"close_modal\"}]}],\"roots\":{\"references\":[{\"attributes\":{\"coordinates\":null,\"group\":null,\"text\":\"Alcohol vs Malic Acid Scatter Chart\",\"text_color\":\"black\",\"text_font_size\":\"12pt\"},\"id\":\"1008\",\"type\":\"Title\"},{\"attributes\":{},\"id\":\"1050\",\"type\":\"BasicTickFormatter\"},{\"attributes\":{},\"id\":\"1051\",\"type\":\"AllLabels\"},{\"attributes\":{},\"id\":\"1012\",\"type\":\"LinearScale\"},{\"attributes\":{\"below\":[{\"id\":\"1016\"}],\"center\":[{\"id\":\"1019\"},{\"id\":\"1023\"}],\"height\":300,\"left\":[{\"id\":\"1020\"}],\"margin\":[5,5,5,5],\"min_border_bottom\":10,\"min_border_left\":10,\"min_border_right\":10,\"min_border_top\":10,\"renderers\":[{\"id\":\"1043\"}],\"sizing_mode\":\"fixed\",\"title\":{\"id\":\"1008\"},\"toolbar\":{\"id\":\"1030\"},\"width\":700,\"x_range\":{\"id\":\"1004\"},\"x_scale\":{\"id\":\"1012\"},\"y_range\":{\"id\":\"1005\"},\"y_scale\":{\"id\":\"1014\"}},\"id\":\"1007\",\"subtype\":\"Figure\",\"type\":\"Plot\"},{\"attributes\":{\"callback\":null,\"renderers\":[{\"id\":\"1043\"}],\"tags\":[\"hv_created\"],\"tooltips\":[[\"alcohol\",\"@{alcohol}\"],[\"malic_acid\",\"@{malic_acid}\"]]},\"id\":\"1006\",\"type\":\"HoverTool\"},{\"attributes\":{\"coordinates\":null,\"data_source\":{\"id\":\"1037\"},\"glyph\":{\"id\":\"1040\"},\"group\":null,\"hover_glyph\":null,\"muted_glyph\":{\"id\":\"1042\"},\"nonselection_glyph\":{\"id\":\"1041\"},\"selection_glyph\":{\"id\":\"1045\"},\"view\":{\"id\":\"1044\"}},\"id\":\"1043\",\"type\":\"GlyphRenderer\"},{\"attributes\":{\"children\":[{\"id\":\"1003\"},{\"id\":\"1007\"},{\"id\":\"1072\"}],\"margin\":[0,0,0,0],\"name\":\"Row01639\",\"tags\":[\"embedded\"]},\"id\":\"1002\",\"type\":\"Row\"},{\"attributes\":{\"margin\":[5,5,5,5],\"name\":\"HSpacer01644\",\"sizing_mode\":\"stretch_width\"},\"id\":\"1072\",\"type\":\"Spacer\"},{\"attributes\":{\"margin\":[5,5,5,5],\"name\":\"HSpacer01643\",\"sizing_mode\":\"stretch_width\"},\"id\":\"1003\",\"type\":\"Spacer\"},{\"attributes\":{},\"id\":\"1059\",\"type\":\"UnionRenderers\"},{\"attributes\":{},\"id\":\"1017\",\"type\":\"BasicTicker\"},{\"attributes\":{\"fill_alpha\":{\"value\":0.7},\"fill_color\":{\"value\":\"#30a2da\"},\"hatch_alpha\":{\"value\":0.1},\"hatch_color\":{\"value\":\"#30a2da\"},\"line_alpha\":{\"value\":0.7},\"line_color\":{\"value\":\"#30a2da\"},\"size\":{\"value\":8.366600265340756},\"x\":{\"field\":\"alcohol\"},\"y\":{\"field\":\"malic_acid\"}},\"id\":\"1041\",\"type\":\"Scatter\"},{\"attributes\":{},\"id\":\"1048\",\"type\":\"AllLabels\"},{\"attributes\":{\"axis\":{\"id\":\"1016\"},\"coordinates\":null,\"grid_line_color\":null,\"group\":null,\"ticker\":null},\"id\":\"1019\",\"type\":\"Grid\"},{\"attributes\":{},\"id\":\"1047\",\"type\":\"BasicTickFormatter\"},{\"attributes\":{},\"id\":\"1014\",\"type\":\"LinearScale\"},{\"attributes\":{\"bottom_units\":\"screen\",\"coordinates\":null,\"fill_alpha\":0.5,\"fill_color\":\"lightgrey\",\"group\":null,\"left_units\":\"screen\",\"level\":\"overlay\",\"line_alpha\":1.0,\"line_color\":\"black\",\"line_dash\":[4,4],\"line_width\":2,\"right_units\":\"screen\",\"syncable\":false,\"top_units\":\"screen\"},\"id\":\"1029\",\"type\":\"BoxAnnotation\"},{\"attributes\":{\"axis_label\":\"alcohol\",\"coordinates\":null,\"formatter\":{\"id\":\"1047\"},\"group\":null,\"major_label_policy\":{\"id\":\"1048\"},\"ticker\":{\"id\":\"1017\"}},\"id\":\"1016\",\"type\":\"LinearAxis\"},{\"attributes\":{\"tools\":[{\"id\":\"1006\"},{\"id\":\"1024\"},{\"id\":\"1025\"},{\"id\":\"1026\"},{\"id\":\"1027\"},{\"id\":\"1028\"}]},\"id\":\"1030\",\"type\":\"Toolbar\"},{\"attributes\":{\"axis\":{\"id\":\"1020\"},\"coordinates\":null,\"dimension\":1,\"grid_line_color\":null,\"group\":null,\"ticker\":null},\"id\":\"1023\",\"type\":\"Grid\"},{\"attributes\":{\"axis_label\":\"malic_acid\",\"coordinates\":null,\"formatter\":{\"id\":\"1050\"},\"group\":null,\"major_label_policy\":{\"id\":\"1051\"},\"ticker\":{\"id\":\"1021\"}},\"id\":\"1020\",\"type\":\"LinearAxis\"},{\"attributes\":{},\"id\":\"1021\",\"type\":\"BasicTicker\"},{\"attributes\":{\"end\":14.992857142857144,\"reset_end\":14.992857142857144,\"reset_start\":10.867142857142856,\"start\":10.867142857142856,\"tags\":[[[\"alcohol\",\"alcohol\",null]]]},\"id\":\"1004\",\"type\":\"Range1d\"},{\"attributes\":{},\"id\":\"1038\",\"type\":\"Selection\"},{\"attributes\":{\"fill_alpha\":{\"value\":0.7},\"fill_color\":{\"value\":\"#30a2da\"},\"hatch_alpha\":{\"value\":0.7},\"hatch_color\":{\"value\":\"#30a2da\"},\"line_alpha\":{\"value\":0.7},\"line_color\":{\"value\":\"#30a2da\"},\"size\":{\"value\":8.366600265340756},\"x\":{\"field\":\"alcohol\"},\"y\":{\"field\":\"malic_acid\"}},\"id\":\"1040\",\"type\":\"Scatter\"},{\"attributes\":{},\"id\":\"1024\",\"type\":\"SaveTool\"},{\"attributes\":{},\"id\":\"1025\",\"type\":\"PanTool\"},{\"attributes\":{\"source\":{\"id\":\"1037\"}},\"id\":\"1044\",\"type\":\"CDSView\"},{\"attributes\":{},\"id\":\"1026\",\"type\":\"WheelZoomTool\"},{\"attributes\":{\"fill_alpha\":{\"value\":0.2},\"fill_color\":{\"value\":\"#30a2da\"},\"hatch_alpha\":{\"value\":0.2},\"hatch_color\":{\"value\":\"#30a2da\"},\"line_alpha\":{\"value\":0.2},\"line_color\":{\"value\":\"#30a2da\"},\"size\":{\"value\":8.366600265340756},\"x\":{\"field\":\"alcohol\"},\"y\":{\"field\":\"malic_acid\"}},\"id\":\"1042\",\"type\":\"Scatter\"},{\"attributes\":{\"overlay\":{\"id\":\"1029\"}},\"id\":\"1027\",\"type\":\"BoxZoomTool\"},{\"attributes\":{},\"id\":\"1028\",\"type\":\"ResetTool\"},{\"attributes\":{\"angle\":{\"value\":0.0},\"fill_alpha\":{\"value\":0.7},\"fill_color\":{\"value\":\"#30a2da\"},\"hatch_alpha\":{\"value\":0.7},\"hatch_color\":{\"value\":\"#30a2da\"},\"hatch_scale\":{\"value\":12.0},\"hatch_weight\":{\"value\":1.0},\"line_alpha\":{\"value\":0.7},\"line_cap\":{\"value\":\"butt\"},\"line_color\":{\"value\":\"#30a2da\"},\"line_dash\":{\"value\":[]},\"line_dash_offset\":{\"value\":0},\"line_join\":{\"value\":\"bevel\"},\"line_width\":{\"value\":1},\"marker\":{\"value\":\"circle\"},\"size\":{\"value\":8.366600265340756},\"x\":{\"field\":\"alcohol\"},\"y\":{\"field\":\"malic_acid\"}},\"id\":\"1045\",\"type\":\"Scatter\"},{\"attributes\":{\"data\":{\"alcohol\":{\"__ndarray__\":\"9ihcj8J1LEBmZmZmZmYqQFK4HoXrUSpAPQrXo3C9LEB7FK5H4XoqQGZmZmZmZixASOF6FK7HLEAfhetRuB4sQClcj8L1qC1AuB6F61G4K0AzMzMzMzMsQD0K16NwPSxAAAAAAACAK0AAAAAAAIAtQMP1KFyPwixAw/UoXI9CK0CamZmZmZksQClcj8L1qCtA4XoUrkdhLEBI4XoUrkcrQB+F61G4HixAXI/C9SjcKUDsUbgehWsrQDMzMzMzsylAAAAAAAAAK0CamZmZmRkqQEjhehSuxypAmpmZmZmZKkA9CtejcL0rQArXo3A9CixA9ihcj8J1K0ApXI/C9SgrQFyPwvUoXCtAhetRuB6FK0CF61G4HgUrQPYoXI/C9SpAj8L1KFyPKkCamZmZmRkqQKRwPQrXIypAcT0K16NwLEAfhetRuB4rQFK4HoXr0SpAw/UoXI/CK0B7FK5H4XoqQJqZmZmZGSpA7FG4HoVrLEDD9Shcj8IsQM3MzMzMzCtAMzMzMzMzLEDhehSuR+ErQJqZmZmZGSpAKVyPwvWoK0CkcD0K16MrQArXo3A9iitAexSuR+F6K0AfhetRuB4rQHE9CtejcCxAFK5H4XqUKkBxPQrXo3ArQD0K16NwvShAKVyPwvWoKEBI4XoUrkcpQNejcD0KVytAPQrXo3C9KEDXo3A9ClcoQD0K16NwvShAuB6F61E4KkA9CtejcL0oQK5H4XoUripA7FG4HoVrKEAUrkfhepQoQLgehetRuCtAexSuR+H6KkB7FK5H4fopQOxRuB6F6ydAUrgehetRJ0CPwvUoXA8qQK5H4XoUridAKVyPwvWoKEBmZmZmZmYpQAAAAAAAAChAcT0K16NwKUApXI/C9SgoQJqZmZmZGSpArkfhehSuJ0DXo3A9ClcpQFK4HoXrUShAzczMzMxMJ0BI4XoUrkcnQClcj8L1KChAKVyPwvUoKEAAAAAAAAAoQOF6FK5HYSlAFK5H4XqUKEA9CtejcD0nQHE9Ctej8ChAH4XrUbieJ0AUrkfhepQoQD0K16NwvShAFK5H4XqUKEApXI/C9SgoQDMzMzMzMylArkfhehSuKECkcD0K16MnQIXrUbgeBSlA16NwPQrXKEAAAAAAAIAoQHE9CtejcClAcT0K16NwKEC4HoXrUTgnQOxRuB6F6yZACtejcD0KKUCF61G4HoUnQFK4HoXr0SZAKVyPwvUoKECPwvUoXA8mQKRwPQrXoydA16NwPQrXKEAK16NwPYopQAAAAAAAAChAZmZmZmbmJkAfhetRuB4nQNejcD0K1yhAmpmZmZkZKkA9CtejcL0nQKRwPQrXIyhAXI/C9SjcKEAUrkfhepQnQD0K16NwvShAFK5H4XoUKEC4HoXrUbgpQMP1KFyPwilAH4XrUbieKUBmZmZmZmYpQIXrUbgeBSlAMzMzMzMzKUAAAAAAAIAoQI/C9ShcDylAexSuR+H6KkCuR+F6FK4pQFyPwvUo3ClAuB6F61G4KkAK16NwPQorQD0K16NwPStAAAAAAACAKEBSuB6F61EqQMP1KFyPwitAPQrXo3C9KUCkcD0K16MqQClcj8L1KCpAAAAAAAAAK0AUrkfhepQpQLgehetROCpA9ihcj8J1KkApXI/C9SgpQNejcD0KVypArkfhehSuK0BmZmZmZuYoQK5H4XoUrixA9ihcj8L1KkC4HoXrUbgoQOF6FK5HYStAMzMzMzOzKUDsUbgehespQI/C9ShcjytA9ihcj8J1K0BmZmZmZuYqQKRwPQrXoylAKVyPwvUoK0DNzMzMzMwqQGZmZmZmZihACtejcD2KKUBSuB6F61EsQOxRuB6FaytAzczMzMzMKkAK16NwPYoqQNejcD0KVypAw/UoXI9CLEA=\",\"dtype\":\"float64\",\"order\":\"little\",\"shape\":[178]},\"malic_acid\":{\"__ndarray__\":\"XI/C9Shc+z97FK5H4Xr8P+F6FK5H4QJAMzMzMzMz/z+4HoXrUbgEQClcj8L1KPw/7FG4HoXr/T8zMzMzMzMBQD0K16NwPfo/mpmZmZmZ9T9I4XoUrkcBQK5H4XoUrvc/rkfhehSu+z+uR+F6FK77P+xRuB6F6/0/9ihcj8L1/D+4HoXrUbj+Px+F61G4Hvk/cT0K16Nw+T/NzMzMzMwIQBSuR+F6FPo/ZmZmZmZmDkDD9Shcj8L9P5qZmZmZmfk/9ihcj8L1/D9mZmZmZmYAQFK4HoXrUfw/hetRuB6F+z9mZmZmZmb+P+F6FK5H4fo/AAAAAAAA+D+PwvUoXI/6P0jhehSuR/0/exSuR+F6+D/NzMzMzMz8P/YoXI/C9fw/PQrXo3A9+j9mZmZmZmb6PwAAAAAAAPg/7FG4HoXrD0Bcj8L1KFz7P7gehetRuA5APQrXo3A9/j/Xo3A9CtcPQFK4HoXrUfw/KVyPwvUoEEC4HoXrUbgMQOF6FK5H4fo/KVyPwvUoAECuR+F6FK77P65H4XoUrvs/ZmZmZmZm+j8AAAAAAAD8P2ZmZmZmZv4/uB6F61G4+j+uR+F6FK77PzMzMzMzM/s/hetRuB6F/z/hehSuR+H2PxSuR+F6FO4/mpmZmZmZ8T/D9Shcj8L1PwAAAAAAAPQ/FK5H4XoU8j8zMzMzMzP3P1yPwvUoXPM/KVyPwvUo8D+4HoXrUbjyPxSuR+F6FO4/CtejcD0K8z/D9Shcj8L5Pylcj8L1KPg/j8L1KFyP+j+4HoXrUbj6P3E9CtejcPE/FK5H4XoU/j/NzMzMzMzsPx+F61G4HgdArkfhehSu7z/2KFyPwvUOQHE9CtejcO0/9ihcj8L1/D8UrkfhehTyP+F6FK5H4Q5AexSuR+F67D9cj8L1KFzvP8P1KFyPwvk/uB6F61G4+j97FK5H4XoAQEjhehSuR/U/SOF6FK5H/T8pXI/C9Sj4P3sUrkfhevg/pHA9CtejBkDXo3A9Ctf/P1K4HoXrUfg/9ihcj8L1AECPwvUoXI/2Px+F61G4HvE/XI/C9ShcCUCkcD0K16MAQHE9CtejcPU/mpmZmZmZA0CF61G4HoX7P65H4XoUrvs/ZmZmZmZmBECuR+F6FK77PwAAAAAAAPw/pHA9Ctej9D+amZmZmZn1P+xRuB6F6w1AcT0K16NwA0BxPQrXo3AFQK5H4XoUruc/PQrXo3A99j8pXI/C9Sj4P4XrUbgehfc/w/UoXI/C+T9xPQrXo3ALQHE9CtejcAtAMzMzMzMzA0BmZmZmZmYAQLgehetRuBFAMzMzMzMzF0A9CtejcD0RQEjhehSuRwFAexSuR+F6+D8K16NwPQoBQBSuR+F6FPo/MzMzMzMzEUCamZmZmZn1P+xRuB6F6wdAexSuR+F6AkBmZmZmZmYMQNejcD0K1/M/rkfhehSuA0DhehSuR+ESQArXo3A9ChZAuB6F61G4DECuR+F6FK4HQHsUrkfhegZAexSuR+F6BEBcj8L1KFwJQM3MzMzMzBNACtejcD0KD0CPwvUoXI8MQClcj8L1KBRAcT0K16NwEkDsUbgehesJQDMzMzMzMw9A9ihcj8L1CEBcj8L1KFwFQGZmZmZmZv4/ZmZmZmZmCkCkcD0K16P0P8P1KFyPwhRAexSuR+F6EEA9CtejcD0IQOF6FK5H4fo/uB6F61G4+j+kcD0K16MOQBSuR+F6FApAKVyPwvUoCkCamZmZmZkLQBSuR+F6FAZAcT0K16NwEUCamZmZmZkNQPYoXI/C9QpApHA9CtejBEBmZmZmZmYSQD0K16NwPQhAH4XrUbgeA0AUrkfhehQEQJqZmZmZmRZASOF6FK5HD0AfhetRuB4RQLgehetRuARAZmZmZmZmEEA=\",\"dtype\":\"float64\",\"order\":\"little\",\"shape\":[178]}},\"selected\":{\"id\":\"1038\"},\"selection_policy\":{\"id\":\"1059\"}},\"id\":\"1037\",\"type\":\"ColumnDataSource\"},{\"attributes\":{\"end\":6.306,\"reset_end\":6.306,\"reset_start\":0.23399999999999999,\"start\":0.23399999999999999,\"tags\":[[[\"malic_acid\",\"malic_acid\",null]]]},\"id\":\"1005\",\"type\":\"Range1d\"}],\"root_ids\":[\"1002\"]},\"title\":\"Bokeh Application\",\"version\":\"2.4.2\"}};\n",
       "    var render_items = [{\"docid\":\"adcfb0f2-c6aa-4f28-908b-2a6bdc6a4fd0\",\"root_ids\":[\"1002\"],\"roots\":{\"1002\":\"de34bbc2-a31c-4f01-8def-e7434b8613d8\"}}];\n",
       "    root.Bokeh.embed.embed_items_notebook(docs_json, render_items);\n",
       "  }\n",
       "  if (root.Bokeh !== undefined && root.Bokeh.Panel !== undefined) {\n",
       "    embed_document(root);\n",
       "  } else {\n",
       "    var attempts = 0;\n",
       "    var timer = setInterval(function(root) {\n",
       "      if (root.Bokeh !== undefined && root.Bokeh.Panel !== undefined) {\n",
       "        clearInterval(timer);\n",
       "        embed_document(root);\n",
       "      } else if (document.readyState == \"complete\") {\n",
       "        attempts++;\n",
       "        if (attempts > 200) {\n",
       "          clearInterval(timer);\n",
       "          console.log(\"Bokeh: ERROR: Unable to run BokehJS code because BokehJS library is missing\");\n",
       "        }\n",
       "      }\n",
       "    }, 25, root)\n",
       "  }\n",
       "})(window);</script>"
      ],
      "text/plain": [
       ":Scatter   [alcohol]   (malic_acid)"
      ]
     },
     "execution_count": 13,
     "metadata": {
      "application/vnd.holoviews_exec.v0+json": {
       "id": "1002"
      }
     },
     "output_type": "execute_result"
    }
   ],
   "source": [
    "scat1 = wine_df.hvplot(\n",
    "                       x=\"alcohol\",\n",
    "                       y=\"malic_acid\",\n",
    "                       kind=\"scatter\",\n",
    "                       size=70,\n",
    "                       alpha=0.7,\n",
    "                       title=\"Alcohol vs Malic Acid Scatter Chart\")\n",
    "scat1"
   ]
  },
  {
   "cell_type": "markdown",
   "id": "54f109e4-c122-45f2-8b3c-9fb1ada49567",
   "metadata": {},
   "source": [
    "## Contact\n",
    "\n",
    "<!-- Avatar -->\n",
    "<img src=\"../Pictures/profile2.png\" alt=\"me\" width=\"75\" height=\"80\">\n",
    "<!-- Text with color, font, fontsize and specific size -->\n",
    "<p style=\"color:#323232; font-family: Helevetica; font-size: 20px;\">Jesus L. Monroy<br>Economist | Data Scientist</p>\n",
    "<!-- Insert url links in logos -->\n",
    "<!-- Telegram -->\n",
    "<a href=\"https://t.me/j3suslm\" target=\"_blank\" rel=\"noreferrer\"> <img src=\"https://upload.wikimedia.org/wikipedia/commons/thumb/e/ef/Telegram_X_2019_Logo.svg/2048px-Telegram_X_2019_Logo.png?size=16&color=3b3b3b\" alt=\"telegram\" width=\"30\" height=\"22\" style=\"padding-left:8px\"/>\n",
    "<!-- Twitter -->\n",
    "<a href=\"https://www.twitter.com/sqlalchemist\" target=\"_blank\" rel=\"noreferrer\"> <img src=\"https://toppng.com/public/uploads/preview/twitter-x-new-logo-round-icon-png-11692480241tdbz6jparr.webp?size=16&color=3b3b3b\" alt=\"twitter\" width=\"30\" height=\"22\" style=\"padding-left:8px\"/>\n",
    "<!-- Github -->\n",
    "<a href=\"https://github.com/SqlAlchemist/My-portfolio\" target=\"_blank\" rel=\"noreferrer\"> <img src=\"https://icongr.am/devicon/github-original.svg?size=16&color=3b3b3b\" alt=\"github\" width=\"30\" height=\"30\" style=\"padding-left:8px\"/>\n",
    "<!-- Linkedin -->\n",
    "<a href=\"https://www.linkedin.com/in/j3sus-lmonroy\" target=\"_blank\" rel=\"noreferrer\"> <img src=\"https://icongr.am/simple/linkedin.svg?size=16&color=3b3b3b\" alt=\"linkedin\" width=\"30\" height=\"30\" style=\"padding-left:8px\"/>\n",
    "<!-- Medium -->\n",
    "<a href=\"https://medium.com/@jesus_lmonroy\" target=\"_blank\" rel=\"noreferrer\"> <img src=\"https://cdn1.iconfinder.com/data/icons/social-media-and-logos-12/32/Logo_medium-512.png?size=55&color=3b3b3b\" alt=\"medium\" width=\"30\" height=\"33\" style=\"padding-left:8px\"/>"
   ]
  }
 ],
 "metadata": {
  "kernelspec": {
   "display_name": "Python 3 (ipykernel)",
   "language": "python",
   "name": "python3"
  },
  "language_info": {
   "codemirror_mode": {
    "name": "ipython",
    "version": 3
   },
   "file_extension": ".py",
   "mimetype": "text/x-python",
   "name": "python",
   "nbconvert_exporter": "python",
   "pygments_lexer": "ipython3",
   "version": "3.11.5"
  }
 },
 "nbformat": 4,
 "nbformat_minor": 5
}
