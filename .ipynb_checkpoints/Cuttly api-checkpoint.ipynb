{
 "cells": [
  {
   "cell_type": "markdown",
   "id": "f608b5f6-a059-4dc2-80ea-467bfe77a873",
   "metadata": {},
   "source": [
    "<h1 style='margin:5px 5px; color:#620000; font-size:25px; text-align:center'>Python url shortening with cutt.ly API</h1>"
   ]
  },
  {
   "cell_type": "markdown",
   "id": "0b16feef-987e-4d2c-a3df-cac7f50c5cf0",
   "metadata": {},
   "source": [
    "## Environment settings"
   ]
  },
  {
   "cell_type": "code",
   "execution_count": 1,
   "id": "0588be2a-7334-41cf-83c7-fb5bfb803636",
   "metadata": {
    "tags": []
   },
   "outputs": [],
   "source": [
    "import urllib\n",
    "import requests\n",
    "import json"
   ]
  },
  {
   "cell_type": "markdown",
   "id": "add40373-df21-4017-b4e1-d3af098317e0",
   "metadata": {},
   "source": [
    "### Access to API token"
   ]
  },
  {
   "cell_type": "code",
   "execution_count": 2,
   "id": "4747f7da-386d-43ec-8f6d-6ce582c2c59d",
   "metadata": {
    "tags": []
   },
   "outputs": [],
   "source": [
    "# path to credentials folder\n",
    "filename = '../APIS/credentials.json'\n",
    "\n",
    "# read json file\n",
    "with open(filename) as f:\n",
    "    keys = json.load(f)\n",
    "\n",
    "# read credentials\n",
    "cuttly_id = keys['cuttly_api']"
   ]
  },
  {
   "cell_type": "markdown",
   "id": "6a5b0ee9-a145-43b0-b676-5c2a93b08050",
   "metadata": {},
   "source": [
    "## Shortening url with `cutt.ly`"
   ]
  },
  {
   "cell_type": "code",
   "execution_count": 36,
   "id": "4841294c-4c38-4b2c-80dd-7bfee89b1908",
   "metadata": {
    "tags": []
   },
   "outputs": [],
   "source": [
    "key = cuttly_id\n",
    "url = urllib.parse.quote('http://vita.had.co.nz/papers/layered-grammar.pdf')\n",
    "name  = 'grammar-of-graphics'\n",
    "userDomain = '0'\n",
    "r = requests.get('http://cutt.ly/api/api.php?key={}&short={}&name={}&userDomain={}'\".format(key, url, name, userDomain))"
   ]
  },
  {
   "cell_type": "code",
   "execution_count": 64,
   "id": "834b8cce-38f9-4285-8bea-83c84e6c090b",
   "metadata": {},
   "outputs": [],
   "source": [
    "result = r.text\n",
    "#result.find('https:\\/\\/cutt.ly\\/grammar-of-graphics')\n",
    "#result.find('title')\n",
    "short_link = result[118:156]\n",
    "short_link = short_link.replace('\\\\','')"
   ]
  },
  {
   "cell_type": "code",
   "execution_count": 66,
   "id": "db9f9f8b-e2a2-4f46-b591-d2235ead98b8",
   "metadata": {},
   "outputs": [
    {
     "name": "stdout",
     "output_type": "stream",
     "text": [
      "The shortened link is: https://cutt.ly/grammar-of-graphics\n"
     ]
    }
   ],
   "source": [
    "print(f'The shortened link is: {short_link}')"
   ]
  },
  {
   "cell_type": "markdown",
   "id": "04510289-14ff-4410-b119-ced74be9c4ff",
   "metadata": {},
   "source": [
    "## Contact\n",
    "\n",
    "<!-- Avatar -->\n",
    "<img src=\"../Pictures/profile2.png\" alt=\"me\" width=\"75\" height=\"80\">\n",
    "<!-- Text with color, font, fontsize and specific size -->\n",
    "<p style=\"color:#323232; font-family: Helevetica; font-size: 20px;\">Jesus L. Monroy<br>Economist | Data Scientist</p>\n",
    "<!-- Insert url links in logos -->\n",
    "<!-- Telegram -->\n",
    "<a href=\"https://t.me/j3suslm\" target=\"_blank\" rel=\"noreferrer\"> <img src=\"https://upload.wikimedia.org/wikipedia/commons/thumb/e/ef/Telegram_X_2019_Logo.svg/2048px-Telegram_X_2019_Logo.png?size=16&color=3b3b3b\" alt=\"telegram\" width=\"30\" height=\"22\" style=\"padding-left:8px\"/>\n",
    "<!-- Twitter -->\n",
    "<a href=\"https://www.twitter.com/sqlalchemist\" target=\"_blank\" rel=\"noreferrer\"> <img src=\"https://toppng.com/public/uploads/preview/twitter-x-new-logo-round-icon-png-11692480241tdbz6jparr.webp?size=16&color=3b3b3b\" alt=\"twitter\" width=\"30\" height=\"22\" style=\"padding-left:8px\"/>\n",
    "<!-- Github -->\n",
    "<a href=\"https://github.com/SqlAlchemist/My-portfolio\" target=\"_blank\" rel=\"noreferrer\"> <img src=\"https://icongr.am/devicon/github-original.svg?size=16&color=3b3b3b\" alt=\"github\" width=\"30\" height=\"30\" style=\"padding-left:8px\"/>\n",
    "<!-- Linkedin -->\n",
    "<a href=\"https://www.linkedin.com/in/j3sus-lmonroy\" target=\"_blank\" rel=\"noreferrer\"> <img src=\"https://icongr.am/simple/linkedin.svg?size=16&color=3b3b3b\" alt=\"linkedin\" width=\"30\" height=\"30\" style=\"padding-left:8px\"/>\n",
    "<!-- Medium -->\n",
    "<a href=\"https://medium.com/@jesus_lmonroy\" target=\"_blank\" rel=\"noreferrer\"> <img src=\"https://cdn1.iconfinder.com/data/icons/social-media-and-logos-12/32/Logo_medium-512.png?size=55&color=3b3b3b\" alt=\"medium\" width=\"30\" height=\"33\" style=\"padding-left:8px\"/>"
   ]
  }
 ],
 "metadata": {
  "kernelspec": {
   "display_name": "Python 3 (ipykernel)",
   "language": "python",
   "name": "python3"
  },
  "language_info": {
   "codemirror_mode": {
    "name": "ipython",
    "version": 3
   },
   "file_extension": ".py",
   "mimetype": "text/x-python",
   "name": "python",
   "nbconvert_exporter": "python",
   "pygments_lexer": "ipython3",
   "version": "3.11.5"
  }
 },
 "nbformat": 4,
 "nbformat_minor": 5
}
