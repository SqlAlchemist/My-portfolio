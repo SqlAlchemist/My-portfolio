{
 "cells": [
  {
   "cell_type": "markdown",
   "metadata": {
    "cell_id": "3b38508cfeb54ca6bdbd84684b95c631",
    "deepnote_cell_type": "markdown",
    "id": "GrkrFTKV6YtG"
   },
   "source": [
    "# Google Analytics Website Reports\n",
    "[References](https://janakiev.com/blog/python-google-analytics/)"
   ]
  },
  {
   "cell_type": "markdown",
   "metadata": {
    "cell_id": "1ee9d50a3c9d486bb556e52853b80cfb",
    "deepnote_cell_type": "markdown",
    "id": "2IfbUG-F6YtK"
   },
   "source": [
    "## Environment settings"
   ]
  },
  {
   "cell_type": "code",
   "execution_count": 1,
   "metadata": {
    "cell_id": "8e6ced7d64024c7d8421cb1407645a4c",
    "deepnote_cell_type": "code",
    "deepnote_to_be_reexecuted": false,
    "executionInfo": {
     "elapsed": 405,
     "status": "ok",
     "timestamp": 1683743891076,
     "user": {
      "displayName": "Jesus L",
      "userId": "14694795882299199985"
     },
     "user_tz": 360
    },
    "execution_millis": 1606,
    "execution_start": 1683307914601,
    "id": "C_fe9Fmf6YtL",
    "source_hash": "63298fc2",
    "tags": []
   },
   "outputs": [
    {
     "data": {
      "text/plain": [
       "polars.config.Config"
      ]
     },
     "execution_count": 1,
     "metadata": {},
     "output_type": "execute_result"
    }
   ],
   "source": [
    "# import Libraries\n",
    "import numpy as np\n",
    "import pandas as pd\n",
    "import pandas_gbq\n",
    "import gspread\n",
    "import polars as pl\n",
    "import duckdb\n",
    "import altair as alt\n",
    "import json\n",
    "from datawrapper import Datawrapper\n",
    "from google.cloud import bigquery\n",
    "from oauth2client.service_account import ServiceAccountCredentials\n",
    "from google.oauth2 import service_account\n",
    "from googleapiclient.discovery import build\n",
    "import warnings\n",
    "warnings.filterwarnings(\"ignore\")\n",
    "import pytz\n",
    "import datetime\n",
    "# set Mexico City datatime\n",
    "tz = pytz.timezone('America/Mexico_City')\n",
    "update = datetime.datetime.now(tz).strftime('%Y-%m-%d %H:%M')\n",
    "period = f'Last update: {update}'\n",
    "# set polars column str length\n",
    "pl.Config.set_fmt_str_lengths(100)"
   ]
  },
  {
   "cell_type": "code",
   "execution_count": 2,
   "metadata": {
    "tags": []
   },
   "outputs": [],
   "source": [
    "# Token gotten from datawrapper api\n",
    "filename = \"../APIs/credentials.json\"\n",
    "# read json file\n",
    "with open(filename) as f:\n",
    "    keys = json.load(f)\n",
    "# read credentials\n",
    "token = keys[\"datawrapper_api\"]\n",
    "# Acces datawrapper\n",
    "dw = Datawrapper(access_token = token)\n",
    "# Check if the account is correctly initialized\n",
    "#dw.account_info() "
   ]
  },
  {
   "cell_type": "code",
   "execution_count": 3,
   "metadata": {
    "cell_id": "42f97dfeda614154b1adeec7cb11874a",
    "deepnote_cell_type": "code",
    "deepnote_to_be_reexecuted": false,
    "executionInfo": {
     "elapsed": 318,
     "status": "ok",
     "timestamp": 1683743171608,
     "user": {
      "displayName": "Jesus L",
      "userId": "14694795882299199985"
     },
     "user_tz": 360
    },
    "execution_millis": 3,
    "execution_start": 1683307924844,
    "id": "MN0rytyv6YtM",
    "source_hash": "2968acd",
    "tags": []
   },
   "outputs": [],
   "source": [
    "# create function to send data to gsheets\n",
    "def save_to_gsheets(df, sheet_name, worksheet_name, period):\n",
    "    client = gspread.service_account(api)\n",
    "    sheet = client.open(sheet_name)\n",
    "    worksheet = sheet.worksheet(worksheet_name)\n",
    "    \n",
    "    # freeze rows starting from\n",
    "    worksheet.freeze(4)\n",
    "\n",
    "    # clear text from column A4 to J\n",
    "    worksheet.batch_clear(['A4:J'])\n",
    "\n",
    "    # convert column datetime type to string\n",
    "    for column in df.columns[df.dtypes == 'datetime64[ns]']:\n",
    "        df[column] = df[column].astype(str)\n",
    "\n",
    "    # replace NaN values by empty strings\n",
    "    worksheet.update('A4', [df.columns.values.tolist()] + df.fillna('').values.tolist())\n",
    "\n",
    "    # set update date\n",
    "    worksheet.update('J2',period)\n",
    "\n",
    "    print(f'DataFrame uploaded to: {sheet_name}, {worksheet_name}')"
   ]
  },
  {
   "cell_type": "markdown",
   "metadata": {
    "cell_id": "b725849babf243eebfe265d124bcca0d",
    "deepnote_cell_type": "markdown",
    "id": "aGlPC87C6YtN"
   },
   "source": [
    "## Collect data from Google Analytics"
   ]
  },
  {
   "cell_type": "code",
   "execution_count": 4,
   "metadata": {
    "cell_id": "b45e76fb732145c5a75a39770de5dac0",
    "deepnote_cell_type": "code",
    "deepnote_to_be_reexecuted": false,
    "executionInfo": {
     "elapsed": 1952,
     "status": "ok",
     "timestamp": 1683743512191,
     "user": {
      "displayName": "Jesus L",
      "userId": "14694795882299199985"
     },
     "user_tz": 360
    },
    "execution_millis": 44,
    "execution_start": 1683308118075,
    "id": "s3whGuam6YtN",
    "source_hash": "11a2ca40",
    "tags": []
   },
   "outputs": [],
   "source": [
    "# google analytics ids\n",
    "view_id = '219175238'\n",
    "# GA api\n",
    "api = '../APIs/gepp-538-db.json'\n",
    "# google analytics, drive and sheets\n",
    "scopes = ['https://www.googleapis.com/auth/spreadsheets',\n",
    "        'https://www.googleapis.com/auth/drive',\n",
    "        'https://www.googleapis.com/auth/analytics.readonly']\n",
    "# connect to google sheets\n",
    "gs_credentials = ServiceAccountCredentials.from_json_keyfile_name(api, scopes)\n",
    "gc = gspread.authorize(gs_credentials)\n",
    "# connect to big query\n",
    "bq_credentials = service_account.Credentials.from_service_account_file(api)\n",
    "project_id = 'gepp-538'\n",
    "client = bigquery.Client(credentials=bq_credentials,project=project_id)\n",
    "# connect to analytics service\n",
    "service = build('analyticsreporting','v4',credentials=gs_credentials)"
   ]
  },
  {
   "cell_type": "code",
   "execution_count": 5,
   "metadata": {
    "cell_id": "4eac9abad77f46febee53dc6cf4831e2",
    "deepnote_cell_type": "code",
    "deepnote_to_be_reexecuted": false,
    "executionInfo": {
     "elapsed": 6,
     "status": "ok",
     "timestamp": 1683743537999,
     "user": {
      "displayName": "Jesus L",
      "userId": "14694795882299199985"
     },
     "user_tz": 360
    },
    "execution_millis": 1,
    "execution_start": 1683308128464,
    "id": "9KH3Z6fG6YtP",
    "source_hash": "54ad81b4",
    "tags": []
   },
   "outputs": [],
   "source": [
    "# collect data from google analytics\n",
    "def create_df(response):\n",
    "\n",
    "    #create two empty lists that will hold our dimentions and sessions data\n",
    "    row_list = []\n",
    "  \n",
    "    #Extract Data\n",
    "    for report in response.get('reports', []):\n",
    "        column_header = report.get('columnHeader', {})\n",
    "        dimension_headers = column_header.get('dimensions', [])\n",
    "        metric_headers = column_header.get('metricHeader', {}).get('metricHeaderEntries', [])\n",
    "  \n",
    "        for row in report.get('data', {}).get('rows', []):\n",
    "            row_dict = {}\n",
    "            dimensions = row.get('dimensions', [])\n",
    "            date_range_values = row.get('metrics', [])\n",
    "  \n",
    "            for header, dimension in zip(dimension_headers, dimensions):\n",
    "                row_dict[header] = dimension\n",
    "  \n",
    "            for i, values in enumerate(date_range_values):\n",
    "                for metric, value in zip(metric_headers, values.get('values')):\n",
    "                    if ',' in value or '.' in value:\n",
    "                        row_dict[metric.get('name')] = float(value)\n",
    "                    else:\n",
    "                        row_dict[metric.get('name')] = int(value)\n",
    "            row_list.append(row_dict)\n",
    "    return pl.DataFrame(row_list)"
   ]
  },
  {
   "cell_type": "markdown",
   "metadata": {
    "cell_id": "29cc6283a3e044aa91e0906c7c877faf",
    "deepnote_cell_type": "markdown",
    "id": "v2XRvxYU6YtQ"
   },
   "source": [
    "## General figures\n",
    "* Date\n",
    "* Users\n",
    "* New Users\n",
    "* Sessions\n",
    "* Bounce Rate\n",
    "* Pageviews, etc"
   ]
  },
  {
   "cell_type": "markdown",
   "metadata": {},
   "source": [
    "### Google Analytics parameters"
   ]
  },
  {
   "cell_type": "code",
   "execution_count": 6,
   "metadata": {
    "cell_id": "8db0acabeb6a4cbba654812e8994db6a",
    "deepnote_cell_type": "code",
    "deepnote_to_be_reexecuted": false,
    "executionInfo": {
     "elapsed": 315,
     "status": "ok",
     "timestamp": 1683743542296,
     "user": {
      "displayName": "Jesus L",
      "userId": "14694795882299199985"
     },
     "user_tz": 360
    },
    "execution_millis": 0,
    "execution_start": 1683310404278,
    "id": "ctLKnHkZ6YtR",
    "source_hash": "ce0ab4d9",
    "tags": []
   },
   "outputs": [],
   "source": [
    "# add start and end dates\n",
    "inicio = '2022-01-01'\n",
    "fin = 'yesterday'\n",
    "# add query parameters\n",
    "dimension = 'ga:date'\n",
    "metric1 = 'ga:users'\n",
    "metric2 = 'ga:newUsers'\n",
    "metric3 = 'ga:sessions'\n",
    "metric4 = 'ga:bounceRate'\n",
    "metric5 = 'ga:pageviews'\n",
    "metric6 = 'ga:pageviewsPerSession'\n",
    "metric7 = 'ga:avgSessionDuration'\n",
    "metric8 = 'ga:avgPageLoadTime'"
   ]
  },
  {
   "cell_type": "markdown",
   "metadata": {},
   "source": [
    "### Google Analytics query"
   ]
  },
  {
   "cell_type": "code",
   "execution_count": 7,
   "metadata": {
    "cell_id": "6290cd5b960c42cfa469bba90b110507",
    "deepnote_cell_type": "code",
    "deepnote_to_be_reexecuted": false,
    "executionInfo": {
     "elapsed": 624,
     "status": "ok",
     "timestamp": 1683743545780,
     "user": {
      "displayName": "Jesus L",
      "userId": "14694795882299199985"
     },
     "user_tz": 360
    },
    "execution_millis": 159,
    "execution_start": 1683310406035,
    "id": "yb9qqBu06YtS",
    "source_hash": "b70b7cc5",
    "tags": []
   },
   "outputs": [],
   "source": [
    "# execute query\n",
    "response = service.reports().batchGet(\n",
    "body = {\n",
    "        'reportRequests': [\n",
    "            {\n",
    "                'viewId': view_id,\n",
    "                'dateRanges': [{'startDate': inicio, 'endDate': fin}],\n",
    "                            'metrics': [\n",
    "                                        {'expression': metric1},\n",
    "                                        {'expression': metric2},\n",
    "                                        {'expression': metric3},\n",
    "                                        {'expression': metric4},\n",
    "                                        {'expression': metric5},\n",
    "                                        {'expression': metric6},\n",
    "                                        {'expression': metric7},\n",
    "                                        {'expression': metric8},],\n",
    "                'dimensions': [{\"name\": dimension}],\n",
    "            }]\n",
    "    }\n",
    ").execute()\n",
    "\n",
    "metrics1 = create_df(response)"
   ]
  },
  {
   "cell_type": "markdown",
   "metadata": {},
   "source": [
    "### Data transformation with polars"
   ]
  },
  {
   "cell_type": "code",
   "execution_count": 8,
   "metadata": {
    "tags": []
   },
   "outputs": [],
   "source": [
    "# change column names by dropping 'ga:' prefix\n",
    "metrics1.columns = [col.replace('ga:','') for col in metrics1.columns]\n",
    "# convert column types\n",
    "metrics1 = metrics1.with_columns(\n",
    "    [\n",
    "        pl.col('date').str.strptime(pl.Date, format='%Y%m%d', strict=False).cast(pl.Date),\n",
    "        pl.col('users').cast(pl.Int64),\n",
    "        pl.col('newUsers').cast(pl.Int64),\n",
    "        pl.col('sessions').cast(pl.Int64),\n",
    "        pl.col('bounceRate').cast(pl.Float64),\n",
    "        pl.col('pageviews').cast(pl.Int64),\n",
    "        pl.col('pageviewsPerSession').cast(pl.Float64),\n",
    "        pl.col('avgSessionDuration').cast(pl.Float64),\n",
    "        pl.col('avgPageLoadTime').cast(pl.Float64),\n",
    "    ]\n",
    ")"
   ]
  },
  {
   "cell_type": "code",
   "execution_count": 9,
   "metadata": {
    "tags": []
   },
   "outputs": [
    {
     "data": {
      "text/html": [
       "<div><style>\n",
       ".dataframe > thead > tr > th,\n",
       ".dataframe > tbody > tr > td {\n",
       "  text-align: right;\n",
       "}\n",
       "</style>\n",
       "<small>shape: (5, 9)</small><table border=\"1\" class=\"dataframe\"><thead><tr><th>date</th><th>users</th><th>newUsers</th><th>sessions</th><th>bounceRate</th><th>pageviews</th><th>pageviewsPerSession</th><th>avgSessionDuration</th><th>avgPageLoadTime</th></tr><tr><td>date</td><td>i64</td><td>i64</td><td>i64</td><td>f64</td><td>i64</td><td>f64</td><td>f64</td><td>f64</td></tr></thead><tbody><tr><td>2022-01-01</td><td>1265</td><td>53</td><td>1382</td><td>33.212735</td><td>7013</td><td>5.07453</td><td>122.863242</td><td>2.466</td></tr><tr><td>2022-01-02</td><td>1482</td><td>66</td><td>1627</td><td>28.149969</td><td>9928</td><td>6.102028</td><td>141.514444</td><td>2.728795</td></tr><tr><td>2022-01-03</td><td>3261</td><td>254</td><td>3878</td><td>17.741104</td><td>29660</td><td>7.648272</td><td>217.521661</td><td>2.649454</td></tr><tr><td>2022-01-04</td><td>3342</td><td>226</td><td>3949</td><td>19.16941</td><td>27197</td><td>6.88706</td><td>193.655356</td><td>2.95732</td></tr><tr><td>2022-01-05</td><td>3245</td><td>261</td><td>3844</td><td>18.132154</td><td>26633</td><td>6.92846</td><td>216.087669</td><td>2.284005</td></tr></tbody></table></div>"
      ],
      "text/plain": [
       "shape: (5, 9)\n",
       "┌────────────┬───────┬──────────┬──────────┬───┬───────────┬────────────┬────────────┬────────────┐\n",
       "│ date       ┆ users ┆ newUsers ┆ sessions ┆ … ┆ pageviews ┆ pageviewsP ┆ avgSession ┆ avgPageLoa │\n",
       "│ ---        ┆ ---   ┆ ---      ┆ ---      ┆   ┆ ---       ┆ erSession  ┆ Duration   ┆ dTime      │\n",
       "│ date       ┆ i64   ┆ i64      ┆ i64      ┆   ┆ i64       ┆ ---        ┆ ---        ┆ ---        │\n",
       "│            ┆       ┆          ┆          ┆   ┆           ┆ f64        ┆ f64        ┆ f64        │\n",
       "╞════════════╪═══════╪══════════╪══════════╪═══╪═══════════╪════════════╪════════════╪════════════╡\n",
       "│ 2022-01-01 ┆ 1265  ┆ 53       ┆ 1382     ┆ … ┆ 7013      ┆ 5.07453    ┆ 122.863242 ┆ 2.466      │\n",
       "│ 2022-01-02 ┆ 1482  ┆ 66       ┆ 1627     ┆ … ┆ 9928      ┆ 6.102028   ┆ 141.514444 ┆ 2.728795   │\n",
       "│ 2022-01-03 ┆ 3261  ┆ 254      ┆ 3878     ┆ … ┆ 29660     ┆ 7.648272   ┆ 217.521661 ┆ 2.649454   │\n",
       "│ 2022-01-04 ┆ 3342  ┆ 226      ┆ 3949     ┆ … ┆ 27197     ┆ 6.88706    ┆ 193.655356 ┆ 2.95732    │\n",
       "│ 2022-01-05 ┆ 3245  ┆ 261      ┆ 3844     ┆ … ┆ 26633     ┆ 6.92846    ┆ 216.087669 ┆ 2.284005   │\n",
       "└────────────┴───────┴──────────┴──────────┴───┴───────────┴────────────┴────────────┴────────────┘"
      ]
     },
     "execution_count": 9,
     "metadata": {},
     "output_type": "execute_result"
    }
   ],
   "source": [
    "metrics1.head()"
   ]
  },
  {
   "cell_type": "markdown",
   "metadata": {},
   "source": [
    "### Data SQL query with DuckDB"
   ]
  },
  {
   "cell_type": "code",
   "execution_count": 10,
   "metadata": {
    "tags": []
   },
   "outputs": [
    {
     "data": {
      "text/html": [
       "<div><style>\n",
       ".dataframe > thead > tr > th,\n",
       ".dataframe > tbody > tr > td {\n",
       "  text-align: right;\n",
       "}\n",
       "</style>\n",
       "<small>shape: (19, 10)</small><table border=\"1\" class=\"dataframe\"><thead><tr><th>Year</th><th>Month</th><th>Users</th><th>New users</th><th>Sessions</th><th>Bounce rate</th><th>Pageviews</th><th>Pageviews per session</th><th>Avg session duration (mins)</th><th>Avg page load (mins)</th></tr><tr><td>i64</td><td>i64</td><td>f64</td><td>f64</td><td>f64</td><td>f64</td><td>f64</td><td>f64</td><td>f64</td><td>f64</td></tr></thead><tbody><tr><td>2022</td><td>1</td><td>90324.0</td><td>7543.0</td><td>106250.0</td><td>21.507553</td><td>697512.0</td><td>6.391275</td><td>192.994366</td><td>3.090498</td></tr><tr><td>2022</td><td>2</td><td>113932.0</td><td>10062.0</td><td>136482.0</td><td>19.485489</td><td>936521.0</td><td>6.740715</td><td>210.71825</td><td>2.53074</td></tr><tr><td>2022</td><td>3</td><td>155208.0</td><td>12378.0</td><td>188577.0</td><td>19.111657</td><td>1.303699e6</td><td>6.768296</td><td>216.795018</td><td>2.459314</td></tr><tr><td>2022</td><td>4</td><td>152008.0</td><td>9307.0</td><td>184806.0</td><td>19.479063</td><td>1.227636e6</td><td>6.481416</td><td>213.753228</td><td>2.308335</td></tr><tr><td>2022</td><td>5</td><td>160358.0</td><td>10214.0</td><td>194245.0</td><td>17.950407</td><td>1.391101e6</td><td>7.003548</td><td>223.612496</td><td>2.390385</td></tr><tr><td>2022</td><td>6</td><td>194637.0</td><td>13845.0</td><td>238861.0</td><td>16.495787</td><td>1.783551e6</td><td>7.29177</td><td>229.162277</td><td>2.462701</td></tr><tr><td>2022</td><td>7</td><td>194945.0</td><td>12890.0</td><td>239903.0</td><td>5.4698</td><td>1.705437e6</td><td>6.924726</td><td>222.942912</td><td>2.561448</td></tr><tr><td>2022</td><td>8</td><td>182811.0</td><td>11689.0</td><td>220242.0</td><td>4.485293</td><td>1.532759e6</td><td>6.825749</td><td>214.403027</td><td>2.874907</td></tr><tr><td>2022</td><td>9</td><td>182468.0</td><td>11534.0</td><td>218254.0</td><td>8.11832</td><td>1.381836e6</td><td>6.200656</td><td>201.541811</td><td>2.917417</td></tr><tr><td>2022</td><td>10</td><td>186433.0</td><td>12629.0</td><td>222226.0</td><td>10.175147</td><td>1.386061e6</td><td>6.059682</td><td>198.799056</td><td>2.784551</td></tr><tr><td>2022</td><td>11</td><td>224566.0</td><td>16640.0</td><td>276628.0</td><td>8.953876</td><td>1.701764e6</td><td>6.097546</td><td>224.579405</td><td>2.960702</td></tr><tr><td>2022</td><td>12</td><td>175789.0</td><td>9835.0</td><td>205670.0</td><td>10.22423</td><td>1.197183e6</td><td>5.665954</td><td>181.140429</td><td>2.778099</td></tr><tr><td>2023</td><td>1</td><td>149636.0</td><td>7366.0</td><td>172684.0</td><td>11.947281</td><td>969570.0</td><td>5.500489</td><td>166.655488</td><td>2.886362</td></tr><tr><td>2023</td><td>2</td><td>139707.0</td><td>8880.0</td><td>162798.0</td><td>10.923807</td><td>951487.0</td><td>5.693977</td><td>174.386972</td><td>2.513717</td></tr><tr><td>2023</td><td>3</td><td>177543.0</td><td>14345.0</td><td>208692.0</td><td>6.481566</td><td>1.307129e6</td><td>6.115986</td><td>209.996437</td><td>2.540645</td></tr><tr><td>2023</td><td>4</td><td>178102.0</td><td>12232.0</td><td>210863.0</td><td>4.410404</td><td>1.434302e6</td><td>6.647017</td><td>201.514225</td><td>2.82928</td></tr><tr><td>2023</td><td>5</td><td>219972.0</td><td>15653.0</td><td>261009.0</td><td>4.371691</td><td>1.777512e6</td><td>6.673752</td><td>208.088923</td><td>2.700528</td></tr><tr><td>2023</td><td>6</td><td>249495.0</td><td>19984.0</td><td>305148.0</td><td>6.811711</td><td>2.029877e6</td><td>6.533047</td><td>219.950539</td><td>2.842723</td></tr><tr><td>2023</td><td>7</td><td>230325.0</td><td>27149.0</td><td>273711.0</td><td>8.649171</td><td>1.822269e6</td><td>6.50249</td><td>207.142415</td><td>3.812753</td></tr></tbody></table></div>"
      ],
      "text/plain": [
       "shape: (19, 10)\n",
       "┌──────┬───────┬──────────┬───────────┬───┬────────────┬────────────┬───────────────┬──────────────┐\n",
       "│ Year ┆ Month ┆ Users    ┆ New users ┆ … ┆ Pageviews  ┆ Pageviews  ┆ Avg session   ┆ Avg page     │\n",
       "│ ---  ┆ ---   ┆ ---      ┆ ---       ┆   ┆ ---        ┆ per        ┆ duration      ┆ load (mins)  │\n",
       "│ i64  ┆ i64   ┆ f64      ┆ f64       ┆   ┆ f64        ┆ session    ┆ (mins)        ┆ ---          │\n",
       "│      ┆       ┆          ┆           ┆   ┆            ┆ ---        ┆ ---           ┆ f64          │\n",
       "│      ┆       ┆          ┆           ┆   ┆            ┆ f64        ┆ f64           ┆              │\n",
       "╞══════╪═══════╪══════════╪═══════════╪═══╪════════════╪════════════╪═══════════════╪══════════════╡\n",
       "│ 2022 ┆ 1     ┆ 90324.0  ┆ 7543.0    ┆ … ┆ 697512.0   ┆ 6.391275   ┆ 192.994366    ┆ 3.090498     │\n",
       "│ 2022 ┆ 2     ┆ 113932.0 ┆ 10062.0   ┆ … ┆ 936521.0   ┆ 6.740715   ┆ 210.71825     ┆ 2.53074      │\n",
       "│ 2022 ┆ 3     ┆ 155208.0 ┆ 12378.0   ┆ … ┆ 1.303699e6 ┆ 6.768296   ┆ 216.795018    ┆ 2.459314     │\n",
       "│ 2022 ┆ 4     ┆ 152008.0 ┆ 9307.0    ┆ … ┆ 1.227636e6 ┆ 6.481416   ┆ 213.753228    ┆ 2.308335     │\n",
       "│ …    ┆ …     ┆ …        ┆ …         ┆ … ┆ …          ┆ …          ┆ …             ┆ …            │\n",
       "│ 2023 ┆ 4     ┆ 178102.0 ┆ 12232.0   ┆ … ┆ 1.434302e6 ┆ 6.647017   ┆ 201.514225    ┆ 2.82928      │\n",
       "│ 2023 ┆ 5     ┆ 219972.0 ┆ 15653.0   ┆ … ┆ 1.777512e6 ┆ 6.673752   ┆ 208.088923    ┆ 2.700528     │\n",
       "│ 2023 ┆ 6     ┆ 249495.0 ┆ 19984.0   ┆ … ┆ 2.029877e6 ┆ 6.533047   ┆ 219.950539    ┆ 2.842723     │\n",
       "│ 2023 ┆ 7     ┆ 230325.0 ┆ 27149.0   ┆ … ┆ 1.822269e6 ┆ 6.50249    ┆ 207.142415    ┆ 3.812753     │\n",
       "└──────┴───────┴──────────┴───────────┴───┴────────────┴────────────┴───────────────┴──────────────┘"
      ]
     },
     "execution_count": 10,
     "metadata": {},
     "output_type": "execute_result"
    }
   ],
   "source": [
    "# create sql query\n",
    "report1 = duckdb.sql(\n",
    "'''\n",
    "SELECT DATE_PART('year', date) AS Year\n",
    "    , DATE_PART('month', date) AS Month\n",
    "    , SUM(users) AS Users\n",
    "    , SUM(newUsers) AS 'New users'\n",
    "    , SUM(sessions) AS Sessions\n",
    "    , AVG(bounceRate) AS 'Bounce rate'\n",
    "    , SUM(pageViews) AS 'Pageviews'\n",
    "    , AVG(pageviewsPerSession) AS 'Pageviews per session'\n",
    "    , AVG(avgSessionDuration) AS 'Avg session duration (mins)'\n",
    "    , AVG(avgPageLoadTime) AS 'Avg page load (mins)'\n",
    "FROM metrics1\n",
    "WHERE year >= 2022\n",
    "GROUP BY Year, Month\n",
    "ORDER BY Year, Month\n",
    "'''\n",
    ").pl()\n",
    "report1"
   ]
  },
  {
   "cell_type": "markdown",
   "metadata": {},
   "source": [
    "### Send data to Google Sheets Report"
   ]
  },
  {
   "cell_type": "code",
   "execution_count": 15,
   "metadata": {
    "tags": []
   },
   "outputs": [
    {
     "name": "stdout",
     "output_type": "stream",
     "text": [
      "DataFrame uploaded to: GA Monthly Report, figures\n"
     ]
    }
   ],
   "source": [
    "# convert to pandas dataframe from polars\n",
    "report1 = report1.to_pandas()\n",
    "# send pandas dataframe to google sheets\n",
    "save_to_gsheets(report1, 'GA Monthly Report', 'figures', period)"
   ]
  },
  {
   "cell_type": "markdown",
   "metadata": {},
   "source": [
    "### Google Sheets Report visualization"
   ]
  },
  {
   "cell_type": "code",
   "execution_count": 16,
   "metadata": {
    "tags": []
   },
   "outputs": [
    {
     "data": {
      "text/html": [
       "<iframe src=\"https://docs.google.com/spreadsheets/d/1u0YESJSPl3jSDp46-54ug1FaMrGu7Xwosk7CrACaWyA/edit?usp=sharing\" width=\"880\" height=\"880\"></iframe>\n"
      ],
      "text/plain": [
       "<IPython.core.display.HTML object>"
      ]
     },
     "metadata": {},
     "output_type": "display_data"
    }
   ],
   "source": [
    "%%html\n",
    "<iframe src=\"https://docs.google.com/spreadsheets/d/1u0YESJSPl3jSDp46-54ug1FaMrGu7Xwosk7CrACaWyA/edit?usp=sharing\" width=\"880\" height=\"880\"></iframe>"
   ]
  },
  {
   "cell_type": "markdown",
   "metadata": {},
   "source": [
    "### Report Visualization with Datawrapper"
   ]
  },
  {
   "cell_type": "code",
   "execution_count": 17,
   "metadata": {
    "tags": []
   },
   "outputs": [
    {
     "name": "stdout",
     "output_type": "stream",
     "text": [
      "Done!\n"
     ]
    }
   ],
   "source": [
    "# Create chart in Datawrapper\n",
    "report_ga = dw.create_chart(\n",
    "    title = \"Monthly Report from Google Analytics, 2022-2023\",\n",
    "    chart_type = 'tables',\n",
    "    data = report1\n",
    "    )\n",
    "# Publish in Datawrapper\n",
    "dw.publish_chart(report_ga['id'], display=False)\n",
    "# Get iframe code to embed e.g. in Notion\n",
    "dw.get_iframe_code(report_ga['id'])\n",
    "print('Done!')"
   ]
  },
  {
   "cell_type": "code",
   "execution_count": 19,
   "metadata": {
    "tags": []
   },
   "outputs": [
    {
     "data": {
      "text/plain": [
       "'<iframe title=\"Monthly Report from Google Analytics, 2022-2023\" aria-label=\"Table\" id=\"datawrapper-chart-qxpAY\" src=\"https://datawrapper.dwcdn.net/qxpAY/1/\" scrolling=\"no\" frameborder=\"0\" style=\"border: none;\" width=\"600\" height=\"400\" data-external=\"1\"></iframe>'"
      ]
     },
     "execution_count": 19,
     "metadata": {},
     "output_type": "execute_result"
    }
   ],
   "source": [
    "dw.get_iframe_code(report_ga['id'])"
   ]
  },
  {
   "cell_type": "code",
   "execution_count": 22,
   "metadata": {
    "tags": []
   },
   "outputs": [
    {
     "data": {
      "text/html": [
       "<iframe src=\"https://datawrapper.dwcdn.net/qxpAY/1/\" width=\"880\" height=\"550\"></iframe>\n"
      ],
      "text/plain": [
       "<IPython.core.display.HTML object>"
      ]
     },
     "metadata": {},
     "output_type": "display_data"
    }
   ],
   "source": [
    "%%html\n",
    "<iframe src=\"https://datawrapper.dwcdn.net/qxpAY/1/\" width=\"880\" height=\"550\"></iframe>"
   ]
  },
  {
   "cell_type": "markdown",
   "metadata": {
    "cell_id": "26b93b22cafa4c8893e654bfd263d936",
    "deepnote_cell_type": "code",
    "deepnote_to_be_reexecuted": false,
    "execution_millis": 1,
    "execution_start": 1683314050996,
    "id": "invPZUy26YtV",
    "source_hash": "b623e53d"
   },
   "source": [
    "## Quantities and Revenue"
   ]
  },
  {
   "cell_type": "code",
   "execution_count": 13,
   "metadata": {
    "cell_id": "50250dfd5a9e4367bb11c9501e3a8227",
    "deepnote_cell_type": "code",
    "deepnote_to_be_reexecuted": false,
    "execution_millis": 482,
    "execution_start": 1683312123676,
    "id": "QT9ealLq6YtV",
    "source_hash": "da81f3d9",
    "tags": []
   },
   "outputs": [],
   "source": [
    "# execute query\n",
    "response = service.reports().batchGet(\n",
    "body={\n",
    "        'reportRequests': [\n",
    "            {\n",
    "                'viewId': view_id,\n",
    "                'dateRanges': [{'startDate': inicio, 'endDate': fin}],\n",
    "                            'metrics': [\n",
    "                                        {'expression': 'ga:productRevenuePerPurchase'},\n",
    "                                        {'expression':'ga:uniquePurchases'},\n",
    "                                        {'expression':'ga:itemQuantity'},\n",
    "                                        {'expression':'ga:revenuePerItem'},\n",
    "                                        {'expression':'ga:itemsPerPurchase'},\n",
    "                                        {'expression':'ga:itemRevenue'},\n",
    "                                        ],\n",
    "                'dimensions': [{\"name\": 'ga:productSku'}],\n",
    "            }]\n",
    "    }\n",
    ").execute()\n",
    "\n",
    "products = create_df(response)"
   ]
  },
  {
   "cell_type": "code",
   "execution_count": 14,
   "metadata": {
    "cell_id": "b8471c2e29264861abdfd85eddfc9c32",
    "deepnote_cell_type": "code",
    "deepnote_table_loading": false,
    "deepnote_table_state": {
     "filters": [],
     "pageIndex": 0,
     "pageSize": 10,
     "sortBy": [
      {
       "id": "ga:uniquePurchases",
       "type": "desc"
      }
     ]
    },
    "deepnote_to_be_reexecuted": false,
    "execution_millis": 35,
    "execution_start": 1683312128386,
    "id": "mcMsW-nV6YtV",
    "outputId": "66056553-16f3-435f-d425-61a5cac2a935",
    "source_hash": "9c1a1603",
    "tags": []
   },
   "outputs": [
    {
     "data": {
      "text/html": [
       "<div><style>\n",
       ".dataframe > thead > tr > th,\n",
       ".dataframe > tbody > tr > td {\n",
       "  text-align: right;\n",
       "}\n",
       "</style>\n",
       "<small>shape: (5, 7)</small><table border=\"1\" class=\"dataframe\"><thead><tr><th>productSku</th><th>productRevenuePerPurchase</th><th>uniquePurchases</th><th>itemQuantity</th><th>revenuePerItem</th><th>itemsPerPurchase</th><th>itemRevenue</th></tr><tr><td>str</td><td>f64</td><td>i64</td><td>i64</td><td>f64</td><td>f64</td><td>f64</td></tr></thead><tbody><tr><td>&quot;3292&quot;</td><td>1021.944318</td><td>88</td><td>90</td><td>999.234444</td><td>1.022727</td><td>89931.1</td></tr><tr><td>&quot;6796&quot;</td><td>649.466667</td><td>15</td><td>34</td><td>286.529412</td><td>2.266667</td><td>9742.0</td></tr><tr><td>&quot;3187&quot;</td><td>442.9</td><td>10</td><td>10</td><td>442.9</td><td>1.0</td><td>4429.0</td></tr><tr><td>&quot;8036&quot;</td><td>398.05042</td><td>119</td><td>157</td><td>301.707006</td><td>1.319328</td><td>47368.0</td></tr><tr><td>&quot;2655&quot;</td><td>395.335565</td><td>336</td><td>345</td><td>385.022464</td><td>1.026786</td><td>132832.75</td></tr></tbody></table></div>"
      ],
      "text/plain": [
       "shape: (5, 7)\n",
       "┌────────────┬────────────┬────────────┬───────────────┬──────────────┬──────────────┬─────────────┐\n",
       "│ productSku ┆ productRev ┆ uniquePurc ┆ itemQuantity  ┆ revenuePerIt ┆ itemsPerPurc ┆ itemRevenue │\n",
       "│ ---        ┆ enuePerPur ┆ hases      ┆ ---           ┆ em           ┆ hase         ┆ ---         │\n",
       "│ str        ┆ chase      ┆ ---        ┆ i64           ┆ ---          ┆ ---          ┆ f64         │\n",
       "│            ┆ ---        ┆ i64        ┆               ┆ f64          ┆ f64          ┆             │\n",
       "│            ┆ f64        ┆            ┆               ┆              ┆              ┆             │\n",
       "╞════════════╪════════════╪════════════╪═══════════════╪══════════════╪══════════════╪═════════════╡\n",
       "│ 3292       ┆ 1021.94431 ┆ 88         ┆ 90            ┆ 999.234444   ┆ 1.022727     ┆ 89931.1     │\n",
       "│            ┆ 8          ┆            ┆               ┆              ┆              ┆             │\n",
       "│ 6796       ┆ 649.466667 ┆ 15         ┆ 34            ┆ 286.529412   ┆ 2.266667     ┆ 9742.0      │\n",
       "│ 3187       ┆ 442.9      ┆ 10         ┆ 10            ┆ 442.9        ┆ 1.0          ┆ 4429.0      │\n",
       "│ 8036       ┆ 398.05042  ┆ 119        ┆ 157           ┆ 301.707006   ┆ 1.319328     ┆ 47368.0     │\n",
       "│ 2655       ┆ 395.335565 ┆ 336        ┆ 345           ┆ 385.022464   ┆ 1.026786     ┆ 132832.75   │\n",
       "└────────────┴────────────┴────────────┴───────────────┴──────────────┴──────────────┴─────────────┘"
      ]
     },
     "execution_count": 14,
     "metadata": {},
     "output_type": "execute_result"
    }
   ],
   "source": [
    "# drop ga: prefix from column names\n",
    "products.columns = [col.replace('ga:','') for col in products.columns]\n",
    "# display top 5 products by highest revenue\n",
    "products.sort('productRevenuePerPurchase', descending=True).head(5)"
   ]
  },
  {
   "cell_type": "code",
   "execution_count": 16,
   "metadata": {
    "tags": []
   },
   "outputs": [
    {
     "data": {
      "text/html": [
       "\n",
       "<div id=\"altair-viz-912f84c48ff6455ca0649c620e01bbd5\"></div>\n",
       "<script type=\"text/javascript\">\n",
       "  var VEGA_DEBUG = (typeof VEGA_DEBUG == \"undefined\") ? {} : VEGA_DEBUG;\n",
       "  (function(spec, embedOpt){\n",
       "    let outputDiv = document.currentScript.previousElementSibling;\n",
       "    if (outputDiv.id !== \"altair-viz-912f84c48ff6455ca0649c620e01bbd5\") {\n",
       "      outputDiv = document.getElementById(\"altair-viz-912f84c48ff6455ca0649c620e01bbd5\");\n",
       "    }\n",
       "    const paths = {\n",
       "      \"vega\": \"https://cdn.jsdelivr.net/npm//vega@5?noext\",\n",
       "      \"vega-lib\": \"https://cdn.jsdelivr.net/npm//vega-lib?noext\",\n",
       "      \"vega-lite\": \"https://cdn.jsdelivr.net/npm//vega-lite@4.17.0?noext\",\n",
       "      \"vega-embed\": \"https://cdn.jsdelivr.net/npm//vega-embed@6?noext\",\n",
       "    };\n",
       "\n",
       "    function maybeLoadScript(lib, version) {\n",
       "      var key = `${lib.replace(\"-\", \"\")}_version`;\n",
       "      return (VEGA_DEBUG[key] == version) ?\n",
       "        Promise.resolve(paths[lib]) :\n",
       "        new Promise(function(resolve, reject) {\n",
       "          var s = document.createElement('script');\n",
       "          document.getElementsByTagName(\"head\")[0].appendChild(s);\n",
       "          s.async = true;\n",
       "          s.onload = () => {\n",
       "            VEGA_DEBUG[key] = version;\n",
       "            return resolve(paths[lib]);\n",
       "          };\n",
       "          s.onerror = () => reject(`Error loading script: ${paths[lib]}`);\n",
       "          s.src = paths[lib];\n",
       "        });\n",
       "    }\n",
       "\n",
       "    function showError(err) {\n",
       "      outputDiv.innerHTML = `<div class=\"error\" style=\"color:red;\">${err}</div>`;\n",
       "      throw err;\n",
       "    }\n",
       "\n",
       "    function displayChart(vegaEmbed) {\n",
       "      vegaEmbed(outputDiv, spec, embedOpt)\n",
       "        .catch(err => showError(`Javascript Error: ${err.message}<br>This usually means there's a typo in your chart specification. See the javascript console for the full traceback.`));\n",
       "    }\n",
       "\n",
       "    if(typeof define === \"function\" && define.amd) {\n",
       "      requirejs.config({paths});\n",
       "      require([\"vega-embed\"], displayChart, err => showError(`Error loading script: ${err.message}`));\n",
       "    } else {\n",
       "      maybeLoadScript(\"vega\", \"5\")\n",
       "        .then(() => maybeLoadScript(\"vega-lite\", \"4.17.0\"))\n",
       "        .then(() => maybeLoadScript(\"vega-embed\", \"6\"))\n",
       "        .catch(showError)\n",
       "        .then(() => displayChart(vegaEmbed));\n",
       "    }\n",
       "  })({\"config\": {\"view\": {\"continuousWidth\": 400, \"continuousHeight\": 300}, \"title\": {\"fontSize\": 24}}, \"data\": {\"name\": \"data-ae661aa04f9abfa92f292adf263f38e4\"}, \"mark\": \"bar\", \"encoding\": {\"color\": {\"value\": \"#967117\"}, \"tooltip\": [{\"field\": \"productSku\", \"format\": \",.2f\", \"type\": \"nominal\"}, {\"field\": \"productRevenuePerPurchase\", \"format\": \",.2f\", \"type\": \"quantitative\"}], \"x\": {\"field\": \"productRevenuePerPurchase\", \"type\": \"quantitative\"}, \"y\": {\"field\": \"productSku\", \"sort\": \"-x\", \"type\": \"nominal\"}}, \"height\": 350, \"title\": \"Top 10 most profitable products in website\", \"width\": 700, \"$schema\": \"https://vega.github.io/schema/vega-lite/v4.17.0.json\", \"datasets\": {\"data-ae661aa04f9abfa92f292adf263f38e4\": [{\"productSku\": \"3292\", \"productRevenuePerPurchase\": 1021.9443181818182, \"uniquePurchases\": 88, \"itemQuantity\": 90, \"revenuePerItem\": 999.2344444444444, \"itemsPerPurchase\": 1.0227272727272727, \"itemRevenue\": 89931.1}, {\"productSku\": \"6796\", \"productRevenuePerPurchase\": 649.4666666666666, \"uniquePurchases\": 15, \"itemQuantity\": 34, \"revenuePerItem\": 286.5294117647059, \"itemsPerPurchase\": 2.2666666666666666, \"itemRevenue\": 9742.0}, {\"productSku\": \"3187\", \"productRevenuePerPurchase\": 442.9, \"uniquePurchases\": 10, \"itemQuantity\": 10, \"revenuePerItem\": 442.9, \"itemsPerPurchase\": 1.0, \"itemRevenue\": 4429.0}, {\"productSku\": \"8036\", \"productRevenuePerPurchase\": 398.0504201680672, \"uniquePurchases\": 119, \"itemQuantity\": 157, \"revenuePerItem\": 301.7070063694267, \"itemsPerPurchase\": 1.319327731092437, \"itemRevenue\": 47368.0}, {\"productSku\": \"2655\", \"productRevenuePerPurchase\": 395.3355654761904, \"uniquePurchases\": 336, \"itemQuantity\": 345, \"revenuePerItem\": 385.0224637681159, \"itemsPerPurchase\": 1.0267857142857142, \"itemRevenue\": 132832.75}, {\"productSku\": \"432\", \"productRevenuePerPurchase\": 391.8763157894737, \"uniquePurchases\": 380, \"itemQuantity\": 496, \"revenuePerItem\": 300.2278225806451, \"itemsPerPurchase\": 1.305263157894737, \"itemRevenue\": 148913.0}, {\"productSku\": \"8020\", \"productRevenuePerPurchase\": 389.65562913907286, \"uniquePurchases\": 302, \"itemQuantity\": 428, \"revenuePerItem\": 274.94392523364485, \"itemsPerPurchase\": 1.4172185430463575, \"itemRevenue\": 117676.0}, {\"productSku\": \"6232\", \"productRevenuePerPurchase\": 384.31024096385545, \"uniquePurchases\": 332, \"itemQuantity\": 424, \"revenuePerItem\": 300.92216981132077, \"itemsPerPurchase\": 1.2771084337349397, \"itemRevenue\": 127591.0}, {\"productSku\": \"1632\", \"productRevenuePerPurchase\": 381.4764397905759, \"uniquePurchases\": 382, \"itemQuantity\": 502, \"revenuePerItem\": 290.28685258964146, \"itemsPerPurchase\": 1.3141361256544504, \"itemRevenue\": 145724.0}, {\"productSku\": \"162\", \"productRevenuePerPurchase\": 376.42765580290273, \"uniquePurchases\": 96805, \"itemQuantity\": 166330, \"revenuePerItem\": 219.08302302651356, \"itemsPerPurchase\": 1.7181963741542277, \"itemRevenue\": 36440079.22}]}}, {\"mode\": \"vega-lite\"});\n",
       "</script>"
      ],
      "text/plain": [
       "alt.Chart(...)"
      ]
     },
     "execution_count": 16,
     "metadata": {},
     "output_type": "execute_result"
    }
   ],
   "source": [
    "products = products.sort('productRevenuePerPurchase', descending=True).head(10).to_pandas()\n",
    "alt.Chart(\n",
    "    products, \n",
    "    width=700, \n",
    "    height=350, \n",
    "    title='Top 10 most profitable products in website',\n",
    ").mark_bar().encode(\n",
    "    x = alt.X('productRevenuePerPurchase:Q'),\n",
    "    y = alt.Y('productSku:N', sort='-x'),\n",
    "    color = alt.value('#967117'),\n",
    "    tooltip = alt.Tooltip(['productSku', 'productRevenuePerPurchase',], format=',.2f')\n",
    ").configure_title(fontSize=24)"
   ]
  },
  {
   "cell_type": "markdown",
   "metadata": {
    "cell_id": "05e39884da2748f68d789e0f1164db43",
    "deepnote_cell_type": "markdown",
    "id": "tcXPh86Z6YtW"
   },
   "source": [
    "## Transactions and revenue"
   ]
  },
  {
   "cell_type": "code",
   "execution_count": 17,
   "metadata": {
    "cell_id": "b2e160f52ab0495ab699fe4bd255065b",
    "deepnote_cell_type": "code",
    "deepnote_to_be_reexecuted": false,
    "execution_millis": 173,
    "execution_start": 1683314723531,
    "id": "2HV2dOEC6YtX",
    "source_hash": "636e43ad",
    "tags": []
   },
   "outputs": [],
   "source": [
    "response = service.reports().batchGet(body={\n",
    "    'reportRequests': [{\n",
    "        'viewId': view_id,\n",
    "        'dateRanges': [{'startDate': inicio, 'endDate': fin}],\n",
    "        'metrics': [\n",
    "            {\"expression\": \"ga:transactions\"},\n",
    "            #{\"expression\": \",ga:transactionsPerSession\"}, #ecommerce conversion rate\n",
    "            {\"expression\": \"ga:transactionRevenue\"},\n",
    "            {\"expression\": \"ga:revenuePerTransaction\"}, # avg order value\n",
    "            {\"expression\": \"ga:itemQuantity\"},\n",
    "        ], \"dimensions\": [\n",
    "            {'name':'ga:date'},\n",
    "        ]\n",
    "    }\n",
    "    ]\n",
    "}).execute()\n",
    "\n",
    "trans = create_df(response)"
   ]
  },
  {
   "cell_type": "code",
   "execution_count": 18,
   "metadata": {
    "tags": []
   },
   "outputs": [
    {
     "data": {
      "text/html": [
       "<div><style>\n",
       ".dataframe > thead > tr > th,\n",
       ".dataframe > tbody > tr > td {\n",
       "  text-align: right;\n",
       "}\n",
       "</style>\n",
       "<small>shape: (5, 5)</small><table border=\"1\" class=\"dataframe\"><thead><tr><th>ga:date</th><th>ga:transactions</th><th>ga:transactionRevenue</th><th>ga:revenuePerTransaction</th><th>ga:itemQuantity</th></tr><tr><td>str</td><td>i64</td><td>f64</td><td>f64</td><td>i64</td></tr></thead><tbody><tr><td>&quot;20230325&quot;</td><td>1135</td><td>732437.61</td><td>645.31948</td><td>7093</td></tr><tr><td>&quot;20230204&quot;</td><td>643</td><td>404482.83</td><td>629.055723</td><td>3503</td></tr><tr><td>&quot;20221001&quot;</td><td>837</td><td>609012.75</td><td>727.613799</td><td>5095</td></tr><tr><td>&quot;20220209&quot;</td><td>641</td><td>226036.87</td><td>352.631622</td><td>2322</td></tr><tr><td>&quot;20230323&quot;</td><td>1492</td><td>956517.57</td><td>641.097567</td><td>8691</td></tr></tbody></table></div>"
      ],
      "text/plain": [
       "shape: (5, 5)\n",
       "┌──────────┬─────────────────┬───────────────────────┬──────────────────────────┬─────────────────┐\n",
       "│ ga:date  ┆ ga:transactions ┆ ga:transactionRevenue ┆ ga:revenuePerTransaction ┆ ga:itemQuantity │\n",
       "│ ---      ┆ ---             ┆ ---                   ┆ ---                      ┆ ---             │\n",
       "│ str      ┆ i64             ┆ f64                   ┆ f64                      ┆ i64             │\n",
       "╞══════════╪═════════════════╪═══════════════════════╪══════════════════════════╪═════════════════╡\n",
       "│ 20230325 ┆ 1135            ┆ 732437.61             ┆ 645.31948                ┆ 7093            │\n",
       "│ 20230204 ┆ 643             ┆ 404482.83             ┆ 629.055723               ┆ 3503            │\n",
       "│ 20221001 ┆ 837             ┆ 609012.75             ┆ 727.613799               ┆ 5095            │\n",
       "│ 20220209 ┆ 641             ┆ 226036.87             ┆ 352.631622               ┆ 2322            │\n",
       "│ 20230323 ┆ 1492            ┆ 956517.57             ┆ 641.097567               ┆ 8691            │\n",
       "└──────────┴─────────────────┴───────────────────────┴──────────────────────────┴─────────────────┘"
      ]
     },
     "execution_count": 18,
     "metadata": {},
     "output_type": "execute_result"
    }
   ],
   "source": [
    "trans.sample(5)"
   ]
  },
  {
   "cell_type": "code",
   "execution_count": 19,
   "metadata": {
    "tags": []
   },
   "outputs": [],
   "source": [
    "# drop ga: string from column names\n",
    "trans.columns = [col.replace('ga:','') for col in trans.columns]\n",
    "# convert column to date\n",
    "trans = trans.with_columns(\n",
    "    pl.col('date').str.strptime(pl.Date, format='%Y%m%d').cast(pl.Date)\n",
    ")"
   ]
  },
  {
   "cell_type": "code",
   "execution_count": 21,
   "metadata": {
    "tags": []
   },
   "outputs": [
    {
     "data": {
      "text/html": [
       "\n",
       "<div id=\"altair-viz-cab2af4ed2164a9bb08ef9a84b65f8d5\"></div>\n",
       "<script type=\"text/javascript\">\n",
       "  var VEGA_DEBUG = (typeof VEGA_DEBUG == \"undefined\") ? {} : VEGA_DEBUG;\n",
       "  (function(spec, embedOpt){\n",
       "    let outputDiv = document.currentScript.previousElementSibling;\n",
       "    if (outputDiv.id !== \"altair-viz-cab2af4ed2164a9bb08ef9a84b65f8d5\") {\n",
       "      outputDiv = document.getElementById(\"altair-viz-cab2af4ed2164a9bb08ef9a84b65f8d5\");\n",
       "    }\n",
       "    const paths = {\n",
       "      \"vega\": \"https://cdn.jsdelivr.net/npm//vega@5?noext\",\n",
       "      \"vega-lib\": \"https://cdn.jsdelivr.net/npm//vega-lib?noext\",\n",
       "      \"vega-lite\": \"https://cdn.jsdelivr.net/npm//vega-lite@4.17.0?noext\",\n",
       "      \"vega-embed\": \"https://cdn.jsdelivr.net/npm//vega-embed@6?noext\",\n",
       "    };\n",
       "\n",
       "    function maybeLoadScript(lib, version) {\n",
       "      var key = `${lib.replace(\"-\", \"\")}_version`;\n",
       "      return (VEGA_DEBUG[key] == version) ?\n",
       "        Promise.resolve(paths[lib]) :\n",
       "        new Promise(function(resolve, reject) {\n",
       "          var s = document.createElement('script');\n",
       "          document.getElementsByTagName(\"head\")[0].appendChild(s);\n",
       "          s.async = true;\n",
       "          s.onload = () => {\n",
       "            VEGA_DEBUG[key] = version;\n",
       "            return resolve(paths[lib]);\n",
       "          };\n",
       "          s.onerror = () => reject(`Error loading script: ${paths[lib]}`);\n",
       "          s.src = paths[lib];\n",
       "        });\n",
       "    }\n",
       "\n",
       "    function showError(err) {\n",
       "      outputDiv.innerHTML = `<div class=\"error\" style=\"color:red;\">${err}</div>`;\n",
       "      throw err;\n",
       "    }\n",
       "\n",
       "    function displayChart(vegaEmbed) {\n",
       "      vegaEmbed(outputDiv, spec, embedOpt)\n",
       "        .catch(err => showError(`Javascript Error: ${err.message}<br>This usually means there's a typo in your chart specification. See the javascript console for the full traceback.`));\n",
       "    }\n",
       "\n",
       "    if(typeof define === \"function\" && define.amd) {\n",
       "      requirejs.config({paths});\n",
       "      require([\"vega-embed\"], displayChart, err => showError(`Error loading script: ${err.message}`));\n",
       "    } else {\n",
       "      maybeLoadScript(\"vega\", \"5\")\n",
       "        .then(() => maybeLoadScript(\"vega-lite\", \"4.17.0\"))\n",
       "        .then(() => maybeLoadScript(\"vega-embed\", \"6\"))\n",
       "        .catch(showError)\n",
       "        .then(() => displayChart(vegaEmbed));\n",
       "    }\n",
       "  })({\"config\": {\"view\": {\"continuousWidth\": 400, \"continuousHeight\": 300}, \"title\": {\"fontSize\": 24}}, \"data\": {\"name\": \"data-edf565884d866ca82d509c4626b8f11b\"}, \"mark\": \"line\", \"encoding\": {\"color\": {\"value\": \"#703642\"}, \"tooltip\": [{\"field\": \"date\", \"type\": \"temporal\"}, {\"field\": \"transactions\", \"type\": \"quantitative\"}], \"x\": {\"field\": \"date\", \"type\": \"temporal\"}, \"y\": {\"field\": \"transactions\", \"type\": \"quantitative\"}}, \"height\": 400, \"title\": \"Website transactions over time\", \"width\": 800, \"$schema\": \"https://vega.github.io/schema/vega-lite/v4.17.0.json\", \"datasets\": {\"data-edf565884d866ca82d509c4626b8f11b\": [{\"date\": \"2022-01-01T00:00:00\", \"transactions\": 40, \"transactionRevenue\": 25742.5, \"revenuePerTransaction\": 643.5625, \"itemQuantity\": 252}, {\"date\": \"2022-01-02T00:00:00\", \"transactions\": 73, \"transactionRevenue\": 63534.5, \"revenuePerTransaction\": 870.3356164383562, \"itemQuantity\": 642}, {\"date\": \"2022-01-03T00:00:00\", \"transactions\": 353, \"transactionRevenue\": 169251.2, \"revenuePerTransaction\": 479.4651558073654, \"itemQuantity\": 1809}, {\"date\": \"2022-01-04T00:00:00\", \"transactions\": 418, \"transactionRevenue\": 156988.5, \"revenuePerTransaction\": 375.5705741626794, \"itemQuantity\": 1803}, {\"date\": \"2022-01-05T00:00:00\", \"transactions\": 427, \"transactionRevenue\": 166293.0, \"revenuePerTransaction\": 389.4449648711944, \"itemQuantity\": 1901}, {\"date\": \"2022-01-06T00:00:00\", \"transactions\": 399, \"transactionRevenue\": 147927.0, \"revenuePerTransaction\": 370.74436090225566, \"itemQuantity\": 1694}, {\"date\": \"2022-01-07T00:00:00\", \"transactions\": 451, \"transactionRevenue\": 164729.7, \"revenuePerTransaction\": 365.25432372505543, \"itemQuantity\": 1836}, {\"date\": \"2022-01-08T00:00:00\", \"transactions\": 360, \"transactionRevenue\": 113407.0, \"revenuePerTransaction\": 315.01944444444445, \"itemQuantity\": 1322}, {\"date\": \"2022-01-09T00:00:00\", \"transactions\": 46, \"transactionRevenue\": 26896.0, \"revenuePerTransaction\": 584.695652173913, \"itemQuantity\": 280}, {\"date\": \"2022-01-10T00:00:00\", \"transactions\": 434, \"transactionRevenue\": 166198.5, \"revenuePerTransaction\": 382.9458525345622, \"itemQuantity\": 1842}, {\"date\": \"2022-01-11T00:00:00\", \"transactions\": 448, \"transactionRevenue\": 157253.0, \"revenuePerTransaction\": 351.0111607142857, \"itemQuantity\": 1856}, {\"date\": \"2022-01-12T00:00:00\", \"transactions\": 458, \"transactionRevenue\": 141623.5, \"revenuePerTransaction\": 309.221615720524, \"itemQuantity\": 1775}, {\"date\": \"2022-01-13T00:00:00\", \"transactions\": 516, \"transactionRevenue\": 180065.05, \"revenuePerTransaction\": 348.96327519379844, \"itemQuantity\": 2205}, {\"date\": \"2022-01-14T00:00:00\", \"transactions\": 472, \"transactionRevenue\": 159814.05, \"revenuePerTransaction\": 338.58908898305083, \"itemQuantity\": 1859}, {\"date\": \"2022-01-15T00:00:00\", \"transactions\": 351, \"transactionRevenue\": 113559.5, \"revenuePerTransaction\": 323.53133903133903, \"itemQuantity\": 1316}, {\"date\": \"2022-01-16T00:00:00\", \"transactions\": 43, \"transactionRevenue\": 24902.1, \"revenuePerTransaction\": 579.1186046511627, \"itemQuantity\": 263}, {\"date\": \"2022-01-17T00:00:00\", \"transactions\": 438, \"transactionRevenue\": 147281.5, \"revenuePerTransaction\": 336.2591324200913, \"itemQuantity\": 1737}, {\"date\": \"2022-01-18T00:00:00\", \"transactions\": 449, \"transactionRevenue\": 150723.92, \"revenuePerTransaction\": 335.688017817372, \"itemQuantity\": 1829}, {\"date\": \"2022-01-19T00:00:00\", \"transactions\": 446, \"transactionRevenue\": 140319.4, \"revenuePerTransaction\": 314.61748878923765, \"itemQuantity\": 1737}, {\"date\": \"2022-01-20T00:00:00\", \"transactions\": 469, \"transactionRevenue\": 153618.49, \"revenuePerTransaction\": 327.5447547974414, \"itemQuantity\": 1632}, {\"date\": \"2022-01-21T00:00:00\", \"transactions\": 493, \"transactionRevenue\": 153342.96, \"revenuePerTransaction\": 311.0404868154158, \"itemQuantity\": 1804}, {\"date\": \"2022-01-22T00:00:00\", \"transactions\": 352, \"transactionRevenue\": 111135.46, \"revenuePerTransaction\": 315.72573863636364, \"itemQuantity\": 1235}, {\"date\": \"2022-01-23T00:00:00\", \"transactions\": 36, \"transactionRevenue\": 20037.86, \"revenuePerTransaction\": 556.6072222222222, \"itemQuantity\": 227}, {\"date\": \"2022-01-24T00:00:00\", \"transactions\": 449, \"transactionRevenue\": 157761.24, \"revenuePerTransaction\": 351.3613363028953, \"itemQuantity\": 1890}, {\"date\": \"2022-01-25T00:00:00\", \"transactions\": 478, \"transactionRevenue\": 166497.82, \"revenuePerTransaction\": 348.32179916317995, \"itemQuantity\": 2026}, {\"date\": \"2022-01-26T00:00:00\", \"transactions\": 400, \"transactionRevenue\": 121804.44, \"revenuePerTransaction\": 304.5111, \"itemQuantity\": 1574}, {\"date\": \"2022-01-27T00:00:00\", \"transactions\": 436, \"transactionRevenue\": 151729.3, \"revenuePerTransaction\": 348.0029816513761, \"itemQuantity\": 1708}, {\"date\": \"2022-01-28T00:00:00\", \"transactions\": 418, \"transactionRevenue\": 141929.48, \"revenuePerTransaction\": 339.5442105263158, \"itemQuantity\": 1565}, {\"date\": \"2022-01-29T00:00:00\", \"transactions\": 289, \"transactionRevenue\": 120333.4, \"revenuePerTransaction\": 416.37854671280274, \"itemQuantity\": 1213}, {\"date\": \"2022-01-30T00:00:00\", \"transactions\": 39, \"transactionRevenue\": 19310.5, \"revenuePerTransaction\": 495.14102564102564, \"itemQuantity\": 213}, {\"date\": \"2022-01-31T00:00:00\", \"transactions\": 459, \"transactionRevenue\": 172025.46, \"revenuePerTransaction\": 374.78313725490193, \"itemQuantity\": 1805}, {\"date\": \"2022-02-01T00:00:00\", \"transactions\": 526, \"transactionRevenue\": 186180.0, \"revenuePerTransaction\": 353.95437262357416, \"itemQuantity\": 1946}, {\"date\": \"2022-02-02T00:00:00\", \"transactions\": 571, \"transactionRevenue\": 200432.26, \"revenuePerTransaction\": 351.0197197898424, \"itemQuantity\": 2307}, {\"date\": \"2022-02-03T00:00:00\", \"transactions\": 538, \"transactionRevenue\": 196342.75, \"revenuePerTransaction\": 364.9493494423792, \"itemQuantity\": 2080}, {\"date\": \"2022-02-04T00:00:00\", \"transactions\": 561, \"transactionRevenue\": 188182.04, \"revenuePerTransaction\": 335.44035650623886, \"itemQuantity\": 2066}, {\"date\": \"2022-02-05T00:00:00\", \"transactions\": 431, \"transactionRevenue\": 159870.75, \"revenuePerTransaction\": 370.9298143851508, \"itemQuantity\": 1657}, {\"date\": \"2022-02-06T00:00:00\", \"transactions\": 45, \"transactionRevenue\": 24076.0, \"revenuePerTransaction\": 535.0222222222222, \"itemQuantity\": 257}, {\"date\": \"2022-02-07T00:00:00\", \"transactions\": 598, \"transactionRevenue\": 218145.25, \"revenuePerTransaction\": 364.7913879598662, \"itemQuantity\": 2314}, {\"date\": \"2022-02-08T00:00:00\", \"transactions\": 560, \"transactionRevenue\": 211206.53, \"revenuePerTransaction\": 377.1545178571429, \"itemQuantity\": 2120}, {\"date\": \"2022-02-09T00:00:00\", \"transactions\": 641, \"transactionRevenue\": 226036.87, \"revenuePerTransaction\": 352.6316224648986, \"itemQuantity\": 2322}, {\"date\": \"2022-02-10T00:00:00\", \"transactions\": 671, \"transactionRevenue\": 275252.7, \"revenuePerTransaction\": 410.21266766020864, \"itemQuantity\": 2694}, {\"date\": \"2022-02-11T00:00:00\", \"transactions\": 733, \"transactionRevenue\": 249542.69, \"revenuePerTransaction\": 340.44023192360163, \"itemQuantity\": 2490}, {\"date\": \"2022-02-12T00:00:00\", \"transactions\": 462, \"transactionRevenue\": 180290.98, \"revenuePerTransaction\": 390.24021645021645, \"itemQuantity\": 1699}, {\"date\": \"2022-02-13T00:00:00\", \"transactions\": 55, \"transactionRevenue\": 31521.16, \"revenuePerTransaction\": 573.112, \"itemQuantity\": 330}, {\"date\": \"2022-02-14T00:00:00\", \"transactions\": 626, \"transactionRevenue\": 232751.24, \"revenuePerTransaction\": 371.80709265175716, \"itemQuantity\": 2291}, {\"date\": \"2022-02-15T00:00:00\", \"transactions\": 643, \"transactionRevenue\": 252380.0, \"revenuePerTransaction\": 392.50388802488334, \"itemQuantity\": 2496}, {\"date\": \"2022-02-16T00:00:00\", \"transactions\": 594, \"transactionRevenue\": 249136.77, \"revenuePerTransaction\": 419.42217171717175, \"itemQuantity\": 2466}, {\"date\": \"2022-02-17T00:00:00\", \"transactions\": 615, \"transactionRevenue\": 276080.98, \"revenuePerTransaction\": 448.91216260162605, \"itemQuantity\": 2635}, {\"date\": \"2022-02-18T00:00:00\", \"transactions\": 637, \"transactionRevenue\": 278449.07, \"revenuePerTransaction\": 437.12569858712715, \"itemQuantity\": 2666}, {\"date\": \"2022-02-19T00:00:00\", \"transactions\": 522, \"transactionRevenue\": 219115.1, \"revenuePerTransaction\": 419.7607279693487, \"itemQuantity\": 2028}, {\"date\": \"2022-02-20T00:00:00\", \"transactions\": 54, \"transactionRevenue\": 36891.5, \"revenuePerTransaction\": 683.175925925926, \"itemQuantity\": 388}, {\"date\": \"2022-02-21T00:00:00\", \"transactions\": 633, \"transactionRevenue\": 310241.5, \"revenuePerTransaction\": 490.1129541864139, \"itemQuantity\": 3042}, {\"date\": \"2022-02-22T00:00:00\", \"transactions\": 561, \"transactionRevenue\": 258607.11, \"revenuePerTransaction\": 460.97524064171125, \"itemQuantity\": 2477}, {\"date\": \"2022-02-23T00:00:00\", \"transactions\": 595, \"transactionRevenue\": 263748.34, \"revenuePerTransaction\": 443.2745210084034, \"itemQuantity\": 2529}, {\"date\": \"2022-02-24T00:00:00\", \"transactions\": 572, \"transactionRevenue\": 269219.32, \"revenuePerTransaction\": 470.6631468531468, \"itemQuantity\": 2516}, {\"date\": \"2022-02-25T00:00:00\", \"transactions\": 613, \"transactionRevenue\": 284855.61, \"revenuePerTransaction\": 464.691044045677, \"itemQuantity\": 2757}, {\"date\": \"2022-02-26T00:00:00\", \"transactions\": 392, \"transactionRevenue\": 193395.5, \"revenuePerTransaction\": 493.3558673469388, \"itemQuantity\": 1759}, {\"date\": \"2022-02-27T00:00:00\", \"transactions\": 60, \"transactionRevenue\": 38002.0, \"revenuePerTransaction\": 633.3666666666667, \"itemQuantity\": 448}, {\"date\": \"2022-02-28T00:00:00\", \"transactions\": 573, \"transactionRevenue\": 280921.0, \"revenuePerTransaction\": 490.26352530541016, \"itemQuantity\": 2677}, {\"date\": \"2022-03-01T00:00:00\", \"transactions\": 658, \"transactionRevenue\": 296828.7, \"revenuePerTransaction\": 451.10744680851064, \"itemQuantity\": 3040}, {\"date\": \"2022-03-02T00:00:00\", \"transactions\": 588, \"transactionRevenue\": 274769.2, \"revenuePerTransaction\": 467.29455782312925, \"itemQuantity\": 2685}, {\"date\": \"2022-03-03T00:00:00\", \"transactions\": 692, \"transactionRevenue\": 302259.5, \"revenuePerTransaction\": 436.79118497109823, \"itemQuantity\": 2949}, {\"date\": \"2022-03-04T00:00:00\", \"transactions\": 753, \"transactionRevenue\": 306359.0, \"revenuePerTransaction\": 406.85126162018594, \"itemQuantity\": 2958}, {\"date\": \"2022-03-05T00:00:00\", \"transactions\": 523, \"transactionRevenue\": 234292.0, \"revenuePerTransaction\": 447.9770554493308, \"itemQuantity\": 2194}, {\"date\": \"2022-03-06T00:00:00\", \"transactions\": 66, \"transactionRevenue\": 46945.0, \"revenuePerTransaction\": 711.2878787878788, \"itemQuantity\": 432}, {\"date\": \"2022-03-07T00:00:00\", \"transactions\": 719, \"transactionRevenue\": 322927.5, \"revenuePerTransaction\": 449.13421418636995, \"itemQuantity\": 3105}, {\"date\": \"2022-03-08T00:00:00\", \"transactions\": 816, \"transactionRevenue\": 390159.0, \"revenuePerTransaction\": 478.1360294117647, \"itemQuantity\": 3584}, {\"date\": \"2022-03-09T00:00:00\", \"transactions\": 767, \"transactionRevenue\": 329667.0, \"revenuePerTransaction\": 429.8135593220339, \"itemQuantity\": 3275}, {\"date\": \"2022-03-10T00:00:00\", \"transactions\": 700, \"transactionRevenue\": 322985.0, \"revenuePerTransaction\": 461.40714285714284, \"itemQuantity\": 2947}, {\"date\": \"2022-03-11T00:00:00\", \"transactions\": 761, \"transactionRevenue\": 341943.45, \"revenuePerTransaction\": 449.33436268068334, \"itemQuantity\": 3346}, {\"date\": \"2022-03-12T00:00:00\", \"transactions\": 534, \"transactionRevenue\": 242710.26, \"revenuePerTransaction\": 454.51359550561796, \"itemQuantity\": 2211}, {\"date\": \"2022-03-13T00:00:00\", \"transactions\": 58, \"transactionRevenue\": 37200.5, \"revenuePerTransaction\": 641.3879310344827, \"itemQuantity\": 353}, {\"date\": \"2022-03-14T00:00:00\", \"transactions\": 825, \"transactionRevenue\": 348447.92, \"revenuePerTransaction\": 422.36111515151515, \"itemQuantity\": 3490}, {\"date\": \"2022-03-15T00:00:00\", \"transactions\": 822, \"transactionRevenue\": 312973.4, \"revenuePerTransaction\": 380.7462287104623, \"itemQuantity\": 3224}, {\"date\": \"2022-03-16T00:00:00\", \"transactions\": 880, \"transactionRevenue\": 355209.82, \"revenuePerTransaction\": 403.64752272727276, \"itemQuantity\": 3336}, {\"date\": \"2022-03-17T00:00:00\", \"transactions\": 1025, \"transactionRevenue\": 503541.58, \"revenuePerTransaction\": 491.2600780487805, \"itemQuantity\": 4773}, {\"date\": \"2022-03-18T00:00:00\", \"transactions\": 1085, \"transactionRevenue\": 519661.28, \"revenuePerTransaction\": 478.9504884792627, \"itemQuantity\": 4868}, {\"date\": \"2022-03-19T00:00:00\", \"transactions\": 729, \"transactionRevenue\": 339274.21, \"revenuePerTransaction\": 465.39672153635115, \"itemQuantity\": 3275}, {\"date\": \"2022-03-20T00:00:00\", \"transactions\": 98, \"transactionRevenue\": 71304.16, \"revenuePerTransaction\": 727.5934693877551, \"itemQuantity\": 704}, {\"date\": \"2022-03-21T00:00:00\", \"transactions\": 842, \"transactionRevenue\": 442546.64, \"revenuePerTransaction\": 525.5898337292161, \"itemQuantity\": 4270}, {\"date\": \"2022-03-22T00:00:00\", \"transactions\": 960, \"transactionRevenue\": 521006.19, \"revenuePerTransaction\": 542.71478125, \"itemQuantity\": 4991}, {\"date\": \"2022-03-23T00:00:00\", \"transactions\": 922, \"transactionRevenue\": 469900.56, \"revenuePerTransaction\": 509.65353579175706, \"itemQuantity\": 4721}, {\"date\": \"2022-03-24T00:00:00\", \"transactions\": 959, \"transactionRevenue\": 500253.09, \"revenuePerTransaction\": 521.6403441084464, \"itemQuantity\": 4784}, {\"date\": \"2022-03-25T00:00:00\", \"transactions\": 908, \"transactionRevenue\": 460514.45, \"revenuePerTransaction\": 507.17450440528637, \"itemQuantity\": 4424}, {\"date\": \"2022-03-26T00:00:00\", \"transactions\": 621, \"transactionRevenue\": 309321.54, \"revenuePerTransaction\": 498.1023188405797, \"itemQuantity\": 2978}, {\"date\": \"2022-03-27T00:00:00\", \"transactions\": 87, \"transactionRevenue\": 54709.22, \"revenuePerTransaction\": 628.8416091954023, \"itemQuantity\": 616}, {\"date\": \"2022-03-28T00:00:00\", \"transactions\": 942, \"transactionRevenue\": 506376.46, \"revenuePerTransaction\": 537.5546284501062, \"itemQuantity\": 5099}, {\"date\": \"2022-03-29T00:00:00\", \"transactions\": 991, \"transactionRevenue\": 552577.64, \"revenuePerTransaction\": 557.5960040363269, \"itemQuantity\": 5280}, {\"date\": \"2022-03-30T00:00:00\", \"transactions\": 833, \"transactionRevenue\": 468079.92, \"revenuePerTransaction\": 561.9206722689075, \"itemQuantity\": 4483}, {\"date\": \"2022-03-31T00:00:00\", \"transactions\": 854, \"transactionRevenue\": 516717.22, \"revenuePerTransaction\": 605.0552927400469, \"itemQuantity\": 4828}, {\"date\": \"2022-04-01T00:00:00\", \"transactions\": 1120, \"transactionRevenue\": 584480.4, \"revenuePerTransaction\": 521.8575, \"itemQuantity\": 5494}, {\"date\": \"2022-04-02T00:00:00\", \"transactions\": 799, \"transactionRevenue\": 580252.34, \"revenuePerTransaction\": 726.2232040050063, \"itemQuantity\": 5150}, {\"date\": \"2022-04-03T00:00:00\", \"transactions\": 98, \"transactionRevenue\": 85014.0, \"revenuePerTransaction\": 867.4897959183673, \"itemQuantity\": 786}, {\"date\": \"2022-04-04T00:00:00\", \"transactions\": 1275, \"transactionRevenue\": 1023088.6, \"revenuePerTransaction\": 802.4224313725491, \"itemQuantity\": 8696}, {\"date\": \"2022-04-05T00:00:00\", \"transactions\": 1254, \"transactionRevenue\": 1058387.8, \"revenuePerTransaction\": 844.0094098883573, \"itemQuantity\": 8905}, {\"date\": \"2022-04-06T00:00:00\", \"transactions\": 1292, \"transactionRevenue\": 1101167.93, \"revenuePerTransaction\": 852.2971594427245, \"itemQuantity\": 9473}, {\"date\": \"2022-04-07T00:00:00\", \"transactions\": 1260, \"transactionRevenue\": 1173731.19, \"revenuePerTransaction\": 931.5326904761904, \"itemQuantity\": 9592}, {\"date\": \"2022-04-08T00:00:00\", \"transactions\": 1014, \"transactionRevenue\": 734015.48, \"revenuePerTransaction\": 723.8811439842209, \"itemQuantity\": 6385}, {\"date\": \"2022-04-09T00:00:00\", \"transactions\": 702, \"transactionRevenue\": 550602.39, \"revenuePerTransaction\": 784.3338888888889, \"itemQuantity\": 4736}, {\"date\": \"2022-04-10T00:00:00\", \"transactions\": 83, \"transactionRevenue\": 87468.82, \"revenuePerTransaction\": 1053.8412048192772, \"itemQuantity\": 810}, {\"date\": \"2022-04-11T00:00:00\", \"transactions\": 976, \"transactionRevenue\": 643318.02, \"revenuePerTransaction\": 659.1373155737705, \"itemQuantity\": 5805}, {\"date\": \"2022-04-12T00:00:00\", \"transactions\": 986, \"transactionRevenue\": 743435.22, \"revenuePerTransaction\": 753.9910953346856, \"itemQuantity\": 6632}, {\"date\": \"2022-04-13T00:00:00\", \"transactions\": 904, \"transactionRevenue\": 641636.91, \"revenuePerTransaction\": 709.775342920354, \"itemQuantity\": 5724}, {\"date\": \"2022-04-14T00:00:00\", \"transactions\": 769, \"transactionRevenue\": 545770.38, \"revenuePerTransaction\": 709.7144083224968, \"itemQuantity\": 4666}, {\"date\": \"2022-04-15T00:00:00\", \"transactions\": 749, \"transactionRevenue\": 513206.18, \"revenuePerTransaction\": 685.1884913217623, \"itemQuantity\": 4615}, {\"date\": \"2022-04-16T00:00:00\", \"transactions\": 741, \"transactionRevenue\": 515543.27, \"revenuePerTransaction\": 695.7399055330634, \"itemQuantity\": 4693}, {\"date\": \"2022-04-17T00:00:00\", \"transactions\": 98, \"transactionRevenue\": 83081.6, \"revenuePerTransaction\": 847.7714285714285, \"itemQuantity\": 798}, {\"date\": \"2022-04-18T00:00:00\", \"transactions\": 1064, \"transactionRevenue\": 742841.97, \"revenuePerTransaction\": 698.1597462406015, \"itemQuantity\": 6992}, {\"date\": \"2022-04-19T00:00:00\", \"transactions\": 1122, \"transactionRevenue\": 784515.89, \"revenuePerTransaction\": 699.2120231729056, \"itemQuantity\": 7640}, {\"date\": \"2022-04-20T00:00:00\", \"transactions\": 1071, \"transactionRevenue\": 666865.07, \"revenuePerTransaction\": 622.6564612511672, \"itemQuantity\": 6472}, {\"date\": \"2022-04-21T00:00:00\", \"transactions\": 1127, \"transactionRevenue\": 762566.76, \"revenuePerTransaction\": 676.63421472937, \"itemQuantity\": 7030}, {\"date\": \"2022-04-22T00:00:00\", \"transactions\": 978, \"transactionRevenue\": 604089.82, \"revenuePerTransaction\": 617.6787525562372, \"itemQuantity\": 5637}, {\"date\": \"2022-04-23T00:00:00\", \"transactions\": 759, \"transactionRevenue\": 476749.1, \"revenuePerTransaction\": 628.127931488801, \"itemQuantity\": 4436}, {\"date\": \"2022-04-24T00:00:00\", \"transactions\": 93, \"transactionRevenue\": 74513.8, \"revenuePerTransaction\": 801.2236559139784, \"itemQuantity\": 796}, {\"date\": \"2022-04-25T00:00:00\", \"transactions\": 1004, \"transactionRevenue\": 661847.47, \"revenuePerTransaction\": 659.2106274900398, \"itemQuantity\": 6256}, {\"date\": \"2022-04-26T00:00:00\", \"transactions\": 957, \"transactionRevenue\": 639247.27, \"revenuePerTransaction\": 667.9699791013584, \"itemQuantity\": 5986}, {\"date\": \"2022-04-27T00:00:00\", \"transactions\": 939, \"transactionRevenue\": 535091.25, \"revenuePerTransaction\": 569.8522364217253, \"itemQuantity\": 5296}, {\"date\": \"2022-04-28T00:00:00\", \"transactions\": 881, \"transactionRevenue\": 574119.98, \"revenuePerTransaction\": 651.668535754824, \"itemQuantity\": 5406}, {\"date\": \"2022-04-29T00:00:00\", \"transactions\": 943, \"transactionRevenue\": 598382.01, \"revenuePerTransaction\": 634.5514422057264, \"itemQuantity\": 5576}, {\"date\": \"2022-04-30T00:00:00\", \"transactions\": 614, \"transactionRevenue\": 453502.0, \"revenuePerTransaction\": 738.6026058631923, \"itemQuantity\": 4042}, {\"date\": \"2022-05-01T00:00:00\", \"transactions\": 108, \"transactionRevenue\": 74310.5, \"revenuePerTransaction\": 688.0601851851852, \"itemQuantity\": 704}, {\"date\": \"2022-05-02T00:00:00\", \"transactions\": 1043, \"transactionRevenue\": 641302.0, \"revenuePerTransaction\": 614.862895493768, \"itemQuantity\": 6207}, {\"date\": \"2022-05-03T00:00:00\", \"transactions\": 1184, \"transactionRevenue\": 686660.3, \"revenuePerTransaction\": 579.9495777027028, \"itemQuantity\": 6766}, {\"date\": \"2022-05-04T00:00:00\", \"transactions\": 1255, \"transactionRevenue\": 658764.5, \"revenuePerTransaction\": 524.9119521912351, \"itemQuantity\": 6628}, {\"date\": \"2022-05-05T00:00:00\", \"transactions\": 1161, \"transactionRevenue\": 720288.54, \"revenuePerTransaction\": 620.4035658914728, \"itemQuantity\": 6810}, {\"date\": \"2022-05-06T00:00:00\", \"transactions\": 1091, \"transactionRevenue\": 687686.06, \"revenuePerTransaction\": 630.326361136572, \"itemQuantity\": 6432}, {\"date\": \"2022-05-07T00:00:00\", \"transactions\": 854, \"transactionRevenue\": 573164.82, \"revenuePerTransaction\": 671.1531850117095, \"itemQuantity\": 5539}, {\"date\": \"2022-05-08T00:00:00\", \"transactions\": 98, \"transactionRevenue\": 79757.5, \"revenuePerTransaction\": 813.8520408163265, \"itemQuantity\": 800}, {\"date\": \"2022-05-09T00:00:00\", \"transactions\": 1183, \"transactionRevenue\": 873141.06, \"revenuePerTransaction\": 738.073592561285, \"itemQuantity\": 8391}, {\"date\": \"2022-05-10T00:00:00\", \"transactions\": 1083, \"transactionRevenue\": 705141.57, \"revenuePerTransaction\": 651.1002493074793, \"itemQuantity\": 6948}, {\"date\": \"2022-05-11T00:00:00\", \"transactions\": 1132, \"transactionRevenue\": 794698.57, \"revenuePerTransaction\": 702.030538869258, \"itemQuantity\": 7677}, {\"date\": \"2022-05-12T00:00:00\", \"transactions\": 1200, \"transactionRevenue\": 850389.8, \"revenuePerTransaction\": 708.6581666666666, \"itemQuantity\": 8059}, {\"date\": \"2022-05-13T00:00:00\", \"transactions\": 1112, \"transactionRevenue\": 752542.02, \"revenuePerTransaction\": 676.7464208633094, \"itemQuantity\": 7382}, {\"date\": \"2022-05-14T00:00:00\", \"transactions\": 867, \"transactionRevenue\": 670882.05, \"revenuePerTransaction\": 773.7970588235294, \"itemQuantity\": 6330}, {\"date\": \"2022-05-15T00:00:00\", \"transactions\": 82, \"transactionRevenue\": 80360.0, \"revenuePerTransaction\": 980.0, \"itemQuantity\": 802}, {\"date\": \"2022-05-16T00:00:00\", \"transactions\": 1146, \"transactionRevenue\": 914451.38, \"revenuePerTransaction\": 797.9505933682374, \"itemQuantity\": 8676}, {\"date\": \"2022-05-17T00:00:00\", \"transactions\": 1305, \"transactionRevenue\": 901002.38, \"revenuePerTransaction\": 690.4232796934866, \"itemQuantity\": 8735}, {\"date\": \"2022-05-18T00:00:00\", \"transactions\": 1377, \"transactionRevenue\": 945170.28, \"revenuePerTransaction\": 686.3981699346406, \"itemQuantity\": 9301}, {\"date\": \"2022-05-19T00:00:00\", \"transactions\": 1420, \"transactionRevenue\": 1064202.65, \"revenuePerTransaction\": 749.4384859154931, \"itemQuantity\": 10271}, {\"date\": \"2022-05-20T00:00:00\", \"transactions\": 1373, \"transactionRevenue\": 913890.89, \"revenuePerTransaction\": 665.6160888565187, \"itemQuantity\": 8907}, {\"date\": \"2022-05-21T00:00:00\", \"transactions\": 1036, \"transactionRevenue\": 795446.82, \"revenuePerTransaction\": 767.8058108108108, \"itemQuantity\": 7637}, {\"date\": \"2022-05-22T00:00:00\", \"transactions\": 125, \"transactionRevenue\": 127347.21, \"revenuePerTransaction\": 1018.77768, \"itemQuantity\": 1213}, {\"date\": \"2022-05-23T00:00:00\", \"transactions\": 1426, \"transactionRevenue\": 1120281.91, \"revenuePerTransaction\": 785.6114375876579, \"itemQuantity\": 10804}, {\"date\": \"2022-05-24T00:00:00\", \"transactions\": 1371, \"transactionRevenue\": 955396.04, \"revenuePerTransaction\": 696.8607148067105, \"itemQuantity\": 9242}, {\"date\": \"2022-05-25T00:00:00\", \"transactions\": 1385, \"transactionRevenue\": 1016532.05, \"revenuePerTransaction\": 733.9581588447653, \"itemQuantity\": 9678}, {\"date\": \"2022-05-26T00:00:00\", \"transactions\": 1400, \"transactionRevenue\": 1113816.0, \"revenuePerTransaction\": 795.5828571428572, \"itemQuantity\": 10030}, {\"date\": \"2022-05-27T00:00:00\", \"transactions\": 1371, \"transactionRevenue\": 1079726.82, \"revenuePerTransaction\": 787.5469146608315, \"itemQuantity\": 9789}, {\"date\": \"2022-05-28T00:00:00\", \"transactions\": 1164, \"transactionRevenue\": 914033.7, \"revenuePerTransaction\": 785.2523195876288, \"itemQuantity\": 8089}, {\"date\": \"2022-05-29T00:00:00\", \"transactions\": 115, \"transactionRevenue\": 116975.78, \"revenuePerTransaction\": 1017.1806956521739, \"itemQuantity\": 1213}, {\"date\": \"2022-05-30T00:00:00\", \"transactions\": 1373, \"transactionRevenue\": 1028304.93, \"revenuePerTransaction\": 748.9475091041514, \"itemQuantity\": 10036}, {\"date\": \"2022-05-31T00:00:00\", \"transactions\": 1394, \"transactionRevenue\": 998211.22, \"revenuePerTransaction\": 716.0769153515065, \"itemQuantity\": 9440}, {\"date\": \"2022-06-01T00:00:00\", \"transactions\": 1667, \"transactionRevenue\": 1153545.63, \"revenuePerTransaction\": 691.9889802039593, \"itemQuantity\": 10910}, {\"date\": \"2022-06-02T00:00:00\", \"transactions\": 1574, \"transactionRevenue\": 1154912.8, \"revenuePerTransaction\": 733.7438373570521, \"itemQuantity\": 10698}, {\"date\": \"2022-06-03T00:00:00\", \"transactions\": 1740, \"transactionRevenue\": 1173782.58, \"revenuePerTransaction\": 674.5876896551724, \"itemQuantity\": 11203}, {\"date\": \"2022-06-04T00:00:00\", \"transactions\": 1279, \"transactionRevenue\": 869689.7, \"revenuePerTransaction\": 679.9763096168882, \"itemQuantity\": 8128}, {\"date\": \"2022-06-05T00:00:00\", \"transactions\": 58, \"transactionRevenue\": 70283.58, \"revenuePerTransaction\": 1211.7858620689653, \"itemQuantity\": 692}, {\"date\": \"2022-06-06T00:00:00\", \"transactions\": 1735, \"transactionRevenue\": 1250080.97, \"revenuePerTransaction\": 720.5077636887607, \"itemQuantity\": 12052}, {\"date\": \"2022-06-07T00:00:00\", \"transactions\": 1880, \"transactionRevenue\": 1422596.43, \"revenuePerTransaction\": 756.7002287234043, \"itemQuantity\": 13999}, {\"date\": \"2022-06-08T00:00:00\", \"transactions\": 1786, \"transactionRevenue\": 1276575.29, \"revenuePerTransaction\": 714.7677995520717, \"itemQuantity\": 12706}, {\"date\": \"2022-06-09T00:00:00\", \"transactions\": 1780, \"transactionRevenue\": 1330274.02, \"revenuePerTransaction\": 747.3449550561797, \"itemQuantity\": 12895}, {\"date\": \"2022-06-10T00:00:00\", \"transactions\": 1831, \"transactionRevenue\": 1275142.93, \"revenuePerTransaction\": 696.4188585472419, \"itemQuantity\": 12549}, {\"date\": \"2022-06-11T00:00:00\", \"transactions\": 1422, \"transactionRevenue\": 1114310.79, \"revenuePerTransaction\": 783.6222151898735, \"itemQuantity\": 10749}, {\"date\": \"2022-06-12T00:00:00\", \"transactions\": 131, \"transactionRevenue\": 171590.1, \"revenuePerTransaction\": 1309.8480916030533, \"itemQuantity\": 1770}, {\"date\": \"2022-06-13T00:00:00\", \"transactions\": 1865, \"transactionRevenue\": 1490547.15, \"revenuePerTransaction\": 799.2209919571046, \"itemQuantity\": 14703}, {\"date\": \"2022-06-14T00:00:00\", \"transactions\": 1799, \"transactionRevenue\": 1453777.75, \"revenuePerTransaction\": 808.1032518065592, \"itemQuantity\": 14463}, {\"date\": \"2022-06-15T00:00:00\", \"transactions\": 1899, \"transactionRevenue\": 1332604.81, \"revenuePerTransaction\": 701.740289626119, \"itemQuantity\": 13417}, {\"date\": \"2022-06-16T00:00:00\", \"transactions\": 1994, \"transactionRevenue\": 1543159.43, \"revenuePerTransaction\": 773.9014192577732, \"itemQuantity\": 15378}, {\"date\": \"2022-06-17T00:00:00\", \"transactions\": 1952, \"transactionRevenue\": 1412738.02, \"revenuePerTransaction\": 723.7387397540984, \"itemQuantity\": 13758}, {\"date\": \"2022-06-18T00:00:00\", \"transactions\": 1461, \"transactionRevenue\": 1031503.67, \"revenuePerTransaction\": 706.0257837097879, \"itemQuantity\": 10082}, {\"date\": \"2022-06-19T00:00:00\", \"transactions\": 100, \"transactionRevenue\": 140531.4, \"revenuePerTransaction\": 1405.314, \"itemQuantity\": 1355}, {\"date\": \"2022-06-20T00:00:00\", \"transactions\": 1912, \"transactionRevenue\": 1503642.63, \"revenuePerTransaction\": 786.423969665272, \"itemQuantity\": 14637}, {\"date\": \"2022-06-21T00:00:00\", \"transactions\": 1930, \"transactionRevenue\": 1549328.07, \"revenuePerTransaction\": 802.7606580310882, \"itemQuantity\": 15157}, {\"date\": \"2022-06-22T00:00:00\", \"transactions\": 1997, \"transactionRevenue\": 1332261.95, \"revenuePerTransaction\": 667.1316725087632, \"itemQuantity\": 13249}, {\"date\": \"2022-06-23T00:00:00\", \"transactions\": 2053, \"transactionRevenue\": 1532561.17, \"revenuePerTransaction\": 746.4983779834389, \"itemQuantity\": 15048}, {\"date\": \"2022-06-24T00:00:00\", \"transactions\": 2175, \"transactionRevenue\": 1586817.48, \"revenuePerTransaction\": 729.5712551724138, \"itemQuantity\": 15080}, {\"date\": \"2022-06-25T00:00:00\", \"transactions\": 1589, \"transactionRevenue\": 1175150.4, \"revenuePerTransaction\": 739.5534298300818, \"itemQuantity\": 11227}, {\"date\": \"2022-06-26T00:00:00\", \"transactions\": 140, \"transactionRevenue\": 169219.17, \"revenuePerTransaction\": 1208.708357142857, \"itemQuantity\": 1662}, {\"date\": \"2022-06-27T00:00:00\", \"transactions\": 1831, \"transactionRevenue\": 1334783.75, \"revenuePerTransaction\": 728.9916712179138, \"itemQuantity\": 12873}, {\"date\": \"2022-06-28T00:00:00\", \"transactions\": 1639, \"transactionRevenue\": 1299431.26, \"revenuePerTransaction\": 792.8195607077487, \"itemQuantity\": 12305}, {\"date\": \"2022-06-29T00:00:00\", \"transactions\": 1687, \"transactionRevenue\": 1202661.83, \"revenuePerTransaction\": 712.899721398933, \"itemQuantity\": 11061}, {\"date\": \"2022-06-30T00:00:00\", \"transactions\": 1518, \"transactionRevenue\": 1215154.18, \"revenuePerTransaction\": 800.4968247694335, \"itemQuantity\": 11206}, {\"date\": \"2022-07-01T00:00:00\", \"transactions\": 1679, \"transactionRevenue\": 1121098.11, \"revenuePerTransaction\": 667.7177546158429, \"itemQuantity\": 10646}, {\"date\": \"2022-07-02T00:00:00\", \"transactions\": 1295, \"transactionRevenue\": 1007022.63, \"revenuePerTransaction\": 777.6236525096525, \"itemQuantity\": 9506}, {\"date\": \"2022-07-03T00:00:00\", \"transactions\": 138, \"transactionRevenue\": 134473.23, \"revenuePerTransaction\": 974.4436956521739, \"itemQuantity\": 1265}, {\"date\": \"2022-07-04T00:00:00\", \"transactions\": 1686, \"transactionRevenue\": 1215993.39, \"revenuePerTransaction\": 721.2297686832741, \"itemQuantity\": 11330}, {\"date\": \"2022-07-05T00:00:00\", \"transactions\": 1806, \"transactionRevenue\": 1296010.02, \"revenuePerTransaction\": 717.6135215946844, \"itemQuantity\": 12132}, {\"date\": \"2022-07-06T00:00:00\", \"transactions\": 1848, \"transactionRevenue\": 1274612.73, \"revenuePerTransaction\": 689.7255032467532, \"itemQuantity\": 11696}, {\"date\": \"2022-07-07T00:00:00\", \"transactions\": 1499, \"transactionRevenue\": 1172855.19, \"revenuePerTransaction\": 782.4250767178119, \"itemQuantity\": 10546}, {\"date\": \"2022-07-08T00:00:00\", \"transactions\": 1665, \"transactionRevenue\": 1206329.26, \"revenuePerTransaction\": 724.522078078078, \"itemQuantity\": 11180}, {\"date\": \"2022-07-09T00:00:00\", \"transactions\": 1243, \"transactionRevenue\": 1041886.55, \"revenuePerTransaction\": 838.2031777956557, \"itemQuantity\": 9524}, {\"date\": \"2022-07-10T00:00:00\", \"transactions\": 128, \"transactionRevenue\": 130002.0, \"revenuePerTransaction\": 1015.640625, \"itemQuantity\": 1173}, {\"date\": \"2022-07-11T00:00:00\", \"transactions\": 1676, \"transactionRevenue\": 1380211.05, \"revenuePerTransaction\": 823.514946300716, \"itemQuantity\": 12503}, {\"date\": \"2022-07-12T00:00:00\", \"transactions\": 1765, \"transactionRevenue\": 1464680.53, \"revenuePerTransaction\": 829.8473257790369, \"itemQuantity\": 13720}, {\"date\": \"2022-07-13T00:00:00\", \"transactions\": 1625, \"transactionRevenue\": 1352117.84, \"revenuePerTransaction\": 832.0725169230768, \"itemQuantity\": 12468}, {\"date\": \"2022-07-14T00:00:00\", \"transactions\": 1647, \"transactionRevenue\": 1446306.01, \"revenuePerTransaction\": 878.1457255616272, \"itemQuantity\": 13311}, {\"date\": \"2022-07-15T00:00:00\", \"transactions\": 1573, \"transactionRevenue\": 1183444.02, \"revenuePerTransaction\": 752.3483916083917, \"itemQuantity\": 11006}, {\"date\": \"2022-07-16T00:00:00\", \"transactions\": 1249, \"transactionRevenue\": 1097150.38, \"revenuePerTransaction\": 878.4230424339472, \"itemQuantity\": 10126}, {\"date\": \"2022-07-17T00:00:00\", \"transactions\": 127, \"transactionRevenue\": 163374.45, \"revenuePerTransaction\": 1286.4129921259841, \"itemQuantity\": 1508}, {\"date\": \"2022-07-18T00:00:00\", \"transactions\": 1663, \"transactionRevenue\": 1430177.97, \"revenuePerTransaction\": 859.9987793144919, \"itemQuantity\": 13085}, {\"date\": \"2022-07-19T00:00:00\", \"transactions\": 1617, \"transactionRevenue\": 1395423.59, \"revenuePerTransaction\": 862.9706802721088, \"itemQuantity\": 12729}, {\"date\": \"2022-07-20T00:00:00\", \"transactions\": 1661, \"transactionRevenue\": 1328725.61, \"revenuePerTransaction\": 799.9552137266706, \"itemQuantity\": 11944}, {\"date\": \"2022-07-21T00:00:00\", \"transactions\": 1536, \"transactionRevenue\": 1425021.44, \"revenuePerTransaction\": 927.7483333333333, \"itemQuantity\": 12874}, {\"date\": \"2022-07-22T00:00:00\", \"transactions\": 1729, \"transactionRevenue\": 1411907.2, \"revenuePerTransaction\": 816.6033545401966, \"itemQuantity\": 12662}, {\"date\": \"2022-07-23T00:00:00\", \"transactions\": 1253, \"transactionRevenue\": 1204918.84, \"revenuePerTransaction\": 961.6271667996807, \"itemQuantity\": 10851}, {\"date\": \"2022-07-24T00:00:00\", \"transactions\": 125, \"transactionRevenue\": 129622.75, \"revenuePerTransaction\": 1036.982, \"itemQuantity\": 1130}, {\"date\": \"2022-07-25T00:00:00\", \"transactions\": 1599, \"transactionRevenue\": 1327579.69, \"revenuePerTransaction\": 830.2562163852408, \"itemQuantity\": 11965}, {\"date\": \"2022-07-26T00:00:00\", \"transactions\": 1579, \"transactionRevenue\": 1472905.23, \"revenuePerTransaction\": 932.8088853704877, \"itemQuantity\": 13094}, {\"date\": \"2022-07-27T00:00:00\", \"transactions\": 1412, \"transactionRevenue\": 1150726.26, \"revenuePerTransaction\": 814.9619405099149, \"itemQuantity\": 10132}, {\"date\": \"2022-07-28T00:00:00\", \"transactions\": 1445, \"transactionRevenue\": 1130726.97, \"revenuePerTransaction\": 782.5100138408304, \"itemQuantity\": 10176}, {\"date\": \"2022-07-29T00:00:00\", \"transactions\": 1567, \"transactionRevenue\": 1205373.73, \"revenuePerTransaction\": 769.2238225909381, \"itemQuantity\": 10176}, {\"date\": \"2022-07-30T00:00:00\", \"transactions\": 1041, \"transactionRevenue\": 970772.56, \"revenuePerTransaction\": 932.5384822286263, \"itemQuantity\": 8155}, {\"date\": \"2022-07-31T00:00:00\", \"transactions\": 89, \"transactionRevenue\": 109806.31, \"revenuePerTransaction\": 1233.7787640449437, \"itemQuantity\": 999}, {\"date\": \"2022-08-01T00:00:00\", \"transactions\": 1488, \"transactionRevenue\": 1320944.55, \"revenuePerTransaction\": 887.7315524193548, \"itemQuantity\": 11582}, {\"date\": \"2022-08-02T00:00:00\", \"transactions\": 1458, \"transactionRevenue\": 1305519.93, \"revenuePerTransaction\": 895.4183333333334, \"itemQuantity\": 11190}, {\"date\": \"2022-08-03T00:00:00\", \"transactions\": 1485, \"transactionRevenue\": 1228848.2, \"revenuePerTransaction\": 827.5072053872053, \"itemQuantity\": 10824}, {\"date\": \"2022-08-04T00:00:00\", \"transactions\": 1600, \"transactionRevenue\": 1370184.1, \"revenuePerTransaction\": 856.3650625, \"itemQuantity\": 11516}, {\"date\": \"2022-08-05T00:00:00\", \"transactions\": 1584, \"transactionRevenue\": 1216726.13, \"revenuePerTransaction\": 768.135183080808, \"itemQuantity\": 10494}, {\"date\": \"2022-08-06T00:00:00\", \"transactions\": 1186, \"transactionRevenue\": 988757.38, \"revenuePerTransaction\": 833.6908768971332, \"itemQuantity\": 8634}, {\"date\": \"2022-08-07T00:00:00\", \"transactions\": 125, \"transactionRevenue\": 121327.78, \"revenuePerTransaction\": 970.62224, \"itemQuantity\": 1071}, {\"date\": \"2022-08-08T00:00:00\", \"transactions\": 1573, \"transactionRevenue\": 1299085.57, \"revenuePerTransaction\": 825.8649523204069, \"itemQuantity\": 11243}, {\"date\": \"2022-08-09T00:00:00\", \"transactions\": 1591, \"transactionRevenue\": 1434480.58, \"revenuePerTransaction\": 901.6219861722187, \"itemQuantity\": 12260}, {\"date\": \"2022-08-10T00:00:00\", \"transactions\": 1504, \"transactionRevenue\": 1245586.84, \"revenuePerTransaction\": 828.182739361702, \"itemQuantity\": 10624}, {\"date\": \"2022-08-11T00:00:00\", \"transactions\": 1424, \"transactionRevenue\": 1213619.48, \"revenuePerTransaction\": 852.2608707865169, \"itemQuantity\": 10108}, {\"date\": \"2022-08-12T00:00:00\", \"transactions\": 1534, \"transactionRevenue\": 1306738.15, \"revenuePerTransaction\": 851.8501629726206, \"itemQuantity\": 10920}, {\"date\": \"2022-08-13T00:00:00\", \"transactions\": 1097, \"transactionRevenue\": 977048.6, \"revenuePerTransaction\": 890.6550592525068, \"itemQuantity\": 8338}, {\"date\": \"2022-08-14T00:00:00\", \"transactions\": 129, \"transactionRevenue\": 159178.8, \"revenuePerTransaction\": 1233.9441860465117, \"itemQuantity\": 1330}, {\"date\": \"2022-08-15T00:00:00\", \"transactions\": 1396, \"transactionRevenue\": 1247599.55, \"revenuePerTransaction\": 893.6959527220631, \"itemQuantity\": 10323}, {\"date\": \"2022-08-16T00:00:00\", \"transactions\": 1445, \"transactionRevenue\": 1322699.7, \"revenuePerTransaction\": 915.3631141868512, \"itemQuantity\": 11186}, {\"date\": \"2022-08-17T00:00:00\", \"transactions\": 1410, \"transactionRevenue\": 1154873.92, \"revenuePerTransaction\": 819.0595177304964, \"itemQuantity\": 10048}, {\"date\": \"2022-08-18T00:00:00\", \"transactions\": 1420, \"transactionRevenue\": 1233403.98, \"revenuePerTransaction\": 868.594352112676, \"itemQuantity\": 10408}, {\"date\": \"2022-08-19T00:00:00\", \"transactions\": 1430, \"transactionRevenue\": 1217251.38, \"revenuePerTransaction\": 851.2247412587412, \"itemQuantity\": 10454}, {\"date\": \"2022-08-20T00:00:00\", \"transactions\": 1067, \"transactionRevenue\": 959353.62, \"revenuePerTransaction\": 899.113045923149, \"itemQuantity\": 8148}, {\"date\": \"2022-08-21T00:00:00\", \"transactions\": 125, \"transactionRevenue\": 128413.15, \"revenuePerTransaction\": 1027.3052, \"itemQuantity\": 1134}, {\"date\": \"2022-08-22T00:00:00\", \"transactions\": 1456, \"transactionRevenue\": 1315837.48, \"revenuePerTransaction\": 903.7345329670329, \"itemQuantity\": 11004}, {\"date\": \"2022-08-23T00:00:00\", \"transactions\": 1421, \"transactionRevenue\": 1295002.63, \"revenuePerTransaction\": 911.331900070373, \"itemQuantity\": 11120}, {\"date\": \"2022-08-24T00:00:00\", \"transactions\": 1373, \"transactionRevenue\": 1177053.25, \"revenuePerTransaction\": 857.2856882738528, \"itemQuantity\": 9952}, {\"date\": \"2022-08-25T00:00:00\", \"transactions\": 1498, \"transactionRevenue\": 1224572.74, \"revenuePerTransaction\": 817.4717890520694, \"itemQuantity\": 10642}, {\"date\": \"2022-08-26T00:00:00\", \"transactions\": 1560, \"transactionRevenue\": 1289428.53, \"revenuePerTransaction\": 826.55675, \"itemQuantity\": 10988}, {\"date\": \"2022-08-27T00:00:00\", \"transactions\": 1167, \"transactionRevenue\": 975849.63, \"revenuePerTransaction\": 836.2036246786632, \"itemQuantity\": 8098}, {\"date\": \"2022-08-28T00:00:00\", \"transactions\": 108, \"transactionRevenue\": 103926.38, \"revenuePerTransaction\": 962.2812962962962, \"itemQuantity\": 1037}, {\"date\": \"2022-08-29T00:00:00\", \"transactions\": 1491, \"transactionRevenue\": 1253276.59, \"revenuePerTransaction\": 840.5610932260229, \"itemQuantity\": 10736}, {\"date\": \"2022-08-30T00:00:00\", \"transactions\": 1377, \"transactionRevenue\": 1103393.5, \"revenuePerTransaction\": 801.3024691358025, \"itemQuantity\": 9557}, {\"date\": \"2022-08-31T00:00:00\", \"transactions\": 1090, \"transactionRevenue\": 847743.25, \"revenuePerTransaction\": 777.7461009174312, \"itemQuantity\": 7450}, {\"date\": \"2022-09-01T00:00:00\", \"transactions\": 1335, \"transactionRevenue\": 1047305.55, \"revenuePerTransaction\": 784.4985393258428, \"itemQuantity\": 8958}, {\"date\": \"2022-09-02T00:00:00\", \"transactions\": 1524, \"transactionRevenue\": 1174178.72, \"revenuePerTransaction\": 770.4584776902886, \"itemQuantity\": 9990}, {\"date\": \"2022-09-03T00:00:00\", \"transactions\": 1080, \"transactionRevenue\": 898578.51, \"revenuePerTransaction\": 832.0171388888888, \"itemQuantity\": 7603}, {\"date\": \"2022-09-04T00:00:00\", \"transactions\": 94, \"transactionRevenue\": 97938.17, \"revenuePerTransaction\": 1041.895425531915, \"itemQuantity\": 857}, {\"date\": \"2022-09-05T00:00:00\", \"transactions\": 1363, \"transactionRevenue\": 1078329.45, \"revenuePerTransaction\": 791.1441305942774, \"itemQuantity\": 9329}, {\"date\": \"2022-09-06T00:00:00\", \"transactions\": 1372, \"transactionRevenue\": 1049159.5, \"revenuePerTransaction\": 764.6935131195336, \"itemQuantity\": 9018}, {\"date\": \"2022-09-07T00:00:00\", \"transactions\": 1292, \"transactionRevenue\": 925643.75, \"revenuePerTransaction\": 716.4425309597523, \"itemQuantity\": 8076}, {\"date\": \"2022-09-08T00:00:00\", \"transactions\": 1210, \"transactionRevenue\": 841849.5, \"revenuePerTransaction\": 695.7433884297521, \"itemQuantity\": 7229}, {\"date\": \"2022-09-09T00:00:00\", \"transactions\": 1257, \"transactionRevenue\": 962294.33, \"revenuePerTransaction\": 765.5483929992045, \"itemQuantity\": 8232}, {\"date\": \"2022-09-10T00:00:00\", \"transactions\": 990, \"transactionRevenue\": 773993.33, \"revenuePerTransaction\": 781.8114444444444, \"itemQuantity\": 6602}, {\"date\": \"2022-09-11T00:00:00\", \"transactions\": 117, \"transactionRevenue\": 126029.8, \"revenuePerTransaction\": 1077.1777777777777, \"itemQuantity\": 1169}, {\"date\": \"2022-09-12T00:00:00\", \"transactions\": 1302, \"transactionRevenue\": 1033780.92, \"revenuePerTransaction\": 793.9945622119816, \"itemQuantity\": 8863}, {\"date\": \"2022-09-13T00:00:00\", \"transactions\": 1420, \"transactionRevenue\": 1144453.73, \"revenuePerTransaction\": 805.9533309859155, \"itemQuantity\": 9973}, {\"date\": \"2022-09-14T00:00:00\", \"transactions\": 1352, \"transactionRevenue\": 967757.52, \"revenuePerTransaction\": 715.7969822485207, \"itemQuantity\": 8451}, {\"date\": \"2022-09-15T00:00:00\", \"transactions\": 1062, \"transactionRevenue\": 783742.35, \"revenuePerTransaction\": 737.9871468926553, \"itemQuantity\": 6512}, {\"date\": \"2022-09-16T00:00:00\", \"transactions\": 1195, \"transactionRevenue\": 896082.3, \"revenuePerTransaction\": 749.8596652719666, \"itemQuantity\": 7501}, {\"date\": \"2022-09-17T00:00:00\", \"transactions\": 975, \"transactionRevenue\": 843190.49, \"revenuePerTransaction\": 864.8107589743589, \"itemQuantity\": 7073}, {\"date\": \"2022-09-18T00:00:00\", \"transactions\": 123, \"transactionRevenue\": 113283.75, \"revenuePerTransaction\": 921.0060975609756, \"itemQuantity\": 901}, {\"date\": \"2022-09-19T00:00:00\", \"transactions\": 1250, \"transactionRevenue\": 1011566.12, \"revenuePerTransaction\": 809.252896, \"itemQuantity\": 8635}, {\"date\": \"2022-09-20T00:00:00\", \"transactions\": 1399, \"transactionRevenue\": 1079739.36, \"revenuePerTransaction\": 771.7936812008578, \"itemQuantity\": 9349}, {\"date\": \"2022-09-21T00:00:00\", \"transactions\": 1365, \"transactionRevenue\": 924875.24, \"revenuePerTransaction\": 677.5642783882784, \"itemQuantity\": 7976}, {\"date\": \"2022-09-22T00:00:00\", \"transactions\": 1235, \"transactionRevenue\": 825606.81, \"revenuePerTransaction\": 668.5075384615384, \"itemQuantity\": 6998}, {\"date\": \"2022-09-23T00:00:00\", \"transactions\": 1340, \"transactionRevenue\": 916941.78, \"revenuePerTransaction\": 684.2849104477611, \"itemQuantity\": 7744}, {\"date\": \"2022-09-24T00:00:00\", \"transactions\": 886, \"transactionRevenue\": 658078.95, \"revenuePerTransaction\": 742.7527652370204, \"itemQuantity\": 5655}, {\"date\": \"2022-09-25T00:00:00\", \"transactions\": 96, \"transactionRevenue\": 103698.25, \"revenuePerTransaction\": 1080.1901041666667, \"itemQuantity\": 963}, {\"date\": \"2022-09-26T00:00:00\", \"transactions\": 1318, \"transactionRevenue\": 992821.79, \"revenuePerTransaction\": 753.2790515933232, \"itemQuantity\": 8632}, {\"date\": \"2022-09-27T00:00:00\", \"transactions\": 1282, \"transactionRevenue\": 908042.49, \"revenuePerTransaction\": 708.3014742589704, \"itemQuantity\": 7880}, {\"date\": \"2022-09-28T00:00:00\", \"transactions\": 1096, \"transactionRevenue\": 714123.32, \"revenuePerTransaction\": 651.5723722627738, \"itemQuantity\": 6256}, {\"date\": \"2022-09-29T00:00:00\", \"transactions\": 1115, \"transactionRevenue\": 768503.37, \"revenuePerTransaction\": 689.2406905829597, \"itemQuantity\": 6666}, {\"date\": \"2022-09-30T00:00:00\", \"transactions\": 1035, \"transactionRevenue\": 741303.25, \"revenuePerTransaction\": 716.2350241545894, \"itemQuantity\": 6253}, {\"date\": \"2022-10-01T00:00:00\", \"transactions\": 837, \"transactionRevenue\": 609012.75, \"revenuePerTransaction\": 727.6137992831541, \"itemQuantity\": 5095}, {\"date\": \"2022-10-02T00:00:00\", \"transactions\": 68, \"transactionRevenue\": 68089.5, \"revenuePerTransaction\": 1001.3161764705882, \"itemQuantity\": 558}, {\"date\": \"2022-10-03T00:00:00\", \"transactions\": 1260, \"transactionRevenue\": 901970.75, \"revenuePerTransaction\": 715.8498015873016, \"itemQuantity\": 7659}, {\"date\": \"2022-10-04T00:00:00\", \"transactions\": 1198, \"transactionRevenue\": 753830.75, \"revenuePerTransaction\": 629.2410267111853, \"itemQuantity\": 6765}, {\"date\": \"2022-10-05T00:00:00\", \"transactions\": 1244, \"transactionRevenue\": 729321.25, \"revenuePerTransaction\": 586.2711012861736, \"itemQuantity\": 6486}, {\"date\": \"2022-10-06T00:00:00\", \"transactions\": 1319, \"transactionRevenue\": 735812.25, \"revenuePerTransaction\": 557.8561410159211, \"itemQuantity\": 6556}, {\"date\": \"2022-10-07T00:00:00\", \"transactions\": 1449, \"transactionRevenue\": 778690.38, \"revenuePerTransaction\": 537.3984679089026, \"itemQuantity\": 6857}, {\"date\": \"2022-10-08T00:00:00\", \"transactions\": 978, \"transactionRevenue\": 583097.89, \"revenuePerTransaction\": 596.2146114519427, \"itemQuantity\": 5005}, {\"date\": \"2022-10-09T00:00:00\", \"transactions\": 69, \"transactionRevenue\": 53646.0, \"revenuePerTransaction\": 777.4782608695652, \"itemQuantity\": 451}, {\"date\": \"2022-10-10T00:00:00\", \"transactions\": 1347, \"transactionRevenue\": 812665.82, \"revenuePerTransaction\": 603.3153823311062, \"itemQuantity\": 7172}, {\"date\": \"2022-10-11T00:00:00\", \"transactions\": 1462, \"transactionRevenue\": 774322.78, \"revenuePerTransaction\": 529.6325444596444, \"itemQuantity\": 6963}, {\"date\": \"2022-10-12T00:00:00\", \"transactions\": 1361, \"transactionRevenue\": 703375.56, \"revenuePerTransaction\": 516.8079059515063, \"itemQuantity\": 6390}, {\"date\": \"2022-10-13T00:00:00\", \"transactions\": 1419, \"transactionRevenue\": 776400.29, \"revenuePerTransaction\": 547.1460817477097, \"itemQuantity\": 6794}, {\"date\": \"2022-10-14T00:00:00\", \"transactions\": 1527, \"transactionRevenue\": 853665.93, \"revenuePerTransaction\": 559.0477603143419, \"itemQuantity\": 7425}, {\"date\": \"2022-10-15T00:00:00\", \"transactions\": 1032, \"transactionRevenue\": 627494.87, \"revenuePerTransaction\": 608.0376647286822, \"itemQuantity\": 5276}, {\"date\": \"2022-10-16T00:00:00\", \"transactions\": 63, \"transactionRevenue\": 52755.24, \"revenuePerTransaction\": 837.384761904762, \"itemQuantity\": 517}, {\"date\": \"2022-10-17T00:00:00\", \"transactions\": 1437, \"transactionRevenue\": 837864.73, \"revenuePerTransaction\": 583.0652261656228, \"itemQuantity\": 7368}, {\"date\": \"2022-10-18T00:00:00\", \"transactions\": 1424, \"transactionRevenue\": 818408.54, \"revenuePerTransaction\": 574.7250983146068, \"itemQuantity\": 7476}, {\"date\": \"2022-10-19T00:00:00\", \"transactions\": 1324, \"transactionRevenue\": 631081.47, \"revenuePerTransaction\": 476.64763595166164, \"itemQuantity\": 5798}, {\"date\": \"2022-10-20T00:00:00\", \"transactions\": 1258, \"transactionRevenue\": 690552.66, \"revenuePerTransaction\": 548.9289825119237, \"itemQuantity\": 6041}, {\"date\": \"2022-10-21T00:00:00\", \"transactions\": 1325, \"transactionRevenue\": 729016.25, \"revenuePerTransaction\": 550.2009433962264, \"itemQuantity\": 6362}, {\"date\": \"2022-10-22T00:00:00\", \"transactions\": 920, \"transactionRevenue\": 533920.21, \"revenuePerTransaction\": 580.3480543478262, \"itemQuantity\": 4515}, {\"date\": \"2022-10-23T00:00:00\", \"transactions\": 97, \"transactionRevenue\": 73805.08, \"revenuePerTransaction\": 760.8771134020618, \"itemQuantity\": 709}, {\"date\": \"2022-10-24T00:00:00\", \"transactions\": 1390, \"transactionRevenue\": 783147.64, \"revenuePerTransaction\": 563.4155683453237, \"itemQuantity\": 6912}, {\"date\": \"2022-10-25T00:00:00\", \"transactions\": 1213, \"transactionRevenue\": 781691.27, \"revenuePerTransaction\": 644.4280873866447, \"itemQuantity\": 6822}, {\"date\": \"2022-10-26T00:00:00\", \"transactions\": 1234, \"transactionRevenue\": 721818.85, \"revenuePerTransaction\": 584.9423419773096, \"itemQuantity\": 6417}, {\"date\": \"2022-10-27T00:00:00\", \"transactions\": 1124, \"transactionRevenue\": 714665.04, \"revenuePerTransaction\": 635.8229893238433, \"itemQuantity\": 6353}, {\"date\": \"2022-10-28T00:00:00\", \"transactions\": 1129, \"transactionRevenue\": 700577.07, \"revenuePerTransaction\": 620.5288485385296, \"itemQuantity\": 6070}, {\"date\": \"2022-10-29T00:00:00\", \"transactions\": 823, \"transactionRevenue\": 559137.75, \"revenuePerTransaction\": 679.3897326852978, \"itemQuantity\": 4743}, {\"date\": \"2022-10-30T00:00:00\", \"transactions\": 71, \"transactionRevenue\": 63722.25, \"revenuePerTransaction\": 897.4964788732394, \"itemQuantity\": 574}, {\"date\": \"2022-10-31T00:00:00\", \"transactions\": 1212, \"transactionRevenue\": 700466.75, \"revenuePerTransaction\": 577.9428630363036, \"itemQuantity\": 6211}, {\"date\": \"2022-11-01T00:00:00\", \"transactions\": 1184, \"transactionRevenue\": 697379.25, \"revenuePerTransaction\": 589.0027449324324, \"itemQuantity\": 6125}, {\"date\": \"2022-11-02T00:00:00\", \"transactions\": 1240, \"transactionRevenue\": 727721.25, \"revenuePerTransaction\": 586.8719758064516, \"itemQuantity\": 6647}, {\"date\": \"2022-11-03T00:00:00\", \"transactions\": 1259, \"transactionRevenue\": 760020.7, \"revenuePerTransaction\": 603.6701350277998, \"itemQuantity\": 6633}, {\"date\": \"2022-11-04T00:00:00\", \"transactions\": 1329, \"transactionRevenue\": 831789.45, \"revenuePerTransaction\": 625.8761851015802, \"itemQuantity\": 6991}, {\"date\": \"2022-11-05T00:00:00\", \"transactions\": 893, \"transactionRevenue\": 540581.75, \"revenuePerTransaction\": 605.3547032474804, \"itemQuantity\": 4644}, {\"date\": \"2022-11-06T00:00:00\", \"transactions\": 106, \"transactionRevenue\": 97676.75, \"revenuePerTransaction\": 921.4787735849056, \"itemQuantity\": 888}, {\"date\": \"2022-11-07T00:00:00\", \"transactions\": 1249, \"transactionRevenue\": 746052.55, \"revenuePerTransaction\": 597.3198959167333, \"itemQuantity\": 6636}, {\"date\": \"2022-11-08T00:00:00\", \"transactions\": 1208, \"transactionRevenue\": 700345.75, \"revenuePerTransaction\": 579.7564155629138, \"itemQuantity\": 6477}, {\"date\": \"2022-11-09T00:00:00\", \"transactions\": 1101, \"transactionRevenue\": 646783.8, \"revenuePerTransaction\": 587.4512261580381, \"itemQuantity\": 5633}, {\"date\": \"2022-11-10T00:00:00\", \"transactions\": 1216, \"transactionRevenue\": 715546.52, \"revenuePerTransaction\": 588.4428618421052, \"itemQuantity\": 6628}, {\"date\": \"2022-11-11T00:00:00\", \"transactions\": 1210, \"transactionRevenue\": 692712.17, \"revenuePerTransaction\": 572.4893966942149, \"itemQuantity\": 6460}, {\"date\": \"2022-11-12T00:00:00\", \"transactions\": 838, \"transactionRevenue\": 510896.4, \"revenuePerTransaction\": 609.6615751789976, \"itemQuantity\": 4541}, {\"date\": \"2022-11-13T00:00:00\", \"transactions\": 99, \"transactionRevenue\": 73600.47, \"revenuePerTransaction\": 743.4390909090909, \"itemQuantity\": 718}, {\"date\": \"2022-11-14T00:00:00\", \"transactions\": 1245, \"transactionRevenue\": 729126.95, \"revenuePerTransaction\": 585.6441365461848, \"itemQuantity\": 6754}, {\"date\": \"2022-11-15T00:00:00\", \"transactions\": 1119, \"transactionRevenue\": 633272.59, \"revenuePerTransaction\": 565.9272475424486, \"itemQuantity\": 5812}, {\"date\": \"2022-11-16T00:00:00\", \"transactions\": 1169, \"transactionRevenue\": 622036.56, \"revenuePerTransaction\": 532.1099743370402, \"itemQuantity\": 5618}, {\"date\": \"2022-11-17T00:00:00\", \"transactions\": 1022, \"transactionRevenue\": 577864.62, \"revenuePerTransaction\": 565.4252641878669, \"itemQuantity\": 5187}, {\"date\": \"2022-11-18T00:00:00\", \"transactions\": 1096, \"transactionRevenue\": 586776.95, \"revenuePerTransaction\": 535.3804288321168, \"itemQuantity\": 5249}, {\"date\": \"2022-11-19T00:00:00\", \"transactions\": 705, \"transactionRevenue\": 424162.31, \"revenuePerTransaction\": 601.6486666666666, \"itemQuantity\": 3821}, {\"date\": \"2022-11-20T00:00:00\", \"transactions\": 82, \"transactionRevenue\": 62012.81, \"revenuePerTransaction\": 756.2537804878049, \"itemQuantity\": 577}, {\"date\": \"2022-11-21T00:00:00\", \"transactions\": 982, \"transactionRevenue\": 558702.94, \"revenuePerTransaction\": 568.9439307535641, \"itemQuantity\": 5151}, {\"date\": \"2022-11-22T00:00:00\", \"transactions\": 955, \"transactionRevenue\": 566137.95, \"revenuePerTransaction\": 592.8146073298429, \"itemQuantity\": 5368}, {\"date\": \"2022-11-23T00:00:00\", \"transactions\": 974, \"transactionRevenue\": 543724.94, \"revenuePerTransaction\": 558.239158110883, \"itemQuantity\": 5108}, {\"date\": \"2022-11-24T00:00:00\", \"transactions\": 1017, \"transactionRevenue\": 632351.4, \"revenuePerTransaction\": 621.7811209439528, \"itemQuantity\": 5630}, {\"date\": \"2022-11-25T00:00:00\", \"transactions\": 1013, \"transactionRevenue\": 613374.38, \"revenuePerTransaction\": 605.5028430404739, \"itemQuantity\": 5472}, {\"date\": \"2022-11-26T00:00:00\", \"transactions\": 621, \"transactionRevenue\": 384759.78, \"revenuePerTransaction\": 619.5809661835749, \"itemQuantity\": 3213}, {\"date\": \"2022-11-27T00:00:00\", \"transactions\": 70, \"transactionRevenue\": 46424.15, \"revenuePerTransaction\": 663.2021428571428, \"itemQuantity\": 438}, {\"date\": \"2022-11-28T00:00:00\", \"transactions\": 1019, \"transactionRevenue\": 632977.96, \"revenuePerTransaction\": 621.1756231599608, \"itemQuantity\": 5784}, {\"date\": \"2022-11-29T00:00:00\", \"transactions\": 917, \"transactionRevenue\": 640211.12, \"revenuePerTransaction\": 698.1582551799346, \"itemQuantity\": 5628}, {\"date\": \"2022-11-30T00:00:00\", \"transactions\": 897, \"transactionRevenue\": 561329.79, \"revenuePerTransaction\": 625.7857190635451, \"itemQuantity\": 5004}, {\"date\": \"2022-12-01T00:00:00\", \"transactions\": 980, \"transactionRevenue\": 649283.82, \"revenuePerTransaction\": 662.5345102040817, \"itemQuantity\": 5759}, {\"date\": \"2022-12-02T00:00:00\", \"transactions\": 1013, \"transactionRevenue\": 640648.46, \"revenuePerTransaction\": 632.4269101678183, \"itemQuantity\": 5557}, {\"date\": \"2022-12-03T00:00:00\", \"transactions\": 720, \"transactionRevenue\": 489926.41, \"revenuePerTransaction\": 680.4533472222222, \"itemQuantity\": 4216}, {\"date\": \"2022-12-04T00:00:00\", \"transactions\": 72, \"transactionRevenue\": 65242.48, \"revenuePerTransaction\": 906.1455555555556, \"itemQuantity\": 493}, {\"date\": \"2022-12-05T00:00:00\", \"transactions\": 993, \"transactionRevenue\": 638019.02, \"revenuePerTransaction\": 642.5166364551862, \"itemQuantity\": 5688}, {\"date\": \"2022-12-06T00:00:00\", \"transactions\": 994, \"transactionRevenue\": 666884.13, \"revenuePerTransaction\": 670.9095875251509, \"itemQuantity\": 6003}, {\"date\": \"2022-12-07T00:00:00\", \"transactions\": 1008, \"transactionRevenue\": 626707.56, \"revenuePerTransaction\": 621.7336904761904, \"itemQuantity\": 5810}, {\"date\": \"2022-12-08T00:00:00\", \"transactions\": 1078, \"transactionRevenue\": 654810.91, \"revenuePerTransaction\": 607.4312708719852, \"itemQuantity\": 6089}, {\"date\": \"2022-12-09T00:00:00\", \"transactions\": 955, \"transactionRevenue\": 593274.74, \"revenuePerTransaction\": 621.2300942408377, \"itemQuantity\": 5215}, {\"date\": \"2022-12-10T00:00:00\", \"transactions\": 738, \"transactionRevenue\": 480434.75, \"revenuePerTransaction\": 650.9955962059621, \"itemQuantity\": 4107}, {\"date\": \"2022-12-11T00:00:00\", \"transactions\": 88, \"transactionRevenue\": 76346.34, \"revenuePerTransaction\": 867.5720454545454, \"itemQuantity\": 722}, {\"date\": \"2022-12-12T00:00:00\", \"transactions\": 953, \"transactionRevenue\": 641897.34, \"revenuePerTransaction\": 673.5543966421826, \"itemQuantity\": 5709}, {\"date\": \"2022-12-13T00:00:00\", \"transactions\": 1004, \"transactionRevenue\": 692083.0, \"revenuePerTransaction\": 689.3256972111554, \"itemQuantity\": 6311}, {\"date\": \"2022-12-14T00:00:00\", \"transactions\": 975, \"transactionRevenue\": 577051.75, \"revenuePerTransaction\": 591.8479487179487, \"itemQuantity\": 5293}, {\"date\": \"2022-12-15T00:00:00\", \"transactions\": 933, \"transactionRevenue\": 686798.5, \"revenuePerTransaction\": 736.1184351554127, \"itemQuantity\": 6004}, {\"date\": \"2022-12-16T00:00:00\", \"transactions\": 901, \"transactionRevenue\": 605755.85, \"revenuePerTransaction\": 672.3150388457269, \"itemQuantity\": 5175}, {\"date\": \"2022-12-17T00:00:00\", \"transactions\": 604, \"transactionRevenue\": 432127.06, \"revenuePerTransaction\": 715.4421523178808, \"itemQuantity\": 3767}, {\"date\": \"2022-12-18T00:00:00\", \"transactions\": 83, \"transactionRevenue\": 71944.7, \"revenuePerTransaction\": 866.8036144578314, \"itemQuantity\": 647}, {\"date\": \"2022-12-19T00:00:00\", \"transactions\": 907, \"transactionRevenue\": 573515.31, \"revenuePerTransaction\": 632.3211797133406, \"itemQuantity\": 5079}, {\"date\": \"2022-12-20T00:00:00\", \"transactions\": 851, \"transactionRevenue\": 590519.96, \"revenuePerTransaction\": 693.9129964747356, \"itemQuantity\": 5106}, {\"date\": \"2022-12-21T00:00:00\", \"transactions\": 971, \"transactionRevenue\": 586724.3, \"revenuePerTransaction\": 604.2474768280124, \"itemQuantity\": 5191}, {\"date\": \"2022-12-22T00:00:00\", \"transactions\": 908, \"transactionRevenue\": 668012.98, \"revenuePerTransaction\": 735.6971145374449, \"itemQuantity\": 5672}, {\"date\": \"2022-12-23T00:00:00\", \"transactions\": 785, \"transactionRevenue\": 523460.71, \"revenuePerTransaction\": 666.8289299363057, \"itemQuantity\": 4346}, {\"date\": \"2022-12-24T00:00:00\", \"transactions\": 375, \"transactionRevenue\": 254343.56, \"revenuePerTransaction\": 678.2494933333334, \"itemQuantity\": 2086}, {\"date\": \"2022-12-25T00:00:00\", \"transactions\": 52, \"transactionRevenue\": 47465.35, \"revenuePerTransaction\": 912.7951923076923, \"itemQuantity\": 433}, {\"date\": \"2022-12-26T00:00:00\", \"transactions\": 779, \"transactionRevenue\": 505287.13, \"revenuePerTransaction\": 648.6355969191271, \"itemQuantity\": 4542}, {\"date\": \"2022-12-27T00:00:00\", \"transactions\": 805, \"transactionRevenue\": 541075.81, \"revenuePerTransaction\": 672.1438633540373, \"itemQuantity\": 4893}, {\"date\": \"2022-12-28T00:00:00\", \"transactions\": 736, \"transactionRevenue\": 468212.32, \"revenuePerTransaction\": 636.1580434782609, \"itemQuantity\": 4137}, {\"date\": \"2022-12-29T00:00:00\", \"transactions\": 859, \"transactionRevenue\": 565185.8, \"revenuePerTransaction\": 657.9578579743888, \"itemQuantity\": 4692}, {\"date\": \"2022-12-30T00:00:00\", \"transactions\": 851, \"transactionRevenue\": 551235.25, \"revenuePerTransaction\": 647.75, \"itemQuantity\": 4501}, {\"date\": \"2022-12-31T00:00:00\", \"transactions\": 376, \"transactionRevenue\": 282188.41, \"revenuePerTransaction\": 750.5010904255319, \"itemQuantity\": 2298}, {\"date\": \"2023-01-01T00:00:00\", \"transactions\": 30, \"transactionRevenue\": 25783.72, \"revenuePerTransaction\": 859.4573333333334, \"itemQuantity\": 249}, {\"date\": \"2023-01-02T00:00:00\", \"transactions\": 898, \"transactionRevenue\": 522867.85, \"revenuePerTransaction\": 582.2581848552339, \"itemQuantity\": 4626}, {\"date\": \"2023-01-03T00:00:00\", \"transactions\": 991, \"transactionRevenue\": 576579.35, \"revenuePerTransaction\": 581.8156912209889, \"itemQuantity\": 5362}, {\"date\": \"2023-01-04T00:00:00\", \"transactions\": 969, \"transactionRevenue\": 533598.74, \"revenuePerTransaction\": 550.6694943240454, \"itemQuantity\": 4816}, {\"date\": \"2023-01-05T00:00:00\", \"transactions\": 898, \"transactionRevenue\": 567996.65, \"revenuePerTransaction\": 632.5129732739421, \"itemQuantity\": 5038}, {\"date\": \"2023-01-06T00:00:00\", \"transactions\": 1017, \"transactionRevenue\": 625875.81, \"revenuePerTransaction\": 615.4137758112095, \"itemQuantity\": 5458}, {\"date\": \"2023-01-07T00:00:00\", \"transactions\": 712, \"transactionRevenue\": 431466.72, \"revenuePerTransaction\": 605.992584269663, \"itemQuantity\": 3650}, {\"date\": \"2023-01-08T00:00:00\", \"transactions\": 79, \"transactionRevenue\": 65211.27, \"revenuePerTransaction\": 825.4591139240507, \"itemQuantity\": 568}, {\"date\": \"2023-01-09T00:00:00\", \"transactions\": 1041, \"transactionRevenue\": 632522.58, \"revenuePerTransaction\": 607.6105475504323, \"itemQuantity\": 5719}, {\"date\": \"2023-01-10T00:00:00\", \"transactions\": 966, \"transactionRevenue\": 598895.96, \"revenuePerTransaction\": 619.9751138716356, \"itemQuantity\": 5455}, {\"date\": \"2023-01-11T00:00:00\", \"transactions\": 949, \"transactionRevenue\": 583040.83, \"revenuePerTransaction\": 614.3738988408852, \"itemQuantity\": 5081}, {\"date\": \"2023-01-12T00:00:00\", \"transactions\": 1055, \"transactionRevenue\": 657289.82, \"revenuePerTransaction\": 623.0235260663507, \"itemQuantity\": 6173}, {\"date\": \"2023-01-13T00:00:00\", \"transactions\": 1031, \"transactionRevenue\": 572157.23, \"revenuePerTransaction\": 554.953666343356, \"itemQuantity\": 5528}, {\"date\": \"2023-01-14T00:00:00\", \"transactions\": 655, \"transactionRevenue\": 407307.92, \"revenuePerTransaction\": 621.8441526717556, \"itemQuantity\": 3729}, {\"date\": \"2023-01-15T00:00:00\", \"transactions\": 95, \"transactionRevenue\": 74654.02, \"revenuePerTransaction\": 785.8317894736842, \"itemQuantity\": 632}, {\"date\": \"2023-01-16T00:00:00\", \"transactions\": 1036, \"transactionRevenue\": 610979.22, \"revenuePerTransaction\": 589.7482818532818, \"itemQuantity\": 5495}, {\"date\": \"2023-01-17T00:00:00\", \"transactions\": 1024, \"transactionRevenue\": 673272.89, \"revenuePerTransaction\": 657.493056640625, \"itemQuantity\": 5839}, {\"date\": \"2023-01-18T00:00:00\", \"transactions\": 935, \"transactionRevenue\": 540020.39, \"revenuePerTransaction\": 577.5619144385026, \"itemQuantity\": 4832}, {\"date\": \"2023-01-19T00:00:00\", \"transactions\": 959, \"transactionRevenue\": 578477.2, \"revenuePerTransaction\": 603.2087591240876, \"itemQuantity\": 5226}, {\"date\": \"2023-01-20T00:00:00\", \"transactions\": 957, \"transactionRevenue\": 545160.44, \"revenuePerTransaction\": 569.6556321839081, \"itemQuantity\": 4868}, {\"date\": \"2023-01-21T00:00:00\", \"transactions\": 726, \"transactionRevenue\": 427697.84, \"revenuePerTransaction\": 589.1154820936639, \"itemQuantity\": 3665}, {\"date\": \"2023-01-22T00:00:00\", \"transactions\": 76, \"transactionRevenue\": 67234.48, \"revenuePerTransaction\": 884.6642105263159, \"itemQuantity\": 604}, {\"date\": \"2023-01-23T00:00:00\", \"transactions\": 986, \"transactionRevenue\": 566401.82, \"revenuePerTransaction\": 574.4440365111562, \"itemQuantity\": 5178}, {\"date\": \"2023-01-24T00:00:00\", \"transactions\": 1017, \"transactionRevenue\": 631791.94, \"revenuePerTransaction\": 621.2310127826942, \"itemQuantity\": 5553}, {\"date\": \"2023-01-25T00:00:00\", \"transactions\": 1001, \"transactionRevenue\": 540422.3, \"revenuePerTransaction\": 539.8824175824176, \"itemQuantity\": 4917}, {\"date\": \"2023-01-26T00:00:00\", \"transactions\": 968, \"transactionRevenue\": 557299.4, \"revenuePerTransaction\": 575.722520661157, \"itemQuantity\": 4894}, {\"date\": \"2023-01-27T00:00:00\", \"transactions\": 902, \"transactionRevenue\": 518632.51, \"revenuePerTransaction\": 574.9806097560976, \"itemQuantity\": 4633}, {\"date\": \"2023-01-28T00:00:00\", \"transactions\": 709, \"transactionRevenue\": 430423.34, \"revenuePerTransaction\": 607.0851057827927, \"itemQuantity\": 3685}, {\"date\": \"2023-01-29T00:00:00\", \"transactions\": 77, \"transactionRevenue\": 56042.5, \"revenuePerTransaction\": 727.8246753246754, \"itemQuantity\": 521}, {\"date\": \"2023-01-30T00:00:00\", \"transactions\": 938, \"transactionRevenue\": 585117.25, \"revenuePerTransaction\": 623.7923773987208, \"itemQuantity\": 5147}, {\"date\": \"2023-01-31T00:00:00\", \"transactions\": 989, \"transactionRevenue\": 611507.52, \"revenuePerTransaction\": 618.30891809909, \"itemQuantity\": 5558}, {\"date\": \"2023-02-01T00:00:00\", \"transactions\": 929, \"transactionRevenue\": 514303.72, \"revenuePerTransaction\": 553.6100322927879, \"itemQuantity\": 4650}, {\"date\": \"2023-02-02T00:00:00\", \"transactions\": 991, \"transactionRevenue\": 639108.72, \"revenuePerTransaction\": 644.9129364278506, \"itemQuantity\": 5540}, {\"date\": \"2023-02-03T00:00:00\", \"transactions\": 934, \"transactionRevenue\": 518847.41, \"revenuePerTransaction\": 555.5111456102784, \"itemQuantity\": 4722}, {\"date\": \"2023-02-04T00:00:00\", \"transactions\": 643, \"transactionRevenue\": 404482.83, \"revenuePerTransaction\": 629.0557231726283, \"itemQuantity\": 3503}, {\"date\": \"2023-02-05T00:00:00\", \"transactions\": 99, \"transactionRevenue\": 82109.48, \"revenuePerTransaction\": 829.3886868686869, \"itemQuantity\": 712}, {\"date\": \"2023-02-06T00:00:00\", \"transactions\": 956, \"transactionRevenue\": 605610.25, \"revenuePerTransaction\": 633.4835251046024, \"itemQuantity\": 5338}, {\"date\": \"2023-02-07T00:00:00\", \"transactions\": 918, \"transactionRevenue\": 582259.75, \"revenuePerTransaction\": 634.269880174292, \"itemQuantity\": 5180}, {\"date\": \"2023-02-08T00:00:00\", \"transactions\": 962, \"transactionRevenue\": 599670.38, \"revenuePerTransaction\": 623.3579833679834, \"itemQuantity\": 5171}, {\"date\": \"2023-02-09T00:00:00\", \"transactions\": 933, \"transactionRevenue\": 583186.68, \"revenuePerTransaction\": 625.0661093247589, \"itemQuantity\": 5019}, {\"date\": \"2023-02-10T00:00:00\", \"transactions\": 1101, \"transactionRevenue\": 570731.22, \"revenuePerTransaction\": 518.3753133514987, \"itemQuantity\": 5516}, {\"date\": \"2023-02-11T00:00:00\", \"transactions\": 734, \"transactionRevenue\": 403664.2, \"revenuePerTransaction\": 549.9512261580381, \"itemQuantity\": 3864}, {\"date\": \"2023-02-12T00:00:00\", \"transactions\": 68, \"transactionRevenue\": 58051.24, \"revenuePerTransaction\": 853.694705882353, \"itemQuantity\": 519}, {\"date\": \"2023-02-13T00:00:00\", \"transactions\": 923, \"transactionRevenue\": 516987.56, \"revenuePerTransaction\": 560.1165330444204, \"itemQuantity\": 4803}, {\"date\": \"2023-02-14T00:00:00\", \"transactions\": 931, \"transactionRevenue\": 541245.61, \"revenuePerTransaction\": 581.3594092373792, \"itemQuantity\": 4853}, {\"date\": \"2023-02-15T00:00:00\", \"transactions\": 1032, \"transactionRevenue\": 606550.74, \"revenuePerTransaction\": 587.7429651162792, \"itemQuantity\": 5585}, {\"date\": \"2023-02-16T00:00:00\", \"transactions\": 988, \"transactionRevenue\": 641823.84, \"revenuePerTransaction\": 649.6192712550607, \"itemQuantity\": 5633}, {\"date\": \"2023-02-17T00:00:00\", \"transactions\": 1064, \"transactionRevenue\": 659691.83, \"revenuePerTransaction\": 620.0111184210526, \"itemQuantity\": 5799}, {\"date\": \"2023-02-18T00:00:00\", \"transactions\": 688, \"transactionRevenue\": 468094.58, \"revenuePerTransaction\": 680.3700290697675, \"itemQuantity\": 4012}, {\"date\": \"2023-02-19T00:00:00\", \"transactions\": 83, \"transactionRevenue\": 65525.39, \"revenuePerTransaction\": 789.4625301204819, \"itemQuantity\": 602}, {\"date\": \"2023-02-20T00:00:00\", \"transactions\": 1015, \"transactionRevenue\": 672352.99, \"revenuePerTransaction\": 662.4167389162562, \"itemQuantity\": 5857}, {\"date\": \"2023-02-21T00:00:00\", \"transactions\": 984, \"transactionRevenue\": 633892.98, \"revenuePerTransaction\": 644.2001829268293, \"itemQuantity\": 5738}, {\"date\": \"2023-02-22T00:00:00\", \"transactions\": 1172, \"transactionRevenue\": 677013.17, \"revenuePerTransaction\": 577.6562883959044, \"itemQuantity\": 5944}, {\"date\": \"2023-02-23T00:00:00\", \"transactions\": 1084, \"transactionRevenue\": 709581.22, \"revenuePerTransaction\": 654.5952214022141, \"itemQuantity\": 6262}, {\"date\": \"2023-02-24T00:00:00\", \"transactions\": 1180, \"transactionRevenue\": 708668.25, \"revenuePerTransaction\": 600.566313559322, \"itemQuantity\": 5905}, {\"date\": \"2023-02-25T00:00:00\", \"transactions\": 865, \"transactionRevenue\": 596774.62, \"revenuePerTransaction\": 689.9128554913294, \"itemQuantity\": 5011}, {\"date\": \"2023-02-26T00:00:00\", \"transactions\": 95, \"transactionRevenue\": 78233.75, \"revenuePerTransaction\": 823.5131578947369, \"itemQuantity\": 746}, {\"date\": \"2023-02-27T00:00:00\", \"transactions\": 1118, \"transactionRevenue\": 766341.69, \"revenuePerTransaction\": 685.4576833631485, \"itemQuantity\": 6775}, {\"date\": \"2023-02-28T00:00:00\", \"transactions\": 1156, \"transactionRevenue\": 824327.1, \"revenuePerTransaction\": 713.0857266435986, \"itemQuantity\": 7260}, {\"date\": \"2023-03-01T00:00:00\", \"transactions\": 1141, \"transactionRevenue\": 746463.26, \"revenuePerTransaction\": 654.2184574934269, \"itemQuantity\": 6764}, {\"date\": \"2023-03-02T00:00:00\", \"transactions\": 1211, \"transactionRevenue\": 845561.48, \"revenuePerTransaction\": 698.2340875309661, \"itemQuantity\": 7308}, {\"date\": \"2023-03-03T00:00:00\", \"transactions\": 1155, \"transactionRevenue\": 757885.07, \"revenuePerTransaction\": 656.1775497835498, \"itemQuantity\": 6654}, {\"date\": \"2023-03-04T00:00:00\", \"transactions\": 898, \"transactionRevenue\": 623188.7, \"revenuePerTransaction\": 693.9740534521158, \"itemQuantity\": 5479}, {\"date\": \"2023-03-05T00:00:00\", \"transactions\": 107, \"transactionRevenue\": 87439.91, \"revenuePerTransaction\": 817.1954205607476, \"itemQuantity\": 753}, {\"date\": \"2023-03-06T00:00:00\", \"transactions\": 1267, \"transactionRevenue\": 912821.21, \"revenuePerTransaction\": 720.458729281768, \"itemQuantity\": 8281}, {\"date\": \"2023-03-07T00:00:00\", \"transactions\": 1208, \"transactionRevenue\": 851848.24, \"revenuePerTransaction\": 705.1723841059603, \"itemQuantity\": 7742}, {\"date\": \"2023-03-08T00:00:00\", \"transactions\": 1166, \"transactionRevenue\": 768606.56, \"revenuePerTransaction\": 659.1822984562607, \"itemQuantity\": 6745}, {\"date\": \"2023-03-09T00:00:00\", \"transactions\": 1255, \"transactionRevenue\": 881252.25, \"revenuePerTransaction\": 702.1930278884462, \"itemQuantity\": 7815}, {\"date\": \"2023-03-10T00:00:00\", \"transactions\": 1315, \"transactionRevenue\": 883194.57, \"revenuePerTransaction\": 671.6308517110267, \"itemQuantity\": 7570}, {\"date\": \"2023-03-11T00:00:00\", \"transactions\": 956, \"transactionRevenue\": 680820.3, \"revenuePerTransaction\": 712.1551255230125, \"itemQuantity\": 5825}, {\"date\": \"2023-03-12T00:00:00\", \"transactions\": 118, \"transactionRevenue\": 90561.43, \"revenuePerTransaction\": 767.4697457627119, \"itemQuantity\": 849}, {\"date\": \"2023-03-13T00:00:00\", \"transactions\": 1299, \"transactionRevenue\": 819241.61, \"revenuePerTransaction\": 630.6709853733641, \"itemQuantity\": 8062}, {\"date\": \"2023-03-14T00:00:00\", \"transactions\": 1640, \"transactionRevenue\": 908855.05, \"revenuePerTransaction\": 554.1799085365853, \"itemQuantity\": 10930}, {\"date\": \"2023-03-15T00:00:00\", \"transactions\": 1507, \"transactionRevenue\": 787422.93, \"revenuePerTransaction\": 522.5102388852024, \"itemQuantity\": 9361}, {\"date\": \"2023-03-16T00:00:00\", \"transactions\": 1489, \"transactionRevenue\": 855668.89, \"revenuePerTransaction\": 574.6601007387508, \"itemQuantity\": 8512}, {\"date\": \"2023-03-17T00:00:00\", \"transactions\": 1453, \"transactionRevenue\": 848417.4, \"revenuePerTransaction\": 583.907364074329, \"itemQuantity\": 8687}, {\"date\": \"2023-03-18T00:00:00\", \"transactions\": 1048, \"transactionRevenue\": 595631.49, \"revenuePerTransaction\": 568.3506583969465, \"itemQuantity\": 6208}, {\"date\": \"2023-03-19T00:00:00\", \"transactions\": 106, \"transactionRevenue\": 86835.51, \"revenuePerTransaction\": 819.2029245283019, \"itemQuantity\": 775}, {\"date\": \"2023-03-20T00:00:00\", \"transactions\": 1273, \"transactionRevenue\": 744632.24, \"revenuePerTransaction\": 584.9428436763551, \"itemQuantity\": 7456}, {\"date\": \"2023-03-21T00:00:00\", \"transactions\": 1385, \"transactionRevenue\": 821524.19, \"revenuePerTransaction\": 593.1582599277978, \"itemQuantity\": 8059}, {\"date\": \"2023-03-22T00:00:00\", \"transactions\": 1401, \"transactionRevenue\": 824454.9, \"revenuePerTransaction\": 588.4760171306209, \"itemQuantity\": 7849}, {\"date\": \"2023-03-23T00:00:00\", \"transactions\": 1492, \"transactionRevenue\": 956517.57, \"revenuePerTransaction\": 641.0975670241287, \"itemQuantity\": 8691}, {\"date\": \"2023-03-24T00:00:00\", \"transactions\": 1467, \"transactionRevenue\": 961505.68, \"revenuePerTransaction\": 655.4230947511929, \"itemQuantity\": 8599}, {\"date\": \"2023-03-25T00:00:00\", \"transactions\": 1135, \"transactionRevenue\": 732437.61, \"revenuePerTransaction\": 645.3194801762115, \"itemQuantity\": 7093}, {\"date\": \"2023-03-26T00:00:00\", \"transactions\": 114, \"transactionRevenue\": 100570.29, \"revenuePerTransaction\": 882.1955263157895, \"itemQuantity\": 906}, {\"date\": \"2023-03-27T00:00:00\", \"transactions\": 1427, \"transactionRevenue\": 980389.74, \"revenuePerTransaction\": 687.0285494043447, \"itemQuantity\": 9482}, {\"date\": \"2023-03-28T00:00:00\", \"transactions\": 1427, \"transactionRevenue\": 910469.91, \"revenuePerTransaction\": 638.0307708479327, \"itemQuantity\": 8374}, {\"date\": \"2023-03-29T00:00:00\", \"transactions\": 1324, \"transactionRevenue\": 820516.29, \"revenuePerTransaction\": 619.7252945619335, \"itemQuantity\": 7998}, {\"date\": \"2023-03-30T00:00:00\", \"transactions\": 1180, \"transactionRevenue\": 776710.44, \"revenuePerTransaction\": 658.229186440678, \"itemQuantity\": 6505}, {\"date\": \"2023-03-31T00:00:00\", \"transactions\": 1177, \"transactionRevenue\": 823552.44, \"revenuePerTransaction\": 699.7047068819031, \"itemQuantity\": 6922}, {\"date\": \"2023-04-01T00:00:00\", \"transactions\": 1004, \"transactionRevenue\": 768298.18, \"revenuePerTransaction\": 765.2372310756972, \"itemQuantity\": 6452}, {\"date\": \"2023-04-02T00:00:00\", \"transactions\": 141, \"transactionRevenue\": 138447.12, \"revenuePerTransaction\": 981.8944680851064, \"itemQuantity\": 1205}, {\"date\": \"2023-04-03T00:00:00\", \"transactions\": 1370, \"transactionRevenue\": 1048994.75, \"revenuePerTransaction\": 765.689598540146, \"itemQuantity\": 9197}, {\"date\": \"2023-04-04T00:00:00\", \"transactions\": 1390, \"transactionRevenue\": 1082842.88, \"revenuePerTransaction\": 779.0236546762591, \"itemQuantity\": 9366}, {\"date\": \"2023-04-05T00:00:00\", \"transactions\": 1268, \"transactionRevenue\": 917930.24, \"revenuePerTransaction\": 723.9197476340695, \"itemQuantity\": 7877}, {\"date\": \"2023-04-06T00:00:00\", \"transactions\": 1153, \"transactionRevenue\": 852021.22, \"revenuePerTransaction\": 738.9602948829142, \"itemQuantity\": 7211}, {\"date\": \"2023-04-07T00:00:00\", \"transactions\": 974, \"transactionRevenue\": 717685.89, \"revenuePerTransaction\": 736.8438295687886, \"itemQuantity\": 5910}, {\"date\": \"2023-04-08T00:00:00\", \"transactions\": 1017, \"transactionRevenue\": 754196.61, \"revenuePerTransaction\": 741.589587020649, \"itemQuantity\": 6371}, {\"date\": \"2023-04-09T00:00:00\", \"transactions\": 132, \"transactionRevenue\": 116828.31, \"revenuePerTransaction\": 885.0629545454545, \"itemQuantity\": 977}, {\"date\": \"2023-04-10T00:00:00\", \"transactions\": 1480, \"transactionRevenue\": 966484.59, \"revenuePerTransaction\": 653.0301283783784, \"itemQuantity\": 9342}, {\"date\": \"2023-04-11T00:00:00\", \"transactions\": 1697, \"transactionRevenue\": 984832.64, \"revenuePerTransaction\": 580.3374425456689, \"itemQuantity\": 11870}, {\"date\": \"2023-04-12T00:00:00\", \"transactions\": 1639, \"transactionRevenue\": 930689.02, \"revenuePerTransaction\": 567.839548505186, \"itemQuantity\": 10533}, {\"date\": \"2023-04-13T00:00:00\", \"transactions\": 1630, \"transactionRevenue\": 968580.74, \"revenuePerTransaction\": 594.2213128834356, \"itemQuantity\": 10138}, {\"date\": \"2023-04-14T00:00:00\", \"transactions\": 1550, \"transactionRevenue\": 932382.73, \"revenuePerTransaction\": 601.5372451612903, \"itemQuantity\": 9045}, {\"date\": \"2023-04-15T00:00:00\", \"transactions\": 1173, \"transactionRevenue\": 795145.34, \"revenuePerTransaction\": 677.8732651321397, \"itemQuantity\": 7516}, {\"date\": \"2023-04-16T00:00:00\", \"transactions\": 130, \"transactionRevenue\": 127044.82, \"revenuePerTransaction\": 977.2678461538461, \"itemQuantity\": 1069}, {\"date\": \"2023-04-17T00:00:00\", \"transactions\": 1555, \"transactionRevenue\": 1023866.52, \"revenuePerTransaction\": 658.4350610932476, \"itemQuantity\": 9506}, {\"date\": \"2023-04-18T00:00:00\", \"transactions\": 1594, \"transactionRevenue\": 1050186.13, \"revenuePerTransaction\": 658.8369698870765, \"itemQuantity\": 9855}, {\"date\": \"2023-04-19T00:00:00\", \"transactions\": 1519, \"transactionRevenue\": 946083.9, \"revenuePerTransaction\": 622.8333772218565, \"itemQuantity\": 8846}, {\"date\": \"2023-04-20T00:00:00\", \"transactions\": 1603, \"transactionRevenue\": 1049058.81, \"revenuePerTransaction\": 654.4346912039925, \"itemQuantity\": 9609}, {\"date\": \"2023-04-21T00:00:00\", \"transactions\": 1634, \"transactionRevenue\": 1033863.69, \"revenuePerTransaction\": 632.7195165238678, \"itemQuantity\": 9850}, {\"date\": \"2023-04-22T00:00:00\", \"transactions\": 1190, \"transactionRevenue\": 742316.49, \"revenuePerTransaction\": 623.7953697478991, \"itemQuantity\": 6829}, {\"date\": \"2023-04-23T00:00:00\", \"transactions\": 148, \"transactionRevenue\": 135381.77, \"revenuePerTransaction\": 914.7416891891892, \"itemQuantity\": 1213}, {\"date\": \"2023-04-24T00:00:00\", \"transactions\": 1554, \"transactionRevenue\": 1025580.13, \"revenuePerTransaction\": 659.9614736164737, \"itemQuantity\": 9211}, {\"date\": \"2023-04-25T00:00:00\", \"transactions\": 1627, \"transactionRevenue\": 1000864.7, \"revenuePerTransaction\": 615.159618930547, \"itemQuantity\": 9340}, {\"date\": \"2023-04-26T00:00:00\", \"transactions\": 1516, \"transactionRevenue\": 944031.82, \"revenuePerTransaction\": 622.7122823218998, \"itemQuantity\": 8782}, {\"date\": \"2023-04-27T00:00:00\", \"transactions\": 1412, \"transactionRevenue\": 1001641.1, \"revenuePerTransaction\": 709.3775495750708, \"itemQuantity\": 8973}, {\"date\": \"2023-04-28T00:00:00\", \"transactions\": 1431, \"transactionRevenue\": 1009293.26, \"revenuePerTransaction\": 705.3062613556954, \"itemQuantity\": 8596}, {\"date\": \"2023-04-29T00:00:00\", \"transactions\": 890, \"transactionRevenue\": 728195.35, \"revenuePerTransaction\": 818.1970224719101, \"itemQuantity\": 6058}, {\"date\": \"2023-04-30T00:00:00\", \"transactions\": 139, \"transactionRevenue\": 120960.19, \"revenuePerTransaction\": 870.2171942446043, \"itemQuantity\": 1088}, {\"date\": \"2023-05-01T00:00:00\", \"transactions\": 1508, \"transactionRevenue\": 1204416.85, \"revenuePerTransaction\": 798.6849137931034, \"itemQuantity\": 10354}, {\"date\": \"2023-05-02T00:00:00\", \"transactions\": 1625, \"transactionRevenue\": 1185980.39, \"revenuePerTransaction\": 729.8340861538461, \"itemQuantity\": 10423}, {\"date\": \"2023-05-03T00:00:00\", \"transactions\": 1492, \"transactionRevenue\": 1039356.14, \"revenuePerTransaction\": 696.6193967828418, \"itemQuantity\": 9215}, {\"date\": \"2023-05-04T00:00:00\", \"transactions\": 1587, \"transactionRevenue\": 1174927.44, \"revenuePerTransaction\": 740.3449527410208, \"itemQuantity\": 10028}, {\"date\": \"2023-05-05T00:00:00\", \"transactions\": 1593, \"transactionRevenue\": 1103989.37, \"revenuePerTransaction\": 693.0253421217827, \"itemQuantity\": 9375}, {\"date\": \"2023-05-06T00:00:00\", \"transactions\": 1226, \"transactionRevenue\": 901817.9, \"revenuePerTransaction\": 735.5774061990212, \"itemQuantity\": 7734}, {\"date\": \"2023-05-07T00:00:00\", \"transactions\": 172, \"transactionRevenue\": 157241.94, \"revenuePerTransaction\": 914.1973255813954, \"itemQuantity\": 1360}, {\"date\": \"2023-05-08T00:00:00\", \"transactions\": 1810, \"transactionRevenue\": 1400772.48, \"revenuePerTransaction\": 773.9074475138121, \"itemQuantity\": 12131}, {\"date\": \"2023-05-09T00:00:00\", \"transactions\": 1635, \"transactionRevenue\": 1240754.43, \"revenuePerTransaction\": 758.8712110091743, \"itemQuantity\": 10828}, {\"date\": \"2023-05-10T00:00:00\", \"transactions\": 1590, \"transactionRevenue\": 1095812.27, \"revenuePerTransaction\": 689.190106918239, \"itemQuantity\": 11361}, {\"date\": \"2023-05-11T00:00:00\", \"transactions\": 1959, \"transactionRevenue\": 1457335.04, \"revenuePerTransaction\": 743.9178356304236, \"itemQuantity\": 13613}, {\"date\": \"2023-05-12T00:00:00\", \"transactions\": 2141, \"transactionRevenue\": 1348907.17, \"revenuePerTransaction\": 630.0360439047174, \"itemQuantity\": 14470}, {\"date\": \"2023-05-13T00:00:00\", \"transactions\": 1519, \"transactionRevenue\": 976089.22, \"revenuePerTransaction\": 642.5867149440421, \"itemQuantity\": 10312}, {\"date\": \"2023-05-14T00:00:00\", \"transactions\": 198, \"transactionRevenue\": 180655.28, \"revenuePerTransaction\": 912.400404040404, \"itemQuantity\": 1574}, {\"date\": \"2023-05-15T00:00:00\", \"transactions\": 1975, \"transactionRevenue\": 1380166.78, \"revenuePerTransaction\": 698.8186227848101, \"itemQuantity\": 13647}, {\"date\": \"2023-05-16T00:00:00\", \"transactions\": 1991, \"transactionRevenue\": 1353119.07, \"revenuePerTransaction\": 679.6178151682572, \"itemQuantity\": 13112}, {\"date\": \"2023-05-17T00:00:00\", \"transactions\": 1848, \"transactionRevenue\": 1225721.95, \"revenuePerTransaction\": 663.2694534632034, \"itemQuantity\": 12088}, {\"date\": \"2023-05-18T00:00:00\", \"transactions\": 1984, \"transactionRevenue\": 1333707.15, \"revenuePerTransaction\": 672.2314264112903, \"itemQuantity\": 12300}, {\"date\": \"2023-05-19T00:00:00\", \"transactions\": 1895, \"transactionRevenue\": 1222978.45, \"revenuePerTransaction\": 645.3712137203166, \"itemQuantity\": 12040}, {\"date\": \"2023-05-20T00:00:00\", \"transactions\": 1377, \"transactionRevenue\": 907405.18, \"revenuePerTransaction\": 658.9725344952795, \"itemQuantity\": 8295}, {\"date\": \"2023-05-21T00:00:00\", \"transactions\": 141, \"transactionRevenue\": 120676.5, \"revenuePerTransaction\": 855.8617021276596, \"itemQuantity\": 1020}, {\"date\": \"2023-05-22T00:00:00\", \"transactions\": 1825, \"transactionRevenue\": 1253667.7, \"revenuePerTransaction\": 686.941205479452, \"itemQuantity\": 11731}, {\"date\": \"2023-05-23T00:00:00\", \"transactions\": 1884, \"transactionRevenue\": 1319864.45, \"revenuePerTransaction\": 700.5649946921444, \"itemQuantity\": 12089}, {\"date\": \"2023-05-24T00:00:00\", \"transactions\": 1748, \"transactionRevenue\": 1161939.36, \"revenuePerTransaction\": 664.7250343249428, \"itemQuantity\": 10926}, {\"date\": \"2023-05-25T00:00:00\", \"transactions\": 1716, \"transactionRevenue\": 1239866.34, \"revenuePerTransaction\": 722.5328321678321, \"itemQuantity\": 10956}, {\"date\": \"2023-05-26T00:00:00\", \"transactions\": 1717, \"transactionRevenue\": 1228563.72, \"revenuePerTransaction\": 715.5292486895748, \"itemQuantity\": 10864}, {\"date\": \"2023-05-27T00:00:00\", \"transactions\": 1333, \"transactionRevenue\": 1132129.31, \"revenuePerTransaction\": 849.3093098274568, \"itemQuantity\": 9388}, {\"date\": \"2023-05-28T00:00:00\", \"transactions\": 157, \"transactionRevenue\": 139812.74, \"revenuePerTransaction\": 890.5270063694268, \"itemQuantity\": 1130}, {\"date\": \"2023-05-29T00:00:00\", \"transactions\": 1739, \"transactionRevenue\": 1328159.11, \"revenuePerTransaction\": 763.7487694077056, \"itemQuantity\": 11763}, {\"date\": \"2023-05-30T00:00:00\", \"transactions\": 1614, \"transactionRevenue\": 1271173.63, \"revenuePerTransaction\": 787.5920879801735, \"itemQuantity\": 10726}, {\"date\": \"2023-05-31T00:00:00\", \"transactions\": 1556, \"transactionRevenue\": 1136719.48, \"revenuePerTransaction\": 730.5395115681233, \"itemQuantity\": 9998}, {\"date\": \"2023-06-01T00:00:00\", \"transactions\": 1769, \"transactionRevenue\": 1386625.51, \"revenuePerTransaction\": 783.8470944036178, \"itemQuantity\": 11538}, {\"date\": \"2023-06-02T00:00:00\", \"transactions\": 1708, \"transactionRevenue\": 1306172.94, \"revenuePerTransaction\": 764.7382552693208, \"itemQuantity\": 11034}, {\"date\": \"2023-06-03T00:00:00\", \"transactions\": 1340, \"transactionRevenue\": 1036748.84, \"revenuePerTransaction\": 773.6931641791044, \"itemQuantity\": 8582}, {\"date\": \"2023-06-04T00:00:00\", \"transactions\": 187, \"transactionRevenue\": 192084.18, \"revenuePerTransaction\": 1027.188128342246, \"itemQuantity\": 1643}, {\"date\": \"2023-06-05T00:00:00\", \"transactions\": 1899, \"transactionRevenue\": 1555184.87, \"revenuePerTransaction\": 818.9493786203266, \"itemQuantity\": 13564}, {\"date\": \"2023-06-06T00:00:00\", \"transactions\": 1924, \"transactionRevenue\": 1597920.76, \"revenuePerTransaction\": 830.5201455301456, \"itemQuantity\": 13746}, {\"date\": \"2023-06-07T00:00:00\", \"transactions\": 1906, \"transactionRevenue\": 1408009.08, \"revenuePerTransaction\": 738.7245960125919, \"itemQuantity\": 12254}, {\"date\": \"2023-06-08T00:00:00\", \"transactions\": 1940, \"transactionRevenue\": 1558098.81, \"revenuePerTransaction\": 803.1437164948454, \"itemQuantity\": 13216}, {\"date\": \"2023-06-09T00:00:00\", \"transactions\": 2053, \"transactionRevenue\": 1561961.13, \"revenuePerTransaction\": 760.8188650754993, \"itemQuantity\": 13657}, {\"date\": \"2023-06-10T00:00:00\", \"transactions\": 1605, \"transactionRevenue\": 1169812.44, \"revenuePerTransaction\": 728.8551028037383, \"itemQuantity\": 10513}, {\"date\": \"2023-06-11T00:00:00\", \"transactions\": 239, \"transactionRevenue\": 225220.56, \"revenuePerTransaction\": 942.3454393305439, \"itemQuantity\": 2097}, {\"date\": \"2023-06-12T00:00:00\", \"transactions\": 2728, \"transactionRevenue\": 2102941.05, \"revenuePerTransaction\": 770.8728189149559, \"itemQuantity\": 20146}, {\"date\": \"2023-06-13T00:00:00\", \"transactions\": 2556, \"transactionRevenue\": 1978755.35, \"revenuePerTransaction\": 774.1609350547731, \"itemQuantity\": 19268}, {\"date\": \"2023-06-14T00:00:00\", \"transactions\": 511, \"transactionRevenue\": 387550.13, \"revenuePerTransaction\": 758.4151272015655, \"itemQuantity\": 4023}, {\"date\": \"2023-06-15T00:00:00\", \"transactions\": 530, \"transactionRevenue\": 504006.12, \"revenuePerTransaction\": 950.9549433962264, \"itemQuantity\": 5138}, {\"date\": \"2023-06-16T00:00:00\", \"transactions\": 3050, \"transactionRevenue\": 2823179.53, \"revenuePerTransaction\": 925.6326327868852, \"itemQuantity\": 29173}, {\"date\": \"2023-06-17T00:00:00\", \"transactions\": 2111, \"transactionRevenue\": 1718604.28, \"revenuePerTransaction\": 814.1185599242065, \"itemQuantity\": 19632}, {\"date\": \"2023-06-18T00:00:00\", \"transactions\": 241, \"transactionRevenue\": 253699.42, \"revenuePerTransaction\": 1052.6946887966803, \"itemQuantity\": 2441}, {\"date\": \"2023-06-19T00:00:00\", \"transactions\": 2767, \"transactionRevenue\": 2663009.15, \"revenuePerTransaction\": 962.4174737983376, \"itemQuantity\": 26399}, {\"date\": \"2023-06-20T00:00:00\", \"transactions\": 2667, \"transactionRevenue\": 2865358.29, \"revenuePerTransaction\": 1074.3750618672666, \"itemQuantity\": 27137}, {\"date\": \"2023-06-21T00:00:00\", \"transactions\": 2869, \"transactionRevenue\": 2936423.86, \"revenuePerTransaction\": 1023.500822586267, \"itemQuantity\": 27877}, {\"date\": \"2023-06-22T00:00:00\", \"transactions\": 2842, \"transactionRevenue\": 2723708.73, \"revenuePerTransaction\": 958.3774560168896, \"itemQuantity\": 26212}, {\"date\": \"2023-06-23T00:00:00\", \"transactions\": 2955, \"transactionRevenue\": 2950176.28, \"revenuePerTransaction\": 998.3676074450085, \"itemQuantity\": 27016}, {\"date\": \"2023-06-24T00:00:00\", \"transactions\": 2264, \"transactionRevenue\": 2121725.11, \"revenuePerTransaction\": 937.1577340989398, \"itemQuantity\": 20309}, {\"date\": \"2023-06-25T00:00:00\", \"transactions\": 316, \"transactionRevenue\": 377976.41, \"revenuePerTransaction\": 1196.1278797468356, \"itemQuantity\": 3426}, {\"date\": \"2023-06-26T00:00:00\", \"transactions\": 2860, \"transactionRevenue\": 2988591.61, \"revenuePerTransaction\": 1044.9621013986014, \"itemQuantity\": 27320}, {\"date\": \"2023-06-27T00:00:00\", \"transactions\": 2917, \"transactionRevenue\": 3050460.88, \"revenuePerTransaction\": 1045.7527871100447, \"itemQuantity\": 27729}, {\"date\": \"2023-06-28T00:00:00\", \"transactions\": 2687, \"transactionRevenue\": 2902757.38, \"revenuePerTransaction\": 1080.2967547450687, \"itemQuantity\": 26087}, {\"date\": \"2023-06-29T00:00:00\", \"transactions\": 2441, \"transactionRevenue\": 2463338.86, \"revenuePerTransaction\": 1009.1515198689061, \"itemQuantity\": 21820}, {\"date\": \"2023-06-30T00:00:00\", \"transactions\": 2384, \"transactionRevenue\": 2493864.46, \"revenuePerTransaction\": 1046.0840855704698, \"itemQuantity\": 21511}, {\"date\": \"2023-07-01T00:00:00\", \"transactions\": 1874, \"transactionRevenue\": 1828592.58, \"revenuePerTransaction\": 975.7697865528282, \"itemQuantity\": 15737}, {\"date\": \"2023-07-02T00:00:00\", \"transactions\": 250, \"transactionRevenue\": 276750.24, \"revenuePerTransaction\": 1107.00096, \"itemQuantity\": 2349}, {\"date\": \"2023-07-03T00:00:00\", \"transactions\": 2644, \"transactionRevenue\": 2625933.1, \"revenuePerTransaction\": 993.166830559758, \"itemQuantity\": 22389}, {\"date\": \"2023-07-04T00:00:00\", \"transactions\": 2500, \"transactionRevenue\": 2284137.18, \"revenuePerTransaction\": 913.654872, \"itemQuantity\": 19619}, {\"date\": \"2023-07-05T00:00:00\", \"transactions\": 2486, \"transactionRevenue\": 2304102.41, \"revenuePerTransaction\": 926.8312188254224, \"itemQuantity\": 19494}, {\"date\": \"2023-07-06T00:00:00\", \"transactions\": 2430, \"transactionRevenue\": 2258896.84, \"revenuePerTransaction\": 929.5871769547325, \"itemQuantity\": 18819}, {\"date\": \"2023-07-07T00:00:00\", \"transactions\": 2434, \"transactionRevenue\": 2205795.51, \"revenuePerTransaction\": 906.2430197206245, \"itemQuantity\": 18409}, {\"date\": \"2023-07-08T00:00:00\", \"transactions\": 1896, \"transactionRevenue\": 1683064.86, \"revenuePerTransaction\": 887.6924367088608, \"itemQuantity\": 13751}, {\"date\": \"2023-07-09T00:00:00\", \"transactions\": 224, \"transactionRevenue\": 231779.01, \"revenuePerTransaction\": 1034.7277232142858, \"itemQuantity\": 1844}, {\"date\": \"2023-07-10T00:00:00\", \"transactions\": 2577, \"transactionRevenue\": 2437216.27, \"revenuePerTransaction\": 945.7571866511447, \"itemQuantity\": 19998}, {\"date\": \"2023-07-11T00:00:00\", \"transactions\": 2506, \"transactionRevenue\": 2126469.34, \"revenuePerTransaction\": 848.5512130885874, \"itemQuantity\": 17865}, {\"date\": \"2023-07-12T00:00:00\", \"transactions\": 2602, \"transactionRevenue\": 2017469.87, \"revenuePerTransaction\": 775.3535242121445, \"itemQuantity\": 17049}, {\"date\": \"2023-07-13T00:00:00\", \"transactions\": 2725, \"transactionRevenue\": 2295989.22, \"revenuePerTransaction\": 842.5648513761467, \"itemQuantity\": 18856}, {\"date\": \"2023-07-14T00:00:00\", \"transactions\": 2894, \"transactionRevenue\": 2470269.21, \"revenuePerTransaction\": 853.58300276434, \"itemQuantity\": 20265}, {\"date\": \"2023-07-15T00:00:00\", \"transactions\": 2252, \"transactionRevenue\": 1875623.45, \"revenuePerTransaction\": 832.870093250444, \"itemQuantity\": 15632}, {\"date\": \"2023-07-16T00:00:00\", \"transactions\": 240, \"transactionRevenue\": 294979.94, \"revenuePerTransaction\": 1229.0830833333332, \"itemQuantity\": 2471}, {\"date\": \"2023-07-17T00:00:00\", \"transactions\": 3183, \"transactionRevenue\": 2727595.38, \"revenuePerTransaction\": 856.9259754948162, \"itemQuantity\": 22212}, {\"date\": \"2023-07-18T00:00:00\", \"transactions\": 3061, \"transactionRevenue\": 2664918.0, \"revenuePerTransaction\": 870.6037242731134, \"itemQuantity\": 22120}, {\"date\": \"2023-07-19T00:00:00\", \"transactions\": 2823, \"transactionRevenue\": 2746218.17, \"revenuePerTransaction\": 972.8013354587318, \"itemQuantity\": 21990}, {\"date\": \"2023-07-20T00:00:00\", \"transactions\": 2904, \"transactionRevenue\": 2824515.32, \"revenuePerTransaction\": 972.6292424242424, \"itemQuantity\": 22773}, {\"date\": \"2023-07-21T00:00:00\", \"transactions\": 2881, \"transactionRevenue\": 2976752.2, \"revenuePerTransaction\": 1033.2357514751823, \"itemQuantity\": 23331}, {\"date\": \"2023-07-22T00:00:00\", \"transactions\": 2180, \"transactionRevenue\": 2221965.8, \"revenuePerTransaction\": 1019.2503669724771, \"itemQuantity\": 17291}, {\"date\": \"2023-07-23T00:00:00\", \"transactions\": 239, \"transactionRevenue\": 313579.8, \"revenuePerTransaction\": 1312.0493723849372, \"itemQuantity\": 2368}, {\"date\": \"2023-07-24T00:00:00\", \"transactions\": 2826, \"transactionRevenue\": 2825407.5, \"revenuePerTransaction\": 999.7903397027601, \"itemQuantity\": 22395}, {\"date\": \"2023-07-25T00:00:00\", \"transactions\": 2501, \"transactionRevenue\": 2405631.3, \"revenuePerTransaction\": 961.8677728908436, \"itemQuantity\": 19257}]}}, {\"mode\": \"vega-lite\"});\n",
       "</script>"
      ],
      "text/plain": [
       "alt.Chart(...)"
      ]
     },
     "execution_count": 21,
     "metadata": {},
     "output_type": "execute_result"
    }
   ],
   "source": [
    "# convert to pandas dataframe from polars\n",
    "trans = trans.to_pandas()\n",
    "# create line chart\n",
    "alt.Chart(\n",
    "    trans,\n",
    "    width=800, \n",
    "    height=400,\n",
    "    title='Website transactions over time',\n",
    ").mark_line().encode(\n",
    "    x = 'date',\n",
    "    y = 'transactions',\n",
    "    color = alt.value('#703642'),\n",
    "    tooltip = ['date', 'transactions',]\n",
    ").configure_title(fontSize=24)"
   ]
  },
  {
   "cell_type": "markdown",
   "metadata": {
    "cell_id": "8b1fe3e812ed4be8979b7e62f239790a",
    "deepnote_cell_type": "markdown",
    "id": "mpCQ9KK86YtW"
   },
   "source": [
    "## Geographic map and new users"
   ]
  },
  {
   "cell_type": "code",
   "execution_count": 22,
   "metadata": {
    "cell_id": "70905a84804949bd83dd4f20b8cc0342",
    "deepnote_cell_type": "code",
    "deepnote_to_be_reexecuted": false,
    "execution_millis": 980,
    "execution_start": 1683164886188,
    "id": "t3YIdMzn6YtW",
    "source_hash": "fa3c4264",
    "tags": []
   },
   "outputs": [
    {
     "data": {
      "text/html": [
       "<div><style>\n",
       ".dataframe > thead > tr > th,\n",
       ".dataframe > tbody > tr > td {\n",
       "  text-align: right;\n",
       "}\n",
       "</style>\n",
       "<small>shape: (5, 7)</small><table border=\"1\" class=\"dataframe\"><thead><tr><th>ga:country</th><th>ga:region</th><th>ga:city</th><th>ga:longitude</th><th>ga:latitude</th><th>ga:users</th><th>ga:newUsers</th></tr><tr><td>str</td><td>str</td><td>str</td><td>str</td><td>str</td><td>i64</td><td>i64</td></tr></thead><tbody><tr><td>&quot;Mexico&quot;</td><td>&quot;Puebla&quot;</td><td>&quot;764044&quot;</td><td>&quot;0.0000&quot;</td><td>&quot;0.0000&quot;</td><td>26</td><td>10</td></tr><tr><td>&quot;Mexico&quot;</td><td>&quot;Guanajuato&quot;</td><td>&quot;San Jose Iturbide&quot;</td><td>&quot;-100.3841&quot;</td><td>&quot;21.0033&quot;</td><td>23</td><td>3</td></tr><tr><td>&quot;Guatemala&quot;</td><td>&quot;(not set)&quot;</td><td>&quot;Mazatenango&quot;</td><td>&quot;-91.5063&quot;</td><td>&quot;14.5316&quot;</td><td>1</td><td>0</td></tr><tr><td>&quot;Mexico&quot;</td><td>&quot;State of Mexico&quot;</td><td>&quot;Tejupilco de Hidalgo&quot;</td><td>&quot;-100.1507&quot;</td><td>&quot;18.9062&quot;</td><td>57</td><td>21</td></tr><tr><td>&quot;Mexico&quot;</td><td>&quot;Nuevo Leon&quot;</td><td>&quot;Santiago&quot;</td><td>&quot;-100.1591&quot;</td><td>&quot;25.4166&quot;</td><td>131</td><td>27</td></tr></tbody></table></div>"
      ],
      "text/plain": [
       "shape: (5, 7)\n",
       "┌────────────┬────────────┬──────────────┬──────────────┬─────────────┬──────────┬─────────────┐\n",
       "│ ga:country ┆ ga:region  ┆ ga:city      ┆ ga:longitude ┆ ga:latitude ┆ ga:users ┆ ga:newUsers │\n",
       "│ ---        ┆ ---        ┆ ---          ┆ ---          ┆ ---         ┆ ---      ┆ ---         │\n",
       "│ str        ┆ str        ┆ str          ┆ str          ┆ str         ┆ i64      ┆ i64         │\n",
       "╞════════════╪════════════╪══════════════╪══════════════╪═════════════╪══════════╪═════════════╡\n",
       "│ Mexico     ┆ Puebla     ┆ 764044       ┆ 0.0000       ┆ 0.0000      ┆ 26       ┆ 10          │\n",
       "│ Mexico     ┆ Guanajuato ┆ San Jose     ┆ -100.3841    ┆ 21.0033     ┆ 23       ┆ 3           │\n",
       "│            ┆            ┆ Iturbide     ┆              ┆             ┆          ┆             │\n",
       "│ Guatemala  ┆ (not set)  ┆ Mazatenango  ┆ -91.5063     ┆ 14.5316     ┆ 1        ┆ 0           │\n",
       "│ Mexico     ┆ State of   ┆ Tejupilco de ┆ -100.1507    ┆ 18.9062     ┆ 57       ┆ 21          │\n",
       "│            ┆ Mexico     ┆ Hidalgo      ┆              ┆             ┆          ┆             │\n",
       "│ Mexico     ┆ Nuevo Leon ┆ Santiago     ┆ -100.1591    ┆ 25.4166     ┆ 131      ┆ 27          │\n",
       "└────────────┴────────────┴──────────────┴──────────────┴─────────────┴──────────┴─────────────┘"
      ]
     },
     "execution_count": 22,
     "metadata": {},
     "output_type": "execute_result"
    }
   ],
   "source": [
    "response = service.reports().batchGet(body={\n",
    "    'reportRequests': [{\n",
    "        'viewId': view_id,\n",
    "        'dateRanges': [{'startDate': inicio, 'endDate': fin}],\n",
    "        'metrics': [\n",
    "            {\"expression\": \"ga:users\"},\n",
    "            {\"expression\": \"ga:newUsers\"},\n",
    "        ], \"dimensions\": [\n",
    "            {\"name\": \"ga:country\"},\n",
    "            {\"name\": \"ga:region\"},\n",
    "            {\"name\": \"ga:city\"},            \n",
    "            {\"name\": \"ga:longitude\"},\n",
    "            {\"name\": \"ga:latitude\"}\n",
    "        ], \"samplingLevel\": \"LARGE\",\n",
    "    }]\n",
    "}).execute()\n",
    "\n",
    "geo = create_df(response)\n",
    "geo.sample(5)"
   ]
  },
  {
   "cell_type": "code",
   "execution_count": 23,
   "metadata": {
    "cell_id": "153d1fccd53c41bc8728c01c4e3341f7",
    "deepnote_cell_type": "code",
    "deepnote_table_loading": false,
    "deepnote_table_state": {
     "filters": [],
     "pageIndex": 7,
     "pageSize": 10,
     "sortBy": []
    },
    "deepnote_to_be_reexecuted": false,
    "execution_millis": 38,
    "execution_start": 1683165458107,
    "id": "upieKUNJ6YtW",
    "source_hash": "d22d2b00"
   },
   "outputs": [],
   "source": [
    "# drop ga: string from column names\n",
    "geo.columns = [col.replace('ga:','') for col in geo.columns]\n",
    "# convert column types to decimal\n",
    "geo = geo.with_columns(\n",
    "    pl.col(['longitude', 'latitude']).cast(pl.Float64)\n",
    "# filter by non empty country column\n",
    ").filter(\n",
    "    (pl.col('country')!='(not set)')\n",
    "    & (pl.col('region')!='(not set)')\n",
    "    & (pl.col('city')!='(not set)')\n",
    ")"
   ]
  },
  {
   "cell_type": "code",
   "execution_count": 238,
   "metadata": {
    "tags": []
   },
   "outputs": [
    {
     "name": "stdout",
     "output_type": "stream",
     "text": [
      "Done!\n"
     ]
    }
   ],
   "source": [
    "#geo = geo.select(['longitude','latitude','users','newUsers']).to_pandas()\n",
    "# Create chart in Datawrapper\n",
    "map_ga = dw.create_chart(\n",
    "    title = \"Map of users from Google Analytics, 2022-2023\",\n",
    "    chart_type = 'd3-maps-symbols',\n",
    "    data = geo\n",
    "    )\n",
    "# Publish in Datawrapper\n",
    "dw.publish_chart(map_ga['id'], display=False)\n",
    "# Get iframe code to embed e.g. in Notion\n",
    "dw.get_iframe_code(map_ga['id'])\n",
    "print('Done!')"
   ]
  },
  {
   "cell_type": "code",
   "execution_count": 24,
   "metadata": {},
   "outputs": [
    {
     "data": {
      "text/html": [
       "<iframe src=https://datawrapper.dwcdn.net/PuO1p/1/ width=\"1200\" height=\"620\"></iframe>\n"
      ],
      "text/plain": [
       "<IPython.core.display.HTML object>"
      ]
     },
     "metadata": {},
     "output_type": "display_data"
    }
   ],
   "source": [
    "%%html\n",
    "<iframe src=https://datawrapper.dwcdn.net/PuO1p/1/ width=\"1200\" height=\"620\"></iframe>"
   ]
  },
  {
   "cell_type": "markdown",
   "metadata": {
    "created_in_deepnote_cell": true,
    "deepnote_cell_type": "markdown",
    "id": "IsG76yCr6YtZ"
   },
   "source": [
    "## Contact\n",
    "\n",
    "<!-- Avatar -->\n",
    "<img src=\"../Pictures/profile2.png\" alt=\"me\" width=\"75\" height=\"80\">\n",
    "<!-- Text with color, font, fontsize and specific size -->\n",
    "<p style=\"color:#323232; font-family: Helevetica; font-size: 20px;\">Jesus L. Monroy<br>Economist | Data Scientist</p>\n",
    "<!-- Insert url links in logos -->\n",
    "<!-- Telegram -->\n",
    "<a href=\"https://t.me/j3suslm\" target=\"_blank\" rel=\"noreferrer\"> <img src=\"https://upload.wikimedia.org/wikipedia/commons/thumb/e/ef/Telegram_X_2019_Logo.svg/2048px-Telegram_X_2019_Logo.png?size=16&color=3b3b3b\" alt=\"telegram\" width=\"30\" height=\"22\" style=\"padding-left:8px\"/>\n",
    "<!-- Twitter -->\n",
    "<a href=\"https://www.twitter.com/sqlalchemist\" target=\"_blank\" rel=\"noreferrer\"> <img src=\"https://toppng.com/public/uploads/preview/twitter-x-new-logo-round-icon-png-11692480241tdbz6jparr.webp?size=16&color=3b3b3b\" alt=\"twitter\" width=\"30\" height=\"22\" style=\"padding-left:8px\"/>\n",
    "<!-- Github -->\n",
    "<a href=\"https://github.com/SqlAlchemist/My-portfolio\" target=\"_blank\" rel=\"noreferrer\"> <img src=\"https://icongr.am/devicon/github-original.svg?size=16&color=3b3b3b\" alt=\"github\" width=\"30\" height=\"30\" style=\"padding-left:8px\"/>\n",
    "<!-- Linkedin -->\n",
    "<a href=\"https://www.linkedin.com/in/j3sus-lmonroy\" target=\"_blank\" rel=\"noreferrer\"> <img src=\"https://icongr.am/simple/linkedin.svg?size=16&color=3b3b3b\" alt=\"linkedin\" width=\"30\" height=\"30\" style=\"padding-left:8px\"/>\n",
    "<!-- Medium -->\n",
    "<a href=\"https://medium.com/@jesus_lmonroy\" target=\"_blank\" rel=\"noreferrer\"> <img src=\"https://cdn1.iconfinder.com/data/icons/social-media-and-logos-12/32/Logo_medium-512.png?size=55&color=3b3b3b\" alt=\"medium\" width=\"30\" height=\"33\" style=\"padding-left:8px\"/>"
   ]
  }
 ],
 "metadata": {
  "colab": {
   "provenance": []
  },
  "deepnote": {},
  "deepnote_execution_queue": [],
  "deepnote_notebook_id": "cc69ac83fb3a477185ac79f7cdcfbff1",
  "gpuClass": "standard",
  "kernelspec": {
   "display_name": "Python 3 (ipykernel)",
   "language": "python",
   "name": "python3"
  },
  "language_info": {
   "codemirror_mode": {
    "name": "ipython",
    "version": 3
   },
   "file_extension": ".py",
   "mimetype": "text/x-python",
   "name": "python",
   "nbconvert_exporter": "python",
   "pygments_lexer": "ipython3",
   "version": "3.11.5"
  },
  "toc-autonumbering": false,
  "toc-showcode": false,
  "toc-showmarkdowntxt": false
 },
 "nbformat": 4,
 "nbformat_minor": 4
}
