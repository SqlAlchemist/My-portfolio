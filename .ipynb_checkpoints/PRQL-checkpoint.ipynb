{
 "cells": [
  {
   "cell_type": "markdown",
   "metadata": {
    "id": "9myaWm1ZoZU-"
   },
   "source": [
    "# PRQL - Pipelined Relational Query Language\n",
    "### A sequel to SQL\n",
    "\n",
    "```Pronounced 'prequel```\n",
    "\n",
    "```prql```is written in Rust\n",
    "\n",
    "prql query is a linear pipeline of transformations, each line is a transformation of the previous line’s result. \n",
    "\n",
    "This makes it easy to read, and simple to write.\n",
    "\n",
    "prql is focused on analytical queries, emphasizing data transformations, development speed, and readability."
   ]
  },
  {
   "cell_type": "markdown",
   "metadata": {
    "id": "JOMKAmrBprtj"
   },
   "source": [
    "## Installation"
   ]
  },
  {
   "cell_type": "markdown",
   "metadata": {
    "colab": {
     "base_uri": "https://localhost:8080/"
    },
    "id": "kR518Mgwn02v",
    "outputId": "e8385303-1e33-4029-e8a3-ccd4a6554833"
   },
   "source": [
    "- To update pip repository: `!pip install -U pip`\n",
    "- To install prql: `!pip install pyprql -q`"
   ]
  },
  {
   "cell_type": "markdown",
   "metadata": {
    "id": "YEYuUOGlpvj5"
   },
   "source": [
    "## Environment settings"
   ]
  },
  {
   "cell_type": "code",
   "execution_count": 36,
   "metadata": {
    "colab": {
     "base_uri": "https://localhost:8080/"
    },
    "id": "H6moa9Ftn8xn",
    "outputId": "e0f0a5b6-3924-4db6-c2e4-88600e798c09",
    "tags": []
   },
   "outputs": [
    {
     "name": "stdout",
     "output_type": "stream",
     "text": [
      "The sql extension is already loaded. To reload it, use:\n",
      "  %reload_ext sql\n",
      "The pyprql.magic extension is already loaded. To reload it, use:\n",
      "  %reload_ext pyprql.magic\n"
     ]
    }
   ],
   "source": [
    "import numpy as np\n",
    "import pandas as pd\n",
    "import polars as pl\n",
    "import duckdb as db\n",
    "import pyprql\n",
    "import matplotlib.pyplot as plt\n",
    "import altair as alt\n",
    "%load_ext sql\n",
    "#load prql extension magic\n",
    "%load_ext pyprql.magic\n",
    "%prql duckdb:///:memory:"
   ]
  },
  {
   "cell_type": "markdown",
   "metadata": {
    "id": "vwLCLsIht_rf"
   },
   "source": [
    "### Datasets"
   ]
  },
  {
   "cell_type": "code",
   "execution_count": 37,
   "metadata": {
    "colab": {
     "base_uri": "https://localhost:8080/"
    },
    "id": "2gKoxORxojaV",
    "outputId": "cc039f81-c0dd-4d17-b37a-176edd8aa435",
    "tags": []
   },
   "outputs": [],
   "source": [
    "# download example csv file with curl\n",
    "#!curl -o data.csv https://raw.githubusercontent.com/graphql-compose/graphql-compose-examples/master/examples/northwind/data/csv/products.csv\n",
    "\n",
    "# download example csv file with wget\n",
    "#!wget -o newdata.csv https://raw.githubusercontent.com/graphql-compose/graphql-compose-examples/master/examples/northwind/data/csv/products.csv\n",
    "\n",
    "# read csv with pandas without downloading it\n",
    "products = pd.read_csv('https://raw.githubusercontent.com/graphql-compose/graphql-compose-examples/master/examples/northwind/data/csv/products.csv')\n",
    "# you can also save it in a local file\n",
    "#products.to_csv('../Datasets/products.csv')"
   ]
  },
  {
   "cell_type": "code",
   "execution_count": 38,
   "metadata": {
    "tags": []
   },
   "outputs": [
    {
     "data": {
      "text/html": [
       "<div>\n",
       "<style scoped>\n",
       "    .dataframe tbody tr th:only-of-type {\n",
       "        vertical-align: middle;\n",
       "    }\n",
       "\n",
       "    .dataframe tbody tr th {\n",
       "        vertical-align: top;\n",
       "    }\n",
       "\n",
       "    .dataframe thead th {\n",
       "        text-align: right;\n",
       "    }\n",
       "</style>\n",
       "<table border=\"1\" class=\"dataframe\">\n",
       "  <thead>\n",
       "    <tr style=\"text-align: right;\">\n",
       "      <th></th>\n",
       "      <th>productID</th>\n",
       "      <th>productName</th>\n",
       "      <th>supplierID</th>\n",
       "      <th>categoryID</th>\n",
       "      <th>quantityPerUnit</th>\n",
       "      <th>unitPrice</th>\n",
       "      <th>unitsInStock</th>\n",
       "      <th>unitsOnOrder</th>\n",
       "      <th>reorderLevel</th>\n",
       "      <th>discontinued</th>\n",
       "    </tr>\n",
       "  </thead>\n",
       "  <tbody>\n",
       "    <tr>\n",
       "      <th>32</th>\n",
       "      <td>33</td>\n",
       "      <td>Geitost</td>\n",
       "      <td>15</td>\n",
       "      <td>4</td>\n",
       "      <td>500 g</td>\n",
       "      <td>2.50</td>\n",
       "      <td>112</td>\n",
       "      <td>0</td>\n",
       "      <td>20</td>\n",
       "      <td>0</td>\n",
       "    </tr>\n",
       "    <tr>\n",
       "      <th>22</th>\n",
       "      <td>23</td>\n",
       "      <td>Tunnbröd</td>\n",
       "      <td>9</td>\n",
       "      <td>5</td>\n",
       "      <td>12 - 250 g pkgs.</td>\n",
       "      <td>9.00</td>\n",
       "      <td>61</td>\n",
       "      <td>0</td>\n",
       "      <td>25</td>\n",
       "      <td>0</td>\n",
       "    </tr>\n",
       "    <tr>\n",
       "      <th>30</th>\n",
       "      <td>31</td>\n",
       "      <td>Gorgonzola Telino</td>\n",
       "      <td>14</td>\n",
       "      <td>4</td>\n",
       "      <td>12 - 100 g pkgs</td>\n",
       "      <td>12.50</td>\n",
       "      <td>0</td>\n",
       "      <td>70</td>\n",
       "      <td>20</td>\n",
       "      <td>0</td>\n",
       "    </tr>\n",
       "    <tr>\n",
       "      <th>4</th>\n",
       "      <td>5</td>\n",
       "      <td>Chef Anton's Gumbo Mix</td>\n",
       "      <td>2</td>\n",
       "      <td>2</td>\n",
       "      <td>36 boxes</td>\n",
       "      <td>21.35</td>\n",
       "      <td>0</td>\n",
       "      <td>0</td>\n",
       "      <td>0</td>\n",
       "      <td>1</td>\n",
       "    </tr>\n",
       "    <tr>\n",
       "      <th>34</th>\n",
       "      <td>35</td>\n",
       "      <td>Steeleye Stout</td>\n",
       "      <td>16</td>\n",
       "      <td>1</td>\n",
       "      <td>24 - 12 oz bottles</td>\n",
       "      <td>18.00</td>\n",
       "      <td>20</td>\n",
       "      <td>0</td>\n",
       "      <td>15</td>\n",
       "      <td>0</td>\n",
       "    </tr>\n",
       "  </tbody>\n",
       "</table>\n",
       "</div>"
      ],
      "text/plain": [
       "    productID             productName  supplierID  categoryID  \\\n",
       "32         33                 Geitost          15           4   \n",
       "22         23                Tunnbröd           9           5   \n",
       "30         31       Gorgonzola Telino          14           4   \n",
       "4           5  Chef Anton's Gumbo Mix           2           2   \n",
       "34         35          Steeleye Stout          16           1   \n",
       "\n",
       "       quantityPerUnit  unitPrice  unitsInStock  unitsOnOrder  reorderLevel  \\\n",
       "32               500 g       2.50           112             0            20   \n",
       "22    12 - 250 g pkgs.       9.00            61             0            25   \n",
       "30     12 - 100 g pkgs      12.50             0            70            20   \n",
       "4             36 boxes      21.35             0             0             0   \n",
       "34  24 - 12 oz bottles      18.00            20             0            15   \n",
       "\n",
       "    discontinued  \n",
       "32             0  \n",
       "22             0  \n",
       "30             0  \n",
       "4              1  \n",
       "34             0  "
      ]
     },
     "execution_count": 38,
     "metadata": {},
     "output_type": "execute_result"
    }
   ],
   "source": [
    "products.sample(5)"
   ]
  },
  {
   "cell_type": "markdown",
   "metadata": {
    "id": "pQd8nmtZuCtO"
   },
   "source": [
    "## Running queries with prql"
   ]
  },
  {
   "cell_type": "code",
   "execution_count": 13,
   "metadata": {
    "colab": {
     "base_uri": "https://localhost:8080/",
     "height": 143
    },
    "id": "vAM0JXxWomzH",
    "outputId": "71d1fd0c-75c3-4159-d4d7-66a7190a0eb7",
    "tags": []
   },
   "outputs": [
    {
     "data": {
      "text/html": [
       "<div>\n",
       "<style scoped>\n",
       "    .dataframe tbody tr th:only-of-type {\n",
       "        vertical-align: middle;\n",
       "    }\n",
       "\n",
       "    .dataframe tbody tr th {\n",
       "        vertical-align: top;\n",
       "    }\n",
       "\n",
       "    .dataframe thead th {\n",
       "        text-align: right;\n",
       "    }\n",
       "</style>\n",
       "<table border=\"1\" class=\"dataframe\">\n",
       "  <thead>\n",
       "    <tr style=\"text-align: right;\">\n",
       "      <th></th>\n",
       "      <th>productID</th>\n",
       "      <th>productName</th>\n",
       "      <th>supplierID</th>\n",
       "      <th>categoryID</th>\n",
       "      <th>quantityPerUnit</th>\n",
       "      <th>unitPrice</th>\n",
       "      <th>unitsInStock</th>\n",
       "      <th>unitsOnOrder</th>\n",
       "      <th>reorderLevel</th>\n",
       "      <th>discontinued</th>\n",
       "    </tr>\n",
       "  </thead>\n",
       "  <tbody>\n",
       "    <tr>\n",
       "      <th>0</th>\n",
       "      <td>1</td>\n",
       "      <td>Chai</td>\n",
       "      <td>1</td>\n",
       "      <td>1</td>\n",
       "      <td>10 boxes x 20 bags</td>\n",
       "      <td>18.0</td>\n",
       "      <td>39</td>\n",
       "      <td>0</td>\n",
       "      <td>10</td>\n",
       "      <td>0</td>\n",
       "    </tr>\n",
       "    <tr>\n",
       "      <th>1</th>\n",
       "      <td>2</td>\n",
       "      <td>Chang</td>\n",
       "      <td>1</td>\n",
       "      <td>1</td>\n",
       "      <td>24 - 12 oz bottles</td>\n",
       "      <td>19.0</td>\n",
       "      <td>17</td>\n",
       "      <td>40</td>\n",
       "      <td>25</td>\n",
       "      <td>0</td>\n",
       "    </tr>\n",
       "    <tr>\n",
       "      <th>2</th>\n",
       "      <td>3</td>\n",
       "      <td>Aniseed Syrup</td>\n",
       "      <td>1</td>\n",
       "      <td>2</td>\n",
       "      <td>12 - 550 ml bottles</td>\n",
       "      <td>10.0</td>\n",
       "      <td>13</td>\n",
       "      <td>70</td>\n",
       "      <td>25</td>\n",
       "      <td>0</td>\n",
       "    </tr>\n",
       "  </tbody>\n",
       "</table>\n",
       "</div>"
      ],
      "text/plain": [
       "   productID    productName  supplierID  categoryID      quantityPerUnit  \\\n",
       "0          1           Chai           1           1   10 boxes x 20 bags   \n",
       "1          2          Chang           1           1   24 - 12 oz bottles   \n",
       "2          3  Aniseed Syrup           1           2  12 - 550 ml bottles   \n",
       "\n",
       "   unitPrice  unitsInStock  unitsOnOrder  reorderLevel  discontinued  \n",
       "0       18.0            39             0            10             0  \n",
       "1       19.0            17            40            25             0  \n",
       "2       10.0            13            70            25             0  "
      ]
     },
     "execution_count": 13,
     "metadata": {},
     "output_type": "execute_result"
    }
   ],
   "source": [
    "%%prql # activate prql magic\n",
    "# run prql query\n",
    "from p = `products` # prql can read pandas dataframe\n",
    "# from p = `products.csv` # or it can also read from csv file\n",
    "filter supplierID == 1"
   ]
  },
  {
   "cell_type": "code",
   "execution_count": 26,
   "metadata": {},
   "outputs": [
    {
     "data": {
      "text/html": [
       "<div>\n",
       "<style scoped>\n",
       "    .dataframe tbody tr th:only-of-type {\n",
       "        vertical-align: middle;\n",
       "    }\n",
       "\n",
       "    .dataframe tbody tr th {\n",
       "        vertical-align: top;\n",
       "    }\n",
       "\n",
       "    .dataframe thead th {\n",
       "        text-align: right;\n",
       "    }\n",
       "</style>\n",
       "<table border=\"1\" class=\"dataframe\">\n",
       "  <thead>\n",
       "    <tr style=\"text-align: right;\">\n",
       "      <th></th>\n",
       "      <th>name</th>\n",
       "      <th>avg_price</th>\n",
       "    </tr>\n",
       "  </thead>\n",
       "  <tbody>\n",
       "    <tr>\n",
       "      <th>0</th>\n",
       "      <td>Geitost</td>\n",
       "      <td>2.50</td>\n",
       "    </tr>\n",
       "    <tr>\n",
       "      <th>1</th>\n",
       "      <td>Guaraná Fantástica</td>\n",
       "      <td>4.50</td>\n",
       "    </tr>\n",
       "    <tr>\n",
       "      <th>2</th>\n",
       "      <td>Konbu</td>\n",
       "      <td>6.00</td>\n",
       "    </tr>\n",
       "    <tr>\n",
       "      <th>3</th>\n",
       "      <td>Filo Mix</td>\n",
       "      <td>7.00</td>\n",
       "    </tr>\n",
       "    <tr>\n",
       "      <th>4</th>\n",
       "      <td>Tourtière</td>\n",
       "      <td>7.45</td>\n",
       "    </tr>\n",
       "  </tbody>\n",
       "</table>\n",
       "</div>"
      ],
      "text/plain": [
       "                 name  avg_price\n",
       "0             Geitost       2.50\n",
       "1  Guaraná Fantástica       4.50\n",
       "2               Konbu       6.00\n",
       "3            Filo Mix       7.00\n",
       "4           Tourtière       7.45"
      ]
     },
     "execution_count": 26,
     "metadata": {},
     "output_type": "execute_result"
    }
   ],
   "source": [
    "%%prql\n",
    "(\n",
    "    from p = `products`\n",
    "    group name = productName (\n",
    "        aggregate {avg_price = average unitPrice}\n",
    "    )\n",
    "    sort{avg_price}\n",
    "    take 5\n",
    ")"
   ]
  },
  {
   "cell_type": "code",
   "execution_count": 35,
   "metadata": {
    "id": "tyOGuYoerLrY",
    "tags": []
   },
   "outputs": [
    {
     "data": {
      "text/html": [
       "<div>\n",
       "<style scoped>\n",
       "    .dataframe tbody tr th:only-of-type {\n",
       "        vertical-align: middle;\n",
       "    }\n",
       "\n",
       "    .dataframe tbody tr th {\n",
       "        vertical-align: top;\n",
       "    }\n",
       "\n",
       "    .dataframe thead th {\n",
       "        text-align: right;\n",
       "    }\n",
       "</style>\n",
       "<table border=\"1\" class=\"dataframe\">\n",
       "  <thead>\n",
       "    <tr style=\"text-align: right;\">\n",
       "      <th></th>\n",
       "      <th>min_units_in_stock</th>\n",
       "      <th>max_units_in_stock</th>\n",
       "    </tr>\n",
       "  </thead>\n",
       "  <tbody>\n",
       "    <tr>\n",
       "      <th>0</th>\n",
       "      <td>0</td>\n",
       "      <td>125</td>\n",
       "    </tr>\n",
       "  </tbody>\n",
       "</table>\n",
       "</div>"
      ],
      "text/plain": [
       "   min_units_in_stock  max_units_in_stock\n",
       "0                   0                 125"
      ]
     },
     "execution_count": 35,
     "metadata": {},
     "output_type": "execute_result"
    }
   ],
   "source": [
    "%%prql\n",
    "results = (\n",
    "    from p = `products` | aggregate {\n",
    "        min_units_in_stock = min unitsInStock,\n",
    "        max_units_in_stock = max unitsInStock\n",
    "    }\n",
    ")"
   ]
  },
  {
   "cell_type": "markdown",
   "metadata": {
    "id": "fHsSfGUmuMil"
   },
   "source": [
    "## Contact\n",
    "\n",
    "<!-- Avatar -->\n",
    "<img src=\"../Pictures/profile2.png\" alt=\"me\" width=\"75\" height=\"80\">\n",
    "<!-- Text with color, font, fontsize and specific size -->\n",
    "<p style=\"color:#323232; font-family: Helevetica; font-size: 20px;\">Jesus L. Monroy<br>Economist | Data Scientist</p>\n",
    "<!-- Insert url links in logos -->\n",
    "<!-- style=\"padding-left:8px\" adds spaces before logo link -->\n",
    "<!-- Telegram -->\n",
    "<a href=\"https://t.me/j3suslm\" target=\"_blank\" rel=\"noreferrer\"> <img src=\"https://upload.wikimedia.org/wikipedia/commons/thumb/e/ef/Telegram_X_2019_Logo.svg/2048px-Telegram_X_2019_Logo.png?size=16&color=3b3b3b\" alt=\"telegram\" width=\"30\" height=\"22\" style=\"padding-left:8px\"/>\n",
    "<!-- Twitter -->\n",
    "<a href=\"https://www.twitter.com/sqlalchemist\" target=\"_blank\" rel=\"noreferrer\"> <img src=\"https://toppng.com/public/uploads/preview/twitter-x-new-logo-round-icon-png-11692480241tdbz6jparr.webp?size=16&color=3b3b3b\" alt=\"twitter\" width=\"30\" height=\"22\" style=\"padding-left:8px\"/>\n",
    "<!-- Github -->\n",
    "<a href=\"https://github.com/SqlAlchemist/My-portfolio\" target=\"_blank\" rel=\"noreferrer\"> <img src=\"https://icongr.am/devicon/github-original.svg?size=16&color=3b3b3b\" alt=\"github\" width=\"30\" height=\"30\" style=\"padding-left:8px\"/>\n",
    "<!-- Linkedin -->\n",
    "<a href=\"https://www.linkedin.com/in/j3sus-lmonroy\" target=\"_blank\" rel=\"noreferrer\"> <img src=\"https://icongr.am/simple/linkedin.svg?size=16&color=3b3b3b\" alt=\"linkedin\" width=\"30\" height=\"30\" style=\"padding-left:8px\"/>\n",
    "<!-- Medium -->\n",
    "<a href=\"https://medium.com/@jesus_lmonroy\" target=\"_blank\" rel=\"noreferrer\"> <img src=\"https://cdn1.iconfinder.com/data/icons/social-media-and-logos-12/32/Logo_medium-512.png?size=55&color=3b3b3b\" alt=\"medium\" width=\"30\" height=\"33\" style=\"padding-left:8px\"/>"
   ]
  }
 ],
 "metadata": {
  "colab": {
   "provenance": [],
   "toc_visible": true
  },
  "kernelspec": {
   "display_name": "Python 3 (ipykernel)",
   "language": "python",
   "name": "python3"
  },
  "language_info": {
   "codemirror_mode": {
    "name": "ipython",
    "version": 3
   },
   "file_extension": ".py",
   "mimetype": "text/x-python",
   "name": "python",
   "nbconvert_exporter": "python",
   "pygments_lexer": "ipython3",
   "version": "3.11.5"
  }
 },
 "nbformat": 4,
 "nbformat_minor": 4
}
