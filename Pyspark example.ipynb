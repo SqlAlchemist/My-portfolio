{
 "cells": [
  {
   "cell_type": "markdown",
   "id": "f110097d-796d-4c91-8242-6817cff62e80",
   "metadata": {},
   "source": [
    "# PySpark example"
   ]
  },
  {
   "cell_type": "code",
   "execution_count": 12,
   "id": "26922c12-a9de-4768-aacf-44c2dfef2ab6",
   "metadata": {},
   "outputs": [],
   "source": [
    "import findspark\n",
    "import pyspark\n",
    "findspark.init()\n",
    "findspark.find()\n",
    "import warnings\n",
    "warnings.filterwarnings('ignore')"
   ]
  },
  {
   "cell_type": "code",
   "execution_count": 13,
   "id": "3bdc69b7-c453-478b-a669-9595326c7748",
   "metadata": {},
   "outputs": [],
   "source": [
    "from pyspark.sql import SparkSession"
   ]
  },
  {
   "cell_type": "code",
   "execution_count": 14,
   "id": "add8d242-6b58-4b1c-8221-88bfd3a8a555",
   "metadata": {},
   "outputs": [],
   "source": [
    "spark = SparkSession.builder.appName('SparkByExamples.com').getOrCreate()"
   ]
  },
  {
   "cell_type": "code",
   "execution_count": 15,
   "id": "297be8ed-bceb-423f-a440-cf8f1d746639",
   "metadata": {},
   "outputs": [],
   "source": [
    "# data\n",
    "data = [('Java', '20000'), ('Python','100000'), ('Scala','3000')]\n",
    "# columns\n",
    "columns = ['language','users_count']"
   ]
  },
  {
   "cell_type": "code",
   "execution_count": 16,
   "id": "e5f59146-682d-4eea-867c-55b4c052699c",
   "metadata": {},
   "outputs": [],
   "source": [
    "# create dataframe\n",
    "df = spark.createDataFrame(data).toDF(*columns)"
   ]
  },
  {
   "cell_type": "code",
   "execution_count": 17,
   "id": "34f0df03-1674-4dc3-beee-dcdc9d19de31",
   "metadata": {},
   "outputs": [
    {
     "name": "stdout",
     "output_type": "stream",
     "text": [
      "+--------+-----------+\n",
      "|language|users_count|\n",
      "+--------+-----------+\n",
      "|    Java|      20000|\n",
      "|  Python|     100000|\n",
      "|   Scala|       3000|\n",
      "+--------+-----------+\n",
      "\n"
     ]
    }
   ],
   "source": [
    "df.show()"
   ]
  },
  {
   "cell_type": "code",
   "execution_count": null,
   "id": "ff95b8fc-deee-4eea-bead-c7255876c289",
   "metadata": {},
   "outputs": [],
   "source": []
  }
 ],
 "metadata": {
  "kernelspec": {
   "display_name": "Python 3 (ipykernel)",
   "language": "python",
   "name": "python3"
  },
  "language_info": {
   "codemirror_mode": {
    "name": "ipython",
    "version": 3
   },
   "file_extension": ".py",
   "mimetype": "text/x-python",
   "name": "python",
   "nbconvert_exporter": "python",
   "pygments_lexer": "ipython3",
   "version": "3.9.13"
  }
 },
 "nbformat": 4,
 "nbformat_minor": 5
}
