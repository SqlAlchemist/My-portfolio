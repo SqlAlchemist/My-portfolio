{
 "cells": [
  {
   "cell_type": "markdown",
   "metadata": {
    "id": "9myaWm1ZoZU-"
   },
   "source": [
    "# A sequel to SQL: Pipelined Relational Query Language (prql)"
   ]
  },
  {
   "cell_type": "markdown",
   "metadata": {
    "id": "JOMKAmrBprtj"
   },
   "source": [
    "## Installation"
   ]
  },
  {
   "cell_type": "markdown",
   "metadata": {
    "colab": {
     "base_uri": "https://localhost:8080/"
    },
    "id": "kR518Mgwn02v",
    "outputId": "e8385303-1e33-4029-e8a3-ccd4a6554833"
   },
   "source": [
    "- To update pip repository: `!pip install -U pip`\n",
    "- To install prql: `!pip install pyprql -q`"
   ]
  },
  {
   "cell_type": "markdown",
   "metadata": {
    "id": "YEYuUOGlpvj5"
   },
   "source": [
    "## Environment settings"
   ]
  },
  {
   "cell_type": "markdown",
   "metadata": {
    "id": "yy7psvt_t9QY"
   },
   "source": [
    "### Imports"
   ]
  },
  {
   "cell_type": "code",
   "execution_count": 1,
   "metadata": {
    "colab": {
     "base_uri": "https://localhost:8080/"
    },
    "id": "H6moa9Ftn8xn",
    "outputId": "e0f0a5b6-3924-4db6-c2e4-88600e798c09",
    "tags": []
   },
   "outputs": [
    {
     "name": "stdout",
     "output_type": "stream",
     "text": [
      "\u001b[33mThere's a new jupysql version available (0.10.5), you're running 0.7.9. To upgrade: pip install jupysql --upgrade\u001b[0m\n"
     ]
    }
   ],
   "source": [
    "import numpy as np\n",
    "import pandas as pd\n",
    "import polars as pl\n",
    "import duckdb\n",
    "import pyprql\n",
    "import matplotlib.pyplot as plt\n",
    "import altair as alt\n",
    "#load prql extension magic\n",
    "%load_ext pyprql.magic\n",
    "%prql duckdb://"
   ]
  },
  {
   "cell_type": "markdown",
   "metadata": {
    "id": "vwLCLsIht_rf"
   },
   "source": [
    "### Datasets"
   ]
  },
  {
   "cell_type": "code",
   "execution_count": 2,
   "metadata": {
    "colab": {
     "base_uri": "https://localhost:8080/"
    },
    "id": "2gKoxORxojaV",
    "outputId": "cc039f81-c0dd-4d17-b37a-176edd8aa435",
    "tags": []
   },
   "outputs": [],
   "source": [
    "# download example csv file with curl\n",
    "#!curl -o data.csv https://raw.githubusercontent.com/graphql-compose/graphql-compose-examples/master/examples/northwind/data/csv/products.csv\n",
    "\n",
    "# download example csv file with wget\n",
    "#!wget -o newdata.csv https://raw.githubusercontent.com/graphql-compose/graphql-compose-examples/master/examples/northwind/data/csv/products.csv\n",
    "\n",
    "# read csv with pandas without downloading it\n",
    "products = pd.read_csv('https://raw.githubusercontent.com/graphql-compose/graphql-compose-examples/master/examples/northwind/data/csv/products.csv')\n",
    "# you can also save it in a local file\n",
    "#products.to_csv('../Datasets/products.csv')"
   ]
  },
  {
   "cell_type": "code",
   "execution_count": 3,
   "metadata": {
    "tags": []
   },
   "outputs": [
    {
     "data": {
      "text/html": [
       "<div>\n",
       "<style scoped>\n",
       "    .dataframe tbody tr th:only-of-type {\n",
       "        vertical-align: middle;\n",
       "    }\n",
       "\n",
       "    .dataframe tbody tr th {\n",
       "        vertical-align: top;\n",
       "    }\n",
       "\n",
       "    .dataframe thead th {\n",
       "        text-align: right;\n",
       "    }\n",
       "</style>\n",
       "<table border=\"1\" class=\"dataframe\">\n",
       "  <thead>\n",
       "    <tr style=\"text-align: right;\">\n",
       "      <th></th>\n",
       "      <th>productID</th>\n",
       "      <th>productName</th>\n",
       "      <th>supplierID</th>\n",
       "      <th>categoryID</th>\n",
       "      <th>quantityPerUnit</th>\n",
       "      <th>unitPrice</th>\n",
       "      <th>unitsInStock</th>\n",
       "      <th>unitsOnOrder</th>\n",
       "      <th>reorderLevel</th>\n",
       "      <th>discontinued</th>\n",
       "    </tr>\n",
       "  </thead>\n",
       "  <tbody>\n",
       "    <tr>\n",
       "      <th>27</th>\n",
       "      <td>28</td>\n",
       "      <td>Rössle Sauerkraut</td>\n",
       "      <td>12</td>\n",
       "      <td>7</td>\n",
       "      <td>25 - 825 g cans</td>\n",
       "      <td>45.60</td>\n",
       "      <td>26</td>\n",
       "      <td>0</td>\n",
       "      <td>0</td>\n",
       "      <td>1</td>\n",
       "    </tr>\n",
       "    <tr>\n",
       "      <th>40</th>\n",
       "      <td>41</td>\n",
       "      <td>Jack's New England Clam Chowder</td>\n",
       "      <td>19</td>\n",
       "      <td>8</td>\n",
       "      <td>12 - 12 oz cans</td>\n",
       "      <td>9.65</td>\n",
       "      <td>85</td>\n",
       "      <td>0</td>\n",
       "      <td>10</td>\n",
       "      <td>0</td>\n",
       "    </tr>\n",
       "    <tr>\n",
       "      <th>25</th>\n",
       "      <td>26</td>\n",
       "      <td>Gumbär Gummibärchen</td>\n",
       "      <td>11</td>\n",
       "      <td>3</td>\n",
       "      <td>100 - 250 g bags</td>\n",
       "      <td>31.23</td>\n",
       "      <td>15</td>\n",
       "      <td>0</td>\n",
       "      <td>0</td>\n",
       "      <td>0</td>\n",
       "    </tr>\n",
       "    <tr>\n",
       "      <th>74</th>\n",
       "      <td>75</td>\n",
       "      <td>Rhönbräu Klosterbier</td>\n",
       "      <td>12</td>\n",
       "      <td>1</td>\n",
       "      <td>24 - 0.5 l bottles</td>\n",
       "      <td>7.75</td>\n",
       "      <td>125</td>\n",
       "      <td>0</td>\n",
       "      <td>25</td>\n",
       "      <td>0</td>\n",
       "    </tr>\n",
       "    <tr>\n",
       "      <th>45</th>\n",
       "      <td>46</td>\n",
       "      <td>Spegesild</td>\n",
       "      <td>21</td>\n",
       "      <td>8</td>\n",
       "      <td>4 - 450 g glasses</td>\n",
       "      <td>12.00</td>\n",
       "      <td>95</td>\n",
       "      <td>0</td>\n",
       "      <td>0</td>\n",
       "      <td>0</td>\n",
       "    </tr>\n",
       "  </tbody>\n",
       "</table>\n",
       "</div>"
      ],
      "text/plain": [
       "    productID                      productName  supplierID  categoryID  \\\n",
       "27         28                Rössle Sauerkraut          12           7   \n",
       "40         41  Jack's New England Clam Chowder          19           8   \n",
       "25         26              Gumbär Gummibärchen          11           3   \n",
       "74         75             Rhönbräu Klosterbier          12           1   \n",
       "45         46                        Spegesild          21           8   \n",
       "\n",
       "       quantityPerUnit  unitPrice  unitsInStock  unitsOnOrder  reorderLevel  \\\n",
       "27     25 - 825 g cans      45.60            26             0             0   \n",
       "40     12 - 12 oz cans       9.65            85             0            10   \n",
       "25    100 - 250 g bags      31.23            15             0             0   \n",
       "74  24 - 0.5 l bottles       7.75           125             0            25   \n",
       "45   4 - 450 g glasses      12.00            95             0             0   \n",
       "\n",
       "    discontinued  \n",
       "27             1  \n",
       "40             0  \n",
       "25             0  \n",
       "74             0  \n",
       "45             0  "
      ]
     },
     "execution_count": 3,
     "metadata": {},
     "output_type": "execute_result"
    }
   ],
   "source": [
    "products.sample(5)"
   ]
  },
  {
   "cell_type": "markdown",
   "metadata": {
    "id": "pQd8nmtZuCtO"
   },
   "source": [
    "## Running queries with prql"
   ]
  },
  {
   "cell_type": "code",
   "execution_count": 4,
   "metadata": {
    "colab": {
     "base_uri": "https://localhost:8080/",
     "height": 143
    },
    "id": "vAM0JXxWomzH",
    "outputId": "71d1fd0c-75c3-4159-d4d7-66a7190a0eb7",
    "tags": []
   },
   "outputs": [
    {
     "data": {
      "text/html": [
       "<div>\n",
       "<style scoped>\n",
       "    .dataframe tbody tr th:only-of-type {\n",
       "        vertical-align: middle;\n",
       "    }\n",
       "\n",
       "    .dataframe tbody tr th {\n",
       "        vertical-align: top;\n",
       "    }\n",
       "\n",
       "    .dataframe thead th {\n",
       "        text-align: right;\n",
       "    }\n",
       "</style>\n",
       "<table border=\"1\" class=\"dataframe\">\n",
       "  <thead>\n",
       "    <tr style=\"text-align: right;\">\n",
       "      <th></th>\n",
       "      <th>productID</th>\n",
       "      <th>productName</th>\n",
       "      <th>supplierID</th>\n",
       "      <th>categoryID</th>\n",
       "      <th>quantityPerUnit</th>\n",
       "      <th>unitPrice</th>\n",
       "      <th>unitsInStock</th>\n",
       "      <th>unitsOnOrder</th>\n",
       "      <th>reorderLevel</th>\n",
       "      <th>discontinued</th>\n",
       "    </tr>\n",
       "  </thead>\n",
       "  <tbody>\n",
       "    <tr>\n",
       "      <th>0</th>\n",
       "      <td>1</td>\n",
       "      <td>Chai</td>\n",
       "      <td>1</td>\n",
       "      <td>1</td>\n",
       "      <td>10 boxes x 20 bags</td>\n",
       "      <td>18.0</td>\n",
       "      <td>39</td>\n",
       "      <td>0</td>\n",
       "      <td>10</td>\n",
       "      <td>0</td>\n",
       "    </tr>\n",
       "    <tr>\n",
       "      <th>1</th>\n",
       "      <td>2</td>\n",
       "      <td>Chang</td>\n",
       "      <td>1</td>\n",
       "      <td>1</td>\n",
       "      <td>24 - 12 oz bottles</td>\n",
       "      <td>19.0</td>\n",
       "      <td>17</td>\n",
       "      <td>40</td>\n",
       "      <td>25</td>\n",
       "      <td>0</td>\n",
       "    </tr>\n",
       "    <tr>\n",
       "      <th>2</th>\n",
       "      <td>3</td>\n",
       "      <td>Aniseed Syrup</td>\n",
       "      <td>1</td>\n",
       "      <td>2</td>\n",
       "      <td>12 - 550 ml bottles</td>\n",
       "      <td>10.0</td>\n",
       "      <td>13</td>\n",
       "      <td>70</td>\n",
       "      <td>25</td>\n",
       "      <td>0</td>\n",
       "    </tr>\n",
       "  </tbody>\n",
       "</table>\n",
       "</div>"
      ],
      "text/plain": [
       "   productID    productName  supplierID  categoryID      quantityPerUnit  \\\n",
       "0          1           Chai           1           1   10 boxes x 20 bags   \n",
       "1          2          Chang           1           1   24 - 12 oz bottles   \n",
       "2          3  Aniseed Syrup           1           2  12 - 550 ml bottles   \n",
       "\n",
       "   unitPrice  unitsInStock  unitsOnOrder  reorderLevel  discontinued  \n",
       "0       18.0            39             0            10             0  \n",
       "1       19.0            17            40            25             0  \n",
       "2       10.0            13            70            25             0  "
      ]
     },
     "execution_count": 4,
     "metadata": {},
     "output_type": "execute_result"
    }
   ],
   "source": [
    "%%prql # activate prql magic\n",
    "# run prql query\n",
    "from p = `products` # prql can read pandas dataframe\n",
    "# from p = `products.csv` # or it can also read from csv file\n",
    "filter supplierID == 1"
   ]
  },
  {
   "cell_type": "code",
   "execution_count": 5,
   "metadata": {
    "colab": {
     "base_uri": "https://localhost:8080/",
     "height": 300
    },
    "id": "MlDiQkeZqRgb",
    "outputId": "d3f23b3f-e2ee-4cfd-8edc-82175bf0f42b",
    "tags": []
   },
   "outputs": [
    {
     "data": {
      "text/html": [
       "<div>\n",
       "<style scoped>\n",
       "    .dataframe tbody tr th:only-of-type {\n",
       "        vertical-align: middle;\n",
       "    }\n",
       "\n",
       "    .dataframe tbody tr th {\n",
       "        vertical-align: top;\n",
       "    }\n",
       "\n",
       "    .dataframe thead th {\n",
       "        text-align: right;\n",
       "    }\n",
       "</style>\n",
       "<table border=\"1\" class=\"dataframe\">\n",
       "  <thead>\n",
       "    <tr style=\"text-align: right;\">\n",
       "      <th></th>\n",
       "      <th>name</th>\n",
       "      <th>avg_price</th>\n",
       "    </tr>\n",
       "  </thead>\n",
       "  <tbody>\n",
       "    <tr>\n",
       "      <th>0</th>\n",
       "      <td>Côte de Blaye</td>\n",
       "      <td>263.50</td>\n",
       "    </tr>\n",
       "    <tr>\n",
       "      <th>1</th>\n",
       "      <td>Thüringer Rostbratwurst</td>\n",
       "      <td>123.79</td>\n",
       "    </tr>\n",
       "    <tr>\n",
       "      <th>2</th>\n",
       "      <td>Mishi Kobe Niku</td>\n",
       "      <td>97.00</td>\n",
       "    </tr>\n",
       "    <tr>\n",
       "      <th>3</th>\n",
       "      <td>Sir Rodney's Marmalade</td>\n",
       "      <td>81.00</td>\n",
       "    </tr>\n",
       "    <tr>\n",
       "      <th>4</th>\n",
       "      <td>Carnarvon Tigers</td>\n",
       "      <td>62.50</td>\n",
       "    </tr>\n",
       "    <tr>\n",
       "      <th>5</th>\n",
       "      <td>Raclette Courdavault</td>\n",
       "      <td>55.00</td>\n",
       "    </tr>\n",
       "    <tr>\n",
       "      <th>6</th>\n",
       "      <td>Manjimup Dried Apples</td>\n",
       "      <td>53.00</td>\n",
       "    </tr>\n",
       "    <tr>\n",
       "      <th>7</th>\n",
       "      <td>Tarte au sucre</td>\n",
       "      <td>49.30</td>\n",
       "    </tr>\n",
       "    <tr>\n",
       "      <th>8</th>\n",
       "      <td>Ipoh Coffee</td>\n",
       "      <td>46.00</td>\n",
       "    </tr>\n",
       "    <tr>\n",
       "      <th>9</th>\n",
       "      <td>Rössle Sauerkraut</td>\n",
       "      <td>45.60</td>\n",
       "    </tr>\n",
       "  </tbody>\n",
       "</table>\n",
       "</div>"
      ],
      "text/plain": [
       "                      name  avg_price\n",
       "0            Côte de Blaye     263.50\n",
       "1  Thüringer Rostbratwurst     123.79\n",
       "2          Mishi Kobe Niku      97.00\n",
       "3   Sir Rodney's Marmalade      81.00\n",
       "4         Carnarvon Tigers      62.50\n",
       "5     Raclette Courdavault      55.00\n",
       "6    Manjimup Dried Apples      53.00\n",
       "7           Tarte au sucre      49.30\n",
       "8              Ipoh Coffee      46.00\n",
       "9        Rössle Sauerkraut      45.60"
      ]
     },
     "execution_count": 5,
     "metadata": {},
     "output_type": "execute_result"
    }
   ],
   "source": [
    "%%prql\n",
    "(from p = `products` # set table alias\n",
    "    group name = productName ( # set column alias\n",
    "        aggregate [avg_price = average unitPrice] #set agg alias\n",
    "        )\n",
    "    sort [-avg_price,] # sort descending\n",
    "    take 10\n",
    ")"
   ]
  },
  {
   "cell_type": "code",
   "execution_count": 6,
   "metadata": {
    "id": "tyOGuYoerLrY",
    "tags": []
   },
   "outputs": [],
   "source": [
    "results = %prql from p = `products` | aggregate [min_units_in_stock = min unitsInStock, max_units_in_stock = max unitsInStock]"
   ]
  },
  {
   "cell_type": "code",
   "execution_count": 11,
   "metadata": {
    "colab": {
     "base_uri": "https://localhost:8080/",
     "height": 81
    },
    "id": "Ueikm9ZtrQyu",
    "outputId": "dc3f9147-d1b7-4b4a-e362-d8248f1d14ac",
    "tags": []
   },
   "outputs": [
    {
     "data": {
      "text/html": [
       "<div>\n",
       "<style scoped>\n",
       "    .dataframe tbody tr th:only-of-type {\n",
       "        vertical-align: middle;\n",
       "    }\n",
       "\n",
       "    .dataframe tbody tr th {\n",
       "        vertical-align: top;\n",
       "    }\n",
       "\n",
       "    .dataframe thead th {\n",
       "        text-align: right;\n",
       "    }\n",
       "</style>\n",
       "<table border=\"1\" class=\"dataframe\">\n",
       "  <thead>\n",
       "    <tr style=\"text-align: right;\">\n",
       "      <th></th>\n",
       "      <th>min_units_in_stock</th>\n",
       "      <th>max_units_in_stock</th>\n",
       "    </tr>\n",
       "  </thead>\n",
       "  <tbody>\n",
       "    <tr>\n",
       "      <th>0</th>\n",
       "      <td>0</td>\n",
       "      <td>125</td>\n",
       "    </tr>\n",
       "  </tbody>\n",
       "</table>\n",
       "</div>"
      ],
      "text/plain": [
       "   min_units_in_stock  max_units_in_stock\n",
       "0                   0                 125"
      ]
     },
     "execution_count": 11,
     "metadata": {},
     "output_type": "execute_result"
    }
   ],
   "source": [
    "results"
   ]
  },
  {
   "cell_type": "markdown",
   "metadata": {
    "id": "fHsSfGUmuMil"
   },
   "source": [
    "## Contact\n",
    "\n",
    "<!-- Avatar -->\n",
    "<img src=\"../Pictures/profile2.png\" alt=\"me\" width=\"75\" height=\"80\">\n",
    "<!-- Text with color, font, fontsize and specific size -->\n",
    "<p style=\"color:#323232; font-family: Helevetica; font-size: 20px;\">Jesus L. Monroy<br>Economist | Data Scientist</p>\n",
    "<!-- Insert url links in logos -->\n",
    "<!-- style=\"padding-left:8px\" adds spaces before logo link -->\n",
    "<!-- Telegram -->\n",
    "<a href=\"https://t.me/j3suslm\" target=\"_blank\" rel=\"noreferrer\"> <img src=\"https://upload.wikimedia.org/wikipedia/commons/thumb/e/ef/Telegram_X_2019_Logo.svg/2048px-Telegram_X_2019_Logo.png?size=16&color=3b3b3b\" alt=\"telegram\" width=\"30\" height=\"22\" style=\"padding-left:8px\"/>\n",
    "<!-- Twitter -->\n",
    "<a href=\"https://www.twitter.com/sqlalchemist\" target=\"_blank\" rel=\"noreferrer\"> <img src=\"https://toppng.com/public/uploads/preview/twitter-x-new-logo-round-icon-png-11692480241tdbz6jparr.webp?size=16&color=3b3b3b\" alt=\"twitter\" width=\"30\" height=\"22\" style=\"padding-left:8px\"/>\n",
    "<!-- Github -->\n",
    "<a href=\"https://github.com/SqlAlchemist/My-portfolio\" target=\"_blank\" rel=\"noreferrer\"> <img src=\"https://icongr.am/devicon/github-original.svg?size=16&color=3b3b3b\" alt=\"github\" width=\"30\" height=\"30\" style=\"padding-left:8px\"/>\n",
    "<!-- Linkedin -->\n",
    "<a href=\"https://www.linkedin.com/in/j3sus-lmonroy\" target=\"_blank\" rel=\"noreferrer\"> <img src=\"https://icongr.am/simple/linkedin.svg?size=16&color=3b3b3b\" alt=\"linkedin\" width=\"30\" height=\"30\" style=\"padding-left:8px\"/>\n",
    "<!-- Medium -->\n",
    "<a href=\"https://medium.com/@jesus_lmonroy\" target=\"_blank\" rel=\"noreferrer\"> <img src=\"https://cdn1.iconfinder.com/data/icons/social-media-and-logos-12/32/Logo_medium-512.png?size=55&color=3b3b3b\" alt=\"medium\" width=\"30\" height=\"33\" style=\"padding-left:8px\"/>"
   ]
  }
 ],
 "metadata": {
  "colab": {
   "provenance": [],
   "toc_visible": true
  },
  "kernelspec": {
   "display_name": "Python 3 (ipykernel)",
   "language": "python",
   "name": "python3"
  },
  "language_info": {
   "codemirror_mode": {
    "name": "ipython",
    "version": 3
   },
   "file_extension": ".py",
   "mimetype": "text/x-python",
   "name": "python",
   "nbconvert_exporter": "python",
   "pygments_lexer": "ipython3",
   "version": "3.11.5"
  }
 },
 "nbformat": 4,
 "nbformat_minor": 4
}
