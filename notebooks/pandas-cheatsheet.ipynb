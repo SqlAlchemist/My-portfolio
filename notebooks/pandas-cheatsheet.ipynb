{
 "cells": [
  {
   "cell_type": "markdown",
   "metadata": {
    "cell_id": "00000-788e9458-32d5-4abb-adc6-26af92f26929",
    "deepnote_cell_type": "markdown",
    "tags": []
   },
   "source": [
    "# Most Common Pandas Cheetsheet Questions"
   ]
  },
  {
   "cell_type": "markdown",
   "metadata": {
    "cell_id": "00000-5eec2dfb-49cd-4b13-9365-d462100eda3b",
    "deepnote_cell_type": "markdown",
    "tags": []
   },
   "source": [
    "Let's face it. Pandas API can be pretty confusing. They sometimes use `camelCase` instead of `pascal_case` and the names of the functions are often not the easiest to remember. Is it `count_values` or `value_counts` or `values_counts`? I never know and that's why I end up searching for the same things over and over again. \n",
    "\n",
    "I decided to make this notebook to put all the common things I'm googling into one place. These are the most common questions I found useful on StackOverflow. Every answer will link to the original post whose authors deserve all the credit."
   ]
  },
  {
   "cell_type": "markdown",
   "metadata": {
    "cell_id": "00001-03399f13-c2db-48a0-bae6-a7f4ee00a217",
    "deepnote_cell_type": "markdown",
    "tags": []
   },
   "source": [
    "# Select rows based on column values from Pandas DataFrame"
   ]
  },
  {
   "cell_type": "markdown",
   "metadata": {
    "cell_id": "00002-57fe8a15-c73a-4243-8828-2439467e50fe",
    "deepnote_cell_type": "markdown",
    "tags": []
   },
   "source": [
    "#### Columns that equal value"
   ]
  },
  {
   "cell_type": "code",
   "execution_count": null,
   "metadata": {
    "cell_id": "00003-d0271f9f-0eee-4b89-8340-63272aeb27ce",
    "deepnote_cell_type": "code",
    "tags": []
   },
   "outputs": [],
   "source": [
    "# some_value is scalar (e.g. a number)\n",
    "df.loc[df['column_name'] == some_value]\n",
    "\n",
    "# some_values is iterable (e.g. a list)\n",
    "df.loc[df['column_name'].isin(some_values)]\n",
    "\n",
    "# Use & to combine multiple conditions. Note the parantheses!\n",
    "df.loc[(df['column_name'] >= A) & (df['column_name'] <= B)]"
   ]
  },
  {
   "cell_type": "markdown",
   "metadata": {
    "cell_id": "00004-45b3b647-c1e3-49de-bc04-fddced64d6a9",
    "deepnote_cell_type": "markdown",
    "tags": []
   },
   "source": [
    "#### Columns that do not equal value"
   ]
  },
  {
   "cell_type": "code",
   "execution_count": null,
   "metadata": {
    "cell_id": "00005-c190be3c-bfed-48aa-9ef0-e9e579bb2fb5",
    "deepnote_cell_type": "code",
    "tags": []
   },
   "outputs": [],
   "source": [
    "# Use != for rows which do not equal scalar some_value (e.g. a number)\n",
    "df.loc[df['column_name'] != some_value]\n",
    "\n",
    "# Use ~ for rows which do not equal iterable some_value (e.g. a list)\n",
    "df.loc[~df['column_name'].isin(some_values)]"
   ]
  },
  {
   "cell_type": "markdown",
   "metadata": {
    "cell_id": "00006-27b743ef-9d70-4068-955d-6548f2588391",
    "deepnote_cell_type": "markdown",
    "tags": []
   },
   "source": [
    "[Source](https://stackoverflow.com/a/17071908/7595633)"
   ]
  },
  {
   "cell_type": "markdown",
   "metadata": {
    "cell_id": "00007-b681f48b-e94e-46c0-b3db-194cef552580",
    "deepnote_cell_type": "markdown",
    "tags": []
   },
   "source": [
    "# Select multiple columns of Pandas DataFrame"
   ]
  },
  {
   "cell_type": "code",
   "execution_count": null,
   "metadata": {
    "cell_id": "00008-8e12f6f6-86ca-41ca-9d98-ea2057ed5a97",
    "deepnote_cell_type": "code",
    "tags": []
   },
   "outputs": [],
   "source": [
    "# By name\n",
    "df1 = df[['a', 'b']] # Note this produces a copy\n",
    "# By index\n",
    "df1 = df.iloc[:, 0:2] # Remember that Python does not slice inclusive of the ending index."
   ]
  },
  {
   "cell_type": "markdown",
   "metadata": {
    "cell_id": "00009-6e5c938a-7bc2-4ee9-b259-edb31410e6af",
    "deepnote_cell_type": "markdown",
    "tags": []
   },
   "source": [
    "[Source](https://stackoverflow.com/a/11287278/7595633)"
   ]
  },
  {
   "cell_type": "markdown",
   "metadata": {
    "cell_id": "00010-ce44c542-198c-42c6-8466-8848ea0bf19c",
    "deepnote_cell_type": "markdown",
    "tags": []
   },
   "source": [
    "# Iterate over rows of Pandas DataFrame"
   ]
  },
  {
   "cell_type": "markdown",
   "metadata": {
    "cell_id": "00011-73fb31bd-7e77-4afa-ba17-c9496147f92d",
    "deepnote_cell_type": "markdown",
    "tags": []
   },
   "source": [
    "Don't do it! It's not idiomatic. Vectorise your operations instead. Click [here for full reasoning](https://stackoverflow.com/a/55557758/7595633)"
   ]
  },
  {
   "cell_type": "markdown",
   "metadata": {
    "cell_id": "00012-ddbc19f0-e304-48df-b1cb-4e65c6e33f2b",
    "deepnote_cell_type": "markdown",
    "tags": []
   },
   "source": [
    "# Rename columns of Pandas DataFrame"
   ]
  },
  {
   "cell_type": "code",
   "execution_count": null,
   "metadata": {
    "cell_id": "00013-020780ef-482e-4923-be91-226cead5504e",
    "deepnote_cell_type": "code",
    "deepnote_to_be_reexecuted": false,
    "execution_millis": 0,
    "execution_start": 1614176545887,
    "is_code_hidden": true,
    "source_hash": "c6096756",
    "tags": []
   },
   "outputs": [],
   "source": [
    "import Pandas as pd\n",
    "df = pd.DataFrame({'$a':[1], '$b': [10]})"
   ]
  },
  {
   "cell_type": "markdown",
   "metadata": {
    "cell_id": "00014-e9a76c54-e470-4802-a305-91e69497b494",
    "deepnote_cell_type": "markdown",
    "tags": []
   },
   "source": [
    "#### All at once"
   ]
  },
  {
   "cell_type": "code",
   "execution_count": null,
   "metadata": {
    "allow_embed": false,
    "cell_id": "00015-e62e166a-6504-47c0-9215-69d0a1321f64",
    "deepnote_cell_type": "code",
    "deepnote_to_be_reexecuted": false,
    "execution_millis": 5,
    "execution_start": 1614176546204,
    "is_code_hidden": false,
    "source_hash": "f804c160",
    "tags": []
   },
   "outputs": [
    {
     "data": {
      "application/vnd.deepnote.dataframe.v2+json": {
       "column_count": 2,
       "columns": [
        {
         "dtype": "int64",
         "name": "$a",
         "stats": {
          "histogram": [
           {
            "bin_end": 0.6,
            "bin_start": 0.5,
            "count": 0
           },
           {
            "bin_end": 0.7,
            "bin_start": 0.6,
            "count": 0
           },
           {
            "bin_end": 0.8,
            "bin_start": 0.7,
            "count": 0
           },
           {
            "bin_end": 0.9,
            "bin_start": 0.8,
            "count": 0
           },
           {
            "bin_end": 1,
            "bin_start": 0.9,
            "count": 0
           },
           {
            "bin_end": 1.1,
            "bin_start": 1,
            "count": 1
           },
           {
            "bin_end": 1.2000000000000002,
            "bin_start": 1.1,
            "count": 0
           },
           {
            "bin_end": 1.3,
            "bin_start": 1.2000000000000002,
            "count": 0
           },
           {
            "bin_end": 1.4,
            "bin_start": 1.3,
            "count": 0
           },
           {
            "bin_end": 1.5,
            "bin_start": 1.4,
            "count": 0
           }
          ],
          "max": 1,
          "min": 1,
          "nan_count": 0,
          "unique_count": 1
         }
        },
        {
         "dtype": "int64",
         "name": "$b",
         "stats": {
          "histogram": [
           {
            "bin_end": 9.6,
            "bin_start": 9.5,
            "count": 0
           },
           {
            "bin_end": 9.7,
            "bin_start": 9.6,
            "count": 0
           },
           {
            "bin_end": 9.8,
            "bin_start": 9.7,
            "count": 0
           },
           {
            "bin_end": 9.9,
            "bin_start": 9.8,
            "count": 0
           },
           {
            "bin_end": 10,
            "bin_start": 9.9,
            "count": 0
           },
           {
            "bin_end": 10.1,
            "bin_start": 10,
            "count": 1
           },
           {
            "bin_end": 10.2,
            "bin_start": 10.1,
            "count": 0
           },
           {
            "bin_end": 10.3,
            "bin_start": 10.2,
            "count": 0
           },
           {
            "bin_end": 10.4,
            "bin_start": 10.3,
            "count": 0
           },
           {
            "bin_end": 10.5,
            "bin_start": 10.4,
            "count": 0
           }
          ],
          "max": 10,
          "min": 10,
          "nan_count": 0,
          "unique_count": 1
         }
        },
        {
         "dtype": "int64",
         "name": "_deepnote_index_column"
        }
       ],
       "row_count": 1,
       "rows_bottom": null,
       "rows_top": [
        {
         "$a": 1,
         "$b": 10,
         "_deepnote_index_column": 0
        }
       ]
      },
      "text/html": [
       "<div>\n",
       "<style scoped>\n",
       "    .dataframe tbody tr th:only-of-type {\n",
       "        vertical-align: middle;\n",
       "    }\n",
       "\n",
       "    .dataframe tbody tr th {\n",
       "        vertical-align: top;\n",
       "    }\n",
       "\n",
       "    .dataframe thead th {\n",
       "        text-align: right;\n",
       "    }\n",
       "</style>\n",
       "<table border=\"1\" class=\"dataframe\">\n",
       "  <thead>\n",
       "    <tr style=\"text-align: right;\">\n",
       "      <th></th>\n",
       "      <th>$a</th>\n",
       "      <th>$b</th>\n",
       "    </tr>\n",
       "  </thead>\n",
       "  <tbody>\n",
       "    <tr>\n",
       "      <th>0</th>\n",
       "      <td>1</td>\n",
       "      <td>10</td>\n",
       "    </tr>\n",
       "  </tbody>\n",
       "</table>\n",
       "</div>"
      ],
      "text/plain": [
       "   $a  $b\n",
       "0   1  10"
      ]
     },
     "execution_count": 7,
     "metadata": {},
     "output_type": "execute_result"
    }
   ],
   "source": [
    "df"
   ]
  },
  {
   "cell_type": "code",
   "execution_count": null,
   "metadata": {
    "allow_embed": false,
    "cell_id": "00016-53fd1634-5852-4869-8c70-4b9cb2f342ff",
    "deepnote_cell_type": "code",
    "deepnote_to_be_reexecuted": false,
    "execution_millis": 15,
    "execution_start": 1614176546540,
    "is_code_hidden": false,
    "source_hash": "95fa3e5e",
    "tags": []
   },
   "outputs": [
    {
     "data": {
      "application/vnd.deepnote.dataframe.v2+json": {
       "column_count": 2,
       "columns": [
        {
         "dtype": "int64",
         "name": "first_column",
         "stats": {
          "histogram": [
           {
            "bin_end": 0.6,
            "bin_start": 0.5,
            "count": 0
           },
           {
            "bin_end": 0.7,
            "bin_start": 0.6,
            "count": 0
           },
           {
            "bin_end": 0.8,
            "bin_start": 0.7,
            "count": 0
           },
           {
            "bin_end": 0.9,
            "bin_start": 0.8,
            "count": 0
           },
           {
            "bin_end": 1,
            "bin_start": 0.9,
            "count": 0
           },
           {
            "bin_end": 1.1,
            "bin_start": 1,
            "count": 1
           },
           {
            "bin_end": 1.2000000000000002,
            "bin_start": 1.1,
            "count": 0
           },
           {
            "bin_end": 1.3,
            "bin_start": 1.2000000000000002,
            "count": 0
           },
           {
            "bin_end": 1.4,
            "bin_start": 1.3,
            "count": 0
           },
           {
            "bin_end": 1.5,
            "bin_start": 1.4,
            "count": 0
           }
          ],
          "max": 1,
          "min": 1,
          "nan_count": 0,
          "unique_count": 1
         }
        },
        {
         "dtype": "int64",
         "name": "second_column",
         "stats": {
          "histogram": [
           {
            "bin_end": 9.6,
            "bin_start": 9.5,
            "count": 0
           },
           {
            "bin_end": 9.7,
            "bin_start": 9.6,
            "count": 0
           },
           {
            "bin_end": 9.8,
            "bin_start": 9.7,
            "count": 0
           },
           {
            "bin_end": 9.9,
            "bin_start": 9.8,
            "count": 0
           },
           {
            "bin_end": 10,
            "bin_start": 9.9,
            "count": 0
           },
           {
            "bin_end": 10.1,
            "bin_start": 10,
            "count": 1
           },
           {
            "bin_end": 10.2,
            "bin_start": 10.1,
            "count": 0
           },
           {
            "bin_end": 10.3,
            "bin_start": 10.2,
            "count": 0
           },
           {
            "bin_end": 10.4,
            "bin_start": 10.3,
            "count": 0
           },
           {
            "bin_end": 10.5,
            "bin_start": 10.4,
            "count": 0
           }
          ],
          "max": 10,
          "min": 10,
          "nan_count": 0,
          "unique_count": 1
         }
        },
        {
         "dtype": "int64",
         "name": "_deepnote_index_column"
        }
       ],
       "row_count": 1,
       "rows_bottom": null,
       "rows_top": [
        {
         "_deepnote_index_column": 0,
         "first_column": 1,
         "second_column": 10
        }
       ]
      },
      "text/html": [
       "<div>\n",
       "<style scoped>\n",
       "    .dataframe tbody tr th:only-of-type {\n",
       "        vertical-align: middle;\n",
       "    }\n",
       "\n",
       "    .dataframe tbody tr th {\n",
       "        vertical-align: top;\n",
       "    }\n",
       "\n",
       "    .dataframe thead th {\n",
       "        text-align: right;\n",
       "    }\n",
       "</style>\n",
       "<table border=\"1\" class=\"dataframe\">\n",
       "  <thead>\n",
       "    <tr style=\"text-align: right;\">\n",
       "      <th></th>\n",
       "      <th>first_column</th>\n",
       "      <th>second_column</th>\n",
       "    </tr>\n",
       "  </thead>\n",
       "  <tbody>\n",
       "    <tr>\n",
       "      <th>0</th>\n",
       "      <td>1</td>\n",
       "      <td>10</td>\n",
       "    </tr>\n",
       "  </tbody>\n",
       "</table>\n",
       "</div>"
      ],
      "text/plain": [
       "   first_column  second_column\n",
       "0             1             10"
      ]
     },
     "execution_count": 8,
     "metadata": {},
     "output_type": "execute_result"
    }
   ],
   "source": [
    "df.columns = ['first_column', 'second_column']\n",
    "df"
   ]
  },
  {
   "cell_type": "markdown",
   "metadata": {
    "cell_id": "00017-86506ae8-2b67-4447-acfd-4171e626b7f0",
    "deepnote_cell_type": "markdown",
    "tags": []
   },
   "source": [
    "#### Only some"
   ]
  },
  {
   "cell_type": "code",
   "execution_count": null,
   "metadata": {
    "cell_id": "00018-04a4ffde-a127-4af4-ac8b-c22e9a3006d9",
    "deepnote_cell_type": "code",
    "deepnote_to_be_reexecuted": false,
    "execution_millis": 9,
    "execution_start": 1614176644202,
    "source_hash": "3563732d",
    "tags": []
   },
   "outputs": [
    {
     "data": {
      "application/vnd.deepnote.dataframe.v2+json": {
       "column_count": 2,
       "columns": [
        {
         "dtype": "int64",
         "name": "new_name",
         "stats": {
          "histogram": [
           {
            "bin_end": 0.6,
            "bin_start": 0.5,
            "count": 0
           },
           {
            "bin_end": 0.7,
            "bin_start": 0.6,
            "count": 0
           },
           {
            "bin_end": 0.8,
            "bin_start": 0.7,
            "count": 0
           },
           {
            "bin_end": 0.9,
            "bin_start": 0.8,
            "count": 0
           },
           {
            "bin_end": 1,
            "bin_start": 0.9,
            "count": 0
           },
           {
            "bin_end": 1.1,
            "bin_start": 1,
            "count": 1
           },
           {
            "bin_end": 1.2000000000000002,
            "bin_start": 1.1,
            "count": 0
           },
           {
            "bin_end": 1.3,
            "bin_start": 1.2000000000000002,
            "count": 0
           },
           {
            "bin_end": 1.4,
            "bin_start": 1.3,
            "count": 0
           },
           {
            "bin_end": 1.5,
            "bin_start": 1.4,
            "count": 0
           }
          ],
          "max": 1,
          "min": 1,
          "nan_count": 0,
          "unique_count": 1
         }
        },
        {
         "dtype": "int64",
         "name": "second_column",
         "stats": {
          "histogram": [
           {
            "bin_end": 9.6,
            "bin_start": 9.5,
            "count": 0
           },
           {
            "bin_end": 9.7,
            "bin_start": 9.6,
            "count": 0
           },
           {
            "bin_end": 9.8,
            "bin_start": 9.7,
            "count": 0
           },
           {
            "bin_end": 9.9,
            "bin_start": 9.8,
            "count": 0
           },
           {
            "bin_end": 10,
            "bin_start": 9.9,
            "count": 0
           },
           {
            "bin_end": 10.1,
            "bin_start": 10,
            "count": 1
           },
           {
            "bin_end": 10.2,
            "bin_start": 10.1,
            "count": 0
           },
           {
            "bin_end": 10.3,
            "bin_start": 10.2,
            "count": 0
           },
           {
            "bin_end": 10.4,
            "bin_start": 10.3,
            "count": 0
           },
           {
            "bin_end": 10.5,
            "bin_start": 10.4,
            "count": 0
           }
          ],
          "max": 10,
          "min": 10,
          "nan_count": 0,
          "unique_count": 1
         }
        },
        {
         "dtype": "int64",
         "name": "_deepnote_index_column"
        }
       ],
       "row_count": 1,
       "rows_bottom": null,
       "rows_top": [
        {
         "_deepnote_index_column": 0,
         "new_name": 1,
         "second_column": 10
        }
       ]
      },
      "text/html": [
       "<div>\n",
       "<style scoped>\n",
       "    .dataframe tbody tr th:only-of-type {\n",
       "        vertical-align: middle;\n",
       "    }\n",
       "\n",
       "    .dataframe tbody tr th {\n",
       "        vertical-align: top;\n",
       "    }\n",
       "\n",
       "    .dataframe thead th {\n",
       "        text-align: right;\n",
       "    }\n",
       "</style>\n",
       "<table border=\"1\" class=\"dataframe\">\n",
       "  <thead>\n",
       "    <tr style=\"text-align: right;\">\n",
       "      <th></th>\n",
       "      <th>new_name</th>\n",
       "      <th>second_column</th>\n",
       "    </tr>\n",
       "  </thead>\n",
       "  <tbody>\n",
       "    <tr>\n",
       "      <th>0</th>\n",
       "      <td>1</td>\n",
       "      <td>10</td>\n",
       "    </tr>\n",
       "  </tbody>\n",
       "</table>\n",
       "</div>"
      ],
      "text/plain": [
       "   new_name  second_column\n",
       "0         1             10"
      ]
     },
     "execution_count": 9,
     "metadata": {},
     "output_type": "execute_result"
    }
   ],
   "source": [
    "df.rename(columns = {'first_column': 'new_name'}, inplace = True)\n",
    "df"
   ]
  },
  {
   "cell_type": "markdown",
   "metadata": {
    "cell_id": "00019-92d4563e-b509-48ed-857d-9336ab2668ce",
    "deepnote_cell_type": "markdown",
    "tags": []
   },
   "source": [
    "[Source](https://stackoverflow.com/a/11346337/7595633)"
   ]
  },
  {
   "cell_type": "markdown",
   "metadata": {
    "cell_id": "00020-8669f804-df41-406f-a0a4-13b7af43c0e3",
    "deepnote_cell_type": "markdown",
    "tags": []
   },
   "source": [
    "# Delete columns of Pandas DataFrame"
   ]
  },
  {
   "cell_type": "code",
   "execution_count": null,
   "metadata": {
    "cell_id": "00021-7966b93d-8c9e-46c5-ba8b-94b34d236a93",
    "deepnote_cell_type": "code",
    "tags": []
   },
   "outputs": [],
   "source": [
    "# columns\n",
    "df.drop(columns=['B','C'])\n",
    "# rows\n",
    "df.drop(index=[0,1])\n"
   ]
  },
  {
   "cell_type": "markdown",
   "metadata": {
    "cell_id": "00022-1f63acef-9d2b-43dc-b0b5-d364b34c345a",
    "deepnote_cell_type": "markdown",
    "tags": []
   },
   "source": [
    "[Source](https://stackoverflow.com/a/18145399/7595633)"
   ]
  },
  {
   "cell_type": "markdown",
   "metadata": {
    "cell_id": "00023-97a93e0a-0e35-4575-bc75-9373ef94ba08",
    "deepnote_cell_type": "markdown",
    "tags": []
   },
   "source": [
    "# Get row/column count of Pandas DataFrame"
   ]
  },
  {
   "cell_type": "code",
   "execution_count": null,
   "metadata": {
    "cell_id": "00024-2088dc7a-b1f2-4399-9d52-16d77e7072c5",
    "deepnote_cell_type": "code",
    "tags": []
   },
   "outputs": [],
   "source": [
    "# rows\n",
    "len(df.index)\n",
    "# rows\n",
    "len(df.column)\n",
    "# both (but slow on big datasets)\n",
    "rows_count, columns_count = df.shape\n"
   ]
  },
  {
   "cell_type": "markdown",
   "metadata": {
    "cell_id": "00025-acdee23d-4237-4c61-a72c-40ce4d70b677",
    "deepnote_cell_type": "markdown",
    "tags": []
   },
   "source": [
    "[Source](https://stackoverflow.com/a/15943975/7595633)"
   ]
  },
  {
   "cell_type": "markdown",
   "metadata": {
    "cell_id": "00026-e77b281e-2b16-4126-a1a9-995c68401f4f",
    "deepnote_cell_type": "markdown",
    "tags": []
   },
   "source": [
    "# Get list of column headers of Pandas DataFrame"
   ]
  },
  {
   "cell_type": "code",
   "execution_count": null,
   "metadata": {
    "cell_id": "00027-f6767fb2-7b0b-4c86-b0a6-5af93b319d6c",
    "deepnote_cell_type": "code",
    "tags": []
   },
   "outputs": [],
   "source": [
    "# If you hate typing\n",
    "list(df)\n",
    "# If you hate not being explicit\n",
    "list(df.columns.values)"
   ]
  },
  {
   "cell_type": "markdown",
   "metadata": {
    "cell_id": "00028-92c44a58-ceec-4512-bba5-cfca59f103bf",
    "deepnote_cell_type": "markdown",
    "tags": []
   },
   "source": [
    "[Source](https://stackoverflow.com/a/19483025/7595633)"
   ]
  },
  {
   "cell_type": "markdown",
   "metadata": {
    "cell_id": "00029-a2134b23-1446-41f8-8108-77af84aa2964",
    "deepnote_cell_type": "markdown",
    "tags": []
   },
   "source": [
    "# Rearange the order of columns of Pandas DataFrame"
   ]
  },
  {
   "cell_type": "code",
   "execution_count": null,
   "metadata": {
    "cell_id": "00030-77e06935-4c6c-490f-8765-5a569d683f5a",
    "deepnote_cell_type": "code",
    "deepnote_to_be_reexecuted": false,
    "execution_millis": 15,
    "execution_start": 1614179269259,
    "is_code_hidden": true,
    "output_cleared": true,
    "source_hash": null,
    "tags": []
   },
   "outputs": [],
   "source": [
    "import Pandas as pd\n",
    "import numpy as np\n",
    "df = pd.DataFrame(np.random.rand(1, 2))"
   ]
  },
  {
   "cell_type": "code",
   "execution_count": null,
   "metadata": {
    "cell_id": "00031-5154aeac-369c-48dc-aec1-29d88348b663",
    "deepnote_cell_type": "code",
    "deepnote_to_be_reexecuted": false,
    "execution_millis": 4,
    "execution_start": 1614179322366,
    "source_hash": "2e611ac9",
    "tags": []
   },
   "outputs": [
    {
     "data": {
      "application/vnd.deepnote.dataframe.v2+json": {
       "column_count": 2,
       "columns": [
        {
         "dtype": "float64",
         "name": 0,
         "stats": {
          "histogram": [
           {
            "bin_end": 0.04482475973728542,
            "bin_start": -0.05517524026271459,
            "count": 0
           },
           {
            "bin_end": 0.14482475973728542,
            "bin_start": 0.04482475973728542,
            "count": 0
           },
           {
            "bin_end": 0.24482475973728546,
            "bin_start": 0.14482475973728542,
            "count": 0
           },
           {
            "bin_end": 0.34482475973728544,
            "bin_start": 0.24482475973728546,
            "count": 0
           },
           {
            "bin_end": 0.4448247597372854,
            "bin_start": 0.34482475973728544,
            "count": 0
           },
           {
            "bin_end": 0.5448247597372855,
            "bin_start": 0.4448247597372854,
            "count": 1
           },
           {
            "bin_end": 0.6448247597372855,
            "bin_start": 0.5448247597372855,
            "count": 0
           },
           {
            "bin_end": 0.7448247597372855,
            "bin_start": 0.6448247597372855,
            "count": 0
           },
           {
            "bin_end": 0.8448247597372854,
            "bin_start": 0.7448247597372855,
            "count": 0
           },
           {
            "bin_end": 0.9448247597372854,
            "bin_start": 0.8448247597372854,
            "count": 0
           }
          ],
          "max": 0.4448247597372854,
          "min": 0.4448247597372854,
          "nan_count": 0,
          "unique_count": 1
         }
        },
        {
         "dtype": "float64",
         "name": 1,
         "stats": {
          "histogram": [
           {
            "bin_end": 0.4677733837606517,
            "bin_start": 0.3677733837606517,
            "count": 0
           },
           {
            "bin_end": 0.5677733837606518,
            "bin_start": 0.4677733837606517,
            "count": 0
           },
           {
            "bin_end": 0.6677733837606518,
            "bin_start": 0.5677733837606518,
            "count": 0
           },
           {
            "bin_end": 0.7677733837606517,
            "bin_start": 0.6677733837606518,
            "count": 0
           },
           {
            "bin_end": 0.8677733837606517,
            "bin_start": 0.7677733837606517,
            "count": 0
           },
           {
            "bin_end": 0.9677733837606518,
            "bin_start": 0.8677733837606517,
            "count": 1
           },
           {
            "bin_end": 1.0677733837606518,
            "bin_start": 0.9677733837606518,
            "count": 0
           },
           {
            "bin_end": 1.1677733837606517,
            "bin_start": 1.0677733837606518,
            "count": 0
           },
           {
            "bin_end": 1.2677733837606517,
            "bin_start": 1.1677733837606517,
            "count": 0
           },
           {
            "bin_end": 1.3677733837606518,
            "bin_start": 1.2677733837606517,
            "count": 0
           }
          ],
          "max": 0.8677733837606517,
          "min": 0.8677733837606517,
          "nan_count": 0,
          "unique_count": 1
         }
        },
        {
         "dtype": "int64",
         "name": "_deepnote_index_column"
        }
       ],
       "row_count": 1,
       "rows_bottom": null,
       "rows_top": [
        {
         "0": 0.4448247597372854,
         "1": 0.8677733837606517,
         "_deepnote_index_column": 0
        }
       ]
      },
      "text/html": [
       "<div>\n",
       "<style scoped>\n",
       "    .dataframe tbody tr th:only-of-type {\n",
       "        vertical-align: middle;\n",
       "    }\n",
       "\n",
       "    .dataframe tbody tr th {\n",
       "        vertical-align: top;\n",
       "    }\n",
       "\n",
       "    .dataframe thead th {\n",
       "        text-align: right;\n",
       "    }\n",
       "</style>\n",
       "<table border=\"1\" class=\"dataframe\">\n",
       "  <thead>\n",
       "    <tr style=\"text-align: right;\">\n",
       "      <th></th>\n",
       "      <th>0</th>\n",
       "      <th>1</th>\n",
       "    </tr>\n",
       "  </thead>\n",
       "  <tbody>\n",
       "    <tr>\n",
       "      <th>0</th>\n",
       "      <td>0.444825</td>\n",
       "      <td>0.867773</td>\n",
       "    </tr>\n",
       "  </tbody>\n",
       "</table>\n",
       "</div>"
      ],
      "text/plain": [
       "          0         1\n",
       "0  0.444825  0.867773"
      ]
     },
     "execution_count": 7,
     "metadata": {},
     "output_type": "execute_result"
    }
   ],
   "source": [
    "# Original dataframe\n",
    "df"
   ]
  },
  {
   "cell_type": "code",
   "execution_count": null,
   "metadata": {
    "cell_id": "00032-070bdbc1-083a-499e-8ca7-3996964c0d30",
    "deepnote_cell_type": "code",
    "deepnote_to_be_reexecuted": false,
    "execution_millis": 11,
    "execution_start": 1614179351304,
    "source_hash": "ab8d9048",
    "tags": []
   },
   "outputs": [
    {
     "data": {
      "application/vnd.deepnote.dataframe.v2+json": {
       "column_count": 2,
       "columns": [
        {
         "dtype": "float64",
         "name": 1,
         "stats": {
          "histogram": [
           {
            "bin_end": 0.4677733837606517,
            "bin_start": 0.3677733837606517,
            "count": 0
           },
           {
            "bin_end": 0.5677733837606518,
            "bin_start": 0.4677733837606517,
            "count": 0
           },
           {
            "bin_end": 0.6677733837606518,
            "bin_start": 0.5677733837606518,
            "count": 0
           },
           {
            "bin_end": 0.7677733837606517,
            "bin_start": 0.6677733837606518,
            "count": 0
           },
           {
            "bin_end": 0.8677733837606517,
            "bin_start": 0.7677733837606517,
            "count": 0
           },
           {
            "bin_end": 0.9677733837606518,
            "bin_start": 0.8677733837606517,
            "count": 1
           },
           {
            "bin_end": 1.0677733837606518,
            "bin_start": 0.9677733837606518,
            "count": 0
           },
           {
            "bin_end": 1.1677733837606517,
            "bin_start": 1.0677733837606518,
            "count": 0
           },
           {
            "bin_end": 1.2677733837606517,
            "bin_start": 1.1677733837606517,
            "count": 0
           },
           {
            "bin_end": 1.3677733837606518,
            "bin_start": 1.2677733837606517,
            "count": 0
           }
          ],
          "max": 0.8677733837606517,
          "min": 0.8677733837606517,
          "nan_count": 0,
          "unique_count": 1
         }
        },
        {
         "dtype": "float64",
         "name": 0,
         "stats": {
          "histogram": [
           {
            "bin_end": 0.04482475973728542,
            "bin_start": -0.05517524026271459,
            "count": 0
           },
           {
            "bin_end": 0.14482475973728542,
            "bin_start": 0.04482475973728542,
            "count": 0
           },
           {
            "bin_end": 0.24482475973728546,
            "bin_start": 0.14482475973728542,
            "count": 0
           },
           {
            "bin_end": 0.34482475973728544,
            "bin_start": 0.24482475973728546,
            "count": 0
           },
           {
            "bin_end": 0.4448247597372854,
            "bin_start": 0.34482475973728544,
            "count": 0
           },
           {
            "bin_end": 0.5448247597372855,
            "bin_start": 0.4448247597372854,
            "count": 1
           },
           {
            "bin_end": 0.6448247597372855,
            "bin_start": 0.5448247597372855,
            "count": 0
           },
           {
            "bin_end": 0.7448247597372855,
            "bin_start": 0.6448247597372855,
            "count": 0
           },
           {
            "bin_end": 0.8448247597372854,
            "bin_start": 0.7448247597372855,
            "count": 0
           },
           {
            "bin_end": 0.9448247597372854,
            "bin_start": 0.8448247597372854,
            "count": 0
           }
          ],
          "max": 0.4448247597372854,
          "min": 0.4448247597372854,
          "nan_count": 0,
          "unique_count": 1
         }
        },
        {
         "dtype": "int64",
         "name": "_deepnote_index_column"
        }
       ],
       "row_count": 1,
       "rows_bottom": null,
       "rows_top": [
        {
         "0": 0.4448247597372854,
         "1": 0.8677733837606517,
         "_deepnote_index_column": 0
        }
       ]
      },
      "text/html": [
       "<div>\n",
       "<style scoped>\n",
       "    .dataframe tbody tr th:only-of-type {\n",
       "        vertical-align: middle;\n",
       "    }\n",
       "\n",
       "    .dataframe tbody tr th {\n",
       "        vertical-align: top;\n",
       "    }\n",
       "\n",
       "    .dataframe thead th {\n",
       "        text-align: right;\n",
       "    }\n",
       "</style>\n",
       "<table border=\"1\" class=\"dataframe\">\n",
       "  <thead>\n",
       "    <tr style=\"text-align: right;\">\n",
       "      <th></th>\n",
       "      <th>1</th>\n",
       "      <th>0</th>\n",
       "    </tr>\n",
       "  </thead>\n",
       "  <tbody>\n",
       "    <tr>\n",
       "      <th>0</th>\n",
       "      <td>0.867773</td>\n",
       "      <td>0.444825</td>\n",
       "    </tr>\n",
       "  </tbody>\n",
       "</table>\n",
       "</div>"
      ],
      "text/plain": [
       "          1         0\n",
       "0  0.867773  0.444825"
      ]
     },
     "execution_count": 9,
     "metadata": {},
     "output_type": "execute_result"
    }
   ],
   "source": [
    "# Change column order\n",
    "df = df[[1,0]]\n",
    "df"
   ]
  },
  {
   "cell_type": "markdown",
   "metadata": {
    "cell_id": "00031-51f5c23c-51a9-4c43-8395-c122b47a9af0",
    "deepnote_cell_type": "markdown",
    "tags": []
   },
   "source": [
    "[Source](https://stackoverflow.com/a/13148611/7595633)"
   ]
  },
  {
   "cell_type": "markdown",
   "metadata": {
    "cell_id": "00032-806cbaf5-28cf-4339-83fb-a334ee5c9a70",
    "deepnote_cell_type": "markdown",
    "tags": []
   },
   "source": [
    "# Add new column to Pandas DataFrame"
   ]
  },
  {
   "cell_type": "code",
   "execution_count": null,
   "metadata": {
    "cell_id": "00033-61428ba1-f09b-4d64-ac55-8eb6899c6302",
    "deepnote_cell_type": "code",
    "tags": []
   },
   "outputs": [],
   "source": [
    "# Simple version\n",
    "df['new_name'] = new_column\n",
    "# Proper version recommended by Pandas\n",
    "df = df.assign(new_name=new_column)"
   ]
  },
  {
   "cell_type": "markdown",
   "metadata": {
    "cell_id": "00034-2eb3dbd7-70d0-4211-93fe-3b589ab4461e",
    "deepnote_cell_type": "markdown",
    "tags": []
   },
   "source": [
    "[Source](https://stackoverflow.com/a/12555510/7595633)"
   ]
  },
  {
   "cell_type": "markdown",
   "metadata": {
    "cell_id": "00035-47537395-ed5b-403b-bcaf-047df7a30103",
    "deepnote_cell_type": "markdown",
    "tags": []
   },
   "source": [
    "# Add new rom to Pandas DataFrame"
   ]
  },
  {
   "cell_type": "markdown",
   "metadata": {
    "cell_id": "00038-24e1e2b4-c711-4851-88cf-8748b5931897",
    "deepnote_cell_type": "markdown",
    "tags": []
   },
   "source": [
    "Don't do it! It's slow and unidiomatic. Gather all the data first and only create the dataframe after."
   ]
  },
  {
   "cell_type": "code",
   "execution_count": null,
   "metadata": {
    "cell_id": "00039-585eef73-2092-44cd-a396-77b9176edb5d",
    "deepnote_cell_type": "code",
    "deepnote_to_be_reexecuted": false,
    "execution_millis": 5,
    "execution_start": 1614180650333,
    "is_code_hidden": true,
    "source_hash": "395484b3",
    "tags": []
   },
   "outputs": [],
   "source": [
    "df = pd.DataFrame(np.random.rand(1, 2))"
   ]
  },
  {
   "cell_type": "code",
   "execution_count": null,
   "metadata": {
    "cell_id": "00036-51f02e30-16d2-4682-a829-96fc0c13df1d",
    "deepnote_cell_type": "code",
    "deepnote_to_be_reexecuted": false,
    "execution_millis": 6,
    "execution_start": 1614180664277,
    "source_hash": "bf18dfd6",
    "tags": []
   },
   "outputs": [
    {
     "data": {
      "application/vnd.deepnote.dataframe.v2+json": {
       "column_count": 2,
       "columns": [
        {
         "dtype": "object",
         "name": 0,
         "stats": {
          "categories": [
           {
            "count": 1,
            "name": "0.3740342112142615"
           },
           {
            "count": 1,
            "name": "new"
           }
          ],
          "nan_count": 0,
          "unique_count": 2
         }
        },
        {
         "dtype": "object",
         "name": 1,
         "stats": {
          "categories": [
           {
            "count": 1,
            "name": "0.582879097572094"
           },
           {
            "count": 1,
            "name": "row"
           }
          ],
          "nan_count": 0,
          "unique_count": 2
         }
        },
        {
         "dtype": "int64",
         "name": "_deepnote_index_column"
        }
       ],
       "row_count": 2,
       "rows_bottom": null,
       "rows_top": [
        {
         "0": "0.3740342112142615",
         "1": "0.582879097572094",
         "_deepnote_index_column": 0
        },
        {
         "0": "new",
         "1": "row",
         "_deepnote_index_column": 0
        }
       ]
      },
      "text/html": [
       "<div>\n",
       "<style scoped>\n",
       "    .dataframe tbody tr th:only-of-type {\n",
       "        vertical-align: middle;\n",
       "    }\n",
       "\n",
       "    .dataframe tbody tr th {\n",
       "        vertical-align: top;\n",
       "    }\n",
       "\n",
       "    .dataframe thead th {\n",
       "        text-align: right;\n",
       "    }\n",
       "</style>\n",
       "<table border=\"1\" class=\"dataframe\">\n",
       "  <thead>\n",
       "    <tr style=\"text-align: right;\">\n",
       "      <th></th>\n",
       "      <th>0</th>\n",
       "      <th>1</th>\n",
       "    </tr>\n",
       "  </thead>\n",
       "  <tbody>\n",
       "    <tr>\n",
       "      <th>0</th>\n",
       "      <td>0.374034</td>\n",
       "      <td>0.582879</td>\n",
       "    </tr>\n",
       "    <tr>\n",
       "      <th>0</th>\n",
       "      <td>new</td>\n",
       "      <td>row</td>\n",
       "    </tr>\n",
       "  </tbody>\n",
       "</table>\n",
       "</div>"
      ],
      "text/plain": [
       "          0         1\n",
       "0  0.374034  0.582879\n",
       "0       new       row"
      ]
     },
     "execution_count": 18,
     "metadata": {},
     "output_type": "execute_result"
    }
   ],
   "source": [
    "# If you must:\n",
    "new_row = {0: 'new', 1: 'row'}\n",
    "df.append([new_row])"
   ]
  },
  {
   "cell_type": "markdown",
   "metadata": {
    "cell_id": "00037-d0e04703-1e38-4fe1-8c1c-df0759adac2e",
    "deepnote_cell_type": "markdown",
    "tags": []
   },
   "source": [
    "[Source](https://stackoverflow.com/questions/10715965/create-Pandas-dataframe-by-appending-one-row-at-a-time/10716007#10716007)"
   ]
  },
  {
   "cell_type": "markdown",
   "metadata": {
    "cell_id": "00038-a98af32f-60db-42f3-81c5-4370a521a268",
    "deepnote_cell_type": "markdown",
    "tags": []
   },
   "source": [
    "# Drop rows whose values in a certain column is NaN in Pandas DataFrame"
   ]
  },
  {
   "cell_type": "code",
   "execution_count": null,
   "metadata": {
    "cell_id": "00039-181e6395-42e3-4aeb-a4d4-43fe64b8e3e4",
    "deepnote_cell_type": "code",
    "tags": []
   },
   "outputs": [],
   "source": [
    "# Subset lists columns you care about\n",
    "df.dropna(subset = ['column1_name', 'column2_name', 'column3_name'])"
   ]
  },
  {
   "cell_type": "markdown",
   "metadata": {
    "cell_id": "00040-339939f3-fb2b-4430-811d-6be7b76c82f7",
    "deepnote_cell_type": "markdown",
    "tags": []
   },
   "source": [
    "[Source](https://stackoverflow.com/q/13413590/7595633)"
   ]
  },
  {
   "cell_type": "markdown",
   "metadata": {
    "cell_id": "00041-729c0b67-8a6a-4f99-86bc-3ae2166f3887",
    "deepnote_cell_type": "markdown",
    "tags": []
   },
   "source": [
    "# Change column type in Pandas DataFrame"
   ]
  },
  {
   "cell_type": "code",
   "execution_count": null,
   "metadata": {
    "cell_id": "00042-5108b7db-f365-463e-8e16-0ce086234cff",
    "deepnote_cell_type": "code",
    "tags": []
   },
   "outputs": [],
   "source": [
    "# convert column \"a\" to int64 dtype and \"b\" to np.float64 type\n",
    "df = df.astype({\"a\": int, \"b\": np.float64})"
   ]
  },
  {
   "cell_type": "markdown",
   "metadata": {
    "cell_id": "00043-a7962d64-0973-432b-93e9-35e3e8a128af",
    "deepnote_cell_type": "markdown",
    "tags": []
   },
   "source": [
    "[Source](https://stackoverflow.com/a/28648923/7595633)"
   ]
  },
  {
   "cell_type": "markdown",
   "metadata": {
    "cell_id": "00073-696546a5-0cc7-4bd7-bf4a-bcd903759638",
    "deepnote_cell_type": "markdown",
    "tags": []
   },
   "source": [
    "# Delete row based on value of particular column from Pandas DataFrame"
   ]
  },
  {
   "cell_type": "markdown",
   "metadata": {
    "cell_id": "00074-5172a460-124a-482c-a881-d2e01c5a6fc7",
    "deepnote_cell_type": "markdown",
    "tags": []
   },
   "source": [
    "See also \"how to select rows based on column values\" for other options"
   ]
  },
  {
   "cell_type": "code",
   "execution_count": null,
   "metadata": {
    "cell_id": "00075-d27627eb-df24-4f95-8e2d-8447031f3f54",
    "deepnote_cell_type": "code",
    "tags": []
   },
   "outputs": [],
   "source": [
    "df = df[df.relevant_column != some_value]"
   ]
  },
  {
   "cell_type": "markdown",
   "metadata": {
    "cell_id": "00076-6bebddfe-6bce-4f7d-94ab-65fe3b1bdf15",
    "deepnote_cell_type": "markdown",
    "tags": []
   },
   "source": [
    "[Source](https://stackoverflow.com/a/18173074/7595633)"
   ]
  },
  {
   "cell_type": "markdown",
   "metadata": {
    "cell_id": "00047-5c0c8345-1f9c-42c1-b3a5-b49097af77d4",
    "deepnote_cell_type": "markdown",
    "tags": []
   },
   "source": [
    "# Save Pandas DataFrame to a CSV"
   ]
  },
  {
   "cell_type": "code",
   "execution_count": null,
   "metadata": {
    "cell_id": "00048-c92db868-8c29-4049-94e1-816e056db557",
    "deepnote_cell_type": "code",
    "tags": []
   },
   "outputs": [],
   "source": [
    "df.to_csv(file_name, sep='\\t', encoding='utf-8', index=False)"
   ]
  },
  {
   "cell_type": "markdown",
   "metadata": {
    "cell_id": "00049-0e236958-82db-4cda-8b5c-2d682fe12a43",
    "deepnote_cell_type": "markdown",
    "tags": []
   },
   "source": [
    "[Source](https://stackoverflow.com/a/16923367/7595633)"
   ]
  },
  {
   "cell_type": "markdown",
   "metadata": {
    "cell_id": "00077-e8d24066-4063-4df3-bbd4-1004ef08438a",
    "deepnote_cell_type": "markdown",
    "tags": []
   },
   "source": [
    "# Is it count_values or values_count or what?"
   ]
  },
  {
   "cell_type": "markdown",
   "metadata": {
    "cell_id": "00078-8b804048-67eb-4534-bfc5-0155a28a223c",
    "deepnote_cell_type": "markdown",
    "tags": []
   },
   "source": [
    "It's value_counts. If you asked this question, you might wanna try [Deepnote](https://deepnote.com) which has autocomplete and would tell you."
   ]
  },
  {
   "cell_type": "code",
   "execution_count": null,
   "metadata": {
    "cell_id": "00079-f6b1a41f-8af8-4f75-8fff-8aa4ab124d6e",
    "deepnote_cell_type": "code",
    "deepnote_to_be_reexecuted": false,
    "execution_millis": 13,
    "execution_start": 1614262282292,
    "output_cleared": true,
    "source_hash": null,
    "tags": []
   },
   "outputs": [],
   "source": [
    "df.value_counts()"
   ]
  },
  {
   "cell_type": "markdown",
   "metadata": {
    "cell_id": "00080-c13d66d9-06f5-49fa-be0a-3f69e5868b91",
    "deepnote_cell_type": "markdown",
    "tags": []
   },
   "source": [
    "[Source](https://stackoverflow.com/a/18173074/7595633)"
   ]
  }
 ],
 "metadata": {
  "deepnote": {},
  "deepnote_execution_queue": [],
  "deepnote_notebook_id": "2bcf3adf-0ded-4d52-9061-b9e1ee3d2af9",
  "kernelspec": {
   "display_name": "Python 3 (ipykernel)",
   "language": "python",
   "name": "python3"
  },
  "language_info": {
   "codemirror_mode": {
    "name": "ipython",
    "version": 3
   },
   "file_extension": ".py",
   "mimetype": "text/x-python",
   "name": "python",
   "nbconvert_exporter": "python",
   "pygments_lexer": "ipython3",
   "version": "3.11.0"
  }
 },
 "nbformat": 4,
 "nbformat_minor": 4
}
