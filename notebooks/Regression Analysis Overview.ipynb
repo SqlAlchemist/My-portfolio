{
 "cells": [
  {
   "cell_type": "markdown",
   "id": "aeee9adf-4011-4692-89be-707e8821783d",
   "metadata": {},
   "source": [
    "# Regression Analysis\n",
    "\n",
    "### What Is Regression?\n",
    "\n",
    "Regression searches for relationships among variables. For example, you can want to understand how salaries depend on diverse features among employees of a company, such as experience, education level, role, city of employment, etc.\n",
    "\n",
    "Data related to each employee represents one observation. The presumption is that salary depends on experience, education, role, and city.\n",
    "\n",
    "By other hand, you may want to establish the relationship among housing prices on a particular area and number of bedrooms, distance to the city center, among other features.\n",
    "\n",
    "In regression analysis, we consider some phenomenon of interest and have a number of observations. Each observation has two or more features. Following the assumption that at least one of the features depends on the others, you'll need to establish a relationship among them. In scientific jargon, you need to find a function that maps some features to others sufficiently well.\n",
    "\n",
    "Commonly, we call the dependent feature dependent variable or response (generally denoted as y), and the independent features are called independent variables, inputs, or features.\n",
    "\n",
    "Regression problems usually works with continuous variables. Features, however,can be continuous, discrete, or even categorical.\n",
    "\n",
    "Finally, regression analysis is very important when you want to forecast a response using a new set of features. For example, you may want to predict gasoline consumption of a household for the next period given its price, number of residents in that household, car model, etc."
   ]
  },
  {
   "cell_type": "markdown",
   "id": "08351b7e-f136-49af-add5-0697d7d3e4f0",
   "metadata": {},
   "source": [
    "### Terminology\n",
    "\n",
    "The regression equation is given by: 𝑦 = 𝛽₀ + 𝛽₁𝑥₁ + ⋯ + 𝛽ᵣ𝑥ᵣ + 𝜀\n",
    "\n",
    "where:\n",
    "\n",
    "𝛽₀, 𝛽₁, …, 𝛽ᵣ are the regression coefficients, and 𝜀 is the random error.\n",
    "\n",
    "Linear regression calculates the estimators of the regression coefficients or weights, denoted with 𝑏₀, 𝑏₁, …, 𝑏ᵣ. \n",
    "\n",
    "These estimators define the estimated regression function 𝑓(𝐱) = 𝑏₀ + 𝑏₁𝑥₁ + ⋯ + 𝑏ᵣ𝑥ᵣ\n",
    "\n",
    "In this article, we shall explore the next types of regression:\n",
    "\n",
    "* Simple linear regression\n",
    "* Multiple linear regression\n",
    "* Polynomial regression\n",
    "\n",
    "Typically, we follow 05 steps when doing regression analysis:\n",
    "\n",
    "* Import the packages and classes that you need.\n",
    "* Provide data to work with, and eventually do appropriate transformations.\n",
    "* Create a regression model and fit it with existing data.\n",
    "* Check the results of model fitting to know whether the model is satisfactory.\n",
    "* Apply the model for predictions."
   ]
  },
  {
   "cell_type": "markdown",
   "id": "c30f7a35-40d2-446a-966a-e727ced56854",
   "metadata": {},
   "source": [
    "### Environment Setting"
   ]
  },
  {
   "cell_type": "code",
   "execution_count": 1,
   "id": "5403db05-663c-4005-9c26-c1147c9e83d5",
   "metadata": {},
   "outputs": [],
   "source": [
    "import numpy as np\n",
    "import pandas as pd\n",
    "import polars as pl\n",
    "import matplotlib.pyplot as plt\n",
    "import seaborn as sns\n",
    "from sklearn.linear_model import LinearRegression\n",
    "from sklearn.preprocessing import PolynomialFeatures\n",
    "import statsmodels.api as sm\n",
    "sns.set()"
   ]
  },
  {
   "cell_type": "markdown",
   "id": "73333084-8aa8-4c06-830e-3831e183ebb8",
   "metadata": {},
   "source": [
    "### Reading Datasets"
   ]
  },
  {
   "cell_type": "code",
   "execution_count": 2,
   "id": "d9e0994a-699d-43d1-814b-f2ad48a68ab6",
   "metadata": {},
   "outputs": [],
   "source": [
    "from sklearn.datasets import fetch_california_housing\n",
    "california_housing = fetch_california_housing(as_frame=True)"
   ]
  },
  {
   "cell_type": "markdown",
   "id": "83f696ad-85dc-4d52-887a-689584799ac5",
   "metadata": {},
   "source": [
    "### Dataset sample"
   ]
  },
  {
   "cell_type": "code",
   "execution_count": 3,
   "id": "ce0922b4-c75d-4f1c-9383-040ae394e62d",
   "metadata": {},
   "outputs": [
    {
     "data": {
      "text/html": [
       "<div>\n",
       "<style scoped>\n",
       "    .dataframe tbody tr th:only-of-type {\n",
       "        vertical-align: middle;\n",
       "    }\n",
       "\n",
       "    .dataframe tbody tr th {\n",
       "        vertical-align: top;\n",
       "    }\n",
       "\n",
       "    .dataframe thead th {\n",
       "        text-align: right;\n",
       "    }\n",
       "</style>\n",
       "<table border=\"1\" class=\"dataframe\">\n",
       "  <thead>\n",
       "    <tr style=\"text-align: right;\">\n",
       "      <th></th>\n",
       "      <th>MedInc</th>\n",
       "      <th>HouseAge</th>\n",
       "      <th>AveRooms</th>\n",
       "      <th>AveBedrms</th>\n",
       "      <th>Population</th>\n",
       "      <th>AveOccup</th>\n",
       "      <th>Latitude</th>\n",
       "      <th>Longitude</th>\n",
       "      <th>MedHouseVal</th>\n",
       "    </tr>\n",
       "  </thead>\n",
       "  <tbody>\n",
       "    <tr>\n",
       "      <th>0</th>\n",
       "      <td>8.3252</td>\n",
       "      <td>41.0</td>\n",
       "      <td>6.984127</td>\n",
       "      <td>1.023810</td>\n",
       "      <td>322.0</td>\n",
       "      <td>2.555556</td>\n",
       "      <td>37.88</td>\n",
       "      <td>-122.23</td>\n",
       "      <td>4.526</td>\n",
       "    </tr>\n",
       "    <tr>\n",
       "      <th>1</th>\n",
       "      <td>8.3014</td>\n",
       "      <td>21.0</td>\n",
       "      <td>6.238137</td>\n",
       "      <td>0.971880</td>\n",
       "      <td>2401.0</td>\n",
       "      <td>2.109842</td>\n",
       "      <td>37.86</td>\n",
       "      <td>-122.22</td>\n",
       "      <td>3.585</td>\n",
       "    </tr>\n",
       "    <tr>\n",
       "      <th>2</th>\n",
       "      <td>7.2574</td>\n",
       "      <td>52.0</td>\n",
       "      <td>8.288136</td>\n",
       "      <td>1.073446</td>\n",
       "      <td>496.0</td>\n",
       "      <td>2.802260</td>\n",
       "      <td>37.85</td>\n",
       "      <td>-122.24</td>\n",
       "      <td>3.521</td>\n",
       "    </tr>\n",
       "    <tr>\n",
       "      <th>3</th>\n",
       "      <td>5.6431</td>\n",
       "      <td>52.0</td>\n",
       "      <td>5.817352</td>\n",
       "      <td>1.073059</td>\n",
       "      <td>558.0</td>\n",
       "      <td>2.547945</td>\n",
       "      <td>37.85</td>\n",
       "      <td>-122.25</td>\n",
       "      <td>3.413</td>\n",
       "    </tr>\n",
       "    <tr>\n",
       "      <th>4</th>\n",
       "      <td>3.8462</td>\n",
       "      <td>52.0</td>\n",
       "      <td>6.281853</td>\n",
       "      <td>1.081081</td>\n",
       "      <td>565.0</td>\n",
       "      <td>2.181467</td>\n",
       "      <td>37.85</td>\n",
       "      <td>-122.25</td>\n",
       "      <td>3.422</td>\n",
       "    </tr>\n",
       "  </tbody>\n",
       "</table>\n",
       "</div>"
      ],
      "text/plain": [
       "   MedInc  HouseAge  AveRooms  AveBedrms  Population  AveOccup  Latitude  \\\n",
       "0  8.3252      41.0  6.984127   1.023810       322.0  2.555556     37.88   \n",
       "1  8.3014      21.0  6.238137   0.971880      2401.0  2.109842     37.86   \n",
       "2  7.2574      52.0  8.288136   1.073446       496.0  2.802260     37.85   \n",
       "3  5.6431      52.0  5.817352   1.073059       558.0  2.547945     37.85   \n",
       "4  3.8462      52.0  6.281853   1.081081       565.0  2.181467     37.85   \n",
       "\n",
       "   Longitude  MedHouseVal  \n",
       "0    -122.23        4.526  \n",
       "1    -122.22        3.585  \n",
       "2    -122.24        3.521  \n",
       "3    -122.25        3.413  \n",
       "4    -122.25        3.422  "
      ]
     },
     "execution_count": 3,
     "metadata": {},
     "output_type": "execute_result"
    }
   ],
   "source": [
    "california_housing.frame.head()"
   ]
  },
  {
   "cell_type": "code",
   "execution_count": 4,
   "id": "eebd14c9-e907-42d9-bdda-a25bf985469a",
   "metadata": {},
   "outputs": [
    {
     "name": "stdout",
     "output_type": "stream",
     "text": [
      "<class 'pandas.core.frame.DataFrame'>\n",
      "RangeIndex: 20640 entries, 0 to 20639\n",
      "Data columns (total 9 columns):\n",
      " #   Column       Non-Null Count  Dtype  \n",
      "---  ------       --------------  -----  \n",
      " 0   MedInc       20640 non-null  float64\n",
      " 1   HouseAge     20640 non-null  float64\n",
      " 2   AveRooms     20640 non-null  float64\n",
      " 3   AveBedrms    20640 non-null  float64\n",
      " 4   Population   20640 non-null  float64\n",
      " 5   AveOccup     20640 non-null  float64\n",
      " 6   Latitude     20640 non-null  float64\n",
      " 7   Longitude    20640 non-null  float64\n",
      " 8   MedHouseVal  20640 non-null  float64\n",
      "dtypes: float64(9)\n",
      "memory usage: 1.4 MB\n"
     ]
    }
   ],
   "source": [
    "california_housing.frame.info()"
   ]
  },
  {
   "cell_type": "markdown",
   "id": "a7a1d936-088e-4ee1-bd63-7a3097c6df46",
   "metadata": {},
   "source": [
    "### Response variable"
   ]
  },
  {
   "cell_type": "code",
   "execution_count": 5,
   "id": "50ccbf01-d7c7-4cd2-80de-7ec3c4fe671e",
   "metadata": {},
   "outputs": [
    {
     "data": {
      "text/plain": [
       "0    4.526\n",
       "1    3.585\n",
       "2    3.521\n",
       "3    3.413\n",
       "4    3.422\n",
       "Name: MedHouseVal, dtype: float64"
      ]
     },
     "execution_count": 5,
     "metadata": {},
     "output_type": "execute_result"
    }
   ],
   "source": [
    "california_housing.target.head()"
   ]
  },
  {
   "cell_type": "markdown",
   "id": "954a44fa-f8ae-4555-a2e2-38d5fc2b44b8",
   "metadata": {},
   "source": [
    "### Features"
   ]
  },
  {
   "cell_type": "code",
   "execution_count": 6,
   "id": "3da79f49-7836-4742-b4b0-d8392fb571af",
   "metadata": {},
   "outputs": [
    {
     "data": {
      "text/html": [
       "<div>\n",
       "<style scoped>\n",
       "    .dataframe tbody tr th:only-of-type {\n",
       "        vertical-align: middle;\n",
       "    }\n",
       "\n",
       "    .dataframe tbody tr th {\n",
       "        vertical-align: top;\n",
       "    }\n",
       "\n",
       "    .dataframe thead th {\n",
       "        text-align: right;\n",
       "    }\n",
       "</style>\n",
       "<table border=\"1\" class=\"dataframe\">\n",
       "  <thead>\n",
       "    <tr style=\"text-align: right;\">\n",
       "      <th></th>\n",
       "      <th>MedInc</th>\n",
       "      <th>HouseAge</th>\n",
       "      <th>AveRooms</th>\n",
       "      <th>AveBedrms</th>\n",
       "      <th>Population</th>\n",
       "      <th>AveOccup</th>\n",
       "      <th>Latitude</th>\n",
       "      <th>Longitude</th>\n",
       "    </tr>\n",
       "  </thead>\n",
       "  <tbody>\n",
       "    <tr>\n",
       "      <th>0</th>\n",
       "      <td>8.3252</td>\n",
       "      <td>41.0</td>\n",
       "      <td>6.984127</td>\n",
       "      <td>1.023810</td>\n",
       "      <td>322.0</td>\n",
       "      <td>2.555556</td>\n",
       "      <td>37.88</td>\n",
       "      <td>-122.23</td>\n",
       "    </tr>\n",
       "    <tr>\n",
       "      <th>1</th>\n",
       "      <td>8.3014</td>\n",
       "      <td>21.0</td>\n",
       "      <td>6.238137</td>\n",
       "      <td>0.971880</td>\n",
       "      <td>2401.0</td>\n",
       "      <td>2.109842</td>\n",
       "      <td>37.86</td>\n",
       "      <td>-122.22</td>\n",
       "    </tr>\n",
       "    <tr>\n",
       "      <th>2</th>\n",
       "      <td>7.2574</td>\n",
       "      <td>52.0</td>\n",
       "      <td>8.288136</td>\n",
       "      <td>1.073446</td>\n",
       "      <td>496.0</td>\n",
       "      <td>2.802260</td>\n",
       "      <td>37.85</td>\n",
       "      <td>-122.24</td>\n",
       "    </tr>\n",
       "    <tr>\n",
       "      <th>3</th>\n",
       "      <td>5.6431</td>\n",
       "      <td>52.0</td>\n",
       "      <td>5.817352</td>\n",
       "      <td>1.073059</td>\n",
       "      <td>558.0</td>\n",
       "      <td>2.547945</td>\n",
       "      <td>37.85</td>\n",
       "      <td>-122.25</td>\n",
       "    </tr>\n",
       "    <tr>\n",
       "      <th>4</th>\n",
       "      <td>3.8462</td>\n",
       "      <td>52.0</td>\n",
       "      <td>6.281853</td>\n",
       "      <td>1.081081</td>\n",
       "      <td>565.0</td>\n",
       "      <td>2.181467</td>\n",
       "      <td>37.85</td>\n",
       "      <td>-122.25</td>\n",
       "    </tr>\n",
       "  </tbody>\n",
       "</table>\n",
       "</div>"
      ],
      "text/plain": [
       "   MedInc  HouseAge  AveRooms  AveBedrms  Population  AveOccup  Latitude  \\\n",
       "0  8.3252      41.0  6.984127   1.023810       322.0  2.555556     37.88   \n",
       "1  8.3014      21.0  6.238137   0.971880      2401.0  2.109842     37.86   \n",
       "2  7.2574      52.0  8.288136   1.073446       496.0  2.802260     37.85   \n",
       "3  5.6431      52.0  5.817352   1.073059       558.0  2.547945     37.85   \n",
       "4  3.8462      52.0  6.281853   1.081081       565.0  2.181467     37.85   \n",
       "\n",
       "   Longitude  \n",
       "0    -122.23  \n",
       "1    -122.22  \n",
       "2    -122.24  \n",
       "3    -122.25  \n",
       "4    -122.25  "
      ]
     },
     "execution_count": 6,
     "metadata": {},
     "output_type": "execute_result"
    }
   ],
   "source": [
    "california_housing.data.head()"
   ]
  },
  {
   "cell_type": "code",
   "execution_count": 7,
   "id": "2f21e0c3-65e1-4ee7-95a2-60f01078dd35",
   "metadata": {},
   "outputs": [
    {
     "data": {
      "text/html": [
       "<div>\n",
       "<style scoped>\n",
       "    .dataframe tbody tr th:only-of-type {\n",
       "        vertical-align: middle;\n",
       "    }\n",
       "\n",
       "    .dataframe tbody tr th {\n",
       "        vertical-align: top;\n",
       "    }\n",
       "\n",
       "    .dataframe thead th {\n",
       "        text-align: right;\n",
       "    }\n",
       "</style>\n",
       "<table border=\"1\" class=\"dataframe\">\n",
       "  <thead>\n",
       "    <tr style=\"text-align: right;\">\n",
       "      <th></th>\n",
       "      <th>MedInc</th>\n",
       "      <th>HouseAge</th>\n",
       "      <th>AveRooms</th>\n",
       "      <th>AveBedrms</th>\n",
       "      <th>Population</th>\n",
       "      <th>AveOccup</th>\n",
       "      <th>Latitude</th>\n",
       "      <th>Longitude</th>\n",
       "    </tr>\n",
       "  </thead>\n",
       "  <tbody>\n",
       "    <tr>\n",
       "      <th>count</th>\n",
       "      <td>20640.000000</td>\n",
       "      <td>20640.000000</td>\n",
       "      <td>20640.000000</td>\n",
       "      <td>20640.000000</td>\n",
       "      <td>20640.000000</td>\n",
       "      <td>20640.000000</td>\n",
       "      <td>20640.000000</td>\n",
       "      <td>20640.000000</td>\n",
       "    </tr>\n",
       "    <tr>\n",
       "      <th>mean</th>\n",
       "      <td>3.870671</td>\n",
       "      <td>28.639486</td>\n",
       "      <td>5.429000</td>\n",
       "      <td>1.096675</td>\n",
       "      <td>1425.476744</td>\n",
       "      <td>3.070655</td>\n",
       "      <td>35.631861</td>\n",
       "      <td>-119.569704</td>\n",
       "    </tr>\n",
       "    <tr>\n",
       "      <th>std</th>\n",
       "      <td>1.899822</td>\n",
       "      <td>12.585558</td>\n",
       "      <td>2.474173</td>\n",
       "      <td>0.473911</td>\n",
       "      <td>1132.462122</td>\n",
       "      <td>10.386050</td>\n",
       "      <td>2.135952</td>\n",
       "      <td>2.003532</td>\n",
       "    </tr>\n",
       "    <tr>\n",
       "      <th>min</th>\n",
       "      <td>0.499900</td>\n",
       "      <td>1.000000</td>\n",
       "      <td>0.846154</td>\n",
       "      <td>0.333333</td>\n",
       "      <td>3.000000</td>\n",
       "      <td>0.692308</td>\n",
       "      <td>32.540000</td>\n",
       "      <td>-124.350000</td>\n",
       "    </tr>\n",
       "    <tr>\n",
       "      <th>25%</th>\n",
       "      <td>2.563400</td>\n",
       "      <td>18.000000</td>\n",
       "      <td>4.440716</td>\n",
       "      <td>1.006079</td>\n",
       "      <td>787.000000</td>\n",
       "      <td>2.429741</td>\n",
       "      <td>33.930000</td>\n",
       "      <td>-121.800000</td>\n",
       "    </tr>\n",
       "    <tr>\n",
       "      <th>50%</th>\n",
       "      <td>3.534800</td>\n",
       "      <td>29.000000</td>\n",
       "      <td>5.229129</td>\n",
       "      <td>1.048780</td>\n",
       "      <td>1166.000000</td>\n",
       "      <td>2.818116</td>\n",
       "      <td>34.260000</td>\n",
       "      <td>-118.490000</td>\n",
       "    </tr>\n",
       "    <tr>\n",
       "      <th>75%</th>\n",
       "      <td>4.743250</td>\n",
       "      <td>37.000000</td>\n",
       "      <td>6.052381</td>\n",
       "      <td>1.099526</td>\n",
       "      <td>1725.000000</td>\n",
       "      <td>3.282261</td>\n",
       "      <td>37.710000</td>\n",
       "      <td>-118.010000</td>\n",
       "    </tr>\n",
       "    <tr>\n",
       "      <th>max</th>\n",
       "      <td>15.000100</td>\n",
       "      <td>52.000000</td>\n",
       "      <td>141.909091</td>\n",
       "      <td>34.066667</td>\n",
       "      <td>35682.000000</td>\n",
       "      <td>1243.333333</td>\n",
       "      <td>41.950000</td>\n",
       "      <td>-114.310000</td>\n",
       "    </tr>\n",
       "  </tbody>\n",
       "</table>\n",
       "</div>"
      ],
      "text/plain": [
       "             MedInc      HouseAge      AveRooms     AveBedrms    Population  \\\n",
       "count  20640.000000  20640.000000  20640.000000  20640.000000  20640.000000   \n",
       "mean       3.870671     28.639486      5.429000      1.096675   1425.476744   \n",
       "std        1.899822     12.585558      2.474173      0.473911   1132.462122   \n",
       "min        0.499900      1.000000      0.846154      0.333333      3.000000   \n",
       "25%        2.563400     18.000000      4.440716      1.006079    787.000000   \n",
       "50%        3.534800     29.000000      5.229129      1.048780   1166.000000   \n",
       "75%        4.743250     37.000000      6.052381      1.099526   1725.000000   \n",
       "max       15.000100     52.000000    141.909091     34.066667  35682.000000   \n",
       "\n",
       "           AveOccup      Latitude     Longitude  \n",
       "count  20640.000000  20640.000000  20640.000000  \n",
       "mean       3.070655     35.631861   -119.569704  \n",
       "std       10.386050      2.135952      2.003532  \n",
       "min        0.692308     32.540000   -124.350000  \n",
       "25%        2.429741     33.930000   -121.800000  \n",
       "50%        2.818116     34.260000   -118.490000  \n",
       "75%        3.282261     37.710000   -118.010000  \n",
       "max     1243.333333     41.950000   -114.310000  "
      ]
     },
     "execution_count": 7,
     "metadata": {},
     "output_type": "execute_result"
    }
   ],
   "source": [
    "california_housing.data.describe()"
   ]
  },
  {
   "cell_type": "code",
   "execution_count": 8,
   "id": "099ae2e5-fcfc-4af3-9e60-087cd3443bf2",
   "metadata": {},
   "outputs": [
    {
     "data": {
      "image/png": "[encoded data removed]",
      "text/plain": [
       "<Figure size 1200x1000 with 9 Axes>"
      ]
     },
     "metadata": {},
     "output_type": "display_data"
    }
   ],
   "source": [
    "california_housing.frame.hist(figsize=(12, 10), bins=30, edgecolor=\"black\")\n",
    "plt.subplots_adjust(hspace=0.5, wspace=0.3)"
   ]
  },
  {
   "cell_type": "markdown",
   "id": "f5b8268e-5902-4c7e-964c-7bf88acc17d4",
   "metadata": {},
   "source": [
    "From above plots, we can see that features show an irregular distribution. Thus, in order to simplify the analysis, we will consider `HoseAge` and `MedInc` features only."
   ]
  },
  {
   "cell_type": "markdown",
   "id": "b0f07bb6-dbdb-401f-ae4a-d041e238c6da",
   "metadata": {},
   "source": [
    "### Selection of features and response data"
   ]
  },
  {
   "cell_type": "code",
   "execution_count": 9,
   "id": "c656c502-e248-45bc-893d-0d5a6ff2bb54",
   "metadata": {},
   "outputs": [],
   "source": [
    "x = np.array(california_housing.frame['HouseAge']).reshape(-1,1)"
   ]
  },
  {
   "cell_type": "code",
   "execution_count": 10,
   "id": "f81591fb-935f-45e7-8c25-1bd8e5c864c4",
   "metadata": {},
   "outputs": [],
   "source": [
    "y = np.array(california_housing.target)"
   ]
  },
  {
   "cell_type": "markdown",
   "id": "130586c1-698b-4449-a9ac-a2e2037e1938",
   "metadata": {},
   "source": [
    "### Fitting the model"
   ]
  },
  {
   "cell_type": "code",
   "execution_count": 11,
   "id": "2379a795-82ac-4b4d-acd2-d80df9d8a311",
   "metadata": {},
   "outputs": [],
   "source": [
    "model1 = LinearRegression().fit(x, y)"
   ]
  },
  {
   "cell_type": "markdown",
   "id": "95dba3be-7518-4831-aed1-5055b283b9b0",
   "metadata": {},
   "source": [
    "### Getting the results"
   ]
  },
  {
   "cell_type": "code",
   "execution_count": 12,
   "id": "e5b81ed8-d2fb-403e-ad86-eaf4c4190573",
   "metadata": {},
   "outputs": [
    {
     "name": "stdout",
     "output_type": "stream",
     "text": [
      "Coefficient of determination: 0.0112\n",
      "Intercept: 1.7911991658938475\n",
      "Slope: [0.0096845]\n"
     ]
    }
   ],
   "source": [
    "r_sq = model1.score(x, y)\n",
    "print(f\"Coefficient of determination: {r_sq:,.4f}\")\n",
    "print(f\"Intercept: {model1.intercept_}\")\n",
    "print(f\"Slope: {model1.coef_}\")"
   ]
  },
  {
   "cell_type": "markdown",
   "id": "54c8001b-2837-4487-a38b-c66cefd0237e",
   "metadata": {},
   "source": [
    "### Predicting response"
   ]
  },
  {
   "cell_type": "code",
   "execution_count": 13,
   "id": "73ed1ac6-3813-48d8-a0b9-dbd9bdbbb3fc",
   "metadata": {},
   "outputs": [
    {
     "data": {
      "text/plain": [
       "array([2.18826352, 1.99457359, 2.29479298, ..., 1.9558356 , 1.9655201 ,\n",
       "       1.94615111])"
      ]
     },
     "execution_count": 13,
     "metadata": {},
     "output_type": "execute_result"
    }
   ],
   "source": [
    "y_pred1 = model1.predict(x)\n",
    "y_pred1"
   ]
  },
  {
   "cell_type": "markdown",
   "id": "9b1bba4d-a7a8-4154-a38a-d9b614d7cb9f",
   "metadata": {},
   "source": [
    "We can see that $r^2$ value is low, so the model isn't so good at all.\n",
    "\n",
    "Next, we shall add another feature, and present how to run a multiple or multivariate regression."
   ]
  },
  {
   "cell_type": "markdown",
   "id": "c39f871e-fb9c-46bb-a5b4-1bb1e4bc1f97",
   "metadata": {},
   "source": [
    "### Multiple linear regression"
   ]
  },
  {
   "cell_type": "code",
   "execution_count": 14,
   "id": "509928ae-3d2c-4a05-b470-2f7ededf9170",
   "metadata": {},
   "outputs": [],
   "source": [
    "X = np.array(california_housing.frame[['MedInc','HouseAge']])"
   ]
  },
  {
   "cell_type": "code",
   "execution_count": 15,
   "id": "dab5b445-9f41-4f20-ba53-56fcfc18a242",
   "metadata": {},
   "outputs": [],
   "source": [
    "model2 = LinearRegression().fit(X,y)"
   ]
  },
  {
   "cell_type": "code",
   "execution_count": 16,
   "id": "09f6507f-31e6-4c80-a165-5b21b4936ffd",
   "metadata": {},
   "outputs": [
    {
     "name": "stdout",
     "output_type": "stream",
     "text": [
      "Coefficient of determination: 0.5091\n",
      "Intercept: -0.1019\n",
      "Slope: [0.43169191 0.01744134]\n"
     ]
    }
   ],
   "source": [
    "r_sq = model2.score(X, y)\n",
    "print(f\"Coefficient of determination: {r_sq:,.4f}\")\n",
    "print(f\"Intercept: {model2.intercept_:,.4f}\")\n",
    "print(f\"Slope: {model2.coef_:}\")"
   ]
  },
  {
   "cell_type": "markdown",
   "id": "576e1bff-6ee1-42e9-86a3-fc5e8725e0ff",
   "metadata": {},
   "source": [
    "We can see that $R^2$ value for multivariate regression is better off than for simple regression.\n",
    "\n",
    "Thus, we can determine this model is better suitable."
   ]
  },
  {
   "cell_type": "markdown",
   "id": "f9d0cb6c-3142-40f8-bba5-5c5e334dd146",
   "metadata": {},
   "source": [
    "### Predicting response"
   ]
  },
  {
   "cell_type": "code",
   "execution_count": 17,
   "id": "d1e67ef5-3bfe-40d4-9f2b-8f15177e8a83",
   "metadata": {},
   "outputs": [
    {
     "data": {
      "text/plain": [
       "array([4.20712626, 3.84802511, 3.93802043, ..., 0.92848877, 1.018109  ,\n",
       "       1.20831047])"
      ]
     },
     "execution_count": 17,
     "metadata": {},
     "output_type": "execute_result"
    }
   ],
   "source": [
    "y_pred2 = model2.predict(X)\n",
    "y_pred2"
   ]
  },
  {
   "cell_type": "markdown",
   "id": "d2119869-51b8-416c-b753-7ea422fa0368",
   "metadata": {},
   "source": [
    "On the other hand, we will presente how to run a multivariate regression with `statsmodels` library. In short, `statsmodels` and `sckit-learn` libraries give the same results, but `statsmodels` gives more statistical information."
   ]
  },
  {
   "cell_type": "markdown",
   "id": "7cc32eae-933d-46c7-9a03-092c1a8553e5",
   "metadata": {},
   "source": [
    "### Multiple Linear Regression with statsmodels"
   ]
  },
  {
   "cell_type": "code",
   "execution_count": 18,
   "id": "bf40c0fe-0f2c-4a76-a73b-b1563771f2b5",
   "metadata": {},
   "outputs": [],
   "source": [
    "X = sm.add_constant(X)"
   ]
  },
  {
   "cell_type": "code",
   "execution_count": 19,
   "id": "57cde8e8-f401-4a0e-be9f-5dc42b881069",
   "metadata": {},
   "outputs": [],
   "source": [
    "model4 = sm.OLS(y, X)"
   ]
  },
  {
   "cell_type": "code",
   "execution_count": 20,
   "id": "ed06746b-03f1-45c6-bda3-dedff9ea7cce",
   "metadata": {},
   "outputs": [],
   "source": [
    "results = model4.fit()"
   ]
  },
  {
   "cell_type": "code",
   "execution_count": 21,
   "id": "cf9ff190-4412-4db9-a104-ea0d2369bb49",
   "metadata": {},
   "outputs": [
    {
     "data": {
      "text/html": [
       "<table class=\"simpletable\">\n",
       "<caption>OLS Regression Results</caption>\n",
       "<tr>\n",
       "  <th>Dep. Variable:</th>            <td>y</td>        <th>  R-squared:         </th> <td>   0.509</td> \n",
       "</tr>\n",
       "<tr>\n",
       "  <th>Model:</th>                   <td>OLS</td>       <th>  Adj. R-squared:    </th> <td>   0.509</td> \n",
       "</tr>\n",
       "<tr>\n",
       "  <th>Method:</th>             <td>Least Squares</td>  <th>  F-statistic:       </th> <td>1.070e+04</td>\n",
       "</tr>\n",
       "<tr>\n",
       "  <th>Date:</th>             <td>Fri, 02 Feb 2024</td> <th>  Prob (F-statistic):</th>  <td>  0.00</td>  \n",
       "</tr>\n",
       "<tr>\n",
       "  <th>Time:</th>                 <td>12:46:23</td>     <th>  Log-Likelihood:    </th> <td> -24899.</td> \n",
       "</tr>\n",
       "<tr>\n",
       "  <th>No. Observations:</th>      <td> 20640</td>      <th>  AIC:               </th> <td>4.980e+04</td>\n",
       "</tr>\n",
       "<tr>\n",
       "  <th>Df Residuals:</th>          <td> 20637</td>      <th>  BIC:               </th> <td>4.983e+04</td>\n",
       "</tr>\n",
       "<tr>\n",
       "  <th>Df Model:</th>              <td>     2</td>      <th>                     </th>     <td> </td>    \n",
       "</tr>\n",
       "<tr>\n",
       "  <th>Covariance Type:</th>      <td>nonrobust</td>    <th>                     </th>     <td> </td>    \n",
       "</tr>\n",
       "</table>\n",
       "<table class=\"simpletable\">\n",
       "<tr>\n",
       "    <td></td>       <th>coef</th>     <th>std err</th>      <th>t</th>      <th>P>|t|</th>  <th>[0.025</th>    <th>0.975]</th>  \n",
       "</tr>\n",
       "<tr>\n",
       "  <th>const</th> <td>   -0.1019</td> <td>    0.019</td> <td>   -5.320</td> <td> 0.000</td> <td>   -0.139</td> <td>   -0.064</td>\n",
       "</tr>\n",
       "<tr>\n",
       "  <th>x1</th>    <td>    0.4317</td> <td>    0.003</td> <td>  144.689</td> <td> 0.000</td> <td>    0.426</td> <td>    0.438</td>\n",
       "</tr>\n",
       "<tr>\n",
       "  <th>x2</th>    <td>    0.0174</td> <td>    0.000</td> <td>   38.726</td> <td> 0.000</td> <td>    0.017</td> <td>    0.018</td>\n",
       "</tr>\n",
       "</table>\n",
       "<table class=\"simpletable\">\n",
       "<tr>\n",
       "  <th>Omnibus:</th>       <td>4099.868</td> <th>  Durbin-Watson:     </th> <td>   0.787</td>\n",
       "</tr>\n",
       "<tr>\n",
       "  <th>Prob(Omnibus):</th>  <td> 0.000</td>  <th>  Jarque-Bera (JB):  </th> <td>9707.077</td>\n",
       "</tr>\n",
       "<tr>\n",
       "  <th>Skew:</th>           <td> 1.118</td>  <th>  Prob(JB):          </th> <td>    0.00</td>\n",
       "</tr>\n",
       "<tr>\n",
       "  <th>Kurtosis:</th>       <td> 5.507</td>  <th>  Cond. No.          </th> <td>    108.</td>\n",
       "</tr>\n",
       "</table><br/><br/>Notes:<br/>[1] Standard Errors assume that the covariance matrix of the errors is correctly specified."
      ],
      "text/latex": [
       "\\begin{center}\n",
       "\\begin{tabular}{lclc}\n",
       "\\toprule\n",
       "\\textbf{Dep. Variable:}    &        y         & \\textbf{  R-squared:         } &     0.509   \\\\\n",
       "\\textbf{Model:}            &       OLS        & \\textbf{  Adj. R-squared:    } &     0.509   \\\\\n",
       "\\textbf{Method:}           &  Least Squares   & \\textbf{  F-statistic:       } & 1.070e+04   \\\\\n",
       "\\textbf{Date:}             & Fri, 02 Feb 2024 & \\textbf{  Prob (F-statistic):} &     0.00    \\\\\n",
       "\\textbf{Time:}             &     12:46:23     & \\textbf{  Log-Likelihood:    } &   -24899.   \\\\\n",
       "\\textbf{No. Observations:} &       20640      & \\textbf{  AIC:               } & 4.980e+04   \\\\\n",
       "\\textbf{Df Residuals:}     &       20637      & \\textbf{  BIC:               } & 4.983e+04   \\\\\n",
       "\\textbf{Df Model:}         &           2      & \\textbf{                     } &             \\\\\n",
       "\\textbf{Covariance Type:}  &    nonrobust     & \\textbf{                     } &             \\\\\n",
       "\\bottomrule\n",
       "\\end{tabular}\n",
       "\\begin{tabular}{lcccccc}\n",
       "               & \\textbf{coef} & \\textbf{std err} & \\textbf{t} & \\textbf{P$> |$t$|$} & \\textbf{[0.025} & \\textbf{0.975]}  \\\\\n",
       "\\midrule\n",
       "\\textbf{const} &      -0.1019  &        0.019     &    -5.320  &         0.000        &       -0.139    &       -0.064     \\\\\n",
       "\\textbf{x1}    &       0.4317  &        0.003     &   144.689  &         0.000        &        0.426    &        0.438     \\\\\n",
       "\\textbf{x2}    &       0.0174  &        0.000     &    38.726  &         0.000        &        0.017    &        0.018     \\\\\n",
       "\\bottomrule\n",
       "\\end{tabular}\n",
       "\\begin{tabular}{lclc}\n",
       "\\textbf{Omnibus:}       & 4099.868 & \\textbf{  Durbin-Watson:     } &    0.787  \\\\\n",
       "\\textbf{Prob(Omnibus):} &   0.000  & \\textbf{  Jarque-Bera (JB):  } & 9707.077  \\\\\n",
       "\\textbf{Skew:}          &   1.118  & \\textbf{  Prob(JB):          } &     0.00  \\\\\n",
       "\\textbf{Kurtosis:}      &   5.507  & \\textbf{  Cond. No.          } &     108.  \\\\\n",
       "\\bottomrule\n",
       "\\end{tabular}\n",
       "%\\caption{OLS Regression Results}\n",
       "\\end{center}\n",
       "\n",
       "Notes: \\newline\n",
       " [1] Standard Errors assume that the covariance matrix of the errors is correctly specified."
      ],
      "text/plain": [
       "<class 'statsmodels.iolib.summary.Summary'>\n",
       "\"\"\"\n",
       "                            OLS Regression Results                            \n",
       "==============================================================================\n",
       "Dep. Variable:                      y   R-squared:                       0.509\n",
       "Model:                            OLS   Adj. R-squared:                  0.509\n",
       "Method:                 Least Squares   F-statistic:                 1.070e+04\n",
       "Date:                Fri, 02 Feb 2024   Prob (F-statistic):               0.00\n",
       "Time:                        12:46:23   Log-Likelihood:                -24899.\n",
       "No. Observations:               20640   AIC:                         4.980e+04\n",
       "Df Residuals:                   20637   BIC:                         4.983e+04\n",
       "Df Model:                           2                                         \n",
       "Covariance Type:            nonrobust                                         \n",
       "==============================================================================\n",
       "                 coef    std err          t      P>|t|      [0.025      0.975]\n",
       "------------------------------------------------------------------------------\n",
       "const         -0.1019      0.019     -5.320      0.000      -0.139      -0.064\n",
       "x1             0.4317      0.003    144.689      0.000       0.426       0.438\n",
       "x2             0.0174      0.000     38.726      0.000       0.017       0.018\n",
       "==============================================================================\n",
       "Omnibus:                     4099.868   Durbin-Watson:                   0.787\n",
       "Prob(Omnibus):                  0.000   Jarque-Bera (JB):             9707.077\n",
       "Skew:                           1.118   Prob(JB):                         0.00\n",
       "Kurtosis:                       5.507   Cond. No.                         108.\n",
       "==============================================================================\n",
       "\n",
       "Notes:\n",
       "[1] Standard Errors assume that the covariance matrix of the errors is correctly specified.\n",
       "\"\"\""
      ]
     },
     "execution_count": 21,
     "metadata": {},
     "output_type": "execute_result"
    }
   ],
   "source": [
    "results.summary()"
   ]
  },
  {
   "cell_type": "code",
   "execution_count": 22,
   "id": "a9f31311-31ae-4745-9643-a6eafae682d9",
   "metadata": {},
   "outputs": [
    {
     "name": "stdout",
     "output_type": "stream",
     "text": [
      "Coefficient of determination: 0.5091\n",
      "Adjusted coefficient of determination: 0.5091\n",
      "Regression coefficients: [-0.10189033  0.43169191  0.01744134]\n"
     ]
    }
   ],
   "source": [
    "print(f\"Coefficient of determination: {results.rsquared:,.4f}\")\n",
    "print(f\"Adjusted coefficient of determination: {results.rsquared_adj:,.4f}\")\n",
    "print(f\"Regression coefficients: {results.params}\")"
   ]
  },
  {
   "cell_type": "markdown",
   "id": "eade8516-56e6-4bc2-8002-75fbcb0ced2f",
   "metadata": {},
   "source": [
    "### Predicting response"
   ]
  },
  {
   "cell_type": "code",
   "execution_count": 23,
   "id": "f414bd62-063c-42ed-9fff-0df0aa98260c",
   "metadata": {},
   "outputs": [
    {
     "name": "stdout",
     "output_type": "stream",
     "text": [
      "Predicted response:\n",
      "[4.20712626 3.84802511 3.93802043 ... 0.92848877 1.018109   1.20831047]\n",
      "Predicted response:\n",
      "[4.20712626 3.84802511 3.93802043 ... 0.92848877 1.018109   1.20831047]\n"
     ]
    }
   ],
   "source": [
    "print(f\"Predicted response:\\n{results.fittedvalues}\")\n",
    "\n",
    "print(f\"Predicted response:\\n{results.predict(X)}\")"
   ]
  },
  {
   "cell_type": "markdown",
   "id": "2d47ddc9-3961-4e1a-8ffb-2e38ef475db8",
   "metadata": {},
   "source": [
    "With the intention to explore briefly if nonlinear regression could be a better model, we shall briefly present how to run a polynomial regression."
   ]
  },
  {
   "cell_type": "markdown",
   "id": "510643f3-dd9c-471b-91c8-a66a2e32ffb1",
   "metadata": {},
   "source": [
    "### Polynomial Regression"
   ]
  },
  {
   "cell_type": "code",
   "execution_count": 24,
   "id": "b691f880-2c43-4640-9f8b-57f2fc1121bb",
   "metadata": {},
   "outputs": [],
   "source": [
    "X_ = PolynomialFeatures(degree=2, include_bias=False).fit_transform(x)"
   ]
  },
  {
   "cell_type": "code",
   "execution_count": 25,
   "id": "21b8061e-eec0-46d1-b77b-1d1d4934ef53",
   "metadata": {},
   "outputs": [],
   "source": [
    "model3 = LinearRegression().fit(X_, y)"
   ]
  },
  {
   "cell_type": "code",
   "execution_count": 26,
   "id": "610a7c89-1f08-4932-9de5-34db9ccdbdab",
   "metadata": {},
   "outputs": [
    {
     "name": "stdout",
     "output_type": "stream",
     "text": [
      "Coefficient of determination: 0.0167\n",
      "Intercept: 2.1304\n",
      "Slope: [-0.01911318  0.00049618]\n"
     ]
    }
   ],
   "source": [
    "r_sq = model3.score(X_, y)\n",
    "print(f\"Coefficient of determination: {r_sq:,.4f}\")\n",
    "print(f\"Intercept: {model3.intercept_:,.4f}\")\n",
    "print(f\"Slope: {model3.coef_:}\")"
   ]
  },
  {
   "cell_type": "markdown",
   "id": "af01d188-dafc-41a1-9c9a-f2e7f61db226",
   "metadata": {},
   "source": [
    "We can conclude that polynomial regression isn't a suitable model for our analysis. Instead, said multivariate regression model is best suited."
   ]
  },
  {
   "cell_type": "markdown",
   "id": "6207adfa-cb7d-47fc-baed-22c9a970dfc5",
   "metadata": {},
   "source": [
    "### Predicting response"
   ]
  },
  {
   "cell_type": "code",
   "execution_count": 27,
   "id": "9ec97d1f-d49b-4393-ab60-b1fafbcd735f",
   "metadata": {},
   "outputs": [
    {
     "data": {
      "text/plain": [
       "array([2.18082538, 1.94781969, 2.47817755, ..., 1.9488523 , 1.94710559,\n",
       "       1.95159138])"
      ]
     },
     "execution_count": 27,
     "metadata": {},
     "output_type": "execute_result"
    }
   ],
   "source": [
    "y_pred = model3.predict(X_)\n",
    "y_pred"
   ]
  },
  {
   "cell_type": "markdown",
   "id": "5e0d9672-b8e6-4acb-afe6-c696bb54fce5",
   "metadata": {},
   "source": [
    "### Conclusion\n",
    "\n",
    "You now know what linear regression is and how you can implement it with Python and three open-source packages: NumPy, scikit-learn, and statsmodels. You use NumPy for handling arrays. Linear regression is implemented with the following:\n",
    "\n",
    "scikit-learn if you don’t need detailed results and want to use the approach consistent with other regression techniques\n",
    "statsmodels if you need the advanced statistical parameters of a model\n",
    "Both approaches are worth learning how to use and exploring further. The links in this article can be very useful for that.\n",
    "\n",
    "In this tutorial, you’ve learned the following steps for performing linear regression in Python:\n",
    "\n",
    "Import the packages and classes you need\n",
    "Provide data to work with and eventually do appropriate transformations\n",
    "Create a regression model and fit it with existing data\n",
    "Check the results of model fitting to know whether the model is satisfactory\n",
    "Apply the model for predictions\n",
    "And with that, you’re good to go! If you have questions or comments, please put them in the comment section below."
   ]
  },
  {
   "cell_type": "markdown",
   "id": "77b8becc-43af-4d28-9bc3-1a7168b73067",
   "metadata": {},
   "source": [
    "### References\n",
    "\n",
    "* Stojiljkovic, M. (2024) \"Linear Regression in Python\" on Real Python retrieved from https://realpython.com/linear-regression-in-python/\n",
    "* SckitLearn Website (2024) \"Machine Learning Concepts\" on The California Housing Dataset retrieved from https://inria.github.io/scikit-learn-mooc/python_scripts/datasets_california_housing.html"
   ]
  },
  {
   "cell_type": "markdown",
   "id": "75be7ebf-b13b-4620-b7ec-927f74d898c8",
   "metadata": {},
   "source": [
    "## Contact\n",
    "\n",
    "<!-- Avatar -->\n",
    "<img src=\"../Pictures/profile2.png\" alt=\"me\" width=\"75\" height=\"80\">\n",
    "<!-- Text with color, font, fontsize and specific size -->\n",
    "<p style=\"color:#323232; font-family: Helevetica; font-size: 20px;\">Jesus L. Monroy<br>Economist | Data Scientist</p>\n",
    "<!-- Insert url links in logos -->\n",
    "<!-- Resume -->\n",
    "<a href=\"https://cutt.ly/jesus-lmonroy-resume\" target=\"_blank\" rel=\"noreferrer\"> <img src=\"https://icongr.am/material/card-account-details-outline.svg?size=16&color=3b3b3b\" alt=\"resume\" width=\"28\" height=\"28\"/>\n",
    "<!-- style=\"padding-left:8px\" adds spaces before logo link -->\n",
    "<!-- e-mail -->\n",
    "<a href=\"mailto:7yt400aug@mozmail.com?subject=Information%20request%20\" target=\"_blank\" rel=\"noreferrer\"> <img src=\"https://icongr.am/feather/mail.svg?size=16&color=3b3b3b\" alt=\"email\" width=\"30\" height=\"30\" style=\"padding-left:8px\"/>\n",
    "<!-- Telegram -->\n",
    "<a href=\"https://t.me/j3suslm\" target=\"_blank\" rel=\"noreferrer\"> <img src=\"https://encrypted-tbn0.gstatic.com/images?q=tbn:ANd9GcSC8DykewOCqmuAO4hAFQMEYkfL68oELRj0BQ&usqp=CAUsize=16&color=3b3b3b\" alt=\"telegram\" width=\"28\" height=\"20\" style=\"padding-left:8px\"/>\n",
    "<!-- Twitter -->\n",
    "<a href=\"https://www.twitter.com/sqlalchemist\" target=\"_blank\" rel=\"noreferrer\"> <img src=\"https://toppng.com/public/uploads/preview/twitter-x-new-logo-round-icon-png-11692480241tdbz6jparr.webp?size=16&color=3b3b3b\" alt=\"twitter\" width=\"30\" height=\"22\" style=\"padding-left:8px\"/>\n",
    "<!-- Github -->\n",
    "<a href=\"https://github.com/SqlAlchemist/My-portfolio\" target=\"_blank\" rel=\"noreferrer\"> <img src=\"https://icongr.am/devicon/github-original.svg?size=16&color=3b3b3b\" alt=\"github\" width=\"30\" height=\"30\" style=\"padding-left:8px\"/>\n",
    "<!-- Linkedin -->\n",
    "<a href=\"https://www.linkedin.com/in/j3sus-lmonroy\" target=\"_blank\" rel=\"noreferrer\"> <img src=\"https://icongr.am/simple/linkedin.svg?size=16&color=3b3b3b\" alt=\"linkedin\" width=\"30\" height=\"30\" style=\"padding-left:8px\"/>\n",
    "<!-- Medium -->\n",
    "<a href=\"https://medium.com/@jesus_lmonroy\" target=\"_blank\" rel=\"noreferrer\"> <img src=\"https://cdn1.iconfinder.com/data/icons/social-media-and-logos-12/32/Logo_medium-512.png?size=55&color=3b3b3b\" alt=\"medium\" width=\"30\" height=\"33\" style=\"padding-left:8px\"/>"
   ]
  }
 ],
 "metadata": {
  "kernelspec": {
   "display_name": "Python 3 (ipykernel)",
   "language": "python",
   "name": "python3"
  },
  "language_info": {
   "codemirror_mode": {
    "name": "ipython",
    "version": 3
   },
   "file_extension": ".py",
   "mimetype": "text/x-python",
   "name": "python",
   "nbconvert_exporter": "python",
   "pygments_lexer": "ipython3",
   "version": "3.11.0"
  }
 },
 "nbformat": 4,
 "nbformat_minor": 5
}
