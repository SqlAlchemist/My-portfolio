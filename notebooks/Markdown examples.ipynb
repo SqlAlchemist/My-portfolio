{
 "cells": [
  {
   "cell_type": "markdown",
   "id": "815cdaba-bc25-41e0-8fb8-379cb626aaeb",
   "metadata": {},
   "source": [
    "# Markdown Overview"
   ]
  },
  {
   "cell_type": "markdown",
   "id": "bcdf8960-a5d2-4ee4-83fe-4971ced55eb5",
   "metadata": {},
   "source": [
    "# Table of contents\n",
    "\n",
    "- [Headings](#Headings)\n",
    "- [Checkboxes](#Checkboxes)\n",
    "- [Lists](#Lists)\n",
    "- [Tables](#Tables)\n",
    "- [Toggles](#Toggles)\n",
    "- [Highlighting](#Highlighting)\n",
    "- [Bold text](#Bold_text)\n",
    "- [Strikethrough](#Strikethrough)\n",
    "- [Backslash escape](#Backslash_escape)\n",
    "- [Text](#Text)\n",
    "- [Blockquotes](#Blockquotes)\n",
    "- [Nested blockquotes](#Nested_blockquotes)\n",
    "- [Ordered list](#Ordered_list)\n",
    "- [Unordered list](#Unordered_list)\n",
    "- [Embed an image](#Embed_an_image)\n",
    "- [Hyperlinks](#Hyperlinks)\n",
    "- [Code](#code)\n",
    "- [Inline html](#Inline_html)\n",
    "- [Cell background color](#Cell_background_color)\n",
    "- [LaTex](#LaTex)\n",
    "- [Contact](#Contact)"
   ]
  },
  {
   "cell_type": "markdown",
   "id": "e1e74745-b913-4f64-95ad-69b91e931794",
   "metadata": {},
   "source": [
    "# Headings\n",
    "---"
   ]
  },
  {
   "cell_type": "markdown",
   "id": "15d87d65-b2b2-40b2-b070-96c3be15c1bb",
   "metadata": {},
   "source": [
    "# Title 1\n",
    "## Title 2\n",
    "### Title 3\n",
    "#### Title 4\n",
    "##### Title 5"
   ]
  },
  {
   "cell_type": "markdown",
   "id": "42771fff-f15b-4c69-9b1d-2ab978d7e611",
   "metadata": {},
   "source": [
    "# Checkboxes\n",
    "---"
   ]
  },
  {
   "cell_type": "markdown",
   "id": "c54a4929-b4b9-43fd-a08a-920f10731697",
   "metadata": {},
   "source": [
    "- [x] Write a Medium article\n",
    "- [ ] Install Google Analytics\n",
    "- [ ] Have lunch"
   ]
  },
  {
   "cell_type": "markdown",
   "id": "869b79f8-a475-4262-a224-7fa5d3d00e89",
   "metadata": {},
   "source": [
    "# Lists\n",
    "---"
   ]
  },
  {
   "cell_type": "markdown",
   "id": "1bd725ee-f1d2-4380-bcf0-7008b251bfd0",
   "metadata": {},
   "source": [
    "1. Item 1\n",
    "2. Item 2\n",
    "    1. Subitem 1\n",
    "    2. Subitem 2\n",
    "3. Item 3"
   ]
  },
  {
   "cell_type": "markdown",
   "id": "78493a73-19f6-4974-b0b6-857862e70073",
   "metadata": {},
   "source": [
    "# Tables\n",
    "---"
   ]
  },
  {
   "cell_type": "markdown",
   "id": "d6770b13-b92e-4729-8e5a-7d86cf3b3b02",
   "metadata": {},
   "source": [
    "|Id|Name|Job|\n",
    "--|-----|--------|\n",
    "|1|Jane|Secretary|\n",
    "|2|Joe|Firefighter|"
   ]
  },
  {
   "cell_type": "markdown",
   "id": "e331f54f-562c-438d-92d8-e25dc225143e",
   "metadata": {},
   "source": [
    "# Toggles\n",
    "---"
   ]
  },
  {
   "cell_type": "markdown",
   "id": "05445add-c102-4572-afa8-004b3b178522",
   "metadata": {},
   "source": [
    "<details>\n",
    "    <ul>\n",
    "    <li> Numpy </li>\n",
    "    <li> Pandas </li>\n",
    "    <li> Altair </li>\n",
    "    </ul>\n",
    "</details>"
   ]
  },
  {
   "cell_type": "markdown",
   "id": "07c8aae3-4ad0-4385-b6b0-b9896386016b",
   "metadata": {},
   "source": [
    "# Highlighting\n",
    "---"
   ]
  },
  {
   "cell_type": "markdown",
   "id": "dcc8b094-c4b2-415a-af63-8ff1c93626c9",
   "metadata": {},
   "source": [
    "This is <mark>highlighted text</mark> in markdown"
   ]
  },
  {
   "cell_type": "code",
   "execution_count": 4,
   "id": "67114106-4d49-446f-ae08-e3baf8eb5037",
   "metadata": {
    "tags": []
   },
   "outputs": [
    {
     "data": {
      "text/html": [
       "<style>\n",
       "mark { \n",
       "  background-color: #897400;\n",
       "  color: white;\n",
       "}\n",
       "</style>\n",
       "<p>This is <mark>highlighted text</mark> in html</p>\n"
      ],
      "text/plain": [
       "<IPython.core.display.HTML object>"
      ]
     },
     "metadata": {},
     "output_type": "display_data"
    }
   ],
   "source": [
    "%%html\n",
    "<style>\n",
    "mark { \n",
    "  background-color: #897400;\n",
    "  color: white;\n",
    "}\n",
    "</style>\n",
    "<p>This is <mark>highlighted text</mark> in html</p>"
   ]
  },
  {
   "cell_type": "markdown",
   "id": "fe4d64ef-966d-4d49-b568-276351ede451",
   "metadata": {},
   "source": [
    "# Bold_text\n",
    "**This is bold text**\n",
    "\n",
    "__This is bold text__"
   ]
  },
  {
   "cell_type": "markdown",
   "id": "51531284-5857-4c8a-8974-b33780b0f373",
   "metadata": {},
   "source": [
    "# Italic\n",
    "*This is italic text*\n",
    "\n",
    "_This is italic text_"
   ]
  },
  {
   "cell_type": "markdown",
   "id": "ea059903-45fd-48e4-9d0a-594561680a3c",
   "metadata": {},
   "source": [
    "# Bold_and_Italic\n",
    "***This is bold and italic text***\n",
    "\n",
    "___This is bold and italic text___"
   ]
  },
  {
   "cell_type": "markdown",
   "id": "ebe56b20-1a62-4220-9e54-3353913e5ae9",
   "metadata": {},
   "source": [
    "# Strikethrough\n",
    "~~Scratch this~~"
   ]
  },
  {
   "cell_type": "markdown",
   "id": "64d29c74-1404-4c09-a8f7-28d010afec95",
   "metadata": {},
   "source": [
    "# Backslash_escape\n",
    "\\# Not a header"
   ]
  },
  {
   "cell_type": "markdown",
   "id": "114d0adc-bca0-4aff-af2b-ff146e090897",
   "metadata": {},
   "source": [
    "# Text\n",
    "This is simple text."
   ]
  },
  {
   "cell_type": "markdown",
   "id": "31e3a24e-e7a8-421f-a393-2866e02d62a3",
   "metadata": {},
   "source": [
    "# Blockquotes\n",
    "> This is a blockquote"
   ]
  },
  {
   "cell_type": "markdown",
   "id": "de3ca74e-d0b9-4efd-842f-88b229692573",
   "metadata": {},
   "source": [
    "# Nested_blockquotes\n",
    "> One block\n",
    ">> and then a subblock\n",
    ">>> and a sub subblock"
   ]
  },
  {
   "cell_type": "markdown",
   "id": "005b1228-be86-4832-b4b5-2f7725be3f6d",
   "metadata": {},
   "source": [
    "# Ordered_list\n",
    "1. One\n",
    "2. Two\n",
    "3. Three"
   ]
  },
  {
   "cell_type": "markdown",
   "id": "080e5c85-953f-4ca7-96f8-39cf9ef3af95",
   "metadata": {},
   "source": [
    "# Unordered_list\n",
    "- Item \n",
    "- Foo\n",
    "- Bar"
   ]
  },
  {
   "cell_type": "markdown",
   "id": "70c1a212-c65f-42fa-baf1-67bc30c49855",
   "metadata": {},
   "source": [
    "# Embed_an_image\n",
    "![](https://www.python.org/static/community_logos/python-logo-master-v3-TM.png \"Logo\")"
   ]
  },
  {
   "cell_type": "markdown",
   "id": "1ddbe519-5416-435b-a272-3bd6fb4e10ce",
   "metadata": {},
   "source": [
    "# Hyperlinks\n",
    "https://en.wikipedia.org\n",
    "\n",
    "[Additional information](https://en.wikipedia.org)\n",
    "\n",
    "\n",
    "You can get further information in: [Markdown guides](https://en.wikipedia.org)"
   ]
  },
  {
   "cell_type": "markdown",
   "id": "2132b8c3-1652-4413-9a34-90803835532a",
   "metadata": {},
   "source": [
    "# Code\n",
    "\n",
    "```python\n",
    "def say_hello(name):\n",
    "    print('Hello '+name!)\n",
    "```"
   ]
  },
  {
   "cell_type": "markdown",
   "id": "40667616-13aa-4937-a392-5c72957d5be2",
   "metadata": {},
   "source": [
    "# Inline_html\n",
    "### Text color\n",
    "<span style=\"color:blue\">This is blue text</span>\n",
    "### Font family\n",
    "<span style=\"font-family:Comic Sans MS\">This is a text</span>\n",
    "### Color boxes\n",
    "<div class=\"alert alert-block alert-info\"><b>Tip:</b> Use blue boxes (alert-info) for tips and notes.</div>\n",
    "<div class=\"alert alert-block alert-warning\"><b>Example:</b> Use yellow boxes for examples that are not inside code cells, or use for mathematical formulas if needed. Typically also used to display warning messages.</div>\n",
    "<div class=\"alert alert-block alert-success\"><b>Success:</b> This alert box indicates a successful or positive action.</div>\n",
    "<div class=\"alert alert-block alert-danger\"><b>Danger:</b> This alert box indicates a dangerous or potentially negative action.</div>"
   ]
  },
  {
   "cell_type": "markdown",
   "id": "3658f34c-58ce-42c7-b61d-d2816a0eeeb0",
   "metadata": {},
   "source": [
    "# Cell_background_color\n",
    "<code style=\"background:blue;color:white\">Useful for highlighting to grab the attention of the reader towards certain points.</code>"
   ]
  },
  {
   "cell_type": "markdown",
   "id": "df4f7ccc-ce02-441c-9d9e-5731071b8fe2",
   "metadata": {},
   "source": [
    "# LaTex\n",
    "**Squared root**\n",
    "\n",
    "$\\sqrt{k}$\n",
    "\n",
    "**Function definition**\n",
    "\n",
    "$\n",
    "f(x)=\\begin{cases}\n",
    "\\frac{1}{b-a}, & x\\in[a,b] \\\\ \n",
    "0, & x\\notin[a,b]\n",
    "\\end{cases}\n",
    "$\n",
    "\n",
    "[Additional information](https://forketyfork.medium.com/latex-math-formulas-a-cheat-sheet-21e5eca70aae)"
   ]
  },
  {
   "cell_type": "code",
   "execution_count": 6,
   "id": "787334a2-53e1-48e5-bbd9-6ccf616ed07b",
   "metadata": {},
   "outputs": [
    {
     "data": {
      "text/latex": [
       "$(a+b)^{2} = a^{2}+2ab+b^{2}$\n"
      ],
      "text/plain": [
       "<IPython.core.display.Latex object>"
      ]
     },
     "metadata": {},
     "output_type": "display_data"
    }
   ],
   "source": [
    "%%latex\n",
    "$(a+b)^{2} = a^{2}+2ab+b^{2}$"
   ]
  },
  {
   "cell_type": "markdown",
   "id": "6d31734a-3621-4a0d-b1dd-af136ba35d28",
   "metadata": {},
   "source": [
    "### UTF-8 geometric shapes\n",
    "\n",
    "&#9634;\n",
    "\n",
    "&#9635;\n",
    "\n",
    "&#9660;\n",
    "\n",
    "[Reference](https://www.w3schools.com/charsets/ref_utf_geometric.asp)"
   ]
  },
  {
   "cell_type": "markdown",
   "id": "c987edee-d4d3-41bd-a755-8cafbd966b9a",
   "metadata": {},
   "source": [
    "---"
   ]
  },
  {
   "cell_type": "markdown",
   "id": "99013345-3448-496a-892c-abe5fd085874",
   "metadata": {},
   "source": [
    "## Contact\n",
    "\n",
    "<!-- Avatar -->\n",
    "<img src=\"../Pictures/profile2.png\" alt=\"me\" width=\"75\" height=\"80\">\n",
    "<!-- Text with color, font, fontsize and specific size -->\n",
    "<p style=\"color:#323232; font-family: Helevetica; font-size: 20px;\">Jesus L. Monroy<br>Economist | Data Scientist</p>\n",
    "<!-- Insert url links in logos -->\n",
    "<!-- Telegram -->\n",
    "<a href=\"https://t.me/j3suslm\" target=\"_blank\" rel=\"noreferrer\"> <img src=\"https://upload.wikimedia.org/wikipedia/commons/thumb/e/ef/Telegram_X_2019_Logo.svg/2048px-Telegram_X_2019_Logo.png?size=16&color=3b3b3b\" alt=\"telegram\" width=\"30\" height=\"22\" style=\"padding-left:8px\"/>\n",
    "<!-- Twitter -->\n",
    "<a href=\"https://www.twitter.com/sqlalchemist\" target=\"_blank\" rel=\"noreferrer\"> <img src=\"https://toppng.com/public/uploads/preview/twitter-x-new-logo-round-icon-png-11692480241tdbz6jparr.webp?size=16&color=3b3b3b\" alt=\"twitter\" width=\"30\" height=\"22\" style=\"padding-left:8px\"/>\n",
    "<!-- Github -->\n",
    "<a href=\"https://github.com/SqlAlchemist/My-portfolio\" target=\"_blank\" rel=\"noreferrer\"> <img src=\"https://icongr.am/devicon/github-original.svg?size=16&color=3b3b3b\" alt=\"github\" width=\"30\" height=\"30\" style=\"padding-left:8px\"/>\n",
    "<!-- Linkedin -->\n",
    "<a href=\"https://www.linkedin.com/in/j3sus-lmonroy\" target=\"_blank\" rel=\"noreferrer\"> <img src=\"https://icongr.am/simple/linkedin.svg?size=16&color=3b3b3b\" alt=\"linkedin\" width=\"30\" height=\"30\" style=\"padding-left:8px\"/>\n",
    "<!-- Medium -->\n",
    "<a href=\"https://medium.com/@jesus_lmonroy\" target=\"_blank\" rel=\"noreferrer\"> <img src=\"https://cdn1.iconfinder.com/data/icons/social-media-and-logos-12/32/Logo_medium-512.png?size=55&color=3b3b3b\" alt=\"medium\" width=\"30\" height=\"33\" style=\"padding-left:8px\"/>"
   ]
  }
 ],
 "metadata": {
  "kernelspec": {
   "display_name": "Python 3 (ipykernel)",
   "language": "python",
   "name": "python3"
  },
  "language_info": {
   "codemirror_mode": {
    "name": "ipython",
    "version": 3
   },
   "file_extension": ".py",
   "mimetype": "text/x-python",
   "name": "python",
   "nbconvert_exporter": "python",
   "pygments_lexer": "ipython3",
   "version": "3.11.5"
  }
 },
 "nbformat": 4,
 "nbformat_minor": 5
}
