{
 "cells": [
  {
   "cell_type": "raw",
   "id": "a8aa4df2-8504-4754-99e6-74576674dd82",
   "metadata": {},
   "source": [
    "---\n",
    "title: \"Exploring Lego Toys with Polars\"\n",
    "subtitle: \"**A quick summary about Lego bricks**\"\n",
    "author-title: \"Author\"\n",
    "author: \"**Jesus L. Monroy** <br> Economist & Data Scientist <br>\"\n",
    "abstract-title: \"Abstract\"\n",
    "abstract: >\n",
    "    The Lego brick was invented in 1949 by Ole Kirk Christiansen, and the company has since grown to become one of the world's leading toy manufacturers. Lego products are sold in over 140 countries, and the company has over 40,000 employees worldwide.<br>\n",
    "published-title: \"Published\"\n",
    "date: last-modified\n",
    "date-format: iso\n",
    "toc: true\n",
    "toc-title: Contents\n",
    "toc-location: right\n",
    "page-layout: full\n",
    "execute:\n",
    "    echo: true\n",
    "format:\n",
    "    html:\n",
    "        page-layout: full\n",
    "        embed-resources: true\n",
    "        code-fold: show\n",
    "        html-math-method: mathml\n",
    "        theme: \n",
    "            light: flatly\n",
    "code-line-numbers: false\n",
    "code-copy: false\n",
    "code-overflow: wrap\n",
    "jupyter: python3\n",
    "---"
   ]
  },
  {
   "cell_type": "markdown",
   "id": "71a799fc-c016-4965-a188-239f25a5803c",
   "metadata": {},
   "source": [
    "# Lego"
   ]
  },
  {
   "cell_type": "markdown",
   "id": "87deeebd-0252-4f56-b9f0-fadebc392de7",
   "metadata": {},
   "source": [
    "<p><img src=\"https://s3.amazonaws.com/assets.datacamp.com/production/project_10/datasets/lego-bricks.jpeg\" alt=\"lego\" width=\"850\" height=\"350\"></p>\n",
    "\n",
    "## Introduction\n",
    "\n",
    "**LEGO** is a Danish toy production company. The company is best known for its colorful interlocking plastic bricks, and the vast possibilities of what can be built with them. The Lego Group also produces a variety of other toys, including board games, video games, and clothing.\n",
    "\n",
    "In addition to its traditional brick-based toys, Lego also produces a variety of other products, including:\n",
    "\n",
    "* **Lego Technic**: A line of more complex, motorized sets that allow users to build working vehicles and machines.\n",
    "* **Lego Creator**: A line of sets that allow users to build a variety of different models, from buildings to vehicles to animals.\n",
    "* **Lego City**: A line of sets that allow users to build cityscapes and play out scenes from everyday life.\n",
    "* **Lego Friends**: A line of sets that are specifically designed for girls, and feature female characters and settings.\n",
    "* **Lego Ninjago**: A line of sets that are based on the popular Lego Ninjago: Masters of Spinjitzu television series.\n",
    "* **The Lego Movie**: A computer-animated comedy film that was released in 2014, and is based on the Lego brand.\n",
    "\n",
    "Lego products are popular with children of all ages, and they are also enjoyed by adults. Lego bricks are a great way to encourage creativity and problem-solving skills, and they can also be used to build models of just about anything you can imagine. \n",
    "\n",
    "Lego was derived from the Danish phrase leg godt, which means \"play well\".\n",
    "\n",
    "In this project, we will show a summary of lego blocks."
   ]
  },
  {
   "cell_type": "markdown",
   "id": "fcf85e03-ddcd-400b-a221-25fdd15d9eaf",
   "metadata": {},
   "source": [
    "## Reading datasets\n",
    "\n",
    "A comprehensive database of lego blocks is provided by [Rebrickable](https://rebrickable.com/downloads).\n",
    "\n",
    "The data is available as csv file and the schema is shown below\n",
    "\n",
    "<p><img src=\"https://s3.amazonaws.com/assets.datacamp.com/production/project_10/datasets/downloads_schema.png\" alt=\"schema\"></p>\n",
    "\n",
    "Let us start by reading in the colors data to get a sense of the diversity of lego sets!"
   ]
  },
  {
   "cell_type": "code",
   "execution_count": 1,
   "id": "825bc040-54c8-442e-a165-8e799b1d0248",
   "metadata": {},
   "outputs": [],
   "source": [
    "# Import libraries\n",
    "import polars as pl\n",
    "import matplotlib.pyplot as plt\n",
    "import seaborn as sns\n",
    "sns.set()"
   ]
  },
  {
   "cell_type": "code",
   "execution_count": 2,
   "id": "90dbf757-28ef-43be-909a-7ef640e51e37",
   "metadata": {
    "dc": {
     "key": "044b2cef41"
    },
    "tags": [
     "sample_code"
    ]
   },
   "outputs": [
    {
     "data": {
      "text/html": [
       "<div><style>\n",
       ".dataframe > thead > tr,\n",
       ".dataframe > tbody > tr {\n",
       "  text-align: right;\n",
       "  white-space: pre-wrap;\n",
       "}\n",
       "</style>\n",
       "<small>shape: (5, 4)</small><table border=\"1\" class=\"dataframe\"><thead><tr><th>id</th><th>name</th><th>rgb</th><th>is_trans</th></tr><tr><td>i64</td><td>str</td><td>str</td><td>str</td></tr></thead><tbody><tr><td>-1</td><td>&quot;Unknown&quot;</td><td>&quot;0033B2&quot;</td><td>&quot;f&quot;</td></tr><tr><td>0</td><td>&quot;Black&quot;</td><td>&quot;05131D&quot;</td><td>&quot;f&quot;</td></tr><tr><td>1</td><td>&quot;Blue&quot;</td><td>&quot;0055BF&quot;</td><td>&quot;f&quot;</td></tr><tr><td>2</td><td>&quot;Green&quot;</td><td>&quot;237841&quot;</td><td>&quot;f&quot;</td></tr><tr><td>3</td><td>&quot;Dark Turquoise…</td><td>&quot;008F9B&quot;</td><td>&quot;f&quot;</td></tr></tbody></table></div>"
      ],
      "text/plain": [
       "shape: (5, 4)\n",
       "┌─────┬────────────────┬────────┬──────────┐\n",
       "│ id  ┆ name           ┆ rgb    ┆ is_trans │\n",
       "│ --- ┆ ---            ┆ ---    ┆ ---      │\n",
       "│ i64 ┆ str            ┆ str    ┆ str      │\n",
       "╞═════╪════════════════╪════════╪══════════╡\n",
       "│ -1  ┆ Unknown        ┆ 0033B2 ┆ f        │\n",
       "│ 0   ┆ Black          ┆ 05131D ┆ f        │\n",
       "│ 1   ┆ Blue           ┆ 0055BF ┆ f        │\n",
       "│ 2   ┆ Green          ┆ 237841 ┆ f        │\n",
       "│ 3   ┆ Dark Turquoise ┆ 008F9B ┆ f        │\n",
       "└─────┴────────────────┴────────┴──────────┘"
      ]
     },
     "execution_count": 2,
     "metadata": {},
     "output_type": "execute_result"
    }
   ],
   "source": [
    "# Read colors dataset\n",
    "colors = pl.read_csv('../datasets/colors.csv')\n",
    "# Print the first few rows\n",
    "colors.head()"
   ]
  },
  {
   "cell_type": "markdown",
   "id": "92ba852f-9ab8-4567-8dc5-b7a13706ba4c",
   "metadata": {},
   "source": [
    "## Exploring the Colors dataset\n",
    "\n",
    "Now that we have read the `colors` dataset, we can start exploring it! Let us start by understanding the number of colors available."
   ]
  },
  {
   "cell_type": "code",
   "execution_count": 3,
   "id": "a083078e-12b7-47bd-a81e-490f3af3a2ca",
   "metadata": {
    "dc": {
     "key": "15c1e2ce38"
    },
    "tags": [
     "sample_code"
    ]
   },
   "outputs": [
    {
     "data": {
      "text/plain": [
       "(135, 4)"
      ]
     },
     "execution_count": 3,
     "metadata": {},
     "output_type": "execute_result"
    }
   ],
   "source": [
    "# How many distinct colors are available?\n",
    "colors.shape"
   ]
  },
  {
   "cell_type": "markdown",
   "id": "e35e492c-9537-4722-9bc3-b04f34f7b436",
   "metadata": {},
   "source": [
    "## Transpartent Colors in Lego Sets\n",
    "\n",
    "The `colors` data has a column named `is_trans` that indicates whether a color is transparent or not.\n",
    "\n",
    "We shall to explore the distribution of transparent vs. non-transparent colors."
   ]
  },
  {
   "cell_type": "code",
   "execution_count": 4,
   "id": "46ef1a49-9c47-47bc-986d-eeaa4e21a2a2",
   "metadata": {
    "dc": {
     "key": "a5723ae5c2"
    },
    "tags": [
     "sample_code"
    ]
   },
   "outputs": [
    {
     "data": {
      "text/html": [
       "<div><style>\n",
       ".dataframe > thead > tr,\n",
       ".dataframe > tbody > tr {\n",
       "  text-align: right;\n",
       "  white-space: pre-wrap;\n",
       "}\n",
       "</style>\n",
       "<small>shape: (2, 2)</small><table border=\"1\" class=\"dataframe\"><thead><tr><th>is_trans</th><th>len</th></tr><tr><td>str</td><td>u32</td></tr></thead><tbody><tr><td>&quot;f&quot;</td><td>107</td></tr><tr><td>&quot;t&quot;</td><td>28</td></tr></tbody></table></div>"
      ],
      "text/plain": [
       "shape: (2, 2)\n",
       "┌──────────┬─────┐\n",
       "│ is_trans ┆ len │\n",
       "│ ---      ┆ --- │\n",
       "│ str      ┆ u32 │\n",
       "╞══════════╪═════╡\n",
       "│ f        ┆ 107 │\n",
       "│ t        ┆ 28  │\n",
       "└──────────┴─────┘"
      ]
     },
     "execution_count": 4,
     "metadata": {},
     "output_type": "execute_result"
    }
   ],
   "source": [
    "# Distribution of colors based on transparency\n",
    "colors_summary = colors.group_by('is_trans').agg(pl.len())\n",
    "colors_summary"
   ]
  },
  {
   "cell_type": "markdown",
   "id": "f8945a9c-ce96-42f5-9015-ba6558e4c385",
   "metadata": {},
   "source": [
    "## Exploring Lego Sets\n",
    "\n",
    "Another interesting dataset available in this database is the `sets` data.\n",
    "\n",
    "It contains a comprehensive list of sets over the years and the number of parts that each of these sets contained.\n",
    "\n",
    "![sets_data](https://imgur.com/1k4PoXs.png)\n",
    "\n",
    "Let us use this data to explore how the average number of parts in Lego sets has varied over the years."
   ]
  },
  {
   "cell_type": "code",
   "execution_count": 5,
   "id": "0a977f50-7964-4db5-b538-53c452332b37",
   "metadata": {
    "dc": {
     "key": "c9d0e58653"
    },
    "tags": [
     "sample_code"
    ]
   },
   "outputs": [
    {
     "data": {
      "text/html": [
       "<div><style>\n",
       ".dataframe > thead > tr,\n",
       ".dataframe > tbody > tr {\n",
       "  text-align: right;\n",
       "  white-space: pre-wrap;\n",
       "}\n",
       "</style>\n",
       "<small>shape: (5, 5)</small><table border=\"1\" class=\"dataframe\"><thead><tr><th>set_num</th><th>name</th><th>year</th><th>theme_id</th><th>num_parts</th></tr><tr><td>str</td><td>str</td><td>i64</td><td>i64</td><td>i64</td></tr></thead><tbody><tr><td>&quot;00-1&quot;</td><td>&quot;Weetabix Castl…</td><td>1970</td><td>414</td><td>471</td></tr><tr><td>&quot;0011-2&quot;</td><td>&quot;Town Mini-Figu…</td><td>1978</td><td>84</td><td>12</td></tr><tr><td>&quot;0011-3&quot;</td><td>&quot;Castle 2 for 1…</td><td>1987</td><td>199</td><td>2</td></tr><tr><td>&quot;0012-1&quot;</td><td>&quot;Space Mini-Fig…</td><td>1979</td><td>143</td><td>12</td></tr><tr><td>&quot;0013-1&quot;</td><td>&quot;Space Mini-Fig…</td><td>1979</td><td>143</td><td>12</td></tr></tbody></table></div>"
      ],
      "text/plain": [
       "shape: (5, 5)\n",
       "┌─────────┬────────────────────────────┬──────┬──────────┬───────────┐\n",
       "│ set_num ┆ name                       ┆ year ┆ theme_id ┆ num_parts │\n",
       "│ ---     ┆ ---                        ┆ ---  ┆ ---      ┆ ---       │\n",
       "│ str     ┆ str                        ┆ i64  ┆ i64      ┆ i64       │\n",
       "╞═════════╪════════════════════════════╪══════╪══════════╪═══════════╡\n",
       "│ 00-1    ┆ Weetabix Castle            ┆ 1970 ┆ 414      ┆ 471       │\n",
       "│ 0011-2  ┆ Town Mini-Figures          ┆ 1978 ┆ 84       ┆ 12        │\n",
       "│ 0011-3  ┆ Castle 2 for 1 Bonus Offer ┆ 1987 ┆ 199      ┆ 2         │\n",
       "│ 0012-1  ┆ Space Mini-Figures         ┆ 1979 ┆ 143      ┆ 12        │\n",
       "│ 0013-1  ┆ Space Mini-Figures         ┆ 1979 ┆ 143      ┆ 12        │\n",
       "└─────────┴────────────────────────────┴──────┴──────────┴───────────┘"
      ]
     },
     "execution_count": 5,
     "metadata": {},
     "output_type": "execute_result"
    }
   ],
   "source": [
    "# Read sets data\n",
    "sets = pl.read_csv('../datasets/sets.csv')\n",
    "sets.head()"
   ]
  },
  {
   "cell_type": "code",
   "execution_count": 6,
   "id": "473958fe-d7f3-4418-9019-4822a38a09dc",
   "metadata": {},
   "outputs": [
    {
     "data": {
      "text/html": [
       "<div><style>\n",
       ".dataframe > thead > tr,\n",
       ".dataframe > tbody > tr {\n",
       "  text-align: right;\n",
       "  white-space: pre-wrap;\n",
       "}\n",
       "</style>\n",
       "<small>shape: (5, 2)</small><table border=\"1\" class=\"dataframe\"><thead><tr><th>year</th><th>num_parts</th></tr><tr><td>i64</td><td>f64</td></tr></thead><tbody><tr><td>2001</td><td>104.365782</td></tr><tr><td>2010</td><td>210.646396</td></tr><tr><td>2016</td><td>248.945813</td></tr><tr><td>1968</td><td>127.2</td></tr><tr><td>2013</td><td>181.359191</td></tr></tbody></table></div>"
      ],
      "text/plain": [
       "shape: (5, 2)\n",
       "┌──────┬────────────┐\n",
       "│ year ┆ num_parts  │\n",
       "│ ---  ┆ ---        │\n",
       "│ i64  ┆ f64        │\n",
       "╞══════╪════════════╡\n",
       "│ 2001 ┆ 104.365782 │\n",
       "│ 2010 ┆ 210.646396 │\n",
       "│ 2016 ┆ 248.945813 │\n",
       "│ 1968 ┆ 127.2      │\n",
       "│ 2013 ┆ 181.359191 │\n",
       "└──────┴────────────┘"
      ]
     },
     "execution_count": 6,
     "metadata": {},
     "output_type": "execute_result"
    }
   ],
   "source": [
    "# Create a summary of average number of parts by year\n",
    "parts_by_year = sets.group_by('year').agg(pl.col('num_parts').mean())\n",
    "parts_by_year.head()"
   ]
  },
  {
   "cell_type": "markdown",
   "id": "9897a039-ebe4-4d02-b8b4-c5da0a54b4b6",
   "metadata": {},
   "source": [
    "## Lego Themes Over Years\n",
    "\n",
    "Lego blocks ship under multiple [themes](https://shop.lego.com/en-US/Themes). \n",
    "\n",
    "Let us try to get a sense of how the number of themes shipped has varied over the years."
   ]
  },
  {
   "cell_type": "code",
   "execution_count": 7,
   "id": "66cd720c-caa2-4f1f-af6a-a86af65772d4",
   "metadata": {
    "dc": {
     "key": "266a3f390c"
    },
    "tags": [
     "sample_code"
    ]
   },
   "outputs": [
    {
     "data": {
      "text/html": [
       "<div><style>\n",
       ".dataframe > thead > tr,\n",
       ".dataframe > tbody > tr {\n",
       "  text-align: right;\n",
       "  white-space: pre-wrap;\n",
       "}\n",
       "</style>\n",
       "<small>shape: (5, 5)</small><table border=\"1\" class=\"dataframe\"><thead><tr><th>set_num</th><th>name</th><th>year</th><th>theme_id</th><th>num_parts</th></tr><tr><td>str</td><td>str</td><td>i64</td><td>i64</td><td>i64</td></tr></thead><tbody><tr><td>&quot;00-1&quot;</td><td>&quot;Weetabix Castl…</td><td>1970</td><td>414</td><td>471</td></tr><tr><td>&quot;0011-2&quot;</td><td>&quot;Town Mini-Figu…</td><td>1978</td><td>84</td><td>12</td></tr><tr><td>&quot;0011-3&quot;</td><td>&quot;Castle 2 for 1…</td><td>1987</td><td>199</td><td>2</td></tr><tr><td>&quot;0012-1&quot;</td><td>&quot;Space Mini-Fig…</td><td>1979</td><td>143</td><td>12</td></tr><tr><td>&quot;0013-1&quot;</td><td>&quot;Space Mini-Fig…</td><td>1979</td><td>143</td><td>12</td></tr></tbody></table></div>"
      ],
      "text/plain": [
       "shape: (5, 5)\n",
       "┌─────────┬────────────────────────────┬──────┬──────────┬───────────┐\n",
       "│ set_num ┆ name                       ┆ year ┆ theme_id ┆ num_parts │\n",
       "│ ---     ┆ ---                        ┆ ---  ┆ ---      ┆ ---       │\n",
       "│ str     ┆ str                        ┆ i64  ┆ i64      ┆ i64       │\n",
       "╞═════════╪════════════════════════════╪══════╪══════════╪═══════════╡\n",
       "│ 00-1    ┆ Weetabix Castle            ┆ 1970 ┆ 414      ┆ 471       │\n",
       "│ 0011-2  ┆ Town Mini-Figures          ┆ 1978 ┆ 84       ┆ 12        │\n",
       "│ 0011-3  ┆ Castle 2 for 1 Bonus Offer ┆ 1987 ┆ 199      ┆ 2         │\n",
       "│ 0012-1  ┆ Space Mini-Figures         ┆ 1979 ┆ 143      ┆ 12        │\n",
       "│ 0013-1  ┆ Space Mini-Figures         ┆ 1979 ┆ 143      ┆ 12        │\n",
       "└─────────┴────────────────────────────┴──────┴──────────┴───────────┘"
      ]
     },
     "execution_count": 7,
     "metadata": {},
     "output_type": "execute_result"
    }
   ],
   "source": [
    "# Number of themes shipped by year\n",
    "sets.head()"
   ]
  },
  {
   "cell_type": "code",
   "execution_count": 8,
   "id": "f4adef48-a5f1-4c53-8d8e-131b02701f8b",
   "metadata": {},
   "outputs": [
    {
     "data": {
      "text/html": [
       "<div><style>\n",
       ".dataframe > thead > tr,\n",
       ".dataframe > tbody > tr {\n",
       "  text-align: right;\n",
       "  white-space: pre-wrap;\n",
       "}\n",
       "</style>\n",
       "<small>shape: (5, 2)</small><table border=\"1\" class=\"dataframe\"><thead><tr><th>year</th><th>theme_id</th></tr><tr><td>i64</td><td>u32</td></tr></thead><tbody><tr><td>2013</td><td>593</td></tr><tr><td>2014</td><td>715</td></tr><tr><td>2015</td><td>670</td></tr><tr><td>2016</td><td>609</td></tr><tr><td>2017</td><td>470</td></tr></tbody></table></div>"
      ],
      "text/plain": [
       "shape: (5, 2)\n",
       "┌──────┬──────────┐\n",
       "│ year ┆ theme_id │\n",
       "│ ---  ┆ ---      │\n",
       "│ i64  ┆ u32      │\n",
       "╞══════╪══════════╡\n",
       "│ 2013 ┆ 593      │\n",
       "│ 2014 ┆ 715      │\n",
       "│ 2015 ┆ 670      │\n",
       "│ 2016 ┆ 609      │\n",
       "│ 2017 ┆ 470      │\n",
       "└──────┴──────────┘"
      ]
     },
     "execution_count": 8,
     "metadata": {},
     "output_type": "execute_result"
    }
   ],
   "source": [
    "themes_by_year = sets.group_by('year', maintain_order=True).agg(pl.col('theme_id').len()).sort('year')\n",
    "themes_by_year.tail()"
   ]
  },
  {
   "cell_type": "code",
   "execution_count": 9,
   "id": "684887b4-cad4-4500-ba28-132b8b0f522e",
   "metadata": {},
   "outputs": [
    {
     "data": {
      "image/png": "[encoded data removed]",
      "text/plain": [
       "<Figure size 1100x700 with 1 Axes>"
      ]
     },
     "metadata": {},
     "output_type": "display_data"
    }
   ],
   "source": [
    "# Plot trends in average number of parts by year\n",
    "plt.figure(figsize=(11, 7))\n",
    "plt.plot(themes_by_year['year'], themes_by_year['theme_id'], marker='o', linestyle='-')\n",
    "plt.title('Lego - Evolution of average number of parts (1950-2017)', fontsize = 18)\n",
    "plt.xlabel('Year')\n",
    "plt.ylabel('Themes')\n",
    "plt.legend('',frameon=False)\n",
    "plt.show()"
   ]
  },
  {
   "cell_type": "markdown",
   "id": "32c2a49a-bf46-46c0-a477-c541660b3df6",
   "metadata": {},
   "source": [
    "## Final Remarks\n",
    "\n",
    "Lego blocks offer an unlimited amount of fun across ages. \n",
    "\n",
    "We explored some interesting trends around colors, parts, and themes."
   ]
  },
  {
   "cell_type": "markdown",
   "id": "69743a08-e256-4959-baa3-0c37f41e2762",
   "metadata": {},
   "source": [
    "## Contact\n",
    "\n",
    "<!-- Avatar -->\n",
    "<img src=\"./Pictures/profile2.png\" alt=\"me\" width=\"75\" height=\"80\">\n",
    "<!-- Text with color, font, fontsize and specific size -->\n",
    "<p style=\"color:#323232; font-family: Helevetica; font-size: 20px;\">Jesus L. Monroy<br>Economist | Data Scientist</p>\n",
    "<!-- Insert url links in logos -->\n",
    "<!-- Telegram -->\n",
    "<a href=\"https://t.me/j3suslm\" target=\"_blank\" rel=\"noreferrer\"> <img src=\"https://encrypted-tbn0.gstatic.com/images?q=tbn:ANd9GcSC8DykewOCqmuAO4hAFQMEYkfL68oELRj0BQ&usqp=CAUsize=16&color=3b3b3b\" alt=\"telegram\" width=\"28\" height=\"20\" style=\"padding-left:8px\"/>\n",
    "<!-- Twitter -->\n",
    "<a href=\"https://www.twitter.com/sqlalchemist\" target=\"_blank\" rel=\"noreferrer\"> <img src=\"https://toppng.com/public/uploads/preview/twitter-x-new-logo-round-icon-png-11692480241tdbz6jparr.webp?size=16&color=3b3b3b\" alt=\"twitter\" width=\"30\" height=\"22\" style=\"padding-left:8px\"/>\n",
    "<!-- Github -->\n",
    "<a href=\"https://github.com/SqlAlchemist/My-portfolio\" target=\"_blank\" rel=\"noreferrer\"> <img src=\"https://icongr.am/devicon/github-original.svg?size=16&color=3b3b3b\" alt=\"github\" width=\"30\" height=\"30\" style=\"padding-left:8px\"/>\n",
    "<!-- Linkedin -->\n",
    "<a href=\"https://www.linkedin.com/in/j3sus-lmonroy\" target=\"_blank\" rel=\"noreferrer\"> <img src=\"https://icongr.am/simple/linkedin.svg?size=16&color=3b3b3b\" alt=\"linkedin\" width=\"30\" height=\"30\" style=\"padding-left:8px\"/>\n",
    "<!-- Medium -->\n",
    "<a href=\"https://medium.com/@jesus_lmonroy\" target=\"_blank\" rel=\"noreferrer\"> <img src=\"https://cdn1.iconfinder.com/data/icons/social-media-and-logos-12/32/Logo_medium-512.png?size=55&color=3b3b3b\" alt=\"medium\" width=\"30\" height=\"33\" style=\"padding-left:8px\"/>"
   ]
  }
 ],
 "metadata": {
  "kernelspec": {
   "display_name": "Python 3 (ipykernel)",
   "language": "python",
   "name": "python3"
  },
  "language_info": {
   "codemirror_mode": {
    "name": "ipython",
    "version": 3
   },
   "file_extension": ".py",
   "mimetype": "text/x-python",
   "name": "python",
   "nbconvert_exporter": "python",
   "pygments_lexer": "ipython3",
   "version": "3.11.5"
  }
 },
 "nbformat": 4,
 "nbformat_minor": 5
}
