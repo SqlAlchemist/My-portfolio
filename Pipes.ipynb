{
 "cells": [
  {
   "cell_type": "raw",
   "id": "7a155d4a-368b-4d9a-9da9-13b76a2c58ac",
   "metadata": {},
   "source": [
    "---\n",
    "title: \"My Quarto app\"\n",
    "author: JLM\n",
    "date: \"Dec 4, 2023\"\n",
    "toc: true\n",
    "number-sections: true\n",
    "format:\n",
    "    html:\n",
    "        self-contained: true\n",
    "        code-fold: false\n",
    "        html-math-method: katex\n",
    "jupyter: python3\n",
    "---"
   ]
  },
  {
   "cell_type": "markdown",
   "id": "dcee02bd-8755-4278-8197-cfdac197fd3f",
   "metadata": {},
   "source": [
    "# Writing cleaner code with Pipes in Python"
   ]
  },
  {
   "cell_type": "code",
   "execution_count": 1,
   "id": "f2693a3c-d0e6-4fb0-8d29-482ccc839c8f",
   "metadata": {},
   "outputs": [],
   "source": [
    "import pipe"
   ]
  },
  {
   "cell_type": "code",
   "execution_count": 2,
   "id": "b61d8621-d4a0-48da-8bb8-3cae482ef571",
   "metadata": {},
   "outputs": [],
   "source": [
    "arr = [1,2,3,4,5,]"
   ]
  },
  {
   "cell_type": "code",
   "execution_count": 9,
   "id": "3939225e-6d50-4965-b346-884b5ade0c6e",
   "metadata": {},
   "outputs": [
    {
     "data": {
      "text/plain": [
       "[2, 4]"
      ]
     },
     "execution_count": 9,
     "metadata": {},
     "output_type": "execute_result"
    }
   ],
   "source": [
    "list(arr | pipe.where(lambda x: x%2==0))"
   ]
  },
  {
   "cell_type": "code",
   "execution_count": 8,
   "id": "87f07cfb-31e7-494f-8c02-aede4e0c1f8a",
   "metadata": {},
   "outputs": [
    {
     "data": {
      "text/plain": [
       "[2, 4, 6, 8, 10]"
      ]
     },
     "execution_count": 8,
     "metadata": {},
     "output_type": "execute_result"
    }
   ],
   "source": [
    "list(arr | pipe.select(lambda x: x*2))"
   ]
  },
  {
   "cell_type": "code",
   "execution_count": 5,
   "id": "2b1ebf13-86d6-4547-af06-a25113a3fedb",
   "metadata": {},
   "outputs": [
    {
     "data": {
      "text/plain": [
       "[4, 8]"
      ]
     },
     "execution_count": 5,
     "metadata": {},
     "output_type": "execute_result"
    }
   ],
   "source": [
    "list(arr\n",
    "    | pipe.where (lambda x: x%2==0)\n",
    "    | pipe.select (lambda x: x*2)\n",
    ")"
   ]
  },
  {
   "cell_type": "code",
   "execution_count": 10,
   "id": "683d7abe-1b2d-4cc1-8ab1-569f76988091",
   "metadata": {},
   "outputs": [],
   "source": [
    "nested = [[1,2,[3]],[4,5]]"
   ]
  },
  {
   "cell_type": "code",
   "execution_count": 11,
   "id": "5b2ae8a3-1f0c-468e-b097-4094e81e4b1a",
   "metadata": {},
   "outputs": [
    {
     "data": {
      "text/plain": [
       "[1, 2, [3], 4, 5]"
      ]
     },
     "execution_count": 11,
     "metadata": {},
     "output_type": "execute_result"
    }
   ],
   "source": [
    "list(nested | pipe.chain)"
   ]
  },
  {
   "cell_type": "code",
   "execution_count": 12,
   "id": "589c5aef-22bb-4696-820d-3cac4105b9f2",
   "metadata": {},
   "outputs": [
    {
     "data": {
      "text/plain": [
       "[1, 2, 3, 4, 5]"
      ]
     },
     "execution_count": 12,
     "metadata": {},
     "output_type": "execute_result"
    }
   ],
   "source": [
    "list(nested | pipe.traverse)"
   ]
  },
  {
   "cell_type": "code",
   "execution_count": 15,
   "id": "59d84fd4-08fc-4013-82e9-a2856beb76a6",
   "metadata": {},
   "outputs": [],
   "source": [
    "fruits = [\n",
    "    {'name':'apple', 'price': [2,5]},\n",
    "    {'name':'orange', 'price': 4},\n",
    "    {'name':'grape', 'price': 5},\n",
    "]"
   ]
  },
  {
   "cell_type": "code",
   "execution_count": 16,
   "id": "343e5b9f-2769-4aa9-94cf-de4c9417cf56",
   "metadata": {},
   "outputs": [
    {
     "data": {
      "text/plain": [
       "[2, 5, 4, 5]"
      ]
     },
     "execution_count": 16,
     "metadata": {},
     "output_type": "execute_result"
    }
   ],
   "source": [
    "list(fruits\n",
    "     | pipe.select(lambda fruit: fruit['price'])\n",
    "     | pipe.traverse\n",
    ")"
   ]
  },
  {
   "cell_type": "code",
   "execution_count": 18,
   "id": "c091b5ce-bfaa-4455-8f76-8a820157a534",
   "metadata": {},
   "outputs": [
    {
     "data": {
      "text/plain": [
       "[{'Even': [2, 4, 6, 8]}, {'Odd': [1, 3, 5, 7, 9]}]"
      ]
     },
     "execution_count": 18,
     "metadata": {},
     "output_type": "execute_result"
    }
   ],
   "source": [
    "list(\n",
    "    (1,2,3,4,5,6,7,8,9,)\n",
    "    | pipe.groupby(lambda x: 'Even' if x%2==0 else 'Odd')\n",
    "    | pipe.select(lambda x: {x[0]: list(x[1])})\n",
    ")"
   ]
  },
  {
   "cell_type": "code",
   "execution_count": 20,
   "id": "5e604c48-e081-4ebf-ac8a-71c83ed97a1c",
   "metadata": {},
   "outputs": [
    {
     "data": {
      "text/plain": [
       "[{'Even': [4, 6, 8]}, {'Odd': [3, 5, 7, 9]}]"
      ]
     },
     "execution_count": 20,
     "metadata": {},
     "output_type": "execute_result"
    }
   ],
   "source": [
    "list(\n",
    "    (1,2,3,4,5,6,7,8,9,)\n",
    "    | pipe.groupby(lambda x: 'Even' if x%2==0 else 'Odd')\n",
    "    | pipe.select(lambda x: {x[0]: list(x[1] | pipe.where(lambda x: x>2))})\n",
    ")"
   ]
  },
  {
   "cell_type": "code",
   "execution_count": 21,
   "id": "da26c05d-48ca-4884-a958-6baa209fa30f",
   "metadata": {},
   "outputs": [],
   "source": [
    "arr2 = [1,2,2,3,4,5,6,6,7,9,3,3,1,]"
   ]
  },
  {
   "cell_type": "code",
   "execution_count": 22,
   "id": "24184a5d-9e5c-423f-bceb-e5c9aa169ad9",
   "metadata": {},
   "outputs": [
    {
     "data": {
      "text/plain": [
       "[1, 2, 3, 4, 5, 6, 7, 9]"
      ]
     },
     "execution_count": 22,
     "metadata": {},
     "output_type": "execute_result"
    }
   ],
   "source": [
    "list(arr2 | pipe.dedup)"
   ]
  },
  {
   "cell_type": "code",
   "execution_count": 23,
   "id": "0a39f24f-2f62-474d-8db7-693f4b8f6d0f",
   "metadata": {
    "jupyter": {
     "source_hidden": true
    }
   },
   "outputs": [
    {
     "data": {
      "text/plain": [
       "[1, 5]"
      ]
     },
     "execution_count": 23,
     "metadata": {},
     "output_type": "execute_result"
    }
   ],
   "source": [
    "list(arr2 | pipe.dedup(lambda key: key<5))"
   ]
  },
  {
   "cell_type": "markdown",
   "id": "d28ec56b-b1df-4550-ae21-c5b826a87046",
   "metadata": {},
   "source": [
    "## Contact\n",
    "\n",
    "<!-- Avatar -->\n",
    "<img src=\"../Pictures/profile2.png\" alt=\"me\" width=\"75\" height=\"80\">\n",
    "<!-- Text with color, font, fontsize and specific size -->\n",
    "<p style=\"color:#323232; font-family: Helevetica; font-size: 20px;\">Jesus L. Monroy<br>Economist | Data Scientist</p>\n",
    "<!-- Insert url links in logos -->\n",
    "<!-- Telegram -->\n",
    "<a href=\"https://t.me/j3suslm\" target=\"_blank\" rel=\"noreferrer\"> <img src=\"https://upload.wikimedia.org/wikipedia/commons/thumb/e/ef/Telegram_X_2019_Logo.svg/2048px-Telegram_X_2019_Logo.png?size=16&color=3b3b3b\" alt=\"telegram\" width=\"30\" height=\"22\" style=\"padding-left:8px\"/>\n",
    "<!-- Twitter -->\n",
    "<a href=\"https://www.twitter.com/sqlalchemist\" target=\"_blank\" rel=\"noreferrer\"> <img src=\"https://toppng.com/public/uploads/preview/twitter-x-new-logo-round-icon-png-11692480241tdbz6jparr.webp?size=16&color=3b3b3b\" alt=\"twitter\" width=\"30\" height=\"22\" style=\"padding-left:8px\"/>\n",
    "<!-- Github -->\n",
    "<a href=\"https://github.com/SqlAlchemist/My-portfolio\" target=\"_blank\" rel=\"noreferrer\"> <img src=\"https://icongr.am/devicon/github-original.svg?size=16&color=3b3b3b\" alt=\"github\" width=\"30\" height=\"30\" style=\"padding-left:8px\"/>\n",
    "<!-- Linkedin -->\n",
    "<a href=\"https://www.linkedin.com/in/j3sus-lmonroy\" target=\"_blank\" rel=\"noreferrer\"> <img src=\"https://icongr.am/simple/linkedin.svg?size=16&color=3b3b3b\" alt=\"linkedin\" width=\"30\" height=\"30\" style=\"padding-left:8px\"/>\n",
    "<!-- Medium -->\n",
    "<a href=\"https://medium.com/@jesus_lmonroy\" target=\"_blank\" rel=\"noreferrer\"> <img src=\"https://cdn1.iconfinder.com/data/icons/social-media-and-logos-12/32/Logo_medium-512.png?size=55&color=3b3b3b\" alt=\"medium\" width=\"30\" height=\"33\" style=\"padding-left:8px\"/>"
   ]
  }
 ],
 "metadata": {
  "kernelspec": {
   "display_name": "Python 3 (ipykernel)",
   "language": "python",
   "name": "python3"
  },
  "language_info": {
   "codemirror_mode": {
    "name": "ipython",
    "version": 3
   },
   "file_extension": ".py",
   "mimetype": "text/x-python",
   "name": "python",
   "nbconvert_exporter": "python",
   "pygments_lexer": "ipython3",
   "version": "3.11.5"
  }
 },
 "nbformat": 4,
 "nbformat_minor": 5
}
