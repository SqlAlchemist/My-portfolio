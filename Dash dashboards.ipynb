{
 "cells": [
  {
   "cell_type": "markdown",
   "id": "e7db0fe8-da22-4f86-a63e-60c40fb90b4d",
   "metadata": {},
   "source": [
    "# Dashboards with Dash and Plotly"
   ]
  },
  {
   "cell_type": "markdown",
   "id": "e4d42277-6667-47ab-af67-59c622fc0b69",
   "metadata": {},
   "source": [
    "You can see final app [here](http://127.0.0.1:8050/)"
   ]
  },
  {
   "cell_type": "markdown",
   "id": "0b93efee-9608-44f2-af53-3a699a078ab7",
   "metadata": {},
   "source": [
    "**Recommended steps to create a dashboard with Dash**:\n",
    "\n",
    "1. Create a prototype visual without interactive\n",
    "2. Identify the element that changes and define its options in the interactive component\n",
    "3. Connect the interactive component to the visual using a callback function"
   ]
  },
  {
   "cell_type": "markdown",
   "id": "59ed54c1-46a7-46a2-8c55-f62afeda6cc8",
   "metadata": {},
   "source": [
    "### Environment settings"
   ]
  },
  {
   "cell_type": "code",
   "execution_count": 1,
   "id": "85b7877f-50be-4c5d-ad62-107745918aec",
   "metadata": {},
   "outputs": [],
   "source": [
    "import numpy as np\n",
    "import pandas as pd\n",
    "import polars as pl\n",
    "import seaborn as sns\n",
    "import plotly.express as px\n",
    "from dash import Dash, dcc, html\n",
    "from dash.dependencies import Input, Output\n",
    "from dash.exceptions import PreventUpdate\n",
    "from jupyter_dash import JupyterDash # not currently necessary"
   ]
  },
  {
   "cell_type": "code",
   "execution_count": 2,
   "id": "74eb8ab9-7a63-40c0-87a0-1de7407c9ab7",
   "metadata": {},
   "outputs": [
    {
     "data": {
      "text/html": [
       "\n",
       "        <iframe\n",
       "            width=\"100%\"\n",
       "            height=\"650\"\n",
       "            src=\"http://127.0.0.1:8050/\"\n",
       "            frameborder=\"0\"\n",
       "            allowfullscreen\n",
       "            \n",
       "        ></iframe>\n",
       "        "
      ],
      "text/plain": [
       "<IPython.lib.display.IFrame at 0x12d044450>"
      ]
     },
     "metadata": {},
     "output_type": "display_data"
    }
   ],
   "source": [
    "app = Dash(__name__)\n",
    "\n",
    "app.layout = html.Div([\n",
    "    html.H1(id='title-id', children='Countries'),\n",
    "    html.H3('You can see the app here'),\n",
    "    'Pick a country',\n",
    "    dcc.Dropdown(\n",
    "        options=['USA','India','China','Japan','Mexico'], \n",
    "        value='Mexico',\n",
    "        id='country-dropdown'\n",
    "    ),\n",
    "    html.H2(id='country-output')\n",
    "])\n",
    "\n",
    "@app.callback(\n",
    "    Output('country-output', 'children'),\n",
    "    Input('country-dropdown', 'value')\n",
    ")\n",
    "def country_picker(country):\n",
    "    return f\"I live in {country}\"\n",
    "    \n",
    "if __name__ == '__main__':\n",
    "    app.run_server()"
   ]
  },
  {
   "cell_type": "code",
   "execution_count": 3,
   "id": "0400094d-50fb-4d62-87b4-fe220565244e",
   "metadata": {},
   "outputs": [
    {
     "data": {
      "text/html": [
       "\n",
       "        <iframe\n",
       "            width=\"100%\"\n",
       "            height=\"650\"\n",
       "            src=\"http://127.0.0.1:8050/\"\n",
       "            frameborder=\"0\"\n",
       "            allowfullscreen\n",
       "            \n",
       "        ></iframe>\n",
       "        "
      ],
      "text/plain": [
       "<IPython.lib.display.IFrame at 0x12d218cd0>"
      ]
     },
     "metadata": {},
     "output_type": "display_data"
    }
   ],
   "source": [
    "app = Dash(__name__)\n",
    "\n",
    "app.layout = html.Div([\n",
    "    html.H1(id='title-id', children='State Analysis'),\n",
    "    'Select a State to analyze',\n",
    "    dcc.Dropdown(\n",
    "        options=['California','Oregon','Washington',], \n",
    "        value='',\n",
    "        id='state-dropdown'\n",
    "    ),\n",
    "    html.H2(id='state-output')\n",
    "])\n",
    "\n",
    "@app.callback(\n",
    "    Output('state-output', 'children'),\n",
    "    Input('state-dropdown', 'value')\n",
    ")\n",
    "def country_picker(state):\n",
    "    return f\"You have selected {state}\"\n",
    "    \n",
    "if __name__ == '__main__':\n",
    "    app.run_server()"
   ]
  },
  {
   "cell_type": "code",
   "execution_count": null,
   "id": "56473e7f-83c6-41f7-a2d6-b624b441d8a1",
   "metadata": {},
   "outputs": [],
   "source": []
  }
 ],
 "metadata": {
  "kernelspec": {
   "display_name": "Python 3 (ipykernel)",
   "language": "python",
   "name": "python3"
  },
  "language_info": {
   "codemirror_mode": {
    "name": "ipython",
    "version": 3
   },
   "file_extension": ".py",
   "mimetype": "text/x-python",
   "name": "python",
   "nbconvert_exporter": "python",
   "pygments_lexer": "ipython3",
   "version": "3.11.4"
  }
 },
 "nbformat": 4,
 "nbformat_minor": 5
}
