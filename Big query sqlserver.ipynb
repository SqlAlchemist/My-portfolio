{
 "cells": [
  {
   "cell_type": "markdown",
   "id": "a28446c7-26de-4555-a0eb-af341b72cfba",
   "metadata": {
    "id": "a28446c7-26de-4555-a0eb-af341b72cfba",
    "tags": []
   },
   "source": [
    "## Big Query upload Sql-Server"
   ]
  },
  {
   "cell_type": "markdown",
   "id": "c5f0e9fb-3a2f-4eb3-a07b-484e6121db4b",
   "metadata": {
    "id": "c5f0e9fb-3a2f-4eb3-a07b-484e6121db4b",
    "tags": []
   },
   "source": [
    "### Environment settings"
   ]
  },
  {
   "cell_type": "code",
   "execution_count": 1,
   "id": "97982127-5d81-4eb7-95cc-3f38e4aaa37b",
   "metadata": {
    "id": "97982127-5d81-4eb7-95cc-3f38e4aaa37b"
   },
   "outputs": [],
   "source": [
    "import numpy as np\n",
    "import pandas as pd\n",
    "import polars as pl\n",
    "import gspread\n",
    "import duckdb\n",
    "# Import authenticator and gspread to manage g-sheets\n",
    "from oauth2client.service_account import ServiceAccountCredentials\n",
    "from google.oauth2 import service_account\n",
    "from google.cloud import bigquery\n",
    "import connectorx as cx"
   ]
  },
  {
   "cell_type": "code",
   "execution_count": 2,
   "id": "80740f98-4e9c-4e24-afb9-c324e3d97a79",
   "metadata": {
    "id": "80740f98-4e9c-4e24-afb9-c324e3d97a79"
   },
   "outputs": [],
   "source": [
    "# Create sheets and drive scopes to authenticate\n",
    "scopes = ['https://www.googleapis.com/auth/spreadsheets',\n",
    "        'https://www.googleapis.com/auth/drive',\n",
    "        'https://www.googleapis.com/auth/analytics.readonly']\n",
    "\n",
    "# Read google credentials\n",
    "api = '../APIS/gepp-538-db.json'\n",
    "# connect to google sheets\n",
    "gs_credentials = ServiceAccountCredentials.from_json_keyfile_name(api, scopes)\n",
    "gc = gspread.authorize(gs_credentials)\n",
    "# connect to big query\n",
    "bq_credentials = service_account.Credentials.from_service_account_file(api)\n",
    "project_id = 'gepp-538'\n",
    "client = bigquery.Client(credentials=bq_credentials,project=project_id)"
   ]
  },
  {
   "cell_type": "markdown",
   "id": "2ebac247-7f44-47ac-bde8-51763f6b04c9",
   "metadata": {
    "tags": []
   },
   "source": [
    "### Duckdb"
   ]
  },
  {
   "cell_type": "code",
   "execution_count": 27,
   "id": "34fee2d6-d98c-4f66-ad23-6d8d013064b8",
   "metadata": {},
   "outputs": [],
   "source": [
    "# consulta detallada usuarios\n",
    "mpe_users = pl.read_csv('../usuarios.csv', separator=';', ignore_errors=True)"
   ]
  },
  {
   "cell_type": "code",
   "execution_count": 28,
   "id": "25e66772-1409-43ee-9ff6-6c4802ad01f7",
   "metadata": {},
   "outputs": [
    {
     "data": {
      "text/html": [
       "<div><style>\n",
       ".dataframe > thead > tr > th,\n",
       ".dataframe > tbody > tr > td {\n",
       "  text-align: right;\n",
       "}\n",
       "</style>\n",
       "<small>shape: (2, 2)</small><table border=\"1\" class=\"dataframe\"><thead><tr><th>Origen</th><th>usuarios</th></tr><tr><td>str</td><td>i64</td></tr></thead><tbody><tr><td>&quot;WA&quot;</td><td>765173</td></tr><tr><td>&quot;Ecommerce&quot;</td><td>97913</td></tr></tbody></table></div>"
      ],
      "text/plain": [
       "shape: (2, 2)\n",
       "┌───────────┬──────────┐\n",
       "│ Origen    ┆ usuarios │\n",
       "│ ---       ┆ ---      │\n",
       "│ str       ┆ i64      │\n",
       "╞═══════════╪══════════╡\n",
       "│ WA        ┆ 765173   │\n",
       "│ Ecommerce ┆ 97913    │\n",
       "└───────────┴──────────┘"
      ]
     },
     "execution_count": 28,
     "metadata": {},
     "output_type": "execute_result"
    }
   ],
   "source": [
    "# create sql queries with duckdb\n",
    "# read file with duckdb (csv, parquet, json)\n",
    "duckdb.sql(\n",
    "    '''\n",
    "    SELECT\n",
    "        Origen, COUNT(Nombre) AS usuarios\n",
    "    FROM '../usuarios.csv'\n",
    "    GROUP BY Origen\n",
    "    ORDER BY usuarios DESC\n",
    "    '''\n",
    ").pl() # and pipeline to polars dataframe\n",
    "#others formats include: .pdf() for pandas, .arrow() for arrow, and .fetchnumpy() for numpy arrays"
   ]
  },
  {
   "cell_type": "markdown",
   "id": "8dbd6ca5-bfe0-4baa-99ed-1046128f5bd2",
   "metadata": {},
   "source": [
    "**create files from duckdb queries**\n",
    "* duckdb.sql('SELECT 42').write_parquet('out.parquet') # Write to a Parquet file\n",
    "* duckdb.sql('SELECT 42').write_csv('out.csv')         # Write to a CSV file\n",
    "* duckdb.sql(\"COPY (SELECT 42) TO 'out.parquet'\")      # Copy to a parquet file"
   ]
  },
  {
   "cell_type": "markdown",
   "id": "ff9e8367-2f64-4e7f-b377-90d20fbf0fdc",
   "metadata": {
    "id": "ff9e8367-2f64-4e7f-b377-90d20fbf0fdc",
    "tags": []
   },
   "source": [
    "### MPE"
   ]
  },
  {
   "cell_type": "code",
   "execution_count": 3,
   "id": "810b21e2-6ecd-4c72-91d7-27b945eca2a1",
   "metadata": {},
   "outputs": [],
   "source": [
    "mpe_usuarios = (\n",
    "    pl.read_csv('../mpe-usuarios.csv', dtypes={'telefono': pl.Utf8, 'id_atg':pl.Utf8})\n",
    "    .with_columns(\n",
    "        pl.col('fecha_alta').str.strptime(pl.Datetime, strict=False)\n",
    "    )\n",
    ")"
   ]
  },
  {
   "cell_type": "code",
   "execution_count": 4,
   "id": "d630c2dc-0e23-4e59-adff-93df2359ce41",
   "metadata": {},
   "outputs": [],
   "source": [
    "mpe_usuarios_direcciones = (\n",
    "    # read csv file\n",
    "    pl.read_csv('../mpe-direcciones.csv', dtypes={'telefono_contacto': pl.Utf8,'codigo_postal':pl.Utf8})\n",
    "        # change column dtypes\n",
    "    .with_columns(\n",
    "        pl.col('fecha_alta','fecha_alta_gepp','fecha_actualizacion_gepp').str.strptime(pl.Datetime, strict=False),\n",
    "        pl.col('telefono_contacto').cast(pl.Utf8),\n",
    "    )\n",
    ")"
   ]
  },
  {
   "cell_type": "code",
   "execution_count": 5,
   "id": "477bd3b7-2cf3-43c9-9834-a855367d4dae",
   "metadata": {},
   "outputs": [],
   "source": [
    "mpe_ordenes = (\n",
    "    pl.read_csv('../mpe-ordenes.csv').with_columns(\n",
    "        pl.col('fecha_alta','fecha_entrega').str.strptime(pl.Datetime, strict=False)\n",
    "    )\n",
    ")"
   ]
  },
  {
   "cell_type": "code",
   "execution_count": 6,
   "id": "9c60a68a-b1d9-44a0-bb79-970dfaf49973",
   "metadata": {},
   "outputs": [],
   "source": [
    "mpe_ordenes_detalle = (\n",
    "    pl.read_csv('../mpe-ordenes-detalle.csv')\n",
    ")"
   ]
  },
  {
   "cell_type": "code",
   "execution_count": 7,
   "id": "fe524dc9-a1b9-4137-9e32-7924f0569111",
   "metadata": {},
   "outputs": [],
   "source": [
    "mpe_promociones = (\n",
    "    pl.read_csv('../mpe-promociones.csv', dtypes={'DescripcionCorta':pl.Utf8})\n",
    "    .with_columns(pl.col('ClavePromo').cast(pl.Utf8))\n",
    ").unique(subset='ClavePromo')"
   ]
  },
  {
   "cell_type": "code",
   "execution_count": 8,
   "id": "a02cf5b8-4d8b-49a0-9ac1-2620bd89f085",
   "metadata": {},
   "outputs": [],
   "source": [
    "mpe_ordenes_estatus = pl.read_csv('../mpe-ordenes-estatus.csv')"
   ]
  },
  {
   "cell_type": "code",
   "execution_count": 9,
   "id": "dfe8763e-9e80-4d77-abf2-4a1dcc68b624",
   "metadata": {},
   "outputs": [],
   "source": [
    "mpe_redes_sociales = (\n",
    "    pl.read_csv('../mpe-redes-sociales.csv').select(\n",
    "        pl.col('id_red_social','red_social','descripcion')\n",
    "    )\n",
    ")"
   ]
  },
  {
   "cell_type": "code",
   "execution_count": 10,
   "id": "eeb3e1e9-0a49-4434-ad85-1036b052a650",
   "metadata": {},
   "outputs": [],
   "source": [
    "mpe_tipo_direcciones = pl.read_csv('../mpe-tipo-direcciones.csv')"
   ]
  },
  {
   "cell_type": "code",
   "execution_count": 11,
   "id": "eb10d665-f0e1-4b24-8df9-e8f2f5a9502c",
   "metadata": {},
   "outputs": [],
   "source": [
    "mpe_genero = pl.read_csv('../mpe-genero.csv')"
   ]
  },
  {
   "cell_type": "code",
   "execution_count": 12,
   "id": "3afa13bd-473e-45a3-84bf-28b01a28b88c",
   "metadata": {},
   "outputs": [],
   "source": [
    "mpe_bodegas = pl.read_csv('../mpe-catalogo-bodegas.csv')"
   ]
  },
  {
   "cell_type": "code",
   "execution_count": 13,
   "id": "25d5bc9a-9696-43fb-8f04-b97bb136fb07",
   "metadata": {},
   "outputs": [],
   "source": [
    "# join mpe_usuarios_direcciones, mpe_ordenes, mpe_ordenes_detalle, mpe_promociones\n",
    "mpe_sabana = (\n",
    "    mpe_usuarios_direcciones.join(mpe_ordenes, on='id_direccion', how='left')\n",
    "    .join(mpe_ordenes_detalle, on='id_orden', how='left')\n",
    "    .join(mpe_promociones, on='ClavePromo', how='left')\n",
    "    .join(mpe_bodegas, on='id_bodega', how='left')\n",
    ").rename({'ID_Bodega':'id_bodega_promo', 'Activo':'promo_activa'})"
   ]
  },
  {
   "cell_type": "markdown",
   "id": "b19e7d5c-7a2b-4fac-8ba0-54fe9f989e5d",
   "metadata": {
    "id": "b19e7d5c-7a2b-4fac-8ba0-54fe9f989e5d",
    "tags": []
   },
   "source": [
    "### Upload to Big Query"
   ]
  },
  {
   "cell_type": "markdown",
   "id": "e25422ad-2623-4f75-892d-b62f5ab58e2f",
   "metadata": {},
   "source": [
    "**MPE**"
   ]
  },
  {
   "cell_type": "code",
   "execution_count": 209,
   "id": "1840b69d-4469-4e7c-b1c1-6c7dfc97e682",
   "metadata": {},
   "outputs": [
    {
     "data": {
      "text/plain": [
       "Dataset(DatasetReference('gepp-538', 'database'))"
      ]
     },
     "execution_count": 209,
     "metadata": {},
     "output_type": "execute_result"
    }
   ],
   "source": [
    "# create dataset gbq api\n",
    "#client.create_dataset('database')"
   ]
  },
  {
   "cell_type": "code",
   "execution_count": 224,
   "id": "fc915762-d5d4-4c16-860d-8297dff785f4",
   "metadata": {},
   "outputs": [
    {
     "name": "stderr",
     "output_type": "stream",
     "text": [
      "100%|███████████████████████████████████████████| 1/1 [00:00<00:00, 7626.01it/s]\n"
     ]
    }
   ],
   "source": [
    "mpe_sabana = mpe_sabana.to_pandas()\n",
    "mpe_sabana.to_gbq('gepp-538.database.mpe',\n",
    "                    project_id='gepp-538',\n",
    "                    if_exists='replace',\n",
    "                    credentials=bq_credentials)"
   ]
  },
  {
   "cell_type": "markdown",
   "id": "929af351-f550-4adf-8cde-990297173916",
   "metadata": {
    "id": "929af351-f550-4adf-8cde-990297173916",
    "jp-MarkdownHeadingCollapsed": true,
    "tags": []
   },
   "source": [
    "### Retrieve datasets from Big Query"
   ]
  },
  {
   "cell_type": "code",
   "execution_count": null,
   "id": "85e9fba0-e198-4a9a-8a56-93ea6b4f5a64",
   "metadata": {
    "id": "85e9fba0-e198-4a9a-8a56-93ea6b4f5a64"
   },
   "outputs": [],
   "source": [
    "# create sql query\n",
    "query = '''\n",
    "    SELECT * FROM `gepp-538.transformation.mpe_catalogo`\n",
    "'''\n",
    "# convert query to pandas dataframe\n",
    "mpe_catalogo = pd.read_gbq(query, credentials=bq_credentials)"
   ]
  }
 ],
 "metadata": {
  "colab": {
   "provenance": []
  },
  "kernelspec": {
   "display_name": "Python 3 (ipykernel)",
   "language": "python",
   "name": "python3"
  },
  "language_info": {
   "codemirror_mode": {
    "name": "ipython",
    "version": 3
   },
   "file_extension": ".py",
   "mimetype": "text/x-python",
   "name": "python",
   "nbconvert_exporter": "python",
   "pygments_lexer": "ipython3",
   "version": "3.9.16"
  }
 },
 "nbformat": 4,
 "nbformat_minor": 5
}
