{
 "cells": [
  {
   "cell_type": "markdown",
   "id": "a28446c7-26de-4555-a0eb-af341b72cfba",
   "metadata": {
    "id": "a28446c7-26de-4555-a0eb-af341b72cfba",
    "tags": []
   },
   "source": [
    "## Big Query MPE back office"
   ]
  },
  {
   "cell_type": "markdown",
   "id": "c5f0e9fb-3a2f-4eb3-a07b-484e6121db4b",
   "metadata": {
    "id": "c5f0e9fb-3a2f-4eb3-a07b-484e6121db4b",
    "tags": []
   },
   "source": [
    "### Environment settings"
   ]
  },
  {
   "cell_type": "code",
   "execution_count": 1,
   "id": "97982127-5d81-4eb7-95cc-3f38e4aaa37b",
   "metadata": {
    "id": "97982127-5d81-4eb7-95cc-3f38e4aaa37b"
   },
   "outputs": [],
   "source": [
    "import numpy as np\n",
    "import pandas as pd\n",
    "import polars as pl\n",
    "import gspread\n",
    "import duckdb\n",
    "# Import authenticator and gspread to manage g-sheets\n",
    "from oauth2client.service_account import ServiceAccountCredentials\n",
    "from google.oauth2 import service_account\n",
    "from google.cloud import bigquery\n",
    "import connectorx as cx"
   ]
  },
  {
   "cell_type": "code",
   "execution_count": 2,
   "id": "80740f98-4e9c-4e24-afb9-c324e3d97a79",
   "metadata": {
    "id": "80740f98-4e9c-4e24-afb9-c324e3d97a79"
   },
   "outputs": [],
   "source": [
    "# Create sheets and drive scopes to authenticate\n",
    "scopes = ['https://www.googleapis.com/auth/spreadsheets',\n",
    "        'https://www.googleapis.com/auth/drive',\n",
    "        'https://www.googleapis.com/auth/analytics.readonly']\n",
    "\n",
    "# Read google credentials\n",
    "api = '../APIS/gepp-538-db.json'\n",
    "# connect to google sheets\n",
    "gs_credentials = ServiceAccountCredentials.from_json_keyfile_name(api, scopes)\n",
    "gc = gspread.authorize(gs_credentials)\n",
    "# connect to big query\n",
    "bq_credentials = service_account.Credentials.from_service_account_file(api)\n",
    "project_id = 'gepp-538'\n",
    "client = bigquery.Client(credentials=bq_credentials,project=project_id)"
   ]
  },
  {
   "cell_type": "markdown",
   "id": "2ebac247-7f44-47ac-bde8-51763f6b04c9",
   "metadata": {
    "tags": []
   },
   "source": [
    "### Duckdb"
   ]
  },
  {
   "cell_type": "code",
   "execution_count": 27,
   "id": "34fee2d6-d98c-4f66-ad23-6d8d013064b8",
   "metadata": {},
   "outputs": [],
   "source": [
    "# consulta detallada usuarios\n",
    "mpe_users = pl.read_csv('../usuarios.csv', separator=';', ignore_errors=True)"
   ]
  },
  {
   "cell_type": "code",
   "execution_count": 28,
   "id": "25e66772-1409-43ee-9ff6-6c4802ad01f7",
   "metadata": {},
   "outputs": [
    {
     "data": {
      "text/html": [
       "<div><style>\n",
       ".dataframe > thead > tr > th,\n",
       ".dataframe > tbody > tr > td {\n",
       "  text-align: right;\n",
       "}\n",
       "</style>\n",
       "<small>shape: (2, 2)</small><table border=\"1\" class=\"dataframe\"><thead><tr><th>Origen</th><th>usuarios</th></tr><tr><td>str</td><td>i64</td></tr></thead><tbody><tr><td>&quot;WA&quot;</td><td>765173</td></tr><tr><td>&quot;Ecommerce&quot;</td><td>97913</td></tr></tbody></table></div>"
      ],
      "text/plain": [
       "shape: (2, 2)\n",
       "┌───────────┬──────────┐\n",
       "│ Origen    ┆ usuarios │\n",
       "│ ---       ┆ ---      │\n",
       "│ str       ┆ i64      │\n",
       "╞═══════════╪══════════╡\n",
       "│ WA        ┆ 765173   │\n",
       "│ Ecommerce ┆ 97913    │\n",
       "└───────────┴──────────┘"
      ]
     },
     "execution_count": 28,
     "metadata": {},
     "output_type": "execute_result"
    }
   ],
   "source": [
    "# create sql queries with duckdb\n",
    "# read file with duckdb (csv, parquet, json)\n",
    "duckdb.sql(\n",
    "    '''\n",
    "    SELECT\n",
    "        Origen, COUNT(Nombre) AS usuarios\n",
    "    FROM '../usuarios.csv'\n",
    "    GROUP BY Origen\n",
    "    ORDER BY usuarios DESC\n",
    "    '''\n",
    ").pl() # and pipeline to polars dataframe\n",
    "#others formats include: .pdf() for pandas, .arrow() for arrow, and .fetchnumpy() for numpy arrays"
   ]
  },
  {
   "cell_type": "markdown",
   "id": "8dbd6ca5-bfe0-4baa-99ed-1046128f5bd2",
   "metadata": {},
   "source": [
    "**create files from duckdb queries**\n",
    "* duckdb.sql('SELECT 42').write_parquet('out.parquet') # Write to a Parquet file\n",
    "* duckdb.sql('SELECT 42').write_csv('out.csv')         # Write to a CSV file\n",
    "* duckdb.sql(\"COPY (SELECT 42) TO 'out.parquet'\")      # Copy to a parquet file"
   ]
  },
  {
   "cell_type": "markdown",
   "id": "ff9e8367-2f64-4e7f-b377-90d20fbf0fdc",
   "metadata": {
    "id": "ff9e8367-2f64-4e7f-b377-90d20fbf0fdc",
    "tags": []
   },
   "source": [
    "### MPE"
   ]
  },
  {
   "cell_type": "code",
   "execution_count": 47,
   "id": "595f45a1-a71a-425e-a7a7-7b97d48c68b7",
   "metadata": {},
   "outputs": [],
   "source": [
    "def mpe_usuarios(file):\n",
    "\n",
    "    mpe_usuarios = (\n",
    "    pl.read_excel(file, sheet_name='Cantidades'\n",
    "        ).select(\n",
    "        pl.col('*').map_alias(lambda col_name: col_name.lower().replace(' ', '_'))\n",
    "        ).with_columns(pl.col('fecha').str.strptime(pl.Datetime, strict=False)\n",
    "        )\n",
    "    )\n",
    "    return mpe_usuarios"
   ]
  },
  {
   "cell_type": "code",
   "execution_count": 83,
   "id": "8b2ce194-f6d0-4411-9030-f28a4d0457e6",
   "metadata": {},
   "outputs": [],
   "source": [
    "def mpe_pedidos(file):\n",
    "    \n",
    "    mpe_general = (\n",
    "        pl.read_excel(file, sheet_name='Pedidos General',\n",
    "        read_csv_options={'infer_schema_length':0})\n",
    "    .select(\n",
    "        pl.col('*').map_alias(lambda col_name: col_name.lower().replace(' ', '_'))\n",
    "    ).rename(\n",
    "    {\n",
    "        'fecha_modificación':'fecha_modificacion',\n",
    "        'hora_modificación':'hora_modificacion',\n",
    "        'teléfono_de_contacto':'tel_contacto',\n",
    "        'alias_de_dirección':'alias_dir',\n",
    "        'dirección_completa':'dir_completa',\n",
    "    }\n",
    "    ).with_columns(\n",
    "    pl.col('id_bodega').cast(pl.Int64),\n",
    "    pl.col('cantidad_de_productos').cast(pl.Int64),\n",
    "    pl.col('total_de_orden').cast(pl.Float64),\n",
    "    pl.col('promociones').cast(pl.Int64),\n",
    "    pl.col('ruta_de_entrega').cast(pl.Float64),\n",
    "    pl.col('nud').cast(pl.Float64),\n",
    "    pl.col('fecha_de_pedido').str.strptime(pl.Datetime, format='%d-%m-%Y', strict=False),\n",
    "    pl.col('fecha_modificacion').str.strptime(pl.Datetime, format='%d-%m-%Y', strict=False),\n",
    "    pl.col('fecha_entrega').str.strptime(pl.Datetime, format='%d-%m-%Y', strict=False),\n",
    "    ).drop('nombre_completo')\n",
    "    )\n",
    "    return mpe_general"
   ]
  },
  {
   "cell_type": "code",
   "execution_count": 11,
   "id": "4aa5bb42-199d-4dd1-a726-8b76c6f389f4",
   "metadata": {},
   "outputs": [],
   "source": [
    "def mpe_detalle(file):\n",
    "    \n",
    "    mpe_det = (pl.read_excel(file, sheet_name='Pedidos Detalle',\n",
    "        read_csv_options={'infer_schema_length':0})\n",
    "    .select(\n",
    "        pl.col('*').map_alias(lambda col_name: col_name.lower().replace(' ', '_'))\n",
    "    ).rename(\n",
    "    {\n",
    "        'clave_de_promoción':'clave_de_promocion',\n",
    "        'producto(s)':'productos'\n",
    "    }\n",
    "    ).with_columns(\n",
    "    pl.col('cantidad').cast(pl.Int64),\n",
    "    pl.col('precio_por_unidad').cast(pl.Float64),\n",
    "    pl.col('descuento_por_unidad').cast(pl.Float64),\n",
    "    pl.col('precio_acumulado').cast(pl.Float64),\n",
    "    pl.col('descuento_acumulado').cast(pl.Float64),\n",
    "    )\n",
    "    )\n",
    "    return mpe_det"
   ]
  },
  {
   "cell_type": "code",
   "execution_count": 84,
   "id": "4ec83b2f-4ba5-4243-a020-51f961c04772",
   "metadata": {},
   "outputs": [],
   "source": [
    "# Access MPE bodegas worksheet by url\n",
    "sheet_id = '1RdEyiPZULVGwy274uPsB6NKxg6MtWCw9rHwcuDyCwyw'\n",
    "workbook = gc.open_by_key(sheet_id)\n",
    "# Access data by worksheet sheet number\n",
    "mpe_bodegas = workbook.worksheet('warehouses')\n",
    "# Save data to table\n",
    "mpe_bodegas = mpe_bodegas.get_all_values()\n",
    "# Save accessed data from google sheets to dataframes\n",
    "mpe_bodegas = pd.DataFrame(mpe_bodegas[1:],columns=mpe_bodegas[0])\n",
    "# convert to polars dataframe and manipulate data\n",
    "mpe_bodegas = pl.from_pandas(mpe_bodegas).select(\n",
    "    pl.col('*').map_alias(lambda col_name: col_name.lower().replace(' ', '_'))\n",
    "    ).with_columns(pl.col('clave_bodega').cast(pl.Int64)\n",
    "    ).rename({'clave_bodega':'id_bodega'}\n",
    "    ).drop(['clave_bodega_destino','tipo_preventa_tradicional','clave_bodega_origen',]\n",
    "    )"
   ]
  },
  {
   "cell_type": "code",
   "execution_count": 49,
   "id": "3874e9bf-70b4-47cd-ba01-221811fac8e0",
   "metadata": {},
   "outputs": [],
   "source": [
    "mpe_usuarios = mpe_usuarios('~/Downloads/mpe-usuarios.xlsx')"
   ]
  },
  {
   "cell_type": "code",
   "execution_count": 13,
   "id": "8b21ce1e-650a-4ae7-ae63-40a4fb1676c6",
   "metadata": {},
   "outputs": [],
   "source": [
    "mpe_detalle = mpe_detalle('~/Downloads/mpe-pedidos.xlsx')"
   ]
  },
  {
   "cell_type": "code",
   "execution_count": 85,
   "id": "11ca85d9-3d84-4841-9891-369ed9202fd0",
   "metadata": {},
   "outputs": [],
   "source": [
    "mpe_pedidos = mpe_pedidos('~/Downloads/mpe-pedidos.xlsx').join(mpe_bodegas, on='id_bodega', how='left')"
   ]
  },
  {
   "cell_type": "markdown",
   "id": "d948859e-c8aa-40b2-bfc5-7bd1f2017fe5",
   "metadata": {},
   "source": [
    "### GETM"
   ]
  },
  {
   "cell_type": "code",
   "execution_count": 144,
   "id": "e52686be-5903-495e-aa2a-1a551f0b4865",
   "metadata": {},
   "outputs": [],
   "source": [
    "# Pedidos General\n",
    "def getm_pedidos(file):\n",
    "    \n",
    "    getm_pedidos = (\n",
    "    pl.read_excel('~/Downloads/getm-pedidos.xlsx', sheet_name='Pedidos General', \n",
    "    read_csv_options={'infer_schema_length':0}\n",
    "    ).select(\n",
    "        pl.col('*').map_alias(lambda col_name: col_name.lower().replace(' ', '_'))\n",
    "    ).rename({\n",
    "        'fecha_de_creación':'fecha_de_creacion',\n",
    "        'hora_de_creación':'hora_de_creacion',\n",
    "        'fecha_de_modificación':'fecha_de_modificacion',\n",
    "        'hora_de_modificación':'hora_de_modificacion',\n",
    "    }).with_columns(\n",
    "        pl.col('id_bodega').cast(pl.Int64),\n",
    "        pl.col('nud').cast(pl.Int64),\n",
    "        pl.col('rutappp').cast(pl.Int64),\n",
    "        pl.col('ruta_de_desarrollo').cast(pl.Int64),\n",
    "        pl.col('rutavpp').cast(pl.Int64),\n",
    "        pl.col('monto_total').cast(pl.Float64),\n",
    "        pl.col('total_de_productos').cast(pl.Int64),\n",
    "        pl.col('promociones').cast(pl.Int64),\n",
    "        pl.col('fecha_de_creacion').str.strptime(pl.Datetime, format='%d-%m-%Y', strict=False),\n",
    "        pl.col('fecha_de_modificacion').str.strptime(pl.Datetime, format='%d-%m-%Y', strict=False),\n",
    "        pl.col('fecha_de_despacho').str.strptime(pl.Datetime, format='%d-%m-%Y', strict=False),\n",
    "        pl.col('fecha_de_entrega').str.strptime(pl.Datetime, format='%d-%m-%Y', strict=False),\n",
    "        pl.col('fecha_cancelado').str.strptime(pl.Datetime, format='%d-%m-%Y', strict=False),\n",
    "    ).drop('nombre_del_cliente_registrado')\n",
    "    )\n",
    "    return getm_pedidos"
   ]
  },
  {
   "cell_type": "code",
   "execution_count": 168,
   "id": "3f3df881-99e8-4c6b-ac76-4d053575d99f",
   "metadata": {},
   "outputs": [],
   "source": [
    "# Pedidos Detalle\n",
    "def getm_detalle(file):\n",
    "    \n",
    "    getm_detalle = (\n",
    "    pl.read_excel(file, sheet_name='Pedidos Detalle', \n",
    "    read_csv_options={'infer_schema_length':0}\n",
    "    ).select(\n",
    "        pl.col('*').map_alias(lambda col_name: col_name.lower().replace(' ', '_'))\n",
    "    ).rename({\n",
    "        'clave_de_promoción':'clave_de_promocion',\n",
    "        'tipo_de_promoción':'tipo_de_promocion',\n",
    "        'descripción_de_promoción':'descripcion_de_promocion',\n",
    "        'producto(s)':'productos',\n",
    "    }).with_columns(\n",
    "        pl.col('id_bodega').cast(pl.Int64),\n",
    "        pl.col('nud').cast(pl.Int64),\n",
    "        pl.col('cantidad').cast(pl.Float64),\n",
    "        pl.col('precio_por_unidad').cast(pl.Float64),\n",
    "        pl.col('descuento_por_unidad').cast(pl.Float64),\n",
    "        pl.col('precio_acumulado').cast(pl.Float64),\n",
    "        pl.col('descuento_acumulado').cast(pl.Float64),\n",
    "    )\n",
    "    )\n",
    "    return getm_detalle"
   ]
  },
  {
   "cell_type": "code",
   "execution_count": 145,
   "id": "c22431db-0a7d-4e79-b871-0e1f280b1878",
   "metadata": {},
   "outputs": [],
   "source": [
    "getm_pedidos = getm_pedidos('~/Downloads/getm-pedidos.xlsx')"
   ]
  },
  {
   "cell_type": "code",
   "execution_count": 169,
   "id": "2aa5ad85-7753-4a24-b692-7b2d694f4e87",
   "metadata": {},
   "outputs": [],
   "source": [
    "getm_detalle = getm_detalle('~/Downloads/getm-pedidos.xlsx')"
   ]
  },
  {
   "cell_type": "code",
   "execution_count": 172,
   "id": "8c522746-6fc7-48b5-a7fd-fd0d23d25297",
   "metadata": {},
   "outputs": [],
   "source": [
    "# Access GETM push notifications worksheet by url\n",
    "sheet_id = '1STkVkyDdCjEtTAgMOWbptf8oRqUBMPRV1ufi-fuY8xk'\n",
    "workbook = gc.open_by_key(sheet_id)\n",
    "# Access data by worksheet sheet number\n",
    "getm_push = workbook.worksheet('Push Notifications')\n",
    "# Save data to table\n",
    "getm_values_push = getm_push.get_all_values()\n",
    "# Save accessed data from google sheets to dataframes\n",
    "getm_push = pd.DataFrame(getm_values_push[1:],columns=getm_values_push[0])\n",
    "# drop irrelevant columns\n",
    "getm_push = getm_push.drop(['Año','Mes','Proyecto','Publicación','Caracteres','Espacios','Tipo','ID'],\n",
    "    axis=1)"
   ]
  },
  {
   "cell_type": "code",
   "execution_count": 173,
   "id": "15c80000-b765-4d0b-a606-37fec73db575",
   "metadata": {},
   "outputs": [],
   "source": [
    "# GETM push notifications\n",
    "# convert to lowercase\n",
    "getm_push.columns = getm_push.columns.str.lower()\n",
    "# convert to datetime\n",
    "getm_push['fecha'] = getm_push['fecha'].apply(pd.to_datetime, dayfirst=True)\n",
    "# replace \",\" with noaught and convert to numeric\n",
    "getm_push['clientes'] = getm_push['clientes'].str.replace(',', '', regex=True).apply(pd.to_numeric)\n",
    "# rename columns\n",
    "getm_push = getm_push.rename(columns={'categorias':'categoria','área':'area'})\n",
    "# drop empty rows\n",
    "getm_push.dropna(subset=['fecha'], inplace=True)"
   ]
  },
  {
   "cell_type": "markdown",
   "id": "b19e7d5c-7a2b-4fac-8ba0-54fe9f989e5d",
   "metadata": {
    "id": "b19e7d5c-7a2b-4fac-8ba0-54fe9f989e5d",
    "tags": []
   },
   "source": [
    "### Upload to Big Query"
   ]
  },
  {
   "cell_type": "markdown",
   "id": "e25422ad-2623-4f75-892d-b62f5ab58e2f",
   "metadata": {
    "tags": []
   },
   "source": [
    "### MPE"
   ]
  },
  {
   "cell_type": "code",
   "execution_count": 72,
   "id": "1840b69d-4469-4e7c-b1c1-6c7dfc97e682",
   "metadata": {},
   "outputs": [
    {
     "data": {
      "text/plain": [
       "Dataset(DatasetReference('gepp-538', 'back_office'))"
      ]
     },
     "execution_count": 72,
     "metadata": {},
     "output_type": "execute_result"
    }
   ],
   "source": [
    "# create dataset gbq api\n",
    "#client.create_dataset('back_office')"
   ]
  },
  {
   "cell_type": "code",
   "execution_count": 50,
   "id": "c4a088a8-7f6c-4b9c-a980-e3d3ff1783fb",
   "metadata": {},
   "outputs": [
    {
     "name": "stderr",
     "output_type": "stream",
     "text": [
      "100%|███████████████████████████████████████████| 1/1 [00:00<00:00, 9177.91it/s]\n"
     ]
    }
   ],
   "source": [
    "mpe_usuarios = mpe_usuarios.to_pandas()\n",
    "mpe_usuarios.to_gbq('gepp-538.back_office.mpe_usuarios',\n",
    "                    project_id='gepp-538',\n",
    "                    if_exists='append',\n",
    "                    credentials=bq_credentials)"
   ]
  },
  {
   "cell_type": "code",
   "execution_count": 87,
   "id": "fc915762-d5d4-4c16-860d-8297dff785f4",
   "metadata": {},
   "outputs": [
    {
     "name": "stderr",
     "output_type": "stream",
     "text": [
      "100%|███████████████████████████████████████████| 1/1 [00:00<00:00, 2457.12it/s]\n"
     ]
    }
   ],
   "source": [
    "mpe_pedidos = mpe_pedidos.to_pandas()\n",
    "mpe_pedidos.to_gbq('gepp-538.back_office.mpe_pedidos',\n",
    "                    project_id='gepp-538',\n",
    "                    if_exists='append',\n",
    "                    credentials=bq_credentials)"
   ]
  },
  {
   "cell_type": "code",
   "execution_count": 52,
   "id": "ca0fa643-a05a-43ff-b87b-556020ddfbb4",
   "metadata": {},
   "outputs": [
    {
     "name": "stderr",
     "output_type": "stream",
     "text": [
      "100%|███████████████████████████████████████████| 1/1 [00:00<00:00, 7108.99it/s]\n"
     ]
    }
   ],
   "source": [
    "mpe_detalle = mpe_detalle.to_pandas()\n",
    "mpe_detalle.to_gbq('gepp-538.back_office.mpe_detalle',\n",
    "                    project_id='gepp-538',\n",
    "                    if_exists='append',\n",
    "                    credentials=bq_credentials)"
   ]
  },
  {
   "cell_type": "markdown",
   "id": "3f6078d9-2690-43b1-a303-58748ffd6b9b",
   "metadata": {},
   "source": [
    "### GETM"
   ]
  },
  {
   "cell_type": "code",
   "execution_count": 147,
   "id": "1f876654-ecf0-42e6-b4e4-cdb31a281923",
   "metadata": {},
   "outputs": [
    {
     "name": "stderr",
     "output_type": "stream",
     "text": [
      "100%|███████████████████████████████████████████| 1/1 [00:00<00:00, 2716.52it/s]\n"
     ]
    }
   ],
   "source": [
    "getm_pedidos = getm_pedidos.to_pandas()\n",
    "getm_pedidos.to_gbq('gepp-538.back_office.getm_pedidos',\n",
    "                    project_id='gepp-538',\n",
    "                    if_exists='append',\n",
    "                    credentials=bq_credentials)"
   ]
  },
  {
   "cell_type": "code",
   "execution_count": 171,
   "id": "6441116a-fad5-479f-91b1-be0eb5e50ef8",
   "metadata": {},
   "outputs": [
    {
     "name": "stderr",
     "output_type": "stream",
     "text": [
      "100%|███████████████████████████████████████████| 1/1 [00:00<00:00, 8630.26it/s]\n"
     ]
    }
   ],
   "source": [
    "getm_detalle = getm_detalle.to_pandas()\n",
    "getm_detalle.to_gbq('gepp-538.back_office.getm_detalle',\n",
    "                    project_id='gepp-538',\n",
    "                    if_exists='append',\n",
    "                    credentials=bq_credentials)"
   ]
  },
  {
   "cell_type": "code",
   "execution_count": 176,
   "id": "ef5226d4-cb5f-4423-aa4a-bb545607f64f",
   "metadata": {},
   "outputs": [
    {
     "name": "stderr",
     "output_type": "stream",
     "text": [
      "100%|███████████████████████████████████████████| 1/1 [00:00<00:00, 7294.44it/s]\n"
     ]
    }
   ],
   "source": [
    "getm_push.to_gbq('gepp-538.back_office.getm_notifications',\n",
    "                    project_id='gepp-538',\n",
    "                    if_exists='replace',\n",
    "                    credentials=bq_credentials)"
   ]
  },
  {
   "cell_type": "markdown",
   "id": "929af351-f550-4adf-8cde-990297173916",
   "metadata": {
    "id": "929af351-f550-4adf-8cde-990297173916",
    "tags": []
   },
   "source": [
    "### Retrieve datasets from Big Query"
   ]
  },
  {
   "cell_type": "code",
   "execution_count": null,
   "id": "85e9fba0-e198-4a9a-8a56-93ea6b4f5a64",
   "metadata": {
    "id": "85e9fba0-e198-4a9a-8a56-93ea6b4f5a64"
   },
   "outputs": [],
   "source": [
    "# create sql query\n",
    "query = '''\n",
    "    SELECT * FROM `gepp-538.transformation.mpe_catalogo`\n",
    "'''\n",
    "# convert query to pandas dataframe\n",
    "mpe_catalogo = pd.read_gbq(query, credentials=bq_credentials)"
   ]
  }
 ],
 "metadata": {
  "colab": {
   "provenance": []
  },
  "kernelspec": {
   "display_name": "Python 3 (ipykernel)",
   "language": "python",
   "name": "python3"
  },
  "language_info": {
   "codemirror_mode": {
    "name": "ipython",
    "version": 3
   },
   "file_extension": ".py",
   "mimetype": "text/x-python",
   "name": "python",
   "nbconvert_exporter": "python",
   "pygments_lexer": "ipython3",
   "version": "3.9.16"
  }
 },
 "nbformat": 4,
 "nbformat_minor": 5
}
