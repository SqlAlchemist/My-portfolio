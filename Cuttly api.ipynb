{
 "cells": [
  {
   "cell_type": "markdown",
   "id": "f608b5f6-a059-4dc2-80ea-467bfe77a873",
   "metadata": {},
   "source": [
    "<h1 style='margin:5px 5px; color:#620000; font-size:25px; text-align:center'>Python url shortening with cutt.ly API</h1>"
   ]
  },
  {
   "cell_type": "markdown",
   "id": "0b16feef-987e-4d2c-a3df-cac7f50c5cf0",
   "metadata": {},
   "source": [
    "## Environment settings"
   ]
  },
  {
   "cell_type": "code",
   "execution_count": 1,
   "id": "0588be2a-7334-41cf-83c7-fb5bfb803636",
   "metadata": {
    "tags": []
   },
   "outputs": [],
   "source": [
    "import urllib\n",
    "import requests\n",
    "import json"
   ]
  },
  {
   "cell_type": "markdown",
   "id": "add40373-df21-4017-b4e1-d3af098317e0",
   "metadata": {},
   "source": [
    "### Access to API token"
   ]
  },
  {
   "cell_type": "code",
   "execution_count": 2,
   "id": "4747f7da-386d-43ec-8f6d-6ce582c2c59d",
   "metadata": {
    "tags": []
   },
   "outputs": [],
   "source": [
    "# path to credentials folder\n",
    "filename = '../APIS/credentials.json'\n",
    "\n",
    "# read json file\n",
    "with open(filename) as f:\n",
    "    keys = json.load(f)\n",
    "\n",
    "# read credentials\n",
    "cuttly_id = keys['cuttly_api']"
   ]
  },
  {
   "cell_type": "markdown",
   "id": "6a5b0ee9-a145-43b0-b676-5c2a93b08050",
   "metadata": {},
   "source": [
    "## Shortening url with cutt.ly"
   ]
  },
  {
   "cell_type": "code",
   "execution_count": 36,
   "id": "4841294c-4c38-4b2c-80dd-7bfee89b1908",
   "metadata": {
    "tags": []
   },
   "outputs": [],
   "source": [
    "key = cuttly_id\n",
    "url = urllib.parse.quote('http://vita.had.co.nz/papers/layered-grammar.pdf')\n",
    "name  = 'grammar-of-graphics'\n",
    "userDomain = '0'\n",
    "r = requests.get('http://cutt.ly/api/api.php?key={}&short={}&name={}&userDomain={}'.format(key, url, name, userDomain))"
   ]
  },
  {
   "cell_type": "code",
   "execution_count": 64,
   "id": "834b8cce-38f9-4285-8bea-83c84e6c090b",
   "metadata": {},
   "outputs": [],
   "source": [
    "result = r.text\n",
    "#result.find('https:\\/\\/cutt.ly\\/grammar-of-graphics')\n",
    "#result.find('title')\n",
    "short_link = result[118:156]\n",
    "short_link = short_link.replace('\\\\','')"
   ]
  },
  {
   "cell_type": "code",
   "execution_count": 66,
   "id": "db9f9f8b-e2a2-4f46-b591-d2235ead98b8",
   "metadata": {},
   "outputs": [
    {
     "name": "stdout",
     "output_type": "stream",
     "text": [
      "The shortened link is: https://cutt.ly/grammar-of-graphics\n"
     ]
    }
   ],
   "source": [
    "print(f'The shortened link is: {short_link}')"
   ]
  },
  {
   "cell_type": "markdown",
   "id": "e9bb8c86-872b-4815-89c0-5ace3fcb4469",
   "metadata": {},
   "source": [
    "---"
   ]
  },
  {
   "cell_type": "markdown",
   "id": "04510289-14ff-4410-b119-ced74be9c4ff",
   "metadata": {},
   "source": [
    "## Contact\n",
    "Jesus Lopez\n",
    "\n",
    "[Linkedin](www.linkedin.com/in/j3sus-lopez) | ✉️ [email](mailto:jlmonroy01@gmail.com?subject=Information%20request%20) | ©️ 2023"
   ]
  }
 ],
 "metadata": {
  "kernelspec": {
   "display_name": "Python 3 (ipykernel)",
   "language": "python",
   "name": "python3"
  },
  "language_info": {
   "codemirror_mode": {
    "name": "ipython",
    "version": 3
   },
   "file_extension": ".py",
   "mimetype": "text/x-python",
   "name": "python",
   "nbconvert_exporter": "python",
   "pygments_lexer": "ipython3",
   "version": "3.11.4"
  }
 },
 "nbformat": 4,
 "nbformat_minor": 5
}
